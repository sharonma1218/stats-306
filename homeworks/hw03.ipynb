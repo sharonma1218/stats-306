{
  "cells": [
    {
      "cell_type": "markdown",
      "metadata": {
        "id": "view-in-github",
        "colab_type": "text"
      },
      "source": [
        "<a href=\"https://colab.research.google.com/github/sharonma1218/stats-306/blob/main/hw03.ipynb\" target=\"_parent\"><img src=\"https://colab.research.google.com/assets/colab-badge.svg\" alt=\"Open In Colab\"/></a>"
      ]
    },
    {
      "cell_type": "code",
      "execution_count": null,
      "metadata": {
        "deletable": false,
        "editable": false,
        "id": "4leO5bvzr3ya",
        "nbgrader": {
          "grade": false,
          "grade_id": "cell-1be04a157d86c84b",
          "locked": true,
          "schema_version": 3,
          "solution": false
        },
        "vscode": {
          "languageId": "r"
        },
        "colab": {
          "base_uri": "https://localhost:8080/"
        },
        "outputId": "77e03e1f-323e-441f-9b42-99c63fa85efd"
      },
      "outputs": [
        {
          "output_type": "stream",
          "name": "stderr",
          "text": [
            "Installing package into ‘/usr/local/lib/R/site-library’\n",
            "(as ‘lib’ is unspecified)\n",
            "\n",
            "Installing package into ‘/usr/local/lib/R/site-library’\n",
            "(as ‘lib’ is unspecified)\n",
            "\n"
          ]
        }
      ],
      "source": [
        "install.packages(\"tidyverse\")\n",
        "install.packages(\"nycflights13\")\n",
        "library(tidyverse)\n",
        "library(nycflights13)\n",
        "options(repr.plot.width=5, repr.plot.height=4)"
      ]
    },
    {
      "cell_type": "markdown",
      "metadata": {
        "deletable": false,
        "editable": false,
        "id": "8qK_sLRrr3yc",
        "nbgrader": {
          "grade": false,
          "grade_id": "cell-281caadd66986182",
          "locked": true,
          "schema_version": 3,
          "solution": false
        },
        "run_control": {
          "frozen": true
        }
      },
      "source": [
        "# STATS 306\n",
        "## Homework 3:  Advanced `dplyr` and tidy data\n",
        "\n",
        "For each problem, enter the R code in the cell marked \"YOUR SOLUTION HERE\"."
      ]
    },
    {
      "cell_type": "markdown",
      "metadata": {
        "deletable": false,
        "editable": false,
        "id": "631zEA_mr3yd",
        "nbgrader": {
          "grade": false,
          "grade_id": "cell-421557d86106e43b",
          "locked": true,
          "schema_version": 3,
          "solution": false
        },
        "run_control": {
          "frozen": true
        }
      },
      "source": [
        "## Problem 1: Why so delayed? (4 points)\n",
        "The following code adds a variable `week` to `flights`, such that `week==1` for the first seven days of the year, `week==2` for days 8-14, etc. (In the second half of the semester we will learn how to work with times and date data using the `lubridate` package.)"
      ]
    },
    {
      "cell_type": "code",
      "execution_count": null,
      "metadata": {
        "id": "1ioDkDK7r3yd",
        "nbgrader": {
          "grade": false,
          "grade_id": "cell-88e1b70275693fee",
          "locked": true,
          "schema_version": 3,
          "solution": false
        },
        "vscode": {
          "languageId": "r"
        }
      },
      "outputs": [],
      "source": [
        "flights_week = mutate(flights, week=lubridate::week(time_hour))"
      ]
    },
    {
      "cell_type": "markdown",
      "metadata": {
        "deletable": false,
        "editable": false,
        "id": "EepM7rgjr3yd",
        "run_control": {
          "frozen": true
        }
      },
      "source": [
        "**(a)** Make a bar plot of the proportion of flights each week whose actual departure time is NOT missing. The x-axis of your plot should contain the weeks of the year, ranging from 1 to 52, and the y-axis of your plot should be a number between 0 and 1 showing the decimal proportion of flights that have a departure time. What sort of plot geometry (line, bar, point, histogram, etc.) do you think is appropriate for this kind of plot? Does anything about this plot jump out at you? What and why? *1 point*"
      ]
    },
    {
      "cell_type": "code",
      "source": [
        "# Solution: \n",
        "flights_week%>%\n",
        "  mutate(dep_time_not_missing=as.integer(!is.na(dep_time)))%>%\n",
        "  group_by(week)%>%\n",
        "  summarize(prop_dep_not_missing=mean(dep_time_not_missing))%>%\n",
        "  ggplot(aes(x=week,y=prop_dep_not_missing))+\n",
        "  geom_bar(stat=\"identity\")\n",
        "# I think a bar chart is the most appropriate b/c we want to see the proportions for each week.\n",
        "# Week 6 in this plot jumps out at me b/c it has the highest proportion of missing departure times."
      ],
      "metadata": {
        "colab": {
          "base_uri": "https://localhost:8080/",
          "height": 257
        },
        "id": "Mh4QKoZ_VLg7",
        "outputId": "dee41250-3be1-4cb3-877f-c432fac0beec"
      },
      "execution_count": null,
      "outputs": [
        {
          "output_type": "display_data",
          "data": {
            "text/plain": [
              "plot without title"
            ],
            "image/png": "[encoded data removed]"
          },
          "metadata": {
            "image/png": {
              "width": 300,
              "height": 240
            }
          }
        }
      ]
    },
    {
      "cell_type": "markdown",
      "metadata": {
        "deletable": false,
        "editable": false,
        "id": "O63-jpF8r3ye",
        "run_control": {
          "frozen": true
        }
      },
      "source": [
        "**(b)** For the week with the highest fraction of missing departure times, generate a table which shows the proportion of missing departure times for each day of that week. Your table should have columns `year`, `month`, `day`, and `prop_miss_dep_time`. Sort your table in chronological order and store it in a variable called `table1b`. *1 point*"
      ]
    },
    {
      "cell_type": "code",
      "source": [
        "# Solution\n",
        "table1b<-flights_week%>%\n",
        "  filter(week==6)%>%\n",
        "  group_by(year,month,day)%>%\n",
        "  mutate(dep_time_not_missing=as.integer(!is.na(dep_time)))%>%\n",
        "  summarize(prop_dep_not_missing=mean(dep_time_not_missing))\n",
        "print(table1b)"
      ],
      "metadata": {
        "colab": {
          "base_uri": "https://localhost:8080/"
        },
        "id": "4QziVlwAkskx",
        "outputId": "964e893b-93da-4a0f-d2f7-b5e6877cec31"
      },
      "execution_count": null,
      "outputs": [
        {
          "output_type": "stream",
          "name": "stderr",
          "text": [
            "\u001b[1m\u001b[22m`summarise()` has grouped output by 'year', 'month'. You can override using the\n",
            "`.groups` argument.\n"
          ]
        },
        {
          "output_type": "stream",
          "name": "stdout",
          "text": [
            "\u001b[90m# A tibble: 7 × 4\u001b[39m\n",
            "\u001b[90m# Groups:   year, month [1]\u001b[39m\n",
            "   year month   day prop_dep_not_missing\n",
            "  \u001b[3m\u001b[90m<int>\u001b[39m\u001b[23m \u001b[3m\u001b[90m<int>\u001b[39m\u001b[23m \u001b[3m\u001b[90m<int>\u001b[39m\u001b[23m                \u001b[3m\u001b[90m<dbl>\u001b[39m\u001b[23m\n",
            "\u001b[90m1\u001b[39m  \u001b[4m2\u001b[24m013     2     5                0.982\n",
            "\u001b[90m2\u001b[39m  \u001b[4m2\u001b[24m013     2     6                0.991\n",
            "\u001b[90m3\u001b[39m  \u001b[4m2\u001b[24m013     2     7                0.996\n",
            "\u001b[90m4\u001b[39m  \u001b[4m2\u001b[24m013     2     8                0.492\n",
            "\u001b[90m5\u001b[39m  \u001b[4m2\u001b[24m013     2     9                0.425\n",
            "\u001b[90m6\u001b[39m  \u001b[4m2\u001b[24m013     2    10                0.969\n",
            "\u001b[90m7\u001b[39m  \u001b[4m2\u001b[24m013     2    11                0.921\n"
          ]
        }
      ]
    },
    {
      "cell_type": "markdown",
      "metadata": {
        "deletable": false,
        "editable": false,
        "id": "9PDpOEuvr3ye",
        "run_control": {
          "frozen": true
        }
      },
      "source": [
        "**(c)** 2 days in `table1b` should jump out at you. What you're discovering from the data is the [North American Blizzard of 2013](https://en.wikipedia.org/wiki/February_2013_North_American_blizzard). Many flights were cancelled due to extreme weather conditions. Identify the proportion of cancelled flights out of LaGuardia Airport (LGA) during the days that jumped out at you for each airline carrier in descending order. *1 point*"
      ]
    },
    {
      "cell_type": "code",
      "execution_count": null,
      "metadata": {
        "id": "lZsmOBdMr3yf",
        "vscode": {
          "languageId": "r"
        },
        "colab": {
          "base_uri": "https://localhost:8080/",
          "height": 792
        },
        "outputId": "27e1bae0-ae7d-441e-f493-7b98685f31b0"
      },
      "outputs": [
        {
          "output_type": "stream",
          "name": "stderr",
          "text": [
            "\u001b[1m\u001b[22m`summarise()` has grouped output by 'year', 'month', 'day', 'origin'. You can\n",
            "override using the `.groups` argument.\n"
          ]
        },
        {
          "output_type": "display_data",
          "data": {
            "text/html": [
              "<table class=\"dataframe\">\n",
              "<caption>A grouped_df: 21 × 6</caption>\n",
              "<thead>\n",
              "\t<tr><th scope=col>year</th><th scope=col>month</th><th scope=col>day</th><th scope=col>origin</th><th scope=col>carrier</th><th scope=col>prop_dep_not_missing</th></tr>\n",
              "\t<tr><th scope=col>&lt;int&gt;</th><th scope=col>&lt;int&gt;</th><th scope=col>&lt;int&gt;</th><th scope=col>&lt;chr&gt;</th><th scope=col>&lt;chr&gt;</th><th scope=col>&lt;dbl&gt;</th></tr>\n",
              "</thead>\n",
              "<tbody>\n",
              "\t<tr><td>2013</td><td>2</td><td>8</td><td>LGA</td><td>9E</td><td>0.0000000</td></tr>\n",
              "\t<tr><td>2013</td><td>2</td><td>8</td><td>LGA</td><td>EV</td><td>0.0000000</td></tr>\n",
              "\t<tr><td>2013</td><td>2</td><td>8</td><td>LGA</td><td>YV</td><td>0.0000000</td></tr>\n",
              "\t<tr><td>2013</td><td>2</td><td>8</td><td>LGA</td><td>FL</td><td>0.2500000</td></tr>\n",
              "\t<tr><td>2013</td><td>2</td><td>8</td><td>LGA</td><td>UA</td><td>0.3636364</td></tr>\n",
              "\t<tr><td>2013</td><td>2</td><td>8</td><td>LGA</td><td>DL</td><td>0.4666667</td></tr>\n",
              "\t<tr><td>2013</td><td>2</td><td>8</td><td>LGA</td><td>F9</td><td>0.5000000</td></tr>\n",
              "\t<tr><td>2013</td><td>2</td><td>8</td><td>LGA</td><td>WN</td><td>0.5555556</td></tr>\n",
              "\t<tr><td>2013</td><td>2</td><td>8</td><td>LGA</td><td>US</td><td>0.5714286</td></tr>\n",
              "\t<tr><td>2013</td><td>2</td><td>8</td><td>LGA</td><td>MQ</td><td>0.5769231</td></tr>\n",
              "\t<tr><td>2013</td><td>2</td><td>8</td><td>LGA</td><td>B6</td><td>0.6666667</td></tr>\n",
              "\t<tr><td>2013</td><td>2</td><td>8</td><td>LGA</td><td>AA</td><td>0.7391304</td></tr>\n",
              "\t<tr><td>2013</td><td>2</td><td>9</td><td>LGA</td><td>US</td><td>0.1428571</td></tr>\n",
              "\t<tr><td>2013</td><td>2</td><td>9</td><td>LGA</td><td>MQ</td><td>0.2000000</td></tr>\n",
              "\t<tr><td>2013</td><td>2</td><td>9</td><td>LGA</td><td>UA</td><td>0.2500000</td></tr>\n",
              "\t<tr><td>2013</td><td>2</td><td>9</td><td>LGA</td><td>B6</td><td>0.2857143</td></tr>\n",
              "\t<tr><td>2013</td><td>2</td><td>9</td><td>LGA</td><td>DL</td><td>0.3913043</td></tr>\n",
              "\t<tr><td>2013</td><td>2</td><td>9</td><td>LGA</td><td>AA</td><td>0.4375000</td></tr>\n",
              "\t<tr><td>2013</td><td>2</td><td>9</td><td>LGA</td><td>FL</td><td>0.6250000</td></tr>\n",
              "\t<tr><td>2013</td><td>2</td><td>9</td><td>LGA</td><td>WN</td><td>0.7500000</td></tr>\n",
              "\t<tr><td>2013</td><td>2</td><td>9</td><td>LGA</td><td>EV</td><td>1.0000000</td></tr>\n",
              "</tbody>\n",
              "</table>\n"
            ],
            "text/markdown": "\nA grouped_df: 21 × 6\n\n| year &lt;int&gt; | month &lt;int&gt; | day &lt;int&gt; | origin &lt;chr&gt; | carrier &lt;chr&gt; | prop_dep_not_missing &lt;dbl&gt; |\n|---|---|---|---|---|---|\n| 2013 | 2 | 8 | LGA | 9E | 0.0000000 |\n| 2013 | 2 | 8 | LGA | EV | 0.0000000 |\n| 2013 | 2 | 8 | LGA | YV | 0.0000000 |\n| 2013 | 2 | 8 | LGA | FL | 0.2500000 |\n| 2013 | 2 | 8 | LGA | UA | 0.3636364 |\n| 2013 | 2 | 8 | LGA | DL | 0.4666667 |\n| 2013 | 2 | 8 | LGA | F9 | 0.5000000 |\n| 2013 | 2 | 8 | LGA | WN | 0.5555556 |\n| 2013 | 2 | 8 | LGA | US | 0.5714286 |\n| 2013 | 2 | 8 | LGA | MQ | 0.5769231 |\n| 2013 | 2 | 8 | LGA | B6 | 0.6666667 |\n| 2013 | 2 | 8 | LGA | AA | 0.7391304 |\n| 2013 | 2 | 9 | LGA | US | 0.1428571 |\n| 2013 | 2 | 9 | LGA | MQ | 0.2000000 |\n| 2013 | 2 | 9 | LGA | UA | 0.2500000 |\n| 2013 | 2 | 9 | LGA | B6 | 0.2857143 |\n| 2013 | 2 | 9 | LGA | DL | 0.3913043 |\n| 2013 | 2 | 9 | LGA | AA | 0.4375000 |\n| 2013 | 2 | 9 | LGA | FL | 0.6250000 |\n| 2013 | 2 | 9 | LGA | WN | 0.7500000 |\n| 2013 | 2 | 9 | LGA | EV | 1.0000000 |\n\n",
            "text/latex": "A grouped\\_df: 21 × 6\n\\begin{tabular}{llllll}\n year & month & day & origin & carrier & prop\\_dep\\_not\\_missing\\\\\n <int> & <int> & <int> & <chr> & <chr> & <dbl>\\\\\n\\hline\n\t 2013 & 2 & 8 & LGA & 9E & 0.0000000\\\\\n\t 2013 & 2 & 8 & LGA & EV & 0.0000000\\\\\n\t 2013 & 2 & 8 & LGA & YV & 0.0000000\\\\\n\t 2013 & 2 & 8 & LGA & FL & 0.2500000\\\\\n\t 2013 & 2 & 8 & LGA & UA & 0.3636364\\\\\n\t 2013 & 2 & 8 & LGA & DL & 0.4666667\\\\\n\t 2013 & 2 & 8 & LGA & F9 & 0.5000000\\\\\n\t 2013 & 2 & 8 & LGA & WN & 0.5555556\\\\\n\t 2013 & 2 & 8 & LGA & US & 0.5714286\\\\\n\t 2013 & 2 & 8 & LGA & MQ & 0.5769231\\\\\n\t 2013 & 2 & 8 & LGA & B6 & 0.6666667\\\\\n\t 2013 & 2 & 8 & LGA & AA & 0.7391304\\\\\n\t 2013 & 2 & 9 & LGA & US & 0.1428571\\\\\n\t 2013 & 2 & 9 & LGA & MQ & 0.2000000\\\\\n\t 2013 & 2 & 9 & LGA & UA & 0.2500000\\\\\n\t 2013 & 2 & 9 & LGA & B6 & 0.2857143\\\\\n\t 2013 & 2 & 9 & LGA & DL & 0.3913043\\\\\n\t 2013 & 2 & 9 & LGA & AA & 0.4375000\\\\\n\t 2013 & 2 & 9 & LGA & FL & 0.6250000\\\\\n\t 2013 & 2 & 9 & LGA & WN & 0.7500000\\\\\n\t 2013 & 2 & 9 & LGA & EV & 1.0000000\\\\\n\\end{tabular}\n",
            "text/plain": [
              "   year month day origin carrier prop_dep_not_missing\n",
              "1  2013 2     8   LGA    9E      0.0000000           \n",
              "2  2013 2     8   LGA    EV      0.0000000           \n",
              "3  2013 2     8   LGA    YV      0.0000000           \n",
              "4  2013 2     8   LGA    FL      0.2500000           \n",
              "5  2013 2     8   LGA    UA      0.3636364           \n",
              "6  2013 2     8   LGA    DL      0.4666667           \n",
              "7  2013 2     8   LGA    F9      0.5000000           \n",
              "8  2013 2     8   LGA    WN      0.5555556           \n",
              "9  2013 2     8   LGA    US      0.5714286           \n",
              "10 2013 2     8   LGA    MQ      0.5769231           \n",
              "11 2013 2     8   LGA    B6      0.6666667           \n",
              "12 2013 2     8   LGA    AA      0.7391304           \n",
              "13 2013 2     9   LGA    US      0.1428571           \n",
              "14 2013 2     9   LGA    MQ      0.2000000           \n",
              "15 2013 2     9   LGA    UA      0.2500000           \n",
              "16 2013 2     9   LGA    B6      0.2857143           \n",
              "17 2013 2     9   LGA    DL      0.3913043           \n",
              "18 2013 2     9   LGA    AA      0.4375000           \n",
              "19 2013 2     9   LGA    FL      0.6250000           \n",
              "20 2013 2     9   LGA    WN      0.7500000           \n",
              "21 2013 2     9   LGA    EV      1.0000000           "
            ]
          },
          "metadata": {}
        }
      ],
      "source": [
        "# Solution:\n",
        "# 2 days in table1b jump out to me: 2/8/13 & 2/9/13.\n",
        "# This is b/c many flights were cancelled due to the North American Blizzard of '13.\n",
        "flights_week%>%\n",
        "  filter(week==6 & month==2 & day==c(8,9) & origin==\"LGA\")%>%\n",
        "  group_by(year,month,day,origin,carrier)%>%\n",
        "  mutate(dep_time_not_missing=as.integer(!is.na(dep_time)))%>%\n",
        "  summarize(prop_dep_not_missing=mean(dep_time_not_missing))%>%\n",
        "  arrange(day, prop_dep_not_missing)"
      ]
    },
    {
      "cell_type": "markdown",
      "metadata": {
        "deletable": false,
        "editable": false,
        "id": "yHugOItnr3yf",
        "run_control": {
          "frozen": true
        }
      },
      "source": [
        "**(d)** In your own words, summarize your findings from the previous exercises. Most importantly, comment on which airlines were the most and least cautious in terms of flight cancellations. Can you think of any reason why this might be? *1 point*"
      ]
    },
    {
      "cell_type": "code",
      "source": [
        "# The airlines that were the most cautious on 2/8/13 were 9E, EV, & YV; in the sense that ALL flights were cancelled during the blizard.\n",
        "# But these are smaller airlines, so it might've been easier to cancel all of their fewer flights. \n",
        "# The airlines that were the most cautious on 2/9/13 were US, MQ, & FL, but there were still some flights. \n",
        "# I think this is b/c most airlines eased off by the second day of the blizzard. \n",
        "# This is evident by EV having ALL flights running on 2/9/13. \n",
        "# The least cautious for both dates may be AA & WN since they had the highest proportions of flights still running on 2/8/13 & 2/9/13. \n",
        "# But on the flip side of things, these are larger airlines, so it would've been hard for them to cancel all of their flights, \n",
        "# & these flights may have occurred in Southern America, where the blizzard was not a problem. "
      ],
      "metadata": {
        "id": "RcrS_Eu8hUDi"
      },
      "execution_count": null,
      "outputs": []
    },
    {
      "cell_type": "markdown",
      "metadata": {
        "deletable": false,
        "editable": false,
        "id": "pZUVh_a9r3yf",
        "run_control": {
          "frozen": true
        }
      },
      "source": [
        "## Problem 2: Graduate school admissions (4 points)\n",
        "This problem studies a built-in dataset called `UCBAdmissions`. It contains graduate school admissions data from 1973 for six departments at UC Berkeley:"
      ]
    },
    {
      "cell_type": "code",
      "execution_count": null,
      "metadata": {
        "deletable": false,
        "editable": false,
        "id": "Y1n4YDQ8r3yg",
        "vscode": {
          "languageId": "r"
        },
        "colab": {
          "base_uri": "https://localhost:8080/"
        },
        "outputId": "762256b9-529f-40ff-dfdb-f07f7db1edec"
      },
      "outputs": [
        {
          "output_type": "stream",
          "name": "stdout",
          "text": [
            "\u001b[90m# A tibble: 24 × 4\u001b[39m\n",
            "   Admit    Gender Dept      n\n",
            "   \u001b[3m\u001b[90m<chr>\u001b[39m\u001b[23m    \u001b[3m\u001b[90m<chr>\u001b[39m\u001b[23m  \u001b[3m\u001b[90m<chr>\u001b[39m\u001b[23m \u001b[3m\u001b[90m<dbl>\u001b[39m\u001b[23m\n",
            "\u001b[90m 1\u001b[39m Admitted Male   A       512\n",
            "\u001b[90m 2\u001b[39m Rejected Male   A       313\n",
            "\u001b[90m 3\u001b[39m Admitted Female A        89\n",
            "\u001b[90m 4\u001b[39m Rejected Female A        19\n",
            "\u001b[90m 5\u001b[39m Admitted Male   B       353\n",
            "\u001b[90m 6\u001b[39m Rejected Male   B       207\n",
            "\u001b[90m 7\u001b[39m Admitted Female B        17\n",
            "\u001b[90m 8\u001b[39m Rejected Female B         8\n",
            "\u001b[90m 9\u001b[39m Admitted Male   C       120\n",
            "\u001b[90m10\u001b[39m Rejected Male   C       205\n",
            "\u001b[90m# … with 14 more rows\u001b[39m\n"
          ]
        }
      ],
      "source": [
        "data(UCBAdmissions)\n",
        "ucb <- as_tibble(UCBAdmissions) %>% print"
      ]
    },
    {
      "cell_type": "markdown",
      "metadata": {
        "deletable": false,
        "editable": false,
        "id": "1-vvEj5zr3yg",
        "run_control": {
          "frozen": true
        }
      },
      "source": [
        "(For privacy reasons the names of the departments have been changed to `A`, `B`, ... , `F`.)"
      ]
    },
    {
      "cell_type": "markdown",
      "metadata": {
        "deletable": false,
        "editable": false,
        "id": "FW-zL6O4r3yg",
        "run_control": {
          "frozen": true
        }
      },
      "source": [
        "**(a)**\n",
        "Using the tool we learned for summarizing and manipulating tidy data, create a summary table from `ucb` which shows the acceptance rate by gender. Your table should have 5 columns: `Department`, `Gender`, `Admitted`, `Rejected`, and `Proportion Admitted`. Store it in a variable called `table3a`. *1 point*\n",
        "\n",
        "<table>\n",
        "<thead><tr><th scope=\"col\">Department</th><th scope=\"col\">Gender</th><th scope=\"col\">Admitted</th><th scope=\"col\">Rejected</th><th scope=\"col\">Proportion_Admitted</th></tr></thead>\n",
        "<tbody>\n",
        "\t<tr><td>A</td> <td>Female   </td><td> &dash;     </td><td>&dash;     </td><td>&dash;</td></tr>\n",
        "\t<tr><td>A</td> <td>Male   </td><td> &dash;     </td><td>&dash;     </td><td>&dash;</td></tr>\n",
        "\t\t<tr><td>B</td> <td>Female   </td><td> &dash;     </td><td>&dash;     </td><td>&dash;</td></tr>\n",
        "\t\t\t<tr><td>B</td> <td>Male   </td><td> &dash;     </td><td>&dash;     </td><td>&dash;</td></tr>\n",
        "\t\t\t\t<tr><td>C</td> <td>Female   </td><td> &dash;     </td><td>&dash;     </td><td>&dash;</td></tr>\n",
        "\t\t\t\t\t<tr><td>C</td> <td>Male   </td><td> &dash;     </td><td>&dash;     </td><td>&dash;</td></tr>\n",
        "\t\t\t\t\t\t<tr><td>D</td> <td>Female   </td><td> &dash;     </td><td>&dash;     </td><td>&dash;</td></tr>\n",
        "\t\t\t\t\t\t\t<tr><td>D</td> <td>Male   </td><td> &dash;     </td><td>&dash;     </td><td>&dash;</td></tr>\n",
        "\t\t\t\t\t\t\t\t<tr><td>E</td> <td>Female   </td><td> &dash;     </td><td>&dash;     </td><td>&dash;</td></tr> \t<tr><td>E</td> <td>Male   </td><td> &dash;     </td><td>&dash;     </td><td>&dash;</td></tr> \t<tr><td>F</td> <td>Female   </td><td> &dash;     </td><td>&dash;     </td><td>&dash;</td></tr> \t<tr><td>F</td> <td>Male   </td><td> &dash;     </td><td>&dash;     </td><td>&dash;</td></tr>\n",
        "</tbody>\n",
        "</table>\n",
        "\n",
        "(A few entries have been provided for you; your job is to write code that will produce the complete table with no blanks.)"
      ]
    },
    {
      "cell_type": "code",
      "execution_count": null,
      "metadata": {
        "id": "-lcDg4LA8zoc",
        "vscode": {
          "languageId": "r"
        },
        "colab": {
          "base_uri": "https://localhost:8080/"
        },
        "outputId": "78ed1c8d-660c-4597-afdc-80787632ba6d"
      },
      "outputs": [
        {
          "output_type": "stream",
          "name": "stdout",
          "text": [
            "\u001b[90m# A tibble: 12 × 5\u001b[39m\n",
            "   Dept  Gender Admitted Rejected Proportion_Admitted\n",
            "   \u001b[3m\u001b[90m<chr>\u001b[39m\u001b[23m \u001b[3m\u001b[90m<chr>\u001b[39m\u001b[23m     \u001b[3m\u001b[90m<dbl>\u001b[39m\u001b[23m    \u001b[3m\u001b[90m<dbl>\u001b[39m\u001b[23m               \u001b[3m\u001b[90m<dbl>\u001b[39m\u001b[23m\n",
            "\u001b[90m 1\u001b[39m A     Male        512      313              0.621 \n",
            "\u001b[90m 2\u001b[39m A     Female       89       19              0.824 \n",
            "\u001b[90m 3\u001b[39m B     Male        353      207              0.630 \n",
            "\u001b[90m 4\u001b[39m B     Female       17        8              0.68  \n",
            "\u001b[90m 5\u001b[39m C     Male        120      205              0.369 \n",
            "\u001b[90m 6\u001b[39m C     Female      202      391              0.341 \n",
            "\u001b[90m 7\u001b[39m D     Male        138      279              0.331 \n",
            "\u001b[90m 8\u001b[39m D     Female      131      244              0.349 \n",
            "\u001b[90m 9\u001b[39m E     Male         53      138              0.277 \n",
            "\u001b[90m10\u001b[39m E     Female       94      299              0.239 \n",
            "\u001b[90m11\u001b[39m F     Male         22      351              0.059\u001b[4m0\u001b[24m\n",
            "\u001b[90m12\u001b[39m F     Female       24      317              0.070\u001b[4m4\u001b[24m\n"
          ]
        }
      ],
      "source": [
        "# Solution: \n",
        "\n",
        "ucb2<-ucb%>%\n",
        "  pivot_wider(names_from=Admit,values_from=n)%>%\n",
        "  select(Dept,Gender,Admitted,Rejected)\n",
        "\n",
        "table3a<-ucb2%>%\n",
        "  mutate(Proportion_Admitted=Admitted/(Admitted+Rejected))%>%\n",
        "  print"
      ]
    },
    {
      "cell_type": "markdown",
      "metadata": {
        "deletable": false,
        "editable": false,
        "id": "nLmq3MuWr3yg",
        "run_control": {
          "frozen": true
        }
      },
      "source": [
        "**(b)**\n",
        "In STATS 250 you [learned](https://www.youtube.com/watch?v=6gfMhsWmnwk) how to test for differences in proportions between two populations. Apply this to part (a) `table3a`. Was the overall proportion of men admitted statistically different from that of women? Perform an appropriate test and interpret your findings. What do these result suggest about admissions practices at UC Berkeley in the early 1970s? *1 point*\n",
        "\n",
        "(Hint: use the `prop.test()` function.)"
      ]
    },
    {
      "cell_type": "code",
      "source": [
        "# Solution\n",
        "\n",
        "by_gender=table3a%>%\n",
        "  group_by(Gender)%>%\n",
        "  summarize(Total_Admitted=sum(Admitted),\n",
        "Total_People=sum(Admitted+Rejected),\n",
        "Prop_Admitted=Total_Admitted/Total_People)%>%\n",
        "  print\n",
        "\n",
        "prop.test(c(557,1198),c(1835,2691))\n",
        "\n",
        "# From the table itself, you can see that the proportion of men admitted is larger than that of women.\n",
        "# To confirm whether this difference is significant, I conducted a 2-sample test,\n",
        "# in which the null hypothesis is that the male and female populations are the same.\n",
        "# However, the p-value is almost 0, which is less than 0.05, so we can reject this null.\n",
        "# i.e. The overall proportion of men admitted is statistically different from that of women.\n",
        "# These results suggest that admissions practices at UC Berkely in the early 1970s may not have taken gender equality into consideration. "
      ],
      "metadata": {
        "colab": {
          "base_uri": "https://localhost:8080/",
          "height": 303
        },
        "id": "r1ZxzTKWIFVm",
        "outputId": "2f4e42b9-7969-45bf-e196-dff3d51c1294"
      },
      "execution_count": null,
      "outputs": [
        {
          "output_type": "stream",
          "name": "stdout",
          "text": [
            "\u001b[90m# A tibble: 2 × 4\u001b[39m\n",
            "  Gender Total_Admitted Total_People Prop_Admitted\n",
            "  \u001b[3m\u001b[90m<chr>\u001b[39m\u001b[23m           \u001b[3m\u001b[90m<dbl>\u001b[39m\u001b[23m        \u001b[3m\u001b[90m<dbl>\u001b[39m\u001b[23m         \u001b[3m\u001b[90m<dbl>\u001b[39m\u001b[23m\n",
            "\u001b[90m1\u001b[39m Female            557         \u001b[4m1\u001b[24m835         0.304\n",
            "\u001b[90m2\u001b[39m Male             \u001b[4m1\u001b[24m198         \u001b[4m2\u001b[24m691         0.445\n"
          ]
        },
        {
          "output_type": "display_data",
          "data": {
            "text/plain": [
              "\n",
              "\t2-sample test for equality of proportions with continuity correction\n",
              "\n",
              "data:  c(557, 1198) out of c(1835, 2691)\n",
              "X-squared = 91.61, df = 1, p-value < 2.2e-16\n",
              "alternative hypothesis: two.sided\n",
              "95 percent confidence interval:\n",
              " -0.1703022 -0.1129887\n",
              "sample estimates:\n",
              "   prop 1    prop 2 \n",
              "0.3035422 0.4451877 \n"
            ]
          },
          "metadata": {}
        }
      ]
    },
    {
      "cell_type": "markdown",
      "metadata": {
        "deletable": false,
        "editable": false,
        "id": "MqYcugDnr3yg",
        "run_control": {
          "frozen": true
        }
      },
      "source": [
        "**(c)**\n",
        "Reproduce the table from Problem 1, but now stratify by department. \n",
        "Compute the male and female acceptance proportion for each department separately. *1 point*\n",
        "\n",
        "Your resulting table should look like:\n",
        "\n",
        "\n",
        "<table>\n",
        "<thead><tr><th scope=\"col\">Dept</th><th scope=\"col\">Female_Admitted</th><th scope=\"col\">Female_Rejected</th><th scope=\"col\">Male_Admitted</th><th scope=\"col\">Male_Rejected</th><th scope=\"col\">Male_Proportion_Admitted</th><th scope=\"col\">Female_Proportion_Admitted</th></tr></thead>\n",
        "<tbody>\n",
        "\t<tr><td>A         </td><td> 89      </td><td> &dash;       </td><td>&dash;       </td><td>&dash;       </td><td>&dash;</td><td>&dash;</td></tr>\n",
        "\t<tr><td>B         </td><td> &dash;       </td><td>  &dash;       </td><td>353</td><td>&dash;       </td><td>&dash;</td><td>&dash;</td></tr>\n",
        "\t<tr><td>C         </td><td> &dash;       </td><td>  391\t     </td><td>&dash;</td><td>&dash;       </td><td>&dash;</td><td>&dash;</td></tr>\n",
        "\t<tr><td>D         </td><td> &dash;       </td><td>  &dash;       </td><td>&dash;</td><td>&dash;       </td><td>0.33093525\t</td><td>&dash;</td></tr>\n",
        "\t<tr><td>E         </td><td> &dash;       </td><td>  &dash;       </td><td>&dash;</td><td>138       </td><td>&dash;</td><td>&dash;</td></tr>\n",
        " \t<tr><td>F         </td><td> &dash;       </td><td>  &dash;       </td><td>&dash;</td><td>&dash;       </td><td>&dash;</td><td>0.07038123</td></tr>\n",
        "\n",
        "</tbody>\n",
        "</table>\n",
        "\n",
        "(Again, a few table entries have been provided to help you check your work, and it is your job to provide code that computes the entire table automatically.)"
      ]
    },
    {
      "cell_type": "code",
      "execution_count": null,
      "metadata": {
        "id": "p7jNvKIS8qvl",
        "vscode": {
          "languageId": "r"
        },
        "colab": {
          "base_uri": "https://localhost:8080/",
          "height": 286
        },
        "outputId": "d3663e03-cc73-4b93-c128-c5a285958bf8"
      },
      "outputs": [
        {
          "output_type": "display_data",
          "data": {
            "text/html": [
              "<table class=\"dataframe\">\n",
              "<caption>A tibble: 6 × 7</caption>\n",
              "<thead>\n",
              "\t<tr><th scope=col>Dept</th><th scope=col>Female_Admitted</th><th scope=col>Female_Rejected</th><th scope=col>Male_Admitted</th><th scope=col>Male_Rejected</th><th scope=col>Male_Proportion_Admitted</th><th scope=col>Female_Proportion_Admitted</th></tr>\n",
              "\t<tr><th scope=col>&lt;chr&gt;</th><th scope=col>&lt;dbl&gt;</th><th scope=col>&lt;dbl&gt;</th><th scope=col>&lt;dbl&gt;</th><th scope=col>&lt;dbl&gt;</th><th scope=col>&lt;dbl&gt;</th><th scope=col>&lt;dbl&gt;</th></tr>\n",
              "</thead>\n",
              "<tbody>\n",
              "\t<tr><td>A</td><td> 89</td><td> 19</td><td>512</td><td>313</td><td>0.62060606</td><td>0.82407407</td></tr>\n",
              "\t<tr><td>B</td><td> 17</td><td>  8</td><td>353</td><td>207</td><td>0.63035714</td><td>0.68000000</td></tr>\n",
              "\t<tr><td>C</td><td>202</td><td>391</td><td>120</td><td>205</td><td>0.36923077</td><td>0.34064081</td></tr>\n",
              "\t<tr><td>D</td><td>131</td><td>244</td><td>138</td><td>279</td><td>0.33093525</td><td>0.34933333</td></tr>\n",
              "\t<tr><td>E</td><td> 94</td><td>299</td><td> 53</td><td>138</td><td>0.27748691</td><td>0.23918575</td></tr>\n",
              "\t<tr><td>F</td><td> 24</td><td>317</td><td> 22</td><td>351</td><td>0.05898123</td><td>0.07038123</td></tr>\n",
              "</tbody>\n",
              "</table>\n"
            ],
            "text/markdown": "\nA tibble: 6 × 7\n\n| Dept &lt;chr&gt; | Female_Admitted &lt;dbl&gt; | Female_Rejected &lt;dbl&gt; | Male_Admitted &lt;dbl&gt; | Male_Rejected &lt;dbl&gt; | Male_Proportion_Admitted &lt;dbl&gt; | Female_Proportion_Admitted &lt;dbl&gt; |\n|---|---|---|---|---|---|---|\n| A |  89 |  19 | 512 | 313 | 0.62060606 | 0.82407407 |\n| B |  17 |   8 | 353 | 207 | 0.63035714 | 0.68000000 |\n| C | 202 | 391 | 120 | 205 | 0.36923077 | 0.34064081 |\n| D | 131 | 244 | 138 | 279 | 0.33093525 | 0.34933333 |\n| E |  94 | 299 |  53 | 138 | 0.27748691 | 0.23918575 |\n| F |  24 | 317 |  22 | 351 | 0.05898123 | 0.07038123 |\n\n",
            "text/latex": "A tibble: 6 × 7\n\\begin{tabular}{lllllll}\n Dept & Female\\_Admitted & Female\\_Rejected & Male\\_Admitted & Male\\_Rejected & Male\\_Proportion\\_Admitted & Female\\_Proportion\\_Admitted\\\\\n <chr> & <dbl> & <dbl> & <dbl> & <dbl> & <dbl> & <dbl>\\\\\n\\hline\n\t A &  89 &  19 & 512 & 313 & 0.62060606 & 0.82407407\\\\\n\t B &  17 &   8 & 353 & 207 & 0.63035714 & 0.68000000\\\\\n\t C & 202 & 391 & 120 & 205 & 0.36923077 & 0.34064081\\\\\n\t D & 131 & 244 & 138 & 279 & 0.33093525 & 0.34933333\\\\\n\t E &  94 & 299 &  53 & 138 & 0.27748691 & 0.23918575\\\\\n\t F &  24 & 317 &  22 & 351 & 0.05898123 & 0.07038123\\\\\n\\end{tabular}\n",
            "text/plain": [
              "  Dept Female_Admitted Female_Rejected Male_Admitted Male_Rejected\n",
              "1 A     89              19             512           313          \n",
              "2 B     17               8             353           207          \n",
              "3 C    202             391             120           205          \n",
              "4 D    131             244             138           279          \n",
              "5 E     94             299              53           138          \n",
              "6 F     24             317              22           351          \n",
              "  Male_Proportion_Admitted Female_Proportion_Admitted\n",
              "1 0.62060606               0.82407407                \n",
              "2 0.63035714               0.68000000                \n",
              "3 0.36923077               0.34064081                \n",
              "4 0.33093525               0.34933333                \n",
              "5 0.27748691               0.23918575                \n",
              "6 0.05898123               0.07038123                "
            ]
          },
          "metadata": {}
        }
      ],
      "source": [
        "# Solution \n",
        "table3a%>%\n",
        "  pivot_wider(names_from=Gender,values_from=c(Admitted,Rejected,Proportion_Admitted))%>%\n",
        "  select(Dept,Admitted_Female,Rejected_Female,Admitted_Male,Rejected_Male,Proportion_Admitted_Male,Proportion_Admitted_Female)%>%\n",
        "  rename(Female_Admitted=Admitted_Female,Female_Rejected=Rejected_Female,Male_Admitted=Admitted_Male,Male_Rejected=Rejected_Male,Male_Proportion_Admitted=Proportion_Admitted_Male,Female_Proportion_Admitted=Proportion_Admitted_Female)"
      ]
    },
    {
      "cell_type": "markdown",
      "metadata": {
        "deletable": false,
        "editable": false,
        "id": "m2oat3gEr3yg",
        "run_control": {
          "frozen": true
        }
      },
      "source": [
        "**(d)**\n",
        "Do the department-level findings in part (c) agree or disagree with what you concluded in part (b)? Which departments agree with your conclusion in part (b) and which disagree? **Explain with numerical evidence for full credit.** *1 point*"
      ]
    },
    {
      "cell_type": "code",
      "execution_count": null,
      "metadata": {
        "id": "no1bO4BeVIMw"
      },
      "outputs": [],
      "source": [
        "# Solution:\n",
        "# Not all departments agree w/ what I concluded in b. \n",
        "# Depts C & E had a higher proportion of males admitted, but \n",
        "# Depts A,B,D,&F had a higher proportion of females admitted. "
      ]
    },
    {
      "cell_type": "markdown",
      "metadata": {
        "deletable": false,
        "editable": false,
        "id": "Bhxx8GT5r3yh",
        "nbgrader": {
          "grade": false,
          "grade_id": "cell-9ea1f017dd33edff",
          "locked": true,
          "schema_version": 3,
          "solution": false
        },
        "run_control": {
          "frozen": true
        }
      },
      "source": [
        "## Problem 3: Popular Baby Names of the Decade (2 points)\n",
        "Recall from lecture the `babynames` dataset that contains a lot of information about frequency of baby names over time."
      ]
    },
    {
      "cell_type": "code",
      "execution_count": null,
      "metadata": {
        "deletable": false,
        "editable": false,
        "id": "PNuX11rkr3yh",
        "vscode": {
          "languageId": "r"
        },
        "colab": {
          "base_uri": "https://localhost:8080/"
        },
        "outputId": "d6e5afde-55c2-4703-b22f-754a52d5c7f0"
      },
      "outputs": [
        {
          "output_type": "stream",
          "name": "stderr",
          "text": [
            "Installing package into ‘/usr/local/lib/R/site-library’\n",
            "(as ‘lib’ is unspecified)\n",
            "\n"
          ]
        }
      ],
      "source": [
        "install.packages(\"babynames\")\n",
        "library(babynames)"
      ]
    },
    {
      "cell_type": "markdown",
      "metadata": {
        "deletable": false,
        "editable": false,
        "id": "V933LtNUr3yh",
        "run_control": {
          "frozen": true
        }
      },
      "source": [
        "**(a)** Generate a table that has **decade** on the vertical axis, and the most popular male **and** female name of each decade. A decade will be definied by the years ___0 - ___9. So for example, 1880-1889 is a decade followed by 1890-1899, etc. *1 point*\n",
        "\n",
        "Hint: The `cut()` function can be used to \"discretize\" a continuous variable by placing each continuous observation into a bin. For example:"
      ]
    },
    {
      "cell_type": "code",
      "execution_count": null,
      "metadata": {
        "deletable": false,
        "editable": false,
        "id": "VHwjnbudVIMx",
        "colab": {
          "base_uri": "https://localhost:8080/",
          "height": 52
        },
        "outputId": "2697eff8-76b9-4e6a-b60c-8dad694d3399"
      },
      "outputs": [
        {
          "output_type": "display_data",
          "data": {
            "text/html": [
              "<style>\n",
              ".list-inline {list-style: none; margin:0; padding: 0}\n",
              ".list-inline>li {display: inline-block}\n",
              ".list-inline>li:not(:last-child)::after {content: \"\\00b7\"; padding: 0 .5ex}\n",
              "</style>\n",
              "<ol class=list-inline><li>(0,5]</li><li>(0,5]</li><li>(0,5]</li><li>(0,5]</li><li>(0,5]</li><li>(5,10]</li><li>(5,10]</li><li>(5,10]</li><li>(5,10]</li><li>(5,10]</li></ol>\n",
              "\n",
              "<details>\n",
              "\t<summary style=display:list-item;cursor:pointer>\n",
              "\t\t<strong>Levels</strong>:\n",
              "\t</summary>\n",
              "\t<style>\n",
              "\t.list-inline {list-style: none; margin:0; padding: 0}\n",
              "\t.list-inline>li {display: inline-block}\n",
              "\t.list-inline>li:not(:last-child)::after {content: \"\\00b7\"; padding: 0 .5ex}\n",
              "\t</style>\n",
              "\t<ol class=list-inline><li>'(0,5]'</li><li>'(5,10]'</li></ol>\n",
              "</details>"
            ],
            "text/markdown": "1. (0,5]\n2. (0,5]\n3. (0,5]\n4. (0,5]\n5. (0,5]\n6. (5,10]\n7. (5,10]\n8. (5,10]\n9. (5,10]\n10. (5,10]\n\n\n\n**Levels**: 1. '(0,5]'\n2. '(5,10]'\n\n\n",
            "text/latex": "\\begin{enumerate*}\n\\item (0,5{]}\n\\item (0,5{]}\n\\item (0,5{]}\n\\item (0,5{]}\n\\item (0,5{]}\n\\item (5,10{]}\n\\item (5,10{]}\n\\item (5,10{]}\n\\item (5,10{]}\n\\item (5,10{]}\n\\end{enumerate*}\n\n\\emph{Levels}: \\begin{enumerate*}\n\\item '(0,5{]}'\n\\item '(5,10{]}'\n\\end{enumerate*}\n",
            "text/plain": [
              " [1] (0,5]  (0,5]  (0,5]  (0,5]  (0,5]  (5,10] (5,10] (5,10] (5,10] (5,10]\n",
              "Levels: (0,5] (5,10]"
            ]
          },
          "metadata": {}
        }
      ],
      "source": [
        "v = 1:10  # vector of the numbers 1 through 10\n",
        "cut(v, breaks=c(0, 5, 10))"
      ]
    },
    {
      "cell_type": "markdown",
      "metadata": {
        "deletable": false,
        "editable": false,
        "run_control": {
          "frozen": true
        },
        "id": "URi2y0VxVIMx"
      },
      "source": [
        "converts the vector $v=(1, \\dots, 10)$ into a *factor* (discrete variable) that has two levels: $(0,5]$ and $(5, 10]$."
      ]
    },
    {
      "cell_type": "code",
      "source": [
        "# Solution \n",
        "\n",
        "# Create Decades\n",
        "babynames$decade<-cut(babynames$year,breaks=c(1879,1889,1899,1909,1919,1929,1939,1949,1959,1969,1979,1989,1999,2009,2019))\n",
        "\n",
        "# Most Popular Male Names\n",
        "df1<-babynames%>%\n",
        "  filter(sex==\"M\")%>%\n",
        "  group_by(decade)%>%\n",
        "  slice(which.max(n))\n",
        "\n",
        "# Most Popular Female Names\n",
        "df2<-babynames%>%\n",
        "  filter(sex==\"F\")%>%\n",
        "  group_by(decade)%>%\n",
        "  slice(which.max(n))\n",
        "\n",
        "# Combined, Over the Decades \n",
        "df3<-merge(df1,df2,\"decade\")%>%\n",
        "  select(decade,name.x,name.y)%>%\n",
        "  rename(Male=\"name.x\",Female=\"name.y\")%>%\n",
        "  print"
      ],
      "metadata": {
        "colab": {
          "base_uri": "https://localhost:8080/"
        },
        "id": "ovucedAAKXWc",
        "outputId": "86144674-9391-40d3-c324-6e4c784f8074"
      },
      "execution_count": null,
      "outputs": [
        {
          "output_type": "stream",
          "name": "stdout",
          "text": [
            "                decade    Male   Female\n",
            "1  (1.88e+03,1.89e+03]    John     Mary\n",
            "2   (1.89e+03,1.9e+03]    John     Mary\n",
            "3  (1.91e+03,1.92e+03]    John     Mary\n",
            "4  (1.92e+03,1.93e+03]  Robert     Mary\n",
            "5  (1.93e+03,1.94e+03]  Robert     Mary\n",
            "6  (1.94e+03,1.95e+03]   James    Linda\n",
            "7  (1.95e+03,1.96e+03] Michael    Linda\n",
            "8  (1.96e+03,1.97e+03] Michael     Lisa\n",
            "9  (1.97e+03,1.98e+03] Michael Jennifer\n",
            "10 (1.98e+03,1.99e+03] Michael Jennifer\n",
            "11    (1.99e+03,2e+03] Michael  Jessica\n",
            "12  (1.9e+03,1.91e+03]    John     Mary\n",
            "13 (2.01e+03,2.02e+03]   Jacob Isabella\n",
            "14    (2e+03,2.01e+03]   Jacob    Emily\n"
          ]
        }
      ]
    },
    {
      "cell_type": "markdown",
      "metadata": {
        "id": "eN-86xfOr3yh"
      },
      "source": [
        "**(b)** Do any names appear more than once? Write code that converts the table from part (a) into a dataframe with all the names that show up more than once. **Manual answers will not receive credit. Your code should automatically convert the table to a new one showing the duplicated names.** *1 point*"
      ]
    },
    {
      "cell_type": "code",
      "execution_count": null,
      "metadata": {
        "id": "-UQqqY-7cIPc",
        "vscode": {
          "languageId": "r"
        },
        "colab": {
          "base_uri": "https://localhost:8080/",
          "height": 995
        },
        "outputId": "2e44f669-8376-4641-9bd0-9ae0839af6a8"
      },
      "outputs": [
        {
          "output_type": "display_data",
          "data": {
            "text/html": [
              "<table class=\"dataframe\">\n",
              "<caption>A data.frame: 13 × 3</caption>\n",
              "<thead>\n",
              "\t<tr><th scope=col>decade</th><th scope=col>Male</th><th scope=col>Female</th></tr>\n",
              "\t<tr><th scope=col>&lt;fct&gt;</th><th scope=col>&lt;chr&gt;</th><th scope=col>&lt;chr&gt;</th></tr>\n",
              "</thead>\n",
              "<tbody>\n",
              "\t<tr><td>(1.88e+03,1.89e+03]</td><td>John   </td><td>Mary    </td></tr>\n",
              "\t<tr><td>(1.89e+03,1.9e+03] </td><td>John   </td><td>Mary    </td></tr>\n",
              "\t<tr><td>(1.91e+03,1.92e+03]</td><td>John   </td><td>Mary    </td></tr>\n",
              "\t<tr><td>(1.92e+03,1.93e+03]</td><td>Robert </td><td>Mary    </td></tr>\n",
              "\t<tr><td>(1.93e+03,1.94e+03]</td><td>Robert </td><td>Mary    </td></tr>\n",
              "\t<tr><td>(1.95e+03,1.96e+03]</td><td>Michael</td><td>Linda   </td></tr>\n",
              "\t<tr><td>(1.96e+03,1.97e+03]</td><td>Michael</td><td>Lisa    </td></tr>\n",
              "\t<tr><td>(1.97e+03,1.98e+03]</td><td>Michael</td><td>Jennifer</td></tr>\n",
              "\t<tr><td>(1.98e+03,1.99e+03]</td><td>Michael</td><td>Jennifer</td></tr>\n",
              "\t<tr><td>(1.99e+03,2e+03]   </td><td>Michael</td><td>Jessica </td></tr>\n",
              "\t<tr><td>(1.9e+03,1.91e+03] </td><td>John   </td><td>Mary    </td></tr>\n",
              "\t<tr><td>(2.01e+03,2.02e+03]</td><td>Jacob  </td><td>Isabella</td></tr>\n",
              "\t<tr><td>(2e+03,2.01e+03]   </td><td>Jacob  </td><td>Emily   </td></tr>\n",
              "</tbody>\n",
              "</table>\n"
            ],
            "text/markdown": "\nA data.frame: 13 × 3\n\n| decade &lt;fct&gt; | Male &lt;chr&gt; | Female &lt;chr&gt; |\n|---|---|---|\n| (1.88e+03,1.89e+03] | John    | Mary     |\n| (1.89e+03,1.9e+03]  | John    | Mary     |\n| (1.91e+03,1.92e+03] | John    | Mary     |\n| (1.92e+03,1.93e+03] | Robert  | Mary     |\n| (1.93e+03,1.94e+03] | Robert  | Mary     |\n| (1.95e+03,1.96e+03] | Michael | Linda    |\n| (1.96e+03,1.97e+03] | Michael | Lisa     |\n| (1.97e+03,1.98e+03] | Michael | Jennifer |\n| (1.98e+03,1.99e+03] | Michael | Jennifer |\n| (1.99e+03,2e+03]    | Michael | Jessica  |\n| (1.9e+03,1.91e+03]  | John    | Mary     |\n| (2.01e+03,2.02e+03] | Jacob   | Isabella |\n| (2e+03,2.01e+03]    | Jacob   | Emily    |\n\n",
            "text/latex": "A data.frame: 13 × 3\n\\begin{tabular}{lll}\n decade & Male & Female\\\\\n <fct> & <chr> & <chr>\\\\\n\\hline\n\t (1.88e+03,1.89e+03{]} & John    & Mary    \\\\\n\t (1.89e+03,1.9e+03{]}  & John    & Mary    \\\\\n\t (1.91e+03,1.92e+03{]} & John    & Mary    \\\\\n\t (1.92e+03,1.93e+03{]} & Robert  & Mary    \\\\\n\t (1.93e+03,1.94e+03{]} & Robert  & Mary    \\\\\n\t (1.95e+03,1.96e+03{]} & Michael & Linda   \\\\\n\t (1.96e+03,1.97e+03{]} & Michael & Lisa    \\\\\n\t (1.97e+03,1.98e+03{]} & Michael & Jennifer\\\\\n\t (1.98e+03,1.99e+03{]} & Michael & Jennifer\\\\\n\t (1.99e+03,2e+03{]}    & Michael & Jessica \\\\\n\t (1.9e+03,1.91e+03{]}  & John    & Mary    \\\\\n\t (2.01e+03,2.02e+03{]} & Jacob   & Isabella\\\\\n\t (2e+03,2.01e+03{]}    & Jacob   & Emily   \\\\\n\\end{tabular}\n",
            "text/plain": [
              "   decade              Male    Female  \n",
              "1  (1.88e+03,1.89e+03] John    Mary    \n",
              "2  (1.89e+03,1.9e+03]  John    Mary    \n",
              "3  (1.91e+03,1.92e+03] John    Mary    \n",
              "4  (1.92e+03,1.93e+03] Robert  Mary    \n",
              "5  (1.93e+03,1.94e+03] Robert  Mary    \n",
              "6  (1.95e+03,1.96e+03] Michael Linda   \n",
              "7  (1.96e+03,1.97e+03] Michael Lisa    \n",
              "8  (1.97e+03,1.98e+03] Michael Jennifer\n",
              "9  (1.98e+03,1.99e+03] Michael Jennifer\n",
              "10 (1.99e+03,2e+03]    Michael Jessica \n",
              "11 (1.9e+03,1.91e+03]  John    Mary    \n",
              "12 (2.01e+03,2.02e+03] Jacob   Isabella\n",
              "13 (2e+03,2.01e+03]    Jacob   Emily   "
            ]
          },
          "metadata": {}
        },
        {
          "output_type": "display_data",
          "data": {
            "text/html": [
              "<table class=\"dataframe\">\n",
              "<caption>A data.frame: 13 × 3</caption>\n",
              "<thead>\n",
              "\t<tr><th></th><th scope=col>decade</th><th scope=col>Male</th><th scope=col>Female</th></tr>\n",
              "\t<tr><th></th><th scope=col>&lt;fct&gt;</th><th scope=col>&lt;chr&gt;</th><th scope=col>&lt;chr&gt;</th></tr>\n",
              "</thead>\n",
              "<tbody>\n",
              "\t<tr><th scope=row>1</th><td>(1.88e+03,1.89e+03]</td><td>John   </td><td>Mary    </td></tr>\n",
              "\t<tr><th scope=row>2</th><td>(1.89e+03,1.9e+03] </td><td>John   </td><td>Mary    </td></tr>\n",
              "\t<tr><th scope=row>3</th><td>(1.91e+03,1.92e+03]</td><td>John   </td><td>Mary    </td></tr>\n",
              "\t<tr><th scope=row>4</th><td>(1.92e+03,1.93e+03]</td><td>Robert </td><td>Mary    </td></tr>\n",
              "\t<tr><th scope=row>5</th><td>(1.93e+03,1.94e+03]</td><td>Robert </td><td>Mary    </td></tr>\n",
              "\t<tr><th scope=row>7</th><td>(1.95e+03,1.96e+03]</td><td>Michael</td><td>Linda   </td></tr>\n",
              "\t<tr><th scope=row>8</th><td>(1.96e+03,1.97e+03]</td><td>Michael</td><td>Lisa    </td></tr>\n",
              "\t<tr><th scope=row>9</th><td>(1.97e+03,1.98e+03]</td><td>Michael</td><td>Jennifer</td></tr>\n",
              "\t<tr><th scope=row>10</th><td>(1.98e+03,1.99e+03]</td><td>Michael</td><td>Jennifer</td></tr>\n",
              "\t<tr><th scope=row>11</th><td>(1.99e+03,2e+03]   </td><td>Michael</td><td>Jessica </td></tr>\n",
              "\t<tr><th scope=row>12</th><td>(1.9e+03,1.91e+03] </td><td>John   </td><td>Mary    </td></tr>\n",
              "\t<tr><th scope=row>13</th><td>(2.01e+03,2.02e+03]</td><td>Jacob  </td><td>Isabella</td></tr>\n",
              "\t<tr><th scope=row>14</th><td>(2e+03,2.01e+03]   </td><td>Jacob  </td><td>Emily   </td></tr>\n",
              "</tbody>\n",
              "</table>\n"
            ],
            "text/markdown": "\nA data.frame: 13 × 3\n\n| <!--/--> | decade &lt;fct&gt; | Male &lt;chr&gt; | Female &lt;chr&gt; |\n|---|---|---|---|\n| 1 | (1.88e+03,1.89e+03] | John    | Mary     |\n| 2 | (1.89e+03,1.9e+03]  | John    | Mary     |\n| 3 | (1.91e+03,1.92e+03] | John    | Mary     |\n| 4 | (1.92e+03,1.93e+03] | Robert  | Mary     |\n| 5 | (1.93e+03,1.94e+03] | Robert  | Mary     |\n| 7 | (1.95e+03,1.96e+03] | Michael | Linda    |\n| 8 | (1.96e+03,1.97e+03] | Michael | Lisa     |\n| 9 | (1.97e+03,1.98e+03] | Michael | Jennifer |\n| 10 | (1.98e+03,1.99e+03] | Michael | Jennifer |\n| 11 | (1.99e+03,2e+03]    | Michael | Jessica  |\n| 12 | (1.9e+03,1.91e+03]  | John    | Mary     |\n| 13 | (2.01e+03,2.02e+03] | Jacob   | Isabella |\n| 14 | (2e+03,2.01e+03]    | Jacob   | Emily    |\n\n",
            "text/latex": "A data.frame: 13 × 3\n\\begin{tabular}{r|lll}\n  & decade & Male & Female\\\\\n  & <fct> & <chr> & <chr>\\\\\n\\hline\n\t1 & (1.88e+03,1.89e+03{]} & John    & Mary    \\\\\n\t2 & (1.89e+03,1.9e+03{]}  & John    & Mary    \\\\\n\t3 & (1.91e+03,1.92e+03{]} & John    & Mary    \\\\\n\t4 & (1.92e+03,1.93e+03{]} & Robert  & Mary    \\\\\n\t5 & (1.93e+03,1.94e+03{]} & Robert  & Mary    \\\\\n\t7 & (1.95e+03,1.96e+03{]} & Michael & Linda   \\\\\n\t8 & (1.96e+03,1.97e+03{]} & Michael & Lisa    \\\\\n\t9 & (1.97e+03,1.98e+03{]} & Michael & Jennifer\\\\\n\t10 & (1.98e+03,1.99e+03{]} & Michael & Jennifer\\\\\n\t11 & (1.99e+03,2e+03{]}    & Michael & Jessica \\\\\n\t12 & (1.9e+03,1.91e+03{]}  & John    & Mary    \\\\\n\t13 & (2.01e+03,2.02e+03{]} & Jacob   & Isabella\\\\\n\t14 & (2e+03,2.01e+03{]}    & Jacob   & Emily   \\\\\n\\end{tabular}\n",
            "text/plain": [
              "   decade              Male    Female  \n",
              "1  (1.88e+03,1.89e+03] John    Mary    \n",
              "2  (1.89e+03,1.9e+03]  John    Mary    \n",
              "3  (1.91e+03,1.92e+03] John    Mary    \n",
              "4  (1.92e+03,1.93e+03] Robert  Mary    \n",
              "5  (1.93e+03,1.94e+03] Robert  Mary    \n",
              "7  (1.95e+03,1.96e+03] Michael Linda   \n",
              "8  (1.96e+03,1.97e+03] Michael Lisa    \n",
              "9  (1.97e+03,1.98e+03] Michael Jennifer\n",
              "10 (1.98e+03,1.99e+03] Michael Jennifer\n",
              "11 (1.99e+03,2e+03]    Michael Jessica \n",
              "12 (1.9e+03,1.91e+03]  John    Mary    \n",
              "13 (2.01e+03,2.02e+03] Jacob   Isabella\n",
              "14 (2e+03,2.01e+03]    Jacob   Emily   "
            ]
          },
          "metadata": {}
        }
      ],
      "source": [
        "# Solution\n",
        "# Method 1 \n",
        "df3%>%\n",
        "  filter(Male==\"John\"|Female==\"Mary\"|Male==\"Robert\"|Male==\"Michael\"|Female==\"Jennifer\"|Male==\"Jacob\")\n",
        "# Method 2 \n",
        "df3[duplicated(df3$Male)|duplicated(df3$Male,fromLast=TRUE),]"
      ]
    }
  ],
  "metadata": {
    "celltoolbar": "Create Assignment",
    "colab": {
      "provenance": [],
      "include_colab_link": true
    },
    "kernelspec": {
      "display_name": "R",
      "language": "R",
      "name": "ir"
    },
    "language_info": {
      "codemirror_mode": "r",
      "file_extension": ".r",
      "mimetype": "text/x-r-source",
      "name": "R",
      "pygments_lexer": "r",
      "version": "4.2.1"
    }
  },
  "nbformat": 4,
  "nbformat_minor": 0
}
