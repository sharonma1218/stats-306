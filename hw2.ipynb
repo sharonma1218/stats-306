{
  "cells": [
    {
      "cell_type": "markdown",
      "metadata": {
        "id": "view-in-github",
        "colab_type": "text"
      },
      "source": [
        "<a href=\"https://colab.research.google.com/github/sharonma1218/stats-306/blob/main/hw2.ipynb\" target=\"_parent\"><img src=\"https://colab.research.google.com/assets/colab-badge.svg\" alt=\"Open In Colab\"/></a>"
      ]
    },
    {
      "cell_type": "code",
      "execution_count": null,
      "metadata": {
        "nbgrader": {
          "grade": false,
          "grade_id": "cell-1be04a157d86c84b",
          "locked": true,
          "schema_version": 3,
          "solution": false
        },
        "id": "yz-wzji0KZUm",
        "outputId": "0d9841c9-f260-4386-9984-0074749a31c3",
        "colab": {
          "base_uri": "https://localhost:8080/"
        }
      },
      "outputs": [
        {
          "output_type": "stream",
          "name": "stderr",
          "text": [
            "Installing package into ‘/usr/local/lib/R/site-library’\n",
            "(as ‘lib’ is unspecified)\n",
            "\n",
            "Installing package into ‘/usr/local/lib/R/site-library’\n",
            "(as ‘lib’ is unspecified)\n",
            "\n",
            "Warning message in system(\"timedatectl\", intern = TRUE):\n",
            "“running command 'timedatectl' had status 1”\n",
            "── \u001b[1mAttaching packages\u001b[22m ─────────────────────────────────────── tidyverse 1.3.2 ──\n",
            "\u001b[32m✔\u001b[39m \u001b[34mggplot2\u001b[39m 3.4.0      \u001b[32m✔\u001b[39m \u001b[34mpurrr  \u001b[39m 1.0.1 \n",
            "\u001b[32m✔\u001b[39m \u001b[34mtibble \u001b[39m 3.1.8      \u001b[32m✔\u001b[39m \u001b[34mdplyr  \u001b[39m 1.0.10\n",
            "\u001b[32m✔\u001b[39m \u001b[34mtidyr  \u001b[39m 1.2.1      \u001b[32m✔\u001b[39m \u001b[34mstringr\u001b[39m 1.4.1 \n",
            "\u001b[32m✔\u001b[39m \u001b[34mreadr  \u001b[39m 2.1.3      \u001b[32m✔\u001b[39m \u001b[34mforcats\u001b[39m 0.5.2 \n",
            "── \u001b[1mConflicts\u001b[22m ────────────────────────────────────────── tidyverse_conflicts() ──\n",
            "\u001b[31m✖\u001b[39m \u001b[34mdplyr\u001b[39m::\u001b[32mfilter()\u001b[39m masks \u001b[34mstats\u001b[39m::filter()\n",
            "\u001b[31m✖\u001b[39m \u001b[34mdplyr\u001b[39m::\u001b[32mlag()\u001b[39m    masks \u001b[34mstats\u001b[39m::lag()\n"
          ]
        }
      ],
      "source": [
        "install.packages(\"tidyverse\")\n",
        "install.packages(\"nycflights13\")\n",
        "library(tidyverse)\n",
        "library(nycflights13)\n",
        "options(repr.plot.width=5, repr.plot.height=4)"
      ]
    },
    {
      "cell_type": "markdown",
      "metadata": {
        "deletable": false,
        "editable": false,
        "nbgrader": {
          "grade": false,
          "grade_id": "cell-281caadd66986182",
          "locked": true,
          "schema_version": 3,
          "solution": false
        },
        "id": "64GwIacGKZUu"
      },
      "source": [
        "# STATS 306\n",
        "## Homework 2:  Using `dplyr`\n",
        "\n",
        "For each problem, enter the R code in the cell marked \"YOUR SOLUTION HERE\"."
      ]
    },
    {
      "cell_type": "markdown",
      "metadata": {
        "deletable": false,
        "editable": false,
        "nbgrader": {
          "grade": false,
          "grade_id": "cell-421557d86106e43b",
          "locked": true,
          "schema_version": 3,
          "solution": false
        },
        "id": "xRakUI93KZUu"
      },
      "source": [
        "## Problem 1: Naming frequency (4 points)\n",
        "Problem 1 is based on the `babynames` data set that we saw in lecture:"
      ]
    },
    {
      "cell_type": "code",
      "execution_count": null,
      "metadata": {
        "nbgrader": {
          "grade": false,
          "grade_id": "cell-88e1b70275693fee",
          "locked": true,
          "schema_version": 3,
          "solution": false
        },
        "id": "soLYEM2TKZUv",
        "outputId": "69c2d1ea-11cc-4f3c-c7c9-0c2d00f1fa2e",
        "colab": {
          "base_uri": "https://localhost:8080/",
          "height": 321
        }
      },
      "outputs": [
        {
          "output_type": "stream",
          "name": "stderr",
          "text": [
            "Installing package into ‘/usr/local/lib/R/site-library’\n",
            "(as ‘lib’ is unspecified)\n",
            "\n"
          ]
        },
        {
          "output_type": "display_data",
          "data": {
            "text/plain": [
              "      year          sex                name                 n          \n",
              " Min.   :1880   Length:1924665     Length:1924665     Min.   :    5.0  \n",
              " 1st Qu.:1951   Class :character   Class :character   1st Qu.:    7.0  \n",
              " Median :1985   Mode  :character   Mode  :character   Median :   12.0  \n",
              " Mean   :1975                                         Mean   :  180.9  \n",
              " 3rd Qu.:2003                                         3rd Qu.:   32.0  \n",
              " Max.   :2017                                         Max.   :99686.0  \n",
              "      prop          \n",
              " Min.   :2.260e-06  \n",
              " 1st Qu.:3.870e-06  \n",
              " Median :7.300e-06  \n",
              " Mean   :1.363e-04  \n",
              " 3rd Qu.:2.288e-05  \n",
              " Max.   :8.155e-02  "
            ]
          },
          "metadata": {}
        }
      ],
      "source": [
        "install.packages(\"babynames\")\n",
        "library(babynames)\n",
        "summary(babynames)"
      ]
    },
    {
      "cell_type": "markdown",
      "metadata": {
        "deletable": false,
        "editable": false,
        "id": "lQDYvFujKZUw"
      },
      "source": [
        "**(a)** What were the top five most popular names for boys and girls in 1925? _1 point_"
      ]
    },
    {
      "cell_type": "code",
      "execution_count": null,
      "metadata": {
        "id": "7UKVoNV_KZUw",
        "colab": {
          "base_uri": "https://localhost:8080/"
        },
        "outputId": "2ae342eb-6959-474f-9f71-4dcfc4072501"
      },
      "outputs": [
        {
          "output_type": "stream",
          "name": "stderr",
          "text": [
            "\u001b[1m\u001b[22mSelecting by prop\n"
          ]
        },
        {
          "output_type": "stream",
          "name": "stdout",
          "text": [
            "\u001b[90m# A tibble: 5 × 5\u001b[39m\n",
            "   year sex   name        n   prop\n",
            "  \u001b[3m\u001b[90m<dbl>\u001b[39m\u001b[23m \u001b[3m\u001b[90m<chr>\u001b[39m\u001b[23m \u001b[3m\u001b[90m<chr>\u001b[39m\u001b[23m   \u001b[3m\u001b[90m<int>\u001b[39m\u001b[23m  \u001b[3m\u001b[90m<dbl>\u001b[39m\u001b[23m\n",
            "\u001b[90m1\u001b[39m  \u001b[4m1\u001b[24m925 M     Robert  \u001b[4m6\u001b[24m\u001b[4m0\u001b[24m896 0.052\u001b[4m9\u001b[24m\n",
            "\u001b[90m2\u001b[39m  \u001b[4m1\u001b[24m925 M     John    \u001b[4m5\u001b[24m\u001b[4m7\u001b[24m197 0.049\u001b[4m7\u001b[24m\n",
            "\u001b[90m3\u001b[39m  \u001b[4m1\u001b[24m925 M     William \u001b[4m5\u001b[24m\u001b[4m3\u001b[24m303 0.046\u001b[4m3\u001b[24m\n",
            "\u001b[90m4\u001b[39m  \u001b[4m1\u001b[24m925 M     James   \u001b[4m5\u001b[24m\u001b[4m2\u001b[24m681 0.045\u001b[4m8\u001b[24m\n",
            "\u001b[90m5\u001b[39m  \u001b[4m1\u001b[24m925 M     Charles \u001b[4m2\u001b[24m\u001b[4m9\u001b[24m581 0.025\u001b[4m7\u001b[24m\n"
          ]
        },
        {
          "output_type": "stream",
          "name": "stderr",
          "text": [
            "\u001b[1m\u001b[22mSelecting by prop\n"
          ]
        },
        {
          "output_type": "stream",
          "name": "stdout",
          "text": [
            "\u001b[90m# A tibble: 5 × 5\u001b[39m\n",
            "   year sex   name         n   prop\n",
            "  \u001b[3m\u001b[90m<dbl>\u001b[39m\u001b[23m \u001b[3m\u001b[90m<chr>\u001b[39m\u001b[23m \u001b[3m\u001b[90m<chr>\u001b[39m\u001b[23m    \u001b[3m\u001b[90m<int>\u001b[39m\u001b[23m  \u001b[3m\u001b[90m<dbl>\u001b[39m\u001b[23m\n",
            "\u001b[90m1\u001b[39m  \u001b[4m1\u001b[24m925 F     Mary     \u001b[4m7\u001b[24m\u001b[4m0\u001b[24m597 0.055\u001b[4m9\u001b[24m\n",
            "\u001b[90m2\u001b[39m  \u001b[4m1\u001b[24m925 F     Dorothy  \u001b[4m3\u001b[24m\u001b[4m8\u001b[24m570 0.030\u001b[4m5\u001b[24m\n",
            "\u001b[90m3\u001b[39m  \u001b[4m1\u001b[24m925 F     Betty    \u001b[4m3\u001b[24m\u001b[4m2\u001b[24m813 0.026\u001b[4m0\u001b[24m\n",
            "\u001b[90m4\u001b[39m  \u001b[4m1\u001b[24m925 F     Helen    \u001b[4m2\u001b[24m\u001b[4m9\u001b[24m170 0.023\u001b[4m1\u001b[24m\n",
            "\u001b[90m5\u001b[39m  \u001b[4m1\u001b[24m925 F     Margaret \u001b[4m2\u001b[24m\u001b[4m4\u001b[24m464 0.019\u001b[4m4\u001b[24m\n"
          ]
        }
      ],
      "source": [
        "# Solution:\n",
        "\n",
        " babynames%>%\n",
        "  filter(year==1925 & sex==\"M\")%>%\n",
        "  top_n(5)%>%\n",
        "  print\n",
        "\n",
        "babynames%>%\n",
        "  filter(year==1925 & sex==\"F\")%>%\n",
        "  top_n(5)%>%\n",
        "  print\n",
        "\n",
        "# The top 5 most popular names for boys: Robert, John, William, James, Charles\n",
        "# Top 5 most popular names for girls: Mary, Dorothy, Betty, Helen, Margaret "
      ]
    },
    {
      "cell_type": "markdown",
      "metadata": {
        "deletable": false,
        "editable": false,
        "id": "MLvlqfGfKZUw"
      },
      "source": [
        "**(b)** Use `ggplot` to create a plot of the frequency of the name \"Arya\" over the years among boys and girls, respectively. Does anything noteworthy jump out at you from the plot? Can you explain why this happened? _1 point_"
      ]
    },
    {
      "cell_type": "code",
      "execution_count": null,
      "metadata": {
        "id": "cmmRwW-iKZUw",
        "colab": {
          "base_uri": "https://localhost:8080/",
          "height": 257
        },
        "outputId": "801109ca-385d-40ff-aca6-7f6c652ea4e6"
      },
      "outputs": [
        {
          "output_type": "display_data",
          "data": {
            "text/plain": [
              "plot without title"
            ],
            "image/png": "[encoded data removed]"
          },
          "metadata": {
            "image/png": {
              "width": 300,
              "height": 240
            }
          }
        }
      ],
      "source": [
        "# Solution:\n",
        "\n",
        "babynames%>%\n",
        "  filter(name==\"Arya\")%>%\n",
        "  ggplot(aes(x=year,y=n,color=sex))+\n",
        "  geom_line()\n",
        "\n",
        "# The noteworthy thing from this plot is that the name \"Arya\" used to be common\n",
        "# amongst both males and females, but eventually, it became a dominantly female \n",
        "# name, starting around 2003. Something must have happened around 2003, perhaps in\n",
        "# pop culture that caused \"Arya\" to be associated with females. "
      ]
    },
    {
      "cell_type": "markdown",
      "metadata": {
        "deletable": false,
        "editable": false,
        "id": "T8gopxWmKZUx"
      },
      "source": [
        "**(c)** Define a name to be \"timeless\" if it was among the ten most popular names in both 2015 and 1915. How many timeless names are there, and what are they? _2 points_"
      ]
    },
    {
      "cell_type": "code",
      "execution_count": null,
      "metadata": {
        "id": "LgsHJ4etKZUx",
        "colab": {
          "base_uri": "https://localhost:8080/",
          "height": 165
        },
        "outputId": "9ccb5f2d-33ff-4ebd-e586-43ed0e746477"
      },
      "outputs": [
        {
          "output_type": "stream",
          "name": "stderr",
          "text": [
            "\u001b[1m\u001b[22mSelecting by prop\n",
            "\u001b[1m\u001b[22mSelecting by prop\n"
          ]
        },
        {
          "output_type": "display_data",
          "data": {
            "text/html": [
              "<table class=\"dataframe\">\n",
              "<caption>A tibble: 1 × 2</caption>\n",
              "<thead>\n",
              "\t<tr><th scope=col>name</th><th scope=col>n</th></tr>\n",
              "\t<tr><th scope=col>&lt;chr&gt;</th><th scope=col>&lt;int&gt;</th></tr>\n",
              "</thead>\n",
              "<tbody>\n",
              "\t<tr><td>William</td><td>1</td></tr>\n",
              "</tbody>\n",
              "</table>\n"
            ],
            "text/markdown": "\nA tibble: 1 × 2\n\n| name &lt;chr&gt; | n &lt;int&gt; |\n|---|---|\n| William | 1 |\n\n",
            "text/latex": "A tibble: 1 × 2\n\\begin{tabular}{ll}\n name & n\\\\\n <chr> & <int>\\\\\n\\hline\n\t William & 1\\\\\n\\end{tabular}\n",
            "text/plain": [
              "  name    n\n",
              "1 William 1"
            ]
          },
          "metadata": {}
        }
      ],
      "source": [
        "# Solution:\n",
        "\n",
        "df1<-babynames%>%\n",
        "  filter(year==\"2015\")%>%\n",
        "  top_n(10)%>%\n",
        "  count(name)\n",
        "\n",
        "df2<-babynames%>%\n",
        "  filter(year==\"1915\")%>%\n",
        "  top_n(10)%>%\n",
        "  count(name)\n",
        "\n",
        "intersect(df1,df2)\n",
        "\n",
        "# Only one timeless name: William "
      ]
    },
    {
      "cell_type": "markdown",
      "metadata": {
        "deletable": false,
        "editable": false,
        "nbgrader": {
          "grade": false,
          "grade_id": "cell-9ea1f017dd33edff",
          "locked": true,
          "schema_version": 3,
          "solution": false
        },
        "id": "36-QeKz9KZUx"
      },
      "source": [
        "## Problem 2: Manipulating `flights` (4 points)\n",
        "This problem contines with the `flights` table that we saw this week in lecture. Recall that we first need to load this database by typing:"
      ]
    },
    {
      "cell_type": "code",
      "execution_count": null,
      "metadata": {
        "id": "aNhyxy60KZUy"
      },
      "outputs": [],
      "source": [
        "library(nycflights13)"
      ]
    },
    {
      "cell_type": "markdown",
      "metadata": {
        "deletable": false,
        "editable": false,
        "id": "7u9OEtakKZUy"
      },
      "source": [
        "(If you are running on Google Colab, you will also need to install this package each time you start the notebook.)"
      ]
    },
    {
      "cell_type": "markdown",
      "metadata": {
        "deletable": false,
        "editable": false,
        "nbgrader": {
          "grade": false,
          "grade_id": "cell-8128530d2118c4da",
          "locked": true,
          "schema_version": 3,
          "solution": false
        },
        "id": "mNyHCOxlKZUy"
      },
      "source": [
        "**(a)** Use `filter()` to find all the flights that had an arrival delay of more than two hours. How many of these flights were there? *1/2 point*"
      ]
    },
    {
      "cell_type": "code",
      "execution_count": null,
      "metadata": {
        "id": "cuE1zOpbKZUy",
        "colab": {
          "base_uri": "https://localhost:8080/",
          "height": 147
        },
        "outputId": "3a076542-621a-4f3c-b1ba-44d371d7d033"
      },
      "outputs": [
        {
          "output_type": "display_data",
          "data": {
            "text/html": [
              "<table class=\"dataframe\">\n",
              "<caption>A tibble: 1 × 1</caption>\n",
              "<thead>\n",
              "\t<tr><th scope=col>n</th></tr>\n",
              "\t<tr><th scope=col>&lt;int&gt;</th></tr>\n",
              "</thead>\n",
              "<tbody>\n",
              "\t<tr><td>10034</td></tr>\n",
              "</tbody>\n",
              "</table>\n"
            ],
            "text/markdown": "\nA tibble: 1 × 1\n\n| n &lt;int&gt; |\n|---|\n| 10034 |\n\n",
            "text/latex": "A tibble: 1 × 1\n\\begin{tabular}{l}\n n\\\\\n <int>\\\\\n\\hline\n\t 10034\\\\\n\\end{tabular}\n",
            "text/plain": [
              "  n    \n",
              "1 10034"
            ]
          },
          "metadata": {}
        }
      ],
      "source": [
        "# Solution:\n",
        "\n",
        "flights%>%\n",
        "  filter(arr_delay>120)%>%\n",
        "  count\n",
        "\n",
        "# 10,034 flights had an arrival delay of more than two hours "
      ]
    },
    {
      "cell_type": "markdown",
      "metadata": {
        "deletable": false,
        "editable": false,
        "id": "GCTS3NhqKZUy"
      },
      "source": [
        "**(b)** Was there a flight scheduled on every day of 2013? If so, write code that verifies this. If not, write code that shows which days had no scheduled flights. *1/2 point*"
      ]
    },
    {
      "cell_type": "code",
      "execution_count": null,
      "metadata": {
        "id": "5p6eqGlwKZUz",
        "colab": {
          "base_uri": "https://localhost:8080/",
          "height": 34
        },
        "outputId": "6864311d-ccdc-48fc-8790-43edb0eee7ec"
      },
      "outputs": [
        {
          "output_type": "display_data",
          "data": {
            "text/html": [
              "365"
            ],
            "text/markdown": "365",
            "text/latex": "365",
            "text/plain": [
              "[1] 365"
            ]
          },
          "metadata": {}
        }
      ],
      "source": [
        "# Solution:\n",
        "\n",
        "flights%>%\n",
        "  filter(year==2013,na.rm=TRUE)%>%\n",
        "  group_by(year,month,day)%>%\n",
        "  distinct(day)%>%\n",
        "  nrow\n",
        "\n",
        "# 365 days so yes, there was a flight scheduled on every day of 2013 "
      ]
    },
    {
      "cell_type": "markdown",
      "metadata": {
        "deletable": false,
        "editable": false,
        "id": "u9vK9i6AaQlG"
      },
      "source": [
        "**(c)** Say you want to maximize your chance of taking a flight that leaves on time (or early). Which airport and carrier should you choose? (For example, \"UA departing out of EWR\"). Support your reasoning with code. 1 point"
      ]
    },
    {
      "cell_type": "code",
      "source": [
        "# Solution:\n",
        "\n",
        "# Proportion Early Angle:\n",
        "flights%>%\n",
        "  mutate(early=if_else(dep_delay<=0, 1, 0, missing=NULL))%>%\n",
        "  group_by(origin,carrier)%>%\n",
        "  summarize(reliability=mean(early))%>%\n",
        "  filter(!is.na(reliability))%>%\n",
        "  arrange(desc(reliability))%>%\n",
        "  print\n",
        "\n",
        "# Proportion Delayed Angle: \n",
        "flights%>%\n",
        "  group_by(carrier,origin)%>%\n",
        "  summarize(delayed=sum(dep_delay>0,na.rm=TRUE),total_count=n(),.before=1)%>%\n",
        "  mutate(prop_delayed=delayed/total_count)%>%\n",
        "  arrange(prop_delayed)%>%\n",
        "  print\n",
        "\n",
        "# HA departing out of JFK if you want to maximize your chance of taking a flight that leaves early "
      ],
      "metadata": {
        "colab": {
          "base_uri": "https://localhost:8080/"
        },
        "id": "n8IgNxK4M7iv",
        "outputId": "9e2e3e7f-5110-41a0-d53e-8b4b362d6b21"
      },
      "execution_count": null,
      "outputs": [
        {
          "output_type": "stream",
          "name": "stderr",
          "text": [
            "\u001b[1m\u001b[22m`summarise()` has grouped output by 'origin'. You can override using the\n",
            "`.groups` argument.\n"
          ]
        },
        {
          "output_type": "stream",
          "name": "stdout",
          "text": [
            "\u001b[90m# A tibble: 2 × 3\u001b[39m\n",
            "\u001b[90m# Groups:   origin [2]\u001b[39m\n",
            "  origin carrier reliability\n",
            "  \u001b[3m\u001b[90m<chr>\u001b[39m\u001b[23m  \u001b[3m\u001b[90m<chr>\u001b[39m\u001b[23m         \u001b[3m\u001b[90m<dbl>\u001b[39m\u001b[23m\n",
            "\u001b[90m1\u001b[39m JFK    HA            0.798\n",
            "\u001b[90m2\u001b[39m EWR    OO            0.5  \n"
          ]
        },
        {
          "output_type": "stream",
          "name": "stderr",
          "text": [
            "\u001b[1m\u001b[22m`summarise()` has grouped output by 'carrier'. You can override using the\n",
            "`.groups` argument.\n"
          ]
        },
        {
          "output_type": "stream",
          "name": "stdout",
          "text": [
            "\u001b[90m# A tibble: 35 × 6\u001b[39m\n",
            "\u001b[90m# Groups:   carrier [16]\u001b[39m\n",
            "   carrier origin delayed total_count .before prop_delayed\n",
            "   \u001b[3m\u001b[90m<chr>\u001b[39m\u001b[23m   \u001b[3m\u001b[90m<chr>\u001b[39m\u001b[23m    \u001b[3m\u001b[90m<int>\u001b[39m\u001b[23m       \u001b[3m\u001b[90m<int>\u001b[39m\u001b[23m   \u001b[3m\u001b[90m<dbl>\u001b[39m\u001b[23m        \u001b[3m\u001b[90m<dbl>\u001b[39m\u001b[23m\n",
            "\u001b[90m 1\u001b[39m HA      JFK         69         342       1        0.202\n",
            "\u001b[90m 2\u001b[39m 9E      EWR        267        \u001b[4m1\u001b[24m268       1        0.211\n",
            "\u001b[90m 3\u001b[39m US      LGA       \u001b[4m2\u001b[24m831       \u001b[4m1\u001b[24m\u001b[4m3\u001b[24m136       1        0.216\n",
            "\u001b[90m 4\u001b[39m US      EWR       \u001b[4m1\u001b[24m000        \u001b[4m4\u001b[24m405       1        0.227\n",
            "\u001b[90m 5\u001b[39m OO      LGA          6          26       1        0.231\n",
            "\u001b[90m 6\u001b[39m AA      LGA       \u001b[4m4\u001b[24m168       \u001b[4m1\u001b[24m\u001b[4m5\u001b[24m459       1        0.270\n",
            "\u001b[90m 7\u001b[39m AA      EWR        968        \u001b[4m3\u001b[24m487       1        0.278\n",
            "\u001b[90m 8\u001b[39m MQ      LGA       \u001b[4m4\u001b[24m777       \u001b[4m1\u001b[24m\u001b[4m6\u001b[24m928       1        0.282\n",
            "\u001b[90m 9\u001b[39m 9E      LGA        720        \u001b[4m2\u001b[24m541       1        0.283\n",
            "\u001b[90m10\u001b[39m DL      EWR       \u001b[4m1\u001b[24m313        \u001b[4m4\u001b[24m342       1        0.302\n",
            "\u001b[90m# … with 25 more rows\u001b[39m\n"
          ]
        }
      ]
    },
    {
      "cell_type": "markdown",
      "metadata": {
        "deletable": false,
        "editable": false,
        "id": "mIX4fypzKZUz"
      },
      "source": [
        "**(d)** What time of day should you fly if you want to avoid delays as much as possible? _2 points_ (This question is intentionally open-ended. There is no one correct answer. Use the data and the commands we have learned to argue your case.)"
      ]
    },
    {
      "cell_type": "code",
      "source": [
        "# Solution:\n",
        "\n",
        "df3<-flights\n",
        "df3$delay<-if_else(df3$dep_delay>=0,1,0)\n",
        "table(df3$delay) # There were 183,575 not delayed flights \n",
        "\n",
        "df4<-filter(df3,delay==0) # New df with only not delayed flights \n",
        "\n",
        "df4$hour<-if_else((df4$dep_time %in% 4:459),4,\n",
        "if_else((df4$dep_time %in% 5:559),5,\n",
        "if_else((df4$dep_time %in% 6:659),6,\n",
        "if_else((df4$dep_time %in% 7:759),7,\n",
        "if_else((df4$dep_time %in% 8:859),8,\n",
        "if_else((df4$dep_time %in% 9:959),9,\n",
        "if_else((df4$dep_time %in% 10:1059),10,\n",
        "if_else((df4$dep_time %in% 11:1159),11,\n",
        "if_else((df4$dep_time %in% 12:1259),12,\n",
        "if_else((df4$dep_time %in% 13:1359),13,\n",
        "if_else((df4$dep_time %in% 14:1459),14,\n",
        "if_else((df4$dep_time %in% 15:1559),15,\n",
        "if_else((df4$dep_time %in% 16:1659),16,\n",
        "if_else((df4$dep_time %in% 17:1759),17,\n",
        "if_else((df4$dep_time %in% 18:1859),18,\n",
        "if_else((df4$dep_time %in% 19:1959),19,\n",
        "if_else((df4$dep_time %in% 20:2059),20,\n",
        "if_else((df4$dep_time %in% 21:2159),21,\n",
        "if_else((df4$dep_time %in% 22:2259),22,\n",
        "if_else((df4$dep_time %in% 23:2359),23,0)))))))))))))))))))) # New variable that counts the number of not delayed flights for each hour \n",
        "\n",
        "df4%>%\n",
        "  count(hour)%>%\n",
        "  arrange(desc(n))%>%\n",
        "  print \n",
        "\n",
        "# The highest number of not delayed flights occurred at 8am, so maybe that is the best time to fly to avoid delays"
      ],
      "metadata": {
        "colab": {
          "base_uri": "https://localhost:8080/",
          "height": 481
        },
        "id": "rmmShDCt9Esp",
        "outputId": "99349eb6-05aa-49ab-95e7-315d6d32355a"
      },
      "execution_count": null,
      "outputs": [
        {
          "output_type": "display_data",
          "data": {
            "text/plain": [
              "\n",
              "     0      1 \n",
              "183575 144946 "
            ]
          },
          "metadata": {}
        },
        {
          "output_type": "stream",
          "name": "stdout",
          "text": [
            "\u001b[90m# A tibble: 20 × 2\u001b[39m\n",
            "    hour     n\n",
            "   \u001b[3m\u001b[90m<dbl>\u001b[39m\u001b[23m \u001b[3m\u001b[90m<int>\u001b[39m\u001b[23m\n",
            "\u001b[90m 1\u001b[39m     8 \u001b[4m1\u001b[24m\u001b[4m8\u001b[24m818\n",
            "\u001b[90m 2\u001b[39m     6 \u001b[4m1\u001b[24m\u001b[4m7\u001b[24m088\n",
            "\u001b[90m 3\u001b[39m     7 \u001b[4m1\u001b[24m\u001b[4m5\u001b[24m617\n",
            "\u001b[90m 4\u001b[39m     9 \u001b[4m1\u001b[24m\u001b[4m2\u001b[24m311\n",
            "\u001b[90m 5\u001b[39m    14 \u001b[4m1\u001b[24m\u001b[4m1\u001b[24m813\n",
            "\u001b[90m 6\u001b[39m    11 \u001b[4m1\u001b[24m\u001b[4m1\u001b[24m168\n",
            "\u001b[90m 7\u001b[39m    15 \u001b[4m1\u001b[24m\u001b[4m1\u001b[24m046\n",
            "\u001b[90m 8\u001b[39m    16 \u001b[4m1\u001b[24m\u001b[4m0\u001b[24m548\n",
            "\u001b[90m 9\u001b[39m    10 \u001b[4m1\u001b[24m\u001b[4m0\u001b[24m256\n",
            "\u001b[90m10\u001b[39m    18 \u001b[4m1\u001b[24m\u001b[4m0\u001b[24m176\n",
            "\u001b[90m11\u001b[39m    12  \u001b[4m9\u001b[24m536\n",
            "\u001b[90m12\u001b[39m    17  \u001b[4m9\u001b[24m422\n",
            "\u001b[90m13\u001b[39m    13  \u001b[4m8\u001b[24m842\n",
            "\u001b[90m14\u001b[39m    19  \u001b[4m8\u001b[24m470\n",
            "\u001b[90m15\u001b[39m     5  \u001b[4m6\u001b[24m772\n",
            "\u001b[90m16\u001b[39m    20  \u001b[4m6\u001b[24m457\n",
            "\u001b[90m17\u001b[39m    21  \u001b[4m3\u001b[24m152\n",
            "\u001b[90m18\u001b[39m    22  \u001b[4m1\u001b[24m257\n",
            "\u001b[90m19\u001b[39m    23   521\n",
            "\u001b[90m20\u001b[39m     4   305\n"
          ]
        }
      ]
    },
    {
      "cell_type": "markdown",
      "metadata": {
        "deletable": false,
        "editable": false,
        "id": "qA7jz8ZvKZU0"
      },
      "source": [
        "## Problem 3: Challenge problem (3 points)\n",
        "Define a flight to be *spooky* if it was in transit at 13:13h (i.e. 1:13pm) on Friday the 13th of any month. You should assume that a flight is in transit between its `dep_time` and its `arr_time`. How many spooky flights are there in the dataset?"
      ]
    },
    {
      "cell_type": "code",
      "source": [
        "# Solution: \n",
        "\n",
        "df5<-flights\n",
        "df5<-filter(df5, (month==12 & day==13) | (month==9 & day==13))\n",
        "glimpse(df5) # 1966 total flights occurred on 9/13/13 & 12/13/13\n",
        "\n",
        "df5$transit<-if_else((df5$dep_time<=1313)&(df5$arr_time>=1313),1,0) # New variable that says whether the flights were in transit at 13:13\n",
        "\n",
        "df6<-filter(df5,!is.na(transit)) \n",
        "\n",
        "df6%>%\n",
        "  count(transit)%>%\n",
        "  print \n",
        "\n",
        "# 236 flights were in transit at 13:13 on the Fridays the 13th"
      ],
      "metadata": {
        "colab": {
          "base_uri": "https://localhost:8080/"
        },
        "id": "_2SDfEy4FueT",
        "outputId": "6a8372f8-2887-4692-abe5-6379e477f455"
      },
      "execution_count": null,
      "outputs": [
        {
          "output_type": "stream",
          "name": "stdout",
          "text": [
            "Rows: 1,966\n",
            "Columns: 19\n",
            "$ year           \u001b[3m\u001b[90m<int>\u001b[39m\u001b[23m 2013, 2013, 2013, 2013, 2013, 2013, 2013, 2013, 2013, 2…\n",
            "$ month          \u001b[3m\u001b[90m<int>\u001b[39m\u001b[23m 12, 12, 12, 12, 12, 12, 12, 12, 12, 12, 12, 12, 12, 12,…\n",
            "$ day            \u001b[3m\u001b[90m<int>\u001b[39m\u001b[23m 13, 13, 13, 13, 13, 13, 13, 13, 13, 13, 13, 13, 13, 13,…\n",
            "$ dep_time       \u001b[3m\u001b[90m<int>\u001b[39m\u001b[23m 15, 120, 455, 518, 540, 540, 547, 551, 552, 555, 555, 5…\n",
            "$ sched_dep_time \u001b[3m\u001b[90m<int>\u001b[39m\u001b[23m 2359, 2159, 500, 515, 540, 550, 545, 600, 600, 600, 605…\n",
            "$ dep_delay      \u001b[3m\u001b[90m<dbl>\u001b[39m\u001b[23m 16, 201, -5, 3, 0, -10, 2, -9, -8, -5, -10, -4, -4, -4,…\n",
            "$ arr_time       \u001b[3m\u001b[90m<int>\u001b[39m\u001b[23m 451, 218, 639, 757, 827, 1015, 822, 749, 651, 819, 713,…\n",
            "$ sched_arr_time \u001b[3m\u001b[90m<int>\u001b[39m\u001b[23m 445, 2307, 651, 814, 850, 1027, 832, 755, 659, 835, 724…\n",
            "$ arr_delay      \u001b[3m\u001b[90m<dbl>\u001b[39m\u001b[23m 6, 191, -12, -17, -23, -12, -10, -6, -8, -16, -11, -4, …\n",
            "$ carrier        \u001b[3m\u001b[90m<chr>\u001b[39m\u001b[23m \"B6\", \"9E\", \"US\", \"UA\", \"AA\", \"B6\", \"UA\", \"DL\", \"US\", \"…\n",
            "$ flight         \u001b[3m\u001b[90m<int>\u001b[39m\u001b[23m 745, 3525, 1895, 1012, 2243, 939, 559, 731, 2167, 904, …\n",
            "$ tailnum        \u001b[3m\u001b[90m<chr>\u001b[39m\u001b[23m \"N712JB\", \"N901XJ\", \"N165US\", \"N76526\", \"N5CFAA\", \"N524…\n",
            "$ origin         \u001b[3m\u001b[90m<chr>\u001b[39m\u001b[23m \"JFK\", \"LGA\", \"EWR\", \"EWR\", \"JFK\", \"JFK\", \"LGA\", \"LGA\",…\n",
            "$ dest           \u001b[3m\u001b[90m<chr>\u001b[39m\u001b[23m \"PSE\", \"SYR\", \"CLT\", \"IAH\", \"MIA\", \"BQN\", \"IAH\", \"DTW\",…\n",
            "$ air_time       \u001b[3m\u001b[90m<dbl>\u001b[39m\u001b[23m 199, 37, 78, 196, 145, 191, 195, 100, 41, 115, 47, 130,…\n",
            "$ distance       \u001b[3m\u001b[90m<dbl>\u001b[39m\u001b[23m 1617, 198, 529, 1400, 1089, 1576, 1416, 502, 214, 762, …\n",
            "$ hour           \u001b[3m\u001b[90m<dbl>\u001b[39m\u001b[23m 23, 21, 5, 5, 5, 5, 5, 6, 6, 6, 6, 6, 6, 6, 6, 5, 6, 6,…\n",
            "$ minute         \u001b[3m\u001b[90m<dbl>\u001b[39m\u001b[23m 59, 59, 0, 15, 40, 50, 45, 0, 0, 0, 5, 0, 0, 0, 0, 59, …\n",
            "$ time_hour      \u001b[3m\u001b[90m<dttm>\u001b[39m\u001b[23m 2013-12-13 23:00:00, 2013-12-13 21:00:00, 2013-12-13 0…\n",
            "\u001b[90m# A tibble: 2 × 2\u001b[39m\n",
            "  transit     n\n",
            "    \u001b[3m\u001b[90m<dbl>\u001b[39m\u001b[23m \u001b[3m\u001b[90m<int>\u001b[39m\u001b[23m\n",
            "\u001b[90m1\u001b[39m       0  \u001b[4m1\u001b[24m703\n",
            "\u001b[90m2\u001b[39m       1   236\n"
          ]
        }
      ]
    }
  ],
  "metadata": {
    "celltoolbar": "Create Assignment",
    "kernelspec": {
      "display_name": "R",
      "language": "R",
      "name": "ir"
    },
    "language_info": {
      "codemirror_mode": "r",
      "file_extension": ".r",
      "mimetype": "text/x-r-source",
      "name": "R",
      "pygments_lexer": "r",
      "version": "4.2.2"
    },
    "colab": {
      "provenance": [],
      "include_colab_link": true
    }
  },
  "nbformat": 4,
  "nbformat_minor": 0
}