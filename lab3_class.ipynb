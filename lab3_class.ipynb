{
  "cells": [
    {
      "cell_type": "markdown",
      "metadata": {
        "id": "view-in-github",
        "colab_type": "text"
      },
      "source": [
        "<a href=\"https://colab.research.google.com/github/sharonma1218/stats-306/blob/main/lab3_class.ipynb\" target=\"_parent\"><img src=\"https://colab.research.google.com/assets/colab-badge.svg\" alt=\"Open In Colab\"/></a>"
      ]
    },
    {
      "cell_type": "markdown",
      "metadata": {
        "id": "VH9u3NLJVjIa"
      },
      "source": [
        "# Lab 3: dplyr: A Deep Dive on `group_by()` and `summarize()`"
      ]
    },
    {
      "cell_type": "code",
      "execution_count": 1,
      "metadata": {
        "colab": {
          "base_uri": "https://localhost:8080/"
        },
        "id": "TjwMckBEVjIc",
        "outputId": "2220e44b-de6f-4246-b47d-c4afcf76fa5f"
      },
      "outputs": [
        {
          "output_type": "stream",
          "name": "stderr",
          "text": [
            "Installing package into ‘/usr/local/lib/R/site-library’\n",
            "(as ‘lib’ is unspecified)\n",
            "\n",
            "Installing package into ‘/usr/local/lib/R/site-library’\n",
            "(as ‘lib’ is unspecified)\n",
            "\n",
            "Installing package into ‘/usr/local/lib/R/site-library’\n",
            "(as ‘lib’ is unspecified)\n",
            "\n",
            "Installing package into ‘/usr/local/lib/R/site-library’\n",
            "(as ‘lib’ is unspecified)\n",
            "\n"
          ]
        }
      ],
      "source": [
        "# install packages\n",
        "install.packages('ggplot2')\n",
        "install.packages('dplyr')\n",
        "install.packages('palmerpenguins')\n",
        "install.packages('nycflights13')"
      ]
    },
    {
      "cell_type": "code",
      "execution_count": 2,
      "metadata": {
        "colab": {
          "base_uri": "https://localhost:8080/"
        },
        "id": "q6wS50CeVjId",
        "outputId": "0f38f79b-431d-40f5-a37b-0f5729168972"
      },
      "outputs": [
        {
          "output_type": "stream",
          "name": "stderr",
          "text": [
            "\n",
            "Attaching package: ‘dplyr’\n",
            "\n",
            "\n",
            "The following objects are masked from ‘package:stats’:\n",
            "\n",
            "    filter, lag\n",
            "\n",
            "\n",
            "The following objects are masked from ‘package:base’:\n",
            "\n",
            "    intersect, setdiff, setequal, union\n",
            "\n",
            "\n"
          ]
        }
      ],
      "source": [
        "# load packages\n",
        "options(warn=-1)\n",
        "library(ggplot2)\n",
        "library(dplyr)\n",
        "library(palmerpenguins)\n",
        "library(nycflights13)"
      ]
    },
    {
      "cell_type": "markdown",
      "metadata": {
        "id": "QYgQ6Np8VjId"
      },
      "source": [
        "## Lab 2 review\n",
        "- **ggplot**\n",
        "    - Key Components: \n",
        "      - Data\n",
        "      - Aesthetic Mapping\n",
        "      - Layer(s) of (geom)etric Objects\n",
        "    - Plots Covered:\n",
        "      - Scatterplot (geom_point)\n",
        "      - Boxplot (geom_boxplot)\n",
        "      - Barplot (geom_bar)\n",
        "      - Histogram (geom_histogram)\n",
        "      - Density (geom_density)\n",
        "\n",
        "- **dplyr**\n",
        "    - Work Flow: Input Dataframe -> Operation -> New Output Dataframe\n",
        "    - Core Functions: \n",
        "      - Select \n",
        "      - Filter\n",
        "      - Arrange\n",
        "      - Mutate \n",
        "      - Summarise\n",
        "      \n",
        "Which functions are for row manipulation, and which functions are for column manipulation?"
      ]
    },
    {
      "cell_type": "markdown",
      "metadata": {
        "id": "YzaMNdORVjId"
      },
      "source": [
        "### Exercise 1: Layering Geometric Object \n",
        "Make a scatterplot of bill_depth_mm vs. bill_length_mm and color the points by species. What does adding coloring by species reveal about the relationship between these two variables?"
      ]
    },
    {
      "cell_type": "code",
      "source": [
        "glimpse(penguins)"
      ],
      "metadata": {
        "colab": {
          "base_uri": "https://localhost:8080/"
        },
        "id": "U64T5NLAMHdn",
        "outputId": "c951cbe7-9114-44bb-c051-6b127da530de"
      },
      "execution_count": 5,
      "outputs": [
        {
          "output_type": "stream",
          "name": "stdout",
          "text": [
            "Rows: 344\n",
            "Columns: 8\n",
            "$ species           \u001b[3m\u001b[90m<fct>\u001b[39m\u001b[23m Adelie, Adelie, Adelie, Adelie, Adelie, Adelie, Adel…\n",
            "$ island            \u001b[3m\u001b[90m<fct>\u001b[39m\u001b[23m Torgersen, Torgersen, Torgersen, Torgersen, Torgerse…\n",
            "$ bill_length_mm    \u001b[3m\u001b[90m<dbl>\u001b[39m\u001b[23m 39.1, 39.5, 40.3, NA, 36.7, 39.3, 38.9, 39.2, 34.1, …\n",
            "$ bill_depth_mm     \u001b[3m\u001b[90m<dbl>\u001b[39m\u001b[23m 18.7, 17.4, 18.0, NA, 19.3, 20.6, 17.8, 19.6, 18.1, …\n",
            "$ flipper_length_mm \u001b[3m\u001b[90m<int>\u001b[39m\u001b[23m 181, 186, 195, NA, 193, 190, 181, 195, 193, 190, 186…\n",
            "$ body_mass_g       \u001b[3m\u001b[90m<int>\u001b[39m\u001b[23m 3750, 3800, 3250, NA, 3450, 3650, 3625, 4675, 3475, …\n",
            "$ sex               \u001b[3m\u001b[90m<fct>\u001b[39m\u001b[23m male, female, female, NA, female, male, female, male…\n",
            "$ year              \u001b[3m\u001b[90m<int>\u001b[39m\u001b[23m 2007, 2007, 2007, 2007, 2007, 2007, 2007, 2007, 2007…\n"
          ]
        }
      ]
    },
    {
      "cell_type": "code",
      "execution_count": 13,
      "metadata": {
        "colab": {
          "base_uri": "https://localhost:8080/",
          "height": 437
        },
        "id": "vtAAgKEfVjIe",
        "outputId": "becc68e1-5010-487a-89f7-5016d582024a"
      },
      "outputs": [
        {
          "output_type": "display_data",
          "data": {
            "text/plain": [
              "plot without title"
            ],
            "image/png": "[encoded data removed]"
          },
          "metadata": {
            "image/png": {
              "width": 420,
              "height": 420
            }
          }
        }
      ],
      "source": [
        "## Your Answer\n",
        "ggplot(penguins)+\n",
        "  geom_point(aes(x=bill_depth_mm,y=bill_length_mm,color=species))+\n",
        "  labs(title='Penguins',x='Bbill Depth (mm)',y='Bill Length (mm)')+\n",
        "  theme_linedraw()"
      ]
    },
    {
      "cell_type": "code",
      "source": [
        "## Another Way\n",
        "ggplot(penguins,aes(x=bill_depth_mm,y=bill_length_mm,color=species))+\n",
        "  geom_point()+\n",
        "  ggtitle('Penguins')"
      ],
      "metadata": {
        "colab": {
          "base_uri": "https://localhost:8080/",
          "height": 437
        },
        "id": "0v3t7Dv3MeWf",
        "outputId": "207258c1-9f5d-4da9-abc2-5c9d68c14ee9"
      },
      "execution_count": 15,
      "outputs": [
        {
          "output_type": "display_data",
          "data": {
            "text/plain": [
              "plot without title"
            ],
            "image/png": "[encoded data removed]"
          },
          "metadata": {
            "image/png": {
              "width": 420,
              "height": 420
            }
          }
        }
      ]
    },
    {
      "cell_type": "markdown",
      "metadata": {
        "id": "rS2uZOEgVjIe"
      },
      "source": [
        "### Exercise 2: Plotting Barplots, Histograms, and Boxplots\n",
        "Create the following grahics:\n",
        "\n",
        "1. A barplot for the counts of `species` subvided by island of which **the bars are not overlapped**."
      ]
    },
    {
      "cell_type": "code",
      "execution_count": 19,
      "metadata": {
        "colab": {
          "base_uri": "https://localhost:8080/",
          "height": 437
        },
        "id": "SPLJzM0kVjIe",
        "outputId": "533fc185-d771-4ac5-e7e5-8e429f422333"
      },
      "outputs": [
        {
          "output_type": "display_data",
          "data": {
            "text/plain": [
              "plot without title"
            ],
            "image/png": "[encoded data removed]"
          },
          "metadata": {
            "image/png": {
              "width": 420,
              "height": 420
            }
          }
        }
      ],
      "source": [
        "## Your Answer\n",
        "ggplot(penguins)+\n",
        "  geom_bar(aes(x=species,fill=island),position='dodge')"
      ]
    },
    {
      "cell_type": "markdown",
      "metadata": {
        "id": "2Y1sXFLvVjIe"
      },
      "source": [
        "2. A histogram plot for `body_mass_g`"
      ]
    },
    {
      "cell_type": "code",
      "execution_count": 21,
      "metadata": {
        "colab": {
          "base_uri": "https://localhost:8080/",
          "height": 437
        },
        "id": "IClxGLF0VjIe",
        "outputId": "d6af99d4-4814-4050-9da6-eb3a23a5256b"
      },
      "outputs": [
        {
          "output_type": "display_data",
          "data": {
            "text/plain": [
              "plot without title"
            ],
            "image/png": "[encoded data removed]"
          },
          "metadata": {
            "image/png": {
              "width": 420,
              "height": 420
            }
          }
        }
      ],
      "source": [
        "## Your Answer\n",
        "ggplot(data=penguins)+\n",
        "  geom_histogram(aes(x=body_mass_g),binwidth = 100)"
      ]
    },
    {
      "cell_type": "code",
      "source": [
        "ggplot(data=penguins)+\n",
        "  geom_histogram(aes(x=body_mass_g),binwidth = 10) # thin bars"
      ],
      "metadata": {
        "colab": {
          "base_uri": "https://localhost:8080/",
          "height": 437
        },
        "id": "9BeEH1u8OFWb",
        "outputId": "b91cea3e-cf24-44d4-a079-dc0ae7966c66"
      },
      "execution_count": 22,
      "outputs": [
        {
          "output_type": "display_data",
          "data": {
            "text/plain": [
              "plot without title"
            ],
            "image/png": "[encoded data removed]"
          },
          "metadata": {
            "image/png": {
              "width": 420,
              "height": 420
            }
          }
        }
      ]
    },
    {
      "cell_type": "code",
      "source": [
        "ggplot(data=penguins)+\n",
        "  geom_histogram(aes(x=body_mass_g),binwidth = 200) # wide bars; you can only do either bins or binwidth "
      ],
      "metadata": {
        "colab": {
          "base_uri": "https://localhost:8080/",
          "height": 437
        },
        "id": "xmHcEYMwOITq",
        "outputId": "a72c54f3-f4d0-413d-8f99-0f4a76120a2d"
      },
      "execution_count": 24,
      "outputs": [
        {
          "output_type": "display_data",
          "data": {
            "text/plain": [
              "plot without title"
            ],
            "image/png": "[encoded data removed]"
          },
          "metadata": {
            "image/png": {
              "width": 420,
              "height": 420
            }
          }
        }
      ]
    },
    {
      "cell_type": "markdown",
      "metadata": {
        "id": "GbeZxakSVjIf"
      },
      "source": [
        "3. A boxplot that explores the relationship between penguins's `sex` and `body_mass_g` **where the penguins' sex is the y-axis**."
      ]
    },
    {
      "cell_type": "code",
      "source": [
        "ggplot(penguins)+ # notice that there are NAs in orig graph so remove them\n",
        "  geom_boxplot(aes(x=sex,y=body_mass_g,fill='red'))+\n",
        "  coord_flip()"
      ],
      "metadata": {
        "colab": {
          "base_uri": "https://localhost:8080/",
          "height": 437
        },
        "id": "U2fYyFVEOxed",
        "outputId": "a8fe41cf-c983-4da4-88e9-f7230acc6fde"
      },
      "execution_count": 30,
      "outputs": [
        {
          "output_type": "display_data",
          "data": {
            "text/plain": [
              "plot without title"
            ],
            "image/png": "[encoded data removed]"
          },
          "metadata": {
            "image/png": {
              "width": 420,
              "height": 420
            }
          }
        }
      ]
    },
    {
      "cell_type": "code",
      "source": [
        "## Your Answer\n",
        "ggplot(penguins %>% filter(!is.na(sex)))+ \n",
        "  geom_boxplot(aes(x=sex,y=body_mass_g,fill='red'))+\n",
        "  coord_flip()"
      ],
      "metadata": {
        "colab": {
          "base_uri": "https://localhost:8080/",
          "height": 437
        },
        "id": "piR4vExdOa3C",
        "outputId": "3df68daf-1b9b-4972-d113-2464fa7fb788"
      },
      "execution_count": 31,
      "outputs": [
        {
          "output_type": "display_data",
          "data": {
            "text/plain": [
              "plot without title"
            ],
            "image/png": "[encoded data removed]"
          },
          "metadata": {
            "image/png": {
              "width": 420,
              "height": 420
            }
          }
        }
      ]
    },
    {
      "cell_type": "code",
      "execution_count": 33,
      "metadata": {
        "colab": {
          "base_uri": "https://localhost:8080/",
          "height": 437
        },
        "id": "H0CBbJufVjIf",
        "outputId": "2814bc62-cbe5-4a93-bd96-9a63b79394c2"
      },
      "outputs": [
        {
          "output_type": "display_data",
          "data": {
            "text/plain": [
              "plot without title"
            ],
            "image/png": "[encoded data removed]"
          },
          "metadata": {
            "image/png": {
              "width": 420,
              "height": 420
            }
          }
        }
      ],
      "source": [
        "ggplot(penguins)+\n",
        "  geom_boxplot(aes(x=body_mass_g,y=sex))"
      ]
    },
    {
      "cell_type": "markdown",
      "metadata": {
        "id": "t2BPd9lEVjIf"
      },
      "source": [
        "### Exercise 3: dplyr functions in dataset `flights` \n",
        "1. Write code that wil have `tailnum` as the first column and the columns starting with the \n",
        "letter 'd' as the following columns. \n",
        "What if I want to select columns starting with the letter 'D', i.e. case sensitive?"
      ]
    },
    {
      "cell_type": "code",
      "execution_count": 37,
      "metadata": {
        "colab": {
          "base_uri": "https://localhost:8080/",
          "height": 1000
        },
        "id": "cKbEz7iQVjIf",
        "outputId": "44ae4212-0bc7-4ddf-e908-07c3bdd74580"
      },
      "outputs": [
        {
          "output_type": "display_data",
          "data": {
            "text/html": [
              "<table class=\"dataframe\">\n",
              "<caption>A tibble: 336776 × 6</caption>\n",
              "<thead>\n",
              "\t<tr><th scope=col>tailnum</th><th scope=col>day</th><th scope=col>dep_time</th><th scope=col>dep_delay</th><th scope=col>dest</th><th scope=col>distance</th></tr>\n",
              "\t<tr><th scope=col>&lt;chr&gt;</th><th scope=col>&lt;int&gt;</th><th scope=col>&lt;int&gt;</th><th scope=col>&lt;dbl&gt;</th><th scope=col>&lt;chr&gt;</th><th scope=col>&lt;dbl&gt;</th></tr>\n",
              "</thead>\n",
              "<tbody>\n",
              "\t<tr><td>N14228</td><td>1</td><td>517</td><td> 2</td><td>IAH</td><td>1400</td></tr>\n",
              "\t<tr><td>N24211</td><td>1</td><td>533</td><td> 4</td><td>IAH</td><td>1416</td></tr>\n",
              "\t<tr><td>N619AA</td><td>1</td><td>542</td><td> 2</td><td>MIA</td><td>1089</td></tr>\n",
              "\t<tr><td>N804JB</td><td>1</td><td>544</td><td>-1</td><td>BQN</td><td>1576</td></tr>\n",
              "\t<tr><td>N668DN</td><td>1</td><td>554</td><td>-6</td><td>ATL</td><td> 762</td></tr>\n",
              "\t<tr><td>N39463</td><td>1</td><td>554</td><td>-4</td><td>ORD</td><td> 719</td></tr>\n",
              "\t<tr><td>N516JB</td><td>1</td><td>555</td><td>-5</td><td>FLL</td><td>1065</td></tr>\n",
              "\t<tr><td>N829AS</td><td>1</td><td>557</td><td>-3</td><td>IAD</td><td> 229</td></tr>\n",
              "\t<tr><td>N593JB</td><td>1</td><td>557</td><td>-3</td><td>MCO</td><td> 944</td></tr>\n",
              "\t<tr><td>N3ALAA</td><td>1</td><td>558</td><td>-2</td><td>ORD</td><td> 733</td></tr>\n",
              "\t<tr><td>N793JB</td><td>1</td><td>558</td><td>-2</td><td>PBI</td><td>1028</td></tr>\n",
              "\t<tr><td>N657JB</td><td>1</td><td>558</td><td>-2</td><td>TPA</td><td>1005</td></tr>\n",
              "\t<tr><td>N29129</td><td>1</td><td>558</td><td>-2</td><td>LAX</td><td>2475</td></tr>\n",
              "\t<tr><td>N53441</td><td>1</td><td>558</td><td>-2</td><td>SFO</td><td>2565</td></tr>\n",
              "\t<tr><td>N3DUAA</td><td>1</td><td>559</td><td>-1</td><td>DFW</td><td>1389</td></tr>\n",
              "\t<tr><td>N708JB</td><td>1</td><td>559</td><td> 0</td><td>BOS</td><td> 187</td></tr>\n",
              "\t<tr><td>N76515</td><td>1</td><td>559</td><td>-1</td><td>LAS</td><td>2227</td></tr>\n",
              "\t<tr><td>N595JB</td><td>1</td><td>600</td><td> 0</td><td>FLL</td><td>1076</td></tr>\n",
              "\t<tr><td>N542MQ</td><td>1</td><td>600</td><td> 0</td><td>ATL</td><td> 762</td></tr>\n",
              "\t<tr><td>N644JB</td><td>1</td><td>601</td><td> 1</td><td>PBI</td><td>1023</td></tr>\n",
              "\t<tr><td>N971DL</td><td>1</td><td>602</td><td>-8</td><td>MSP</td><td>1020</td></tr>\n",
              "\t<tr><td>N730MQ</td><td>1</td><td>602</td><td>-3</td><td>DTW</td><td> 502</td></tr>\n",
              "\t<tr><td>N633AA</td><td>1</td><td>606</td><td>-4</td><td>MIA</td><td>1085</td></tr>\n",
              "\t<tr><td>N3739P</td><td>1</td><td>606</td><td>-4</td><td>ATL</td><td> 760</td></tr>\n",
              "\t<tr><td>N53442</td><td>1</td><td>607</td><td> 0</td><td>MIA</td><td>1085</td></tr>\n",
              "\t<tr><td>N9EAMQ</td><td>1</td><td>608</td><td> 8</td><td>ORD</td><td> 719</td></tr>\n",
              "\t<tr><td>N532UA</td><td>1</td><td>611</td><td>11</td><td>SFO</td><td>2586</td></tr>\n",
              "\t<tr><td>N635JB</td><td>1</td><td>613</td><td> 3</td><td>RSW</td><td>1074</td></tr>\n",
              "\t<tr><td>N794JB</td><td>1</td><td>615</td><td> 0</td><td>SJU</td><td>1598</td></tr>\n",
              "\t<tr><td>N326NB</td><td>1</td><td>615</td><td> 0</td><td>ATL</td><td> 746</td></tr>\n",
              "\t<tr><td>⋮</td><td>⋮</td><td>⋮</td><td>⋮</td><td>⋮</td><td>⋮</td></tr>\n",
              "\t<tr><td>N712EV</td><td>30</td><td>2123</td><td> -2</td><td>CHO</td><td> 305</td></tr>\n",
              "\t<tr><td>N16546</td><td>30</td><td>2127</td><td> -2</td><td>CLT</td><td> 529</td></tr>\n",
              "\t<tr><td>N807JB</td><td>30</td><td>2128</td><td> -2</td><td>DEN</td><td>1626</td></tr>\n",
              "\t<tr><td>N751EV</td><td>30</td><td>2129</td><td> 30</td><td>RIC</td><td> 292</td></tr>\n",
              "\t<tr><td>N807MQ</td><td>30</td><td>2131</td><td> -9</td><td>DCA</td><td> 213</td></tr>\n",
              "\t<tr><td>N335AA</td><td>30</td><td>2140</td><td>  0</td><td>LAX</td><td>2475</td></tr>\n",
              "\t<tr><td>N12957</td><td>30</td><td>2142</td><td> 13</td><td>PWM</td><td> 284</td></tr>\n",
              "\t<tr><td>N633JB</td><td>30</td><td>2145</td><td>  0</td><td>SJU</td><td>1598</td></tr>\n",
              "\t<tr><td>N627JB</td><td>30</td><td>2147</td><td> 10</td><td>FLL</td><td>1076</td></tr>\n",
              "\t<tr><td>N813UA</td><td>30</td><td>2149</td><td> -7</td><td>BOS</td><td> 200</td></tr>\n",
              "\t<tr><td>N10575</td><td>30</td><td>2150</td><td> -9</td><td>MHT</td><td> 209</td></tr>\n",
              "\t<tr><td>N906XJ</td><td>30</td><td>2159</td><td>194</td><td>BUF</td><td> 301</td></tr>\n",
              "\t<tr><td>N722EV</td><td>30</td><td>2203</td><td> -2</td><td>BGR</td><td> 378</td></tr>\n",
              "\t<tr><td>N532MQ</td><td>30</td><td>2207</td><td> 27</td><td>BNA</td><td> 764</td></tr>\n",
              "\t<tr><td>N12145</td><td>30</td><td>2211</td><td> 72</td><td>STL</td><td> 872</td></tr>\n",
              "\t<tr><td>N193JB</td><td>30</td><td>2231</td><td>-14</td><td>PWM</td><td> 273</td></tr>\n",
              "\t<tr><td>N578UA</td><td>30</td><td>2233</td><td> 80</td><td>SFO</td><td>2565</td></tr>\n",
              "\t<tr><td>N804JB</td><td>30</td><td>2235</td><td>154</td><td>MCO</td><td> 944</td></tr>\n",
              "\t<tr><td>N318JB</td><td>30</td><td>2237</td><td> -8</td><td>BTV</td><td> 266</td></tr>\n",
              "\t<tr><td>N354JB</td><td>30</td><td>2240</td><td> -5</td><td>SYR</td><td> 209</td></tr>\n",
              "\t<tr><td>N281JB</td><td>30</td><td>2240</td><td>-10</td><td>BUF</td><td> 301</td></tr>\n",
              "\t<tr><td>N346JB</td><td>30</td><td>2241</td><td> -5</td><td>ROC</td><td> 264</td></tr>\n",
              "\t<tr><td>N565JB</td><td>30</td><td>2307</td><td> 12</td><td>BOS</td><td> 187</td></tr>\n",
              "\t<tr><td>N516JB</td><td>30</td><td>2349</td><td>-10</td><td>PSE</td><td>1617</td></tr>\n",
              "\t<tr><td>N740EV</td><td>30</td><td>  NA</td><td> NA</td><td>BNA</td><td> 764</td></tr>\n",
              "\t<tr><td>NA    </td><td>30</td><td>  NA</td><td> NA</td><td>DCA</td><td> 213</td></tr>\n",
              "\t<tr><td>NA    </td><td>30</td><td>  NA</td><td> NA</td><td>SYR</td><td> 198</td></tr>\n",
              "\t<tr><td>N535MQ</td><td>30</td><td>  NA</td><td> NA</td><td>BNA</td><td> 764</td></tr>\n",
              "\t<tr><td>N511MQ</td><td>30</td><td>  NA</td><td> NA</td><td>CLE</td><td> 419</td></tr>\n",
              "\t<tr><td>N839MQ</td><td>30</td><td>  NA</td><td> NA</td><td>RDU</td><td> 431</td></tr>\n",
              "</tbody>\n",
              "</table>\n"
            ],
            "text/markdown": "\nA tibble: 336776 × 6\n\n| tailnum &lt;chr&gt; | day &lt;int&gt; | dep_time &lt;int&gt; | dep_delay &lt;dbl&gt; | dest &lt;chr&gt; | distance &lt;dbl&gt; |\n|---|---|---|---|---|---|\n| N14228 | 1 | 517 |  2 | IAH | 1400 |\n| N24211 | 1 | 533 |  4 | IAH | 1416 |\n| N619AA | 1 | 542 |  2 | MIA | 1089 |\n| N804JB | 1 | 544 | -1 | BQN | 1576 |\n| N668DN | 1 | 554 | -6 | ATL |  762 |\n| N39463 | 1 | 554 | -4 | ORD |  719 |\n| N516JB | 1 | 555 | -5 | FLL | 1065 |\n| N829AS | 1 | 557 | -3 | IAD |  229 |\n| N593JB | 1 | 557 | -3 | MCO |  944 |\n| N3ALAA | 1 | 558 | -2 | ORD |  733 |\n| N793JB | 1 | 558 | -2 | PBI | 1028 |\n| N657JB | 1 | 558 | -2 | TPA | 1005 |\n| N29129 | 1 | 558 | -2 | LAX | 2475 |\n| N53441 | 1 | 558 | -2 | SFO | 2565 |\n| N3DUAA | 1 | 559 | -1 | DFW | 1389 |\n| N708JB | 1 | 559 |  0 | BOS |  187 |\n| N76515 | 1 | 559 | -1 | LAS | 2227 |\n| N595JB | 1 | 600 |  0 | FLL | 1076 |\n| N542MQ | 1 | 600 |  0 | ATL |  762 |\n| N644JB | 1 | 601 |  1 | PBI | 1023 |\n| N971DL | 1 | 602 | -8 | MSP | 1020 |\n| N730MQ | 1 | 602 | -3 | DTW |  502 |\n| N633AA | 1 | 606 | -4 | MIA | 1085 |\n| N3739P | 1 | 606 | -4 | ATL |  760 |\n| N53442 | 1 | 607 |  0 | MIA | 1085 |\n| N9EAMQ | 1 | 608 |  8 | ORD |  719 |\n| N532UA | 1 | 611 | 11 | SFO | 2586 |\n| N635JB | 1 | 613 |  3 | RSW | 1074 |\n| N794JB | 1 | 615 |  0 | SJU | 1598 |\n| N326NB | 1 | 615 |  0 | ATL |  746 |\n| ⋮ | ⋮ | ⋮ | ⋮ | ⋮ | ⋮ |\n| N712EV | 30 | 2123 |  -2 | CHO |  305 |\n| N16546 | 30 | 2127 |  -2 | CLT |  529 |\n| N807JB | 30 | 2128 |  -2 | DEN | 1626 |\n| N751EV | 30 | 2129 |  30 | RIC |  292 |\n| N807MQ | 30 | 2131 |  -9 | DCA |  213 |\n| N335AA | 30 | 2140 |   0 | LAX | 2475 |\n| N12957 | 30 | 2142 |  13 | PWM |  284 |\n| N633JB | 30 | 2145 |   0 | SJU | 1598 |\n| N627JB | 30 | 2147 |  10 | FLL | 1076 |\n| N813UA | 30 | 2149 |  -7 | BOS |  200 |\n| N10575 | 30 | 2150 |  -9 | MHT |  209 |\n| N906XJ | 30 | 2159 | 194 | BUF |  301 |\n| N722EV | 30 | 2203 |  -2 | BGR |  378 |\n| N532MQ | 30 | 2207 |  27 | BNA |  764 |\n| N12145 | 30 | 2211 |  72 | STL |  872 |\n| N193JB | 30 | 2231 | -14 | PWM |  273 |\n| N578UA | 30 | 2233 |  80 | SFO | 2565 |\n| N804JB | 30 | 2235 | 154 | MCO |  944 |\n| N318JB | 30 | 2237 |  -8 | BTV |  266 |\n| N354JB | 30 | 2240 |  -5 | SYR |  209 |\n| N281JB | 30 | 2240 | -10 | BUF |  301 |\n| N346JB | 30 | 2241 |  -5 | ROC |  264 |\n| N565JB | 30 | 2307 |  12 | BOS |  187 |\n| N516JB | 30 | 2349 | -10 | PSE | 1617 |\n| N740EV | 30 |   NA |  NA | BNA |  764 |\n| NA     | 30 |   NA |  NA | DCA |  213 |\n| NA     | 30 |   NA |  NA | SYR |  198 |\n| N535MQ | 30 |   NA |  NA | BNA |  764 |\n| N511MQ | 30 |   NA |  NA | CLE |  419 |\n| N839MQ | 30 |   NA |  NA | RDU |  431 |\n\n",
            "text/latex": "A tibble: 336776 × 6\n\\begin{tabular}{llllll}\n tailnum & day & dep\\_time & dep\\_delay & dest & distance\\\\\n <chr> & <int> & <int> & <dbl> & <chr> & <dbl>\\\\\n\\hline\n\t N14228 & 1 & 517 &  2 & IAH & 1400\\\\\n\t N24211 & 1 & 533 &  4 & IAH & 1416\\\\\n\t N619AA & 1 & 542 &  2 & MIA & 1089\\\\\n\t N804JB & 1 & 544 & -1 & BQN & 1576\\\\\n\t N668DN & 1 & 554 & -6 & ATL &  762\\\\\n\t N39463 & 1 & 554 & -4 & ORD &  719\\\\\n\t N516JB & 1 & 555 & -5 & FLL & 1065\\\\\n\t N829AS & 1 & 557 & -3 & IAD &  229\\\\\n\t N593JB & 1 & 557 & -3 & MCO &  944\\\\\n\t N3ALAA & 1 & 558 & -2 & ORD &  733\\\\\n\t N793JB & 1 & 558 & -2 & PBI & 1028\\\\\n\t N657JB & 1 & 558 & -2 & TPA & 1005\\\\\n\t N29129 & 1 & 558 & -2 & LAX & 2475\\\\\n\t N53441 & 1 & 558 & -2 & SFO & 2565\\\\\n\t N3DUAA & 1 & 559 & -1 & DFW & 1389\\\\\n\t N708JB & 1 & 559 &  0 & BOS &  187\\\\\n\t N76515 & 1 & 559 & -1 & LAS & 2227\\\\\n\t N595JB & 1 & 600 &  0 & FLL & 1076\\\\\n\t N542MQ & 1 & 600 &  0 & ATL &  762\\\\\n\t N644JB & 1 & 601 &  1 & PBI & 1023\\\\\n\t N971DL & 1 & 602 & -8 & MSP & 1020\\\\\n\t N730MQ & 1 & 602 & -3 & DTW &  502\\\\\n\t N633AA & 1 & 606 & -4 & MIA & 1085\\\\\n\t N3739P & 1 & 606 & -4 & ATL &  760\\\\\n\t N53442 & 1 & 607 &  0 & MIA & 1085\\\\\n\t N9EAMQ & 1 & 608 &  8 & ORD &  719\\\\\n\t N532UA & 1 & 611 & 11 & SFO & 2586\\\\\n\t N635JB & 1 & 613 &  3 & RSW & 1074\\\\\n\t N794JB & 1 & 615 &  0 & SJU & 1598\\\\\n\t N326NB & 1 & 615 &  0 & ATL &  746\\\\\n\t ⋮ & ⋮ & ⋮ & ⋮ & ⋮ & ⋮\\\\\n\t N712EV & 30 & 2123 &  -2 & CHO &  305\\\\\n\t N16546 & 30 & 2127 &  -2 & CLT &  529\\\\\n\t N807JB & 30 & 2128 &  -2 & DEN & 1626\\\\\n\t N751EV & 30 & 2129 &  30 & RIC &  292\\\\\n\t N807MQ & 30 & 2131 &  -9 & DCA &  213\\\\\n\t N335AA & 30 & 2140 &   0 & LAX & 2475\\\\\n\t N12957 & 30 & 2142 &  13 & PWM &  284\\\\\n\t N633JB & 30 & 2145 &   0 & SJU & 1598\\\\\n\t N627JB & 30 & 2147 &  10 & FLL & 1076\\\\\n\t N813UA & 30 & 2149 &  -7 & BOS &  200\\\\\n\t N10575 & 30 & 2150 &  -9 & MHT &  209\\\\\n\t N906XJ & 30 & 2159 & 194 & BUF &  301\\\\\n\t N722EV & 30 & 2203 &  -2 & BGR &  378\\\\\n\t N532MQ & 30 & 2207 &  27 & BNA &  764\\\\\n\t N12145 & 30 & 2211 &  72 & STL &  872\\\\\n\t N193JB & 30 & 2231 & -14 & PWM &  273\\\\\n\t N578UA & 30 & 2233 &  80 & SFO & 2565\\\\\n\t N804JB & 30 & 2235 & 154 & MCO &  944\\\\\n\t N318JB & 30 & 2237 &  -8 & BTV &  266\\\\\n\t N354JB & 30 & 2240 &  -5 & SYR &  209\\\\\n\t N281JB & 30 & 2240 & -10 & BUF &  301\\\\\n\t N346JB & 30 & 2241 &  -5 & ROC &  264\\\\\n\t N565JB & 30 & 2307 &  12 & BOS &  187\\\\\n\t N516JB & 30 & 2349 & -10 & PSE & 1617\\\\\n\t N740EV & 30 &   NA &  NA & BNA &  764\\\\\n\t NA     & 30 &   NA &  NA & DCA &  213\\\\\n\t NA     & 30 &   NA &  NA & SYR &  198\\\\\n\t N535MQ & 30 &   NA &  NA & BNA &  764\\\\\n\t N511MQ & 30 &   NA &  NA & CLE &  419\\\\\n\t N839MQ & 30 &   NA &  NA & RDU &  431\\\\\n\\end{tabular}\n",
            "text/plain": [
              "       tailnum day dep_time dep_delay dest distance\n",
              "1      N14228  1   517       2        IAH  1400    \n",
              "2      N24211  1   533       4        IAH  1416    \n",
              "3      N619AA  1   542       2        MIA  1089    \n",
              "4      N804JB  1   544      -1        BQN  1576    \n",
              "5      N668DN  1   554      -6        ATL   762    \n",
              "6      N39463  1   554      -4        ORD   719    \n",
              "7      N516JB  1   555      -5        FLL  1065    \n",
              "8      N829AS  1   557      -3        IAD   229    \n",
              "9      N593JB  1   557      -3        MCO   944    \n",
              "10     N3ALAA  1   558      -2        ORD   733    \n",
              "11     N793JB  1   558      -2        PBI  1028    \n",
              "12     N657JB  1   558      -2        TPA  1005    \n",
              "13     N29129  1   558      -2        LAX  2475    \n",
              "14     N53441  1   558      -2        SFO  2565    \n",
              "15     N3DUAA  1   559      -1        DFW  1389    \n",
              "16     N708JB  1   559       0        BOS   187    \n",
              "17     N76515  1   559      -1        LAS  2227    \n",
              "18     N595JB  1   600       0        FLL  1076    \n",
              "19     N542MQ  1   600       0        ATL   762    \n",
              "20     N644JB  1   601       1        PBI  1023    \n",
              "21     N971DL  1   602      -8        MSP  1020    \n",
              "22     N730MQ  1   602      -3        DTW   502    \n",
              "23     N633AA  1   606      -4        MIA  1085    \n",
              "24     N3739P  1   606      -4        ATL   760    \n",
              "25     N53442  1   607       0        MIA  1085    \n",
              "26     N9EAMQ  1   608       8        ORD   719    \n",
              "27     N532UA  1   611      11        SFO  2586    \n",
              "28     N635JB  1   613       3        RSW  1074    \n",
              "29     N794JB  1   615       0        SJU  1598    \n",
              "30     N326NB  1   615       0        ATL   746    \n",
              "⋮      ⋮       ⋮   ⋮        ⋮         ⋮    ⋮       \n",
              "336747 N712EV  30  2123      -2       CHO   305    \n",
              "336748 N16546  30  2127      -2       CLT   529    \n",
              "336749 N807JB  30  2128      -2       DEN  1626    \n",
              "336750 N751EV  30  2129      30       RIC   292    \n",
              "336751 N807MQ  30  2131      -9       DCA   213    \n",
              "336752 N335AA  30  2140       0       LAX  2475    \n",
              "336753 N12957  30  2142      13       PWM   284    \n",
              "336754 N633JB  30  2145       0       SJU  1598    \n",
              "336755 N627JB  30  2147      10       FLL  1076    \n",
              "336756 N813UA  30  2149      -7       BOS   200    \n",
              "336757 N10575  30  2150      -9       MHT   209    \n",
              "336758 N906XJ  30  2159     194       BUF   301    \n",
              "336759 N722EV  30  2203      -2       BGR   378    \n",
              "336760 N532MQ  30  2207      27       BNA   764    \n",
              "336761 N12145  30  2211      72       STL   872    \n",
              "336762 N193JB  30  2231     -14       PWM   273    \n",
              "336763 N578UA  30  2233      80       SFO  2565    \n",
              "336764 N804JB  30  2235     154       MCO   944    \n",
              "336765 N318JB  30  2237      -8       BTV   266    \n",
              "336766 N354JB  30  2240      -5       SYR   209    \n",
              "336767 N281JB  30  2240     -10       BUF   301    \n",
              "336768 N346JB  30  2241      -5       ROC   264    \n",
              "336769 N565JB  30  2307      12       BOS   187    \n",
              "336770 N516JB  30  2349     -10       PSE  1617    \n",
              "336771 N740EV  30    NA      NA       BNA   764    \n",
              "336772 NA      30    NA      NA       DCA   213    \n",
              "336773 NA      30    NA      NA       SYR   198    \n",
              "336774 N535MQ  30    NA      NA       BNA   764    \n",
              "336775 N511MQ  30    NA      NA       CLE   419    \n",
              "336776 N839MQ  30    NA      NA       RDU   431    "
            ]
          },
          "metadata": {}
        }
      ],
      "source": [
        "## Your Answer\n",
        "flights %>% select(tailnum,starts_with('d',ignore.case=FALSE)) # if you want case sensitive (it matters if it's d or D, then use ignore.case=FALSE)"
      ]
    },
    {
      "cell_type": "markdown",
      "metadata": {
        "id": "49dFog5EVjIf"
      },
      "source": [
        "2. Write code using filter that selects all the rows of `carrier` 'AA' on the last day of month."
      ]
    },
    {
      "cell_type": "code",
      "execution_count": 40,
      "metadata": {
        "colab": {
          "base_uri": "https://localhost:8080/",
          "height": 1000
        },
        "id": "aYmZCb46VjIf",
        "outputId": "aa348b55-1598-468e-8873-8f77c4eecb7d"
      },
      "outputs": [
        {
          "output_type": "display_data",
          "data": {
            "text/html": [
              "<table class=\"dataframe\">\n",
              "<caption>A tibble: 1055 × 19</caption>\n",
              "<thead>\n",
              "\t<tr><th scope=col>year</th><th scope=col>month</th><th scope=col>day</th><th scope=col>dep_time</th><th scope=col>sched_dep_time</th><th scope=col>dep_delay</th><th scope=col>arr_time</th><th scope=col>sched_arr_time</th><th scope=col>arr_delay</th><th scope=col>carrier</th><th scope=col>flight</th><th scope=col>tailnum</th><th scope=col>origin</th><th scope=col>dest</th><th scope=col>air_time</th><th scope=col>distance</th><th scope=col>hour</th><th scope=col>minute</th><th scope=col>time_hour</th></tr>\n",
              "\t<tr><th scope=col>&lt;int&gt;</th><th scope=col>&lt;int&gt;</th><th scope=col>&lt;int&gt;</th><th scope=col>&lt;int&gt;</th><th scope=col>&lt;int&gt;</th><th scope=col>&lt;dbl&gt;</th><th scope=col>&lt;int&gt;</th><th scope=col>&lt;int&gt;</th><th scope=col>&lt;dbl&gt;</th><th scope=col>&lt;chr&gt;</th><th scope=col>&lt;int&gt;</th><th scope=col>&lt;chr&gt;</th><th scope=col>&lt;chr&gt;</th><th scope=col>&lt;chr&gt;</th><th scope=col>&lt;dbl&gt;</th><th scope=col>&lt;dbl&gt;</th><th scope=col>&lt;dbl&gt;</th><th scope=col>&lt;dbl&gt;</th><th scope=col>&lt;dttm&gt;</th></tr>\n",
              "</thead>\n",
              "<tbody>\n",
              "\t<tr><td>2013</td><td>1</td><td>31</td><td>540</td><td>540</td><td>  0</td><td> 851</td><td> 850</td><td>  1</td><td>AA</td><td>1141</td><td>N5ELAA</td><td>JFK</td><td>MIA</td><td>165</td><td>1089</td><td>5</td><td>40</td><td>2013-01-31 05:00:00</td></tr>\n",
              "\t<tr><td>2013</td><td>1</td><td>31</td><td>554</td><td>600</td><td> -6</td><td> 900</td><td> 910</td><td>-10</td><td>AA</td><td> 707</td><td>N3HLAA</td><td>LGA</td><td>DFW</td><td>221</td><td>1389</td><td>6</td><td> 0</td><td>2013-01-31 06:00:00</td></tr>\n",
              "\t<tr><td>2013</td><td>1</td><td>31</td><td>554</td><td>600</td><td> -6</td><td> 726</td><td> 745</td><td>-19</td><td>AA</td><td> 301</td><td>N3DEAA</td><td>LGA</td><td>ORD</td><td>121</td><td> 733</td><td>6</td><td> 0</td><td>2013-01-31 06:00:00</td></tr>\n",
              "\t<tr><td>2013</td><td>1</td><td>31</td><td>600</td><td>610</td><td>-10</td><td> 911</td><td> 910</td><td>  1</td><td>AA</td><td>1895</td><td>N5DMAA</td><td>EWR</td><td>MIA</td><td>166</td><td>1085</td><td>6</td><td>10</td><td>2013-01-31 06:00:00</td></tr>\n",
              "\t<tr><td>2013</td><td>1</td><td>31</td><td>607</td><td>610</td><td> -3</td><td> 924</td><td> 915</td><td>  9</td><td>AA</td><td>1837</td><td>N3DNAA</td><td>LGA</td><td>MIA</td><td>173</td><td>1096</td><td>6</td><td>10</td><td>2013-01-31 06:00:00</td></tr>\n",
              "\t<tr><td>2013</td><td>1</td><td>31</td><td>626</td><td>630</td><td> -4</td><td> 740</td><td> 810</td><td>-30</td><td>AA</td><td> 303</td><td>N3CXAA</td><td>LGA</td><td>ORD</td><td>116</td><td> 733</td><td>6</td><td>30</td><td>2013-01-31 06:00:00</td></tr>\n",
              "\t<tr><td>2013</td><td>1</td><td>31</td><td>628</td><td>635</td><td> -7</td><td> 932</td><td> 940</td><td> -8</td><td>AA</td><td> 711</td><td>N3JJAA</td><td>LGA</td><td>DFW</td><td>222</td><td>1389</td><td>6</td><td>35</td><td>2013-01-31 06:00:00</td></tr>\n",
              "\t<tr><td>2013</td><td>1</td><td>31</td><td>638</td><td>630</td><td>  8</td><td>1147</td><td>1140</td><td>  7</td><td>AA</td><td> 413</td><td>N3CFAA</td><td>JFK</td><td>SJU</td><td>205</td><td>1598</td><td>6</td><td>30</td><td>2013-01-31 06:00:00</td></tr>\n",
              "\t<tr><td>2013</td><td>1</td><td>31</td><td>651</td><td>700</td><td> -9</td><td> 839</td><td> 850</td><td>-11</td><td>AA</td><td> 305</td><td>N4XBAA</td><td>LGA</td><td>ORD</td><td>126</td><td> 733</td><td>7</td><td> 0</td><td>2013-01-31 07:00:00</td></tr>\n",
              "\t<tr><td>2013</td><td>1</td><td>31</td><td>659</td><td>700</td><td> -1</td><td>1059</td><td>1015</td><td> 44</td><td>AA</td><td>2279</td><td>N3HHAA</td><td>LGA</td><td>MIA</td><td>181</td><td>1096</td><td>7</td><td> 0</td><td>2013-01-31 07:00:00</td></tr>\n",
              "\t<tr><td>2013</td><td>1</td><td>31</td><td>702</td><td>659</td><td>  3</td><td>1035</td><td> 959</td><td> 36</td><td>AA</td><td>1815</td><td>N324AA</td><td>JFK</td><td>MCO</td><td>156</td><td> 944</td><td>6</td><td>59</td><td>2013-01-31 06:00:00</td></tr>\n",
              "\t<tr><td>2013</td><td>1</td><td>31</td><td>715</td><td>715</td><td>  0</td><td>1101</td><td>1035</td><td> 26</td><td>AA</td><td> 825</td><td>N3FKAA</td><td>JFK</td><td>FLL</td><td>178</td><td>1069</td><td>7</td><td>15</td><td>2013-01-31 07:00:00</td></tr>\n",
              "\t<tr><td>2013</td><td>1</td><td>31</td><td>722</td><td>730</td><td> -8</td><td>1051</td><td>1040</td><td> 11</td><td>AA</td><td> 715</td><td>N474AA</td><td>LGA</td><td>DFW</td><td>223</td><td>1389</td><td>7</td><td>30</td><td>2013-01-31 07:00:00</td></tr>\n",
              "\t<tr><td>2013</td><td>1</td><td>31</td><td>722</td><td>730</td><td> -8</td><td>1021</td><td>1040</td><td>-19</td><td>AA</td><td>2083</td><td>N4YHAA</td><td>EWR</td><td>DFW</td><td>208</td><td>1372</td><td>7</td><td>30</td><td>2013-01-31 07:00:00</td></tr>\n",
              "\t<tr><td>2013</td><td>1</td><td>31</td><td>723</td><td>715</td><td>  8</td><td>1118</td><td>1045</td><td> 33</td><td>AA</td><td> 443</td><td>N5DUAA</td><td>JFK</td><td>MIA</td><td>185</td><td>1089</td><td>7</td><td>15</td><td>2013-01-31 07:00:00</td></tr>\n",
              "\t<tr><td>2013</td><td>1</td><td>31</td><td>734</td><td>730</td><td>  4</td><td>1059</td><td>1100</td><td> -1</td><td>AA</td><td>  33</td><td>N319AA</td><td>JFK</td><td>LAX</td><td>340</td><td>2475</td><td>7</td><td>30</td><td>2013-01-31 07:00:00</td></tr>\n",
              "\t<tr><td>2013</td><td>1</td><td>31</td><td>740</td><td>745</td><td> -5</td><td> 923</td><td> 930</td><td> -7</td><td>AA</td><td> 309</td><td>N521AA</td><td>LGA</td><td>ORD</td><td>121</td><td> 733</td><td>7</td><td>45</td><td>2013-01-31 07:00:00</td></tr>\n",
              "\t<tr><td>2013</td><td>1</td><td>31</td><td>742</td><td>745</td><td> -3</td><td>1115</td><td>1125</td><td>-10</td><td>AA</td><td>  59</td><td>N390AA</td><td>JFK</td><td>SFO</td><td>358</td><td>2586</td><td>7</td><td>45</td><td>2013-01-31 07:00:00</td></tr>\n",
              "\t<tr><td>2013</td><td>1</td><td>31</td><td>749</td><td>755</td><td> -6</td><td>1127</td><td>1110</td><td> 17</td><td>AA</td><td>2267</td><td>N3GMAA</td><td>LGA</td><td>MIA</td><td>177</td><td>1096</td><td>7</td><td>55</td><td>2013-01-31 07:00:00</td></tr>\n",
              "\t<tr><td>2013</td><td>1</td><td>31</td><td>804</td><td>810</td><td> -6</td><td>1253</td><td>1315</td><td>-22</td><td>AA</td><td> 655</td><td>N5FSAA</td><td>JFK</td><td>STT</td><td>204</td><td>1623</td><td>8</td><td>10</td><td>2013-01-31 08:00:00</td></tr>\n",
              "\t<tr><td>2013</td><td>1</td><td>31</td><td>804</td><td>810</td><td> -6</td><td> 914</td><td> 925</td><td>-11</td><td>AA</td><td>1838</td><td>N3JRAA</td><td>JFK</td><td>BOS</td><td> 41</td><td> 187</td><td>8</td><td>10</td><td>2013-01-31 08:00:00</td></tr>\n",
              "\t<tr><td>2013</td><td>1</td><td>31</td><td>826</td><td>830</td><td> -4</td><td>1033</td><td>1025</td><td>  8</td><td>AA</td><td>1855</td><td>N576AA</td><td>LGA</td><td>STL</td><td>157</td><td> 888</td><td>8</td><td>30</td><td>2013-01-31 08:00:00</td></tr>\n",
              "\t<tr><td>2013</td><td>1</td><td>31</td><td>828</td><td>830</td><td> -2</td><td>1025</td><td>1015</td><td> 10</td><td>AA</td><td> 313</td><td>N513AA</td><td>LGA</td><td>ORD</td><td>122</td><td> 733</td><td>8</td><td>30</td><td>2013-01-31 08:00:00</td></tr>\n",
              "\t<tr><td>2013</td><td>1</td><td>31</td><td>840</td><td>835</td><td>  5</td><td>1151</td><td>1150</td><td>  1</td><td>AA</td><td> 717</td><td>N3EPAA</td><td>LGA</td><td>DFW</td><td>214</td><td>1389</td><td>8</td><td>35</td><td>2013-01-31 08:00:00</td></tr>\n",
              "\t<tr><td>2013</td><td>1</td><td>31</td><td>841</td><td>845</td><td> -4</td><td>1350</td><td>1350</td><td>  0</td><td>AA</td><td>1357</td><td>N5FMAA</td><td>JFK</td><td>SJU</td><td>205</td><td>1598</td><td>8</td><td>45</td><td>2013-01-31 08:00:00</td></tr>\n",
              "\t<tr><td>2013</td><td>1</td><td>31</td><td>853</td><td>900</td><td> -7</td><td>1227</td><td>1220</td><td>  7</td><td>AA</td><td> 647</td><td>N5DTAA</td><td>JFK</td><td>MIA</td><td>170</td><td>1089</td><td>9</td><td> 0</td><td>2013-01-31 09:00:00</td></tr>\n",
              "\t<tr><td>2013</td><td>1</td><td>31</td><td>856</td><td>900</td><td> -4</td><td>1226</td><td>1220</td><td>  6</td><td>AA</td><td>   1</td><td>N320AA</td><td>JFK</td><td>LAX</td><td>331</td><td>2475</td><td>9</td><td> 0</td><td>2013-01-31 09:00:00</td></tr>\n",
              "\t<tr><td>2013</td><td>1</td><td>31</td><td>914</td><td>920</td><td> -6</td><td>1241</td><td>1240</td><td>  1</td><td>AA</td><td>1589</td><td>N592AA</td><td>EWR</td><td>DFW</td><td>220</td><td>1372</td><td>9</td><td>20</td><td>2013-01-31 09:00:00</td></tr>\n",
              "\t<tr><td>2013</td><td>1</td><td>31</td><td>916</td><td>920</td><td> -4</td><td>1242</td><td>1245</td><td> -3</td><td>AA</td><td> 721</td><td>N471AA</td><td>LGA</td><td>DFW</td><td>224</td><td>1389</td><td>9</td><td>20</td><td>2013-01-31 09:00:00</td></tr>\n",
              "\t<tr><td>2013</td><td>1</td><td>31</td><td>939</td><td>940</td><td> -1</td><td>1302</td><td>1250</td><td> 12</td><td>AA</td><td>1871</td><td>N3FAAA</td><td>LGA</td><td>MIA</td><td>164</td><td>1096</td><td>9</td><td>40</td><td>2013-01-31 09:00:00</td></tr>\n",
              "\t<tr><td>⋮</td><td>⋮</td><td>⋮</td><td>⋮</td><td>⋮</td><td>⋮</td><td>⋮</td><td>⋮</td><td>⋮</td><td>⋮</td><td>⋮</td><td>⋮</td><td>⋮</td><td>⋮</td><td>⋮</td><td>⋮</td><td>⋮</td><td>⋮</td><td>⋮</td></tr>\n",
              "\t<tr><td>2013</td><td>9</td><td>30</td><td>1612</td><td>1620</td><td> -8</td><td>1930</td><td>1940</td><td>-10</td><td>AA</td><td>1410</td><td>N3DWAA</td><td>LGA</td><td>MIA</td><td>148</td><td>1096</td><td>16</td><td>20</td><td>2013-09-30 16:00:00</td></tr>\n",
              "\t<tr><td>2013</td><td>9</td><td>30</td><td>1616</td><td>1620</td><td> -4</td><td>1859</td><td>1935</td><td>-36</td><td>AA</td><td> 172</td><td>N3JVAA</td><td>EWR</td><td>MIA</td><td>140</td><td>1085</td><td>16</td><td>20</td><td>2013-09-30 16:00:00</td></tr>\n",
              "\t<tr><td>2013</td><td>9</td><td>30</td><td>1616</td><td>1545</td><td> 31</td><td>1736</td><td>1705</td><td> 31</td><td>AA</td><td> 256</td><td>N3CUAA</td><td>JFK</td><td>BOS</td><td> 35</td><td> 187</td><td>15</td><td>45</td><td>2013-09-30 15:00:00</td></tr>\n",
              "\t<tr><td>2013</td><td>9</td><td>30</td><td>1633</td><td>1515</td><td> 78</td><td>1906</td><td>1810</td><td> 56</td><td>AA</td><td> 320</td><td>N502AA</td><td>EWR</td><td>DFW</td><td>166</td><td>1372</td><td>15</td><td>15</td><td>2013-09-30 15:00:00</td></tr>\n",
              "\t<tr><td>2013</td><td>9</td><td>30</td><td>1643</td><td>1655</td><td>-12</td><td>1809</td><td>1845</td><td>-36</td><td>AA</td><td>2223</td><td>N501AA</td><td>LGA</td><td>STL</td><td>120</td><td> 888</td><td>16</td><td>55</td><td>2013-09-30 16:00:00</td></tr>\n",
              "\t<tr><td>2013</td><td>9</td><td>30</td><td>1656</td><td>1700</td><td> -4</td><td>1950</td><td>1955</td><td> -5</td><td>AA</td><td> 211</td><td>N3KSAA</td><td>JFK</td><td>IAH</td><td>192</td><td>1417</td><td>17</td><td> 0</td><td>2013-09-30 17:00:00</td></tr>\n",
              "\t<tr><td>2013</td><td>9</td><td>30</td><td>1656</td><td>1700</td><td> -4</td><td>1922</td><td>2000</td><td>-38</td><td>AA</td><td>1171</td><td>N3AEAA</td><td>LGA</td><td>DFW</td><td>172</td><td>1389</td><td>17</td><td> 0</td><td>2013-09-30 17:00:00</td></tr>\n",
              "\t<tr><td>2013</td><td>9</td><td>30</td><td>1658</td><td>1700</td><td> -2</td><td>1823</td><td>1855</td><td>-32</td><td>AA</td><td> 199</td><td>N3GKAA</td><td>JFK</td><td>ORD</td><td>111</td><td> 740</td><td>17</td><td> 0</td><td>2013-09-30 17:00:00</td></tr>\n",
              "\t<tr><td>2013</td><td>9</td><td>30</td><td>1659</td><td>1700</td><td> -1</td><td>1915</td><td>1945</td><td>-30</td><td>AA</td><td>  45</td><td>N635AA</td><td>JFK</td><td>LAS</td><td>281</td><td>2248</td><td>17</td><td> 0</td><td>2013-09-30 17:00:00</td></tr>\n",
              "\t<tr><td>2013</td><td>9</td><td>30</td><td>1716</td><td>1715</td><td>  1</td><td>1907</td><td>1905</td><td>  2</td><td>AA</td><td> 345</td><td>N543AA</td><td>LGA</td><td>ORD</td><td>109</td><td> 733</td><td>17</td><td>15</td><td>2013-09-30 17:00:00</td></tr>\n",
              "\t<tr><td>2013</td><td>9</td><td>30</td><td>1720</td><td>1720</td><td>  0</td><td>1944</td><td>2030</td><td>-46</td><td>AA</td><td> 291</td><td>N3LBAA</td><td>JFK</td><td>AUS</td><td>184</td><td>1521</td><td>17</td><td>20</td><td>2013-09-30 17:00:00</td></tr>\n",
              "\t<tr><td>2013</td><td>9</td><td>30</td><td>1723</td><td>1715</td><td>  8</td><td>2005</td><td>2015</td><td>-10</td><td>AA</td><td>2488</td><td>N4WPAA</td><td>EWR</td><td>DFW</td><td>171</td><td>1372</td><td>17</td><td>15</td><td>2013-09-30 17:00:00</td></tr>\n",
              "\t<tr><td>2013</td><td>9</td><td>30</td><td>1726</td><td>1630</td><td> 56</td><td>1946</td><td>1940</td><td>  6</td><td>AA</td><td> 181</td><td>N5EGAA</td><td>JFK</td><td>LAX</td><td>303</td><td>2475</td><td>16</td><td>30</td><td>2013-09-30 16:00:00</td></tr>\n",
              "\t<tr><td>2013</td><td>9</td><td>30</td><td>1744</td><td>1740</td><td>  4</td><td>2017</td><td>2035</td><td>-18</td><td>AA</td><td>  67</td><td>N3BPAA</td><td>JFK</td><td>SAN</td><td>306</td><td>2446</td><td>17</td><td>40</td><td>2013-09-30 17:00:00</td></tr>\n",
              "\t<tr><td>2013</td><td>9</td><td>30</td><td>1755</td><td>1755</td><td>  0</td><td>2020</td><td>2055</td><td>-35</td><td>AA</td><td>1185</td><td>N3EYAA</td><td>LGA</td><td>DFW</td><td>174</td><td>1389</td><td>17</td><td>55</td><td>2013-09-30 17:00:00</td></tr>\n",
              "\t<tr><td>2013</td><td>9</td><td>30</td><td>1757</td><td>1805</td><td> -8</td><td>1921</td><td>1950</td><td>-29</td><td>AA</td><td> 353</td><td>N526AA</td><td>LGA</td><td>ORD</td><td>106</td><td> 733</td><td>18</td><td> 5</td><td>2013-09-30 18:00:00</td></tr>\n",
              "\t<tr><td>2013</td><td>9</td><td>30</td><td>1802</td><td>1735</td><td> 27</td><td>2047</td><td>2055</td><td> -8</td><td>AA</td><td>2351</td><td>N387AA</td><td>JFK</td><td>MIA</td><td>136</td><td>1089</td><td>17</td><td>35</td><td>2013-09-30 17:00:00</td></tr>\n",
              "\t<tr><td>2013</td><td>9</td><td>30</td><td>1811</td><td>1815</td><td> -4</td><td>2059</td><td>2135</td><td>-36</td><td>AA</td><td>1611</td><td>N3BBAA</td><td>LGA</td><td>MIA</td><td>142</td><td>1096</td><td>18</td><td>15</td><td>2013-09-30 18:00:00</td></tr>\n",
              "\t<tr><td>2013</td><td>9</td><td>30</td><td>1843</td><td>1850</td><td> -7</td><td>2136</td><td>2200</td><td>-24</td><td>AA</td><td> 119</td><td>N3KRAA</td><td>EWR</td><td>LAX</td><td>302</td><td>2454</td><td>18</td><td>50</td><td>2013-09-30 18:00:00</td></tr>\n",
              "\t<tr><td>2013</td><td>9</td><td>30</td><td>1849</td><td>1855</td><td> -6</td><td>2007</td><td>2035</td><td>-28</td><td>AA</td><td> 359</td><td>N4XJAA</td><td>LGA</td><td>ORD</td><td>108</td><td> 733</td><td>18</td><td>55</td><td>2013-09-30 18:00:00</td></tr>\n",
              "\t<tr><td>2013</td><td>9</td><td>30</td><td>1852</td><td>1845</td><td>  7</td><td>2145</td><td>2210</td><td>-25</td><td>AA</td><td> 177</td><td>N329AA</td><td>JFK</td><td>SFO</td><td>325</td><td>2586</td><td>18</td><td>45</td><td>2013-09-30 18:00:00</td></tr>\n",
              "\t<tr><td>2013</td><td>9</td><td>30</td><td>1900</td><td>1910</td><td>-10</td><td>2147</td><td>2210</td><td>-23</td><td>AA</td><td>1193</td><td>N3HBAA</td><td>LGA</td><td>DFW</td><td>179</td><td>1389</td><td>19</td><td>10</td><td>2013-09-30 19:00:00</td></tr>\n",
              "\t<tr><td>2013</td><td>9</td><td>30</td><td>1910</td><td>1905</td><td>  5</td><td>2131</td><td>2205</td><td>-34</td><td>AA</td><td>1691</td><td>N483AA</td><td>EWR</td><td>DFW</td><td>163</td><td>1372</td><td>19</td><td> 5</td><td>2013-09-30 19:00:00</td></tr>\n",
              "\t<tr><td>2013</td><td>9</td><td>30</td><td>1928</td><td>1940</td><td>-12</td><td>2043</td><td>2120</td><td>-37</td><td>AA</td><td> 363</td><td>N4XBAA</td><td>LGA</td><td>ORD</td><td>109</td><td> 733</td><td>19</td><td>40</td><td>2013-09-30 19:00:00</td></tr>\n",
              "\t<tr><td>2013</td><td>9</td><td>30</td><td>1934</td><td>1930</td><td>  4</td><td>2236</td><td>2250</td><td>-14</td><td>AA</td><td> 235</td><td>N3EXAA</td><td>JFK</td><td>SEA</td><td>340</td><td>2422</td><td>19</td><td>30</td><td>2013-09-30 19:00:00</td></tr>\n",
              "\t<tr><td>2013</td><td>9</td><td>30</td><td>1934</td><td>1935</td><td> -1</td><td>2238</td><td>2250</td><td>-12</td><td>AA</td><td>2437</td><td>N3JFAA</td><td>LGA</td><td>MIA</td><td>150</td><td>1096</td><td>19</td><td>35</td><td>2013-09-30 19:00:00</td></tr>\n",
              "\t<tr><td>2013</td><td>9</td><td>30</td><td>2022</td><td>2025</td><td> -3</td><td>2127</td><td>2140</td><td>-13</td><td>AA</td><td>2314</td><td>N3CUAA</td><td>JFK</td><td>BOS</td><td> 37</td><td> 187</td><td>20</td><td>25</td><td>2013-09-30 20:00:00</td></tr>\n",
              "\t<tr><td>2013</td><td>9</td><td>30</td><td>2028</td><td>1910</td><td> 78</td><td>2255</td><td>2215</td><td> 40</td><td>AA</td><td>  21</td><td>N338AA</td><td>JFK</td><td>LAX</td><td>294</td><td>2475</td><td>19</td><td>10</td><td>2013-09-30 19:00:00</td></tr>\n",
              "\t<tr><td>2013</td><td>9</td><td>30</td><td>2032</td><td>2045</td><td>-13</td><td>2147</td><td>2225</td><td>-38</td><td>AA</td><td> 371</td><td>N434AA</td><td>LGA</td><td>ORD</td><td>105</td><td> 733</td><td>20</td><td>45</td><td>2013-09-30 20:00:00</td></tr>\n",
              "\t<tr><td>2013</td><td>9</td><td>30</td><td>2140</td><td>2140</td><td>  0</td><td>  10</td><td>  40</td><td>-30</td><td>AA</td><td> 185</td><td>N335AA</td><td>JFK</td><td>LAX</td><td>298</td><td>2475</td><td>21</td><td>40</td><td>2013-09-30 21:00:00</td></tr>\n",
              "</tbody>\n",
              "</table>\n"
            ],
            "text/markdown": "\nA tibble: 1055 × 19\n\n| year &lt;int&gt; | month &lt;int&gt; | day &lt;int&gt; | dep_time &lt;int&gt; | sched_dep_time &lt;int&gt; | dep_delay &lt;dbl&gt; | arr_time &lt;int&gt; | sched_arr_time &lt;int&gt; | arr_delay &lt;dbl&gt; | carrier &lt;chr&gt; | flight &lt;int&gt; | tailnum &lt;chr&gt; | origin &lt;chr&gt; | dest &lt;chr&gt; | air_time &lt;dbl&gt; | distance &lt;dbl&gt; | hour &lt;dbl&gt; | minute &lt;dbl&gt; | time_hour &lt;dttm&gt; |\n|---|---|---|---|---|---|---|---|---|---|---|---|---|---|---|---|---|---|---|\n| 2013 | 1 | 31 | 540 | 540 |   0 |  851 |  850 |   1 | AA | 1141 | N5ELAA | JFK | MIA | 165 | 1089 | 5 | 40 | 2013-01-31 05:00:00 |\n| 2013 | 1 | 31 | 554 | 600 |  -6 |  900 |  910 | -10 | AA |  707 | N3HLAA | LGA | DFW | 221 | 1389 | 6 |  0 | 2013-01-31 06:00:00 |\n| 2013 | 1 | 31 | 554 | 600 |  -6 |  726 |  745 | -19 | AA |  301 | N3DEAA | LGA | ORD | 121 |  733 | 6 |  0 | 2013-01-31 06:00:00 |\n| 2013 | 1 | 31 | 600 | 610 | -10 |  911 |  910 |   1 | AA | 1895 | N5DMAA | EWR | MIA | 166 | 1085 | 6 | 10 | 2013-01-31 06:00:00 |\n| 2013 | 1 | 31 | 607 | 610 |  -3 |  924 |  915 |   9 | AA | 1837 | N3DNAA | LGA | MIA | 173 | 1096 | 6 | 10 | 2013-01-31 06:00:00 |\n| 2013 | 1 | 31 | 626 | 630 |  -4 |  740 |  810 | -30 | AA |  303 | N3CXAA | LGA | ORD | 116 |  733 | 6 | 30 | 2013-01-31 06:00:00 |\n| 2013 | 1 | 31 | 628 | 635 |  -7 |  932 |  940 |  -8 | AA |  711 | N3JJAA | LGA | DFW | 222 | 1389 | 6 | 35 | 2013-01-31 06:00:00 |\n| 2013 | 1 | 31 | 638 | 630 |   8 | 1147 | 1140 |   7 | AA |  413 | N3CFAA | JFK | SJU | 205 | 1598 | 6 | 30 | 2013-01-31 06:00:00 |\n| 2013 | 1 | 31 | 651 | 700 |  -9 |  839 |  850 | -11 | AA |  305 | N4XBAA | LGA | ORD | 126 |  733 | 7 |  0 | 2013-01-31 07:00:00 |\n| 2013 | 1 | 31 | 659 | 700 |  -1 | 1059 | 1015 |  44 | AA | 2279 | N3HHAA | LGA | MIA | 181 | 1096 | 7 |  0 | 2013-01-31 07:00:00 |\n| 2013 | 1 | 31 | 702 | 659 |   3 | 1035 |  959 |  36 | AA | 1815 | N324AA | JFK | MCO | 156 |  944 | 6 | 59 | 2013-01-31 06:00:00 |\n| 2013 | 1 | 31 | 715 | 715 |   0 | 1101 | 1035 |  26 | AA |  825 | N3FKAA | JFK | FLL | 178 | 1069 | 7 | 15 | 2013-01-31 07:00:00 |\n| 2013 | 1 | 31 | 722 | 730 |  -8 | 1051 | 1040 |  11 | AA |  715 | N474AA | LGA | DFW | 223 | 1389 | 7 | 30 | 2013-01-31 07:00:00 |\n| 2013 | 1 | 31 | 722 | 730 |  -8 | 1021 | 1040 | -19 | AA | 2083 | N4YHAA | EWR | DFW | 208 | 1372 | 7 | 30 | 2013-01-31 07:00:00 |\n| 2013 | 1 | 31 | 723 | 715 |   8 | 1118 | 1045 |  33 | AA |  443 | N5DUAA | JFK | MIA | 185 | 1089 | 7 | 15 | 2013-01-31 07:00:00 |\n| 2013 | 1 | 31 | 734 | 730 |   4 | 1059 | 1100 |  -1 | AA |   33 | N319AA | JFK | LAX | 340 | 2475 | 7 | 30 | 2013-01-31 07:00:00 |\n| 2013 | 1 | 31 | 740 | 745 |  -5 |  923 |  930 |  -7 | AA |  309 | N521AA | LGA | ORD | 121 |  733 | 7 | 45 | 2013-01-31 07:00:00 |\n| 2013 | 1 | 31 | 742 | 745 |  -3 | 1115 | 1125 | -10 | AA |   59 | N390AA | JFK | SFO | 358 | 2586 | 7 | 45 | 2013-01-31 07:00:00 |\n| 2013 | 1 | 31 | 749 | 755 |  -6 | 1127 | 1110 |  17 | AA | 2267 | N3GMAA | LGA | MIA | 177 | 1096 | 7 | 55 | 2013-01-31 07:00:00 |\n| 2013 | 1 | 31 | 804 | 810 |  -6 | 1253 | 1315 | -22 | AA |  655 | N5FSAA | JFK | STT | 204 | 1623 | 8 | 10 | 2013-01-31 08:00:00 |\n| 2013 | 1 | 31 | 804 | 810 |  -6 |  914 |  925 | -11 | AA | 1838 | N3JRAA | JFK | BOS |  41 |  187 | 8 | 10 | 2013-01-31 08:00:00 |\n| 2013 | 1 | 31 | 826 | 830 |  -4 | 1033 | 1025 |   8 | AA | 1855 | N576AA | LGA | STL | 157 |  888 | 8 | 30 | 2013-01-31 08:00:00 |\n| 2013 | 1 | 31 | 828 | 830 |  -2 | 1025 | 1015 |  10 | AA |  313 | N513AA | LGA | ORD | 122 |  733 | 8 | 30 | 2013-01-31 08:00:00 |\n| 2013 | 1 | 31 | 840 | 835 |   5 | 1151 | 1150 |   1 | AA |  717 | N3EPAA | LGA | DFW | 214 | 1389 | 8 | 35 | 2013-01-31 08:00:00 |\n| 2013 | 1 | 31 | 841 | 845 |  -4 | 1350 | 1350 |   0 | AA | 1357 | N5FMAA | JFK | SJU | 205 | 1598 | 8 | 45 | 2013-01-31 08:00:00 |\n| 2013 | 1 | 31 | 853 | 900 |  -7 | 1227 | 1220 |   7 | AA |  647 | N5DTAA | JFK | MIA | 170 | 1089 | 9 |  0 | 2013-01-31 09:00:00 |\n| 2013 | 1 | 31 | 856 | 900 |  -4 | 1226 | 1220 |   6 | AA |    1 | N320AA | JFK | LAX | 331 | 2475 | 9 |  0 | 2013-01-31 09:00:00 |\n| 2013 | 1 | 31 | 914 | 920 |  -6 | 1241 | 1240 |   1 | AA | 1589 | N592AA | EWR | DFW | 220 | 1372 | 9 | 20 | 2013-01-31 09:00:00 |\n| 2013 | 1 | 31 | 916 | 920 |  -4 | 1242 | 1245 |  -3 | AA |  721 | N471AA | LGA | DFW | 224 | 1389 | 9 | 20 | 2013-01-31 09:00:00 |\n| 2013 | 1 | 31 | 939 | 940 |  -1 | 1302 | 1250 |  12 | AA | 1871 | N3FAAA | LGA | MIA | 164 | 1096 | 9 | 40 | 2013-01-31 09:00:00 |\n| ⋮ | ⋮ | ⋮ | ⋮ | ⋮ | ⋮ | ⋮ | ⋮ | ⋮ | ⋮ | ⋮ | ⋮ | ⋮ | ⋮ | ⋮ | ⋮ | ⋮ | ⋮ | ⋮ |\n| 2013 | 9 | 30 | 1612 | 1620 |  -8 | 1930 | 1940 | -10 | AA | 1410 | N3DWAA | LGA | MIA | 148 | 1096 | 16 | 20 | 2013-09-30 16:00:00 |\n| 2013 | 9 | 30 | 1616 | 1620 |  -4 | 1859 | 1935 | -36 | AA |  172 | N3JVAA | EWR | MIA | 140 | 1085 | 16 | 20 | 2013-09-30 16:00:00 |\n| 2013 | 9 | 30 | 1616 | 1545 |  31 | 1736 | 1705 |  31 | AA |  256 | N3CUAA | JFK | BOS |  35 |  187 | 15 | 45 | 2013-09-30 15:00:00 |\n| 2013 | 9 | 30 | 1633 | 1515 |  78 | 1906 | 1810 |  56 | AA |  320 | N502AA | EWR | DFW | 166 | 1372 | 15 | 15 | 2013-09-30 15:00:00 |\n| 2013 | 9 | 30 | 1643 | 1655 | -12 | 1809 | 1845 | -36 | AA | 2223 | N501AA | LGA | STL | 120 |  888 | 16 | 55 | 2013-09-30 16:00:00 |\n| 2013 | 9 | 30 | 1656 | 1700 |  -4 | 1950 | 1955 |  -5 | AA |  211 | N3KSAA | JFK | IAH | 192 | 1417 | 17 |  0 | 2013-09-30 17:00:00 |\n| 2013 | 9 | 30 | 1656 | 1700 |  -4 | 1922 | 2000 | -38 | AA | 1171 | N3AEAA | LGA | DFW | 172 | 1389 | 17 |  0 | 2013-09-30 17:00:00 |\n| 2013 | 9 | 30 | 1658 | 1700 |  -2 | 1823 | 1855 | -32 | AA |  199 | N3GKAA | JFK | ORD | 111 |  740 | 17 |  0 | 2013-09-30 17:00:00 |\n| 2013 | 9 | 30 | 1659 | 1700 |  -1 | 1915 | 1945 | -30 | AA |   45 | N635AA | JFK | LAS | 281 | 2248 | 17 |  0 | 2013-09-30 17:00:00 |\n| 2013 | 9 | 30 | 1716 | 1715 |   1 | 1907 | 1905 |   2 | AA |  345 | N543AA | LGA | ORD | 109 |  733 | 17 | 15 | 2013-09-30 17:00:00 |\n| 2013 | 9 | 30 | 1720 | 1720 |   0 | 1944 | 2030 | -46 | AA |  291 | N3LBAA | JFK | AUS | 184 | 1521 | 17 | 20 | 2013-09-30 17:00:00 |\n| 2013 | 9 | 30 | 1723 | 1715 |   8 | 2005 | 2015 | -10 | AA | 2488 | N4WPAA | EWR | DFW | 171 | 1372 | 17 | 15 | 2013-09-30 17:00:00 |\n| 2013 | 9 | 30 | 1726 | 1630 |  56 | 1946 | 1940 |   6 | AA |  181 | N5EGAA | JFK | LAX | 303 | 2475 | 16 | 30 | 2013-09-30 16:00:00 |\n| 2013 | 9 | 30 | 1744 | 1740 |   4 | 2017 | 2035 | -18 | AA |   67 | N3BPAA | JFK | SAN | 306 | 2446 | 17 | 40 | 2013-09-30 17:00:00 |\n| 2013 | 9 | 30 | 1755 | 1755 |   0 | 2020 | 2055 | -35 | AA | 1185 | N3EYAA | LGA | DFW | 174 | 1389 | 17 | 55 | 2013-09-30 17:00:00 |\n| 2013 | 9 | 30 | 1757 | 1805 |  -8 | 1921 | 1950 | -29 | AA |  353 | N526AA | LGA | ORD | 106 |  733 | 18 |  5 | 2013-09-30 18:00:00 |\n| 2013 | 9 | 30 | 1802 | 1735 |  27 | 2047 | 2055 |  -8 | AA | 2351 | N387AA | JFK | MIA | 136 | 1089 | 17 | 35 | 2013-09-30 17:00:00 |\n| 2013 | 9 | 30 | 1811 | 1815 |  -4 | 2059 | 2135 | -36 | AA | 1611 | N3BBAA | LGA | MIA | 142 | 1096 | 18 | 15 | 2013-09-30 18:00:00 |\n| 2013 | 9 | 30 | 1843 | 1850 |  -7 | 2136 | 2200 | -24 | AA |  119 | N3KRAA | EWR | LAX | 302 | 2454 | 18 | 50 | 2013-09-30 18:00:00 |\n| 2013 | 9 | 30 | 1849 | 1855 |  -6 | 2007 | 2035 | -28 | AA |  359 | N4XJAA | LGA | ORD | 108 |  733 | 18 | 55 | 2013-09-30 18:00:00 |\n| 2013 | 9 | 30 | 1852 | 1845 |   7 | 2145 | 2210 | -25 | AA |  177 | N329AA | JFK | SFO | 325 | 2586 | 18 | 45 | 2013-09-30 18:00:00 |\n| 2013 | 9 | 30 | 1900 | 1910 | -10 | 2147 | 2210 | -23 | AA | 1193 | N3HBAA | LGA | DFW | 179 | 1389 | 19 | 10 | 2013-09-30 19:00:00 |\n| 2013 | 9 | 30 | 1910 | 1905 |   5 | 2131 | 2205 | -34 | AA | 1691 | N483AA | EWR | DFW | 163 | 1372 | 19 |  5 | 2013-09-30 19:00:00 |\n| 2013 | 9 | 30 | 1928 | 1940 | -12 | 2043 | 2120 | -37 | AA |  363 | N4XBAA | LGA | ORD | 109 |  733 | 19 | 40 | 2013-09-30 19:00:00 |\n| 2013 | 9 | 30 | 1934 | 1930 |   4 | 2236 | 2250 | -14 | AA |  235 | N3EXAA | JFK | SEA | 340 | 2422 | 19 | 30 | 2013-09-30 19:00:00 |\n| 2013 | 9 | 30 | 1934 | 1935 |  -1 | 2238 | 2250 | -12 | AA | 2437 | N3JFAA | LGA | MIA | 150 | 1096 | 19 | 35 | 2013-09-30 19:00:00 |\n| 2013 | 9 | 30 | 2022 | 2025 |  -3 | 2127 | 2140 | -13 | AA | 2314 | N3CUAA | JFK | BOS |  37 |  187 | 20 | 25 | 2013-09-30 20:00:00 |\n| 2013 | 9 | 30 | 2028 | 1910 |  78 | 2255 | 2215 |  40 | AA |   21 | N338AA | JFK | LAX | 294 | 2475 | 19 | 10 | 2013-09-30 19:00:00 |\n| 2013 | 9 | 30 | 2032 | 2045 | -13 | 2147 | 2225 | -38 | AA |  371 | N434AA | LGA | ORD | 105 |  733 | 20 | 45 | 2013-09-30 20:00:00 |\n| 2013 | 9 | 30 | 2140 | 2140 |   0 |   10 |   40 | -30 | AA |  185 | N335AA | JFK | LAX | 298 | 2475 | 21 | 40 | 2013-09-30 21:00:00 |\n\n",
            "text/latex": "A tibble: 1055 × 19\n\\begin{tabular}{lllllllllllllllllll}\n year & month & day & dep\\_time & sched\\_dep\\_time & dep\\_delay & arr\\_time & sched\\_arr\\_time & arr\\_delay & carrier & flight & tailnum & origin & dest & air\\_time & distance & hour & minute & time\\_hour\\\\\n <int> & <int> & <int> & <int> & <int> & <dbl> & <int> & <int> & <dbl> & <chr> & <int> & <chr> & <chr> & <chr> & <dbl> & <dbl> & <dbl> & <dbl> & <dttm>\\\\\n\\hline\n\t 2013 & 1 & 31 & 540 & 540 &   0 &  851 &  850 &   1 & AA & 1141 & N5ELAA & JFK & MIA & 165 & 1089 & 5 & 40 & 2013-01-31 05:00:00\\\\\n\t 2013 & 1 & 31 & 554 & 600 &  -6 &  900 &  910 & -10 & AA &  707 & N3HLAA & LGA & DFW & 221 & 1389 & 6 &  0 & 2013-01-31 06:00:00\\\\\n\t 2013 & 1 & 31 & 554 & 600 &  -6 &  726 &  745 & -19 & AA &  301 & N3DEAA & LGA & ORD & 121 &  733 & 6 &  0 & 2013-01-31 06:00:00\\\\\n\t 2013 & 1 & 31 & 600 & 610 & -10 &  911 &  910 &   1 & AA & 1895 & N5DMAA & EWR & MIA & 166 & 1085 & 6 & 10 & 2013-01-31 06:00:00\\\\\n\t 2013 & 1 & 31 & 607 & 610 &  -3 &  924 &  915 &   9 & AA & 1837 & N3DNAA & LGA & MIA & 173 & 1096 & 6 & 10 & 2013-01-31 06:00:00\\\\\n\t 2013 & 1 & 31 & 626 & 630 &  -4 &  740 &  810 & -30 & AA &  303 & N3CXAA & LGA & ORD & 116 &  733 & 6 & 30 & 2013-01-31 06:00:00\\\\\n\t 2013 & 1 & 31 & 628 & 635 &  -7 &  932 &  940 &  -8 & AA &  711 & N3JJAA & LGA & DFW & 222 & 1389 & 6 & 35 & 2013-01-31 06:00:00\\\\\n\t 2013 & 1 & 31 & 638 & 630 &   8 & 1147 & 1140 &   7 & AA &  413 & N3CFAA & JFK & SJU & 205 & 1598 & 6 & 30 & 2013-01-31 06:00:00\\\\\n\t 2013 & 1 & 31 & 651 & 700 &  -9 &  839 &  850 & -11 & AA &  305 & N4XBAA & LGA & ORD & 126 &  733 & 7 &  0 & 2013-01-31 07:00:00\\\\\n\t 2013 & 1 & 31 & 659 & 700 &  -1 & 1059 & 1015 &  44 & AA & 2279 & N3HHAA & LGA & MIA & 181 & 1096 & 7 &  0 & 2013-01-31 07:00:00\\\\\n\t 2013 & 1 & 31 & 702 & 659 &   3 & 1035 &  959 &  36 & AA & 1815 & N324AA & JFK & MCO & 156 &  944 & 6 & 59 & 2013-01-31 06:00:00\\\\\n\t 2013 & 1 & 31 & 715 & 715 &   0 & 1101 & 1035 &  26 & AA &  825 & N3FKAA & JFK & FLL & 178 & 1069 & 7 & 15 & 2013-01-31 07:00:00\\\\\n\t 2013 & 1 & 31 & 722 & 730 &  -8 & 1051 & 1040 &  11 & AA &  715 & N474AA & LGA & DFW & 223 & 1389 & 7 & 30 & 2013-01-31 07:00:00\\\\\n\t 2013 & 1 & 31 & 722 & 730 &  -8 & 1021 & 1040 & -19 & AA & 2083 & N4YHAA & EWR & DFW & 208 & 1372 & 7 & 30 & 2013-01-31 07:00:00\\\\\n\t 2013 & 1 & 31 & 723 & 715 &   8 & 1118 & 1045 &  33 & AA &  443 & N5DUAA & JFK & MIA & 185 & 1089 & 7 & 15 & 2013-01-31 07:00:00\\\\\n\t 2013 & 1 & 31 & 734 & 730 &   4 & 1059 & 1100 &  -1 & AA &   33 & N319AA & JFK & LAX & 340 & 2475 & 7 & 30 & 2013-01-31 07:00:00\\\\\n\t 2013 & 1 & 31 & 740 & 745 &  -5 &  923 &  930 &  -7 & AA &  309 & N521AA & LGA & ORD & 121 &  733 & 7 & 45 & 2013-01-31 07:00:00\\\\\n\t 2013 & 1 & 31 & 742 & 745 &  -3 & 1115 & 1125 & -10 & AA &   59 & N390AA & JFK & SFO & 358 & 2586 & 7 & 45 & 2013-01-31 07:00:00\\\\\n\t 2013 & 1 & 31 & 749 & 755 &  -6 & 1127 & 1110 &  17 & AA & 2267 & N3GMAA & LGA & MIA & 177 & 1096 & 7 & 55 & 2013-01-31 07:00:00\\\\\n\t 2013 & 1 & 31 & 804 & 810 &  -6 & 1253 & 1315 & -22 & AA &  655 & N5FSAA & JFK & STT & 204 & 1623 & 8 & 10 & 2013-01-31 08:00:00\\\\\n\t 2013 & 1 & 31 & 804 & 810 &  -6 &  914 &  925 & -11 & AA & 1838 & N3JRAA & JFK & BOS &  41 &  187 & 8 & 10 & 2013-01-31 08:00:00\\\\\n\t 2013 & 1 & 31 & 826 & 830 &  -4 & 1033 & 1025 &   8 & AA & 1855 & N576AA & LGA & STL & 157 &  888 & 8 & 30 & 2013-01-31 08:00:00\\\\\n\t 2013 & 1 & 31 & 828 & 830 &  -2 & 1025 & 1015 &  10 & AA &  313 & N513AA & LGA & ORD & 122 &  733 & 8 & 30 & 2013-01-31 08:00:00\\\\\n\t 2013 & 1 & 31 & 840 & 835 &   5 & 1151 & 1150 &   1 & AA &  717 & N3EPAA & LGA & DFW & 214 & 1389 & 8 & 35 & 2013-01-31 08:00:00\\\\\n\t 2013 & 1 & 31 & 841 & 845 &  -4 & 1350 & 1350 &   0 & AA & 1357 & N5FMAA & JFK & SJU & 205 & 1598 & 8 & 45 & 2013-01-31 08:00:00\\\\\n\t 2013 & 1 & 31 & 853 & 900 &  -7 & 1227 & 1220 &   7 & AA &  647 & N5DTAA & JFK & MIA & 170 & 1089 & 9 &  0 & 2013-01-31 09:00:00\\\\\n\t 2013 & 1 & 31 & 856 & 900 &  -4 & 1226 & 1220 &   6 & AA &    1 & N320AA & JFK & LAX & 331 & 2475 & 9 &  0 & 2013-01-31 09:00:00\\\\\n\t 2013 & 1 & 31 & 914 & 920 &  -6 & 1241 & 1240 &   1 & AA & 1589 & N592AA & EWR & DFW & 220 & 1372 & 9 & 20 & 2013-01-31 09:00:00\\\\\n\t 2013 & 1 & 31 & 916 & 920 &  -4 & 1242 & 1245 &  -3 & AA &  721 & N471AA & LGA & DFW & 224 & 1389 & 9 & 20 & 2013-01-31 09:00:00\\\\\n\t 2013 & 1 & 31 & 939 & 940 &  -1 & 1302 & 1250 &  12 & AA & 1871 & N3FAAA & LGA & MIA & 164 & 1096 & 9 & 40 & 2013-01-31 09:00:00\\\\\n\t ⋮ & ⋮ & ⋮ & ⋮ & ⋮ & ⋮ & ⋮ & ⋮ & ⋮ & ⋮ & ⋮ & ⋮ & ⋮ & ⋮ & ⋮ & ⋮ & ⋮ & ⋮ & ⋮\\\\\n\t 2013 & 9 & 30 & 1612 & 1620 &  -8 & 1930 & 1940 & -10 & AA & 1410 & N3DWAA & LGA & MIA & 148 & 1096 & 16 & 20 & 2013-09-30 16:00:00\\\\\n\t 2013 & 9 & 30 & 1616 & 1620 &  -4 & 1859 & 1935 & -36 & AA &  172 & N3JVAA & EWR & MIA & 140 & 1085 & 16 & 20 & 2013-09-30 16:00:00\\\\\n\t 2013 & 9 & 30 & 1616 & 1545 &  31 & 1736 & 1705 &  31 & AA &  256 & N3CUAA & JFK & BOS &  35 &  187 & 15 & 45 & 2013-09-30 15:00:00\\\\\n\t 2013 & 9 & 30 & 1633 & 1515 &  78 & 1906 & 1810 &  56 & AA &  320 & N502AA & EWR & DFW & 166 & 1372 & 15 & 15 & 2013-09-30 15:00:00\\\\\n\t 2013 & 9 & 30 & 1643 & 1655 & -12 & 1809 & 1845 & -36 & AA & 2223 & N501AA & LGA & STL & 120 &  888 & 16 & 55 & 2013-09-30 16:00:00\\\\\n\t 2013 & 9 & 30 & 1656 & 1700 &  -4 & 1950 & 1955 &  -5 & AA &  211 & N3KSAA & JFK & IAH & 192 & 1417 & 17 &  0 & 2013-09-30 17:00:00\\\\\n\t 2013 & 9 & 30 & 1656 & 1700 &  -4 & 1922 & 2000 & -38 & AA & 1171 & N3AEAA & LGA & DFW & 172 & 1389 & 17 &  0 & 2013-09-30 17:00:00\\\\\n\t 2013 & 9 & 30 & 1658 & 1700 &  -2 & 1823 & 1855 & -32 & AA &  199 & N3GKAA & JFK & ORD & 111 &  740 & 17 &  0 & 2013-09-30 17:00:00\\\\\n\t 2013 & 9 & 30 & 1659 & 1700 &  -1 & 1915 & 1945 & -30 & AA &   45 & N635AA & JFK & LAS & 281 & 2248 & 17 &  0 & 2013-09-30 17:00:00\\\\\n\t 2013 & 9 & 30 & 1716 & 1715 &   1 & 1907 & 1905 &   2 & AA &  345 & N543AA & LGA & ORD & 109 &  733 & 17 & 15 & 2013-09-30 17:00:00\\\\\n\t 2013 & 9 & 30 & 1720 & 1720 &   0 & 1944 & 2030 & -46 & AA &  291 & N3LBAA & JFK & AUS & 184 & 1521 & 17 & 20 & 2013-09-30 17:00:00\\\\\n\t 2013 & 9 & 30 & 1723 & 1715 &   8 & 2005 & 2015 & -10 & AA & 2488 & N4WPAA & EWR & DFW & 171 & 1372 & 17 & 15 & 2013-09-30 17:00:00\\\\\n\t 2013 & 9 & 30 & 1726 & 1630 &  56 & 1946 & 1940 &   6 & AA &  181 & N5EGAA & JFK & LAX & 303 & 2475 & 16 & 30 & 2013-09-30 16:00:00\\\\\n\t 2013 & 9 & 30 & 1744 & 1740 &   4 & 2017 & 2035 & -18 & AA &   67 & N3BPAA & JFK & SAN & 306 & 2446 & 17 & 40 & 2013-09-30 17:00:00\\\\\n\t 2013 & 9 & 30 & 1755 & 1755 &   0 & 2020 & 2055 & -35 & AA & 1185 & N3EYAA & LGA & DFW & 174 & 1389 & 17 & 55 & 2013-09-30 17:00:00\\\\\n\t 2013 & 9 & 30 & 1757 & 1805 &  -8 & 1921 & 1950 & -29 & AA &  353 & N526AA & LGA & ORD & 106 &  733 & 18 &  5 & 2013-09-30 18:00:00\\\\\n\t 2013 & 9 & 30 & 1802 & 1735 &  27 & 2047 & 2055 &  -8 & AA & 2351 & N387AA & JFK & MIA & 136 & 1089 & 17 & 35 & 2013-09-30 17:00:00\\\\\n\t 2013 & 9 & 30 & 1811 & 1815 &  -4 & 2059 & 2135 & -36 & AA & 1611 & N3BBAA & LGA & MIA & 142 & 1096 & 18 & 15 & 2013-09-30 18:00:00\\\\\n\t 2013 & 9 & 30 & 1843 & 1850 &  -7 & 2136 & 2200 & -24 & AA &  119 & N3KRAA & EWR & LAX & 302 & 2454 & 18 & 50 & 2013-09-30 18:00:00\\\\\n\t 2013 & 9 & 30 & 1849 & 1855 &  -6 & 2007 & 2035 & -28 & AA &  359 & N4XJAA & LGA & ORD & 108 &  733 & 18 & 55 & 2013-09-30 18:00:00\\\\\n\t 2013 & 9 & 30 & 1852 & 1845 &   7 & 2145 & 2210 & -25 & AA &  177 & N329AA & JFK & SFO & 325 & 2586 & 18 & 45 & 2013-09-30 18:00:00\\\\\n\t 2013 & 9 & 30 & 1900 & 1910 & -10 & 2147 & 2210 & -23 & AA & 1193 & N3HBAA & LGA & DFW & 179 & 1389 & 19 & 10 & 2013-09-30 19:00:00\\\\\n\t 2013 & 9 & 30 & 1910 & 1905 &   5 & 2131 & 2205 & -34 & AA & 1691 & N483AA & EWR & DFW & 163 & 1372 & 19 &  5 & 2013-09-30 19:00:00\\\\\n\t 2013 & 9 & 30 & 1928 & 1940 & -12 & 2043 & 2120 & -37 & AA &  363 & N4XBAA & LGA & ORD & 109 &  733 & 19 & 40 & 2013-09-30 19:00:00\\\\\n\t 2013 & 9 & 30 & 1934 & 1930 &   4 & 2236 & 2250 & -14 & AA &  235 & N3EXAA & JFK & SEA & 340 & 2422 & 19 & 30 & 2013-09-30 19:00:00\\\\\n\t 2013 & 9 & 30 & 1934 & 1935 &  -1 & 2238 & 2250 & -12 & AA & 2437 & N3JFAA & LGA & MIA & 150 & 1096 & 19 & 35 & 2013-09-30 19:00:00\\\\\n\t 2013 & 9 & 30 & 2022 & 2025 &  -3 & 2127 & 2140 & -13 & AA & 2314 & N3CUAA & JFK & BOS &  37 &  187 & 20 & 25 & 2013-09-30 20:00:00\\\\\n\t 2013 & 9 & 30 & 2028 & 1910 &  78 & 2255 & 2215 &  40 & AA &   21 & N338AA & JFK & LAX & 294 & 2475 & 19 & 10 & 2013-09-30 19:00:00\\\\\n\t 2013 & 9 & 30 & 2032 & 2045 & -13 & 2147 & 2225 & -38 & AA &  371 & N434AA & LGA & ORD & 105 &  733 & 20 & 45 & 2013-09-30 20:00:00\\\\\n\t 2013 & 9 & 30 & 2140 & 2140 &   0 &   10 &   40 & -30 & AA &  185 & N335AA & JFK & LAX & 298 & 2475 & 21 & 40 & 2013-09-30 21:00:00\\\\\n\\end{tabular}\n",
            "text/plain": [
              "     year month day dep_time sched_dep_time dep_delay arr_time sched_arr_time\n",
              "1    2013 1     31  540      540              0        851      850          \n",
              "2    2013 1     31  554      600             -6        900      910          \n",
              "3    2013 1     31  554      600             -6        726      745          \n",
              "4    2013 1     31  600      610            -10        911      910          \n",
              "5    2013 1     31  607      610             -3        924      915          \n",
              "6    2013 1     31  626      630             -4        740      810          \n",
              "7    2013 1     31  628      635             -7        932      940          \n",
              "8    2013 1     31  638      630              8       1147     1140          \n",
              "9    2013 1     31  651      700             -9        839      850          \n",
              "10   2013 1     31  659      700             -1       1059     1015          \n",
              "11   2013 1     31  702      659              3       1035      959          \n",
              "12   2013 1     31  715      715              0       1101     1035          \n",
              "13   2013 1     31  722      730             -8       1051     1040          \n",
              "14   2013 1     31  722      730             -8       1021     1040          \n",
              "15   2013 1     31  723      715              8       1118     1045          \n",
              "16   2013 1     31  734      730              4       1059     1100          \n",
              "17   2013 1     31  740      745             -5        923      930          \n",
              "18   2013 1     31  742      745             -3       1115     1125          \n",
              "19   2013 1     31  749      755             -6       1127     1110          \n",
              "20   2013 1     31  804      810             -6       1253     1315          \n",
              "21   2013 1     31  804      810             -6        914      925          \n",
              "22   2013 1     31  826      830             -4       1033     1025          \n",
              "23   2013 1     31  828      830             -2       1025     1015          \n",
              "24   2013 1     31  840      835              5       1151     1150          \n",
              "25   2013 1     31  841      845             -4       1350     1350          \n",
              "26   2013 1     31  853      900             -7       1227     1220          \n",
              "27   2013 1     31  856      900             -4       1226     1220          \n",
              "28   2013 1     31  914      920             -6       1241     1240          \n",
              "29   2013 1     31  916      920             -4       1242     1245          \n",
              "30   2013 1     31  939      940             -1       1302     1250          \n",
              "⋮    ⋮    ⋮     ⋮   ⋮        ⋮              ⋮         ⋮        ⋮             \n",
              "1026 2013 9     30  1612     1620            -8       1930     1940          \n",
              "1027 2013 9     30  1616     1620            -4       1859     1935          \n",
              "1028 2013 9     30  1616     1545            31       1736     1705          \n",
              "1029 2013 9     30  1633     1515            78       1906     1810          \n",
              "1030 2013 9     30  1643     1655           -12       1809     1845          \n",
              "1031 2013 9     30  1656     1700            -4       1950     1955          \n",
              "1032 2013 9     30  1656     1700            -4       1922     2000          \n",
              "1033 2013 9     30  1658     1700            -2       1823     1855          \n",
              "1034 2013 9     30  1659     1700            -1       1915     1945          \n",
              "1035 2013 9     30  1716     1715             1       1907     1905          \n",
              "1036 2013 9     30  1720     1720             0       1944     2030          \n",
              "1037 2013 9     30  1723     1715             8       2005     2015          \n",
              "1038 2013 9     30  1726     1630            56       1946     1940          \n",
              "1039 2013 9     30  1744     1740             4       2017     2035          \n",
              "1040 2013 9     30  1755     1755             0       2020     2055          \n",
              "1041 2013 9     30  1757     1805            -8       1921     1950          \n",
              "1042 2013 9     30  1802     1735            27       2047     2055          \n",
              "1043 2013 9     30  1811     1815            -4       2059     2135          \n",
              "1044 2013 9     30  1843     1850            -7       2136     2200          \n",
              "1045 2013 9     30  1849     1855            -6       2007     2035          \n",
              "1046 2013 9     30  1852     1845             7       2145     2210          \n",
              "1047 2013 9     30  1900     1910           -10       2147     2210          \n",
              "1048 2013 9     30  1910     1905             5       2131     2205          \n",
              "1049 2013 9     30  1928     1940           -12       2043     2120          \n",
              "1050 2013 9     30  1934     1930             4       2236     2250          \n",
              "1051 2013 9     30  1934     1935            -1       2238     2250          \n",
              "1052 2013 9     30  2022     2025            -3       2127     2140          \n",
              "1053 2013 9     30  2028     1910            78       2255     2215          \n",
              "1054 2013 9     30  2032     2045           -13       2147     2225          \n",
              "1055 2013 9     30  2140     2140             0         10       40          \n",
              "     arr_delay carrier flight tailnum origin dest air_time distance hour minute\n",
              "1      1       AA      1141   N5ELAA  JFK    MIA  165      1089     5    40    \n",
              "2    -10       AA       707   N3HLAA  LGA    DFW  221      1389     6     0    \n",
              "3    -19       AA       301   N3DEAA  LGA    ORD  121       733     6     0    \n",
              "4      1       AA      1895   N5DMAA  EWR    MIA  166      1085     6    10    \n",
              "5      9       AA      1837   N3DNAA  LGA    MIA  173      1096     6    10    \n",
              "6    -30       AA       303   N3CXAA  LGA    ORD  116       733     6    30    \n",
              "7     -8       AA       711   N3JJAA  LGA    DFW  222      1389     6    35    \n",
              "8      7       AA       413   N3CFAA  JFK    SJU  205      1598     6    30    \n",
              "9    -11       AA       305   N4XBAA  LGA    ORD  126       733     7     0    \n",
              "10    44       AA      2279   N3HHAA  LGA    MIA  181      1096     7     0    \n",
              "11    36       AA      1815   N324AA  JFK    MCO  156       944     6    59    \n",
              "12    26       AA       825   N3FKAA  JFK    FLL  178      1069     7    15    \n",
              "13    11       AA       715   N474AA  LGA    DFW  223      1389     7    30    \n",
              "14   -19       AA      2083   N4YHAA  EWR    DFW  208      1372     7    30    \n",
              "15    33       AA       443   N5DUAA  JFK    MIA  185      1089     7    15    \n",
              "16    -1       AA        33   N319AA  JFK    LAX  340      2475     7    30    \n",
              "17    -7       AA       309   N521AA  LGA    ORD  121       733     7    45    \n",
              "18   -10       AA        59   N390AA  JFK    SFO  358      2586     7    45    \n",
              "19    17       AA      2267   N3GMAA  LGA    MIA  177      1096     7    55    \n",
              "20   -22       AA       655   N5FSAA  JFK    STT  204      1623     8    10    \n",
              "21   -11       AA      1838   N3JRAA  JFK    BOS   41       187     8    10    \n",
              "22     8       AA      1855   N576AA  LGA    STL  157       888     8    30    \n",
              "23    10       AA       313   N513AA  LGA    ORD  122       733     8    30    \n",
              "24     1       AA       717   N3EPAA  LGA    DFW  214      1389     8    35    \n",
              "25     0       AA      1357   N5FMAA  JFK    SJU  205      1598     8    45    \n",
              "26     7       AA       647   N5DTAA  JFK    MIA  170      1089     9     0    \n",
              "27     6       AA         1   N320AA  JFK    LAX  331      2475     9     0    \n",
              "28     1       AA      1589   N592AA  EWR    DFW  220      1372     9    20    \n",
              "29    -3       AA       721   N471AA  LGA    DFW  224      1389     9    20    \n",
              "30    12       AA      1871   N3FAAA  LGA    MIA  164      1096     9    40    \n",
              "⋮    ⋮         ⋮       ⋮      ⋮       ⋮      ⋮    ⋮        ⋮        ⋮    ⋮     \n",
              "1026 -10       AA      1410   N3DWAA  LGA    MIA  148      1096     16   20    \n",
              "1027 -36       AA       172   N3JVAA  EWR    MIA  140      1085     16   20    \n",
              "1028  31       AA       256   N3CUAA  JFK    BOS   35       187     15   45    \n",
              "1029  56       AA       320   N502AA  EWR    DFW  166      1372     15   15    \n",
              "1030 -36       AA      2223   N501AA  LGA    STL  120       888     16   55    \n",
              "1031  -5       AA       211   N3KSAA  JFK    IAH  192      1417     17    0    \n",
              "1032 -38       AA      1171   N3AEAA  LGA    DFW  172      1389     17    0    \n",
              "1033 -32       AA       199   N3GKAA  JFK    ORD  111       740     17    0    \n",
              "1034 -30       AA        45   N635AA  JFK    LAS  281      2248     17    0    \n",
              "1035   2       AA       345   N543AA  LGA    ORD  109       733     17   15    \n",
              "1036 -46       AA       291   N3LBAA  JFK    AUS  184      1521     17   20    \n",
              "1037 -10       AA      2488   N4WPAA  EWR    DFW  171      1372     17   15    \n",
              "1038   6       AA       181   N5EGAA  JFK    LAX  303      2475     16   30    \n",
              "1039 -18       AA        67   N3BPAA  JFK    SAN  306      2446     17   40    \n",
              "1040 -35       AA      1185   N3EYAA  LGA    DFW  174      1389     17   55    \n",
              "1041 -29       AA       353   N526AA  LGA    ORD  106       733     18    5    \n",
              "1042  -8       AA      2351   N387AA  JFK    MIA  136      1089     17   35    \n",
              "1043 -36       AA      1611   N3BBAA  LGA    MIA  142      1096     18   15    \n",
              "1044 -24       AA       119   N3KRAA  EWR    LAX  302      2454     18   50    \n",
              "1045 -28       AA       359   N4XJAA  LGA    ORD  108       733     18   55    \n",
              "1046 -25       AA       177   N329AA  JFK    SFO  325      2586     18   45    \n",
              "1047 -23       AA      1193   N3HBAA  LGA    DFW  179      1389     19   10    \n",
              "1048 -34       AA      1691   N483AA  EWR    DFW  163      1372     19    5    \n",
              "1049 -37       AA       363   N4XBAA  LGA    ORD  109       733     19   40    \n",
              "1050 -14       AA       235   N3EXAA  JFK    SEA  340      2422     19   30    \n",
              "1051 -12       AA      2437   N3JFAA  LGA    MIA  150      1096     19   35    \n",
              "1052 -13       AA      2314   N3CUAA  JFK    BOS   37       187     20   25    \n",
              "1053  40       AA        21   N338AA  JFK    LAX  294      2475     19   10    \n",
              "1054 -38       AA       371   N434AA  LGA    ORD  105       733     20   45    \n",
              "1055 -30       AA       185   N335AA  JFK    LAX  298      2475     21   40    \n",
              "     time_hour          \n",
              "1    2013-01-31 05:00:00\n",
              "2    2013-01-31 06:00:00\n",
              "3    2013-01-31 06:00:00\n",
              "4    2013-01-31 06:00:00\n",
              "5    2013-01-31 06:00:00\n",
              "6    2013-01-31 06:00:00\n",
              "7    2013-01-31 06:00:00\n",
              "8    2013-01-31 06:00:00\n",
              "9    2013-01-31 07:00:00\n",
              "10   2013-01-31 07:00:00\n",
              "11   2013-01-31 06:00:00\n",
              "12   2013-01-31 07:00:00\n",
              "13   2013-01-31 07:00:00\n",
              "14   2013-01-31 07:00:00\n",
              "15   2013-01-31 07:00:00\n",
              "16   2013-01-31 07:00:00\n",
              "17   2013-01-31 07:00:00\n",
              "18   2013-01-31 07:00:00\n",
              "19   2013-01-31 07:00:00\n",
              "20   2013-01-31 08:00:00\n",
              "21   2013-01-31 08:00:00\n",
              "22   2013-01-31 08:00:00\n",
              "23   2013-01-31 08:00:00\n",
              "24   2013-01-31 08:00:00\n",
              "25   2013-01-31 08:00:00\n",
              "26   2013-01-31 09:00:00\n",
              "27   2013-01-31 09:00:00\n",
              "28   2013-01-31 09:00:00\n",
              "29   2013-01-31 09:00:00\n",
              "30   2013-01-31 09:00:00\n",
              "⋮    ⋮                  \n",
              "1026 2013-09-30 16:00:00\n",
              "1027 2013-09-30 16:00:00\n",
              "1028 2013-09-30 15:00:00\n",
              "1029 2013-09-30 15:00:00\n",
              "1030 2013-09-30 16:00:00\n",
              "1031 2013-09-30 17:00:00\n",
              "1032 2013-09-30 17:00:00\n",
              "1033 2013-09-30 17:00:00\n",
              "1034 2013-09-30 17:00:00\n",
              "1035 2013-09-30 17:00:00\n",
              "1036 2013-09-30 17:00:00\n",
              "1037 2013-09-30 17:00:00\n",
              "1038 2013-09-30 16:00:00\n",
              "1039 2013-09-30 17:00:00\n",
              "1040 2013-09-30 17:00:00\n",
              "1041 2013-09-30 18:00:00\n",
              "1042 2013-09-30 17:00:00\n",
              "1043 2013-09-30 18:00:00\n",
              "1044 2013-09-30 18:00:00\n",
              "1045 2013-09-30 18:00:00\n",
              "1046 2013-09-30 18:00:00\n",
              "1047 2013-09-30 19:00:00\n",
              "1048 2013-09-30 19:00:00\n",
              "1049 2013-09-30 19:00:00\n",
              "1050 2013-09-30 19:00:00\n",
              "1051 2013-09-30 19:00:00\n",
              "1052 2013-09-30 20:00:00\n",
              "1053 2013-09-30 19:00:00\n",
              "1054 2013-09-30 20:00:00\n",
              "1055 2013-09-30 21:00:00"
            ]
          },
          "metadata": {}
        }
      ],
      "source": [
        "# 2 filter\n",
        "month31 = c(1, 3, 5, 7, 8, 10, 12)\n",
        "month30 = c(4, 6, 9, 11)\n",
        "month28 = c(2)\n",
        "# use filter with complex conditions\n",
        "\n",
        "## Your Answer\n",
        "flights %>% \n",
        "  filter(carrier=='AA') %>%\n",
        "    filter( ((month %in% month31) & (day ==31)) | \n",
        "            ((month %in% month30) & (day==30)) | \n",
        "            ((month %in% month28) & (day==28)) )"
      ]
    },
    {
      "cell_type": "markdown",
      "metadata": {
        "id": "oZ7-s2ejLAc8"
      },
      "source": [
        "* Notice that you can always write several logical conditions in one filter function. However, separating them apart can help other people understanding your code."
      ]
    },
    {
      "cell_type": "markdown",
      "metadata": {
        "id": "u_QJyiVBVjIg"
      },
      "source": [
        "3. Use arrange to sort flights dataset by descending order of the division of distance by `air_time`."
      ]
    },
    {
      "cell_type": "code",
      "execution_count": 42,
      "metadata": {
        "colab": {
          "base_uri": "https://localhost:8080/",
          "height": 1000
        },
        "id": "Nr6VwSJsVjIg",
        "outputId": "70120357-4c1a-47c0-85e6-1bac8ba371cd"
      },
      "outputs": [
        {
          "output_type": "display_data",
          "data": {
            "text/html": [
              "<table class=\"dataframe\">\n",
              "<caption>A tibble: 336776 × 19</caption>\n",
              "<thead>\n",
              "\t<tr><th scope=col>year</th><th scope=col>month</th><th scope=col>day</th><th scope=col>dep_time</th><th scope=col>sched_dep_time</th><th scope=col>dep_delay</th><th scope=col>arr_time</th><th scope=col>sched_arr_time</th><th scope=col>arr_delay</th><th scope=col>carrier</th><th scope=col>flight</th><th scope=col>tailnum</th><th scope=col>origin</th><th scope=col>dest</th><th scope=col>air_time</th><th scope=col>distance</th><th scope=col>hour</th><th scope=col>minute</th><th scope=col>time_hour</th></tr>\n",
              "\t<tr><th scope=col>&lt;int&gt;</th><th scope=col>&lt;int&gt;</th><th scope=col>&lt;int&gt;</th><th scope=col>&lt;int&gt;</th><th scope=col>&lt;int&gt;</th><th scope=col>&lt;dbl&gt;</th><th scope=col>&lt;int&gt;</th><th scope=col>&lt;int&gt;</th><th scope=col>&lt;dbl&gt;</th><th scope=col>&lt;chr&gt;</th><th scope=col>&lt;int&gt;</th><th scope=col>&lt;chr&gt;</th><th scope=col>&lt;chr&gt;</th><th scope=col>&lt;chr&gt;</th><th scope=col>&lt;dbl&gt;</th><th scope=col>&lt;dbl&gt;</th><th scope=col>&lt;dbl&gt;</th><th scope=col>&lt;dbl&gt;</th><th scope=col>&lt;dttm&gt;</th></tr>\n",
              "</thead>\n",
              "<tbody>\n",
              "\t<tr><td>2013</td><td> 5</td><td>25</td><td>1709</td><td>1700</td><td>  9</td><td>1923</td><td>1937</td><td>-14</td><td>DL</td><td>1499</td><td>N666DN</td><td>LGA</td><td>ATL</td><td> 65</td><td> 762</td><td>17</td><td> 0</td><td>2013-05-25 17:00:00</td></tr>\n",
              "\t<tr><td>2013</td><td> 7</td><td> 2</td><td>1558</td><td>1513</td><td> 45</td><td>1745</td><td>1719</td><td> 26</td><td>EV</td><td>4667</td><td>N17196</td><td>EWR</td><td>MSP</td><td> 93</td><td>1008</td><td>15</td><td>13</td><td>2013-07-02 15:00:00</td></tr>\n",
              "\t<tr><td>2013</td><td> 5</td><td>13</td><td>2040</td><td>2025</td><td> 15</td><td>2225</td><td>2226</td><td> -1</td><td>EV</td><td>4292</td><td>N14568</td><td>EWR</td><td>GSP</td><td> 55</td><td> 594</td><td>20</td><td>25</td><td>2013-05-13 20:00:00</td></tr>\n",
              "\t<tr><td>2013</td><td> 3</td><td>23</td><td>1914</td><td>1910</td><td>  4</td><td>2045</td><td>2043</td><td>  2</td><td>EV</td><td>3805</td><td>N12567</td><td>EWR</td><td>BNA</td><td> 70</td><td> 748</td><td>19</td><td>10</td><td>2013-03-23 19:00:00</td></tr>\n",
              "\t<tr><td>2013</td><td> 1</td><td>12</td><td>1559</td><td>1600</td><td> -1</td><td>1849</td><td>1917</td><td>-28</td><td>DL</td><td>1902</td><td>N956DL</td><td>LGA</td><td>PBI</td><td>105</td><td>1035</td><td>16</td><td> 0</td><td>2013-01-12 16:00:00</td></tr>\n",
              "\t<tr><td>2013</td><td>11</td><td>17</td><td> 650</td><td> 655</td><td> -5</td><td>1059</td><td>1150</td><td>-51</td><td>DL</td><td> 315</td><td>N3768 </td><td>JFK</td><td>SJU</td><td>170</td><td>1598</td><td> 6</td><td>55</td><td>2013-11-17 06:00:00</td></tr>\n",
              "\t<tr><td>2013</td><td> 2</td><td>21</td><td>2355</td><td>2358</td><td> -3</td><td> 412</td><td> 438</td><td>-26</td><td>B6</td><td> 707</td><td>N779JB</td><td>JFK</td><td>SJU</td><td>172</td><td>1598</td><td>23</td><td>58</td><td>2013-02-21 23:00:00</td></tr>\n",
              "\t<tr><td>2013</td><td>11</td><td>17</td><td> 759</td><td> 800</td><td> -1</td><td>1212</td><td>1255</td><td>-43</td><td>AA</td><td> 936</td><td>N5FFAA</td><td>JFK</td><td>STT</td><td>175</td><td>1623</td><td> 8</td><td> 0</td><td>2013-11-17 08:00:00</td></tr>\n",
              "\t<tr><td>2013</td><td>11</td><td>16</td><td>2003</td><td>1925</td><td> 38</td><td>  17</td><td>  36</td><td>-19</td><td>DL</td><td> 347</td><td>N3773D</td><td>JFK</td><td>SJU</td><td>173</td><td>1598</td><td>19</td><td>25</td><td>2013-11-16 19:00:00</td></tr>\n",
              "\t<tr><td>2013</td><td>11</td><td>16</td><td>2349</td><td>2359</td><td>-10</td><td> 402</td><td> 440</td><td>-38</td><td>B6</td><td>1503</td><td>N571JB</td><td>JFK</td><td>SJU</td><td>173</td><td>1598</td><td>23</td><td>59</td><td>2013-11-16 23:00:00</td></tr>\n",
              "\t<tr><td>2013</td><td>11</td><td>17</td><td> 851</td><td> 855</td><td> -4</td><td>1307</td><td>1345</td><td>-38</td><td>DL</td><td> 301</td><td>N624AG</td><td>JFK</td><td>SJU</td><td>173</td><td>1598</td><td> 8</td><td>55</td><td>2013-11-17 08:00:00</td></tr>\n",
              "\t<tr><td>2013</td><td>11</td><td>17</td><td>1926</td><td>1925</td><td>  1</td><td>   7</td><td>  39</td><td>-32</td><td>DL</td><td> 347</td><td>N382DA</td><td>JFK</td><td>SJU</td><td>173</td><td>1598</td><td>19</td><td>25</td><td>2013-11-17 19:00:00</td></tr>\n",
              "\t<tr><td>2013</td><td>12</td><td> 5</td><td>1858</td><td>1900</td><td> -2</td><td>2313</td><td>2359</td><td>-46</td><td>AA</td><td>1029</td><td>N617AA</td><td>JFK</td><td>SJU</td><td>173</td><td>1598</td><td>19</td><td> 0</td><td>2013-12-05 19:00:00</td></tr>\n",
              "\t<tr><td>2013</td><td> 2</td><td>10</td><td>1658</td><td>1700</td><td> -2</td><td>2125</td><td>2204</td><td>-39</td><td>DL</td><td> 329</td><td>N371DA</td><td>JFK</td><td>SJU</td><td>173</td><td>1598</td><td>17</td><td> 0</td><td>2013-02-10 17:00:00</td></tr>\n",
              "\t<tr><td>2013</td><td> 2</td><td>10</td><td>1958</td><td>1855</td><td> 63</td><td>  31</td><td>2355</td><td> 36</td><td>AA</td><td>1613</td><td>N625AA</td><td>JFK</td><td>SJU</td><td>173</td><td>1598</td><td>18</td><td>55</td><td>2013-02-10 18:00:00</td></tr>\n",
              "\t<tr><td>2013</td><td>11</td><td>17</td><td> 554</td><td> 600</td><td> -6</td><td>1012</td><td>1043</td><td>-31</td><td>B6</td><td>1403</td><td>N641JB</td><td>JFK</td><td>SJU</td><td>174</td><td>1598</td><td> 6</td><td> 0</td><td>2013-11-17 06:00:00</td></tr>\n",
              "\t<tr><td>2013</td><td>11</td><td>17</td><td>1455</td><td>1455</td><td>  0</td><td>1915</td><td>1951</td><td>-36</td><td>DL</td><td>   1</td><td>N3751B</td><td>JFK</td><td>SJU</td><td>174</td><td>1598</td><td>14</td><td>55</td><td>2013-11-17 14:00:00</td></tr>\n",
              "\t<tr><td>2013</td><td> 2</td><td>13</td><td>1548</td><td>1555</td><td> -7</td><td>2030</td><td>2055</td><td>-25</td><td>B6</td><td> 703</td><td>N579JB</td><td>JFK</td><td>SJU</td><td>174</td><td>1598</td><td>15</td><td>55</td><td>2013-02-13 15:00:00</td></tr>\n",
              "\t<tr><td>2013</td><td> 2</td><td>21</td><td>1916</td><td>1855</td><td> 21</td><td>2400</td><td>2355</td><td>  5</td><td>AA</td><td>1613</td><td>N5DMAA</td><td>JFK</td><td>SJU</td><td>174</td><td>1598</td><td>18</td><td>55</td><td>2013-02-21 18:00:00</td></tr>\n",
              "\t<tr><td>2013</td><td> 3</td><td> 9</td><td>2317</td><td>2155</td><td> 82</td><td> 344</td><td> 242</td><td> 62</td><td>B6</td><td> 713</td><td>N584JB</td><td>JFK</td><td>SJU</td><td>174</td><td>1598</td><td>21</td><td>55</td><td>2013-03-09 21:00:00</td></tr>\n",
              "\t<tr><td>2013</td><td>11</td><td>17</td><td> 923</td><td> 920</td><td>  3</td><td>1351</td><td>1429</td><td>-38</td><td>UA</td><td>1519</td><td>N27724</td><td>EWR</td><td>STT</td><td>178</td><td>1634</td><td> 9</td><td>20</td><td>2013-11-17 09:00:00</td></tr>\n",
              "\t<tr><td>2013</td><td> 9</td><td>29</td><td>1359</td><td>1343</td><td> 16</td><td>1523</td><td>1545</td><td>-22</td><td>EV</td><td>4687</td><td>N11544</td><td>EWR</td><td>CVG</td><td> 62</td><td> 569</td><td>13</td><td>43</td><td>2013-09-29 13:00:00</td></tr>\n",
              "\t<tr><td>2013</td><td>11</td><td>16</td><td>2055</td><td>2050</td><td>  5</td><td> 105</td><td> 135</td><td>-30</td><td>UA</td><td>1071</td><td>N37281</td><td>EWR</td><td>BQN</td><td>173</td><td>1585</td><td>20</td><td>50</td><td>2013-11-16 20:00:00</td></tr>\n",
              "\t<tr><td>2013</td><td>11</td><td>15</td><td> 854</td><td> 855</td><td> -1</td><td>1325</td><td>1345</td><td>-20</td><td>DL</td><td> 301</td><td>N723TW</td><td>JFK</td><td>SJU</td><td>175</td><td>1598</td><td> 8</td><td>55</td><td>2013-11-15 08:00:00</td></tr>\n",
              "\t<tr><td>2013</td><td>12</td><td> 5</td><td>1628</td><td>1630</td><td> -2</td><td>2045</td><td>2130</td><td>-45</td><td>AA</td><td>  95</td><td>N5EHAA</td><td>JFK</td><td>SJU</td><td>175</td><td>1598</td><td>16</td><td>30</td><td>2013-12-05 16:00:00</td></tr>\n",
              "\t<tr><td>2013</td><td> 2</td><td>11</td><td> 610</td><td> 610</td><td>  0</td><td>1033</td><td>1050</td><td>-17</td><td>B6</td><td> 709</td><td>N612JB</td><td>JFK</td><td>SJU</td><td>175</td><td>1598</td><td> 6</td><td>10</td><td>2013-02-11 06:00:00</td></tr>\n",
              "\t<tr><td>2013</td><td> 2</td><td>11</td><td> 824</td><td> 830</td><td> -6</td><td>1257</td><td>1335</td><td>-38</td><td>DL</td><td> 301</td><td>N654DL</td><td>JFK</td><td>SJU</td><td>175</td><td>1598</td><td> 8</td><td>30</td><td>2013-02-11 08:00:00</td></tr>\n",
              "\t<tr><td>2013</td><td> 2</td><td>11</td><td>1726</td><td>1700</td><td> 26</td><td>2147</td><td>2204</td><td>-17</td><td>DL</td><td> 329</td><td>N3754A</td><td>JFK</td><td>SJU</td><td>175</td><td>1598</td><td>17</td><td> 0</td><td>2013-02-11 17:00:00</td></tr>\n",
              "\t<tr><td>2013</td><td> 2</td><td>21</td><td>1710</td><td>1700</td><td> 10</td><td>2129</td><td>2204</td><td>-35</td><td>DL</td><td> 329</td><td>N3752 </td><td>JFK</td><td>SJU</td><td>175</td><td>1598</td><td>17</td><td> 0</td><td>2013-02-21 17:00:00</td></tr>\n",
              "\t<tr><td>2013</td><td> 2</td><td>21</td><td>2158</td><td>2145</td><td> 13</td><td> 215</td><td> 232</td><td>-17</td><td>B6</td><td> 701</td><td>N198JB</td><td>JFK</td><td>SJU</td><td>175</td><td>1598</td><td>21</td><td>45</td><td>2013-02-21 21:00:00</td></tr>\n",
              "\t<tr><td>⋮</td><td>⋮</td><td>⋮</td><td>⋮</td><td>⋮</td><td>⋮</td><td>⋮</td><td>⋮</td><td>⋮</td><td>⋮</td><td>⋮</td><td>⋮</td><td>⋮</td><td>⋮</td><td>⋮</td><td>⋮</td><td>⋮</td><td>⋮</td><td>⋮</td></tr>\n",
              "\t<tr><td>2013</td><td>9</td><td>25</td><td>  NA</td><td>1655</td><td> NA</td><td>  NA</td><td>1840</td><td>NA</td><td>MQ</td><td>3411</td><td>N735MQ</td><td>LGA</td><td>RDU</td><td>NA</td><td> 431</td><td>16</td><td>55</td><td>2013-09-25 16:00:00</td></tr>\n",
              "\t<tr><td>2013</td><td>9</td><td>25</td><td>  NA</td><td>1559</td><td> NA</td><td>  NA</td><td>1719</td><td>NA</td><td>MQ</td><td>3748</td><td>N530MQ</td><td>EWR</td><td>ORD</td><td>NA</td><td> 719</td><td>15</td><td>59</td><td>2013-09-25 15:00:00</td></tr>\n",
              "\t<tr><td>2013</td><td>9</td><td>26</td><td>1331</td><td>1329</td><td>  2</td><td>1923</td><td>1813</td><td>NA</td><td>UA</td><td>  15</td><td>N67052</td><td>EWR</td><td>HNL</td><td>NA</td><td>4963</td><td>13</td><td>29</td><td>2013-09-26 13:00:00</td></tr>\n",
              "\t<tr><td>2013</td><td>9</td><td>26</td><td>  NA</td><td> 915</td><td> NA</td><td>  NA</td><td>1141</td><td>NA</td><td>EV</td><td>5109</td><td>N748EV</td><td>LGA</td><td>CHS</td><td>NA</td><td> 641</td><td> 9</td><td>15</td><td>2013-09-26 09:00:00</td></tr>\n",
              "\t<tr><td>2013</td><td>9</td><td>26</td><td>  NA</td><td>1400</td><td> NA</td><td>  NA</td><td>1512</td><td>NA</td><td>US</td><td>2183</td><td>NA    </td><td>LGA</td><td>DCA</td><td>NA</td><td> 214</td><td>14</td><td> 0</td><td>2013-09-26 14:00:00</td></tr>\n",
              "\t<tr><td>2013</td><td>9</td><td>26</td><td>  NA</td><td>1240</td><td> NA</td><td>  NA</td><td>1525</td><td>NA</td><td>WN</td><td>4720</td><td>N691WN</td><td>EWR</td><td>HOU</td><td>NA</td><td>1411</td><td>12</td><td>40</td><td>2013-09-26 12:00:00</td></tr>\n",
              "\t<tr><td>2013</td><td>9</td><td>27</td><td>1332</td><td>1329</td><td>  3</td><td>1629</td><td>1509</td><td>NA</td><td>AA</td><td> 331</td><td>N565AA</td><td>LGA</td><td>ORD</td><td>NA</td><td> 733</td><td>13</td><td>29</td><td>2013-09-27 13:00:00</td></tr>\n",
              "\t<tr><td>2013</td><td>9</td><td>27</td><td>2253</td><td>1945</td><td>188</td><td>  NA</td><td>2146</td><td>NA</td><td>EV</td><td>5306</td><td>N605QX</td><td>LGA</td><td>GSO</td><td>NA</td><td> 461</td><td>19</td><td>45</td><td>2013-09-27 19:00:00</td></tr>\n",
              "\t<tr><td>2013</td><td>9</td><td>27</td><td>  NA</td><td> 600</td><td> NA</td><td>  NA</td><td> 730</td><td>NA</td><td>AA</td><td> 301</td><td>N584AA</td><td>LGA</td><td>ORD</td><td>NA</td><td> 733</td><td> 6</td><td> 0</td><td>2013-09-27 06:00:00</td></tr>\n",
              "\t<tr><td>2013</td><td>9</td><td>27</td><td>  NA</td><td>2100</td><td> NA</td><td>  NA</td><td>2211</td><td>NA</td><td>US</td><td>2164</td><td>NA    </td><td>LGA</td><td>BOS</td><td>NA</td><td> 184</td><td>21</td><td> 0</td><td>2013-09-27 21:00:00</td></tr>\n",
              "\t<tr><td>2013</td><td>9</td><td>27</td><td>  NA</td><td>1329</td><td> NA</td><td>  NA</td><td>1444</td><td>NA</td><td>MQ</td><td>3760</td><td>N505MQ</td><td>EWR</td><td>ORD</td><td>NA</td><td> 719</td><td>13</td><td>29</td><td>2013-09-27 13:00:00</td></tr>\n",
              "\t<tr><td>2013</td><td>9</td><td>27</td><td>  NA</td><td>1600</td><td> NA</td><td>  NA</td><td>1739</td><td>NA</td><td>UA</td><td> 269</td><td>NA    </td><td>LGA</td><td>ORD</td><td>NA</td><td> 733</td><td>16</td><td> 0</td><td>2013-09-27 16:00:00</td></tr>\n",
              "\t<tr><td>2013</td><td>9</td><td>28</td><td> 555</td><td> 600</td><td> -5</td><td> 953</td><td> 753</td><td>NA</td><td>EV</td><td>5068</td><td>N133EV</td><td>EWR</td><td>DTW</td><td>NA</td><td> 488</td><td> 6</td><td> 0</td><td>2013-09-28 06:00:00</td></tr>\n",
              "\t<tr><td>2013</td><td>9</td><td>28</td><td> 847</td><td> 839</td><td>  8</td><td>1130</td><td> 959</td><td>NA</td><td>EV</td><td>4510</td><td>N14542</td><td>EWR</td><td>MKE</td><td>NA</td><td> 725</td><td> 8</td><td>39</td><td>2013-09-28 08:00:00</td></tr>\n",
              "\t<tr><td>2013</td><td>9</td><td>28</td><td>1010</td><td>1020</td><td>-10</td><td>1344</td><td>1222</td><td>NA</td><td>EV</td><td>4412</td><td>N12175</td><td>EWR</td><td>DSM</td><td>NA</td><td>1017</td><td>10</td><td>20</td><td>2013-09-28 10:00:00</td></tr>\n",
              "\t<tr><td>2013</td><td>9</td><td>28</td><td>1214</td><td>1225</td><td>-11</td><td>1801</td><td>1510</td><td>NA</td><td>AA</td><td> 300</td><td>N488AA</td><td>EWR</td><td>DFW</td><td>NA</td><td>1372</td><td>12</td><td>25</td><td>2013-09-28 12:00:00</td></tr>\n",
              "\t<tr><td>2013</td><td>9</td><td>28</td><td>  NA</td><td>1803</td><td> NA</td><td>  NA</td><td>1927</td><td>NA</td><td>EV</td><td>5563</td><td>N724EV</td><td>LGA</td><td>BTV</td><td>NA</td><td> 258</td><td>18</td><td> 3</td><td>2013-09-28 18:00:00</td></tr>\n",
              "\t<tr><td>2013</td><td>9</td><td>28</td><td>  NA</td><td> 910</td><td> NA</td><td>  NA</td><td>1220</td><td>NA</td><td>AA</td><td>   1</td><td>N320AA</td><td>JFK</td><td>LAX</td><td>NA</td><td>2475</td><td> 9</td><td>10</td><td>2013-09-28 09:00:00</td></tr>\n",
              "\t<tr><td>2013</td><td>9</td><td>28</td><td>  NA</td><td>1635</td><td> NA</td><td>  NA</td><td>1827</td><td>NA</td><td>US</td><td> 581</td><td>NA    </td><td>EWR</td><td>CLT</td><td>NA</td><td> 529</td><td>16</td><td>35</td><td>2013-09-28 16:00:00</td></tr>\n",
              "\t<tr><td>2013</td><td>9</td><td>29</td><td>1734</td><td>1711</td><td> 23</td><td>2159</td><td>2020</td><td>NA</td><td>UA</td><td> 327</td><td>N463UA</td><td>EWR</td><td>PDX</td><td>NA</td><td>2434</td><td>17</td><td>11</td><td>2013-09-29 17:00:00</td></tr>\n",
              "\t<tr><td>2013</td><td>9</td><td>29</td><td>  NA</td><td>2054</td><td> NA</td><td>  NA</td><td>2302</td><td>NA</td><td>EV</td><td>4536</td><td>N13988</td><td>EWR</td><td>CVG</td><td>NA</td><td> 569</td><td>20</td><td>54</td><td>2013-09-29 20:00:00</td></tr>\n",
              "\t<tr><td>2013</td><td>9</td><td>29</td><td>  NA</td><td>1830</td><td> NA</td><td>  NA</td><td>2010</td><td>NA</td><td>MQ</td><td>3134</td><td>N508MQ</td><td>EWR</td><td>ORD</td><td>NA</td><td> 719</td><td>18</td><td>30</td><td>2013-09-29 18:00:00</td></tr>\n",
              "\t<tr><td>2013</td><td>9</td><td>29</td><td>  NA</td><td> 700</td><td> NA</td><td>  NA</td><td> 833</td><td>NA</td><td>UA</td><td> 331</td><td>NA    </td><td>LGA</td><td>ORD</td><td>NA</td><td> 733</td><td> 7</td><td> 0</td><td>2013-09-29 07:00:00</td></tr>\n",
              "\t<tr><td>2013</td><td>9</td><td>30</td><td> 559</td><td> 600</td><td> -1</td><td>  NA</td><td> 715</td><td>NA</td><td>WN</td><td> 464</td><td>N411WN</td><td>EWR</td><td>MDW</td><td>NA</td><td> 711</td><td> 6</td><td> 0</td><td>2013-09-30 06:00:00</td></tr>\n",
              "\t<tr><td>2013</td><td>9</td><td>30</td><td>  NA</td><td>1842</td><td> NA</td><td>  NA</td><td>2019</td><td>NA</td><td>EV</td><td>5274</td><td>N740EV</td><td>LGA</td><td>BNA</td><td>NA</td><td> 764</td><td>18</td><td>42</td><td>2013-09-30 18:00:00</td></tr>\n",
              "\t<tr><td>2013</td><td>9</td><td>30</td><td>  NA</td><td>1455</td><td> NA</td><td>  NA</td><td>1634</td><td>NA</td><td>9E</td><td>3393</td><td>NA    </td><td>JFK</td><td>DCA</td><td>NA</td><td> 213</td><td>14</td><td>55</td><td>2013-09-30 14:00:00</td></tr>\n",
              "\t<tr><td>2013</td><td>9</td><td>30</td><td>  NA</td><td>2200</td><td> NA</td><td>  NA</td><td>2312</td><td>NA</td><td>9E</td><td>3525</td><td>NA    </td><td>LGA</td><td>SYR</td><td>NA</td><td> 198</td><td>22</td><td> 0</td><td>2013-09-30 22:00:00</td></tr>\n",
              "\t<tr><td>2013</td><td>9</td><td>30</td><td>  NA</td><td>1210</td><td> NA</td><td>  NA</td><td>1330</td><td>NA</td><td>MQ</td><td>3461</td><td>N535MQ</td><td>LGA</td><td>BNA</td><td>NA</td><td> 764</td><td>12</td><td>10</td><td>2013-09-30 12:00:00</td></tr>\n",
              "\t<tr><td>2013</td><td>9</td><td>30</td><td>  NA</td><td>1159</td><td> NA</td><td>  NA</td><td>1344</td><td>NA</td><td>MQ</td><td>3572</td><td>N511MQ</td><td>LGA</td><td>CLE</td><td>NA</td><td> 419</td><td>11</td><td>59</td><td>2013-09-30 11:00:00</td></tr>\n",
              "\t<tr><td>2013</td><td>9</td><td>30</td><td>  NA</td><td> 840</td><td> NA</td><td>  NA</td><td>1020</td><td>NA</td><td>MQ</td><td>3531</td><td>N839MQ</td><td>LGA</td><td>RDU</td><td>NA</td><td> 431</td><td> 8</td><td>40</td><td>2013-09-30 08:00:00</td></tr>\n",
              "</tbody>\n",
              "</table>\n"
            ],
            "text/markdown": "\nA tibble: 336776 × 19\n\n| year &lt;int&gt; | month &lt;int&gt; | day &lt;int&gt; | dep_time &lt;int&gt; | sched_dep_time &lt;int&gt; | dep_delay &lt;dbl&gt; | arr_time &lt;int&gt; | sched_arr_time &lt;int&gt; | arr_delay &lt;dbl&gt; | carrier &lt;chr&gt; | flight &lt;int&gt; | tailnum &lt;chr&gt; | origin &lt;chr&gt; | dest &lt;chr&gt; | air_time &lt;dbl&gt; | distance &lt;dbl&gt; | hour &lt;dbl&gt; | minute &lt;dbl&gt; | time_hour &lt;dttm&gt; |\n|---|---|---|---|---|---|---|---|---|---|---|---|---|---|---|---|---|---|---|\n| 2013 |  5 | 25 | 1709 | 1700 |   9 | 1923 | 1937 | -14 | DL | 1499 | N666DN | LGA | ATL |  65 |  762 | 17 |  0 | 2013-05-25 17:00:00 |\n| 2013 |  7 |  2 | 1558 | 1513 |  45 | 1745 | 1719 |  26 | EV | 4667 | N17196 | EWR | MSP |  93 | 1008 | 15 | 13 | 2013-07-02 15:00:00 |\n| 2013 |  5 | 13 | 2040 | 2025 |  15 | 2225 | 2226 |  -1 | EV | 4292 | N14568 | EWR | GSP |  55 |  594 | 20 | 25 | 2013-05-13 20:00:00 |\n| 2013 |  3 | 23 | 1914 | 1910 |   4 | 2045 | 2043 |   2 | EV | 3805 | N12567 | EWR | BNA |  70 |  748 | 19 | 10 | 2013-03-23 19:00:00 |\n| 2013 |  1 | 12 | 1559 | 1600 |  -1 | 1849 | 1917 | -28 | DL | 1902 | N956DL | LGA | PBI | 105 | 1035 | 16 |  0 | 2013-01-12 16:00:00 |\n| 2013 | 11 | 17 |  650 |  655 |  -5 | 1059 | 1150 | -51 | DL |  315 | N3768  | JFK | SJU | 170 | 1598 |  6 | 55 | 2013-11-17 06:00:00 |\n| 2013 |  2 | 21 | 2355 | 2358 |  -3 |  412 |  438 | -26 | B6 |  707 | N779JB | JFK | SJU | 172 | 1598 | 23 | 58 | 2013-02-21 23:00:00 |\n| 2013 | 11 | 17 |  759 |  800 |  -1 | 1212 | 1255 | -43 | AA |  936 | N5FFAA | JFK | STT | 175 | 1623 |  8 |  0 | 2013-11-17 08:00:00 |\n| 2013 | 11 | 16 | 2003 | 1925 |  38 |   17 |   36 | -19 | DL |  347 | N3773D | JFK | SJU | 173 | 1598 | 19 | 25 | 2013-11-16 19:00:00 |\n| 2013 | 11 | 16 | 2349 | 2359 | -10 |  402 |  440 | -38 | B6 | 1503 | N571JB | JFK | SJU | 173 | 1598 | 23 | 59 | 2013-11-16 23:00:00 |\n| 2013 | 11 | 17 |  851 |  855 |  -4 | 1307 | 1345 | -38 | DL |  301 | N624AG | JFK | SJU | 173 | 1598 |  8 | 55 | 2013-11-17 08:00:00 |\n| 2013 | 11 | 17 | 1926 | 1925 |   1 |    7 |   39 | -32 | DL |  347 | N382DA | JFK | SJU | 173 | 1598 | 19 | 25 | 2013-11-17 19:00:00 |\n| 2013 | 12 |  5 | 1858 | 1900 |  -2 | 2313 | 2359 | -46 | AA | 1029 | N617AA | JFK | SJU | 173 | 1598 | 19 |  0 | 2013-12-05 19:00:00 |\n| 2013 |  2 | 10 | 1658 | 1700 |  -2 | 2125 | 2204 | -39 | DL |  329 | N371DA | JFK | SJU | 173 | 1598 | 17 |  0 | 2013-02-10 17:00:00 |\n| 2013 |  2 | 10 | 1958 | 1855 |  63 |   31 | 2355 |  36 | AA | 1613 | N625AA | JFK | SJU | 173 | 1598 | 18 | 55 | 2013-02-10 18:00:00 |\n| 2013 | 11 | 17 |  554 |  600 |  -6 | 1012 | 1043 | -31 | B6 | 1403 | N641JB | JFK | SJU | 174 | 1598 |  6 |  0 | 2013-11-17 06:00:00 |\n| 2013 | 11 | 17 | 1455 | 1455 |   0 | 1915 | 1951 | -36 | DL |    1 | N3751B | JFK | SJU | 174 | 1598 | 14 | 55 | 2013-11-17 14:00:00 |\n| 2013 |  2 | 13 | 1548 | 1555 |  -7 | 2030 | 2055 | -25 | B6 |  703 | N579JB | JFK | SJU | 174 | 1598 | 15 | 55 | 2013-02-13 15:00:00 |\n| 2013 |  2 | 21 | 1916 | 1855 |  21 | 2400 | 2355 |   5 | AA | 1613 | N5DMAA | JFK | SJU | 174 | 1598 | 18 | 55 | 2013-02-21 18:00:00 |\n| 2013 |  3 |  9 | 2317 | 2155 |  82 |  344 |  242 |  62 | B6 |  713 | N584JB | JFK | SJU | 174 | 1598 | 21 | 55 | 2013-03-09 21:00:00 |\n| 2013 | 11 | 17 |  923 |  920 |   3 | 1351 | 1429 | -38 | UA | 1519 | N27724 | EWR | STT | 178 | 1634 |  9 | 20 | 2013-11-17 09:00:00 |\n| 2013 |  9 | 29 | 1359 | 1343 |  16 | 1523 | 1545 | -22 | EV | 4687 | N11544 | EWR | CVG |  62 |  569 | 13 | 43 | 2013-09-29 13:00:00 |\n| 2013 | 11 | 16 | 2055 | 2050 |   5 |  105 |  135 | -30 | UA | 1071 | N37281 | EWR | BQN | 173 | 1585 | 20 | 50 | 2013-11-16 20:00:00 |\n| 2013 | 11 | 15 |  854 |  855 |  -1 | 1325 | 1345 | -20 | DL |  301 | N723TW | JFK | SJU | 175 | 1598 |  8 | 55 | 2013-11-15 08:00:00 |\n| 2013 | 12 |  5 | 1628 | 1630 |  -2 | 2045 | 2130 | -45 | AA |   95 | N5EHAA | JFK | SJU | 175 | 1598 | 16 | 30 | 2013-12-05 16:00:00 |\n| 2013 |  2 | 11 |  610 |  610 |   0 | 1033 | 1050 | -17 | B6 |  709 | N612JB | JFK | SJU | 175 | 1598 |  6 | 10 | 2013-02-11 06:00:00 |\n| 2013 |  2 | 11 |  824 |  830 |  -6 | 1257 | 1335 | -38 | DL |  301 | N654DL | JFK | SJU | 175 | 1598 |  8 | 30 | 2013-02-11 08:00:00 |\n| 2013 |  2 | 11 | 1726 | 1700 |  26 | 2147 | 2204 | -17 | DL |  329 | N3754A | JFK | SJU | 175 | 1598 | 17 |  0 | 2013-02-11 17:00:00 |\n| 2013 |  2 | 21 | 1710 | 1700 |  10 | 2129 | 2204 | -35 | DL |  329 | N3752  | JFK | SJU | 175 | 1598 | 17 |  0 | 2013-02-21 17:00:00 |\n| 2013 |  2 | 21 | 2158 | 2145 |  13 |  215 |  232 | -17 | B6 |  701 | N198JB | JFK | SJU | 175 | 1598 | 21 | 45 | 2013-02-21 21:00:00 |\n| ⋮ | ⋮ | ⋮ | ⋮ | ⋮ | ⋮ | ⋮ | ⋮ | ⋮ | ⋮ | ⋮ | ⋮ | ⋮ | ⋮ | ⋮ | ⋮ | ⋮ | ⋮ | ⋮ |\n| 2013 | 9 | 25 |   NA | 1655 |  NA |   NA | 1840 | NA | MQ | 3411 | N735MQ | LGA | RDU | NA |  431 | 16 | 55 | 2013-09-25 16:00:00 |\n| 2013 | 9 | 25 |   NA | 1559 |  NA |   NA | 1719 | NA | MQ | 3748 | N530MQ | EWR | ORD | NA |  719 | 15 | 59 | 2013-09-25 15:00:00 |\n| 2013 | 9 | 26 | 1331 | 1329 |   2 | 1923 | 1813 | NA | UA |   15 | N67052 | EWR | HNL | NA | 4963 | 13 | 29 | 2013-09-26 13:00:00 |\n| 2013 | 9 | 26 |   NA |  915 |  NA |   NA | 1141 | NA | EV | 5109 | N748EV | LGA | CHS | NA |  641 |  9 | 15 | 2013-09-26 09:00:00 |\n| 2013 | 9 | 26 |   NA | 1400 |  NA |   NA | 1512 | NA | US | 2183 | NA     | LGA | DCA | NA |  214 | 14 |  0 | 2013-09-26 14:00:00 |\n| 2013 | 9 | 26 |   NA | 1240 |  NA |   NA | 1525 | NA | WN | 4720 | N691WN | EWR | HOU | NA | 1411 | 12 | 40 | 2013-09-26 12:00:00 |\n| 2013 | 9 | 27 | 1332 | 1329 |   3 | 1629 | 1509 | NA | AA |  331 | N565AA | LGA | ORD | NA |  733 | 13 | 29 | 2013-09-27 13:00:00 |\n| 2013 | 9 | 27 | 2253 | 1945 | 188 |   NA | 2146 | NA | EV | 5306 | N605QX | LGA | GSO | NA |  461 | 19 | 45 | 2013-09-27 19:00:00 |\n| 2013 | 9 | 27 |   NA |  600 |  NA |   NA |  730 | NA | AA |  301 | N584AA | LGA | ORD | NA |  733 |  6 |  0 | 2013-09-27 06:00:00 |\n| 2013 | 9 | 27 |   NA | 2100 |  NA |   NA | 2211 | NA | US | 2164 | NA     | LGA | BOS | NA |  184 | 21 |  0 | 2013-09-27 21:00:00 |\n| 2013 | 9 | 27 |   NA | 1329 |  NA |   NA | 1444 | NA | MQ | 3760 | N505MQ | EWR | ORD | NA |  719 | 13 | 29 | 2013-09-27 13:00:00 |\n| 2013 | 9 | 27 |   NA | 1600 |  NA |   NA | 1739 | NA | UA |  269 | NA     | LGA | ORD | NA |  733 | 16 |  0 | 2013-09-27 16:00:00 |\n| 2013 | 9 | 28 |  555 |  600 |  -5 |  953 |  753 | NA | EV | 5068 | N133EV | EWR | DTW | NA |  488 |  6 |  0 | 2013-09-28 06:00:00 |\n| 2013 | 9 | 28 |  847 |  839 |   8 | 1130 |  959 | NA | EV | 4510 | N14542 | EWR | MKE | NA |  725 |  8 | 39 | 2013-09-28 08:00:00 |\n| 2013 | 9 | 28 | 1010 | 1020 | -10 | 1344 | 1222 | NA | EV | 4412 | N12175 | EWR | DSM | NA | 1017 | 10 | 20 | 2013-09-28 10:00:00 |\n| 2013 | 9 | 28 | 1214 | 1225 | -11 | 1801 | 1510 | NA | AA |  300 | N488AA | EWR | DFW | NA | 1372 | 12 | 25 | 2013-09-28 12:00:00 |\n| 2013 | 9 | 28 |   NA | 1803 |  NA |   NA | 1927 | NA | EV | 5563 | N724EV | LGA | BTV | NA |  258 | 18 |  3 | 2013-09-28 18:00:00 |\n| 2013 | 9 | 28 |   NA |  910 |  NA |   NA | 1220 | NA | AA |    1 | N320AA | JFK | LAX | NA | 2475 |  9 | 10 | 2013-09-28 09:00:00 |\n| 2013 | 9 | 28 |   NA | 1635 |  NA |   NA | 1827 | NA | US |  581 | NA     | EWR | CLT | NA |  529 | 16 | 35 | 2013-09-28 16:00:00 |\n| 2013 | 9 | 29 | 1734 | 1711 |  23 | 2159 | 2020 | NA | UA |  327 | N463UA | EWR | PDX | NA | 2434 | 17 | 11 | 2013-09-29 17:00:00 |\n| 2013 | 9 | 29 |   NA | 2054 |  NA |   NA | 2302 | NA | EV | 4536 | N13988 | EWR | CVG | NA |  569 | 20 | 54 | 2013-09-29 20:00:00 |\n| 2013 | 9 | 29 |   NA | 1830 |  NA |   NA | 2010 | NA | MQ | 3134 | N508MQ | EWR | ORD | NA |  719 | 18 | 30 | 2013-09-29 18:00:00 |\n| 2013 | 9 | 29 |   NA |  700 |  NA |   NA |  833 | NA | UA |  331 | NA     | LGA | ORD | NA |  733 |  7 |  0 | 2013-09-29 07:00:00 |\n| 2013 | 9 | 30 |  559 |  600 |  -1 |   NA |  715 | NA | WN |  464 | N411WN | EWR | MDW | NA |  711 |  6 |  0 | 2013-09-30 06:00:00 |\n| 2013 | 9 | 30 |   NA | 1842 |  NA |   NA | 2019 | NA | EV | 5274 | N740EV | LGA | BNA | NA |  764 | 18 | 42 | 2013-09-30 18:00:00 |\n| 2013 | 9 | 30 |   NA | 1455 |  NA |   NA | 1634 | NA | 9E | 3393 | NA     | JFK | DCA | NA |  213 | 14 | 55 | 2013-09-30 14:00:00 |\n| 2013 | 9 | 30 |   NA | 2200 |  NA |   NA | 2312 | NA | 9E | 3525 | NA     | LGA | SYR | NA |  198 | 22 |  0 | 2013-09-30 22:00:00 |\n| 2013 | 9 | 30 |   NA | 1210 |  NA |   NA | 1330 | NA | MQ | 3461 | N535MQ | LGA | BNA | NA |  764 | 12 | 10 | 2013-09-30 12:00:00 |\n| 2013 | 9 | 30 |   NA | 1159 |  NA |   NA | 1344 | NA | MQ | 3572 | N511MQ | LGA | CLE | NA |  419 | 11 | 59 | 2013-09-30 11:00:00 |\n| 2013 | 9 | 30 |   NA |  840 |  NA |   NA | 1020 | NA | MQ | 3531 | N839MQ | LGA | RDU | NA |  431 |  8 | 40 | 2013-09-30 08:00:00 |\n\n",
            "text/latex": "A tibble: 336776 × 19\n\\begin{tabular}{lllllllllllllllllll}\n year & month & day & dep\\_time & sched\\_dep\\_time & dep\\_delay & arr\\_time & sched\\_arr\\_time & arr\\_delay & carrier & flight & tailnum & origin & dest & air\\_time & distance & hour & minute & time\\_hour\\\\\n <int> & <int> & <int> & <int> & <int> & <dbl> & <int> & <int> & <dbl> & <chr> & <int> & <chr> & <chr> & <chr> & <dbl> & <dbl> & <dbl> & <dbl> & <dttm>\\\\\n\\hline\n\t 2013 &  5 & 25 & 1709 & 1700 &   9 & 1923 & 1937 & -14 & DL & 1499 & N666DN & LGA & ATL &  65 &  762 & 17 &  0 & 2013-05-25 17:00:00\\\\\n\t 2013 &  7 &  2 & 1558 & 1513 &  45 & 1745 & 1719 &  26 & EV & 4667 & N17196 & EWR & MSP &  93 & 1008 & 15 & 13 & 2013-07-02 15:00:00\\\\\n\t 2013 &  5 & 13 & 2040 & 2025 &  15 & 2225 & 2226 &  -1 & EV & 4292 & N14568 & EWR & GSP &  55 &  594 & 20 & 25 & 2013-05-13 20:00:00\\\\\n\t 2013 &  3 & 23 & 1914 & 1910 &   4 & 2045 & 2043 &   2 & EV & 3805 & N12567 & EWR & BNA &  70 &  748 & 19 & 10 & 2013-03-23 19:00:00\\\\\n\t 2013 &  1 & 12 & 1559 & 1600 &  -1 & 1849 & 1917 & -28 & DL & 1902 & N956DL & LGA & PBI & 105 & 1035 & 16 &  0 & 2013-01-12 16:00:00\\\\\n\t 2013 & 11 & 17 &  650 &  655 &  -5 & 1059 & 1150 & -51 & DL &  315 & N3768  & JFK & SJU & 170 & 1598 &  6 & 55 & 2013-11-17 06:00:00\\\\\n\t 2013 &  2 & 21 & 2355 & 2358 &  -3 &  412 &  438 & -26 & B6 &  707 & N779JB & JFK & SJU & 172 & 1598 & 23 & 58 & 2013-02-21 23:00:00\\\\\n\t 2013 & 11 & 17 &  759 &  800 &  -1 & 1212 & 1255 & -43 & AA &  936 & N5FFAA & JFK & STT & 175 & 1623 &  8 &  0 & 2013-11-17 08:00:00\\\\\n\t 2013 & 11 & 16 & 2003 & 1925 &  38 &   17 &   36 & -19 & DL &  347 & N3773D & JFK & SJU & 173 & 1598 & 19 & 25 & 2013-11-16 19:00:00\\\\\n\t 2013 & 11 & 16 & 2349 & 2359 & -10 &  402 &  440 & -38 & B6 & 1503 & N571JB & JFK & SJU & 173 & 1598 & 23 & 59 & 2013-11-16 23:00:00\\\\\n\t 2013 & 11 & 17 &  851 &  855 &  -4 & 1307 & 1345 & -38 & DL &  301 & N624AG & JFK & SJU & 173 & 1598 &  8 & 55 & 2013-11-17 08:00:00\\\\\n\t 2013 & 11 & 17 & 1926 & 1925 &   1 &    7 &   39 & -32 & DL &  347 & N382DA & JFK & SJU & 173 & 1598 & 19 & 25 & 2013-11-17 19:00:00\\\\\n\t 2013 & 12 &  5 & 1858 & 1900 &  -2 & 2313 & 2359 & -46 & AA & 1029 & N617AA & JFK & SJU & 173 & 1598 & 19 &  0 & 2013-12-05 19:00:00\\\\\n\t 2013 &  2 & 10 & 1658 & 1700 &  -2 & 2125 & 2204 & -39 & DL &  329 & N371DA & JFK & SJU & 173 & 1598 & 17 &  0 & 2013-02-10 17:00:00\\\\\n\t 2013 &  2 & 10 & 1958 & 1855 &  63 &   31 & 2355 &  36 & AA & 1613 & N625AA & JFK & SJU & 173 & 1598 & 18 & 55 & 2013-02-10 18:00:00\\\\\n\t 2013 & 11 & 17 &  554 &  600 &  -6 & 1012 & 1043 & -31 & B6 & 1403 & N641JB & JFK & SJU & 174 & 1598 &  6 &  0 & 2013-11-17 06:00:00\\\\\n\t 2013 & 11 & 17 & 1455 & 1455 &   0 & 1915 & 1951 & -36 & DL &    1 & N3751B & JFK & SJU & 174 & 1598 & 14 & 55 & 2013-11-17 14:00:00\\\\\n\t 2013 &  2 & 13 & 1548 & 1555 &  -7 & 2030 & 2055 & -25 & B6 &  703 & N579JB & JFK & SJU & 174 & 1598 & 15 & 55 & 2013-02-13 15:00:00\\\\\n\t 2013 &  2 & 21 & 1916 & 1855 &  21 & 2400 & 2355 &   5 & AA & 1613 & N5DMAA & JFK & SJU & 174 & 1598 & 18 & 55 & 2013-02-21 18:00:00\\\\\n\t 2013 &  3 &  9 & 2317 & 2155 &  82 &  344 &  242 &  62 & B6 &  713 & N584JB & JFK & SJU & 174 & 1598 & 21 & 55 & 2013-03-09 21:00:00\\\\\n\t 2013 & 11 & 17 &  923 &  920 &   3 & 1351 & 1429 & -38 & UA & 1519 & N27724 & EWR & STT & 178 & 1634 &  9 & 20 & 2013-11-17 09:00:00\\\\\n\t 2013 &  9 & 29 & 1359 & 1343 &  16 & 1523 & 1545 & -22 & EV & 4687 & N11544 & EWR & CVG &  62 &  569 & 13 & 43 & 2013-09-29 13:00:00\\\\\n\t 2013 & 11 & 16 & 2055 & 2050 &   5 &  105 &  135 & -30 & UA & 1071 & N37281 & EWR & BQN & 173 & 1585 & 20 & 50 & 2013-11-16 20:00:00\\\\\n\t 2013 & 11 & 15 &  854 &  855 &  -1 & 1325 & 1345 & -20 & DL &  301 & N723TW & JFK & SJU & 175 & 1598 &  8 & 55 & 2013-11-15 08:00:00\\\\\n\t 2013 & 12 &  5 & 1628 & 1630 &  -2 & 2045 & 2130 & -45 & AA &   95 & N5EHAA & JFK & SJU & 175 & 1598 & 16 & 30 & 2013-12-05 16:00:00\\\\\n\t 2013 &  2 & 11 &  610 &  610 &   0 & 1033 & 1050 & -17 & B6 &  709 & N612JB & JFK & SJU & 175 & 1598 &  6 & 10 & 2013-02-11 06:00:00\\\\\n\t 2013 &  2 & 11 &  824 &  830 &  -6 & 1257 & 1335 & -38 & DL &  301 & N654DL & JFK & SJU & 175 & 1598 &  8 & 30 & 2013-02-11 08:00:00\\\\\n\t 2013 &  2 & 11 & 1726 & 1700 &  26 & 2147 & 2204 & -17 & DL &  329 & N3754A & JFK & SJU & 175 & 1598 & 17 &  0 & 2013-02-11 17:00:00\\\\\n\t 2013 &  2 & 21 & 1710 & 1700 &  10 & 2129 & 2204 & -35 & DL &  329 & N3752  & JFK & SJU & 175 & 1598 & 17 &  0 & 2013-02-21 17:00:00\\\\\n\t 2013 &  2 & 21 & 2158 & 2145 &  13 &  215 &  232 & -17 & B6 &  701 & N198JB & JFK & SJU & 175 & 1598 & 21 & 45 & 2013-02-21 21:00:00\\\\\n\t ⋮ & ⋮ & ⋮ & ⋮ & ⋮ & ⋮ & ⋮ & ⋮ & ⋮ & ⋮ & ⋮ & ⋮ & ⋮ & ⋮ & ⋮ & ⋮ & ⋮ & ⋮ & ⋮\\\\\n\t 2013 & 9 & 25 &   NA & 1655 &  NA &   NA & 1840 & NA & MQ & 3411 & N735MQ & LGA & RDU & NA &  431 & 16 & 55 & 2013-09-25 16:00:00\\\\\n\t 2013 & 9 & 25 &   NA & 1559 &  NA &   NA & 1719 & NA & MQ & 3748 & N530MQ & EWR & ORD & NA &  719 & 15 & 59 & 2013-09-25 15:00:00\\\\\n\t 2013 & 9 & 26 & 1331 & 1329 &   2 & 1923 & 1813 & NA & UA &   15 & N67052 & EWR & HNL & NA & 4963 & 13 & 29 & 2013-09-26 13:00:00\\\\\n\t 2013 & 9 & 26 &   NA &  915 &  NA &   NA & 1141 & NA & EV & 5109 & N748EV & LGA & CHS & NA &  641 &  9 & 15 & 2013-09-26 09:00:00\\\\\n\t 2013 & 9 & 26 &   NA & 1400 &  NA &   NA & 1512 & NA & US & 2183 & NA     & LGA & DCA & NA &  214 & 14 &  0 & 2013-09-26 14:00:00\\\\\n\t 2013 & 9 & 26 &   NA & 1240 &  NA &   NA & 1525 & NA & WN & 4720 & N691WN & EWR & HOU & NA & 1411 & 12 & 40 & 2013-09-26 12:00:00\\\\\n\t 2013 & 9 & 27 & 1332 & 1329 &   3 & 1629 & 1509 & NA & AA &  331 & N565AA & LGA & ORD & NA &  733 & 13 & 29 & 2013-09-27 13:00:00\\\\\n\t 2013 & 9 & 27 & 2253 & 1945 & 188 &   NA & 2146 & NA & EV & 5306 & N605QX & LGA & GSO & NA &  461 & 19 & 45 & 2013-09-27 19:00:00\\\\\n\t 2013 & 9 & 27 &   NA &  600 &  NA &   NA &  730 & NA & AA &  301 & N584AA & LGA & ORD & NA &  733 &  6 &  0 & 2013-09-27 06:00:00\\\\\n\t 2013 & 9 & 27 &   NA & 2100 &  NA &   NA & 2211 & NA & US & 2164 & NA     & LGA & BOS & NA &  184 & 21 &  0 & 2013-09-27 21:00:00\\\\\n\t 2013 & 9 & 27 &   NA & 1329 &  NA &   NA & 1444 & NA & MQ & 3760 & N505MQ & EWR & ORD & NA &  719 & 13 & 29 & 2013-09-27 13:00:00\\\\\n\t 2013 & 9 & 27 &   NA & 1600 &  NA &   NA & 1739 & NA & UA &  269 & NA     & LGA & ORD & NA &  733 & 16 &  0 & 2013-09-27 16:00:00\\\\\n\t 2013 & 9 & 28 &  555 &  600 &  -5 &  953 &  753 & NA & EV & 5068 & N133EV & EWR & DTW & NA &  488 &  6 &  0 & 2013-09-28 06:00:00\\\\\n\t 2013 & 9 & 28 &  847 &  839 &   8 & 1130 &  959 & NA & EV & 4510 & N14542 & EWR & MKE & NA &  725 &  8 & 39 & 2013-09-28 08:00:00\\\\\n\t 2013 & 9 & 28 & 1010 & 1020 & -10 & 1344 & 1222 & NA & EV & 4412 & N12175 & EWR & DSM & NA & 1017 & 10 & 20 & 2013-09-28 10:00:00\\\\\n\t 2013 & 9 & 28 & 1214 & 1225 & -11 & 1801 & 1510 & NA & AA &  300 & N488AA & EWR & DFW & NA & 1372 & 12 & 25 & 2013-09-28 12:00:00\\\\\n\t 2013 & 9 & 28 &   NA & 1803 &  NA &   NA & 1927 & NA & EV & 5563 & N724EV & LGA & BTV & NA &  258 & 18 &  3 & 2013-09-28 18:00:00\\\\\n\t 2013 & 9 & 28 &   NA &  910 &  NA &   NA & 1220 & NA & AA &    1 & N320AA & JFK & LAX & NA & 2475 &  9 & 10 & 2013-09-28 09:00:00\\\\\n\t 2013 & 9 & 28 &   NA & 1635 &  NA &   NA & 1827 & NA & US &  581 & NA     & EWR & CLT & NA &  529 & 16 & 35 & 2013-09-28 16:00:00\\\\\n\t 2013 & 9 & 29 & 1734 & 1711 &  23 & 2159 & 2020 & NA & UA &  327 & N463UA & EWR & PDX & NA & 2434 & 17 & 11 & 2013-09-29 17:00:00\\\\\n\t 2013 & 9 & 29 &   NA & 2054 &  NA &   NA & 2302 & NA & EV & 4536 & N13988 & EWR & CVG & NA &  569 & 20 & 54 & 2013-09-29 20:00:00\\\\\n\t 2013 & 9 & 29 &   NA & 1830 &  NA &   NA & 2010 & NA & MQ & 3134 & N508MQ & EWR & ORD & NA &  719 & 18 & 30 & 2013-09-29 18:00:00\\\\\n\t 2013 & 9 & 29 &   NA &  700 &  NA &   NA &  833 & NA & UA &  331 & NA     & LGA & ORD & NA &  733 &  7 &  0 & 2013-09-29 07:00:00\\\\\n\t 2013 & 9 & 30 &  559 &  600 &  -1 &   NA &  715 & NA & WN &  464 & N411WN & EWR & MDW & NA &  711 &  6 &  0 & 2013-09-30 06:00:00\\\\\n\t 2013 & 9 & 30 &   NA & 1842 &  NA &   NA & 2019 & NA & EV & 5274 & N740EV & LGA & BNA & NA &  764 & 18 & 42 & 2013-09-30 18:00:00\\\\\n\t 2013 & 9 & 30 &   NA & 1455 &  NA &   NA & 1634 & NA & 9E & 3393 & NA     & JFK & DCA & NA &  213 & 14 & 55 & 2013-09-30 14:00:00\\\\\n\t 2013 & 9 & 30 &   NA & 2200 &  NA &   NA & 2312 & NA & 9E & 3525 & NA     & LGA & SYR & NA &  198 & 22 &  0 & 2013-09-30 22:00:00\\\\\n\t 2013 & 9 & 30 &   NA & 1210 &  NA &   NA & 1330 & NA & MQ & 3461 & N535MQ & LGA & BNA & NA &  764 & 12 & 10 & 2013-09-30 12:00:00\\\\\n\t 2013 & 9 & 30 &   NA & 1159 &  NA &   NA & 1344 & NA & MQ & 3572 & N511MQ & LGA & CLE & NA &  419 & 11 & 59 & 2013-09-30 11:00:00\\\\\n\t 2013 & 9 & 30 &   NA &  840 &  NA &   NA & 1020 & NA & MQ & 3531 & N839MQ & LGA & RDU & NA &  431 &  8 & 40 & 2013-09-30 08:00:00\\\\\n\\end{tabular}\n",
            "text/plain": [
              "       year month day dep_time sched_dep_time dep_delay arr_time sched_arr_time\n",
              "1      2013  5    25  1709     1700             9       1923     1937          \n",
              "2      2013  7     2  1558     1513            45       1745     1719          \n",
              "3      2013  5    13  2040     2025            15       2225     2226          \n",
              "4      2013  3    23  1914     1910             4       2045     2043          \n",
              "5      2013  1    12  1559     1600            -1       1849     1917          \n",
              "6      2013 11    17   650      655            -5       1059     1150          \n",
              "7      2013  2    21  2355     2358            -3        412      438          \n",
              "8      2013 11    17   759      800            -1       1212     1255          \n",
              "9      2013 11    16  2003     1925            38         17       36          \n",
              "10     2013 11    16  2349     2359           -10        402      440          \n",
              "11     2013 11    17   851      855            -4       1307     1345          \n",
              "12     2013 11    17  1926     1925             1          7       39          \n",
              "13     2013 12     5  1858     1900            -2       2313     2359          \n",
              "14     2013  2    10  1658     1700            -2       2125     2204          \n",
              "15     2013  2    10  1958     1855            63         31     2355          \n",
              "16     2013 11    17   554      600            -6       1012     1043          \n",
              "17     2013 11    17  1455     1455             0       1915     1951          \n",
              "18     2013  2    13  1548     1555            -7       2030     2055          \n",
              "19     2013  2    21  1916     1855            21       2400     2355          \n",
              "20     2013  3     9  2317     2155            82        344      242          \n",
              "21     2013 11    17   923      920             3       1351     1429          \n",
              "22     2013  9    29  1359     1343            16       1523     1545          \n",
              "23     2013 11    16  2055     2050             5        105      135          \n",
              "24     2013 11    15   854      855            -1       1325     1345          \n",
              "25     2013 12     5  1628     1630            -2       2045     2130          \n",
              "26     2013  2    11   610      610             0       1033     1050          \n",
              "27     2013  2    11   824      830            -6       1257     1335          \n",
              "28     2013  2    11  1726     1700            26       2147     2204          \n",
              "29     2013  2    21  1710     1700            10       2129     2204          \n",
              "30     2013  2    21  2158     2145            13        215      232          \n",
              "⋮      ⋮    ⋮     ⋮   ⋮        ⋮              ⋮         ⋮        ⋮             \n",
              "336747 2013 9     25    NA     1655            NA         NA     1840          \n",
              "336748 2013 9     25    NA     1559            NA         NA     1719          \n",
              "336749 2013 9     26  1331     1329             2       1923     1813          \n",
              "336750 2013 9     26    NA      915            NA         NA     1141          \n",
              "336751 2013 9     26    NA     1400            NA         NA     1512          \n",
              "336752 2013 9     26    NA     1240            NA         NA     1525          \n",
              "336753 2013 9     27  1332     1329             3       1629     1509          \n",
              "336754 2013 9     27  2253     1945           188         NA     2146          \n",
              "336755 2013 9     27    NA      600            NA         NA      730          \n",
              "336756 2013 9     27    NA     2100            NA         NA     2211          \n",
              "336757 2013 9     27    NA     1329            NA         NA     1444          \n",
              "336758 2013 9     27    NA     1600            NA         NA     1739          \n",
              "336759 2013 9     28   555      600            -5        953      753          \n",
              "336760 2013 9     28   847      839             8       1130      959          \n",
              "336761 2013 9     28  1010     1020           -10       1344     1222          \n",
              "336762 2013 9     28  1214     1225           -11       1801     1510          \n",
              "336763 2013 9     28    NA     1803            NA         NA     1927          \n",
              "336764 2013 9     28    NA      910            NA         NA     1220          \n",
              "336765 2013 9     28    NA     1635            NA         NA     1827          \n",
              "336766 2013 9     29  1734     1711            23       2159     2020          \n",
              "336767 2013 9     29    NA     2054            NA         NA     2302          \n",
              "336768 2013 9     29    NA     1830            NA         NA     2010          \n",
              "336769 2013 9     29    NA      700            NA         NA      833          \n",
              "336770 2013 9     30   559      600            -1         NA      715          \n",
              "336771 2013 9     30    NA     1842            NA         NA     2019          \n",
              "336772 2013 9     30    NA     1455            NA         NA     1634          \n",
              "336773 2013 9     30    NA     2200            NA         NA     2312          \n",
              "336774 2013 9     30    NA     1210            NA         NA     1330          \n",
              "336775 2013 9     30    NA     1159            NA         NA     1344          \n",
              "336776 2013 9     30    NA      840            NA         NA     1020          \n",
              "       arr_delay carrier flight tailnum origin dest air_time distance hour\n",
              "1      -14       DL      1499   N666DN  LGA    ATL   65       762     17  \n",
              "2       26       EV      4667   N17196  EWR    MSP   93      1008     15  \n",
              "3       -1       EV      4292   N14568  EWR    GSP   55       594     20  \n",
              "4        2       EV      3805   N12567  EWR    BNA   70       748     19  \n",
              "5      -28       DL      1902   N956DL  LGA    PBI  105      1035     16  \n",
              "6      -51       DL       315   N3768   JFK    SJU  170      1598      6  \n",
              "7      -26       B6       707   N779JB  JFK    SJU  172      1598     23  \n",
              "8      -43       AA       936   N5FFAA  JFK    STT  175      1623      8  \n",
              "9      -19       DL       347   N3773D  JFK    SJU  173      1598     19  \n",
              "10     -38       B6      1503   N571JB  JFK    SJU  173      1598     23  \n",
              "11     -38       DL       301   N624AG  JFK    SJU  173      1598      8  \n",
              "12     -32       DL       347   N382DA  JFK    SJU  173      1598     19  \n",
              "13     -46       AA      1029   N617AA  JFK    SJU  173      1598     19  \n",
              "14     -39       DL       329   N371DA  JFK    SJU  173      1598     17  \n",
              "15      36       AA      1613   N625AA  JFK    SJU  173      1598     18  \n",
              "16     -31       B6      1403   N641JB  JFK    SJU  174      1598      6  \n",
              "17     -36       DL         1   N3751B  JFK    SJU  174      1598     14  \n",
              "18     -25       B6       703   N579JB  JFK    SJU  174      1598     15  \n",
              "19       5       AA      1613   N5DMAA  JFK    SJU  174      1598     18  \n",
              "20      62       B6       713   N584JB  JFK    SJU  174      1598     21  \n",
              "21     -38       UA      1519   N27724  EWR    STT  178      1634      9  \n",
              "22     -22       EV      4687   N11544  EWR    CVG   62       569     13  \n",
              "23     -30       UA      1071   N37281  EWR    BQN  173      1585     20  \n",
              "24     -20       DL       301   N723TW  JFK    SJU  175      1598      8  \n",
              "25     -45       AA        95   N5EHAA  JFK    SJU  175      1598     16  \n",
              "26     -17       B6       709   N612JB  JFK    SJU  175      1598      6  \n",
              "27     -38       DL       301   N654DL  JFK    SJU  175      1598      8  \n",
              "28     -17       DL       329   N3754A  JFK    SJU  175      1598     17  \n",
              "29     -35       DL       329   N3752   JFK    SJU  175      1598     17  \n",
              "30     -17       B6       701   N198JB  JFK    SJU  175      1598     21  \n",
              "⋮      ⋮         ⋮       ⋮      ⋮       ⋮      ⋮    ⋮        ⋮        ⋮   \n",
              "336747 NA        MQ      3411   N735MQ  LGA    RDU  NA        431     16  \n",
              "336748 NA        MQ      3748   N530MQ  EWR    ORD  NA        719     15  \n",
              "336749 NA        UA        15   N67052  EWR    HNL  NA       4963     13  \n",
              "336750 NA        EV      5109   N748EV  LGA    CHS  NA        641      9  \n",
              "336751 NA        US      2183   NA      LGA    DCA  NA        214     14  \n",
              "336752 NA        WN      4720   N691WN  EWR    HOU  NA       1411     12  \n",
              "336753 NA        AA       331   N565AA  LGA    ORD  NA        733     13  \n",
              "336754 NA        EV      5306   N605QX  LGA    GSO  NA        461     19  \n",
              "336755 NA        AA       301   N584AA  LGA    ORD  NA        733      6  \n",
              "336756 NA        US      2164   NA      LGA    BOS  NA        184     21  \n",
              "336757 NA        MQ      3760   N505MQ  EWR    ORD  NA        719     13  \n",
              "336758 NA        UA       269   NA      LGA    ORD  NA        733     16  \n",
              "336759 NA        EV      5068   N133EV  EWR    DTW  NA        488      6  \n",
              "336760 NA        EV      4510   N14542  EWR    MKE  NA        725      8  \n",
              "336761 NA        EV      4412   N12175  EWR    DSM  NA       1017     10  \n",
              "336762 NA        AA       300   N488AA  EWR    DFW  NA       1372     12  \n",
              "336763 NA        EV      5563   N724EV  LGA    BTV  NA        258     18  \n",
              "336764 NA        AA         1   N320AA  JFK    LAX  NA       2475      9  \n",
              "336765 NA        US       581   NA      EWR    CLT  NA        529     16  \n",
              "336766 NA        UA       327   N463UA  EWR    PDX  NA       2434     17  \n",
              "336767 NA        EV      4536   N13988  EWR    CVG  NA        569     20  \n",
              "336768 NA        MQ      3134   N508MQ  EWR    ORD  NA        719     18  \n",
              "336769 NA        UA       331   NA      LGA    ORD  NA        733      7  \n",
              "336770 NA        WN       464   N411WN  EWR    MDW  NA        711      6  \n",
              "336771 NA        EV      5274   N740EV  LGA    BNA  NA        764     18  \n",
              "336772 NA        9E      3393   NA      JFK    DCA  NA        213     14  \n",
              "336773 NA        9E      3525   NA      LGA    SYR  NA        198     22  \n",
              "336774 NA        MQ      3461   N535MQ  LGA    BNA  NA        764     12  \n",
              "336775 NA        MQ      3572   N511MQ  LGA    CLE  NA        419     11  \n",
              "336776 NA        MQ      3531   N839MQ  LGA    RDU  NA        431      8  \n",
              "       minute time_hour          \n",
              "1       0     2013-05-25 17:00:00\n",
              "2      13     2013-07-02 15:00:00\n",
              "3      25     2013-05-13 20:00:00\n",
              "4      10     2013-03-23 19:00:00\n",
              "5       0     2013-01-12 16:00:00\n",
              "6      55     2013-11-17 06:00:00\n",
              "7      58     2013-02-21 23:00:00\n",
              "8       0     2013-11-17 08:00:00\n",
              "9      25     2013-11-16 19:00:00\n",
              "10     59     2013-11-16 23:00:00\n",
              "11     55     2013-11-17 08:00:00\n",
              "12     25     2013-11-17 19:00:00\n",
              "13      0     2013-12-05 19:00:00\n",
              "14      0     2013-02-10 17:00:00\n",
              "15     55     2013-02-10 18:00:00\n",
              "16      0     2013-11-17 06:00:00\n",
              "17     55     2013-11-17 14:00:00\n",
              "18     55     2013-02-13 15:00:00\n",
              "19     55     2013-02-21 18:00:00\n",
              "20     55     2013-03-09 21:00:00\n",
              "21     20     2013-11-17 09:00:00\n",
              "22     43     2013-09-29 13:00:00\n",
              "23     50     2013-11-16 20:00:00\n",
              "24     55     2013-11-15 08:00:00\n",
              "25     30     2013-12-05 16:00:00\n",
              "26     10     2013-02-11 06:00:00\n",
              "27     30     2013-02-11 08:00:00\n",
              "28      0     2013-02-11 17:00:00\n",
              "29      0     2013-02-21 17:00:00\n",
              "30     45     2013-02-21 21:00:00\n",
              "⋮      ⋮      ⋮                  \n",
              "336747 55     2013-09-25 16:00:00\n",
              "336748 59     2013-09-25 15:00:00\n",
              "336749 29     2013-09-26 13:00:00\n",
              "336750 15     2013-09-26 09:00:00\n",
              "336751  0     2013-09-26 14:00:00\n",
              "336752 40     2013-09-26 12:00:00\n",
              "336753 29     2013-09-27 13:00:00\n",
              "336754 45     2013-09-27 19:00:00\n",
              "336755  0     2013-09-27 06:00:00\n",
              "336756  0     2013-09-27 21:00:00\n",
              "336757 29     2013-09-27 13:00:00\n",
              "336758  0     2013-09-27 16:00:00\n",
              "336759  0     2013-09-28 06:00:00\n",
              "336760 39     2013-09-28 08:00:00\n",
              "336761 20     2013-09-28 10:00:00\n",
              "336762 25     2013-09-28 12:00:00\n",
              "336763  3     2013-09-28 18:00:00\n",
              "336764 10     2013-09-28 09:00:00\n",
              "336765 35     2013-09-28 16:00:00\n",
              "336766 11     2013-09-29 17:00:00\n",
              "336767 54     2013-09-29 20:00:00\n",
              "336768 30     2013-09-29 18:00:00\n",
              "336769  0     2013-09-29 07:00:00\n",
              "336770  0     2013-09-30 06:00:00\n",
              "336771 42     2013-09-30 18:00:00\n",
              "336772 55     2013-09-30 14:00:00\n",
              "336773  0     2013-09-30 22:00:00\n",
              "336774 10     2013-09-30 12:00:00\n",
              "336775 59     2013-09-30 11:00:00\n",
              "336776 40     2013-09-30 08:00:00"
            ]
          },
          "metadata": {}
        }
      ],
      "source": [
        "# 3 arrange\n",
        "\n",
        "## Your Answer\n",
        "flights %>%\n",
        "  arrange(desc(distance/air_time))"
      ]
    },
    {
      "cell_type": "markdown",
      "metadata": {
        "id": "qFFQh8SqVjIg"
      },
      "source": [
        "4. Create the new column `speed` calculated by the division of `distance` by `air_time` at the first column."
      ]
    },
    {
      "cell_type": "code",
      "execution_count": 43,
      "metadata": {
        "colab": {
          "base_uri": "https://localhost:8080/",
          "height": 1000
        },
        "id": "MJ2AxTnoVjIg",
        "outputId": "67883cfb-08fb-4701-bda8-2173699dcbbd"
      },
      "outputs": [
        {
          "output_type": "display_data",
          "data": {
            "text/html": [
              "<table class=\"dataframe\">\n",
              "<caption>A tibble: 336776 × 20</caption>\n",
              "<thead>\n",
              "\t<tr><th scope=col>year</th><th scope=col>month</th><th scope=col>day</th><th scope=col>dep_time</th><th scope=col>sched_dep_time</th><th scope=col>dep_delay</th><th scope=col>arr_time</th><th scope=col>sched_arr_time</th><th scope=col>arr_delay</th><th scope=col>carrier</th><th scope=col>flight</th><th scope=col>tailnum</th><th scope=col>origin</th><th scope=col>dest</th><th scope=col>air_time</th><th scope=col>distance</th><th scope=col>hour</th><th scope=col>minute</th><th scope=col>time_hour</th><th scope=col>speed</th></tr>\n",
              "\t<tr><th scope=col>&lt;int&gt;</th><th scope=col>&lt;int&gt;</th><th scope=col>&lt;int&gt;</th><th scope=col>&lt;int&gt;</th><th scope=col>&lt;int&gt;</th><th scope=col>&lt;dbl&gt;</th><th scope=col>&lt;int&gt;</th><th scope=col>&lt;int&gt;</th><th scope=col>&lt;dbl&gt;</th><th scope=col>&lt;chr&gt;</th><th scope=col>&lt;int&gt;</th><th scope=col>&lt;chr&gt;</th><th scope=col>&lt;chr&gt;</th><th scope=col>&lt;chr&gt;</th><th scope=col>&lt;dbl&gt;</th><th scope=col>&lt;dbl&gt;</th><th scope=col>&lt;dbl&gt;</th><th scope=col>&lt;dbl&gt;</th><th scope=col>&lt;dttm&gt;</th><th scope=col>&lt;dbl&gt;</th></tr>\n",
              "</thead>\n",
              "<tbody>\n",
              "\t<tr><td>2013</td><td>1</td><td>1</td><td>517</td><td>515</td><td> 2</td><td> 830</td><td> 819</td><td> 11</td><td>UA</td><td>1545</td><td>N14228</td><td>EWR</td><td>IAH</td><td>227</td><td>1400</td><td>5</td><td>15</td><td>2013-01-01 05:00:00</td><td>6.167401</td></tr>\n",
              "\t<tr><td>2013</td><td>1</td><td>1</td><td>533</td><td>529</td><td> 4</td><td> 850</td><td> 830</td><td> 20</td><td>UA</td><td>1714</td><td>N24211</td><td>LGA</td><td>IAH</td><td>227</td><td>1416</td><td>5</td><td>29</td><td>2013-01-01 05:00:00</td><td>6.237885</td></tr>\n",
              "\t<tr><td>2013</td><td>1</td><td>1</td><td>542</td><td>540</td><td> 2</td><td> 923</td><td> 850</td><td> 33</td><td>AA</td><td>1141</td><td>N619AA</td><td>JFK</td><td>MIA</td><td>160</td><td>1089</td><td>5</td><td>40</td><td>2013-01-01 05:00:00</td><td>6.806250</td></tr>\n",
              "\t<tr><td>2013</td><td>1</td><td>1</td><td>544</td><td>545</td><td>-1</td><td>1004</td><td>1022</td><td>-18</td><td>B6</td><td> 725</td><td>N804JB</td><td>JFK</td><td>BQN</td><td>183</td><td>1576</td><td>5</td><td>45</td><td>2013-01-01 05:00:00</td><td>8.612022</td></tr>\n",
              "\t<tr><td>2013</td><td>1</td><td>1</td><td>554</td><td>600</td><td>-6</td><td> 812</td><td> 837</td><td>-25</td><td>DL</td><td> 461</td><td>N668DN</td><td>LGA</td><td>ATL</td><td>116</td><td> 762</td><td>6</td><td> 0</td><td>2013-01-01 06:00:00</td><td>6.568966</td></tr>\n",
              "\t<tr><td>2013</td><td>1</td><td>1</td><td>554</td><td>558</td><td>-4</td><td> 740</td><td> 728</td><td> 12</td><td>UA</td><td>1696</td><td>N39463</td><td>EWR</td><td>ORD</td><td>150</td><td> 719</td><td>5</td><td>58</td><td>2013-01-01 05:00:00</td><td>4.793333</td></tr>\n",
              "\t<tr><td>2013</td><td>1</td><td>1</td><td>555</td><td>600</td><td>-5</td><td> 913</td><td> 854</td><td> 19</td><td>B6</td><td> 507</td><td>N516JB</td><td>EWR</td><td>FLL</td><td>158</td><td>1065</td><td>6</td><td> 0</td><td>2013-01-01 06:00:00</td><td>6.740506</td></tr>\n",
              "\t<tr><td>2013</td><td>1</td><td>1</td><td>557</td><td>600</td><td>-3</td><td> 709</td><td> 723</td><td>-14</td><td>EV</td><td>5708</td><td>N829AS</td><td>LGA</td><td>IAD</td><td> 53</td><td> 229</td><td>6</td><td> 0</td><td>2013-01-01 06:00:00</td><td>4.320755</td></tr>\n",
              "\t<tr><td>2013</td><td>1</td><td>1</td><td>557</td><td>600</td><td>-3</td><td> 838</td><td> 846</td><td> -8</td><td>B6</td><td>  79</td><td>N593JB</td><td>JFK</td><td>MCO</td><td>140</td><td> 944</td><td>6</td><td> 0</td><td>2013-01-01 06:00:00</td><td>6.742857</td></tr>\n",
              "\t<tr><td>2013</td><td>1</td><td>1</td><td>558</td><td>600</td><td>-2</td><td> 753</td><td> 745</td><td>  8</td><td>AA</td><td> 301</td><td>N3ALAA</td><td>LGA</td><td>ORD</td><td>138</td><td> 733</td><td>6</td><td> 0</td><td>2013-01-01 06:00:00</td><td>5.311594</td></tr>\n",
              "\t<tr><td>2013</td><td>1</td><td>1</td><td>558</td><td>600</td><td>-2</td><td> 849</td><td> 851</td><td> -2</td><td>B6</td><td>  49</td><td>N793JB</td><td>JFK</td><td>PBI</td><td>149</td><td>1028</td><td>6</td><td> 0</td><td>2013-01-01 06:00:00</td><td>6.899329</td></tr>\n",
              "\t<tr><td>2013</td><td>1</td><td>1</td><td>558</td><td>600</td><td>-2</td><td> 853</td><td> 856</td><td> -3</td><td>B6</td><td>  71</td><td>N657JB</td><td>JFK</td><td>TPA</td><td>158</td><td>1005</td><td>6</td><td> 0</td><td>2013-01-01 06:00:00</td><td>6.360759</td></tr>\n",
              "\t<tr><td>2013</td><td>1</td><td>1</td><td>558</td><td>600</td><td>-2</td><td> 924</td><td> 917</td><td>  7</td><td>UA</td><td> 194</td><td>N29129</td><td>JFK</td><td>LAX</td><td>345</td><td>2475</td><td>6</td><td> 0</td><td>2013-01-01 06:00:00</td><td>7.173913</td></tr>\n",
              "\t<tr><td>2013</td><td>1</td><td>1</td><td>558</td><td>600</td><td>-2</td><td> 923</td><td> 937</td><td>-14</td><td>UA</td><td>1124</td><td>N53441</td><td>EWR</td><td>SFO</td><td>361</td><td>2565</td><td>6</td><td> 0</td><td>2013-01-01 06:00:00</td><td>7.105263</td></tr>\n",
              "\t<tr><td>2013</td><td>1</td><td>1</td><td>559</td><td>600</td><td>-1</td><td> 941</td><td> 910</td><td> 31</td><td>AA</td><td> 707</td><td>N3DUAA</td><td>LGA</td><td>DFW</td><td>257</td><td>1389</td><td>6</td><td> 0</td><td>2013-01-01 06:00:00</td><td>5.404669</td></tr>\n",
              "\t<tr><td>2013</td><td>1</td><td>1</td><td>559</td><td>559</td><td> 0</td><td> 702</td><td> 706</td><td> -4</td><td>B6</td><td>1806</td><td>N708JB</td><td>JFK</td><td>BOS</td><td> 44</td><td> 187</td><td>5</td><td>59</td><td>2013-01-01 05:00:00</td><td>4.250000</td></tr>\n",
              "\t<tr><td>2013</td><td>1</td><td>1</td><td>559</td><td>600</td><td>-1</td><td> 854</td><td> 902</td><td> -8</td><td>UA</td><td>1187</td><td>N76515</td><td>EWR</td><td>LAS</td><td>337</td><td>2227</td><td>6</td><td> 0</td><td>2013-01-01 06:00:00</td><td>6.608309</td></tr>\n",
              "\t<tr><td>2013</td><td>1</td><td>1</td><td>600</td><td>600</td><td> 0</td><td> 851</td><td> 858</td><td> -7</td><td>B6</td><td> 371</td><td>N595JB</td><td>LGA</td><td>FLL</td><td>152</td><td>1076</td><td>6</td><td> 0</td><td>2013-01-01 06:00:00</td><td>7.078947</td></tr>\n",
              "\t<tr><td>2013</td><td>1</td><td>1</td><td>600</td><td>600</td><td> 0</td><td> 837</td><td> 825</td><td> 12</td><td>MQ</td><td>4650</td><td>N542MQ</td><td>LGA</td><td>ATL</td><td>134</td><td> 762</td><td>6</td><td> 0</td><td>2013-01-01 06:00:00</td><td>5.686567</td></tr>\n",
              "\t<tr><td>2013</td><td>1</td><td>1</td><td>601</td><td>600</td><td> 1</td><td> 844</td><td> 850</td><td> -6</td><td>B6</td><td> 343</td><td>N644JB</td><td>EWR</td><td>PBI</td><td>147</td><td>1023</td><td>6</td><td> 0</td><td>2013-01-01 06:00:00</td><td>6.959184</td></tr>\n",
              "\t<tr><td>2013</td><td>1</td><td>1</td><td>602</td><td>610</td><td>-8</td><td> 812</td><td> 820</td><td> -8</td><td>DL</td><td>1919</td><td>N971DL</td><td>LGA</td><td>MSP</td><td>170</td><td>1020</td><td>6</td><td>10</td><td>2013-01-01 06:00:00</td><td>6.000000</td></tr>\n",
              "\t<tr><td>2013</td><td>1</td><td>1</td><td>602</td><td>605</td><td>-3</td><td> 821</td><td> 805</td><td> 16</td><td>MQ</td><td>4401</td><td>N730MQ</td><td>LGA</td><td>DTW</td><td>105</td><td> 502</td><td>6</td><td> 5</td><td>2013-01-01 06:00:00</td><td>4.780952</td></tr>\n",
              "\t<tr><td>2013</td><td>1</td><td>1</td><td>606</td><td>610</td><td>-4</td><td> 858</td><td> 910</td><td>-12</td><td>AA</td><td>1895</td><td>N633AA</td><td>EWR</td><td>MIA</td><td>152</td><td>1085</td><td>6</td><td>10</td><td>2013-01-01 06:00:00</td><td>7.138158</td></tr>\n",
              "\t<tr><td>2013</td><td>1</td><td>1</td><td>606</td><td>610</td><td>-4</td><td> 837</td><td> 845</td><td> -8</td><td>DL</td><td>1743</td><td>N3739P</td><td>JFK</td><td>ATL</td><td>128</td><td> 760</td><td>6</td><td>10</td><td>2013-01-01 06:00:00</td><td>5.937500</td></tr>\n",
              "\t<tr><td>2013</td><td>1</td><td>1</td><td>607</td><td>607</td><td> 0</td><td> 858</td><td> 915</td><td>-17</td><td>UA</td><td>1077</td><td>N53442</td><td>EWR</td><td>MIA</td><td>157</td><td>1085</td><td>6</td><td> 7</td><td>2013-01-01 06:00:00</td><td>6.910828</td></tr>\n",
              "\t<tr><td>2013</td><td>1</td><td>1</td><td>608</td><td>600</td><td> 8</td><td> 807</td><td> 735</td><td> 32</td><td>MQ</td><td>3768</td><td>N9EAMQ</td><td>EWR</td><td>ORD</td><td>139</td><td> 719</td><td>6</td><td> 0</td><td>2013-01-01 06:00:00</td><td>5.172662</td></tr>\n",
              "\t<tr><td>2013</td><td>1</td><td>1</td><td>611</td><td>600</td><td>11</td><td> 945</td><td> 931</td><td> 14</td><td>UA</td><td> 303</td><td>N532UA</td><td>JFK</td><td>SFO</td><td>366</td><td>2586</td><td>6</td><td> 0</td><td>2013-01-01 06:00:00</td><td>7.065574</td></tr>\n",
              "\t<tr><td>2013</td><td>1</td><td>1</td><td>613</td><td>610</td><td> 3</td><td> 925</td><td> 921</td><td>  4</td><td>B6</td><td> 135</td><td>N635JB</td><td>JFK</td><td>RSW</td><td>175</td><td>1074</td><td>6</td><td>10</td><td>2013-01-01 06:00:00</td><td>6.137143</td></tr>\n",
              "\t<tr><td>2013</td><td>1</td><td>1</td><td>615</td><td>615</td><td> 0</td><td>1039</td><td>1100</td><td>-21</td><td>B6</td><td> 709</td><td>N794JB</td><td>JFK</td><td>SJU</td><td>182</td><td>1598</td><td>6</td><td>15</td><td>2013-01-01 06:00:00</td><td>8.780220</td></tr>\n",
              "\t<tr><td>2013</td><td>1</td><td>1</td><td>615</td><td>615</td><td> 0</td><td> 833</td><td> 842</td><td> -9</td><td>DL</td><td> 575</td><td>N326NB</td><td>EWR</td><td>ATL</td><td>120</td><td> 746</td><td>6</td><td>15</td><td>2013-01-01 06:00:00</td><td>6.216667</td></tr>\n",
              "\t<tr><td>⋮</td><td>⋮</td><td>⋮</td><td>⋮</td><td>⋮</td><td>⋮</td><td>⋮</td><td>⋮</td><td>⋮</td><td>⋮</td><td>⋮</td><td>⋮</td><td>⋮</td><td>⋮</td><td>⋮</td><td>⋮</td><td>⋮</td><td>⋮</td><td>⋮</td><td>⋮</td></tr>\n",
              "\t<tr><td>2013</td><td>9</td><td>30</td><td>2123</td><td>2125</td><td> -2</td><td>2223</td><td>2247</td><td>-24</td><td>EV</td><td>5489</td><td>N712EV</td><td>LGA</td><td>CHO</td><td> 45</td><td> 305</td><td>21</td><td>25</td><td>2013-09-30 21:00:00</td><td>6.777778</td></tr>\n",
              "\t<tr><td>2013</td><td>9</td><td>30</td><td>2127</td><td>2129</td><td> -2</td><td>2314</td><td>2323</td><td> -9</td><td>EV</td><td>3833</td><td>N16546</td><td>EWR</td><td>CLT</td><td> 72</td><td> 529</td><td>21</td><td>29</td><td>2013-09-30 21:00:00</td><td>7.347222</td></tr>\n",
              "\t<tr><td>2013</td><td>9</td><td>30</td><td>2128</td><td>2130</td><td> -2</td><td>2328</td><td>2359</td><td>-31</td><td>B6</td><td>  97</td><td>N807JB</td><td>JFK</td><td>DEN</td><td>213</td><td>1626</td><td>21</td><td>30</td><td>2013-09-30 21:00:00</td><td>7.633803</td></tr>\n",
              "\t<tr><td>2013</td><td>9</td><td>30</td><td>2129</td><td>2059</td><td> 30</td><td>2230</td><td>2232</td><td> -2</td><td>EV</td><td>5048</td><td>N751EV</td><td>LGA</td><td>RIC</td><td> 45</td><td> 292</td><td>20</td><td>59</td><td>2013-09-30 20:00:00</td><td>6.488889</td></tr>\n",
              "\t<tr><td>2013</td><td>9</td><td>30</td><td>2131</td><td>2140</td><td> -9</td><td>2225</td><td>2255</td><td>-30</td><td>MQ</td><td>3621</td><td>N807MQ</td><td>JFK</td><td>DCA</td><td> 36</td><td> 213</td><td>21</td><td>40</td><td>2013-09-30 21:00:00</td><td>5.916667</td></tr>\n",
              "\t<tr><td>2013</td><td>9</td><td>30</td><td>2140</td><td>2140</td><td>  0</td><td>  10</td><td>  40</td><td>-30</td><td>AA</td><td> 185</td><td>N335AA</td><td>JFK</td><td>LAX</td><td>298</td><td>2475</td><td>21</td><td>40</td><td>2013-09-30 21:00:00</td><td>8.305369</td></tr>\n",
              "\t<tr><td>2013</td><td>9</td><td>30</td><td>2142</td><td>2129</td><td> 13</td><td>2250</td><td>2239</td><td> 11</td><td>EV</td><td>4509</td><td>N12957</td><td>EWR</td><td>PWM</td><td> 47</td><td> 284</td><td>21</td><td>29</td><td>2013-09-30 21:00:00</td><td>6.042553</td></tr>\n",
              "\t<tr><td>2013</td><td>9</td><td>30</td><td>2145</td><td>2145</td><td>  0</td><td> 115</td><td> 140</td><td>-25</td><td>B6</td><td>1103</td><td>N633JB</td><td>JFK</td><td>SJU</td><td>192</td><td>1598</td><td>21</td><td>45</td><td>2013-09-30 21:00:00</td><td>8.322917</td></tr>\n",
              "\t<tr><td>2013</td><td>9</td><td>30</td><td>2147</td><td>2137</td><td> 10</td><td>  30</td><td>  27</td><td>  3</td><td>B6</td><td>1371</td><td>N627JB</td><td>LGA</td><td>FLL</td><td>139</td><td>1076</td><td>21</td><td>37</td><td>2013-09-30 21:00:00</td><td>7.741007</td></tr>\n",
              "\t<tr><td>2013</td><td>9</td><td>30</td><td>2149</td><td>2156</td><td> -7</td><td>2245</td><td>2308</td><td>-23</td><td>UA</td><td> 523</td><td>N813UA</td><td>EWR</td><td>BOS</td><td> 37</td><td> 200</td><td>21</td><td>56</td><td>2013-09-30 21:00:00</td><td>5.405405</td></tr>\n",
              "\t<tr><td>2013</td><td>9</td><td>30</td><td>2150</td><td>2159</td><td> -9</td><td>2250</td><td>2306</td><td>-16</td><td>EV</td><td>3842</td><td>N10575</td><td>EWR</td><td>MHT</td><td> 39</td><td> 209</td><td>21</td><td>59</td><td>2013-09-30 21:00:00</td><td>5.358974</td></tr>\n",
              "\t<tr><td>2013</td><td>9</td><td>30</td><td>2159</td><td>1845</td><td>194</td><td>2344</td><td>2030</td><td>194</td><td>9E</td><td>3320</td><td>N906XJ</td><td>JFK</td><td>BUF</td><td> 50</td><td> 301</td><td>18</td><td>45</td><td>2013-09-30 18:00:00</td><td>6.020000</td></tr>\n",
              "\t<tr><td>2013</td><td>9</td><td>30</td><td>2203</td><td>2205</td><td> -2</td><td>2339</td><td>2331</td><td>  8</td><td>EV</td><td>5311</td><td>N722EV</td><td>LGA</td><td>BGR</td><td> 61</td><td> 378</td><td>22</td><td> 5</td><td>2013-09-30 22:00:00</td><td>6.196721</td></tr>\n",
              "\t<tr><td>2013</td><td>9</td><td>30</td><td>2207</td><td>2140</td><td> 27</td><td>2257</td><td>2250</td><td>  7</td><td>MQ</td><td>3660</td><td>N532MQ</td><td>LGA</td><td>BNA</td><td> 97</td><td> 764</td><td>21</td><td>40</td><td>2013-09-30 21:00:00</td><td>7.876289</td></tr>\n",
              "\t<tr><td>2013</td><td>9</td><td>30</td><td>2211</td><td>2059</td><td> 72</td><td>2339</td><td>2242</td><td> 57</td><td>EV</td><td>4672</td><td>N12145</td><td>EWR</td><td>STL</td><td>120</td><td> 872</td><td>20</td><td>59</td><td>2013-09-30 20:00:00</td><td>7.266667</td></tr>\n",
              "\t<tr><td>2013</td><td>9</td><td>30</td><td>2231</td><td>2245</td><td>-14</td><td>2335</td><td>2356</td><td>-21</td><td>B6</td><td> 108</td><td>N193JB</td><td>JFK</td><td>PWM</td><td> 48</td><td> 273</td><td>22</td><td>45</td><td>2013-09-30 22:00:00</td><td>5.687500</td></tr>\n",
              "\t<tr><td>2013</td><td>9</td><td>30</td><td>2233</td><td>2113</td><td> 80</td><td> 112</td><td>  30</td><td> 42</td><td>UA</td><td> 471</td><td>N578UA</td><td>EWR</td><td>SFO</td><td>318</td><td>2565</td><td>21</td><td>13</td><td>2013-09-30 21:00:00</td><td>8.066038</td></tr>\n",
              "\t<tr><td>2013</td><td>9</td><td>30</td><td>2235</td><td>2001</td><td>154</td><td>  59</td><td>2249</td><td>130</td><td>B6</td><td>1083</td><td>N804JB</td><td>JFK</td><td>MCO</td><td>123</td><td> 944</td><td>20</td><td> 1</td><td>2013-09-30 20:00:00</td><td>7.674797</td></tr>\n",
              "\t<tr><td>2013</td><td>9</td><td>30</td><td>2237</td><td>2245</td><td> -8</td><td>2345</td><td>2353</td><td> -8</td><td>B6</td><td> 234</td><td>N318JB</td><td>JFK</td><td>BTV</td><td> 43</td><td> 266</td><td>22</td><td>45</td><td>2013-09-30 22:00:00</td><td>6.186047</td></tr>\n",
              "\t<tr><td>2013</td><td>9</td><td>30</td><td>2240</td><td>2245</td><td> -5</td><td>2334</td><td>2351</td><td>-17</td><td>B6</td><td>1816</td><td>N354JB</td><td>JFK</td><td>SYR</td><td> 41</td><td> 209</td><td>22</td><td>45</td><td>2013-09-30 22:00:00</td><td>5.097561</td></tr>\n",
              "\t<tr><td>2013</td><td>9</td><td>30</td><td>2240</td><td>2250</td><td>-10</td><td>2347</td><td>   7</td><td>-20</td><td>B6</td><td>2002</td><td>N281JB</td><td>JFK</td><td>BUF</td><td> 52</td><td> 301</td><td>22</td><td>50</td><td>2013-09-30 22:00:00</td><td>5.788462</td></tr>\n",
              "\t<tr><td>2013</td><td>9</td><td>30</td><td>2241</td><td>2246</td><td> -5</td><td>2345</td><td>   1</td><td>-16</td><td>B6</td><td> 486</td><td>N346JB</td><td>JFK</td><td>ROC</td><td> 47</td><td> 264</td><td>22</td><td>46</td><td>2013-09-30 22:00:00</td><td>5.617021</td></tr>\n",
              "\t<tr><td>2013</td><td>9</td><td>30</td><td>2307</td><td>2255</td><td> 12</td><td>2359</td><td>2358</td><td>  1</td><td>B6</td><td> 718</td><td>N565JB</td><td>JFK</td><td>BOS</td><td> 33</td><td> 187</td><td>22</td><td>55</td><td>2013-09-30 22:00:00</td><td>5.666667</td></tr>\n",
              "\t<tr><td>2013</td><td>9</td><td>30</td><td>2349</td><td>2359</td><td>-10</td><td> 325</td><td> 350</td><td>-25</td><td>B6</td><td> 745</td><td>N516JB</td><td>JFK</td><td>PSE</td><td>196</td><td>1617</td><td>23</td><td>59</td><td>2013-09-30 23:00:00</td><td>8.250000</td></tr>\n",
              "\t<tr><td>2013</td><td>9</td><td>30</td><td>  NA</td><td>1842</td><td> NA</td><td>  NA</td><td>2019</td><td> NA</td><td>EV</td><td>5274</td><td>N740EV</td><td>LGA</td><td>BNA</td><td> NA</td><td> 764</td><td>18</td><td>42</td><td>2013-09-30 18:00:00</td><td>      NA</td></tr>\n",
              "\t<tr><td>2013</td><td>9</td><td>30</td><td>  NA</td><td>1455</td><td> NA</td><td>  NA</td><td>1634</td><td> NA</td><td>9E</td><td>3393</td><td>NA    </td><td>JFK</td><td>DCA</td><td> NA</td><td> 213</td><td>14</td><td>55</td><td>2013-09-30 14:00:00</td><td>      NA</td></tr>\n",
              "\t<tr><td>2013</td><td>9</td><td>30</td><td>  NA</td><td>2200</td><td> NA</td><td>  NA</td><td>2312</td><td> NA</td><td>9E</td><td>3525</td><td>NA    </td><td>LGA</td><td>SYR</td><td> NA</td><td> 198</td><td>22</td><td> 0</td><td>2013-09-30 22:00:00</td><td>      NA</td></tr>\n",
              "\t<tr><td>2013</td><td>9</td><td>30</td><td>  NA</td><td>1210</td><td> NA</td><td>  NA</td><td>1330</td><td> NA</td><td>MQ</td><td>3461</td><td>N535MQ</td><td>LGA</td><td>BNA</td><td> NA</td><td> 764</td><td>12</td><td>10</td><td>2013-09-30 12:00:00</td><td>      NA</td></tr>\n",
              "\t<tr><td>2013</td><td>9</td><td>30</td><td>  NA</td><td>1159</td><td> NA</td><td>  NA</td><td>1344</td><td> NA</td><td>MQ</td><td>3572</td><td>N511MQ</td><td>LGA</td><td>CLE</td><td> NA</td><td> 419</td><td>11</td><td>59</td><td>2013-09-30 11:00:00</td><td>      NA</td></tr>\n",
              "\t<tr><td>2013</td><td>9</td><td>30</td><td>  NA</td><td> 840</td><td> NA</td><td>  NA</td><td>1020</td><td> NA</td><td>MQ</td><td>3531</td><td>N839MQ</td><td>LGA</td><td>RDU</td><td> NA</td><td> 431</td><td> 8</td><td>40</td><td>2013-09-30 08:00:00</td><td>      NA</td></tr>\n",
              "</tbody>\n",
              "</table>\n"
            ],
            "text/markdown": "\nA tibble: 336776 × 20\n\n| year &lt;int&gt; | month &lt;int&gt; | day &lt;int&gt; | dep_time &lt;int&gt; | sched_dep_time &lt;int&gt; | dep_delay &lt;dbl&gt; | arr_time &lt;int&gt; | sched_arr_time &lt;int&gt; | arr_delay &lt;dbl&gt; | carrier &lt;chr&gt; | flight &lt;int&gt; | tailnum &lt;chr&gt; | origin &lt;chr&gt; | dest &lt;chr&gt; | air_time &lt;dbl&gt; | distance &lt;dbl&gt; | hour &lt;dbl&gt; | minute &lt;dbl&gt; | time_hour &lt;dttm&gt; | speed &lt;dbl&gt; |\n|---|---|---|---|---|---|---|---|---|---|---|---|---|---|---|---|---|---|---|---|\n| 2013 | 1 | 1 | 517 | 515 |  2 |  830 |  819 |  11 | UA | 1545 | N14228 | EWR | IAH | 227 | 1400 | 5 | 15 | 2013-01-01 05:00:00 | 6.167401 |\n| 2013 | 1 | 1 | 533 | 529 |  4 |  850 |  830 |  20 | UA | 1714 | N24211 | LGA | IAH | 227 | 1416 | 5 | 29 | 2013-01-01 05:00:00 | 6.237885 |\n| 2013 | 1 | 1 | 542 | 540 |  2 |  923 |  850 |  33 | AA | 1141 | N619AA | JFK | MIA | 160 | 1089 | 5 | 40 | 2013-01-01 05:00:00 | 6.806250 |\n| 2013 | 1 | 1 | 544 | 545 | -1 | 1004 | 1022 | -18 | B6 |  725 | N804JB | JFK | BQN | 183 | 1576 | 5 | 45 | 2013-01-01 05:00:00 | 8.612022 |\n| 2013 | 1 | 1 | 554 | 600 | -6 |  812 |  837 | -25 | DL |  461 | N668DN | LGA | ATL | 116 |  762 | 6 |  0 | 2013-01-01 06:00:00 | 6.568966 |\n| 2013 | 1 | 1 | 554 | 558 | -4 |  740 |  728 |  12 | UA | 1696 | N39463 | EWR | ORD | 150 |  719 | 5 | 58 | 2013-01-01 05:00:00 | 4.793333 |\n| 2013 | 1 | 1 | 555 | 600 | -5 |  913 |  854 |  19 | B6 |  507 | N516JB | EWR | FLL | 158 | 1065 | 6 |  0 | 2013-01-01 06:00:00 | 6.740506 |\n| 2013 | 1 | 1 | 557 | 600 | -3 |  709 |  723 | -14 | EV | 5708 | N829AS | LGA | IAD |  53 |  229 | 6 |  0 | 2013-01-01 06:00:00 | 4.320755 |\n| 2013 | 1 | 1 | 557 | 600 | -3 |  838 |  846 |  -8 | B6 |   79 | N593JB | JFK | MCO | 140 |  944 | 6 |  0 | 2013-01-01 06:00:00 | 6.742857 |\n| 2013 | 1 | 1 | 558 | 600 | -2 |  753 |  745 |   8 | AA |  301 | N3ALAA | LGA | ORD | 138 |  733 | 6 |  0 | 2013-01-01 06:00:00 | 5.311594 |\n| 2013 | 1 | 1 | 558 | 600 | -2 |  849 |  851 |  -2 | B6 |   49 | N793JB | JFK | PBI | 149 | 1028 | 6 |  0 | 2013-01-01 06:00:00 | 6.899329 |\n| 2013 | 1 | 1 | 558 | 600 | -2 |  853 |  856 |  -3 | B6 |   71 | N657JB | JFK | TPA | 158 | 1005 | 6 |  0 | 2013-01-01 06:00:00 | 6.360759 |\n| 2013 | 1 | 1 | 558 | 600 | -2 |  924 |  917 |   7 | UA |  194 | N29129 | JFK | LAX | 345 | 2475 | 6 |  0 | 2013-01-01 06:00:00 | 7.173913 |\n| 2013 | 1 | 1 | 558 | 600 | -2 |  923 |  937 | -14 | UA | 1124 | N53441 | EWR | SFO | 361 | 2565 | 6 |  0 | 2013-01-01 06:00:00 | 7.105263 |\n| 2013 | 1 | 1 | 559 | 600 | -1 |  941 |  910 |  31 | AA |  707 | N3DUAA | LGA | DFW | 257 | 1389 | 6 |  0 | 2013-01-01 06:00:00 | 5.404669 |\n| 2013 | 1 | 1 | 559 | 559 |  0 |  702 |  706 |  -4 | B6 | 1806 | N708JB | JFK | BOS |  44 |  187 | 5 | 59 | 2013-01-01 05:00:00 | 4.250000 |\n| 2013 | 1 | 1 | 559 | 600 | -1 |  854 |  902 |  -8 | UA | 1187 | N76515 | EWR | LAS | 337 | 2227 | 6 |  0 | 2013-01-01 06:00:00 | 6.608309 |\n| 2013 | 1 | 1 | 600 | 600 |  0 |  851 |  858 |  -7 | B6 |  371 | N595JB | LGA | FLL | 152 | 1076 | 6 |  0 | 2013-01-01 06:00:00 | 7.078947 |\n| 2013 | 1 | 1 | 600 | 600 |  0 |  837 |  825 |  12 | MQ | 4650 | N542MQ | LGA | ATL | 134 |  762 | 6 |  0 | 2013-01-01 06:00:00 | 5.686567 |\n| 2013 | 1 | 1 | 601 | 600 |  1 |  844 |  850 |  -6 | B6 |  343 | N644JB | EWR | PBI | 147 | 1023 | 6 |  0 | 2013-01-01 06:00:00 | 6.959184 |\n| 2013 | 1 | 1 | 602 | 610 | -8 |  812 |  820 |  -8 | DL | 1919 | N971DL | LGA | MSP | 170 | 1020 | 6 | 10 | 2013-01-01 06:00:00 | 6.000000 |\n| 2013 | 1 | 1 | 602 | 605 | -3 |  821 |  805 |  16 | MQ | 4401 | N730MQ | LGA | DTW | 105 |  502 | 6 |  5 | 2013-01-01 06:00:00 | 4.780952 |\n| 2013 | 1 | 1 | 606 | 610 | -4 |  858 |  910 | -12 | AA | 1895 | N633AA | EWR | MIA | 152 | 1085 | 6 | 10 | 2013-01-01 06:00:00 | 7.138158 |\n| 2013 | 1 | 1 | 606 | 610 | -4 |  837 |  845 |  -8 | DL | 1743 | N3739P | JFK | ATL | 128 |  760 | 6 | 10 | 2013-01-01 06:00:00 | 5.937500 |\n| 2013 | 1 | 1 | 607 | 607 |  0 |  858 |  915 | -17 | UA | 1077 | N53442 | EWR | MIA | 157 | 1085 | 6 |  7 | 2013-01-01 06:00:00 | 6.910828 |\n| 2013 | 1 | 1 | 608 | 600 |  8 |  807 |  735 |  32 | MQ | 3768 | N9EAMQ | EWR | ORD | 139 |  719 | 6 |  0 | 2013-01-01 06:00:00 | 5.172662 |\n| 2013 | 1 | 1 | 611 | 600 | 11 |  945 |  931 |  14 | UA |  303 | N532UA | JFK | SFO | 366 | 2586 | 6 |  0 | 2013-01-01 06:00:00 | 7.065574 |\n| 2013 | 1 | 1 | 613 | 610 |  3 |  925 |  921 |   4 | B6 |  135 | N635JB | JFK | RSW | 175 | 1074 | 6 | 10 | 2013-01-01 06:00:00 | 6.137143 |\n| 2013 | 1 | 1 | 615 | 615 |  0 | 1039 | 1100 | -21 | B6 |  709 | N794JB | JFK | SJU | 182 | 1598 | 6 | 15 | 2013-01-01 06:00:00 | 8.780220 |\n| 2013 | 1 | 1 | 615 | 615 |  0 |  833 |  842 |  -9 | DL |  575 | N326NB | EWR | ATL | 120 |  746 | 6 | 15 | 2013-01-01 06:00:00 | 6.216667 |\n| ⋮ | ⋮ | ⋮ | ⋮ | ⋮ | ⋮ | ⋮ | ⋮ | ⋮ | ⋮ | ⋮ | ⋮ | ⋮ | ⋮ | ⋮ | ⋮ | ⋮ | ⋮ | ⋮ | ⋮ |\n| 2013 | 9 | 30 | 2123 | 2125 |  -2 | 2223 | 2247 | -24 | EV | 5489 | N712EV | LGA | CHO |  45 |  305 | 21 | 25 | 2013-09-30 21:00:00 | 6.777778 |\n| 2013 | 9 | 30 | 2127 | 2129 |  -2 | 2314 | 2323 |  -9 | EV | 3833 | N16546 | EWR | CLT |  72 |  529 | 21 | 29 | 2013-09-30 21:00:00 | 7.347222 |\n| 2013 | 9 | 30 | 2128 | 2130 |  -2 | 2328 | 2359 | -31 | B6 |   97 | N807JB | JFK | DEN | 213 | 1626 | 21 | 30 | 2013-09-30 21:00:00 | 7.633803 |\n| 2013 | 9 | 30 | 2129 | 2059 |  30 | 2230 | 2232 |  -2 | EV | 5048 | N751EV | LGA | RIC |  45 |  292 | 20 | 59 | 2013-09-30 20:00:00 | 6.488889 |\n| 2013 | 9 | 30 | 2131 | 2140 |  -9 | 2225 | 2255 | -30 | MQ | 3621 | N807MQ | JFK | DCA |  36 |  213 | 21 | 40 | 2013-09-30 21:00:00 | 5.916667 |\n| 2013 | 9 | 30 | 2140 | 2140 |   0 |   10 |   40 | -30 | AA |  185 | N335AA | JFK | LAX | 298 | 2475 | 21 | 40 | 2013-09-30 21:00:00 | 8.305369 |\n| 2013 | 9 | 30 | 2142 | 2129 |  13 | 2250 | 2239 |  11 | EV | 4509 | N12957 | EWR | PWM |  47 |  284 | 21 | 29 | 2013-09-30 21:00:00 | 6.042553 |\n| 2013 | 9 | 30 | 2145 | 2145 |   0 |  115 |  140 | -25 | B6 | 1103 | N633JB | JFK | SJU | 192 | 1598 | 21 | 45 | 2013-09-30 21:00:00 | 8.322917 |\n| 2013 | 9 | 30 | 2147 | 2137 |  10 |   30 |   27 |   3 | B6 | 1371 | N627JB | LGA | FLL | 139 | 1076 | 21 | 37 | 2013-09-30 21:00:00 | 7.741007 |\n| 2013 | 9 | 30 | 2149 | 2156 |  -7 | 2245 | 2308 | -23 | UA |  523 | N813UA | EWR | BOS |  37 |  200 | 21 | 56 | 2013-09-30 21:00:00 | 5.405405 |\n| 2013 | 9 | 30 | 2150 | 2159 |  -9 | 2250 | 2306 | -16 | EV | 3842 | N10575 | EWR | MHT |  39 |  209 | 21 | 59 | 2013-09-30 21:00:00 | 5.358974 |\n| 2013 | 9 | 30 | 2159 | 1845 | 194 | 2344 | 2030 | 194 | 9E | 3320 | N906XJ | JFK | BUF |  50 |  301 | 18 | 45 | 2013-09-30 18:00:00 | 6.020000 |\n| 2013 | 9 | 30 | 2203 | 2205 |  -2 | 2339 | 2331 |   8 | EV | 5311 | N722EV | LGA | BGR |  61 |  378 | 22 |  5 | 2013-09-30 22:00:00 | 6.196721 |\n| 2013 | 9 | 30 | 2207 | 2140 |  27 | 2257 | 2250 |   7 | MQ | 3660 | N532MQ | LGA | BNA |  97 |  764 | 21 | 40 | 2013-09-30 21:00:00 | 7.876289 |\n| 2013 | 9 | 30 | 2211 | 2059 |  72 | 2339 | 2242 |  57 | EV | 4672 | N12145 | EWR | STL | 120 |  872 | 20 | 59 | 2013-09-30 20:00:00 | 7.266667 |\n| 2013 | 9 | 30 | 2231 | 2245 | -14 | 2335 | 2356 | -21 | B6 |  108 | N193JB | JFK | PWM |  48 |  273 | 22 | 45 | 2013-09-30 22:00:00 | 5.687500 |\n| 2013 | 9 | 30 | 2233 | 2113 |  80 |  112 |   30 |  42 | UA |  471 | N578UA | EWR | SFO | 318 | 2565 | 21 | 13 | 2013-09-30 21:00:00 | 8.066038 |\n| 2013 | 9 | 30 | 2235 | 2001 | 154 |   59 | 2249 | 130 | B6 | 1083 | N804JB | JFK | MCO | 123 |  944 | 20 |  1 | 2013-09-30 20:00:00 | 7.674797 |\n| 2013 | 9 | 30 | 2237 | 2245 |  -8 | 2345 | 2353 |  -8 | B6 |  234 | N318JB | JFK | BTV |  43 |  266 | 22 | 45 | 2013-09-30 22:00:00 | 6.186047 |\n| 2013 | 9 | 30 | 2240 | 2245 |  -5 | 2334 | 2351 | -17 | B6 | 1816 | N354JB | JFK | SYR |  41 |  209 | 22 | 45 | 2013-09-30 22:00:00 | 5.097561 |\n| 2013 | 9 | 30 | 2240 | 2250 | -10 | 2347 |    7 | -20 | B6 | 2002 | N281JB | JFK | BUF |  52 |  301 | 22 | 50 | 2013-09-30 22:00:00 | 5.788462 |\n| 2013 | 9 | 30 | 2241 | 2246 |  -5 | 2345 |    1 | -16 | B6 |  486 | N346JB | JFK | ROC |  47 |  264 | 22 | 46 | 2013-09-30 22:00:00 | 5.617021 |\n| 2013 | 9 | 30 | 2307 | 2255 |  12 | 2359 | 2358 |   1 | B6 |  718 | N565JB | JFK | BOS |  33 |  187 | 22 | 55 | 2013-09-30 22:00:00 | 5.666667 |\n| 2013 | 9 | 30 | 2349 | 2359 | -10 |  325 |  350 | -25 | B6 |  745 | N516JB | JFK | PSE | 196 | 1617 | 23 | 59 | 2013-09-30 23:00:00 | 8.250000 |\n| 2013 | 9 | 30 |   NA | 1842 |  NA |   NA | 2019 |  NA | EV | 5274 | N740EV | LGA | BNA |  NA |  764 | 18 | 42 | 2013-09-30 18:00:00 |       NA |\n| 2013 | 9 | 30 |   NA | 1455 |  NA |   NA | 1634 |  NA | 9E | 3393 | NA     | JFK | DCA |  NA |  213 | 14 | 55 | 2013-09-30 14:00:00 |       NA |\n| 2013 | 9 | 30 |   NA | 2200 |  NA |   NA | 2312 |  NA | 9E | 3525 | NA     | LGA | SYR |  NA |  198 | 22 |  0 | 2013-09-30 22:00:00 |       NA |\n| 2013 | 9 | 30 |   NA | 1210 |  NA |   NA | 1330 |  NA | MQ | 3461 | N535MQ | LGA | BNA |  NA |  764 | 12 | 10 | 2013-09-30 12:00:00 |       NA |\n| 2013 | 9 | 30 |   NA | 1159 |  NA |   NA | 1344 |  NA | MQ | 3572 | N511MQ | LGA | CLE |  NA |  419 | 11 | 59 | 2013-09-30 11:00:00 |       NA |\n| 2013 | 9 | 30 |   NA |  840 |  NA |   NA | 1020 |  NA | MQ | 3531 | N839MQ | LGA | RDU |  NA |  431 |  8 | 40 | 2013-09-30 08:00:00 |       NA |\n\n",
            "text/latex": "A tibble: 336776 × 20\n\\begin{tabular}{llllllllllllllllllll}\n year & month & day & dep\\_time & sched\\_dep\\_time & dep\\_delay & arr\\_time & sched\\_arr\\_time & arr\\_delay & carrier & flight & tailnum & origin & dest & air\\_time & distance & hour & minute & time\\_hour & speed\\\\\n <int> & <int> & <int> & <int> & <int> & <dbl> & <int> & <int> & <dbl> & <chr> & <int> & <chr> & <chr> & <chr> & <dbl> & <dbl> & <dbl> & <dbl> & <dttm> & <dbl>\\\\\n\\hline\n\t 2013 & 1 & 1 & 517 & 515 &  2 &  830 &  819 &  11 & UA & 1545 & N14228 & EWR & IAH & 227 & 1400 & 5 & 15 & 2013-01-01 05:00:00 & 6.167401\\\\\n\t 2013 & 1 & 1 & 533 & 529 &  4 &  850 &  830 &  20 & UA & 1714 & N24211 & LGA & IAH & 227 & 1416 & 5 & 29 & 2013-01-01 05:00:00 & 6.237885\\\\\n\t 2013 & 1 & 1 & 542 & 540 &  2 &  923 &  850 &  33 & AA & 1141 & N619AA & JFK & MIA & 160 & 1089 & 5 & 40 & 2013-01-01 05:00:00 & 6.806250\\\\\n\t 2013 & 1 & 1 & 544 & 545 & -1 & 1004 & 1022 & -18 & B6 &  725 & N804JB & JFK & BQN & 183 & 1576 & 5 & 45 & 2013-01-01 05:00:00 & 8.612022\\\\\n\t 2013 & 1 & 1 & 554 & 600 & -6 &  812 &  837 & -25 & DL &  461 & N668DN & LGA & ATL & 116 &  762 & 6 &  0 & 2013-01-01 06:00:00 & 6.568966\\\\\n\t 2013 & 1 & 1 & 554 & 558 & -4 &  740 &  728 &  12 & UA & 1696 & N39463 & EWR & ORD & 150 &  719 & 5 & 58 & 2013-01-01 05:00:00 & 4.793333\\\\\n\t 2013 & 1 & 1 & 555 & 600 & -5 &  913 &  854 &  19 & B6 &  507 & N516JB & EWR & FLL & 158 & 1065 & 6 &  0 & 2013-01-01 06:00:00 & 6.740506\\\\\n\t 2013 & 1 & 1 & 557 & 600 & -3 &  709 &  723 & -14 & EV & 5708 & N829AS & LGA & IAD &  53 &  229 & 6 &  0 & 2013-01-01 06:00:00 & 4.320755\\\\\n\t 2013 & 1 & 1 & 557 & 600 & -3 &  838 &  846 &  -8 & B6 &   79 & N593JB & JFK & MCO & 140 &  944 & 6 &  0 & 2013-01-01 06:00:00 & 6.742857\\\\\n\t 2013 & 1 & 1 & 558 & 600 & -2 &  753 &  745 &   8 & AA &  301 & N3ALAA & LGA & ORD & 138 &  733 & 6 &  0 & 2013-01-01 06:00:00 & 5.311594\\\\\n\t 2013 & 1 & 1 & 558 & 600 & -2 &  849 &  851 &  -2 & B6 &   49 & N793JB & JFK & PBI & 149 & 1028 & 6 &  0 & 2013-01-01 06:00:00 & 6.899329\\\\\n\t 2013 & 1 & 1 & 558 & 600 & -2 &  853 &  856 &  -3 & B6 &   71 & N657JB & JFK & TPA & 158 & 1005 & 6 &  0 & 2013-01-01 06:00:00 & 6.360759\\\\\n\t 2013 & 1 & 1 & 558 & 600 & -2 &  924 &  917 &   7 & UA &  194 & N29129 & JFK & LAX & 345 & 2475 & 6 &  0 & 2013-01-01 06:00:00 & 7.173913\\\\\n\t 2013 & 1 & 1 & 558 & 600 & -2 &  923 &  937 & -14 & UA & 1124 & N53441 & EWR & SFO & 361 & 2565 & 6 &  0 & 2013-01-01 06:00:00 & 7.105263\\\\\n\t 2013 & 1 & 1 & 559 & 600 & -1 &  941 &  910 &  31 & AA &  707 & N3DUAA & LGA & DFW & 257 & 1389 & 6 &  0 & 2013-01-01 06:00:00 & 5.404669\\\\\n\t 2013 & 1 & 1 & 559 & 559 &  0 &  702 &  706 &  -4 & B6 & 1806 & N708JB & JFK & BOS &  44 &  187 & 5 & 59 & 2013-01-01 05:00:00 & 4.250000\\\\\n\t 2013 & 1 & 1 & 559 & 600 & -1 &  854 &  902 &  -8 & UA & 1187 & N76515 & EWR & LAS & 337 & 2227 & 6 &  0 & 2013-01-01 06:00:00 & 6.608309\\\\\n\t 2013 & 1 & 1 & 600 & 600 &  0 &  851 &  858 &  -7 & B6 &  371 & N595JB & LGA & FLL & 152 & 1076 & 6 &  0 & 2013-01-01 06:00:00 & 7.078947\\\\\n\t 2013 & 1 & 1 & 600 & 600 &  0 &  837 &  825 &  12 & MQ & 4650 & N542MQ & LGA & ATL & 134 &  762 & 6 &  0 & 2013-01-01 06:00:00 & 5.686567\\\\\n\t 2013 & 1 & 1 & 601 & 600 &  1 &  844 &  850 &  -6 & B6 &  343 & N644JB & EWR & PBI & 147 & 1023 & 6 &  0 & 2013-01-01 06:00:00 & 6.959184\\\\\n\t 2013 & 1 & 1 & 602 & 610 & -8 &  812 &  820 &  -8 & DL & 1919 & N971DL & LGA & MSP & 170 & 1020 & 6 & 10 & 2013-01-01 06:00:00 & 6.000000\\\\\n\t 2013 & 1 & 1 & 602 & 605 & -3 &  821 &  805 &  16 & MQ & 4401 & N730MQ & LGA & DTW & 105 &  502 & 6 &  5 & 2013-01-01 06:00:00 & 4.780952\\\\\n\t 2013 & 1 & 1 & 606 & 610 & -4 &  858 &  910 & -12 & AA & 1895 & N633AA & EWR & MIA & 152 & 1085 & 6 & 10 & 2013-01-01 06:00:00 & 7.138158\\\\\n\t 2013 & 1 & 1 & 606 & 610 & -4 &  837 &  845 &  -8 & DL & 1743 & N3739P & JFK & ATL & 128 &  760 & 6 & 10 & 2013-01-01 06:00:00 & 5.937500\\\\\n\t 2013 & 1 & 1 & 607 & 607 &  0 &  858 &  915 & -17 & UA & 1077 & N53442 & EWR & MIA & 157 & 1085 & 6 &  7 & 2013-01-01 06:00:00 & 6.910828\\\\\n\t 2013 & 1 & 1 & 608 & 600 &  8 &  807 &  735 &  32 & MQ & 3768 & N9EAMQ & EWR & ORD & 139 &  719 & 6 &  0 & 2013-01-01 06:00:00 & 5.172662\\\\\n\t 2013 & 1 & 1 & 611 & 600 & 11 &  945 &  931 &  14 & UA &  303 & N532UA & JFK & SFO & 366 & 2586 & 6 &  0 & 2013-01-01 06:00:00 & 7.065574\\\\\n\t 2013 & 1 & 1 & 613 & 610 &  3 &  925 &  921 &   4 & B6 &  135 & N635JB & JFK & RSW & 175 & 1074 & 6 & 10 & 2013-01-01 06:00:00 & 6.137143\\\\\n\t 2013 & 1 & 1 & 615 & 615 &  0 & 1039 & 1100 & -21 & B6 &  709 & N794JB & JFK & SJU & 182 & 1598 & 6 & 15 & 2013-01-01 06:00:00 & 8.780220\\\\\n\t 2013 & 1 & 1 & 615 & 615 &  0 &  833 &  842 &  -9 & DL &  575 & N326NB & EWR & ATL & 120 &  746 & 6 & 15 & 2013-01-01 06:00:00 & 6.216667\\\\\n\t ⋮ & ⋮ & ⋮ & ⋮ & ⋮ & ⋮ & ⋮ & ⋮ & ⋮ & ⋮ & ⋮ & ⋮ & ⋮ & ⋮ & ⋮ & ⋮ & ⋮ & ⋮ & ⋮ & ⋮\\\\\n\t 2013 & 9 & 30 & 2123 & 2125 &  -2 & 2223 & 2247 & -24 & EV & 5489 & N712EV & LGA & CHO &  45 &  305 & 21 & 25 & 2013-09-30 21:00:00 & 6.777778\\\\\n\t 2013 & 9 & 30 & 2127 & 2129 &  -2 & 2314 & 2323 &  -9 & EV & 3833 & N16546 & EWR & CLT &  72 &  529 & 21 & 29 & 2013-09-30 21:00:00 & 7.347222\\\\\n\t 2013 & 9 & 30 & 2128 & 2130 &  -2 & 2328 & 2359 & -31 & B6 &   97 & N807JB & JFK & DEN & 213 & 1626 & 21 & 30 & 2013-09-30 21:00:00 & 7.633803\\\\\n\t 2013 & 9 & 30 & 2129 & 2059 &  30 & 2230 & 2232 &  -2 & EV & 5048 & N751EV & LGA & RIC &  45 &  292 & 20 & 59 & 2013-09-30 20:00:00 & 6.488889\\\\\n\t 2013 & 9 & 30 & 2131 & 2140 &  -9 & 2225 & 2255 & -30 & MQ & 3621 & N807MQ & JFK & DCA &  36 &  213 & 21 & 40 & 2013-09-30 21:00:00 & 5.916667\\\\\n\t 2013 & 9 & 30 & 2140 & 2140 &   0 &   10 &   40 & -30 & AA &  185 & N335AA & JFK & LAX & 298 & 2475 & 21 & 40 & 2013-09-30 21:00:00 & 8.305369\\\\\n\t 2013 & 9 & 30 & 2142 & 2129 &  13 & 2250 & 2239 &  11 & EV & 4509 & N12957 & EWR & PWM &  47 &  284 & 21 & 29 & 2013-09-30 21:00:00 & 6.042553\\\\\n\t 2013 & 9 & 30 & 2145 & 2145 &   0 &  115 &  140 & -25 & B6 & 1103 & N633JB & JFK & SJU & 192 & 1598 & 21 & 45 & 2013-09-30 21:00:00 & 8.322917\\\\\n\t 2013 & 9 & 30 & 2147 & 2137 &  10 &   30 &   27 &   3 & B6 & 1371 & N627JB & LGA & FLL & 139 & 1076 & 21 & 37 & 2013-09-30 21:00:00 & 7.741007\\\\\n\t 2013 & 9 & 30 & 2149 & 2156 &  -7 & 2245 & 2308 & -23 & UA &  523 & N813UA & EWR & BOS &  37 &  200 & 21 & 56 & 2013-09-30 21:00:00 & 5.405405\\\\\n\t 2013 & 9 & 30 & 2150 & 2159 &  -9 & 2250 & 2306 & -16 & EV & 3842 & N10575 & EWR & MHT &  39 &  209 & 21 & 59 & 2013-09-30 21:00:00 & 5.358974\\\\\n\t 2013 & 9 & 30 & 2159 & 1845 & 194 & 2344 & 2030 & 194 & 9E & 3320 & N906XJ & JFK & BUF &  50 &  301 & 18 & 45 & 2013-09-30 18:00:00 & 6.020000\\\\\n\t 2013 & 9 & 30 & 2203 & 2205 &  -2 & 2339 & 2331 &   8 & EV & 5311 & N722EV & LGA & BGR &  61 &  378 & 22 &  5 & 2013-09-30 22:00:00 & 6.196721\\\\\n\t 2013 & 9 & 30 & 2207 & 2140 &  27 & 2257 & 2250 &   7 & MQ & 3660 & N532MQ & LGA & BNA &  97 &  764 & 21 & 40 & 2013-09-30 21:00:00 & 7.876289\\\\\n\t 2013 & 9 & 30 & 2211 & 2059 &  72 & 2339 & 2242 &  57 & EV & 4672 & N12145 & EWR & STL & 120 &  872 & 20 & 59 & 2013-09-30 20:00:00 & 7.266667\\\\\n\t 2013 & 9 & 30 & 2231 & 2245 & -14 & 2335 & 2356 & -21 & B6 &  108 & N193JB & JFK & PWM &  48 &  273 & 22 & 45 & 2013-09-30 22:00:00 & 5.687500\\\\\n\t 2013 & 9 & 30 & 2233 & 2113 &  80 &  112 &   30 &  42 & UA &  471 & N578UA & EWR & SFO & 318 & 2565 & 21 & 13 & 2013-09-30 21:00:00 & 8.066038\\\\\n\t 2013 & 9 & 30 & 2235 & 2001 & 154 &   59 & 2249 & 130 & B6 & 1083 & N804JB & JFK & MCO & 123 &  944 & 20 &  1 & 2013-09-30 20:00:00 & 7.674797\\\\\n\t 2013 & 9 & 30 & 2237 & 2245 &  -8 & 2345 & 2353 &  -8 & B6 &  234 & N318JB & JFK & BTV &  43 &  266 & 22 & 45 & 2013-09-30 22:00:00 & 6.186047\\\\\n\t 2013 & 9 & 30 & 2240 & 2245 &  -5 & 2334 & 2351 & -17 & B6 & 1816 & N354JB & JFK & SYR &  41 &  209 & 22 & 45 & 2013-09-30 22:00:00 & 5.097561\\\\\n\t 2013 & 9 & 30 & 2240 & 2250 & -10 & 2347 &    7 & -20 & B6 & 2002 & N281JB & JFK & BUF &  52 &  301 & 22 & 50 & 2013-09-30 22:00:00 & 5.788462\\\\\n\t 2013 & 9 & 30 & 2241 & 2246 &  -5 & 2345 &    1 & -16 & B6 &  486 & N346JB & JFK & ROC &  47 &  264 & 22 & 46 & 2013-09-30 22:00:00 & 5.617021\\\\\n\t 2013 & 9 & 30 & 2307 & 2255 &  12 & 2359 & 2358 &   1 & B6 &  718 & N565JB & JFK & BOS &  33 &  187 & 22 & 55 & 2013-09-30 22:00:00 & 5.666667\\\\\n\t 2013 & 9 & 30 & 2349 & 2359 & -10 &  325 &  350 & -25 & B6 &  745 & N516JB & JFK & PSE & 196 & 1617 & 23 & 59 & 2013-09-30 23:00:00 & 8.250000\\\\\n\t 2013 & 9 & 30 &   NA & 1842 &  NA &   NA & 2019 &  NA & EV & 5274 & N740EV & LGA & BNA &  NA &  764 & 18 & 42 & 2013-09-30 18:00:00 &       NA\\\\\n\t 2013 & 9 & 30 &   NA & 1455 &  NA &   NA & 1634 &  NA & 9E & 3393 & NA     & JFK & DCA &  NA &  213 & 14 & 55 & 2013-09-30 14:00:00 &       NA\\\\\n\t 2013 & 9 & 30 &   NA & 2200 &  NA &   NA & 2312 &  NA & 9E & 3525 & NA     & LGA & SYR &  NA &  198 & 22 &  0 & 2013-09-30 22:00:00 &       NA\\\\\n\t 2013 & 9 & 30 &   NA & 1210 &  NA &   NA & 1330 &  NA & MQ & 3461 & N535MQ & LGA & BNA &  NA &  764 & 12 & 10 & 2013-09-30 12:00:00 &       NA\\\\\n\t 2013 & 9 & 30 &   NA & 1159 &  NA &   NA & 1344 &  NA & MQ & 3572 & N511MQ & LGA & CLE &  NA &  419 & 11 & 59 & 2013-09-30 11:00:00 &       NA\\\\\n\t 2013 & 9 & 30 &   NA &  840 &  NA &   NA & 1020 &  NA & MQ & 3531 & N839MQ & LGA & RDU &  NA &  431 &  8 & 40 & 2013-09-30 08:00:00 &       NA\\\\\n\\end{tabular}\n",
            "text/plain": [
              "       year month day dep_time sched_dep_time dep_delay arr_time sched_arr_time\n",
              "1      2013 1     1   517      515             2         830      819          \n",
              "2      2013 1     1   533      529             4         850      830          \n",
              "3      2013 1     1   542      540             2         923      850          \n",
              "4      2013 1     1   544      545            -1        1004     1022          \n",
              "5      2013 1     1   554      600            -6         812      837          \n",
              "6      2013 1     1   554      558            -4         740      728          \n",
              "7      2013 1     1   555      600            -5         913      854          \n",
              "8      2013 1     1   557      600            -3         709      723          \n",
              "9      2013 1     1   557      600            -3         838      846          \n",
              "10     2013 1     1   558      600            -2         753      745          \n",
              "11     2013 1     1   558      600            -2         849      851          \n",
              "12     2013 1     1   558      600            -2         853      856          \n",
              "13     2013 1     1   558      600            -2         924      917          \n",
              "14     2013 1     1   558      600            -2         923      937          \n",
              "15     2013 1     1   559      600            -1         941      910          \n",
              "16     2013 1     1   559      559             0         702      706          \n",
              "17     2013 1     1   559      600            -1         854      902          \n",
              "18     2013 1     1   600      600             0         851      858          \n",
              "19     2013 1     1   600      600             0         837      825          \n",
              "20     2013 1     1   601      600             1         844      850          \n",
              "21     2013 1     1   602      610            -8         812      820          \n",
              "22     2013 1     1   602      605            -3         821      805          \n",
              "23     2013 1     1   606      610            -4         858      910          \n",
              "24     2013 1     1   606      610            -4         837      845          \n",
              "25     2013 1     1   607      607             0         858      915          \n",
              "26     2013 1     1   608      600             8         807      735          \n",
              "27     2013 1     1   611      600            11         945      931          \n",
              "28     2013 1     1   613      610             3         925      921          \n",
              "29     2013 1     1   615      615             0        1039     1100          \n",
              "30     2013 1     1   615      615             0         833      842          \n",
              "⋮      ⋮    ⋮     ⋮   ⋮        ⋮              ⋮         ⋮        ⋮             \n",
              "336747 2013 9     30  2123     2125            -2       2223     2247          \n",
              "336748 2013 9     30  2127     2129            -2       2314     2323          \n",
              "336749 2013 9     30  2128     2130            -2       2328     2359          \n",
              "336750 2013 9     30  2129     2059            30       2230     2232          \n",
              "336751 2013 9     30  2131     2140            -9       2225     2255          \n",
              "336752 2013 9     30  2140     2140             0         10       40          \n",
              "336753 2013 9     30  2142     2129            13       2250     2239          \n",
              "336754 2013 9     30  2145     2145             0        115      140          \n",
              "336755 2013 9     30  2147     2137            10         30       27          \n",
              "336756 2013 9     30  2149     2156            -7       2245     2308          \n",
              "336757 2013 9     30  2150     2159            -9       2250     2306          \n",
              "336758 2013 9     30  2159     1845           194       2344     2030          \n",
              "336759 2013 9     30  2203     2205            -2       2339     2331          \n",
              "336760 2013 9     30  2207     2140            27       2257     2250          \n",
              "336761 2013 9     30  2211     2059            72       2339     2242          \n",
              "336762 2013 9     30  2231     2245           -14       2335     2356          \n",
              "336763 2013 9     30  2233     2113            80        112       30          \n",
              "336764 2013 9     30  2235     2001           154         59     2249          \n",
              "336765 2013 9     30  2237     2245            -8       2345     2353          \n",
              "336766 2013 9     30  2240     2245            -5       2334     2351          \n",
              "336767 2013 9     30  2240     2250           -10       2347        7          \n",
              "336768 2013 9     30  2241     2246            -5       2345        1          \n",
              "336769 2013 9     30  2307     2255            12       2359     2358          \n",
              "336770 2013 9     30  2349     2359           -10        325      350          \n",
              "336771 2013 9     30    NA     1842            NA         NA     2019          \n",
              "336772 2013 9     30    NA     1455            NA         NA     1634          \n",
              "336773 2013 9     30    NA     2200            NA         NA     2312          \n",
              "336774 2013 9     30    NA     1210            NA         NA     1330          \n",
              "336775 2013 9     30    NA     1159            NA         NA     1344          \n",
              "336776 2013 9     30    NA      840            NA         NA     1020          \n",
              "       arr_delay carrier flight tailnum origin dest air_time distance hour\n",
              "1       11       UA      1545   N14228  EWR    IAH  227      1400     5   \n",
              "2       20       UA      1714   N24211  LGA    IAH  227      1416     5   \n",
              "3       33       AA      1141   N619AA  JFK    MIA  160      1089     5   \n",
              "4      -18       B6       725   N804JB  JFK    BQN  183      1576     5   \n",
              "5      -25       DL       461   N668DN  LGA    ATL  116       762     6   \n",
              "6       12       UA      1696   N39463  EWR    ORD  150       719     5   \n",
              "7       19       B6       507   N516JB  EWR    FLL  158      1065     6   \n",
              "8      -14       EV      5708   N829AS  LGA    IAD   53       229     6   \n",
              "9       -8       B6        79   N593JB  JFK    MCO  140       944     6   \n",
              "10       8       AA       301   N3ALAA  LGA    ORD  138       733     6   \n",
              "11      -2       B6        49   N793JB  JFK    PBI  149      1028     6   \n",
              "12      -3       B6        71   N657JB  JFK    TPA  158      1005     6   \n",
              "13       7       UA       194   N29129  JFK    LAX  345      2475     6   \n",
              "14     -14       UA      1124   N53441  EWR    SFO  361      2565     6   \n",
              "15      31       AA       707   N3DUAA  LGA    DFW  257      1389     6   \n",
              "16      -4       B6      1806   N708JB  JFK    BOS   44       187     5   \n",
              "17      -8       UA      1187   N76515  EWR    LAS  337      2227     6   \n",
              "18      -7       B6       371   N595JB  LGA    FLL  152      1076     6   \n",
              "19      12       MQ      4650   N542MQ  LGA    ATL  134       762     6   \n",
              "20      -6       B6       343   N644JB  EWR    PBI  147      1023     6   \n",
              "21      -8       DL      1919   N971DL  LGA    MSP  170      1020     6   \n",
              "22      16       MQ      4401   N730MQ  LGA    DTW  105       502     6   \n",
              "23     -12       AA      1895   N633AA  EWR    MIA  152      1085     6   \n",
              "24      -8       DL      1743   N3739P  JFK    ATL  128       760     6   \n",
              "25     -17       UA      1077   N53442  EWR    MIA  157      1085     6   \n",
              "26      32       MQ      3768   N9EAMQ  EWR    ORD  139       719     6   \n",
              "27      14       UA       303   N532UA  JFK    SFO  366      2586     6   \n",
              "28       4       B6       135   N635JB  JFK    RSW  175      1074     6   \n",
              "29     -21       B6       709   N794JB  JFK    SJU  182      1598     6   \n",
              "30      -9       DL       575   N326NB  EWR    ATL  120       746     6   \n",
              "⋮      ⋮         ⋮       ⋮      ⋮       ⋮      ⋮    ⋮        ⋮        ⋮   \n",
              "336747 -24       EV      5489   N712EV  LGA    CHO   45       305     21  \n",
              "336748  -9       EV      3833   N16546  EWR    CLT   72       529     21  \n",
              "336749 -31       B6        97   N807JB  JFK    DEN  213      1626     21  \n",
              "336750  -2       EV      5048   N751EV  LGA    RIC   45       292     20  \n",
              "336751 -30       MQ      3621   N807MQ  JFK    DCA   36       213     21  \n",
              "336752 -30       AA       185   N335AA  JFK    LAX  298      2475     21  \n",
              "336753  11       EV      4509   N12957  EWR    PWM   47       284     21  \n",
              "336754 -25       B6      1103   N633JB  JFK    SJU  192      1598     21  \n",
              "336755   3       B6      1371   N627JB  LGA    FLL  139      1076     21  \n",
              "336756 -23       UA       523   N813UA  EWR    BOS   37       200     21  \n",
              "336757 -16       EV      3842   N10575  EWR    MHT   39       209     21  \n",
              "336758 194       9E      3320   N906XJ  JFK    BUF   50       301     18  \n",
              "336759   8       EV      5311   N722EV  LGA    BGR   61       378     22  \n",
              "336760   7       MQ      3660   N532MQ  LGA    BNA   97       764     21  \n",
              "336761  57       EV      4672   N12145  EWR    STL  120       872     20  \n",
              "336762 -21       B6       108   N193JB  JFK    PWM   48       273     22  \n",
              "336763  42       UA       471   N578UA  EWR    SFO  318      2565     21  \n",
              "336764 130       B6      1083   N804JB  JFK    MCO  123       944     20  \n",
              "336765  -8       B6       234   N318JB  JFK    BTV   43       266     22  \n",
              "336766 -17       B6      1816   N354JB  JFK    SYR   41       209     22  \n",
              "336767 -20       B6      2002   N281JB  JFK    BUF   52       301     22  \n",
              "336768 -16       B6       486   N346JB  JFK    ROC   47       264     22  \n",
              "336769   1       B6       718   N565JB  JFK    BOS   33       187     22  \n",
              "336770 -25       B6       745   N516JB  JFK    PSE  196      1617     23  \n",
              "336771  NA       EV      5274   N740EV  LGA    BNA   NA       764     18  \n",
              "336772  NA       9E      3393   NA      JFK    DCA   NA       213     14  \n",
              "336773  NA       9E      3525   NA      LGA    SYR   NA       198     22  \n",
              "336774  NA       MQ      3461   N535MQ  LGA    BNA   NA       764     12  \n",
              "336775  NA       MQ      3572   N511MQ  LGA    CLE   NA       419     11  \n",
              "336776  NA       MQ      3531   N839MQ  LGA    RDU   NA       431      8  \n",
              "       minute time_hour           speed   \n",
              "1      15     2013-01-01 05:00:00 6.167401\n",
              "2      29     2013-01-01 05:00:00 6.237885\n",
              "3      40     2013-01-01 05:00:00 6.806250\n",
              "4      45     2013-01-01 05:00:00 8.612022\n",
              "5       0     2013-01-01 06:00:00 6.568966\n",
              "6      58     2013-01-01 05:00:00 4.793333\n",
              "7       0     2013-01-01 06:00:00 6.740506\n",
              "8       0     2013-01-01 06:00:00 4.320755\n",
              "9       0     2013-01-01 06:00:00 6.742857\n",
              "10      0     2013-01-01 06:00:00 5.311594\n",
              "11      0     2013-01-01 06:00:00 6.899329\n",
              "12      0     2013-01-01 06:00:00 6.360759\n",
              "13      0     2013-01-01 06:00:00 7.173913\n",
              "14      0     2013-01-01 06:00:00 7.105263\n",
              "15      0     2013-01-01 06:00:00 5.404669\n",
              "16     59     2013-01-01 05:00:00 4.250000\n",
              "17      0     2013-01-01 06:00:00 6.608309\n",
              "18      0     2013-01-01 06:00:00 7.078947\n",
              "19      0     2013-01-01 06:00:00 5.686567\n",
              "20      0     2013-01-01 06:00:00 6.959184\n",
              "21     10     2013-01-01 06:00:00 6.000000\n",
              "22      5     2013-01-01 06:00:00 4.780952\n",
              "23     10     2013-01-01 06:00:00 7.138158\n",
              "24     10     2013-01-01 06:00:00 5.937500\n",
              "25      7     2013-01-01 06:00:00 6.910828\n",
              "26      0     2013-01-01 06:00:00 5.172662\n",
              "27      0     2013-01-01 06:00:00 7.065574\n",
              "28     10     2013-01-01 06:00:00 6.137143\n",
              "29     15     2013-01-01 06:00:00 8.780220\n",
              "30     15     2013-01-01 06:00:00 6.216667\n",
              "⋮      ⋮      ⋮                   ⋮       \n",
              "336747 25     2013-09-30 21:00:00 6.777778\n",
              "336748 29     2013-09-30 21:00:00 7.347222\n",
              "336749 30     2013-09-30 21:00:00 7.633803\n",
              "336750 59     2013-09-30 20:00:00 6.488889\n",
              "336751 40     2013-09-30 21:00:00 5.916667\n",
              "336752 40     2013-09-30 21:00:00 8.305369\n",
              "336753 29     2013-09-30 21:00:00 6.042553\n",
              "336754 45     2013-09-30 21:00:00 8.322917\n",
              "336755 37     2013-09-30 21:00:00 7.741007\n",
              "336756 56     2013-09-30 21:00:00 5.405405\n",
              "336757 59     2013-09-30 21:00:00 5.358974\n",
              "336758 45     2013-09-30 18:00:00 6.020000\n",
              "336759  5     2013-09-30 22:00:00 6.196721\n",
              "336760 40     2013-09-30 21:00:00 7.876289\n",
              "336761 59     2013-09-30 20:00:00 7.266667\n",
              "336762 45     2013-09-30 22:00:00 5.687500\n",
              "336763 13     2013-09-30 21:00:00 8.066038\n",
              "336764  1     2013-09-30 20:00:00 7.674797\n",
              "336765 45     2013-09-30 22:00:00 6.186047\n",
              "336766 45     2013-09-30 22:00:00 5.097561\n",
              "336767 50     2013-09-30 22:00:00 5.788462\n",
              "336768 46     2013-09-30 22:00:00 5.617021\n",
              "336769 55     2013-09-30 22:00:00 5.666667\n",
              "336770 59     2013-09-30 23:00:00 8.250000\n",
              "336771 42     2013-09-30 18:00:00       NA\n",
              "336772 55     2013-09-30 14:00:00       NA\n",
              "336773  0     2013-09-30 22:00:00       NA\n",
              "336774 10     2013-09-30 12:00:00       NA\n",
              "336775 59     2013-09-30 11:00:00       NA\n",
              "336776 40     2013-09-30 08:00:00       NA"
            ]
          },
          "metadata": {}
        }
      ],
      "source": [
        "# 4 mutate\n",
        "\n",
        "## Your Answer\n",
        "flights%>%\n",
        "  mutate(speed=distance/air_time)"
      ]
    },
    {
      "cell_type": "markdown",
      "metadata": {
        "id": "FJVpXu1Sizoo"
      },
      "source": [
        "## Grouping\n",
        "\n",
        "Grouping is an incredibly important operation in data science. When working with a dataset, you may want to calculate a metric not for every row, but rather for every unique combination (group) in the dataset. \n",
        "\n",
        "For example, suppose I wanted to determine the average departure delay for each day of the year. This would be a relevant research question because it would inform airlines what times of the year to be proactive about potential delay waves and create proper accommodations in advance. \n",
        "\n",
        "To answer this though, I would need to create **groups**. The challenge is determining what variables we need to *\"group by\"* in order to conduct our inference. This is the motivation for the name `group_by()`. In our case, we would need to group by the year, month, and day, because those variables define a specific day. **For each day**, I want to collect all the flights, and calculate the mean and median departure delay. \n",
        "\n",
        "With this objective in mind, let's start by creating the grouping by days and observing what happens."
      ]
    },
    {
      "cell_type": "code",
      "execution_count": 44,
      "metadata": {
        "colab": {
          "base_uri": "https://localhost:8080/"
        },
        "id": "Q5AqFiwZlNqM",
        "outputId": "b9927c83-4a3f-49ff-c18e-abab0af4245b"
      },
      "outputs": [
        {
          "output_type": "stream",
          "name": "stdout",
          "text": [
            "\u001b[90m# A tibble: 336,776 × 19\u001b[39m\n",
            "    year month   day dep_time sched_de…¹ dep_d…² arr_t…³ sched…⁴ arr_d…⁵ carrier\n",
            "   \u001b[3m\u001b[90m<int>\u001b[39m\u001b[23m \u001b[3m\u001b[90m<int>\u001b[39m\u001b[23m \u001b[3m\u001b[90m<int>\u001b[39m\u001b[23m    \u001b[3m\u001b[90m<int>\u001b[39m\u001b[23m      \u001b[3m\u001b[90m<int>\u001b[39m\u001b[23m   \u001b[3m\u001b[90m<dbl>\u001b[39m\u001b[23m   \u001b[3m\u001b[90m<int>\u001b[39m\u001b[23m   \u001b[3m\u001b[90m<int>\u001b[39m\u001b[23m   \u001b[3m\u001b[90m<dbl>\u001b[39m\u001b[23m \u001b[3m\u001b[90m<chr>\u001b[39m\u001b[23m  \n",
            "\u001b[90m 1\u001b[39m  \u001b[4m2\u001b[24m013     1     1      517        515       2     830     819      11 UA     \n",
            "\u001b[90m 2\u001b[39m  \u001b[4m2\u001b[24m013     1     1      533        529       4     850     830      20 UA     \n",
            "\u001b[90m 3\u001b[39m  \u001b[4m2\u001b[24m013     1     1      542        540       2     923     850      33 AA     \n",
            "\u001b[90m 4\u001b[39m  \u001b[4m2\u001b[24m013     1     1      544        545      -\u001b[31m1\u001b[39m    \u001b[4m1\u001b[24m004    \u001b[4m1\u001b[24m022     -\u001b[31m18\u001b[39m B6     \n",
            "\u001b[90m 5\u001b[39m  \u001b[4m2\u001b[24m013     1     1      554        600      -\u001b[31m6\u001b[39m     812     837     -\u001b[31m25\u001b[39m DL     \n",
            "\u001b[90m 6\u001b[39m  \u001b[4m2\u001b[24m013     1     1      554        558      -\u001b[31m4\u001b[39m     740     728      12 UA     \n",
            "\u001b[90m 7\u001b[39m  \u001b[4m2\u001b[24m013     1     1      555        600      -\u001b[31m5\u001b[39m     913     854      19 B6     \n",
            "\u001b[90m 8\u001b[39m  \u001b[4m2\u001b[24m013     1     1      557        600      -\u001b[31m3\u001b[39m     709     723     -\u001b[31m14\u001b[39m EV     \n",
            "\u001b[90m 9\u001b[39m  \u001b[4m2\u001b[24m013     1     1      557        600      -\u001b[31m3\u001b[39m     838     846      -\u001b[31m8\u001b[39m B6     \n",
            "\u001b[90m10\u001b[39m  \u001b[4m2\u001b[24m013     1     1      558        600      -\u001b[31m2\u001b[39m     753     745       8 AA     \n",
            "\u001b[90m# … with 336,766 more rows, 9 more variables: flight <int>, tailnum <chr>,\u001b[39m\n",
            "\u001b[90m#   origin <chr>, dest <chr>, air_time <dbl>, distance <dbl>, hour <dbl>,\u001b[39m\n",
            "\u001b[90m#   minute <dbl>, time_hour <dttm>, and abbreviated variable names\u001b[39m\n",
            "\u001b[90m#   ¹​sched_dep_time, ²​dep_delay, ³​arr_time, ⁴​sched_arr_time, ⁵​arr_delay\u001b[39m\n"
          ]
        }
      ],
      "source": [
        "# showcasing the original dataset\n",
        "flights %>%\n",
        "  print()"
      ]
    },
    {
      "cell_type": "code",
      "execution_count": 45,
      "metadata": {
        "colab": {
          "base_uri": "https://localhost:8080/"
        },
        "id": "-3FzenyslBjC",
        "outputId": "ce75e910-4829-44b8-8bc0-73de6f3ed7db"
      },
      "outputs": [
        {
          "output_type": "stream",
          "name": "stdout",
          "text": [
            "\u001b[90m# A tibble: 336,776 × 19\u001b[39m\n",
            "\u001b[90m# Groups:   year, month, day [365]\u001b[39m\n",
            "    year month   day dep_time sched_de…¹ dep_d…² arr_t…³ sched…⁴ arr_d…⁵ carrier\n",
            "   \u001b[3m\u001b[90m<int>\u001b[39m\u001b[23m \u001b[3m\u001b[90m<int>\u001b[39m\u001b[23m \u001b[3m\u001b[90m<int>\u001b[39m\u001b[23m    \u001b[3m\u001b[90m<int>\u001b[39m\u001b[23m      \u001b[3m\u001b[90m<int>\u001b[39m\u001b[23m   \u001b[3m\u001b[90m<dbl>\u001b[39m\u001b[23m   \u001b[3m\u001b[90m<int>\u001b[39m\u001b[23m   \u001b[3m\u001b[90m<int>\u001b[39m\u001b[23m   \u001b[3m\u001b[90m<dbl>\u001b[39m\u001b[23m \u001b[3m\u001b[90m<chr>\u001b[39m\u001b[23m  \n",
            "\u001b[90m 1\u001b[39m  \u001b[4m2\u001b[24m013     1     1      517        515       2     830     819      11 UA     \n",
            "\u001b[90m 2\u001b[39m  \u001b[4m2\u001b[24m013     1     1      533        529       4     850     830      20 UA     \n",
            "\u001b[90m 3\u001b[39m  \u001b[4m2\u001b[24m013     1     1      542        540       2     923     850      33 AA     \n",
            "\u001b[90m 4\u001b[39m  \u001b[4m2\u001b[24m013     1     1      544        545      -\u001b[31m1\u001b[39m    \u001b[4m1\u001b[24m004    \u001b[4m1\u001b[24m022     -\u001b[31m18\u001b[39m B6     \n",
            "\u001b[90m 5\u001b[39m  \u001b[4m2\u001b[24m013     1     1      554        600      -\u001b[31m6\u001b[39m     812     837     -\u001b[31m25\u001b[39m DL     \n",
            "\u001b[90m 6\u001b[39m  \u001b[4m2\u001b[24m013     1     1      554        558      -\u001b[31m4\u001b[39m     740     728      12 UA     \n",
            "\u001b[90m 7\u001b[39m  \u001b[4m2\u001b[24m013     1     1      555        600      -\u001b[31m5\u001b[39m     913     854      19 B6     \n",
            "\u001b[90m 8\u001b[39m  \u001b[4m2\u001b[24m013     1     1      557        600      -\u001b[31m3\u001b[39m     709     723     -\u001b[31m14\u001b[39m EV     \n",
            "\u001b[90m 9\u001b[39m  \u001b[4m2\u001b[24m013     1     1      557        600      -\u001b[31m3\u001b[39m     838     846      -\u001b[31m8\u001b[39m B6     \n",
            "\u001b[90m10\u001b[39m  \u001b[4m2\u001b[24m013     1     1      558        600      -\u001b[31m2\u001b[39m     753     745       8 AA     \n",
            "\u001b[90m# … with 336,766 more rows, 9 more variables: flight <int>, tailnum <chr>,\u001b[39m\n",
            "\u001b[90m#   origin <chr>, dest <chr>, air_time <dbl>, distance <dbl>, hour <dbl>,\u001b[39m\n",
            "\u001b[90m#   minute <dbl>, time_hour <dttm>, and abbreviated variable names\u001b[39m\n",
            "\u001b[90m#   ¹​sched_dep_time, ²​dep_delay, ³​arr_time, ⁴​sched_arr_time, ⁵​arr_delay\u001b[39m\n"
          ]
        }
      ],
      "source": [
        "# showcasing the grouped dataset\n",
        "flights %>% \n",
        "  group_by(year, month, day) %>% \n",
        "    print()"
      ]
    },
    {
      "cell_type": "markdown",
      "metadata": {
        "id": "AVXI_XINlMbk"
      },
      "source": [
        "So what gives? These datasets look identical. We also know that the pipe operator takes in an input dataset, performs an operation, and outputs a new dataset. So, why are they completely the same?\n",
        "\n",
        "The answer lies in that the `group_by()` function **does not modify the input dataset at all**, but rather stores the groups behind the scenes for future computation. You can even notice that the second line of the grouped dataset states: \"# Groups:   year, month, day [365]\". This shows you which variables are being used for future grouping and how many unique groups there are (365 since 2013 is not a leap year and has 365 days).\n",
        "\n",
        "In the next section we will learn to `summarize()` our grouped data based on some metrics that are of interest to us."
      ]
    },
    {
      "cell_type": "markdown",
      "metadata": {
        "id": "edYb1ozrLAc_"
      },
      "source": [
        "#### .groups"
      ]
    },
    {
      "cell_type": "code",
      "execution_count": 47,
      "metadata": {
        "colab": {
          "base_uri": "https://localhost:8080/",
          "height": 493
        },
        "id": "uiC7jiSRLAc_",
        "outputId": "d0a0f6d6-a4dd-4638-f537-62de779780e4"
      },
      "outputs": [
        {
          "output_type": "display_data",
          "data": {
            "text/html": [
              "<table class=\"dataframe\">\n",
              "<caption>A tibble: 5 × 2</caption>\n",
              "<thead>\n",
              "\t<tr><th scope=col>sex</th><th scope=col>n</th></tr>\n",
              "\t<tr><th scope=col>&lt;chr&gt;</th><th scope=col>&lt;int&gt;</th></tr>\n",
              "</thead>\n",
              "<tbody>\n",
              "\t<tr><td>female        </td><td>16</td></tr>\n",
              "\t<tr><td>hermaphroditic</td><td> 1</td></tr>\n",
              "\t<tr><td>male          </td><td>60</td></tr>\n",
              "\t<tr><td>none          </td><td> 6</td></tr>\n",
              "\t<tr><td>NA            </td><td> 4</td></tr>\n",
              "</tbody>\n",
              "</table>\n"
            ],
            "text/markdown": "\nA tibble: 5 × 2\n\n| sex &lt;chr&gt; | n &lt;int&gt; |\n|---|---|\n| female         | 16 |\n| hermaphroditic |  1 |\n| male           | 60 |\n| none           |  6 |\n| NA             |  4 |\n\n",
            "text/latex": "A tibble: 5 × 2\n\\begin{tabular}{ll}\n sex & n\\\\\n <chr> & <int>\\\\\n\\hline\n\t female         & 16\\\\\n\t hermaphroditic &  1\\\\\n\t male           & 60\\\\\n\t none           &  6\\\\\n\t NA             &  4\\\\\n\\end{tabular}\n",
            "text/plain": [
              "  sex            n \n",
              "1 female         16\n",
              "2 hermaphroditic  1\n",
              "3 male           60\n",
              "4 none            6\n",
              "5 NA              4"
            ]
          },
          "metadata": {}
        },
        {
          "output_type": "display_data",
          "data": {
            "text/html": [
              "<table class=\"dataframe\">\n",
              "<caption>A grouped_df: 5 × 2</caption>\n",
              "<thead>\n",
              "\t<tr><th scope=col>sex</th><th scope=col>n</th></tr>\n",
              "\t<tr><th scope=col>&lt;chr&gt;</th><th scope=col>&lt;int&gt;</th></tr>\n",
              "</thead>\n",
              "<tbody>\n",
              "\t<tr><td>female        </td><td>16</td></tr>\n",
              "\t<tr><td>hermaphroditic</td><td> 1</td></tr>\n",
              "\t<tr><td>male          </td><td>60</td></tr>\n",
              "\t<tr><td>none          </td><td> 6</td></tr>\n",
              "\t<tr><td>NA            </td><td> 4</td></tr>\n",
              "</tbody>\n",
              "</table>\n"
            ],
            "text/markdown": "\nA grouped_df: 5 × 2\n\n| sex &lt;chr&gt; | n &lt;int&gt; |\n|---|---|\n| female         | 16 |\n| hermaphroditic |  1 |\n| male           | 60 |\n| none           |  6 |\n| NA             |  4 |\n\n",
            "text/latex": "A grouped\\_df: 5 × 2\n\\begin{tabular}{ll}\n sex & n\\\\\n <chr> & <int>\\\\\n\\hline\n\t female         & 16\\\\\n\t hermaphroditic &  1\\\\\n\t male           & 60\\\\\n\t none           &  6\\\\\n\t NA             &  4\\\\\n\\end{tabular}\n",
            "text/plain": [
              "  sex            n \n",
              "1 female         16\n",
              "2 hermaphroditic  1\n",
              "3 male           60\n",
              "4 none            6\n",
              "5 NA              4"
            ]
          },
          "metadata": {}
        }
      ],
      "source": [
        "by_sex = starwars %>% group_by(sex)\n",
        "\n",
        "by_sex %>% summarise(n = n(), .groups='drop') # tibble\n",
        "by_sex %>% summarise(n = n(), .groups='keep') # dataframe "
      ]
    },
    {
      "cell_type": "code",
      "execution_count": 48,
      "metadata": {
        "colab": {
          "base_uri": "https://localhost:8080/",
          "height": 255
        },
        "id": "KzbQWIIwLAc_",
        "outputId": "f27d7bb9-de61-4972-c2a4-bc3210e800d0"
      },
      "outputs": [
        {
          "output_type": "display_data",
          "data": {
            "text/html": [
              "<table class=\"dataframe\">\n",
              "<caption>A grouped_df: 5 × 2</caption>\n",
              "<thead>\n",
              "\t<tr><th scope=col>sex</th><th scope=col>n</th></tr>\n",
              "\t<tr><th scope=col>&lt;chr&gt;</th><th scope=col>&lt;int&gt;</th></tr>\n",
              "</thead>\n",
              "<tbody>\n",
              "\t<tr><td>female        </td><td>16</td></tr>\n",
              "\t<tr><td>hermaphroditic</td><td> 1</td></tr>\n",
              "\t<tr><td>male          </td><td>60</td></tr>\n",
              "\t<tr><td>none          </td><td> 6</td></tr>\n",
              "\t<tr><td>NA            </td><td> 4</td></tr>\n",
              "</tbody>\n",
              "</table>\n"
            ],
            "text/markdown": "\nA grouped_df: 5 × 2\n\n| sex &lt;chr&gt; | n &lt;int&gt; |\n|---|---|\n| female         | 16 |\n| hermaphroditic |  1 |\n| male           | 60 |\n| none           |  6 |\n| NA             |  4 |\n\n",
            "text/latex": "A grouped\\_df: 5 × 2\n\\begin{tabular}{ll}\n sex & n\\\\\n <chr> & <int>\\\\\n\\hline\n\t female         & 16\\\\\n\t hermaphroditic &  1\\\\\n\t male           & 60\\\\\n\t none           &  6\\\\\n\t NA             &  4\\\\\n\\end{tabular}\n",
            "text/plain": [
              "  sex            n \n",
              "1 female         16\n",
              "2 hermaphroditic  1\n",
              "3 male           60\n",
              "4 none            6\n",
              "5 NA              4"
            ]
          },
          "metadata": {}
        }
      ],
      "source": [
        "test = by_sex %>% summarise(n = n(), .groups='keep')\n",
        "test"
      ]
    },
    {
      "cell_type": "markdown",
      "metadata": {
        "id": "l6scQ26SVjIg"
      },
      "source": [
        "## Summarize\n",
        "`summarize()` - like any other operation - is an operation in our pipeline. It takes in an input dataset, performs some calculations, and outputs a new dataframe. It is generally used in tandem with `group_by()`; it receives as input a dataset with a grouping structure included and it outputs a \"summary\" (hence the name summarize) of a new variable. \n",
        "\n",
        "Referring back to the example above, we want to calculate the mean and median departure delay of each day in 2013."
      ]
    },
    {
      "cell_type": "code",
      "execution_count": 49,
      "metadata": {
        "colab": {
          "base_uri": "https://localhost:8080/",
          "height": 1000
        },
        "id": "N56ur5PZsLki",
        "outputId": "f4d55d6e-3a7d-4238-a528-56d882bf72af"
      },
      "outputs": [
        {
          "output_type": "display_data",
          "data": {
            "text/html": [
              "<table class=\"dataframe\">\n",
              "<caption>A tibble: 365 × 5</caption>\n",
              "<thead>\n",
              "\t<tr><th scope=col>year</th><th scope=col>month</th><th scope=col>day</th><th scope=col>median_dep_delay</th><th scope=col>mean_dep_delay</th></tr>\n",
              "\t<tr><th scope=col>&lt;int&gt;</th><th scope=col>&lt;int&gt;</th><th scope=col>&lt;int&gt;</th><th scope=col>&lt;dbl&gt;</th><th scope=col>&lt;dbl&gt;</th></tr>\n",
              "</thead>\n",
              "<tbody>\n",
              "\t<tr><td>2013</td><td>1</td><td> 1</td><td>-1</td><td>11.548926</td></tr>\n",
              "\t<tr><td>2013</td><td>1</td><td> 2</td><td> 0</td><td>13.858824</td></tr>\n",
              "\t<tr><td>2013</td><td>1</td><td> 3</td><td> 0</td><td>10.987832</td></tr>\n",
              "\t<tr><td>2013</td><td>1</td><td> 4</td><td>-1</td><td> 8.951595</td></tr>\n",
              "\t<tr><td>2013</td><td>1</td><td> 5</td><td>-1</td><td> 5.732218</td></tr>\n",
              "\t<tr><td>2013</td><td>1</td><td> 6</td><td>-1</td><td> 7.148014</td></tr>\n",
              "\t<tr><td>2013</td><td>1</td><td> 7</td><td>-2</td><td> 5.417204</td></tr>\n",
              "\t<tr><td>2013</td><td>1</td><td> 8</td><td>-2</td><td> 2.553073</td></tr>\n",
              "\t<tr><td>2013</td><td>1</td><td> 9</td><td>-4</td><td> 2.276477</td></tr>\n",
              "\t<tr><td>2013</td><td>1</td><td>10</td><td>-4</td><td> 2.844995</td></tr>\n",
              "\t<tr><td>2013</td><td>1</td><td>11</td><td>-3</td><td> 2.817193</td></tr>\n",
              "\t<tr><td>2013</td><td>1</td><td>12</td><td>-3</td><td> 1.596491</td></tr>\n",
              "\t<tr><td>2013</td><td>1</td><td>13</td><td>-1</td><td>19.873153</td></tr>\n",
              "\t<tr><td>2013</td><td>1</td><td>14</td><td>-3</td><td> 2.792657</td></tr>\n",
              "\t<tr><td>2013</td><td>1</td><td>15</td><td>-4</td><td> 0.123723</td></tr>\n",
              "\t<tr><td>2013</td><td>1</td><td>16</td><td> 5</td><td>24.612865</td></tr>\n",
              "\t<tr><td>2013</td><td>1</td><td>17</td><td>-2</td><td> 7.648148</td></tr>\n",
              "\t<tr><td>2013</td><td>1</td><td>18</td><td>-2</td><td> 6.765864</td></tr>\n",
              "\t<tr><td>2013</td><td>1</td><td>19</td><td>-2</td><td> 3.475483</td></tr>\n",
              "\t<tr><td>2013</td><td>1</td><td>20</td><td>-3</td><td> 6.783887</td></tr>\n",
              "\t<tr><td>2013</td><td>1</td><td>21</td><td>-3</td><td> 7.831858</td></tr>\n",
              "\t<tr><td>2013</td><td>1</td><td>22</td><td>-1</td><td>12.499435</td></tr>\n",
              "\t<tr><td>2013</td><td>1</td><td>23</td><td>-2</td><td>10.610360</td></tr>\n",
              "\t<tr><td>2013</td><td>1</td><td>24</td><td> 0</td><td>19.465423</td></tr>\n",
              "\t<tr><td>2013</td><td>1</td><td>25</td><td> 0</td><td>21.898534</td></tr>\n",
              "\t<tr><td>2013</td><td>1</td><td>26</td><td>-2</td><td> 7.213115</td></tr>\n",
              "\t<tr><td>2013</td><td>1</td><td>27</td><td>-2</td><td> 8.377943</td></tr>\n",
              "\t<tr><td>2013</td><td>1</td><td>28</td><td>-1</td><td>15.138533</td></tr>\n",
              "\t<tr><td>2013</td><td>1</td><td>29</td><td>-4</td><td> 2.497149</td></tr>\n",
              "\t<tr><td>2013</td><td>1</td><td>30</td><td> 1</td><td>28.623441</td></tr>\n",
              "\t<tr><td>⋮</td><td>⋮</td><td>⋮</td><td>⋮</td><td>⋮</td></tr>\n",
              "\t<tr><td>2013</td><td>12</td><td> 2</td><td>-1.0</td><td> 9.021978</td></tr>\n",
              "\t<tr><td>2013</td><td>12</td><td> 3</td><td>-2.0</td><td> 5.975258</td></tr>\n",
              "\t<tr><td>2013</td><td>12</td><td> 4</td><td>-2.0</td><td> 5.366316</td></tr>\n",
              "\t<tr><td>2013</td><td>12</td><td> 5</td><td> 7.0</td><td>52.327990</td></tr>\n",
              "\t<tr><td>2013</td><td>12</td><td> 6</td><td> 1.0</td><td>16.134509</td></tr>\n",
              "\t<tr><td>2013</td><td>12</td><td> 7</td><td>-2.0</td><td> 4.860327</td></tr>\n",
              "\t<tr><td>2013</td><td>12</td><td> 8</td><td> 1.0</td><td>21.515337</td></tr>\n",
              "\t<tr><td>2013</td><td>12</td><td> 9</td><td>10.0</td><td>34.800221</td></tr>\n",
              "\t<tr><td>2013</td><td>12</td><td>10</td><td> 6.0</td><td>26.465494</td></tr>\n",
              "\t<tr><td>2013</td><td>12</td><td>11</td><td>-2.0</td><td> 7.058263</td></tr>\n",
              "\t<tr><td>2013</td><td>12</td><td>12</td><td>-1.0</td><td> 7.527518</td></tr>\n",
              "\t<tr><td>2013</td><td>12</td><td>13</td><td>-2.0</td><td> 5.256995</td></tr>\n",
              "\t<tr><td>2013</td><td>12</td><td>14</td><td> 5.0</td><td>28.361552</td></tr>\n",
              "\t<tr><td>2013</td><td>12</td><td>15</td><td> 4.0</td><td>19.573871</td></tr>\n",
              "\t<tr><td>2013</td><td>12</td><td>16</td><td> 0.0</td><td>11.741127</td></tr>\n",
              "\t<tr><td>2013</td><td>12</td><td>17</td><td>18.0</td><td>40.705602</td></tr>\n",
              "\t<tr><td>2013</td><td>12</td><td>18</td><td> 4.0</td><td>14.008395</td></tr>\n",
              "\t<tr><td>2013</td><td>12</td><td>19</td><td> 4.0</td><td>16.372165</td></tr>\n",
              "\t<tr><td>2013</td><td>12</td><td>20</td><td> 3.0</td><td>17.266254</td></tr>\n",
              "\t<tr><td>2013</td><td>12</td><td>21</td><td> 5.0</td><td>20.344956</td></tr>\n",
              "\t<tr><td>2013</td><td>12</td><td>22</td><td>12.0</td><td>29.239865</td></tr>\n",
              "\t<tr><td>2013</td><td>12</td><td>23</td><td>12.5</td><td>32.254149</td></tr>\n",
              "\t<tr><td>2013</td><td>12</td><td>24</td><td>-0.5</td><td> 6.765957</td></tr>\n",
              "\t<tr><td>2013</td><td>12</td><td>25</td><td>-1.0</td><td> 7.552448</td></tr>\n",
              "\t<tr><td>2013</td><td>12</td><td>26</td><td> 1.0</td><td>14.417204</td></tr>\n",
              "\t<tr><td>2013</td><td>12</td><td>27</td><td> 0.0</td><td>10.937630</td></tr>\n",
              "\t<tr><td>2013</td><td>12</td><td>28</td><td>-1.0</td><td> 7.981550</td></tr>\n",
              "\t<tr><td>2013</td><td>12</td><td>29</td><td> 3.0</td><td>22.309551</td></tr>\n",
              "\t<tr><td>2013</td><td>12</td><td>30</td><td>-1.0</td><td>10.698113</td></tr>\n",
              "\t<tr><td>2013</td><td>12</td><td>31</td><td>-1.0</td><td> 6.996053</td></tr>\n",
              "</tbody>\n",
              "</table>\n"
            ],
            "text/markdown": "\nA tibble: 365 × 5\n\n| year &lt;int&gt; | month &lt;int&gt; | day &lt;int&gt; | median_dep_delay &lt;dbl&gt; | mean_dep_delay &lt;dbl&gt; |\n|---|---|---|---|---|\n| 2013 | 1 |  1 | -1 | 11.548926 |\n| 2013 | 1 |  2 |  0 | 13.858824 |\n| 2013 | 1 |  3 |  0 | 10.987832 |\n| 2013 | 1 |  4 | -1 |  8.951595 |\n| 2013 | 1 |  5 | -1 |  5.732218 |\n| 2013 | 1 |  6 | -1 |  7.148014 |\n| 2013 | 1 |  7 | -2 |  5.417204 |\n| 2013 | 1 |  8 | -2 |  2.553073 |\n| 2013 | 1 |  9 | -4 |  2.276477 |\n| 2013 | 1 | 10 | -4 |  2.844995 |\n| 2013 | 1 | 11 | -3 |  2.817193 |\n| 2013 | 1 | 12 | -3 |  1.596491 |\n| 2013 | 1 | 13 | -1 | 19.873153 |\n| 2013 | 1 | 14 | -3 |  2.792657 |\n| 2013 | 1 | 15 | -4 |  0.123723 |\n| 2013 | 1 | 16 |  5 | 24.612865 |\n| 2013 | 1 | 17 | -2 |  7.648148 |\n| 2013 | 1 | 18 | -2 |  6.765864 |\n| 2013 | 1 | 19 | -2 |  3.475483 |\n| 2013 | 1 | 20 | -3 |  6.783887 |\n| 2013 | 1 | 21 | -3 |  7.831858 |\n| 2013 | 1 | 22 | -1 | 12.499435 |\n| 2013 | 1 | 23 | -2 | 10.610360 |\n| 2013 | 1 | 24 |  0 | 19.465423 |\n| 2013 | 1 | 25 |  0 | 21.898534 |\n| 2013 | 1 | 26 | -2 |  7.213115 |\n| 2013 | 1 | 27 | -2 |  8.377943 |\n| 2013 | 1 | 28 | -1 | 15.138533 |\n| 2013 | 1 | 29 | -4 |  2.497149 |\n| 2013 | 1 | 30 |  1 | 28.623441 |\n| ⋮ | ⋮ | ⋮ | ⋮ | ⋮ |\n| 2013 | 12 |  2 | -1.0 |  9.021978 |\n| 2013 | 12 |  3 | -2.0 |  5.975258 |\n| 2013 | 12 |  4 | -2.0 |  5.366316 |\n| 2013 | 12 |  5 |  7.0 | 52.327990 |\n| 2013 | 12 |  6 |  1.0 | 16.134509 |\n| 2013 | 12 |  7 | -2.0 |  4.860327 |\n| 2013 | 12 |  8 |  1.0 | 21.515337 |\n| 2013 | 12 |  9 | 10.0 | 34.800221 |\n| 2013 | 12 | 10 |  6.0 | 26.465494 |\n| 2013 | 12 | 11 | -2.0 |  7.058263 |\n| 2013 | 12 | 12 | -1.0 |  7.527518 |\n| 2013 | 12 | 13 | -2.0 |  5.256995 |\n| 2013 | 12 | 14 |  5.0 | 28.361552 |\n| 2013 | 12 | 15 |  4.0 | 19.573871 |\n| 2013 | 12 | 16 |  0.0 | 11.741127 |\n| 2013 | 12 | 17 | 18.0 | 40.705602 |\n| 2013 | 12 | 18 |  4.0 | 14.008395 |\n| 2013 | 12 | 19 |  4.0 | 16.372165 |\n| 2013 | 12 | 20 |  3.0 | 17.266254 |\n| 2013 | 12 | 21 |  5.0 | 20.344956 |\n| 2013 | 12 | 22 | 12.0 | 29.239865 |\n| 2013 | 12 | 23 | 12.5 | 32.254149 |\n| 2013 | 12 | 24 | -0.5 |  6.765957 |\n| 2013 | 12 | 25 | -1.0 |  7.552448 |\n| 2013 | 12 | 26 |  1.0 | 14.417204 |\n| 2013 | 12 | 27 |  0.0 | 10.937630 |\n| 2013 | 12 | 28 | -1.0 |  7.981550 |\n| 2013 | 12 | 29 |  3.0 | 22.309551 |\n| 2013 | 12 | 30 | -1.0 | 10.698113 |\n| 2013 | 12 | 31 | -1.0 |  6.996053 |\n\n",
            "text/latex": "A tibble: 365 × 5\n\\begin{tabular}{lllll}\n year & month & day & median\\_dep\\_delay & mean\\_dep\\_delay\\\\\n <int> & <int> & <int> & <dbl> & <dbl>\\\\\n\\hline\n\t 2013 & 1 &  1 & -1 & 11.548926\\\\\n\t 2013 & 1 &  2 &  0 & 13.858824\\\\\n\t 2013 & 1 &  3 &  0 & 10.987832\\\\\n\t 2013 & 1 &  4 & -1 &  8.951595\\\\\n\t 2013 & 1 &  5 & -1 &  5.732218\\\\\n\t 2013 & 1 &  6 & -1 &  7.148014\\\\\n\t 2013 & 1 &  7 & -2 &  5.417204\\\\\n\t 2013 & 1 &  8 & -2 &  2.553073\\\\\n\t 2013 & 1 &  9 & -4 &  2.276477\\\\\n\t 2013 & 1 & 10 & -4 &  2.844995\\\\\n\t 2013 & 1 & 11 & -3 &  2.817193\\\\\n\t 2013 & 1 & 12 & -3 &  1.596491\\\\\n\t 2013 & 1 & 13 & -1 & 19.873153\\\\\n\t 2013 & 1 & 14 & -3 &  2.792657\\\\\n\t 2013 & 1 & 15 & -4 &  0.123723\\\\\n\t 2013 & 1 & 16 &  5 & 24.612865\\\\\n\t 2013 & 1 & 17 & -2 &  7.648148\\\\\n\t 2013 & 1 & 18 & -2 &  6.765864\\\\\n\t 2013 & 1 & 19 & -2 &  3.475483\\\\\n\t 2013 & 1 & 20 & -3 &  6.783887\\\\\n\t 2013 & 1 & 21 & -3 &  7.831858\\\\\n\t 2013 & 1 & 22 & -1 & 12.499435\\\\\n\t 2013 & 1 & 23 & -2 & 10.610360\\\\\n\t 2013 & 1 & 24 &  0 & 19.465423\\\\\n\t 2013 & 1 & 25 &  0 & 21.898534\\\\\n\t 2013 & 1 & 26 & -2 &  7.213115\\\\\n\t 2013 & 1 & 27 & -2 &  8.377943\\\\\n\t 2013 & 1 & 28 & -1 & 15.138533\\\\\n\t 2013 & 1 & 29 & -4 &  2.497149\\\\\n\t 2013 & 1 & 30 &  1 & 28.623441\\\\\n\t ⋮ & ⋮ & ⋮ & ⋮ & ⋮\\\\\n\t 2013 & 12 &  2 & -1.0 &  9.021978\\\\\n\t 2013 & 12 &  3 & -2.0 &  5.975258\\\\\n\t 2013 & 12 &  4 & -2.0 &  5.366316\\\\\n\t 2013 & 12 &  5 &  7.0 & 52.327990\\\\\n\t 2013 & 12 &  6 &  1.0 & 16.134509\\\\\n\t 2013 & 12 &  7 & -2.0 &  4.860327\\\\\n\t 2013 & 12 &  8 &  1.0 & 21.515337\\\\\n\t 2013 & 12 &  9 & 10.0 & 34.800221\\\\\n\t 2013 & 12 & 10 &  6.0 & 26.465494\\\\\n\t 2013 & 12 & 11 & -2.0 &  7.058263\\\\\n\t 2013 & 12 & 12 & -1.0 &  7.527518\\\\\n\t 2013 & 12 & 13 & -2.0 &  5.256995\\\\\n\t 2013 & 12 & 14 &  5.0 & 28.361552\\\\\n\t 2013 & 12 & 15 &  4.0 & 19.573871\\\\\n\t 2013 & 12 & 16 &  0.0 & 11.741127\\\\\n\t 2013 & 12 & 17 & 18.0 & 40.705602\\\\\n\t 2013 & 12 & 18 &  4.0 & 14.008395\\\\\n\t 2013 & 12 & 19 &  4.0 & 16.372165\\\\\n\t 2013 & 12 & 20 &  3.0 & 17.266254\\\\\n\t 2013 & 12 & 21 &  5.0 & 20.344956\\\\\n\t 2013 & 12 & 22 & 12.0 & 29.239865\\\\\n\t 2013 & 12 & 23 & 12.5 & 32.254149\\\\\n\t 2013 & 12 & 24 & -0.5 &  6.765957\\\\\n\t 2013 & 12 & 25 & -1.0 &  7.552448\\\\\n\t 2013 & 12 & 26 &  1.0 & 14.417204\\\\\n\t 2013 & 12 & 27 &  0.0 & 10.937630\\\\\n\t 2013 & 12 & 28 & -1.0 &  7.981550\\\\\n\t 2013 & 12 & 29 &  3.0 & 22.309551\\\\\n\t 2013 & 12 & 30 & -1.0 & 10.698113\\\\\n\t 2013 & 12 & 31 & -1.0 &  6.996053\\\\\n\\end{tabular}\n",
            "text/plain": [
              "    year month day median_dep_delay mean_dep_delay\n",
              "1   2013 1      1  -1               11.548926     \n",
              "2   2013 1      2   0               13.858824     \n",
              "3   2013 1      3   0               10.987832     \n",
              "4   2013 1      4  -1                8.951595     \n",
              "5   2013 1      5  -1                5.732218     \n",
              "6   2013 1      6  -1                7.148014     \n",
              "7   2013 1      7  -2                5.417204     \n",
              "8   2013 1      8  -2                2.553073     \n",
              "9   2013 1      9  -4                2.276477     \n",
              "10  2013 1     10  -4                2.844995     \n",
              "11  2013 1     11  -3                2.817193     \n",
              "12  2013 1     12  -3                1.596491     \n",
              "13  2013 1     13  -1               19.873153     \n",
              "14  2013 1     14  -3                2.792657     \n",
              "15  2013 1     15  -4                0.123723     \n",
              "16  2013 1     16   5               24.612865     \n",
              "17  2013 1     17  -2                7.648148     \n",
              "18  2013 1     18  -2                6.765864     \n",
              "19  2013 1     19  -2                3.475483     \n",
              "20  2013 1     20  -3                6.783887     \n",
              "21  2013 1     21  -3                7.831858     \n",
              "22  2013 1     22  -1               12.499435     \n",
              "23  2013 1     23  -2               10.610360     \n",
              "24  2013 1     24   0               19.465423     \n",
              "25  2013 1     25   0               21.898534     \n",
              "26  2013 1     26  -2                7.213115     \n",
              "27  2013 1     27  -2                8.377943     \n",
              "28  2013 1     28  -1               15.138533     \n",
              "29  2013 1     29  -4                2.497149     \n",
              "30  2013 1     30   1               28.623441     \n",
              "⋮   ⋮    ⋮     ⋮   ⋮                ⋮             \n",
              "336 2013 12     2  -1.0              9.021978     \n",
              "337 2013 12     3  -2.0              5.975258     \n",
              "338 2013 12     4  -2.0              5.366316     \n",
              "339 2013 12     5   7.0             52.327990     \n",
              "340 2013 12     6   1.0             16.134509     \n",
              "341 2013 12     7  -2.0              4.860327     \n",
              "342 2013 12     8   1.0             21.515337     \n",
              "343 2013 12     9  10.0             34.800221     \n",
              "344 2013 12    10   6.0             26.465494     \n",
              "345 2013 12    11  -2.0              7.058263     \n",
              "346 2013 12    12  -1.0              7.527518     \n",
              "347 2013 12    13  -2.0              5.256995     \n",
              "348 2013 12    14   5.0             28.361552     \n",
              "349 2013 12    15   4.0             19.573871     \n",
              "350 2013 12    16   0.0             11.741127     \n",
              "351 2013 12    17  18.0             40.705602     \n",
              "352 2013 12    18   4.0             14.008395     \n",
              "353 2013 12    19   4.0             16.372165     \n",
              "354 2013 12    20   3.0             17.266254     \n",
              "355 2013 12    21   5.0             20.344956     \n",
              "356 2013 12    22  12.0             29.239865     \n",
              "357 2013 12    23  12.5             32.254149     \n",
              "358 2013 12    24  -0.5              6.765957     \n",
              "359 2013 12    25  -1.0              7.552448     \n",
              "360 2013 12    26   1.0             14.417204     \n",
              "361 2013 12    27   0.0             10.937630     \n",
              "362 2013 12    28  -1.0              7.981550     \n",
              "363 2013 12    29   3.0             22.309551     \n",
              "364 2013 12    30  -1.0             10.698113     \n",
              "365 2013 12    31  -1.0              6.996053     "
            ]
          },
          "metadata": {}
        }
      ],
      "source": [
        "flights %>%\n",
        "  group_by(year, month, day) %>%\n",
        "  summarize(\n",
        "    median_dep_delay = median(dep_delay, na.rm = T),\n",
        "    mean_dep_delay = mean(dep_delay, na.rm = T), .groups='drop'\n",
        "  )"
      ]
    },
    {
      "cell_type": "markdown",
      "metadata": {
        "id": "w0tZ5kmFsJih"
      },
      "source": [
        "The new dataframe contains one or more rows of grouping variables; this depends on the number of types of grouping variables. It will include one column for each grouping variable, and one column for each summary (in our cas: year, month, day, median_dep_delay, mean_dep_delay).\n",
        "\n",
        "<u>Note</u>: We have to use \"na.rm = T\" in calculating summary values because R does not know how to numerically handle missing values. \"na.rm = T\" is shorthand for \"remove missing values status is True.\"\n",
        "\n",
        "<u>Side Note</u>: `summarise()` and `summarize()` are synonyms and can be used interchangably (Source: https://dplyr.tidyverse.org/reference/summarise)."
      ]
    },
    {
      "cell_type": "markdown",
      "metadata": {
        "id": "jxj2jFW8VjIh"
      },
      "source": [
        "### Exercise 4\n",
        "\n",
        "Find the distribution of the number of flights that a plane takes. Each plane is uniquely determined by its `tailnum`. \n",
        "\n",
        "<u>*Hint*</u>: Before doing the question, think about what the grouping variable(s) should be.\n",
        "\n",
        "<u>*Hint*</u>: You can count the number of occurrences of something using `n()`. You can see an example case below to see the number of times each month appears in the flights dataset."
      ]
    },
    {
      "cell_type": "markdown",
      "metadata": {
        "id": "ok_DnZ2VVjIh"
      },
      "source": [
        "### count rows with n()"
      ]
    },
    {
      "cell_type": "code",
      "execution_count": 50,
      "metadata": {
        "colab": {
          "base_uri": "https://localhost:8080/"
        },
        "id": "AqIukj6NVjIh",
        "outputId": "dad6f974-6270-4f25-cb60-3626a1bfcbed"
      },
      "outputs": [
        {
          "output_type": "stream",
          "name": "stdout",
          "text": [
            "\u001b[90m# A tibble: 12 × 2\u001b[39m\n",
            "   month     n\n",
            "   \u001b[3m\u001b[90m<int>\u001b[39m\u001b[23m \u001b[3m\u001b[90m<int>\u001b[39m\u001b[23m\n",
            "\u001b[90m 1\u001b[39m     7 \u001b[4m2\u001b[24m\u001b[4m9\u001b[24m425\n",
            "\u001b[90m 2\u001b[39m     8 \u001b[4m2\u001b[24m\u001b[4m9\u001b[24m327\n",
            "\u001b[90m 3\u001b[39m    10 \u001b[4m2\u001b[24m\u001b[4m8\u001b[24m889\n",
            "\u001b[90m 4\u001b[39m     3 \u001b[4m2\u001b[24m\u001b[4m8\u001b[24m834\n",
            "\u001b[90m 5\u001b[39m     5 \u001b[4m2\u001b[24m\u001b[4m8\u001b[24m796\n",
            "\u001b[90m 6\u001b[39m     4 \u001b[4m2\u001b[24m\u001b[4m8\u001b[24m330\n",
            "\u001b[90m 7\u001b[39m     6 \u001b[4m2\u001b[24m\u001b[4m8\u001b[24m243\n",
            "\u001b[90m 8\u001b[39m    12 \u001b[4m2\u001b[24m\u001b[4m8\u001b[24m135\n",
            "\u001b[90m 9\u001b[39m     9 \u001b[4m2\u001b[24m\u001b[4m7\u001b[24m574\n",
            "\u001b[90m10\u001b[39m    11 \u001b[4m2\u001b[24m\u001b[4m7\u001b[24m268\n",
            "\u001b[90m11\u001b[39m     1 \u001b[4m2\u001b[24m\u001b[4m7\u001b[24m004\n",
            "\u001b[90m12\u001b[39m     2 \u001b[4m2\u001b[24m\u001b[4m4\u001b[24m951\n"
          ]
        }
      ],
      "source": [
        "# count number of flights by month\n",
        "flights %>%\n",
        "  group_by(month) %>% \n",
        "  summarize(\n",
        "    n = n(), # equals to n = sum(month)\n",
        "  ) %>% \n",
        "  arrange(desc(n)) %>%\n",
        "  print()"
      ]
    },
    {
      "cell_type": "code",
      "execution_count": 61,
      "metadata": {
        "colab": {
          "base_uri": "https://localhost:8080/",
          "height": 454
        },
        "id": "3qnmcjhiLAdB",
        "outputId": "ec858b08-5efc-4f2c-fc94-73a6513b26d5"
      },
      "outputs": [
        {
          "output_type": "display_data",
          "data": {
            "text/html": [
              "<style>\n",
              ".dl-inline {width: auto; margin:0; padding: 0}\n",
              ".dl-inline>dt, .dl-inline>dd {float: none; width: auto; display: inline-block}\n",
              ".dl-inline>dt::after {content: \":\\0020\"; padding-right: .5ex}\n",
              ".dl-inline>dt:not(:first-of-type) {padding-left: .5ex}\n",
              "</style><dl class=dl-inline><dt>0%</dt><dd>1</dd><dt>25%</dt><dd>23</dd><dt>50%</dt><dd>54</dd><dt>75%</dt><dd>110</dd><dt>100%</dt><dd>2512</dd></dl>\n"
            ],
            "text/markdown": "0%\n:   125%\n:   2350%\n:   5475%\n:   110100%\n:   2512\n\n",
            "text/latex": "\\begin{description*}\n\\item[0\\textbackslash{}\\%] 1\n\\item[25\\textbackslash{}\\%] 23\n\\item[50\\textbackslash{}\\%] 54\n\\item[75\\textbackslash{}\\%] 110\n\\item[100\\textbackslash{}\\%] 2512\n\\end{description*}\n",
            "text/plain": [
              "  0%  25%  50%  75% 100% \n",
              "   1   23   54  110 2512 "
            ]
          },
          "metadata": {}
        },
        {
          "output_type": "display_data",
          "data": {
            "text/plain": [
              "plot without title"
            ],
            "image/png": "[encoded data removed]"
          },
          "metadata": {
            "image/png": {
              "width": 420,
              "height": 420
            }
          }
        }
      ],
      "source": [
        "## Your Answer\n",
        "\n",
        "df<-flights%>%\n",
        "  group_by(tailnum)%>%\n",
        "  summarize(count=n()) # new col called 'count'\n",
        "\n",
        "quantile(df$count)\n",
        "\n",
        "ggplot(df)+\n",
        "  geom_histogram(aes(x=count),binwidth = 50) \n",
        "\n",
        "# long tailed, right skewed distrib"
      ]
    },
    {
      "cell_type": "markdown",
      "metadata": {
        "id": "oaGgTNgJVjIh"
      },
      "source": [
        "Notice that `n()` will include missing values. If we want the counts without missing value, we can use `sum(!is.na(tailnum))`"
      ]
    },
    {
      "cell_type": "code",
      "execution_count": 63,
      "metadata": {
        "colab": {
          "base_uri": "https://localhost:8080/",
          "height": 133
        },
        "id": "3rKJ2r00VjIh",
        "outputId": "b1f6affb-cafa-417a-ef07-f04208b632d8"
      },
      "outputs": [
        {
          "output_type": "error",
          "ename": "ERROR",
          "evalue": "ignored",
          "traceback": [
            "Error in setdiff(count_by_tail, na_removed_count_by_tail): object 'count_by_tail' not found\nTraceback:\n",
            "1. setdiff(count_by_tail, na_removed_count_by_tail)"
          ]
        }
      ],
      "source": [
        "na_removed_count_by_tail <- flights %>%\n",
        "  group_by(tailnum) %>% \n",
        "  summarize(n = sum(!is.na(tailnum)))\n",
        "\n",
        "# use setdiff() function to check the differences between two dataframes\n",
        "setdiff(count_by_tail, na_removed_count_by_tail)"
      ]
    },
    {
      "cell_type": "markdown",
      "metadata": {
        "id": "Ux84eV0AVjIh"
      },
      "source": [
        "### sum, mean, maximum, minimum, median, quantiles, sd, IQR\n",
        "\n",
        "`sum()` means summation, `mean()` gives the average value, `min()` and `max()` will give you the largest and smallest values respectively. Another powerful tool is `quantile()` which is a generalization of the median: `quantile(x, 0.25)` will find the value of x that is greater than 25% of the values. Two commonly used summaries to measure the spread of data values are the standard deviation, `sd()`, and the inter-quartile range, `IQR()`. `IQR(x)` is defined as `quantile(x, 0.75)` - `quantile(x, 0.25)`."
      ]
    },
    {
      "cell_type": "code",
      "execution_count": 64,
      "metadata": {
        "colab": {
          "base_uri": "https://localhost:8080/"
        },
        "id": "hay-0BpDVjIi",
        "outputId": "278b349b-59dc-4e7a-83b9-355d53bac86e"
      },
      "outputs": [
        {
          "output_type": "stream",
          "name": "stdout",
          "text": [
            "\u001b[90m# A tibble: 365 × 12\u001b[39m\n",
            "    year month   day   sum  mean   max   min median     q5   q95    sd   IQR\n",
            "   \u001b[3m\u001b[90m<int>\u001b[39m\u001b[23m \u001b[3m\u001b[90m<int>\u001b[39m\u001b[23m \u001b[3m\u001b[90m<int>\u001b[39m\u001b[23m \u001b[3m\u001b[90m<dbl>\u001b[39m\u001b[23m \u001b[3m\u001b[90m<dbl>\u001b[39m\u001b[23m \u001b[3m\u001b[90m<dbl>\u001b[39m\u001b[23m \u001b[3m\u001b[90m<dbl>\u001b[39m\u001b[23m  \u001b[3m\u001b[90m<dbl>\u001b[39m\u001b[23m  \u001b[3m\u001b[90m<dbl>\u001b[39m\u001b[23m \u001b[3m\u001b[90m<dbl>\u001b[39m\u001b[23m \u001b[3m\u001b[90m<dbl>\u001b[39m\u001b[23m \u001b[3m\u001b[90m<dbl>\u001b[39m\u001b[23m\n",
            "\u001b[90m 1\u001b[39m  \u001b[4m2\u001b[24m013     1     1  \u001b[4m9\u001b[24m678 11.5    853   -\u001b[31m15\u001b[39m     -\u001b[31m1\u001b[39m  -\u001b[31m8\u001b[39m     70.1  45.3  13  \n",
            "\u001b[90m 2\u001b[39m  \u001b[4m2\u001b[24m013     1     2 \u001b[4m1\u001b[24m\u001b[4m2\u001b[24m958 13.9    379   -\u001b[31m13\u001b[39m      0  -\u001b[31m7\u001b[39m     85    37.2  17  \n",
            "\u001b[90m 3\u001b[39m  \u001b[4m2\u001b[24m013     1     3  \u001b[4m9\u001b[24m933 11.0    291   -\u001b[31m13\u001b[39m      0  -\u001b[31m7\u001b[39m\u001b[31m.\u001b[39m\u001b[31m85\u001b[39m  68    31.5  15  \n",
            "\u001b[90m 4\u001b[39m  \u001b[4m2\u001b[24m013     1     4  \u001b[4m8\u001b[24m137  8.95   288   -\u001b[31m19\u001b[39m     -\u001b[31m1\u001b[39m  -\u001b[31m8\u001b[39m     60    27.7  14  \n",
            "\u001b[90m 5\u001b[39m  \u001b[4m2\u001b[24m013     1     5  \u001b[4m4\u001b[24m110  5.73   327   -\u001b[31m16\u001b[39m     -\u001b[31m1\u001b[39m  -\u001b[31m8\u001b[39m     41    25.7   9  \n",
            "\u001b[90m 6\u001b[39m  \u001b[4m2\u001b[24m013     1     6  \u001b[4m5\u001b[24m940  7.15   202   -\u001b[31m15\u001b[39m     -\u001b[31m1\u001b[39m  -\u001b[31m8\u001b[39m     51    23.2  11.5\n",
            "\u001b[90m 7\u001b[39m  \u001b[4m2\u001b[24m013     1     7  \u001b[4m5\u001b[24m038  5.42   366   -\u001b[31m17\u001b[39m     -\u001b[31m2\u001b[39m  -\u001b[31m9\u001b[39m     51.6  27.1   8  \n",
            "\u001b[90m 8\u001b[39m  \u001b[4m2\u001b[24m013     1     8  \u001b[4m2\u001b[24m285  2.55   188   -\u001b[31m16\u001b[39m     -\u001b[31m2\u001b[39m -\u001b[31m10\u001b[39m     35.3  19.3   6  \n",
            "\u001b[90m 9\u001b[39m  \u001b[4m2\u001b[24m013     1     9  \u001b[4m2\u001b[24m042  2.28  \u001b[4m1\u001b[24m301   -\u001b[31m17\u001b[39m     -\u001b[31m4\u001b[39m -\u001b[31m10\u001b[39m     27.2  46.9   6  \n",
            "\u001b[90m10\u001b[39m  \u001b[4m2\u001b[24m013     1    10  \u001b[4m2\u001b[24m643  2.84  \u001b[4m1\u001b[24m126   -\u001b[31m17\u001b[39m     -\u001b[31m4\u001b[39m -\u001b[31m10\u001b[39m     31    43.9   6  \n",
            "\u001b[90m# … with 355 more rows\u001b[39m\n"
          ]
        }
      ],
      "source": [
        "flights %>%\n",
        "  group_by(year, month, day) %>%\n",
        "  summarize(\n",
        "    sum = sum(dep_delay, na.rm = TRUE),\n",
        "    mean = mean(dep_delay, na.rm = TRUE), # mean departure delay\n",
        "    max = max(dep_delay, na.rm = TRUE), # max departure delay\n",
        "    min = min(dep_delay, na.rm = TRUE), # min departure delay\n",
        "    median = median(dep_delay, na.rm = TRUE), # median departure delay\n",
        "    q5 = quantile(dep_delay, 0.05, na.rm = TRUE), # 5 percentile value of departure delay\n",
        "    q95 = quantile(dep_delay, 0.95, na.rm = TRUE), # 95 percemntile of departure delay\n",
        "    sd = sd(dep_delay, na.rm = TRUE), # standard deviation of departure delay\n",
        "    IQR = IQR(dep_delay, na.rm = TRUE), # IQR of departure delay.\n",
        "    .groups = \"drop\"\n",
        ") %>% print()"
      ]
    },
    {
      "cell_type": "markdown",
      "metadata": {
        "id": "RyBXdQCrzAeR"
      },
      "source": [
        "<u>**Discussion Question**</u>: What is the use case for each of these summary statistics?"
      ]
    },
    {
      "cell_type": "markdown",
      "metadata": {
        "id": "K_hOeVrVVjIi"
      },
      "source": [
        "### Exercise 5\n",
        "Find the flights that are not cancelled. Draw a scatter plot where each point represents an individual plane with the number of flights that plane has taken on the x-axis and the average arrival delay on the y axis.\n",
        "\n",
        "<u>*Hint*</u>: A flight in our case is considered cancelled if the arrival delay is missing.\n",
        "\n",
        "<u>*Hint*</u>: For each plane (determined by `tailnum`) you will need to calculate the number of flights it had (count the number of times each plane was flown) and the average arrival delay."
      ]
    },
    {
      "cell_type": "code",
      "execution_count": 69,
      "metadata": {
        "colab": {
          "base_uri": "https://localhost:8080/",
          "height": 1000
        },
        "id": "vsGbYPq_VjIi",
        "outputId": "47963303-500b-447c-880d-259f8aa8fc66"
      },
      "outputs": [
        {
          "output_type": "display_data",
          "data": {
            "text/html": [
              "<table class=\"dataframe\">\n",
              "<caption>A tibble: 4037 × 3</caption>\n",
              "<thead>\n",
              "\t<tr><th scope=col>tailnum</th><th scope=col>n</th><th scope=col>delay_avg</th></tr>\n",
              "\t<tr><th scope=col>&lt;chr&gt;</th><th scope=col>&lt;int&gt;</th><th scope=col>&lt;dbl&gt;</th></tr>\n",
              "</thead>\n",
              "<tbody>\n",
              "\t<tr><td>D942DN</td><td>  4</td><td>31.5000000</td></tr>\n",
              "\t<tr><td>N0EGMQ</td><td>352</td><td> 9.9829545</td></tr>\n",
              "\t<tr><td>N10156</td><td>145</td><td>12.7172414</td></tr>\n",
              "\t<tr><td>N102UW</td><td> 48</td><td> 2.9375000</td></tr>\n",
              "\t<tr><td>N103US</td><td> 46</td><td>-6.9347826</td></tr>\n",
              "\t<tr><td>N104UW</td><td> 46</td><td> 1.8043478</td></tr>\n",
              "\t<tr><td>N10575</td><td>269</td><td>20.6914498</td></tr>\n",
              "\t<tr><td>N105UW</td><td> 45</td><td>-0.2666667</td></tr>\n",
              "\t<tr><td>N107US</td><td> 41</td><td>-5.7317073</td></tr>\n",
              "\t<tr><td>N108UW</td><td> 60</td><td>-1.2500000</td></tr>\n",
              "\t<tr><td>N109UW</td><td> 48</td><td>-2.5208333</td></tr>\n",
              "\t<tr><td>N110UW</td><td> 40</td><td> 2.8000000</td></tr>\n",
              "\t<tr><td>N11106</td><td>126</td><td>14.8809524</td></tr>\n",
              "\t<tr><td>N11107</td><td>139</td><td>15.0143885</td></tr>\n",
              "\t<tr><td>N11109</td><td>141</td><td>14.8510638</td></tr>\n",
              "\t<tr><td>N11113</td><td>126</td><td>15.7619048</td></tr>\n",
              "\t<tr><td>N11119</td><td>137</td><td>30.3065693</td></tr>\n",
              "\t<tr><td>N11121</td><td>147</td><td>10.3061224</td></tr>\n",
              "\t<tr><td>N11127</td><td>119</td><td>13.6050420</td></tr>\n",
              "\t<tr><td>N11137</td><td>107</td><td>20.5514019</td></tr>\n",
              "\t<tr><td>N11140</td><td>141</td><td>18.3120567</td></tr>\n",
              "\t<tr><td>N11150</td><td>129</td><td> 8.8914729</td></tr>\n",
              "\t<tr><td>N11155</td><td> 96</td><td>12.9895833</td></tr>\n",
              "\t<tr><td>N11164</td><td>137</td><td>21.6496350</td></tr>\n",
              "\t<tr><td>N11165</td><td>150</td><td> 8.3466667</td></tr>\n",
              "\t<tr><td>N11176</td><td>131</td><td>20.4045802</td></tr>\n",
              "\t<tr><td>N11181</td><td>120</td><td> 9.0750000</td></tr>\n",
              "\t<tr><td>N11184</td><td>128</td><td> 6.9843750</td></tr>\n",
              "\t<tr><td>N11187</td><td>126</td><td>11.1904762</td></tr>\n",
              "\t<tr><td>N11189</td><td>137</td><td> 6.7372263</td></tr>\n",
              "\t<tr><td>⋮</td><td>⋮</td><td>⋮</td></tr>\n",
              "\t<tr><td>N985AT</td><td> 26</td><td>15.0384615</td></tr>\n",
              "\t<tr><td>N985DL</td><td> 63</td><td> 0.2539683</td></tr>\n",
              "\t<tr><td>N986AT</td><td> 24</td><td> 0.1250000</td></tr>\n",
              "\t<tr><td>N986DL</td><td> 72</td><td> 5.5833333</td></tr>\n",
              "\t<tr><td>N987AT</td><td> 26</td><td>37.3846154</td></tr>\n",
              "\t<tr><td>N987DL</td><td> 55</td><td>-3.2909091</td></tr>\n",
              "\t<tr><td>N988AT</td><td> 35</td><td>44.3428571</td></tr>\n",
              "\t<tr><td>N988DL</td><td> 53</td><td> 9.4716981</td></tr>\n",
              "\t<tr><td>N989AT</td><td> 62</td><td>28.1935484</td></tr>\n",
              "\t<tr><td>N989DL</td><td> 88</td><td>11.0340909</td></tr>\n",
              "\t<tr><td>N990AT</td><td> 70</td><td>16.3857143</td></tr>\n",
              "\t<tr><td>N990DL</td><td> 56</td><td>12.4285714</td></tr>\n",
              "\t<tr><td>N991AT</td><td> 25</td><td>15.6800000</td></tr>\n",
              "\t<tr><td>N991DL</td><td> 92</td><td> 7.3369565</td></tr>\n",
              "\t<tr><td>N992AT</td><td> 37</td><td>17.7837838</td></tr>\n",
              "\t<tr><td>N992DL</td><td> 57</td><td>-6.6491228</td></tr>\n",
              "\t<tr><td>N993AT</td><td> 47</td><td>10.4042553</td></tr>\n",
              "\t<tr><td>N993DL</td><td> 53</td><td>16.9811321</td></tr>\n",
              "\t<tr><td>N994AT</td><td> 31</td><td>31.4838710</td></tr>\n",
              "\t<tr><td>N994DL</td><td> 61</td><td> 5.0327869</td></tr>\n",
              "\t<tr><td>N995AT</td><td> 17</td><td>26.4705882</td></tr>\n",
              "\t<tr><td>N995DL</td><td> 57</td><td> 1.9298246</td></tr>\n",
              "\t<tr><td>N996AT</td><td> 26</td><td> 6.5384615</td></tr>\n",
              "\t<tr><td>N996DL</td><td>101</td><td> 0.5247525</td></tr>\n",
              "\t<tr><td>N997AT</td><td> 43</td><td>16.3023256</td></tr>\n",
              "\t<tr><td>N997DL</td><td> 62</td><td> 4.9032258</td></tr>\n",
              "\t<tr><td>N998AT</td><td> 25</td><td>29.9600000</td></tr>\n",
              "\t<tr><td>N998DL</td><td> 76</td><td>16.3947368</td></tr>\n",
              "\t<tr><td>N999DN</td><td> 61</td><td>14.3114754</td></tr>\n",
              "\t<tr><td>N9EAMQ</td><td>238</td><td> 9.2352941</td></tr>\n",
              "</tbody>\n",
              "</table>\n"
            ],
            "text/markdown": "\nA tibble: 4037 × 3\n\n| tailnum &lt;chr&gt; | n &lt;int&gt; | delay_avg &lt;dbl&gt; |\n|---|---|---|\n| D942DN |   4 | 31.5000000 |\n| N0EGMQ | 352 |  9.9829545 |\n| N10156 | 145 | 12.7172414 |\n| N102UW |  48 |  2.9375000 |\n| N103US |  46 | -6.9347826 |\n| N104UW |  46 |  1.8043478 |\n| N10575 | 269 | 20.6914498 |\n| N105UW |  45 | -0.2666667 |\n| N107US |  41 | -5.7317073 |\n| N108UW |  60 | -1.2500000 |\n| N109UW |  48 | -2.5208333 |\n| N110UW |  40 |  2.8000000 |\n| N11106 | 126 | 14.8809524 |\n| N11107 | 139 | 15.0143885 |\n| N11109 | 141 | 14.8510638 |\n| N11113 | 126 | 15.7619048 |\n| N11119 | 137 | 30.3065693 |\n| N11121 | 147 | 10.3061224 |\n| N11127 | 119 | 13.6050420 |\n| N11137 | 107 | 20.5514019 |\n| N11140 | 141 | 18.3120567 |\n| N11150 | 129 |  8.8914729 |\n| N11155 |  96 | 12.9895833 |\n| N11164 | 137 | 21.6496350 |\n| N11165 | 150 |  8.3466667 |\n| N11176 | 131 | 20.4045802 |\n| N11181 | 120 |  9.0750000 |\n| N11184 | 128 |  6.9843750 |\n| N11187 | 126 | 11.1904762 |\n| N11189 | 137 |  6.7372263 |\n| ⋮ | ⋮ | ⋮ |\n| N985AT |  26 | 15.0384615 |\n| N985DL |  63 |  0.2539683 |\n| N986AT |  24 |  0.1250000 |\n| N986DL |  72 |  5.5833333 |\n| N987AT |  26 | 37.3846154 |\n| N987DL |  55 | -3.2909091 |\n| N988AT |  35 | 44.3428571 |\n| N988DL |  53 |  9.4716981 |\n| N989AT |  62 | 28.1935484 |\n| N989DL |  88 | 11.0340909 |\n| N990AT |  70 | 16.3857143 |\n| N990DL |  56 | 12.4285714 |\n| N991AT |  25 | 15.6800000 |\n| N991DL |  92 |  7.3369565 |\n| N992AT |  37 | 17.7837838 |\n| N992DL |  57 | -6.6491228 |\n| N993AT |  47 | 10.4042553 |\n| N993DL |  53 | 16.9811321 |\n| N994AT |  31 | 31.4838710 |\n| N994DL |  61 |  5.0327869 |\n| N995AT |  17 | 26.4705882 |\n| N995DL |  57 |  1.9298246 |\n| N996AT |  26 |  6.5384615 |\n| N996DL | 101 |  0.5247525 |\n| N997AT |  43 | 16.3023256 |\n| N997DL |  62 |  4.9032258 |\n| N998AT |  25 | 29.9600000 |\n| N998DL |  76 | 16.3947368 |\n| N999DN |  61 | 14.3114754 |\n| N9EAMQ | 238 |  9.2352941 |\n\n",
            "text/latex": "A tibble: 4037 × 3\n\\begin{tabular}{lll}\n tailnum & n & delay\\_avg\\\\\n <chr> & <int> & <dbl>\\\\\n\\hline\n\t D942DN &   4 & 31.5000000\\\\\n\t N0EGMQ & 352 &  9.9829545\\\\\n\t N10156 & 145 & 12.7172414\\\\\n\t N102UW &  48 &  2.9375000\\\\\n\t N103US &  46 & -6.9347826\\\\\n\t N104UW &  46 &  1.8043478\\\\\n\t N10575 & 269 & 20.6914498\\\\\n\t N105UW &  45 & -0.2666667\\\\\n\t N107US &  41 & -5.7317073\\\\\n\t N108UW &  60 & -1.2500000\\\\\n\t N109UW &  48 & -2.5208333\\\\\n\t N110UW &  40 &  2.8000000\\\\\n\t N11106 & 126 & 14.8809524\\\\\n\t N11107 & 139 & 15.0143885\\\\\n\t N11109 & 141 & 14.8510638\\\\\n\t N11113 & 126 & 15.7619048\\\\\n\t N11119 & 137 & 30.3065693\\\\\n\t N11121 & 147 & 10.3061224\\\\\n\t N11127 & 119 & 13.6050420\\\\\n\t N11137 & 107 & 20.5514019\\\\\n\t N11140 & 141 & 18.3120567\\\\\n\t N11150 & 129 &  8.8914729\\\\\n\t N11155 &  96 & 12.9895833\\\\\n\t N11164 & 137 & 21.6496350\\\\\n\t N11165 & 150 &  8.3466667\\\\\n\t N11176 & 131 & 20.4045802\\\\\n\t N11181 & 120 &  9.0750000\\\\\n\t N11184 & 128 &  6.9843750\\\\\n\t N11187 & 126 & 11.1904762\\\\\n\t N11189 & 137 &  6.7372263\\\\\n\t ⋮ & ⋮ & ⋮\\\\\n\t N985AT &  26 & 15.0384615\\\\\n\t N985DL &  63 &  0.2539683\\\\\n\t N986AT &  24 &  0.1250000\\\\\n\t N986DL &  72 &  5.5833333\\\\\n\t N987AT &  26 & 37.3846154\\\\\n\t N987DL &  55 & -3.2909091\\\\\n\t N988AT &  35 & 44.3428571\\\\\n\t N988DL &  53 &  9.4716981\\\\\n\t N989AT &  62 & 28.1935484\\\\\n\t N989DL &  88 & 11.0340909\\\\\n\t N990AT &  70 & 16.3857143\\\\\n\t N990DL &  56 & 12.4285714\\\\\n\t N991AT &  25 & 15.6800000\\\\\n\t N991DL &  92 &  7.3369565\\\\\n\t N992AT &  37 & 17.7837838\\\\\n\t N992DL &  57 & -6.6491228\\\\\n\t N993AT &  47 & 10.4042553\\\\\n\t N993DL &  53 & 16.9811321\\\\\n\t N994AT &  31 & 31.4838710\\\\\n\t N994DL &  61 &  5.0327869\\\\\n\t N995AT &  17 & 26.4705882\\\\\n\t N995DL &  57 &  1.9298246\\\\\n\t N996AT &  26 &  6.5384615\\\\\n\t N996DL & 101 &  0.5247525\\\\\n\t N997AT &  43 & 16.3023256\\\\\n\t N997DL &  62 &  4.9032258\\\\\n\t N998AT &  25 & 29.9600000\\\\\n\t N998DL &  76 & 16.3947368\\\\\n\t N999DN &  61 & 14.3114754\\\\\n\t N9EAMQ & 238 &  9.2352941\\\\\n\\end{tabular}\n",
            "text/plain": [
              "     tailnum n   delay_avg \n",
              "1    D942DN    4 31.5000000\n",
              "2    N0EGMQ  352  9.9829545\n",
              "3    N10156  145 12.7172414\n",
              "4    N102UW   48  2.9375000\n",
              "5    N103US   46 -6.9347826\n",
              "6    N104UW   46  1.8043478\n",
              "7    N10575  269 20.6914498\n",
              "8    N105UW   45 -0.2666667\n",
              "9    N107US   41 -5.7317073\n",
              "10   N108UW   60 -1.2500000\n",
              "11   N109UW   48 -2.5208333\n",
              "12   N110UW   40  2.8000000\n",
              "13   N11106  126 14.8809524\n",
              "14   N11107  139 15.0143885\n",
              "15   N11109  141 14.8510638\n",
              "16   N11113  126 15.7619048\n",
              "17   N11119  137 30.3065693\n",
              "18   N11121  147 10.3061224\n",
              "19   N11127  119 13.6050420\n",
              "20   N11137  107 20.5514019\n",
              "21   N11140  141 18.3120567\n",
              "22   N11150  129  8.8914729\n",
              "23   N11155   96 12.9895833\n",
              "24   N11164  137 21.6496350\n",
              "25   N11165  150  8.3466667\n",
              "26   N11176  131 20.4045802\n",
              "27   N11181  120  9.0750000\n",
              "28   N11184  128  6.9843750\n",
              "29   N11187  126 11.1904762\n",
              "30   N11189  137  6.7372263\n",
              "⋮    ⋮       ⋮   ⋮         \n",
              "4008 N985AT   26 15.0384615\n",
              "4009 N985DL   63  0.2539683\n",
              "4010 N986AT   24  0.1250000\n",
              "4011 N986DL   72  5.5833333\n",
              "4012 N987AT   26 37.3846154\n",
              "4013 N987DL   55 -3.2909091\n",
              "4014 N988AT   35 44.3428571\n",
              "4015 N988DL   53  9.4716981\n",
              "4016 N989AT   62 28.1935484\n",
              "4017 N989DL   88 11.0340909\n",
              "4018 N990AT   70 16.3857143\n",
              "4019 N990DL   56 12.4285714\n",
              "4020 N991AT   25 15.6800000\n",
              "4021 N991DL   92  7.3369565\n",
              "4022 N992AT   37 17.7837838\n",
              "4023 N992DL   57 -6.6491228\n",
              "4024 N993AT   47 10.4042553\n",
              "4025 N993DL   53 16.9811321\n",
              "4026 N994AT   31 31.4838710\n",
              "4027 N994DL   61  5.0327869\n",
              "4028 N995AT   17 26.4705882\n",
              "4029 N995DL   57  1.9298246\n",
              "4030 N996AT   26  6.5384615\n",
              "4031 N996DL  101  0.5247525\n",
              "4032 N997AT   43 16.3023256\n",
              "4033 N997DL   62  4.9032258\n",
              "4034 N998AT   25 29.9600000\n",
              "4035 N998DL   76 16.3947368\n",
              "4036 N999DN   61 14.3114754\n",
              "4037 N9EAMQ  238  9.2352941"
            ]
          },
          "metadata": {}
        }
      ],
      "source": [
        "## Your Answer\n",
        "flights%>%filter(!is.na(arr_delay))%>%\n",
        "  group_by(tailnum)%>%\n",
        "  summarize(n=n(),delay_avg=mean(arr_delay))"
      ]
    },
    {
      "cell_type": "code",
      "source": [
        "ggplot(df)+\n",
        "  geom_point(aes(x=n,y=delay_avg,alpha=0.15))"
      ],
      "metadata": {
        "colab": {
          "base_uri": "https://localhost:8080/"
        },
        "id": "BiVbuvJHVD4c",
        "outputId": "8a9fdef5-13eb-4661-865a-1a2fedd57b29"
      },
      "execution_count": 70,
      "outputs": [
        {
          "output_type": "stream",
          "name": "stderr",
          "text": [
            "ERROR while rich displaying an object: \u001b[1m\u001b[33mError\u001b[39m in `geom_point()`:\u001b[22m\n",
            "\u001b[1m\u001b[22m\u001b[33m!\u001b[39m Problem while computing aesthetics.\n",
            "\u001b[36mℹ\u001b[39m Error occurred in the 1st layer.\n",
            "\u001b[1mCaused by error in `FUN()`:\u001b[22m\n",
            "\u001b[33m!\u001b[39m object 'delay_avg' not found\n",
            "\n",
            "Traceback:\n",
            "1. tryCatch(withCallingHandlers({\n",
            " .     if (!mime %in% names(repr::mime2repr)) \n",
            " .         stop(\"No repr_* for mimetype \", mime, \" in repr::mime2repr\")\n",
            " .     rpr <- repr::mime2repr[[mime]](obj)\n",
            " .     if (is.null(rpr)) \n",
            " .         return(NULL)\n",
            " .     prepare_content(is.raw(rpr), rpr)\n",
            " . }, error = error_handler), error = outer_handler)\n",
            "2. tryCatchList(expr, classes, parentenv, handlers)\n",
            "3. tryCatchOne(expr, names, parentenv, handlers[[1L]])\n",
            "4. doTryCatch(return(expr), name, parentenv, handler)\n",
            "5. withCallingHandlers({\n",
            " .     if (!mime %in% names(repr::mime2repr)) \n",
            " .         stop(\"No repr_* for mimetype \", mime, \" in repr::mime2repr\")\n",
            " .     rpr <- repr::mime2repr[[mime]](obj)\n",
            " .     if (is.null(rpr)) \n",
            " .         return(NULL)\n",
            " .     prepare_content(is.raw(rpr), rpr)\n",
            " . }, error = error_handler)\n",
            "6. repr::mime2repr[[mime]](obj)\n",
            "7. repr_text.default(obj)\n",
            "8. paste(capture.output(print(obj)), collapse = \"\\n\")\n",
            "9. capture.output(print(obj))\n",
            "10. withVisible(...elt(i))\n",
            "11. print(obj)\n",
            "12. print.ggplot(obj)\n",
            "13. ggplot_build(x)\n",
            "14. ggplot_build.ggplot(x)\n",
            "15. by_layer(function(l, d) l$compute_aesthetics(d, plot), layers, \n",
            "  .     data, \"computing aesthetics\")\n",
            "16. try_fetch(for (i in seq_along(data)) {\n",
            "  .     out[[i]] <- f(l = layers[[i]], d = data[[i]])\n",
            "  . }, error = function(cnd) {\n",
            "  .     cli::cli_abort(c(\"Problem while {step}.\", i = \"Error occurred in the {ordinal(i)} layer.\"), \n",
            "  .         call = layers[[i]]$constructor, parent = cnd)\n",
            "  . })\n",
            "17. tryCatch(withCallingHandlers(expr, error = function(cnd) {\n",
            "  .     {\n",
            "  .         .__handler_frame__. <- TRUE\n",
            "  .         .__setup_frame__. <- frame\n",
            "  .     }\n",
            "  .     out <- handlers[[1L]](cnd)\n",
            "  .     if (!inherits(out, \"rlang_zap\")) \n",
            "  .         throw(out)\n",
            "  . }), stackOverflowError = handlers[[1L]])\n",
            "18. tryCatchList(expr, classes, parentenv, handlers)\n",
            "19. tryCatchOne(expr, names, parentenv, handlers[[1L]])\n",
            "20. doTryCatch(return(expr), name, parentenv, handler)\n",
            "21. withCallingHandlers(expr, error = function(cnd) {\n",
            "  .     {\n",
            "  .         .__handler_frame__. <- TRUE\n",
            "  .         .__setup_frame__. <- frame\n",
            "  .     }\n",
            "  .     out <- handlers[[1L]](cnd)\n",
            "  .     if (!inherits(out, \"rlang_zap\")) \n",
            "  .         throw(out)\n",
            "  . })\n",
            "22. f(l = layers[[i]], d = data[[i]])\n",
            "23. l$compute_aesthetics(d, plot)\n",
            "24. compute_aesthetics(..., self = self)\n",
            "25. scales_add_defaults(plot$scales, data, aesthetics, plot$plot_env)\n",
            "26. lapply(aesthetics[new_aesthetics], eval_tidy, data = data)\n",
            "27. FUN(X[[i]], ...)\n",
            "28. .handleSimpleError(function (cnd) \n",
            "  . {\n",
            "  .     {\n",
            "  .         .__handler_frame__. <- TRUE\n",
            "  .         .__setup_frame__. <- frame\n",
            "  .     }\n",
            "  .     out <- handlers[[1L]](cnd)\n",
            "  .     if (!inherits(out, \"rlang_zap\")) \n",
            "  .         throw(out)\n",
            "  . }, \"object 'delay_avg' not found\", base::quote(FUN(X[[i]], ...)))\n",
            "29. h(simpleError(msg, call))\n",
            "30. handlers[[1L]](cnd)\n",
            "31. cli::cli_abort(c(\"Problem while {step}.\", i = \"Error occurred in the {ordinal(i)} layer.\"), \n",
            "  .     call = layers[[i]]$constructor, parent = cnd)\n",
            "32. rlang::abort(message, ..., call = call, use_cli_format = TRUE, \n",
            "  .     .frame = .frame)\n",
            "33. signal_abort(cnd, .file)\n"
          ]
        }
      ]
    },
    {
      "cell_type": "markdown",
      "metadata": {
        "id": "lrZdl7DzVjIi"
      },
      "source": [
        "### Extracting the First, Last, and Nth value\n",
        "We can find the first object of `x` using `first(x)`, the last object using `last(x)`, and the nth object using `nth(x, n)`. These functions are equivalent to `x[1]`, `x[length(x)]`, `x[n]`, except that when no value can be found (i.e.`x[1]` is `NA`), the `default` setting in the former functions allow the code work without error."
      ]
    },
    {
      "cell_type": "code",
      "execution_count": 73,
      "metadata": {
        "colab": {
          "base_uri": "https://localhost:8080/",
          "height": 69
        },
        "id": "lXvFOBrpLAdD",
        "outputId": "d6cc1378-943d-4481-c4dc-15a6941db946"
      },
      "outputs": [
        {
          "output_type": "display_data",
          "data": {
            "text/html": [
              "&lt;NA&gt;"
            ],
            "text/markdown": "&lt;NA&gt;",
            "text/latex": "<NA>",
            "text/plain": [
              "[1] NA"
            ]
          },
          "metadata": {}
        },
        {
          "output_type": "display_data",
          "data": {
            "text/html": [
              "Inf"
            ],
            "text/markdown": "Inf",
            "text/latex": "Inf",
            "text/plain": [
              "[1] Inf"
            ]
          },
          "metadata": {}
        },
        {
          "output_type": "display_data",
          "data": {
            "text/html": [
              "0"
            ],
            "text/markdown": "0",
            "text/latex": "0",
            "text/plain": [
              "[1] 0"
            ]
          },
          "metadata": {}
        }
      ],
      "source": [
        "x = c(1,2,3)\n",
        "x[10]\n",
        "nth(x,10,default = Inf) # prefer this b/c produces a specific output if the item is not part of the list \n",
        "nth(x,10,default=0) "
      ]
    },
    {
      "cell_type": "code",
      "execution_count": 74,
      "metadata": {
        "colab": {
          "base_uri": "https://localhost:8080/"
        },
        "id": "Q8U4k4DbVjIi",
        "outputId": "0c20e246-8060-4f9f-9404-bed5ef1a509a"
      },
      "outputs": [
        {
          "output_type": "stream",
          "name": "stderr",
          "text": [
            "\u001b[1m\u001b[22m`summarise()` has grouped output by 'year', 'month'. You can override using the\n",
            "`.groups` argument.\n"
          ]
        },
        {
          "output_type": "stream",
          "name": "stdout",
          "text": [
            "\u001b[90m# A tibble: 365 × 7\u001b[39m\n",
            "\u001b[90m# Groups:   year, month [12]\u001b[39m\n",
            "    year month   day first_arr nine_hundredth_arr last_arr num_arr\n",
            "   \u001b[3m\u001b[90m<int>\u001b[39m\u001b[23m \u001b[3m\u001b[90m<int>\u001b[39m\u001b[23m \u001b[3m\u001b[90m<int>\u001b[39m\u001b[23m     \u001b[3m\u001b[90m<int>\u001b[39m\u001b[23m              \u001b[3m\u001b[90m<int>\u001b[39m\u001b[23m    \u001b[3m\u001b[90m<int>\u001b[39m\u001b[23m   \u001b[3m\u001b[90m<int>\u001b[39m\u001b[23m\n",
            "\u001b[90m 1\u001b[39m  \u001b[4m2\u001b[24m013     1     1       830                 \u001b[31mNA\u001b[39m      425     831\n",
            "\u001b[90m 2\u001b[39m  \u001b[4m2\u001b[24m013     1     2       518                 43      413     928\n",
            "\u001b[90m 3\u001b[39m  \u001b[4m2\u001b[24m013     1     3       504                434      434     900\n",
            "\u001b[90m 4\u001b[39m  \u001b[4m2\u001b[24m013     1     4       505                257      436     908\n",
            "\u001b[90m 5\u001b[39m  \u001b[4m2\u001b[24m013     1     5       503                 \u001b[31mNA\u001b[39m      432     717\n",
            "\u001b[90m 6\u001b[39m  \u001b[4m2\u001b[24m013     1     6       451                 \u001b[31mNA\u001b[39m      433     829\n",
            "\u001b[90m 7\u001b[39m  \u001b[4m2\u001b[24m013     1     7       531               \u001b[4m2\u001b[24m220      506     930\n",
            "\u001b[90m 8\u001b[39m  \u001b[4m2\u001b[24m013     1     8       625                 \u001b[31mNA\u001b[39m      417     892\n",
            "\u001b[90m 9\u001b[39m  \u001b[4m2\u001b[24m013     1     9       432                 \u001b[31mNA\u001b[39m       12     893\n",
            "\u001b[90m10\u001b[39m  \u001b[4m2\u001b[24m013     1    10       426               \u001b[4m2\u001b[24m206       16     929\n",
            "\u001b[90m# … with 355 more rows\u001b[39m\n"
          ]
        }
      ],
      "source": [
        "# find the first, 900th, and lastg arrival time everyday\n",
        "not_cancelled <- flights %>% \n",
        "  filter(!is.na(arr_delay))\n",
        "\n",
        "not_cancelled %>%\n",
        "  group_by(year, month,day) %>% \n",
        "  summarize(first_arr = first(arr_time), # equivalent to nth(arr_time, 1)\n",
        "            nine_hundredth_arr = nth(arr_time, 900),\n",
        "            last_arr = last(arr_time),\n",
        "            num_arr = n()) %>%\n",
        "  print()"
      ]
    },
    {
      "cell_type": "markdown",
      "metadata": {
        "id": "KwjTP0jDLAdD"
      },
      "source": [
        "#### Discussion\n",
        "what will happen if we use the original dataframe flights, instead of not_cancelled?"
      ]
    },
    {
      "cell_type": "code",
      "execution_count": 76,
      "metadata": {
        "colab": {
          "base_uri": "https://localhost:8080/"
        },
        "id": "H01TwqRtLAdD",
        "outputId": "9745871c-5003-4fd6-ce6c-db6c5c14131b"
      },
      "outputs": [
        {
          "output_type": "stream",
          "name": "stderr",
          "text": [
            "\u001b[1m\u001b[22m`summarise()` has grouped output by 'year', 'month'. You can override using the\n",
            "`.groups` argument.\n"
          ]
        },
        {
          "output_type": "stream",
          "name": "stdout",
          "text": [
            "\u001b[90m# A tibble: 365 × 7\u001b[39m\n",
            "\u001b[90m# Groups:   year, month [12]\u001b[39m\n",
            "    year month   day first_arr nine_hundredth_arr last_arr num_arr\n",
            "   \u001b[3m\u001b[90m<int>\u001b[39m\u001b[23m \u001b[3m\u001b[90m<int>\u001b[39m\u001b[23m \u001b[3m\u001b[90m<int>\u001b[39m\u001b[23m     \u001b[3m\u001b[90m<int>\u001b[39m\u001b[23m              \u001b[3m\u001b[90m<int>\u001b[39m\u001b[23m    \u001b[3m\u001b[90m<int>\u001b[39m\u001b[23m   \u001b[3m\u001b[90m<int>\u001b[39m\u001b[23m\n",
            "\u001b[90m 1\u001b[39m  \u001b[4m2\u001b[24m013     1     1       830                 \u001b[31mNA\u001b[39m       \u001b[31mNA\u001b[39m     842\n",
            "\u001b[90m 2\u001b[39m  \u001b[4m2\u001b[24m013     1     2       518               \u001b[4m2\u001b[24m242       \u001b[31mNA\u001b[39m     943\n",
            "\u001b[90m 3\u001b[39m  \u001b[4m2\u001b[24m013     1     3       504               \u001b[4m2\u001b[24m359       \u001b[31mNA\u001b[39m     914\n",
            "\u001b[90m 4\u001b[39m  \u001b[4m2\u001b[24m013     1     4       505                116       \u001b[31mNA\u001b[39m     915\n",
            "\u001b[90m 5\u001b[39m  \u001b[4m2\u001b[24m013     1     5       503                 \u001b[31mNA\u001b[39m       \u001b[31mNA\u001b[39m     720\n",
            "\u001b[90m 6\u001b[39m  \u001b[4m2\u001b[24m013     1     6       451                 \u001b[31mNA\u001b[39m       \u001b[31mNA\u001b[39m     832\n",
            "\u001b[90m 7\u001b[39m  \u001b[4m2\u001b[24m013     1     7       531               \u001b[4m2\u001b[24m220       \u001b[31mNA\u001b[39m     933\n",
            "\u001b[90m 8\u001b[39m  \u001b[4m2\u001b[24m013     1     8       625                 \u001b[31mNA\u001b[39m       \u001b[31mNA\u001b[39m     899\n",
            "\u001b[90m 9\u001b[39m  \u001b[4m2\u001b[24m013     1     9       432                 \u001b[31mNA\u001b[39m       \u001b[31mNA\u001b[39m     902\n",
            "\u001b[90m10\u001b[39m  \u001b[4m2\u001b[24m013     1    10       426               \u001b[4m2\u001b[24m206       \u001b[31mNA\u001b[39m     932\n",
            "\u001b[90m# … with 355 more rows\u001b[39m\n"
          ]
        }
      ],
      "source": [
        "# if you just used orig dataset, output is not the same. a lot of missing values. \n",
        "flights %>%\n",
        "  group_by(year, month,day) %>% \n",
        "  summarize(first_arr = first(arr_time), # equivalent to nth(arr_time, 1)\n",
        "            nine_hundredth_arr = nth(arr_time, 900),\n",
        "            last_arr = last(arr_time),\n",
        "            num_arr = n()) %>%\n",
        "  print()"
      ]
    },
    {
      "cell_type": "code",
      "execution_count": 77,
      "metadata": {
        "colab": {
          "base_uri": "https://localhost:8080/",
          "height": 412
        },
        "id": "FwRAOyL7LAdE",
        "outputId": "3bfb29aa-ad9b-4f6d-c5cb-efe3b89f6d9c"
      },
      "outputs": [
        {
          "output_type": "display_data",
          "data": {
            "text/html": [
              "<table class=\"dataframe\">\n",
              "<caption>A grouped_df: 10 × 4</caption>\n",
              "<thead>\n",
              "\t<tr><th scope=col>year</th><th scope=col>month</th><th scope=col>day</th><th scope=col>arr_time</th></tr>\n",
              "\t<tr><th scope=col>&lt;int&gt;</th><th scope=col>&lt;int&gt;</th><th scope=col>&lt;int&gt;</th><th scope=col>&lt;int&gt;</th></tr>\n",
              "</thead>\n",
              "<tbody>\n",
              "\t<tr><td>2013</td><td>9</td><td>30</td><td>2347</td></tr>\n",
              "\t<tr><td>2013</td><td>9</td><td>30</td><td>2345</td></tr>\n",
              "\t<tr><td>2013</td><td>9</td><td>30</td><td>2359</td></tr>\n",
              "\t<tr><td>2013</td><td>9</td><td>30</td><td> 325</td></tr>\n",
              "\t<tr><td>2013</td><td>9</td><td>30</td><td>  NA</td></tr>\n",
              "\t<tr><td>2013</td><td>9</td><td>30</td><td>  NA</td></tr>\n",
              "\t<tr><td>2013</td><td>9</td><td>30</td><td>  NA</td></tr>\n",
              "\t<tr><td>2013</td><td>9</td><td>30</td><td>  NA</td></tr>\n",
              "\t<tr><td>2013</td><td>9</td><td>30</td><td>  NA</td></tr>\n",
              "\t<tr><td>2013</td><td>9</td><td>30</td><td>  NA</td></tr>\n",
              "</tbody>\n",
              "</table>\n"
            ],
            "text/markdown": "\nA grouped_df: 10 × 4\n\n| year &lt;int&gt; | month &lt;int&gt; | day &lt;int&gt; | arr_time &lt;int&gt; |\n|---|---|---|---|\n| 2013 | 9 | 30 | 2347 |\n| 2013 | 9 | 30 | 2345 |\n| 2013 | 9 | 30 | 2359 |\n| 2013 | 9 | 30 |  325 |\n| 2013 | 9 | 30 |   NA |\n| 2013 | 9 | 30 |   NA |\n| 2013 | 9 | 30 |   NA |\n| 2013 | 9 | 30 |   NA |\n| 2013 | 9 | 30 |   NA |\n| 2013 | 9 | 30 |   NA |\n\n",
            "text/latex": "A grouped\\_df: 10 × 4\n\\begin{tabular}{llll}\n year & month & day & arr\\_time\\\\\n <int> & <int> & <int> & <int>\\\\\n\\hline\n\t 2013 & 9 & 30 & 2347\\\\\n\t 2013 & 9 & 30 & 2345\\\\\n\t 2013 & 9 & 30 & 2359\\\\\n\t 2013 & 9 & 30 &  325\\\\\n\t 2013 & 9 & 30 &   NA\\\\\n\t 2013 & 9 & 30 &   NA\\\\\n\t 2013 & 9 & 30 &   NA\\\\\n\t 2013 & 9 & 30 &   NA\\\\\n\t 2013 & 9 & 30 &   NA\\\\\n\t 2013 & 9 & 30 &   NA\\\\\n\\end{tabular}\n",
            "text/plain": [
              "   year month day arr_time\n",
              "1  2013 9     30  2347    \n",
              "2  2013 9     30  2345    \n",
              "3  2013 9     30  2359    \n",
              "4  2013 9     30   325    \n",
              "5  2013 9     30    NA    \n",
              "6  2013 9     30    NA    \n",
              "7  2013 9     30    NA    \n",
              "8  2013 9     30    NA    \n",
              "9  2013 9     30    NA    \n",
              "10 2013 9     30    NA    "
            ]
          },
          "metadata": {}
        }
      ],
      "source": [
        "flights %>%\n",
        "  group_by(year, month,day) %>% select(year, month,day, arr_time) %>% tail(10)"
      ]
    },
    {
      "cell_type": "markdown",
      "source": [
        "HW 2B: Was ther ea flight scheduled every day of 2013? If not, write code that shows which days had no scheduled flights. "
      ],
      "metadata": {
        "id": "Yf2h2NRwWYX0"
      }
    },
    {
      "cell_type": "code",
      "source": [
        "# 1. filter out rows that are in 2013: filter(2013)\n",
        "# 2. group by yr, month, & day. doesn't matter if you include yr or not tho. group_by(year,month,day)\n",
        "# 3. count how many groups are there: nrow()\n",
        "# 4. if returns nrow()==365, then ur good. luckily, this is the case. \n",
        "# but if not, use set diff. "
      ],
      "metadata": {
        "id": "wfcsS7MqWgsu"
      },
      "execution_count": null,
      "outputs": []
    },
    {
      "cell_type": "markdown",
      "metadata": {
        "id": "n-p4S8GcVjIi"
      },
      "source": [
        "### Excercise 6\n",
        "1. Which `carrier` has the longest arrival delay time on average? \n",
        "2. How is the performance comparing to other carriers in the same route? Consider the differences of mean arrival delay between one carrier and the others. "
      ]
    },
    {
      "cell_type": "code",
      "execution_count": null,
      "metadata": {
        "cellView": "form",
        "id": "zJ7pYsPaVjIj"
      },
      "outputs": [],
      "source": [
        "## Your Answer"
      ]
    },
    {
      "cell_type": "code",
      "execution_count": null,
      "metadata": {
        "cellView": "form",
        "id": "5QIPuFoQVjIj"
      },
      "outputs": [],
      "source": [
        "## Your Answer"
      ]
    }
  ],
  "metadata": {
    "colab": {
      "collapsed_sections": [
        "K_hOeVrVVjIi"
      ],
      "provenance": [],
      "include_colab_link": true
    },
    "kernelspec": {
      "display_name": "R",
      "language": "R",
      "name": "ir"
    },
    "language_info": {
      "codemirror_mode": "r",
      "file_extension": ".r",
      "mimetype": "text/x-r-source",
      "name": "R",
      "pygments_lexer": "r",
      "version": "4.0.4"
    },
    "vscode": {
      "interpreter": {
        "hash": "2f3c89b692420c5d04b52da6fb3fc82a6c14a4d99bd20591af0de34ce9586a76"
      }
    }
  },
  "nbformat": 4,
  "nbformat_minor": 0
}