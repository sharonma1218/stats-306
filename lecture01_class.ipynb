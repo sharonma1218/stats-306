{
  "cells": [
    {
      "cell_type": "markdown",
      "metadata": {
        "id": "view-in-github",
        "colab_type": "text"
      },
      "source": [
        "<a href=\"https://colab.research.google.com/github/sharonma1218/stats-306/blob/main/lecture01_class.ipynb\" target=\"_parent\"><img src=\"https://colab.research.google.com/assets/colab-badge.svg\" alt=\"Open In Colab\"/></a>"
      ]
    },
    {
      "cell_type": "markdown",
      "metadata": {
        "id": "Xie1OabsWb15"
      },
      "source": [
        "# Lecture 1:  Data transformation\n",
        "\n",
        "<div style=\"border: 1px double black; padding: 10px; margin: 10px\">\n",
        "\n",
        "**Goals for today's lecture:**\n",
        "* Learn [how to manipulate data](#Data-manipulation), including:\n",
        "    * [Filtering data](#Row-operation-#1:-Filtering-data)\n",
        "    * [Arranging (sorting) rows](#Row-operation-#2:-Sorting)\n",
        "    * [Finding distinct rows](#Row-operation-#3:-distinct())\n",
        "    * [Selecting subsets of columns](#Column-operation-#1:-select()\n",
        "    \n",
        "This lecture note corresponds to [Chapter 4](https://r4ds.hadley.nz/data-transform.html) of your book, and we will also use some ideas from Chapters [14](https://r4ds.hadley.nz/logicals.html)-[15](https://r4ds.hadley.nz/numbers.html).\n",
        "</div>\n"
      ]
    },
    {
      "cell_type": "markdown",
      "metadata": {
        "id": "2SBZIsDRWb2A"
      },
      "source": [
        "## Questions that arose on Piazza\n",
        "Reminder to please post your questions on Piazza. You will get a faster response, and everyone can see the answers.\n",
        "- \"What's the difference between Github, Colab, and Jupyter?\"\n",
        "- \"How is credit assigned for Perusall?\"\n",
        "- \"How are the iClicker questions graded?\""
      ]
    },
    {
      "cell_type": "markdown",
      "metadata": {
        "id": "RArQIHl3Wb2B"
      },
      "source": [
        "## Data manipulation\n",
        "Manipulating data is an important part of data science--perhaps the most important! As a data scientist, most of your time will be spent simply getting your data into a format that you can analyze:\n",
        "![data manipulation plot](https://www.datanami.com/wp-content/uploads/2020/07/Anaconda_1.png)\n",
        "https://www.datanami.com/2020/07/06/data-prep-still-dominates-data-scientists-time-survey-finds/"
      ]
    },
    {
      "cell_type": "markdown",
      "metadata": {
        "id": "mLkL1-JYWb2C"
      },
      "source": [
        "There are a lot of built-in commands for data manipulation in R:\n",
        "```{r}\n",
        "# Traditional data manipulation commands in R\n",
        "subset()\n",
        "aggregate()\n",
        "merge()\n",
        "reshape()\n",
        "```\n",
        "These commands are old and somewhat difficult to use. Instead of the traditional commands, we are going to focus on the `dplyr` package for filtering data. They provide a nice suite of replacements for the traditional commands, which have a consistent, unified interface and interoperate nicely with each other.\n",
        "\n",
        "The `dplyr` package is part of `tidyverse`, so it is already loaded once we run `library(tidyverse)` (which we remember from last lecture that we should do each time we start R).\n",
        "\n",
        "NOTE: We will be using the tools that comes with dplyr package instead of traditional tools that come with R. "
      ]
    },
    {
      "cell_type": "markdown",
      "metadata": {
        "id": "hHm6PMAdWb2C"
      },
      "source": [
        "We will be using the `nycflights13` data set for this lecture. It does not come with tidyverse. If you are running Jupyter on your own computer you will first need to `install.packages(\"nycflights13\")`.  This data set is about flights departing from the NYC area in 2013.  You have worked with part of this data set in Homework 2.\n",
        "\n",
        "NOTE: Since Colab is a virtual machine, we need to install.packages(\"packagename\") every single time. Get into a habit of this."
      ]
    },
    {
      "cell_type": "code",
      "source": [
        "install.packages(\"nycflights13\")"
      ],
      "metadata": {
        "colab": {
          "base_uri": "https://localhost:8080/"
        },
        "id": "Vj9Zx9DxZ7Lm",
        "outputId": "016c72b0-390a-4f94-c7ca-526a0f6632d3"
      },
      "execution_count": 1,
      "outputs": [
        {
          "output_type": "stream",
          "name": "stderr",
          "text": [
            "Installing package into ‘/usr/local/lib/R/site-library’\n",
            "(as ‘lib’ is unspecified)\n",
            "\n"
          ]
        }
      ]
    },
    {
      "cell_type": "code",
      "execution_count": 2,
      "metadata": {
        "id": "qWbwAKGWWb2E",
        "outputId": "e3d0752c-c765-47a0-d60e-0e1dd390ab9c",
        "colab": {
          "base_uri": "https://localhost:8080/"
        }
      },
      "outputs": [
        {
          "output_type": "stream",
          "name": "stderr",
          "text": [
            "Warning message in system(\"timedatectl\", intern = TRUE):\n",
            "“running command 'timedatectl' had status 1”\n",
            "── \u001b[1mAttaching packages\u001b[22m ─────────────────────────────────────── tidyverse 1.3.1 ──\n",
            "\n",
            "\u001b[32m✔\u001b[39m \u001b[34mggplot2\u001b[39m 3.4.0      \u001b[32m✔\u001b[39m \u001b[34mpurrr  \u001b[39m 0.3.5 \n",
            "\u001b[32m✔\u001b[39m \u001b[34mtibble \u001b[39m 3.1.8      \u001b[32m✔\u001b[39m \u001b[34mdplyr  \u001b[39m 1.0.10\n",
            "\u001b[32m✔\u001b[39m \u001b[34mtidyr  \u001b[39m 1.2.1      \u001b[32m✔\u001b[39m \u001b[34mstringr\u001b[39m 1.4.1 \n",
            "\u001b[32m✔\u001b[39m \u001b[34mreadr  \u001b[39m 2.1.3      \u001b[32m✔\u001b[39m \u001b[34mforcats\u001b[39m 0.5.2 \n",
            "\n",
            "── \u001b[1mConflicts\u001b[22m ────────────────────────────────────────── tidyverse_conflicts() ──\n",
            "\u001b[31m✖\u001b[39m \u001b[34mdplyr\u001b[39m::\u001b[32mfilter()\u001b[39m masks \u001b[34mstats\u001b[39m::filter()\n",
            "\u001b[31m✖\u001b[39m \u001b[34mdplyr\u001b[39m::\u001b[32mlag()\u001b[39m    masks \u001b[34mstats\u001b[39m::lag()\n",
            "\n"
          ]
        }
      ],
      "source": [
        "# install.packages('nycflights13')\n",
        "library(tidyverse)\n",
        "library(nycflights13)"
      ]
    },
    {
      "cell_type": "code",
      "execution_count": 3,
      "metadata": {
        "id": "CnfzNBZvWb2R",
        "outputId": "92bd0df9-ad0b-44e0-88ac-55b787c3525a",
        "colab": {
          "base_uri": "https://localhost:8080/"
        }
      },
      "outputs": [
        {
          "output_type": "stream",
          "name": "stdout",
          "text": [
            "\u001b[90m# A tibble: 336,776 × 19\u001b[39m\n",
            "    year month   day dep_time sched_de…¹ dep_d…² arr_t…³ sched…⁴ arr_d…⁵ carrier\n",
            "   \u001b[3m\u001b[90m<int>\u001b[39m\u001b[23m \u001b[3m\u001b[90m<int>\u001b[39m\u001b[23m \u001b[3m\u001b[90m<int>\u001b[39m\u001b[23m    \u001b[3m\u001b[90m<int>\u001b[39m\u001b[23m      \u001b[3m\u001b[90m<int>\u001b[39m\u001b[23m   \u001b[3m\u001b[90m<dbl>\u001b[39m\u001b[23m   \u001b[3m\u001b[90m<int>\u001b[39m\u001b[23m   \u001b[3m\u001b[90m<int>\u001b[39m\u001b[23m   \u001b[3m\u001b[90m<dbl>\u001b[39m\u001b[23m \u001b[3m\u001b[90m<chr>\u001b[39m\u001b[23m  \n",
            "\u001b[90m 1\u001b[39m  \u001b[4m2\u001b[24m013     1     1      517        515       2     830     819      11 UA     \n",
            "\u001b[90m 2\u001b[39m  \u001b[4m2\u001b[24m013     1     1      533        529       4     850     830      20 UA     \n",
            "\u001b[90m 3\u001b[39m  \u001b[4m2\u001b[24m013     1     1      542        540       2     923     850      33 AA     \n",
            "\u001b[90m 4\u001b[39m  \u001b[4m2\u001b[24m013     1     1      544        545      -\u001b[31m1\u001b[39m    \u001b[4m1\u001b[24m004    \u001b[4m1\u001b[24m022     -\u001b[31m18\u001b[39m B6     \n",
            "\u001b[90m 5\u001b[39m  \u001b[4m2\u001b[24m013     1     1      554        600      -\u001b[31m6\u001b[39m     812     837     -\u001b[31m25\u001b[39m DL     \n",
            "\u001b[90m 6\u001b[39m  \u001b[4m2\u001b[24m013     1     1      554        558      -\u001b[31m4\u001b[39m     740     728      12 UA     \n",
            "\u001b[90m 7\u001b[39m  \u001b[4m2\u001b[24m013     1     1      555        600      -\u001b[31m5\u001b[39m     913     854      19 B6     \n",
            "\u001b[90m 8\u001b[39m  \u001b[4m2\u001b[24m013     1     1      557        600      -\u001b[31m3\u001b[39m     709     723     -\u001b[31m14\u001b[39m EV     \n",
            "\u001b[90m 9\u001b[39m  \u001b[4m2\u001b[24m013     1     1      557        600      -\u001b[31m3\u001b[39m     838     846      -\u001b[31m8\u001b[39m B6     \n",
            "\u001b[90m10\u001b[39m  \u001b[4m2\u001b[24m013     1     1      558        600      -\u001b[31m2\u001b[39m     753     745       8 AA     \n",
            "\u001b[90m# … with 336,766 more rows, 9 more variables: flight <int>, tailnum <chr>,\u001b[39m\n",
            "\u001b[90m#   origin <chr>, dest <chr>, air_time <dbl>, distance <dbl>, hour <dbl>,\u001b[39m\n",
            "\u001b[90m#   minute <dbl>, time_hour <dttm>, and abbreviated variable names\u001b[39m\n",
            "\u001b[90m#   ¹​sched_dep_time, ²​dep_delay, ³​arr_time, ⁴​sched_arr_time, ⁵​arr_delay\u001b[39m\n"
          ]
        }
      ],
      "source": [
        "print(flights)"
      ]
    },
    {
      "cell_type": "markdown",
      "metadata": {
        "id": "H3hDfrAPWb2S"
      },
      "source": [
        "Tibble is similar to dataframe and we will learn more about it later in the course.   For now, you can interpret it as a dataframe. \n",
        "\n",
        "Notice the types of the variables in `flights`. They include:\n",
        "\n",
        "* **int** integers\n",
        "* **dbl** double precision floating point numbers\n",
        "* **chr** character vectors, or strings\n",
        "* **dttm** date-time (a date along with a time)\n",
        "\n",
        "Other types available in R but not represented above include:\n",
        "\n",
        "* **lgl** logical (either `TRUE` or `FALSE`)\n",
        "* **fctr** factor (categorical variable with a fixed number of possible values)\n",
        "* **date** date\n",
        "\n",
        "NOTE: Tibble is similar to dataframe, but it is more efficient. About 337,000 rows, 19 cols (not all shown), 9 variables (& their names are listed). Types of variables: Int = integers, chr = characters, dlb = double precision floating number, dttm = date time. Date = w/o time.\n"
      ]
    },
    {
      "cell_type": "markdown",
      "metadata": {
        "id": "mHBOKMTjWb2S"
      },
      "source": [
        "## What's a data frame?\n",
        "\n",
        "Our main goal in R is to work with data, and one of the most fundamental objects in R is the *data frame*. Think of a data frame as a container for a bunch of *vectors* of data:\n",
        "\n",
        "![dataframe](https://garrettgman.github.io/images/tidy-2.png)\n",
        "\n",
        "Note: string vectors together like legos to make a table. data frame is like table. "
      ]
    },
    {
      "cell_type": "markdown",
      "metadata": {
        "id": "XA9FZFVSWb2S"
      },
      "source": [
        "## Row operation #1: Filtering data\n",
        "The first operation we'll learn about is filtering. Filtering is interpereted to mean \"keep only the rows whose columns match these criteria\". The syntax for the `filter` command is \n",
        "```{r}\n",
        "filter(<TABLE>, <LOGICAL CRITERIA>)\n",
        "```\n",
        "This commands returns a new tibble whose rows all match the specified criteria.\n",
        "\n",
        "NOTE: logical criteria usually a true/false."
      ]
    },
    {
      "cell_type": "markdown",
      "metadata": {
        "id": "Cqata3sxWb2T"
      },
      "source": [
        "### Types of logical criteria\n",
        "For those who are new to programming, we now briefly review [boolean logic](https://en.wikipedia.org/wiki/Boolean_algebra). The basic logical operators in R are `>`, `>=`, `<`, `<=`, `!=` (not equal), and `==` (equal). The first four are used for comparing numbers and function exactly as in mathematics:\n",
        "```{r}\n",
        "> 1 > 1\n",
        "[1] FALSE\n",
        "> 1 >= 1\n",
        "[1] TRUE\n",
        "> 2.5 < 3\n",
        "[1] TRUE\n",
        "> 2.5 <= 3\n",
        "[1] TRUE\n",
        "```"
      ]
    },
    {
      "cell_type": "markdown",
      "metadata": {
        "id": "utUvQKmqWb2T"
      },
      "source": [
        "### Assignment vs. equality\n",
        "An extremely common mistake for beginner programmers is to confuse `=` and `==` (\"double equals\") when writing code. As we have seen,\n",
        "- `=` is used for\n",
        "    - assigning a value to a variable, and\n",
        "    - passing a named parameter into a function. \n",
        "- `==` is used for testing equality. "
      ]
    },
    {
      "cell_type": "markdown",
      "metadata": {
        "id": "I3L9paLcWb2T"
      },
      "source": [
        "\n",
        "```{r}\n",
        "> a = 1  # assigns the integer 1 to a\n",
        "> b = 2  # assigns the integer 2 to b\n",
        "> a == 1 # tests that a equals 1 ... is a equal to 1?\n",
        "[1] TRUE\n",
        "> b == 1 # tests that b equals 1 ... is b equal to 1?\n",
        "[1] FALSE\n",
        "```"
      ]
    },
    {
      "cell_type": "code",
      "execution_count": null,
      "metadata": {
        "id": "8nM1u5WQWb2T"
      },
      "outputs": [],
      "source": [
        "# Example of assignment vs equality for ages"
      ]
    },
    {
      "cell_type": "markdown",
      "metadata": {
        "id": "bu-fESgPWb2T"
      },
      "source": [
        "### Boolean operations\n",
        "Logical expressions are combined using *boolean operations*. The basic boolean operations are `and`, `or`, and `not`, denoted `&`, `|` and `!` respectively."
      ]
    },
    {
      "cell_type": "code",
      "execution_count": null,
      "metadata": {
        "id": "eNOJcIWwWb2U",
        "outputId": "87373223-40b9-49e5-e7f1-da206788b3a2"
      },
      "outputs": [
        {
          "data": {
            "text/html": [
              "TRUE"
            ],
            "text/latex": [
              "TRUE"
            ],
            "text/markdown": [
              "TRUE"
            ],
            "text/plain": [
              "[1] TRUE"
            ]
          },
          "metadata": {},
          "output_type": "display_data"
        },
        {
          "data": {
            "text/html": [
              "TRUE"
            ],
            "text/latex": [
              "TRUE"
            ],
            "text/markdown": [
              "TRUE"
            ],
            "text/plain": [
              "[1] TRUE"
            ]
          },
          "metadata": {},
          "output_type": "display_data"
        },
        {
          "data": {
            "text/html": [
              "FALSE"
            ],
            "text/latex": [
              "FALSE"
            ],
            "text/markdown": [
              "FALSE"
            ],
            "text/plain": [
              "[1] FALSE"
            ]
          },
          "metadata": {},
          "output_type": "display_data"
        }
      ],
      "source": [
        "! FALSE # NOTE: the ! flips that. the opposite is true.\n",
        "FALSE | TRUE # NOTE: false or true so the entire operation becomes true.\n",
        "! TRUE"
      ]
    },
    {
      "cell_type": "markdown",
      "metadata": {
        "id": "x7mxtM3DWb2U"
      },
      "source": [
        "There are also doubled versions of `&` and `|` denoted `&&` and `||`. Do not use these yet. We will return to them later in the course when we discuss programming and control flow."
      ]
    },
    {
      "cell_type": "markdown",
      "metadata": {
        "id": "wBS323_4Wb2U"
      },
      "source": [
        "R abbreviates `TRUE` and `FALSE` as `T` and `F`:"
      ]
    },
    {
      "cell_type": "code",
      "execution_count": null,
      "metadata": {
        "id": "qKD7Alj8Wb2U",
        "outputId": "dc9b1cb7-b37d-49d4-e600-f64eca25cb02"
      },
      "outputs": [
        {
          "data": {
            "text/html": [
              "<style>\n",
              ".list-inline {list-style: none; margin:0; padding: 0}\n",
              ".list-inline>li {display: inline-block}\n",
              ".list-inline>li:not(:last-child)::after {content: \"\\00b7\"; padding: 0 .5ex}\n",
              "</style>\n",
              "<ol class=list-inline><li>TRUE</li><li>FALSE</li></ol>\n"
            ],
            "text/latex": [
              "\\begin{enumerate*}\n",
              "\\item TRUE\n",
              "\\item FALSE\n",
              "\\end{enumerate*}\n"
            ],
            "text/markdown": [
              "1. TRUE\n",
              "2. FALSE\n",
              "\n",
              "\n"
            ],
            "text/plain": [
              "[1]  TRUE FALSE"
            ]
          },
          "metadata": {},
          "output_type": "display_data"
        }
      ],
      "source": [
        "c(T, F)"
      ]
    },
    {
      "cell_type": "markdown",
      "metadata": {
        "id": "762632rVWb2U"
      },
      "source": [
        "### Vectorization\n",
        "What happens when we ask whether a *vector* satisfies a logical condition? R returns a new logical vector with the same number of entries, showing whether each entry satisfies that condition:"
      ]
    },
    {
      "cell_type": "code",
      "execution_count": 6,
      "metadata": {
        "id": "d1Cusj2hWb2V",
        "colab": {
          "base_uri": "https://localhost:8080/",
          "height": 70
        },
        "outputId": "653c665b-2c66-4ca3-d4a8-48f15cc35ef2"
      },
      "outputs": [
        {
          "output_type": "stream",
          "name": "stdout",
          "text": [
            " [1]  1  2  3  4  5  6  7  8  9 10\n"
          ]
        },
        {
          "output_type": "display_data",
          "data": {
            "text/html": [
              "<style>\n",
              ".list-inline {list-style: none; margin:0; padding: 0}\n",
              ".list-inline>li {display: inline-block}\n",
              ".list-inline>li:not(:last-child)::after {content: \"\\00b7\"; padding: 0 .5ex}\n",
              "</style>\n",
              "<ol class=list-inline><li>FALSE</li><li>FALSE</li><li>FALSE</li><li>TRUE</li><li>TRUE</li><li>TRUE</li><li>TRUE</li><li>TRUE</li><li>TRUE</li><li>TRUE</li></ol>\n"
            ],
            "text/markdown": "1. FALSE\n2. FALSE\n3. FALSE\n4. TRUE\n5. TRUE\n6. TRUE\n7. TRUE\n8. TRUE\n9. TRUE\n10. TRUE\n\n\n",
            "text/latex": "\\begin{enumerate*}\n\\item FALSE\n\\item FALSE\n\\item FALSE\n\\item TRUE\n\\item TRUE\n\\item TRUE\n\\item TRUE\n\\item TRUE\n\\item TRUE\n\\item TRUE\n\\end{enumerate*}\n",
            "text/plain": [
              " [1] FALSE FALSE FALSE  TRUE  TRUE  TRUE  TRUE  TRUE  TRUE  TRUE"
            ]
          },
          "metadata": {}
        },
        {
          "output_type": "display_data",
          "data": {
            "text/html": [
              "<style>\n",
              ".list-inline {list-style: none; margin:0; padding: 0}\n",
              ".list-inline>li {display: inline-block}\n",
              ".list-inline>li:not(:last-child)::after {content: \"\\00b7\"; padding: 0 .5ex}\n",
              "</style>\n",
              "<ol class=list-inline><li>4</li><li>5</li><li>6</li><li>7</li><li>8</li><li>9</li><li>10</li></ol>\n"
            ],
            "text/markdown": "1. 4\n2. 5\n3. 6\n4. 7\n5. 8\n6. 9\n7. 10\n\n\n",
            "text/latex": "\\begin{enumerate*}\n\\item 4\n\\item 5\n\\item 6\n\\item 7\n\\item 8\n\\item 9\n\\item 10\n\\end{enumerate*}\n",
            "text/plain": [
              "[1]  4  5  6  7  8  9 10"
            ]
          },
          "metadata": {}
        }
      ],
      "source": [
        "# Examples of logical conditions for class age\n",
        "a = c(1:10)\n",
        "print(a)\n",
        "a>3 # NOTE: we get a vector of booleans. goes through each element in the vector to see whether or not it's >3\n",
        "a[a>3] # NOTE: only print the vector of values that are >3"
      ]
    },
    {
      "cell_type": "markdown",
      "metadata": {
        "id": "_VfzfllaWb2V"
      },
      "source": [
        "### Testing for membership\n",
        "Another useful operator is `%in%`:\n",
        "```r\n",
        "x %in% y\n",
        "```\n",
        "\n",
        "return `TRUE` if the value `x` is found in the vector `y`:"
      ]
    },
    {
      "cell_type": "code",
      "execution_count": null,
      "metadata": {
        "id": "0ZeqF8EVWb2V",
        "outputId": "12fd89cc-5803-431e-dd8a-5068f98155e7"
      },
      "outputs": [
        {
          "data": {
            "text/html": [
              "FALSE"
            ],
            "text/latex": [
              "FALSE"
            ],
            "text/markdown": [
              "FALSE"
            ],
            "text/plain": [
              "[1] FALSE"
            ]
          },
          "metadata": {},
          "output_type": "display_data"
        },
        {
          "data": {
            "text/html": [
              "FALSE"
            ],
            "text/latex": [
              "FALSE"
            ],
            "text/markdown": [
              "FALSE"
            ],
            "text/plain": [
              "[1] FALSE"
            ]
          },
          "metadata": {},
          "output_type": "display_data"
        }
      ],
      "source": [
        "\"a\" %in% c(1, 2, 3) # NOTE: is a in the vector of 1 to 3. no b/c a character is not in this vector.\n",
        "(\"a\" == 1) | (\"a\" == 2) | (\"a\" == 3) # NOTE: is a exactly equal to 1, or is a exactly equal to 2, or is a exactly equal to 3. \n",
        "                                      # this is the big long version of doing the above"
      ]
    },
    {
      "cell_type": "markdown",
      "metadata": {
        "id": "SeehLoKoWb2V"
      },
      "source": [
        "## Missing data\n",
        "\n",
        "NOTE: na doesn't actually mean missing. there is still a value there, but you don't know what it is. that's why when you add \"i don't know\" to 5, the whole thing is \"i don't know\"\n",
        "\n",
        "Something you will often encounter when working with real data are missing observations. R has a special value, `NA` , for representing missing data. You can think of the value of `NA` as \"I don't know\". Thus, logical and mathematical operations involving `NA` will again return `NA`, so that `NA`s \"propagate through\" the computation:"
      ]
    },
    {
      "cell_type": "code",
      "execution_count": null,
      "metadata": {
        "id": "3Wjz4hf8Wb2V",
        "outputId": "bbdf4985-10a9-45bb-e2a8-db712f170ef4"
      },
      "outputs": [
        {
          "data": {
            "text/html": [
              "&lt;NA&gt;"
            ],
            "text/latex": [
              "<NA>"
            ],
            "text/markdown": [
              "&lt;NA&gt;"
            ],
            "text/plain": [
              "[1] NA"
            ]
          },
          "metadata": {},
          "output_type": "display_data"
        }
      ],
      "source": [
        "NA + 5 # 5 + I-don't-know = I-don't-know"
      ]
    },
    {
      "cell_type": "code",
      "execution_count": null,
      "metadata": {
        "id": "EXFm8-HqWb2W",
        "outputId": "4e8d2c20-9178-46b4-81fa-093b0fbb0d67"
      },
      "outputs": [
        {
          "data": {
            "text/html": [
              "&lt;NA&gt;"
            ],
            "text/latex": [
              "<NA>"
            ],
            "text/markdown": [
              "&lt;NA&gt;"
            ],
            "text/plain": [
              "[1] NA"
            ]
          },
          "metadata": {},
          "output_type": "display_data"
        }
      ],
      "source": [
        "1 < NA  # Is 1 less that I-don't-know? I don't know."
      ]
    },
    {
      "cell_type": "code",
      "execution_count": 7,
      "metadata": {
        "id": "WD2o1io8Wb2W",
        "outputId": "39a8ac45-3622-48f3-9a01-c80bf930d8cc",
        "colab": {
          "base_uri": "https://localhost:8080/",
          "height": 69
        }
      },
      "outputs": [
        {
          "output_type": "display_data",
          "data": {
            "text/html": [
              "&lt;NA&gt;"
            ],
            "text/markdown": "&lt;NA&gt;",
            "text/latex": "<NA>",
            "text/plain": [
              "[1] NA"
            ]
          },
          "metadata": {}
        },
        {
          "output_type": "display_data",
          "data": {
            "text/html": [
              "&lt;NA&gt;"
            ],
            "text/markdown": "&lt;NA&gt;",
            "text/latex": "<NA>",
            "text/plain": [
              "[1] NA"
            ]
          },
          "metadata": {}
        },
        {
          "output_type": "display_data",
          "data": {
            "text/html": [
              "2"
            ],
            "text/markdown": "2",
            "text/latex": "2",
            "text/plain": [
              "[1] 2"
            ]
          },
          "metadata": {}
        }
      ],
      "source": [
        "NA < NA  # Is I-don't-know greater than I-don't-know? I don't know.\n",
        "mean(c(1, NA, 3), na.rm=F) # And so forth. NOTE: Need to add the na.rm=F ... i don't want to remove the na, which allows the mean to be na itself\n",
        "mean(c(1,NA,3), na.rm=T) # NOTE: removes the na so there is actually a value here "
      ]
    },
    {
      "cell_type": "code",
      "execution_count": null,
      "metadata": {
        "id": "-7CpfrURWb2W",
        "outputId": "6f3cb16d-71de-4745-e4ed-f39d4e02050f"
      },
      "outputs": [
        {
          "data": {
            "text/html": [
              "&lt;NA&gt;"
            ],
            "text/latex": [
              "<NA>"
            ],
            "text/markdown": [
              "&lt;NA&gt;"
            ],
            "text/plain": [
              "[1] NA"
            ]
          },
          "metadata": {},
          "output_type": "display_data"
        }
      ],
      "source": [
        "NA == 1 # NOTE: is na equal to 1 "
      ]
    },
    {
      "cell_type": "markdown",
      "metadata": {
        "id": "seoKRayVWb2X"
      },
      "source": [
        "Since you cannot test `NA`s for equality, R has a special function for determining whether a value is `NA`:"
      ]
    },
    {
      "cell_type": "code",
      "execution_count": null,
      "metadata": {
        "id": "1ipMEZnoWb2X",
        "outputId": "728dc6da-7405-47f9-a8b3-82674bc90efa"
      },
      "outputs": [
        {
          "data": {
            "text/html": [
              "&lt;NA&gt;"
            ],
            "text/latex": [
              "<NA>"
            ],
            "text/markdown": [
              "&lt;NA&gt;"
            ],
            "text/plain": [
              "[1] NA"
            ]
          },
          "metadata": {},
          "output_type": "display_data"
        },
        {
          "data": {
            "text/html": [
              "TRUE"
            ],
            "text/latex": [
              "TRUE"
            ],
            "text/markdown": [
              "TRUE"
            ],
            "text/plain": [
              "[1] TRUE"
            ]
          },
          "metadata": {},
          "output_type": "display_data"
        },
        {
          "data": {
            "text/html": [
              "FALSE"
            ],
            "text/latex": [
              "FALSE"
            ],
            "text/markdown": [
              "FALSE"
            ],
            "text/plain": [
              "[1] FALSE"
            ]
          },
          "metadata": {},
          "output_type": "display_data"
        }
      ],
      "source": [
        "5 == NA\n",
        "\n",
        "is.na(NA) # NOTE: is this an na \n",
        "is.na(1) # NOTE: is na equal to 1 "
      ]
    },
    {
      "cell_type": "code",
      "execution_count": 8,
      "metadata": {
        "id": "AA13gFd3Wb2X",
        "colab": {
          "base_uri": "https://localhost:8080/",
          "height": 34
        },
        "outputId": "0222e93a-ad27-4800-bb4a-aacc238992e1"
      },
      "outputs": [
        {
          "output_type": "display_data",
          "data": {
            "text/html": [
              "<style>\n",
              ".list-inline {list-style: none; margin:0; padding: 0}\n",
              ".list-inline>li {display: inline-block}\n",
              ".list-inline>li:not(:last-child)::after {content: \"\\00b7\"; padding: 0 .5ex}\n",
              "</style>\n",
              "<ol class=list-inline><li>FALSE</li><li>FALSE</li><li>FALSE</li><li>TRUE</li></ol>\n"
            ],
            "text/markdown": "1. FALSE\n2. FALSE\n3. FALSE\n4. TRUE\n\n\n",
            "text/latex": "\\begin{enumerate*}\n\\item FALSE\n\\item FALSE\n\\item FALSE\n\\item TRUE\n\\end{enumerate*}\n",
            "text/plain": [
              "[1] FALSE FALSE FALSE  TRUE"
            ]
          },
          "metadata": {}
        }
      ],
      "source": [
        "# Examples of missing values with the ages vector\n",
        "ages=c(10,20,30,NA)\n",
        "is.na(ages) # NOTE: is each element in the vector a na"
      ]
    },
    {
      "cell_type": "markdown",
      "metadata": {
        "id": "OlYW6BbMWb2X"
      },
      "source": [
        "### Examples of filtering\n",
        "Let's use what we have just learned to evaluate some simple queries on the `flights` dataset. Let's first narrow down to all flights that departed on December 31:"
      ]
    },
    {
      "cell_type": "code",
      "execution_count": 10,
      "metadata": {
        "id": "o-_RIUC7Wb2X",
        "colab": {
          "base_uri": "https://localhost:8080/",
          "height": 1000
        },
        "outputId": "996b9901-4cc1-45c1-e516-c225d5a80858"
      },
      "outputs": [
        {
          "output_type": "display_data",
          "data": {
            "text/html": [
              "<table class=\"dataframe\">\n",
              "<caption>A tibble: 776 × 19</caption>\n",
              "<thead>\n",
              "\t<tr><th scope=col>year</th><th scope=col>month</th><th scope=col>day</th><th scope=col>dep_time</th><th scope=col>sched_dep_time</th><th scope=col>dep_delay</th><th scope=col>arr_time</th><th scope=col>sched_arr_time</th><th scope=col>arr_delay</th><th scope=col>carrier</th><th scope=col>flight</th><th scope=col>tailnum</th><th scope=col>origin</th><th scope=col>dest</th><th scope=col>air_time</th><th scope=col>distance</th><th scope=col>hour</th><th scope=col>minute</th><th scope=col>time_hour</th></tr>\n",
              "\t<tr><th scope=col>&lt;int&gt;</th><th scope=col>&lt;int&gt;</th><th scope=col>&lt;int&gt;</th><th scope=col>&lt;int&gt;</th><th scope=col>&lt;int&gt;</th><th scope=col>&lt;dbl&gt;</th><th scope=col>&lt;int&gt;</th><th scope=col>&lt;int&gt;</th><th scope=col>&lt;dbl&gt;</th><th scope=col>&lt;chr&gt;</th><th scope=col>&lt;int&gt;</th><th scope=col>&lt;chr&gt;</th><th scope=col>&lt;chr&gt;</th><th scope=col>&lt;chr&gt;</th><th scope=col>&lt;dbl&gt;</th><th scope=col>&lt;dbl&gt;</th><th scope=col>&lt;dbl&gt;</th><th scope=col>&lt;dbl&gt;</th><th scope=col>&lt;dttm&gt;</th></tr>\n",
              "</thead>\n",
              "<tbody>\n",
              "\t<tr><td>2013</td><td>12</td><td>31</td><td> 13</td><td>2359</td><td> 14</td><td> 439</td><td> 437</td><td>  2</td><td>B6</td><td> 839</td><td>N566JB</td><td>JFK</td><td>BQN</td><td>189</td><td>1576</td><td>23</td><td>59</td><td>2013-12-31 23:00:00</td></tr>\n",
              "\t<tr><td>2013</td><td>12</td><td>31</td><td> 18</td><td>2359</td><td> 19</td><td> 449</td><td> 444</td><td>  5</td><td>DL</td><td> 412</td><td>N713TW</td><td>JFK</td><td>SJU</td><td>192</td><td>1598</td><td>23</td><td>59</td><td>2013-12-31 23:00:00</td></tr>\n",
              "\t<tr><td>2013</td><td>12</td><td>31</td><td> 26</td><td>2245</td><td>101</td><td> 129</td><td>2353</td><td> 96</td><td>B6</td><td> 108</td><td>N374JB</td><td>JFK</td><td>PWM</td><td> 50</td><td> 273</td><td>22</td><td>45</td><td>2013-12-31 22:00:00</td></tr>\n",
              "\t<tr><td>2013</td><td>12</td><td>31</td><td>459</td><td> 500</td><td> -1</td><td> 655</td><td> 651</td><td>  4</td><td>US</td><td>1895</td><td>N557UW</td><td>EWR</td><td>CLT</td><td> 95</td><td> 529</td><td> 5</td><td> 0</td><td>2013-12-31 05:00:00</td></tr>\n",
              "\t<tr><td>2013</td><td>12</td><td>31</td><td>514</td><td> 515</td><td> -1</td><td> 814</td><td> 812</td><td>  2</td><td>UA</td><td> 700</td><td>N470UA</td><td>EWR</td><td>IAH</td><td>223</td><td>1400</td><td> 5</td><td>15</td><td>2013-12-31 05:00:00</td></tr>\n",
              "\t<tr><td>2013</td><td>12</td><td>31</td><td>549</td><td> 551</td><td> -2</td><td> 925</td><td> 900</td><td> 25</td><td>UA</td><td> 274</td><td>N577UA</td><td>EWR</td><td>LAX</td><td>346</td><td>2454</td><td> 5</td><td>51</td><td>2013-12-31 05:00:00</td></tr>\n",
              "\t<tr><td>2013</td><td>12</td><td>31</td><td>550</td><td> 600</td><td>-10</td><td> 725</td><td> 745</td><td>-20</td><td>AA</td><td> 301</td><td>N3CXAA</td><td>LGA</td><td>ORD</td><td>127</td><td> 733</td><td> 6</td><td> 0</td><td>2013-12-31 06:00:00</td></tr>\n",
              "\t<tr><td>2013</td><td>12</td><td>31</td><td>552</td><td> 600</td><td> -8</td><td> 811</td><td> 826</td><td>-15</td><td>EV</td><td>3825</td><td>N14916</td><td>EWR</td><td>IND</td><td>118</td><td> 645</td><td> 6</td><td> 0</td><td>2013-12-31 06:00:00</td></tr>\n",
              "\t<tr><td>2013</td><td>12</td><td>31</td><td>553</td><td> 600</td><td> -7</td><td> 741</td><td> 754</td><td>-13</td><td>DL</td><td> 731</td><td>N333NB</td><td>LGA</td><td>DTW</td><td> 86</td><td> 502</td><td> 6</td><td> 0</td><td>2013-12-31 06:00:00</td></tr>\n",
              "\t<tr><td>2013</td><td>12</td><td>31</td><td>554</td><td> 550</td><td>  4</td><td>1024</td><td>1027</td><td> -3</td><td>B6</td><td> 939</td><td>N552JB</td><td>JFK</td><td>BQN</td><td>195</td><td>1576</td><td> 5</td><td>50</td><td>2013-12-31 05:00:00</td></tr>\n",
              "\t<tr><td>2013</td><td>12</td><td>31</td><td>555</td><td> 600</td><td> -5</td><td> 901</td><td> 849</td><td> 12</td><td>B6</td><td> 353</td><td>N746JB</td><td>JFK</td><td>PBI</td><td>167</td><td>1028</td><td> 6</td><td> 0</td><td>2013-12-31 06:00:00</td></tr>\n",
              "\t<tr><td>2013</td><td>12</td><td>31</td><td>555</td><td> 600</td><td> -5</td><td> 835</td><td> 831</td><td>  4</td><td>DL</td><td> 904</td><td>N3741S</td><td>LGA</td><td>ATL</td><td>137</td><td> 762</td><td> 6</td><td> 0</td><td>2013-12-31 06:00:00</td></tr>\n",
              "\t<tr><td>2013</td><td>12</td><td>31</td><td>555</td><td> 551</td><td>  4</td><td> 853</td><td> 851</td><td>  2</td><td>UA</td><td> 566</td><td>N491UA</td><td>EWR</td><td>TPA</td><td>164</td><td> 997</td><td> 5</td><td>51</td><td>2013-12-31 05:00:00</td></tr>\n",
              "\t<tr><td>2013</td><td>12</td><td>31</td><td>556</td><td> 600</td><td> -4</td><td> 909</td><td> 846</td><td> 23</td><td>B6</td><td> 583</td><td>N715JB</td><td>JFK</td><td>MCO</td><td>162</td><td> 944</td><td> 6</td><td> 0</td><td>2013-12-31 06:00:00</td></tr>\n",
              "\t<tr><td>2013</td><td>12</td><td>31</td><td>556</td><td> 605</td><td> -9</td><td> 808</td><td> 814</td><td> -6</td><td>DL</td><td>1919</td><td>N958DL</td><td>LGA</td><td>MSP</td><td>160</td><td>1020</td><td> 6</td><td> 5</td><td>2013-12-31 06:00:00</td></tr>\n",
              "\t<tr><td>2013</td><td>12</td><td>31</td><td>557</td><td> 603</td><td> -6</td><td> 719</td><td> 719</td><td>  0</td><td>EV</td><td>4241</td><td>N15574</td><td>EWR</td><td>DCA</td><td> 45</td><td> 199</td><td> 6</td><td> 3</td><td>2013-12-31 06:00:00</td></tr>\n",
              "\t<tr><td>2013</td><td>12</td><td>31</td><td>558</td><td> 600</td><td> -2</td><td> 919</td><td> 905</td><td> 14</td><td>AA</td><td>1175</td><td>N3JEAA</td><td>LGA</td><td>MIA</td><td>173</td><td>1096</td><td> 6</td><td> 0</td><td>2013-12-31 06:00:00</td></tr>\n",
              "\t<tr><td>2013</td><td>12</td><td>31</td><td>559</td><td> 600</td><td> -1</td><td> 917</td><td> 855</td><td> 22</td><td>B6</td><td> 605</td><td>N597JB</td><td>EWR</td><td>FLL</td><td>167</td><td>1065</td><td> 6</td><td> 0</td><td>2013-12-31 06:00:00</td></tr>\n",
              "\t<tr><td>2013</td><td>12</td><td>31</td><td>600</td><td> 540</td><td> 20</td><td> 928</td><td> 850</td><td> 38</td><td>AA</td><td>2243</td><td>N5EMAA</td><td>JFK</td><td>MIA</td><td>171</td><td>1089</td><td> 5</td><td>40</td><td>2013-12-31 05:00:00</td></tr>\n",
              "\t<tr><td>2013</td><td>12</td><td>31</td><td>602</td><td> 605</td><td> -3</td><td> 744</td><td> 805</td><td>-21</td><td>DL</td><td>2505</td><td>N358NB</td><td>EWR</td><td>DTW</td><td> 87</td><td> 488</td><td> 6</td><td> 5</td><td>2013-12-31 06:00:00</td></tr>\n",
              "\t<tr><td>2013</td><td>12</td><td>31</td><td>602</td><td> 605</td><td> -3</td><td> 708</td><td> 723</td><td>-15</td><td>EV</td><td>6177</td><td>N14543</td><td>EWR</td><td>IAD</td><td> 45</td><td> 212</td><td> 6</td><td> 5</td><td>2013-12-31 06:00:00</td></tr>\n",
              "\t<tr><td>2013</td><td>12</td><td>31</td><td>603</td><td> 611</td><td> -8</td><td>1045</td><td>1055</td><td>-10</td><td>B6</td><td>1403</td><td>N547JB</td><td>JFK</td><td>SJU</td><td>198</td><td>1598</td><td> 6</td><td>11</td><td>2013-12-31 06:00:00</td></tr>\n",
              "\t<tr><td>2013</td><td>12</td><td>31</td><td>607</td><td> 600</td><td>  7</td><td> 848</td><td> 825</td><td> 23</td><td>WN</td><td>1716</td><td>N7740A</td><td>LGA</td><td>ATL</td><td>137</td><td> 762</td><td> 6</td><td> 0</td><td>2013-12-31 06:00:00</td></tr>\n",
              "\t<tr><td>2013</td><td>12</td><td>31</td><td>608</td><td> 615</td><td> -7</td><td> 812</td><td> 818</td><td> -6</td><td>US</td><td>1963</td><td>N192UW</td><td>EWR</td><td>CLT</td><td>106</td><td> 529</td><td> 6</td><td>15</td><td>2013-12-31 06:00:00</td></tr>\n",
              "\t<tr><td>2013</td><td>12</td><td>31</td><td>609</td><td> 610</td><td> -1</td><td> 911</td><td> 915</td><td> -4</td><td>AA</td><td>1205</td><td>N5DHAA</td><td>EWR</td><td>MIA</td><td>163</td><td>1085</td><td> 6</td><td>10</td><td>2013-12-31 06:00:00</td></tr>\n",
              "\t<tr><td>2013</td><td>12</td><td>31</td><td>609</td><td> 615</td><td> -6</td><td> 848</td><td> 850</td><td> -2</td><td>DL</td><td> 404</td><td>N392DA</td><td>JFK</td><td>ATL</td><td>133</td><td> 760</td><td> 6</td><td>15</td><td>2013-12-31 06:00:00</td></tr>\n",
              "\t<tr><td>2013</td><td>12</td><td>31</td><td>609</td><td> 614</td><td> -5</td><td> 755</td><td> 751</td><td>  4</td><td>EV</td><td>3812</td><td>N13994</td><td>EWR</td><td>RDU</td><td> 81</td><td> 416</td><td> 6</td><td>14</td><td>2013-12-31 06:00:00</td></tr>\n",
              "\t<tr><td>2013</td><td>12</td><td>31</td><td>610</td><td> 615</td><td> -5</td><td> 828</td><td> 849</td><td>-21</td><td>DL</td><td> 479</td><td>N3766 </td><td>JFK</td><td>ATL</td><td>119</td><td> 760</td><td> 6</td><td>15</td><td>2013-12-31 06:00:00</td></tr>\n",
              "\t<tr><td>2013</td><td>12</td><td>31</td><td>616</td><td> 611</td><td>  5</td><td> 933</td><td> 912</td><td> 21</td><td>B6</td><td> 601</td><td>N643JB</td><td>JFK</td><td>FLL</td><td>173</td><td>1069</td><td> 6</td><td>11</td><td>2013-12-31 06:00:00</td></tr>\n",
              "\t<tr><td>2013</td><td>12</td><td>31</td><td>616</td><td> 630</td><td>-14</td><td> 922</td><td> 919</td><td>  3</td><td>B6</td><td>1099</td><td>N563JB</td><td>LGA</td><td>MCO</td><td>159</td><td> 950</td><td> 6</td><td>30</td><td>2013-12-31 06:00:00</td></tr>\n",
              "\t<tr><td>⋮</td><td>⋮</td><td>⋮</td><td>⋮</td><td>⋮</td><td>⋮</td><td>⋮</td><td>⋮</td><td>⋮</td><td>⋮</td><td>⋮</td><td>⋮</td><td>⋮</td><td>⋮</td><td>⋮</td><td>⋮</td><td>⋮</td><td>⋮</td><td>⋮</td></tr>\n",
              "\t<tr><td>2013</td><td>12</td><td>31</td><td>2155</td><td>2039</td><td> 76</td><td> 253</td><td>2355</td><td> NA</td><td>B6</td><td>1205</td><td>N627JB</td><td>JFK</td><td>PDX</td><td> NA</td><td>2454</td><td>20</td><td>39</td><td>2013-12-31 20:00:00</td></tr>\n",
              "\t<tr><td>2013</td><td>12</td><td>31</td><td>2155</td><td>2150</td><td>  5</td><td> 110</td><td>  51</td><td> 19</td><td>B6</td><td>1901</td><td>N729JB</td><td>JFK</td><td>FLL</td><td>164</td><td>1069</td><td>21</td><td>50</td><td>2013-12-31 21:00:00</td></tr>\n",
              "\t<tr><td>2013</td><td>12</td><td>31</td><td>2159</td><td>2155</td><td>  4</td><td>  55</td><td>  46</td><td>  9</td><td>B6</td><td>2053</td><td>N593JB</td><td>JFK</td><td>PBI</td><td>155</td><td>1028</td><td>21</td><td>55</td><td>2013-12-31 21:00:00</td></tr>\n",
              "\t<tr><td>2013</td><td>12</td><td>31</td><td>2206</td><td>2110</td><td> 56</td><td>  44</td><td>2339</td><td> 65</td><td>B6</td><td> 775</td><td>N184JB</td><td>JFK</td><td>MSY</td><td>195</td><td>1182</td><td>21</td><td>10</td><td>2013-12-31 21:00:00</td></tr>\n",
              "\t<tr><td>2013</td><td>12</td><td>31</td><td>2211</td><td>2159</td><td> 12</td><td> 100</td><td>  45</td><td> 15</td><td>B6</td><td>1183</td><td>N715JB</td><td>JFK</td><td>MCO</td><td>148</td><td> 944</td><td>21</td><td>59</td><td>2013-12-31 21:00:00</td></tr>\n",
              "\t<tr><td>2013</td><td>12</td><td>31</td><td>2218</td><td>2219</td><td> -1</td><td> 315</td><td> 304</td><td> 11</td><td>B6</td><td>1203</td><td>N625JB</td><td>JFK</td><td>SJU</td><td>202</td><td>1598</td><td>22</td><td>19</td><td>2013-12-31 22:00:00</td></tr>\n",
              "\t<tr><td>2013</td><td>12</td><td>31</td><td>2235</td><td>2245</td><td>-10</td><td>2351</td><td>2355</td><td> -4</td><td>B6</td><td> 234</td><td>N355JB</td><td>JFK</td><td>BTV</td><td> 49</td><td> 266</td><td>22</td><td>45</td><td>2013-12-31 22:00:00</td></tr>\n",
              "\t<tr><td>2013</td><td>12</td><td>31</td><td>2245</td><td>2250</td><td> -5</td><td>2359</td><td>2356</td><td>  3</td><td>B6</td><td>1816</td><td>N318JB</td><td>JFK</td><td>SYR</td><td> 51</td><td> 209</td><td>22</td><td>50</td><td>2013-12-31 22:00:00</td></tr>\n",
              "\t<tr><td>2013</td><td>12</td><td>31</td><td>2310</td><td>2255</td><td> 15</td><td>   7</td><td>2356</td><td> 11</td><td>B6</td><td> 718</td><td>N279JB</td><td>JFK</td><td>BOS</td><td> 40</td><td> 187</td><td>22</td><td>55</td><td>2013-12-31 22:00:00</td></tr>\n",
              "\t<tr><td>2013</td><td>12</td><td>31</td><td>2321</td><td>2250</td><td> 31</td><td>  46</td><td>   8</td><td> 38</td><td>B6</td><td>2002</td><td>N179JB</td><td>JFK</td><td>BUF</td><td> 66</td><td> 301</td><td>22</td><td>50</td><td>2013-12-31 22:00:00</td></tr>\n",
              "\t<tr><td>2013</td><td>12</td><td>31</td><td>2328</td><td>2330</td><td> -2</td><td> 412</td><td> 409</td><td>  3</td><td>B6</td><td>1389</td><td>N651JB</td><td>EWR</td><td>SJU</td><td>198</td><td>1608</td><td>23</td><td>30</td><td>2013-12-31 23:00:00</td></tr>\n",
              "\t<tr><td>2013</td><td>12</td><td>31</td><td>2332</td><td>2245</td><td> 47</td><td>  58</td><td>   3</td><td> 55</td><td>B6</td><td> 486</td><td>N334JB</td><td>JFK</td><td>ROC</td><td> 60</td><td> 264</td><td>22</td><td>45</td><td>2013-12-31 22:00:00</td></tr>\n",
              "\t<tr><td>2013</td><td>12</td><td>31</td><td>2355</td><td>2359</td><td> -4</td><td> 430</td><td> 440</td><td>-10</td><td>B6</td><td>1503</td><td>N509JB</td><td>JFK</td><td>SJU</td><td>195</td><td>1598</td><td>23</td><td>59</td><td>2013-12-31 23:00:00</td></tr>\n",
              "\t<tr><td>2013</td><td>12</td><td>31</td><td>2356</td><td>2359</td><td> -3</td><td> 436</td><td> 445</td><td> -9</td><td>B6</td><td> 745</td><td>N665JB</td><td>JFK</td><td>PSE</td><td>200</td><td>1617</td><td>23</td><td>59</td><td>2013-12-31 23:00:00</td></tr>\n",
              "\t<tr><td>2013</td><td>12</td><td>31</td><td>  NA</td><td>1520</td><td> NA</td><td>  NA</td><td>1705</td><td> NA</td><td>AA</td><td> 341</td><td>N568AA</td><td>LGA</td><td>ORD</td><td> NA</td><td> 733</td><td>15</td><td>20</td><td>2013-12-31 15:00:00</td></tr>\n",
              "\t<tr><td>2013</td><td>12</td><td>31</td><td>  NA</td><td>2025</td><td> NA</td><td>  NA</td><td>2205</td><td> NA</td><td>AA</td><td> 371</td><td>N482AA</td><td>LGA</td><td>ORD</td><td> NA</td><td> 733</td><td>20</td><td>25</td><td>2013-12-31 20:00:00</td></tr>\n",
              "\t<tr><td>2013</td><td>12</td><td>31</td><td>  NA</td><td>1932</td><td> NA</td><td>  NA</td><td>2305</td><td> NA</td><td>B6</td><td> 161</td><td>N516JB</td><td>JFK</td><td>SMF</td><td> NA</td><td>2521</td><td>19</td><td>32</td><td>2013-12-31 19:00:00</td></tr>\n",
              "\t<tr><td>2013</td><td>12</td><td>31</td><td>  NA</td><td>1505</td><td> NA</td><td>  NA</td><td>1725</td><td> NA</td><td>EV</td><td>4181</td><td>N24103</td><td>EWR</td><td>MCI</td><td> NA</td><td>1092</td><td>15</td><td> 5</td><td>2013-12-31 15:00:00</td></tr>\n",
              "\t<tr><td>2013</td><td>12</td><td>31</td><td>  NA</td><td>1000</td><td> NA</td><td>  NA</td><td>1252</td><td> NA</td><td>UA</td><td>1124</td><td>NA    </td><td>EWR</td><td>EGE</td><td> NA</td><td>1725</td><td>10</td><td> 0</td><td>2013-12-31 10:00:00</td></tr>\n",
              "\t<tr><td>2013</td><td>12</td><td>31</td><td>  NA</td><td> 840</td><td> NA</td><td>  NA</td><td>1205</td><td> NA</td><td>UA</td><td>1151</td><td>NA    </td><td>EWR</td><td>SEA</td><td> NA</td><td>2402</td><td> 8</td><td>40</td><td>2013-12-31 08:00:00</td></tr>\n",
              "\t<tr><td>2013</td><td>12</td><td>31</td><td>  NA</td><td> 754</td><td> NA</td><td>  NA</td><td>1118</td><td> NA</td><td>UA</td><td>1455</td><td>NA    </td><td>EWR</td><td>LAX</td><td> NA</td><td>2454</td><td> 7</td><td>54</td><td>2013-12-31 07:00:00</td></tr>\n",
              "\t<tr><td>2013</td><td>12</td><td>31</td><td>  NA</td><td>2000</td><td> NA</td><td>  NA</td><td>2146</td><td> NA</td><td>UA</td><td>1482</td><td>NA    </td><td>EWR</td><td>ORD</td><td> NA</td><td> 719</td><td>20</td><td> 0</td><td>2013-12-31 20:00:00</td></tr>\n",
              "\t<tr><td>2013</td><td>12</td><td>31</td><td>  NA</td><td>1500</td><td> NA</td><td>  NA</td><td>1817</td><td> NA</td><td>UA</td><td>1483</td><td>NA    </td><td>EWR</td><td>AUS</td><td> NA</td><td>1504</td><td>15</td><td> 0</td><td>2013-12-31 15:00:00</td></tr>\n",
              "\t<tr><td>2013</td><td>12</td><td>31</td><td>  NA</td><td>1430</td><td> NA</td><td>  NA</td><td>1750</td><td> NA</td><td>UA</td><td>1493</td><td>NA    </td><td>EWR</td><td>LAX</td><td> NA</td><td>2454</td><td>14</td><td>30</td><td>2013-12-31 14:00:00</td></tr>\n",
              "\t<tr><td>2013</td><td>12</td><td>31</td><td>  NA</td><td> 855</td><td> NA</td><td>  NA</td><td>1142</td><td> NA</td><td>UA</td><td>1506</td><td>NA    </td><td>EWR</td><td>JAC</td><td> NA</td><td>1874</td><td> 8</td><td>55</td><td>2013-12-31 08:00:00</td></tr>\n",
              "\t<tr><td>2013</td><td>12</td><td>31</td><td>  NA</td><td> 705</td><td> NA</td><td>  NA</td><td> 931</td><td> NA</td><td>UA</td><td>1729</td><td>NA    </td><td>EWR</td><td>DEN</td><td> NA</td><td>1605</td><td> 7</td><td> 5</td><td>2013-12-31 07:00:00</td></tr>\n",
              "\t<tr><td>2013</td><td>12</td><td>31</td><td>  NA</td><td> 825</td><td> NA</td><td>  NA</td><td>1029</td><td> NA</td><td>US</td><td>1831</td><td>NA    </td><td>JFK</td><td>CLT</td><td> NA</td><td> 541</td><td> 8</td><td>25</td><td>2013-12-31 08:00:00</td></tr>\n",
              "\t<tr><td>2013</td><td>12</td><td>31</td><td>  NA</td><td>1615</td><td> NA</td><td>  NA</td><td>1800</td><td> NA</td><td>MQ</td><td>3301</td><td>N844MQ</td><td>LGA</td><td>RDU</td><td> NA</td><td> 431</td><td>16</td><td>15</td><td>2013-12-31 16:00:00</td></tr>\n",
              "\t<tr><td>2013</td><td>12</td><td>31</td><td>  NA</td><td> 600</td><td> NA</td><td>  NA</td><td> 735</td><td> NA</td><td>UA</td><td> 219</td><td>NA    </td><td>EWR</td><td>ORD</td><td> NA</td><td> 719</td><td> 6</td><td> 0</td><td>2013-12-31 06:00:00</td></tr>\n",
              "\t<tr><td>2013</td><td>12</td><td>31</td><td>  NA</td><td> 830</td><td> NA</td><td>  NA</td><td>1154</td><td> NA</td><td>UA</td><td> 443</td><td>NA    </td><td>JFK</td><td>LAX</td><td> NA</td><td>2475</td><td> 8</td><td>30</td><td>2013-12-31 08:00:00</td></tr>\n",
              "</tbody>\n",
              "</table>\n"
            ],
            "text/markdown": "\nA tibble: 776 × 19\n\n| year &lt;int&gt; | month &lt;int&gt; | day &lt;int&gt; | dep_time &lt;int&gt; | sched_dep_time &lt;int&gt; | dep_delay &lt;dbl&gt; | arr_time &lt;int&gt; | sched_arr_time &lt;int&gt; | arr_delay &lt;dbl&gt; | carrier &lt;chr&gt; | flight &lt;int&gt; | tailnum &lt;chr&gt; | origin &lt;chr&gt; | dest &lt;chr&gt; | air_time &lt;dbl&gt; | distance &lt;dbl&gt; | hour &lt;dbl&gt; | minute &lt;dbl&gt; | time_hour &lt;dttm&gt; |\n|---|---|---|---|---|---|---|---|---|---|---|---|---|---|---|---|---|---|---|\n| 2013 | 12 | 31 |  13 | 2359 |  14 |  439 |  437 |   2 | B6 |  839 | N566JB | JFK | BQN | 189 | 1576 | 23 | 59 | 2013-12-31 23:00:00 |\n| 2013 | 12 | 31 |  18 | 2359 |  19 |  449 |  444 |   5 | DL |  412 | N713TW | JFK | SJU | 192 | 1598 | 23 | 59 | 2013-12-31 23:00:00 |\n| 2013 | 12 | 31 |  26 | 2245 | 101 |  129 | 2353 |  96 | B6 |  108 | N374JB | JFK | PWM |  50 |  273 | 22 | 45 | 2013-12-31 22:00:00 |\n| 2013 | 12 | 31 | 459 |  500 |  -1 |  655 |  651 |   4 | US | 1895 | N557UW | EWR | CLT |  95 |  529 |  5 |  0 | 2013-12-31 05:00:00 |\n| 2013 | 12 | 31 | 514 |  515 |  -1 |  814 |  812 |   2 | UA |  700 | N470UA | EWR | IAH | 223 | 1400 |  5 | 15 | 2013-12-31 05:00:00 |\n| 2013 | 12 | 31 | 549 |  551 |  -2 |  925 |  900 |  25 | UA |  274 | N577UA | EWR | LAX | 346 | 2454 |  5 | 51 | 2013-12-31 05:00:00 |\n| 2013 | 12 | 31 | 550 |  600 | -10 |  725 |  745 | -20 | AA |  301 | N3CXAA | LGA | ORD | 127 |  733 |  6 |  0 | 2013-12-31 06:00:00 |\n| 2013 | 12 | 31 | 552 |  600 |  -8 |  811 |  826 | -15 | EV | 3825 | N14916 | EWR | IND | 118 |  645 |  6 |  0 | 2013-12-31 06:00:00 |\n| 2013 | 12 | 31 | 553 |  600 |  -7 |  741 |  754 | -13 | DL |  731 | N333NB | LGA | DTW |  86 |  502 |  6 |  0 | 2013-12-31 06:00:00 |\n| 2013 | 12 | 31 | 554 |  550 |   4 | 1024 | 1027 |  -3 | B6 |  939 | N552JB | JFK | BQN | 195 | 1576 |  5 | 50 | 2013-12-31 05:00:00 |\n| 2013 | 12 | 31 | 555 |  600 |  -5 |  901 |  849 |  12 | B6 |  353 | N746JB | JFK | PBI | 167 | 1028 |  6 |  0 | 2013-12-31 06:00:00 |\n| 2013 | 12 | 31 | 555 |  600 |  -5 |  835 |  831 |   4 | DL |  904 | N3741S | LGA | ATL | 137 |  762 |  6 |  0 | 2013-12-31 06:00:00 |\n| 2013 | 12 | 31 | 555 |  551 |   4 |  853 |  851 |   2 | UA |  566 | N491UA | EWR | TPA | 164 |  997 |  5 | 51 | 2013-12-31 05:00:00 |\n| 2013 | 12 | 31 | 556 |  600 |  -4 |  909 |  846 |  23 | B6 |  583 | N715JB | JFK | MCO | 162 |  944 |  6 |  0 | 2013-12-31 06:00:00 |\n| 2013 | 12 | 31 | 556 |  605 |  -9 |  808 |  814 |  -6 | DL | 1919 | N958DL | LGA | MSP | 160 | 1020 |  6 |  5 | 2013-12-31 06:00:00 |\n| 2013 | 12 | 31 | 557 |  603 |  -6 |  719 |  719 |   0 | EV | 4241 | N15574 | EWR | DCA |  45 |  199 |  6 |  3 | 2013-12-31 06:00:00 |\n| 2013 | 12 | 31 | 558 |  600 |  -2 |  919 |  905 |  14 | AA | 1175 | N3JEAA | LGA | MIA | 173 | 1096 |  6 |  0 | 2013-12-31 06:00:00 |\n| 2013 | 12 | 31 | 559 |  600 |  -1 |  917 |  855 |  22 | B6 |  605 | N597JB | EWR | FLL | 167 | 1065 |  6 |  0 | 2013-12-31 06:00:00 |\n| 2013 | 12 | 31 | 600 |  540 |  20 |  928 |  850 |  38 | AA | 2243 | N5EMAA | JFK | MIA | 171 | 1089 |  5 | 40 | 2013-12-31 05:00:00 |\n| 2013 | 12 | 31 | 602 |  605 |  -3 |  744 |  805 | -21 | DL | 2505 | N358NB | EWR | DTW |  87 |  488 |  6 |  5 | 2013-12-31 06:00:00 |\n| 2013 | 12 | 31 | 602 |  605 |  -3 |  708 |  723 | -15 | EV | 6177 | N14543 | EWR | IAD |  45 |  212 |  6 |  5 | 2013-12-31 06:00:00 |\n| 2013 | 12 | 31 | 603 |  611 |  -8 | 1045 | 1055 | -10 | B6 | 1403 | N547JB | JFK | SJU | 198 | 1598 |  6 | 11 | 2013-12-31 06:00:00 |\n| 2013 | 12 | 31 | 607 |  600 |   7 |  848 |  825 |  23 | WN | 1716 | N7740A | LGA | ATL | 137 |  762 |  6 |  0 | 2013-12-31 06:00:00 |\n| 2013 | 12 | 31 | 608 |  615 |  -7 |  812 |  818 |  -6 | US | 1963 | N192UW | EWR | CLT | 106 |  529 |  6 | 15 | 2013-12-31 06:00:00 |\n| 2013 | 12 | 31 | 609 |  610 |  -1 |  911 |  915 |  -4 | AA | 1205 | N5DHAA | EWR | MIA | 163 | 1085 |  6 | 10 | 2013-12-31 06:00:00 |\n| 2013 | 12 | 31 | 609 |  615 |  -6 |  848 |  850 |  -2 | DL |  404 | N392DA | JFK | ATL | 133 |  760 |  6 | 15 | 2013-12-31 06:00:00 |\n| 2013 | 12 | 31 | 609 |  614 |  -5 |  755 |  751 |   4 | EV | 3812 | N13994 | EWR | RDU |  81 |  416 |  6 | 14 | 2013-12-31 06:00:00 |\n| 2013 | 12 | 31 | 610 |  615 |  -5 |  828 |  849 | -21 | DL |  479 | N3766  | JFK | ATL | 119 |  760 |  6 | 15 | 2013-12-31 06:00:00 |\n| 2013 | 12 | 31 | 616 |  611 |   5 |  933 |  912 |  21 | B6 |  601 | N643JB | JFK | FLL | 173 | 1069 |  6 | 11 | 2013-12-31 06:00:00 |\n| 2013 | 12 | 31 | 616 |  630 | -14 |  922 |  919 |   3 | B6 | 1099 | N563JB | LGA | MCO | 159 |  950 |  6 | 30 | 2013-12-31 06:00:00 |\n| ⋮ | ⋮ | ⋮ | ⋮ | ⋮ | ⋮ | ⋮ | ⋮ | ⋮ | ⋮ | ⋮ | ⋮ | ⋮ | ⋮ | ⋮ | ⋮ | ⋮ | ⋮ | ⋮ |\n| 2013 | 12 | 31 | 2155 | 2039 |  76 |  253 | 2355 |  NA | B6 | 1205 | N627JB | JFK | PDX |  NA | 2454 | 20 | 39 | 2013-12-31 20:00:00 |\n| 2013 | 12 | 31 | 2155 | 2150 |   5 |  110 |   51 |  19 | B6 | 1901 | N729JB | JFK | FLL | 164 | 1069 | 21 | 50 | 2013-12-31 21:00:00 |\n| 2013 | 12 | 31 | 2159 | 2155 |   4 |   55 |   46 |   9 | B6 | 2053 | N593JB | JFK | PBI | 155 | 1028 | 21 | 55 | 2013-12-31 21:00:00 |\n| 2013 | 12 | 31 | 2206 | 2110 |  56 |   44 | 2339 |  65 | B6 |  775 | N184JB | JFK | MSY | 195 | 1182 | 21 | 10 | 2013-12-31 21:00:00 |\n| 2013 | 12 | 31 | 2211 | 2159 |  12 |  100 |   45 |  15 | B6 | 1183 | N715JB | JFK | MCO | 148 |  944 | 21 | 59 | 2013-12-31 21:00:00 |\n| 2013 | 12 | 31 | 2218 | 2219 |  -1 |  315 |  304 |  11 | B6 | 1203 | N625JB | JFK | SJU | 202 | 1598 | 22 | 19 | 2013-12-31 22:00:00 |\n| 2013 | 12 | 31 | 2235 | 2245 | -10 | 2351 | 2355 |  -4 | B6 |  234 | N355JB | JFK | BTV |  49 |  266 | 22 | 45 | 2013-12-31 22:00:00 |\n| 2013 | 12 | 31 | 2245 | 2250 |  -5 | 2359 | 2356 |   3 | B6 | 1816 | N318JB | JFK | SYR |  51 |  209 | 22 | 50 | 2013-12-31 22:00:00 |\n| 2013 | 12 | 31 | 2310 | 2255 |  15 |    7 | 2356 |  11 | B6 |  718 | N279JB | JFK | BOS |  40 |  187 | 22 | 55 | 2013-12-31 22:00:00 |\n| 2013 | 12 | 31 | 2321 | 2250 |  31 |   46 |    8 |  38 | B6 | 2002 | N179JB | JFK | BUF |  66 |  301 | 22 | 50 | 2013-12-31 22:00:00 |\n| 2013 | 12 | 31 | 2328 | 2330 |  -2 |  412 |  409 |   3 | B6 | 1389 | N651JB | EWR | SJU | 198 | 1608 | 23 | 30 | 2013-12-31 23:00:00 |\n| 2013 | 12 | 31 | 2332 | 2245 |  47 |   58 |    3 |  55 | B6 |  486 | N334JB | JFK | ROC |  60 |  264 | 22 | 45 | 2013-12-31 22:00:00 |\n| 2013 | 12 | 31 | 2355 | 2359 |  -4 |  430 |  440 | -10 | B6 | 1503 | N509JB | JFK | SJU | 195 | 1598 | 23 | 59 | 2013-12-31 23:00:00 |\n| 2013 | 12 | 31 | 2356 | 2359 |  -3 |  436 |  445 |  -9 | B6 |  745 | N665JB | JFK | PSE | 200 | 1617 | 23 | 59 | 2013-12-31 23:00:00 |\n| 2013 | 12 | 31 |   NA | 1520 |  NA |   NA | 1705 |  NA | AA |  341 | N568AA | LGA | ORD |  NA |  733 | 15 | 20 | 2013-12-31 15:00:00 |\n| 2013 | 12 | 31 |   NA | 2025 |  NA |   NA | 2205 |  NA | AA |  371 | N482AA | LGA | ORD |  NA |  733 | 20 | 25 | 2013-12-31 20:00:00 |\n| 2013 | 12 | 31 |   NA | 1932 |  NA |   NA | 2305 |  NA | B6 |  161 | N516JB | JFK | SMF |  NA | 2521 | 19 | 32 | 2013-12-31 19:00:00 |\n| 2013 | 12 | 31 |   NA | 1505 |  NA |   NA | 1725 |  NA | EV | 4181 | N24103 | EWR | MCI |  NA | 1092 | 15 |  5 | 2013-12-31 15:00:00 |\n| 2013 | 12 | 31 |   NA | 1000 |  NA |   NA | 1252 |  NA | UA | 1124 | NA     | EWR | EGE |  NA | 1725 | 10 |  0 | 2013-12-31 10:00:00 |\n| 2013 | 12 | 31 |   NA |  840 |  NA |   NA | 1205 |  NA | UA | 1151 | NA     | EWR | SEA |  NA | 2402 |  8 | 40 | 2013-12-31 08:00:00 |\n| 2013 | 12 | 31 |   NA |  754 |  NA |   NA | 1118 |  NA | UA | 1455 | NA     | EWR | LAX |  NA | 2454 |  7 | 54 | 2013-12-31 07:00:00 |\n| 2013 | 12 | 31 |   NA | 2000 |  NA |   NA | 2146 |  NA | UA | 1482 | NA     | EWR | ORD |  NA |  719 | 20 |  0 | 2013-12-31 20:00:00 |\n| 2013 | 12 | 31 |   NA | 1500 |  NA |   NA | 1817 |  NA | UA | 1483 | NA     | EWR | AUS |  NA | 1504 | 15 |  0 | 2013-12-31 15:00:00 |\n| 2013 | 12 | 31 |   NA | 1430 |  NA |   NA | 1750 |  NA | UA | 1493 | NA     | EWR | LAX |  NA | 2454 | 14 | 30 | 2013-12-31 14:00:00 |\n| 2013 | 12 | 31 |   NA |  855 |  NA |   NA | 1142 |  NA | UA | 1506 | NA     | EWR | JAC |  NA | 1874 |  8 | 55 | 2013-12-31 08:00:00 |\n| 2013 | 12 | 31 |   NA |  705 |  NA |   NA |  931 |  NA | UA | 1729 | NA     | EWR | DEN |  NA | 1605 |  7 |  5 | 2013-12-31 07:00:00 |\n| 2013 | 12 | 31 |   NA |  825 |  NA |   NA | 1029 |  NA | US | 1831 | NA     | JFK | CLT |  NA |  541 |  8 | 25 | 2013-12-31 08:00:00 |\n| 2013 | 12 | 31 |   NA | 1615 |  NA |   NA | 1800 |  NA | MQ | 3301 | N844MQ | LGA | RDU |  NA |  431 | 16 | 15 | 2013-12-31 16:00:00 |\n| 2013 | 12 | 31 |   NA |  600 |  NA |   NA |  735 |  NA | UA |  219 | NA     | EWR | ORD |  NA |  719 |  6 |  0 | 2013-12-31 06:00:00 |\n| 2013 | 12 | 31 |   NA |  830 |  NA |   NA | 1154 |  NA | UA |  443 | NA     | JFK | LAX |  NA | 2475 |  8 | 30 | 2013-12-31 08:00:00 |\n\n",
            "text/latex": "A tibble: 776 × 19\n\\begin{tabular}{lllllllllllllllllll}\n year & month & day & dep\\_time & sched\\_dep\\_time & dep\\_delay & arr\\_time & sched\\_arr\\_time & arr\\_delay & carrier & flight & tailnum & origin & dest & air\\_time & distance & hour & minute & time\\_hour\\\\\n <int> & <int> & <int> & <int> & <int> & <dbl> & <int> & <int> & <dbl> & <chr> & <int> & <chr> & <chr> & <chr> & <dbl> & <dbl> & <dbl> & <dbl> & <dttm>\\\\\n\\hline\n\t 2013 & 12 & 31 &  13 & 2359 &  14 &  439 &  437 &   2 & B6 &  839 & N566JB & JFK & BQN & 189 & 1576 & 23 & 59 & 2013-12-31 23:00:00\\\\\n\t 2013 & 12 & 31 &  18 & 2359 &  19 &  449 &  444 &   5 & DL &  412 & N713TW & JFK & SJU & 192 & 1598 & 23 & 59 & 2013-12-31 23:00:00\\\\\n\t 2013 & 12 & 31 &  26 & 2245 & 101 &  129 & 2353 &  96 & B6 &  108 & N374JB & JFK & PWM &  50 &  273 & 22 & 45 & 2013-12-31 22:00:00\\\\\n\t 2013 & 12 & 31 & 459 &  500 &  -1 &  655 &  651 &   4 & US & 1895 & N557UW & EWR & CLT &  95 &  529 &  5 &  0 & 2013-12-31 05:00:00\\\\\n\t 2013 & 12 & 31 & 514 &  515 &  -1 &  814 &  812 &   2 & UA &  700 & N470UA & EWR & IAH & 223 & 1400 &  5 & 15 & 2013-12-31 05:00:00\\\\\n\t 2013 & 12 & 31 & 549 &  551 &  -2 &  925 &  900 &  25 & UA &  274 & N577UA & EWR & LAX & 346 & 2454 &  5 & 51 & 2013-12-31 05:00:00\\\\\n\t 2013 & 12 & 31 & 550 &  600 & -10 &  725 &  745 & -20 & AA &  301 & N3CXAA & LGA & ORD & 127 &  733 &  6 &  0 & 2013-12-31 06:00:00\\\\\n\t 2013 & 12 & 31 & 552 &  600 &  -8 &  811 &  826 & -15 & EV & 3825 & N14916 & EWR & IND & 118 &  645 &  6 &  0 & 2013-12-31 06:00:00\\\\\n\t 2013 & 12 & 31 & 553 &  600 &  -7 &  741 &  754 & -13 & DL &  731 & N333NB & LGA & DTW &  86 &  502 &  6 &  0 & 2013-12-31 06:00:00\\\\\n\t 2013 & 12 & 31 & 554 &  550 &   4 & 1024 & 1027 &  -3 & B6 &  939 & N552JB & JFK & BQN & 195 & 1576 &  5 & 50 & 2013-12-31 05:00:00\\\\\n\t 2013 & 12 & 31 & 555 &  600 &  -5 &  901 &  849 &  12 & B6 &  353 & N746JB & JFK & PBI & 167 & 1028 &  6 &  0 & 2013-12-31 06:00:00\\\\\n\t 2013 & 12 & 31 & 555 &  600 &  -5 &  835 &  831 &   4 & DL &  904 & N3741S & LGA & ATL & 137 &  762 &  6 &  0 & 2013-12-31 06:00:00\\\\\n\t 2013 & 12 & 31 & 555 &  551 &   4 &  853 &  851 &   2 & UA &  566 & N491UA & EWR & TPA & 164 &  997 &  5 & 51 & 2013-12-31 05:00:00\\\\\n\t 2013 & 12 & 31 & 556 &  600 &  -4 &  909 &  846 &  23 & B6 &  583 & N715JB & JFK & MCO & 162 &  944 &  6 &  0 & 2013-12-31 06:00:00\\\\\n\t 2013 & 12 & 31 & 556 &  605 &  -9 &  808 &  814 &  -6 & DL & 1919 & N958DL & LGA & MSP & 160 & 1020 &  6 &  5 & 2013-12-31 06:00:00\\\\\n\t 2013 & 12 & 31 & 557 &  603 &  -6 &  719 &  719 &   0 & EV & 4241 & N15574 & EWR & DCA &  45 &  199 &  6 &  3 & 2013-12-31 06:00:00\\\\\n\t 2013 & 12 & 31 & 558 &  600 &  -2 &  919 &  905 &  14 & AA & 1175 & N3JEAA & LGA & MIA & 173 & 1096 &  6 &  0 & 2013-12-31 06:00:00\\\\\n\t 2013 & 12 & 31 & 559 &  600 &  -1 &  917 &  855 &  22 & B6 &  605 & N597JB & EWR & FLL & 167 & 1065 &  6 &  0 & 2013-12-31 06:00:00\\\\\n\t 2013 & 12 & 31 & 600 &  540 &  20 &  928 &  850 &  38 & AA & 2243 & N5EMAA & JFK & MIA & 171 & 1089 &  5 & 40 & 2013-12-31 05:00:00\\\\\n\t 2013 & 12 & 31 & 602 &  605 &  -3 &  744 &  805 & -21 & DL & 2505 & N358NB & EWR & DTW &  87 &  488 &  6 &  5 & 2013-12-31 06:00:00\\\\\n\t 2013 & 12 & 31 & 602 &  605 &  -3 &  708 &  723 & -15 & EV & 6177 & N14543 & EWR & IAD &  45 &  212 &  6 &  5 & 2013-12-31 06:00:00\\\\\n\t 2013 & 12 & 31 & 603 &  611 &  -8 & 1045 & 1055 & -10 & B6 & 1403 & N547JB & JFK & SJU & 198 & 1598 &  6 & 11 & 2013-12-31 06:00:00\\\\\n\t 2013 & 12 & 31 & 607 &  600 &   7 &  848 &  825 &  23 & WN & 1716 & N7740A & LGA & ATL & 137 &  762 &  6 &  0 & 2013-12-31 06:00:00\\\\\n\t 2013 & 12 & 31 & 608 &  615 &  -7 &  812 &  818 &  -6 & US & 1963 & N192UW & EWR & CLT & 106 &  529 &  6 & 15 & 2013-12-31 06:00:00\\\\\n\t 2013 & 12 & 31 & 609 &  610 &  -1 &  911 &  915 &  -4 & AA & 1205 & N5DHAA & EWR & MIA & 163 & 1085 &  6 & 10 & 2013-12-31 06:00:00\\\\\n\t 2013 & 12 & 31 & 609 &  615 &  -6 &  848 &  850 &  -2 & DL &  404 & N392DA & JFK & ATL & 133 &  760 &  6 & 15 & 2013-12-31 06:00:00\\\\\n\t 2013 & 12 & 31 & 609 &  614 &  -5 &  755 &  751 &   4 & EV & 3812 & N13994 & EWR & RDU &  81 &  416 &  6 & 14 & 2013-12-31 06:00:00\\\\\n\t 2013 & 12 & 31 & 610 &  615 &  -5 &  828 &  849 & -21 & DL &  479 & N3766  & JFK & ATL & 119 &  760 &  6 & 15 & 2013-12-31 06:00:00\\\\\n\t 2013 & 12 & 31 & 616 &  611 &   5 &  933 &  912 &  21 & B6 &  601 & N643JB & JFK & FLL & 173 & 1069 &  6 & 11 & 2013-12-31 06:00:00\\\\\n\t 2013 & 12 & 31 & 616 &  630 & -14 &  922 &  919 &   3 & B6 & 1099 & N563JB & LGA & MCO & 159 &  950 &  6 & 30 & 2013-12-31 06:00:00\\\\\n\t ⋮ & ⋮ & ⋮ & ⋮ & ⋮ & ⋮ & ⋮ & ⋮ & ⋮ & ⋮ & ⋮ & ⋮ & ⋮ & ⋮ & ⋮ & ⋮ & ⋮ & ⋮ & ⋮\\\\\n\t 2013 & 12 & 31 & 2155 & 2039 &  76 &  253 & 2355 &  NA & B6 & 1205 & N627JB & JFK & PDX &  NA & 2454 & 20 & 39 & 2013-12-31 20:00:00\\\\\n\t 2013 & 12 & 31 & 2155 & 2150 &   5 &  110 &   51 &  19 & B6 & 1901 & N729JB & JFK & FLL & 164 & 1069 & 21 & 50 & 2013-12-31 21:00:00\\\\\n\t 2013 & 12 & 31 & 2159 & 2155 &   4 &   55 &   46 &   9 & B6 & 2053 & N593JB & JFK & PBI & 155 & 1028 & 21 & 55 & 2013-12-31 21:00:00\\\\\n\t 2013 & 12 & 31 & 2206 & 2110 &  56 &   44 & 2339 &  65 & B6 &  775 & N184JB & JFK & MSY & 195 & 1182 & 21 & 10 & 2013-12-31 21:00:00\\\\\n\t 2013 & 12 & 31 & 2211 & 2159 &  12 &  100 &   45 &  15 & B6 & 1183 & N715JB & JFK & MCO & 148 &  944 & 21 & 59 & 2013-12-31 21:00:00\\\\\n\t 2013 & 12 & 31 & 2218 & 2219 &  -1 &  315 &  304 &  11 & B6 & 1203 & N625JB & JFK & SJU & 202 & 1598 & 22 & 19 & 2013-12-31 22:00:00\\\\\n\t 2013 & 12 & 31 & 2235 & 2245 & -10 & 2351 & 2355 &  -4 & B6 &  234 & N355JB & JFK & BTV &  49 &  266 & 22 & 45 & 2013-12-31 22:00:00\\\\\n\t 2013 & 12 & 31 & 2245 & 2250 &  -5 & 2359 & 2356 &   3 & B6 & 1816 & N318JB & JFK & SYR &  51 &  209 & 22 & 50 & 2013-12-31 22:00:00\\\\\n\t 2013 & 12 & 31 & 2310 & 2255 &  15 &    7 & 2356 &  11 & B6 &  718 & N279JB & JFK & BOS &  40 &  187 & 22 & 55 & 2013-12-31 22:00:00\\\\\n\t 2013 & 12 & 31 & 2321 & 2250 &  31 &   46 &    8 &  38 & B6 & 2002 & N179JB & JFK & BUF &  66 &  301 & 22 & 50 & 2013-12-31 22:00:00\\\\\n\t 2013 & 12 & 31 & 2328 & 2330 &  -2 &  412 &  409 &   3 & B6 & 1389 & N651JB & EWR & SJU & 198 & 1608 & 23 & 30 & 2013-12-31 23:00:00\\\\\n\t 2013 & 12 & 31 & 2332 & 2245 &  47 &   58 &    3 &  55 & B6 &  486 & N334JB & JFK & ROC &  60 &  264 & 22 & 45 & 2013-12-31 22:00:00\\\\\n\t 2013 & 12 & 31 & 2355 & 2359 &  -4 &  430 &  440 & -10 & B6 & 1503 & N509JB & JFK & SJU & 195 & 1598 & 23 & 59 & 2013-12-31 23:00:00\\\\\n\t 2013 & 12 & 31 & 2356 & 2359 &  -3 &  436 &  445 &  -9 & B6 &  745 & N665JB & JFK & PSE & 200 & 1617 & 23 & 59 & 2013-12-31 23:00:00\\\\\n\t 2013 & 12 & 31 &   NA & 1520 &  NA &   NA & 1705 &  NA & AA &  341 & N568AA & LGA & ORD &  NA &  733 & 15 & 20 & 2013-12-31 15:00:00\\\\\n\t 2013 & 12 & 31 &   NA & 2025 &  NA &   NA & 2205 &  NA & AA &  371 & N482AA & LGA & ORD &  NA &  733 & 20 & 25 & 2013-12-31 20:00:00\\\\\n\t 2013 & 12 & 31 &   NA & 1932 &  NA &   NA & 2305 &  NA & B6 &  161 & N516JB & JFK & SMF &  NA & 2521 & 19 & 32 & 2013-12-31 19:00:00\\\\\n\t 2013 & 12 & 31 &   NA & 1505 &  NA &   NA & 1725 &  NA & EV & 4181 & N24103 & EWR & MCI &  NA & 1092 & 15 &  5 & 2013-12-31 15:00:00\\\\\n\t 2013 & 12 & 31 &   NA & 1000 &  NA &   NA & 1252 &  NA & UA & 1124 & NA     & EWR & EGE &  NA & 1725 & 10 &  0 & 2013-12-31 10:00:00\\\\\n\t 2013 & 12 & 31 &   NA &  840 &  NA &   NA & 1205 &  NA & UA & 1151 & NA     & EWR & SEA &  NA & 2402 &  8 & 40 & 2013-12-31 08:00:00\\\\\n\t 2013 & 12 & 31 &   NA &  754 &  NA &   NA & 1118 &  NA & UA & 1455 & NA     & EWR & LAX &  NA & 2454 &  7 & 54 & 2013-12-31 07:00:00\\\\\n\t 2013 & 12 & 31 &   NA & 2000 &  NA &   NA & 2146 &  NA & UA & 1482 & NA     & EWR & ORD &  NA &  719 & 20 &  0 & 2013-12-31 20:00:00\\\\\n\t 2013 & 12 & 31 &   NA & 1500 &  NA &   NA & 1817 &  NA & UA & 1483 & NA     & EWR & AUS &  NA & 1504 & 15 &  0 & 2013-12-31 15:00:00\\\\\n\t 2013 & 12 & 31 &   NA & 1430 &  NA &   NA & 1750 &  NA & UA & 1493 & NA     & EWR & LAX &  NA & 2454 & 14 & 30 & 2013-12-31 14:00:00\\\\\n\t 2013 & 12 & 31 &   NA &  855 &  NA &   NA & 1142 &  NA & UA & 1506 & NA     & EWR & JAC &  NA & 1874 &  8 & 55 & 2013-12-31 08:00:00\\\\\n\t 2013 & 12 & 31 &   NA &  705 &  NA &   NA &  931 &  NA & UA & 1729 & NA     & EWR & DEN &  NA & 1605 &  7 &  5 & 2013-12-31 07:00:00\\\\\n\t 2013 & 12 & 31 &   NA &  825 &  NA &   NA & 1029 &  NA & US & 1831 & NA     & JFK & CLT &  NA &  541 &  8 & 25 & 2013-12-31 08:00:00\\\\\n\t 2013 & 12 & 31 &   NA & 1615 &  NA &   NA & 1800 &  NA & MQ & 3301 & N844MQ & LGA & RDU &  NA &  431 & 16 & 15 & 2013-12-31 16:00:00\\\\\n\t 2013 & 12 & 31 &   NA &  600 &  NA &   NA &  735 &  NA & UA &  219 & NA     & EWR & ORD &  NA &  719 &  6 &  0 & 2013-12-31 06:00:00\\\\\n\t 2013 & 12 & 31 &   NA &  830 &  NA &   NA & 1154 &  NA & UA &  443 & NA     & JFK & LAX &  NA & 2475 &  8 & 30 & 2013-12-31 08:00:00\\\\\n\\end{tabular}\n",
            "text/plain": [
              "    year month day dep_time sched_dep_time dep_delay arr_time sched_arr_time\n",
              "1   2013 12    31   13      2359            14        439      437          \n",
              "2   2013 12    31   18      2359            19        449      444          \n",
              "3   2013 12    31   26      2245           101        129     2353          \n",
              "4   2013 12    31  459       500            -1        655      651          \n",
              "5   2013 12    31  514       515            -1        814      812          \n",
              "6   2013 12    31  549       551            -2        925      900          \n",
              "7   2013 12    31  550       600           -10        725      745          \n",
              "8   2013 12    31  552       600            -8        811      826          \n",
              "9   2013 12    31  553       600            -7        741      754          \n",
              "10  2013 12    31  554       550             4       1024     1027          \n",
              "11  2013 12    31  555       600            -5        901      849          \n",
              "12  2013 12    31  555       600            -5        835      831          \n",
              "13  2013 12    31  555       551             4        853      851          \n",
              "14  2013 12    31  556       600            -4        909      846          \n",
              "15  2013 12    31  556       605            -9        808      814          \n",
              "16  2013 12    31  557       603            -6        719      719          \n",
              "17  2013 12    31  558       600            -2        919      905          \n",
              "18  2013 12    31  559       600            -1        917      855          \n",
              "19  2013 12    31  600       540            20        928      850          \n",
              "20  2013 12    31  602       605            -3        744      805          \n",
              "21  2013 12    31  602       605            -3        708      723          \n",
              "22  2013 12    31  603       611            -8       1045     1055          \n",
              "23  2013 12    31  607       600             7        848      825          \n",
              "24  2013 12    31  608       615            -7        812      818          \n",
              "25  2013 12    31  609       610            -1        911      915          \n",
              "26  2013 12    31  609       615            -6        848      850          \n",
              "27  2013 12    31  609       614            -5        755      751          \n",
              "28  2013 12    31  610       615            -5        828      849          \n",
              "29  2013 12    31  616       611             5        933      912          \n",
              "30  2013 12    31  616       630           -14        922      919          \n",
              "⋮   ⋮    ⋮     ⋮   ⋮        ⋮              ⋮         ⋮        ⋮             \n",
              "747 2013 12    31  2155     2039            76        253     2355          \n",
              "748 2013 12    31  2155     2150             5        110       51          \n",
              "749 2013 12    31  2159     2155             4         55       46          \n",
              "750 2013 12    31  2206     2110            56         44     2339          \n",
              "751 2013 12    31  2211     2159            12        100       45          \n",
              "752 2013 12    31  2218     2219            -1        315      304          \n",
              "753 2013 12    31  2235     2245           -10       2351     2355          \n",
              "754 2013 12    31  2245     2250            -5       2359     2356          \n",
              "755 2013 12    31  2310     2255            15          7     2356          \n",
              "756 2013 12    31  2321     2250            31         46        8          \n",
              "757 2013 12    31  2328     2330            -2        412      409          \n",
              "758 2013 12    31  2332     2245            47         58        3          \n",
              "759 2013 12    31  2355     2359            -4        430      440          \n",
              "760 2013 12    31  2356     2359            -3        436      445          \n",
              "761 2013 12    31    NA     1520            NA         NA     1705          \n",
              "762 2013 12    31    NA     2025            NA         NA     2205          \n",
              "763 2013 12    31    NA     1932            NA         NA     2305          \n",
              "764 2013 12    31    NA     1505            NA         NA     1725          \n",
              "765 2013 12    31    NA     1000            NA         NA     1252          \n",
              "766 2013 12    31    NA      840            NA         NA     1205          \n",
              "767 2013 12    31    NA      754            NA         NA     1118          \n",
              "768 2013 12    31    NA     2000            NA         NA     2146          \n",
              "769 2013 12    31    NA     1500            NA         NA     1817          \n",
              "770 2013 12    31    NA     1430            NA         NA     1750          \n",
              "771 2013 12    31    NA      855            NA         NA     1142          \n",
              "772 2013 12    31    NA      705            NA         NA      931          \n",
              "773 2013 12    31    NA      825            NA         NA     1029          \n",
              "774 2013 12    31    NA     1615            NA         NA     1800          \n",
              "775 2013 12    31    NA      600            NA         NA      735          \n",
              "776 2013 12    31    NA      830            NA         NA     1154          \n",
              "    arr_delay carrier flight tailnum origin dest air_time distance hour minute\n",
              "1     2       B6       839   N566JB  JFK    BQN  189      1576     23   59    \n",
              "2     5       DL       412   N713TW  JFK    SJU  192      1598     23   59    \n",
              "3    96       B6       108   N374JB  JFK    PWM   50       273     22   45    \n",
              "4     4       US      1895   N557UW  EWR    CLT   95       529      5    0    \n",
              "5     2       UA       700   N470UA  EWR    IAH  223      1400      5   15    \n",
              "6    25       UA       274   N577UA  EWR    LAX  346      2454      5   51    \n",
              "7   -20       AA       301   N3CXAA  LGA    ORD  127       733      6    0    \n",
              "8   -15       EV      3825   N14916  EWR    IND  118       645      6    0    \n",
              "9   -13       DL       731   N333NB  LGA    DTW   86       502      6    0    \n",
              "10   -3       B6       939   N552JB  JFK    BQN  195      1576      5   50    \n",
              "11   12       B6       353   N746JB  JFK    PBI  167      1028      6    0    \n",
              "12    4       DL       904   N3741S  LGA    ATL  137       762      6    0    \n",
              "13    2       UA       566   N491UA  EWR    TPA  164       997      5   51    \n",
              "14   23       B6       583   N715JB  JFK    MCO  162       944      6    0    \n",
              "15   -6       DL      1919   N958DL  LGA    MSP  160      1020      6    5    \n",
              "16    0       EV      4241   N15574  EWR    DCA   45       199      6    3    \n",
              "17   14       AA      1175   N3JEAA  LGA    MIA  173      1096      6    0    \n",
              "18   22       B6       605   N597JB  EWR    FLL  167      1065      6    0    \n",
              "19   38       AA      2243   N5EMAA  JFK    MIA  171      1089      5   40    \n",
              "20  -21       DL      2505   N358NB  EWR    DTW   87       488      6    5    \n",
              "21  -15       EV      6177   N14543  EWR    IAD   45       212      6    5    \n",
              "22  -10       B6      1403   N547JB  JFK    SJU  198      1598      6   11    \n",
              "23   23       WN      1716   N7740A  LGA    ATL  137       762      6    0    \n",
              "24   -6       US      1963   N192UW  EWR    CLT  106       529      6   15    \n",
              "25   -4       AA      1205   N5DHAA  EWR    MIA  163      1085      6   10    \n",
              "26   -2       DL       404   N392DA  JFK    ATL  133       760      6   15    \n",
              "27    4       EV      3812   N13994  EWR    RDU   81       416      6   14    \n",
              "28  -21       DL       479   N3766   JFK    ATL  119       760      6   15    \n",
              "29   21       B6       601   N643JB  JFK    FLL  173      1069      6   11    \n",
              "30    3       B6      1099   N563JB  LGA    MCO  159       950      6   30    \n",
              "⋮   ⋮         ⋮       ⋮      ⋮       ⋮      ⋮    ⋮        ⋮        ⋮    ⋮     \n",
              "747  NA       B6      1205   N627JB  JFK    PDX   NA      2454     20   39    \n",
              "748  19       B6      1901   N729JB  JFK    FLL  164      1069     21   50    \n",
              "749   9       B6      2053   N593JB  JFK    PBI  155      1028     21   55    \n",
              "750  65       B6       775   N184JB  JFK    MSY  195      1182     21   10    \n",
              "751  15       B6      1183   N715JB  JFK    MCO  148       944     21   59    \n",
              "752  11       B6      1203   N625JB  JFK    SJU  202      1598     22   19    \n",
              "753  -4       B6       234   N355JB  JFK    BTV   49       266     22   45    \n",
              "754   3       B6      1816   N318JB  JFK    SYR   51       209     22   50    \n",
              "755  11       B6       718   N279JB  JFK    BOS   40       187     22   55    \n",
              "756  38       B6      2002   N179JB  JFK    BUF   66       301     22   50    \n",
              "757   3       B6      1389   N651JB  EWR    SJU  198      1608     23   30    \n",
              "758  55       B6       486   N334JB  JFK    ROC   60       264     22   45    \n",
              "759 -10       B6      1503   N509JB  JFK    SJU  195      1598     23   59    \n",
              "760  -9       B6       745   N665JB  JFK    PSE  200      1617     23   59    \n",
              "761  NA       AA       341   N568AA  LGA    ORD   NA       733     15   20    \n",
              "762  NA       AA       371   N482AA  LGA    ORD   NA       733     20   25    \n",
              "763  NA       B6       161   N516JB  JFK    SMF   NA      2521     19   32    \n",
              "764  NA       EV      4181   N24103  EWR    MCI   NA      1092     15    5    \n",
              "765  NA       UA      1124   NA      EWR    EGE   NA      1725     10    0    \n",
              "766  NA       UA      1151   NA      EWR    SEA   NA      2402      8   40    \n",
              "767  NA       UA      1455   NA      EWR    LAX   NA      2454      7   54    \n",
              "768  NA       UA      1482   NA      EWR    ORD   NA       719     20    0    \n",
              "769  NA       UA      1483   NA      EWR    AUS   NA      1504     15    0    \n",
              "770  NA       UA      1493   NA      EWR    LAX   NA      2454     14   30    \n",
              "771  NA       UA      1506   NA      EWR    JAC   NA      1874      8   55    \n",
              "772  NA       UA      1729   NA      EWR    DEN   NA      1605      7    5    \n",
              "773  NA       US      1831   NA      JFK    CLT   NA       541      8   25    \n",
              "774  NA       MQ      3301   N844MQ  LGA    RDU   NA       431     16   15    \n",
              "775  NA       UA       219   NA      EWR    ORD   NA       719      6    0    \n",
              "776  NA       UA       443   NA      JFK    LAX   NA      2475      8   30    \n",
              "    time_hour          \n",
              "1   2013-12-31 23:00:00\n",
              "2   2013-12-31 23:00:00\n",
              "3   2013-12-31 22:00:00\n",
              "4   2013-12-31 05:00:00\n",
              "5   2013-12-31 05:00:00\n",
              "6   2013-12-31 05:00:00\n",
              "7   2013-12-31 06:00:00\n",
              "8   2013-12-31 06:00:00\n",
              "9   2013-12-31 06:00:00\n",
              "10  2013-12-31 05:00:00\n",
              "11  2013-12-31 06:00:00\n",
              "12  2013-12-31 06:00:00\n",
              "13  2013-12-31 05:00:00\n",
              "14  2013-12-31 06:00:00\n",
              "15  2013-12-31 06:00:00\n",
              "16  2013-12-31 06:00:00\n",
              "17  2013-12-31 06:00:00\n",
              "18  2013-12-31 06:00:00\n",
              "19  2013-12-31 05:00:00\n",
              "20  2013-12-31 06:00:00\n",
              "21  2013-12-31 06:00:00\n",
              "22  2013-12-31 06:00:00\n",
              "23  2013-12-31 06:00:00\n",
              "24  2013-12-31 06:00:00\n",
              "25  2013-12-31 06:00:00\n",
              "26  2013-12-31 06:00:00\n",
              "27  2013-12-31 06:00:00\n",
              "28  2013-12-31 06:00:00\n",
              "29  2013-12-31 06:00:00\n",
              "30  2013-12-31 06:00:00\n",
              "⋮   ⋮                  \n",
              "747 2013-12-31 20:00:00\n",
              "748 2013-12-31 21:00:00\n",
              "749 2013-12-31 21:00:00\n",
              "750 2013-12-31 21:00:00\n",
              "751 2013-12-31 21:00:00\n",
              "752 2013-12-31 22:00:00\n",
              "753 2013-12-31 22:00:00\n",
              "754 2013-12-31 22:00:00\n",
              "755 2013-12-31 22:00:00\n",
              "756 2013-12-31 22:00:00\n",
              "757 2013-12-31 23:00:00\n",
              "758 2013-12-31 22:00:00\n",
              "759 2013-12-31 23:00:00\n",
              "760 2013-12-31 23:00:00\n",
              "761 2013-12-31 15:00:00\n",
              "762 2013-12-31 20:00:00\n",
              "763 2013-12-31 19:00:00\n",
              "764 2013-12-31 15:00:00\n",
              "765 2013-12-31 10:00:00\n",
              "766 2013-12-31 08:00:00\n",
              "767 2013-12-31 07:00:00\n",
              "768 2013-12-31 20:00:00\n",
              "769 2013-12-31 15:00:00\n",
              "770 2013-12-31 14:00:00\n",
              "771 2013-12-31 08:00:00\n",
              "772 2013-12-31 07:00:00\n",
              "773 2013-12-31 08:00:00\n",
              "774 2013-12-31 16:00:00\n",
              "775 2013-12-31 06:00:00\n",
              "776 2013-12-31 08:00:00"
            ]
          },
          "metadata": {}
        }
      ],
      "source": [
        "# Filter to all flights on 12/31\n",
        "filter(flights,month==12,day==31) # NOTE: filter(dataframe,logical condition 1, condition 2)"
      ]
    },
    {
      "cell_type": "markdown",
      "metadata": {
        "id": "GfniP26yWb2Y"
      },
      "source": [
        "How does all this work? Basically what R does here is create a logical vector that has one entry for each **row** of the input data frame. Then, it returns a new data frame which contains all the rows where the logical vector evaluated to `True`."
      ]
    },
    {
      "cell_type": "markdown",
      "metadata": {
        "id": "BCDm2XcWWb2Y"
      },
      "source": [
        "## Remark:\n",
        "Using `==` for testing equality is very important in `R`.  `R` will yield an error if you use `=`.  "
      ]
    },
    {
      "cell_type": "code",
      "execution_count": 11,
      "metadata": {
        "id": "Lz0PqdruWb2a",
        "colab": {
          "base_uri": "https://localhost:8080/",
          "height": 276
        },
        "outputId": "ee577feb-9ec0-40ec-f1a5-bf83ceff2318"
      },
      "outputs": [
        {
          "output_type": "error",
          "ename": "ERROR",
          "evalue": "ignored",
          "traceback": [
            "\u001b[1m\u001b[33mError\u001b[39m in `filter()`:\u001b[22m\n\u001b[1m\u001b[22m\u001b[33m!\u001b[39m We detected a named input.\n\u001b[36mℹ\u001b[39m This usually means that you've used `=` instead of `==`.\n\u001b[36mℹ\u001b[39m Did you mean `month == 1`?\nTraceback:\n",
            "1. filter(flights, month = 1)",
            "2. filter.data.frame(flights, month = 1)",
            "3. filter_rows(.data, ..., caller_env = caller_env())",
            "4. check_filter(dots, error_call = error_call)",
            "5. abort(bullets, call = error_call)",
            "6. signal_abort(cnd, .file)"
          ]
        }
      ],
      "source": [
        "# what happens when you forget to use == in filter?\n",
        "filter(flights,month=1)"
      ]
    },
    {
      "cell_type": "markdown",
      "metadata": {
        "id": "NpiiScRjWb2a"
      },
      "source": [
        "## 🤔 Quiz\n",
        "How many flights in the table departed in October, November, or December?\n",
        "\n",
        "<ol style=\"list-style-type: upper-alpha;\">\n",
        "    <li>Fewer than 50,000</li>\n",
        "    <li>Between 50,000 and 60,000</li>\n",
        "    <li>Between 60,000 and 70,000</li>\n",
        "    <li>Between 70,000 and 80,000</li>\n",
        "    <li>More than 80,000</li>\n",
        "</ol>"
      ]
    },
    {
      "cell_type": "code",
      "execution_count": 17,
      "metadata": {
        "id": "1I5vbEfeWb2c",
        "colab": {
          "base_uri": "https://localhost:8080/",
          "height": 1000
        },
        "outputId": "4de6b52f-4775-420e-d2c2-5de1ca8473be"
      },
      "outputs": [
        {
          "output_type": "stream",
          "name": "stderr",
          "text": [
            "Warning message in month == 10:12:\n",
            "“longer object length is not a multiple of shorter object length”\n"
          ]
        },
        {
          "output_type": "display_data",
          "data": {
            "text/html": [
              "<table class=\"dataframe\">\n",
              "<caption>A tibble: 28096 × 19</caption>\n",
              "<thead>\n",
              "\t<tr><th scope=col>year</th><th scope=col>month</th><th scope=col>day</th><th scope=col>dep_time</th><th scope=col>sched_dep_time</th><th scope=col>dep_delay</th><th scope=col>arr_time</th><th scope=col>sched_arr_time</th><th scope=col>arr_delay</th><th scope=col>carrier</th><th scope=col>flight</th><th scope=col>tailnum</th><th scope=col>origin</th><th scope=col>dest</th><th scope=col>air_time</th><th scope=col>distance</th><th scope=col>hour</th><th scope=col>minute</th><th scope=col>time_hour</th></tr>\n",
              "\t<tr><th scope=col>&lt;int&gt;</th><th scope=col>&lt;int&gt;</th><th scope=col>&lt;int&gt;</th><th scope=col>&lt;int&gt;</th><th scope=col>&lt;int&gt;</th><th scope=col>&lt;dbl&gt;</th><th scope=col>&lt;int&gt;</th><th scope=col>&lt;int&gt;</th><th scope=col>&lt;dbl&gt;</th><th scope=col>&lt;chr&gt;</th><th scope=col>&lt;int&gt;</th><th scope=col>&lt;chr&gt;</th><th scope=col>&lt;chr&gt;</th><th scope=col>&lt;chr&gt;</th><th scope=col>&lt;dbl&gt;</th><th scope=col>&lt;dbl&gt;</th><th scope=col>&lt;dbl&gt;</th><th scope=col>&lt;dbl&gt;</th><th scope=col>&lt;dttm&gt;</th></tr>\n",
              "</thead>\n",
              "<tbody>\n",
              "\t<tr><td>2013</td><td>10</td><td>1</td><td>536</td><td>545</td><td> -9</td><td>809</td><td>855</td><td>-46</td><td>AA</td><td>2243</td><td>N630AA</td><td>JFK</td><td>MIA</td><td>132</td><td>1089</td><td>5</td><td>45</td><td>2013-10-01 05:00:00</td></tr>\n",
              "\t<tr><td>2013</td><td>10</td><td>1</td><td>544</td><td>550</td><td> -6</td><td>912</td><td>932</td><td>-20</td><td>B6</td><td> 939</td><td>N593JB</td><td>JFK</td><td>BQN</td><td>191</td><td>1576</td><td>5</td><td>50</td><td>2013-10-01 05:00:00</td></tr>\n",
              "\t<tr><td>2013</td><td>10</td><td>1</td><td>550</td><td>600</td><td>-10</td><td>649</td><td>659</td><td>-10</td><td>US</td><td>2167</td><td>N749US</td><td>LGA</td><td>DCA</td><td> 39</td><td> 214</td><td>6</td><td> 0</td><td>2013-10-01 06:00:00</td></tr>\n",
              "\t<tr><td>2013</td><td>10</td><td>1</td><td>551</td><td>600</td><td> -9</td><td>655</td><td>708</td><td>-13</td><td>B6</td><td>2180</td><td>N238JB</td><td>EWR</td><td>BOS</td><td> 40</td><td> 200</td><td>6</td><td> 0</td><td>2013-10-01 06:00:00</td></tr>\n",
              "\t<tr><td>2013</td><td>10</td><td>1</td><td>553</td><td>600</td><td> -7</td><td>811</td><td>829</td><td>-18</td><td>DL</td><td> 563</td><td>N961DL</td><td>LGA</td><td>ATL</td><td>105</td><td> 762</td><td>6</td><td> 0</td><td>2013-10-01 06:00:00</td></tr>\n",
              "\t<tr><td>2013</td><td>10</td><td>1</td><td>555</td><td>600</td><td> -5</td><td>810</td><td>840</td><td>-30</td><td>B6</td><td>  27</td><td>N580JB</td><td>EWR</td><td>MCO</td><td>117</td><td> 937</td><td>6</td><td> 0</td><td>2013-10-01 06:00:00</td></tr>\n",
              "\t<tr><td>2013</td><td>10</td><td>1</td><td>557</td><td>600</td><td> -3</td><td>851</td><td>923</td><td>-32</td><td>UA</td><td> 303</td><td>N590UA</td><td>JFK</td><td>SFO</td><td>331</td><td>2586</td><td>6</td><td> 0</td><td>2013-10-01 06:00:00</td></tr>\n",
              "\t<tr><td>2013</td><td>10</td><td>1</td><td>558</td><td>600</td><td> -2</td><td>757</td><td>815</td><td>-18</td><td>FL</td><td> 345</td><td>N338AT</td><td>LGA</td><td>ATL</td><td> 98</td><td> 762</td><td>6</td><td> 0</td><td>2013-10-01 06:00:00</td></tr>\n",
              "\t<tr><td>2013</td><td>10</td><td>1</td><td>559</td><td>600</td><td> -1</td><td>719</td><td>730</td><td>-11</td><td>AA</td><td> 301</td><td>N466AA</td><td>LGA</td><td>ORD</td><td>115</td><td> 733</td><td>6</td><td> 0</td><td>2013-10-01 06:00:00</td></tr>\n",
              "\t<tr><td>2013</td><td>10</td><td>1</td><td>604</td><td>610</td><td> -6</td><td>751</td><td>813</td><td>-22</td><td>DL</td><td>1919</td><td>N986DL</td><td>LGA</td><td>MSP</td><td>146</td><td>1020</td><td>6</td><td>10</td><td>2013-10-01 06:00:00</td></tr>\n",
              "\t<tr><td>2013</td><td>10</td><td>1</td><td>606</td><td>610</td><td> -4</td><td>719</td><td>724</td><td> -5</td><td>EV</td><td>6177</td><td>N15986</td><td>EWR</td><td>IAD</td><td> 46</td><td> 212</td><td>6</td><td>10</td><td>2013-10-01 06:00:00</td></tr>\n",
              "\t<tr><td>2013</td><td>10</td><td>1</td><td>612</td><td>615</td><td> -3</td><td>808</td><td>821</td><td>-13</td><td>EV</td><td>4471</td><td>N13965</td><td>EWR</td><td>CLT</td><td> 75</td><td> 529</td><td>6</td><td>15</td><td>2013-10-01 06:00:00</td></tr>\n",
              "\t<tr><td>2013</td><td>10</td><td>1</td><td>614</td><td>600</td><td> 14</td><td>719</td><td>715</td><td>  4</td><td>WN</td><td> 464</td><td>N411WN</td><td>EWR</td><td>MDW</td><td>102</td><td> 711</td><td>6</td><td> 0</td><td>2013-10-01 06:00:00</td></tr>\n",
              "\t<tr><td>2013</td><td>10</td><td>1</td><td>616</td><td>622</td><td> -6</td><td>808</td><td>827</td><td>-19</td><td>EV</td><td>4150</td><td>N15973</td><td>EWR</td><td>CVG</td><td> 87</td><td> 569</td><td>6</td><td>22</td><td>2013-10-01 06:00:00</td></tr>\n",
              "\t<tr><td>2013</td><td>10</td><td>1</td><td>621</td><td>629</td><td> -8</td><td>854</td><td>929</td><td>-35</td><td>AA</td><td>1205</td><td>N3GCAA</td><td>EWR</td><td>MIA</td><td>134</td><td>1085</td><td>6</td><td>29</td><td>2013-10-01 06:00:00</td></tr>\n",
              "\t<tr><td>2013</td><td>10</td><td>1</td><td>622</td><td>625</td><td> -3</td><td>843</td><td>935</td><td>-52</td><td>WN</td><td>  16</td><td>N905WN</td><td>EWR</td><td>HOU</td><td>175</td><td>1411</td><td>6</td><td>25</td><td>2013-10-01 06:00:00</td></tr>\n",
              "\t<tr><td>2013</td><td>10</td><td>1</td><td>625</td><td>630</td><td> -5</td><td>913</td><td>940</td><td>-27</td><td>UA</td><td> 421</td><td>N507UA</td><td>EWR</td><td>SFO</td><td>323</td><td>2565</td><td>6</td><td>30</td><td>2013-10-01 06:00:00</td></tr>\n",
              "\t<tr><td>2013</td><td>10</td><td>1</td><td>626</td><td>635</td><td> -9</td><td>818</td><td>833</td><td>-15</td><td>US</td><td>2023</td><td>N171US</td><td>EWR</td><td>CLT</td><td> 72</td><td> 529</td><td>6</td><td>35</td><td>2013-10-01 06:00:00</td></tr>\n",
              "\t<tr><td>2013</td><td>10</td><td>1</td><td>627</td><td>630</td><td> -3</td><td>809</td><td>753</td><td> 16</td><td>B6</td><td> 905</td><td>N662JB</td><td>JFK</td><td>ORD</td><td>118</td><td> 740</td><td>6</td><td>30</td><td>2013-10-01 06:00:00</td></tr>\n",
              "\t<tr><td>2013</td><td>10</td><td>1</td><td>629</td><td>635</td><td> -6</td><td>825</td><td>833</td><td> -8</td><td>EV</td><td>4535</td><td>N14125</td><td>EWR</td><td>MSP</td><td>154</td><td>1008</td><td>6</td><td>35</td><td>2013-10-01 06:00:00</td></tr>\n",
              "\t<tr><td>2013</td><td>10</td><td>1</td><td>635</td><td>640</td><td> -5</td><td>743</td><td>807</td><td>-24</td><td>EV</td><td>4422</td><td>N11176</td><td>EWR</td><td>PIT</td><td> 50</td><td> 319</td><td>6</td><td>40</td><td>2013-10-01 06:00:00</td></tr>\n",
              "\t<tr><td>2013</td><td>10</td><td>1</td><td>636</td><td>645</td><td> -9</td><td>903</td><td>938</td><td>-35</td><td>B6</td><td> 525</td><td>N556JB</td><td>JFK</td><td>TPA</td><td>130</td><td>1005</td><td>6</td><td>45</td><td>2013-10-01 06:00:00</td></tr>\n",
              "\t<tr><td>2013</td><td>10</td><td>1</td><td>638</td><td>640</td><td> -2</td><td>839</td><td>905</td><td>-26</td><td>DL</td><td>  27</td><td>N388DA</td><td>JFK</td><td>ATL</td><td>101</td><td> 760</td><td>6</td><td>40</td><td>2013-10-01 06:00:00</td></tr>\n",
              "\t<tr><td>2013</td><td>10</td><td>1</td><td>647</td><td>655</td><td> -8</td><td>744</td><td>809</td><td>-25</td><td>B6</td><td> 318</td><td>N355JB</td><td>JFK</td><td>BOS</td><td> 35</td><td> 187</td><td>6</td><td>55</td><td>2013-10-01 06:00:00</td></tr>\n",
              "\t<tr><td>2013</td><td>10</td><td>1</td><td>650</td><td>655</td><td> -5</td><td>758</td><td>810</td><td>-12</td><td>WN</td><td> 404</td><td>N269WN</td><td>LGA</td><td>MKE</td><td>109</td><td> 738</td><td>6</td><td>55</td><td>2013-10-01 06:00:00</td></tr>\n",
              "\t<tr><td>2013</td><td>10</td><td>1</td><td>652</td><td>652</td><td>  0</td><td>921</td><td>954</td><td>-33</td><td>UA</td><td>1439</td><td>N37471</td><td>EWR</td><td>LAX</td><td>309</td><td>2454</td><td>6</td><td>52</td><td>2013-10-01 06:00:00</td></tr>\n",
              "\t<tr><td>2013</td><td>10</td><td>1</td><td>652</td><td>655</td><td> -3</td><td>900</td><td>920</td><td>-20</td><td>AA</td><td>1263</td><td>N5EMAA</td><td>JFK</td><td>LAS</td><td>276</td><td>2248</td><td>6</td><td>55</td><td>2013-10-01 06:00:00</td></tr>\n",
              "\t<tr><td>2013</td><td>10</td><td>1</td><td>654</td><td>700</td><td> -6</td><td>912</td><td>942</td><td>-30</td><td>DL</td><td>1547</td><td>N918DE</td><td>LGA</td><td>ATL</td><td>101</td><td> 762</td><td>7</td><td> 0</td><td>2013-10-01 07:00:00</td></tr>\n",
              "\t<tr><td>2013</td><td>10</td><td>1</td><td>656</td><td>705</td><td> -9</td><td>928</td><td>955</td><td>-27</td><td>AA</td><td>1107</td><td>N3BCAA</td><td>LGA</td><td>DFW</td><td>175</td><td>1389</td><td>7</td><td> 5</td><td>2013-10-01 07:00:00</td></tr>\n",
              "\t<tr><td>2013</td><td>10</td><td>1</td><td>658</td><td>700</td><td> -2</td><td>826</td><td>833</td><td> -7</td><td>UA</td><td> 331</td><td>N833UA</td><td>LGA</td><td>ORD</td><td>115</td><td> 733</td><td>7</td><td> 0</td><td>2013-10-01 07:00:00</td></tr>\n",
              "\t<tr><td>⋮</td><td>⋮</td><td>⋮</td><td>⋮</td><td>⋮</td><td>⋮</td><td>⋮</td><td>⋮</td><td>⋮</td><td>⋮</td><td>⋮</td><td>⋮</td><td>⋮</td><td>⋮</td><td>⋮</td><td>⋮</td><td>⋮</td><td>⋮</td><td>⋮</td></tr>\n",
              "\t<tr><td>2013</td><td>12</td><td>31</td><td>1921</td><td>1921</td><td>  0</td><td>2247</td><td>2246</td><td>  1</td><td>B6</td><td>  71</td><td>N644JB</td><td>JFK</td><td>SLC</td><td>298</td><td>1990</td><td>19</td><td>21</td><td>2013-12-31 19:00:00</td></tr>\n",
              "\t<tr><td>2013</td><td>12</td><td>31</td><td>1922</td><td>1930</td><td> -8</td><td>2116</td><td>2115</td><td>  1</td><td>MQ</td><td>3535</td><td>N501MQ</td><td>JFK</td><td>CMH</td><td> 82</td><td> 483</td><td>19</td><td>30</td><td>2013-12-31 19:00:00</td></tr>\n",
              "\t<tr><td>2013</td><td>12</td><td>31</td><td>1926</td><td>1935</td><td> -9</td><td>2139</td><td>2203</td><td>-24</td><td>FL</td><td>1346</td><td>N942AT</td><td>LGA</td><td>ATL</td><td>116</td><td> 762</td><td>19</td><td>35</td><td>2013-12-31 19:00:00</td></tr>\n",
              "\t<tr><td>2013</td><td>12</td><td>31</td><td>1931</td><td>1915</td><td> 16</td><td>2213</td><td>2149</td><td> 24</td><td>DL</td><td>1896</td><td>N310NW</td><td>LGA</td><td>DEN</td><td>254</td><td>1620</td><td>19</td><td>15</td><td>2013-12-31 19:00:00</td></tr>\n",
              "\t<tr><td>2013</td><td>12</td><td>31</td><td>1948</td><td>1938</td><td> 10</td><td>2152</td><td>2144</td><td>  8</td><td>EV</td><td>4714</td><td>N14902</td><td>EWR</td><td>CLT</td><td>101</td><td> 529</td><td>19</td><td>38</td><td>2013-12-31 19:00:00</td></tr>\n",
              "\t<tr><td>2013</td><td>12</td><td>31</td><td>1952</td><td>1945</td><td>  7</td><td>2148</td><td>2150</td><td> -2</td><td>MQ</td><td>3603</td><td>N5PBMQ</td><td>LGA</td><td>DTW</td><td> 89</td><td> 502</td><td>19</td><td>45</td><td>2013-12-31 19:00:00</td></tr>\n",
              "\t<tr><td>2013</td><td>12</td><td>31</td><td>1958</td><td>1945</td><td> 13</td><td>2149</td><td>2130</td><td> 19</td><td>MQ</td><td>3374</td><td>N802MQ</td><td>JFK</td><td>RDU</td><td> 75</td><td> 427</td><td>19</td><td>45</td><td>2013-12-31 19:00:00</td></tr>\n",
              "\t<tr><td>2013</td><td>12</td><td>31</td><td>2001</td><td>1959</td><td>  2</td><td>2248</td><td>2303</td><td>-15</td><td>UA</td><td> 469</td><td>N417UA</td><td>EWR</td><td>PBI</td><td>145</td><td>1023</td><td>19</td><td>59</td><td>2013-12-31 19:00:00</td></tr>\n",
              "\t<tr><td>2013</td><td>12</td><td>31</td><td>2011</td><td>1929</td><td> 42</td><td>2259</td><td>2235</td><td> 24</td><td>UA</td><td>1631</td><td>N27205</td><td>EWR</td><td>TPA</td><td>149</td><td> 997</td><td>19</td><td>29</td><td>2013-12-31 19:00:00</td></tr>\n",
              "\t<tr><td>2013</td><td>12</td><td>31</td><td>2019</td><td>2033</td><td>-14</td><td>2144</td><td>2206</td><td>-22</td><td>FL</td><td>1544</td><td>N974AT</td><td>LGA</td><td>CAK</td><td> 74</td><td> 397</td><td>20</td><td>33</td><td>2013-12-31 20:00:00</td></tr>\n",
              "\t<tr><td>2013</td><td>12</td><td>31</td><td>2021</td><td>2017</td><td>  4</td><td> 101</td><td> 116</td><td>-15</td><td>UA</td><td>1244</td><td>N15710</td><td>EWR</td><td>SJU</td><td>204</td><td>1608</td><td>20</td><td>17</td><td>2013-12-31 20:00:00</td></tr>\n",
              "\t<tr><td>2013</td><td>12</td><td>31</td><td>2031</td><td>2021</td><td> 10</td><td>2358</td><td>2357</td><td>  1</td><td>B6</td><td> 915</td><td>N821JB</td><td>JFK</td><td>SFO</td><td>364</td><td>2586</td><td>20</td><td>21</td><td>2013-12-31 20:00:00</td></tr>\n",
              "\t<tr><td>2013</td><td>12</td><td>31</td><td>2044</td><td>2030</td><td> 14</td><td>2337</td><td>2323</td><td> 14</td><td>B6</td><td> 153</td><td>N508JB</td><td>JFK</td><td>PBI</td><td>157</td><td>1028</td><td>20</td><td>30</td><td>2013-12-31 20:00:00</td></tr>\n",
              "\t<tr><td>2013</td><td>12</td><td>31</td><td>2050</td><td>2059</td><td> -9</td><td>2240</td><td>2244</td><td> -4</td><td>B6</td><td> 105</td><td>N294JB</td><td>JFK</td><td>ORD</td><td>136</td><td> 740</td><td>20</td><td>59</td><td>2013-12-31 20:00:00</td></tr>\n",
              "\t<tr><td>2013</td><td>12</td><td>31</td><td>2057</td><td>1740</td><td>197</td><td>2215</td><td>1900</td><td>195</td><td>B6</td><td>1407</td><td>N292JB</td><td>JFK</td><td>IAD</td><td> 53</td><td> 228</td><td>17</td><td>40</td><td>2013-12-31 17:00:00</td></tr>\n",
              "\t<tr><td>2013</td><td>12</td><td>31</td><td>2104</td><td>2015</td><td> 49</td><td>2206</td><td>2126</td><td> 40</td><td>B6</td><td> 418</td><td>N190JB</td><td>JFK</td><td>BOS</td><td> 38</td><td> 187</td><td>20</td><td>15</td><td>2013-12-31 20:00:00</td></tr>\n",
              "\t<tr><td>2013</td><td>12</td><td>31</td><td>2117</td><td>2046</td><td> 31</td><td>2356</td><td>2349</td><td>  7</td><td>UA</td><td> 249</td><td>N491UA</td><td>EWR</td><td>TPA</td><td>142</td><td> 997</td><td>20</td><td>46</td><td>2013-12-31 20:00:00</td></tr>\n",
              "\t<tr><td>2013</td><td>12</td><td>31</td><td>2121</td><td>2130</td><td> -9</td><td>2237</td><td>2245</td><td> -8</td><td>MQ</td><td>3621</td><td>N821MQ</td><td>JFK</td><td>DCA</td><td> 43</td><td> 213</td><td>21</td><td>30</td><td>2013-12-31 21:00:00</td></tr>\n",
              "\t<tr><td>2013</td><td>12</td><td>31</td><td>2128</td><td>2030</td><td> 58</td><td>2320</td><td>2150</td><td> 90</td><td>MQ</td><td>3604</td><td>N8EGMQ</td><td>EWR</td><td>ORD</td><td>120</td><td> 719</td><td>20</td><td>30</td><td>2013-12-31 20:00:00</td></tr>\n",
              "\t<tr><td>2013</td><td>12</td><td>31</td><td>2138</td><td>2141</td><td> -3</td><td>  50</td><td>  37</td><td> 13</td><td>B6</td><td> 425</td><td>N705JB</td><td>JFK</td><td>TPA</td><td>167</td><td>1005</td><td>21</td><td>41</td><td>2013-12-31 21:00:00</td></tr>\n",
              "\t<tr><td>2013</td><td>12</td><td>31</td><td>2155</td><td>2039</td><td> 76</td><td> 253</td><td>2355</td><td> NA</td><td>B6</td><td>1205</td><td>N627JB</td><td>JFK</td><td>PDX</td><td> NA</td><td>2454</td><td>20</td><td>39</td><td>2013-12-31 20:00:00</td></tr>\n",
              "\t<tr><td>2013</td><td>12</td><td>31</td><td>2206</td><td>2110</td><td> 56</td><td>  44</td><td>2339</td><td> 65</td><td>B6</td><td> 775</td><td>N184JB</td><td>JFK</td><td>MSY</td><td>195</td><td>1182</td><td>21</td><td>10</td><td>2013-12-31 21:00:00</td></tr>\n",
              "\t<tr><td>2013</td><td>12</td><td>31</td><td>2235</td><td>2245</td><td>-10</td><td>2351</td><td>2355</td><td> -4</td><td>B6</td><td> 234</td><td>N355JB</td><td>JFK</td><td>BTV</td><td> 49</td><td> 266</td><td>22</td><td>45</td><td>2013-12-31 22:00:00</td></tr>\n",
              "\t<tr><td>2013</td><td>12</td><td>31</td><td>2321</td><td>2250</td><td> 31</td><td>  46</td><td>   8</td><td> 38</td><td>B6</td><td>2002</td><td>N179JB</td><td>JFK</td><td>BUF</td><td> 66</td><td> 301</td><td>22</td><td>50</td><td>2013-12-31 22:00:00</td></tr>\n",
              "\t<tr><td>2013</td><td>12</td><td>31</td><td>2355</td><td>2359</td><td> -4</td><td> 430</td><td> 440</td><td>-10</td><td>B6</td><td>1503</td><td>N509JB</td><td>JFK</td><td>SJU</td><td>195</td><td>1598</td><td>23</td><td>59</td><td>2013-12-31 23:00:00</td></tr>\n",
              "\t<tr><td>2013</td><td>12</td><td>31</td><td>  NA</td><td>2025</td><td> NA</td><td>  NA</td><td>2205</td><td> NA</td><td>AA</td><td> 371</td><td>N482AA</td><td>LGA</td><td>ORD</td><td> NA</td><td> 733</td><td>20</td><td>25</td><td>2013-12-31 20:00:00</td></tr>\n",
              "\t<tr><td>2013</td><td>12</td><td>31</td><td>  NA</td><td>1000</td><td> NA</td><td>  NA</td><td>1252</td><td> NA</td><td>UA</td><td>1124</td><td>NA    </td><td>EWR</td><td>EGE</td><td> NA</td><td>1725</td><td>10</td><td> 0</td><td>2013-12-31 10:00:00</td></tr>\n",
              "\t<tr><td>2013</td><td>12</td><td>31</td><td>  NA</td><td>2000</td><td> NA</td><td>  NA</td><td>2146</td><td> NA</td><td>UA</td><td>1482</td><td>NA    </td><td>EWR</td><td>ORD</td><td> NA</td><td> 719</td><td>20</td><td> 0</td><td>2013-12-31 20:00:00</td></tr>\n",
              "\t<tr><td>2013</td><td>12</td><td>31</td><td>  NA</td><td> 855</td><td> NA</td><td>  NA</td><td>1142</td><td> NA</td><td>UA</td><td>1506</td><td>NA    </td><td>EWR</td><td>JAC</td><td> NA</td><td>1874</td><td> 8</td><td>55</td><td>2013-12-31 08:00:00</td></tr>\n",
              "\t<tr><td>2013</td><td>12</td><td>31</td><td>  NA</td><td>1615</td><td> NA</td><td>  NA</td><td>1800</td><td> NA</td><td>MQ</td><td>3301</td><td>N844MQ</td><td>LGA</td><td>RDU</td><td> NA</td><td> 431</td><td>16</td><td>15</td><td>2013-12-31 16:00:00</td></tr>\n",
              "</tbody>\n",
              "</table>\n"
            ],
            "text/markdown": "\nA tibble: 28096 × 19\n\n| year &lt;int&gt; | month &lt;int&gt; | day &lt;int&gt; | dep_time &lt;int&gt; | sched_dep_time &lt;int&gt; | dep_delay &lt;dbl&gt; | arr_time &lt;int&gt; | sched_arr_time &lt;int&gt; | arr_delay &lt;dbl&gt; | carrier &lt;chr&gt; | flight &lt;int&gt; | tailnum &lt;chr&gt; | origin &lt;chr&gt; | dest &lt;chr&gt; | air_time &lt;dbl&gt; | distance &lt;dbl&gt; | hour &lt;dbl&gt; | minute &lt;dbl&gt; | time_hour &lt;dttm&gt; |\n|---|---|---|---|---|---|---|---|---|---|---|---|---|---|---|---|---|---|---|\n| 2013 | 10 | 1 | 536 | 545 |  -9 | 809 | 855 | -46 | AA | 2243 | N630AA | JFK | MIA | 132 | 1089 | 5 | 45 | 2013-10-01 05:00:00 |\n| 2013 | 10 | 1 | 544 | 550 |  -6 | 912 | 932 | -20 | B6 |  939 | N593JB | JFK | BQN | 191 | 1576 | 5 | 50 | 2013-10-01 05:00:00 |\n| 2013 | 10 | 1 | 550 | 600 | -10 | 649 | 659 | -10 | US | 2167 | N749US | LGA | DCA |  39 |  214 | 6 |  0 | 2013-10-01 06:00:00 |\n| 2013 | 10 | 1 | 551 | 600 |  -9 | 655 | 708 | -13 | B6 | 2180 | N238JB | EWR | BOS |  40 |  200 | 6 |  0 | 2013-10-01 06:00:00 |\n| 2013 | 10 | 1 | 553 | 600 |  -7 | 811 | 829 | -18 | DL |  563 | N961DL | LGA | ATL | 105 |  762 | 6 |  0 | 2013-10-01 06:00:00 |\n| 2013 | 10 | 1 | 555 | 600 |  -5 | 810 | 840 | -30 | B6 |   27 | N580JB | EWR | MCO | 117 |  937 | 6 |  0 | 2013-10-01 06:00:00 |\n| 2013 | 10 | 1 | 557 | 600 |  -3 | 851 | 923 | -32 | UA |  303 | N590UA | JFK | SFO | 331 | 2586 | 6 |  0 | 2013-10-01 06:00:00 |\n| 2013 | 10 | 1 | 558 | 600 |  -2 | 757 | 815 | -18 | FL |  345 | N338AT | LGA | ATL |  98 |  762 | 6 |  0 | 2013-10-01 06:00:00 |\n| 2013 | 10 | 1 | 559 | 600 |  -1 | 719 | 730 | -11 | AA |  301 | N466AA | LGA | ORD | 115 |  733 | 6 |  0 | 2013-10-01 06:00:00 |\n| 2013 | 10 | 1 | 604 | 610 |  -6 | 751 | 813 | -22 | DL | 1919 | N986DL | LGA | MSP | 146 | 1020 | 6 | 10 | 2013-10-01 06:00:00 |\n| 2013 | 10 | 1 | 606 | 610 |  -4 | 719 | 724 |  -5 | EV | 6177 | N15986 | EWR | IAD |  46 |  212 | 6 | 10 | 2013-10-01 06:00:00 |\n| 2013 | 10 | 1 | 612 | 615 |  -3 | 808 | 821 | -13 | EV | 4471 | N13965 | EWR | CLT |  75 |  529 | 6 | 15 | 2013-10-01 06:00:00 |\n| 2013 | 10 | 1 | 614 | 600 |  14 | 719 | 715 |   4 | WN |  464 | N411WN | EWR | MDW | 102 |  711 | 6 |  0 | 2013-10-01 06:00:00 |\n| 2013 | 10 | 1 | 616 | 622 |  -6 | 808 | 827 | -19 | EV | 4150 | N15973 | EWR | CVG |  87 |  569 | 6 | 22 | 2013-10-01 06:00:00 |\n| 2013 | 10 | 1 | 621 | 629 |  -8 | 854 | 929 | -35 | AA | 1205 | N3GCAA | EWR | MIA | 134 | 1085 | 6 | 29 | 2013-10-01 06:00:00 |\n| 2013 | 10 | 1 | 622 | 625 |  -3 | 843 | 935 | -52 | WN |   16 | N905WN | EWR | HOU | 175 | 1411 | 6 | 25 | 2013-10-01 06:00:00 |\n| 2013 | 10 | 1 | 625 | 630 |  -5 | 913 | 940 | -27 | UA |  421 | N507UA | EWR | SFO | 323 | 2565 | 6 | 30 | 2013-10-01 06:00:00 |\n| 2013 | 10 | 1 | 626 | 635 |  -9 | 818 | 833 | -15 | US | 2023 | N171US | EWR | CLT |  72 |  529 | 6 | 35 | 2013-10-01 06:00:00 |\n| 2013 | 10 | 1 | 627 | 630 |  -3 | 809 | 753 |  16 | B6 |  905 | N662JB | JFK | ORD | 118 |  740 | 6 | 30 | 2013-10-01 06:00:00 |\n| 2013 | 10 | 1 | 629 | 635 |  -6 | 825 | 833 |  -8 | EV | 4535 | N14125 | EWR | MSP | 154 | 1008 | 6 | 35 | 2013-10-01 06:00:00 |\n| 2013 | 10 | 1 | 635 | 640 |  -5 | 743 | 807 | -24 | EV | 4422 | N11176 | EWR | PIT |  50 |  319 | 6 | 40 | 2013-10-01 06:00:00 |\n| 2013 | 10 | 1 | 636 | 645 |  -9 | 903 | 938 | -35 | B6 |  525 | N556JB | JFK | TPA | 130 | 1005 | 6 | 45 | 2013-10-01 06:00:00 |\n| 2013 | 10 | 1 | 638 | 640 |  -2 | 839 | 905 | -26 | DL |   27 | N388DA | JFK | ATL | 101 |  760 | 6 | 40 | 2013-10-01 06:00:00 |\n| 2013 | 10 | 1 | 647 | 655 |  -8 | 744 | 809 | -25 | B6 |  318 | N355JB | JFK | BOS |  35 |  187 | 6 | 55 | 2013-10-01 06:00:00 |\n| 2013 | 10 | 1 | 650 | 655 |  -5 | 758 | 810 | -12 | WN |  404 | N269WN | LGA | MKE | 109 |  738 | 6 | 55 | 2013-10-01 06:00:00 |\n| 2013 | 10 | 1 | 652 | 652 |   0 | 921 | 954 | -33 | UA | 1439 | N37471 | EWR | LAX | 309 | 2454 | 6 | 52 | 2013-10-01 06:00:00 |\n| 2013 | 10 | 1 | 652 | 655 |  -3 | 900 | 920 | -20 | AA | 1263 | N5EMAA | JFK | LAS | 276 | 2248 | 6 | 55 | 2013-10-01 06:00:00 |\n| 2013 | 10 | 1 | 654 | 700 |  -6 | 912 | 942 | -30 | DL | 1547 | N918DE | LGA | ATL | 101 |  762 | 7 |  0 | 2013-10-01 07:00:00 |\n| 2013 | 10 | 1 | 656 | 705 |  -9 | 928 | 955 | -27 | AA | 1107 | N3BCAA | LGA | DFW | 175 | 1389 | 7 |  5 | 2013-10-01 07:00:00 |\n| 2013 | 10 | 1 | 658 | 700 |  -2 | 826 | 833 |  -7 | UA |  331 | N833UA | LGA | ORD | 115 |  733 | 7 |  0 | 2013-10-01 07:00:00 |\n| ⋮ | ⋮ | ⋮ | ⋮ | ⋮ | ⋮ | ⋮ | ⋮ | ⋮ | ⋮ | ⋮ | ⋮ | ⋮ | ⋮ | ⋮ | ⋮ | ⋮ | ⋮ | ⋮ |\n| 2013 | 12 | 31 | 1921 | 1921 |   0 | 2247 | 2246 |   1 | B6 |   71 | N644JB | JFK | SLC | 298 | 1990 | 19 | 21 | 2013-12-31 19:00:00 |\n| 2013 | 12 | 31 | 1922 | 1930 |  -8 | 2116 | 2115 |   1 | MQ | 3535 | N501MQ | JFK | CMH |  82 |  483 | 19 | 30 | 2013-12-31 19:00:00 |\n| 2013 | 12 | 31 | 1926 | 1935 |  -9 | 2139 | 2203 | -24 | FL | 1346 | N942AT | LGA | ATL | 116 |  762 | 19 | 35 | 2013-12-31 19:00:00 |\n| 2013 | 12 | 31 | 1931 | 1915 |  16 | 2213 | 2149 |  24 | DL | 1896 | N310NW | LGA | DEN | 254 | 1620 | 19 | 15 | 2013-12-31 19:00:00 |\n| 2013 | 12 | 31 | 1948 | 1938 |  10 | 2152 | 2144 |   8 | EV | 4714 | N14902 | EWR | CLT | 101 |  529 | 19 | 38 | 2013-12-31 19:00:00 |\n| 2013 | 12 | 31 | 1952 | 1945 |   7 | 2148 | 2150 |  -2 | MQ | 3603 | N5PBMQ | LGA | DTW |  89 |  502 | 19 | 45 | 2013-12-31 19:00:00 |\n| 2013 | 12 | 31 | 1958 | 1945 |  13 | 2149 | 2130 |  19 | MQ | 3374 | N802MQ | JFK | RDU |  75 |  427 | 19 | 45 | 2013-12-31 19:00:00 |\n| 2013 | 12 | 31 | 2001 | 1959 |   2 | 2248 | 2303 | -15 | UA |  469 | N417UA | EWR | PBI | 145 | 1023 | 19 | 59 | 2013-12-31 19:00:00 |\n| 2013 | 12 | 31 | 2011 | 1929 |  42 | 2259 | 2235 |  24 | UA | 1631 | N27205 | EWR | TPA | 149 |  997 | 19 | 29 | 2013-12-31 19:00:00 |\n| 2013 | 12 | 31 | 2019 | 2033 | -14 | 2144 | 2206 | -22 | FL | 1544 | N974AT | LGA | CAK |  74 |  397 | 20 | 33 | 2013-12-31 20:00:00 |\n| 2013 | 12 | 31 | 2021 | 2017 |   4 |  101 |  116 | -15 | UA | 1244 | N15710 | EWR | SJU | 204 | 1608 | 20 | 17 | 2013-12-31 20:00:00 |\n| 2013 | 12 | 31 | 2031 | 2021 |  10 | 2358 | 2357 |   1 | B6 |  915 | N821JB | JFK | SFO | 364 | 2586 | 20 | 21 | 2013-12-31 20:00:00 |\n| 2013 | 12 | 31 | 2044 | 2030 |  14 | 2337 | 2323 |  14 | B6 |  153 | N508JB | JFK | PBI | 157 | 1028 | 20 | 30 | 2013-12-31 20:00:00 |\n| 2013 | 12 | 31 | 2050 | 2059 |  -9 | 2240 | 2244 |  -4 | B6 |  105 | N294JB | JFK | ORD | 136 |  740 | 20 | 59 | 2013-12-31 20:00:00 |\n| 2013 | 12 | 31 | 2057 | 1740 | 197 | 2215 | 1900 | 195 | B6 | 1407 | N292JB | JFK | IAD |  53 |  228 | 17 | 40 | 2013-12-31 17:00:00 |\n| 2013 | 12 | 31 | 2104 | 2015 |  49 | 2206 | 2126 |  40 | B6 |  418 | N190JB | JFK | BOS |  38 |  187 | 20 | 15 | 2013-12-31 20:00:00 |\n| 2013 | 12 | 31 | 2117 | 2046 |  31 | 2356 | 2349 |   7 | UA |  249 | N491UA | EWR | TPA | 142 |  997 | 20 | 46 | 2013-12-31 20:00:00 |\n| 2013 | 12 | 31 | 2121 | 2130 |  -9 | 2237 | 2245 |  -8 | MQ | 3621 | N821MQ | JFK | DCA |  43 |  213 | 21 | 30 | 2013-12-31 21:00:00 |\n| 2013 | 12 | 31 | 2128 | 2030 |  58 | 2320 | 2150 |  90 | MQ | 3604 | N8EGMQ | EWR | ORD | 120 |  719 | 20 | 30 | 2013-12-31 20:00:00 |\n| 2013 | 12 | 31 | 2138 | 2141 |  -3 |   50 |   37 |  13 | B6 |  425 | N705JB | JFK | TPA | 167 | 1005 | 21 | 41 | 2013-12-31 21:00:00 |\n| 2013 | 12 | 31 | 2155 | 2039 |  76 |  253 | 2355 |  NA | B6 | 1205 | N627JB | JFK | PDX |  NA | 2454 | 20 | 39 | 2013-12-31 20:00:00 |\n| 2013 | 12 | 31 | 2206 | 2110 |  56 |   44 | 2339 |  65 | B6 |  775 | N184JB | JFK | MSY | 195 | 1182 | 21 | 10 | 2013-12-31 21:00:00 |\n| 2013 | 12 | 31 | 2235 | 2245 | -10 | 2351 | 2355 |  -4 | B6 |  234 | N355JB | JFK | BTV |  49 |  266 | 22 | 45 | 2013-12-31 22:00:00 |\n| 2013 | 12 | 31 | 2321 | 2250 |  31 |   46 |    8 |  38 | B6 | 2002 | N179JB | JFK | BUF |  66 |  301 | 22 | 50 | 2013-12-31 22:00:00 |\n| 2013 | 12 | 31 | 2355 | 2359 |  -4 |  430 |  440 | -10 | B6 | 1503 | N509JB | JFK | SJU | 195 | 1598 | 23 | 59 | 2013-12-31 23:00:00 |\n| 2013 | 12 | 31 |   NA | 2025 |  NA |   NA | 2205 |  NA | AA |  371 | N482AA | LGA | ORD |  NA |  733 | 20 | 25 | 2013-12-31 20:00:00 |\n| 2013 | 12 | 31 |   NA | 1000 |  NA |   NA | 1252 |  NA | UA | 1124 | NA     | EWR | EGE |  NA | 1725 | 10 |  0 | 2013-12-31 10:00:00 |\n| 2013 | 12 | 31 |   NA | 2000 |  NA |   NA | 2146 |  NA | UA | 1482 | NA     | EWR | ORD |  NA |  719 | 20 |  0 | 2013-12-31 20:00:00 |\n| 2013 | 12 | 31 |   NA |  855 |  NA |   NA | 1142 |  NA | UA | 1506 | NA     | EWR | JAC |  NA | 1874 |  8 | 55 | 2013-12-31 08:00:00 |\n| 2013 | 12 | 31 |   NA | 1615 |  NA |   NA | 1800 |  NA | MQ | 3301 | N844MQ | LGA | RDU |  NA |  431 | 16 | 15 | 2013-12-31 16:00:00 |\n\n",
            "text/latex": "A tibble: 28096 × 19\n\\begin{tabular}{lllllllllllllllllll}\n year & month & day & dep\\_time & sched\\_dep\\_time & dep\\_delay & arr\\_time & sched\\_arr\\_time & arr\\_delay & carrier & flight & tailnum & origin & dest & air\\_time & distance & hour & minute & time\\_hour\\\\\n <int> & <int> & <int> & <int> & <int> & <dbl> & <int> & <int> & <dbl> & <chr> & <int> & <chr> & <chr> & <chr> & <dbl> & <dbl> & <dbl> & <dbl> & <dttm>\\\\\n\\hline\n\t 2013 & 10 & 1 & 536 & 545 &  -9 & 809 & 855 & -46 & AA & 2243 & N630AA & JFK & MIA & 132 & 1089 & 5 & 45 & 2013-10-01 05:00:00\\\\\n\t 2013 & 10 & 1 & 544 & 550 &  -6 & 912 & 932 & -20 & B6 &  939 & N593JB & JFK & BQN & 191 & 1576 & 5 & 50 & 2013-10-01 05:00:00\\\\\n\t 2013 & 10 & 1 & 550 & 600 & -10 & 649 & 659 & -10 & US & 2167 & N749US & LGA & DCA &  39 &  214 & 6 &  0 & 2013-10-01 06:00:00\\\\\n\t 2013 & 10 & 1 & 551 & 600 &  -9 & 655 & 708 & -13 & B6 & 2180 & N238JB & EWR & BOS &  40 &  200 & 6 &  0 & 2013-10-01 06:00:00\\\\\n\t 2013 & 10 & 1 & 553 & 600 &  -7 & 811 & 829 & -18 & DL &  563 & N961DL & LGA & ATL & 105 &  762 & 6 &  0 & 2013-10-01 06:00:00\\\\\n\t 2013 & 10 & 1 & 555 & 600 &  -5 & 810 & 840 & -30 & B6 &   27 & N580JB & EWR & MCO & 117 &  937 & 6 &  0 & 2013-10-01 06:00:00\\\\\n\t 2013 & 10 & 1 & 557 & 600 &  -3 & 851 & 923 & -32 & UA &  303 & N590UA & JFK & SFO & 331 & 2586 & 6 &  0 & 2013-10-01 06:00:00\\\\\n\t 2013 & 10 & 1 & 558 & 600 &  -2 & 757 & 815 & -18 & FL &  345 & N338AT & LGA & ATL &  98 &  762 & 6 &  0 & 2013-10-01 06:00:00\\\\\n\t 2013 & 10 & 1 & 559 & 600 &  -1 & 719 & 730 & -11 & AA &  301 & N466AA & LGA & ORD & 115 &  733 & 6 &  0 & 2013-10-01 06:00:00\\\\\n\t 2013 & 10 & 1 & 604 & 610 &  -6 & 751 & 813 & -22 & DL & 1919 & N986DL & LGA & MSP & 146 & 1020 & 6 & 10 & 2013-10-01 06:00:00\\\\\n\t 2013 & 10 & 1 & 606 & 610 &  -4 & 719 & 724 &  -5 & EV & 6177 & N15986 & EWR & IAD &  46 &  212 & 6 & 10 & 2013-10-01 06:00:00\\\\\n\t 2013 & 10 & 1 & 612 & 615 &  -3 & 808 & 821 & -13 & EV & 4471 & N13965 & EWR & CLT &  75 &  529 & 6 & 15 & 2013-10-01 06:00:00\\\\\n\t 2013 & 10 & 1 & 614 & 600 &  14 & 719 & 715 &   4 & WN &  464 & N411WN & EWR & MDW & 102 &  711 & 6 &  0 & 2013-10-01 06:00:00\\\\\n\t 2013 & 10 & 1 & 616 & 622 &  -6 & 808 & 827 & -19 & EV & 4150 & N15973 & EWR & CVG &  87 &  569 & 6 & 22 & 2013-10-01 06:00:00\\\\\n\t 2013 & 10 & 1 & 621 & 629 &  -8 & 854 & 929 & -35 & AA & 1205 & N3GCAA & EWR & MIA & 134 & 1085 & 6 & 29 & 2013-10-01 06:00:00\\\\\n\t 2013 & 10 & 1 & 622 & 625 &  -3 & 843 & 935 & -52 & WN &   16 & N905WN & EWR & HOU & 175 & 1411 & 6 & 25 & 2013-10-01 06:00:00\\\\\n\t 2013 & 10 & 1 & 625 & 630 &  -5 & 913 & 940 & -27 & UA &  421 & N507UA & EWR & SFO & 323 & 2565 & 6 & 30 & 2013-10-01 06:00:00\\\\\n\t 2013 & 10 & 1 & 626 & 635 &  -9 & 818 & 833 & -15 & US & 2023 & N171US & EWR & CLT &  72 &  529 & 6 & 35 & 2013-10-01 06:00:00\\\\\n\t 2013 & 10 & 1 & 627 & 630 &  -3 & 809 & 753 &  16 & B6 &  905 & N662JB & JFK & ORD & 118 &  740 & 6 & 30 & 2013-10-01 06:00:00\\\\\n\t 2013 & 10 & 1 & 629 & 635 &  -6 & 825 & 833 &  -8 & EV & 4535 & N14125 & EWR & MSP & 154 & 1008 & 6 & 35 & 2013-10-01 06:00:00\\\\\n\t 2013 & 10 & 1 & 635 & 640 &  -5 & 743 & 807 & -24 & EV & 4422 & N11176 & EWR & PIT &  50 &  319 & 6 & 40 & 2013-10-01 06:00:00\\\\\n\t 2013 & 10 & 1 & 636 & 645 &  -9 & 903 & 938 & -35 & B6 &  525 & N556JB & JFK & TPA & 130 & 1005 & 6 & 45 & 2013-10-01 06:00:00\\\\\n\t 2013 & 10 & 1 & 638 & 640 &  -2 & 839 & 905 & -26 & DL &   27 & N388DA & JFK & ATL & 101 &  760 & 6 & 40 & 2013-10-01 06:00:00\\\\\n\t 2013 & 10 & 1 & 647 & 655 &  -8 & 744 & 809 & -25 & B6 &  318 & N355JB & JFK & BOS &  35 &  187 & 6 & 55 & 2013-10-01 06:00:00\\\\\n\t 2013 & 10 & 1 & 650 & 655 &  -5 & 758 & 810 & -12 & WN &  404 & N269WN & LGA & MKE & 109 &  738 & 6 & 55 & 2013-10-01 06:00:00\\\\\n\t 2013 & 10 & 1 & 652 & 652 &   0 & 921 & 954 & -33 & UA & 1439 & N37471 & EWR & LAX & 309 & 2454 & 6 & 52 & 2013-10-01 06:00:00\\\\\n\t 2013 & 10 & 1 & 652 & 655 &  -3 & 900 & 920 & -20 & AA & 1263 & N5EMAA & JFK & LAS & 276 & 2248 & 6 & 55 & 2013-10-01 06:00:00\\\\\n\t 2013 & 10 & 1 & 654 & 700 &  -6 & 912 & 942 & -30 & DL & 1547 & N918DE & LGA & ATL & 101 &  762 & 7 &  0 & 2013-10-01 07:00:00\\\\\n\t 2013 & 10 & 1 & 656 & 705 &  -9 & 928 & 955 & -27 & AA & 1107 & N3BCAA & LGA & DFW & 175 & 1389 & 7 &  5 & 2013-10-01 07:00:00\\\\\n\t 2013 & 10 & 1 & 658 & 700 &  -2 & 826 & 833 &  -7 & UA &  331 & N833UA & LGA & ORD & 115 &  733 & 7 &  0 & 2013-10-01 07:00:00\\\\\n\t ⋮ & ⋮ & ⋮ & ⋮ & ⋮ & ⋮ & ⋮ & ⋮ & ⋮ & ⋮ & ⋮ & ⋮ & ⋮ & ⋮ & ⋮ & ⋮ & ⋮ & ⋮ & ⋮\\\\\n\t 2013 & 12 & 31 & 1921 & 1921 &   0 & 2247 & 2246 &   1 & B6 &   71 & N644JB & JFK & SLC & 298 & 1990 & 19 & 21 & 2013-12-31 19:00:00\\\\\n\t 2013 & 12 & 31 & 1922 & 1930 &  -8 & 2116 & 2115 &   1 & MQ & 3535 & N501MQ & JFK & CMH &  82 &  483 & 19 & 30 & 2013-12-31 19:00:00\\\\\n\t 2013 & 12 & 31 & 1926 & 1935 &  -9 & 2139 & 2203 & -24 & FL & 1346 & N942AT & LGA & ATL & 116 &  762 & 19 & 35 & 2013-12-31 19:00:00\\\\\n\t 2013 & 12 & 31 & 1931 & 1915 &  16 & 2213 & 2149 &  24 & DL & 1896 & N310NW & LGA & DEN & 254 & 1620 & 19 & 15 & 2013-12-31 19:00:00\\\\\n\t 2013 & 12 & 31 & 1948 & 1938 &  10 & 2152 & 2144 &   8 & EV & 4714 & N14902 & EWR & CLT & 101 &  529 & 19 & 38 & 2013-12-31 19:00:00\\\\\n\t 2013 & 12 & 31 & 1952 & 1945 &   7 & 2148 & 2150 &  -2 & MQ & 3603 & N5PBMQ & LGA & DTW &  89 &  502 & 19 & 45 & 2013-12-31 19:00:00\\\\\n\t 2013 & 12 & 31 & 1958 & 1945 &  13 & 2149 & 2130 &  19 & MQ & 3374 & N802MQ & JFK & RDU &  75 &  427 & 19 & 45 & 2013-12-31 19:00:00\\\\\n\t 2013 & 12 & 31 & 2001 & 1959 &   2 & 2248 & 2303 & -15 & UA &  469 & N417UA & EWR & PBI & 145 & 1023 & 19 & 59 & 2013-12-31 19:00:00\\\\\n\t 2013 & 12 & 31 & 2011 & 1929 &  42 & 2259 & 2235 &  24 & UA & 1631 & N27205 & EWR & TPA & 149 &  997 & 19 & 29 & 2013-12-31 19:00:00\\\\\n\t 2013 & 12 & 31 & 2019 & 2033 & -14 & 2144 & 2206 & -22 & FL & 1544 & N974AT & LGA & CAK &  74 &  397 & 20 & 33 & 2013-12-31 20:00:00\\\\\n\t 2013 & 12 & 31 & 2021 & 2017 &   4 &  101 &  116 & -15 & UA & 1244 & N15710 & EWR & SJU & 204 & 1608 & 20 & 17 & 2013-12-31 20:00:00\\\\\n\t 2013 & 12 & 31 & 2031 & 2021 &  10 & 2358 & 2357 &   1 & B6 &  915 & N821JB & JFK & SFO & 364 & 2586 & 20 & 21 & 2013-12-31 20:00:00\\\\\n\t 2013 & 12 & 31 & 2044 & 2030 &  14 & 2337 & 2323 &  14 & B6 &  153 & N508JB & JFK & PBI & 157 & 1028 & 20 & 30 & 2013-12-31 20:00:00\\\\\n\t 2013 & 12 & 31 & 2050 & 2059 &  -9 & 2240 & 2244 &  -4 & B6 &  105 & N294JB & JFK & ORD & 136 &  740 & 20 & 59 & 2013-12-31 20:00:00\\\\\n\t 2013 & 12 & 31 & 2057 & 1740 & 197 & 2215 & 1900 & 195 & B6 & 1407 & N292JB & JFK & IAD &  53 &  228 & 17 & 40 & 2013-12-31 17:00:00\\\\\n\t 2013 & 12 & 31 & 2104 & 2015 &  49 & 2206 & 2126 &  40 & B6 &  418 & N190JB & JFK & BOS &  38 &  187 & 20 & 15 & 2013-12-31 20:00:00\\\\\n\t 2013 & 12 & 31 & 2117 & 2046 &  31 & 2356 & 2349 &   7 & UA &  249 & N491UA & EWR & TPA & 142 &  997 & 20 & 46 & 2013-12-31 20:00:00\\\\\n\t 2013 & 12 & 31 & 2121 & 2130 &  -9 & 2237 & 2245 &  -8 & MQ & 3621 & N821MQ & JFK & DCA &  43 &  213 & 21 & 30 & 2013-12-31 21:00:00\\\\\n\t 2013 & 12 & 31 & 2128 & 2030 &  58 & 2320 & 2150 &  90 & MQ & 3604 & N8EGMQ & EWR & ORD & 120 &  719 & 20 & 30 & 2013-12-31 20:00:00\\\\\n\t 2013 & 12 & 31 & 2138 & 2141 &  -3 &   50 &   37 &  13 & B6 &  425 & N705JB & JFK & TPA & 167 & 1005 & 21 & 41 & 2013-12-31 21:00:00\\\\\n\t 2013 & 12 & 31 & 2155 & 2039 &  76 &  253 & 2355 &  NA & B6 & 1205 & N627JB & JFK & PDX &  NA & 2454 & 20 & 39 & 2013-12-31 20:00:00\\\\\n\t 2013 & 12 & 31 & 2206 & 2110 &  56 &   44 & 2339 &  65 & B6 &  775 & N184JB & JFK & MSY & 195 & 1182 & 21 & 10 & 2013-12-31 21:00:00\\\\\n\t 2013 & 12 & 31 & 2235 & 2245 & -10 & 2351 & 2355 &  -4 & B6 &  234 & N355JB & JFK & BTV &  49 &  266 & 22 & 45 & 2013-12-31 22:00:00\\\\\n\t 2013 & 12 & 31 & 2321 & 2250 &  31 &   46 &    8 &  38 & B6 & 2002 & N179JB & JFK & BUF &  66 &  301 & 22 & 50 & 2013-12-31 22:00:00\\\\\n\t 2013 & 12 & 31 & 2355 & 2359 &  -4 &  430 &  440 & -10 & B6 & 1503 & N509JB & JFK & SJU & 195 & 1598 & 23 & 59 & 2013-12-31 23:00:00\\\\\n\t 2013 & 12 & 31 &   NA & 2025 &  NA &   NA & 2205 &  NA & AA &  371 & N482AA & LGA & ORD &  NA &  733 & 20 & 25 & 2013-12-31 20:00:00\\\\\n\t 2013 & 12 & 31 &   NA & 1000 &  NA &   NA & 1252 &  NA & UA & 1124 & NA     & EWR & EGE &  NA & 1725 & 10 &  0 & 2013-12-31 10:00:00\\\\\n\t 2013 & 12 & 31 &   NA & 2000 &  NA &   NA & 2146 &  NA & UA & 1482 & NA     & EWR & ORD &  NA &  719 & 20 &  0 & 2013-12-31 20:00:00\\\\\n\t 2013 & 12 & 31 &   NA &  855 &  NA &   NA & 1142 &  NA & UA & 1506 & NA     & EWR & JAC &  NA & 1874 &  8 & 55 & 2013-12-31 08:00:00\\\\\n\t 2013 & 12 & 31 &   NA & 1615 &  NA &   NA & 1800 &  NA & MQ & 3301 & N844MQ & LGA & RDU &  NA &  431 & 16 & 15 & 2013-12-31 16:00:00\\\\\n\\end{tabular}\n",
            "text/plain": [
              "      year month day dep_time sched_dep_time dep_delay arr_time sched_arr_time\n",
              "1     2013 10    1   536      545             -9       809      855           \n",
              "2     2013 10    1   544      550             -6       912      932           \n",
              "3     2013 10    1   550      600            -10       649      659           \n",
              "4     2013 10    1   551      600             -9       655      708           \n",
              "5     2013 10    1   553      600             -7       811      829           \n",
              "6     2013 10    1   555      600             -5       810      840           \n",
              "7     2013 10    1   557      600             -3       851      923           \n",
              "8     2013 10    1   558      600             -2       757      815           \n",
              "9     2013 10    1   559      600             -1       719      730           \n",
              "10    2013 10    1   604      610             -6       751      813           \n",
              "11    2013 10    1   606      610             -4       719      724           \n",
              "12    2013 10    1   612      615             -3       808      821           \n",
              "13    2013 10    1   614      600             14       719      715           \n",
              "14    2013 10    1   616      622             -6       808      827           \n",
              "15    2013 10    1   621      629             -8       854      929           \n",
              "16    2013 10    1   622      625             -3       843      935           \n",
              "17    2013 10    1   625      630             -5       913      940           \n",
              "18    2013 10    1   626      635             -9       818      833           \n",
              "19    2013 10    1   627      630             -3       809      753           \n",
              "20    2013 10    1   629      635             -6       825      833           \n",
              "21    2013 10    1   635      640             -5       743      807           \n",
              "22    2013 10    1   636      645             -9       903      938           \n",
              "23    2013 10    1   638      640             -2       839      905           \n",
              "24    2013 10    1   647      655             -8       744      809           \n",
              "25    2013 10    1   650      655             -5       758      810           \n",
              "26    2013 10    1   652      652              0       921      954           \n",
              "27    2013 10    1   652      655             -3       900      920           \n",
              "28    2013 10    1   654      700             -6       912      942           \n",
              "29    2013 10    1   656      705             -9       928      955           \n",
              "30    2013 10    1   658      700             -2       826      833           \n",
              "⋮     ⋮    ⋮     ⋮   ⋮        ⋮              ⋮         ⋮        ⋮             \n",
              "28067 2013 12    31  1921     1921             0       2247     2246          \n",
              "28068 2013 12    31  1922     1930            -8       2116     2115          \n",
              "28069 2013 12    31  1926     1935            -9       2139     2203          \n",
              "28070 2013 12    31  1931     1915            16       2213     2149          \n",
              "28071 2013 12    31  1948     1938            10       2152     2144          \n",
              "28072 2013 12    31  1952     1945             7       2148     2150          \n",
              "28073 2013 12    31  1958     1945            13       2149     2130          \n",
              "28074 2013 12    31  2001     1959             2       2248     2303          \n",
              "28075 2013 12    31  2011     1929            42       2259     2235          \n",
              "28076 2013 12    31  2019     2033           -14       2144     2206          \n",
              "28077 2013 12    31  2021     2017             4        101      116          \n",
              "28078 2013 12    31  2031     2021            10       2358     2357          \n",
              "28079 2013 12    31  2044     2030            14       2337     2323          \n",
              "28080 2013 12    31  2050     2059            -9       2240     2244          \n",
              "28081 2013 12    31  2057     1740           197       2215     1900          \n",
              "28082 2013 12    31  2104     2015            49       2206     2126          \n",
              "28083 2013 12    31  2117     2046            31       2356     2349          \n",
              "28084 2013 12    31  2121     2130            -9       2237     2245          \n",
              "28085 2013 12    31  2128     2030            58       2320     2150          \n",
              "28086 2013 12    31  2138     2141            -3         50       37          \n",
              "28087 2013 12    31  2155     2039            76        253     2355          \n",
              "28088 2013 12    31  2206     2110            56         44     2339          \n",
              "28089 2013 12    31  2235     2245           -10       2351     2355          \n",
              "28090 2013 12    31  2321     2250            31         46        8          \n",
              "28091 2013 12    31  2355     2359            -4        430      440          \n",
              "28092 2013 12    31    NA     2025            NA         NA     2205          \n",
              "28093 2013 12    31    NA     1000            NA         NA     1252          \n",
              "28094 2013 12    31    NA     2000            NA         NA     2146          \n",
              "28095 2013 12    31    NA      855            NA         NA     1142          \n",
              "28096 2013 12    31    NA     1615            NA         NA     1800          \n",
              "      arr_delay carrier flight tailnum origin dest air_time distance hour\n",
              "1     -46       AA      2243   N630AA  JFK    MIA  132      1089     5   \n",
              "2     -20       B6       939   N593JB  JFK    BQN  191      1576     5   \n",
              "3     -10       US      2167   N749US  LGA    DCA   39       214     6   \n",
              "4     -13       B6      2180   N238JB  EWR    BOS   40       200     6   \n",
              "5     -18       DL       563   N961DL  LGA    ATL  105       762     6   \n",
              "6     -30       B6        27   N580JB  EWR    MCO  117       937     6   \n",
              "7     -32       UA       303   N590UA  JFK    SFO  331      2586     6   \n",
              "8     -18       FL       345   N338AT  LGA    ATL   98       762     6   \n",
              "9     -11       AA       301   N466AA  LGA    ORD  115       733     6   \n",
              "10    -22       DL      1919   N986DL  LGA    MSP  146      1020     6   \n",
              "11     -5       EV      6177   N15986  EWR    IAD   46       212     6   \n",
              "12    -13       EV      4471   N13965  EWR    CLT   75       529     6   \n",
              "13      4       WN       464   N411WN  EWR    MDW  102       711     6   \n",
              "14    -19       EV      4150   N15973  EWR    CVG   87       569     6   \n",
              "15    -35       AA      1205   N3GCAA  EWR    MIA  134      1085     6   \n",
              "16    -52       WN        16   N905WN  EWR    HOU  175      1411     6   \n",
              "17    -27       UA       421   N507UA  EWR    SFO  323      2565     6   \n",
              "18    -15       US      2023   N171US  EWR    CLT   72       529     6   \n",
              "19     16       B6       905   N662JB  JFK    ORD  118       740     6   \n",
              "20     -8       EV      4535   N14125  EWR    MSP  154      1008     6   \n",
              "21    -24       EV      4422   N11176  EWR    PIT   50       319     6   \n",
              "22    -35       B6       525   N556JB  JFK    TPA  130      1005     6   \n",
              "23    -26       DL        27   N388DA  JFK    ATL  101       760     6   \n",
              "24    -25       B6       318   N355JB  JFK    BOS   35       187     6   \n",
              "25    -12       WN       404   N269WN  LGA    MKE  109       738     6   \n",
              "26    -33       UA      1439   N37471  EWR    LAX  309      2454     6   \n",
              "27    -20       AA      1263   N5EMAA  JFK    LAS  276      2248     6   \n",
              "28    -30       DL      1547   N918DE  LGA    ATL  101       762     7   \n",
              "29    -27       AA      1107   N3BCAA  LGA    DFW  175      1389     7   \n",
              "30     -7       UA       331   N833UA  LGA    ORD  115       733     7   \n",
              "⋮     ⋮         ⋮       ⋮      ⋮       ⋮      ⋮    ⋮        ⋮        ⋮   \n",
              "28067   1       B6        71   N644JB  JFK    SLC  298      1990     19  \n",
              "28068   1       MQ      3535   N501MQ  JFK    CMH   82       483     19  \n",
              "28069 -24       FL      1346   N942AT  LGA    ATL  116       762     19  \n",
              "28070  24       DL      1896   N310NW  LGA    DEN  254      1620     19  \n",
              "28071   8       EV      4714   N14902  EWR    CLT  101       529     19  \n",
              "28072  -2       MQ      3603   N5PBMQ  LGA    DTW   89       502     19  \n",
              "28073  19       MQ      3374   N802MQ  JFK    RDU   75       427     19  \n",
              "28074 -15       UA       469   N417UA  EWR    PBI  145      1023     19  \n",
              "28075  24       UA      1631   N27205  EWR    TPA  149       997     19  \n",
              "28076 -22       FL      1544   N974AT  LGA    CAK   74       397     20  \n",
              "28077 -15       UA      1244   N15710  EWR    SJU  204      1608     20  \n",
              "28078   1       B6       915   N821JB  JFK    SFO  364      2586     20  \n",
              "28079  14       B6       153   N508JB  JFK    PBI  157      1028     20  \n",
              "28080  -4       B6       105   N294JB  JFK    ORD  136       740     20  \n",
              "28081 195       B6      1407   N292JB  JFK    IAD   53       228     17  \n",
              "28082  40       B6       418   N190JB  JFK    BOS   38       187     20  \n",
              "28083   7       UA       249   N491UA  EWR    TPA  142       997     20  \n",
              "28084  -8       MQ      3621   N821MQ  JFK    DCA   43       213     21  \n",
              "28085  90       MQ      3604   N8EGMQ  EWR    ORD  120       719     20  \n",
              "28086  13       B6       425   N705JB  JFK    TPA  167      1005     21  \n",
              "28087  NA       B6      1205   N627JB  JFK    PDX   NA      2454     20  \n",
              "28088  65       B6       775   N184JB  JFK    MSY  195      1182     21  \n",
              "28089  -4       B6       234   N355JB  JFK    BTV   49       266     22  \n",
              "28090  38       B6      2002   N179JB  JFK    BUF   66       301     22  \n",
              "28091 -10       B6      1503   N509JB  JFK    SJU  195      1598     23  \n",
              "28092  NA       AA       371   N482AA  LGA    ORD   NA       733     20  \n",
              "28093  NA       UA      1124   NA      EWR    EGE   NA      1725     10  \n",
              "28094  NA       UA      1482   NA      EWR    ORD   NA       719     20  \n",
              "28095  NA       UA      1506   NA      EWR    JAC   NA      1874      8  \n",
              "28096  NA       MQ      3301   N844MQ  LGA    RDU   NA       431     16  \n",
              "      minute time_hour          \n",
              "1     45     2013-10-01 05:00:00\n",
              "2     50     2013-10-01 05:00:00\n",
              "3      0     2013-10-01 06:00:00\n",
              "4      0     2013-10-01 06:00:00\n",
              "5      0     2013-10-01 06:00:00\n",
              "6      0     2013-10-01 06:00:00\n",
              "7      0     2013-10-01 06:00:00\n",
              "8      0     2013-10-01 06:00:00\n",
              "9      0     2013-10-01 06:00:00\n",
              "10    10     2013-10-01 06:00:00\n",
              "11    10     2013-10-01 06:00:00\n",
              "12    15     2013-10-01 06:00:00\n",
              "13     0     2013-10-01 06:00:00\n",
              "14    22     2013-10-01 06:00:00\n",
              "15    29     2013-10-01 06:00:00\n",
              "16    25     2013-10-01 06:00:00\n",
              "17    30     2013-10-01 06:00:00\n",
              "18    35     2013-10-01 06:00:00\n",
              "19    30     2013-10-01 06:00:00\n",
              "20    35     2013-10-01 06:00:00\n",
              "21    40     2013-10-01 06:00:00\n",
              "22    45     2013-10-01 06:00:00\n",
              "23    40     2013-10-01 06:00:00\n",
              "24    55     2013-10-01 06:00:00\n",
              "25    55     2013-10-01 06:00:00\n",
              "26    52     2013-10-01 06:00:00\n",
              "27    55     2013-10-01 06:00:00\n",
              "28     0     2013-10-01 07:00:00\n",
              "29     5     2013-10-01 07:00:00\n",
              "30     0     2013-10-01 07:00:00\n",
              "⋮     ⋮      ⋮                  \n",
              "28067 21     2013-12-31 19:00:00\n",
              "28068 30     2013-12-31 19:00:00\n",
              "28069 35     2013-12-31 19:00:00\n",
              "28070 15     2013-12-31 19:00:00\n",
              "28071 38     2013-12-31 19:00:00\n",
              "28072 45     2013-12-31 19:00:00\n",
              "28073 45     2013-12-31 19:00:00\n",
              "28074 59     2013-12-31 19:00:00\n",
              "28075 29     2013-12-31 19:00:00\n",
              "28076 33     2013-12-31 20:00:00\n",
              "28077 17     2013-12-31 20:00:00\n",
              "28078 21     2013-12-31 20:00:00\n",
              "28079 30     2013-12-31 20:00:00\n",
              "28080 59     2013-12-31 20:00:00\n",
              "28081 40     2013-12-31 17:00:00\n",
              "28082 15     2013-12-31 20:00:00\n",
              "28083 46     2013-12-31 20:00:00\n",
              "28084 30     2013-12-31 21:00:00\n",
              "28085 30     2013-12-31 20:00:00\n",
              "28086 41     2013-12-31 21:00:00\n",
              "28087 39     2013-12-31 20:00:00\n",
              "28088 10     2013-12-31 21:00:00\n",
              "28089 45     2013-12-31 22:00:00\n",
              "28090 50     2013-12-31 22:00:00\n",
              "28091 59     2013-12-31 23:00:00\n",
              "28092 25     2013-12-31 20:00:00\n",
              "28093  0     2013-12-31 10:00:00\n",
              "28094  0     2013-12-31 20:00:00\n",
              "28095 55     2013-12-31 08:00:00\n",
              "28096 15     2013-12-31 16:00:00"
            ]
          },
          "metadata": {}
        },
        {
          "output_type": "stream",
          "name": "stderr",
          "text": [
            "Warning message in month == 10:12:\n",
            "“longer object length is not a multiple of shorter object length”\n"
          ]
        },
        {
          "output_type": "display_data",
          "data": {
            "text/html": [
              "28096"
            ],
            "text/markdown": "28096",
            "text/latex": "28096",
            "text/plain": [
              "[1] 28096"
            ]
          },
          "metadata": {}
        },
        {
          "output_type": "stream",
          "name": "stderr",
          "text": [
            "Warning message in month == 1:3:\n",
            "“longer object length is not a multiple of shorter object length”\n"
          ]
        },
        {
          "output_type": "display_data",
          "data": {
            "text/html": [
              "26931"
            ],
            "text/markdown": "26931",
            "text/latex": "26931",
            "text/plain": [
              "[1] 26931"
            ]
          },
          "metadata": {}
        }
      ],
      "source": [
        "# Code to get number of flights that departed in Oct-Dec"
      ]
    },
    {
      "cell_type": "markdown",
      "metadata": {
        "id": "rkwO0R-2Wb2c"
      },
      "source": [
        "### Counting matches\n",
        "Sometimes we just want to know how many observations match a given filter. The `nrow()` command can be used to count the number of rows in a data table."
      ]
    },
    {
      "cell_type": "markdown",
      "metadata": {
        "id": "_9l0g4EiWb2c"
      },
      "source": [
        "Let us try to calculate how many flights with missing departure time in our data."
      ]
    },
    {
      "cell_type": "code",
      "execution_count": 21,
      "metadata": {
        "id": "26FsWgSGWb2c",
        "colab": {
          "base_uri": "https://localhost:8080/",
          "height": 34
        },
        "outputId": "df5e01b2-d492-409e-9faf-acaade853eb6"
      },
      "outputs": [
        {
          "output_type": "display_data",
          "data": {
            "text/html": [
              "8255"
            ],
            "text/markdown": "8255",
            "text/latex": "8255",
            "text/plain": [
              "[1] 8255"
            ]
          },
          "metadata": {}
        }
      ],
      "source": [
        "# How many flights have a missing departure time\n",
        "nrow(filter(flights,is.na(dep_time)))"
      ]
    },
    {
      "cell_type": "markdown",
      "metadata": {
        "id": "0QogtvkgWb2c"
      },
      "source": [
        "How about the number of flights departing between Jan and Mar?"
      ]
    },
    {
      "cell_type": "code",
      "execution_count": 22,
      "metadata": {
        "id": "ZvrBNkU_Wb2c",
        "colab": {
          "base_uri": "https://localhost:8080/",
          "height": 1000
        },
        "outputId": "3ee9bb21-c218-4536-aa3c-d9154635bf3d"
      },
      "outputs": [
        {
          "output_type": "display_data",
          "data": {
            "text/html": [
              "<table class=\"dataframe\">\n",
              "<caption>A tibble: 80789 × 19</caption>\n",
              "<thead>\n",
              "\t<tr><th scope=col>year</th><th scope=col>month</th><th scope=col>day</th><th scope=col>dep_time</th><th scope=col>sched_dep_time</th><th scope=col>dep_delay</th><th scope=col>arr_time</th><th scope=col>sched_arr_time</th><th scope=col>arr_delay</th><th scope=col>carrier</th><th scope=col>flight</th><th scope=col>tailnum</th><th scope=col>origin</th><th scope=col>dest</th><th scope=col>air_time</th><th scope=col>distance</th><th scope=col>hour</th><th scope=col>minute</th><th scope=col>time_hour</th></tr>\n",
              "\t<tr><th scope=col>&lt;int&gt;</th><th scope=col>&lt;int&gt;</th><th scope=col>&lt;int&gt;</th><th scope=col>&lt;int&gt;</th><th scope=col>&lt;int&gt;</th><th scope=col>&lt;dbl&gt;</th><th scope=col>&lt;int&gt;</th><th scope=col>&lt;int&gt;</th><th scope=col>&lt;dbl&gt;</th><th scope=col>&lt;chr&gt;</th><th scope=col>&lt;int&gt;</th><th scope=col>&lt;chr&gt;</th><th scope=col>&lt;chr&gt;</th><th scope=col>&lt;chr&gt;</th><th scope=col>&lt;dbl&gt;</th><th scope=col>&lt;dbl&gt;</th><th scope=col>&lt;dbl&gt;</th><th scope=col>&lt;dbl&gt;</th><th scope=col>&lt;dttm&gt;</th></tr>\n",
              "</thead>\n",
              "<tbody>\n",
              "\t<tr><td>2013</td><td>1</td><td>1</td><td>517</td><td>515</td><td> 2</td><td> 830</td><td> 819</td><td> 11</td><td>UA</td><td>1545</td><td>N14228</td><td>EWR</td><td>IAH</td><td>227</td><td>1400</td><td>5</td><td>15</td><td>2013-01-01 05:00:00</td></tr>\n",
              "\t<tr><td>2013</td><td>1</td><td>1</td><td>533</td><td>529</td><td> 4</td><td> 850</td><td> 830</td><td> 20</td><td>UA</td><td>1714</td><td>N24211</td><td>LGA</td><td>IAH</td><td>227</td><td>1416</td><td>5</td><td>29</td><td>2013-01-01 05:00:00</td></tr>\n",
              "\t<tr><td>2013</td><td>1</td><td>1</td><td>542</td><td>540</td><td> 2</td><td> 923</td><td> 850</td><td> 33</td><td>AA</td><td>1141</td><td>N619AA</td><td>JFK</td><td>MIA</td><td>160</td><td>1089</td><td>5</td><td>40</td><td>2013-01-01 05:00:00</td></tr>\n",
              "\t<tr><td>2013</td><td>1</td><td>1</td><td>544</td><td>545</td><td>-1</td><td>1004</td><td>1022</td><td>-18</td><td>B6</td><td> 725</td><td>N804JB</td><td>JFK</td><td>BQN</td><td>183</td><td>1576</td><td>5</td><td>45</td><td>2013-01-01 05:00:00</td></tr>\n",
              "\t<tr><td>2013</td><td>1</td><td>1</td><td>554</td><td>600</td><td>-6</td><td> 812</td><td> 837</td><td>-25</td><td>DL</td><td> 461</td><td>N668DN</td><td>LGA</td><td>ATL</td><td>116</td><td> 762</td><td>6</td><td> 0</td><td>2013-01-01 06:00:00</td></tr>\n",
              "\t<tr><td>2013</td><td>1</td><td>1</td><td>554</td><td>558</td><td>-4</td><td> 740</td><td> 728</td><td> 12</td><td>UA</td><td>1696</td><td>N39463</td><td>EWR</td><td>ORD</td><td>150</td><td> 719</td><td>5</td><td>58</td><td>2013-01-01 05:00:00</td></tr>\n",
              "\t<tr><td>2013</td><td>1</td><td>1</td><td>555</td><td>600</td><td>-5</td><td> 913</td><td> 854</td><td> 19</td><td>B6</td><td> 507</td><td>N516JB</td><td>EWR</td><td>FLL</td><td>158</td><td>1065</td><td>6</td><td> 0</td><td>2013-01-01 06:00:00</td></tr>\n",
              "\t<tr><td>2013</td><td>1</td><td>1</td><td>557</td><td>600</td><td>-3</td><td> 709</td><td> 723</td><td>-14</td><td>EV</td><td>5708</td><td>N829AS</td><td>LGA</td><td>IAD</td><td> 53</td><td> 229</td><td>6</td><td> 0</td><td>2013-01-01 06:00:00</td></tr>\n",
              "\t<tr><td>2013</td><td>1</td><td>1</td><td>557</td><td>600</td><td>-3</td><td> 838</td><td> 846</td><td> -8</td><td>B6</td><td>  79</td><td>N593JB</td><td>JFK</td><td>MCO</td><td>140</td><td> 944</td><td>6</td><td> 0</td><td>2013-01-01 06:00:00</td></tr>\n",
              "\t<tr><td>2013</td><td>1</td><td>1</td><td>558</td><td>600</td><td>-2</td><td> 753</td><td> 745</td><td>  8</td><td>AA</td><td> 301</td><td>N3ALAA</td><td>LGA</td><td>ORD</td><td>138</td><td> 733</td><td>6</td><td> 0</td><td>2013-01-01 06:00:00</td></tr>\n",
              "\t<tr><td>2013</td><td>1</td><td>1</td><td>558</td><td>600</td><td>-2</td><td> 849</td><td> 851</td><td> -2</td><td>B6</td><td>  49</td><td>N793JB</td><td>JFK</td><td>PBI</td><td>149</td><td>1028</td><td>6</td><td> 0</td><td>2013-01-01 06:00:00</td></tr>\n",
              "\t<tr><td>2013</td><td>1</td><td>1</td><td>558</td><td>600</td><td>-2</td><td> 853</td><td> 856</td><td> -3</td><td>B6</td><td>  71</td><td>N657JB</td><td>JFK</td><td>TPA</td><td>158</td><td>1005</td><td>6</td><td> 0</td><td>2013-01-01 06:00:00</td></tr>\n",
              "\t<tr><td>2013</td><td>1</td><td>1</td><td>558</td><td>600</td><td>-2</td><td> 924</td><td> 917</td><td>  7</td><td>UA</td><td> 194</td><td>N29129</td><td>JFK</td><td>LAX</td><td>345</td><td>2475</td><td>6</td><td> 0</td><td>2013-01-01 06:00:00</td></tr>\n",
              "\t<tr><td>2013</td><td>1</td><td>1</td><td>558</td><td>600</td><td>-2</td><td> 923</td><td> 937</td><td>-14</td><td>UA</td><td>1124</td><td>N53441</td><td>EWR</td><td>SFO</td><td>361</td><td>2565</td><td>6</td><td> 0</td><td>2013-01-01 06:00:00</td></tr>\n",
              "\t<tr><td>2013</td><td>1</td><td>1</td><td>559</td><td>600</td><td>-1</td><td> 941</td><td> 910</td><td> 31</td><td>AA</td><td> 707</td><td>N3DUAA</td><td>LGA</td><td>DFW</td><td>257</td><td>1389</td><td>6</td><td> 0</td><td>2013-01-01 06:00:00</td></tr>\n",
              "\t<tr><td>2013</td><td>1</td><td>1</td><td>559</td><td>559</td><td> 0</td><td> 702</td><td> 706</td><td> -4</td><td>B6</td><td>1806</td><td>N708JB</td><td>JFK</td><td>BOS</td><td> 44</td><td> 187</td><td>5</td><td>59</td><td>2013-01-01 05:00:00</td></tr>\n",
              "\t<tr><td>2013</td><td>1</td><td>1</td><td>559</td><td>600</td><td>-1</td><td> 854</td><td> 902</td><td> -8</td><td>UA</td><td>1187</td><td>N76515</td><td>EWR</td><td>LAS</td><td>337</td><td>2227</td><td>6</td><td> 0</td><td>2013-01-01 06:00:00</td></tr>\n",
              "\t<tr><td>2013</td><td>1</td><td>1</td><td>600</td><td>600</td><td> 0</td><td> 851</td><td> 858</td><td> -7</td><td>B6</td><td> 371</td><td>N595JB</td><td>LGA</td><td>FLL</td><td>152</td><td>1076</td><td>6</td><td> 0</td><td>2013-01-01 06:00:00</td></tr>\n",
              "\t<tr><td>2013</td><td>1</td><td>1</td><td>600</td><td>600</td><td> 0</td><td> 837</td><td> 825</td><td> 12</td><td>MQ</td><td>4650</td><td>N542MQ</td><td>LGA</td><td>ATL</td><td>134</td><td> 762</td><td>6</td><td> 0</td><td>2013-01-01 06:00:00</td></tr>\n",
              "\t<tr><td>2013</td><td>1</td><td>1</td><td>601</td><td>600</td><td> 1</td><td> 844</td><td> 850</td><td> -6</td><td>B6</td><td> 343</td><td>N644JB</td><td>EWR</td><td>PBI</td><td>147</td><td>1023</td><td>6</td><td> 0</td><td>2013-01-01 06:00:00</td></tr>\n",
              "\t<tr><td>2013</td><td>1</td><td>1</td><td>602</td><td>610</td><td>-8</td><td> 812</td><td> 820</td><td> -8</td><td>DL</td><td>1919</td><td>N971DL</td><td>LGA</td><td>MSP</td><td>170</td><td>1020</td><td>6</td><td>10</td><td>2013-01-01 06:00:00</td></tr>\n",
              "\t<tr><td>2013</td><td>1</td><td>1</td><td>602</td><td>605</td><td>-3</td><td> 821</td><td> 805</td><td> 16</td><td>MQ</td><td>4401</td><td>N730MQ</td><td>LGA</td><td>DTW</td><td>105</td><td> 502</td><td>6</td><td> 5</td><td>2013-01-01 06:00:00</td></tr>\n",
              "\t<tr><td>2013</td><td>1</td><td>1</td><td>606</td><td>610</td><td>-4</td><td> 858</td><td> 910</td><td>-12</td><td>AA</td><td>1895</td><td>N633AA</td><td>EWR</td><td>MIA</td><td>152</td><td>1085</td><td>6</td><td>10</td><td>2013-01-01 06:00:00</td></tr>\n",
              "\t<tr><td>2013</td><td>1</td><td>1</td><td>606</td><td>610</td><td>-4</td><td> 837</td><td> 845</td><td> -8</td><td>DL</td><td>1743</td><td>N3739P</td><td>JFK</td><td>ATL</td><td>128</td><td> 760</td><td>6</td><td>10</td><td>2013-01-01 06:00:00</td></tr>\n",
              "\t<tr><td>2013</td><td>1</td><td>1</td><td>607</td><td>607</td><td> 0</td><td> 858</td><td> 915</td><td>-17</td><td>UA</td><td>1077</td><td>N53442</td><td>EWR</td><td>MIA</td><td>157</td><td>1085</td><td>6</td><td> 7</td><td>2013-01-01 06:00:00</td></tr>\n",
              "\t<tr><td>2013</td><td>1</td><td>1</td><td>608</td><td>600</td><td> 8</td><td> 807</td><td> 735</td><td> 32</td><td>MQ</td><td>3768</td><td>N9EAMQ</td><td>EWR</td><td>ORD</td><td>139</td><td> 719</td><td>6</td><td> 0</td><td>2013-01-01 06:00:00</td></tr>\n",
              "\t<tr><td>2013</td><td>1</td><td>1</td><td>611</td><td>600</td><td>11</td><td> 945</td><td> 931</td><td> 14</td><td>UA</td><td> 303</td><td>N532UA</td><td>JFK</td><td>SFO</td><td>366</td><td>2586</td><td>6</td><td> 0</td><td>2013-01-01 06:00:00</td></tr>\n",
              "\t<tr><td>2013</td><td>1</td><td>1</td><td>613</td><td>610</td><td> 3</td><td> 925</td><td> 921</td><td>  4</td><td>B6</td><td> 135</td><td>N635JB</td><td>JFK</td><td>RSW</td><td>175</td><td>1074</td><td>6</td><td>10</td><td>2013-01-01 06:00:00</td></tr>\n",
              "\t<tr><td>2013</td><td>1</td><td>1</td><td>615</td><td>615</td><td> 0</td><td>1039</td><td>1100</td><td>-21</td><td>B6</td><td> 709</td><td>N794JB</td><td>JFK</td><td>SJU</td><td>182</td><td>1598</td><td>6</td><td>15</td><td>2013-01-01 06:00:00</td></tr>\n",
              "\t<tr><td>2013</td><td>1</td><td>1</td><td>615</td><td>615</td><td> 0</td><td> 833</td><td> 842</td><td> -9</td><td>DL</td><td> 575</td><td>N326NB</td><td>EWR</td><td>ATL</td><td>120</td><td> 746</td><td>6</td><td>15</td><td>2013-01-01 06:00:00</td></tr>\n",
              "\t<tr><td>⋮</td><td>⋮</td><td>⋮</td><td>⋮</td><td>⋮</td><td>⋮</td><td>⋮</td><td>⋮</td><td>⋮</td><td>⋮</td><td>⋮</td><td>⋮</td><td>⋮</td><td>⋮</td><td>⋮</td><td>⋮</td><td>⋮</td><td>⋮</td><td>⋮</td></tr>\n",
              "\t<tr><td>2013</td><td>3</td><td>31</td><td>2152</td><td>2151</td><td>  1</td><td>2259</td><td>2259</td><td>  0</td><td>UA</td><td> 744</td><td>N474UA</td><td>EWR</td><td>BOS</td><td> 41</td><td> 200</td><td>21</td><td>51</td><td>2013-03-31 21:00:00</td></tr>\n",
              "\t<tr><td>2013</td><td>3</td><td>31</td><td>2153</td><td>2155</td><td> -2</td><td>  40</td><td>  48</td><td> -8</td><td>B6</td><td>  35</td><td>N662JB</td><td>JFK</td><td>PBI</td><td>143</td><td>1028</td><td>21</td><td>55</td><td>2013-03-31 21:00:00</td></tr>\n",
              "\t<tr><td>2013</td><td>3</td><td>31</td><td>2201</td><td>2055</td><td> 66</td><td> 100</td><td>2359</td><td> 61</td><td>UA</td><td>1680</td><td>N12225</td><td>EWR</td><td>MIA</td><td>149</td><td>1085</td><td>20</td><td>55</td><td>2013-03-31 20:00:00</td></tr>\n",
              "\t<tr><td>2013</td><td>3</td><td>31</td><td>2202</td><td>2100</td><td> 62</td><td>  19</td><td>2315</td><td> 64</td><td>EV</td><td>3817</td><td>N14920</td><td>EWR</td><td>SDF</td><td>107</td><td> 642</td><td>21</td><td> 0</td><td>2013-03-31 21:00:00</td></tr>\n",
              "\t<tr><td>2013</td><td>3</td><td>31</td><td>2205</td><td>1855</td><td>190</td><td> 154</td><td>2255</td><td>179</td><td>AA</td><td>1613</td><td>N5EBAA</td><td>JFK</td><td>SJU</td><td>196</td><td>1598</td><td>18</td><td>55</td><td>2013-03-31 18:00:00</td></tr>\n",
              "\t<tr><td>2013</td><td>3</td><td>31</td><td>2211</td><td>2159</td><td> 12</td><td>2307</td><td>2259</td><td>  8</td><td>EV</td><td>4276</td><td>N13968</td><td>EWR</td><td>BDL</td><td> 29</td><td> 116</td><td>21</td><td>59</td><td>2013-03-31 21:00:00</td></tr>\n",
              "\t<tr><td>2013</td><td>3</td><td>31</td><td>2213</td><td>2025</td><td>108</td><td> 202</td><td>  26</td><td> 96</td><td>UA</td><td>1071</td><td>N77295</td><td>EWR</td><td>BQN</td><td>200</td><td>1585</td><td>20</td><td>25</td><td>2013-03-31 20:00:00</td></tr>\n",
              "\t<tr><td>2013</td><td>3</td><td>31</td><td>2218</td><td>2220</td><td> -2</td><td> 206</td><td> 209</td><td> -3</td><td>B6</td><td> 713</td><td>N580JB</td><td>JFK</td><td>SJU</td><td>202</td><td>1598</td><td>22</td><td>20</td><td>2013-03-31 22:00:00</td></tr>\n",
              "\t<tr><td>2013</td><td>3</td><td>31</td><td>2219</td><td>2040</td><td> 99</td><td> 119</td><td>2355</td><td> 84</td><td>B6</td><td>1069</td><td>N298JB</td><td>JFK</td><td>AUS</td><td>217</td><td>1521</td><td>20</td><td>40</td><td>2013-03-31 20:00:00</td></tr>\n",
              "\t<tr><td>2013</td><td>3</td><td>31</td><td>2224</td><td>2030</td><td>114</td><td>2345</td><td>2204</td><td>101</td><td>FL</td><td> 354</td><td>N967AT</td><td>LGA</td><td>CAK</td><td> 66</td><td> 397</td><td>20</td><td>30</td><td>2013-03-31 20:00:00</td></tr>\n",
              "\t<tr><td>2013</td><td>3</td><td>31</td><td>2230</td><td>2220</td><td> 10</td><td>2339</td><td>2334</td><td>  5</td><td>EV</td><td>5025</td><td>N724EV</td><td>LGA</td><td>BTV</td><td> 43</td><td> 258</td><td>22</td><td>20</td><td>2013-03-31 22:00:00</td></tr>\n",
              "\t<tr><td>2013</td><td>3</td><td>31</td><td>2234</td><td>2100</td><td> 94</td><td>2333</td><td>2210</td><td> 83</td><td>US</td><td>2144</td><td>N967UW</td><td>LGA</td><td>BOS</td><td> 39</td><td> 184</td><td>21</td><td> 0</td><td>2013-03-31 21:00:00</td></tr>\n",
              "\t<tr><td>2013</td><td>3</td><td>31</td><td>2235</td><td>2245</td><td>-10</td><td>2340</td><td>   1</td><td>-21</td><td>B6</td><td> 608</td><td>N266JB</td><td>JFK</td><td>PWM</td><td> 44</td><td> 273</td><td>22</td><td>45</td><td>2013-03-31 22:00:00</td></tr>\n",
              "\t<tr><td>2013</td><td>3</td><td>31</td><td>2235</td><td>2112</td><td> 83</td><td> 119</td><td>  14</td><td> 65</td><td>UA</td><td>1225</td><td>N14704</td><td>EWR</td><td>PBI</td><td>147</td><td>1023</td><td>21</td><td>12</td><td>2013-03-31 21:00:00</td></tr>\n",
              "\t<tr><td>2013</td><td>3</td><td>31</td><td>2242</td><td>2245</td><td> -3</td><td>2340</td><td>2355</td><td>-15</td><td>B6</td><td>  22</td><td>N329JB</td><td>JFK</td><td>SYR</td><td> 40</td><td> 209</td><td>22</td><td>45</td><td>2013-03-31 22:00:00</td></tr>\n",
              "\t<tr><td>2013</td><td>3</td><td>31</td><td>2244</td><td>2245</td><td> -1</td><td>2356</td><td>   8</td><td>-12</td><td>B6</td><td> 112</td><td>N521JB</td><td>JFK</td><td>BUF</td><td> 54</td><td> 301</td><td>22</td><td>45</td><td>2013-03-31 22:00:00</td></tr>\n",
              "\t<tr><td>2013</td><td>3</td><td>31</td><td>2248</td><td>2250</td><td> -2</td><td>2351</td><td>2358</td><td> -7</td><td>B6</td><td>1018</td><td>N625JB</td><td>JFK</td><td>BOS</td><td> 36</td><td> 187</td><td>22</td><td>50</td><td>2013-03-31 22:00:00</td></tr>\n",
              "\t<tr><td>2013</td><td>3</td><td>31</td><td>2252</td><td>2000</td><td>172</td><td>   3</td><td>2137</td><td>146</td><td>UA</td><td>1642</td><td>N14219</td><td>LGA</td><td>ORD</td><td>112</td><td> 733</td><td>20</td><td> 0</td><td>2013-03-31 20:00:00</td></tr>\n",
              "\t<tr><td>2013</td><td>3</td><td>31</td><td>2305</td><td>2115</td><td>110</td><td>   5</td><td>2214</td><td>111</td><td>EV</td><td>4404</td><td>N16571</td><td>EWR</td><td>PVD</td><td> 38</td><td> 160</td><td>21</td><td>15</td><td>2013-03-31 21:00:00</td></tr>\n",
              "\t<tr><td>2013</td><td>3</td><td>31</td><td>2306</td><td>2200</td><td> 66</td><td>2350</td><td>2254</td><td> 56</td><td>EV</td><td>5670</td><td>N12122</td><td>EWR</td><td>BWI</td><td> 32</td><td> 169</td><td>22</td><td> 0</td><td>2013-03-31 22:00:00</td></tr>\n",
              "\t<tr><td>2013</td><td>3</td><td>31</td><td>2310</td><td>2225</td><td> 45</td><td>  14</td><td>2342</td><td> 32</td><td>DL</td><td>2155</td><td>N332NW</td><td>LGA</td><td>PWM</td><td> 42</td><td> 269</td><td>22</td><td>25</td><td>2013-03-31 22:00:00</td></tr>\n",
              "\t<tr><td>2013</td><td>3</td><td>31</td><td>2314</td><td>2030</td><td>164</td><td>  16</td><td>2154</td><td>142</td><td>DL</td><td> 985</td><td>N317US</td><td>JFK</td><td>BOS</td><td> 38</td><td> 187</td><td>20</td><td>30</td><td>2013-03-31 20:00:00</td></tr>\n",
              "\t<tr><td>2013</td><td>3</td><td>31</td><td>2332</td><td>2150</td><td>102</td><td> 223</td><td>  40</td><td>103</td><td>B6</td><td> 515</td><td>N258JB</td><td>EWR</td><td>FLL</td><td>146</td><td>1065</td><td>21</td><td>50</td><td>2013-03-31 21:00:00</td></tr>\n",
              "\t<tr><td>2013</td><td>3</td><td>31</td><td>2346</td><td>2355</td><td> -9</td><td> 336</td><td> 345</td><td> -9</td><td>B6</td><td> 739</td><td>N523JB</td><td>JFK</td><td>PSE</td><td>209</td><td>1617</td><td>23</td><td>55</td><td>2013-03-31 23:00:00</td></tr>\n",
              "\t<tr><td>2013</td><td>3</td><td>31</td><td>2347</td><td>2250</td><td> 57</td><td>  51</td><td>   6</td><td> 45</td><td>B6</td><td>  30</td><td>N190JB</td><td>JFK</td><td>ROC</td><td> 50</td><td> 264</td><td>22</td><td>50</td><td>2013-03-31 22:00:00</td></tr>\n",
              "\t<tr><td>2013</td><td>3</td><td>31</td><td>2349</td><td>2355</td><td> -6</td><td> 333</td><td> 338</td><td> -5</td><td>B6</td><td> 707</td><td>N657JB</td><td>JFK</td><td>SJU</td><td>202</td><td>1598</td><td>23</td><td>55</td><td>2013-03-31 23:00:00</td></tr>\n",
              "\t<tr><td>2013</td><td>3</td><td>31</td><td>2358</td><td>2359</td><td> -1</td><td> 332</td><td> 339</td><td> -7</td><td>B6</td><td> 727</td><td>N608JB</td><td>JFK</td><td>BQN</td><td>195</td><td>1576</td><td>23</td><td>59</td><td>2013-03-31 23:00:00</td></tr>\n",
              "\t<tr><td>2013</td><td>3</td><td>31</td><td>  NA</td><td>1627</td><td> NA</td><td>  NA</td><td>1734</td><td> NA</td><td>EV</td><td>4299</td><td>N17560</td><td>EWR</td><td>DCA</td><td> NA</td><td> 199</td><td>16</td><td>27</td><td>2013-03-31 16:00:00</td></tr>\n",
              "\t<tr><td>2013</td><td>3</td><td>31</td><td>  NA</td><td> 600</td><td> NA</td><td>  NA</td><td> 725</td><td> NA</td><td>EV</td><td>5689</td><td>N829AS</td><td>LGA</td><td>IAD</td><td> NA</td><td> 229</td><td> 6</td><td> 0</td><td>2013-03-31 06:00:00</td></tr>\n",
              "\t<tr><td>2013</td><td>3</td><td>31</td><td>  NA</td><td> 929</td><td> NA</td><td>  NA</td><td>1220</td><td> NA</td><td>UA</td><td>1597</td><td>NA    </td><td>EWR</td><td>EGE</td><td> NA</td><td>1725</td><td> 9</td><td>29</td><td>2013-03-31 09:00:00</td></tr>\n",
              "</tbody>\n",
              "</table>\n"
            ],
            "text/markdown": "\nA tibble: 80789 × 19\n\n| year &lt;int&gt; | month &lt;int&gt; | day &lt;int&gt; | dep_time &lt;int&gt; | sched_dep_time &lt;int&gt; | dep_delay &lt;dbl&gt; | arr_time &lt;int&gt; | sched_arr_time &lt;int&gt; | arr_delay &lt;dbl&gt; | carrier &lt;chr&gt; | flight &lt;int&gt; | tailnum &lt;chr&gt; | origin &lt;chr&gt; | dest &lt;chr&gt; | air_time &lt;dbl&gt; | distance &lt;dbl&gt; | hour &lt;dbl&gt; | minute &lt;dbl&gt; | time_hour &lt;dttm&gt; |\n|---|---|---|---|---|---|---|---|---|---|---|---|---|---|---|---|---|---|---|\n| 2013 | 1 | 1 | 517 | 515 |  2 |  830 |  819 |  11 | UA | 1545 | N14228 | EWR | IAH | 227 | 1400 | 5 | 15 | 2013-01-01 05:00:00 |\n| 2013 | 1 | 1 | 533 | 529 |  4 |  850 |  830 |  20 | UA | 1714 | N24211 | LGA | IAH | 227 | 1416 | 5 | 29 | 2013-01-01 05:00:00 |\n| 2013 | 1 | 1 | 542 | 540 |  2 |  923 |  850 |  33 | AA | 1141 | N619AA | JFK | MIA | 160 | 1089 | 5 | 40 | 2013-01-01 05:00:00 |\n| 2013 | 1 | 1 | 544 | 545 | -1 | 1004 | 1022 | -18 | B6 |  725 | N804JB | JFK | BQN | 183 | 1576 | 5 | 45 | 2013-01-01 05:00:00 |\n| 2013 | 1 | 1 | 554 | 600 | -6 |  812 |  837 | -25 | DL |  461 | N668DN | LGA | ATL | 116 |  762 | 6 |  0 | 2013-01-01 06:00:00 |\n| 2013 | 1 | 1 | 554 | 558 | -4 |  740 |  728 |  12 | UA | 1696 | N39463 | EWR | ORD | 150 |  719 | 5 | 58 | 2013-01-01 05:00:00 |\n| 2013 | 1 | 1 | 555 | 600 | -5 |  913 |  854 |  19 | B6 |  507 | N516JB | EWR | FLL | 158 | 1065 | 6 |  0 | 2013-01-01 06:00:00 |\n| 2013 | 1 | 1 | 557 | 600 | -3 |  709 |  723 | -14 | EV | 5708 | N829AS | LGA | IAD |  53 |  229 | 6 |  0 | 2013-01-01 06:00:00 |\n| 2013 | 1 | 1 | 557 | 600 | -3 |  838 |  846 |  -8 | B6 |   79 | N593JB | JFK | MCO | 140 |  944 | 6 |  0 | 2013-01-01 06:00:00 |\n| 2013 | 1 | 1 | 558 | 600 | -2 |  753 |  745 |   8 | AA |  301 | N3ALAA | LGA | ORD | 138 |  733 | 6 |  0 | 2013-01-01 06:00:00 |\n| 2013 | 1 | 1 | 558 | 600 | -2 |  849 |  851 |  -2 | B6 |   49 | N793JB | JFK | PBI | 149 | 1028 | 6 |  0 | 2013-01-01 06:00:00 |\n| 2013 | 1 | 1 | 558 | 600 | -2 |  853 |  856 |  -3 | B6 |   71 | N657JB | JFK | TPA | 158 | 1005 | 6 |  0 | 2013-01-01 06:00:00 |\n| 2013 | 1 | 1 | 558 | 600 | -2 |  924 |  917 |   7 | UA |  194 | N29129 | JFK | LAX | 345 | 2475 | 6 |  0 | 2013-01-01 06:00:00 |\n| 2013 | 1 | 1 | 558 | 600 | -2 |  923 |  937 | -14 | UA | 1124 | N53441 | EWR | SFO | 361 | 2565 | 6 |  0 | 2013-01-01 06:00:00 |\n| 2013 | 1 | 1 | 559 | 600 | -1 |  941 |  910 |  31 | AA |  707 | N3DUAA | LGA | DFW | 257 | 1389 | 6 |  0 | 2013-01-01 06:00:00 |\n| 2013 | 1 | 1 | 559 | 559 |  0 |  702 |  706 |  -4 | B6 | 1806 | N708JB | JFK | BOS |  44 |  187 | 5 | 59 | 2013-01-01 05:00:00 |\n| 2013 | 1 | 1 | 559 | 600 | -1 |  854 |  902 |  -8 | UA | 1187 | N76515 | EWR | LAS | 337 | 2227 | 6 |  0 | 2013-01-01 06:00:00 |\n| 2013 | 1 | 1 | 600 | 600 |  0 |  851 |  858 |  -7 | B6 |  371 | N595JB | LGA | FLL | 152 | 1076 | 6 |  0 | 2013-01-01 06:00:00 |\n| 2013 | 1 | 1 | 600 | 600 |  0 |  837 |  825 |  12 | MQ | 4650 | N542MQ | LGA | ATL | 134 |  762 | 6 |  0 | 2013-01-01 06:00:00 |\n| 2013 | 1 | 1 | 601 | 600 |  1 |  844 |  850 |  -6 | B6 |  343 | N644JB | EWR | PBI | 147 | 1023 | 6 |  0 | 2013-01-01 06:00:00 |\n| 2013 | 1 | 1 | 602 | 610 | -8 |  812 |  820 |  -8 | DL | 1919 | N971DL | LGA | MSP | 170 | 1020 | 6 | 10 | 2013-01-01 06:00:00 |\n| 2013 | 1 | 1 | 602 | 605 | -3 |  821 |  805 |  16 | MQ | 4401 | N730MQ | LGA | DTW | 105 |  502 | 6 |  5 | 2013-01-01 06:00:00 |\n| 2013 | 1 | 1 | 606 | 610 | -4 |  858 |  910 | -12 | AA | 1895 | N633AA | EWR | MIA | 152 | 1085 | 6 | 10 | 2013-01-01 06:00:00 |\n| 2013 | 1 | 1 | 606 | 610 | -4 |  837 |  845 |  -8 | DL | 1743 | N3739P | JFK | ATL | 128 |  760 | 6 | 10 | 2013-01-01 06:00:00 |\n| 2013 | 1 | 1 | 607 | 607 |  0 |  858 |  915 | -17 | UA | 1077 | N53442 | EWR | MIA | 157 | 1085 | 6 |  7 | 2013-01-01 06:00:00 |\n| 2013 | 1 | 1 | 608 | 600 |  8 |  807 |  735 |  32 | MQ | 3768 | N9EAMQ | EWR | ORD | 139 |  719 | 6 |  0 | 2013-01-01 06:00:00 |\n| 2013 | 1 | 1 | 611 | 600 | 11 |  945 |  931 |  14 | UA |  303 | N532UA | JFK | SFO | 366 | 2586 | 6 |  0 | 2013-01-01 06:00:00 |\n| 2013 | 1 | 1 | 613 | 610 |  3 |  925 |  921 |   4 | B6 |  135 | N635JB | JFK | RSW | 175 | 1074 | 6 | 10 | 2013-01-01 06:00:00 |\n| 2013 | 1 | 1 | 615 | 615 |  0 | 1039 | 1100 | -21 | B6 |  709 | N794JB | JFK | SJU | 182 | 1598 | 6 | 15 | 2013-01-01 06:00:00 |\n| 2013 | 1 | 1 | 615 | 615 |  0 |  833 |  842 |  -9 | DL |  575 | N326NB | EWR | ATL | 120 |  746 | 6 | 15 | 2013-01-01 06:00:00 |\n| ⋮ | ⋮ | ⋮ | ⋮ | ⋮ | ⋮ | ⋮ | ⋮ | ⋮ | ⋮ | ⋮ | ⋮ | ⋮ | ⋮ | ⋮ | ⋮ | ⋮ | ⋮ | ⋮ |\n| 2013 | 3 | 31 | 2152 | 2151 |   1 | 2259 | 2259 |   0 | UA |  744 | N474UA | EWR | BOS |  41 |  200 | 21 | 51 | 2013-03-31 21:00:00 |\n| 2013 | 3 | 31 | 2153 | 2155 |  -2 |   40 |   48 |  -8 | B6 |   35 | N662JB | JFK | PBI | 143 | 1028 | 21 | 55 | 2013-03-31 21:00:00 |\n| 2013 | 3 | 31 | 2201 | 2055 |  66 |  100 | 2359 |  61 | UA | 1680 | N12225 | EWR | MIA | 149 | 1085 | 20 | 55 | 2013-03-31 20:00:00 |\n| 2013 | 3 | 31 | 2202 | 2100 |  62 |   19 | 2315 |  64 | EV | 3817 | N14920 | EWR | SDF | 107 |  642 | 21 |  0 | 2013-03-31 21:00:00 |\n| 2013 | 3 | 31 | 2205 | 1855 | 190 |  154 | 2255 | 179 | AA | 1613 | N5EBAA | JFK | SJU | 196 | 1598 | 18 | 55 | 2013-03-31 18:00:00 |\n| 2013 | 3 | 31 | 2211 | 2159 |  12 | 2307 | 2259 |   8 | EV | 4276 | N13968 | EWR | BDL |  29 |  116 | 21 | 59 | 2013-03-31 21:00:00 |\n| 2013 | 3 | 31 | 2213 | 2025 | 108 |  202 |   26 |  96 | UA | 1071 | N77295 | EWR | BQN | 200 | 1585 | 20 | 25 | 2013-03-31 20:00:00 |\n| 2013 | 3 | 31 | 2218 | 2220 |  -2 |  206 |  209 |  -3 | B6 |  713 | N580JB | JFK | SJU | 202 | 1598 | 22 | 20 | 2013-03-31 22:00:00 |\n| 2013 | 3 | 31 | 2219 | 2040 |  99 |  119 | 2355 |  84 | B6 | 1069 | N298JB | JFK | AUS | 217 | 1521 | 20 | 40 | 2013-03-31 20:00:00 |\n| 2013 | 3 | 31 | 2224 | 2030 | 114 | 2345 | 2204 | 101 | FL |  354 | N967AT | LGA | CAK |  66 |  397 | 20 | 30 | 2013-03-31 20:00:00 |\n| 2013 | 3 | 31 | 2230 | 2220 |  10 | 2339 | 2334 |   5 | EV | 5025 | N724EV | LGA | BTV |  43 |  258 | 22 | 20 | 2013-03-31 22:00:00 |\n| 2013 | 3 | 31 | 2234 | 2100 |  94 | 2333 | 2210 |  83 | US | 2144 | N967UW | LGA | BOS |  39 |  184 | 21 |  0 | 2013-03-31 21:00:00 |\n| 2013 | 3 | 31 | 2235 | 2245 | -10 | 2340 |    1 | -21 | B6 |  608 | N266JB | JFK | PWM |  44 |  273 | 22 | 45 | 2013-03-31 22:00:00 |\n| 2013 | 3 | 31 | 2235 | 2112 |  83 |  119 |   14 |  65 | UA | 1225 | N14704 | EWR | PBI | 147 | 1023 | 21 | 12 | 2013-03-31 21:00:00 |\n| 2013 | 3 | 31 | 2242 | 2245 |  -3 | 2340 | 2355 | -15 | B6 |   22 | N329JB | JFK | SYR |  40 |  209 | 22 | 45 | 2013-03-31 22:00:00 |\n| 2013 | 3 | 31 | 2244 | 2245 |  -1 | 2356 |    8 | -12 | B6 |  112 | N521JB | JFK | BUF |  54 |  301 | 22 | 45 | 2013-03-31 22:00:00 |\n| 2013 | 3 | 31 | 2248 | 2250 |  -2 | 2351 | 2358 |  -7 | B6 | 1018 | N625JB | JFK | BOS |  36 |  187 | 22 | 50 | 2013-03-31 22:00:00 |\n| 2013 | 3 | 31 | 2252 | 2000 | 172 |    3 | 2137 | 146 | UA | 1642 | N14219 | LGA | ORD | 112 |  733 | 20 |  0 | 2013-03-31 20:00:00 |\n| 2013 | 3 | 31 | 2305 | 2115 | 110 |    5 | 2214 | 111 | EV | 4404 | N16571 | EWR | PVD |  38 |  160 | 21 | 15 | 2013-03-31 21:00:00 |\n| 2013 | 3 | 31 | 2306 | 2200 |  66 | 2350 | 2254 |  56 | EV | 5670 | N12122 | EWR | BWI |  32 |  169 | 22 |  0 | 2013-03-31 22:00:00 |\n| 2013 | 3 | 31 | 2310 | 2225 |  45 |   14 | 2342 |  32 | DL | 2155 | N332NW | LGA | PWM |  42 |  269 | 22 | 25 | 2013-03-31 22:00:00 |\n| 2013 | 3 | 31 | 2314 | 2030 | 164 |   16 | 2154 | 142 | DL |  985 | N317US | JFK | BOS |  38 |  187 | 20 | 30 | 2013-03-31 20:00:00 |\n| 2013 | 3 | 31 | 2332 | 2150 | 102 |  223 |   40 | 103 | B6 |  515 | N258JB | EWR | FLL | 146 | 1065 | 21 | 50 | 2013-03-31 21:00:00 |\n| 2013 | 3 | 31 | 2346 | 2355 |  -9 |  336 |  345 |  -9 | B6 |  739 | N523JB | JFK | PSE | 209 | 1617 | 23 | 55 | 2013-03-31 23:00:00 |\n| 2013 | 3 | 31 | 2347 | 2250 |  57 |   51 |    6 |  45 | B6 |   30 | N190JB | JFK | ROC |  50 |  264 | 22 | 50 | 2013-03-31 22:00:00 |\n| 2013 | 3 | 31 | 2349 | 2355 |  -6 |  333 |  338 |  -5 | B6 |  707 | N657JB | JFK | SJU | 202 | 1598 | 23 | 55 | 2013-03-31 23:00:00 |\n| 2013 | 3 | 31 | 2358 | 2359 |  -1 |  332 |  339 |  -7 | B6 |  727 | N608JB | JFK | BQN | 195 | 1576 | 23 | 59 | 2013-03-31 23:00:00 |\n| 2013 | 3 | 31 |   NA | 1627 |  NA |   NA | 1734 |  NA | EV | 4299 | N17560 | EWR | DCA |  NA |  199 | 16 | 27 | 2013-03-31 16:00:00 |\n| 2013 | 3 | 31 |   NA |  600 |  NA |   NA |  725 |  NA | EV | 5689 | N829AS | LGA | IAD |  NA |  229 |  6 |  0 | 2013-03-31 06:00:00 |\n| 2013 | 3 | 31 |   NA |  929 |  NA |   NA | 1220 |  NA | UA | 1597 | NA     | EWR | EGE |  NA | 1725 |  9 | 29 | 2013-03-31 09:00:00 |\n\n",
            "text/latex": "A tibble: 80789 × 19\n\\begin{tabular}{lllllllllllllllllll}\n year & month & day & dep\\_time & sched\\_dep\\_time & dep\\_delay & arr\\_time & sched\\_arr\\_time & arr\\_delay & carrier & flight & tailnum & origin & dest & air\\_time & distance & hour & minute & time\\_hour\\\\\n <int> & <int> & <int> & <int> & <int> & <dbl> & <int> & <int> & <dbl> & <chr> & <int> & <chr> & <chr> & <chr> & <dbl> & <dbl> & <dbl> & <dbl> & <dttm>\\\\\n\\hline\n\t 2013 & 1 & 1 & 517 & 515 &  2 &  830 &  819 &  11 & UA & 1545 & N14228 & EWR & IAH & 227 & 1400 & 5 & 15 & 2013-01-01 05:00:00\\\\\n\t 2013 & 1 & 1 & 533 & 529 &  4 &  850 &  830 &  20 & UA & 1714 & N24211 & LGA & IAH & 227 & 1416 & 5 & 29 & 2013-01-01 05:00:00\\\\\n\t 2013 & 1 & 1 & 542 & 540 &  2 &  923 &  850 &  33 & AA & 1141 & N619AA & JFK & MIA & 160 & 1089 & 5 & 40 & 2013-01-01 05:00:00\\\\\n\t 2013 & 1 & 1 & 544 & 545 & -1 & 1004 & 1022 & -18 & B6 &  725 & N804JB & JFK & BQN & 183 & 1576 & 5 & 45 & 2013-01-01 05:00:00\\\\\n\t 2013 & 1 & 1 & 554 & 600 & -6 &  812 &  837 & -25 & DL &  461 & N668DN & LGA & ATL & 116 &  762 & 6 &  0 & 2013-01-01 06:00:00\\\\\n\t 2013 & 1 & 1 & 554 & 558 & -4 &  740 &  728 &  12 & UA & 1696 & N39463 & EWR & ORD & 150 &  719 & 5 & 58 & 2013-01-01 05:00:00\\\\\n\t 2013 & 1 & 1 & 555 & 600 & -5 &  913 &  854 &  19 & B6 &  507 & N516JB & EWR & FLL & 158 & 1065 & 6 &  0 & 2013-01-01 06:00:00\\\\\n\t 2013 & 1 & 1 & 557 & 600 & -3 &  709 &  723 & -14 & EV & 5708 & N829AS & LGA & IAD &  53 &  229 & 6 &  0 & 2013-01-01 06:00:00\\\\\n\t 2013 & 1 & 1 & 557 & 600 & -3 &  838 &  846 &  -8 & B6 &   79 & N593JB & JFK & MCO & 140 &  944 & 6 &  0 & 2013-01-01 06:00:00\\\\\n\t 2013 & 1 & 1 & 558 & 600 & -2 &  753 &  745 &   8 & AA &  301 & N3ALAA & LGA & ORD & 138 &  733 & 6 &  0 & 2013-01-01 06:00:00\\\\\n\t 2013 & 1 & 1 & 558 & 600 & -2 &  849 &  851 &  -2 & B6 &   49 & N793JB & JFK & PBI & 149 & 1028 & 6 &  0 & 2013-01-01 06:00:00\\\\\n\t 2013 & 1 & 1 & 558 & 600 & -2 &  853 &  856 &  -3 & B6 &   71 & N657JB & JFK & TPA & 158 & 1005 & 6 &  0 & 2013-01-01 06:00:00\\\\\n\t 2013 & 1 & 1 & 558 & 600 & -2 &  924 &  917 &   7 & UA &  194 & N29129 & JFK & LAX & 345 & 2475 & 6 &  0 & 2013-01-01 06:00:00\\\\\n\t 2013 & 1 & 1 & 558 & 600 & -2 &  923 &  937 & -14 & UA & 1124 & N53441 & EWR & SFO & 361 & 2565 & 6 &  0 & 2013-01-01 06:00:00\\\\\n\t 2013 & 1 & 1 & 559 & 600 & -1 &  941 &  910 &  31 & AA &  707 & N3DUAA & LGA & DFW & 257 & 1389 & 6 &  0 & 2013-01-01 06:00:00\\\\\n\t 2013 & 1 & 1 & 559 & 559 &  0 &  702 &  706 &  -4 & B6 & 1806 & N708JB & JFK & BOS &  44 &  187 & 5 & 59 & 2013-01-01 05:00:00\\\\\n\t 2013 & 1 & 1 & 559 & 600 & -1 &  854 &  902 &  -8 & UA & 1187 & N76515 & EWR & LAS & 337 & 2227 & 6 &  0 & 2013-01-01 06:00:00\\\\\n\t 2013 & 1 & 1 & 600 & 600 &  0 &  851 &  858 &  -7 & B6 &  371 & N595JB & LGA & FLL & 152 & 1076 & 6 &  0 & 2013-01-01 06:00:00\\\\\n\t 2013 & 1 & 1 & 600 & 600 &  0 &  837 &  825 &  12 & MQ & 4650 & N542MQ & LGA & ATL & 134 &  762 & 6 &  0 & 2013-01-01 06:00:00\\\\\n\t 2013 & 1 & 1 & 601 & 600 &  1 &  844 &  850 &  -6 & B6 &  343 & N644JB & EWR & PBI & 147 & 1023 & 6 &  0 & 2013-01-01 06:00:00\\\\\n\t 2013 & 1 & 1 & 602 & 610 & -8 &  812 &  820 &  -8 & DL & 1919 & N971DL & LGA & MSP & 170 & 1020 & 6 & 10 & 2013-01-01 06:00:00\\\\\n\t 2013 & 1 & 1 & 602 & 605 & -3 &  821 &  805 &  16 & MQ & 4401 & N730MQ & LGA & DTW & 105 &  502 & 6 &  5 & 2013-01-01 06:00:00\\\\\n\t 2013 & 1 & 1 & 606 & 610 & -4 &  858 &  910 & -12 & AA & 1895 & N633AA & EWR & MIA & 152 & 1085 & 6 & 10 & 2013-01-01 06:00:00\\\\\n\t 2013 & 1 & 1 & 606 & 610 & -4 &  837 &  845 &  -8 & DL & 1743 & N3739P & JFK & ATL & 128 &  760 & 6 & 10 & 2013-01-01 06:00:00\\\\\n\t 2013 & 1 & 1 & 607 & 607 &  0 &  858 &  915 & -17 & UA & 1077 & N53442 & EWR & MIA & 157 & 1085 & 6 &  7 & 2013-01-01 06:00:00\\\\\n\t 2013 & 1 & 1 & 608 & 600 &  8 &  807 &  735 &  32 & MQ & 3768 & N9EAMQ & EWR & ORD & 139 &  719 & 6 &  0 & 2013-01-01 06:00:00\\\\\n\t 2013 & 1 & 1 & 611 & 600 & 11 &  945 &  931 &  14 & UA &  303 & N532UA & JFK & SFO & 366 & 2586 & 6 &  0 & 2013-01-01 06:00:00\\\\\n\t 2013 & 1 & 1 & 613 & 610 &  3 &  925 &  921 &   4 & B6 &  135 & N635JB & JFK & RSW & 175 & 1074 & 6 & 10 & 2013-01-01 06:00:00\\\\\n\t 2013 & 1 & 1 & 615 & 615 &  0 & 1039 & 1100 & -21 & B6 &  709 & N794JB & JFK & SJU & 182 & 1598 & 6 & 15 & 2013-01-01 06:00:00\\\\\n\t 2013 & 1 & 1 & 615 & 615 &  0 &  833 &  842 &  -9 & DL &  575 & N326NB & EWR & ATL & 120 &  746 & 6 & 15 & 2013-01-01 06:00:00\\\\\n\t ⋮ & ⋮ & ⋮ & ⋮ & ⋮ & ⋮ & ⋮ & ⋮ & ⋮ & ⋮ & ⋮ & ⋮ & ⋮ & ⋮ & ⋮ & ⋮ & ⋮ & ⋮ & ⋮\\\\\n\t 2013 & 3 & 31 & 2152 & 2151 &   1 & 2259 & 2259 &   0 & UA &  744 & N474UA & EWR & BOS &  41 &  200 & 21 & 51 & 2013-03-31 21:00:00\\\\\n\t 2013 & 3 & 31 & 2153 & 2155 &  -2 &   40 &   48 &  -8 & B6 &   35 & N662JB & JFK & PBI & 143 & 1028 & 21 & 55 & 2013-03-31 21:00:00\\\\\n\t 2013 & 3 & 31 & 2201 & 2055 &  66 &  100 & 2359 &  61 & UA & 1680 & N12225 & EWR & MIA & 149 & 1085 & 20 & 55 & 2013-03-31 20:00:00\\\\\n\t 2013 & 3 & 31 & 2202 & 2100 &  62 &   19 & 2315 &  64 & EV & 3817 & N14920 & EWR & SDF & 107 &  642 & 21 &  0 & 2013-03-31 21:00:00\\\\\n\t 2013 & 3 & 31 & 2205 & 1855 & 190 &  154 & 2255 & 179 & AA & 1613 & N5EBAA & JFK & SJU & 196 & 1598 & 18 & 55 & 2013-03-31 18:00:00\\\\\n\t 2013 & 3 & 31 & 2211 & 2159 &  12 & 2307 & 2259 &   8 & EV & 4276 & N13968 & EWR & BDL &  29 &  116 & 21 & 59 & 2013-03-31 21:00:00\\\\\n\t 2013 & 3 & 31 & 2213 & 2025 & 108 &  202 &   26 &  96 & UA & 1071 & N77295 & EWR & BQN & 200 & 1585 & 20 & 25 & 2013-03-31 20:00:00\\\\\n\t 2013 & 3 & 31 & 2218 & 2220 &  -2 &  206 &  209 &  -3 & B6 &  713 & N580JB & JFK & SJU & 202 & 1598 & 22 & 20 & 2013-03-31 22:00:00\\\\\n\t 2013 & 3 & 31 & 2219 & 2040 &  99 &  119 & 2355 &  84 & B6 & 1069 & N298JB & JFK & AUS & 217 & 1521 & 20 & 40 & 2013-03-31 20:00:00\\\\\n\t 2013 & 3 & 31 & 2224 & 2030 & 114 & 2345 & 2204 & 101 & FL &  354 & N967AT & LGA & CAK &  66 &  397 & 20 & 30 & 2013-03-31 20:00:00\\\\\n\t 2013 & 3 & 31 & 2230 & 2220 &  10 & 2339 & 2334 &   5 & EV & 5025 & N724EV & LGA & BTV &  43 &  258 & 22 & 20 & 2013-03-31 22:00:00\\\\\n\t 2013 & 3 & 31 & 2234 & 2100 &  94 & 2333 & 2210 &  83 & US & 2144 & N967UW & LGA & BOS &  39 &  184 & 21 &  0 & 2013-03-31 21:00:00\\\\\n\t 2013 & 3 & 31 & 2235 & 2245 & -10 & 2340 &    1 & -21 & B6 &  608 & N266JB & JFK & PWM &  44 &  273 & 22 & 45 & 2013-03-31 22:00:00\\\\\n\t 2013 & 3 & 31 & 2235 & 2112 &  83 &  119 &   14 &  65 & UA & 1225 & N14704 & EWR & PBI & 147 & 1023 & 21 & 12 & 2013-03-31 21:00:00\\\\\n\t 2013 & 3 & 31 & 2242 & 2245 &  -3 & 2340 & 2355 & -15 & B6 &   22 & N329JB & JFK & SYR &  40 &  209 & 22 & 45 & 2013-03-31 22:00:00\\\\\n\t 2013 & 3 & 31 & 2244 & 2245 &  -1 & 2356 &    8 & -12 & B6 &  112 & N521JB & JFK & BUF &  54 &  301 & 22 & 45 & 2013-03-31 22:00:00\\\\\n\t 2013 & 3 & 31 & 2248 & 2250 &  -2 & 2351 & 2358 &  -7 & B6 & 1018 & N625JB & JFK & BOS &  36 &  187 & 22 & 50 & 2013-03-31 22:00:00\\\\\n\t 2013 & 3 & 31 & 2252 & 2000 & 172 &    3 & 2137 & 146 & UA & 1642 & N14219 & LGA & ORD & 112 &  733 & 20 &  0 & 2013-03-31 20:00:00\\\\\n\t 2013 & 3 & 31 & 2305 & 2115 & 110 &    5 & 2214 & 111 & EV & 4404 & N16571 & EWR & PVD &  38 &  160 & 21 & 15 & 2013-03-31 21:00:00\\\\\n\t 2013 & 3 & 31 & 2306 & 2200 &  66 & 2350 & 2254 &  56 & EV & 5670 & N12122 & EWR & BWI &  32 &  169 & 22 &  0 & 2013-03-31 22:00:00\\\\\n\t 2013 & 3 & 31 & 2310 & 2225 &  45 &   14 & 2342 &  32 & DL & 2155 & N332NW & LGA & PWM &  42 &  269 & 22 & 25 & 2013-03-31 22:00:00\\\\\n\t 2013 & 3 & 31 & 2314 & 2030 & 164 &   16 & 2154 & 142 & DL &  985 & N317US & JFK & BOS &  38 &  187 & 20 & 30 & 2013-03-31 20:00:00\\\\\n\t 2013 & 3 & 31 & 2332 & 2150 & 102 &  223 &   40 & 103 & B6 &  515 & N258JB & EWR & FLL & 146 & 1065 & 21 & 50 & 2013-03-31 21:00:00\\\\\n\t 2013 & 3 & 31 & 2346 & 2355 &  -9 &  336 &  345 &  -9 & B6 &  739 & N523JB & JFK & PSE & 209 & 1617 & 23 & 55 & 2013-03-31 23:00:00\\\\\n\t 2013 & 3 & 31 & 2347 & 2250 &  57 &   51 &    6 &  45 & B6 &   30 & N190JB & JFK & ROC &  50 &  264 & 22 & 50 & 2013-03-31 22:00:00\\\\\n\t 2013 & 3 & 31 & 2349 & 2355 &  -6 &  333 &  338 &  -5 & B6 &  707 & N657JB & JFK & SJU & 202 & 1598 & 23 & 55 & 2013-03-31 23:00:00\\\\\n\t 2013 & 3 & 31 & 2358 & 2359 &  -1 &  332 &  339 &  -7 & B6 &  727 & N608JB & JFK & BQN & 195 & 1576 & 23 & 59 & 2013-03-31 23:00:00\\\\\n\t 2013 & 3 & 31 &   NA & 1627 &  NA &   NA & 1734 &  NA & EV & 4299 & N17560 & EWR & DCA &  NA &  199 & 16 & 27 & 2013-03-31 16:00:00\\\\\n\t 2013 & 3 & 31 &   NA &  600 &  NA &   NA &  725 &  NA & EV & 5689 & N829AS & LGA & IAD &  NA &  229 &  6 &  0 & 2013-03-31 06:00:00\\\\\n\t 2013 & 3 & 31 &   NA &  929 &  NA &   NA & 1220 &  NA & UA & 1597 & NA     & EWR & EGE &  NA & 1725 &  9 & 29 & 2013-03-31 09:00:00\\\\\n\\end{tabular}\n",
            "text/plain": [
              "      year month day dep_time sched_dep_time dep_delay arr_time sched_arr_time\n",
              "1     2013 1     1   517      515             2         830      819          \n",
              "2     2013 1     1   533      529             4         850      830          \n",
              "3     2013 1     1   542      540             2         923      850          \n",
              "4     2013 1     1   544      545            -1        1004     1022          \n",
              "5     2013 1     1   554      600            -6         812      837          \n",
              "6     2013 1     1   554      558            -4         740      728          \n",
              "7     2013 1     1   555      600            -5         913      854          \n",
              "8     2013 1     1   557      600            -3         709      723          \n",
              "9     2013 1     1   557      600            -3         838      846          \n",
              "10    2013 1     1   558      600            -2         753      745          \n",
              "11    2013 1     1   558      600            -2         849      851          \n",
              "12    2013 1     1   558      600            -2         853      856          \n",
              "13    2013 1     1   558      600            -2         924      917          \n",
              "14    2013 1     1   558      600            -2         923      937          \n",
              "15    2013 1     1   559      600            -1         941      910          \n",
              "16    2013 1     1   559      559             0         702      706          \n",
              "17    2013 1     1   559      600            -1         854      902          \n",
              "18    2013 1     1   600      600             0         851      858          \n",
              "19    2013 1     1   600      600             0         837      825          \n",
              "20    2013 1     1   601      600             1         844      850          \n",
              "21    2013 1     1   602      610            -8         812      820          \n",
              "22    2013 1     1   602      605            -3         821      805          \n",
              "23    2013 1     1   606      610            -4         858      910          \n",
              "24    2013 1     1   606      610            -4         837      845          \n",
              "25    2013 1     1   607      607             0         858      915          \n",
              "26    2013 1     1   608      600             8         807      735          \n",
              "27    2013 1     1   611      600            11         945      931          \n",
              "28    2013 1     1   613      610             3         925      921          \n",
              "29    2013 1     1   615      615             0        1039     1100          \n",
              "30    2013 1     1   615      615             0         833      842          \n",
              "⋮     ⋮    ⋮     ⋮   ⋮        ⋮              ⋮         ⋮        ⋮             \n",
              "80760 2013 3     31  2152     2151             1       2259     2259          \n",
              "80761 2013 3     31  2153     2155            -2         40       48          \n",
              "80762 2013 3     31  2201     2055            66        100     2359          \n",
              "80763 2013 3     31  2202     2100            62         19     2315          \n",
              "80764 2013 3     31  2205     1855           190        154     2255          \n",
              "80765 2013 3     31  2211     2159            12       2307     2259          \n",
              "80766 2013 3     31  2213     2025           108        202       26          \n",
              "80767 2013 3     31  2218     2220            -2        206      209          \n",
              "80768 2013 3     31  2219     2040            99        119     2355          \n",
              "80769 2013 3     31  2224     2030           114       2345     2204          \n",
              "80770 2013 3     31  2230     2220            10       2339     2334          \n",
              "80771 2013 3     31  2234     2100            94       2333     2210          \n",
              "80772 2013 3     31  2235     2245           -10       2340        1          \n",
              "80773 2013 3     31  2235     2112            83        119       14          \n",
              "80774 2013 3     31  2242     2245            -3       2340     2355          \n",
              "80775 2013 3     31  2244     2245            -1       2356        8          \n",
              "80776 2013 3     31  2248     2250            -2       2351     2358          \n",
              "80777 2013 3     31  2252     2000           172          3     2137          \n",
              "80778 2013 3     31  2305     2115           110          5     2214          \n",
              "80779 2013 3     31  2306     2200            66       2350     2254          \n",
              "80780 2013 3     31  2310     2225            45         14     2342          \n",
              "80781 2013 3     31  2314     2030           164         16     2154          \n",
              "80782 2013 3     31  2332     2150           102        223       40          \n",
              "80783 2013 3     31  2346     2355            -9        336      345          \n",
              "80784 2013 3     31  2347     2250            57         51        6          \n",
              "80785 2013 3     31  2349     2355            -6        333      338          \n",
              "80786 2013 3     31  2358     2359            -1        332      339          \n",
              "80787 2013 3     31    NA     1627            NA         NA     1734          \n",
              "80788 2013 3     31    NA      600            NA         NA      725          \n",
              "80789 2013 3     31    NA      929            NA         NA     1220          \n",
              "      arr_delay carrier flight tailnum origin dest air_time distance hour\n",
              "1      11       UA      1545   N14228  EWR    IAH  227      1400     5   \n",
              "2      20       UA      1714   N24211  LGA    IAH  227      1416     5   \n",
              "3      33       AA      1141   N619AA  JFK    MIA  160      1089     5   \n",
              "4     -18       B6       725   N804JB  JFK    BQN  183      1576     5   \n",
              "5     -25       DL       461   N668DN  LGA    ATL  116       762     6   \n",
              "6      12       UA      1696   N39463  EWR    ORD  150       719     5   \n",
              "7      19       B6       507   N516JB  EWR    FLL  158      1065     6   \n",
              "8     -14       EV      5708   N829AS  LGA    IAD   53       229     6   \n",
              "9      -8       B6        79   N593JB  JFK    MCO  140       944     6   \n",
              "10      8       AA       301   N3ALAA  LGA    ORD  138       733     6   \n",
              "11     -2       B6        49   N793JB  JFK    PBI  149      1028     6   \n",
              "12     -3       B6        71   N657JB  JFK    TPA  158      1005     6   \n",
              "13      7       UA       194   N29129  JFK    LAX  345      2475     6   \n",
              "14    -14       UA      1124   N53441  EWR    SFO  361      2565     6   \n",
              "15     31       AA       707   N3DUAA  LGA    DFW  257      1389     6   \n",
              "16     -4       B6      1806   N708JB  JFK    BOS   44       187     5   \n",
              "17     -8       UA      1187   N76515  EWR    LAS  337      2227     6   \n",
              "18     -7       B6       371   N595JB  LGA    FLL  152      1076     6   \n",
              "19     12       MQ      4650   N542MQ  LGA    ATL  134       762     6   \n",
              "20     -6       B6       343   N644JB  EWR    PBI  147      1023     6   \n",
              "21     -8       DL      1919   N971DL  LGA    MSP  170      1020     6   \n",
              "22     16       MQ      4401   N730MQ  LGA    DTW  105       502     6   \n",
              "23    -12       AA      1895   N633AA  EWR    MIA  152      1085     6   \n",
              "24     -8       DL      1743   N3739P  JFK    ATL  128       760     6   \n",
              "25    -17       UA      1077   N53442  EWR    MIA  157      1085     6   \n",
              "26     32       MQ      3768   N9EAMQ  EWR    ORD  139       719     6   \n",
              "27     14       UA       303   N532UA  JFK    SFO  366      2586     6   \n",
              "28      4       B6       135   N635JB  JFK    RSW  175      1074     6   \n",
              "29    -21       B6       709   N794JB  JFK    SJU  182      1598     6   \n",
              "30     -9       DL       575   N326NB  EWR    ATL  120       746     6   \n",
              "⋮     ⋮         ⋮       ⋮      ⋮       ⋮      ⋮    ⋮        ⋮        ⋮   \n",
              "80760   0       UA       744   N474UA  EWR    BOS   41       200     21  \n",
              "80761  -8       B6        35   N662JB  JFK    PBI  143      1028     21  \n",
              "80762  61       UA      1680   N12225  EWR    MIA  149      1085     20  \n",
              "80763  64       EV      3817   N14920  EWR    SDF  107       642     21  \n",
              "80764 179       AA      1613   N5EBAA  JFK    SJU  196      1598     18  \n",
              "80765   8       EV      4276   N13968  EWR    BDL   29       116     21  \n",
              "80766  96       UA      1071   N77295  EWR    BQN  200      1585     20  \n",
              "80767  -3       B6       713   N580JB  JFK    SJU  202      1598     22  \n",
              "80768  84       B6      1069   N298JB  JFK    AUS  217      1521     20  \n",
              "80769 101       FL       354   N967AT  LGA    CAK   66       397     20  \n",
              "80770   5       EV      5025   N724EV  LGA    BTV   43       258     22  \n",
              "80771  83       US      2144   N967UW  LGA    BOS   39       184     21  \n",
              "80772 -21       B6       608   N266JB  JFK    PWM   44       273     22  \n",
              "80773  65       UA      1225   N14704  EWR    PBI  147      1023     21  \n",
              "80774 -15       B6        22   N329JB  JFK    SYR   40       209     22  \n",
              "80775 -12       B6       112   N521JB  JFK    BUF   54       301     22  \n",
              "80776  -7       B6      1018   N625JB  JFK    BOS   36       187     22  \n",
              "80777 146       UA      1642   N14219  LGA    ORD  112       733     20  \n",
              "80778 111       EV      4404   N16571  EWR    PVD   38       160     21  \n",
              "80779  56       EV      5670   N12122  EWR    BWI   32       169     22  \n",
              "80780  32       DL      2155   N332NW  LGA    PWM   42       269     22  \n",
              "80781 142       DL       985   N317US  JFK    BOS   38       187     20  \n",
              "80782 103       B6       515   N258JB  EWR    FLL  146      1065     21  \n",
              "80783  -9       B6       739   N523JB  JFK    PSE  209      1617     23  \n",
              "80784  45       B6        30   N190JB  JFK    ROC   50       264     22  \n",
              "80785  -5       B6       707   N657JB  JFK    SJU  202      1598     23  \n",
              "80786  -7       B6       727   N608JB  JFK    BQN  195      1576     23  \n",
              "80787  NA       EV      4299   N17560  EWR    DCA   NA       199     16  \n",
              "80788  NA       EV      5689   N829AS  LGA    IAD   NA       229      6  \n",
              "80789  NA       UA      1597   NA      EWR    EGE   NA      1725      9  \n",
              "      minute time_hour          \n",
              "1     15     2013-01-01 05:00:00\n",
              "2     29     2013-01-01 05:00:00\n",
              "3     40     2013-01-01 05:00:00\n",
              "4     45     2013-01-01 05:00:00\n",
              "5      0     2013-01-01 06:00:00\n",
              "6     58     2013-01-01 05:00:00\n",
              "7      0     2013-01-01 06:00:00\n",
              "8      0     2013-01-01 06:00:00\n",
              "9      0     2013-01-01 06:00:00\n",
              "10     0     2013-01-01 06:00:00\n",
              "11     0     2013-01-01 06:00:00\n",
              "12     0     2013-01-01 06:00:00\n",
              "13     0     2013-01-01 06:00:00\n",
              "14     0     2013-01-01 06:00:00\n",
              "15     0     2013-01-01 06:00:00\n",
              "16    59     2013-01-01 05:00:00\n",
              "17     0     2013-01-01 06:00:00\n",
              "18     0     2013-01-01 06:00:00\n",
              "19     0     2013-01-01 06:00:00\n",
              "20     0     2013-01-01 06:00:00\n",
              "21    10     2013-01-01 06:00:00\n",
              "22     5     2013-01-01 06:00:00\n",
              "23    10     2013-01-01 06:00:00\n",
              "24    10     2013-01-01 06:00:00\n",
              "25     7     2013-01-01 06:00:00\n",
              "26     0     2013-01-01 06:00:00\n",
              "27     0     2013-01-01 06:00:00\n",
              "28    10     2013-01-01 06:00:00\n",
              "29    15     2013-01-01 06:00:00\n",
              "30    15     2013-01-01 06:00:00\n",
              "⋮     ⋮      ⋮                  \n",
              "80760 51     2013-03-31 21:00:00\n",
              "80761 55     2013-03-31 21:00:00\n",
              "80762 55     2013-03-31 20:00:00\n",
              "80763  0     2013-03-31 21:00:00\n",
              "80764 55     2013-03-31 18:00:00\n",
              "80765 59     2013-03-31 21:00:00\n",
              "80766 25     2013-03-31 20:00:00\n",
              "80767 20     2013-03-31 22:00:00\n",
              "80768 40     2013-03-31 20:00:00\n",
              "80769 30     2013-03-31 20:00:00\n",
              "80770 20     2013-03-31 22:00:00\n",
              "80771  0     2013-03-31 21:00:00\n",
              "80772 45     2013-03-31 22:00:00\n",
              "80773 12     2013-03-31 21:00:00\n",
              "80774 45     2013-03-31 22:00:00\n",
              "80775 45     2013-03-31 22:00:00\n",
              "80776 50     2013-03-31 22:00:00\n",
              "80777  0     2013-03-31 20:00:00\n",
              "80778 15     2013-03-31 21:00:00\n",
              "80779  0     2013-03-31 22:00:00\n",
              "80780 25     2013-03-31 22:00:00\n",
              "80781 30     2013-03-31 20:00:00\n",
              "80782 50     2013-03-31 21:00:00\n",
              "80783 55     2013-03-31 23:00:00\n",
              "80784 50     2013-03-31 22:00:00\n",
              "80785 55     2013-03-31 23:00:00\n",
              "80786 59     2013-03-31 23:00:00\n",
              "80787 27     2013-03-31 16:00:00\n",
              "80788  0     2013-03-31 06:00:00\n",
              "80789 29     2013-03-31 09:00:00"
            ]
          },
          "metadata": {}
        },
        {
          "output_type": "display_data",
          "data": {
            "text/html": [
              "80789"
            ],
            "text/markdown": "80789",
            "text/latex": "80789",
            "text/plain": [
              "[1] 80789"
            ]
          },
          "metadata": {}
        },
        {
          "output_type": "stream",
          "name": "stderr",
          "text": [
            "Warning message in month == c(1:3):\n",
            "“longer object length is not a multiple of shorter object length”\n"
          ]
        },
        {
          "output_type": "display_data",
          "data": {
            "text/html": [
              "26931"
            ],
            "text/markdown": "26931",
            "text/latex": "26931",
            "text/plain": [
              "[1] 26931"
            ]
          },
          "metadata": {}
        }
      ],
      "source": [
        "# no. of flights departing between Jan and Mar\n",
        "filter(flights,month%in%c(1:3))\n",
        "nrow(filter(flights,month%in%c(1:3)))"
      ]
    },
    {
      "cell_type": "markdown",
      "metadata": {
        "id": "UjRJPyXWWb2d"
      },
      "source": [
        "### Row operation #1.5: `head()`/`tail()`\n",
        "A particularly useful kind of `filter()` is to only keep the first, or last, rows. This happens so often in practical data science, that there are built-in commands to do it:"
      ]
    },
    {
      "cell_type": "code",
      "execution_count": 23,
      "metadata": {
        "id": "3vd8HH3RWb2d",
        "colab": {
          "base_uri": "https://localhost:8080/",
          "height": 410
        },
        "outputId": "d4a0486d-f170-428e-9ea0-00ff80b1c662"
      },
      "outputs": [
        {
          "output_type": "display_data",
          "data": {
            "text/html": [
              "<table class=\"dataframe\">\n",
              "<caption>A tibble: 6 × 19</caption>\n",
              "<thead>\n",
              "\t<tr><th scope=col>year</th><th scope=col>month</th><th scope=col>day</th><th scope=col>dep_time</th><th scope=col>sched_dep_time</th><th scope=col>dep_delay</th><th scope=col>arr_time</th><th scope=col>sched_arr_time</th><th scope=col>arr_delay</th><th scope=col>carrier</th><th scope=col>flight</th><th scope=col>tailnum</th><th scope=col>origin</th><th scope=col>dest</th><th scope=col>air_time</th><th scope=col>distance</th><th scope=col>hour</th><th scope=col>minute</th><th scope=col>time_hour</th></tr>\n",
              "\t<tr><th scope=col>&lt;int&gt;</th><th scope=col>&lt;int&gt;</th><th scope=col>&lt;int&gt;</th><th scope=col>&lt;int&gt;</th><th scope=col>&lt;int&gt;</th><th scope=col>&lt;dbl&gt;</th><th scope=col>&lt;int&gt;</th><th scope=col>&lt;int&gt;</th><th scope=col>&lt;dbl&gt;</th><th scope=col>&lt;chr&gt;</th><th scope=col>&lt;int&gt;</th><th scope=col>&lt;chr&gt;</th><th scope=col>&lt;chr&gt;</th><th scope=col>&lt;chr&gt;</th><th scope=col>&lt;dbl&gt;</th><th scope=col>&lt;dbl&gt;</th><th scope=col>&lt;dbl&gt;</th><th scope=col>&lt;dbl&gt;</th><th scope=col>&lt;dttm&gt;</th></tr>\n",
              "</thead>\n",
              "<tbody>\n",
              "\t<tr><td>2013</td><td>1</td><td>1</td><td>517</td><td>515</td><td> 2</td><td> 830</td><td> 819</td><td> 11</td><td>UA</td><td>1545</td><td>N14228</td><td>EWR</td><td>IAH</td><td>227</td><td>1400</td><td>5</td><td>15</td><td>2013-01-01 05:00:00</td></tr>\n",
              "\t<tr><td>2013</td><td>1</td><td>1</td><td>533</td><td>529</td><td> 4</td><td> 850</td><td> 830</td><td> 20</td><td>UA</td><td>1714</td><td>N24211</td><td>LGA</td><td>IAH</td><td>227</td><td>1416</td><td>5</td><td>29</td><td>2013-01-01 05:00:00</td></tr>\n",
              "\t<tr><td>2013</td><td>1</td><td>1</td><td>542</td><td>540</td><td> 2</td><td> 923</td><td> 850</td><td> 33</td><td>AA</td><td>1141</td><td>N619AA</td><td>JFK</td><td>MIA</td><td>160</td><td>1089</td><td>5</td><td>40</td><td>2013-01-01 05:00:00</td></tr>\n",
              "\t<tr><td>2013</td><td>1</td><td>1</td><td>544</td><td>545</td><td>-1</td><td>1004</td><td>1022</td><td>-18</td><td>B6</td><td> 725</td><td>N804JB</td><td>JFK</td><td>BQN</td><td>183</td><td>1576</td><td>5</td><td>45</td><td>2013-01-01 05:00:00</td></tr>\n",
              "\t<tr><td>2013</td><td>1</td><td>1</td><td>554</td><td>600</td><td>-6</td><td> 812</td><td> 837</td><td>-25</td><td>DL</td><td> 461</td><td>N668DN</td><td>LGA</td><td>ATL</td><td>116</td><td> 762</td><td>6</td><td> 0</td><td>2013-01-01 06:00:00</td></tr>\n",
              "\t<tr><td>2013</td><td>1</td><td>1</td><td>554</td><td>558</td><td>-4</td><td> 740</td><td> 728</td><td> 12</td><td>UA</td><td>1696</td><td>N39463</td><td>EWR</td><td>ORD</td><td>150</td><td> 719</td><td>5</td><td>58</td><td>2013-01-01 05:00:00</td></tr>\n",
              "</tbody>\n",
              "</table>\n"
            ],
            "text/markdown": "\nA tibble: 6 × 19\n\n| year &lt;int&gt; | month &lt;int&gt; | day &lt;int&gt; | dep_time &lt;int&gt; | sched_dep_time &lt;int&gt; | dep_delay &lt;dbl&gt; | arr_time &lt;int&gt; | sched_arr_time &lt;int&gt; | arr_delay &lt;dbl&gt; | carrier &lt;chr&gt; | flight &lt;int&gt; | tailnum &lt;chr&gt; | origin &lt;chr&gt; | dest &lt;chr&gt; | air_time &lt;dbl&gt; | distance &lt;dbl&gt; | hour &lt;dbl&gt; | minute &lt;dbl&gt; | time_hour &lt;dttm&gt; |\n|---|---|---|---|---|---|---|---|---|---|---|---|---|---|---|---|---|---|---|\n| 2013 | 1 | 1 | 517 | 515 |  2 |  830 |  819 |  11 | UA | 1545 | N14228 | EWR | IAH | 227 | 1400 | 5 | 15 | 2013-01-01 05:00:00 |\n| 2013 | 1 | 1 | 533 | 529 |  4 |  850 |  830 |  20 | UA | 1714 | N24211 | LGA | IAH | 227 | 1416 | 5 | 29 | 2013-01-01 05:00:00 |\n| 2013 | 1 | 1 | 542 | 540 |  2 |  923 |  850 |  33 | AA | 1141 | N619AA | JFK | MIA | 160 | 1089 | 5 | 40 | 2013-01-01 05:00:00 |\n| 2013 | 1 | 1 | 544 | 545 | -1 | 1004 | 1022 | -18 | B6 |  725 | N804JB | JFK | BQN | 183 | 1576 | 5 | 45 | 2013-01-01 05:00:00 |\n| 2013 | 1 | 1 | 554 | 600 | -6 |  812 |  837 | -25 | DL |  461 | N668DN | LGA | ATL | 116 |  762 | 6 |  0 | 2013-01-01 06:00:00 |\n| 2013 | 1 | 1 | 554 | 558 | -4 |  740 |  728 |  12 | UA | 1696 | N39463 | EWR | ORD | 150 |  719 | 5 | 58 | 2013-01-01 05:00:00 |\n\n",
            "text/latex": "A tibble: 6 × 19\n\\begin{tabular}{lllllllllllllllllll}\n year & month & day & dep\\_time & sched\\_dep\\_time & dep\\_delay & arr\\_time & sched\\_arr\\_time & arr\\_delay & carrier & flight & tailnum & origin & dest & air\\_time & distance & hour & minute & time\\_hour\\\\\n <int> & <int> & <int> & <int> & <int> & <dbl> & <int> & <int> & <dbl> & <chr> & <int> & <chr> & <chr> & <chr> & <dbl> & <dbl> & <dbl> & <dbl> & <dttm>\\\\\n\\hline\n\t 2013 & 1 & 1 & 517 & 515 &  2 &  830 &  819 &  11 & UA & 1545 & N14228 & EWR & IAH & 227 & 1400 & 5 & 15 & 2013-01-01 05:00:00\\\\\n\t 2013 & 1 & 1 & 533 & 529 &  4 &  850 &  830 &  20 & UA & 1714 & N24211 & LGA & IAH & 227 & 1416 & 5 & 29 & 2013-01-01 05:00:00\\\\\n\t 2013 & 1 & 1 & 542 & 540 &  2 &  923 &  850 &  33 & AA & 1141 & N619AA & JFK & MIA & 160 & 1089 & 5 & 40 & 2013-01-01 05:00:00\\\\\n\t 2013 & 1 & 1 & 544 & 545 & -1 & 1004 & 1022 & -18 & B6 &  725 & N804JB & JFK & BQN & 183 & 1576 & 5 & 45 & 2013-01-01 05:00:00\\\\\n\t 2013 & 1 & 1 & 554 & 600 & -6 &  812 &  837 & -25 & DL &  461 & N668DN & LGA & ATL & 116 &  762 & 6 &  0 & 2013-01-01 06:00:00\\\\\n\t 2013 & 1 & 1 & 554 & 558 & -4 &  740 &  728 &  12 & UA & 1696 & N39463 & EWR & ORD & 150 &  719 & 5 & 58 & 2013-01-01 05:00:00\\\\\n\\end{tabular}\n",
            "text/plain": [
              "  year month day dep_time sched_dep_time dep_delay arr_time sched_arr_time\n",
              "1 2013 1     1   517      515             2         830      819          \n",
              "2 2013 1     1   533      529             4         850      830          \n",
              "3 2013 1     1   542      540             2         923      850          \n",
              "4 2013 1     1   544      545            -1        1004     1022          \n",
              "5 2013 1     1   554      600            -6         812      837          \n",
              "6 2013 1     1   554      558            -4         740      728          \n",
              "  arr_delay carrier flight tailnum origin dest air_time distance hour minute\n",
              "1  11       UA      1545   N14228  EWR    IAH  227      1400     5    15    \n",
              "2  20       UA      1714   N24211  LGA    IAH  227      1416     5    29    \n",
              "3  33       AA      1141   N619AA  JFK    MIA  160      1089     5    40    \n",
              "4 -18       B6       725   N804JB  JFK    BQN  183      1576     5    45    \n",
              "5 -25       DL       461   N668DN  LGA    ATL  116       762     6     0    \n",
              "6  12       UA      1696   N39463  EWR    ORD  150       719     5    58    \n",
              "  time_hour          \n",
              "1 2013-01-01 05:00:00\n",
              "2 2013-01-01 05:00:00\n",
              "3 2013-01-01 05:00:00\n",
              "4 2013-01-01 05:00:00\n",
              "5 2013-01-01 06:00:00\n",
              "6 2013-01-01 05:00:00"
            ]
          },
          "metadata": {}
        }
      ],
      "source": [
        "# first 6 rows of flights\n",
        "head(filter(flights,month==1))"
      ]
    },
    {
      "cell_type": "code",
      "execution_count": 28,
      "metadata": {
        "id": "vfLzm8ySWb2d",
        "colab": {
          "base_uri": "https://localhost:8080/",
          "height": 410
        },
        "outputId": "88f8da7f-9b93-49d5-9db2-8c2b9385732b"
      },
      "outputs": [
        {
          "output_type": "display_data",
          "data": {
            "text/html": [
              "<table class=\"dataframe\">\n",
              "<caption>A tibble: 6 × 19</caption>\n",
              "<thead>\n",
              "\t<tr><th scope=col>year</th><th scope=col>month</th><th scope=col>day</th><th scope=col>dep_time</th><th scope=col>sched_dep_time</th><th scope=col>dep_delay</th><th scope=col>arr_time</th><th scope=col>sched_arr_time</th><th scope=col>arr_delay</th><th scope=col>carrier</th><th scope=col>flight</th><th scope=col>tailnum</th><th scope=col>origin</th><th scope=col>dest</th><th scope=col>air_time</th><th scope=col>distance</th><th scope=col>hour</th><th scope=col>minute</th><th scope=col>time_hour</th></tr>\n",
              "\t<tr><th scope=col>&lt;int&gt;</th><th scope=col>&lt;int&gt;</th><th scope=col>&lt;int&gt;</th><th scope=col>&lt;int&gt;</th><th scope=col>&lt;int&gt;</th><th scope=col>&lt;dbl&gt;</th><th scope=col>&lt;int&gt;</th><th scope=col>&lt;int&gt;</th><th scope=col>&lt;dbl&gt;</th><th scope=col>&lt;chr&gt;</th><th scope=col>&lt;int&gt;</th><th scope=col>&lt;chr&gt;</th><th scope=col>&lt;chr&gt;</th><th scope=col>&lt;chr&gt;</th><th scope=col>&lt;dbl&gt;</th><th scope=col>&lt;dbl&gt;</th><th scope=col>&lt;dbl&gt;</th><th scope=col>&lt;dbl&gt;</th><th scope=col>&lt;dttm&gt;</th></tr>\n",
              "</thead>\n",
              "<tbody>\n",
              "\t<tr><td>2013</td><td>12</td><td>31</td><td>NA</td><td> 855</td><td>NA</td><td>NA</td><td>1142</td><td>NA</td><td>UA</td><td>1506</td><td>NA    </td><td>EWR</td><td>JAC</td><td>NA</td><td>1874</td><td> 8</td><td>55</td><td>2013-12-31 08:00:00</td></tr>\n",
              "\t<tr><td>2013</td><td>12</td><td>31</td><td>NA</td><td> 705</td><td>NA</td><td>NA</td><td> 931</td><td>NA</td><td>UA</td><td>1729</td><td>NA    </td><td>EWR</td><td>DEN</td><td>NA</td><td>1605</td><td> 7</td><td> 5</td><td>2013-12-31 07:00:00</td></tr>\n",
              "\t<tr><td>2013</td><td>12</td><td>31</td><td>NA</td><td> 825</td><td>NA</td><td>NA</td><td>1029</td><td>NA</td><td>US</td><td>1831</td><td>NA    </td><td>JFK</td><td>CLT</td><td>NA</td><td> 541</td><td> 8</td><td>25</td><td>2013-12-31 08:00:00</td></tr>\n",
              "\t<tr><td>2013</td><td>12</td><td>31</td><td>NA</td><td>1615</td><td>NA</td><td>NA</td><td>1800</td><td>NA</td><td>MQ</td><td>3301</td><td>N844MQ</td><td>LGA</td><td>RDU</td><td>NA</td><td> 431</td><td>16</td><td>15</td><td>2013-12-31 16:00:00</td></tr>\n",
              "\t<tr><td>2013</td><td>12</td><td>31</td><td>NA</td><td> 600</td><td>NA</td><td>NA</td><td> 735</td><td>NA</td><td>UA</td><td> 219</td><td>NA    </td><td>EWR</td><td>ORD</td><td>NA</td><td> 719</td><td> 6</td><td> 0</td><td>2013-12-31 06:00:00</td></tr>\n",
              "\t<tr><td>2013</td><td>12</td><td>31</td><td>NA</td><td> 830</td><td>NA</td><td>NA</td><td>1154</td><td>NA</td><td>UA</td><td> 443</td><td>NA    </td><td>JFK</td><td>LAX</td><td>NA</td><td>2475</td><td> 8</td><td>30</td><td>2013-12-31 08:00:00</td></tr>\n",
              "</tbody>\n",
              "</table>\n"
            ],
            "text/markdown": "\nA tibble: 6 × 19\n\n| year &lt;int&gt; | month &lt;int&gt; | day &lt;int&gt; | dep_time &lt;int&gt; | sched_dep_time &lt;int&gt; | dep_delay &lt;dbl&gt; | arr_time &lt;int&gt; | sched_arr_time &lt;int&gt; | arr_delay &lt;dbl&gt; | carrier &lt;chr&gt; | flight &lt;int&gt; | tailnum &lt;chr&gt; | origin &lt;chr&gt; | dest &lt;chr&gt; | air_time &lt;dbl&gt; | distance &lt;dbl&gt; | hour &lt;dbl&gt; | minute &lt;dbl&gt; | time_hour &lt;dttm&gt; |\n|---|---|---|---|---|---|---|---|---|---|---|---|---|---|---|---|---|---|---|\n| 2013 | 12 | 31 | NA |  855 | NA | NA | 1142 | NA | UA | 1506 | NA     | EWR | JAC | NA | 1874 |  8 | 55 | 2013-12-31 08:00:00 |\n| 2013 | 12 | 31 | NA |  705 | NA | NA |  931 | NA | UA | 1729 | NA     | EWR | DEN | NA | 1605 |  7 |  5 | 2013-12-31 07:00:00 |\n| 2013 | 12 | 31 | NA |  825 | NA | NA | 1029 | NA | US | 1831 | NA     | JFK | CLT | NA |  541 |  8 | 25 | 2013-12-31 08:00:00 |\n| 2013 | 12 | 31 | NA | 1615 | NA | NA | 1800 | NA | MQ | 3301 | N844MQ | LGA | RDU | NA |  431 | 16 | 15 | 2013-12-31 16:00:00 |\n| 2013 | 12 | 31 | NA |  600 | NA | NA |  735 | NA | UA |  219 | NA     | EWR | ORD | NA |  719 |  6 |  0 | 2013-12-31 06:00:00 |\n| 2013 | 12 | 31 | NA |  830 | NA | NA | 1154 | NA | UA |  443 | NA     | JFK | LAX | NA | 2475 |  8 | 30 | 2013-12-31 08:00:00 |\n\n",
            "text/latex": "A tibble: 6 × 19\n\\begin{tabular}{lllllllllllllllllll}\n year & month & day & dep\\_time & sched\\_dep\\_time & dep\\_delay & arr\\_time & sched\\_arr\\_time & arr\\_delay & carrier & flight & tailnum & origin & dest & air\\_time & distance & hour & minute & time\\_hour\\\\\n <int> & <int> & <int> & <int> & <int> & <dbl> & <int> & <int> & <dbl> & <chr> & <int> & <chr> & <chr> & <chr> & <dbl> & <dbl> & <dbl> & <dbl> & <dttm>\\\\\n\\hline\n\t 2013 & 12 & 31 & NA &  855 & NA & NA & 1142 & NA & UA & 1506 & NA     & EWR & JAC & NA & 1874 &  8 & 55 & 2013-12-31 08:00:00\\\\\n\t 2013 & 12 & 31 & NA &  705 & NA & NA &  931 & NA & UA & 1729 & NA     & EWR & DEN & NA & 1605 &  7 &  5 & 2013-12-31 07:00:00\\\\\n\t 2013 & 12 & 31 & NA &  825 & NA & NA & 1029 & NA & US & 1831 & NA     & JFK & CLT & NA &  541 &  8 & 25 & 2013-12-31 08:00:00\\\\\n\t 2013 & 12 & 31 & NA & 1615 & NA & NA & 1800 & NA & MQ & 3301 & N844MQ & LGA & RDU & NA &  431 & 16 & 15 & 2013-12-31 16:00:00\\\\\n\t 2013 & 12 & 31 & NA &  600 & NA & NA &  735 & NA & UA &  219 & NA     & EWR & ORD & NA &  719 &  6 &  0 & 2013-12-31 06:00:00\\\\\n\t 2013 & 12 & 31 & NA &  830 & NA & NA & 1154 & NA & UA &  443 & NA     & JFK & LAX & NA & 2475 &  8 & 30 & 2013-12-31 08:00:00\\\\\n\\end{tabular}\n",
            "text/plain": [
              "  year month day dep_time sched_dep_time dep_delay arr_time sched_arr_time\n",
              "1 2013 12    31  NA        855           NA        NA       1142          \n",
              "2 2013 12    31  NA        705           NA        NA        931          \n",
              "3 2013 12    31  NA        825           NA        NA       1029          \n",
              "4 2013 12    31  NA       1615           NA        NA       1800          \n",
              "5 2013 12    31  NA        600           NA        NA        735          \n",
              "6 2013 12    31  NA        830           NA        NA       1154          \n",
              "  arr_delay carrier flight tailnum origin dest air_time distance hour minute\n",
              "1 NA        UA      1506   NA      EWR    JAC  NA       1874      8   55    \n",
              "2 NA        UA      1729   NA      EWR    DEN  NA       1605      7    5    \n",
              "3 NA        US      1831   NA      JFK    CLT  NA        541      8   25    \n",
              "4 NA        MQ      3301   N844MQ  LGA    RDU  NA        431     16   15    \n",
              "5 NA        UA       219   NA      EWR    ORD  NA        719      6    0    \n",
              "6 NA        UA       443   NA      JFK    LAX  NA       2475      8   30    \n",
              "  time_hour          \n",
              "1 2013-12-31 08:00:00\n",
              "2 2013-12-31 07:00:00\n",
              "3 2013-12-31 08:00:00\n",
              "4 2013-12-31 16:00:00\n",
              "5 2013-12-31 06:00:00\n",
              "6 2013-12-31 08:00:00"
            ]
          },
          "metadata": {}
        }
      ],
      "source": [
        "# last 6 rows of flights\n",
        "tail(filter(flights, month==12))"
      ]
    },
    {
      "cell_type": "markdown",
      "metadata": {
        "id": "cy7vh7TAWb2d"
      },
      "source": [
        "## Row operation #2: Sorting\n",
        "Often we want to sort our data based on one or more column values. This can arise for several reasons:\n",
        "- The data have some natural order (for example, chronological)\n",
        "- We want to learn about \"extreme\" features of the data:\n",
        "  - \"What was the most delayed flight?\"\n",
        "  - \"What was the hottest day of the year?\"\n",
        "  - \"Who was the tallest NBA player in 2010?\""
      ]
    },
    {
      "cell_type": "markdown",
      "metadata": {
        "id": "IpTaa8k8Wb2d"
      },
      "source": [
        "`arrange()` changes the order of the rows based on the value of the columns. \n",
        "- It takes a data frame and a set of column names (or more complicated expressions) to order by. \n",
        "- If you provide multiple expressions to order by, it uses the second one to break ties in the first one, third one to break ties in the second one, and so on.\n",
        "- By default, things are sorted in **ascending** order."
      ]
    },
    {
      "cell_type": "code",
      "execution_count": 31,
      "metadata": {
        "id": "Fk6bkTBnWb2d",
        "colab": {
          "base_uri": "https://localhost:8080/",
          "height": 1000
        },
        "outputId": "427cec24-ee58-424d-ee38-96fc9c6518bf"
      },
      "outputs": [
        {
          "output_type": "display_data",
          "data": {
            "text/html": [
              "<table class=\"dataframe\">\n",
              "<caption>A tibble: 336776 × 19</caption>\n",
              "<thead>\n",
              "\t<tr><th scope=col>year</th><th scope=col>month</th><th scope=col>day</th><th scope=col>dep_time</th><th scope=col>sched_dep_time</th><th scope=col>dep_delay</th><th scope=col>arr_time</th><th scope=col>sched_arr_time</th><th scope=col>arr_delay</th><th scope=col>carrier</th><th scope=col>flight</th><th scope=col>tailnum</th><th scope=col>origin</th><th scope=col>dest</th><th scope=col>air_time</th><th scope=col>distance</th><th scope=col>hour</th><th scope=col>minute</th><th scope=col>time_hour</th></tr>\n",
              "\t<tr><th scope=col>&lt;int&gt;</th><th scope=col>&lt;int&gt;</th><th scope=col>&lt;int&gt;</th><th scope=col>&lt;int&gt;</th><th scope=col>&lt;int&gt;</th><th scope=col>&lt;dbl&gt;</th><th scope=col>&lt;int&gt;</th><th scope=col>&lt;int&gt;</th><th scope=col>&lt;dbl&gt;</th><th scope=col>&lt;chr&gt;</th><th scope=col>&lt;int&gt;</th><th scope=col>&lt;chr&gt;</th><th scope=col>&lt;chr&gt;</th><th scope=col>&lt;chr&gt;</th><th scope=col>&lt;dbl&gt;</th><th scope=col>&lt;dbl&gt;</th><th scope=col>&lt;dbl&gt;</th><th scope=col>&lt;dbl&gt;</th><th scope=col>&lt;dttm&gt;</th></tr>\n",
              "</thead>\n",
              "<tbody>\n",
              "\t<tr><td>2013</td><td>1</td><td>1</td><td>517</td><td>515</td><td> 2</td><td> 830</td><td> 819</td><td> 11</td><td>UA</td><td>1545</td><td>N14228</td><td>EWR</td><td>IAH</td><td>227</td><td>1400</td><td>5</td><td>15</td><td>2013-01-01 05:00:00</td></tr>\n",
              "\t<tr><td>2013</td><td>1</td><td>1</td><td>533</td><td>529</td><td> 4</td><td> 850</td><td> 830</td><td> 20</td><td>UA</td><td>1714</td><td>N24211</td><td>LGA</td><td>IAH</td><td>227</td><td>1416</td><td>5</td><td>29</td><td>2013-01-01 05:00:00</td></tr>\n",
              "\t<tr><td>2013</td><td>1</td><td>1</td><td>542</td><td>540</td><td> 2</td><td> 923</td><td> 850</td><td> 33</td><td>AA</td><td>1141</td><td>N619AA</td><td>JFK</td><td>MIA</td><td>160</td><td>1089</td><td>5</td><td>40</td><td>2013-01-01 05:00:00</td></tr>\n",
              "\t<tr><td>2013</td><td>1</td><td>1</td><td>544</td><td>545</td><td>-1</td><td>1004</td><td>1022</td><td>-18</td><td>B6</td><td> 725</td><td>N804JB</td><td>JFK</td><td>BQN</td><td>183</td><td>1576</td><td>5</td><td>45</td><td>2013-01-01 05:00:00</td></tr>\n",
              "\t<tr><td>2013</td><td>1</td><td>1</td><td>554</td><td>600</td><td>-6</td><td> 812</td><td> 837</td><td>-25</td><td>DL</td><td> 461</td><td>N668DN</td><td>LGA</td><td>ATL</td><td>116</td><td> 762</td><td>6</td><td> 0</td><td>2013-01-01 06:00:00</td></tr>\n",
              "\t<tr><td>2013</td><td>1</td><td>1</td><td>554</td><td>558</td><td>-4</td><td> 740</td><td> 728</td><td> 12</td><td>UA</td><td>1696</td><td>N39463</td><td>EWR</td><td>ORD</td><td>150</td><td> 719</td><td>5</td><td>58</td><td>2013-01-01 05:00:00</td></tr>\n",
              "\t<tr><td>2013</td><td>1</td><td>1</td><td>555</td><td>600</td><td>-5</td><td> 913</td><td> 854</td><td> 19</td><td>B6</td><td> 507</td><td>N516JB</td><td>EWR</td><td>FLL</td><td>158</td><td>1065</td><td>6</td><td> 0</td><td>2013-01-01 06:00:00</td></tr>\n",
              "\t<tr><td>2013</td><td>1</td><td>1</td><td>557</td><td>600</td><td>-3</td><td> 709</td><td> 723</td><td>-14</td><td>EV</td><td>5708</td><td>N829AS</td><td>LGA</td><td>IAD</td><td> 53</td><td> 229</td><td>6</td><td> 0</td><td>2013-01-01 06:00:00</td></tr>\n",
              "\t<tr><td>2013</td><td>1</td><td>1</td><td>557</td><td>600</td><td>-3</td><td> 838</td><td> 846</td><td> -8</td><td>B6</td><td>  79</td><td>N593JB</td><td>JFK</td><td>MCO</td><td>140</td><td> 944</td><td>6</td><td> 0</td><td>2013-01-01 06:00:00</td></tr>\n",
              "\t<tr><td>2013</td><td>1</td><td>1</td><td>558</td><td>600</td><td>-2</td><td> 753</td><td> 745</td><td>  8</td><td>AA</td><td> 301</td><td>N3ALAA</td><td>LGA</td><td>ORD</td><td>138</td><td> 733</td><td>6</td><td> 0</td><td>2013-01-01 06:00:00</td></tr>\n",
              "\t<tr><td>2013</td><td>1</td><td>1</td><td>558</td><td>600</td><td>-2</td><td> 849</td><td> 851</td><td> -2</td><td>B6</td><td>  49</td><td>N793JB</td><td>JFK</td><td>PBI</td><td>149</td><td>1028</td><td>6</td><td> 0</td><td>2013-01-01 06:00:00</td></tr>\n",
              "\t<tr><td>2013</td><td>1</td><td>1</td><td>558</td><td>600</td><td>-2</td><td> 853</td><td> 856</td><td> -3</td><td>B6</td><td>  71</td><td>N657JB</td><td>JFK</td><td>TPA</td><td>158</td><td>1005</td><td>6</td><td> 0</td><td>2013-01-01 06:00:00</td></tr>\n",
              "\t<tr><td>2013</td><td>1</td><td>1</td><td>558</td><td>600</td><td>-2</td><td> 924</td><td> 917</td><td>  7</td><td>UA</td><td> 194</td><td>N29129</td><td>JFK</td><td>LAX</td><td>345</td><td>2475</td><td>6</td><td> 0</td><td>2013-01-01 06:00:00</td></tr>\n",
              "\t<tr><td>2013</td><td>1</td><td>1</td><td>558</td><td>600</td><td>-2</td><td> 923</td><td> 937</td><td>-14</td><td>UA</td><td>1124</td><td>N53441</td><td>EWR</td><td>SFO</td><td>361</td><td>2565</td><td>6</td><td> 0</td><td>2013-01-01 06:00:00</td></tr>\n",
              "\t<tr><td>2013</td><td>1</td><td>1</td><td>559</td><td>600</td><td>-1</td><td> 941</td><td> 910</td><td> 31</td><td>AA</td><td> 707</td><td>N3DUAA</td><td>LGA</td><td>DFW</td><td>257</td><td>1389</td><td>6</td><td> 0</td><td>2013-01-01 06:00:00</td></tr>\n",
              "\t<tr><td>2013</td><td>1</td><td>1</td><td>559</td><td>559</td><td> 0</td><td> 702</td><td> 706</td><td> -4</td><td>B6</td><td>1806</td><td>N708JB</td><td>JFK</td><td>BOS</td><td> 44</td><td> 187</td><td>5</td><td>59</td><td>2013-01-01 05:00:00</td></tr>\n",
              "\t<tr><td>2013</td><td>1</td><td>1</td><td>559</td><td>600</td><td>-1</td><td> 854</td><td> 902</td><td> -8</td><td>UA</td><td>1187</td><td>N76515</td><td>EWR</td><td>LAS</td><td>337</td><td>2227</td><td>6</td><td> 0</td><td>2013-01-01 06:00:00</td></tr>\n",
              "\t<tr><td>2013</td><td>1</td><td>1</td><td>600</td><td>600</td><td> 0</td><td> 851</td><td> 858</td><td> -7</td><td>B6</td><td> 371</td><td>N595JB</td><td>LGA</td><td>FLL</td><td>152</td><td>1076</td><td>6</td><td> 0</td><td>2013-01-01 06:00:00</td></tr>\n",
              "\t<tr><td>2013</td><td>1</td><td>1</td><td>600</td><td>600</td><td> 0</td><td> 837</td><td> 825</td><td> 12</td><td>MQ</td><td>4650</td><td>N542MQ</td><td>LGA</td><td>ATL</td><td>134</td><td> 762</td><td>6</td><td> 0</td><td>2013-01-01 06:00:00</td></tr>\n",
              "\t<tr><td>2013</td><td>1</td><td>1</td><td>601</td><td>600</td><td> 1</td><td> 844</td><td> 850</td><td> -6</td><td>B6</td><td> 343</td><td>N644JB</td><td>EWR</td><td>PBI</td><td>147</td><td>1023</td><td>6</td><td> 0</td><td>2013-01-01 06:00:00</td></tr>\n",
              "\t<tr><td>2013</td><td>1</td><td>1</td><td>602</td><td>610</td><td>-8</td><td> 812</td><td> 820</td><td> -8</td><td>DL</td><td>1919</td><td>N971DL</td><td>LGA</td><td>MSP</td><td>170</td><td>1020</td><td>6</td><td>10</td><td>2013-01-01 06:00:00</td></tr>\n",
              "\t<tr><td>2013</td><td>1</td><td>1</td><td>602</td><td>605</td><td>-3</td><td> 821</td><td> 805</td><td> 16</td><td>MQ</td><td>4401</td><td>N730MQ</td><td>LGA</td><td>DTW</td><td>105</td><td> 502</td><td>6</td><td> 5</td><td>2013-01-01 06:00:00</td></tr>\n",
              "\t<tr><td>2013</td><td>1</td><td>1</td><td>606</td><td>610</td><td>-4</td><td> 858</td><td> 910</td><td>-12</td><td>AA</td><td>1895</td><td>N633AA</td><td>EWR</td><td>MIA</td><td>152</td><td>1085</td><td>6</td><td>10</td><td>2013-01-01 06:00:00</td></tr>\n",
              "\t<tr><td>2013</td><td>1</td><td>1</td><td>606</td><td>610</td><td>-4</td><td> 837</td><td> 845</td><td> -8</td><td>DL</td><td>1743</td><td>N3739P</td><td>JFK</td><td>ATL</td><td>128</td><td> 760</td><td>6</td><td>10</td><td>2013-01-01 06:00:00</td></tr>\n",
              "\t<tr><td>2013</td><td>1</td><td>1</td><td>607</td><td>607</td><td> 0</td><td> 858</td><td> 915</td><td>-17</td><td>UA</td><td>1077</td><td>N53442</td><td>EWR</td><td>MIA</td><td>157</td><td>1085</td><td>6</td><td> 7</td><td>2013-01-01 06:00:00</td></tr>\n",
              "\t<tr><td>2013</td><td>1</td><td>1</td><td>608</td><td>600</td><td> 8</td><td> 807</td><td> 735</td><td> 32</td><td>MQ</td><td>3768</td><td>N9EAMQ</td><td>EWR</td><td>ORD</td><td>139</td><td> 719</td><td>6</td><td> 0</td><td>2013-01-01 06:00:00</td></tr>\n",
              "\t<tr><td>2013</td><td>1</td><td>1</td><td>611</td><td>600</td><td>11</td><td> 945</td><td> 931</td><td> 14</td><td>UA</td><td> 303</td><td>N532UA</td><td>JFK</td><td>SFO</td><td>366</td><td>2586</td><td>6</td><td> 0</td><td>2013-01-01 06:00:00</td></tr>\n",
              "\t<tr><td>2013</td><td>1</td><td>1</td><td>613</td><td>610</td><td> 3</td><td> 925</td><td> 921</td><td>  4</td><td>B6</td><td> 135</td><td>N635JB</td><td>JFK</td><td>RSW</td><td>175</td><td>1074</td><td>6</td><td>10</td><td>2013-01-01 06:00:00</td></tr>\n",
              "\t<tr><td>2013</td><td>1</td><td>1</td><td>615</td><td>615</td><td> 0</td><td>1039</td><td>1100</td><td>-21</td><td>B6</td><td> 709</td><td>N794JB</td><td>JFK</td><td>SJU</td><td>182</td><td>1598</td><td>6</td><td>15</td><td>2013-01-01 06:00:00</td></tr>\n",
              "\t<tr><td>2013</td><td>1</td><td>1</td><td>615</td><td>615</td><td> 0</td><td> 833</td><td> 842</td><td> -9</td><td>DL</td><td> 575</td><td>N326NB</td><td>EWR</td><td>ATL</td><td>120</td><td> 746</td><td>6</td><td>15</td><td>2013-01-01 06:00:00</td></tr>\n",
              "\t<tr><td>⋮</td><td>⋮</td><td>⋮</td><td>⋮</td><td>⋮</td><td>⋮</td><td>⋮</td><td>⋮</td><td>⋮</td><td>⋮</td><td>⋮</td><td>⋮</td><td>⋮</td><td>⋮</td><td>⋮</td><td>⋮</td><td>⋮</td><td>⋮</td><td>⋮</td></tr>\n",
              "\t<tr><td>2013</td><td>12</td><td>31</td><td>2155</td><td>2039</td><td> 76</td><td> 253</td><td>2355</td><td> NA</td><td>B6</td><td>1205</td><td>N627JB</td><td>JFK</td><td>PDX</td><td> NA</td><td>2454</td><td>20</td><td>39</td><td>2013-12-31 20:00:00</td></tr>\n",
              "\t<tr><td>2013</td><td>12</td><td>31</td><td>2155</td><td>2150</td><td>  5</td><td> 110</td><td>  51</td><td> 19</td><td>B6</td><td>1901</td><td>N729JB</td><td>JFK</td><td>FLL</td><td>164</td><td>1069</td><td>21</td><td>50</td><td>2013-12-31 21:00:00</td></tr>\n",
              "\t<tr><td>2013</td><td>12</td><td>31</td><td>2159</td><td>2155</td><td>  4</td><td>  55</td><td>  46</td><td>  9</td><td>B6</td><td>2053</td><td>N593JB</td><td>JFK</td><td>PBI</td><td>155</td><td>1028</td><td>21</td><td>55</td><td>2013-12-31 21:00:00</td></tr>\n",
              "\t<tr><td>2013</td><td>12</td><td>31</td><td>2206</td><td>2110</td><td> 56</td><td>  44</td><td>2339</td><td> 65</td><td>B6</td><td> 775</td><td>N184JB</td><td>JFK</td><td>MSY</td><td>195</td><td>1182</td><td>21</td><td>10</td><td>2013-12-31 21:00:00</td></tr>\n",
              "\t<tr><td>2013</td><td>12</td><td>31</td><td>2211</td><td>2159</td><td> 12</td><td> 100</td><td>  45</td><td> 15</td><td>B6</td><td>1183</td><td>N715JB</td><td>JFK</td><td>MCO</td><td>148</td><td> 944</td><td>21</td><td>59</td><td>2013-12-31 21:00:00</td></tr>\n",
              "\t<tr><td>2013</td><td>12</td><td>31</td><td>2218</td><td>2219</td><td> -1</td><td> 315</td><td> 304</td><td> 11</td><td>B6</td><td>1203</td><td>N625JB</td><td>JFK</td><td>SJU</td><td>202</td><td>1598</td><td>22</td><td>19</td><td>2013-12-31 22:00:00</td></tr>\n",
              "\t<tr><td>2013</td><td>12</td><td>31</td><td>2235</td><td>2245</td><td>-10</td><td>2351</td><td>2355</td><td> -4</td><td>B6</td><td> 234</td><td>N355JB</td><td>JFK</td><td>BTV</td><td> 49</td><td> 266</td><td>22</td><td>45</td><td>2013-12-31 22:00:00</td></tr>\n",
              "\t<tr><td>2013</td><td>12</td><td>31</td><td>2245</td><td>2250</td><td> -5</td><td>2359</td><td>2356</td><td>  3</td><td>B6</td><td>1816</td><td>N318JB</td><td>JFK</td><td>SYR</td><td> 51</td><td> 209</td><td>22</td><td>50</td><td>2013-12-31 22:00:00</td></tr>\n",
              "\t<tr><td>2013</td><td>12</td><td>31</td><td>2310</td><td>2255</td><td> 15</td><td>   7</td><td>2356</td><td> 11</td><td>B6</td><td> 718</td><td>N279JB</td><td>JFK</td><td>BOS</td><td> 40</td><td> 187</td><td>22</td><td>55</td><td>2013-12-31 22:00:00</td></tr>\n",
              "\t<tr><td>2013</td><td>12</td><td>31</td><td>2321</td><td>2250</td><td> 31</td><td>  46</td><td>   8</td><td> 38</td><td>B6</td><td>2002</td><td>N179JB</td><td>JFK</td><td>BUF</td><td> 66</td><td> 301</td><td>22</td><td>50</td><td>2013-12-31 22:00:00</td></tr>\n",
              "\t<tr><td>2013</td><td>12</td><td>31</td><td>2328</td><td>2330</td><td> -2</td><td> 412</td><td> 409</td><td>  3</td><td>B6</td><td>1389</td><td>N651JB</td><td>EWR</td><td>SJU</td><td>198</td><td>1608</td><td>23</td><td>30</td><td>2013-12-31 23:00:00</td></tr>\n",
              "\t<tr><td>2013</td><td>12</td><td>31</td><td>2332</td><td>2245</td><td> 47</td><td>  58</td><td>   3</td><td> 55</td><td>B6</td><td> 486</td><td>N334JB</td><td>JFK</td><td>ROC</td><td> 60</td><td> 264</td><td>22</td><td>45</td><td>2013-12-31 22:00:00</td></tr>\n",
              "\t<tr><td>2013</td><td>12</td><td>31</td><td>2355</td><td>2359</td><td> -4</td><td> 430</td><td> 440</td><td>-10</td><td>B6</td><td>1503</td><td>N509JB</td><td>JFK</td><td>SJU</td><td>195</td><td>1598</td><td>23</td><td>59</td><td>2013-12-31 23:00:00</td></tr>\n",
              "\t<tr><td>2013</td><td>12</td><td>31</td><td>2356</td><td>2359</td><td> -3</td><td> 436</td><td> 445</td><td> -9</td><td>B6</td><td> 745</td><td>N665JB</td><td>JFK</td><td>PSE</td><td>200</td><td>1617</td><td>23</td><td>59</td><td>2013-12-31 23:00:00</td></tr>\n",
              "\t<tr><td>2013</td><td>12</td><td>31</td><td>  NA</td><td>1520</td><td> NA</td><td>  NA</td><td>1705</td><td> NA</td><td>AA</td><td> 341</td><td>N568AA</td><td>LGA</td><td>ORD</td><td> NA</td><td> 733</td><td>15</td><td>20</td><td>2013-12-31 15:00:00</td></tr>\n",
              "\t<tr><td>2013</td><td>12</td><td>31</td><td>  NA</td><td>2025</td><td> NA</td><td>  NA</td><td>2205</td><td> NA</td><td>AA</td><td> 371</td><td>N482AA</td><td>LGA</td><td>ORD</td><td> NA</td><td> 733</td><td>20</td><td>25</td><td>2013-12-31 20:00:00</td></tr>\n",
              "\t<tr><td>2013</td><td>12</td><td>31</td><td>  NA</td><td>1932</td><td> NA</td><td>  NA</td><td>2305</td><td> NA</td><td>B6</td><td> 161</td><td>N516JB</td><td>JFK</td><td>SMF</td><td> NA</td><td>2521</td><td>19</td><td>32</td><td>2013-12-31 19:00:00</td></tr>\n",
              "\t<tr><td>2013</td><td>12</td><td>31</td><td>  NA</td><td>1505</td><td> NA</td><td>  NA</td><td>1725</td><td> NA</td><td>EV</td><td>4181</td><td>N24103</td><td>EWR</td><td>MCI</td><td> NA</td><td>1092</td><td>15</td><td> 5</td><td>2013-12-31 15:00:00</td></tr>\n",
              "\t<tr><td>2013</td><td>12</td><td>31</td><td>  NA</td><td>1000</td><td> NA</td><td>  NA</td><td>1252</td><td> NA</td><td>UA</td><td>1124</td><td>NA    </td><td>EWR</td><td>EGE</td><td> NA</td><td>1725</td><td>10</td><td> 0</td><td>2013-12-31 10:00:00</td></tr>\n",
              "\t<tr><td>2013</td><td>12</td><td>31</td><td>  NA</td><td> 840</td><td> NA</td><td>  NA</td><td>1205</td><td> NA</td><td>UA</td><td>1151</td><td>NA    </td><td>EWR</td><td>SEA</td><td> NA</td><td>2402</td><td> 8</td><td>40</td><td>2013-12-31 08:00:00</td></tr>\n",
              "\t<tr><td>2013</td><td>12</td><td>31</td><td>  NA</td><td> 754</td><td> NA</td><td>  NA</td><td>1118</td><td> NA</td><td>UA</td><td>1455</td><td>NA    </td><td>EWR</td><td>LAX</td><td> NA</td><td>2454</td><td> 7</td><td>54</td><td>2013-12-31 07:00:00</td></tr>\n",
              "\t<tr><td>2013</td><td>12</td><td>31</td><td>  NA</td><td>2000</td><td> NA</td><td>  NA</td><td>2146</td><td> NA</td><td>UA</td><td>1482</td><td>NA    </td><td>EWR</td><td>ORD</td><td> NA</td><td> 719</td><td>20</td><td> 0</td><td>2013-12-31 20:00:00</td></tr>\n",
              "\t<tr><td>2013</td><td>12</td><td>31</td><td>  NA</td><td>1500</td><td> NA</td><td>  NA</td><td>1817</td><td> NA</td><td>UA</td><td>1483</td><td>NA    </td><td>EWR</td><td>AUS</td><td> NA</td><td>1504</td><td>15</td><td> 0</td><td>2013-12-31 15:00:00</td></tr>\n",
              "\t<tr><td>2013</td><td>12</td><td>31</td><td>  NA</td><td>1430</td><td> NA</td><td>  NA</td><td>1750</td><td> NA</td><td>UA</td><td>1493</td><td>NA    </td><td>EWR</td><td>LAX</td><td> NA</td><td>2454</td><td>14</td><td>30</td><td>2013-12-31 14:00:00</td></tr>\n",
              "\t<tr><td>2013</td><td>12</td><td>31</td><td>  NA</td><td> 855</td><td> NA</td><td>  NA</td><td>1142</td><td> NA</td><td>UA</td><td>1506</td><td>NA    </td><td>EWR</td><td>JAC</td><td> NA</td><td>1874</td><td> 8</td><td>55</td><td>2013-12-31 08:00:00</td></tr>\n",
              "\t<tr><td>2013</td><td>12</td><td>31</td><td>  NA</td><td> 705</td><td> NA</td><td>  NA</td><td> 931</td><td> NA</td><td>UA</td><td>1729</td><td>NA    </td><td>EWR</td><td>DEN</td><td> NA</td><td>1605</td><td> 7</td><td> 5</td><td>2013-12-31 07:00:00</td></tr>\n",
              "\t<tr><td>2013</td><td>12</td><td>31</td><td>  NA</td><td> 825</td><td> NA</td><td>  NA</td><td>1029</td><td> NA</td><td>US</td><td>1831</td><td>NA    </td><td>JFK</td><td>CLT</td><td> NA</td><td> 541</td><td> 8</td><td>25</td><td>2013-12-31 08:00:00</td></tr>\n",
              "\t<tr><td>2013</td><td>12</td><td>31</td><td>  NA</td><td>1615</td><td> NA</td><td>  NA</td><td>1800</td><td> NA</td><td>MQ</td><td>3301</td><td>N844MQ</td><td>LGA</td><td>RDU</td><td> NA</td><td> 431</td><td>16</td><td>15</td><td>2013-12-31 16:00:00</td></tr>\n",
              "\t<tr><td>2013</td><td>12</td><td>31</td><td>  NA</td><td> 600</td><td> NA</td><td>  NA</td><td> 735</td><td> NA</td><td>UA</td><td> 219</td><td>NA    </td><td>EWR</td><td>ORD</td><td> NA</td><td> 719</td><td> 6</td><td> 0</td><td>2013-12-31 06:00:00</td></tr>\n",
              "\t<tr><td>2013</td><td>12</td><td>31</td><td>  NA</td><td> 830</td><td> NA</td><td>  NA</td><td>1154</td><td> NA</td><td>UA</td><td> 443</td><td>NA    </td><td>JFK</td><td>LAX</td><td> NA</td><td>2475</td><td> 8</td><td>30</td><td>2013-12-31 08:00:00</td></tr>\n",
              "</tbody>\n",
              "</table>\n"
            ],
            "text/markdown": "\nA tibble: 336776 × 19\n\n| year &lt;int&gt; | month &lt;int&gt; | day &lt;int&gt; | dep_time &lt;int&gt; | sched_dep_time &lt;int&gt; | dep_delay &lt;dbl&gt; | arr_time &lt;int&gt; | sched_arr_time &lt;int&gt; | arr_delay &lt;dbl&gt; | carrier &lt;chr&gt; | flight &lt;int&gt; | tailnum &lt;chr&gt; | origin &lt;chr&gt; | dest &lt;chr&gt; | air_time &lt;dbl&gt; | distance &lt;dbl&gt; | hour &lt;dbl&gt; | minute &lt;dbl&gt; | time_hour &lt;dttm&gt; |\n|---|---|---|---|---|---|---|---|---|---|---|---|---|---|---|---|---|---|---|\n| 2013 | 1 | 1 | 517 | 515 |  2 |  830 |  819 |  11 | UA | 1545 | N14228 | EWR | IAH | 227 | 1400 | 5 | 15 | 2013-01-01 05:00:00 |\n| 2013 | 1 | 1 | 533 | 529 |  4 |  850 |  830 |  20 | UA | 1714 | N24211 | LGA | IAH | 227 | 1416 | 5 | 29 | 2013-01-01 05:00:00 |\n| 2013 | 1 | 1 | 542 | 540 |  2 |  923 |  850 |  33 | AA | 1141 | N619AA | JFK | MIA | 160 | 1089 | 5 | 40 | 2013-01-01 05:00:00 |\n| 2013 | 1 | 1 | 544 | 545 | -1 | 1004 | 1022 | -18 | B6 |  725 | N804JB | JFK | BQN | 183 | 1576 | 5 | 45 | 2013-01-01 05:00:00 |\n| 2013 | 1 | 1 | 554 | 600 | -6 |  812 |  837 | -25 | DL |  461 | N668DN | LGA | ATL | 116 |  762 | 6 |  0 | 2013-01-01 06:00:00 |\n| 2013 | 1 | 1 | 554 | 558 | -4 |  740 |  728 |  12 | UA | 1696 | N39463 | EWR | ORD | 150 |  719 | 5 | 58 | 2013-01-01 05:00:00 |\n| 2013 | 1 | 1 | 555 | 600 | -5 |  913 |  854 |  19 | B6 |  507 | N516JB | EWR | FLL | 158 | 1065 | 6 |  0 | 2013-01-01 06:00:00 |\n| 2013 | 1 | 1 | 557 | 600 | -3 |  709 |  723 | -14 | EV | 5708 | N829AS | LGA | IAD |  53 |  229 | 6 |  0 | 2013-01-01 06:00:00 |\n| 2013 | 1 | 1 | 557 | 600 | -3 |  838 |  846 |  -8 | B6 |   79 | N593JB | JFK | MCO | 140 |  944 | 6 |  0 | 2013-01-01 06:00:00 |\n| 2013 | 1 | 1 | 558 | 600 | -2 |  753 |  745 |   8 | AA |  301 | N3ALAA | LGA | ORD | 138 |  733 | 6 |  0 | 2013-01-01 06:00:00 |\n| 2013 | 1 | 1 | 558 | 600 | -2 |  849 |  851 |  -2 | B6 |   49 | N793JB | JFK | PBI | 149 | 1028 | 6 |  0 | 2013-01-01 06:00:00 |\n| 2013 | 1 | 1 | 558 | 600 | -2 |  853 |  856 |  -3 | B6 |   71 | N657JB | JFK | TPA | 158 | 1005 | 6 |  0 | 2013-01-01 06:00:00 |\n| 2013 | 1 | 1 | 558 | 600 | -2 |  924 |  917 |   7 | UA |  194 | N29129 | JFK | LAX | 345 | 2475 | 6 |  0 | 2013-01-01 06:00:00 |\n| 2013 | 1 | 1 | 558 | 600 | -2 |  923 |  937 | -14 | UA | 1124 | N53441 | EWR | SFO | 361 | 2565 | 6 |  0 | 2013-01-01 06:00:00 |\n| 2013 | 1 | 1 | 559 | 600 | -1 |  941 |  910 |  31 | AA |  707 | N3DUAA | LGA | DFW | 257 | 1389 | 6 |  0 | 2013-01-01 06:00:00 |\n| 2013 | 1 | 1 | 559 | 559 |  0 |  702 |  706 |  -4 | B6 | 1806 | N708JB | JFK | BOS |  44 |  187 | 5 | 59 | 2013-01-01 05:00:00 |\n| 2013 | 1 | 1 | 559 | 600 | -1 |  854 |  902 |  -8 | UA | 1187 | N76515 | EWR | LAS | 337 | 2227 | 6 |  0 | 2013-01-01 06:00:00 |\n| 2013 | 1 | 1 | 600 | 600 |  0 |  851 |  858 |  -7 | B6 |  371 | N595JB | LGA | FLL | 152 | 1076 | 6 |  0 | 2013-01-01 06:00:00 |\n| 2013 | 1 | 1 | 600 | 600 |  0 |  837 |  825 |  12 | MQ | 4650 | N542MQ | LGA | ATL | 134 |  762 | 6 |  0 | 2013-01-01 06:00:00 |\n| 2013 | 1 | 1 | 601 | 600 |  1 |  844 |  850 |  -6 | B6 |  343 | N644JB | EWR | PBI | 147 | 1023 | 6 |  0 | 2013-01-01 06:00:00 |\n| 2013 | 1 | 1 | 602 | 610 | -8 |  812 |  820 |  -8 | DL | 1919 | N971DL | LGA | MSP | 170 | 1020 | 6 | 10 | 2013-01-01 06:00:00 |\n| 2013 | 1 | 1 | 602 | 605 | -3 |  821 |  805 |  16 | MQ | 4401 | N730MQ | LGA | DTW | 105 |  502 | 6 |  5 | 2013-01-01 06:00:00 |\n| 2013 | 1 | 1 | 606 | 610 | -4 |  858 |  910 | -12 | AA | 1895 | N633AA | EWR | MIA | 152 | 1085 | 6 | 10 | 2013-01-01 06:00:00 |\n| 2013 | 1 | 1 | 606 | 610 | -4 |  837 |  845 |  -8 | DL | 1743 | N3739P | JFK | ATL | 128 |  760 | 6 | 10 | 2013-01-01 06:00:00 |\n| 2013 | 1 | 1 | 607 | 607 |  0 |  858 |  915 | -17 | UA | 1077 | N53442 | EWR | MIA | 157 | 1085 | 6 |  7 | 2013-01-01 06:00:00 |\n| 2013 | 1 | 1 | 608 | 600 |  8 |  807 |  735 |  32 | MQ | 3768 | N9EAMQ | EWR | ORD | 139 |  719 | 6 |  0 | 2013-01-01 06:00:00 |\n| 2013 | 1 | 1 | 611 | 600 | 11 |  945 |  931 |  14 | UA |  303 | N532UA | JFK | SFO | 366 | 2586 | 6 |  0 | 2013-01-01 06:00:00 |\n| 2013 | 1 | 1 | 613 | 610 |  3 |  925 |  921 |   4 | B6 |  135 | N635JB | JFK | RSW | 175 | 1074 | 6 | 10 | 2013-01-01 06:00:00 |\n| 2013 | 1 | 1 | 615 | 615 |  0 | 1039 | 1100 | -21 | B6 |  709 | N794JB | JFK | SJU | 182 | 1598 | 6 | 15 | 2013-01-01 06:00:00 |\n| 2013 | 1 | 1 | 615 | 615 |  0 |  833 |  842 |  -9 | DL |  575 | N326NB | EWR | ATL | 120 |  746 | 6 | 15 | 2013-01-01 06:00:00 |\n| ⋮ | ⋮ | ⋮ | ⋮ | ⋮ | ⋮ | ⋮ | ⋮ | ⋮ | ⋮ | ⋮ | ⋮ | ⋮ | ⋮ | ⋮ | ⋮ | ⋮ | ⋮ | ⋮ |\n| 2013 | 12 | 31 | 2155 | 2039 |  76 |  253 | 2355 |  NA | B6 | 1205 | N627JB | JFK | PDX |  NA | 2454 | 20 | 39 | 2013-12-31 20:00:00 |\n| 2013 | 12 | 31 | 2155 | 2150 |   5 |  110 |   51 |  19 | B6 | 1901 | N729JB | JFK | FLL | 164 | 1069 | 21 | 50 | 2013-12-31 21:00:00 |\n| 2013 | 12 | 31 | 2159 | 2155 |   4 |   55 |   46 |   9 | B6 | 2053 | N593JB | JFK | PBI | 155 | 1028 | 21 | 55 | 2013-12-31 21:00:00 |\n| 2013 | 12 | 31 | 2206 | 2110 |  56 |   44 | 2339 |  65 | B6 |  775 | N184JB | JFK | MSY | 195 | 1182 | 21 | 10 | 2013-12-31 21:00:00 |\n| 2013 | 12 | 31 | 2211 | 2159 |  12 |  100 |   45 |  15 | B6 | 1183 | N715JB | JFK | MCO | 148 |  944 | 21 | 59 | 2013-12-31 21:00:00 |\n| 2013 | 12 | 31 | 2218 | 2219 |  -1 |  315 |  304 |  11 | B6 | 1203 | N625JB | JFK | SJU | 202 | 1598 | 22 | 19 | 2013-12-31 22:00:00 |\n| 2013 | 12 | 31 | 2235 | 2245 | -10 | 2351 | 2355 |  -4 | B6 |  234 | N355JB | JFK | BTV |  49 |  266 | 22 | 45 | 2013-12-31 22:00:00 |\n| 2013 | 12 | 31 | 2245 | 2250 |  -5 | 2359 | 2356 |   3 | B6 | 1816 | N318JB | JFK | SYR |  51 |  209 | 22 | 50 | 2013-12-31 22:00:00 |\n| 2013 | 12 | 31 | 2310 | 2255 |  15 |    7 | 2356 |  11 | B6 |  718 | N279JB | JFK | BOS |  40 |  187 | 22 | 55 | 2013-12-31 22:00:00 |\n| 2013 | 12 | 31 | 2321 | 2250 |  31 |   46 |    8 |  38 | B6 | 2002 | N179JB | JFK | BUF |  66 |  301 | 22 | 50 | 2013-12-31 22:00:00 |\n| 2013 | 12 | 31 | 2328 | 2330 |  -2 |  412 |  409 |   3 | B6 | 1389 | N651JB | EWR | SJU | 198 | 1608 | 23 | 30 | 2013-12-31 23:00:00 |\n| 2013 | 12 | 31 | 2332 | 2245 |  47 |   58 |    3 |  55 | B6 |  486 | N334JB | JFK | ROC |  60 |  264 | 22 | 45 | 2013-12-31 22:00:00 |\n| 2013 | 12 | 31 | 2355 | 2359 |  -4 |  430 |  440 | -10 | B6 | 1503 | N509JB | JFK | SJU | 195 | 1598 | 23 | 59 | 2013-12-31 23:00:00 |\n| 2013 | 12 | 31 | 2356 | 2359 |  -3 |  436 |  445 |  -9 | B6 |  745 | N665JB | JFK | PSE | 200 | 1617 | 23 | 59 | 2013-12-31 23:00:00 |\n| 2013 | 12 | 31 |   NA | 1520 |  NA |   NA | 1705 |  NA | AA |  341 | N568AA | LGA | ORD |  NA |  733 | 15 | 20 | 2013-12-31 15:00:00 |\n| 2013 | 12 | 31 |   NA | 2025 |  NA |   NA | 2205 |  NA | AA |  371 | N482AA | LGA | ORD |  NA |  733 | 20 | 25 | 2013-12-31 20:00:00 |\n| 2013 | 12 | 31 |   NA | 1932 |  NA |   NA | 2305 |  NA | B6 |  161 | N516JB | JFK | SMF |  NA | 2521 | 19 | 32 | 2013-12-31 19:00:00 |\n| 2013 | 12 | 31 |   NA | 1505 |  NA |   NA | 1725 |  NA | EV | 4181 | N24103 | EWR | MCI |  NA | 1092 | 15 |  5 | 2013-12-31 15:00:00 |\n| 2013 | 12 | 31 |   NA | 1000 |  NA |   NA | 1252 |  NA | UA | 1124 | NA     | EWR | EGE |  NA | 1725 | 10 |  0 | 2013-12-31 10:00:00 |\n| 2013 | 12 | 31 |   NA |  840 |  NA |   NA | 1205 |  NA | UA | 1151 | NA     | EWR | SEA |  NA | 2402 |  8 | 40 | 2013-12-31 08:00:00 |\n| 2013 | 12 | 31 |   NA |  754 |  NA |   NA | 1118 |  NA | UA | 1455 | NA     | EWR | LAX |  NA | 2454 |  7 | 54 | 2013-12-31 07:00:00 |\n| 2013 | 12 | 31 |   NA | 2000 |  NA |   NA | 2146 |  NA | UA | 1482 | NA     | EWR | ORD |  NA |  719 | 20 |  0 | 2013-12-31 20:00:00 |\n| 2013 | 12 | 31 |   NA | 1500 |  NA |   NA | 1817 |  NA | UA | 1483 | NA     | EWR | AUS |  NA | 1504 | 15 |  0 | 2013-12-31 15:00:00 |\n| 2013 | 12 | 31 |   NA | 1430 |  NA |   NA | 1750 |  NA | UA | 1493 | NA     | EWR | LAX |  NA | 2454 | 14 | 30 | 2013-12-31 14:00:00 |\n| 2013 | 12 | 31 |   NA |  855 |  NA |   NA | 1142 |  NA | UA | 1506 | NA     | EWR | JAC |  NA | 1874 |  8 | 55 | 2013-12-31 08:00:00 |\n| 2013 | 12 | 31 |   NA |  705 |  NA |   NA |  931 |  NA | UA | 1729 | NA     | EWR | DEN |  NA | 1605 |  7 |  5 | 2013-12-31 07:00:00 |\n| 2013 | 12 | 31 |   NA |  825 |  NA |   NA | 1029 |  NA | US | 1831 | NA     | JFK | CLT |  NA |  541 |  8 | 25 | 2013-12-31 08:00:00 |\n| 2013 | 12 | 31 |   NA | 1615 |  NA |   NA | 1800 |  NA | MQ | 3301 | N844MQ | LGA | RDU |  NA |  431 | 16 | 15 | 2013-12-31 16:00:00 |\n| 2013 | 12 | 31 |   NA |  600 |  NA |   NA |  735 |  NA | UA |  219 | NA     | EWR | ORD |  NA |  719 |  6 |  0 | 2013-12-31 06:00:00 |\n| 2013 | 12 | 31 |   NA |  830 |  NA |   NA | 1154 |  NA | UA |  443 | NA     | JFK | LAX |  NA | 2475 |  8 | 30 | 2013-12-31 08:00:00 |\n\n",
            "text/latex": "A tibble: 336776 × 19\n\\begin{tabular}{lllllllllllllllllll}\n year & month & day & dep\\_time & sched\\_dep\\_time & dep\\_delay & arr\\_time & sched\\_arr\\_time & arr\\_delay & carrier & flight & tailnum & origin & dest & air\\_time & distance & hour & minute & time\\_hour\\\\\n <int> & <int> & <int> & <int> & <int> & <dbl> & <int> & <int> & <dbl> & <chr> & <int> & <chr> & <chr> & <chr> & <dbl> & <dbl> & <dbl> & <dbl> & <dttm>\\\\\n\\hline\n\t 2013 & 1 & 1 & 517 & 515 &  2 &  830 &  819 &  11 & UA & 1545 & N14228 & EWR & IAH & 227 & 1400 & 5 & 15 & 2013-01-01 05:00:00\\\\\n\t 2013 & 1 & 1 & 533 & 529 &  4 &  850 &  830 &  20 & UA & 1714 & N24211 & LGA & IAH & 227 & 1416 & 5 & 29 & 2013-01-01 05:00:00\\\\\n\t 2013 & 1 & 1 & 542 & 540 &  2 &  923 &  850 &  33 & AA & 1141 & N619AA & JFK & MIA & 160 & 1089 & 5 & 40 & 2013-01-01 05:00:00\\\\\n\t 2013 & 1 & 1 & 544 & 545 & -1 & 1004 & 1022 & -18 & B6 &  725 & N804JB & JFK & BQN & 183 & 1576 & 5 & 45 & 2013-01-01 05:00:00\\\\\n\t 2013 & 1 & 1 & 554 & 600 & -6 &  812 &  837 & -25 & DL &  461 & N668DN & LGA & ATL & 116 &  762 & 6 &  0 & 2013-01-01 06:00:00\\\\\n\t 2013 & 1 & 1 & 554 & 558 & -4 &  740 &  728 &  12 & UA & 1696 & N39463 & EWR & ORD & 150 &  719 & 5 & 58 & 2013-01-01 05:00:00\\\\\n\t 2013 & 1 & 1 & 555 & 600 & -5 &  913 &  854 &  19 & B6 &  507 & N516JB & EWR & FLL & 158 & 1065 & 6 &  0 & 2013-01-01 06:00:00\\\\\n\t 2013 & 1 & 1 & 557 & 600 & -3 &  709 &  723 & -14 & EV & 5708 & N829AS & LGA & IAD &  53 &  229 & 6 &  0 & 2013-01-01 06:00:00\\\\\n\t 2013 & 1 & 1 & 557 & 600 & -3 &  838 &  846 &  -8 & B6 &   79 & N593JB & JFK & MCO & 140 &  944 & 6 &  0 & 2013-01-01 06:00:00\\\\\n\t 2013 & 1 & 1 & 558 & 600 & -2 &  753 &  745 &   8 & AA &  301 & N3ALAA & LGA & ORD & 138 &  733 & 6 &  0 & 2013-01-01 06:00:00\\\\\n\t 2013 & 1 & 1 & 558 & 600 & -2 &  849 &  851 &  -2 & B6 &   49 & N793JB & JFK & PBI & 149 & 1028 & 6 &  0 & 2013-01-01 06:00:00\\\\\n\t 2013 & 1 & 1 & 558 & 600 & -2 &  853 &  856 &  -3 & B6 &   71 & N657JB & JFK & TPA & 158 & 1005 & 6 &  0 & 2013-01-01 06:00:00\\\\\n\t 2013 & 1 & 1 & 558 & 600 & -2 &  924 &  917 &   7 & UA &  194 & N29129 & JFK & LAX & 345 & 2475 & 6 &  0 & 2013-01-01 06:00:00\\\\\n\t 2013 & 1 & 1 & 558 & 600 & -2 &  923 &  937 & -14 & UA & 1124 & N53441 & EWR & SFO & 361 & 2565 & 6 &  0 & 2013-01-01 06:00:00\\\\\n\t 2013 & 1 & 1 & 559 & 600 & -1 &  941 &  910 &  31 & AA &  707 & N3DUAA & LGA & DFW & 257 & 1389 & 6 &  0 & 2013-01-01 06:00:00\\\\\n\t 2013 & 1 & 1 & 559 & 559 &  0 &  702 &  706 &  -4 & B6 & 1806 & N708JB & JFK & BOS &  44 &  187 & 5 & 59 & 2013-01-01 05:00:00\\\\\n\t 2013 & 1 & 1 & 559 & 600 & -1 &  854 &  902 &  -8 & UA & 1187 & N76515 & EWR & LAS & 337 & 2227 & 6 &  0 & 2013-01-01 06:00:00\\\\\n\t 2013 & 1 & 1 & 600 & 600 &  0 &  851 &  858 &  -7 & B6 &  371 & N595JB & LGA & FLL & 152 & 1076 & 6 &  0 & 2013-01-01 06:00:00\\\\\n\t 2013 & 1 & 1 & 600 & 600 &  0 &  837 &  825 &  12 & MQ & 4650 & N542MQ & LGA & ATL & 134 &  762 & 6 &  0 & 2013-01-01 06:00:00\\\\\n\t 2013 & 1 & 1 & 601 & 600 &  1 &  844 &  850 &  -6 & B6 &  343 & N644JB & EWR & PBI & 147 & 1023 & 6 &  0 & 2013-01-01 06:00:00\\\\\n\t 2013 & 1 & 1 & 602 & 610 & -8 &  812 &  820 &  -8 & DL & 1919 & N971DL & LGA & MSP & 170 & 1020 & 6 & 10 & 2013-01-01 06:00:00\\\\\n\t 2013 & 1 & 1 & 602 & 605 & -3 &  821 &  805 &  16 & MQ & 4401 & N730MQ & LGA & DTW & 105 &  502 & 6 &  5 & 2013-01-01 06:00:00\\\\\n\t 2013 & 1 & 1 & 606 & 610 & -4 &  858 &  910 & -12 & AA & 1895 & N633AA & EWR & MIA & 152 & 1085 & 6 & 10 & 2013-01-01 06:00:00\\\\\n\t 2013 & 1 & 1 & 606 & 610 & -4 &  837 &  845 &  -8 & DL & 1743 & N3739P & JFK & ATL & 128 &  760 & 6 & 10 & 2013-01-01 06:00:00\\\\\n\t 2013 & 1 & 1 & 607 & 607 &  0 &  858 &  915 & -17 & UA & 1077 & N53442 & EWR & MIA & 157 & 1085 & 6 &  7 & 2013-01-01 06:00:00\\\\\n\t 2013 & 1 & 1 & 608 & 600 &  8 &  807 &  735 &  32 & MQ & 3768 & N9EAMQ & EWR & ORD & 139 &  719 & 6 &  0 & 2013-01-01 06:00:00\\\\\n\t 2013 & 1 & 1 & 611 & 600 & 11 &  945 &  931 &  14 & UA &  303 & N532UA & JFK & SFO & 366 & 2586 & 6 &  0 & 2013-01-01 06:00:00\\\\\n\t 2013 & 1 & 1 & 613 & 610 &  3 &  925 &  921 &   4 & B6 &  135 & N635JB & JFK & RSW & 175 & 1074 & 6 & 10 & 2013-01-01 06:00:00\\\\\n\t 2013 & 1 & 1 & 615 & 615 &  0 & 1039 & 1100 & -21 & B6 &  709 & N794JB & JFK & SJU & 182 & 1598 & 6 & 15 & 2013-01-01 06:00:00\\\\\n\t 2013 & 1 & 1 & 615 & 615 &  0 &  833 &  842 &  -9 & DL &  575 & N326NB & EWR & ATL & 120 &  746 & 6 & 15 & 2013-01-01 06:00:00\\\\\n\t ⋮ & ⋮ & ⋮ & ⋮ & ⋮ & ⋮ & ⋮ & ⋮ & ⋮ & ⋮ & ⋮ & ⋮ & ⋮ & ⋮ & ⋮ & ⋮ & ⋮ & ⋮ & ⋮\\\\\n\t 2013 & 12 & 31 & 2155 & 2039 &  76 &  253 & 2355 &  NA & B6 & 1205 & N627JB & JFK & PDX &  NA & 2454 & 20 & 39 & 2013-12-31 20:00:00\\\\\n\t 2013 & 12 & 31 & 2155 & 2150 &   5 &  110 &   51 &  19 & B6 & 1901 & N729JB & JFK & FLL & 164 & 1069 & 21 & 50 & 2013-12-31 21:00:00\\\\\n\t 2013 & 12 & 31 & 2159 & 2155 &   4 &   55 &   46 &   9 & B6 & 2053 & N593JB & JFK & PBI & 155 & 1028 & 21 & 55 & 2013-12-31 21:00:00\\\\\n\t 2013 & 12 & 31 & 2206 & 2110 &  56 &   44 & 2339 &  65 & B6 &  775 & N184JB & JFK & MSY & 195 & 1182 & 21 & 10 & 2013-12-31 21:00:00\\\\\n\t 2013 & 12 & 31 & 2211 & 2159 &  12 &  100 &   45 &  15 & B6 & 1183 & N715JB & JFK & MCO & 148 &  944 & 21 & 59 & 2013-12-31 21:00:00\\\\\n\t 2013 & 12 & 31 & 2218 & 2219 &  -1 &  315 &  304 &  11 & B6 & 1203 & N625JB & JFK & SJU & 202 & 1598 & 22 & 19 & 2013-12-31 22:00:00\\\\\n\t 2013 & 12 & 31 & 2235 & 2245 & -10 & 2351 & 2355 &  -4 & B6 &  234 & N355JB & JFK & BTV &  49 &  266 & 22 & 45 & 2013-12-31 22:00:00\\\\\n\t 2013 & 12 & 31 & 2245 & 2250 &  -5 & 2359 & 2356 &   3 & B6 & 1816 & N318JB & JFK & SYR &  51 &  209 & 22 & 50 & 2013-12-31 22:00:00\\\\\n\t 2013 & 12 & 31 & 2310 & 2255 &  15 &    7 & 2356 &  11 & B6 &  718 & N279JB & JFK & BOS &  40 &  187 & 22 & 55 & 2013-12-31 22:00:00\\\\\n\t 2013 & 12 & 31 & 2321 & 2250 &  31 &   46 &    8 &  38 & B6 & 2002 & N179JB & JFK & BUF &  66 &  301 & 22 & 50 & 2013-12-31 22:00:00\\\\\n\t 2013 & 12 & 31 & 2328 & 2330 &  -2 &  412 &  409 &   3 & B6 & 1389 & N651JB & EWR & SJU & 198 & 1608 & 23 & 30 & 2013-12-31 23:00:00\\\\\n\t 2013 & 12 & 31 & 2332 & 2245 &  47 &   58 &    3 &  55 & B6 &  486 & N334JB & JFK & ROC &  60 &  264 & 22 & 45 & 2013-12-31 22:00:00\\\\\n\t 2013 & 12 & 31 & 2355 & 2359 &  -4 &  430 &  440 & -10 & B6 & 1503 & N509JB & JFK & SJU & 195 & 1598 & 23 & 59 & 2013-12-31 23:00:00\\\\\n\t 2013 & 12 & 31 & 2356 & 2359 &  -3 &  436 &  445 &  -9 & B6 &  745 & N665JB & JFK & PSE & 200 & 1617 & 23 & 59 & 2013-12-31 23:00:00\\\\\n\t 2013 & 12 & 31 &   NA & 1520 &  NA &   NA & 1705 &  NA & AA &  341 & N568AA & LGA & ORD &  NA &  733 & 15 & 20 & 2013-12-31 15:00:00\\\\\n\t 2013 & 12 & 31 &   NA & 2025 &  NA &   NA & 2205 &  NA & AA &  371 & N482AA & LGA & ORD &  NA &  733 & 20 & 25 & 2013-12-31 20:00:00\\\\\n\t 2013 & 12 & 31 &   NA & 1932 &  NA &   NA & 2305 &  NA & B6 &  161 & N516JB & JFK & SMF &  NA & 2521 & 19 & 32 & 2013-12-31 19:00:00\\\\\n\t 2013 & 12 & 31 &   NA & 1505 &  NA &   NA & 1725 &  NA & EV & 4181 & N24103 & EWR & MCI &  NA & 1092 & 15 &  5 & 2013-12-31 15:00:00\\\\\n\t 2013 & 12 & 31 &   NA & 1000 &  NA &   NA & 1252 &  NA & UA & 1124 & NA     & EWR & EGE &  NA & 1725 & 10 &  0 & 2013-12-31 10:00:00\\\\\n\t 2013 & 12 & 31 &   NA &  840 &  NA &   NA & 1205 &  NA & UA & 1151 & NA     & EWR & SEA &  NA & 2402 &  8 & 40 & 2013-12-31 08:00:00\\\\\n\t 2013 & 12 & 31 &   NA &  754 &  NA &   NA & 1118 &  NA & UA & 1455 & NA     & EWR & LAX &  NA & 2454 &  7 & 54 & 2013-12-31 07:00:00\\\\\n\t 2013 & 12 & 31 &   NA & 2000 &  NA &   NA & 2146 &  NA & UA & 1482 & NA     & EWR & ORD &  NA &  719 & 20 &  0 & 2013-12-31 20:00:00\\\\\n\t 2013 & 12 & 31 &   NA & 1500 &  NA &   NA & 1817 &  NA & UA & 1483 & NA     & EWR & AUS &  NA & 1504 & 15 &  0 & 2013-12-31 15:00:00\\\\\n\t 2013 & 12 & 31 &   NA & 1430 &  NA &   NA & 1750 &  NA & UA & 1493 & NA     & EWR & LAX &  NA & 2454 & 14 & 30 & 2013-12-31 14:00:00\\\\\n\t 2013 & 12 & 31 &   NA &  855 &  NA &   NA & 1142 &  NA & UA & 1506 & NA     & EWR & JAC &  NA & 1874 &  8 & 55 & 2013-12-31 08:00:00\\\\\n\t 2013 & 12 & 31 &   NA &  705 &  NA &   NA &  931 &  NA & UA & 1729 & NA     & EWR & DEN &  NA & 1605 &  7 &  5 & 2013-12-31 07:00:00\\\\\n\t 2013 & 12 & 31 &   NA &  825 &  NA &   NA & 1029 &  NA & US & 1831 & NA     & JFK & CLT &  NA &  541 &  8 & 25 & 2013-12-31 08:00:00\\\\\n\t 2013 & 12 & 31 &   NA & 1615 &  NA &   NA & 1800 &  NA & MQ & 3301 & N844MQ & LGA & RDU &  NA &  431 & 16 & 15 & 2013-12-31 16:00:00\\\\\n\t 2013 & 12 & 31 &   NA &  600 &  NA &   NA &  735 &  NA & UA &  219 & NA     & EWR & ORD &  NA &  719 &  6 &  0 & 2013-12-31 06:00:00\\\\\n\t 2013 & 12 & 31 &   NA &  830 &  NA &   NA & 1154 &  NA & UA &  443 & NA     & JFK & LAX &  NA & 2475 &  8 & 30 & 2013-12-31 08:00:00\\\\\n\\end{tabular}\n",
            "text/plain": [
              "       year month day dep_time sched_dep_time dep_delay arr_time sched_arr_time\n",
              "1      2013 1     1   517      515             2         830      819          \n",
              "2      2013 1     1   533      529             4         850      830          \n",
              "3      2013 1     1   542      540             2         923      850          \n",
              "4      2013 1     1   544      545            -1        1004     1022          \n",
              "5      2013 1     1   554      600            -6         812      837          \n",
              "6      2013 1     1   554      558            -4         740      728          \n",
              "7      2013 1     1   555      600            -5         913      854          \n",
              "8      2013 1     1   557      600            -3         709      723          \n",
              "9      2013 1     1   557      600            -3         838      846          \n",
              "10     2013 1     1   558      600            -2         753      745          \n",
              "11     2013 1     1   558      600            -2         849      851          \n",
              "12     2013 1     1   558      600            -2         853      856          \n",
              "13     2013 1     1   558      600            -2         924      917          \n",
              "14     2013 1     1   558      600            -2         923      937          \n",
              "15     2013 1     1   559      600            -1         941      910          \n",
              "16     2013 1     1   559      559             0         702      706          \n",
              "17     2013 1     1   559      600            -1         854      902          \n",
              "18     2013 1     1   600      600             0         851      858          \n",
              "19     2013 1     1   600      600             0         837      825          \n",
              "20     2013 1     1   601      600             1         844      850          \n",
              "21     2013 1     1   602      610            -8         812      820          \n",
              "22     2013 1     1   602      605            -3         821      805          \n",
              "23     2013 1     1   606      610            -4         858      910          \n",
              "24     2013 1     1   606      610            -4         837      845          \n",
              "25     2013 1     1   607      607             0         858      915          \n",
              "26     2013 1     1   608      600             8         807      735          \n",
              "27     2013 1     1   611      600            11         945      931          \n",
              "28     2013 1     1   613      610             3         925      921          \n",
              "29     2013 1     1   615      615             0        1039     1100          \n",
              "30     2013 1     1   615      615             0         833      842          \n",
              "⋮      ⋮    ⋮     ⋮   ⋮        ⋮              ⋮         ⋮        ⋮             \n",
              "336747 2013 12    31  2155     2039            76        253     2355          \n",
              "336748 2013 12    31  2155     2150             5        110       51          \n",
              "336749 2013 12    31  2159     2155             4         55       46          \n",
              "336750 2013 12    31  2206     2110            56         44     2339          \n",
              "336751 2013 12    31  2211     2159            12        100       45          \n",
              "336752 2013 12    31  2218     2219            -1        315      304          \n",
              "336753 2013 12    31  2235     2245           -10       2351     2355          \n",
              "336754 2013 12    31  2245     2250            -5       2359     2356          \n",
              "336755 2013 12    31  2310     2255            15          7     2356          \n",
              "336756 2013 12    31  2321     2250            31         46        8          \n",
              "336757 2013 12    31  2328     2330            -2        412      409          \n",
              "336758 2013 12    31  2332     2245            47         58        3          \n",
              "336759 2013 12    31  2355     2359            -4        430      440          \n",
              "336760 2013 12    31  2356     2359            -3        436      445          \n",
              "336761 2013 12    31    NA     1520            NA         NA     1705          \n",
              "336762 2013 12    31    NA     2025            NA         NA     2205          \n",
              "336763 2013 12    31    NA     1932            NA         NA     2305          \n",
              "336764 2013 12    31    NA     1505            NA         NA     1725          \n",
              "336765 2013 12    31    NA     1000            NA         NA     1252          \n",
              "336766 2013 12    31    NA      840            NA         NA     1205          \n",
              "336767 2013 12    31    NA      754            NA         NA     1118          \n",
              "336768 2013 12    31    NA     2000            NA         NA     2146          \n",
              "336769 2013 12    31    NA     1500            NA         NA     1817          \n",
              "336770 2013 12    31    NA     1430            NA         NA     1750          \n",
              "336771 2013 12    31    NA      855            NA         NA     1142          \n",
              "336772 2013 12    31    NA      705            NA         NA      931          \n",
              "336773 2013 12    31    NA      825            NA         NA     1029          \n",
              "336774 2013 12    31    NA     1615            NA         NA     1800          \n",
              "336775 2013 12    31    NA      600            NA         NA      735          \n",
              "336776 2013 12    31    NA      830            NA         NA     1154          \n",
              "       arr_delay carrier flight tailnum origin dest air_time distance hour\n",
              "1       11       UA      1545   N14228  EWR    IAH  227      1400     5   \n",
              "2       20       UA      1714   N24211  LGA    IAH  227      1416     5   \n",
              "3       33       AA      1141   N619AA  JFK    MIA  160      1089     5   \n",
              "4      -18       B6       725   N804JB  JFK    BQN  183      1576     5   \n",
              "5      -25       DL       461   N668DN  LGA    ATL  116       762     6   \n",
              "6       12       UA      1696   N39463  EWR    ORD  150       719     5   \n",
              "7       19       B6       507   N516JB  EWR    FLL  158      1065     6   \n",
              "8      -14       EV      5708   N829AS  LGA    IAD   53       229     6   \n",
              "9       -8       B6        79   N593JB  JFK    MCO  140       944     6   \n",
              "10       8       AA       301   N3ALAA  LGA    ORD  138       733     6   \n",
              "11      -2       B6        49   N793JB  JFK    PBI  149      1028     6   \n",
              "12      -3       B6        71   N657JB  JFK    TPA  158      1005     6   \n",
              "13       7       UA       194   N29129  JFK    LAX  345      2475     6   \n",
              "14     -14       UA      1124   N53441  EWR    SFO  361      2565     6   \n",
              "15      31       AA       707   N3DUAA  LGA    DFW  257      1389     6   \n",
              "16      -4       B6      1806   N708JB  JFK    BOS   44       187     5   \n",
              "17      -8       UA      1187   N76515  EWR    LAS  337      2227     6   \n",
              "18      -7       B6       371   N595JB  LGA    FLL  152      1076     6   \n",
              "19      12       MQ      4650   N542MQ  LGA    ATL  134       762     6   \n",
              "20      -6       B6       343   N644JB  EWR    PBI  147      1023     6   \n",
              "21      -8       DL      1919   N971DL  LGA    MSP  170      1020     6   \n",
              "22      16       MQ      4401   N730MQ  LGA    DTW  105       502     6   \n",
              "23     -12       AA      1895   N633AA  EWR    MIA  152      1085     6   \n",
              "24      -8       DL      1743   N3739P  JFK    ATL  128       760     6   \n",
              "25     -17       UA      1077   N53442  EWR    MIA  157      1085     6   \n",
              "26      32       MQ      3768   N9EAMQ  EWR    ORD  139       719     6   \n",
              "27      14       UA       303   N532UA  JFK    SFO  366      2586     6   \n",
              "28       4       B6       135   N635JB  JFK    RSW  175      1074     6   \n",
              "29     -21       B6       709   N794JB  JFK    SJU  182      1598     6   \n",
              "30      -9       DL       575   N326NB  EWR    ATL  120       746     6   \n",
              "⋮      ⋮         ⋮       ⋮      ⋮       ⋮      ⋮    ⋮        ⋮        ⋮   \n",
              "336747  NA       B6      1205   N627JB  JFK    PDX   NA      2454     20  \n",
              "336748  19       B6      1901   N729JB  JFK    FLL  164      1069     21  \n",
              "336749   9       B6      2053   N593JB  JFK    PBI  155      1028     21  \n",
              "336750  65       B6       775   N184JB  JFK    MSY  195      1182     21  \n",
              "336751  15       B6      1183   N715JB  JFK    MCO  148       944     21  \n",
              "336752  11       B6      1203   N625JB  JFK    SJU  202      1598     22  \n",
              "336753  -4       B6       234   N355JB  JFK    BTV   49       266     22  \n",
              "336754   3       B6      1816   N318JB  JFK    SYR   51       209     22  \n",
              "336755  11       B6       718   N279JB  JFK    BOS   40       187     22  \n",
              "336756  38       B6      2002   N179JB  JFK    BUF   66       301     22  \n",
              "336757   3       B6      1389   N651JB  EWR    SJU  198      1608     23  \n",
              "336758  55       B6       486   N334JB  JFK    ROC   60       264     22  \n",
              "336759 -10       B6      1503   N509JB  JFK    SJU  195      1598     23  \n",
              "336760  -9       B6       745   N665JB  JFK    PSE  200      1617     23  \n",
              "336761  NA       AA       341   N568AA  LGA    ORD   NA       733     15  \n",
              "336762  NA       AA       371   N482AA  LGA    ORD   NA       733     20  \n",
              "336763  NA       B6       161   N516JB  JFK    SMF   NA      2521     19  \n",
              "336764  NA       EV      4181   N24103  EWR    MCI   NA      1092     15  \n",
              "336765  NA       UA      1124   NA      EWR    EGE   NA      1725     10  \n",
              "336766  NA       UA      1151   NA      EWR    SEA   NA      2402      8  \n",
              "336767  NA       UA      1455   NA      EWR    LAX   NA      2454      7  \n",
              "336768  NA       UA      1482   NA      EWR    ORD   NA       719     20  \n",
              "336769  NA       UA      1483   NA      EWR    AUS   NA      1504     15  \n",
              "336770  NA       UA      1493   NA      EWR    LAX   NA      2454     14  \n",
              "336771  NA       UA      1506   NA      EWR    JAC   NA      1874      8  \n",
              "336772  NA       UA      1729   NA      EWR    DEN   NA      1605      7  \n",
              "336773  NA       US      1831   NA      JFK    CLT   NA       541      8  \n",
              "336774  NA       MQ      3301   N844MQ  LGA    RDU   NA       431     16  \n",
              "336775  NA       UA       219   NA      EWR    ORD   NA       719      6  \n",
              "336776  NA       UA       443   NA      JFK    LAX   NA      2475      8  \n",
              "       minute time_hour          \n",
              "1      15     2013-01-01 05:00:00\n",
              "2      29     2013-01-01 05:00:00\n",
              "3      40     2013-01-01 05:00:00\n",
              "4      45     2013-01-01 05:00:00\n",
              "5       0     2013-01-01 06:00:00\n",
              "6      58     2013-01-01 05:00:00\n",
              "7       0     2013-01-01 06:00:00\n",
              "8       0     2013-01-01 06:00:00\n",
              "9       0     2013-01-01 06:00:00\n",
              "10      0     2013-01-01 06:00:00\n",
              "11      0     2013-01-01 06:00:00\n",
              "12      0     2013-01-01 06:00:00\n",
              "13      0     2013-01-01 06:00:00\n",
              "14      0     2013-01-01 06:00:00\n",
              "15      0     2013-01-01 06:00:00\n",
              "16     59     2013-01-01 05:00:00\n",
              "17      0     2013-01-01 06:00:00\n",
              "18      0     2013-01-01 06:00:00\n",
              "19      0     2013-01-01 06:00:00\n",
              "20      0     2013-01-01 06:00:00\n",
              "21     10     2013-01-01 06:00:00\n",
              "22      5     2013-01-01 06:00:00\n",
              "23     10     2013-01-01 06:00:00\n",
              "24     10     2013-01-01 06:00:00\n",
              "25      7     2013-01-01 06:00:00\n",
              "26      0     2013-01-01 06:00:00\n",
              "27      0     2013-01-01 06:00:00\n",
              "28     10     2013-01-01 06:00:00\n",
              "29     15     2013-01-01 06:00:00\n",
              "30     15     2013-01-01 06:00:00\n",
              "⋮      ⋮      ⋮                  \n",
              "336747 39     2013-12-31 20:00:00\n",
              "336748 50     2013-12-31 21:00:00\n",
              "336749 55     2013-12-31 21:00:00\n",
              "336750 10     2013-12-31 21:00:00\n",
              "336751 59     2013-12-31 21:00:00\n",
              "336752 19     2013-12-31 22:00:00\n",
              "336753 45     2013-12-31 22:00:00\n",
              "336754 50     2013-12-31 22:00:00\n",
              "336755 55     2013-12-31 22:00:00\n",
              "336756 50     2013-12-31 22:00:00\n",
              "336757 30     2013-12-31 23:00:00\n",
              "336758 45     2013-12-31 22:00:00\n",
              "336759 59     2013-12-31 23:00:00\n",
              "336760 59     2013-12-31 23:00:00\n",
              "336761 20     2013-12-31 15:00:00\n",
              "336762 25     2013-12-31 20:00:00\n",
              "336763 32     2013-12-31 19:00:00\n",
              "336764  5     2013-12-31 15:00:00\n",
              "336765  0     2013-12-31 10:00:00\n",
              "336766 40     2013-12-31 08:00:00\n",
              "336767 54     2013-12-31 07:00:00\n",
              "336768  0     2013-12-31 20:00:00\n",
              "336769  0     2013-12-31 15:00:00\n",
              "336770 30     2013-12-31 14:00:00\n",
              "336771 55     2013-12-31 08:00:00\n",
              "336772  5     2013-12-31 07:00:00\n",
              "336773 25     2013-12-31 08:00:00\n",
              "336774 15     2013-12-31 16:00:00\n",
              "336775  0     2013-12-31 06:00:00\n",
              "336776 30     2013-12-31 08:00:00"
            ]
          },
          "metadata": {}
        },
        {
          "output_type": "display_data",
          "data": {
            "text/html": [
              "<table class=\"dataframe\">\n",
              "<caption>A tibble: 336776 × 19</caption>\n",
              "<thead>\n",
              "\t<tr><th scope=col>year</th><th scope=col>month</th><th scope=col>day</th><th scope=col>dep_time</th><th scope=col>sched_dep_time</th><th scope=col>dep_delay</th><th scope=col>arr_time</th><th scope=col>sched_arr_time</th><th scope=col>arr_delay</th><th scope=col>carrier</th><th scope=col>flight</th><th scope=col>tailnum</th><th scope=col>origin</th><th scope=col>dest</th><th scope=col>air_time</th><th scope=col>distance</th><th scope=col>hour</th><th scope=col>minute</th><th scope=col>time_hour</th></tr>\n",
              "\t<tr><th scope=col>&lt;int&gt;</th><th scope=col>&lt;int&gt;</th><th scope=col>&lt;int&gt;</th><th scope=col>&lt;int&gt;</th><th scope=col>&lt;int&gt;</th><th scope=col>&lt;dbl&gt;</th><th scope=col>&lt;int&gt;</th><th scope=col>&lt;int&gt;</th><th scope=col>&lt;dbl&gt;</th><th scope=col>&lt;chr&gt;</th><th scope=col>&lt;int&gt;</th><th scope=col>&lt;chr&gt;</th><th scope=col>&lt;chr&gt;</th><th scope=col>&lt;chr&gt;</th><th scope=col>&lt;dbl&gt;</th><th scope=col>&lt;dbl&gt;</th><th scope=col>&lt;dbl&gt;</th><th scope=col>&lt;dbl&gt;</th><th scope=col>&lt;dttm&gt;</th></tr>\n",
              "</thead>\n",
              "<tbody>\n",
              "\t<tr><td>2013</td><td>12</td><td>1</td><td> 13</td><td>2359</td><td> 14</td><td> 446</td><td> 445</td><td>  1</td><td>B6</td><td> 745</td><td>N715JB</td><td>JFK</td><td>PSE</td><td>195</td><td>1617</td><td>23</td><td>59</td><td>2013-12-01 23:00:00</td></tr>\n",
              "\t<tr><td>2013</td><td>12</td><td>1</td><td> 17</td><td>2359</td><td> 18</td><td> 443</td><td> 437</td><td>  6</td><td>B6</td><td> 839</td><td>N593JB</td><td>JFK</td><td>BQN</td><td>186</td><td>1576</td><td>23</td><td>59</td><td>2013-12-01 23:00:00</td></tr>\n",
              "\t<tr><td>2013</td><td>12</td><td>1</td><td>453</td><td> 500</td><td> -7</td><td> 636</td><td> 651</td><td>-15</td><td>US</td><td>1895</td><td>N197UW</td><td>EWR</td><td>CLT</td><td> 86</td><td> 529</td><td> 5</td><td> 0</td><td>2013-12-01 05:00:00</td></tr>\n",
              "\t<tr><td>2013</td><td>12</td><td>1</td><td>520</td><td> 515</td><td>  5</td><td> 749</td><td> 808</td><td>-19</td><td>UA</td><td>1487</td><td>N69804</td><td>EWR</td><td>IAH</td><td>193</td><td>1400</td><td> 5</td><td>15</td><td>2013-12-01 05:00:00</td></tr>\n",
              "\t<tr><td>2013</td><td>12</td><td>1</td><td>536</td><td> 540</td><td> -4</td><td> 845</td><td> 850</td><td> -5</td><td>AA</td><td>2243</td><td>N634AA</td><td>JFK</td><td>MIA</td><td>144</td><td>1089</td><td> 5</td><td>40</td><td>2013-12-01 05:00:00</td></tr>\n",
              "\t<tr><td>2013</td><td>12</td><td>1</td><td>540</td><td> 550</td><td>-10</td><td>1005</td><td>1027</td><td>-22</td><td>B6</td><td> 939</td><td>N821JB</td><td>JFK</td><td>BQN</td><td>189</td><td>1576</td><td> 5</td><td>50</td><td>2013-12-01 05:00:00</td></tr>\n",
              "\t<tr><td>2013</td><td>12</td><td>1</td><td>541</td><td> 545</td><td> -4</td><td> 734</td><td> 755</td><td>-21</td><td>EV</td><td>3819</td><td>N13968</td><td>EWR</td><td>CVG</td><td> 95</td><td> 569</td><td> 5</td><td>45</td><td>2013-12-01 05:00:00</td></tr>\n",
              "\t<tr><td>2013</td><td>12</td><td>1</td><td>546</td><td> 545</td><td>  1</td><td> 826</td><td> 835</td><td> -9</td><td>UA</td><td>1441</td><td>N23708</td><td>LGA</td><td>IAH</td><td>204</td><td>1416</td><td> 5</td><td>45</td><td>2013-12-01 05:00:00</td></tr>\n",
              "\t<tr><td>2013</td><td>12</td><td>1</td><td>549</td><td> 600</td><td>-11</td><td> 648</td><td> 659</td><td>-11</td><td>US</td><td>2167</td><td>N945UW</td><td>LGA</td><td>DCA</td><td> 42</td><td> 214</td><td> 6</td><td> 0</td><td>2013-12-01 06:00:00</td></tr>\n",
              "\t<tr><td>2013</td><td>12</td><td>1</td><td>550</td><td> 600</td><td>-10</td><td> 825</td><td> 854</td><td>-29</td><td>B6</td><td> 605</td><td>N706JB</td><td>EWR</td><td>FLL</td><td>140</td><td>1065</td><td> 6</td><td> 0</td><td>2013-12-01 06:00:00</td></tr>\n",
              "\t<tr><td>2013</td><td>12</td><td>1</td><td>554</td><td> 600</td><td> -6</td><td> 827</td><td> 849</td><td>-22</td><td>B6</td><td> 353</td><td>N779JB</td><td>JFK</td><td>PBI</td><td>135</td><td>1028</td><td> 6</td><td> 0</td><td>2013-12-01 06:00:00</td></tr>\n",
              "\t<tr><td>2013</td><td>12</td><td>1</td><td>554</td><td> 601</td><td> -7</td><td> 748</td><td> 811</td><td>-23</td><td>EV</td><td>4714</td><td>N14904</td><td>EWR</td><td>CLT</td><td> 86</td><td> 529</td><td> 6</td><td> 1</td><td>2013-12-01 06:00:00</td></tr>\n",
              "\t<tr><td>2013</td><td>12</td><td>1</td><td>554</td><td> 600</td><td> -6</td><td> 712</td><td> 719</td><td> -7</td><td>EV</td><td>5747</td><td>N820AS</td><td>LGA</td><td>IAD</td><td> 44</td><td> 229</td><td> 6</td><td> 0</td><td>2013-12-01 06:00:00</td></tr>\n",
              "\t<tr><td>2013</td><td>12</td><td>1</td><td>554</td><td> 600</td><td> -6</td><td> 645</td><td> 705</td><td>-20</td><td>US</td><td>1739</td><td>N947UW</td><td>LGA</td><td>PHL</td><td> 36</td><td>  96</td><td> 6</td><td> 0</td><td>2013-12-01 06:00:00</td></tr>\n",
              "\t<tr><td>2013</td><td>12</td><td>1</td><td>555</td><td> 600</td><td> -5</td><td> 805</td><td> 827</td><td>-22</td><td>DL</td><td>1377</td><td>N386DA</td><td>LGA</td><td>ATL</td><td>112</td><td> 762</td><td> 6</td><td> 0</td><td>2013-12-01 06:00:00</td></tr>\n",
              "\t<tr><td>2013</td><td>12</td><td>1</td><td>556</td><td> 600</td><td> -4</td><td> 846</td><td> 846</td><td>  0</td><td>B6</td><td> 583</td><td>N583JB</td><td>JFK</td><td>MCO</td><td>134</td><td> 944</td><td> 6</td><td> 0</td><td>2013-12-01 06:00:00</td></tr>\n",
              "\t<tr><td>2013</td><td>12</td><td>1</td><td>556</td><td> 600</td><td> -4</td><td> 742</td><td> 756</td><td>-14</td><td>DL</td><td>1517</td><td>N332NB</td><td>EWR</td><td>DTW</td><td> 87</td><td> 488</td><td> 6</td><td> 0</td><td>2013-12-01 06:00:00</td></tr>\n",
              "\t<tr><td>2013</td><td>12</td><td>1</td><td>557</td><td> 600</td><td> -3</td><td> 733</td><td> 754</td><td>-21</td><td>DL</td><td> 731</td><td>N318NB</td><td>LGA</td><td>DTW</td><td> 79</td><td> 502</td><td> 6</td><td> 0</td><td>2013-12-01 06:00:00</td></tr>\n",
              "\t<tr><td>2013</td><td>12</td><td>1</td><td>557</td><td> 600</td><td> -3</td><td> 828</td><td> 834</td><td> -6</td><td>EV</td><td>4141</td><td>N14148</td><td>EWR</td><td>ATL</td><td>121</td><td> 746</td><td> 6</td><td> 0</td><td>2013-12-01 06:00:00</td></tr>\n",
              "\t<tr><td>2013</td><td>12</td><td>1</td><td>558</td><td> 600</td><td> -2</td><td> 841</td><td> 856</td><td>-15</td><td>B6</td><td> 371</td><td>N592JB</td><td>LGA</td><td>FLL</td><td>141</td><td>1076</td><td> 6</td><td> 0</td><td>2013-12-01 06:00:00</td></tr>\n",
              "\t<tr><td>2013</td><td>12</td><td>1</td><td>558</td><td> 600</td><td> -2</td><td> 721</td><td> 717</td><td>  4</td><td>EV</td><td>5716</td><td>N833AS</td><td>JFK</td><td>IAD</td><td> 44</td><td> 228</td><td> 6</td><td> 0</td><td>2013-12-01 06:00:00</td></tr>\n",
              "\t<tr><td>2013</td><td>12</td><td>1</td><td>558</td><td> 600</td><td> -2</td><td> 718</td><td> 725</td><td> -7</td><td>WN</td><td>4262</td><td>N368SW</td><td>EWR</td><td>MDW</td><td>109</td><td> 711</td><td> 6</td><td> 0</td><td>2013-12-01 06:00:00</td></tr>\n",
              "\t<tr><td>2013</td><td>12</td><td>1</td><td>558</td><td> 600</td><td> -2</td><td> 724</td><td> 743</td><td>-19</td><td>UA</td><td>1038</td><td>N87507</td><td>EWR</td><td>CLE</td><td> 62</td><td> 404</td><td> 6</td><td> 0</td><td>2013-12-01 06:00:00</td></tr>\n",
              "\t<tr><td>2013</td><td>12</td><td>1</td><td>559</td><td> 600</td><td> -1</td><td> 709</td><td> 719</td><td>-10</td><td>EV</td><td>6177</td><td>N13202</td><td>EWR</td><td>IAD</td><td> 41</td><td> 212</td><td> 6</td><td> 0</td><td>2013-12-01 06:00:00</td></tr>\n",
              "\t<tr><td>2013</td><td>12</td><td>1</td><td>600</td><td> 600</td><td>  0</td><td>1041</td><td>1043</td><td> -2</td><td>B6</td><td>1403</td><td>N651JB</td><td>JFK</td><td>SJU</td><td>200</td><td>1598</td><td> 6</td><td> 0</td><td>2013-12-01 06:00:00</td></tr>\n",
              "\t<tr><td>2013</td><td>12</td><td>1</td><td>600</td><td> 600</td><td>  0</td><td> 717</td><td> 736</td><td>-19</td><td>UA</td><td> 691</td><td>N455UA</td><td>LGA</td><td>ORD</td><td>114</td><td> 733</td><td> 6</td><td> 0</td><td>2013-12-01 06:00:00</td></tr>\n",
              "\t<tr><td>2013</td><td>12</td><td>1</td><td>602</td><td> 600</td><td>  2</td><td> 724</td><td> 738</td><td>-14</td><td>UA</td><td>1198</td><td>N37466</td><td>EWR</td><td>ORD</td><td>115</td><td> 719</td><td> 6</td><td> 0</td><td>2013-12-01 06:00:00</td></tr>\n",
              "\t<tr><td>2013</td><td>12</td><td>1</td><td>603</td><td> 605</td><td> -2</td><td> 731</td><td> 735</td><td> -4</td><td>WN</td><td>3990</td><td>N8313F</td><td>LGA</td><td>MDW</td><td>106</td><td> 725</td><td> 6</td><td> 5</td><td>2013-12-01 06:00:00</td></tr>\n",
              "\t<tr><td>2013</td><td>12</td><td>1</td><td>604</td><td> 608</td><td> -4</td><td> 818</td><td> 829</td><td>-11</td><td>EV</td><td>4393</td><td>N31131</td><td>EWR</td><td>IND</td><td>114</td><td> 645</td><td> 6</td><td> 8</td><td>2013-12-01 06:00:00</td></tr>\n",
              "\t<tr><td>2013</td><td>12</td><td>1</td><td>604</td><td> 600</td><td>  4</td><td> 827</td><td> 840</td><td>-13</td><td>UA</td><td> 338</td><td>N486UA</td><td>EWR</td><td>LAS</td><td>300</td><td>2227</td><td> 6</td><td> 0</td><td>2013-12-01 06:00:00</td></tr>\n",
              "\t<tr><td>⋮</td><td>⋮</td><td>⋮</td><td>⋮</td><td>⋮</td><td>⋮</td><td>⋮</td><td>⋮</td><td>⋮</td><td>⋮</td><td>⋮</td><td>⋮</td><td>⋮</td><td>⋮</td><td>⋮</td><td>⋮</td><td>⋮</td><td>⋮</td><td>⋮</td></tr>\n",
              "\t<tr><td>2013</td><td>1</td><td>31</td><td>NA</td><td>1245</td><td>NA</td><td>NA</td><td>1600</td><td>NA</td><td>AA</td><td>2253</td><td>N3DTAA</td><td>LGA</td><td>MIA</td><td>NA</td><td>1096</td><td>12</td><td>45</td><td>2013-01-31 12:00:00</td></tr>\n",
              "\t<tr><td>2013</td><td>1</td><td>31</td><td>NA</td><td>1240</td><td>NA</td><td>NA</td><td>1540</td><td>NA</td><td>AA</td><td>1853</td><td>N4YDAA</td><td>EWR</td><td>DFW</td><td>NA</td><td>1372</td><td>12</td><td>40</td><td>2013-01-31 12:00:00</td></tr>\n",
              "\t<tr><td>2013</td><td>1</td><td>31</td><td>NA</td><td>1200</td><td>NA</td><td>NA</td><td>1304</td><td>NA</td><td>B6</td><td>1174</td><td>N203JB</td><td>EWR</td><td>BOS</td><td>NA</td><td> 200</td><td>12</td><td> 0</td><td>2013-01-31 12:00:00</td></tr>\n",
              "\t<tr><td>2013</td><td>1</td><td>31</td><td>NA</td><td>1415</td><td>NA</td><td>NA</td><td>1724</td><td>NA</td><td>B6</td><td> 377</td><td>N503JB</td><td>LGA</td><td>FLL</td><td>NA</td><td>1076</td><td>14</td><td>15</td><td>2013-01-31 14:00:00</td></tr>\n",
              "\t<tr><td>2013</td><td>1</td><td>31</td><td>NA</td><td> 825</td><td>NA</td><td>NA</td><td>1026</td><td>NA</td><td>US</td><td> 487</td><td>NA    </td><td>JFK</td><td>CLT</td><td>NA</td><td> 541</td><td> 8</td><td>25</td><td>2013-01-31 08:00:00</td></tr>\n",
              "\t<tr><td>2013</td><td>1</td><td>31</td><td>NA</td><td>1130</td><td>NA</td><td>NA</td><td>1334</td><td>NA</td><td>US</td><td>1625</td><td>NA    </td><td>LGA</td><td>CLT</td><td>NA</td><td> 544</td><td>11</td><td>30</td><td>2013-01-31 11:00:00</td></tr>\n",
              "\t<tr><td>2013</td><td>1</td><td>31</td><td>NA</td><td>1500</td><td>NA</td><td>NA</td><td>1653</td><td>NA</td><td>US</td><td> 720</td><td>NA    </td><td>EWR</td><td>CLT</td><td>NA</td><td> 529</td><td>15</td><td> 0</td><td>2013-01-31 15:00:00</td></tr>\n",
              "\t<tr><td>2013</td><td>1</td><td>31</td><td>NA</td><td> 600</td><td>NA</td><td>NA</td><td> 703</td><td>NA</td><td>US</td><td>2114</td><td>NA    </td><td>LGA</td><td>BOS</td><td>NA</td><td> 184</td><td> 6</td><td> 0</td><td>2013-01-31 06:00:00</td></tr>\n",
              "\t<tr><td>2013</td><td>1</td><td>31</td><td>NA</td><td> 700</td><td>NA</td><td>NA</td><td> 807</td><td>NA</td><td>US</td><td>2116</td><td>NA    </td><td>LGA</td><td>BOS</td><td>NA</td><td> 184</td><td> 7</td><td> 0</td><td>2013-01-31 07:00:00</td></tr>\n",
              "\t<tr><td>2013</td><td>1</td><td>31</td><td>NA</td><td> 800</td><td>NA</td><td>NA</td><td> 908</td><td>NA</td><td>US</td><td>2118</td><td>NA    </td><td>LGA</td><td>BOS</td><td>NA</td><td> 184</td><td> 8</td><td> 0</td><td>2013-01-31 08:00:00</td></tr>\n",
              "\t<tr><td>2013</td><td>1</td><td>31</td><td>NA</td><td>1200</td><td>NA</td><td>NA</td><td>1305</td><td>NA</td><td>US</td><td>2126</td><td>NA    </td><td>LGA</td><td>BOS</td><td>NA</td><td> 184</td><td>12</td><td> 0</td><td>2013-01-31 12:00:00</td></tr>\n",
              "\t<tr><td>2013</td><td>1</td><td>31</td><td>NA</td><td>1300</td><td>NA</td><td>NA</td><td>1406</td><td>NA</td><td>US</td><td>2128</td><td>NA    </td><td>LGA</td><td>BOS</td><td>NA</td><td> 184</td><td>13</td><td> 0</td><td>2013-01-31 13:00:00</td></tr>\n",
              "\t<tr><td>2013</td><td>1</td><td>31</td><td>NA</td><td>1500</td><td>NA</td><td>NA</td><td>1608</td><td>NA</td><td>US</td><td>2132</td><td>NA    </td><td>LGA</td><td>BOS</td><td>NA</td><td> 184</td><td>15</td><td> 0</td><td>2013-01-31 15:00:00</td></tr>\n",
              "\t<tr><td>2013</td><td>1</td><td>31</td><td>NA</td><td>2100</td><td>NA</td><td>NA</td><td>2207</td><td>NA</td><td>US</td><td>2144</td><td>NA    </td><td>LGA</td><td>BOS</td><td>NA</td><td> 184</td><td>21</td><td> 0</td><td>2013-01-31 21:00:00</td></tr>\n",
              "\t<tr><td>2013</td><td>1</td><td>31</td><td>NA</td><td> 700</td><td>NA</td><td>NA</td><td> 807</td><td>NA</td><td>US</td><td>2163</td><td>NA    </td><td>LGA</td><td>DCA</td><td>NA</td><td> 214</td><td> 7</td><td> 0</td><td>2013-01-31 07:00:00</td></tr>\n",
              "\t<tr><td>2013</td><td>1</td><td>31</td><td>NA</td><td> 800</td><td>NA</td><td>NA</td><td> 917</td><td>NA</td><td>US</td><td>2165</td><td>NA    </td><td>LGA</td><td>DCA</td><td>NA</td><td> 214</td><td> 8</td><td> 0</td><td>2013-01-31 08:00:00</td></tr>\n",
              "\t<tr><td>2013</td><td>1</td><td>31</td><td>NA</td><td> 900</td><td>NA</td><td>NA</td><td>1022</td><td>NA</td><td>US</td><td>2167</td><td>NA    </td><td>LGA</td><td>DCA</td><td>NA</td><td> 214</td><td> 9</td><td> 0</td><td>2013-01-31 09:00:00</td></tr>\n",
              "\t<tr><td>2013</td><td>1</td><td>31</td><td>NA</td><td>1510</td><td>NA</td><td>NA</td><td>1650</td><td>NA</td><td>WN</td><td> 323</td><td>N433LV</td><td>LGA</td><td>MKE</td><td>NA</td><td> 738</td><td>15</td><td>10</td><td>2013-01-31 15:00:00</td></tr>\n",
              "\t<tr><td>2013</td><td>1</td><td>31</td><td>NA</td><td>1940</td><td>NA</td><td>NA</td><td>2100</td><td>NA</td><td>WN</td><td> 633</td><td>N295WN</td><td>EWR</td><td>MDW</td><td>NA</td><td> 711</td><td>19</td><td>40</td><td>2013-01-31 19:00:00</td></tr>\n",
              "\t<tr><td>2013</td><td>1</td><td>31</td><td>NA</td><td>1435</td><td>NA</td><td>NA</td><td>1559</td><td>NA</td><td>YV</td><td>3750</td><td>N507MJ</td><td>LGA</td><td>IAD</td><td>NA</td><td> 229</td><td>14</td><td>35</td><td>2013-01-31 14:00:00</td></tr>\n",
              "\t<tr><td>2013</td><td>1</td><td>31</td><td>NA</td><td>1635</td><td>NA</td><td>NA</td><td>1810</td><td>NA</td><td>MQ</td><td>3695</td><td>N544MQ</td><td>EWR</td><td>ORD</td><td>NA</td><td> 719</td><td>16</td><td>35</td><td>2013-01-31 16:00:00</td></tr>\n",
              "\t<tr><td>2013</td><td>1</td><td>31</td><td>NA</td><td> 825</td><td>NA</td><td>NA</td><td> 945</td><td>NA</td><td>MQ</td><td>4418</td><td>N855MQ</td><td>JFK</td><td>DCA</td><td>NA</td><td> 213</td><td> 8</td><td>25</td><td>2013-01-31 08:00:00</td></tr>\n",
              "\t<tr><td>2013</td><td>1</td><td>31</td><td>NA</td><td>1300</td><td>NA</td><td>NA</td><td>1450</td><td>NA</td><td>MQ</td><td>4426</td><td>N736MQ</td><td>LGA</td><td>CMH</td><td>NA</td><td> 479</td><td>13</td><td> 0</td><td>2013-01-31 13:00:00</td></tr>\n",
              "\t<tr><td>2013</td><td>1</td><td>31</td><td>NA</td><td>1315</td><td>NA</td><td>NA</td><td>1520</td><td>NA</td><td>MQ</td><td>4564</td><td>N737MQ</td><td>LGA</td><td>DTW</td><td>NA</td><td> 502</td><td>13</td><td>15</td><td>2013-01-31 13:00:00</td></tr>\n",
              "\t<tr><td>2013</td><td>1</td><td>31</td><td>NA</td><td> 920</td><td>NA</td><td>NA</td><td>1125</td><td>NA</td><td>MQ</td><td>4582</td><td>N506MQ</td><td>LGA</td><td>CLT</td><td>NA</td><td> 544</td><td> 9</td><td>20</td><td>2013-01-31 09:00:00</td></tr>\n",
              "\t<tr><td>2013</td><td>1</td><td>31</td><td>NA</td><td>1325</td><td>NA</td><td>NA</td><td>1505</td><td>NA</td><td>MQ</td><td>4475</td><td>N730MQ</td><td>LGA</td><td>RDU</td><td>NA</td><td> 431</td><td>13</td><td>25</td><td>2013-01-31 13:00:00</td></tr>\n",
              "\t<tr><td>2013</td><td>1</td><td>31</td><td>NA</td><td>1200</td><td>NA</td><td>NA</td><td>1430</td><td>NA</td><td>MQ</td><td>4658</td><td>N505MQ</td><td>LGA</td><td>ATL</td><td>NA</td><td> 762</td><td>12</td><td> 0</td><td>2013-01-31 12:00:00</td></tr>\n",
              "\t<tr><td>2013</td><td>1</td><td>31</td><td>NA</td><td>1410</td><td>NA</td><td>NA</td><td>1555</td><td>NA</td><td>MQ</td><td>4491</td><td>N734MQ</td><td>LGA</td><td>CLE</td><td>NA</td><td> 419</td><td>14</td><td>10</td><td>2013-01-31 14:00:00</td></tr>\n",
              "\t<tr><td>2013</td><td>1</td><td>31</td><td>NA</td><td>1446</td><td>NA</td><td>NA</td><td>1757</td><td>NA</td><td>UA</td><td> 337</td><td>NA    </td><td>LGA</td><td>IAH</td><td>NA</td><td>1416</td><td>14</td><td>46</td><td>2013-01-31 14:00:00</td></tr>\n",
              "\t<tr><td>2013</td><td>1</td><td>31</td><td>NA</td><td> 625</td><td>NA</td><td>NA</td><td> 934</td><td>NA</td><td>UA</td><td>1497</td><td>NA    </td><td>LGA</td><td>IAH</td><td>NA</td><td>1416</td><td> 6</td><td>25</td><td>2013-01-31 06:00:00</td></tr>\n",
              "</tbody>\n",
              "</table>\n"
            ],
            "text/markdown": "\nA tibble: 336776 × 19\n\n| year &lt;int&gt; | month &lt;int&gt; | day &lt;int&gt; | dep_time &lt;int&gt; | sched_dep_time &lt;int&gt; | dep_delay &lt;dbl&gt; | arr_time &lt;int&gt; | sched_arr_time &lt;int&gt; | arr_delay &lt;dbl&gt; | carrier &lt;chr&gt; | flight &lt;int&gt; | tailnum &lt;chr&gt; | origin &lt;chr&gt; | dest &lt;chr&gt; | air_time &lt;dbl&gt; | distance &lt;dbl&gt; | hour &lt;dbl&gt; | minute &lt;dbl&gt; | time_hour &lt;dttm&gt; |\n|---|---|---|---|---|---|---|---|---|---|---|---|---|---|---|---|---|---|---|\n| 2013 | 12 | 1 |  13 | 2359 |  14 |  446 |  445 |   1 | B6 |  745 | N715JB | JFK | PSE | 195 | 1617 | 23 | 59 | 2013-12-01 23:00:00 |\n| 2013 | 12 | 1 |  17 | 2359 |  18 |  443 |  437 |   6 | B6 |  839 | N593JB | JFK | BQN | 186 | 1576 | 23 | 59 | 2013-12-01 23:00:00 |\n| 2013 | 12 | 1 | 453 |  500 |  -7 |  636 |  651 | -15 | US | 1895 | N197UW | EWR | CLT |  86 |  529 |  5 |  0 | 2013-12-01 05:00:00 |\n| 2013 | 12 | 1 | 520 |  515 |   5 |  749 |  808 | -19 | UA | 1487 | N69804 | EWR | IAH | 193 | 1400 |  5 | 15 | 2013-12-01 05:00:00 |\n| 2013 | 12 | 1 | 536 |  540 |  -4 |  845 |  850 |  -5 | AA | 2243 | N634AA | JFK | MIA | 144 | 1089 |  5 | 40 | 2013-12-01 05:00:00 |\n| 2013 | 12 | 1 | 540 |  550 | -10 | 1005 | 1027 | -22 | B6 |  939 | N821JB | JFK | BQN | 189 | 1576 |  5 | 50 | 2013-12-01 05:00:00 |\n| 2013 | 12 | 1 | 541 |  545 |  -4 |  734 |  755 | -21 | EV | 3819 | N13968 | EWR | CVG |  95 |  569 |  5 | 45 | 2013-12-01 05:00:00 |\n| 2013 | 12 | 1 | 546 |  545 |   1 |  826 |  835 |  -9 | UA | 1441 | N23708 | LGA | IAH | 204 | 1416 |  5 | 45 | 2013-12-01 05:00:00 |\n| 2013 | 12 | 1 | 549 |  600 | -11 |  648 |  659 | -11 | US | 2167 | N945UW | LGA | DCA |  42 |  214 |  6 |  0 | 2013-12-01 06:00:00 |\n| 2013 | 12 | 1 | 550 |  600 | -10 |  825 |  854 | -29 | B6 |  605 | N706JB | EWR | FLL | 140 | 1065 |  6 |  0 | 2013-12-01 06:00:00 |\n| 2013 | 12 | 1 | 554 |  600 |  -6 |  827 |  849 | -22 | B6 |  353 | N779JB | JFK | PBI | 135 | 1028 |  6 |  0 | 2013-12-01 06:00:00 |\n| 2013 | 12 | 1 | 554 |  601 |  -7 |  748 |  811 | -23 | EV | 4714 | N14904 | EWR | CLT |  86 |  529 |  6 |  1 | 2013-12-01 06:00:00 |\n| 2013 | 12 | 1 | 554 |  600 |  -6 |  712 |  719 |  -7 | EV | 5747 | N820AS | LGA | IAD |  44 |  229 |  6 |  0 | 2013-12-01 06:00:00 |\n| 2013 | 12 | 1 | 554 |  600 |  -6 |  645 |  705 | -20 | US | 1739 | N947UW | LGA | PHL |  36 |   96 |  6 |  0 | 2013-12-01 06:00:00 |\n| 2013 | 12 | 1 | 555 |  600 |  -5 |  805 |  827 | -22 | DL | 1377 | N386DA | LGA | ATL | 112 |  762 |  6 |  0 | 2013-12-01 06:00:00 |\n| 2013 | 12 | 1 | 556 |  600 |  -4 |  846 |  846 |   0 | B6 |  583 | N583JB | JFK | MCO | 134 |  944 |  6 |  0 | 2013-12-01 06:00:00 |\n| 2013 | 12 | 1 | 556 |  600 |  -4 |  742 |  756 | -14 | DL | 1517 | N332NB | EWR | DTW |  87 |  488 |  6 |  0 | 2013-12-01 06:00:00 |\n| 2013 | 12 | 1 | 557 |  600 |  -3 |  733 |  754 | -21 | DL |  731 | N318NB | LGA | DTW |  79 |  502 |  6 |  0 | 2013-12-01 06:00:00 |\n| 2013 | 12 | 1 | 557 |  600 |  -3 |  828 |  834 |  -6 | EV | 4141 | N14148 | EWR | ATL | 121 |  746 |  6 |  0 | 2013-12-01 06:00:00 |\n| 2013 | 12 | 1 | 558 |  600 |  -2 |  841 |  856 | -15 | B6 |  371 | N592JB | LGA | FLL | 141 | 1076 |  6 |  0 | 2013-12-01 06:00:00 |\n| 2013 | 12 | 1 | 558 |  600 |  -2 |  721 |  717 |   4 | EV | 5716 | N833AS | JFK | IAD |  44 |  228 |  6 |  0 | 2013-12-01 06:00:00 |\n| 2013 | 12 | 1 | 558 |  600 |  -2 |  718 |  725 |  -7 | WN | 4262 | N368SW | EWR | MDW | 109 |  711 |  6 |  0 | 2013-12-01 06:00:00 |\n| 2013 | 12 | 1 | 558 |  600 |  -2 |  724 |  743 | -19 | UA | 1038 | N87507 | EWR | CLE |  62 |  404 |  6 |  0 | 2013-12-01 06:00:00 |\n| 2013 | 12 | 1 | 559 |  600 |  -1 |  709 |  719 | -10 | EV | 6177 | N13202 | EWR | IAD |  41 |  212 |  6 |  0 | 2013-12-01 06:00:00 |\n| 2013 | 12 | 1 | 600 |  600 |   0 | 1041 | 1043 |  -2 | B6 | 1403 | N651JB | JFK | SJU | 200 | 1598 |  6 |  0 | 2013-12-01 06:00:00 |\n| 2013 | 12 | 1 | 600 |  600 |   0 |  717 |  736 | -19 | UA |  691 | N455UA | LGA | ORD | 114 |  733 |  6 |  0 | 2013-12-01 06:00:00 |\n| 2013 | 12 | 1 | 602 |  600 |   2 |  724 |  738 | -14 | UA | 1198 | N37466 | EWR | ORD | 115 |  719 |  6 |  0 | 2013-12-01 06:00:00 |\n| 2013 | 12 | 1 | 603 |  605 |  -2 |  731 |  735 |  -4 | WN | 3990 | N8313F | LGA | MDW | 106 |  725 |  6 |  5 | 2013-12-01 06:00:00 |\n| 2013 | 12 | 1 | 604 |  608 |  -4 |  818 |  829 | -11 | EV | 4393 | N31131 | EWR | IND | 114 |  645 |  6 |  8 | 2013-12-01 06:00:00 |\n| 2013 | 12 | 1 | 604 |  600 |   4 |  827 |  840 | -13 | UA |  338 | N486UA | EWR | LAS | 300 | 2227 |  6 |  0 | 2013-12-01 06:00:00 |\n| ⋮ | ⋮ | ⋮ | ⋮ | ⋮ | ⋮ | ⋮ | ⋮ | ⋮ | ⋮ | ⋮ | ⋮ | ⋮ | ⋮ | ⋮ | ⋮ | ⋮ | ⋮ | ⋮ |\n| 2013 | 1 | 31 | NA | 1245 | NA | NA | 1600 | NA | AA | 2253 | N3DTAA | LGA | MIA | NA | 1096 | 12 | 45 | 2013-01-31 12:00:00 |\n| 2013 | 1 | 31 | NA | 1240 | NA | NA | 1540 | NA | AA | 1853 | N4YDAA | EWR | DFW | NA | 1372 | 12 | 40 | 2013-01-31 12:00:00 |\n| 2013 | 1 | 31 | NA | 1200 | NA | NA | 1304 | NA | B6 | 1174 | N203JB | EWR | BOS | NA |  200 | 12 |  0 | 2013-01-31 12:00:00 |\n| 2013 | 1 | 31 | NA | 1415 | NA | NA | 1724 | NA | B6 |  377 | N503JB | LGA | FLL | NA | 1076 | 14 | 15 | 2013-01-31 14:00:00 |\n| 2013 | 1 | 31 | NA |  825 | NA | NA | 1026 | NA | US |  487 | NA     | JFK | CLT | NA |  541 |  8 | 25 | 2013-01-31 08:00:00 |\n| 2013 | 1 | 31 | NA | 1130 | NA | NA | 1334 | NA | US | 1625 | NA     | LGA | CLT | NA |  544 | 11 | 30 | 2013-01-31 11:00:00 |\n| 2013 | 1 | 31 | NA | 1500 | NA | NA | 1653 | NA | US |  720 | NA     | EWR | CLT | NA |  529 | 15 |  0 | 2013-01-31 15:00:00 |\n| 2013 | 1 | 31 | NA |  600 | NA | NA |  703 | NA | US | 2114 | NA     | LGA | BOS | NA |  184 |  6 |  0 | 2013-01-31 06:00:00 |\n| 2013 | 1 | 31 | NA |  700 | NA | NA |  807 | NA | US | 2116 | NA     | LGA | BOS | NA |  184 |  7 |  0 | 2013-01-31 07:00:00 |\n| 2013 | 1 | 31 | NA |  800 | NA | NA |  908 | NA | US | 2118 | NA     | LGA | BOS | NA |  184 |  8 |  0 | 2013-01-31 08:00:00 |\n| 2013 | 1 | 31 | NA | 1200 | NA | NA | 1305 | NA | US | 2126 | NA     | LGA | BOS | NA |  184 | 12 |  0 | 2013-01-31 12:00:00 |\n| 2013 | 1 | 31 | NA | 1300 | NA | NA | 1406 | NA | US | 2128 | NA     | LGA | BOS | NA |  184 | 13 |  0 | 2013-01-31 13:00:00 |\n| 2013 | 1 | 31 | NA | 1500 | NA | NA | 1608 | NA | US | 2132 | NA     | LGA | BOS | NA |  184 | 15 |  0 | 2013-01-31 15:00:00 |\n| 2013 | 1 | 31 | NA | 2100 | NA | NA | 2207 | NA | US | 2144 | NA     | LGA | BOS | NA |  184 | 21 |  0 | 2013-01-31 21:00:00 |\n| 2013 | 1 | 31 | NA |  700 | NA | NA |  807 | NA | US | 2163 | NA     | LGA | DCA | NA |  214 |  7 |  0 | 2013-01-31 07:00:00 |\n| 2013 | 1 | 31 | NA |  800 | NA | NA |  917 | NA | US | 2165 | NA     | LGA | DCA | NA |  214 |  8 |  0 | 2013-01-31 08:00:00 |\n| 2013 | 1 | 31 | NA |  900 | NA | NA | 1022 | NA | US | 2167 | NA     | LGA | DCA | NA |  214 |  9 |  0 | 2013-01-31 09:00:00 |\n| 2013 | 1 | 31 | NA | 1510 | NA | NA | 1650 | NA | WN |  323 | N433LV | LGA | MKE | NA |  738 | 15 | 10 | 2013-01-31 15:00:00 |\n| 2013 | 1 | 31 | NA | 1940 | NA | NA | 2100 | NA | WN |  633 | N295WN | EWR | MDW | NA |  711 | 19 | 40 | 2013-01-31 19:00:00 |\n| 2013 | 1 | 31 | NA | 1435 | NA | NA | 1559 | NA | YV | 3750 | N507MJ | LGA | IAD | NA |  229 | 14 | 35 | 2013-01-31 14:00:00 |\n| 2013 | 1 | 31 | NA | 1635 | NA | NA | 1810 | NA | MQ | 3695 | N544MQ | EWR | ORD | NA |  719 | 16 | 35 | 2013-01-31 16:00:00 |\n| 2013 | 1 | 31 | NA |  825 | NA | NA |  945 | NA | MQ | 4418 | N855MQ | JFK | DCA | NA |  213 |  8 | 25 | 2013-01-31 08:00:00 |\n| 2013 | 1 | 31 | NA | 1300 | NA | NA | 1450 | NA | MQ | 4426 | N736MQ | LGA | CMH | NA |  479 | 13 |  0 | 2013-01-31 13:00:00 |\n| 2013 | 1 | 31 | NA | 1315 | NA | NA | 1520 | NA | MQ | 4564 | N737MQ | LGA | DTW | NA |  502 | 13 | 15 | 2013-01-31 13:00:00 |\n| 2013 | 1 | 31 | NA |  920 | NA | NA | 1125 | NA | MQ | 4582 | N506MQ | LGA | CLT | NA |  544 |  9 | 20 | 2013-01-31 09:00:00 |\n| 2013 | 1 | 31 | NA | 1325 | NA | NA | 1505 | NA | MQ | 4475 | N730MQ | LGA | RDU | NA |  431 | 13 | 25 | 2013-01-31 13:00:00 |\n| 2013 | 1 | 31 | NA | 1200 | NA | NA | 1430 | NA | MQ | 4658 | N505MQ | LGA | ATL | NA |  762 | 12 |  0 | 2013-01-31 12:00:00 |\n| 2013 | 1 | 31 | NA | 1410 | NA | NA | 1555 | NA | MQ | 4491 | N734MQ | LGA | CLE | NA |  419 | 14 | 10 | 2013-01-31 14:00:00 |\n| 2013 | 1 | 31 | NA | 1446 | NA | NA | 1757 | NA | UA |  337 | NA     | LGA | IAH | NA | 1416 | 14 | 46 | 2013-01-31 14:00:00 |\n| 2013 | 1 | 31 | NA |  625 | NA | NA |  934 | NA | UA | 1497 | NA     | LGA | IAH | NA | 1416 |  6 | 25 | 2013-01-31 06:00:00 |\n\n",
            "text/latex": "A tibble: 336776 × 19\n\\begin{tabular}{lllllllllllllllllll}\n year & month & day & dep\\_time & sched\\_dep\\_time & dep\\_delay & arr\\_time & sched\\_arr\\_time & arr\\_delay & carrier & flight & tailnum & origin & dest & air\\_time & distance & hour & minute & time\\_hour\\\\\n <int> & <int> & <int> & <int> & <int> & <dbl> & <int> & <int> & <dbl> & <chr> & <int> & <chr> & <chr> & <chr> & <dbl> & <dbl> & <dbl> & <dbl> & <dttm>\\\\\n\\hline\n\t 2013 & 12 & 1 &  13 & 2359 &  14 &  446 &  445 &   1 & B6 &  745 & N715JB & JFK & PSE & 195 & 1617 & 23 & 59 & 2013-12-01 23:00:00\\\\\n\t 2013 & 12 & 1 &  17 & 2359 &  18 &  443 &  437 &   6 & B6 &  839 & N593JB & JFK & BQN & 186 & 1576 & 23 & 59 & 2013-12-01 23:00:00\\\\\n\t 2013 & 12 & 1 & 453 &  500 &  -7 &  636 &  651 & -15 & US & 1895 & N197UW & EWR & CLT &  86 &  529 &  5 &  0 & 2013-12-01 05:00:00\\\\\n\t 2013 & 12 & 1 & 520 &  515 &   5 &  749 &  808 & -19 & UA & 1487 & N69804 & EWR & IAH & 193 & 1400 &  5 & 15 & 2013-12-01 05:00:00\\\\\n\t 2013 & 12 & 1 & 536 &  540 &  -4 &  845 &  850 &  -5 & AA & 2243 & N634AA & JFK & MIA & 144 & 1089 &  5 & 40 & 2013-12-01 05:00:00\\\\\n\t 2013 & 12 & 1 & 540 &  550 & -10 & 1005 & 1027 & -22 & B6 &  939 & N821JB & JFK & BQN & 189 & 1576 &  5 & 50 & 2013-12-01 05:00:00\\\\\n\t 2013 & 12 & 1 & 541 &  545 &  -4 &  734 &  755 & -21 & EV & 3819 & N13968 & EWR & CVG &  95 &  569 &  5 & 45 & 2013-12-01 05:00:00\\\\\n\t 2013 & 12 & 1 & 546 &  545 &   1 &  826 &  835 &  -9 & UA & 1441 & N23708 & LGA & IAH & 204 & 1416 &  5 & 45 & 2013-12-01 05:00:00\\\\\n\t 2013 & 12 & 1 & 549 &  600 & -11 &  648 &  659 & -11 & US & 2167 & N945UW & LGA & DCA &  42 &  214 &  6 &  0 & 2013-12-01 06:00:00\\\\\n\t 2013 & 12 & 1 & 550 &  600 & -10 &  825 &  854 & -29 & B6 &  605 & N706JB & EWR & FLL & 140 & 1065 &  6 &  0 & 2013-12-01 06:00:00\\\\\n\t 2013 & 12 & 1 & 554 &  600 &  -6 &  827 &  849 & -22 & B6 &  353 & N779JB & JFK & PBI & 135 & 1028 &  6 &  0 & 2013-12-01 06:00:00\\\\\n\t 2013 & 12 & 1 & 554 &  601 &  -7 &  748 &  811 & -23 & EV & 4714 & N14904 & EWR & CLT &  86 &  529 &  6 &  1 & 2013-12-01 06:00:00\\\\\n\t 2013 & 12 & 1 & 554 &  600 &  -6 &  712 &  719 &  -7 & EV & 5747 & N820AS & LGA & IAD &  44 &  229 &  6 &  0 & 2013-12-01 06:00:00\\\\\n\t 2013 & 12 & 1 & 554 &  600 &  -6 &  645 &  705 & -20 & US & 1739 & N947UW & LGA & PHL &  36 &   96 &  6 &  0 & 2013-12-01 06:00:00\\\\\n\t 2013 & 12 & 1 & 555 &  600 &  -5 &  805 &  827 & -22 & DL & 1377 & N386DA & LGA & ATL & 112 &  762 &  6 &  0 & 2013-12-01 06:00:00\\\\\n\t 2013 & 12 & 1 & 556 &  600 &  -4 &  846 &  846 &   0 & B6 &  583 & N583JB & JFK & MCO & 134 &  944 &  6 &  0 & 2013-12-01 06:00:00\\\\\n\t 2013 & 12 & 1 & 556 &  600 &  -4 &  742 &  756 & -14 & DL & 1517 & N332NB & EWR & DTW &  87 &  488 &  6 &  0 & 2013-12-01 06:00:00\\\\\n\t 2013 & 12 & 1 & 557 &  600 &  -3 &  733 &  754 & -21 & DL &  731 & N318NB & LGA & DTW &  79 &  502 &  6 &  0 & 2013-12-01 06:00:00\\\\\n\t 2013 & 12 & 1 & 557 &  600 &  -3 &  828 &  834 &  -6 & EV & 4141 & N14148 & EWR & ATL & 121 &  746 &  6 &  0 & 2013-12-01 06:00:00\\\\\n\t 2013 & 12 & 1 & 558 &  600 &  -2 &  841 &  856 & -15 & B6 &  371 & N592JB & LGA & FLL & 141 & 1076 &  6 &  0 & 2013-12-01 06:00:00\\\\\n\t 2013 & 12 & 1 & 558 &  600 &  -2 &  721 &  717 &   4 & EV & 5716 & N833AS & JFK & IAD &  44 &  228 &  6 &  0 & 2013-12-01 06:00:00\\\\\n\t 2013 & 12 & 1 & 558 &  600 &  -2 &  718 &  725 &  -7 & WN & 4262 & N368SW & EWR & MDW & 109 &  711 &  6 &  0 & 2013-12-01 06:00:00\\\\\n\t 2013 & 12 & 1 & 558 &  600 &  -2 &  724 &  743 & -19 & UA & 1038 & N87507 & EWR & CLE &  62 &  404 &  6 &  0 & 2013-12-01 06:00:00\\\\\n\t 2013 & 12 & 1 & 559 &  600 &  -1 &  709 &  719 & -10 & EV & 6177 & N13202 & EWR & IAD &  41 &  212 &  6 &  0 & 2013-12-01 06:00:00\\\\\n\t 2013 & 12 & 1 & 600 &  600 &   0 & 1041 & 1043 &  -2 & B6 & 1403 & N651JB & JFK & SJU & 200 & 1598 &  6 &  0 & 2013-12-01 06:00:00\\\\\n\t 2013 & 12 & 1 & 600 &  600 &   0 &  717 &  736 & -19 & UA &  691 & N455UA & LGA & ORD & 114 &  733 &  6 &  0 & 2013-12-01 06:00:00\\\\\n\t 2013 & 12 & 1 & 602 &  600 &   2 &  724 &  738 & -14 & UA & 1198 & N37466 & EWR & ORD & 115 &  719 &  6 &  0 & 2013-12-01 06:00:00\\\\\n\t 2013 & 12 & 1 & 603 &  605 &  -2 &  731 &  735 &  -4 & WN & 3990 & N8313F & LGA & MDW & 106 &  725 &  6 &  5 & 2013-12-01 06:00:00\\\\\n\t 2013 & 12 & 1 & 604 &  608 &  -4 &  818 &  829 & -11 & EV & 4393 & N31131 & EWR & IND & 114 &  645 &  6 &  8 & 2013-12-01 06:00:00\\\\\n\t 2013 & 12 & 1 & 604 &  600 &   4 &  827 &  840 & -13 & UA &  338 & N486UA & EWR & LAS & 300 & 2227 &  6 &  0 & 2013-12-01 06:00:00\\\\\n\t ⋮ & ⋮ & ⋮ & ⋮ & ⋮ & ⋮ & ⋮ & ⋮ & ⋮ & ⋮ & ⋮ & ⋮ & ⋮ & ⋮ & ⋮ & ⋮ & ⋮ & ⋮ & ⋮\\\\\n\t 2013 & 1 & 31 & NA & 1245 & NA & NA & 1600 & NA & AA & 2253 & N3DTAA & LGA & MIA & NA & 1096 & 12 & 45 & 2013-01-31 12:00:00\\\\\n\t 2013 & 1 & 31 & NA & 1240 & NA & NA & 1540 & NA & AA & 1853 & N4YDAA & EWR & DFW & NA & 1372 & 12 & 40 & 2013-01-31 12:00:00\\\\\n\t 2013 & 1 & 31 & NA & 1200 & NA & NA & 1304 & NA & B6 & 1174 & N203JB & EWR & BOS & NA &  200 & 12 &  0 & 2013-01-31 12:00:00\\\\\n\t 2013 & 1 & 31 & NA & 1415 & NA & NA & 1724 & NA & B6 &  377 & N503JB & LGA & FLL & NA & 1076 & 14 & 15 & 2013-01-31 14:00:00\\\\\n\t 2013 & 1 & 31 & NA &  825 & NA & NA & 1026 & NA & US &  487 & NA     & JFK & CLT & NA &  541 &  8 & 25 & 2013-01-31 08:00:00\\\\\n\t 2013 & 1 & 31 & NA & 1130 & NA & NA & 1334 & NA & US & 1625 & NA     & LGA & CLT & NA &  544 & 11 & 30 & 2013-01-31 11:00:00\\\\\n\t 2013 & 1 & 31 & NA & 1500 & NA & NA & 1653 & NA & US &  720 & NA     & EWR & CLT & NA &  529 & 15 &  0 & 2013-01-31 15:00:00\\\\\n\t 2013 & 1 & 31 & NA &  600 & NA & NA &  703 & NA & US & 2114 & NA     & LGA & BOS & NA &  184 &  6 &  0 & 2013-01-31 06:00:00\\\\\n\t 2013 & 1 & 31 & NA &  700 & NA & NA &  807 & NA & US & 2116 & NA     & LGA & BOS & NA &  184 &  7 &  0 & 2013-01-31 07:00:00\\\\\n\t 2013 & 1 & 31 & NA &  800 & NA & NA &  908 & NA & US & 2118 & NA     & LGA & BOS & NA &  184 &  8 &  0 & 2013-01-31 08:00:00\\\\\n\t 2013 & 1 & 31 & NA & 1200 & NA & NA & 1305 & NA & US & 2126 & NA     & LGA & BOS & NA &  184 & 12 &  0 & 2013-01-31 12:00:00\\\\\n\t 2013 & 1 & 31 & NA & 1300 & NA & NA & 1406 & NA & US & 2128 & NA     & LGA & BOS & NA &  184 & 13 &  0 & 2013-01-31 13:00:00\\\\\n\t 2013 & 1 & 31 & NA & 1500 & NA & NA & 1608 & NA & US & 2132 & NA     & LGA & BOS & NA &  184 & 15 &  0 & 2013-01-31 15:00:00\\\\\n\t 2013 & 1 & 31 & NA & 2100 & NA & NA & 2207 & NA & US & 2144 & NA     & LGA & BOS & NA &  184 & 21 &  0 & 2013-01-31 21:00:00\\\\\n\t 2013 & 1 & 31 & NA &  700 & NA & NA &  807 & NA & US & 2163 & NA     & LGA & DCA & NA &  214 &  7 &  0 & 2013-01-31 07:00:00\\\\\n\t 2013 & 1 & 31 & NA &  800 & NA & NA &  917 & NA & US & 2165 & NA     & LGA & DCA & NA &  214 &  8 &  0 & 2013-01-31 08:00:00\\\\\n\t 2013 & 1 & 31 & NA &  900 & NA & NA & 1022 & NA & US & 2167 & NA     & LGA & DCA & NA &  214 &  9 &  0 & 2013-01-31 09:00:00\\\\\n\t 2013 & 1 & 31 & NA & 1510 & NA & NA & 1650 & NA & WN &  323 & N433LV & LGA & MKE & NA &  738 & 15 & 10 & 2013-01-31 15:00:00\\\\\n\t 2013 & 1 & 31 & NA & 1940 & NA & NA & 2100 & NA & WN &  633 & N295WN & EWR & MDW & NA &  711 & 19 & 40 & 2013-01-31 19:00:00\\\\\n\t 2013 & 1 & 31 & NA & 1435 & NA & NA & 1559 & NA & YV & 3750 & N507MJ & LGA & IAD & NA &  229 & 14 & 35 & 2013-01-31 14:00:00\\\\\n\t 2013 & 1 & 31 & NA & 1635 & NA & NA & 1810 & NA & MQ & 3695 & N544MQ & EWR & ORD & NA &  719 & 16 & 35 & 2013-01-31 16:00:00\\\\\n\t 2013 & 1 & 31 & NA &  825 & NA & NA &  945 & NA & MQ & 4418 & N855MQ & JFK & DCA & NA &  213 &  8 & 25 & 2013-01-31 08:00:00\\\\\n\t 2013 & 1 & 31 & NA & 1300 & NA & NA & 1450 & NA & MQ & 4426 & N736MQ & LGA & CMH & NA &  479 & 13 &  0 & 2013-01-31 13:00:00\\\\\n\t 2013 & 1 & 31 & NA & 1315 & NA & NA & 1520 & NA & MQ & 4564 & N737MQ & LGA & DTW & NA &  502 & 13 & 15 & 2013-01-31 13:00:00\\\\\n\t 2013 & 1 & 31 & NA &  920 & NA & NA & 1125 & NA & MQ & 4582 & N506MQ & LGA & CLT & NA &  544 &  9 & 20 & 2013-01-31 09:00:00\\\\\n\t 2013 & 1 & 31 & NA & 1325 & NA & NA & 1505 & NA & MQ & 4475 & N730MQ & LGA & RDU & NA &  431 & 13 & 25 & 2013-01-31 13:00:00\\\\\n\t 2013 & 1 & 31 & NA & 1200 & NA & NA & 1430 & NA & MQ & 4658 & N505MQ & LGA & ATL & NA &  762 & 12 &  0 & 2013-01-31 12:00:00\\\\\n\t 2013 & 1 & 31 & NA & 1410 & NA & NA & 1555 & NA & MQ & 4491 & N734MQ & LGA & CLE & NA &  419 & 14 & 10 & 2013-01-31 14:00:00\\\\\n\t 2013 & 1 & 31 & NA & 1446 & NA & NA & 1757 & NA & UA &  337 & NA     & LGA & IAH & NA & 1416 & 14 & 46 & 2013-01-31 14:00:00\\\\\n\t 2013 & 1 & 31 & NA &  625 & NA & NA &  934 & NA & UA & 1497 & NA     & LGA & IAH & NA & 1416 &  6 & 25 & 2013-01-31 06:00:00\\\\\n\\end{tabular}\n",
            "text/plain": [
              "       year month day dep_time sched_dep_time dep_delay arr_time sched_arr_time\n",
              "1      2013 12    1    13      2359            14        446      445          \n",
              "2      2013 12    1    17      2359            18        443      437          \n",
              "3      2013 12    1   453       500            -7        636      651          \n",
              "4      2013 12    1   520       515             5        749      808          \n",
              "5      2013 12    1   536       540            -4        845      850          \n",
              "6      2013 12    1   540       550           -10       1005     1027          \n",
              "7      2013 12    1   541       545            -4        734      755          \n",
              "8      2013 12    1   546       545             1        826      835          \n",
              "9      2013 12    1   549       600           -11        648      659          \n",
              "10     2013 12    1   550       600           -10        825      854          \n",
              "11     2013 12    1   554       600            -6        827      849          \n",
              "12     2013 12    1   554       601            -7        748      811          \n",
              "13     2013 12    1   554       600            -6        712      719          \n",
              "14     2013 12    1   554       600            -6        645      705          \n",
              "15     2013 12    1   555       600            -5        805      827          \n",
              "16     2013 12    1   556       600            -4        846      846          \n",
              "17     2013 12    1   556       600            -4        742      756          \n",
              "18     2013 12    1   557       600            -3        733      754          \n",
              "19     2013 12    1   557       600            -3        828      834          \n",
              "20     2013 12    1   558       600            -2        841      856          \n",
              "21     2013 12    1   558       600            -2        721      717          \n",
              "22     2013 12    1   558       600            -2        718      725          \n",
              "23     2013 12    1   558       600            -2        724      743          \n",
              "24     2013 12    1   559       600            -1        709      719          \n",
              "25     2013 12    1   600       600             0       1041     1043          \n",
              "26     2013 12    1   600       600             0        717      736          \n",
              "27     2013 12    1   602       600             2        724      738          \n",
              "28     2013 12    1   603       605            -2        731      735          \n",
              "29     2013 12    1   604       608            -4        818      829          \n",
              "30     2013 12    1   604       600             4        827      840          \n",
              "⋮      ⋮    ⋮     ⋮   ⋮        ⋮              ⋮         ⋮        ⋮             \n",
              "336747 2013 1     31  NA       1245           NA        NA       1600          \n",
              "336748 2013 1     31  NA       1240           NA        NA       1540          \n",
              "336749 2013 1     31  NA       1200           NA        NA       1304          \n",
              "336750 2013 1     31  NA       1415           NA        NA       1724          \n",
              "336751 2013 1     31  NA        825           NA        NA       1026          \n",
              "336752 2013 1     31  NA       1130           NA        NA       1334          \n",
              "336753 2013 1     31  NA       1500           NA        NA       1653          \n",
              "336754 2013 1     31  NA        600           NA        NA        703          \n",
              "336755 2013 1     31  NA        700           NA        NA        807          \n",
              "336756 2013 1     31  NA        800           NA        NA        908          \n",
              "336757 2013 1     31  NA       1200           NA        NA       1305          \n",
              "336758 2013 1     31  NA       1300           NA        NA       1406          \n",
              "336759 2013 1     31  NA       1500           NA        NA       1608          \n",
              "336760 2013 1     31  NA       2100           NA        NA       2207          \n",
              "336761 2013 1     31  NA        700           NA        NA        807          \n",
              "336762 2013 1     31  NA        800           NA        NA        917          \n",
              "336763 2013 1     31  NA        900           NA        NA       1022          \n",
              "336764 2013 1     31  NA       1510           NA        NA       1650          \n",
              "336765 2013 1     31  NA       1940           NA        NA       2100          \n",
              "336766 2013 1     31  NA       1435           NA        NA       1559          \n",
              "336767 2013 1     31  NA       1635           NA        NA       1810          \n",
              "336768 2013 1     31  NA        825           NA        NA        945          \n",
              "336769 2013 1     31  NA       1300           NA        NA       1450          \n",
              "336770 2013 1     31  NA       1315           NA        NA       1520          \n",
              "336771 2013 1     31  NA        920           NA        NA       1125          \n",
              "336772 2013 1     31  NA       1325           NA        NA       1505          \n",
              "336773 2013 1     31  NA       1200           NA        NA       1430          \n",
              "336774 2013 1     31  NA       1410           NA        NA       1555          \n",
              "336775 2013 1     31  NA       1446           NA        NA       1757          \n",
              "336776 2013 1     31  NA        625           NA        NA        934          \n",
              "       arr_delay carrier flight tailnum origin dest air_time distance hour\n",
              "1        1       B6       745   N715JB  JFK    PSE  195      1617     23  \n",
              "2        6       B6       839   N593JB  JFK    BQN  186      1576     23  \n",
              "3      -15       US      1895   N197UW  EWR    CLT   86       529      5  \n",
              "4      -19       UA      1487   N69804  EWR    IAH  193      1400      5  \n",
              "5       -5       AA      2243   N634AA  JFK    MIA  144      1089      5  \n",
              "6      -22       B6       939   N821JB  JFK    BQN  189      1576      5  \n",
              "7      -21       EV      3819   N13968  EWR    CVG   95       569      5  \n",
              "8       -9       UA      1441   N23708  LGA    IAH  204      1416      5  \n",
              "9      -11       US      2167   N945UW  LGA    DCA   42       214      6  \n",
              "10     -29       B6       605   N706JB  EWR    FLL  140      1065      6  \n",
              "11     -22       B6       353   N779JB  JFK    PBI  135      1028      6  \n",
              "12     -23       EV      4714   N14904  EWR    CLT   86       529      6  \n",
              "13      -7       EV      5747   N820AS  LGA    IAD   44       229      6  \n",
              "14     -20       US      1739   N947UW  LGA    PHL   36        96      6  \n",
              "15     -22       DL      1377   N386DA  LGA    ATL  112       762      6  \n",
              "16       0       B6       583   N583JB  JFK    MCO  134       944      6  \n",
              "17     -14       DL      1517   N332NB  EWR    DTW   87       488      6  \n",
              "18     -21       DL       731   N318NB  LGA    DTW   79       502      6  \n",
              "19      -6       EV      4141   N14148  EWR    ATL  121       746      6  \n",
              "20     -15       B6       371   N592JB  LGA    FLL  141      1076      6  \n",
              "21       4       EV      5716   N833AS  JFK    IAD   44       228      6  \n",
              "22      -7       WN      4262   N368SW  EWR    MDW  109       711      6  \n",
              "23     -19       UA      1038   N87507  EWR    CLE   62       404      6  \n",
              "24     -10       EV      6177   N13202  EWR    IAD   41       212      6  \n",
              "25      -2       B6      1403   N651JB  JFK    SJU  200      1598      6  \n",
              "26     -19       UA       691   N455UA  LGA    ORD  114       733      6  \n",
              "27     -14       UA      1198   N37466  EWR    ORD  115       719      6  \n",
              "28      -4       WN      3990   N8313F  LGA    MDW  106       725      6  \n",
              "29     -11       EV      4393   N31131  EWR    IND  114       645      6  \n",
              "30     -13       UA       338   N486UA  EWR    LAS  300      2227      6  \n",
              "⋮      ⋮         ⋮       ⋮      ⋮       ⋮      ⋮    ⋮        ⋮        ⋮   \n",
              "336747 NA        AA      2253   N3DTAA  LGA    MIA  NA       1096     12  \n",
              "336748 NA        AA      1853   N4YDAA  EWR    DFW  NA       1372     12  \n",
              "336749 NA        B6      1174   N203JB  EWR    BOS  NA        200     12  \n",
              "336750 NA        B6       377   N503JB  LGA    FLL  NA       1076     14  \n",
              "336751 NA        US       487   NA      JFK    CLT  NA        541      8  \n",
              "336752 NA        US      1625   NA      LGA    CLT  NA        544     11  \n",
              "336753 NA        US       720   NA      EWR    CLT  NA        529     15  \n",
              "336754 NA        US      2114   NA      LGA    BOS  NA        184      6  \n",
              "336755 NA        US      2116   NA      LGA    BOS  NA        184      7  \n",
              "336756 NA        US      2118   NA      LGA    BOS  NA        184      8  \n",
              "336757 NA        US      2126   NA      LGA    BOS  NA        184     12  \n",
              "336758 NA        US      2128   NA      LGA    BOS  NA        184     13  \n",
              "336759 NA        US      2132   NA      LGA    BOS  NA        184     15  \n",
              "336760 NA        US      2144   NA      LGA    BOS  NA        184     21  \n",
              "336761 NA        US      2163   NA      LGA    DCA  NA        214      7  \n",
              "336762 NA        US      2165   NA      LGA    DCA  NA        214      8  \n",
              "336763 NA        US      2167   NA      LGA    DCA  NA        214      9  \n",
              "336764 NA        WN       323   N433LV  LGA    MKE  NA        738     15  \n",
              "336765 NA        WN       633   N295WN  EWR    MDW  NA        711     19  \n",
              "336766 NA        YV      3750   N507MJ  LGA    IAD  NA        229     14  \n",
              "336767 NA        MQ      3695   N544MQ  EWR    ORD  NA        719     16  \n",
              "336768 NA        MQ      4418   N855MQ  JFK    DCA  NA        213      8  \n",
              "336769 NA        MQ      4426   N736MQ  LGA    CMH  NA        479     13  \n",
              "336770 NA        MQ      4564   N737MQ  LGA    DTW  NA        502     13  \n",
              "336771 NA        MQ      4582   N506MQ  LGA    CLT  NA        544      9  \n",
              "336772 NA        MQ      4475   N730MQ  LGA    RDU  NA        431     13  \n",
              "336773 NA        MQ      4658   N505MQ  LGA    ATL  NA        762     12  \n",
              "336774 NA        MQ      4491   N734MQ  LGA    CLE  NA        419     14  \n",
              "336775 NA        UA       337   NA      LGA    IAH  NA       1416     14  \n",
              "336776 NA        UA      1497   NA      LGA    IAH  NA       1416      6  \n",
              "       minute time_hour          \n",
              "1      59     2013-12-01 23:00:00\n",
              "2      59     2013-12-01 23:00:00\n",
              "3       0     2013-12-01 05:00:00\n",
              "4      15     2013-12-01 05:00:00\n",
              "5      40     2013-12-01 05:00:00\n",
              "6      50     2013-12-01 05:00:00\n",
              "7      45     2013-12-01 05:00:00\n",
              "8      45     2013-12-01 05:00:00\n",
              "9       0     2013-12-01 06:00:00\n",
              "10      0     2013-12-01 06:00:00\n",
              "11      0     2013-12-01 06:00:00\n",
              "12      1     2013-12-01 06:00:00\n",
              "13      0     2013-12-01 06:00:00\n",
              "14      0     2013-12-01 06:00:00\n",
              "15      0     2013-12-01 06:00:00\n",
              "16      0     2013-12-01 06:00:00\n",
              "17      0     2013-12-01 06:00:00\n",
              "18      0     2013-12-01 06:00:00\n",
              "19      0     2013-12-01 06:00:00\n",
              "20      0     2013-12-01 06:00:00\n",
              "21      0     2013-12-01 06:00:00\n",
              "22      0     2013-12-01 06:00:00\n",
              "23      0     2013-12-01 06:00:00\n",
              "24      0     2013-12-01 06:00:00\n",
              "25      0     2013-12-01 06:00:00\n",
              "26      0     2013-12-01 06:00:00\n",
              "27      0     2013-12-01 06:00:00\n",
              "28      5     2013-12-01 06:00:00\n",
              "29      8     2013-12-01 06:00:00\n",
              "30      0     2013-12-01 06:00:00\n",
              "⋮      ⋮      ⋮                  \n",
              "336747 45     2013-01-31 12:00:00\n",
              "336748 40     2013-01-31 12:00:00\n",
              "336749  0     2013-01-31 12:00:00\n",
              "336750 15     2013-01-31 14:00:00\n",
              "336751 25     2013-01-31 08:00:00\n",
              "336752 30     2013-01-31 11:00:00\n",
              "336753  0     2013-01-31 15:00:00\n",
              "336754  0     2013-01-31 06:00:00\n",
              "336755  0     2013-01-31 07:00:00\n",
              "336756  0     2013-01-31 08:00:00\n",
              "336757  0     2013-01-31 12:00:00\n",
              "336758  0     2013-01-31 13:00:00\n",
              "336759  0     2013-01-31 15:00:00\n",
              "336760  0     2013-01-31 21:00:00\n",
              "336761  0     2013-01-31 07:00:00\n",
              "336762  0     2013-01-31 08:00:00\n",
              "336763  0     2013-01-31 09:00:00\n",
              "336764 10     2013-01-31 15:00:00\n",
              "336765 40     2013-01-31 19:00:00\n",
              "336766 35     2013-01-31 14:00:00\n",
              "336767 35     2013-01-31 16:00:00\n",
              "336768 25     2013-01-31 08:00:00\n",
              "336769  0     2013-01-31 13:00:00\n",
              "336770 15     2013-01-31 13:00:00\n",
              "336771 20     2013-01-31 09:00:00\n",
              "336772 25     2013-01-31 13:00:00\n",
              "336773  0     2013-01-31 12:00:00\n",
              "336774 10     2013-01-31 14:00:00\n",
              "336775 46     2013-01-31 14:00:00\n",
              "336776 25     2013-01-31 06:00:00"
            ]
          },
          "metadata": {}
        }
      ],
      "source": [
        "# sort flights in ascending order by month and day\n",
        "arrange(flights,month) # NOTE: sort by month ascending"
      ]
    },
    {
      "cell_type": "code",
      "source": [
        "# flight that got delayed the most \n",
        "arrange(flights,desc(dep_delay))"
      ],
      "metadata": {
        "colab": {
          "base_uri": "https://localhost:8080/",
          "height": 1000
        },
        "id": "-dFsK_k0kbg9",
        "outputId": "51d17445-bd43-49b0-bb76-c30f889af600"
      },
      "execution_count": 32,
      "outputs": [
        {
          "output_type": "display_data",
          "data": {
            "text/html": [
              "<table class=\"dataframe\">\n",
              "<caption>A tibble: 336776 × 19</caption>\n",
              "<thead>\n",
              "\t<tr><th scope=col>year</th><th scope=col>month</th><th scope=col>day</th><th scope=col>dep_time</th><th scope=col>sched_dep_time</th><th scope=col>dep_delay</th><th scope=col>arr_time</th><th scope=col>sched_arr_time</th><th scope=col>arr_delay</th><th scope=col>carrier</th><th scope=col>flight</th><th scope=col>tailnum</th><th scope=col>origin</th><th scope=col>dest</th><th scope=col>air_time</th><th scope=col>distance</th><th scope=col>hour</th><th scope=col>minute</th><th scope=col>time_hour</th></tr>\n",
              "\t<tr><th scope=col>&lt;int&gt;</th><th scope=col>&lt;int&gt;</th><th scope=col>&lt;int&gt;</th><th scope=col>&lt;int&gt;</th><th scope=col>&lt;int&gt;</th><th scope=col>&lt;dbl&gt;</th><th scope=col>&lt;int&gt;</th><th scope=col>&lt;int&gt;</th><th scope=col>&lt;dbl&gt;</th><th scope=col>&lt;chr&gt;</th><th scope=col>&lt;int&gt;</th><th scope=col>&lt;chr&gt;</th><th scope=col>&lt;chr&gt;</th><th scope=col>&lt;chr&gt;</th><th scope=col>&lt;dbl&gt;</th><th scope=col>&lt;dbl&gt;</th><th scope=col>&lt;dbl&gt;</th><th scope=col>&lt;dbl&gt;</th><th scope=col>&lt;dttm&gt;</th></tr>\n",
              "</thead>\n",
              "<tbody>\n",
              "\t<tr><td>2013</td><td> 1</td><td> 9</td><td> 641</td><td> 900</td><td>1301</td><td>1242</td><td>1530</td><td>1272</td><td>HA</td><td>  51</td><td>N384HA</td><td>JFK</td><td>HNL</td><td>640</td><td>4983</td><td> 9</td><td> 0</td><td>2013-01-09 09:00:00</td></tr>\n",
              "\t<tr><td>2013</td><td> 6</td><td>15</td><td>1432</td><td>1935</td><td>1137</td><td>1607</td><td>2120</td><td>1127</td><td>MQ</td><td>3535</td><td>N504MQ</td><td>JFK</td><td>CMH</td><td> 74</td><td> 483</td><td>19</td><td>35</td><td>2013-06-15 19:00:00</td></tr>\n",
              "\t<tr><td>2013</td><td> 1</td><td>10</td><td>1121</td><td>1635</td><td>1126</td><td>1239</td><td>1810</td><td>1109</td><td>MQ</td><td>3695</td><td>N517MQ</td><td>EWR</td><td>ORD</td><td>111</td><td> 719</td><td>16</td><td>35</td><td>2013-01-10 16:00:00</td></tr>\n",
              "\t<tr><td>2013</td><td> 9</td><td>20</td><td>1139</td><td>1845</td><td>1014</td><td>1457</td><td>2210</td><td>1007</td><td>AA</td><td> 177</td><td>N338AA</td><td>JFK</td><td>SFO</td><td>354</td><td>2586</td><td>18</td><td>45</td><td>2013-09-20 18:00:00</td></tr>\n",
              "\t<tr><td>2013</td><td> 7</td><td>22</td><td> 845</td><td>1600</td><td>1005</td><td>1044</td><td>1815</td><td> 989</td><td>MQ</td><td>3075</td><td>N665MQ</td><td>JFK</td><td>CVG</td><td> 96</td><td> 589</td><td>16</td><td> 0</td><td>2013-07-22 16:00:00</td></tr>\n",
              "\t<tr><td>2013</td><td> 4</td><td>10</td><td>1100</td><td>1900</td><td> 960</td><td>1342</td><td>2211</td><td> 931</td><td>DL</td><td>2391</td><td>N959DL</td><td>JFK</td><td>TPA</td><td>139</td><td>1005</td><td>19</td><td> 0</td><td>2013-04-10 19:00:00</td></tr>\n",
              "\t<tr><td>2013</td><td> 3</td><td>17</td><td>2321</td><td> 810</td><td> 911</td><td> 135</td><td>1020</td><td> 915</td><td>DL</td><td>2119</td><td>N927DA</td><td>LGA</td><td>MSP</td><td>167</td><td>1020</td><td> 8</td><td>10</td><td>2013-03-17 08:00:00</td></tr>\n",
              "\t<tr><td>2013</td><td> 6</td><td>27</td><td> 959</td><td>1900</td><td> 899</td><td>1236</td><td>2226</td><td> 850</td><td>DL</td><td>2007</td><td>N3762Y</td><td>JFK</td><td>PDX</td><td>313</td><td>2454</td><td>19</td><td> 0</td><td>2013-06-27 19:00:00</td></tr>\n",
              "\t<tr><td>2013</td><td> 7</td><td>22</td><td>2257</td><td> 759</td><td> 898</td><td> 121</td><td>1026</td><td> 895</td><td>DL</td><td>2047</td><td>N6716C</td><td>LGA</td><td>ATL</td><td>109</td><td> 762</td><td> 7</td><td>59</td><td>2013-07-22 07:00:00</td></tr>\n",
              "\t<tr><td>2013</td><td>12</td><td> 5</td><td> 756</td><td>1700</td><td> 896</td><td>1058</td><td>2020</td><td> 878</td><td>AA</td><td> 172</td><td>N5DMAA</td><td>EWR</td><td>MIA</td><td>149</td><td>1085</td><td>17</td><td> 0</td><td>2013-12-05 17:00:00</td></tr>\n",
              "\t<tr><td>2013</td><td> 5</td><td> 3</td><td>1133</td><td>2055</td><td> 878</td><td>1250</td><td>2215</td><td> 875</td><td>MQ</td><td>3744</td><td>N523MQ</td><td>EWR</td><td>ORD</td><td>112</td><td> 719</td><td>20</td><td>55</td><td>2013-05-03 20:00:00</td></tr>\n",
              "\t<tr><td>2013</td><td> 1</td><td> 1</td><td> 848</td><td>1835</td><td> 853</td><td>1001</td><td>1950</td><td> 851</td><td>MQ</td><td>3944</td><td>N942MQ</td><td>JFK</td><td>BWI</td><td> 41</td><td> 184</td><td>18</td><td>35</td><td>2013-01-01 18:00:00</td></tr>\n",
              "\t<tr><td>2013</td><td> 2</td><td>10</td><td>2243</td><td> 830</td><td> 853</td><td> 100</td><td>1106</td><td> 834</td><td>F9</td><td> 835</td><td>N203FR</td><td>LGA</td><td>DEN</td><td>233</td><td>1620</td><td> 8</td><td>30</td><td>2013-02-10 08:00:00</td></tr>\n",
              "\t<tr><td>2013</td><td> 5</td><td>19</td><td> 713</td><td>1700</td><td> 853</td><td>1007</td><td>1955</td><td> 852</td><td>AA</td><td> 257</td><td>N3HEAA</td><td>JFK</td><td>LAS</td><td>323</td><td>2248</td><td>17</td><td> 0</td><td>2013-05-19 17:00:00</td></tr>\n",
              "\t<tr><td>2013</td><td>12</td><td>19</td><td> 734</td><td>1725</td><td> 849</td><td>1046</td><td>2039</td><td> 847</td><td>DL</td><td>1223</td><td>N375NC</td><td>EWR</td><td>SLC</td><td>290</td><td>1969</td><td>17</td><td>25</td><td>2013-12-19 17:00:00</td></tr>\n",
              "\t<tr><td>2013</td><td>12</td><td>17</td><td> 705</td><td>1700</td><td> 845</td><td>1026</td><td>2020</td><td> 846</td><td>AA</td><td> 172</td><td>N5EMAA</td><td>EWR</td><td>MIA</td><td>145</td><td>1085</td><td>17</td><td> 0</td><td>2013-12-17 17:00:00</td></tr>\n",
              "\t<tr><td>2013</td><td>12</td><td>14</td><td> 830</td><td>1845</td><td> 825</td><td>1210</td><td>2154</td><td> 856</td><td>DL</td><td>2391</td><td>N939DL</td><td>JFK</td><td>TPA</td><td>173</td><td>1005</td><td>18</td><td>45</td><td>2013-12-14 18:00:00</td></tr>\n",
              "\t<tr><td>2013</td><td> 4</td><td>19</td><td> 912</td><td>1940</td><td> 812</td><td>1228</td><td>2247</td><td> 821</td><td>DL</td><td>1435</td><td>N900DE</td><td>LGA</td><td>TPA</td><td>174</td><td>1010</td><td>19</td><td>40</td><td>2013-04-19 19:00:00</td></tr>\n",
              "\t<tr><td>2013</td><td> 6</td><td>27</td><td> 753</td><td>1830</td><td> 803</td><td> 937</td><td>2015</td><td> 802</td><td>AA</td><td>2019</td><td>N571AA</td><td>LGA</td><td>STL</td><td>134</td><td> 888</td><td>18</td><td>30</td><td>2013-06-27 18:00:00</td></tr>\n",
              "\t<tr><td>2013</td><td> 3</td><td>18</td><td>1020</td><td>2100</td><td> 800</td><td>1336</td><td>  32</td><td> 784</td><td>DL</td><td>2363</td><td>N624AG</td><td>JFK</td><td>LAX</td><td>335</td><td>2475</td><td>21</td><td> 0</td><td>2013-03-18 21:00:00</td></tr>\n",
              "\t<tr><td>2013</td><td>11</td><td> 3</td><td> 603</td><td>1645</td><td> 798</td><td> 829</td><td>1913</td><td> 796</td><td>DL</td><td>2042</td><td>N990AT</td><td>EWR</td><td>ATL</td><td>109</td><td> 746</td><td>16</td><td>45</td><td>2013-11-03 16:00:00</td></tr>\n",
              "\t<tr><td>2013</td><td> 4</td><td>19</td><td> 617</td><td>1700</td><td> 797</td><td> 858</td><td>1955</td><td> 783</td><td>AA</td><td> 257</td><td>N3GJAA</td><td>JFK</td><td>LAS</td><td>313</td><td>2248</td><td>17</td><td> 0</td><td>2013-04-19 17:00:00</td></tr>\n",
              "\t<tr><td>2013</td><td> 6</td><td>27</td><td> 615</td><td>1705</td><td> 790</td><td> 853</td><td>2004</td><td> 769</td><td>DL</td><td> 503</td><td>N372DA</td><td>JFK</td><td>SAN</td><td>312</td><td>2446</td><td>17</td><td> 5</td><td>2013-06-27 17:00:00</td></tr>\n",
              "\t<tr><td>2013</td><td> 2</td><td>19</td><td>2324</td><td>1016</td><td> 788</td><td> 114</td><td>1227</td><td> 767</td><td>DL</td><td>2319</td><td>N324US</td><td>LGA</td><td>MSP</td><td>136</td><td>1020</td><td>10</td><td>16</td><td>2013-02-19 10:00:00</td></tr>\n",
              "\t<tr><td>2013</td><td> 6</td><td>27</td><td> 732</td><td>1825</td><td> 787</td><td> 932</td><td>2032</td><td> 780</td><td>DL</td><td>1715</td><td>N335NB</td><td>LGA</td><td>MSY</td><td>160</td><td>1183</td><td>18</td><td>25</td><td>2013-06-27 18:00:00</td></tr>\n",
              "\t<tr><td>2013</td><td> 2</td><td>24</td><td>1921</td><td> 615</td><td> 786</td><td>2135</td><td> 842</td><td> 773</td><td>DL</td><td> 575</td><td>N348NW</td><td>EWR</td><td>ATL</td><td>111</td><td> 746</td><td> 6</td><td>15</td><td>2013-02-24 06:00:00</td></tr>\n",
              "\t<tr><td>2013</td><td> 4</td><td>19</td><td> 606</td><td>1725</td><td> 761</td><td> 923</td><td>2020</td><td> 783</td><td>AA</td><td>1901</td><td>N3DGAA</td><td>JFK</td><td>IAH</td><td>222</td><td>1417</td><td>17</td><td>25</td><td>2013-04-19 17:00:00</td></tr>\n",
              "\t<tr><td>2013</td><td> 4</td><td>19</td><td> 758</td><td>1925</td><td> 753</td><td>1049</td><td>2225</td><td> 744</td><td>DL</td><td>1485</td><td>N927DA</td><td>LGA</td><td>MCO</td><td>149</td><td> 950</td><td>19</td><td>25</td><td>2013-04-19 19:00:00</td></tr>\n",
              "\t<tr><td>2013</td><td> 2</td><td>16</td><td> 757</td><td>1930</td><td> 747</td><td>1013</td><td>2149</td><td> 744</td><td>9E</td><td>3798</td><td>N8940E</td><td>JFK</td><td>CLT</td><td> 85</td><td> 541</td><td>19</td><td>30</td><td>2013-02-16 19:00:00</td></tr>\n",
              "\t<tr><td>2013</td><td>10</td><td>14</td><td>2042</td><td> 900</td><td> 702</td><td>2255</td><td>1127</td><td> 688</td><td>DL</td><td> 502</td><td>N943DL</td><td>EWR</td><td>ATL</td><td> 98</td><td> 746</td><td> 9</td><td> 0</td><td>2013-10-14 09:00:00</td></tr>\n",
              "\t<tr><td>⋮</td><td>⋮</td><td>⋮</td><td>⋮</td><td>⋮</td><td>⋮</td><td>⋮</td><td>⋮</td><td>⋮</td><td>⋮</td><td>⋮</td><td>⋮</td><td>⋮</td><td>⋮</td><td>⋮</td><td>⋮</td><td>⋮</td><td>⋮</td><td>⋮</td></tr>\n",
              "\t<tr><td>2013</td><td>9</td><td>24</td><td>NA</td><td>1625</td><td>NA</td><td>NA</td><td>1750</td><td>NA</td><td>MQ</td><td>3622</td><td>N524MQ</td><td>LGA</td><td>BNA</td><td>NA</td><td> 764</td><td>16</td><td>25</td><td>2013-09-24 16:00:00</td></tr>\n",
              "\t<tr><td>2013</td><td>9</td><td>25</td><td>NA</td><td>1259</td><td>NA</td><td>NA</td><td>1507</td><td>NA</td><td>EV</td><td>5207</td><td>N615QX</td><td>LGA</td><td>CLT</td><td>NA</td><td> 544</td><td>12</td><td>59</td><td>2013-09-25 12:00:00</td></tr>\n",
              "\t<tr><td>2013</td><td>9</td><td>25</td><td>NA</td><td> 845</td><td>NA</td><td>NA</td><td>1018</td><td>NA</td><td>EV</td><td>5286</td><td>N615QX</td><td>LGA</td><td>BTV</td><td>NA</td><td> 258</td><td> 8</td><td>45</td><td>2013-09-25 08:00:00</td></tr>\n",
              "\t<tr><td>2013</td><td>9</td><td>25</td><td>NA</td><td>1755</td><td>NA</td><td>NA</td><td>1932</td><td>NA</td><td>EV</td><td>5287</td><td>N722EV</td><td>LGA</td><td>MSN</td><td>NA</td><td> 812</td><td>17</td><td>55</td><td>2013-09-25 17:00:00</td></tr>\n",
              "\t<tr><td>2013</td><td>9</td><td>25</td><td>NA</td><td> 600</td><td>NA</td><td>NA</td><td> 716</td><td>NA</td><td>EV</td><td>5716</td><td>N877AS</td><td>JFK</td><td>IAD</td><td>NA</td><td> 228</td><td> 6</td><td> 0</td><td>2013-09-25 06:00:00</td></tr>\n",
              "\t<tr><td>2013</td><td>9</td><td>25</td><td>NA</td><td> 836</td><td>NA</td><td>NA</td><td> 944</td><td>NA</td><td>B6</td><td>2280</td><td>N258JB</td><td>EWR</td><td>BOS</td><td>NA</td><td> 200</td><td> 8</td><td>36</td><td>2013-09-25 08:00:00</td></tr>\n",
              "\t<tr><td>2013</td><td>9</td><td>25</td><td>NA</td><td>1300</td><td>NA</td><td>NA</td><td>1409</td><td>NA</td><td>US</td><td>2148</td><td>NA    </td><td>LGA</td><td>BOS</td><td>NA</td><td> 184</td><td>13</td><td> 0</td><td>2013-09-25 13:00:00</td></tr>\n",
              "\t<tr><td>2013</td><td>9</td><td>25</td><td>NA</td><td>1900</td><td>NA</td><td>NA</td><td>2014</td><td>NA</td><td>US</td><td>2160</td><td>NA    </td><td>LGA</td><td>BOS</td><td>NA</td><td> 184</td><td>19</td><td> 0</td><td>2013-09-25 19:00:00</td></tr>\n",
              "\t<tr><td>2013</td><td>9</td><td>25</td><td>NA</td><td>1300</td><td>NA</td><td>NA</td><td>1450</td><td>NA</td><td>MQ</td><td>3388</td><td>N817MQ</td><td>LGA</td><td>CMH</td><td>NA</td><td> 479</td><td>13</td><td> 0</td><td>2013-09-25 13:00:00</td></tr>\n",
              "\t<tr><td>2013</td><td>9</td><td>25</td><td>NA</td><td>1655</td><td>NA</td><td>NA</td><td>1840</td><td>NA</td><td>MQ</td><td>3411</td><td>N735MQ</td><td>LGA</td><td>RDU</td><td>NA</td><td> 431</td><td>16</td><td>55</td><td>2013-09-25 16:00:00</td></tr>\n",
              "\t<tr><td>2013</td><td>9</td><td>25</td><td>NA</td><td>1559</td><td>NA</td><td>NA</td><td>1719</td><td>NA</td><td>MQ</td><td>3748</td><td>N530MQ</td><td>EWR</td><td>ORD</td><td>NA</td><td> 719</td><td>15</td><td>59</td><td>2013-09-25 15:00:00</td></tr>\n",
              "\t<tr><td>2013</td><td>9</td><td>26</td><td>NA</td><td> 915</td><td>NA</td><td>NA</td><td>1141</td><td>NA</td><td>EV</td><td>5109</td><td>N748EV</td><td>LGA</td><td>CHS</td><td>NA</td><td> 641</td><td> 9</td><td>15</td><td>2013-09-26 09:00:00</td></tr>\n",
              "\t<tr><td>2013</td><td>9</td><td>26</td><td>NA</td><td>1400</td><td>NA</td><td>NA</td><td>1512</td><td>NA</td><td>US</td><td>2183</td><td>NA    </td><td>LGA</td><td>DCA</td><td>NA</td><td> 214</td><td>14</td><td> 0</td><td>2013-09-26 14:00:00</td></tr>\n",
              "\t<tr><td>2013</td><td>9</td><td>26</td><td>NA</td><td>1240</td><td>NA</td><td>NA</td><td>1525</td><td>NA</td><td>WN</td><td>4720</td><td>N691WN</td><td>EWR</td><td>HOU</td><td>NA</td><td>1411</td><td>12</td><td>40</td><td>2013-09-26 12:00:00</td></tr>\n",
              "\t<tr><td>2013</td><td>9</td><td>27</td><td>NA</td><td> 600</td><td>NA</td><td>NA</td><td> 730</td><td>NA</td><td>AA</td><td> 301</td><td>N584AA</td><td>LGA</td><td>ORD</td><td>NA</td><td> 733</td><td> 6</td><td> 0</td><td>2013-09-27 06:00:00</td></tr>\n",
              "\t<tr><td>2013</td><td>9</td><td>27</td><td>NA</td><td>2100</td><td>NA</td><td>NA</td><td>2211</td><td>NA</td><td>US</td><td>2164</td><td>NA    </td><td>LGA</td><td>BOS</td><td>NA</td><td> 184</td><td>21</td><td> 0</td><td>2013-09-27 21:00:00</td></tr>\n",
              "\t<tr><td>2013</td><td>9</td><td>27</td><td>NA</td><td>1329</td><td>NA</td><td>NA</td><td>1444</td><td>NA</td><td>MQ</td><td>3760</td><td>N505MQ</td><td>EWR</td><td>ORD</td><td>NA</td><td> 719</td><td>13</td><td>29</td><td>2013-09-27 13:00:00</td></tr>\n",
              "\t<tr><td>2013</td><td>9</td><td>27</td><td>NA</td><td>1600</td><td>NA</td><td>NA</td><td>1739</td><td>NA</td><td>UA</td><td> 269</td><td>NA    </td><td>LGA</td><td>ORD</td><td>NA</td><td> 733</td><td>16</td><td> 0</td><td>2013-09-27 16:00:00</td></tr>\n",
              "\t<tr><td>2013</td><td>9</td><td>28</td><td>NA</td><td>1803</td><td>NA</td><td>NA</td><td>1927</td><td>NA</td><td>EV</td><td>5563</td><td>N724EV</td><td>LGA</td><td>BTV</td><td>NA</td><td> 258</td><td>18</td><td> 3</td><td>2013-09-28 18:00:00</td></tr>\n",
              "\t<tr><td>2013</td><td>9</td><td>28</td><td>NA</td><td> 910</td><td>NA</td><td>NA</td><td>1220</td><td>NA</td><td>AA</td><td>   1</td><td>N320AA</td><td>JFK</td><td>LAX</td><td>NA</td><td>2475</td><td> 9</td><td>10</td><td>2013-09-28 09:00:00</td></tr>\n",
              "\t<tr><td>2013</td><td>9</td><td>28</td><td>NA</td><td>1635</td><td>NA</td><td>NA</td><td>1827</td><td>NA</td><td>US</td><td> 581</td><td>NA    </td><td>EWR</td><td>CLT</td><td>NA</td><td> 529</td><td>16</td><td>35</td><td>2013-09-28 16:00:00</td></tr>\n",
              "\t<tr><td>2013</td><td>9</td><td>29</td><td>NA</td><td>2054</td><td>NA</td><td>NA</td><td>2302</td><td>NA</td><td>EV</td><td>4536</td><td>N13988</td><td>EWR</td><td>CVG</td><td>NA</td><td> 569</td><td>20</td><td>54</td><td>2013-09-29 20:00:00</td></tr>\n",
              "\t<tr><td>2013</td><td>9</td><td>29</td><td>NA</td><td>1830</td><td>NA</td><td>NA</td><td>2010</td><td>NA</td><td>MQ</td><td>3134</td><td>N508MQ</td><td>EWR</td><td>ORD</td><td>NA</td><td> 719</td><td>18</td><td>30</td><td>2013-09-29 18:00:00</td></tr>\n",
              "\t<tr><td>2013</td><td>9</td><td>29</td><td>NA</td><td> 700</td><td>NA</td><td>NA</td><td> 833</td><td>NA</td><td>UA</td><td> 331</td><td>NA    </td><td>LGA</td><td>ORD</td><td>NA</td><td> 733</td><td> 7</td><td> 0</td><td>2013-09-29 07:00:00</td></tr>\n",
              "\t<tr><td>2013</td><td>9</td><td>30</td><td>NA</td><td>1842</td><td>NA</td><td>NA</td><td>2019</td><td>NA</td><td>EV</td><td>5274</td><td>N740EV</td><td>LGA</td><td>BNA</td><td>NA</td><td> 764</td><td>18</td><td>42</td><td>2013-09-30 18:00:00</td></tr>\n",
              "\t<tr><td>2013</td><td>9</td><td>30</td><td>NA</td><td>1455</td><td>NA</td><td>NA</td><td>1634</td><td>NA</td><td>9E</td><td>3393</td><td>NA    </td><td>JFK</td><td>DCA</td><td>NA</td><td> 213</td><td>14</td><td>55</td><td>2013-09-30 14:00:00</td></tr>\n",
              "\t<tr><td>2013</td><td>9</td><td>30</td><td>NA</td><td>2200</td><td>NA</td><td>NA</td><td>2312</td><td>NA</td><td>9E</td><td>3525</td><td>NA    </td><td>LGA</td><td>SYR</td><td>NA</td><td> 198</td><td>22</td><td> 0</td><td>2013-09-30 22:00:00</td></tr>\n",
              "\t<tr><td>2013</td><td>9</td><td>30</td><td>NA</td><td>1210</td><td>NA</td><td>NA</td><td>1330</td><td>NA</td><td>MQ</td><td>3461</td><td>N535MQ</td><td>LGA</td><td>BNA</td><td>NA</td><td> 764</td><td>12</td><td>10</td><td>2013-09-30 12:00:00</td></tr>\n",
              "\t<tr><td>2013</td><td>9</td><td>30</td><td>NA</td><td>1159</td><td>NA</td><td>NA</td><td>1344</td><td>NA</td><td>MQ</td><td>3572</td><td>N511MQ</td><td>LGA</td><td>CLE</td><td>NA</td><td> 419</td><td>11</td><td>59</td><td>2013-09-30 11:00:00</td></tr>\n",
              "\t<tr><td>2013</td><td>9</td><td>30</td><td>NA</td><td> 840</td><td>NA</td><td>NA</td><td>1020</td><td>NA</td><td>MQ</td><td>3531</td><td>N839MQ</td><td>LGA</td><td>RDU</td><td>NA</td><td> 431</td><td> 8</td><td>40</td><td>2013-09-30 08:00:00</td></tr>\n",
              "</tbody>\n",
              "</table>\n"
            ],
            "text/markdown": "\nA tibble: 336776 × 19\n\n| year &lt;int&gt; | month &lt;int&gt; | day &lt;int&gt; | dep_time &lt;int&gt; | sched_dep_time &lt;int&gt; | dep_delay &lt;dbl&gt; | arr_time &lt;int&gt; | sched_arr_time &lt;int&gt; | arr_delay &lt;dbl&gt; | carrier &lt;chr&gt; | flight &lt;int&gt; | tailnum &lt;chr&gt; | origin &lt;chr&gt; | dest &lt;chr&gt; | air_time &lt;dbl&gt; | distance &lt;dbl&gt; | hour &lt;dbl&gt; | minute &lt;dbl&gt; | time_hour &lt;dttm&gt; |\n|---|---|---|---|---|---|---|---|---|---|---|---|---|---|---|---|---|---|---|\n| 2013 |  1 |  9 |  641 |  900 | 1301 | 1242 | 1530 | 1272 | HA |   51 | N384HA | JFK | HNL | 640 | 4983 |  9 |  0 | 2013-01-09 09:00:00 |\n| 2013 |  6 | 15 | 1432 | 1935 | 1137 | 1607 | 2120 | 1127 | MQ | 3535 | N504MQ | JFK | CMH |  74 |  483 | 19 | 35 | 2013-06-15 19:00:00 |\n| 2013 |  1 | 10 | 1121 | 1635 | 1126 | 1239 | 1810 | 1109 | MQ | 3695 | N517MQ | EWR | ORD | 111 |  719 | 16 | 35 | 2013-01-10 16:00:00 |\n| 2013 |  9 | 20 | 1139 | 1845 | 1014 | 1457 | 2210 | 1007 | AA |  177 | N338AA | JFK | SFO | 354 | 2586 | 18 | 45 | 2013-09-20 18:00:00 |\n| 2013 |  7 | 22 |  845 | 1600 | 1005 | 1044 | 1815 |  989 | MQ | 3075 | N665MQ | JFK | CVG |  96 |  589 | 16 |  0 | 2013-07-22 16:00:00 |\n| 2013 |  4 | 10 | 1100 | 1900 |  960 | 1342 | 2211 |  931 | DL | 2391 | N959DL | JFK | TPA | 139 | 1005 | 19 |  0 | 2013-04-10 19:00:00 |\n| 2013 |  3 | 17 | 2321 |  810 |  911 |  135 | 1020 |  915 | DL | 2119 | N927DA | LGA | MSP | 167 | 1020 |  8 | 10 | 2013-03-17 08:00:00 |\n| 2013 |  6 | 27 |  959 | 1900 |  899 | 1236 | 2226 |  850 | DL | 2007 | N3762Y | JFK | PDX | 313 | 2454 | 19 |  0 | 2013-06-27 19:00:00 |\n| 2013 |  7 | 22 | 2257 |  759 |  898 |  121 | 1026 |  895 | DL | 2047 | N6716C | LGA | ATL | 109 |  762 |  7 | 59 | 2013-07-22 07:00:00 |\n| 2013 | 12 |  5 |  756 | 1700 |  896 | 1058 | 2020 |  878 | AA |  172 | N5DMAA | EWR | MIA | 149 | 1085 | 17 |  0 | 2013-12-05 17:00:00 |\n| 2013 |  5 |  3 | 1133 | 2055 |  878 | 1250 | 2215 |  875 | MQ | 3744 | N523MQ | EWR | ORD | 112 |  719 | 20 | 55 | 2013-05-03 20:00:00 |\n| 2013 |  1 |  1 |  848 | 1835 |  853 | 1001 | 1950 |  851 | MQ | 3944 | N942MQ | JFK | BWI |  41 |  184 | 18 | 35 | 2013-01-01 18:00:00 |\n| 2013 |  2 | 10 | 2243 |  830 |  853 |  100 | 1106 |  834 | F9 |  835 | N203FR | LGA | DEN | 233 | 1620 |  8 | 30 | 2013-02-10 08:00:00 |\n| 2013 |  5 | 19 |  713 | 1700 |  853 | 1007 | 1955 |  852 | AA |  257 | N3HEAA | JFK | LAS | 323 | 2248 | 17 |  0 | 2013-05-19 17:00:00 |\n| 2013 | 12 | 19 |  734 | 1725 |  849 | 1046 | 2039 |  847 | DL | 1223 | N375NC | EWR | SLC | 290 | 1969 | 17 | 25 | 2013-12-19 17:00:00 |\n| 2013 | 12 | 17 |  705 | 1700 |  845 | 1026 | 2020 |  846 | AA |  172 | N5EMAA | EWR | MIA | 145 | 1085 | 17 |  0 | 2013-12-17 17:00:00 |\n| 2013 | 12 | 14 |  830 | 1845 |  825 | 1210 | 2154 |  856 | DL | 2391 | N939DL | JFK | TPA | 173 | 1005 | 18 | 45 | 2013-12-14 18:00:00 |\n| 2013 |  4 | 19 |  912 | 1940 |  812 | 1228 | 2247 |  821 | DL | 1435 | N900DE | LGA | TPA | 174 | 1010 | 19 | 40 | 2013-04-19 19:00:00 |\n| 2013 |  6 | 27 |  753 | 1830 |  803 |  937 | 2015 |  802 | AA | 2019 | N571AA | LGA | STL | 134 |  888 | 18 | 30 | 2013-06-27 18:00:00 |\n| 2013 |  3 | 18 | 1020 | 2100 |  800 | 1336 |   32 |  784 | DL | 2363 | N624AG | JFK | LAX | 335 | 2475 | 21 |  0 | 2013-03-18 21:00:00 |\n| 2013 | 11 |  3 |  603 | 1645 |  798 |  829 | 1913 |  796 | DL | 2042 | N990AT | EWR | ATL | 109 |  746 | 16 | 45 | 2013-11-03 16:00:00 |\n| 2013 |  4 | 19 |  617 | 1700 |  797 |  858 | 1955 |  783 | AA |  257 | N3GJAA | JFK | LAS | 313 | 2248 | 17 |  0 | 2013-04-19 17:00:00 |\n| 2013 |  6 | 27 |  615 | 1705 |  790 |  853 | 2004 |  769 | DL |  503 | N372DA | JFK | SAN | 312 | 2446 | 17 |  5 | 2013-06-27 17:00:00 |\n| 2013 |  2 | 19 | 2324 | 1016 |  788 |  114 | 1227 |  767 | DL | 2319 | N324US | LGA | MSP | 136 | 1020 | 10 | 16 | 2013-02-19 10:00:00 |\n| 2013 |  6 | 27 |  732 | 1825 |  787 |  932 | 2032 |  780 | DL | 1715 | N335NB | LGA | MSY | 160 | 1183 | 18 | 25 | 2013-06-27 18:00:00 |\n| 2013 |  2 | 24 | 1921 |  615 |  786 | 2135 |  842 |  773 | DL |  575 | N348NW | EWR | ATL | 111 |  746 |  6 | 15 | 2013-02-24 06:00:00 |\n| 2013 |  4 | 19 |  606 | 1725 |  761 |  923 | 2020 |  783 | AA | 1901 | N3DGAA | JFK | IAH | 222 | 1417 | 17 | 25 | 2013-04-19 17:00:00 |\n| 2013 |  4 | 19 |  758 | 1925 |  753 | 1049 | 2225 |  744 | DL | 1485 | N927DA | LGA | MCO | 149 |  950 | 19 | 25 | 2013-04-19 19:00:00 |\n| 2013 |  2 | 16 |  757 | 1930 |  747 | 1013 | 2149 |  744 | 9E | 3798 | N8940E | JFK | CLT |  85 |  541 | 19 | 30 | 2013-02-16 19:00:00 |\n| 2013 | 10 | 14 | 2042 |  900 |  702 | 2255 | 1127 |  688 | DL |  502 | N943DL | EWR | ATL |  98 |  746 |  9 |  0 | 2013-10-14 09:00:00 |\n| ⋮ | ⋮ | ⋮ | ⋮ | ⋮ | ⋮ | ⋮ | ⋮ | ⋮ | ⋮ | ⋮ | ⋮ | ⋮ | ⋮ | ⋮ | ⋮ | ⋮ | ⋮ | ⋮ |\n| 2013 | 9 | 24 | NA | 1625 | NA | NA | 1750 | NA | MQ | 3622 | N524MQ | LGA | BNA | NA |  764 | 16 | 25 | 2013-09-24 16:00:00 |\n| 2013 | 9 | 25 | NA | 1259 | NA | NA | 1507 | NA | EV | 5207 | N615QX | LGA | CLT | NA |  544 | 12 | 59 | 2013-09-25 12:00:00 |\n| 2013 | 9 | 25 | NA |  845 | NA | NA | 1018 | NA | EV | 5286 | N615QX | LGA | BTV | NA |  258 |  8 | 45 | 2013-09-25 08:00:00 |\n| 2013 | 9 | 25 | NA | 1755 | NA | NA | 1932 | NA | EV | 5287 | N722EV | LGA | MSN | NA |  812 | 17 | 55 | 2013-09-25 17:00:00 |\n| 2013 | 9 | 25 | NA |  600 | NA | NA |  716 | NA | EV | 5716 | N877AS | JFK | IAD | NA |  228 |  6 |  0 | 2013-09-25 06:00:00 |\n| 2013 | 9 | 25 | NA |  836 | NA | NA |  944 | NA | B6 | 2280 | N258JB | EWR | BOS | NA |  200 |  8 | 36 | 2013-09-25 08:00:00 |\n| 2013 | 9 | 25 | NA | 1300 | NA | NA | 1409 | NA | US | 2148 | NA     | LGA | BOS | NA |  184 | 13 |  0 | 2013-09-25 13:00:00 |\n| 2013 | 9 | 25 | NA | 1900 | NA | NA | 2014 | NA | US | 2160 | NA     | LGA | BOS | NA |  184 | 19 |  0 | 2013-09-25 19:00:00 |\n| 2013 | 9 | 25 | NA | 1300 | NA | NA | 1450 | NA | MQ | 3388 | N817MQ | LGA | CMH | NA |  479 | 13 |  0 | 2013-09-25 13:00:00 |\n| 2013 | 9 | 25 | NA | 1655 | NA | NA | 1840 | NA | MQ | 3411 | N735MQ | LGA | RDU | NA |  431 | 16 | 55 | 2013-09-25 16:00:00 |\n| 2013 | 9 | 25 | NA | 1559 | NA | NA | 1719 | NA | MQ | 3748 | N530MQ | EWR | ORD | NA |  719 | 15 | 59 | 2013-09-25 15:00:00 |\n| 2013 | 9 | 26 | NA |  915 | NA | NA | 1141 | NA | EV | 5109 | N748EV | LGA | CHS | NA |  641 |  9 | 15 | 2013-09-26 09:00:00 |\n| 2013 | 9 | 26 | NA | 1400 | NA | NA | 1512 | NA | US | 2183 | NA     | LGA | DCA | NA |  214 | 14 |  0 | 2013-09-26 14:00:00 |\n| 2013 | 9 | 26 | NA | 1240 | NA | NA | 1525 | NA | WN | 4720 | N691WN | EWR | HOU | NA | 1411 | 12 | 40 | 2013-09-26 12:00:00 |\n| 2013 | 9 | 27 | NA |  600 | NA | NA |  730 | NA | AA |  301 | N584AA | LGA | ORD | NA |  733 |  6 |  0 | 2013-09-27 06:00:00 |\n| 2013 | 9 | 27 | NA | 2100 | NA | NA | 2211 | NA | US | 2164 | NA     | LGA | BOS | NA |  184 | 21 |  0 | 2013-09-27 21:00:00 |\n| 2013 | 9 | 27 | NA | 1329 | NA | NA | 1444 | NA | MQ | 3760 | N505MQ | EWR | ORD | NA |  719 | 13 | 29 | 2013-09-27 13:00:00 |\n| 2013 | 9 | 27 | NA | 1600 | NA | NA | 1739 | NA | UA |  269 | NA     | LGA | ORD | NA |  733 | 16 |  0 | 2013-09-27 16:00:00 |\n| 2013 | 9 | 28 | NA | 1803 | NA | NA | 1927 | NA | EV | 5563 | N724EV | LGA | BTV | NA |  258 | 18 |  3 | 2013-09-28 18:00:00 |\n| 2013 | 9 | 28 | NA |  910 | NA | NA | 1220 | NA | AA |    1 | N320AA | JFK | LAX | NA | 2475 |  9 | 10 | 2013-09-28 09:00:00 |\n| 2013 | 9 | 28 | NA | 1635 | NA | NA | 1827 | NA | US |  581 | NA     | EWR | CLT | NA |  529 | 16 | 35 | 2013-09-28 16:00:00 |\n| 2013 | 9 | 29 | NA | 2054 | NA | NA | 2302 | NA | EV | 4536 | N13988 | EWR | CVG | NA |  569 | 20 | 54 | 2013-09-29 20:00:00 |\n| 2013 | 9 | 29 | NA | 1830 | NA | NA | 2010 | NA | MQ | 3134 | N508MQ | EWR | ORD | NA |  719 | 18 | 30 | 2013-09-29 18:00:00 |\n| 2013 | 9 | 29 | NA |  700 | NA | NA |  833 | NA | UA |  331 | NA     | LGA | ORD | NA |  733 |  7 |  0 | 2013-09-29 07:00:00 |\n| 2013 | 9 | 30 | NA | 1842 | NA | NA | 2019 | NA | EV | 5274 | N740EV | LGA | BNA | NA |  764 | 18 | 42 | 2013-09-30 18:00:00 |\n| 2013 | 9 | 30 | NA | 1455 | NA | NA | 1634 | NA | 9E | 3393 | NA     | JFK | DCA | NA |  213 | 14 | 55 | 2013-09-30 14:00:00 |\n| 2013 | 9 | 30 | NA | 2200 | NA | NA | 2312 | NA | 9E | 3525 | NA     | LGA | SYR | NA |  198 | 22 |  0 | 2013-09-30 22:00:00 |\n| 2013 | 9 | 30 | NA | 1210 | NA | NA | 1330 | NA | MQ | 3461 | N535MQ | LGA | BNA | NA |  764 | 12 | 10 | 2013-09-30 12:00:00 |\n| 2013 | 9 | 30 | NA | 1159 | NA | NA | 1344 | NA | MQ | 3572 | N511MQ | LGA | CLE | NA |  419 | 11 | 59 | 2013-09-30 11:00:00 |\n| 2013 | 9 | 30 | NA |  840 | NA | NA | 1020 | NA | MQ | 3531 | N839MQ | LGA | RDU | NA |  431 |  8 | 40 | 2013-09-30 08:00:00 |\n\n",
            "text/latex": "A tibble: 336776 × 19\n\\begin{tabular}{lllllllllllllllllll}\n year & month & day & dep\\_time & sched\\_dep\\_time & dep\\_delay & arr\\_time & sched\\_arr\\_time & arr\\_delay & carrier & flight & tailnum & origin & dest & air\\_time & distance & hour & minute & time\\_hour\\\\\n <int> & <int> & <int> & <int> & <int> & <dbl> & <int> & <int> & <dbl> & <chr> & <int> & <chr> & <chr> & <chr> & <dbl> & <dbl> & <dbl> & <dbl> & <dttm>\\\\\n\\hline\n\t 2013 &  1 &  9 &  641 &  900 & 1301 & 1242 & 1530 & 1272 & HA &   51 & N384HA & JFK & HNL & 640 & 4983 &  9 &  0 & 2013-01-09 09:00:00\\\\\n\t 2013 &  6 & 15 & 1432 & 1935 & 1137 & 1607 & 2120 & 1127 & MQ & 3535 & N504MQ & JFK & CMH &  74 &  483 & 19 & 35 & 2013-06-15 19:00:00\\\\\n\t 2013 &  1 & 10 & 1121 & 1635 & 1126 & 1239 & 1810 & 1109 & MQ & 3695 & N517MQ & EWR & ORD & 111 &  719 & 16 & 35 & 2013-01-10 16:00:00\\\\\n\t 2013 &  9 & 20 & 1139 & 1845 & 1014 & 1457 & 2210 & 1007 & AA &  177 & N338AA & JFK & SFO & 354 & 2586 & 18 & 45 & 2013-09-20 18:00:00\\\\\n\t 2013 &  7 & 22 &  845 & 1600 & 1005 & 1044 & 1815 &  989 & MQ & 3075 & N665MQ & JFK & CVG &  96 &  589 & 16 &  0 & 2013-07-22 16:00:00\\\\\n\t 2013 &  4 & 10 & 1100 & 1900 &  960 & 1342 & 2211 &  931 & DL & 2391 & N959DL & JFK & TPA & 139 & 1005 & 19 &  0 & 2013-04-10 19:00:00\\\\\n\t 2013 &  3 & 17 & 2321 &  810 &  911 &  135 & 1020 &  915 & DL & 2119 & N927DA & LGA & MSP & 167 & 1020 &  8 & 10 & 2013-03-17 08:00:00\\\\\n\t 2013 &  6 & 27 &  959 & 1900 &  899 & 1236 & 2226 &  850 & DL & 2007 & N3762Y & JFK & PDX & 313 & 2454 & 19 &  0 & 2013-06-27 19:00:00\\\\\n\t 2013 &  7 & 22 & 2257 &  759 &  898 &  121 & 1026 &  895 & DL & 2047 & N6716C & LGA & ATL & 109 &  762 &  7 & 59 & 2013-07-22 07:00:00\\\\\n\t 2013 & 12 &  5 &  756 & 1700 &  896 & 1058 & 2020 &  878 & AA &  172 & N5DMAA & EWR & MIA & 149 & 1085 & 17 &  0 & 2013-12-05 17:00:00\\\\\n\t 2013 &  5 &  3 & 1133 & 2055 &  878 & 1250 & 2215 &  875 & MQ & 3744 & N523MQ & EWR & ORD & 112 &  719 & 20 & 55 & 2013-05-03 20:00:00\\\\\n\t 2013 &  1 &  1 &  848 & 1835 &  853 & 1001 & 1950 &  851 & MQ & 3944 & N942MQ & JFK & BWI &  41 &  184 & 18 & 35 & 2013-01-01 18:00:00\\\\\n\t 2013 &  2 & 10 & 2243 &  830 &  853 &  100 & 1106 &  834 & F9 &  835 & N203FR & LGA & DEN & 233 & 1620 &  8 & 30 & 2013-02-10 08:00:00\\\\\n\t 2013 &  5 & 19 &  713 & 1700 &  853 & 1007 & 1955 &  852 & AA &  257 & N3HEAA & JFK & LAS & 323 & 2248 & 17 &  0 & 2013-05-19 17:00:00\\\\\n\t 2013 & 12 & 19 &  734 & 1725 &  849 & 1046 & 2039 &  847 & DL & 1223 & N375NC & EWR & SLC & 290 & 1969 & 17 & 25 & 2013-12-19 17:00:00\\\\\n\t 2013 & 12 & 17 &  705 & 1700 &  845 & 1026 & 2020 &  846 & AA &  172 & N5EMAA & EWR & MIA & 145 & 1085 & 17 &  0 & 2013-12-17 17:00:00\\\\\n\t 2013 & 12 & 14 &  830 & 1845 &  825 & 1210 & 2154 &  856 & DL & 2391 & N939DL & JFK & TPA & 173 & 1005 & 18 & 45 & 2013-12-14 18:00:00\\\\\n\t 2013 &  4 & 19 &  912 & 1940 &  812 & 1228 & 2247 &  821 & DL & 1435 & N900DE & LGA & TPA & 174 & 1010 & 19 & 40 & 2013-04-19 19:00:00\\\\\n\t 2013 &  6 & 27 &  753 & 1830 &  803 &  937 & 2015 &  802 & AA & 2019 & N571AA & LGA & STL & 134 &  888 & 18 & 30 & 2013-06-27 18:00:00\\\\\n\t 2013 &  3 & 18 & 1020 & 2100 &  800 & 1336 &   32 &  784 & DL & 2363 & N624AG & JFK & LAX & 335 & 2475 & 21 &  0 & 2013-03-18 21:00:00\\\\\n\t 2013 & 11 &  3 &  603 & 1645 &  798 &  829 & 1913 &  796 & DL & 2042 & N990AT & EWR & ATL & 109 &  746 & 16 & 45 & 2013-11-03 16:00:00\\\\\n\t 2013 &  4 & 19 &  617 & 1700 &  797 &  858 & 1955 &  783 & AA &  257 & N3GJAA & JFK & LAS & 313 & 2248 & 17 &  0 & 2013-04-19 17:00:00\\\\\n\t 2013 &  6 & 27 &  615 & 1705 &  790 &  853 & 2004 &  769 & DL &  503 & N372DA & JFK & SAN & 312 & 2446 & 17 &  5 & 2013-06-27 17:00:00\\\\\n\t 2013 &  2 & 19 & 2324 & 1016 &  788 &  114 & 1227 &  767 & DL & 2319 & N324US & LGA & MSP & 136 & 1020 & 10 & 16 & 2013-02-19 10:00:00\\\\\n\t 2013 &  6 & 27 &  732 & 1825 &  787 &  932 & 2032 &  780 & DL & 1715 & N335NB & LGA & MSY & 160 & 1183 & 18 & 25 & 2013-06-27 18:00:00\\\\\n\t 2013 &  2 & 24 & 1921 &  615 &  786 & 2135 &  842 &  773 & DL &  575 & N348NW & EWR & ATL & 111 &  746 &  6 & 15 & 2013-02-24 06:00:00\\\\\n\t 2013 &  4 & 19 &  606 & 1725 &  761 &  923 & 2020 &  783 & AA & 1901 & N3DGAA & JFK & IAH & 222 & 1417 & 17 & 25 & 2013-04-19 17:00:00\\\\\n\t 2013 &  4 & 19 &  758 & 1925 &  753 & 1049 & 2225 &  744 & DL & 1485 & N927DA & LGA & MCO & 149 &  950 & 19 & 25 & 2013-04-19 19:00:00\\\\\n\t 2013 &  2 & 16 &  757 & 1930 &  747 & 1013 & 2149 &  744 & 9E & 3798 & N8940E & JFK & CLT &  85 &  541 & 19 & 30 & 2013-02-16 19:00:00\\\\\n\t 2013 & 10 & 14 & 2042 &  900 &  702 & 2255 & 1127 &  688 & DL &  502 & N943DL & EWR & ATL &  98 &  746 &  9 &  0 & 2013-10-14 09:00:00\\\\\n\t ⋮ & ⋮ & ⋮ & ⋮ & ⋮ & ⋮ & ⋮ & ⋮ & ⋮ & ⋮ & ⋮ & ⋮ & ⋮ & ⋮ & ⋮ & ⋮ & ⋮ & ⋮ & ⋮\\\\\n\t 2013 & 9 & 24 & NA & 1625 & NA & NA & 1750 & NA & MQ & 3622 & N524MQ & LGA & BNA & NA &  764 & 16 & 25 & 2013-09-24 16:00:00\\\\\n\t 2013 & 9 & 25 & NA & 1259 & NA & NA & 1507 & NA & EV & 5207 & N615QX & LGA & CLT & NA &  544 & 12 & 59 & 2013-09-25 12:00:00\\\\\n\t 2013 & 9 & 25 & NA &  845 & NA & NA & 1018 & NA & EV & 5286 & N615QX & LGA & BTV & NA &  258 &  8 & 45 & 2013-09-25 08:00:00\\\\\n\t 2013 & 9 & 25 & NA & 1755 & NA & NA & 1932 & NA & EV & 5287 & N722EV & LGA & MSN & NA &  812 & 17 & 55 & 2013-09-25 17:00:00\\\\\n\t 2013 & 9 & 25 & NA &  600 & NA & NA &  716 & NA & EV & 5716 & N877AS & JFK & IAD & NA &  228 &  6 &  0 & 2013-09-25 06:00:00\\\\\n\t 2013 & 9 & 25 & NA &  836 & NA & NA &  944 & NA & B6 & 2280 & N258JB & EWR & BOS & NA &  200 &  8 & 36 & 2013-09-25 08:00:00\\\\\n\t 2013 & 9 & 25 & NA & 1300 & NA & NA & 1409 & NA & US & 2148 & NA     & LGA & BOS & NA &  184 & 13 &  0 & 2013-09-25 13:00:00\\\\\n\t 2013 & 9 & 25 & NA & 1900 & NA & NA & 2014 & NA & US & 2160 & NA     & LGA & BOS & NA &  184 & 19 &  0 & 2013-09-25 19:00:00\\\\\n\t 2013 & 9 & 25 & NA & 1300 & NA & NA & 1450 & NA & MQ & 3388 & N817MQ & LGA & CMH & NA &  479 & 13 &  0 & 2013-09-25 13:00:00\\\\\n\t 2013 & 9 & 25 & NA & 1655 & NA & NA & 1840 & NA & MQ & 3411 & N735MQ & LGA & RDU & NA &  431 & 16 & 55 & 2013-09-25 16:00:00\\\\\n\t 2013 & 9 & 25 & NA & 1559 & NA & NA & 1719 & NA & MQ & 3748 & N530MQ & EWR & ORD & NA &  719 & 15 & 59 & 2013-09-25 15:00:00\\\\\n\t 2013 & 9 & 26 & NA &  915 & NA & NA & 1141 & NA & EV & 5109 & N748EV & LGA & CHS & NA &  641 &  9 & 15 & 2013-09-26 09:00:00\\\\\n\t 2013 & 9 & 26 & NA & 1400 & NA & NA & 1512 & NA & US & 2183 & NA     & LGA & DCA & NA &  214 & 14 &  0 & 2013-09-26 14:00:00\\\\\n\t 2013 & 9 & 26 & NA & 1240 & NA & NA & 1525 & NA & WN & 4720 & N691WN & EWR & HOU & NA & 1411 & 12 & 40 & 2013-09-26 12:00:00\\\\\n\t 2013 & 9 & 27 & NA &  600 & NA & NA &  730 & NA & AA &  301 & N584AA & LGA & ORD & NA &  733 &  6 &  0 & 2013-09-27 06:00:00\\\\\n\t 2013 & 9 & 27 & NA & 2100 & NA & NA & 2211 & NA & US & 2164 & NA     & LGA & BOS & NA &  184 & 21 &  0 & 2013-09-27 21:00:00\\\\\n\t 2013 & 9 & 27 & NA & 1329 & NA & NA & 1444 & NA & MQ & 3760 & N505MQ & EWR & ORD & NA &  719 & 13 & 29 & 2013-09-27 13:00:00\\\\\n\t 2013 & 9 & 27 & NA & 1600 & NA & NA & 1739 & NA & UA &  269 & NA     & LGA & ORD & NA &  733 & 16 &  0 & 2013-09-27 16:00:00\\\\\n\t 2013 & 9 & 28 & NA & 1803 & NA & NA & 1927 & NA & EV & 5563 & N724EV & LGA & BTV & NA &  258 & 18 &  3 & 2013-09-28 18:00:00\\\\\n\t 2013 & 9 & 28 & NA &  910 & NA & NA & 1220 & NA & AA &    1 & N320AA & JFK & LAX & NA & 2475 &  9 & 10 & 2013-09-28 09:00:00\\\\\n\t 2013 & 9 & 28 & NA & 1635 & NA & NA & 1827 & NA & US &  581 & NA     & EWR & CLT & NA &  529 & 16 & 35 & 2013-09-28 16:00:00\\\\\n\t 2013 & 9 & 29 & NA & 2054 & NA & NA & 2302 & NA & EV & 4536 & N13988 & EWR & CVG & NA &  569 & 20 & 54 & 2013-09-29 20:00:00\\\\\n\t 2013 & 9 & 29 & NA & 1830 & NA & NA & 2010 & NA & MQ & 3134 & N508MQ & EWR & ORD & NA &  719 & 18 & 30 & 2013-09-29 18:00:00\\\\\n\t 2013 & 9 & 29 & NA &  700 & NA & NA &  833 & NA & UA &  331 & NA     & LGA & ORD & NA &  733 &  7 &  0 & 2013-09-29 07:00:00\\\\\n\t 2013 & 9 & 30 & NA & 1842 & NA & NA & 2019 & NA & EV & 5274 & N740EV & LGA & BNA & NA &  764 & 18 & 42 & 2013-09-30 18:00:00\\\\\n\t 2013 & 9 & 30 & NA & 1455 & NA & NA & 1634 & NA & 9E & 3393 & NA     & JFK & DCA & NA &  213 & 14 & 55 & 2013-09-30 14:00:00\\\\\n\t 2013 & 9 & 30 & NA & 2200 & NA & NA & 2312 & NA & 9E & 3525 & NA     & LGA & SYR & NA &  198 & 22 &  0 & 2013-09-30 22:00:00\\\\\n\t 2013 & 9 & 30 & NA & 1210 & NA & NA & 1330 & NA & MQ & 3461 & N535MQ & LGA & BNA & NA &  764 & 12 & 10 & 2013-09-30 12:00:00\\\\\n\t 2013 & 9 & 30 & NA & 1159 & NA & NA & 1344 & NA & MQ & 3572 & N511MQ & LGA & CLE & NA &  419 & 11 & 59 & 2013-09-30 11:00:00\\\\\n\t 2013 & 9 & 30 & NA &  840 & NA & NA & 1020 & NA & MQ & 3531 & N839MQ & LGA & RDU & NA &  431 &  8 & 40 & 2013-09-30 08:00:00\\\\\n\\end{tabular}\n",
            "text/plain": [
              "       year month day dep_time sched_dep_time dep_delay arr_time sched_arr_time\n",
              "1      2013  1     9   641      900           1301      1242     1530          \n",
              "2      2013  6    15  1432     1935           1137      1607     2120          \n",
              "3      2013  1    10  1121     1635           1126      1239     1810          \n",
              "4      2013  9    20  1139     1845           1014      1457     2210          \n",
              "5      2013  7    22   845     1600           1005      1044     1815          \n",
              "6      2013  4    10  1100     1900            960      1342     2211          \n",
              "7      2013  3    17  2321      810            911       135     1020          \n",
              "8      2013  6    27   959     1900            899      1236     2226          \n",
              "9      2013  7    22  2257      759            898       121     1026          \n",
              "10     2013 12     5   756     1700            896      1058     2020          \n",
              "11     2013  5     3  1133     2055            878      1250     2215          \n",
              "12     2013  1     1   848     1835            853      1001     1950          \n",
              "13     2013  2    10  2243      830            853       100     1106          \n",
              "14     2013  5    19   713     1700            853      1007     1955          \n",
              "15     2013 12    19   734     1725            849      1046     2039          \n",
              "16     2013 12    17   705     1700            845      1026     2020          \n",
              "17     2013 12    14   830     1845            825      1210     2154          \n",
              "18     2013  4    19   912     1940            812      1228     2247          \n",
              "19     2013  6    27   753     1830            803       937     2015          \n",
              "20     2013  3    18  1020     2100            800      1336       32          \n",
              "21     2013 11     3   603     1645            798       829     1913          \n",
              "22     2013  4    19   617     1700            797       858     1955          \n",
              "23     2013  6    27   615     1705            790       853     2004          \n",
              "24     2013  2    19  2324     1016            788       114     1227          \n",
              "25     2013  6    27   732     1825            787       932     2032          \n",
              "26     2013  2    24  1921      615            786      2135      842          \n",
              "27     2013  4    19   606     1725            761       923     2020          \n",
              "28     2013  4    19   758     1925            753      1049     2225          \n",
              "29     2013  2    16   757     1930            747      1013     2149          \n",
              "30     2013 10    14  2042      900            702      2255     1127          \n",
              "⋮      ⋮    ⋮     ⋮   ⋮        ⋮              ⋮         ⋮        ⋮             \n",
              "336747 2013 9     24  NA       1625           NA        NA       1750          \n",
              "336748 2013 9     25  NA       1259           NA        NA       1507          \n",
              "336749 2013 9     25  NA        845           NA        NA       1018          \n",
              "336750 2013 9     25  NA       1755           NA        NA       1932          \n",
              "336751 2013 9     25  NA        600           NA        NA        716          \n",
              "336752 2013 9     25  NA        836           NA        NA        944          \n",
              "336753 2013 9     25  NA       1300           NA        NA       1409          \n",
              "336754 2013 9     25  NA       1900           NA        NA       2014          \n",
              "336755 2013 9     25  NA       1300           NA        NA       1450          \n",
              "336756 2013 9     25  NA       1655           NA        NA       1840          \n",
              "336757 2013 9     25  NA       1559           NA        NA       1719          \n",
              "336758 2013 9     26  NA        915           NA        NA       1141          \n",
              "336759 2013 9     26  NA       1400           NA        NA       1512          \n",
              "336760 2013 9     26  NA       1240           NA        NA       1525          \n",
              "336761 2013 9     27  NA        600           NA        NA        730          \n",
              "336762 2013 9     27  NA       2100           NA        NA       2211          \n",
              "336763 2013 9     27  NA       1329           NA        NA       1444          \n",
              "336764 2013 9     27  NA       1600           NA        NA       1739          \n",
              "336765 2013 9     28  NA       1803           NA        NA       1927          \n",
              "336766 2013 9     28  NA        910           NA        NA       1220          \n",
              "336767 2013 9     28  NA       1635           NA        NA       1827          \n",
              "336768 2013 9     29  NA       2054           NA        NA       2302          \n",
              "336769 2013 9     29  NA       1830           NA        NA       2010          \n",
              "336770 2013 9     29  NA        700           NA        NA        833          \n",
              "336771 2013 9     30  NA       1842           NA        NA       2019          \n",
              "336772 2013 9     30  NA       1455           NA        NA       1634          \n",
              "336773 2013 9     30  NA       2200           NA        NA       2312          \n",
              "336774 2013 9     30  NA       1210           NA        NA       1330          \n",
              "336775 2013 9     30  NA       1159           NA        NA       1344          \n",
              "336776 2013 9     30  NA        840           NA        NA       1020          \n",
              "       arr_delay carrier flight tailnum origin dest air_time distance hour\n",
              "1      1272      HA        51   N384HA  JFK    HNL  640      4983      9  \n",
              "2      1127      MQ      3535   N504MQ  JFK    CMH   74       483     19  \n",
              "3      1109      MQ      3695   N517MQ  EWR    ORD  111       719     16  \n",
              "4      1007      AA       177   N338AA  JFK    SFO  354      2586     18  \n",
              "5       989      MQ      3075   N665MQ  JFK    CVG   96       589     16  \n",
              "6       931      DL      2391   N959DL  JFK    TPA  139      1005     19  \n",
              "7       915      DL      2119   N927DA  LGA    MSP  167      1020      8  \n",
              "8       850      DL      2007   N3762Y  JFK    PDX  313      2454     19  \n",
              "9       895      DL      2047   N6716C  LGA    ATL  109       762      7  \n",
              "10      878      AA       172   N5DMAA  EWR    MIA  149      1085     17  \n",
              "11      875      MQ      3744   N523MQ  EWR    ORD  112       719     20  \n",
              "12      851      MQ      3944   N942MQ  JFK    BWI   41       184     18  \n",
              "13      834      F9       835   N203FR  LGA    DEN  233      1620      8  \n",
              "14      852      AA       257   N3HEAA  JFK    LAS  323      2248     17  \n",
              "15      847      DL      1223   N375NC  EWR    SLC  290      1969     17  \n",
              "16      846      AA       172   N5EMAA  EWR    MIA  145      1085     17  \n",
              "17      856      DL      2391   N939DL  JFK    TPA  173      1005     18  \n",
              "18      821      DL      1435   N900DE  LGA    TPA  174      1010     19  \n",
              "19      802      AA      2019   N571AA  LGA    STL  134       888     18  \n",
              "20      784      DL      2363   N624AG  JFK    LAX  335      2475     21  \n",
              "21      796      DL      2042   N990AT  EWR    ATL  109       746     16  \n",
              "22      783      AA       257   N3GJAA  JFK    LAS  313      2248     17  \n",
              "23      769      DL       503   N372DA  JFK    SAN  312      2446     17  \n",
              "24      767      DL      2319   N324US  LGA    MSP  136      1020     10  \n",
              "25      780      DL      1715   N335NB  LGA    MSY  160      1183     18  \n",
              "26      773      DL       575   N348NW  EWR    ATL  111       746      6  \n",
              "27      783      AA      1901   N3DGAA  JFK    IAH  222      1417     17  \n",
              "28      744      DL      1485   N927DA  LGA    MCO  149       950     19  \n",
              "29      744      9E      3798   N8940E  JFK    CLT   85       541     19  \n",
              "30      688      DL       502   N943DL  EWR    ATL   98       746      9  \n",
              "⋮      ⋮         ⋮       ⋮      ⋮       ⋮      ⋮    ⋮        ⋮        ⋮   \n",
              "336747 NA        MQ      3622   N524MQ  LGA    BNA  NA        764     16  \n",
              "336748 NA        EV      5207   N615QX  LGA    CLT  NA        544     12  \n",
              "336749 NA        EV      5286   N615QX  LGA    BTV  NA        258      8  \n",
              "336750 NA        EV      5287   N722EV  LGA    MSN  NA        812     17  \n",
              "336751 NA        EV      5716   N877AS  JFK    IAD  NA        228      6  \n",
              "336752 NA        B6      2280   N258JB  EWR    BOS  NA        200      8  \n",
              "336753 NA        US      2148   NA      LGA    BOS  NA        184     13  \n",
              "336754 NA        US      2160   NA      LGA    BOS  NA        184     19  \n",
              "336755 NA        MQ      3388   N817MQ  LGA    CMH  NA        479     13  \n",
              "336756 NA        MQ      3411   N735MQ  LGA    RDU  NA        431     16  \n",
              "336757 NA        MQ      3748   N530MQ  EWR    ORD  NA        719     15  \n",
              "336758 NA        EV      5109   N748EV  LGA    CHS  NA        641      9  \n",
              "336759 NA        US      2183   NA      LGA    DCA  NA        214     14  \n",
              "336760 NA        WN      4720   N691WN  EWR    HOU  NA       1411     12  \n",
              "336761 NA        AA       301   N584AA  LGA    ORD  NA        733      6  \n",
              "336762 NA        US      2164   NA      LGA    BOS  NA        184     21  \n",
              "336763 NA        MQ      3760   N505MQ  EWR    ORD  NA        719     13  \n",
              "336764 NA        UA       269   NA      LGA    ORD  NA        733     16  \n",
              "336765 NA        EV      5563   N724EV  LGA    BTV  NA        258     18  \n",
              "336766 NA        AA         1   N320AA  JFK    LAX  NA       2475      9  \n",
              "336767 NA        US       581   NA      EWR    CLT  NA        529     16  \n",
              "336768 NA        EV      4536   N13988  EWR    CVG  NA        569     20  \n",
              "336769 NA        MQ      3134   N508MQ  EWR    ORD  NA        719     18  \n",
              "336770 NA        UA       331   NA      LGA    ORD  NA        733      7  \n",
              "336771 NA        EV      5274   N740EV  LGA    BNA  NA        764     18  \n",
              "336772 NA        9E      3393   NA      JFK    DCA  NA        213     14  \n",
              "336773 NA        9E      3525   NA      LGA    SYR  NA        198     22  \n",
              "336774 NA        MQ      3461   N535MQ  LGA    BNA  NA        764     12  \n",
              "336775 NA        MQ      3572   N511MQ  LGA    CLE  NA        419     11  \n",
              "336776 NA        MQ      3531   N839MQ  LGA    RDU  NA        431      8  \n",
              "       minute time_hour          \n",
              "1       0     2013-01-09 09:00:00\n",
              "2      35     2013-06-15 19:00:00\n",
              "3      35     2013-01-10 16:00:00\n",
              "4      45     2013-09-20 18:00:00\n",
              "5       0     2013-07-22 16:00:00\n",
              "6       0     2013-04-10 19:00:00\n",
              "7      10     2013-03-17 08:00:00\n",
              "8       0     2013-06-27 19:00:00\n",
              "9      59     2013-07-22 07:00:00\n",
              "10      0     2013-12-05 17:00:00\n",
              "11     55     2013-05-03 20:00:00\n",
              "12     35     2013-01-01 18:00:00\n",
              "13     30     2013-02-10 08:00:00\n",
              "14      0     2013-05-19 17:00:00\n",
              "15     25     2013-12-19 17:00:00\n",
              "16      0     2013-12-17 17:00:00\n",
              "17     45     2013-12-14 18:00:00\n",
              "18     40     2013-04-19 19:00:00\n",
              "19     30     2013-06-27 18:00:00\n",
              "20      0     2013-03-18 21:00:00\n",
              "21     45     2013-11-03 16:00:00\n",
              "22      0     2013-04-19 17:00:00\n",
              "23      5     2013-06-27 17:00:00\n",
              "24     16     2013-02-19 10:00:00\n",
              "25     25     2013-06-27 18:00:00\n",
              "26     15     2013-02-24 06:00:00\n",
              "27     25     2013-04-19 17:00:00\n",
              "28     25     2013-04-19 19:00:00\n",
              "29     30     2013-02-16 19:00:00\n",
              "30      0     2013-10-14 09:00:00\n",
              "⋮      ⋮      ⋮                  \n",
              "336747 25     2013-09-24 16:00:00\n",
              "336748 59     2013-09-25 12:00:00\n",
              "336749 45     2013-09-25 08:00:00\n",
              "336750 55     2013-09-25 17:00:00\n",
              "336751  0     2013-09-25 06:00:00\n",
              "336752 36     2013-09-25 08:00:00\n",
              "336753  0     2013-09-25 13:00:00\n",
              "336754  0     2013-09-25 19:00:00\n",
              "336755  0     2013-09-25 13:00:00\n",
              "336756 55     2013-09-25 16:00:00\n",
              "336757 59     2013-09-25 15:00:00\n",
              "336758 15     2013-09-26 09:00:00\n",
              "336759  0     2013-09-26 14:00:00\n",
              "336760 40     2013-09-26 12:00:00\n",
              "336761  0     2013-09-27 06:00:00\n",
              "336762  0     2013-09-27 21:00:00\n",
              "336763 29     2013-09-27 13:00:00\n",
              "336764  0     2013-09-27 16:00:00\n",
              "336765  3     2013-09-28 18:00:00\n",
              "336766 10     2013-09-28 09:00:00\n",
              "336767 35     2013-09-28 16:00:00\n",
              "336768 54     2013-09-29 20:00:00\n",
              "336769 30     2013-09-29 18:00:00\n",
              "336770  0     2013-09-29 07:00:00\n",
              "336771 42     2013-09-30 18:00:00\n",
              "336772 55     2013-09-30 14:00:00\n",
              "336773  0     2013-09-30 22:00:00\n",
              "336774 10     2013-09-30 12:00:00\n",
              "336775 59     2013-09-30 11:00:00\n",
              "336776 40     2013-09-30 08:00:00"
            ]
          },
          "metadata": {}
        }
      ]
    },
    {
      "cell_type": "markdown",
      "metadata": {
        "id": "UAqIAwJiWb2e"
      },
      "source": [
        "We sorted the data by month and day, so the top-most rows have the earliest month, folllowed by day."
      ]
    },
    {
      "cell_type": "markdown",
      "metadata": {
        "collapsed": true,
        "id": "VmgNrkohWb2e"
      },
      "source": [
        "If you want to sort in **descending** order, write `desc(<column>)` instead:"
      ]
    },
    {
      "cell_type": "code",
      "execution_count": null,
      "metadata": {
        "id": "qu-9D7S-Wb2e"
      },
      "outputs": [],
      "source": [
        "# flights in descending order of month"
      ]
    },
    {
      "cell_type": "code",
      "source": [
        "arrange(flights,desc(month)) # NOTE: sort by month descending"
      ],
      "metadata": {
        "id": "y5Zk43cHkXdE"
      },
      "execution_count": null,
      "outputs": []
    },
    {
      "cell_type": "markdown",
      "metadata": {
        "id": "BhJs88k6Wb2e"
      },
      "source": [
        "## 🤔 Quiz\n",
        "What's the farthest distance traveled by any flight in the dataset?\n",
        "\n",
        "<ol style=\"list-style-type: upper-alpha;\">\n",
        "    <li>1200 meters</li>\n",
        "    <li>2783 miles</li>\n",
        "    <li>4143 miles</li>\n",
        "    <li>4983 miles</li>\n",
        "    <li>4983 km</li>\n",
        "</ol>"
      ]
    },
    {
      "cell_type": "code",
      "execution_count": 34,
      "metadata": {
        "id": "3cfbi7O7Wb2e",
        "colab": {
          "base_uri": "https://localhost:8080/",
          "height": 1000
        },
        "outputId": "56f12088-2f3b-46ea-8348-464f9b58be16"
      },
      "outputs": [
        {
          "output_type": "display_data",
          "data": {
            "text/html": [
              "<table class=\"dataframe\">\n",
              "<caption>A tibble: 336776 × 19</caption>\n",
              "<thead>\n",
              "\t<tr><th scope=col>year</th><th scope=col>month</th><th scope=col>day</th><th scope=col>dep_time</th><th scope=col>sched_dep_time</th><th scope=col>dep_delay</th><th scope=col>arr_time</th><th scope=col>sched_arr_time</th><th scope=col>arr_delay</th><th scope=col>carrier</th><th scope=col>flight</th><th scope=col>tailnum</th><th scope=col>origin</th><th scope=col>dest</th><th scope=col>air_time</th><th scope=col>distance</th><th scope=col>hour</th><th scope=col>minute</th><th scope=col>time_hour</th></tr>\n",
              "\t<tr><th scope=col>&lt;int&gt;</th><th scope=col>&lt;int&gt;</th><th scope=col>&lt;int&gt;</th><th scope=col>&lt;int&gt;</th><th scope=col>&lt;int&gt;</th><th scope=col>&lt;dbl&gt;</th><th scope=col>&lt;int&gt;</th><th scope=col>&lt;int&gt;</th><th scope=col>&lt;dbl&gt;</th><th scope=col>&lt;chr&gt;</th><th scope=col>&lt;int&gt;</th><th scope=col>&lt;chr&gt;</th><th scope=col>&lt;chr&gt;</th><th scope=col>&lt;chr&gt;</th><th scope=col>&lt;dbl&gt;</th><th scope=col>&lt;dbl&gt;</th><th scope=col>&lt;dbl&gt;</th><th scope=col>&lt;dbl&gt;</th><th scope=col>&lt;dttm&gt;</th></tr>\n",
              "</thead>\n",
              "<tbody>\n",
              "\t<tr><td>2013</td><td>1</td><td> 1</td><td> 857</td><td>900</td><td>  -3</td><td>1516</td><td>1530</td><td> -14</td><td>HA</td><td>51</td><td>N380HA</td><td>JFK</td><td>HNL</td><td>659</td><td>4983</td><td>9</td><td>0</td><td>2013-01-01 09:00:00</td></tr>\n",
              "\t<tr><td>2013</td><td>1</td><td> 2</td><td> 909</td><td>900</td><td>   9</td><td>1525</td><td>1530</td><td>  -5</td><td>HA</td><td>51</td><td>N380HA</td><td>JFK</td><td>HNL</td><td>638</td><td>4983</td><td>9</td><td>0</td><td>2013-01-02 09:00:00</td></tr>\n",
              "\t<tr><td>2013</td><td>1</td><td> 3</td><td> 914</td><td>900</td><td>  14</td><td>1504</td><td>1530</td><td> -26</td><td>HA</td><td>51</td><td>N380HA</td><td>JFK</td><td>HNL</td><td>616</td><td>4983</td><td>9</td><td>0</td><td>2013-01-03 09:00:00</td></tr>\n",
              "\t<tr><td>2013</td><td>1</td><td> 4</td><td> 900</td><td>900</td><td>   0</td><td>1516</td><td>1530</td><td> -14</td><td>HA</td><td>51</td><td>N384HA</td><td>JFK</td><td>HNL</td><td>639</td><td>4983</td><td>9</td><td>0</td><td>2013-01-04 09:00:00</td></tr>\n",
              "\t<tr><td>2013</td><td>1</td><td> 5</td><td> 858</td><td>900</td><td>  -2</td><td>1519</td><td>1530</td><td> -11</td><td>HA</td><td>51</td><td>N381HA</td><td>JFK</td><td>HNL</td><td>635</td><td>4983</td><td>9</td><td>0</td><td>2013-01-05 09:00:00</td></tr>\n",
              "\t<tr><td>2013</td><td>1</td><td> 6</td><td>1019</td><td>900</td><td>  79</td><td>1558</td><td>1530</td><td>  28</td><td>HA</td><td>51</td><td>N385HA</td><td>JFK</td><td>HNL</td><td>611</td><td>4983</td><td>9</td><td>0</td><td>2013-01-06 09:00:00</td></tr>\n",
              "\t<tr><td>2013</td><td>1</td><td> 7</td><td>1042</td><td>900</td><td> 102</td><td>1620</td><td>1530</td><td>  50</td><td>HA</td><td>51</td><td>N385HA</td><td>JFK</td><td>HNL</td><td>612</td><td>4983</td><td>9</td><td>0</td><td>2013-01-07 09:00:00</td></tr>\n",
              "\t<tr><td>2013</td><td>1</td><td> 8</td><td> 901</td><td>900</td><td>   1</td><td>1504</td><td>1530</td><td> -26</td><td>HA</td><td>51</td><td>N389HA</td><td>JFK</td><td>HNL</td><td>645</td><td>4983</td><td>9</td><td>0</td><td>2013-01-08 09:00:00</td></tr>\n",
              "\t<tr><td>2013</td><td>1</td><td> 9</td><td> 641</td><td>900</td><td>1301</td><td>1242</td><td>1530</td><td>1272</td><td>HA</td><td>51</td><td>N384HA</td><td>JFK</td><td>HNL</td><td>640</td><td>4983</td><td>9</td><td>0</td><td>2013-01-09 09:00:00</td></tr>\n",
              "\t<tr><td>2013</td><td>1</td><td>10</td><td> 859</td><td>900</td><td>  -1</td><td>1449</td><td>1530</td><td> -41</td><td>HA</td><td>51</td><td>N388HA</td><td>JFK</td><td>HNL</td><td>633</td><td>4983</td><td>9</td><td>0</td><td>2013-01-10 09:00:00</td></tr>\n",
              "\t<tr><td>2013</td><td>1</td><td>11</td><td> 855</td><td>900</td><td>  -5</td><td>1442</td><td>1530</td><td> -48</td><td>HA</td><td>51</td><td>N383HA</td><td>JFK</td><td>HNL</td><td>613</td><td>4983</td><td>9</td><td>0</td><td>2013-01-11 09:00:00</td></tr>\n",
              "\t<tr><td>2013</td><td>1</td><td>12</td><td> 901</td><td>900</td><td>   1</td><td>1452</td><td>1530</td><td> -38</td><td>HA</td><td>51</td><td>N383HA</td><td>JFK</td><td>HNL</td><td>615</td><td>4983</td><td>9</td><td>0</td><td>2013-01-12 09:00:00</td></tr>\n",
              "\t<tr><td>2013</td><td>1</td><td>13</td><td> 856</td><td>900</td><td>  -4</td><td>1523</td><td>1530</td><td>  -7</td><td>HA</td><td>51</td><td>N381HA</td><td>JFK</td><td>HNL</td><td>647</td><td>4983</td><td>9</td><td>0</td><td>2013-01-13 09:00:00</td></tr>\n",
              "\t<tr><td>2013</td><td>1</td><td>14</td><td> 859</td><td>900</td><td>  -1</td><td>1456</td><td>1530</td><td> -34</td><td>HA</td><td>51</td><td>N382HA</td><td>JFK</td><td>HNL</td><td>622</td><td>4983</td><td>9</td><td>0</td><td>2013-01-14 09:00:00</td></tr>\n",
              "\t<tr><td>2013</td><td>1</td><td>15</td><td> 856</td><td>900</td><td>  -4</td><td>1439</td><td>1530</td><td> -51</td><td>HA</td><td>51</td><td>N384HA</td><td>JFK</td><td>HNL</td><td>618</td><td>4983</td><td>9</td><td>0</td><td>2013-01-15 09:00:00</td></tr>\n",
              "\t<tr><td>2013</td><td>1</td><td>16</td><td> 858</td><td>900</td><td>  -2</td><td>1510</td><td>1530</td><td> -20</td><td>HA</td><td>51</td><td>N384HA</td><td>JFK</td><td>HNL</td><td>640</td><td>4983</td><td>9</td><td>0</td><td>2013-01-16 09:00:00</td></tr>\n",
              "\t<tr><td>2013</td><td>1</td><td>17</td><td> 859</td><td>900</td><td>  -1</td><td>1513</td><td>1530</td><td> -17</td><td>HA</td><td>51</td><td>N381HA</td><td>JFK</td><td>HNL</td><td>648</td><td>4983</td><td>9</td><td>0</td><td>2013-01-17 09:00:00</td></tr>\n",
              "\t<tr><td>2013</td><td>1</td><td>18</td><td>1103</td><td>900</td><td> 123</td><td>1635</td><td>1530</td><td>  65</td><td>HA</td><td>51</td><td>N388HA</td><td>JFK</td><td>HNL</td><td>611</td><td>4983</td><td>9</td><td>0</td><td>2013-01-18 09:00:00</td></tr>\n",
              "\t<tr><td>2013</td><td>1</td><td>19</td><td> 854</td><td>900</td><td>  -6</td><td>1458</td><td>1530</td><td> -32</td><td>HA</td><td>51</td><td>N386HA</td><td>JFK</td><td>HNL</td><td>630</td><td>4983</td><td>9</td><td>0</td><td>2013-01-19 09:00:00</td></tr>\n",
              "\t<tr><td>2013</td><td>1</td><td>20</td><td> 900</td><td>900</td><td>   0</td><td>1452</td><td>1530</td><td> -38</td><td>HA</td><td>51</td><td>N384HA</td><td>JFK</td><td>HNL</td><td>629</td><td>4983</td><td>9</td><td>0</td><td>2013-01-20 09:00:00</td></tr>\n",
              "\t<tr><td>2013</td><td>1</td><td>21</td><td> 853</td><td>900</td><td>  -7</td><td>1459</td><td>1530</td><td> -31</td><td>HA</td><td>51</td><td>N380HA</td><td>JFK</td><td>HNL</td><td>650</td><td>4983</td><td>9</td><td>0</td><td>2013-01-21 09:00:00</td></tr>\n",
              "\t<tr><td>2013</td><td>1</td><td>22</td><td> 853</td><td>900</td><td>  -7</td><td>1506</td><td>1530</td><td> -24</td><td>HA</td><td>51</td><td>N381HA</td><td>JFK</td><td>HNL</td><td>632</td><td>4983</td><td>9</td><td>0</td><td>2013-01-22 09:00:00</td></tr>\n",
              "\t<tr><td>2013</td><td>1</td><td>23</td><td>1041</td><td>900</td><td> 101</td><td>1652</td><td>1530</td><td>  82</td><td>HA</td><td>51</td><td>N380HA</td><td>JFK</td><td>HNL</td><td>653</td><td>4983</td><td>9</td><td>0</td><td>2013-01-23 09:00:00</td></tr>\n",
              "\t<tr><td>2013</td><td>1</td><td>24</td><td> 854</td><td>900</td><td>  -6</td><td>1520</td><td>1530</td><td> -10</td><td>HA</td><td>51</td><td>N389HA</td><td>JFK</td><td>HNL</td><td>657</td><td>4983</td><td>9</td><td>0</td><td>2013-01-24 09:00:00</td></tr>\n",
              "\t<tr><td>2013</td><td>1</td><td>25</td><td> 920</td><td>900</td><td>  20</td><td>1539</td><td>1530</td><td>   9</td><td>HA</td><td>51</td><td>N382HA</td><td>JFK</td><td>HNL</td><td>653</td><td>4983</td><td>9</td><td>0</td><td>2013-01-25 09:00:00</td></tr>\n",
              "\t<tr><td>2013</td><td>1</td><td>26</td><td> 901</td><td>900</td><td>   1</td><td>1536</td><td>1530</td><td>   6</td><td>HA</td><td>51</td><td>N385HA</td><td>JFK</td><td>HNL</td><td>660</td><td>4983</td><td>9</td><td>0</td><td>2013-01-26 09:00:00</td></tr>\n",
              "\t<tr><td>2013</td><td>1</td><td>27</td><td> 859</td><td>900</td><td>  -1</td><td>1504</td><td>1530</td><td> -26</td><td>HA</td><td>51</td><td>N380HA</td><td>JFK</td><td>HNL</td><td>646</td><td>4983</td><td>9</td><td>0</td><td>2013-01-27 09:00:00</td></tr>\n",
              "\t<tr><td>2013</td><td>1</td><td>28</td><td> 856</td><td>900</td><td>  -4</td><td>1513</td><td>1530</td><td> -17</td><td>HA</td><td>51</td><td>N381HA</td><td>JFK</td><td>HNL</td><td>648</td><td>4983</td><td>9</td><td>0</td><td>2013-01-28 09:00:00</td></tr>\n",
              "\t<tr><td>2013</td><td>1</td><td>29</td><td> 855</td><td>900</td><td>  -5</td><td>1504</td><td>1530</td><td> -26</td><td>HA</td><td>51</td><td>N383HA</td><td>JFK</td><td>HNL</td><td>650</td><td>4983</td><td>9</td><td>0</td><td>2013-01-29 09:00:00</td></tr>\n",
              "\t<tr><td>2013</td><td>1</td><td>30</td><td> 855</td><td>900</td><td>  -5</td><td>1441</td><td>1530</td><td> -49</td><td>HA</td><td>51</td><td>N388HA</td><td>JFK</td><td>HNL</td><td>613</td><td>4983</td><td>9</td><td>0</td><td>2013-01-30 09:00:00</td></tr>\n",
              "\t<tr><td>⋮</td><td>⋮</td><td>⋮</td><td>⋮</td><td>⋮</td><td>⋮</td><td>⋮</td><td>⋮</td><td>⋮</td><td>⋮</td><td>⋮</td><td>⋮</td><td>⋮</td><td>⋮</td><td>⋮</td><td>⋮</td><td>⋮</td><td>⋮</td><td>⋮</td></tr>\n",
              "\t<tr><td>2013</td><td>1</td><td>21</td><td>2123</td><td>2129</td><td>-6</td><td>2216</td><td>2224</td><td> -8</td><td>EV</td><td>4619</td><td>N19554</td><td>EWR</td><td>PHL</td><td>32</td><td>80</td><td>21</td><td>29</td><td>2013-01-21 21:00:00</td></tr>\n",
              "\t<tr><td>2013</td><td>1</td><td>22</td><td>2203</td><td>2130</td><td>33</td><td>2317</td><td>2225</td><td> 52</td><td>EV</td><td>4619</td><td>N13538</td><td>EWR</td><td>PHL</td><td>31</td><td>80</td><td>21</td><td>30</td><td>2013-01-22 21:00:00</td></tr>\n",
              "\t<tr><td>2013</td><td>1</td><td>23</td><td>2128</td><td>2129</td><td>-1</td><td>2221</td><td>2224</td><td> -3</td><td>EV</td><td>4619</td><td>N12135</td><td>EWR</td><td>PHL</td><td>23</td><td>80</td><td>21</td><td>29</td><td>2013-01-23 21:00:00</td></tr>\n",
              "\t<tr><td>2013</td><td>1</td><td>24</td><td>2241</td><td>2129</td><td>72</td><td>2350</td><td>2224</td><td> 86</td><td>EV</td><td>3271</td><td>N14923</td><td>EWR</td><td>PHL</td><td>31</td><td>80</td><td>21</td><td>29</td><td>2013-01-24 21:00:00</td></tr>\n",
              "\t<tr><td>2013</td><td>1</td><td>25</td><td>2305</td><td>2129</td><td>96</td><td>2357</td><td>2224</td><td> 93</td><td>EV</td><td>4619</td><td>N14562</td><td>EWR</td><td>PHL</td><td>26</td><td>80</td><td>21</td><td>29</td><td>2013-01-25 21:00:00</td></tr>\n",
              "\t<tr><td>2013</td><td>1</td><td>26</td><td>1621</td><td>1617</td><td> 4</td><td>1705</td><td>1722</td><td>-17</td><td>EV</td><td>4616</td><td>N14153</td><td>EWR</td><td>PHL</td><td>27</td><td>80</td><td>16</td><td>17</td><td>2013-01-26 16:00:00</td></tr>\n",
              "\t<tr><td>2013</td><td>1</td><td>27</td><td>2128</td><td>2129</td><td>-1</td><td>2213</td><td>2224</td><td>-11</td><td>EV</td><td>4619</td><td>N13969</td><td>EWR</td><td>PHL</td><td>29</td><td>80</td><td>21</td><td>29</td><td>2013-01-27 21:00:00</td></tr>\n",
              "\t<tr><td>2013</td><td>1</td><td>28</td><td>2201</td><td>2129</td><td>32</td><td>2259</td><td>2224</td><td> 35</td><td>EV</td><td>4619</td><td>N13550</td><td>EWR</td><td>PHL</td><td>36</td><td>80</td><td>21</td><td>29</td><td>2013-01-28 21:00:00</td></tr>\n",
              "\t<tr><td>2013</td><td>1</td><td>29</td><td>2131</td><td>2130</td><td> 1</td><td>2221</td><td>2225</td><td> -4</td><td>EV</td><td>4619</td><td>N13538</td><td>EWR</td><td>PHL</td><td>25</td><td>80</td><td>21</td><td>30</td><td>2013-01-29 21:00:00</td></tr>\n",
              "\t<tr><td>2013</td><td>1</td><td>30</td><td>2244</td><td>2129</td><td>75</td><td>2341</td><td>2224</td><td> 77</td><td>EV</td><td>4619</td><td>N27962</td><td>EWR</td><td>PHL</td><td>37</td><td>80</td><td>21</td><td>29</td><td>2013-01-30 21:00:00</td></tr>\n",
              "\t<tr><td>2013</td><td>1</td><td>31</td><td>2129</td><td>2129</td><td> 0</td><td>2234</td><td>2224</td><td> 10</td><td>EV</td><td>3271</td><td>N13553</td><td>EWR</td><td>PHL</td><td>28</td><td>80</td><td>21</td><td>29</td><td>2013-01-31 21:00:00</td></tr>\n",
              "\t<tr><td>2013</td><td>2</td><td> 1</td><td>2128</td><td>2129</td><td>-1</td><td>2216</td><td>2224</td><td> -8</td><td>EV</td><td>4619</td><td>N13969</td><td>EWR</td><td>PHL</td><td>24</td><td>80</td><td>21</td><td>29</td><td>2013-02-01 21:00:00</td></tr>\n",
              "\t<tr><td>2013</td><td>2</td><td> 2</td><td>1610</td><td>1617</td><td>-7</td><td>1702</td><td>1722</td><td>-20</td><td>EV</td><td>4616</td><td>N18120</td><td>EWR</td><td>PHL</td><td>33</td><td>80</td><td>16</td><td>17</td><td>2013-02-02 16:00:00</td></tr>\n",
              "\t<tr><td>2013</td><td>2</td><td> 3</td><td>2153</td><td>2129</td><td>24</td><td>2247</td><td>2224</td><td> 23</td><td>EV</td><td>4619</td><td>N13913</td><td>EWR</td><td>PHL</td><td>21</td><td>80</td><td>21</td><td>29</td><td>2013-02-03 21:00:00</td></tr>\n",
              "\t<tr><td>2013</td><td>2</td><td> 4</td><td>2231</td><td>2129</td><td>62</td><td>2333</td><td>2224</td><td> 69</td><td>EV</td><td>4619</td><td>N29917</td><td>EWR</td><td>PHL</td><td>28</td><td>80</td><td>21</td><td>29</td><td>2013-02-04 21:00:00</td></tr>\n",
              "\t<tr><td>2013</td><td>2</td><td> 5</td><td>2136</td><td>2130</td><td> 6</td><td>2238</td><td>2225</td><td> 13</td><td>EV</td><td>4619</td><td>N26141</td><td>EWR</td><td>PHL</td><td>31</td><td>80</td><td>21</td><td>30</td><td>2013-02-05 21:00:00</td></tr>\n",
              "\t<tr><td>2013</td><td>2</td><td> 6</td><td>2125</td><td>2129</td><td>-4</td><td>2207</td><td>2224</td><td>-17</td><td>EV</td><td>4619</td><td>N12564</td><td>EWR</td><td>PHL</td><td>28</td><td>80</td><td>21</td><td>29</td><td>2013-02-06 21:00:00</td></tr>\n",
              "\t<tr><td>2013</td><td>2</td><td> 7</td><td>2145</td><td>2129</td><td>16</td><td>2234</td><td>2224</td><td> 10</td><td>EV</td><td>4619</td><td>N16918</td><td>EWR</td><td>PHL</td><td>30</td><td>80</td><td>21</td><td>29</td><td>2013-02-07 21:00:00</td></tr>\n",
              "\t<tr><td>2013</td><td>2</td><td> 8</td><td>  NA</td><td>2129</td><td>NA</td><td>  NA</td><td>2224</td><td> NA</td><td>EV</td><td>4619</td><td>N14952</td><td>EWR</td><td>PHL</td><td>NA</td><td>80</td><td>21</td><td>29</td><td>2013-02-08 21:00:00</td></tr>\n",
              "\t<tr><td>2013</td><td>2</td><td> 9</td><td>1619</td><td>1617</td><td> 2</td><td>1706</td><td>1722</td><td>-16</td><td>EV</td><td>4616</td><td>N10575</td><td>EWR</td><td>PHL</td><td>25</td><td>80</td><td>16</td><td>17</td><td>2013-02-09 16:00:00</td></tr>\n",
              "\t<tr><td>2013</td><td>2</td><td>10</td><td>2127</td><td>2129</td><td>-2</td><td>2209</td><td>2224</td><td>-15</td><td>EV</td><td>4619</td><td>N41104</td><td>EWR</td><td>PHL</td><td>23</td><td>80</td><td>21</td><td>29</td><td>2013-02-10 21:00:00</td></tr>\n",
              "\t<tr><td>2013</td><td>2</td><td>11</td><td>2305</td><td>2129</td><td>96</td><td>   3</td><td>2224</td><td> 99</td><td>EV</td><td>4619</td><td>N11565</td><td>EWR</td><td>PHL</td><td>39</td><td>80</td><td>21</td><td>29</td><td>2013-02-11 21:00:00</td></tr>\n",
              "\t<tr><td>2013</td><td>2</td><td>12</td><td>2123</td><td>2130</td><td>-7</td><td>2211</td><td>2225</td><td>-14</td><td>EV</td><td>4619</td><td>N12921</td><td>EWR</td><td>PHL</td><td>21</td><td>80</td><td>21</td><td>30</td><td>2013-02-12 21:00:00</td></tr>\n",
              "\t<tr><td>2013</td><td>3</td><td> 2</td><td>1926</td><td>1929</td><td>-3</td><td>2011</td><td>2023</td><td>-12</td><td>EV</td><td>4457</td><td>N21144</td><td>EWR</td><td>PHL</td><td>30</td><td>80</td><td>19</td><td>29</td><td>2013-03-02 19:00:00</td></tr>\n",
              "\t<tr><td>2013</td><td>3</td><td> 9</td><td>1959</td><td>2000</td><td>-1</td><td>2052</td><td>2054</td><td> -2</td><td>EV</td><td>4457</td><td>N19554</td><td>EWR</td><td>PHL</td><td>27</td><td>80</td><td>20</td><td> 0</td><td>2013-03-09 20:00:00</td></tr>\n",
              "\t<tr><td>2013</td><td>3</td><td>16</td><td>1947</td><td>1950</td><td>-3</td><td>2055</td><td>2044</td><td> 11</td><td>EV</td><td>4457</td><td>N48901</td><td>EWR</td><td>PHL</td><td>31</td><td>80</td><td>19</td><td>50</td><td>2013-03-16 19:00:00</td></tr>\n",
              "\t<tr><td>2013</td><td>3</td><td>23</td><td>1946</td><td>1950</td><td>-4</td><td>2030</td><td>2044</td><td>-14</td><td>EV</td><td>4457</td><td>N13994</td><td>EWR</td><td>PHL</td><td>26</td><td>80</td><td>19</td><td>50</td><td>2013-03-23 19:00:00</td></tr>\n",
              "\t<tr><td>2013</td><td>3</td><td>30</td><td>1942</td><td>1950</td><td>-8</td><td>2026</td><td>2044</td><td>-18</td><td>EV</td><td>4457</td><td>N12569</td><td>EWR</td><td>PHL</td><td>24</td><td>80</td><td>19</td><td>50</td><td>2013-03-30 19:00:00</td></tr>\n",
              "\t<tr><td>2013</td><td>4</td><td> 6</td><td>1948</td><td>1950</td><td>-2</td><td>2034</td><td>2044</td><td>-10</td><td>EV</td><td>4457</td><td>N29917</td><td>EWR</td><td>PHL</td><td>25</td><td>80</td><td>19</td><td>50</td><td>2013-04-06 19:00:00</td></tr>\n",
              "\t<tr><td>2013</td><td>7</td><td>27</td><td>  NA</td><td> 106</td><td>NA</td><td>  NA</td><td> 245</td><td> NA</td><td>US</td><td>1632</td><td>NA    </td><td>EWR</td><td>LGA</td><td>NA</td><td>17</td><td> 1</td><td> 6</td><td>2013-07-27 01:00:00</td></tr>\n",
              "</tbody>\n",
              "</table>\n"
            ],
            "text/markdown": "\nA tibble: 336776 × 19\n\n| year &lt;int&gt; | month &lt;int&gt; | day &lt;int&gt; | dep_time &lt;int&gt; | sched_dep_time &lt;int&gt; | dep_delay &lt;dbl&gt; | arr_time &lt;int&gt; | sched_arr_time &lt;int&gt; | arr_delay &lt;dbl&gt; | carrier &lt;chr&gt; | flight &lt;int&gt; | tailnum &lt;chr&gt; | origin &lt;chr&gt; | dest &lt;chr&gt; | air_time &lt;dbl&gt; | distance &lt;dbl&gt; | hour &lt;dbl&gt; | minute &lt;dbl&gt; | time_hour &lt;dttm&gt; |\n|---|---|---|---|---|---|---|---|---|---|---|---|---|---|---|---|---|---|---|\n| 2013 | 1 |  1 |  857 | 900 |   -3 | 1516 | 1530 |  -14 | HA | 51 | N380HA | JFK | HNL | 659 | 4983 | 9 | 0 | 2013-01-01 09:00:00 |\n| 2013 | 1 |  2 |  909 | 900 |    9 | 1525 | 1530 |   -5 | HA | 51 | N380HA | JFK | HNL | 638 | 4983 | 9 | 0 | 2013-01-02 09:00:00 |\n| 2013 | 1 |  3 |  914 | 900 |   14 | 1504 | 1530 |  -26 | HA | 51 | N380HA | JFK | HNL | 616 | 4983 | 9 | 0 | 2013-01-03 09:00:00 |\n| 2013 | 1 |  4 |  900 | 900 |    0 | 1516 | 1530 |  -14 | HA | 51 | N384HA | JFK | HNL | 639 | 4983 | 9 | 0 | 2013-01-04 09:00:00 |\n| 2013 | 1 |  5 |  858 | 900 |   -2 | 1519 | 1530 |  -11 | HA | 51 | N381HA | JFK | HNL | 635 | 4983 | 9 | 0 | 2013-01-05 09:00:00 |\n| 2013 | 1 |  6 | 1019 | 900 |   79 | 1558 | 1530 |   28 | HA | 51 | N385HA | JFK | HNL | 611 | 4983 | 9 | 0 | 2013-01-06 09:00:00 |\n| 2013 | 1 |  7 | 1042 | 900 |  102 | 1620 | 1530 |   50 | HA | 51 | N385HA | JFK | HNL | 612 | 4983 | 9 | 0 | 2013-01-07 09:00:00 |\n| 2013 | 1 |  8 |  901 | 900 |    1 | 1504 | 1530 |  -26 | HA | 51 | N389HA | JFK | HNL | 645 | 4983 | 9 | 0 | 2013-01-08 09:00:00 |\n| 2013 | 1 |  9 |  641 | 900 | 1301 | 1242 | 1530 | 1272 | HA | 51 | N384HA | JFK | HNL | 640 | 4983 | 9 | 0 | 2013-01-09 09:00:00 |\n| 2013 | 1 | 10 |  859 | 900 |   -1 | 1449 | 1530 |  -41 | HA | 51 | N388HA | JFK | HNL | 633 | 4983 | 9 | 0 | 2013-01-10 09:00:00 |\n| 2013 | 1 | 11 |  855 | 900 |   -5 | 1442 | 1530 |  -48 | HA | 51 | N383HA | JFK | HNL | 613 | 4983 | 9 | 0 | 2013-01-11 09:00:00 |\n| 2013 | 1 | 12 |  901 | 900 |    1 | 1452 | 1530 |  -38 | HA | 51 | N383HA | JFK | HNL | 615 | 4983 | 9 | 0 | 2013-01-12 09:00:00 |\n| 2013 | 1 | 13 |  856 | 900 |   -4 | 1523 | 1530 |   -7 | HA | 51 | N381HA | JFK | HNL | 647 | 4983 | 9 | 0 | 2013-01-13 09:00:00 |\n| 2013 | 1 | 14 |  859 | 900 |   -1 | 1456 | 1530 |  -34 | HA | 51 | N382HA | JFK | HNL | 622 | 4983 | 9 | 0 | 2013-01-14 09:00:00 |\n| 2013 | 1 | 15 |  856 | 900 |   -4 | 1439 | 1530 |  -51 | HA | 51 | N384HA | JFK | HNL | 618 | 4983 | 9 | 0 | 2013-01-15 09:00:00 |\n| 2013 | 1 | 16 |  858 | 900 |   -2 | 1510 | 1530 |  -20 | HA | 51 | N384HA | JFK | HNL | 640 | 4983 | 9 | 0 | 2013-01-16 09:00:00 |\n| 2013 | 1 | 17 |  859 | 900 |   -1 | 1513 | 1530 |  -17 | HA | 51 | N381HA | JFK | HNL | 648 | 4983 | 9 | 0 | 2013-01-17 09:00:00 |\n| 2013 | 1 | 18 | 1103 | 900 |  123 | 1635 | 1530 |   65 | HA | 51 | N388HA | JFK | HNL | 611 | 4983 | 9 | 0 | 2013-01-18 09:00:00 |\n| 2013 | 1 | 19 |  854 | 900 |   -6 | 1458 | 1530 |  -32 | HA | 51 | N386HA | JFK | HNL | 630 | 4983 | 9 | 0 | 2013-01-19 09:00:00 |\n| 2013 | 1 | 20 |  900 | 900 |    0 | 1452 | 1530 |  -38 | HA | 51 | N384HA | JFK | HNL | 629 | 4983 | 9 | 0 | 2013-01-20 09:00:00 |\n| 2013 | 1 | 21 |  853 | 900 |   -7 | 1459 | 1530 |  -31 | HA | 51 | N380HA | JFK | HNL | 650 | 4983 | 9 | 0 | 2013-01-21 09:00:00 |\n| 2013 | 1 | 22 |  853 | 900 |   -7 | 1506 | 1530 |  -24 | HA | 51 | N381HA | JFK | HNL | 632 | 4983 | 9 | 0 | 2013-01-22 09:00:00 |\n| 2013 | 1 | 23 | 1041 | 900 |  101 | 1652 | 1530 |   82 | HA | 51 | N380HA | JFK | HNL | 653 | 4983 | 9 | 0 | 2013-01-23 09:00:00 |\n| 2013 | 1 | 24 |  854 | 900 |   -6 | 1520 | 1530 |  -10 | HA | 51 | N389HA | JFK | HNL | 657 | 4983 | 9 | 0 | 2013-01-24 09:00:00 |\n| 2013 | 1 | 25 |  920 | 900 |   20 | 1539 | 1530 |    9 | HA | 51 | N382HA | JFK | HNL | 653 | 4983 | 9 | 0 | 2013-01-25 09:00:00 |\n| 2013 | 1 | 26 |  901 | 900 |    1 | 1536 | 1530 |    6 | HA | 51 | N385HA | JFK | HNL | 660 | 4983 | 9 | 0 | 2013-01-26 09:00:00 |\n| 2013 | 1 | 27 |  859 | 900 |   -1 | 1504 | 1530 |  -26 | HA | 51 | N380HA | JFK | HNL | 646 | 4983 | 9 | 0 | 2013-01-27 09:00:00 |\n| 2013 | 1 | 28 |  856 | 900 |   -4 | 1513 | 1530 |  -17 | HA | 51 | N381HA | JFK | HNL | 648 | 4983 | 9 | 0 | 2013-01-28 09:00:00 |\n| 2013 | 1 | 29 |  855 | 900 |   -5 | 1504 | 1530 |  -26 | HA | 51 | N383HA | JFK | HNL | 650 | 4983 | 9 | 0 | 2013-01-29 09:00:00 |\n| 2013 | 1 | 30 |  855 | 900 |   -5 | 1441 | 1530 |  -49 | HA | 51 | N388HA | JFK | HNL | 613 | 4983 | 9 | 0 | 2013-01-30 09:00:00 |\n| ⋮ | ⋮ | ⋮ | ⋮ | ⋮ | ⋮ | ⋮ | ⋮ | ⋮ | ⋮ | ⋮ | ⋮ | ⋮ | ⋮ | ⋮ | ⋮ | ⋮ | ⋮ | ⋮ |\n| 2013 | 1 | 21 | 2123 | 2129 | -6 | 2216 | 2224 |  -8 | EV | 4619 | N19554 | EWR | PHL | 32 | 80 | 21 | 29 | 2013-01-21 21:00:00 |\n| 2013 | 1 | 22 | 2203 | 2130 | 33 | 2317 | 2225 |  52 | EV | 4619 | N13538 | EWR | PHL | 31 | 80 | 21 | 30 | 2013-01-22 21:00:00 |\n| 2013 | 1 | 23 | 2128 | 2129 | -1 | 2221 | 2224 |  -3 | EV | 4619 | N12135 | EWR | PHL | 23 | 80 | 21 | 29 | 2013-01-23 21:00:00 |\n| 2013 | 1 | 24 | 2241 | 2129 | 72 | 2350 | 2224 |  86 | EV | 3271 | N14923 | EWR | PHL | 31 | 80 | 21 | 29 | 2013-01-24 21:00:00 |\n| 2013 | 1 | 25 | 2305 | 2129 | 96 | 2357 | 2224 |  93 | EV | 4619 | N14562 | EWR | PHL | 26 | 80 | 21 | 29 | 2013-01-25 21:00:00 |\n| 2013 | 1 | 26 | 1621 | 1617 |  4 | 1705 | 1722 | -17 | EV | 4616 | N14153 | EWR | PHL | 27 | 80 | 16 | 17 | 2013-01-26 16:00:00 |\n| 2013 | 1 | 27 | 2128 | 2129 | -1 | 2213 | 2224 | -11 | EV | 4619 | N13969 | EWR | PHL | 29 | 80 | 21 | 29 | 2013-01-27 21:00:00 |\n| 2013 | 1 | 28 | 2201 | 2129 | 32 | 2259 | 2224 |  35 | EV | 4619 | N13550 | EWR | PHL | 36 | 80 | 21 | 29 | 2013-01-28 21:00:00 |\n| 2013 | 1 | 29 | 2131 | 2130 |  1 | 2221 | 2225 |  -4 | EV | 4619 | N13538 | EWR | PHL | 25 | 80 | 21 | 30 | 2013-01-29 21:00:00 |\n| 2013 | 1 | 30 | 2244 | 2129 | 75 | 2341 | 2224 |  77 | EV | 4619 | N27962 | EWR | PHL | 37 | 80 | 21 | 29 | 2013-01-30 21:00:00 |\n| 2013 | 1 | 31 | 2129 | 2129 |  0 | 2234 | 2224 |  10 | EV | 3271 | N13553 | EWR | PHL | 28 | 80 | 21 | 29 | 2013-01-31 21:00:00 |\n| 2013 | 2 |  1 | 2128 | 2129 | -1 | 2216 | 2224 |  -8 | EV | 4619 | N13969 | EWR | PHL | 24 | 80 | 21 | 29 | 2013-02-01 21:00:00 |\n| 2013 | 2 |  2 | 1610 | 1617 | -7 | 1702 | 1722 | -20 | EV | 4616 | N18120 | EWR | PHL | 33 | 80 | 16 | 17 | 2013-02-02 16:00:00 |\n| 2013 | 2 |  3 | 2153 | 2129 | 24 | 2247 | 2224 |  23 | EV | 4619 | N13913 | EWR | PHL | 21 | 80 | 21 | 29 | 2013-02-03 21:00:00 |\n| 2013 | 2 |  4 | 2231 | 2129 | 62 | 2333 | 2224 |  69 | EV | 4619 | N29917 | EWR | PHL | 28 | 80 | 21 | 29 | 2013-02-04 21:00:00 |\n| 2013 | 2 |  5 | 2136 | 2130 |  6 | 2238 | 2225 |  13 | EV | 4619 | N26141 | EWR | PHL | 31 | 80 | 21 | 30 | 2013-02-05 21:00:00 |\n| 2013 | 2 |  6 | 2125 | 2129 | -4 | 2207 | 2224 | -17 | EV | 4619 | N12564 | EWR | PHL | 28 | 80 | 21 | 29 | 2013-02-06 21:00:00 |\n| 2013 | 2 |  7 | 2145 | 2129 | 16 | 2234 | 2224 |  10 | EV | 4619 | N16918 | EWR | PHL | 30 | 80 | 21 | 29 | 2013-02-07 21:00:00 |\n| 2013 | 2 |  8 |   NA | 2129 | NA |   NA | 2224 |  NA | EV | 4619 | N14952 | EWR | PHL | NA | 80 | 21 | 29 | 2013-02-08 21:00:00 |\n| 2013 | 2 |  9 | 1619 | 1617 |  2 | 1706 | 1722 | -16 | EV | 4616 | N10575 | EWR | PHL | 25 | 80 | 16 | 17 | 2013-02-09 16:00:00 |\n| 2013 | 2 | 10 | 2127 | 2129 | -2 | 2209 | 2224 | -15 | EV | 4619 | N41104 | EWR | PHL | 23 | 80 | 21 | 29 | 2013-02-10 21:00:00 |\n| 2013 | 2 | 11 | 2305 | 2129 | 96 |    3 | 2224 |  99 | EV | 4619 | N11565 | EWR | PHL | 39 | 80 | 21 | 29 | 2013-02-11 21:00:00 |\n| 2013 | 2 | 12 | 2123 | 2130 | -7 | 2211 | 2225 | -14 | EV | 4619 | N12921 | EWR | PHL | 21 | 80 | 21 | 30 | 2013-02-12 21:00:00 |\n| 2013 | 3 |  2 | 1926 | 1929 | -3 | 2011 | 2023 | -12 | EV | 4457 | N21144 | EWR | PHL | 30 | 80 | 19 | 29 | 2013-03-02 19:00:00 |\n| 2013 | 3 |  9 | 1959 | 2000 | -1 | 2052 | 2054 |  -2 | EV | 4457 | N19554 | EWR | PHL | 27 | 80 | 20 |  0 | 2013-03-09 20:00:00 |\n| 2013 | 3 | 16 | 1947 | 1950 | -3 | 2055 | 2044 |  11 | EV | 4457 | N48901 | EWR | PHL | 31 | 80 | 19 | 50 | 2013-03-16 19:00:00 |\n| 2013 | 3 | 23 | 1946 | 1950 | -4 | 2030 | 2044 | -14 | EV | 4457 | N13994 | EWR | PHL | 26 | 80 | 19 | 50 | 2013-03-23 19:00:00 |\n| 2013 | 3 | 30 | 1942 | 1950 | -8 | 2026 | 2044 | -18 | EV | 4457 | N12569 | EWR | PHL | 24 | 80 | 19 | 50 | 2013-03-30 19:00:00 |\n| 2013 | 4 |  6 | 1948 | 1950 | -2 | 2034 | 2044 | -10 | EV | 4457 | N29917 | EWR | PHL | 25 | 80 | 19 | 50 | 2013-04-06 19:00:00 |\n| 2013 | 7 | 27 |   NA |  106 | NA |   NA |  245 |  NA | US | 1632 | NA     | EWR | LGA | NA | 17 |  1 |  6 | 2013-07-27 01:00:00 |\n\n",
            "text/latex": "A tibble: 336776 × 19\n\\begin{tabular}{lllllllllllllllllll}\n year & month & day & dep\\_time & sched\\_dep\\_time & dep\\_delay & arr\\_time & sched\\_arr\\_time & arr\\_delay & carrier & flight & tailnum & origin & dest & air\\_time & distance & hour & minute & time\\_hour\\\\\n <int> & <int> & <int> & <int> & <int> & <dbl> & <int> & <int> & <dbl> & <chr> & <int> & <chr> & <chr> & <chr> & <dbl> & <dbl> & <dbl> & <dbl> & <dttm>\\\\\n\\hline\n\t 2013 & 1 &  1 &  857 & 900 &   -3 & 1516 & 1530 &  -14 & HA & 51 & N380HA & JFK & HNL & 659 & 4983 & 9 & 0 & 2013-01-01 09:00:00\\\\\n\t 2013 & 1 &  2 &  909 & 900 &    9 & 1525 & 1530 &   -5 & HA & 51 & N380HA & JFK & HNL & 638 & 4983 & 9 & 0 & 2013-01-02 09:00:00\\\\\n\t 2013 & 1 &  3 &  914 & 900 &   14 & 1504 & 1530 &  -26 & HA & 51 & N380HA & JFK & HNL & 616 & 4983 & 9 & 0 & 2013-01-03 09:00:00\\\\\n\t 2013 & 1 &  4 &  900 & 900 &    0 & 1516 & 1530 &  -14 & HA & 51 & N384HA & JFK & HNL & 639 & 4983 & 9 & 0 & 2013-01-04 09:00:00\\\\\n\t 2013 & 1 &  5 &  858 & 900 &   -2 & 1519 & 1530 &  -11 & HA & 51 & N381HA & JFK & HNL & 635 & 4983 & 9 & 0 & 2013-01-05 09:00:00\\\\\n\t 2013 & 1 &  6 & 1019 & 900 &   79 & 1558 & 1530 &   28 & HA & 51 & N385HA & JFK & HNL & 611 & 4983 & 9 & 0 & 2013-01-06 09:00:00\\\\\n\t 2013 & 1 &  7 & 1042 & 900 &  102 & 1620 & 1530 &   50 & HA & 51 & N385HA & JFK & HNL & 612 & 4983 & 9 & 0 & 2013-01-07 09:00:00\\\\\n\t 2013 & 1 &  8 &  901 & 900 &    1 & 1504 & 1530 &  -26 & HA & 51 & N389HA & JFK & HNL & 645 & 4983 & 9 & 0 & 2013-01-08 09:00:00\\\\\n\t 2013 & 1 &  9 &  641 & 900 & 1301 & 1242 & 1530 & 1272 & HA & 51 & N384HA & JFK & HNL & 640 & 4983 & 9 & 0 & 2013-01-09 09:00:00\\\\\n\t 2013 & 1 & 10 &  859 & 900 &   -1 & 1449 & 1530 &  -41 & HA & 51 & N388HA & JFK & HNL & 633 & 4983 & 9 & 0 & 2013-01-10 09:00:00\\\\\n\t 2013 & 1 & 11 &  855 & 900 &   -5 & 1442 & 1530 &  -48 & HA & 51 & N383HA & JFK & HNL & 613 & 4983 & 9 & 0 & 2013-01-11 09:00:00\\\\\n\t 2013 & 1 & 12 &  901 & 900 &    1 & 1452 & 1530 &  -38 & HA & 51 & N383HA & JFK & HNL & 615 & 4983 & 9 & 0 & 2013-01-12 09:00:00\\\\\n\t 2013 & 1 & 13 &  856 & 900 &   -4 & 1523 & 1530 &   -7 & HA & 51 & N381HA & JFK & HNL & 647 & 4983 & 9 & 0 & 2013-01-13 09:00:00\\\\\n\t 2013 & 1 & 14 &  859 & 900 &   -1 & 1456 & 1530 &  -34 & HA & 51 & N382HA & JFK & HNL & 622 & 4983 & 9 & 0 & 2013-01-14 09:00:00\\\\\n\t 2013 & 1 & 15 &  856 & 900 &   -4 & 1439 & 1530 &  -51 & HA & 51 & N384HA & JFK & HNL & 618 & 4983 & 9 & 0 & 2013-01-15 09:00:00\\\\\n\t 2013 & 1 & 16 &  858 & 900 &   -2 & 1510 & 1530 &  -20 & HA & 51 & N384HA & JFK & HNL & 640 & 4983 & 9 & 0 & 2013-01-16 09:00:00\\\\\n\t 2013 & 1 & 17 &  859 & 900 &   -1 & 1513 & 1530 &  -17 & HA & 51 & N381HA & JFK & HNL & 648 & 4983 & 9 & 0 & 2013-01-17 09:00:00\\\\\n\t 2013 & 1 & 18 & 1103 & 900 &  123 & 1635 & 1530 &   65 & HA & 51 & N388HA & JFK & HNL & 611 & 4983 & 9 & 0 & 2013-01-18 09:00:00\\\\\n\t 2013 & 1 & 19 &  854 & 900 &   -6 & 1458 & 1530 &  -32 & HA & 51 & N386HA & JFK & HNL & 630 & 4983 & 9 & 0 & 2013-01-19 09:00:00\\\\\n\t 2013 & 1 & 20 &  900 & 900 &    0 & 1452 & 1530 &  -38 & HA & 51 & N384HA & JFK & HNL & 629 & 4983 & 9 & 0 & 2013-01-20 09:00:00\\\\\n\t 2013 & 1 & 21 &  853 & 900 &   -7 & 1459 & 1530 &  -31 & HA & 51 & N380HA & JFK & HNL & 650 & 4983 & 9 & 0 & 2013-01-21 09:00:00\\\\\n\t 2013 & 1 & 22 &  853 & 900 &   -7 & 1506 & 1530 &  -24 & HA & 51 & N381HA & JFK & HNL & 632 & 4983 & 9 & 0 & 2013-01-22 09:00:00\\\\\n\t 2013 & 1 & 23 & 1041 & 900 &  101 & 1652 & 1530 &   82 & HA & 51 & N380HA & JFK & HNL & 653 & 4983 & 9 & 0 & 2013-01-23 09:00:00\\\\\n\t 2013 & 1 & 24 &  854 & 900 &   -6 & 1520 & 1530 &  -10 & HA & 51 & N389HA & JFK & HNL & 657 & 4983 & 9 & 0 & 2013-01-24 09:00:00\\\\\n\t 2013 & 1 & 25 &  920 & 900 &   20 & 1539 & 1530 &    9 & HA & 51 & N382HA & JFK & HNL & 653 & 4983 & 9 & 0 & 2013-01-25 09:00:00\\\\\n\t 2013 & 1 & 26 &  901 & 900 &    1 & 1536 & 1530 &    6 & HA & 51 & N385HA & JFK & HNL & 660 & 4983 & 9 & 0 & 2013-01-26 09:00:00\\\\\n\t 2013 & 1 & 27 &  859 & 900 &   -1 & 1504 & 1530 &  -26 & HA & 51 & N380HA & JFK & HNL & 646 & 4983 & 9 & 0 & 2013-01-27 09:00:00\\\\\n\t 2013 & 1 & 28 &  856 & 900 &   -4 & 1513 & 1530 &  -17 & HA & 51 & N381HA & JFK & HNL & 648 & 4983 & 9 & 0 & 2013-01-28 09:00:00\\\\\n\t 2013 & 1 & 29 &  855 & 900 &   -5 & 1504 & 1530 &  -26 & HA & 51 & N383HA & JFK & HNL & 650 & 4983 & 9 & 0 & 2013-01-29 09:00:00\\\\\n\t 2013 & 1 & 30 &  855 & 900 &   -5 & 1441 & 1530 &  -49 & HA & 51 & N388HA & JFK & HNL & 613 & 4983 & 9 & 0 & 2013-01-30 09:00:00\\\\\n\t ⋮ & ⋮ & ⋮ & ⋮ & ⋮ & ⋮ & ⋮ & ⋮ & ⋮ & ⋮ & ⋮ & ⋮ & ⋮ & ⋮ & ⋮ & ⋮ & ⋮ & ⋮ & ⋮\\\\\n\t 2013 & 1 & 21 & 2123 & 2129 & -6 & 2216 & 2224 &  -8 & EV & 4619 & N19554 & EWR & PHL & 32 & 80 & 21 & 29 & 2013-01-21 21:00:00\\\\\n\t 2013 & 1 & 22 & 2203 & 2130 & 33 & 2317 & 2225 &  52 & EV & 4619 & N13538 & EWR & PHL & 31 & 80 & 21 & 30 & 2013-01-22 21:00:00\\\\\n\t 2013 & 1 & 23 & 2128 & 2129 & -1 & 2221 & 2224 &  -3 & EV & 4619 & N12135 & EWR & PHL & 23 & 80 & 21 & 29 & 2013-01-23 21:00:00\\\\\n\t 2013 & 1 & 24 & 2241 & 2129 & 72 & 2350 & 2224 &  86 & EV & 3271 & N14923 & EWR & PHL & 31 & 80 & 21 & 29 & 2013-01-24 21:00:00\\\\\n\t 2013 & 1 & 25 & 2305 & 2129 & 96 & 2357 & 2224 &  93 & EV & 4619 & N14562 & EWR & PHL & 26 & 80 & 21 & 29 & 2013-01-25 21:00:00\\\\\n\t 2013 & 1 & 26 & 1621 & 1617 &  4 & 1705 & 1722 & -17 & EV & 4616 & N14153 & EWR & PHL & 27 & 80 & 16 & 17 & 2013-01-26 16:00:00\\\\\n\t 2013 & 1 & 27 & 2128 & 2129 & -1 & 2213 & 2224 & -11 & EV & 4619 & N13969 & EWR & PHL & 29 & 80 & 21 & 29 & 2013-01-27 21:00:00\\\\\n\t 2013 & 1 & 28 & 2201 & 2129 & 32 & 2259 & 2224 &  35 & EV & 4619 & N13550 & EWR & PHL & 36 & 80 & 21 & 29 & 2013-01-28 21:00:00\\\\\n\t 2013 & 1 & 29 & 2131 & 2130 &  1 & 2221 & 2225 &  -4 & EV & 4619 & N13538 & EWR & PHL & 25 & 80 & 21 & 30 & 2013-01-29 21:00:00\\\\\n\t 2013 & 1 & 30 & 2244 & 2129 & 75 & 2341 & 2224 &  77 & EV & 4619 & N27962 & EWR & PHL & 37 & 80 & 21 & 29 & 2013-01-30 21:00:00\\\\\n\t 2013 & 1 & 31 & 2129 & 2129 &  0 & 2234 & 2224 &  10 & EV & 3271 & N13553 & EWR & PHL & 28 & 80 & 21 & 29 & 2013-01-31 21:00:00\\\\\n\t 2013 & 2 &  1 & 2128 & 2129 & -1 & 2216 & 2224 &  -8 & EV & 4619 & N13969 & EWR & PHL & 24 & 80 & 21 & 29 & 2013-02-01 21:00:00\\\\\n\t 2013 & 2 &  2 & 1610 & 1617 & -7 & 1702 & 1722 & -20 & EV & 4616 & N18120 & EWR & PHL & 33 & 80 & 16 & 17 & 2013-02-02 16:00:00\\\\\n\t 2013 & 2 &  3 & 2153 & 2129 & 24 & 2247 & 2224 &  23 & EV & 4619 & N13913 & EWR & PHL & 21 & 80 & 21 & 29 & 2013-02-03 21:00:00\\\\\n\t 2013 & 2 &  4 & 2231 & 2129 & 62 & 2333 & 2224 &  69 & EV & 4619 & N29917 & EWR & PHL & 28 & 80 & 21 & 29 & 2013-02-04 21:00:00\\\\\n\t 2013 & 2 &  5 & 2136 & 2130 &  6 & 2238 & 2225 &  13 & EV & 4619 & N26141 & EWR & PHL & 31 & 80 & 21 & 30 & 2013-02-05 21:00:00\\\\\n\t 2013 & 2 &  6 & 2125 & 2129 & -4 & 2207 & 2224 & -17 & EV & 4619 & N12564 & EWR & PHL & 28 & 80 & 21 & 29 & 2013-02-06 21:00:00\\\\\n\t 2013 & 2 &  7 & 2145 & 2129 & 16 & 2234 & 2224 &  10 & EV & 4619 & N16918 & EWR & PHL & 30 & 80 & 21 & 29 & 2013-02-07 21:00:00\\\\\n\t 2013 & 2 &  8 &   NA & 2129 & NA &   NA & 2224 &  NA & EV & 4619 & N14952 & EWR & PHL & NA & 80 & 21 & 29 & 2013-02-08 21:00:00\\\\\n\t 2013 & 2 &  9 & 1619 & 1617 &  2 & 1706 & 1722 & -16 & EV & 4616 & N10575 & EWR & PHL & 25 & 80 & 16 & 17 & 2013-02-09 16:00:00\\\\\n\t 2013 & 2 & 10 & 2127 & 2129 & -2 & 2209 & 2224 & -15 & EV & 4619 & N41104 & EWR & PHL & 23 & 80 & 21 & 29 & 2013-02-10 21:00:00\\\\\n\t 2013 & 2 & 11 & 2305 & 2129 & 96 &    3 & 2224 &  99 & EV & 4619 & N11565 & EWR & PHL & 39 & 80 & 21 & 29 & 2013-02-11 21:00:00\\\\\n\t 2013 & 2 & 12 & 2123 & 2130 & -7 & 2211 & 2225 & -14 & EV & 4619 & N12921 & EWR & PHL & 21 & 80 & 21 & 30 & 2013-02-12 21:00:00\\\\\n\t 2013 & 3 &  2 & 1926 & 1929 & -3 & 2011 & 2023 & -12 & EV & 4457 & N21144 & EWR & PHL & 30 & 80 & 19 & 29 & 2013-03-02 19:00:00\\\\\n\t 2013 & 3 &  9 & 1959 & 2000 & -1 & 2052 & 2054 &  -2 & EV & 4457 & N19554 & EWR & PHL & 27 & 80 & 20 &  0 & 2013-03-09 20:00:00\\\\\n\t 2013 & 3 & 16 & 1947 & 1950 & -3 & 2055 & 2044 &  11 & EV & 4457 & N48901 & EWR & PHL & 31 & 80 & 19 & 50 & 2013-03-16 19:00:00\\\\\n\t 2013 & 3 & 23 & 1946 & 1950 & -4 & 2030 & 2044 & -14 & EV & 4457 & N13994 & EWR & PHL & 26 & 80 & 19 & 50 & 2013-03-23 19:00:00\\\\\n\t 2013 & 3 & 30 & 1942 & 1950 & -8 & 2026 & 2044 & -18 & EV & 4457 & N12569 & EWR & PHL & 24 & 80 & 19 & 50 & 2013-03-30 19:00:00\\\\\n\t 2013 & 4 &  6 & 1948 & 1950 & -2 & 2034 & 2044 & -10 & EV & 4457 & N29917 & EWR & PHL & 25 & 80 & 19 & 50 & 2013-04-06 19:00:00\\\\\n\t 2013 & 7 & 27 &   NA &  106 & NA &   NA &  245 &  NA & US & 1632 & NA     & EWR & LGA & NA & 17 &  1 &  6 & 2013-07-27 01:00:00\\\\\n\\end{tabular}\n",
            "text/plain": [
              "       year month day dep_time sched_dep_time dep_delay arr_time sched_arr_time\n",
              "1      2013 1      1   857     900              -3      1516     1530          \n",
              "2      2013 1      2   909     900               9      1525     1530          \n",
              "3      2013 1      3   914     900              14      1504     1530          \n",
              "4      2013 1      4   900     900               0      1516     1530          \n",
              "5      2013 1      5   858     900              -2      1519     1530          \n",
              "6      2013 1      6  1019     900              79      1558     1530          \n",
              "7      2013 1      7  1042     900             102      1620     1530          \n",
              "8      2013 1      8   901     900               1      1504     1530          \n",
              "9      2013 1      9   641     900            1301      1242     1530          \n",
              "10     2013 1     10   859     900              -1      1449     1530          \n",
              "11     2013 1     11   855     900              -5      1442     1530          \n",
              "12     2013 1     12   901     900               1      1452     1530          \n",
              "13     2013 1     13   856     900              -4      1523     1530          \n",
              "14     2013 1     14   859     900              -1      1456     1530          \n",
              "15     2013 1     15   856     900              -4      1439     1530          \n",
              "16     2013 1     16   858     900              -2      1510     1530          \n",
              "17     2013 1     17   859     900              -1      1513     1530          \n",
              "18     2013 1     18  1103     900             123      1635     1530          \n",
              "19     2013 1     19   854     900              -6      1458     1530          \n",
              "20     2013 1     20   900     900               0      1452     1530          \n",
              "21     2013 1     21   853     900              -7      1459     1530          \n",
              "22     2013 1     22   853     900              -7      1506     1530          \n",
              "23     2013 1     23  1041     900             101      1652     1530          \n",
              "24     2013 1     24   854     900              -6      1520     1530          \n",
              "25     2013 1     25   920     900              20      1539     1530          \n",
              "26     2013 1     26   901     900               1      1536     1530          \n",
              "27     2013 1     27   859     900              -1      1504     1530          \n",
              "28     2013 1     28   856     900              -4      1513     1530          \n",
              "29     2013 1     29   855     900              -5      1504     1530          \n",
              "30     2013 1     30   855     900              -5      1441     1530          \n",
              "⋮      ⋮    ⋮     ⋮   ⋮        ⋮              ⋮         ⋮        ⋮             \n",
              "336747 2013 1     21  2123     2129           -6        2216     2224          \n",
              "336748 2013 1     22  2203     2130           33        2317     2225          \n",
              "336749 2013 1     23  2128     2129           -1        2221     2224          \n",
              "336750 2013 1     24  2241     2129           72        2350     2224          \n",
              "336751 2013 1     25  2305     2129           96        2357     2224          \n",
              "336752 2013 1     26  1621     1617            4        1705     1722          \n",
              "336753 2013 1     27  2128     2129           -1        2213     2224          \n",
              "336754 2013 1     28  2201     2129           32        2259     2224          \n",
              "336755 2013 1     29  2131     2130            1        2221     2225          \n",
              "336756 2013 1     30  2244     2129           75        2341     2224          \n",
              "336757 2013 1     31  2129     2129            0        2234     2224          \n",
              "336758 2013 2      1  2128     2129           -1        2216     2224          \n",
              "336759 2013 2      2  1610     1617           -7        1702     1722          \n",
              "336760 2013 2      3  2153     2129           24        2247     2224          \n",
              "336761 2013 2      4  2231     2129           62        2333     2224          \n",
              "336762 2013 2      5  2136     2130            6        2238     2225          \n",
              "336763 2013 2      6  2125     2129           -4        2207     2224          \n",
              "336764 2013 2      7  2145     2129           16        2234     2224          \n",
              "336765 2013 2      8    NA     2129           NA          NA     2224          \n",
              "336766 2013 2      9  1619     1617            2        1706     1722          \n",
              "336767 2013 2     10  2127     2129           -2        2209     2224          \n",
              "336768 2013 2     11  2305     2129           96           3     2224          \n",
              "336769 2013 2     12  2123     2130           -7        2211     2225          \n",
              "336770 2013 3      2  1926     1929           -3        2011     2023          \n",
              "336771 2013 3      9  1959     2000           -1        2052     2054          \n",
              "336772 2013 3     16  1947     1950           -3        2055     2044          \n",
              "336773 2013 3     23  1946     1950           -4        2030     2044          \n",
              "336774 2013 3     30  1942     1950           -8        2026     2044          \n",
              "336775 2013 4      6  1948     1950           -2        2034     2044          \n",
              "336776 2013 7     27    NA      106           NA          NA      245          \n",
              "       arr_delay carrier flight tailnum origin dest air_time distance hour\n",
              "1       -14      HA      51     N380HA  JFK    HNL  659      4983     9   \n",
              "2        -5      HA      51     N380HA  JFK    HNL  638      4983     9   \n",
              "3       -26      HA      51     N380HA  JFK    HNL  616      4983     9   \n",
              "4       -14      HA      51     N384HA  JFK    HNL  639      4983     9   \n",
              "5       -11      HA      51     N381HA  JFK    HNL  635      4983     9   \n",
              "6        28      HA      51     N385HA  JFK    HNL  611      4983     9   \n",
              "7        50      HA      51     N385HA  JFK    HNL  612      4983     9   \n",
              "8       -26      HA      51     N389HA  JFK    HNL  645      4983     9   \n",
              "9      1272      HA      51     N384HA  JFK    HNL  640      4983     9   \n",
              "10      -41      HA      51     N388HA  JFK    HNL  633      4983     9   \n",
              "11      -48      HA      51     N383HA  JFK    HNL  613      4983     9   \n",
              "12      -38      HA      51     N383HA  JFK    HNL  615      4983     9   \n",
              "13       -7      HA      51     N381HA  JFK    HNL  647      4983     9   \n",
              "14      -34      HA      51     N382HA  JFK    HNL  622      4983     9   \n",
              "15      -51      HA      51     N384HA  JFK    HNL  618      4983     9   \n",
              "16      -20      HA      51     N384HA  JFK    HNL  640      4983     9   \n",
              "17      -17      HA      51     N381HA  JFK    HNL  648      4983     9   \n",
              "18       65      HA      51     N388HA  JFK    HNL  611      4983     9   \n",
              "19      -32      HA      51     N386HA  JFK    HNL  630      4983     9   \n",
              "20      -38      HA      51     N384HA  JFK    HNL  629      4983     9   \n",
              "21      -31      HA      51     N380HA  JFK    HNL  650      4983     9   \n",
              "22      -24      HA      51     N381HA  JFK    HNL  632      4983     9   \n",
              "23       82      HA      51     N380HA  JFK    HNL  653      4983     9   \n",
              "24      -10      HA      51     N389HA  JFK    HNL  657      4983     9   \n",
              "25        9      HA      51     N382HA  JFK    HNL  653      4983     9   \n",
              "26        6      HA      51     N385HA  JFK    HNL  660      4983     9   \n",
              "27      -26      HA      51     N380HA  JFK    HNL  646      4983     9   \n",
              "28      -17      HA      51     N381HA  JFK    HNL  648      4983     9   \n",
              "29      -26      HA      51     N383HA  JFK    HNL  650      4983     9   \n",
              "30      -49      HA      51     N388HA  JFK    HNL  613      4983     9   \n",
              "⋮      ⋮         ⋮       ⋮      ⋮       ⋮      ⋮    ⋮        ⋮        ⋮   \n",
              "336747  -8       EV      4619   N19554  EWR    PHL  32       80       21  \n",
              "336748  52       EV      4619   N13538  EWR    PHL  31       80       21  \n",
              "336749  -3       EV      4619   N12135  EWR    PHL  23       80       21  \n",
              "336750  86       EV      3271   N14923  EWR    PHL  31       80       21  \n",
              "336751  93       EV      4619   N14562  EWR    PHL  26       80       21  \n",
              "336752 -17       EV      4616   N14153  EWR    PHL  27       80       16  \n",
              "336753 -11       EV      4619   N13969  EWR    PHL  29       80       21  \n",
              "336754  35       EV      4619   N13550  EWR    PHL  36       80       21  \n",
              "336755  -4       EV      4619   N13538  EWR    PHL  25       80       21  \n",
              "336756  77       EV      4619   N27962  EWR    PHL  37       80       21  \n",
              "336757  10       EV      3271   N13553  EWR    PHL  28       80       21  \n",
              "336758  -8       EV      4619   N13969  EWR    PHL  24       80       21  \n",
              "336759 -20       EV      4616   N18120  EWR    PHL  33       80       16  \n",
              "336760  23       EV      4619   N13913  EWR    PHL  21       80       21  \n",
              "336761  69       EV      4619   N29917  EWR    PHL  28       80       21  \n",
              "336762  13       EV      4619   N26141  EWR    PHL  31       80       21  \n",
              "336763 -17       EV      4619   N12564  EWR    PHL  28       80       21  \n",
              "336764  10       EV      4619   N16918  EWR    PHL  30       80       21  \n",
              "336765  NA       EV      4619   N14952  EWR    PHL  NA       80       21  \n",
              "336766 -16       EV      4616   N10575  EWR    PHL  25       80       16  \n",
              "336767 -15       EV      4619   N41104  EWR    PHL  23       80       21  \n",
              "336768  99       EV      4619   N11565  EWR    PHL  39       80       21  \n",
              "336769 -14       EV      4619   N12921  EWR    PHL  21       80       21  \n",
              "336770 -12       EV      4457   N21144  EWR    PHL  30       80       19  \n",
              "336771  -2       EV      4457   N19554  EWR    PHL  27       80       20  \n",
              "336772  11       EV      4457   N48901  EWR    PHL  31       80       19  \n",
              "336773 -14       EV      4457   N13994  EWR    PHL  26       80       19  \n",
              "336774 -18       EV      4457   N12569  EWR    PHL  24       80       19  \n",
              "336775 -10       EV      4457   N29917  EWR    PHL  25       80       19  \n",
              "336776  NA       US      1632   NA      EWR    LGA  NA       17        1  \n",
              "       minute time_hour          \n",
              "1      0      2013-01-01 09:00:00\n",
              "2      0      2013-01-02 09:00:00\n",
              "3      0      2013-01-03 09:00:00\n",
              "4      0      2013-01-04 09:00:00\n",
              "5      0      2013-01-05 09:00:00\n",
              "6      0      2013-01-06 09:00:00\n",
              "7      0      2013-01-07 09:00:00\n",
              "8      0      2013-01-08 09:00:00\n",
              "9      0      2013-01-09 09:00:00\n",
              "10     0      2013-01-10 09:00:00\n",
              "11     0      2013-01-11 09:00:00\n",
              "12     0      2013-01-12 09:00:00\n",
              "13     0      2013-01-13 09:00:00\n",
              "14     0      2013-01-14 09:00:00\n",
              "15     0      2013-01-15 09:00:00\n",
              "16     0      2013-01-16 09:00:00\n",
              "17     0      2013-01-17 09:00:00\n",
              "18     0      2013-01-18 09:00:00\n",
              "19     0      2013-01-19 09:00:00\n",
              "20     0      2013-01-20 09:00:00\n",
              "21     0      2013-01-21 09:00:00\n",
              "22     0      2013-01-22 09:00:00\n",
              "23     0      2013-01-23 09:00:00\n",
              "24     0      2013-01-24 09:00:00\n",
              "25     0      2013-01-25 09:00:00\n",
              "26     0      2013-01-26 09:00:00\n",
              "27     0      2013-01-27 09:00:00\n",
              "28     0      2013-01-28 09:00:00\n",
              "29     0      2013-01-29 09:00:00\n",
              "30     0      2013-01-30 09:00:00\n",
              "⋮      ⋮      ⋮                  \n",
              "336747 29     2013-01-21 21:00:00\n",
              "336748 30     2013-01-22 21:00:00\n",
              "336749 29     2013-01-23 21:00:00\n",
              "336750 29     2013-01-24 21:00:00\n",
              "336751 29     2013-01-25 21:00:00\n",
              "336752 17     2013-01-26 16:00:00\n",
              "336753 29     2013-01-27 21:00:00\n",
              "336754 29     2013-01-28 21:00:00\n",
              "336755 30     2013-01-29 21:00:00\n",
              "336756 29     2013-01-30 21:00:00\n",
              "336757 29     2013-01-31 21:00:00\n",
              "336758 29     2013-02-01 21:00:00\n",
              "336759 17     2013-02-02 16:00:00\n",
              "336760 29     2013-02-03 21:00:00\n",
              "336761 29     2013-02-04 21:00:00\n",
              "336762 30     2013-02-05 21:00:00\n",
              "336763 29     2013-02-06 21:00:00\n",
              "336764 29     2013-02-07 21:00:00\n",
              "336765 29     2013-02-08 21:00:00\n",
              "336766 17     2013-02-09 16:00:00\n",
              "336767 29     2013-02-10 21:00:00\n",
              "336768 29     2013-02-11 21:00:00\n",
              "336769 30     2013-02-12 21:00:00\n",
              "336770 29     2013-03-02 19:00:00\n",
              "336771  0     2013-03-09 20:00:00\n",
              "336772 50     2013-03-16 19:00:00\n",
              "336773 50     2013-03-23 19:00:00\n",
              "336774 50     2013-03-30 19:00:00\n",
              "336775 50     2013-04-06 19:00:00\n",
              "336776  6     2013-07-27 01:00:00"
            ]
          },
          "metadata": {}
        }
      ],
      "source": [
        "# solution\n",
        "help(flights) # NOTE: distance is in miles \n",
        "arrange(flights,desc(distance))"
      ]
    },
    {
      "cell_type": "markdown",
      "metadata": {
        "id": "Oqi4wVA_Wb2e"
      },
      "source": [
        "## Row operation #3: `distinct()`\n",
        "`distinct()` finds all the unique rows in a dataset. If you supply column names, it will find all unique combinations of those columns."
      ]
    },
    {
      "cell_type": "markdown",
      "metadata": {
        "id": "8D2Xk9cUWb2e"
      },
      "source": [
        "Here is an example: the number of rows in the dataset is "
      ]
    },
    {
      "cell_type": "code",
      "execution_count": null,
      "metadata": {
        "id": "4krhaYMCWb2e",
        "outputId": "80b08280-5b38-499e-c25b-ff8a8f58948c"
      },
      "outputs": [
        {
          "data": {
            "text/html": [
              "336776"
            ],
            "text/latex": [
              "336776"
            ],
            "text/markdown": [
              "336776"
            ],
            "text/plain": [
              "[1] 336776"
            ]
          },
          "metadata": {},
          "output_type": "display_data"
        }
      ],
      "source": [
        "nrow(flights)"
      ]
    },
    {
      "cell_type": "code",
      "source": [
        "nrow(distinct(flights)) # NOTE: no records that are exactly the same; no duplicates "
      ],
      "metadata": {
        "colab": {
          "base_uri": "https://localhost:8080/",
          "height": 34
        },
        "id": "d7TjPmi2ligH",
        "outputId": "af5111ca-fdaa-492f-e28d-09fc3c961e1a"
      },
      "execution_count": 35,
      "outputs": [
        {
          "output_type": "display_data",
          "data": {
            "text/html": [
              "336776"
            ],
            "text/markdown": "336776",
            "text/latex": "336776",
            "text/plain": [
              "[1] 336776"
            ]
          },
          "metadata": {}
        }
      ]
    },
    {
      "cell_type": "markdown",
      "metadata": {
        "id": "_fyKmKddWb2f"
      },
      "source": [
        "Obviously there are many flights scheduled for each day. But is there a flight scheduled for *every* day?"
      ]
    },
    {
      "cell_type": "code",
      "execution_count": 37,
      "metadata": {
        "id": "Z_StrsQGWb2f",
        "colab": {
          "base_uri": "https://localhost:8080/",
          "height": 34
        },
        "outputId": "b3231f27-141e-4a99-8cc3-0500f678d914"
      },
      "outputs": [
        {
          "output_type": "display_data",
          "data": {
            "text/html": [
              "31"
            ],
            "text/markdown": "31",
            "text/latex": "31",
            "text/plain": [
              "[1] 31"
            ]
          },
          "metadata": {}
        }
      ],
      "source": [
        "# All the unique days in flights\n",
        "nrow(distinct(flights,day)) # NOTE: there are flights every single day of the month"
      ]
    },
    {
      "cell_type": "markdown",
      "metadata": {
        "id": "_jf1lmKBWb2f"
      },
      "source": [
        "## 🤔 Quiz\n",
        "How many unique *airplanes* are represented in the `flights` table?\n",
        "\n",
        "<ol style=\"list-style-type: upper-alpha;\">\n",
        "    <li>3,030</li>\n",
        "    <li>4,043</li>\n",
        "    <li>4,044</li>\n",
        "    <li>90,210</li>\n",
        "    <li>Can't be determined from the table</li>\n",
        "</ol>\n",
        "\n",
        "(Hint: every airplane has a unique tail number.)"
      ]
    },
    {
      "cell_type": "code",
      "execution_count": 38,
      "metadata": {
        "id": "YA44CfbbWb2f",
        "colab": {
          "base_uri": "https://localhost:8080/",
          "height": 34
        },
        "outputId": "00298511-69e0-4852-c3ba-3b56e77dc085"
      },
      "outputs": [
        {
          "output_type": "display_data",
          "data": {
            "text/html": [
              "4044"
            ],
            "text/markdown": "4044",
            "text/latex": "4044",
            "text/plain": [
              "[1] 4044"
            ]
          },
          "metadata": {}
        }
      ],
      "source": [
        "# analysis of unique airplanes\n",
        "nrow(distinct(flights,tailnum))"
      ]
    },
    {
      "cell_type": "markdown",
      "metadata": {
        "id": "7gtRfe8sWb2f"
      },
      "source": [
        "## Column operation #1: `select()`\n",
        "`select()` can help you to narrow down a large dataset by just focusing on the variables you’re interested in. `select()` allows you to rapidly zoom in on a useful subset using operations based on the names of the variables., but you can still get the general idea of how it works:"
      ]
    },
    {
      "cell_type": "code",
      "execution_count": null,
      "metadata": {
        "id": "T3X27Pi7Wb2f",
        "outputId": "c1ee4f4f-c5cc-440f-9025-99ada93b2f2e"
      },
      "outputs": [
        {
          "data": {
            "text/html": [
              "<table class=\"dataframe\">\n",
              "<caption>A tibble: 6 × 5</caption>\n",
              "<thead>\n",
              "\t<tr><th scope=col>year</th><th scope=col>month</th><th scope=col>day</th><th scope=col>departure_time</th><th scope=col>arrival_time</th></tr>\n",
              "\t<tr><th scope=col>&lt;int&gt;</th><th scope=col>&lt;int&gt;</th><th scope=col>&lt;int&gt;</th><th scope=col>&lt;int&gt;</th><th scope=col>&lt;int&gt;</th></tr>\n",
              "</thead>\n",
              "<tbody>\n",
              "\t<tr><td>2013</td><td>1</td><td>1</td><td>517</td><td> 830</td></tr>\n",
              "\t<tr><td>2013</td><td>1</td><td>1</td><td>533</td><td> 850</td></tr>\n",
              "\t<tr><td>2013</td><td>1</td><td>1</td><td>542</td><td> 923</td></tr>\n",
              "\t<tr><td>2013</td><td>1</td><td>1</td><td>544</td><td>1004</td></tr>\n",
              "\t<tr><td>2013</td><td>1</td><td>1</td><td>554</td><td> 812</td></tr>\n",
              "\t<tr><td>2013</td><td>1</td><td>1</td><td>554</td><td> 740</td></tr>\n",
              "</tbody>\n",
              "</table>\n"
            ],
            "text/latex": [
              "A tibble: 6 × 5\n",
              "\\begin{tabular}{lllll}\n",
              " year & month & day & departure\\_time & arrival\\_time\\\\\n",
              " <int> & <int> & <int> & <int> & <int>\\\\\n",
              "\\hline\n",
              "\t 2013 & 1 & 1 & 517 &  830\\\\\n",
              "\t 2013 & 1 & 1 & 533 &  850\\\\\n",
              "\t 2013 & 1 & 1 & 542 &  923\\\\\n",
              "\t 2013 & 1 & 1 & 544 & 1004\\\\\n",
              "\t 2013 & 1 & 1 & 554 &  812\\\\\n",
              "\t 2013 & 1 & 1 & 554 &  740\\\\\n",
              "\\end{tabular}\n"
            ],
            "text/markdown": [
              "\n",
              "A tibble: 6 × 5\n",
              "\n",
              "| year &lt;int&gt; | month &lt;int&gt; | day &lt;int&gt; | departure_time &lt;int&gt; | arrival_time &lt;int&gt; |\n",
              "|---|---|---|---|---|\n",
              "| 2013 | 1 | 1 | 517 |  830 |\n",
              "| 2013 | 1 | 1 | 533 |  850 |\n",
              "| 2013 | 1 | 1 | 542 |  923 |\n",
              "| 2013 | 1 | 1 | 544 | 1004 |\n",
              "| 2013 | 1 | 1 | 554 |  812 |\n",
              "| 2013 | 1 | 1 | 554 |  740 |\n",
              "\n"
            ],
            "text/plain": [
              "  year month day departure_time arrival_time\n",
              "1 2013 1     1   517             830        \n",
              "2 2013 1     1   533             850        \n",
              "3 2013 1     1   542             923        \n",
              "4 2013 1     1   544            1004        \n",
              "5 2013 1     1   554             812        \n",
              "6 2013 1     1   554             740        "
            ]
          },
          "metadata": {},
          "output_type": "display_data"
        }
      ],
      "source": [
        "tbl <- select(flights, year, month, day, departure_time = dep_time, arrival_time = arr_time)\n",
        "head(tbl)"
      ]
    },
    {
      "cell_type": "code",
      "source": [
        "select(flights,tailnum, month) # NOTE: gives you only the airplane names "
      ],
      "metadata": {
        "colab": {
          "base_uri": "https://localhost:8080/",
          "height": 1000
        },
        "id": "BByYNjiFmlTd",
        "outputId": "a54e1b8f-111a-465e-990c-4bf94d57764e"
      },
      "execution_count": 40,
      "outputs": [
        {
          "output_type": "display_data",
          "data": {
            "text/html": [
              "<table class=\"dataframe\">\n",
              "<caption>A tibble: 336776 × 2</caption>\n",
              "<thead>\n",
              "\t<tr><th scope=col>tailnum</th><th scope=col>month</th></tr>\n",
              "\t<tr><th scope=col>&lt;chr&gt;</th><th scope=col>&lt;int&gt;</th></tr>\n",
              "</thead>\n",
              "<tbody>\n",
              "\t<tr><td>N14228</td><td>1</td></tr>\n",
              "\t<tr><td>N24211</td><td>1</td></tr>\n",
              "\t<tr><td>N619AA</td><td>1</td></tr>\n",
              "\t<tr><td>N804JB</td><td>1</td></tr>\n",
              "\t<tr><td>N668DN</td><td>1</td></tr>\n",
              "\t<tr><td>N39463</td><td>1</td></tr>\n",
              "\t<tr><td>N516JB</td><td>1</td></tr>\n",
              "\t<tr><td>N829AS</td><td>1</td></tr>\n",
              "\t<tr><td>N593JB</td><td>1</td></tr>\n",
              "\t<tr><td>N3ALAA</td><td>1</td></tr>\n",
              "\t<tr><td>N793JB</td><td>1</td></tr>\n",
              "\t<tr><td>N657JB</td><td>1</td></tr>\n",
              "\t<tr><td>N29129</td><td>1</td></tr>\n",
              "\t<tr><td>N53441</td><td>1</td></tr>\n",
              "\t<tr><td>N3DUAA</td><td>1</td></tr>\n",
              "\t<tr><td>N708JB</td><td>1</td></tr>\n",
              "\t<tr><td>N76515</td><td>1</td></tr>\n",
              "\t<tr><td>N595JB</td><td>1</td></tr>\n",
              "\t<tr><td>N542MQ</td><td>1</td></tr>\n",
              "\t<tr><td>N644JB</td><td>1</td></tr>\n",
              "\t<tr><td>N971DL</td><td>1</td></tr>\n",
              "\t<tr><td>N730MQ</td><td>1</td></tr>\n",
              "\t<tr><td>N633AA</td><td>1</td></tr>\n",
              "\t<tr><td>N3739P</td><td>1</td></tr>\n",
              "\t<tr><td>N53442</td><td>1</td></tr>\n",
              "\t<tr><td>N9EAMQ</td><td>1</td></tr>\n",
              "\t<tr><td>N532UA</td><td>1</td></tr>\n",
              "\t<tr><td>N635JB</td><td>1</td></tr>\n",
              "\t<tr><td>N794JB</td><td>1</td></tr>\n",
              "\t<tr><td>N326NB</td><td>1</td></tr>\n",
              "\t<tr><td>⋮</td><td>⋮</td></tr>\n",
              "\t<tr><td>N712EV</td><td>9</td></tr>\n",
              "\t<tr><td>N16546</td><td>9</td></tr>\n",
              "\t<tr><td>N807JB</td><td>9</td></tr>\n",
              "\t<tr><td>N751EV</td><td>9</td></tr>\n",
              "\t<tr><td>N807MQ</td><td>9</td></tr>\n",
              "\t<tr><td>N335AA</td><td>9</td></tr>\n",
              "\t<tr><td>N12957</td><td>9</td></tr>\n",
              "\t<tr><td>N633JB</td><td>9</td></tr>\n",
              "\t<tr><td>N627JB</td><td>9</td></tr>\n",
              "\t<tr><td>N813UA</td><td>9</td></tr>\n",
              "\t<tr><td>N10575</td><td>9</td></tr>\n",
              "\t<tr><td>N906XJ</td><td>9</td></tr>\n",
              "\t<tr><td>N722EV</td><td>9</td></tr>\n",
              "\t<tr><td>N532MQ</td><td>9</td></tr>\n",
              "\t<tr><td>N12145</td><td>9</td></tr>\n",
              "\t<tr><td>N193JB</td><td>9</td></tr>\n",
              "\t<tr><td>N578UA</td><td>9</td></tr>\n",
              "\t<tr><td>N804JB</td><td>9</td></tr>\n",
              "\t<tr><td>N318JB</td><td>9</td></tr>\n",
              "\t<tr><td>N354JB</td><td>9</td></tr>\n",
              "\t<tr><td>N281JB</td><td>9</td></tr>\n",
              "\t<tr><td>N346JB</td><td>9</td></tr>\n",
              "\t<tr><td>N565JB</td><td>9</td></tr>\n",
              "\t<tr><td>N516JB</td><td>9</td></tr>\n",
              "\t<tr><td>N740EV</td><td>9</td></tr>\n",
              "\t<tr><td>NA    </td><td>9</td></tr>\n",
              "\t<tr><td>NA    </td><td>9</td></tr>\n",
              "\t<tr><td>N535MQ</td><td>9</td></tr>\n",
              "\t<tr><td>N511MQ</td><td>9</td></tr>\n",
              "\t<tr><td>N839MQ</td><td>9</td></tr>\n",
              "</tbody>\n",
              "</table>\n"
            ],
            "text/markdown": "\nA tibble: 336776 × 2\n\n| tailnum &lt;chr&gt; | month &lt;int&gt; |\n|---|---|\n| N14228 | 1 |\n| N24211 | 1 |\n| N619AA | 1 |\n| N804JB | 1 |\n| N668DN | 1 |\n| N39463 | 1 |\n| N516JB | 1 |\n| N829AS | 1 |\n| N593JB | 1 |\n| N3ALAA | 1 |\n| N793JB | 1 |\n| N657JB | 1 |\n| N29129 | 1 |\n| N53441 | 1 |\n| N3DUAA | 1 |\n| N708JB | 1 |\n| N76515 | 1 |\n| N595JB | 1 |\n| N542MQ | 1 |\n| N644JB | 1 |\n| N971DL | 1 |\n| N730MQ | 1 |\n| N633AA | 1 |\n| N3739P | 1 |\n| N53442 | 1 |\n| N9EAMQ | 1 |\n| N532UA | 1 |\n| N635JB | 1 |\n| N794JB | 1 |\n| N326NB | 1 |\n| ⋮ | ⋮ |\n| N712EV | 9 |\n| N16546 | 9 |\n| N807JB | 9 |\n| N751EV | 9 |\n| N807MQ | 9 |\n| N335AA | 9 |\n| N12957 | 9 |\n| N633JB | 9 |\n| N627JB | 9 |\n| N813UA | 9 |\n| N10575 | 9 |\n| N906XJ | 9 |\n| N722EV | 9 |\n| N532MQ | 9 |\n| N12145 | 9 |\n| N193JB | 9 |\n| N578UA | 9 |\n| N804JB | 9 |\n| N318JB | 9 |\n| N354JB | 9 |\n| N281JB | 9 |\n| N346JB | 9 |\n| N565JB | 9 |\n| N516JB | 9 |\n| N740EV | 9 |\n| NA     | 9 |\n| NA     | 9 |\n| N535MQ | 9 |\n| N511MQ | 9 |\n| N839MQ | 9 |\n\n",
            "text/latex": "A tibble: 336776 × 2\n\\begin{tabular}{ll}\n tailnum & month\\\\\n <chr> & <int>\\\\\n\\hline\n\t N14228 & 1\\\\\n\t N24211 & 1\\\\\n\t N619AA & 1\\\\\n\t N804JB & 1\\\\\n\t N668DN & 1\\\\\n\t N39463 & 1\\\\\n\t N516JB & 1\\\\\n\t N829AS & 1\\\\\n\t N593JB & 1\\\\\n\t N3ALAA & 1\\\\\n\t N793JB & 1\\\\\n\t N657JB & 1\\\\\n\t N29129 & 1\\\\\n\t N53441 & 1\\\\\n\t N3DUAA & 1\\\\\n\t N708JB & 1\\\\\n\t N76515 & 1\\\\\n\t N595JB & 1\\\\\n\t N542MQ & 1\\\\\n\t N644JB & 1\\\\\n\t N971DL & 1\\\\\n\t N730MQ & 1\\\\\n\t N633AA & 1\\\\\n\t N3739P & 1\\\\\n\t N53442 & 1\\\\\n\t N9EAMQ & 1\\\\\n\t N532UA & 1\\\\\n\t N635JB & 1\\\\\n\t N794JB & 1\\\\\n\t N326NB & 1\\\\\n\t ⋮ & ⋮\\\\\n\t N712EV & 9\\\\\n\t N16546 & 9\\\\\n\t N807JB & 9\\\\\n\t N751EV & 9\\\\\n\t N807MQ & 9\\\\\n\t N335AA & 9\\\\\n\t N12957 & 9\\\\\n\t N633JB & 9\\\\\n\t N627JB & 9\\\\\n\t N813UA & 9\\\\\n\t N10575 & 9\\\\\n\t N906XJ & 9\\\\\n\t N722EV & 9\\\\\n\t N532MQ & 9\\\\\n\t N12145 & 9\\\\\n\t N193JB & 9\\\\\n\t N578UA & 9\\\\\n\t N804JB & 9\\\\\n\t N318JB & 9\\\\\n\t N354JB & 9\\\\\n\t N281JB & 9\\\\\n\t N346JB & 9\\\\\n\t N565JB & 9\\\\\n\t N516JB & 9\\\\\n\t N740EV & 9\\\\\n\t NA     & 9\\\\\n\t NA     & 9\\\\\n\t N535MQ & 9\\\\\n\t N511MQ & 9\\\\\n\t N839MQ & 9\\\\\n\\end{tabular}\n",
            "text/plain": [
              "       tailnum month\n",
              "1      N14228  1    \n",
              "2      N24211  1    \n",
              "3      N619AA  1    \n",
              "4      N804JB  1    \n",
              "5      N668DN  1    \n",
              "6      N39463  1    \n",
              "7      N516JB  1    \n",
              "8      N829AS  1    \n",
              "9      N593JB  1    \n",
              "10     N3ALAA  1    \n",
              "11     N793JB  1    \n",
              "12     N657JB  1    \n",
              "13     N29129  1    \n",
              "14     N53441  1    \n",
              "15     N3DUAA  1    \n",
              "16     N708JB  1    \n",
              "17     N76515  1    \n",
              "18     N595JB  1    \n",
              "19     N542MQ  1    \n",
              "20     N644JB  1    \n",
              "21     N971DL  1    \n",
              "22     N730MQ  1    \n",
              "23     N633AA  1    \n",
              "24     N3739P  1    \n",
              "25     N53442  1    \n",
              "26     N9EAMQ  1    \n",
              "27     N532UA  1    \n",
              "28     N635JB  1    \n",
              "29     N794JB  1    \n",
              "30     N326NB  1    \n",
              "⋮      ⋮       ⋮    \n",
              "336747 N712EV  9    \n",
              "336748 N16546  9    \n",
              "336749 N807JB  9    \n",
              "336750 N751EV  9    \n",
              "336751 N807MQ  9    \n",
              "336752 N335AA  9    \n",
              "336753 N12957  9    \n",
              "336754 N633JB  9    \n",
              "336755 N627JB  9    \n",
              "336756 N813UA  9    \n",
              "336757 N10575  9    \n",
              "336758 N906XJ  9    \n",
              "336759 N722EV  9    \n",
              "336760 N532MQ  9    \n",
              "336761 N12145  9    \n",
              "336762 N193JB  9    \n",
              "336763 N578UA  9    \n",
              "336764 N804JB  9    \n",
              "336765 N318JB  9    \n",
              "336766 N354JB  9    \n",
              "336767 N281JB  9    \n",
              "336768 N346JB  9    \n",
              "336769 N565JB  9    \n",
              "336770 N516JB  9    \n",
              "336771 N740EV  9    \n",
              "336772 NA      9    \n",
              "336773 NA      9    \n",
              "336774 N535MQ  9    \n",
              "336775 N511MQ  9    \n",
              "336776 N839MQ  9    "
            ]
          },
          "metadata": {}
        }
      ]
    },
    {
      "cell_type": "markdown",
      "metadata": {
        "id": "13hP5bnwWb2f"
      },
      "source": [
        "Note that `select` drops any variables not explicitly mentioned. To just rename some variables while keeping all others, use `rename`."
      ]
    },
    {
      "cell_type": "code",
      "execution_count": null,
      "metadata": {
        "id": "vUsp8KowWb2g",
        "outputId": "2de92897-e6f2-4555-a934-56a33d1b8801"
      },
      "outputs": [
        {
          "data": {
            "text/html": [
              "<table class=\"dataframe\">\n",
              "<caption>A tibble: 6 × 19</caption>\n",
              "<thead>\n",
              "\t<tr><th scope=col>year</th><th scope=col>month</th><th scope=col>day</th><th scope=col>departure_time</th><th scope=col>sched_dep_time</th><th scope=col>dep_delay</th><th scope=col>arrival_time</th><th scope=col>sched_arr_time</th><th scope=col>arr_delay</th><th scope=col>carrier</th><th scope=col>flight</th><th scope=col>tailnum</th><th scope=col>origin</th><th scope=col>dest</th><th scope=col>air_time</th><th scope=col>distance</th><th scope=col>hour</th><th scope=col>minute</th><th scope=col>time_hour</th></tr>\n",
              "\t<tr><th scope=col>&lt;int&gt;</th><th scope=col>&lt;int&gt;</th><th scope=col>&lt;int&gt;</th><th scope=col>&lt;int&gt;</th><th scope=col>&lt;int&gt;</th><th scope=col>&lt;dbl&gt;</th><th scope=col>&lt;int&gt;</th><th scope=col>&lt;int&gt;</th><th scope=col>&lt;dbl&gt;</th><th scope=col>&lt;chr&gt;</th><th scope=col>&lt;int&gt;</th><th scope=col>&lt;chr&gt;</th><th scope=col>&lt;chr&gt;</th><th scope=col>&lt;chr&gt;</th><th scope=col>&lt;dbl&gt;</th><th scope=col>&lt;dbl&gt;</th><th scope=col>&lt;dbl&gt;</th><th scope=col>&lt;dbl&gt;</th><th scope=col>&lt;dttm&gt;</th></tr>\n",
              "</thead>\n",
              "<tbody>\n",
              "\t<tr><td>2013</td><td>1</td><td>1</td><td>517</td><td>515</td><td> 2</td><td> 830</td><td> 819</td><td> 11</td><td>UA</td><td>1545</td><td>N14228</td><td>EWR</td><td>IAH</td><td>227</td><td>1400</td><td>5</td><td>15</td><td>2013-01-01 05:00:00</td></tr>\n",
              "\t<tr><td>2013</td><td>1</td><td>1</td><td>533</td><td>529</td><td> 4</td><td> 850</td><td> 830</td><td> 20</td><td>UA</td><td>1714</td><td>N24211</td><td>LGA</td><td>IAH</td><td>227</td><td>1416</td><td>5</td><td>29</td><td>2013-01-01 05:00:00</td></tr>\n",
              "\t<tr><td>2013</td><td>1</td><td>1</td><td>542</td><td>540</td><td> 2</td><td> 923</td><td> 850</td><td> 33</td><td>AA</td><td>1141</td><td>N619AA</td><td>JFK</td><td>MIA</td><td>160</td><td>1089</td><td>5</td><td>40</td><td>2013-01-01 05:00:00</td></tr>\n",
              "\t<tr><td>2013</td><td>1</td><td>1</td><td>544</td><td>545</td><td>-1</td><td>1004</td><td>1022</td><td>-18</td><td>B6</td><td> 725</td><td>N804JB</td><td>JFK</td><td>BQN</td><td>183</td><td>1576</td><td>5</td><td>45</td><td>2013-01-01 05:00:00</td></tr>\n",
              "\t<tr><td>2013</td><td>1</td><td>1</td><td>554</td><td>600</td><td>-6</td><td> 812</td><td> 837</td><td>-25</td><td>DL</td><td> 461</td><td>N668DN</td><td>LGA</td><td>ATL</td><td>116</td><td> 762</td><td>6</td><td> 0</td><td>2013-01-01 06:00:00</td></tr>\n",
              "\t<tr><td>2013</td><td>1</td><td>1</td><td>554</td><td>558</td><td>-4</td><td> 740</td><td> 728</td><td> 12</td><td>UA</td><td>1696</td><td>N39463</td><td>EWR</td><td>ORD</td><td>150</td><td> 719</td><td>5</td><td>58</td><td>2013-01-01 05:00:00</td></tr>\n",
              "</tbody>\n",
              "</table>\n"
            ],
            "text/latex": [
              "A tibble: 6 × 19\n",
              "\\begin{tabular}{lllllllllllllllllll}\n",
              " year & month & day & departure\\_time & sched\\_dep\\_time & dep\\_delay & arrival\\_time & sched\\_arr\\_time & arr\\_delay & carrier & flight & tailnum & origin & dest & air\\_time & distance & hour & minute & time\\_hour\\\\\n",
              " <int> & <int> & <int> & <int> & <int> & <dbl> & <int> & <int> & <dbl> & <chr> & <int> & <chr> & <chr> & <chr> & <dbl> & <dbl> & <dbl> & <dbl> & <dttm>\\\\\n",
              "\\hline\n",
              "\t 2013 & 1 & 1 & 517 & 515 &  2 &  830 &  819 &  11 & UA & 1545 & N14228 & EWR & IAH & 227 & 1400 & 5 & 15 & 2013-01-01 05:00:00\\\\\n",
              "\t 2013 & 1 & 1 & 533 & 529 &  4 &  850 &  830 &  20 & UA & 1714 & N24211 & LGA & IAH & 227 & 1416 & 5 & 29 & 2013-01-01 05:00:00\\\\\n",
              "\t 2013 & 1 & 1 & 542 & 540 &  2 &  923 &  850 &  33 & AA & 1141 & N619AA & JFK & MIA & 160 & 1089 & 5 & 40 & 2013-01-01 05:00:00\\\\\n",
              "\t 2013 & 1 & 1 & 544 & 545 & -1 & 1004 & 1022 & -18 & B6 &  725 & N804JB & JFK & BQN & 183 & 1576 & 5 & 45 & 2013-01-01 05:00:00\\\\\n",
              "\t 2013 & 1 & 1 & 554 & 600 & -6 &  812 &  837 & -25 & DL &  461 & N668DN & LGA & ATL & 116 &  762 & 6 &  0 & 2013-01-01 06:00:00\\\\\n",
              "\t 2013 & 1 & 1 & 554 & 558 & -4 &  740 &  728 &  12 & UA & 1696 & N39463 & EWR & ORD & 150 &  719 & 5 & 58 & 2013-01-01 05:00:00\\\\\n",
              "\\end{tabular}\n"
            ],
            "text/markdown": [
              "\n",
              "A tibble: 6 × 19\n",
              "\n",
              "| year &lt;int&gt; | month &lt;int&gt; | day &lt;int&gt; | departure_time &lt;int&gt; | sched_dep_time &lt;int&gt; | dep_delay &lt;dbl&gt; | arrival_time &lt;int&gt; | sched_arr_time &lt;int&gt; | arr_delay &lt;dbl&gt; | carrier &lt;chr&gt; | flight &lt;int&gt; | tailnum &lt;chr&gt; | origin &lt;chr&gt; | dest &lt;chr&gt; | air_time &lt;dbl&gt; | distance &lt;dbl&gt; | hour &lt;dbl&gt; | minute &lt;dbl&gt; | time_hour &lt;dttm&gt; |\n",
              "|---|---|---|---|---|---|---|---|---|---|---|---|---|---|---|---|---|---|---|\n",
              "| 2013 | 1 | 1 | 517 | 515 |  2 |  830 |  819 |  11 | UA | 1545 | N14228 | EWR | IAH | 227 | 1400 | 5 | 15 | 2013-01-01 05:00:00 |\n",
              "| 2013 | 1 | 1 | 533 | 529 |  4 |  850 |  830 |  20 | UA | 1714 | N24211 | LGA | IAH | 227 | 1416 | 5 | 29 | 2013-01-01 05:00:00 |\n",
              "| 2013 | 1 | 1 | 542 | 540 |  2 |  923 |  850 |  33 | AA | 1141 | N619AA | JFK | MIA | 160 | 1089 | 5 | 40 | 2013-01-01 05:00:00 |\n",
              "| 2013 | 1 | 1 | 544 | 545 | -1 | 1004 | 1022 | -18 | B6 |  725 | N804JB | JFK | BQN | 183 | 1576 | 5 | 45 | 2013-01-01 05:00:00 |\n",
              "| 2013 | 1 | 1 | 554 | 600 | -6 |  812 |  837 | -25 | DL |  461 | N668DN | LGA | ATL | 116 |  762 | 6 |  0 | 2013-01-01 06:00:00 |\n",
              "| 2013 | 1 | 1 | 554 | 558 | -4 |  740 |  728 |  12 | UA | 1696 | N39463 | EWR | ORD | 150 |  719 | 5 | 58 | 2013-01-01 05:00:00 |\n",
              "\n"
            ],
            "text/plain": [
              "  year month day departure_time sched_dep_time dep_delay arrival_time\n",
              "1 2013 1     1   517            515             2         830        \n",
              "2 2013 1     1   533            529             4         850        \n",
              "3 2013 1     1   542            540             2         923        \n",
              "4 2013 1     1   544            545            -1        1004        \n",
              "5 2013 1     1   554            600            -6         812        \n",
              "6 2013 1     1   554            558            -4         740        \n",
              "  sched_arr_time arr_delay carrier flight tailnum origin dest air_time distance\n",
              "1  819            11       UA      1545   N14228  EWR    IAH  227      1400    \n",
              "2  830            20       UA      1714   N24211  LGA    IAH  227      1416    \n",
              "3  850            33       AA      1141   N619AA  JFK    MIA  160      1089    \n",
              "4 1022           -18       B6       725   N804JB  JFK    BQN  183      1576    \n",
              "5  837           -25       DL       461   N668DN  LGA    ATL  116       762    \n",
              "6  728            12       UA      1696   N39463  EWR    ORD  150       719    \n",
              "  hour minute time_hour          \n",
              "1 5    15     2013-01-01 05:00:00\n",
              "2 5    29     2013-01-01 05:00:00\n",
              "3 5    40     2013-01-01 05:00:00\n",
              "4 5    45     2013-01-01 05:00:00\n",
              "5 6     0     2013-01-01 06:00:00\n",
              "6 5    58     2013-01-01 05:00:00"
            ]
          },
          "metadata": {},
          "output_type": "display_data"
        }
      ],
      "source": [
        "head(rename(flights, departure_time = dep_time, arrival_time = arr_time))"
      ]
    },
    {
      "cell_type": "markdown",
      "metadata": {
        "id": "RDQZVPdHWb2g"
      },
      "source": [
        "If there are a lot of variables, you can save yourself some typing by using `:` and `-` in combination with select. The colon operator selects a range of variables:"
      ]
    },
    {
      "cell_type": "code",
      "execution_count": null,
      "metadata": {
        "id": "cHU1OAAYWb2g",
        "outputId": "9eca886a-07e8-496d-9067-b879c9df6739"
      },
      "outputs": [
        {
          "data": {
            "text/html": [
              "<table class=\"dataframe\">\n",
              "<caption>A tibble: 6 × 3</caption>\n",
              "<thead>\n",
              "\t<tr><th scope=col>year</th><th scope=col>month</th><th scope=col>day</th></tr>\n",
              "\t<tr><th scope=col>&lt;int&gt;</th><th scope=col>&lt;int&gt;</th><th scope=col>&lt;int&gt;</th></tr>\n",
              "</thead>\n",
              "<tbody>\n",
              "\t<tr><td>2013</td><td>1</td><td>1</td></tr>\n",
              "\t<tr><td>2013</td><td>1</td><td>1</td></tr>\n",
              "\t<tr><td>2013</td><td>1</td><td>1</td></tr>\n",
              "\t<tr><td>2013</td><td>1</td><td>1</td></tr>\n",
              "\t<tr><td>2013</td><td>1</td><td>1</td></tr>\n",
              "\t<tr><td>2013</td><td>1</td><td>1</td></tr>\n",
              "</tbody>\n",
              "</table>\n"
            ],
            "text/latex": [
              "A tibble: 6 × 3\n",
              "\\begin{tabular}{lll}\n",
              " year & month & day\\\\\n",
              " <int> & <int> & <int>\\\\\n",
              "\\hline\n",
              "\t 2013 & 1 & 1\\\\\n",
              "\t 2013 & 1 & 1\\\\\n",
              "\t 2013 & 1 & 1\\\\\n",
              "\t 2013 & 1 & 1\\\\\n",
              "\t 2013 & 1 & 1\\\\\n",
              "\t 2013 & 1 & 1\\\\\n",
              "\\end{tabular}\n"
            ],
            "text/markdown": [
              "\n",
              "A tibble: 6 × 3\n",
              "\n",
              "| year &lt;int&gt; | month &lt;int&gt; | day &lt;int&gt; |\n",
              "|---|---|---|\n",
              "| 2013 | 1 | 1 |\n",
              "| 2013 | 1 | 1 |\n",
              "| 2013 | 1 | 1 |\n",
              "| 2013 | 1 | 1 |\n",
              "| 2013 | 1 | 1 |\n",
              "| 2013 | 1 | 1 |\n",
              "\n"
            ],
            "text/plain": [
              "  year month day\n",
              "1 2013 1     1  \n",
              "2 2013 1     1  \n",
              "3 2013 1     1  \n",
              "4 2013 1     1  \n",
              "5 2013 1     1  \n",
              "6 2013 1     1  "
            ]
          },
          "metadata": {},
          "output_type": "display_data"
        }
      ],
      "source": [
        "head(select(flights, year:day)) # NOTE: includes all columns b/w year & day "
      ]
    },
    {
      "cell_type": "markdown",
      "metadata": {
        "id": "Gn_25gLyWb2g"
      },
      "source": [
        "The negative sign lets you select everything but certain columns:"
      ]
    },
    {
      "cell_type": "code",
      "execution_count": 41,
      "metadata": {
        "id": "9ALxuajsWb2g",
        "colab": {
          "base_uri": "https://localhost:8080/",
          "height": 1000
        },
        "outputId": "c7752507-39c5-4631-9732-63f1804a3be9"
      },
      "outputs": [
        {
          "output_type": "display_data",
          "data": {
            "text/html": [
              "<table class=\"dataframe\">\n",
              "<caption>A tibble: 336776 × 18</caption>\n",
              "<thead>\n",
              "\t<tr><th scope=col>year</th><th scope=col>day</th><th scope=col>dep_time</th><th scope=col>sched_dep_time</th><th scope=col>dep_delay</th><th scope=col>arr_time</th><th scope=col>sched_arr_time</th><th scope=col>arr_delay</th><th scope=col>carrier</th><th scope=col>flight</th><th scope=col>tailnum</th><th scope=col>origin</th><th scope=col>dest</th><th scope=col>air_time</th><th scope=col>distance</th><th scope=col>hour</th><th scope=col>minute</th><th scope=col>time_hour</th></tr>\n",
              "\t<tr><th scope=col>&lt;int&gt;</th><th scope=col>&lt;int&gt;</th><th scope=col>&lt;int&gt;</th><th scope=col>&lt;int&gt;</th><th scope=col>&lt;dbl&gt;</th><th scope=col>&lt;int&gt;</th><th scope=col>&lt;int&gt;</th><th scope=col>&lt;dbl&gt;</th><th scope=col>&lt;chr&gt;</th><th scope=col>&lt;int&gt;</th><th scope=col>&lt;chr&gt;</th><th scope=col>&lt;chr&gt;</th><th scope=col>&lt;chr&gt;</th><th scope=col>&lt;dbl&gt;</th><th scope=col>&lt;dbl&gt;</th><th scope=col>&lt;dbl&gt;</th><th scope=col>&lt;dbl&gt;</th><th scope=col>&lt;dttm&gt;</th></tr>\n",
              "</thead>\n",
              "<tbody>\n",
              "\t<tr><td>2013</td><td>1</td><td>517</td><td>515</td><td> 2</td><td> 830</td><td> 819</td><td> 11</td><td>UA</td><td>1545</td><td>N14228</td><td>EWR</td><td>IAH</td><td>227</td><td>1400</td><td>5</td><td>15</td><td>2013-01-01 05:00:00</td></tr>\n",
              "\t<tr><td>2013</td><td>1</td><td>533</td><td>529</td><td> 4</td><td> 850</td><td> 830</td><td> 20</td><td>UA</td><td>1714</td><td>N24211</td><td>LGA</td><td>IAH</td><td>227</td><td>1416</td><td>5</td><td>29</td><td>2013-01-01 05:00:00</td></tr>\n",
              "\t<tr><td>2013</td><td>1</td><td>542</td><td>540</td><td> 2</td><td> 923</td><td> 850</td><td> 33</td><td>AA</td><td>1141</td><td>N619AA</td><td>JFK</td><td>MIA</td><td>160</td><td>1089</td><td>5</td><td>40</td><td>2013-01-01 05:00:00</td></tr>\n",
              "\t<tr><td>2013</td><td>1</td><td>544</td><td>545</td><td>-1</td><td>1004</td><td>1022</td><td>-18</td><td>B6</td><td> 725</td><td>N804JB</td><td>JFK</td><td>BQN</td><td>183</td><td>1576</td><td>5</td><td>45</td><td>2013-01-01 05:00:00</td></tr>\n",
              "\t<tr><td>2013</td><td>1</td><td>554</td><td>600</td><td>-6</td><td> 812</td><td> 837</td><td>-25</td><td>DL</td><td> 461</td><td>N668DN</td><td>LGA</td><td>ATL</td><td>116</td><td> 762</td><td>6</td><td> 0</td><td>2013-01-01 06:00:00</td></tr>\n",
              "\t<tr><td>2013</td><td>1</td><td>554</td><td>558</td><td>-4</td><td> 740</td><td> 728</td><td> 12</td><td>UA</td><td>1696</td><td>N39463</td><td>EWR</td><td>ORD</td><td>150</td><td> 719</td><td>5</td><td>58</td><td>2013-01-01 05:00:00</td></tr>\n",
              "\t<tr><td>2013</td><td>1</td><td>555</td><td>600</td><td>-5</td><td> 913</td><td> 854</td><td> 19</td><td>B6</td><td> 507</td><td>N516JB</td><td>EWR</td><td>FLL</td><td>158</td><td>1065</td><td>6</td><td> 0</td><td>2013-01-01 06:00:00</td></tr>\n",
              "\t<tr><td>2013</td><td>1</td><td>557</td><td>600</td><td>-3</td><td> 709</td><td> 723</td><td>-14</td><td>EV</td><td>5708</td><td>N829AS</td><td>LGA</td><td>IAD</td><td> 53</td><td> 229</td><td>6</td><td> 0</td><td>2013-01-01 06:00:00</td></tr>\n",
              "\t<tr><td>2013</td><td>1</td><td>557</td><td>600</td><td>-3</td><td> 838</td><td> 846</td><td> -8</td><td>B6</td><td>  79</td><td>N593JB</td><td>JFK</td><td>MCO</td><td>140</td><td> 944</td><td>6</td><td> 0</td><td>2013-01-01 06:00:00</td></tr>\n",
              "\t<tr><td>2013</td><td>1</td><td>558</td><td>600</td><td>-2</td><td> 753</td><td> 745</td><td>  8</td><td>AA</td><td> 301</td><td>N3ALAA</td><td>LGA</td><td>ORD</td><td>138</td><td> 733</td><td>6</td><td> 0</td><td>2013-01-01 06:00:00</td></tr>\n",
              "\t<tr><td>2013</td><td>1</td><td>558</td><td>600</td><td>-2</td><td> 849</td><td> 851</td><td> -2</td><td>B6</td><td>  49</td><td>N793JB</td><td>JFK</td><td>PBI</td><td>149</td><td>1028</td><td>6</td><td> 0</td><td>2013-01-01 06:00:00</td></tr>\n",
              "\t<tr><td>2013</td><td>1</td><td>558</td><td>600</td><td>-2</td><td> 853</td><td> 856</td><td> -3</td><td>B6</td><td>  71</td><td>N657JB</td><td>JFK</td><td>TPA</td><td>158</td><td>1005</td><td>6</td><td> 0</td><td>2013-01-01 06:00:00</td></tr>\n",
              "\t<tr><td>2013</td><td>1</td><td>558</td><td>600</td><td>-2</td><td> 924</td><td> 917</td><td>  7</td><td>UA</td><td> 194</td><td>N29129</td><td>JFK</td><td>LAX</td><td>345</td><td>2475</td><td>6</td><td> 0</td><td>2013-01-01 06:00:00</td></tr>\n",
              "\t<tr><td>2013</td><td>1</td><td>558</td><td>600</td><td>-2</td><td> 923</td><td> 937</td><td>-14</td><td>UA</td><td>1124</td><td>N53441</td><td>EWR</td><td>SFO</td><td>361</td><td>2565</td><td>6</td><td> 0</td><td>2013-01-01 06:00:00</td></tr>\n",
              "\t<tr><td>2013</td><td>1</td><td>559</td><td>600</td><td>-1</td><td> 941</td><td> 910</td><td> 31</td><td>AA</td><td> 707</td><td>N3DUAA</td><td>LGA</td><td>DFW</td><td>257</td><td>1389</td><td>6</td><td> 0</td><td>2013-01-01 06:00:00</td></tr>\n",
              "\t<tr><td>2013</td><td>1</td><td>559</td><td>559</td><td> 0</td><td> 702</td><td> 706</td><td> -4</td><td>B6</td><td>1806</td><td>N708JB</td><td>JFK</td><td>BOS</td><td> 44</td><td> 187</td><td>5</td><td>59</td><td>2013-01-01 05:00:00</td></tr>\n",
              "\t<tr><td>2013</td><td>1</td><td>559</td><td>600</td><td>-1</td><td> 854</td><td> 902</td><td> -8</td><td>UA</td><td>1187</td><td>N76515</td><td>EWR</td><td>LAS</td><td>337</td><td>2227</td><td>6</td><td> 0</td><td>2013-01-01 06:00:00</td></tr>\n",
              "\t<tr><td>2013</td><td>1</td><td>600</td><td>600</td><td> 0</td><td> 851</td><td> 858</td><td> -7</td><td>B6</td><td> 371</td><td>N595JB</td><td>LGA</td><td>FLL</td><td>152</td><td>1076</td><td>6</td><td> 0</td><td>2013-01-01 06:00:00</td></tr>\n",
              "\t<tr><td>2013</td><td>1</td><td>600</td><td>600</td><td> 0</td><td> 837</td><td> 825</td><td> 12</td><td>MQ</td><td>4650</td><td>N542MQ</td><td>LGA</td><td>ATL</td><td>134</td><td> 762</td><td>6</td><td> 0</td><td>2013-01-01 06:00:00</td></tr>\n",
              "\t<tr><td>2013</td><td>1</td><td>601</td><td>600</td><td> 1</td><td> 844</td><td> 850</td><td> -6</td><td>B6</td><td> 343</td><td>N644JB</td><td>EWR</td><td>PBI</td><td>147</td><td>1023</td><td>6</td><td> 0</td><td>2013-01-01 06:00:00</td></tr>\n",
              "\t<tr><td>2013</td><td>1</td><td>602</td><td>610</td><td>-8</td><td> 812</td><td> 820</td><td> -8</td><td>DL</td><td>1919</td><td>N971DL</td><td>LGA</td><td>MSP</td><td>170</td><td>1020</td><td>6</td><td>10</td><td>2013-01-01 06:00:00</td></tr>\n",
              "\t<tr><td>2013</td><td>1</td><td>602</td><td>605</td><td>-3</td><td> 821</td><td> 805</td><td> 16</td><td>MQ</td><td>4401</td><td>N730MQ</td><td>LGA</td><td>DTW</td><td>105</td><td> 502</td><td>6</td><td> 5</td><td>2013-01-01 06:00:00</td></tr>\n",
              "\t<tr><td>2013</td><td>1</td><td>606</td><td>610</td><td>-4</td><td> 858</td><td> 910</td><td>-12</td><td>AA</td><td>1895</td><td>N633AA</td><td>EWR</td><td>MIA</td><td>152</td><td>1085</td><td>6</td><td>10</td><td>2013-01-01 06:00:00</td></tr>\n",
              "\t<tr><td>2013</td><td>1</td><td>606</td><td>610</td><td>-4</td><td> 837</td><td> 845</td><td> -8</td><td>DL</td><td>1743</td><td>N3739P</td><td>JFK</td><td>ATL</td><td>128</td><td> 760</td><td>6</td><td>10</td><td>2013-01-01 06:00:00</td></tr>\n",
              "\t<tr><td>2013</td><td>1</td><td>607</td><td>607</td><td> 0</td><td> 858</td><td> 915</td><td>-17</td><td>UA</td><td>1077</td><td>N53442</td><td>EWR</td><td>MIA</td><td>157</td><td>1085</td><td>6</td><td> 7</td><td>2013-01-01 06:00:00</td></tr>\n",
              "\t<tr><td>2013</td><td>1</td><td>608</td><td>600</td><td> 8</td><td> 807</td><td> 735</td><td> 32</td><td>MQ</td><td>3768</td><td>N9EAMQ</td><td>EWR</td><td>ORD</td><td>139</td><td> 719</td><td>6</td><td> 0</td><td>2013-01-01 06:00:00</td></tr>\n",
              "\t<tr><td>2013</td><td>1</td><td>611</td><td>600</td><td>11</td><td> 945</td><td> 931</td><td> 14</td><td>UA</td><td> 303</td><td>N532UA</td><td>JFK</td><td>SFO</td><td>366</td><td>2586</td><td>6</td><td> 0</td><td>2013-01-01 06:00:00</td></tr>\n",
              "\t<tr><td>2013</td><td>1</td><td>613</td><td>610</td><td> 3</td><td> 925</td><td> 921</td><td>  4</td><td>B6</td><td> 135</td><td>N635JB</td><td>JFK</td><td>RSW</td><td>175</td><td>1074</td><td>6</td><td>10</td><td>2013-01-01 06:00:00</td></tr>\n",
              "\t<tr><td>2013</td><td>1</td><td>615</td><td>615</td><td> 0</td><td>1039</td><td>1100</td><td>-21</td><td>B6</td><td> 709</td><td>N794JB</td><td>JFK</td><td>SJU</td><td>182</td><td>1598</td><td>6</td><td>15</td><td>2013-01-01 06:00:00</td></tr>\n",
              "\t<tr><td>2013</td><td>1</td><td>615</td><td>615</td><td> 0</td><td> 833</td><td> 842</td><td> -9</td><td>DL</td><td> 575</td><td>N326NB</td><td>EWR</td><td>ATL</td><td>120</td><td> 746</td><td>6</td><td>15</td><td>2013-01-01 06:00:00</td></tr>\n",
              "\t<tr><td>⋮</td><td>⋮</td><td>⋮</td><td>⋮</td><td>⋮</td><td>⋮</td><td>⋮</td><td>⋮</td><td>⋮</td><td>⋮</td><td>⋮</td><td>⋮</td><td>⋮</td><td>⋮</td><td>⋮</td><td>⋮</td><td>⋮</td><td>⋮</td></tr>\n",
              "\t<tr><td>2013</td><td>30</td><td>2123</td><td>2125</td><td> -2</td><td>2223</td><td>2247</td><td>-24</td><td>EV</td><td>5489</td><td>N712EV</td><td>LGA</td><td>CHO</td><td> 45</td><td> 305</td><td>21</td><td>25</td><td>2013-09-30 21:00:00</td></tr>\n",
              "\t<tr><td>2013</td><td>30</td><td>2127</td><td>2129</td><td> -2</td><td>2314</td><td>2323</td><td> -9</td><td>EV</td><td>3833</td><td>N16546</td><td>EWR</td><td>CLT</td><td> 72</td><td> 529</td><td>21</td><td>29</td><td>2013-09-30 21:00:00</td></tr>\n",
              "\t<tr><td>2013</td><td>30</td><td>2128</td><td>2130</td><td> -2</td><td>2328</td><td>2359</td><td>-31</td><td>B6</td><td>  97</td><td>N807JB</td><td>JFK</td><td>DEN</td><td>213</td><td>1626</td><td>21</td><td>30</td><td>2013-09-30 21:00:00</td></tr>\n",
              "\t<tr><td>2013</td><td>30</td><td>2129</td><td>2059</td><td> 30</td><td>2230</td><td>2232</td><td> -2</td><td>EV</td><td>5048</td><td>N751EV</td><td>LGA</td><td>RIC</td><td> 45</td><td> 292</td><td>20</td><td>59</td><td>2013-09-30 20:00:00</td></tr>\n",
              "\t<tr><td>2013</td><td>30</td><td>2131</td><td>2140</td><td> -9</td><td>2225</td><td>2255</td><td>-30</td><td>MQ</td><td>3621</td><td>N807MQ</td><td>JFK</td><td>DCA</td><td> 36</td><td> 213</td><td>21</td><td>40</td><td>2013-09-30 21:00:00</td></tr>\n",
              "\t<tr><td>2013</td><td>30</td><td>2140</td><td>2140</td><td>  0</td><td>  10</td><td>  40</td><td>-30</td><td>AA</td><td> 185</td><td>N335AA</td><td>JFK</td><td>LAX</td><td>298</td><td>2475</td><td>21</td><td>40</td><td>2013-09-30 21:00:00</td></tr>\n",
              "\t<tr><td>2013</td><td>30</td><td>2142</td><td>2129</td><td> 13</td><td>2250</td><td>2239</td><td> 11</td><td>EV</td><td>4509</td><td>N12957</td><td>EWR</td><td>PWM</td><td> 47</td><td> 284</td><td>21</td><td>29</td><td>2013-09-30 21:00:00</td></tr>\n",
              "\t<tr><td>2013</td><td>30</td><td>2145</td><td>2145</td><td>  0</td><td> 115</td><td> 140</td><td>-25</td><td>B6</td><td>1103</td><td>N633JB</td><td>JFK</td><td>SJU</td><td>192</td><td>1598</td><td>21</td><td>45</td><td>2013-09-30 21:00:00</td></tr>\n",
              "\t<tr><td>2013</td><td>30</td><td>2147</td><td>2137</td><td> 10</td><td>  30</td><td>  27</td><td>  3</td><td>B6</td><td>1371</td><td>N627JB</td><td>LGA</td><td>FLL</td><td>139</td><td>1076</td><td>21</td><td>37</td><td>2013-09-30 21:00:00</td></tr>\n",
              "\t<tr><td>2013</td><td>30</td><td>2149</td><td>2156</td><td> -7</td><td>2245</td><td>2308</td><td>-23</td><td>UA</td><td> 523</td><td>N813UA</td><td>EWR</td><td>BOS</td><td> 37</td><td> 200</td><td>21</td><td>56</td><td>2013-09-30 21:00:00</td></tr>\n",
              "\t<tr><td>2013</td><td>30</td><td>2150</td><td>2159</td><td> -9</td><td>2250</td><td>2306</td><td>-16</td><td>EV</td><td>3842</td><td>N10575</td><td>EWR</td><td>MHT</td><td> 39</td><td> 209</td><td>21</td><td>59</td><td>2013-09-30 21:00:00</td></tr>\n",
              "\t<tr><td>2013</td><td>30</td><td>2159</td><td>1845</td><td>194</td><td>2344</td><td>2030</td><td>194</td><td>9E</td><td>3320</td><td>N906XJ</td><td>JFK</td><td>BUF</td><td> 50</td><td> 301</td><td>18</td><td>45</td><td>2013-09-30 18:00:00</td></tr>\n",
              "\t<tr><td>2013</td><td>30</td><td>2203</td><td>2205</td><td> -2</td><td>2339</td><td>2331</td><td>  8</td><td>EV</td><td>5311</td><td>N722EV</td><td>LGA</td><td>BGR</td><td> 61</td><td> 378</td><td>22</td><td> 5</td><td>2013-09-30 22:00:00</td></tr>\n",
              "\t<tr><td>2013</td><td>30</td><td>2207</td><td>2140</td><td> 27</td><td>2257</td><td>2250</td><td>  7</td><td>MQ</td><td>3660</td><td>N532MQ</td><td>LGA</td><td>BNA</td><td> 97</td><td> 764</td><td>21</td><td>40</td><td>2013-09-30 21:00:00</td></tr>\n",
              "\t<tr><td>2013</td><td>30</td><td>2211</td><td>2059</td><td> 72</td><td>2339</td><td>2242</td><td> 57</td><td>EV</td><td>4672</td><td>N12145</td><td>EWR</td><td>STL</td><td>120</td><td> 872</td><td>20</td><td>59</td><td>2013-09-30 20:00:00</td></tr>\n",
              "\t<tr><td>2013</td><td>30</td><td>2231</td><td>2245</td><td>-14</td><td>2335</td><td>2356</td><td>-21</td><td>B6</td><td> 108</td><td>N193JB</td><td>JFK</td><td>PWM</td><td> 48</td><td> 273</td><td>22</td><td>45</td><td>2013-09-30 22:00:00</td></tr>\n",
              "\t<tr><td>2013</td><td>30</td><td>2233</td><td>2113</td><td> 80</td><td> 112</td><td>  30</td><td> 42</td><td>UA</td><td> 471</td><td>N578UA</td><td>EWR</td><td>SFO</td><td>318</td><td>2565</td><td>21</td><td>13</td><td>2013-09-30 21:00:00</td></tr>\n",
              "\t<tr><td>2013</td><td>30</td><td>2235</td><td>2001</td><td>154</td><td>  59</td><td>2249</td><td>130</td><td>B6</td><td>1083</td><td>N804JB</td><td>JFK</td><td>MCO</td><td>123</td><td> 944</td><td>20</td><td> 1</td><td>2013-09-30 20:00:00</td></tr>\n",
              "\t<tr><td>2013</td><td>30</td><td>2237</td><td>2245</td><td> -8</td><td>2345</td><td>2353</td><td> -8</td><td>B6</td><td> 234</td><td>N318JB</td><td>JFK</td><td>BTV</td><td> 43</td><td> 266</td><td>22</td><td>45</td><td>2013-09-30 22:00:00</td></tr>\n",
              "\t<tr><td>2013</td><td>30</td><td>2240</td><td>2245</td><td> -5</td><td>2334</td><td>2351</td><td>-17</td><td>B6</td><td>1816</td><td>N354JB</td><td>JFK</td><td>SYR</td><td> 41</td><td> 209</td><td>22</td><td>45</td><td>2013-09-30 22:00:00</td></tr>\n",
              "\t<tr><td>2013</td><td>30</td><td>2240</td><td>2250</td><td>-10</td><td>2347</td><td>   7</td><td>-20</td><td>B6</td><td>2002</td><td>N281JB</td><td>JFK</td><td>BUF</td><td> 52</td><td> 301</td><td>22</td><td>50</td><td>2013-09-30 22:00:00</td></tr>\n",
              "\t<tr><td>2013</td><td>30</td><td>2241</td><td>2246</td><td> -5</td><td>2345</td><td>   1</td><td>-16</td><td>B6</td><td> 486</td><td>N346JB</td><td>JFK</td><td>ROC</td><td> 47</td><td> 264</td><td>22</td><td>46</td><td>2013-09-30 22:00:00</td></tr>\n",
              "\t<tr><td>2013</td><td>30</td><td>2307</td><td>2255</td><td> 12</td><td>2359</td><td>2358</td><td>  1</td><td>B6</td><td> 718</td><td>N565JB</td><td>JFK</td><td>BOS</td><td> 33</td><td> 187</td><td>22</td><td>55</td><td>2013-09-30 22:00:00</td></tr>\n",
              "\t<tr><td>2013</td><td>30</td><td>2349</td><td>2359</td><td>-10</td><td> 325</td><td> 350</td><td>-25</td><td>B6</td><td> 745</td><td>N516JB</td><td>JFK</td><td>PSE</td><td>196</td><td>1617</td><td>23</td><td>59</td><td>2013-09-30 23:00:00</td></tr>\n",
              "\t<tr><td>2013</td><td>30</td><td>  NA</td><td>1842</td><td> NA</td><td>  NA</td><td>2019</td><td> NA</td><td>EV</td><td>5274</td><td>N740EV</td><td>LGA</td><td>BNA</td><td> NA</td><td> 764</td><td>18</td><td>42</td><td>2013-09-30 18:00:00</td></tr>\n",
              "\t<tr><td>2013</td><td>30</td><td>  NA</td><td>1455</td><td> NA</td><td>  NA</td><td>1634</td><td> NA</td><td>9E</td><td>3393</td><td>NA    </td><td>JFK</td><td>DCA</td><td> NA</td><td> 213</td><td>14</td><td>55</td><td>2013-09-30 14:00:00</td></tr>\n",
              "\t<tr><td>2013</td><td>30</td><td>  NA</td><td>2200</td><td> NA</td><td>  NA</td><td>2312</td><td> NA</td><td>9E</td><td>3525</td><td>NA    </td><td>LGA</td><td>SYR</td><td> NA</td><td> 198</td><td>22</td><td> 0</td><td>2013-09-30 22:00:00</td></tr>\n",
              "\t<tr><td>2013</td><td>30</td><td>  NA</td><td>1210</td><td> NA</td><td>  NA</td><td>1330</td><td> NA</td><td>MQ</td><td>3461</td><td>N535MQ</td><td>LGA</td><td>BNA</td><td> NA</td><td> 764</td><td>12</td><td>10</td><td>2013-09-30 12:00:00</td></tr>\n",
              "\t<tr><td>2013</td><td>30</td><td>  NA</td><td>1159</td><td> NA</td><td>  NA</td><td>1344</td><td> NA</td><td>MQ</td><td>3572</td><td>N511MQ</td><td>LGA</td><td>CLE</td><td> NA</td><td> 419</td><td>11</td><td>59</td><td>2013-09-30 11:00:00</td></tr>\n",
              "\t<tr><td>2013</td><td>30</td><td>  NA</td><td> 840</td><td> NA</td><td>  NA</td><td>1020</td><td> NA</td><td>MQ</td><td>3531</td><td>N839MQ</td><td>LGA</td><td>RDU</td><td> NA</td><td> 431</td><td> 8</td><td>40</td><td>2013-09-30 08:00:00</td></tr>\n",
              "</tbody>\n",
              "</table>\n"
            ],
            "text/markdown": "\nA tibble: 336776 × 18\n\n| year &lt;int&gt; | day &lt;int&gt; | dep_time &lt;int&gt; | sched_dep_time &lt;int&gt; | dep_delay &lt;dbl&gt; | arr_time &lt;int&gt; | sched_arr_time &lt;int&gt; | arr_delay &lt;dbl&gt; | carrier &lt;chr&gt; | flight &lt;int&gt; | tailnum &lt;chr&gt; | origin &lt;chr&gt; | dest &lt;chr&gt; | air_time &lt;dbl&gt; | distance &lt;dbl&gt; | hour &lt;dbl&gt; | minute &lt;dbl&gt; | time_hour &lt;dttm&gt; |\n|---|---|---|---|---|---|---|---|---|---|---|---|---|---|---|---|---|---|\n| 2013 | 1 | 517 | 515 |  2 |  830 |  819 |  11 | UA | 1545 | N14228 | EWR | IAH | 227 | 1400 | 5 | 15 | 2013-01-01 05:00:00 |\n| 2013 | 1 | 533 | 529 |  4 |  850 |  830 |  20 | UA | 1714 | N24211 | LGA | IAH | 227 | 1416 | 5 | 29 | 2013-01-01 05:00:00 |\n| 2013 | 1 | 542 | 540 |  2 |  923 |  850 |  33 | AA | 1141 | N619AA | JFK | MIA | 160 | 1089 | 5 | 40 | 2013-01-01 05:00:00 |\n| 2013 | 1 | 544 | 545 | -1 | 1004 | 1022 | -18 | B6 |  725 | N804JB | JFK | BQN | 183 | 1576 | 5 | 45 | 2013-01-01 05:00:00 |\n| 2013 | 1 | 554 | 600 | -6 |  812 |  837 | -25 | DL |  461 | N668DN | LGA | ATL | 116 |  762 | 6 |  0 | 2013-01-01 06:00:00 |\n| 2013 | 1 | 554 | 558 | -4 |  740 |  728 |  12 | UA | 1696 | N39463 | EWR | ORD | 150 |  719 | 5 | 58 | 2013-01-01 05:00:00 |\n| 2013 | 1 | 555 | 600 | -5 |  913 |  854 |  19 | B6 |  507 | N516JB | EWR | FLL | 158 | 1065 | 6 |  0 | 2013-01-01 06:00:00 |\n| 2013 | 1 | 557 | 600 | -3 |  709 |  723 | -14 | EV | 5708 | N829AS | LGA | IAD |  53 |  229 | 6 |  0 | 2013-01-01 06:00:00 |\n| 2013 | 1 | 557 | 600 | -3 |  838 |  846 |  -8 | B6 |   79 | N593JB | JFK | MCO | 140 |  944 | 6 |  0 | 2013-01-01 06:00:00 |\n| 2013 | 1 | 558 | 600 | -2 |  753 |  745 |   8 | AA |  301 | N3ALAA | LGA | ORD | 138 |  733 | 6 |  0 | 2013-01-01 06:00:00 |\n| 2013 | 1 | 558 | 600 | -2 |  849 |  851 |  -2 | B6 |   49 | N793JB | JFK | PBI | 149 | 1028 | 6 |  0 | 2013-01-01 06:00:00 |\n| 2013 | 1 | 558 | 600 | -2 |  853 |  856 |  -3 | B6 |   71 | N657JB | JFK | TPA | 158 | 1005 | 6 |  0 | 2013-01-01 06:00:00 |\n| 2013 | 1 | 558 | 600 | -2 |  924 |  917 |   7 | UA |  194 | N29129 | JFK | LAX | 345 | 2475 | 6 |  0 | 2013-01-01 06:00:00 |\n| 2013 | 1 | 558 | 600 | -2 |  923 |  937 | -14 | UA | 1124 | N53441 | EWR | SFO | 361 | 2565 | 6 |  0 | 2013-01-01 06:00:00 |\n| 2013 | 1 | 559 | 600 | -1 |  941 |  910 |  31 | AA |  707 | N3DUAA | LGA | DFW | 257 | 1389 | 6 |  0 | 2013-01-01 06:00:00 |\n| 2013 | 1 | 559 | 559 |  0 |  702 |  706 |  -4 | B6 | 1806 | N708JB | JFK | BOS |  44 |  187 | 5 | 59 | 2013-01-01 05:00:00 |\n| 2013 | 1 | 559 | 600 | -1 |  854 |  902 |  -8 | UA | 1187 | N76515 | EWR | LAS | 337 | 2227 | 6 |  0 | 2013-01-01 06:00:00 |\n| 2013 | 1 | 600 | 600 |  0 |  851 |  858 |  -7 | B6 |  371 | N595JB | LGA | FLL | 152 | 1076 | 6 |  0 | 2013-01-01 06:00:00 |\n| 2013 | 1 | 600 | 600 |  0 |  837 |  825 |  12 | MQ | 4650 | N542MQ | LGA | ATL | 134 |  762 | 6 |  0 | 2013-01-01 06:00:00 |\n| 2013 | 1 | 601 | 600 |  1 |  844 |  850 |  -6 | B6 |  343 | N644JB | EWR | PBI | 147 | 1023 | 6 |  0 | 2013-01-01 06:00:00 |\n| 2013 | 1 | 602 | 610 | -8 |  812 |  820 |  -8 | DL | 1919 | N971DL | LGA | MSP | 170 | 1020 | 6 | 10 | 2013-01-01 06:00:00 |\n| 2013 | 1 | 602 | 605 | -3 |  821 |  805 |  16 | MQ | 4401 | N730MQ | LGA | DTW | 105 |  502 | 6 |  5 | 2013-01-01 06:00:00 |\n| 2013 | 1 | 606 | 610 | -4 |  858 |  910 | -12 | AA | 1895 | N633AA | EWR | MIA | 152 | 1085 | 6 | 10 | 2013-01-01 06:00:00 |\n| 2013 | 1 | 606 | 610 | -4 |  837 |  845 |  -8 | DL | 1743 | N3739P | JFK | ATL | 128 |  760 | 6 | 10 | 2013-01-01 06:00:00 |\n| 2013 | 1 | 607 | 607 |  0 |  858 |  915 | -17 | UA | 1077 | N53442 | EWR | MIA | 157 | 1085 | 6 |  7 | 2013-01-01 06:00:00 |\n| 2013 | 1 | 608 | 600 |  8 |  807 |  735 |  32 | MQ | 3768 | N9EAMQ | EWR | ORD | 139 |  719 | 6 |  0 | 2013-01-01 06:00:00 |\n| 2013 | 1 | 611 | 600 | 11 |  945 |  931 |  14 | UA |  303 | N532UA | JFK | SFO | 366 | 2586 | 6 |  0 | 2013-01-01 06:00:00 |\n| 2013 | 1 | 613 | 610 |  3 |  925 |  921 |   4 | B6 |  135 | N635JB | JFK | RSW | 175 | 1074 | 6 | 10 | 2013-01-01 06:00:00 |\n| 2013 | 1 | 615 | 615 |  0 | 1039 | 1100 | -21 | B6 |  709 | N794JB | JFK | SJU | 182 | 1598 | 6 | 15 | 2013-01-01 06:00:00 |\n| 2013 | 1 | 615 | 615 |  0 |  833 |  842 |  -9 | DL |  575 | N326NB | EWR | ATL | 120 |  746 | 6 | 15 | 2013-01-01 06:00:00 |\n| ⋮ | ⋮ | ⋮ | ⋮ | ⋮ | ⋮ | ⋮ | ⋮ | ⋮ | ⋮ | ⋮ | ⋮ | ⋮ | ⋮ | ⋮ | ⋮ | ⋮ | ⋮ |\n| 2013 | 30 | 2123 | 2125 |  -2 | 2223 | 2247 | -24 | EV | 5489 | N712EV | LGA | CHO |  45 |  305 | 21 | 25 | 2013-09-30 21:00:00 |\n| 2013 | 30 | 2127 | 2129 |  -2 | 2314 | 2323 |  -9 | EV | 3833 | N16546 | EWR | CLT |  72 |  529 | 21 | 29 | 2013-09-30 21:00:00 |\n| 2013 | 30 | 2128 | 2130 |  -2 | 2328 | 2359 | -31 | B6 |   97 | N807JB | JFK | DEN | 213 | 1626 | 21 | 30 | 2013-09-30 21:00:00 |\n| 2013 | 30 | 2129 | 2059 |  30 | 2230 | 2232 |  -2 | EV | 5048 | N751EV | LGA | RIC |  45 |  292 | 20 | 59 | 2013-09-30 20:00:00 |\n| 2013 | 30 | 2131 | 2140 |  -9 | 2225 | 2255 | -30 | MQ | 3621 | N807MQ | JFK | DCA |  36 |  213 | 21 | 40 | 2013-09-30 21:00:00 |\n| 2013 | 30 | 2140 | 2140 |   0 |   10 |   40 | -30 | AA |  185 | N335AA | JFK | LAX | 298 | 2475 | 21 | 40 | 2013-09-30 21:00:00 |\n| 2013 | 30 | 2142 | 2129 |  13 | 2250 | 2239 |  11 | EV | 4509 | N12957 | EWR | PWM |  47 |  284 | 21 | 29 | 2013-09-30 21:00:00 |\n| 2013 | 30 | 2145 | 2145 |   0 |  115 |  140 | -25 | B6 | 1103 | N633JB | JFK | SJU | 192 | 1598 | 21 | 45 | 2013-09-30 21:00:00 |\n| 2013 | 30 | 2147 | 2137 |  10 |   30 |   27 |   3 | B6 | 1371 | N627JB | LGA | FLL | 139 | 1076 | 21 | 37 | 2013-09-30 21:00:00 |\n| 2013 | 30 | 2149 | 2156 |  -7 | 2245 | 2308 | -23 | UA |  523 | N813UA | EWR | BOS |  37 |  200 | 21 | 56 | 2013-09-30 21:00:00 |\n| 2013 | 30 | 2150 | 2159 |  -9 | 2250 | 2306 | -16 | EV | 3842 | N10575 | EWR | MHT |  39 |  209 | 21 | 59 | 2013-09-30 21:00:00 |\n| 2013 | 30 | 2159 | 1845 | 194 | 2344 | 2030 | 194 | 9E | 3320 | N906XJ | JFK | BUF |  50 |  301 | 18 | 45 | 2013-09-30 18:00:00 |\n| 2013 | 30 | 2203 | 2205 |  -2 | 2339 | 2331 |   8 | EV | 5311 | N722EV | LGA | BGR |  61 |  378 | 22 |  5 | 2013-09-30 22:00:00 |\n| 2013 | 30 | 2207 | 2140 |  27 | 2257 | 2250 |   7 | MQ | 3660 | N532MQ | LGA | BNA |  97 |  764 | 21 | 40 | 2013-09-30 21:00:00 |\n| 2013 | 30 | 2211 | 2059 |  72 | 2339 | 2242 |  57 | EV | 4672 | N12145 | EWR | STL | 120 |  872 | 20 | 59 | 2013-09-30 20:00:00 |\n| 2013 | 30 | 2231 | 2245 | -14 | 2335 | 2356 | -21 | B6 |  108 | N193JB | JFK | PWM |  48 |  273 | 22 | 45 | 2013-09-30 22:00:00 |\n| 2013 | 30 | 2233 | 2113 |  80 |  112 |   30 |  42 | UA |  471 | N578UA | EWR | SFO | 318 | 2565 | 21 | 13 | 2013-09-30 21:00:00 |\n| 2013 | 30 | 2235 | 2001 | 154 |   59 | 2249 | 130 | B6 | 1083 | N804JB | JFK | MCO | 123 |  944 | 20 |  1 | 2013-09-30 20:00:00 |\n| 2013 | 30 | 2237 | 2245 |  -8 | 2345 | 2353 |  -8 | B6 |  234 | N318JB | JFK | BTV |  43 |  266 | 22 | 45 | 2013-09-30 22:00:00 |\n| 2013 | 30 | 2240 | 2245 |  -5 | 2334 | 2351 | -17 | B6 | 1816 | N354JB | JFK | SYR |  41 |  209 | 22 | 45 | 2013-09-30 22:00:00 |\n| 2013 | 30 | 2240 | 2250 | -10 | 2347 |    7 | -20 | B6 | 2002 | N281JB | JFK | BUF |  52 |  301 | 22 | 50 | 2013-09-30 22:00:00 |\n| 2013 | 30 | 2241 | 2246 |  -5 | 2345 |    1 | -16 | B6 |  486 | N346JB | JFK | ROC |  47 |  264 | 22 | 46 | 2013-09-30 22:00:00 |\n| 2013 | 30 | 2307 | 2255 |  12 | 2359 | 2358 |   1 | B6 |  718 | N565JB | JFK | BOS |  33 |  187 | 22 | 55 | 2013-09-30 22:00:00 |\n| 2013 | 30 | 2349 | 2359 | -10 |  325 |  350 | -25 | B6 |  745 | N516JB | JFK | PSE | 196 | 1617 | 23 | 59 | 2013-09-30 23:00:00 |\n| 2013 | 30 |   NA | 1842 |  NA |   NA | 2019 |  NA | EV | 5274 | N740EV | LGA | BNA |  NA |  764 | 18 | 42 | 2013-09-30 18:00:00 |\n| 2013 | 30 |   NA | 1455 |  NA |   NA | 1634 |  NA | 9E | 3393 | NA     | JFK | DCA |  NA |  213 | 14 | 55 | 2013-09-30 14:00:00 |\n| 2013 | 30 |   NA | 2200 |  NA |   NA | 2312 |  NA | 9E | 3525 | NA     | LGA | SYR |  NA |  198 | 22 |  0 | 2013-09-30 22:00:00 |\n| 2013 | 30 |   NA | 1210 |  NA |   NA | 1330 |  NA | MQ | 3461 | N535MQ | LGA | BNA |  NA |  764 | 12 | 10 | 2013-09-30 12:00:00 |\n| 2013 | 30 |   NA | 1159 |  NA |   NA | 1344 |  NA | MQ | 3572 | N511MQ | LGA | CLE |  NA |  419 | 11 | 59 | 2013-09-30 11:00:00 |\n| 2013 | 30 |   NA |  840 |  NA |   NA | 1020 |  NA | MQ | 3531 | N839MQ | LGA | RDU |  NA |  431 |  8 | 40 | 2013-09-30 08:00:00 |\n\n",
            "text/latex": "A tibble: 336776 × 18\n\\begin{tabular}{llllllllllllllllll}\n year & day & dep\\_time & sched\\_dep\\_time & dep\\_delay & arr\\_time & sched\\_arr\\_time & arr\\_delay & carrier & flight & tailnum & origin & dest & air\\_time & distance & hour & minute & time\\_hour\\\\\n <int> & <int> & <int> & <int> & <dbl> & <int> & <int> & <dbl> & <chr> & <int> & <chr> & <chr> & <chr> & <dbl> & <dbl> & <dbl> & <dbl> & <dttm>\\\\\n\\hline\n\t 2013 & 1 & 517 & 515 &  2 &  830 &  819 &  11 & UA & 1545 & N14228 & EWR & IAH & 227 & 1400 & 5 & 15 & 2013-01-01 05:00:00\\\\\n\t 2013 & 1 & 533 & 529 &  4 &  850 &  830 &  20 & UA & 1714 & N24211 & LGA & IAH & 227 & 1416 & 5 & 29 & 2013-01-01 05:00:00\\\\\n\t 2013 & 1 & 542 & 540 &  2 &  923 &  850 &  33 & AA & 1141 & N619AA & JFK & MIA & 160 & 1089 & 5 & 40 & 2013-01-01 05:00:00\\\\\n\t 2013 & 1 & 544 & 545 & -1 & 1004 & 1022 & -18 & B6 &  725 & N804JB & JFK & BQN & 183 & 1576 & 5 & 45 & 2013-01-01 05:00:00\\\\\n\t 2013 & 1 & 554 & 600 & -6 &  812 &  837 & -25 & DL &  461 & N668DN & LGA & ATL & 116 &  762 & 6 &  0 & 2013-01-01 06:00:00\\\\\n\t 2013 & 1 & 554 & 558 & -4 &  740 &  728 &  12 & UA & 1696 & N39463 & EWR & ORD & 150 &  719 & 5 & 58 & 2013-01-01 05:00:00\\\\\n\t 2013 & 1 & 555 & 600 & -5 &  913 &  854 &  19 & B6 &  507 & N516JB & EWR & FLL & 158 & 1065 & 6 &  0 & 2013-01-01 06:00:00\\\\\n\t 2013 & 1 & 557 & 600 & -3 &  709 &  723 & -14 & EV & 5708 & N829AS & LGA & IAD &  53 &  229 & 6 &  0 & 2013-01-01 06:00:00\\\\\n\t 2013 & 1 & 557 & 600 & -3 &  838 &  846 &  -8 & B6 &   79 & N593JB & JFK & MCO & 140 &  944 & 6 &  0 & 2013-01-01 06:00:00\\\\\n\t 2013 & 1 & 558 & 600 & -2 &  753 &  745 &   8 & AA &  301 & N3ALAA & LGA & ORD & 138 &  733 & 6 &  0 & 2013-01-01 06:00:00\\\\\n\t 2013 & 1 & 558 & 600 & -2 &  849 &  851 &  -2 & B6 &   49 & N793JB & JFK & PBI & 149 & 1028 & 6 &  0 & 2013-01-01 06:00:00\\\\\n\t 2013 & 1 & 558 & 600 & -2 &  853 &  856 &  -3 & B6 &   71 & N657JB & JFK & TPA & 158 & 1005 & 6 &  0 & 2013-01-01 06:00:00\\\\\n\t 2013 & 1 & 558 & 600 & -2 &  924 &  917 &   7 & UA &  194 & N29129 & JFK & LAX & 345 & 2475 & 6 &  0 & 2013-01-01 06:00:00\\\\\n\t 2013 & 1 & 558 & 600 & -2 &  923 &  937 & -14 & UA & 1124 & N53441 & EWR & SFO & 361 & 2565 & 6 &  0 & 2013-01-01 06:00:00\\\\\n\t 2013 & 1 & 559 & 600 & -1 &  941 &  910 &  31 & AA &  707 & N3DUAA & LGA & DFW & 257 & 1389 & 6 &  0 & 2013-01-01 06:00:00\\\\\n\t 2013 & 1 & 559 & 559 &  0 &  702 &  706 &  -4 & B6 & 1806 & N708JB & JFK & BOS &  44 &  187 & 5 & 59 & 2013-01-01 05:00:00\\\\\n\t 2013 & 1 & 559 & 600 & -1 &  854 &  902 &  -8 & UA & 1187 & N76515 & EWR & LAS & 337 & 2227 & 6 &  0 & 2013-01-01 06:00:00\\\\\n\t 2013 & 1 & 600 & 600 &  0 &  851 &  858 &  -7 & B6 &  371 & N595JB & LGA & FLL & 152 & 1076 & 6 &  0 & 2013-01-01 06:00:00\\\\\n\t 2013 & 1 & 600 & 600 &  0 &  837 &  825 &  12 & MQ & 4650 & N542MQ & LGA & ATL & 134 &  762 & 6 &  0 & 2013-01-01 06:00:00\\\\\n\t 2013 & 1 & 601 & 600 &  1 &  844 &  850 &  -6 & B6 &  343 & N644JB & EWR & PBI & 147 & 1023 & 6 &  0 & 2013-01-01 06:00:00\\\\\n\t 2013 & 1 & 602 & 610 & -8 &  812 &  820 &  -8 & DL & 1919 & N971DL & LGA & MSP & 170 & 1020 & 6 & 10 & 2013-01-01 06:00:00\\\\\n\t 2013 & 1 & 602 & 605 & -3 &  821 &  805 &  16 & MQ & 4401 & N730MQ & LGA & DTW & 105 &  502 & 6 &  5 & 2013-01-01 06:00:00\\\\\n\t 2013 & 1 & 606 & 610 & -4 &  858 &  910 & -12 & AA & 1895 & N633AA & EWR & MIA & 152 & 1085 & 6 & 10 & 2013-01-01 06:00:00\\\\\n\t 2013 & 1 & 606 & 610 & -4 &  837 &  845 &  -8 & DL & 1743 & N3739P & JFK & ATL & 128 &  760 & 6 & 10 & 2013-01-01 06:00:00\\\\\n\t 2013 & 1 & 607 & 607 &  0 &  858 &  915 & -17 & UA & 1077 & N53442 & EWR & MIA & 157 & 1085 & 6 &  7 & 2013-01-01 06:00:00\\\\\n\t 2013 & 1 & 608 & 600 &  8 &  807 &  735 &  32 & MQ & 3768 & N9EAMQ & EWR & ORD & 139 &  719 & 6 &  0 & 2013-01-01 06:00:00\\\\\n\t 2013 & 1 & 611 & 600 & 11 &  945 &  931 &  14 & UA &  303 & N532UA & JFK & SFO & 366 & 2586 & 6 &  0 & 2013-01-01 06:00:00\\\\\n\t 2013 & 1 & 613 & 610 &  3 &  925 &  921 &   4 & B6 &  135 & N635JB & JFK & RSW & 175 & 1074 & 6 & 10 & 2013-01-01 06:00:00\\\\\n\t 2013 & 1 & 615 & 615 &  0 & 1039 & 1100 & -21 & B6 &  709 & N794JB & JFK & SJU & 182 & 1598 & 6 & 15 & 2013-01-01 06:00:00\\\\\n\t 2013 & 1 & 615 & 615 &  0 &  833 &  842 &  -9 & DL &  575 & N326NB & EWR & ATL & 120 &  746 & 6 & 15 & 2013-01-01 06:00:00\\\\\n\t ⋮ & ⋮ & ⋮ & ⋮ & ⋮ & ⋮ & ⋮ & ⋮ & ⋮ & ⋮ & ⋮ & ⋮ & ⋮ & ⋮ & ⋮ & ⋮ & ⋮ & ⋮\\\\\n\t 2013 & 30 & 2123 & 2125 &  -2 & 2223 & 2247 & -24 & EV & 5489 & N712EV & LGA & CHO &  45 &  305 & 21 & 25 & 2013-09-30 21:00:00\\\\\n\t 2013 & 30 & 2127 & 2129 &  -2 & 2314 & 2323 &  -9 & EV & 3833 & N16546 & EWR & CLT &  72 &  529 & 21 & 29 & 2013-09-30 21:00:00\\\\\n\t 2013 & 30 & 2128 & 2130 &  -2 & 2328 & 2359 & -31 & B6 &   97 & N807JB & JFK & DEN & 213 & 1626 & 21 & 30 & 2013-09-30 21:00:00\\\\\n\t 2013 & 30 & 2129 & 2059 &  30 & 2230 & 2232 &  -2 & EV & 5048 & N751EV & LGA & RIC &  45 &  292 & 20 & 59 & 2013-09-30 20:00:00\\\\\n\t 2013 & 30 & 2131 & 2140 &  -9 & 2225 & 2255 & -30 & MQ & 3621 & N807MQ & JFK & DCA &  36 &  213 & 21 & 40 & 2013-09-30 21:00:00\\\\\n\t 2013 & 30 & 2140 & 2140 &   0 &   10 &   40 & -30 & AA &  185 & N335AA & JFK & LAX & 298 & 2475 & 21 & 40 & 2013-09-30 21:00:00\\\\\n\t 2013 & 30 & 2142 & 2129 &  13 & 2250 & 2239 &  11 & EV & 4509 & N12957 & EWR & PWM &  47 &  284 & 21 & 29 & 2013-09-30 21:00:00\\\\\n\t 2013 & 30 & 2145 & 2145 &   0 &  115 &  140 & -25 & B6 & 1103 & N633JB & JFK & SJU & 192 & 1598 & 21 & 45 & 2013-09-30 21:00:00\\\\\n\t 2013 & 30 & 2147 & 2137 &  10 &   30 &   27 &   3 & B6 & 1371 & N627JB & LGA & FLL & 139 & 1076 & 21 & 37 & 2013-09-30 21:00:00\\\\\n\t 2013 & 30 & 2149 & 2156 &  -7 & 2245 & 2308 & -23 & UA &  523 & N813UA & EWR & BOS &  37 &  200 & 21 & 56 & 2013-09-30 21:00:00\\\\\n\t 2013 & 30 & 2150 & 2159 &  -9 & 2250 & 2306 & -16 & EV & 3842 & N10575 & EWR & MHT &  39 &  209 & 21 & 59 & 2013-09-30 21:00:00\\\\\n\t 2013 & 30 & 2159 & 1845 & 194 & 2344 & 2030 & 194 & 9E & 3320 & N906XJ & JFK & BUF &  50 &  301 & 18 & 45 & 2013-09-30 18:00:00\\\\\n\t 2013 & 30 & 2203 & 2205 &  -2 & 2339 & 2331 &   8 & EV & 5311 & N722EV & LGA & BGR &  61 &  378 & 22 &  5 & 2013-09-30 22:00:00\\\\\n\t 2013 & 30 & 2207 & 2140 &  27 & 2257 & 2250 &   7 & MQ & 3660 & N532MQ & LGA & BNA &  97 &  764 & 21 & 40 & 2013-09-30 21:00:00\\\\\n\t 2013 & 30 & 2211 & 2059 &  72 & 2339 & 2242 &  57 & EV & 4672 & N12145 & EWR & STL & 120 &  872 & 20 & 59 & 2013-09-30 20:00:00\\\\\n\t 2013 & 30 & 2231 & 2245 & -14 & 2335 & 2356 & -21 & B6 &  108 & N193JB & JFK & PWM &  48 &  273 & 22 & 45 & 2013-09-30 22:00:00\\\\\n\t 2013 & 30 & 2233 & 2113 &  80 &  112 &   30 &  42 & UA &  471 & N578UA & EWR & SFO & 318 & 2565 & 21 & 13 & 2013-09-30 21:00:00\\\\\n\t 2013 & 30 & 2235 & 2001 & 154 &   59 & 2249 & 130 & B6 & 1083 & N804JB & JFK & MCO & 123 &  944 & 20 &  1 & 2013-09-30 20:00:00\\\\\n\t 2013 & 30 & 2237 & 2245 &  -8 & 2345 & 2353 &  -8 & B6 &  234 & N318JB & JFK & BTV &  43 &  266 & 22 & 45 & 2013-09-30 22:00:00\\\\\n\t 2013 & 30 & 2240 & 2245 &  -5 & 2334 & 2351 & -17 & B6 & 1816 & N354JB & JFK & SYR &  41 &  209 & 22 & 45 & 2013-09-30 22:00:00\\\\\n\t 2013 & 30 & 2240 & 2250 & -10 & 2347 &    7 & -20 & B6 & 2002 & N281JB & JFK & BUF &  52 &  301 & 22 & 50 & 2013-09-30 22:00:00\\\\\n\t 2013 & 30 & 2241 & 2246 &  -5 & 2345 &    1 & -16 & B6 &  486 & N346JB & JFK & ROC &  47 &  264 & 22 & 46 & 2013-09-30 22:00:00\\\\\n\t 2013 & 30 & 2307 & 2255 &  12 & 2359 & 2358 &   1 & B6 &  718 & N565JB & JFK & BOS &  33 &  187 & 22 & 55 & 2013-09-30 22:00:00\\\\\n\t 2013 & 30 & 2349 & 2359 & -10 &  325 &  350 & -25 & B6 &  745 & N516JB & JFK & PSE & 196 & 1617 & 23 & 59 & 2013-09-30 23:00:00\\\\\n\t 2013 & 30 &   NA & 1842 &  NA &   NA & 2019 &  NA & EV & 5274 & N740EV & LGA & BNA &  NA &  764 & 18 & 42 & 2013-09-30 18:00:00\\\\\n\t 2013 & 30 &   NA & 1455 &  NA &   NA & 1634 &  NA & 9E & 3393 & NA     & JFK & DCA &  NA &  213 & 14 & 55 & 2013-09-30 14:00:00\\\\\n\t 2013 & 30 &   NA & 2200 &  NA &   NA & 2312 &  NA & 9E & 3525 & NA     & LGA & SYR &  NA &  198 & 22 &  0 & 2013-09-30 22:00:00\\\\\n\t 2013 & 30 &   NA & 1210 &  NA &   NA & 1330 &  NA & MQ & 3461 & N535MQ & LGA & BNA &  NA &  764 & 12 & 10 & 2013-09-30 12:00:00\\\\\n\t 2013 & 30 &   NA & 1159 &  NA &   NA & 1344 &  NA & MQ & 3572 & N511MQ & LGA & CLE &  NA &  419 & 11 & 59 & 2013-09-30 11:00:00\\\\\n\t 2013 & 30 &   NA &  840 &  NA &   NA & 1020 &  NA & MQ & 3531 & N839MQ & LGA & RDU &  NA &  431 &  8 & 40 & 2013-09-30 08:00:00\\\\\n\\end{tabular}\n",
            "text/plain": [
              "       year day dep_time sched_dep_time dep_delay arr_time sched_arr_time\n",
              "1      2013 1   517      515             2         830      819          \n",
              "2      2013 1   533      529             4         850      830          \n",
              "3      2013 1   542      540             2         923      850          \n",
              "4      2013 1   544      545            -1        1004     1022          \n",
              "5      2013 1   554      600            -6         812      837          \n",
              "6      2013 1   554      558            -4         740      728          \n",
              "7      2013 1   555      600            -5         913      854          \n",
              "8      2013 1   557      600            -3         709      723          \n",
              "9      2013 1   557      600            -3         838      846          \n",
              "10     2013 1   558      600            -2         753      745          \n",
              "11     2013 1   558      600            -2         849      851          \n",
              "12     2013 1   558      600            -2         853      856          \n",
              "13     2013 1   558      600            -2         924      917          \n",
              "14     2013 1   558      600            -2         923      937          \n",
              "15     2013 1   559      600            -1         941      910          \n",
              "16     2013 1   559      559             0         702      706          \n",
              "17     2013 1   559      600            -1         854      902          \n",
              "18     2013 1   600      600             0         851      858          \n",
              "19     2013 1   600      600             0         837      825          \n",
              "20     2013 1   601      600             1         844      850          \n",
              "21     2013 1   602      610            -8         812      820          \n",
              "22     2013 1   602      605            -3         821      805          \n",
              "23     2013 1   606      610            -4         858      910          \n",
              "24     2013 1   606      610            -4         837      845          \n",
              "25     2013 1   607      607             0         858      915          \n",
              "26     2013 1   608      600             8         807      735          \n",
              "27     2013 1   611      600            11         945      931          \n",
              "28     2013 1   613      610             3         925      921          \n",
              "29     2013 1   615      615             0        1039     1100          \n",
              "30     2013 1   615      615             0         833      842          \n",
              "⋮      ⋮    ⋮   ⋮        ⋮              ⋮         ⋮        ⋮             \n",
              "336747 2013 30  2123     2125            -2       2223     2247          \n",
              "336748 2013 30  2127     2129            -2       2314     2323          \n",
              "336749 2013 30  2128     2130            -2       2328     2359          \n",
              "336750 2013 30  2129     2059            30       2230     2232          \n",
              "336751 2013 30  2131     2140            -9       2225     2255          \n",
              "336752 2013 30  2140     2140             0         10       40          \n",
              "336753 2013 30  2142     2129            13       2250     2239          \n",
              "336754 2013 30  2145     2145             0        115      140          \n",
              "336755 2013 30  2147     2137            10         30       27          \n",
              "336756 2013 30  2149     2156            -7       2245     2308          \n",
              "336757 2013 30  2150     2159            -9       2250     2306          \n",
              "336758 2013 30  2159     1845           194       2344     2030          \n",
              "336759 2013 30  2203     2205            -2       2339     2331          \n",
              "336760 2013 30  2207     2140            27       2257     2250          \n",
              "336761 2013 30  2211     2059            72       2339     2242          \n",
              "336762 2013 30  2231     2245           -14       2335     2356          \n",
              "336763 2013 30  2233     2113            80        112       30          \n",
              "336764 2013 30  2235     2001           154         59     2249          \n",
              "336765 2013 30  2237     2245            -8       2345     2353          \n",
              "336766 2013 30  2240     2245            -5       2334     2351          \n",
              "336767 2013 30  2240     2250           -10       2347        7          \n",
              "336768 2013 30  2241     2246            -5       2345        1          \n",
              "336769 2013 30  2307     2255            12       2359     2358          \n",
              "336770 2013 30  2349     2359           -10        325      350          \n",
              "336771 2013 30    NA     1842            NA         NA     2019          \n",
              "336772 2013 30    NA     1455            NA         NA     1634          \n",
              "336773 2013 30    NA     2200            NA         NA     2312          \n",
              "336774 2013 30    NA     1210            NA         NA     1330          \n",
              "336775 2013 30    NA     1159            NA         NA     1344          \n",
              "336776 2013 30    NA      840            NA         NA     1020          \n",
              "       arr_delay carrier flight tailnum origin dest air_time distance hour\n",
              "1       11       UA      1545   N14228  EWR    IAH  227      1400     5   \n",
              "2       20       UA      1714   N24211  LGA    IAH  227      1416     5   \n",
              "3       33       AA      1141   N619AA  JFK    MIA  160      1089     5   \n",
              "4      -18       B6       725   N804JB  JFK    BQN  183      1576     5   \n",
              "5      -25       DL       461   N668DN  LGA    ATL  116       762     6   \n",
              "6       12       UA      1696   N39463  EWR    ORD  150       719     5   \n",
              "7       19       B6       507   N516JB  EWR    FLL  158      1065     6   \n",
              "8      -14       EV      5708   N829AS  LGA    IAD   53       229     6   \n",
              "9       -8       B6        79   N593JB  JFK    MCO  140       944     6   \n",
              "10       8       AA       301   N3ALAA  LGA    ORD  138       733     6   \n",
              "11      -2       B6        49   N793JB  JFK    PBI  149      1028     6   \n",
              "12      -3       B6        71   N657JB  JFK    TPA  158      1005     6   \n",
              "13       7       UA       194   N29129  JFK    LAX  345      2475     6   \n",
              "14     -14       UA      1124   N53441  EWR    SFO  361      2565     6   \n",
              "15      31       AA       707   N3DUAA  LGA    DFW  257      1389     6   \n",
              "16      -4       B6      1806   N708JB  JFK    BOS   44       187     5   \n",
              "17      -8       UA      1187   N76515  EWR    LAS  337      2227     6   \n",
              "18      -7       B6       371   N595JB  LGA    FLL  152      1076     6   \n",
              "19      12       MQ      4650   N542MQ  LGA    ATL  134       762     6   \n",
              "20      -6       B6       343   N644JB  EWR    PBI  147      1023     6   \n",
              "21      -8       DL      1919   N971DL  LGA    MSP  170      1020     6   \n",
              "22      16       MQ      4401   N730MQ  LGA    DTW  105       502     6   \n",
              "23     -12       AA      1895   N633AA  EWR    MIA  152      1085     6   \n",
              "24      -8       DL      1743   N3739P  JFK    ATL  128       760     6   \n",
              "25     -17       UA      1077   N53442  EWR    MIA  157      1085     6   \n",
              "26      32       MQ      3768   N9EAMQ  EWR    ORD  139       719     6   \n",
              "27      14       UA       303   N532UA  JFK    SFO  366      2586     6   \n",
              "28       4       B6       135   N635JB  JFK    RSW  175      1074     6   \n",
              "29     -21       B6       709   N794JB  JFK    SJU  182      1598     6   \n",
              "30      -9       DL       575   N326NB  EWR    ATL  120       746     6   \n",
              "⋮      ⋮         ⋮       ⋮      ⋮       ⋮      ⋮    ⋮        ⋮        ⋮   \n",
              "336747 -24       EV      5489   N712EV  LGA    CHO   45       305     21  \n",
              "336748  -9       EV      3833   N16546  EWR    CLT   72       529     21  \n",
              "336749 -31       B6        97   N807JB  JFK    DEN  213      1626     21  \n",
              "336750  -2       EV      5048   N751EV  LGA    RIC   45       292     20  \n",
              "336751 -30       MQ      3621   N807MQ  JFK    DCA   36       213     21  \n",
              "336752 -30       AA       185   N335AA  JFK    LAX  298      2475     21  \n",
              "336753  11       EV      4509   N12957  EWR    PWM   47       284     21  \n",
              "336754 -25       B6      1103   N633JB  JFK    SJU  192      1598     21  \n",
              "336755   3       B6      1371   N627JB  LGA    FLL  139      1076     21  \n",
              "336756 -23       UA       523   N813UA  EWR    BOS   37       200     21  \n",
              "336757 -16       EV      3842   N10575  EWR    MHT   39       209     21  \n",
              "336758 194       9E      3320   N906XJ  JFK    BUF   50       301     18  \n",
              "336759   8       EV      5311   N722EV  LGA    BGR   61       378     22  \n",
              "336760   7       MQ      3660   N532MQ  LGA    BNA   97       764     21  \n",
              "336761  57       EV      4672   N12145  EWR    STL  120       872     20  \n",
              "336762 -21       B6       108   N193JB  JFK    PWM   48       273     22  \n",
              "336763  42       UA       471   N578UA  EWR    SFO  318      2565     21  \n",
              "336764 130       B6      1083   N804JB  JFK    MCO  123       944     20  \n",
              "336765  -8       B6       234   N318JB  JFK    BTV   43       266     22  \n",
              "336766 -17       B6      1816   N354JB  JFK    SYR   41       209     22  \n",
              "336767 -20       B6      2002   N281JB  JFK    BUF   52       301     22  \n",
              "336768 -16       B6       486   N346JB  JFK    ROC   47       264     22  \n",
              "336769   1       B6       718   N565JB  JFK    BOS   33       187     22  \n",
              "336770 -25       B6       745   N516JB  JFK    PSE  196      1617     23  \n",
              "336771  NA       EV      5274   N740EV  LGA    BNA   NA       764     18  \n",
              "336772  NA       9E      3393   NA      JFK    DCA   NA       213     14  \n",
              "336773  NA       9E      3525   NA      LGA    SYR   NA       198     22  \n",
              "336774  NA       MQ      3461   N535MQ  LGA    BNA   NA       764     12  \n",
              "336775  NA       MQ      3572   N511MQ  LGA    CLE   NA       419     11  \n",
              "336776  NA       MQ      3531   N839MQ  LGA    RDU   NA       431      8  \n",
              "       minute time_hour          \n",
              "1      15     2013-01-01 05:00:00\n",
              "2      29     2013-01-01 05:00:00\n",
              "3      40     2013-01-01 05:00:00\n",
              "4      45     2013-01-01 05:00:00\n",
              "5       0     2013-01-01 06:00:00\n",
              "6      58     2013-01-01 05:00:00\n",
              "7       0     2013-01-01 06:00:00\n",
              "8       0     2013-01-01 06:00:00\n",
              "9       0     2013-01-01 06:00:00\n",
              "10      0     2013-01-01 06:00:00\n",
              "11      0     2013-01-01 06:00:00\n",
              "12      0     2013-01-01 06:00:00\n",
              "13      0     2013-01-01 06:00:00\n",
              "14      0     2013-01-01 06:00:00\n",
              "15      0     2013-01-01 06:00:00\n",
              "16     59     2013-01-01 05:00:00\n",
              "17      0     2013-01-01 06:00:00\n",
              "18      0     2013-01-01 06:00:00\n",
              "19      0     2013-01-01 06:00:00\n",
              "20      0     2013-01-01 06:00:00\n",
              "21     10     2013-01-01 06:00:00\n",
              "22      5     2013-01-01 06:00:00\n",
              "23     10     2013-01-01 06:00:00\n",
              "24     10     2013-01-01 06:00:00\n",
              "25      7     2013-01-01 06:00:00\n",
              "26      0     2013-01-01 06:00:00\n",
              "27      0     2013-01-01 06:00:00\n",
              "28     10     2013-01-01 06:00:00\n",
              "29     15     2013-01-01 06:00:00\n",
              "30     15     2013-01-01 06:00:00\n",
              "⋮      ⋮      ⋮                  \n",
              "336747 25     2013-09-30 21:00:00\n",
              "336748 29     2013-09-30 21:00:00\n",
              "336749 30     2013-09-30 21:00:00\n",
              "336750 59     2013-09-30 20:00:00\n",
              "336751 40     2013-09-30 21:00:00\n",
              "336752 40     2013-09-30 21:00:00\n",
              "336753 29     2013-09-30 21:00:00\n",
              "336754 45     2013-09-30 21:00:00\n",
              "336755 37     2013-09-30 21:00:00\n",
              "336756 56     2013-09-30 21:00:00\n",
              "336757 59     2013-09-30 21:00:00\n",
              "336758 45     2013-09-30 18:00:00\n",
              "336759  5     2013-09-30 22:00:00\n",
              "336760 40     2013-09-30 21:00:00\n",
              "336761 59     2013-09-30 20:00:00\n",
              "336762 45     2013-09-30 22:00:00\n",
              "336763 13     2013-09-30 21:00:00\n",
              "336764  1     2013-09-30 20:00:00\n",
              "336765 45     2013-09-30 22:00:00\n",
              "336766 45     2013-09-30 22:00:00\n",
              "336767 50     2013-09-30 22:00:00\n",
              "336768 46     2013-09-30 22:00:00\n",
              "336769 55     2013-09-30 22:00:00\n",
              "336770 59     2013-09-30 23:00:00\n",
              "336771 42     2013-09-30 18:00:00\n",
              "336772 55     2013-09-30 14:00:00\n",
              "336773  0     2013-09-30 22:00:00\n",
              "336774 10     2013-09-30 12:00:00\n",
              "336775 59     2013-09-30 11:00:00\n",
              "336776 40     2013-09-30 08:00:00"
            ]
          },
          "metadata": {}
        }
      ],
      "source": [
        "# select everything except the day column\n",
        "select(flights,-month) # NOTE: you want all columns except month"
      ]
    },
    {
      "cell_type": "markdown",
      "metadata": {
        "id": "zkP-pYEvWb2g"
      },
      "source": [
        "If you want to bring a few variables at the beginning, you can use `everything()` to refer to the remaining variables."
      ]
    },
    {
      "cell_type": "code",
      "execution_count": 43,
      "metadata": {
        "id": "atoDDx6jWb2g",
        "colab": {
          "base_uri": "https://localhost:8080/",
          "height": 410
        },
        "outputId": "e93dd170-b208-4d8f-fd55-f8463cee4bcb"
      },
      "outputs": [
        {
          "output_type": "display_data",
          "data": {
            "text/html": [
              "<table class=\"dataframe\">\n",
              "<caption>A tibble: 6 × 19</caption>\n",
              "<thead>\n",
              "\t<tr><th scope=col>dep_time</th><th scope=col>month</th><th scope=col>year</th><th scope=col>day</th><th scope=col>sched_dep_time</th><th scope=col>dep_delay</th><th scope=col>arr_time</th><th scope=col>sched_arr_time</th><th scope=col>arr_delay</th><th scope=col>carrier</th><th scope=col>flight</th><th scope=col>tailnum</th><th scope=col>origin</th><th scope=col>dest</th><th scope=col>air_time</th><th scope=col>distance</th><th scope=col>hour</th><th scope=col>minute</th><th scope=col>time_hour</th></tr>\n",
              "\t<tr><th scope=col>&lt;int&gt;</th><th scope=col>&lt;int&gt;</th><th scope=col>&lt;int&gt;</th><th scope=col>&lt;int&gt;</th><th scope=col>&lt;int&gt;</th><th scope=col>&lt;dbl&gt;</th><th scope=col>&lt;int&gt;</th><th scope=col>&lt;int&gt;</th><th scope=col>&lt;dbl&gt;</th><th scope=col>&lt;chr&gt;</th><th scope=col>&lt;int&gt;</th><th scope=col>&lt;chr&gt;</th><th scope=col>&lt;chr&gt;</th><th scope=col>&lt;chr&gt;</th><th scope=col>&lt;dbl&gt;</th><th scope=col>&lt;dbl&gt;</th><th scope=col>&lt;dbl&gt;</th><th scope=col>&lt;dbl&gt;</th><th scope=col>&lt;dttm&gt;</th></tr>\n",
              "</thead>\n",
              "<tbody>\n",
              "\t<tr><td>517</td><td>1</td><td>2013</td><td>1</td><td>515</td><td> 2</td><td> 830</td><td> 819</td><td> 11</td><td>UA</td><td>1545</td><td>N14228</td><td>EWR</td><td>IAH</td><td>227</td><td>1400</td><td>5</td><td>15</td><td>2013-01-01 05:00:00</td></tr>\n",
              "\t<tr><td>533</td><td>1</td><td>2013</td><td>1</td><td>529</td><td> 4</td><td> 850</td><td> 830</td><td> 20</td><td>UA</td><td>1714</td><td>N24211</td><td>LGA</td><td>IAH</td><td>227</td><td>1416</td><td>5</td><td>29</td><td>2013-01-01 05:00:00</td></tr>\n",
              "\t<tr><td>542</td><td>1</td><td>2013</td><td>1</td><td>540</td><td> 2</td><td> 923</td><td> 850</td><td> 33</td><td>AA</td><td>1141</td><td>N619AA</td><td>JFK</td><td>MIA</td><td>160</td><td>1089</td><td>5</td><td>40</td><td>2013-01-01 05:00:00</td></tr>\n",
              "\t<tr><td>544</td><td>1</td><td>2013</td><td>1</td><td>545</td><td>-1</td><td>1004</td><td>1022</td><td>-18</td><td>B6</td><td> 725</td><td>N804JB</td><td>JFK</td><td>BQN</td><td>183</td><td>1576</td><td>5</td><td>45</td><td>2013-01-01 05:00:00</td></tr>\n",
              "\t<tr><td>554</td><td>1</td><td>2013</td><td>1</td><td>600</td><td>-6</td><td> 812</td><td> 837</td><td>-25</td><td>DL</td><td> 461</td><td>N668DN</td><td>LGA</td><td>ATL</td><td>116</td><td> 762</td><td>6</td><td> 0</td><td>2013-01-01 06:00:00</td></tr>\n",
              "\t<tr><td>554</td><td>1</td><td>2013</td><td>1</td><td>558</td><td>-4</td><td> 740</td><td> 728</td><td> 12</td><td>UA</td><td>1696</td><td>N39463</td><td>EWR</td><td>ORD</td><td>150</td><td> 719</td><td>5</td><td>58</td><td>2013-01-01 05:00:00</td></tr>\n",
              "</tbody>\n",
              "</table>\n"
            ],
            "text/markdown": "\nA tibble: 6 × 19\n\n| dep_time &lt;int&gt; | month &lt;int&gt; | year &lt;int&gt; | day &lt;int&gt; | sched_dep_time &lt;int&gt; | dep_delay &lt;dbl&gt; | arr_time &lt;int&gt; | sched_arr_time &lt;int&gt; | arr_delay &lt;dbl&gt; | carrier &lt;chr&gt; | flight &lt;int&gt; | tailnum &lt;chr&gt; | origin &lt;chr&gt; | dest &lt;chr&gt; | air_time &lt;dbl&gt; | distance &lt;dbl&gt; | hour &lt;dbl&gt; | minute &lt;dbl&gt; | time_hour &lt;dttm&gt; |\n|---|---|---|---|---|---|---|---|---|---|---|---|---|---|---|---|---|---|---|\n| 517 | 1 | 2013 | 1 | 515 |  2 |  830 |  819 |  11 | UA | 1545 | N14228 | EWR | IAH | 227 | 1400 | 5 | 15 | 2013-01-01 05:00:00 |\n| 533 | 1 | 2013 | 1 | 529 |  4 |  850 |  830 |  20 | UA | 1714 | N24211 | LGA | IAH | 227 | 1416 | 5 | 29 | 2013-01-01 05:00:00 |\n| 542 | 1 | 2013 | 1 | 540 |  2 |  923 |  850 |  33 | AA | 1141 | N619AA | JFK | MIA | 160 | 1089 | 5 | 40 | 2013-01-01 05:00:00 |\n| 544 | 1 | 2013 | 1 | 545 | -1 | 1004 | 1022 | -18 | B6 |  725 | N804JB | JFK | BQN | 183 | 1576 | 5 | 45 | 2013-01-01 05:00:00 |\n| 554 | 1 | 2013 | 1 | 600 | -6 |  812 |  837 | -25 | DL |  461 | N668DN | LGA | ATL | 116 |  762 | 6 |  0 | 2013-01-01 06:00:00 |\n| 554 | 1 | 2013 | 1 | 558 | -4 |  740 |  728 |  12 | UA | 1696 | N39463 | EWR | ORD | 150 |  719 | 5 | 58 | 2013-01-01 05:00:00 |\n\n",
            "text/latex": "A tibble: 6 × 19\n\\begin{tabular}{lllllllllllllllllll}\n dep\\_time & month & year & day & sched\\_dep\\_time & dep\\_delay & arr\\_time & sched\\_arr\\_time & arr\\_delay & carrier & flight & tailnum & origin & dest & air\\_time & distance & hour & minute & time\\_hour\\\\\n <int> & <int> & <int> & <int> & <int> & <dbl> & <int> & <int> & <dbl> & <chr> & <int> & <chr> & <chr> & <chr> & <dbl> & <dbl> & <dbl> & <dbl> & <dttm>\\\\\n\\hline\n\t 517 & 1 & 2013 & 1 & 515 &  2 &  830 &  819 &  11 & UA & 1545 & N14228 & EWR & IAH & 227 & 1400 & 5 & 15 & 2013-01-01 05:00:00\\\\\n\t 533 & 1 & 2013 & 1 & 529 &  4 &  850 &  830 &  20 & UA & 1714 & N24211 & LGA & IAH & 227 & 1416 & 5 & 29 & 2013-01-01 05:00:00\\\\\n\t 542 & 1 & 2013 & 1 & 540 &  2 &  923 &  850 &  33 & AA & 1141 & N619AA & JFK & MIA & 160 & 1089 & 5 & 40 & 2013-01-01 05:00:00\\\\\n\t 544 & 1 & 2013 & 1 & 545 & -1 & 1004 & 1022 & -18 & B6 &  725 & N804JB & JFK & BQN & 183 & 1576 & 5 & 45 & 2013-01-01 05:00:00\\\\\n\t 554 & 1 & 2013 & 1 & 600 & -6 &  812 &  837 & -25 & DL &  461 & N668DN & LGA & ATL & 116 &  762 & 6 &  0 & 2013-01-01 06:00:00\\\\\n\t 554 & 1 & 2013 & 1 & 558 & -4 &  740 &  728 &  12 & UA & 1696 & N39463 & EWR & ORD & 150 &  719 & 5 & 58 & 2013-01-01 05:00:00\\\\\n\\end{tabular}\n",
            "text/plain": [
              "  dep_time month year day sched_dep_time dep_delay arr_time sched_arr_time\n",
              "1 517      1     2013 1   515             2         830      819          \n",
              "2 533      1     2013 1   529             4         850      830          \n",
              "3 542      1     2013 1   540             2         923      850          \n",
              "4 544      1     2013 1   545            -1        1004     1022          \n",
              "5 554      1     2013 1   600            -6         812      837          \n",
              "6 554      1     2013 1   558            -4         740      728          \n",
              "  arr_delay carrier flight tailnum origin dest air_time distance hour minute\n",
              "1  11       UA      1545   N14228  EWR    IAH  227      1400     5    15    \n",
              "2  20       UA      1714   N24211  LGA    IAH  227      1416     5    29    \n",
              "3  33       AA      1141   N619AA  JFK    MIA  160      1089     5    40    \n",
              "4 -18       B6       725   N804JB  JFK    BQN  183      1576     5    45    \n",
              "5 -25       DL       461   N668DN  LGA    ATL  116       762     6     0    \n",
              "6  12       UA      1696   N39463  EWR    ORD  150       719     5    58    \n",
              "  time_hour          \n",
              "1 2013-01-01 05:00:00\n",
              "2 2013-01-01 05:00:00\n",
              "3 2013-01-01 05:00:00\n",
              "4 2013-01-01 05:00:00\n",
              "5 2013-01-01 06:00:00\n",
              "6 2013-01-01 05:00:00"
            ]
          },
          "metadata": {}
        }
      ],
      "source": [
        "# bring dep_time, arr_time, day, month, year to front\n",
        "head(select(flights,dep_time,month,everything())) # NOTE: you want dep time to come first, month, then everything else ... & then you only want first 6 entries"
      ]
    },
    {
      "cell_type": "markdown",
      "metadata": {
        "id": "hk3ZdZTLWb2g"
      },
      "source": [
        "In addition, there are some helper functions that only work inside `select()`.\n",
        "\n",
        "* `starts_with()`, `ends_with()`, `contains()`\n",
        "* `matches()`\n",
        "* `num_range()`\n",
        "\n",
        "You can consult the documentation or type `?select` at the prompt to learn more about these. Here's just one example of their use."
      ]
    },
    {
      "cell_type": "code",
      "execution_count": 44,
      "metadata": {
        "id": "gIR4zOsxWb2h",
        "colab": {
          "base_uri": "https://localhost:8080/",
          "height": 286
        },
        "outputId": "15cd3230-f66f-425d-fe7b-809f26a696b6"
      },
      "outputs": [
        {
          "output_type": "display_data",
          "data": {
            "text/html": [
              "<table class=\"dataframe\">\n",
              "<caption>A tibble: 6 × 6</caption>\n",
              "<thead>\n",
              "\t<tr><th scope=col>dep_time</th><th scope=col>sched_dep_time</th><th scope=col>arr_time</th><th scope=col>sched_arr_time</th><th scope=col>air_time</th><th scope=col>time_hour</th></tr>\n",
              "\t<tr><th scope=col>&lt;int&gt;</th><th scope=col>&lt;int&gt;</th><th scope=col>&lt;int&gt;</th><th scope=col>&lt;int&gt;</th><th scope=col>&lt;dbl&gt;</th><th scope=col>&lt;dttm&gt;</th></tr>\n",
              "</thead>\n",
              "<tbody>\n",
              "\t<tr><td>517</td><td>515</td><td> 830</td><td> 819</td><td>227</td><td>2013-01-01 05:00:00</td></tr>\n",
              "\t<tr><td>533</td><td>529</td><td> 850</td><td> 830</td><td>227</td><td>2013-01-01 05:00:00</td></tr>\n",
              "\t<tr><td>542</td><td>540</td><td> 923</td><td> 850</td><td>160</td><td>2013-01-01 05:00:00</td></tr>\n",
              "\t<tr><td>544</td><td>545</td><td>1004</td><td>1022</td><td>183</td><td>2013-01-01 05:00:00</td></tr>\n",
              "\t<tr><td>554</td><td>600</td><td> 812</td><td> 837</td><td>116</td><td>2013-01-01 06:00:00</td></tr>\n",
              "\t<tr><td>554</td><td>558</td><td> 740</td><td> 728</td><td>150</td><td>2013-01-01 05:00:00</td></tr>\n",
              "</tbody>\n",
              "</table>\n"
            ],
            "text/markdown": "\nA tibble: 6 × 6\n\n| dep_time &lt;int&gt; | sched_dep_time &lt;int&gt; | arr_time &lt;int&gt; | sched_arr_time &lt;int&gt; | air_time &lt;dbl&gt; | time_hour &lt;dttm&gt; |\n|---|---|---|---|---|---|\n| 517 | 515 |  830 |  819 | 227 | 2013-01-01 05:00:00 |\n| 533 | 529 |  850 |  830 | 227 | 2013-01-01 05:00:00 |\n| 542 | 540 |  923 |  850 | 160 | 2013-01-01 05:00:00 |\n| 544 | 545 | 1004 | 1022 | 183 | 2013-01-01 05:00:00 |\n| 554 | 600 |  812 |  837 | 116 | 2013-01-01 06:00:00 |\n| 554 | 558 |  740 |  728 | 150 | 2013-01-01 05:00:00 |\n\n",
            "text/latex": "A tibble: 6 × 6\n\\begin{tabular}{llllll}\n dep\\_time & sched\\_dep\\_time & arr\\_time & sched\\_arr\\_time & air\\_time & time\\_hour\\\\\n <int> & <int> & <int> & <int> & <dbl> & <dttm>\\\\\n\\hline\n\t 517 & 515 &  830 &  819 & 227 & 2013-01-01 05:00:00\\\\\n\t 533 & 529 &  850 &  830 & 227 & 2013-01-01 05:00:00\\\\\n\t 542 & 540 &  923 &  850 & 160 & 2013-01-01 05:00:00\\\\\n\t 544 & 545 & 1004 & 1022 & 183 & 2013-01-01 05:00:00\\\\\n\t 554 & 600 &  812 &  837 & 116 & 2013-01-01 06:00:00\\\\\n\t 554 & 558 &  740 &  728 & 150 & 2013-01-01 05:00:00\\\\\n\\end{tabular}\n",
            "text/plain": [
              "  dep_time sched_dep_time arr_time sched_arr_time air_time time_hour          \n",
              "1 517      515             830      819           227      2013-01-01 05:00:00\n",
              "2 533      529             850      830           227      2013-01-01 05:00:00\n",
              "3 542      540             923      850           160      2013-01-01 05:00:00\n",
              "4 544      545            1004     1022           183      2013-01-01 05:00:00\n",
              "5 554      600             812      837           116      2013-01-01 06:00:00\n",
              "6 554      558             740      728           150      2013-01-01 05:00:00"
            ]
          },
          "metadata": {}
        }
      ],
      "source": [
        "# select all the variables that contain the word \"time\"\n",
        "head(select(flights,contains('time'))) # show me all the columns that have time in it... but only show first 6 entries "
      ]
    }
  ],
  "metadata": {
    "celltoolbar": "Slideshow",
    "kernelspec": {
      "display_name": "R",
      "language": "R",
      "name": "ir"
    },
    "language_info": {
      "codemirror_mode": "r",
      "file_extension": ".r",
      "mimetype": "text/x-r-source",
      "name": "R",
      "pygments_lexer": "r",
      "version": "4.2.2"
    },
    "colab": {
      "provenance": [],
      "include_colab_link": true
    }
  },
  "nbformat": 4,
  "nbformat_minor": 0
}