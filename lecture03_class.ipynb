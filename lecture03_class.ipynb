{
  "cells": [
    {
      "cell_type": "markdown",
      "metadata": {
        "id": "view-in-github",
        "colab_type": "text"
      },
      "source": [
        "<a href=\"https://colab.research.google.com/github/sharonma1218/stats-306/blob/main/lecture03_class.ipynb\" target=\"_parent\"><img src=\"https://colab.research.google.com/assets/colab-badge.svg\" alt=\"Open In Colab\"/></a>"
      ]
    },
    {
      "cell_type": "code",
      "execution_count": 1,
      "metadata": {
        "id": "h8JjT0MVstpA"
      },
      "outputs": [],
      "source": [
        "options(repr.plot.width = 8 , repr.plot.height = 5)"
      ]
    },
    {
      "cell_type": "code",
      "source": [
        "install.packages('nycflights13')\n",
        "install.packages('Lahman')\n",
        "install.packages('babynames')"
      ],
      "metadata": {
        "id": "7ZFO2C7Ks2Fg",
        "outputId": "f57379c0-a337-47a4-bf6e-b66b0dc0390f",
        "colab": {
          "base_uri": "https://localhost:8080/"
        }
      },
      "execution_count": 2,
      "outputs": [
        {
          "output_type": "stream",
          "name": "stderr",
          "text": [
            "Installing package into ‘/usr/local/lib/R/site-library’\n",
            "(as ‘lib’ is unspecified)\n",
            "\n",
            "Installing package into ‘/usr/local/lib/R/site-library’\n",
            "(as ‘lib’ is unspecified)\n",
            "\n",
            "Installing package into ‘/usr/local/lib/R/site-library’\n",
            "(as ‘lib’ is unspecified)\n",
            "\n"
          ]
        }
      ]
    },
    {
      "cell_type": "markdown",
      "metadata": {
        "id": "MFrkOXEvstpC"
      },
      "source": [
        "# Lecture 3: Advanced data transformations and pipelines\n",
        "\n",
        "<div style=\"border: 1px double black; padding: 10px; margin: 10px\">\n",
        "\n",
        "**Goals for today's lecture:**\n",
        "* Use the skills that we learned last week to do advanced data analysis\n",
        "* Construct pipelines of data transformations\n",
        "    \n",
        "This lecture note corresponds to Chapters 4 and 5 of your book.\n",
        "</div>"
      ]
    },
    {
      "cell_type": "code",
      "execution_count": 3,
      "metadata": {
        "id": "oeYFVHDRstpE",
        "colab": {
          "base_uri": "https://localhost:8080/"
        },
        "outputId": "4944a65b-90ed-45f4-c7f1-c1f4dbb9b7f2"
      },
      "outputs": [
        {
          "output_type": "stream",
          "name": "stderr",
          "text": [
            "Warning message in system(\"timedatectl\", intern = TRUE):\n",
            "“running command 'timedatectl' had status 1”\n",
            "── \u001b[1mAttaching packages\u001b[22m ─────────────────────────────────────── tidyverse 1.3.1 ──\n",
            "\n",
            "\u001b[32m✔\u001b[39m \u001b[34mggplot2\u001b[39m 3.4.0      \u001b[32m✔\u001b[39m \u001b[34mpurrr  \u001b[39m 1.0.1 \n",
            "\u001b[32m✔\u001b[39m \u001b[34mtibble \u001b[39m 3.1.8      \u001b[32m✔\u001b[39m \u001b[34mdplyr  \u001b[39m 1.0.10\n",
            "\u001b[32m✔\u001b[39m \u001b[34mtidyr  \u001b[39m 1.2.1      \u001b[32m✔\u001b[39m \u001b[34mstringr\u001b[39m 1.4.1 \n",
            "\u001b[32m✔\u001b[39m \u001b[34mreadr  \u001b[39m 2.1.3      \u001b[32m✔\u001b[39m \u001b[34mforcats\u001b[39m 0.5.2 \n",
            "\n",
            "── \u001b[1mConflicts\u001b[22m ────────────────────────────────────────── tidyverse_conflicts() ──\n",
            "\u001b[31m✖\u001b[39m \u001b[34mdplyr\u001b[39m::\u001b[32mfilter()\u001b[39m masks \u001b[34mstats\u001b[39m::filter()\n",
            "\u001b[31m✖\u001b[39m \u001b[34mdplyr\u001b[39m::\u001b[32mlag()\u001b[39m    masks \u001b[34mstats\u001b[39m::lag()\n",
            "\n"
          ]
        }
      ],
      "source": [
        "# packages we will be using in today's lecture:\n",
        "library(tidyverse)  # always!\n",
        "# install these packages if needed\n",
        "library(nycflights13)\n",
        "library(Lahman)  \n",
        "library(babynames)"
      ]
    },
    {
      "cell_type": "markdown",
      "metadata": {
        "id": "NzErg5iNstpI"
      },
      "source": [
        "## Review of week 2\n",
        "Last lecture we learned how to alter the rows and columns of a dataframe:\n",
        "- `filter()` to keep certain rows that satisfy logical conditions.\n",
        "- `arrange()` to sort rows according to certain column values.\n",
        "- `distinct()` to keep only rows that are distinct on some combination of columns.\n",
        "- `select()` to drop/rename/rearrange columns\n",
        "- `group_by()` to tell R how your data are grouped\n",
        "- `summarize()` to create summary tables of your (grouped) data"
      ]
    },
    {
      "cell_type": "markdown",
      "metadata": {
        "id": "cSebM4NVstpN"
      },
      "source": [
        "## The pipe (`%>%`) operator\n",
        "\n",
        "![pipes](https://i0.wp.com/www.rforecology.com/pipes_image0.png?zoom=2&w=578&ssl=1)"
      ]
    },
    {
      "cell_type": "markdown",
      "metadata": {
        "id": "Wmlmu9BmstpN"
      },
      "source": [
        "`%>%` (pronounced: \"pipe\") works by taking the **output** from the left-hand side, and feeding it in as the **input** on the right-hand side:\n",
        "\n",
        "<div style=\"margin: 0 auto; padding: 50px; font-size: 36px\">\n",
        "    <code style=\"background: lightgreen; padding: 5px\">output</code>\n",
        "    <code> %&gt;% </code>\n",
        "    <code>function(<code style=\"background: lightgreen; padding: 5px\">input</code>, args...)</code>\n",
        "</div>"
      ]
    },
    {
      "cell_type": "markdown",
      "source": [
        "**Notes from this section: **\n",
        "*   group categories tgt\n",
        "*   **summarize:** min, max, mean, median, etc\n",
        "* base pipe that comes from python: |> \n",
        "* %>% can do more advanced stuff. not avail in python yet. \n",
        "\n"
      ],
      "metadata": {
        "id": "4WZV-ZEmtk4g"
      }
    },
    {
      "cell_type": "markdown",
      "metadata": {
        "id": "EWsv_jM6stpO"
      },
      "source": [
        "## Practice forming pipelines\n",
        "Let's find the most delayed flight (highest departure delay) for each day of the year:\n",
        "    \n",
        "    # A tibble: 370 × 19\n",
        "    # Groups:   year, month, day [365]\n",
        "        year month   day dep_time sched_de…¹ dep_d…² arr_t…³ sched…⁴ arr_d…⁵ carrier\n",
        "       <int> <int> <int>    <int>      <int>   <dbl>   <int>   <int>   <dbl> <chr>  \n",
        "     1  2013     1     1      848       1835     853    1001    1950     851 MQ     \n",
        "     2  2013     1     2     2131       1512     379    2340    1741     359 UA     "
      ]
    },
    {
      "cell_type": "code",
      "execution_count": 8,
      "metadata": {
        "scrolled": true,
        "id": "QoRNUtIkstpO",
        "colab": {
          "base_uri": "https://localhost:8080/"
        },
        "outputId": "c2ca1fa6-5bb1-41c9-abdd-928d57ae4b2c"
      },
      "outputs": [
        {
          "output_type": "stream",
          "name": "stderr",
          "text": [
            "\u001b[1m\u001b[22m`summarise()` has grouped output by 'year', 'month'. You can override using the\n",
            "`.groups` argument.\n"
          ]
        },
        {
          "output_type": "stream",
          "name": "stdout",
          "text": [
            "\u001b[90m# A tibble: 365 × 4\u001b[39m\n",
            "\u001b[90m# Groups:   year, month [12]\u001b[39m\n",
            "    year month   day max_delay\n",
            "   \u001b[3m\u001b[90m<int>\u001b[39m\u001b[23m \u001b[3m\u001b[90m<int>\u001b[39m\u001b[23m \u001b[3m\u001b[90m<int>\u001b[39m\u001b[23m     \u001b[3m\u001b[90m<dbl>\u001b[39m\u001b[23m\n",
            "\u001b[90m 1\u001b[39m  \u001b[4m2\u001b[24m013     1     1       853\n",
            "\u001b[90m 2\u001b[39m  \u001b[4m2\u001b[24m013     1     2       379\n",
            "\u001b[90m 3\u001b[39m  \u001b[4m2\u001b[24m013     1     3       291\n",
            "\u001b[90m 4\u001b[39m  \u001b[4m2\u001b[24m013     1     4       288\n",
            "\u001b[90m 5\u001b[39m  \u001b[4m2\u001b[24m013     1     5       327\n",
            "\u001b[90m 6\u001b[39m  \u001b[4m2\u001b[24m013     1     6       202\n",
            "\u001b[90m 7\u001b[39m  \u001b[4m2\u001b[24m013     1     7       366\n",
            "\u001b[90m 8\u001b[39m  \u001b[4m2\u001b[24m013     1     8       188\n",
            "\u001b[90m 9\u001b[39m  \u001b[4m2\u001b[24m013     1     9      \u001b[4m1\u001b[24m301\n",
            "\u001b[90m10\u001b[39m  \u001b[4m2\u001b[24m013     1    10      \u001b[4m1\u001b[24m126\n",
            "\u001b[90m# … with 355 more rows\u001b[39m\n"
          ]
        }
      ],
      "source": [
        "# most delayed flight for each day\n",
        "flights%>%\n",
        "  group_by(year,month,day)%>%\n",
        "  summarize(max_delay=max(dep_delay,na.rm=T))%>%\n",
        "  print"
      ]
    },
    {
      "cell_type": "markdown",
      "metadata": {
        "id": "hQH2IE-WstpP"
      },
      "source": [
        "What about the *second-most* delayed flight for each day? \n",
        "\n",
        "    # A tibble: 369 × 20\n",
        "    # Groups:   year, month, day [360]\n",
        "        year month   day dep_time sched_de…¹ dep_d…² arr_t…³ sched…⁴ arr_d…⁵ carrier\n",
        "       <int> <int> <int>    <int>      <int>   <dbl>   <int>   <int>   <dbl> <chr>  \n",
        "     1  2013     1     1     2343       1724     379     314    1938     456 EV     \n",
        "     2  2013     1     2     1607       1030     337    2003    1355     368 AA     \n",
        "     3  2013     1     3     2008       1540     268    2339    1909     270 DL     "
      ]
    },
    {
      "cell_type": "markdown",
      "metadata": {
        "id": "D1bJXSbMstpP"
      },
      "source": [
        "To do this question (easily) you'll need to use a new function, `min_rank()` (see Chapter 15 of the reading). This function takes a vector of numbers and returns their rank:"
      ]
    },
    {
      "cell_type": "code",
      "execution_count": null,
      "metadata": {
        "id": "9tCWBcbLstpP",
        "outputId": "c0e7c685-6446-46b7-e3a8-f5559920ed3c"
      },
      "outputs": [
        {
          "data": {
            "text/html": [
              "<style>\n",
              ".list-inline {list-style: none; margin:0; padding: 0}\n",
              ".list-inline>li {display: inline-block}\n",
              ".list-inline>li:not(:last-child)::after {content: \"\\00b7\"; padding: 0 .5ex}\n",
              "</style>\n",
              "<ol class=list-inline><li>1</li><li>1</li><li>1</li><li>1</li><li>1</li></ol>\n"
            ],
            "text/latex": [
              "\\begin{enumerate*}\n",
              "\\item 1\n",
              "\\item 1\n",
              "\\item 1\n",
              "\\item 1\n",
              "\\item 1\n",
              "\\end{enumerate*}\n"
            ],
            "text/markdown": [
              "1. 1\n",
              "2. 1\n",
              "3. 1\n",
              "4. 1\n",
              "5. 1\n",
              "\n",
              "\n"
            ],
            "text/plain": [
              "[1] 1 1 1 1 1"
            ]
          },
          "metadata": {},
          "output_type": "display_data"
        }
      ],
      "source": [
        "min_rank(c(5, 5, 5, 5, 5))"
      ]
    },
    {
      "cell_type": "code",
      "execution_count": 12,
      "metadata": {
        "id": "Qt9DZHsLstpQ",
        "colab": {
          "base_uri": "https://localhost:8080/"
        },
        "outputId": "fbf5a700-7feb-4801-b69d-6caae1c7abf1"
      },
      "outputs": [
        {
          "output_type": "stream",
          "name": "stdout",
          "text": [
            "\u001b[90m# A tibble: 369 × 20\u001b[39m\n",
            "\u001b[90m# Groups:   year, month, day [360]\u001b[39m\n",
            "    year month   day dep_time sched_de…¹ dep_d…² arr_t…³ sched…⁴ arr_d…⁵ carrier\n",
            "   \u001b[3m\u001b[90m<int>\u001b[39m\u001b[23m \u001b[3m\u001b[90m<int>\u001b[39m\u001b[23m \u001b[3m\u001b[90m<int>\u001b[39m\u001b[23m    \u001b[3m\u001b[90m<int>\u001b[39m\u001b[23m      \u001b[3m\u001b[90m<int>\u001b[39m\u001b[23m   \u001b[3m\u001b[90m<dbl>\u001b[39m\u001b[23m   \u001b[3m\u001b[90m<int>\u001b[39m\u001b[23m   \u001b[3m\u001b[90m<int>\u001b[39m\u001b[23m   \u001b[3m\u001b[90m<dbl>\u001b[39m\u001b[23m \u001b[3m\u001b[90m<chr>\u001b[39m\u001b[23m  \n",
            "\u001b[90m 1\u001b[39m  \u001b[4m2\u001b[24m013     1     1     \u001b[4m2\u001b[24m343       \u001b[4m1\u001b[24m724     379     314    \u001b[4m1\u001b[24m938     456 EV     \n",
            "\u001b[90m 2\u001b[39m  \u001b[4m2\u001b[24m013     1     2     \u001b[4m1\u001b[24m607       \u001b[4m1\u001b[24m030     337    \u001b[4m2\u001b[24m003    \u001b[4m1\u001b[24m355     368 AA     \n",
            "\u001b[90m 3\u001b[39m  \u001b[4m2\u001b[24m013     1     3     \u001b[4m2\u001b[24m008       \u001b[4m1\u001b[24m540     268    \u001b[4m2\u001b[24m339    \u001b[4m1\u001b[24m909     270 DL     \n",
            "\u001b[90m 4\u001b[39m  \u001b[4m2\u001b[24m013     1     4     \u001b[4m2\u001b[24m058       \u001b[4m1\u001b[24m730     208       2    \u001b[4m2\u001b[24m110     172 B6     \n",
            "\u001b[90m 5\u001b[39m  \u001b[4m2\u001b[24m013     1     5     \u001b[4m1\u001b[24m232        815     257    \u001b[4m1\u001b[24m405     957     248 9E     \n",
            "\u001b[90m 6\u001b[39m  \u001b[4m2\u001b[24m013     1     6      943        700     163    \u001b[4m1\u001b[24m227     932     175 EV     \n",
            "\u001b[90m 7\u001b[39m  \u001b[4m2\u001b[24m013     1     6     \u001b[4m1\u001b[24m113        830     163    \u001b[4m1\u001b[24m253    \u001b[4m1\u001b[24m013     160 EV     \n",
            "\u001b[90m 8\u001b[39m  \u001b[4m2\u001b[24m013     1     7     \u001b[4m1\u001b[24m323        830     293    \u001b[4m1\u001b[24m604    \u001b[4m1\u001b[24m154     250 UA     \n",
            "\u001b[90m 9\u001b[39m  \u001b[4m2\u001b[24m013     1     8     \u001b[4m1\u001b[24m612       \u001b[4m1\u001b[24m330     162    \u001b[4m1\u001b[24m844    \u001b[4m1\u001b[24m617     147 B6     \n",
            "\u001b[90m10\u001b[39m  \u001b[4m2\u001b[24m013     1     9     \u001b[4m2\u001b[24m223       \u001b[4m1\u001b[24m810     253     111    \u001b[4m2\u001b[24m104     247 UA     \n",
            "\u001b[90m# … with 359 more rows, 10 more variables: flight <int>, tailnum <chr>,\u001b[39m\n",
            "\u001b[90m#   origin <chr>, dest <chr>, air_time <dbl>, distance <dbl>, hour <dbl>,\u001b[39m\n",
            "\u001b[90m#   minute <dbl>, time_hour <dttm>, rank <int>, and abbreviated variable names\u001b[39m\n",
            "\u001b[90m#   ¹​sched_dep_time, ²​dep_delay, ³​arr_time, ⁴​sched_arr_time, ⁵​arr_delay\u001b[39m\n"
          ]
        }
      ],
      "source": [
        "# find the second-most delayed flight of the year\n",
        "flights%>%\n",
        "  group_by(year,month,day)%>%\n",
        "  mutate(rank=min_rank(-dep_delay))%>%\n",
        "  filter(rank==2)%>%\n",
        "  print"
      ]
    },
    {
      "cell_type": "markdown",
      "metadata": {
        "id": "mZW6x-dAstpR"
      },
      "source": [
        "## &#129300; Quiz\n",
        "\n",
        "Every day of the year I create a list of the ten most (departure-)delayed flights for that day. Which air carrier appears most frequently on that list?\n",
        "\n",
        "<ol style=\"list-style-type: upper-alpha;\">\n",
        "    <li>UA</li>\n",
        "    <li>9E</li>\n",
        "    <li>YV</li>\n",
        "    <li>US</li>\n",
        "    <li>B6</li>\n",
        "</ol>"
      ]
    },
    {
      "cell_type": "code",
      "execution_count": 20,
      "metadata": {
        "id": "o20-elz4stpS",
        "colab": {
          "base_uri": "https://localhost:8080/"
        },
        "outputId": "5f7b128a-c140-4d41-8e54-1361fe58889b"
      },
      "outputs": [
        {
          "output_type": "stream",
          "name": "stdout",
          "text": [
            "\u001b[90m# A tibble: 16 × 2\u001b[39m\n",
            "   carrier     n\n",
            "   \u001b[3m\u001b[90m<chr>\u001b[39m\u001b[23m   \u001b[3m\u001b[90m<int>\u001b[39m\u001b[23m\n",
            "\u001b[90m 1\u001b[39m OO          1\n",
            "\u001b[90m 2\u001b[39m AS          2\n",
            "\u001b[90m 3\u001b[39m HA          4\n",
            "\u001b[90m 4\u001b[39m YV         12\n",
            "\u001b[90m 5\u001b[39m F9         16\n",
            "\u001b[90m 6\u001b[39m FL         44\n",
            "\u001b[90m 7\u001b[39m US         68\n",
            "\u001b[90m 8\u001b[39m VX         86\n",
            "\u001b[90m 9\u001b[39m WN        139\n",
            "\u001b[90m10\u001b[39m MQ        238\n",
            "\u001b[90m11\u001b[39m AA        319\n",
            "\u001b[90m12\u001b[39m 9E        329\n",
            "\u001b[90m13\u001b[39m DL        423\n",
            "\u001b[90m14\u001b[39m B6        512\n",
            "\u001b[90m15\u001b[39m UA        539\n",
            "\u001b[90m16\u001b[39m EV        949\n"
          ]
        }
      ],
      "source": [
        "# most commonly delayed carrier\n",
        "flights%>%\n",
        "  group_by(year,month,day)%>%\n",
        "  top_n(10,dep_delay)%>%\n",
        "  ungroup%>%\n",
        "  count(carrier)%>%\n",
        "  arrange(n)%>%\n",
        "  print"
      ]
    },
    {
      "cell_type": "code",
      "source": [
        "flights%>%\n",
        "  group_by(year,month,day)%>%\n",
        "  top_n(10,dep_delay)%>%\n",
        "  ungroup%>%\n",
        "  count(carrier)%>% # count can only work in a tibble, which is why we need to do ungroup, in this case \n",
        "  arrange(desc(n))%>%\n",
        "  print"
      ],
      "metadata": {
        "colab": {
          "base_uri": "https://localhost:8080/"
        },
        "id": "Av5VsO8AyGxs",
        "outputId": "1cf97543-ff58-45fa-9e89-80e7b72ee7d3"
      },
      "execution_count": 30,
      "outputs": [
        {
          "output_type": "stream",
          "name": "stdout",
          "text": [
            "\u001b[90m# A tibble: 16 × 2\u001b[39m\n",
            "   carrier     n\n",
            "   \u001b[3m\u001b[90m<chr>\u001b[39m\u001b[23m   \u001b[3m\u001b[90m<int>\u001b[39m\u001b[23m\n",
            "\u001b[90m 1\u001b[39m EV        949\n",
            "\u001b[90m 2\u001b[39m UA        539\n",
            "\u001b[90m 3\u001b[39m B6        512\n",
            "\u001b[90m 4\u001b[39m DL        423\n",
            "\u001b[90m 5\u001b[39m 9E        329\n",
            "\u001b[90m 6\u001b[39m AA        319\n",
            "\u001b[90m 7\u001b[39m MQ        238\n",
            "\u001b[90m 8\u001b[39m WN        139\n",
            "\u001b[90m 9\u001b[39m VX         86\n",
            "\u001b[90m10\u001b[39m US         68\n",
            "\u001b[90m11\u001b[39m FL         44\n",
            "\u001b[90m12\u001b[39m F9         16\n",
            "\u001b[90m13\u001b[39m YV         12\n",
            "\u001b[90m14\u001b[39m HA          4\n",
            "\u001b[90m15\u001b[39m AS          2\n",
            "\u001b[90m16\u001b[39m OO          1\n"
          ]
        }
      ]
    },
    {
      "cell_type": "markdown",
      "metadata": {
        "id": "ES1iJb1wstpS"
      },
      "source": [
        "## Who is the greatest (baseball) batter of all time?\n",
        "The `Lahman` dataset contains information on baseball players."
      ]
    },
    {
      "cell_type": "code",
      "execution_count": 31,
      "metadata": {
        "id": "sN0iOfi5stpS",
        "outputId": "15def74a-3c42-4abf-ae05-ff6ad7889274",
        "colab": {
          "base_uri": "https://localhost:8080/",
          "height": 286
        }
      },
      "outputs": [
        {
          "output_type": "display_data",
          "data": {
            "text/html": [
              "<table class=\"dataframe\">\n",
              "<caption>A tibble: 6 × 22</caption>\n",
              "<thead>\n",
              "\t<tr><th scope=col>playerID</th><th scope=col>yearID</th><th scope=col>stint</th><th scope=col>teamID</th><th scope=col>lgID</th><th scope=col>G</th><th scope=col>AB</th><th scope=col>R</th><th scope=col>H</th><th scope=col>X2B</th><th scope=col>⋯</th><th scope=col>RBI</th><th scope=col>SB</th><th scope=col>CS</th><th scope=col>BB</th><th scope=col>SO</th><th scope=col>IBB</th><th scope=col>HBP</th><th scope=col>SH</th><th scope=col>SF</th><th scope=col>GIDP</th></tr>\n",
              "\t<tr><th scope=col>&lt;chr&gt;</th><th scope=col>&lt;int&gt;</th><th scope=col>&lt;int&gt;</th><th scope=col>&lt;fct&gt;</th><th scope=col>&lt;fct&gt;</th><th scope=col>&lt;int&gt;</th><th scope=col>&lt;int&gt;</th><th scope=col>&lt;int&gt;</th><th scope=col>&lt;int&gt;</th><th scope=col>&lt;int&gt;</th><th scope=col>⋯</th><th scope=col>&lt;int&gt;</th><th scope=col>&lt;int&gt;</th><th scope=col>&lt;int&gt;</th><th scope=col>&lt;int&gt;</th><th scope=col>&lt;int&gt;</th><th scope=col>&lt;int&gt;</th><th scope=col>&lt;int&gt;</th><th scope=col>&lt;int&gt;</th><th scope=col>&lt;int&gt;</th><th scope=col>&lt;int&gt;</th></tr>\n",
              "</thead>\n",
              "<tbody>\n",
              "\t<tr><td>abercda01</td><td>1871</td><td>1</td><td>TRO</td><td>NA</td><td> 1</td><td>  4</td><td> 0</td><td> 0</td><td> 0</td><td>⋯</td><td> 0</td><td>0</td><td>0</td><td>0</td><td>0</td><td>NA</td><td>NA</td><td>NA</td><td>NA</td><td>0</td></tr>\n",
              "\t<tr><td>addybo01 </td><td>1871</td><td>1</td><td>RC1</td><td>NA</td><td>25</td><td>118</td><td>30</td><td>32</td><td> 6</td><td>⋯</td><td>13</td><td>8</td><td>1</td><td>4</td><td>0</td><td>NA</td><td>NA</td><td>NA</td><td>NA</td><td>0</td></tr>\n",
              "\t<tr><td>allisar01</td><td>1871</td><td>1</td><td>CL1</td><td>NA</td><td>29</td><td>137</td><td>28</td><td>40</td><td> 4</td><td>⋯</td><td>19</td><td>3</td><td>1</td><td>2</td><td>5</td><td>NA</td><td>NA</td><td>NA</td><td>NA</td><td>1</td></tr>\n",
              "\t<tr><td>allisdo01</td><td>1871</td><td>1</td><td>WS3</td><td>NA</td><td>27</td><td>133</td><td>28</td><td>44</td><td>10</td><td>⋯</td><td>27</td><td>1</td><td>1</td><td>0</td><td>2</td><td>NA</td><td>NA</td><td>NA</td><td>NA</td><td>0</td></tr>\n",
              "\t<tr><td>ansonca01</td><td>1871</td><td>1</td><td>RC1</td><td>NA</td><td>25</td><td>120</td><td>29</td><td>39</td><td>11</td><td>⋯</td><td>16</td><td>6</td><td>2</td><td>2</td><td>1</td><td>NA</td><td>NA</td><td>NA</td><td>NA</td><td>0</td></tr>\n",
              "\t<tr><td>armstbo01</td><td>1871</td><td>1</td><td>FW1</td><td>NA</td><td>12</td><td> 49</td><td> 9</td><td>11</td><td> 2</td><td>⋯</td><td> 5</td><td>0</td><td>1</td><td>0</td><td>1</td><td>NA</td><td>NA</td><td>NA</td><td>NA</td><td>0</td></tr>\n",
              "</tbody>\n",
              "</table>\n"
            ],
            "text/markdown": "\nA tibble: 6 × 22\n\n| playerID &lt;chr&gt; | yearID &lt;int&gt; | stint &lt;int&gt; | teamID &lt;fct&gt; | lgID &lt;fct&gt; | G &lt;int&gt; | AB &lt;int&gt; | R &lt;int&gt; | H &lt;int&gt; | X2B &lt;int&gt; | ⋯ ⋯ | RBI &lt;int&gt; | SB &lt;int&gt; | CS &lt;int&gt; | BB &lt;int&gt; | SO &lt;int&gt; | IBB &lt;int&gt; | HBP &lt;int&gt; | SH &lt;int&gt; | SF &lt;int&gt; | GIDP &lt;int&gt; |\n|---|---|---|---|---|---|---|---|---|---|---|---|---|---|---|---|---|---|---|---|---|\n| abercda01 | 1871 | 1 | TRO | NA |  1 |   4 |  0 |  0 |  0 | ⋯ |  0 | 0 | 0 | 0 | 0 | NA | NA | NA | NA | 0 |\n| addybo01  | 1871 | 1 | RC1 | NA | 25 | 118 | 30 | 32 |  6 | ⋯ | 13 | 8 | 1 | 4 | 0 | NA | NA | NA | NA | 0 |\n| allisar01 | 1871 | 1 | CL1 | NA | 29 | 137 | 28 | 40 |  4 | ⋯ | 19 | 3 | 1 | 2 | 5 | NA | NA | NA | NA | 1 |\n| allisdo01 | 1871 | 1 | WS3 | NA | 27 | 133 | 28 | 44 | 10 | ⋯ | 27 | 1 | 1 | 0 | 2 | NA | NA | NA | NA | 0 |\n| ansonca01 | 1871 | 1 | RC1 | NA | 25 | 120 | 29 | 39 | 11 | ⋯ | 16 | 6 | 2 | 2 | 1 | NA | NA | NA | NA | 0 |\n| armstbo01 | 1871 | 1 | FW1 | NA | 12 |  49 |  9 | 11 |  2 | ⋯ |  5 | 0 | 1 | 0 | 1 | NA | NA | NA | NA | 0 |\n\n",
            "text/latex": "A tibble: 6 × 22\n\\begin{tabular}{lllllllllllllllllllll}\n playerID & yearID & stint & teamID & lgID & G & AB & R & H & X2B & ⋯ & RBI & SB & CS & BB & SO & IBB & HBP & SH & SF & GIDP\\\\\n <chr> & <int> & <int> & <fct> & <fct> & <int> & <int> & <int> & <int> & <int> & ⋯ & <int> & <int> & <int> & <int> & <int> & <int> & <int> & <int> & <int> & <int>\\\\\n\\hline\n\t abercda01 & 1871 & 1 & TRO & NA &  1 &   4 &  0 &  0 &  0 & ⋯ &  0 & 0 & 0 & 0 & 0 & NA & NA & NA & NA & 0\\\\\n\t addybo01  & 1871 & 1 & RC1 & NA & 25 & 118 & 30 & 32 &  6 & ⋯ & 13 & 8 & 1 & 4 & 0 & NA & NA & NA & NA & 0\\\\\n\t allisar01 & 1871 & 1 & CL1 & NA & 29 & 137 & 28 & 40 &  4 & ⋯ & 19 & 3 & 1 & 2 & 5 & NA & NA & NA & NA & 1\\\\\n\t allisdo01 & 1871 & 1 & WS3 & NA & 27 & 133 & 28 & 44 & 10 & ⋯ & 27 & 1 & 1 & 0 & 2 & NA & NA & NA & NA & 0\\\\\n\t ansonca01 & 1871 & 1 & RC1 & NA & 25 & 120 & 29 & 39 & 11 & ⋯ & 16 & 6 & 2 & 2 & 1 & NA & NA & NA & NA & 0\\\\\n\t armstbo01 & 1871 & 1 & FW1 & NA & 12 &  49 &  9 & 11 &  2 & ⋯ &  5 & 0 & 1 & 0 & 1 & NA & NA & NA & NA & 0\\\\\n\\end{tabular}\n",
            "text/plain": [
              "  playerID  yearID stint teamID lgID G  AB  R  H  X2B ⋯ RBI SB CS BB SO IBB HBP\n",
              "1 abercda01 1871   1     TRO    NA    1   4  0  0  0  ⋯  0  0  0  0  0  NA  NA \n",
              "2 addybo01  1871   1     RC1    NA   25 118 30 32  6  ⋯ 13  8  1  4  0  NA  NA \n",
              "3 allisar01 1871   1     CL1    NA   29 137 28 40  4  ⋯ 19  3  1  2  5  NA  NA \n",
              "4 allisdo01 1871   1     WS3    NA   27 133 28 44 10  ⋯ 27  1  1  0  2  NA  NA \n",
              "5 ansonca01 1871   1     RC1    NA   25 120 29 39 11  ⋯ 16  6  2  2  1  NA  NA \n",
              "6 armstbo01 1871   1     FW1    NA   12  49  9 11  2  ⋯  5  0  1  0  1  NA  NA \n",
              "  SH SF GIDP\n",
              "1 NA NA 0   \n",
              "2 NA NA 0   \n",
              "3 NA NA 1   \n",
              "4 NA NA 0   \n",
              "5 NA NA 0   \n",
              "6 NA NA 0   "
            ]
          },
          "metadata": {}
        }
      ],
      "source": [
        "# install.packages(\"Lahman\")\n",
        "library(Lahman)\n",
        "as_tibble(Batting) %>% head\n",
        "# what do all these columns mean?"
      ]
    },
    {
      "cell_type": "code",
      "execution_count": 37,
      "metadata": {
        "id": "jwUvzWZvstpW",
        "colab": {
          "base_uri": "https://localhost:8080/",
          "height": 1000
        },
        "outputId": "9a90783d-ea55-4790-c603-375c0714d118"
      },
      "outputs": [
        {
          "output_type": "display_data",
          "data": {
            "text/html": [
              "<table class=\"dataframe\">\n",
              "<caption>A tibble: 20166 × 2</caption>\n",
              "<thead>\n",
              "\t<tr><th scope=col>playerID</th><th scope=col>avg_bat</th></tr>\n",
              "\t<tr><th scope=col>&lt;chr&gt;</th><th scope=col>&lt;dbl&gt;</th></tr>\n",
              "</thead>\n",
              "<tbody>\n",
              "\t<tr><td>aardsda01</td><td>0.00000000</td></tr>\n",
              "\t<tr><td>aaronha01</td><td>0.30499838</td></tr>\n",
              "\t<tr><td>aaronto01</td><td>0.22881356</td></tr>\n",
              "\t<tr><td>aasedo01 </td><td>0.00000000</td></tr>\n",
              "\t<tr><td>abadan01 </td><td>0.09523810</td></tr>\n",
              "\t<tr><td>abadfe01 </td><td>0.11111111</td></tr>\n",
              "\t<tr><td>abadijo01</td><td>0.22448980</td></tr>\n",
              "\t<tr><td>abbated01</td><td>0.25361367</td></tr>\n",
              "\t<tr><td>abbeybe01</td><td>0.16888889</td></tr>\n",
              "\t<tr><td>abbeych01</td><td>0.28075171</td></tr>\n",
              "\t<tr><td>abbotco01</td><td>0.33333333</td></tr>\n",
              "\t<tr><td>abbotda01</td><td>0.14285714</td></tr>\n",
              "\t<tr><td>abbotfr01</td><td>0.20857700</td></tr>\n",
              "\t<tr><td>abbotgl01</td><td>       NaN</td></tr>\n",
              "\t<tr><td>abbotje01</td><td>0.26342282</td></tr>\n",
              "\t<tr><td>abbotji01</td><td>0.09523810</td></tr>\n",
              "\t<tr><td>abbotku01</td><td>0.25587084</td></tr>\n",
              "\t<tr><td>abbotky01</td><td>0.09677419</td></tr>\n",
              "\t<tr><td>abbotod01</td><td>0.18571429</td></tr>\n",
              "\t<tr><td>abbotpa01</td><td>0.25000000</td></tr>\n",
              "\t<tr><td>aberal01 </td><td>0.14000000</td></tr>\n",
              "\t<tr><td>abercda01</td><td>0.00000000</td></tr>\n",
              "\t<tr><td>abercre01</td><td>0.22279793</td></tr>\n",
              "\t<tr><td>abernbi01</td><td>0.00000000</td></tr>\n",
              "\t<tr><td>abernbr01</td><td>0.24423963</td></tr>\n",
              "\t<tr><td>abernte01</td><td>0.20000000</td></tr>\n",
              "\t<tr><td>abernte02</td><td>0.13812155</td></tr>\n",
              "\t<tr><td>abernwo01</td><td>0.00000000</td></tr>\n",
              "\t<tr><td>aberscl01</td><td>0.25139665</td></tr>\n",
              "\t<tr><td>ablesha01</td><td>0.00000000</td></tr>\n",
              "\t<tr><td>⋮</td><td>⋮</td></tr>\n",
              "\t<tr><td>zimmero01</td><td>0.27551020</td></tr>\n",
              "\t<tr><td>zimmery01</td><td>0.27742711</td></tr>\n",
              "\t<tr><td>zinkch01 </td><td>       NaN</td></tr>\n",
              "\t<tr><td>zinkwa01 </td><td>0.00000000</td></tr>\n",
              "\t<tr><td>zinnfr01 </td><td>0.00000000</td></tr>\n",
              "\t<tr><td>zinngu01 </td><td>0.26926564</td></tr>\n",
              "\t<tr><td>zinnji01 </td><td>0.28333333</td></tr>\n",
              "\t<tr><td>zinsebi01</td><td>       NaN</td></tr>\n",
              "\t<tr><td>zinteal01</td><td>0.16666667</td></tr>\n",
              "\t<tr><td>zipfebu01</td><td>0.22033898</td></tr>\n",
              "\t<tr><td>ziskri01 </td><td>0.28713064</td></tr>\n",
              "\t<tr><td>zitoba01 </td><td>0.10174419</td></tr>\n",
              "\t<tr><td>zitzmbi01</td><td>0.26693227</td></tr>\n",
              "\t<tr><td>zmiched01</td><td>0.05882353</td></tr>\n",
              "\t<tr><td>zobribe01</td><td>0.26632653</td></tr>\n",
              "\t<tr><td>zoccope01</td><td>0.10810811</td></tr>\n",
              "\t<tr><td>zoldasa01</td><td>0.17482517</td></tr>\n",
              "\t<tr><td>zoskyed01</td><td>0.16000000</td></tr>\n",
              "\t<tr><td>zuberbi01</td><td>0.13537118</td></tr>\n",
              "\t<tr><td>zuberjo01</td><td>0.25000000</td></tr>\n",
              "\t<tr><td>zuberty01</td><td>0.00000000</td></tr>\n",
              "\t<tr><td>zuletju01</td><td>0.24712644</td></tr>\n",
              "\t<tr><td>zumayjo01</td><td>       NaN</td></tr>\n",
              "\t<tr><td>zuninmi01</td><td>0.20242282</td></tr>\n",
              "\t<tr><td>zupcibo01</td><td>0.25031447</td></tr>\n",
              "\t<tr><td>zupofr01 </td><td>0.16666667</td></tr>\n",
              "\t<tr><td>zuvelpa01</td><td>0.22199593</td></tr>\n",
              "\t<tr><td>zuverge01</td><td>0.14788732</td></tr>\n",
              "\t<tr><td>zwilldu01</td><td>0.28437500</td></tr>\n",
              "\t<tr><td>zychto01 </td><td>       NaN</td></tr>\n",
              "</tbody>\n",
              "</table>\n"
            ],
            "text/markdown": "\nA tibble: 20166 × 2\n\n| playerID &lt;chr&gt; | avg_bat &lt;dbl&gt; |\n|---|---|\n| aardsda01 | 0.00000000 |\n| aaronha01 | 0.30499838 |\n| aaronto01 | 0.22881356 |\n| aasedo01  | 0.00000000 |\n| abadan01  | 0.09523810 |\n| abadfe01  | 0.11111111 |\n| abadijo01 | 0.22448980 |\n| abbated01 | 0.25361367 |\n| abbeybe01 | 0.16888889 |\n| abbeych01 | 0.28075171 |\n| abbotco01 | 0.33333333 |\n| abbotda01 | 0.14285714 |\n| abbotfr01 | 0.20857700 |\n| abbotgl01 |        NaN |\n| abbotje01 | 0.26342282 |\n| abbotji01 | 0.09523810 |\n| abbotku01 | 0.25587084 |\n| abbotky01 | 0.09677419 |\n| abbotod01 | 0.18571429 |\n| abbotpa01 | 0.25000000 |\n| aberal01  | 0.14000000 |\n| abercda01 | 0.00000000 |\n| abercre01 | 0.22279793 |\n| abernbi01 | 0.00000000 |\n| abernbr01 | 0.24423963 |\n| abernte01 | 0.20000000 |\n| abernte02 | 0.13812155 |\n| abernwo01 | 0.00000000 |\n| aberscl01 | 0.25139665 |\n| ablesha01 | 0.00000000 |\n| ⋮ | ⋮ |\n| zimmero01 | 0.27551020 |\n| zimmery01 | 0.27742711 |\n| zinkch01  |        NaN |\n| zinkwa01  | 0.00000000 |\n| zinnfr01  | 0.00000000 |\n| zinngu01  | 0.26926564 |\n| zinnji01  | 0.28333333 |\n| zinsebi01 |        NaN |\n| zinteal01 | 0.16666667 |\n| zipfebu01 | 0.22033898 |\n| ziskri01  | 0.28713064 |\n| zitoba01  | 0.10174419 |\n| zitzmbi01 | 0.26693227 |\n| zmiched01 | 0.05882353 |\n| zobribe01 | 0.26632653 |\n| zoccope01 | 0.10810811 |\n| zoldasa01 | 0.17482517 |\n| zoskyed01 | 0.16000000 |\n| zuberbi01 | 0.13537118 |\n| zuberjo01 | 0.25000000 |\n| zuberty01 | 0.00000000 |\n| zuletju01 | 0.24712644 |\n| zumayjo01 |        NaN |\n| zuninmi01 | 0.20242282 |\n| zupcibo01 | 0.25031447 |\n| zupofr01  | 0.16666667 |\n| zuvelpa01 | 0.22199593 |\n| zuverge01 | 0.14788732 |\n| zwilldu01 | 0.28437500 |\n| zychto01  |        NaN |\n\n",
            "text/latex": "A tibble: 20166 × 2\n\\begin{tabular}{ll}\n playerID & avg\\_bat\\\\\n <chr> & <dbl>\\\\\n\\hline\n\t aardsda01 & 0.00000000\\\\\n\t aaronha01 & 0.30499838\\\\\n\t aaronto01 & 0.22881356\\\\\n\t aasedo01  & 0.00000000\\\\\n\t abadan01  & 0.09523810\\\\\n\t abadfe01  & 0.11111111\\\\\n\t abadijo01 & 0.22448980\\\\\n\t abbated01 & 0.25361367\\\\\n\t abbeybe01 & 0.16888889\\\\\n\t abbeych01 & 0.28075171\\\\\n\t abbotco01 & 0.33333333\\\\\n\t abbotda01 & 0.14285714\\\\\n\t abbotfr01 & 0.20857700\\\\\n\t abbotgl01 &        NaN\\\\\n\t abbotje01 & 0.26342282\\\\\n\t abbotji01 & 0.09523810\\\\\n\t abbotku01 & 0.25587084\\\\\n\t abbotky01 & 0.09677419\\\\\n\t abbotod01 & 0.18571429\\\\\n\t abbotpa01 & 0.25000000\\\\\n\t aberal01  & 0.14000000\\\\\n\t abercda01 & 0.00000000\\\\\n\t abercre01 & 0.22279793\\\\\n\t abernbi01 & 0.00000000\\\\\n\t abernbr01 & 0.24423963\\\\\n\t abernte01 & 0.20000000\\\\\n\t abernte02 & 0.13812155\\\\\n\t abernwo01 & 0.00000000\\\\\n\t aberscl01 & 0.25139665\\\\\n\t ablesha01 & 0.00000000\\\\\n\t ⋮ & ⋮\\\\\n\t zimmero01 & 0.27551020\\\\\n\t zimmery01 & 0.27742711\\\\\n\t zinkch01  &        NaN\\\\\n\t zinkwa01  & 0.00000000\\\\\n\t zinnfr01  & 0.00000000\\\\\n\t zinngu01  & 0.26926564\\\\\n\t zinnji01  & 0.28333333\\\\\n\t zinsebi01 &        NaN\\\\\n\t zinteal01 & 0.16666667\\\\\n\t zipfebu01 & 0.22033898\\\\\n\t ziskri01  & 0.28713064\\\\\n\t zitoba01  & 0.10174419\\\\\n\t zitzmbi01 & 0.26693227\\\\\n\t zmiched01 & 0.05882353\\\\\n\t zobribe01 & 0.26632653\\\\\n\t zoccope01 & 0.10810811\\\\\n\t zoldasa01 & 0.17482517\\\\\n\t zoskyed01 & 0.16000000\\\\\n\t zuberbi01 & 0.13537118\\\\\n\t zuberjo01 & 0.25000000\\\\\n\t zuberty01 & 0.00000000\\\\\n\t zuletju01 & 0.24712644\\\\\n\t zumayjo01 &        NaN\\\\\n\t zuninmi01 & 0.20242282\\\\\n\t zupcibo01 & 0.25031447\\\\\n\t zupofr01  & 0.16666667\\\\\n\t zuvelpa01 & 0.22199593\\\\\n\t zuverge01 & 0.14788732\\\\\n\t zwilldu01 & 0.28437500\\\\\n\t zychto01  &        NaN\\\\\n\\end{tabular}\n",
            "text/plain": [
              "      playerID  avg_bat   \n",
              "1     aardsda01 0.00000000\n",
              "2     aaronha01 0.30499838\n",
              "3     aaronto01 0.22881356\n",
              "4     aasedo01  0.00000000\n",
              "5     abadan01  0.09523810\n",
              "6     abadfe01  0.11111111\n",
              "7     abadijo01 0.22448980\n",
              "8     abbated01 0.25361367\n",
              "9     abbeybe01 0.16888889\n",
              "10    abbeych01 0.28075171\n",
              "11    abbotco01 0.33333333\n",
              "12    abbotda01 0.14285714\n",
              "13    abbotfr01 0.20857700\n",
              "14    abbotgl01        NaN\n",
              "15    abbotje01 0.26342282\n",
              "16    abbotji01 0.09523810\n",
              "17    abbotku01 0.25587084\n",
              "18    abbotky01 0.09677419\n",
              "19    abbotod01 0.18571429\n",
              "20    abbotpa01 0.25000000\n",
              "21    aberal01  0.14000000\n",
              "22    abercda01 0.00000000\n",
              "23    abercre01 0.22279793\n",
              "24    abernbi01 0.00000000\n",
              "25    abernbr01 0.24423963\n",
              "26    abernte01 0.20000000\n",
              "27    abernte02 0.13812155\n",
              "28    abernwo01 0.00000000\n",
              "29    aberscl01 0.25139665\n",
              "30    ablesha01 0.00000000\n",
              "⋮     ⋮         ⋮         \n",
              "20137 zimmero01 0.27551020\n",
              "20138 zimmery01 0.27742711\n",
              "20139 zinkch01         NaN\n",
              "20140 zinkwa01  0.00000000\n",
              "20141 zinnfr01  0.00000000\n",
              "20142 zinngu01  0.26926564\n",
              "20143 zinnji01  0.28333333\n",
              "20144 zinsebi01        NaN\n",
              "20145 zinteal01 0.16666667\n",
              "20146 zipfebu01 0.22033898\n",
              "20147 ziskri01  0.28713064\n",
              "20148 zitoba01  0.10174419\n",
              "20149 zitzmbi01 0.26693227\n",
              "20150 zmiched01 0.05882353\n",
              "20151 zobribe01 0.26632653\n",
              "20152 zoccope01 0.10810811\n",
              "20153 zoldasa01 0.17482517\n",
              "20154 zoskyed01 0.16000000\n",
              "20155 zuberbi01 0.13537118\n",
              "20156 zuberjo01 0.25000000\n",
              "20157 zuberty01 0.00000000\n",
              "20158 zuletju01 0.24712644\n",
              "20159 zumayjo01        NaN\n",
              "20160 zuninmi01 0.20242282\n",
              "20161 zupcibo01 0.25031447\n",
              "20162 zupofr01  0.16666667\n",
              "20163 zuvelpa01 0.22199593\n",
              "20164 zuverge01 0.14788732\n",
              "20165 zwilldu01 0.28437500\n",
              "20166 zychto01         NaN"
            ]
          },
          "metadata": {}
        },
        {
          "output_type": "display_data",
          "data": {
            "text/html": [
              "<pre class=language-r><code>function (x, ...) \n",
              "UseMethod(\"print\")</code></pre>"
            ],
            "text/markdown": "```r\nfunction (x, ...) \nUseMethod(\"print\")\n```",
            "text/latex": "\\begin{minted}{r}\nfunction (x, ...) \nUseMethod(\"print\")\n\\end{minted}",
            "text/plain": [
              "function (x, ...) \n",
              "UseMethod(\"print\")\n",
              "<bytecode: 0x5637fe5a2270>\n",
              "<environment: namespace:base>"
            ]
          },
          "metadata": {}
        }
      ],
      "source": [
        "# calculate the batting average for each player in the data set\n",
        "Batting%>%\n",
        "  group_by(playerID)%>%\n",
        "  summarize(avg_bat=sum(H)/sum(AB))\n",
        "  print"
      ]
    },
    {
      "cell_type": "code",
      "source": [
        "playerInfo('abramge01') "
      ],
      "metadata": {
        "colab": {
          "base_uri": "https://localhost:8080/",
          "height": 129
        },
        "id": "Xg9KqX9c0xQp",
        "outputId": "94781b88-d6e3-4cf1-d66f-7aa3dc80b19d"
      },
      "execution_count": 39,
      "outputs": [
        {
          "output_type": "display_data",
          "data": {
            "text/html": [
              "<table class=\"dataframe\">\n",
              "<caption>A data.frame: 1 × 3</caption>\n",
              "<thead>\n",
              "\t<tr><th></th><th scope=col>playerID</th><th scope=col>nameFirst</th><th scope=col>nameLast</th></tr>\n",
              "\t<tr><th></th><th scope=col>&lt;chr&gt;</th><th scope=col>&lt;chr&gt;</th><th scope=col>&lt;chr&gt;</th></tr>\n",
              "</thead>\n",
              "<tbody>\n",
              "\t<tr><th scope=row>33</th><td>abramge01</td><td>George</td><td>Abrams</td></tr>\n",
              "</tbody>\n",
              "</table>\n"
            ],
            "text/markdown": "\nA data.frame: 1 × 3\n\n| <!--/--> | playerID &lt;chr&gt; | nameFirst &lt;chr&gt; | nameLast &lt;chr&gt; |\n|---|---|---|---|\n| 33 | abramge01 | George | Abrams |\n\n",
            "text/latex": "A data.frame: 1 × 3\n\\begin{tabular}{r|lll}\n  & playerID & nameFirst & nameLast\\\\\n  & <chr> & <chr> & <chr>\\\\\n\\hline\n\t33 & abramge01 & George & Abrams\\\\\n\\end{tabular}\n",
            "text/plain": [
              "   playerID  nameFirst nameLast\n",
              "33 abramge01 George    Abrams  "
            ]
          },
          "metadata": {}
        }
      ]
    },
    {
      "cell_type": "markdown",
      "source": [
        "This is weird b/c he's not a batter. so maybe he only bat once & had a perf score. need to take counts into consideration. Amazon example: 5 star but 1 review vs 4.5 star but 1000 review. "
      ],
      "metadata": {
        "id": "SXHkQsZd075w"
      }
    },
    {
      "cell_type": "markdown",
      "metadata": {
        "id": "WBoNVEdsstpX"
      },
      "source": [
        "What has happened? Let's look at the first player in the sorted table:"
      ]
    },
    {
      "cell_type": "code",
      "execution_count": 38,
      "metadata": {
        "id": "mj0C0Z7ZstpX",
        "outputId": "7120df09-491d-411e-e3c2-9fdf9ace5e1b",
        "colab": {
          "base_uri": "https://localhost:8080/",
          "height": 129
        }
      },
      "outputs": [
        {
          "output_type": "display_data",
          "data": {
            "text/html": [
              "<table class=\"dataframe\">\n",
              "<caption>A data.frame: 1 × 22</caption>\n",
              "<thead>\n",
              "\t<tr><th scope=col>playerID</th><th scope=col>yearID</th><th scope=col>stint</th><th scope=col>teamID</th><th scope=col>lgID</th><th scope=col>G</th><th scope=col>AB</th><th scope=col>R</th><th scope=col>H</th><th scope=col>X2B</th><th scope=col>⋯</th><th scope=col>RBI</th><th scope=col>SB</th><th scope=col>CS</th><th scope=col>BB</th><th scope=col>SO</th><th scope=col>IBB</th><th scope=col>HBP</th><th scope=col>SH</th><th scope=col>SF</th><th scope=col>GIDP</th></tr>\n",
              "\t<tr><th scope=col>&lt;chr&gt;</th><th scope=col>&lt;int&gt;</th><th scope=col>&lt;int&gt;</th><th scope=col>&lt;fct&gt;</th><th scope=col>&lt;fct&gt;</th><th scope=col>&lt;int&gt;</th><th scope=col>&lt;int&gt;</th><th scope=col>&lt;int&gt;</th><th scope=col>&lt;int&gt;</th><th scope=col>&lt;int&gt;</th><th scope=col>⋯</th><th scope=col>&lt;int&gt;</th><th scope=col>&lt;int&gt;</th><th scope=col>&lt;int&gt;</th><th scope=col>&lt;int&gt;</th><th scope=col>&lt;int&gt;</th><th scope=col>&lt;int&gt;</th><th scope=col>&lt;int&gt;</th><th scope=col>&lt;int&gt;</th><th scope=col>&lt;int&gt;</th><th scope=col>&lt;int&gt;</th></tr>\n",
              "</thead>\n",
              "<tbody>\n",
              "\t<tr><td>abramge01</td><td>1923</td><td>1</td><td>CIN</td><td>NL</td><td>3</td><td>1</td><td>0</td><td>1</td><td>0</td><td>⋯</td><td>0</td><td>0</td><td>0</td><td>0</td><td>0</td><td>NA</td><td>0</td><td>0</td><td>NA</td><td>NA</td></tr>\n",
              "</tbody>\n",
              "</table>\n"
            ],
            "text/markdown": "\nA data.frame: 1 × 22\n\n| playerID &lt;chr&gt; | yearID &lt;int&gt; | stint &lt;int&gt; | teamID &lt;fct&gt; | lgID &lt;fct&gt; | G &lt;int&gt; | AB &lt;int&gt; | R &lt;int&gt; | H &lt;int&gt; | X2B &lt;int&gt; | ⋯ ⋯ | RBI &lt;int&gt; | SB &lt;int&gt; | CS &lt;int&gt; | BB &lt;int&gt; | SO &lt;int&gt; | IBB &lt;int&gt; | HBP &lt;int&gt; | SH &lt;int&gt; | SF &lt;int&gt; | GIDP &lt;int&gt; |\n|---|---|---|---|---|---|---|---|---|---|---|---|---|---|---|---|---|---|---|---|---|\n| abramge01 | 1923 | 1 | CIN | NL | 3 | 1 | 0 | 1 | 0 | ⋯ | 0 | 0 | 0 | 0 | 0 | NA | 0 | 0 | NA | NA |\n\n",
            "text/latex": "A data.frame: 1 × 22\n\\begin{tabular}{lllllllllllllllllllll}\n playerID & yearID & stint & teamID & lgID & G & AB & R & H & X2B & ⋯ & RBI & SB & CS & BB & SO & IBB & HBP & SH & SF & GIDP\\\\\n <chr> & <int> & <int> & <fct> & <fct> & <int> & <int> & <int> & <int> & <int> & ⋯ & <int> & <int> & <int> & <int> & <int> & <int> & <int> & <int> & <int> & <int>\\\\\n\\hline\n\t abramge01 & 1923 & 1 & CIN & NL & 3 & 1 & 0 & 1 & 0 & ⋯ & 0 & 0 & 0 & 0 & 0 & NA & 0 & 0 & NA & NA\\\\\n\\end{tabular}\n",
            "text/plain": [
              "  playerID  yearID stint teamID lgID G AB R H X2B ⋯ RBI SB CS BB SO IBB HBP SH\n",
              "1 abramge01 1923   1     CIN    NL   3 1  0 1 0   ⋯ 0   0  0  0  0  NA  0   0 \n",
              "  SF GIDP\n",
              "1 NA NA  "
            ]
          },
          "metadata": {}
        }
      ],
      "source": [
        "filter(Batting, playerID == 'abramge01') # there's only one record here"
      ]
    },
    {
      "cell_type": "markdown",
      "metadata": {
        "id": "R7BWDEwpstpX"
      },
      "source": [
        "### Always include counts\n",
        "It is a good idea to include counts of each group when you do a summary. Some groups may have very low numbers of observations, resulting in high variance for the summary statistics. \n",
        "\n",
        "What happens if we restrict our batting average calculation to players that had at least 100 at-bats?"
      ]
    },
    {
      "cell_type": "markdown",
      "metadata": {
        "id": "ory6HrHcstpX"
      },
      "source": [
        "## Quiz\n",
        "Among players who had at least 100 at bats, who had the highest career batting average?\n",
        "<ol style=\"list-style-type: upper-alpha;\">\n",
        "    <li>Ty Cobb</li>\n",
        "    <li>Babe Ruth</li>\n",
        "    <li>Prof. Terhorst</li>\n",
        "    <li>Ted Williams</li>\n",
        "    <li>Hank Williams</li>\n",
        "</ol>"
      ]
    },
    {
      "cell_type": "code",
      "source": [
        "# highest batting average among players that had 100 or more at bats\n",
        "Batting%>%\n",
        "  group_by(playerID)%>%\n",
        "  summarize(bat_avg=sum(H)/sum(AB),n=sum(AB))%>%\n",
        "  filter(n>=100)%>%\n",
        "  print"
      ],
      "metadata": {
        "colab": {
          "base_uri": "https://localhost:8080/"
        },
        "id": "cVr1DoWx100l",
        "outputId": "df25823e-feb7-4e43-f490-dd14174c0bd7"
      },
      "execution_count": 46,
      "outputs": [
        {
          "output_type": "stream",
          "name": "stdout",
          "text": [
            "\u001b[90m# A tibble: 9,199 × 3\u001b[39m\n",
            "   playerID  bat_avg     n\n",
            "   \u001b[3m\u001b[90m<chr>\u001b[39m\u001b[23m       \u001b[3m\u001b[90m<dbl>\u001b[39m\u001b[23m \u001b[3m\u001b[90m<int>\u001b[39m\u001b[23m\n",
            "\u001b[90m 1\u001b[39m aaronha01   0.305 \u001b[4m1\u001b[24m\u001b[4m2\u001b[24m364\n",
            "\u001b[90m 2\u001b[39m aaronto01   0.229   944\n",
            "\u001b[90m 3\u001b[39m abbated01   0.254  \u001b[4m3\u001b[24m044\n",
            "\u001b[90m 4\u001b[39m abbeybe01   0.169   225\n",
            "\u001b[90m 5\u001b[39m abbeych01   0.281  \u001b[4m1\u001b[24m756\n",
            "\u001b[90m 6\u001b[39m abbotfr01   0.209   513\n",
            "\u001b[90m 7\u001b[39m abbotje01   0.263   596\n",
            "\u001b[90m 8\u001b[39m abbotku01   0.256  \u001b[4m2\u001b[24m044\n",
            "\u001b[90m 9\u001b[39m aberal01    0.14    100\n",
            "\u001b[90m10\u001b[39m abercre01   0.223   386\n",
            "\u001b[90m# … with 9,189 more rows\u001b[39m\n"
          ]
        }
      ]
    },
    {
      "cell_type": "code",
      "source": [
        "playerInfo('aaronha01') "
      ],
      "metadata": {
        "colab": {
          "base_uri": "https://localhost:8080/",
          "height": 129
        },
        "id": "JUHRNJIB2FVe",
        "outputId": "68ed72c0-8ab1-40e4-e1e2-50cbc8bd481f"
      },
      "execution_count": 48,
      "outputs": [
        {
          "output_type": "display_data",
          "data": {
            "text/html": [
              "<table class=\"dataframe\">\n",
              "<caption>A data.frame: 1 × 3</caption>\n",
              "<thead>\n",
              "\t<tr><th></th><th scope=col>playerID</th><th scope=col>nameFirst</th><th scope=col>nameLast</th></tr>\n",
              "\t<tr><th></th><th scope=col>&lt;chr&gt;</th><th scope=col>&lt;chr&gt;</th><th scope=col>&lt;chr&gt;</th></tr>\n",
              "</thead>\n",
              "<tbody>\n",
              "\t<tr><th scope=row>2</th><td>aaronha01</td><td>Hank</td><td>Aaron</td></tr>\n",
              "</tbody>\n",
              "</table>\n"
            ],
            "text/markdown": "\nA data.frame: 1 × 3\n\n| <!--/--> | playerID &lt;chr&gt; | nameFirst &lt;chr&gt; | nameLast &lt;chr&gt; |\n|---|---|---|---|\n| 2 | aaronha01 | Hank | Aaron |\n\n",
            "text/latex": "A data.frame: 1 × 3\n\\begin{tabular}{r|lll}\n  & playerID & nameFirst & nameLast\\\\\n  & <chr> & <chr> & <chr>\\\\\n\\hline\n\t2 & aaronha01 & Hank & Aaron\\\\\n\\end{tabular}\n",
            "text/plain": [
              "  playerID  nameFirst nameLast\n",
              "2 aaronha01 Hank      Aaron   "
            ]
          },
          "metadata": {}
        }
      ]
    },
    {
      "cell_type": "code",
      "source": [
        "# try\n",
        "new_df<-filter(Batting, AB>=100)\n",
        "new_df%>%\n",
        "  group_by(playerID)%>%\n",
        "  summarize(bat_avg=sum(H)/sum(AB))%>%\n",
        "  print"
      ],
      "metadata": {
        "colab": {
          "base_uri": "https://localhost:8080/"
        },
        "id": "p9u_9uiQ2ZKW",
        "outputId": "7c79f084-1269-44f6-d629-07039655360a"
      },
      "execution_count": 51,
      "outputs": [
        {
          "output_type": "stream",
          "name": "stdout",
          "text": [
            "\u001b[90m# A tibble: 7,158 × 2\u001b[39m\n",
            "   playerID  bat_avg\n",
            "   \u001b[3m\u001b[90m<chr>\u001b[39m\u001b[23m       \u001b[3m\u001b[90m<dbl>\u001b[39m\u001b[23m\n",
            "\u001b[90m 1\u001b[39m aaronha01   0.305\n",
            "\u001b[90m 2\u001b[39m aaronto01   0.230\n",
            "\u001b[90m 3\u001b[39m abbated01   0.255\n",
            "\u001b[90m 4\u001b[39m abbeych01   0.281\n",
            "\u001b[90m 5\u001b[39m abbotfr01   0.209\n",
            "\u001b[90m 6\u001b[39m abbotje01   0.277\n",
            "\u001b[90m 7\u001b[39m abbotku01   0.256\n",
            "\u001b[90m 8\u001b[39m abercre01   0.212\n",
            "\u001b[90m 9\u001b[39m abernbr01   0.253\n",
            "\u001b[90m10\u001b[39m aberscl01   0.279\n",
            "\u001b[90m# … with 7,148 more rows\u001b[39m\n"
          ]
        }
      ]
    },
    {
      "cell_type": "markdown",
      "metadata": {
        "id": "_TgvDzL4stpY"
      },
      "source": [
        "## Quiz\n",
        "Among players who had at least 100 at bats in a given season, what was the highest batting average _in that season_?\n",
        "<ol style=\"list-style-type: upper-alpha;\">\n",
        "    <li>Ted Williams</li>\n",
        "    <li>Steven Colbert</li>\n",
        "    <li>Chonky Squirrel</li>\n",
        "    <li>Levi Meyerle</li>\n",
        "    <li>Tom Riddle</li>\n",
        "</ol>"
      ]
    },
    {
      "cell_type": "code",
      "source": [
        "glimpse(Batting) # use yearID to find season "
      ],
      "metadata": {
        "colab": {
          "base_uri": "https://localhost:8080/"
        },
        "id": "_rATsyPi2s_Y",
        "outputId": "5161daff-e84b-4f35-e131-e6c9f17dcd22"
      },
      "execution_count": 54,
      "outputs": [
        {
          "output_type": "stream",
          "name": "stdout",
          "text": [
            "Rows: 110,495\n",
            "Columns: 22\n",
            "$ playerID \u001b[3m\u001b[90m<chr>\u001b[39m\u001b[23m \"abercda01\", \"addybo01\", \"allisar01\", \"allisdo01\", \"ansonca01…\n",
            "$ yearID   \u001b[3m\u001b[90m<int>\u001b[39m\u001b[23m 1871, 1871, 1871, 1871, 1871, 1871, 1871, 1871, 1871, 1871, 1…\n",
            "$ stint    \u001b[3m\u001b[90m<int>\u001b[39m\u001b[23m 1, 1, 1, 1, 1, 1, 1, 1, 1, 1, 1, 1, 1, 1, 1, 1, 1, 1, 1, 1, 1…\n",
            "$ teamID   \u001b[3m\u001b[90m<fct>\u001b[39m\u001b[23m TRO, RC1, CL1, WS3, RC1, FW1, RC1, BS1, FW1, BS1, CL1, CL1, W…\n",
            "$ lgID     \u001b[3m\u001b[90m<fct>\u001b[39m\u001b[23m NA, NA, NA, NA, NA, NA, NA, NA, NA, NA, NA, NA, NA, NA, NA, N…\n",
            "$ G        \u001b[3m\u001b[90m<int>\u001b[39m\u001b[23m 1, 25, 29, 27, 25, 12, 1, 31, 1, 18, 22, 1, 10, 3, 20, 29, 1,…\n",
            "$ AB       \u001b[3m\u001b[90m<int>\u001b[39m\u001b[23m 4, 118, 137, 133, 120, 49, 4, 157, 5, 86, 89, 3, 36, 15, 94, …\n",
            "$ R        \u001b[3m\u001b[90m<int>\u001b[39m\u001b[23m 0, 30, 28, 28, 29, 9, 0, 66, 1, 13, 18, 0, 6, 7, 24, 26, 0, 0…\n",
            "$ H        \u001b[3m\u001b[90m<int>\u001b[39m\u001b[23m 0, 32, 40, 44, 39, 11, 1, 63, 1, 13, 27, 0, 7, 6, 33, 32, 0, …\n",
            "$ X2B      \u001b[3m\u001b[90m<int>\u001b[39m\u001b[23m 0, 6, 4, 10, 11, 2, 0, 10, 1, 2, 1, 0, 0, 0, 9, 3, 0, 0, 1, 0…\n",
            "$ X3B      \u001b[3m\u001b[90m<int>\u001b[39m\u001b[23m 0, 0, 5, 2, 3, 1, 0, 9, 0, 1, 10, 0, 0, 0, 1, 3, 0, 0, 1, 0, …\n",
            "$ HR       \u001b[3m\u001b[90m<int>\u001b[39m\u001b[23m 0, 0, 0, 2, 0, 0, 0, 0, 0, 0, 3, 0, 0, 0, 1, 0, 0, 0, 0, 0, 0…\n",
            "$ RBI      \u001b[3m\u001b[90m<int>\u001b[39m\u001b[23m 0, 13, 19, 27, 16, 5, 2, 34, 1, 11, 18, 0, 1, 5, 21, 23, 0, 0…\n",
            "$ SB       \u001b[3m\u001b[90m<int>\u001b[39m\u001b[23m 0, 8, 3, 1, 6, 0, 0, 11, 0, 1, 0, 0, 2, 2, 4, 4, 0, 0, 3, 0, …\n",
            "$ CS       \u001b[3m\u001b[90m<int>\u001b[39m\u001b[23m 0, 1, 1, 1, 2, 1, 0, 6, 0, 0, 1, 0, 0, 0, 0, 4, 0, 0, 1, 0, 0…\n",
            "$ BB       \u001b[3m\u001b[90m<int>\u001b[39m\u001b[23m 0, 4, 2, 0, 2, 0, 1, 13, 0, 0, 3, 1, 2, 0, 2, 9, 0, 0, 4, 1, …\n",
            "$ SO       \u001b[3m\u001b[90m<int>\u001b[39m\u001b[23m 0, 0, 5, 2, 1, 1, 0, 1, 0, 0, 4, 0, 0, 0, 2, 2, 3, 0, 2, 0, 2…\n",
            "$ IBB      \u001b[3m\u001b[90m<int>\u001b[39m\u001b[23m NA, NA, NA, NA, NA, NA, NA, NA, NA, NA, NA, NA, NA, NA, NA, N…\n",
            "$ HBP      \u001b[3m\u001b[90m<int>\u001b[39m\u001b[23m NA, NA, NA, NA, NA, NA, NA, NA, NA, NA, NA, NA, NA, NA, NA, N…\n",
            "$ SH       \u001b[3m\u001b[90m<int>\u001b[39m\u001b[23m NA, NA, NA, NA, NA, NA, NA, NA, NA, NA, NA, NA, NA, NA, NA, N…\n",
            "$ SF       \u001b[3m\u001b[90m<int>\u001b[39m\u001b[23m NA, NA, NA, NA, NA, NA, NA, NA, NA, NA, NA, NA, NA, NA, NA, N…\n",
            "$ GIDP     \u001b[3m\u001b[90m<int>\u001b[39m\u001b[23m 0, 0, 1, 0, 0, 0, 0, 1, 0, 0, 0, 0, 2, 0, 1, 2, 0, 0, 0, 0, 3…\n"
          ]
        }
      ]
    },
    {
      "cell_type": "code",
      "execution_count": 56,
      "metadata": {
        "id": "sA2ZY-cNstpY",
        "colab": {
          "base_uri": "https://localhost:8080/"
        },
        "outputId": "b9fa0224-aa56-4698-d9bc-1bd2000f7b03"
      },
      "outputs": [
        {
          "output_type": "stream",
          "name": "stderr",
          "text": [
            "\u001b[1m\u001b[22m`summarise()` has grouped output by 'playerID'. You can override using the\n",
            "`.groups` argument.\n"
          ]
        },
        {
          "output_type": "stream",
          "name": "stdout",
          "text": [
            "\u001b[90m# A tibble: 39,861 × 4\u001b[39m\n",
            "\u001b[90m# Groups:   playerID [7,207]\u001b[39m\n",
            "   playerID  yearID bat_avg     n\n",
            "   \u001b[3m\u001b[90m<chr>\u001b[39m\u001b[23m      \u001b[3m\u001b[90m<int>\u001b[39m\u001b[23m   \u001b[3m\u001b[90m<dbl>\u001b[39m\u001b[23m \u001b[3m\u001b[90m<int>\u001b[39m\u001b[23m\n",
            "\u001b[90m 1\u001b[39m aaronha01   \u001b[4m1\u001b[24m954   0.280   468\n",
            "\u001b[90m 2\u001b[39m aaronha01   \u001b[4m1\u001b[24m955   0.314   602\n",
            "\u001b[90m 3\u001b[39m aaronha01   \u001b[4m1\u001b[24m956   0.328   609\n",
            "\u001b[90m 4\u001b[39m aaronha01   \u001b[4m1\u001b[24m957   0.322   615\n",
            "\u001b[90m 5\u001b[39m aaronha01   \u001b[4m1\u001b[24m958   0.326   601\n",
            "\u001b[90m 6\u001b[39m aaronha01   \u001b[4m1\u001b[24m959   0.355   629\n",
            "\u001b[90m 7\u001b[39m aaronha01   \u001b[4m1\u001b[24m960   0.292   590\n",
            "\u001b[90m 8\u001b[39m aaronha01   \u001b[4m1\u001b[24m961   0.327   603\n",
            "\u001b[90m 9\u001b[39m aaronha01   \u001b[4m1\u001b[24m962   0.323   592\n",
            "\u001b[90m10\u001b[39m aaronha01   \u001b[4m1\u001b[24m963   0.319   631\n",
            "\u001b[90m# … with 39,851 more rows\u001b[39m\n"
          ]
        }
      ],
      "source": [
        "# highest seasonal batting average\n",
        "Batting%>%\n",
        "  group_by(playerID,yearID)%>%\n",
        "  summarize(bat_avg=sum(H)/sum(AB),n=sum(AB))%>%\n",
        "  filter(n>=100)%>%\n",
        "  print"
      ]
    },
    {
      "cell_type": "markdown",
      "metadata": {
        "id": "OLekpvHestpY"
      },
      "source": [
        "## The Steroid Era of Baseball\n",
        "\n",
        "> [Baseball] remained relatively the same until the 90s when steroid use became rampant. Famous sluggers like Barry Bonds, Mark McGwire, and Sammy Sosa rose to fame during this era. They were beloved at the time until we later found out that they were cheating.\n",
        "\n",
        "https://www.wagerbop.com/how-home-runs-and-batting-averages-have-changed-over-the-last-30-years/"
      ]
    },
    {
      "cell_type": "markdown",
      "metadata": {
        "id": "RIrb2xbWstpY"
      },
      "source": [
        "![barry bounds](https://cdn.ebaumsworld.com/mediaFiles/picture/2605038/87087115.jpg)"
      ]
    },
    {
      "cell_type": "markdown",
      "source": [
        "filter data before 90. find averages there.\n",
        "filter data after 90. find averages here.\n",
        "plot and see if there are changes. "
      ],
      "metadata": {
        "id": "4ZqZqDbZ3pG8"
      }
    },
    {
      "cell_type": "markdown",
      "metadata": {
        "id": "XRjHUkw9stpY"
      },
      "source": [
        "## Can we see the steroid era reflected in the data?"
      ]
    },
    {
      "cell_type": "code",
      "execution_count": 58,
      "metadata": {
        "id": "1mJbuQSXstpZ"
      },
      "outputs": [],
      "source": [
        "# summarize the dataset in order to investigate steroid era in batters"
      ]
    },
    {
      "cell_type": "markdown",
      "metadata": {
        "id": "teX-VtcPstpZ"
      },
      "source": [
        "## And now for something completely different\n",
        "![babies](https://images.ctfassets.net/cnu0m8re1exe/PYLeBWr2QDF5yjyZwB5Iq/7509e49d1d621860c1d4c484243c23db/shutterstock_189429203.jpg)"
      ]
    },
    {
      "cell_type": "markdown",
      "metadata": {
        "id": "Y5v-lIz0stpZ"
      },
      "source": [
        "The US Social Security Administration keeps records of every child born in the United States each year. Using this information, they have produced a [public database](https://www.ssa.gov/oact/babynames/) of name frequencies in the U.S."
      ]
    },
    {
      "cell_type": "code",
      "execution_count": 57,
      "metadata": {
        "id": "75izC40OstpZ",
        "outputId": "afca476f-ab23-4728-f586-6ead60c846cb",
        "colab": {
          "base_uri": "https://localhost:8080/",
          "height": 286
        }
      },
      "outputs": [
        {
          "output_type": "display_data",
          "data": {
            "text/html": [
              "<table class=\"dataframe\">\n",
              "<caption>A tibble: 6 × 5</caption>\n",
              "<thead>\n",
              "\t<tr><th scope=col>year</th><th scope=col>sex</th><th scope=col>name</th><th scope=col>n</th><th scope=col>prop</th></tr>\n",
              "\t<tr><th scope=col>&lt;dbl&gt;</th><th scope=col>&lt;chr&gt;</th><th scope=col>&lt;chr&gt;</th><th scope=col>&lt;int&gt;</th><th scope=col>&lt;dbl&gt;</th></tr>\n",
              "</thead>\n",
              "<tbody>\n",
              "\t<tr><td>1880</td><td>F</td><td>Mary     </td><td>7065</td><td>0.07238359</td></tr>\n",
              "\t<tr><td>1880</td><td>F</td><td>Anna     </td><td>2604</td><td>0.02667896</td></tr>\n",
              "\t<tr><td>1880</td><td>F</td><td>Emma     </td><td>2003</td><td>0.02052149</td></tr>\n",
              "\t<tr><td>1880</td><td>F</td><td>Elizabeth</td><td>1939</td><td>0.01986579</td></tr>\n",
              "\t<tr><td>1880</td><td>F</td><td>Minnie   </td><td>1746</td><td>0.01788843</td></tr>\n",
              "\t<tr><td>1880</td><td>F</td><td>Margaret </td><td>1578</td><td>0.01616720</td></tr>\n",
              "</tbody>\n",
              "</table>\n"
            ],
            "text/markdown": "\nA tibble: 6 × 5\n\n| year &lt;dbl&gt; | sex &lt;chr&gt; | name &lt;chr&gt; | n &lt;int&gt; | prop &lt;dbl&gt; |\n|---|---|---|---|---|\n| 1880 | F | Mary      | 7065 | 0.07238359 |\n| 1880 | F | Anna      | 2604 | 0.02667896 |\n| 1880 | F | Emma      | 2003 | 0.02052149 |\n| 1880 | F | Elizabeth | 1939 | 0.01986579 |\n| 1880 | F | Minnie    | 1746 | 0.01788843 |\n| 1880 | F | Margaret  | 1578 | 0.01616720 |\n\n",
            "text/latex": "A tibble: 6 × 5\n\\begin{tabular}{lllll}\n year & sex & name & n & prop\\\\\n <dbl> & <chr> & <chr> & <int> & <dbl>\\\\\n\\hline\n\t 1880 & F & Mary      & 7065 & 0.07238359\\\\\n\t 1880 & F & Anna      & 2604 & 0.02667896\\\\\n\t 1880 & F & Emma      & 2003 & 0.02052149\\\\\n\t 1880 & F & Elizabeth & 1939 & 0.01986579\\\\\n\t 1880 & F & Minnie    & 1746 & 0.01788843\\\\\n\t 1880 & F & Margaret  & 1578 & 0.01616720\\\\\n\\end{tabular}\n",
            "text/plain": [
              "  year sex name      n    prop      \n",
              "1 1880 F   Mary      7065 0.07238359\n",
              "2 1880 F   Anna      2604 0.02667896\n",
              "3 1880 F   Emma      2003 0.02052149\n",
              "4 1880 F   Elizabeth 1939 0.01986579\n",
              "5 1880 F   Minnie    1746 0.01788843\n",
              "6 1880 F   Margaret  1578 0.01616720"
            ]
          },
          "metadata": {}
        }
      ],
      "source": [
        "head(babynames)"
      ]
    },
    {
      "cell_type": "markdown",
      "metadata": {
        "id": "kq7XkaLBstpZ"
      },
      "source": [
        "## Names from other countries\n",
        "Obviously a large number of people in the class were not born in the US and do not have English names. A similar dataset on Chinese names is available from the `ChineseNames` package:"
      ]
    },
    {
      "cell_type": "code",
      "execution_count": 60,
      "metadata": {
        "id": "66DAyZXZstpa",
        "colab": {
          "base_uri": "https://localhost:8080/",
          "height": 474
        },
        "outputId": "b3034f5a-b126-4cbb-e78f-987785754336"
      },
      "outputs": [
        {
          "output_type": "stream",
          "name": "stderr",
          "text": [
            "Installing package into ‘/usr/local/lib/R/site-library’\n",
            "(as ‘lib’ is unspecified)\n",
            "\n",
            "also installing the dependencies ‘deldir’, ‘htmltools’, ‘interp’, ‘checkmate’, ‘htmlwidgets’, ‘markdown’, ‘png’, ‘jpeg’, ‘minqa’, ‘nloptr’, ‘RcppEigen’, ‘zoo’, ‘Formula’, ‘latticeExtra’, ‘gridExtra’, ‘htmlTable’, ‘viridis’, ‘SparseM’, ‘MatrixModels’, ‘openxlsx’, ‘Rcpp’, ‘gridtext’, ‘bayestestR’, ‘correlation’, ‘datawizard’, ‘insight’, ‘modelbased’, ‘parameters’, ‘mnormt’, ‘lme4’, ‘pbkrtest’, ‘reshape2’, ‘estimability’, ‘numDeriv’, ‘mvtnorm’, ‘sandwich’, ‘lpSolve’, ‘Hmisc’, ‘pbivnorm’, ‘carData’, ‘abind’, ‘quantreg’, ‘pander’, ‘rio’, ‘plyr’, ‘ggtext’, ‘cowplot’, ‘see’, ‘psych’, ‘afex’, ‘emmeans’, ‘effectsize’, ‘performance’, ‘lmerTest’, ‘mediation’, ‘interactions’, ‘lavaan’, ‘car’, ‘jtools’, ‘texreg’, ‘MuMIn’, ‘bruceR’\n",
            "\n",
            "\n",
            "Warning message in install.packages(\"ChineseNames\"):\n",
            "“installation of package ‘interp’ had non-zero exit status”\n",
            "Warning message in install.packages(\"ChineseNames\"):\n",
            "“installation of package ‘latticeExtra’ had non-zero exit status”\n",
            "Warning message in install.packages(\"ChineseNames\"):\n",
            "“installation of package ‘Hmisc’ had non-zero exit status”\n",
            "Warning message in install.packages(\"ChineseNames\"):\n",
            "“installation of package ‘mediation’ had non-zero exit status”\n",
            "Warning message in install.packages(\"ChineseNames\"):\n",
            "“installation of package ‘bruceR’ had non-zero exit status”\n",
            "Warning message in install.packages(\"ChineseNames\"):\n",
            "“installation of package ‘ChineseNames’ had non-zero exit status”\n"
          ]
        },
        {
          "output_type": "error",
          "ename": "ERROR",
          "evalue": "ignored",
          "traceback": [
            "Error in library(ChineseNames): there is no package called ‘ChineseNames’\nTraceback:\n",
            "1. library(ChineseNames)"
          ]
        }
      ],
      "source": [
        "# install.packages(\"ChineseNames\")\n",
        "library(ChineseNames)"
      ]
    },
    {
      "cell_type": "markdown",
      "metadata": {
        "id": "2WmWNyMJstpa"
      },
      "source": [
        "This package contains an `givenname` table containing naming frequency for (single-character) given names:"
      ]
    },
    {
      "cell_type": "code",
      "execution_count": null,
      "metadata": {
        "id": "SPu-74icstpa",
        "outputId": "3ae8ffb5-b702-47a0-87bc-0faa92b280bc"
      },
      "outputs": [
        {
          "data": {
            "text/html": [
              "<table class=\"dataframe\">\n",
              "<caption>A data.frame: 5 × 25</caption>\n",
              "<thead>\n",
              "\t<tr><th scope=col>character</th><th scope=col>pinyin</th><th scope=col>bihua</th><th scope=col>n.male</th><th scope=col>n.female</th><th scope=col>name.gender</th><th scope=col>n.1930_1959</th><th scope=col>n.1960_1969</th><th scope=col>n.1970_1979</th><th scope=col>n.1980_1989</th><th scope=col>⋯</th><th scope=col>ppm.1980_1989</th><th scope=col>ppm.1990_1999</th><th scope=col>ppm.2000_2008</th><th scope=col>name.ppm</th><th scope=col>name.uniqueness</th><th scope=col>corpus.ppm</th><th scope=col>corpus.uniqueness</th><th scope=col>name.valence</th><th scope=col>name.warmth</th><th scope=col>name.competence</th></tr>\n",
              "\t<tr><th scope=col>&lt;chr&gt;</th><th scope=col>&lt;chr&gt;</th><th scope=col>&lt;dbl&gt;</th><th scope=col>&lt;dbl&gt;</th><th scope=col>&lt;dbl&gt;</th><th scope=col>&lt;dbl&gt;</th><th scope=col>&lt;dbl&gt;</th><th scope=col>&lt;dbl&gt;</th><th scope=col>&lt;dbl&gt;</th><th scope=col>&lt;dbl&gt;</th><th scope=col>⋯</th><th scope=col>&lt;dbl&gt;</th><th scope=col>&lt;dbl&gt;</th><th scope=col>&lt;dbl&gt;</th><th scope=col>&lt;dbl&gt;</th><th scope=col>&lt;dbl&gt;</th><th scope=col>&lt;dbl&gt;</th><th scope=col>&lt;dbl&gt;</th><th scope=col>&lt;dbl&gt;</th><th scope=col>&lt;dbl&gt;</th><th scope=col>&lt;dbl&gt;</th></tr>\n",
              "</thead>\n",
              "<tbody>\n",
              "\t<tr><td>兰</td><td>lan2 </td><td>5</td><td> 652920</td><td>24861769</td><td>-0.9488201</td><td>13805295</td><td>5312327</td><td>3364874</td><td>1903020</td><td>⋯</td><td> 9193.333</td><td> 5395.524</td><td> 2450.622</td><td>17010.05</td><td>1.769269</td><td>191.5842</td><td>3.715379</td><td>4.1875</td><td>3.9</td><td>3.5</td></tr>\n",
              "\t<tr><td>丽</td><td>li4  </td><td>7</td><td> 359797</td><td>20528424</td><td>-0.9655502</td><td> 1661782</td><td>2957007</td><td>5277436</td><td>6708350</td><td>⋯</td><td>32407.488</td><td>20527.613</td><td> 9257.589</td><td>17840.82</td><td>1.748561</td><td>149.2029</td><td>3.823322</td><td>4.2500</td><td>3.6</td><td>3.0</td></tr>\n",
              "\t<tr><td>秀</td><td>xiu4 </td><td>7</td><td>2050069</td><td>29968210</td><td>-0.8719438</td><td>16660338</td><td>7064595</td><td>4823078</td><td>2242688</td><td>⋯</td><td>10834.242</td><td> 5808.655</td><td> 2842.289</td><td>21487.49</td><td>1.667794</td><td>149.6530</td><td>3.822022</td><td>4.0625</td><td>4.0</td><td>3.6</td></tr>\n",
              "\t<tr><td>英</td><td>ying1</td><td>8</td><td>2129955</td><td>38849711</td><td>-0.8960482</td><td>21309061</td><td>8568501</td><td>6588993</td><td>3019930</td><td>⋯</td><td>14589.034</td><td> 6768.631</td><td> 3604.622</td><td>27444.92</td><td>1.561522</td><td>422.6557</td><td>3.372987</td><td>4.1250</td><td>3.6</td><td>3.4</td></tr>\n",
              "\t<tr><td>玉</td><td>yu4  </td><td>5</td><td>9692197</td><td>24546985</td><td>-0.4338535</td><td>14771006</td><td>7306823</td><td>5336682</td><td>3390050</td><td>⋯</td><td>16377.053</td><td>14296.357</td><td>11294.700</td><td>24860.19</td><td>1.604478</td><td>173.0625</td><td>3.759295</td><td>4.3750</td><td>4.2</td><td>3.4</td></tr>\n",
              "</tbody>\n",
              "</table>\n"
            ],
            "text/latex": [
              "A data.frame: 5 × 25\n",
              "\\begin{tabular}{lllllllllllllllllllll}\n",
              " character & pinyin & bihua & n.male & n.female & name.gender & n.1930\\_1959 & n.1960\\_1969 & n.1970\\_1979 & n.1980\\_1989 & ⋯ & ppm.1980\\_1989 & ppm.1990\\_1999 & ppm.2000\\_2008 & name.ppm & name.uniqueness & corpus.ppm & corpus.uniqueness & name.valence & name.warmth & name.competence\\\\\n",
              " <chr> & <chr> & <dbl> & <dbl> & <dbl> & <dbl> & <dbl> & <dbl> & <dbl> & <dbl> & ⋯ & <dbl> & <dbl> & <dbl> & <dbl> & <dbl> & <dbl> & <dbl> & <dbl> & <dbl> & <dbl>\\\\\n",
              "\\hline\n",
              "\t 兰 & lan2  & 5 &  652920 & 24861769 & -0.9488201 & 13805295 & 5312327 & 3364874 & 1903020 & ⋯ &  9193.333 &  5395.524 &  2450.622 & 17010.05 & 1.769269 & 191.5842 & 3.715379 & 4.1875 & 3.9 & 3.5\\\\\n",
              "\t 丽 & li4   & 7 &  359797 & 20528424 & -0.9655502 &  1661782 & 2957007 & 5277436 & 6708350 & ⋯ & 32407.488 & 20527.613 &  9257.589 & 17840.82 & 1.748561 & 149.2029 & 3.823322 & 4.2500 & 3.6 & 3.0\\\\\n",
              "\t 秀 & xiu4  & 7 & 2050069 & 29968210 & -0.8719438 & 16660338 & 7064595 & 4823078 & 2242688 & ⋯ & 10834.242 &  5808.655 &  2842.289 & 21487.49 & 1.667794 & 149.6530 & 3.822022 & 4.0625 & 4.0 & 3.6\\\\\n",
              "\t 英 & ying1 & 8 & 2129955 & 38849711 & -0.8960482 & 21309061 & 8568501 & 6588993 & 3019930 & ⋯ & 14589.034 &  6768.631 &  3604.622 & 27444.92 & 1.561522 & 422.6557 & 3.372987 & 4.1250 & 3.6 & 3.4\\\\\n",
              "\t 玉 & yu4   & 5 & 9692197 & 24546985 & -0.4338535 & 14771006 & 7306823 & 5336682 & 3390050 & ⋯ & 16377.053 & 14296.357 & 11294.700 & 24860.19 & 1.604478 & 173.0625 & 3.759295 & 4.3750 & 4.2 & 3.4\\\\\n",
              "\\end{tabular}\n"
            ],
            "text/markdown": [
              "\n",
              "A data.frame: 5 × 25\n",
              "\n",
              "| character &lt;chr&gt; | pinyin &lt;chr&gt; | bihua &lt;dbl&gt; | n.male &lt;dbl&gt; | n.female &lt;dbl&gt; | name.gender &lt;dbl&gt; | n.1930_1959 &lt;dbl&gt; | n.1960_1969 &lt;dbl&gt; | n.1970_1979 &lt;dbl&gt; | n.1980_1989 &lt;dbl&gt; | ⋯ ⋯ | ppm.1980_1989 &lt;dbl&gt; | ppm.1990_1999 &lt;dbl&gt; | ppm.2000_2008 &lt;dbl&gt; | name.ppm &lt;dbl&gt; | name.uniqueness &lt;dbl&gt; | corpus.ppm &lt;dbl&gt; | corpus.uniqueness &lt;dbl&gt; | name.valence &lt;dbl&gt; | name.warmth &lt;dbl&gt; | name.competence &lt;dbl&gt; |\n",
              "|---|---|---|---|---|---|---|---|---|---|---|---|---|---|---|---|---|---|---|---|---|\n",
              "| 兰 | lan2  | 5 |  652920 | 24861769 | -0.9488201 | 13805295 | 5312327 | 3364874 | 1903020 | ⋯ |  9193.333 |  5395.524 |  2450.622 | 17010.05 | 1.769269 | 191.5842 | 3.715379 | 4.1875 | 3.9 | 3.5 |\n",
              "| 丽 | li4   | 7 |  359797 | 20528424 | -0.9655502 |  1661782 | 2957007 | 5277436 | 6708350 | ⋯ | 32407.488 | 20527.613 |  9257.589 | 17840.82 | 1.748561 | 149.2029 | 3.823322 | 4.2500 | 3.6 | 3.0 |\n",
              "| 秀 | xiu4  | 7 | 2050069 | 29968210 | -0.8719438 | 16660338 | 7064595 | 4823078 | 2242688 | ⋯ | 10834.242 |  5808.655 |  2842.289 | 21487.49 | 1.667794 | 149.6530 | 3.822022 | 4.0625 | 4.0 | 3.6 |\n",
              "| 英 | ying1 | 8 | 2129955 | 38849711 | -0.8960482 | 21309061 | 8568501 | 6588993 | 3019930 | ⋯ | 14589.034 |  6768.631 |  3604.622 | 27444.92 | 1.561522 | 422.6557 | 3.372987 | 4.1250 | 3.6 | 3.4 |\n",
              "| 玉 | yu4   | 5 | 9692197 | 24546985 | -0.4338535 | 14771006 | 7306823 | 5336682 | 3390050 | ⋯ | 16377.053 | 14296.357 | 11294.700 | 24860.19 | 1.604478 | 173.0625 | 3.759295 | 4.3750 | 4.2 | 3.4 |\n",
              "\n"
            ],
            "text/plain": [
              "  character pinyin bihua n.male  n.female name.gender n.1930_1959 n.1960_1969\n",
              "1 兰        lan2   5      652920 24861769 -0.9488201  13805295    5312327    \n",
              "2 丽        li4    7      359797 20528424 -0.9655502   1661782    2957007    \n",
              "3 秀        xiu4   7     2050069 29968210 -0.8719438  16660338    7064595    \n",
              "4 英        ying1  8     2129955 38849711 -0.8960482  21309061    8568501    \n",
              "5 玉        yu4    5     9692197 24546985 -0.4338535  14771006    7306823    \n",
              "  n.1970_1979 n.1980_1989 ⋯ ppm.1980_1989 ppm.1990_1999 ppm.2000_2008 name.ppm\n",
              "1 3364874     1903020     ⋯  9193.333      5395.524      2450.622     17010.05\n",
              "2 5277436     6708350     ⋯ 32407.488     20527.613      9257.589     17840.82\n",
              "3 4823078     2242688     ⋯ 10834.242      5808.655      2842.289     21487.49\n",
              "4 6588993     3019930     ⋯ 14589.034      6768.631      3604.622     27444.92\n",
              "5 5336682     3390050     ⋯ 16377.053     14296.357     11294.700     24860.19\n",
              "  name.uniqueness corpus.ppm corpus.uniqueness name.valence name.warmth\n",
              "1 1.769269        191.5842   3.715379          4.1875       3.9        \n",
              "2 1.748561        149.2029   3.823322          4.2500       3.6        \n",
              "3 1.667794        149.6530   3.822022          4.0625       4.0        \n",
              "4 1.561522        422.6557   3.372987          4.1250       3.6        \n",
              "5 1.604478        173.0625   3.759295          4.3750       4.2        \n",
              "  name.competence\n",
              "1 3.5            \n",
              "2 3.0            \n",
              "3 3.6            \n",
              "4 3.4            \n",
              "5 3.4            "
            ]
          },
          "metadata": {},
          "output_type": "display_data"
        }
      ],
      "source": [
        "givenname %>% top_n(5, n.female)"
      ]
    },
    {
      "cell_type": "markdown",
      "metadata": {
        "id": "6EBWW3Czstpa"
      },
      "source": [
        "This table is in so-called \"wide format\" and has to be reshaped to analyze names over time. We'll learn how to do this next week. In the meantime, you can run:"
      ]
    },
    {
      "cell_type": "code",
      "execution_count": null,
      "metadata": {
        "id": "2Bcb-_yPstpa",
        "outputId": "d84cd78a-e8be-42a8-d3b5-4546fbfbca81"
      },
      "outputs": [
        {
          "data": {
            "image/png": "[encoded data removed]",
            "text/plain": [
              "plot without title"
            ]
          },
          "metadata": {
            "image/png": {
              "height": 300,
              "width": 480
            }
          },
          "output_type": "display_data"
        }
      ],
      "source": [
        "givenname %>% \n",
        "    pivot_longer(n.1930_1959:n.2000_2008, names_to=\"years\", values_to=\"n\") %>% \n",
        "    mutate(years = factor(years, ordered=T)) %>% # years is already there, but we convert into a factor \n",
        "    ggplot(aes(x=years, y=n)) + geom_col() # we add layers w plus symbol, not pipe "
      ]
    },
    {
      "cell_type": "markdown",
      "metadata": {
        "id": "yqoDT8Gostpb"
      },
      "source": [
        "## How common is my name over time?\n",
        "\n",
        "![image.png](attachment:image.png)"
      ]
    },
    {
      "cell_type": "code",
      "execution_count": 61,
      "metadata": {
        "id": "sE6e0n5_stpb",
        "colab": {
          "base_uri": "https://localhost:8080/"
        },
        "outputId": "1102ac27-d4f2-4b2c-9e6e-c6bbfa090068"
      },
      "outputs": [
        {
          "output_type": "stream",
          "name": "stdout",
          "text": [
            "\u001b[90m# A tibble: 202 × 5\u001b[39m\n",
            "    year sex   name         n      prop\n",
            "   \u001b[3m\u001b[90m<dbl>\u001b[39m\u001b[23m \u001b[3m\u001b[90m<chr>\u001b[39m\u001b[23m \u001b[3m\u001b[90m<chr>\u001b[39m\u001b[23m    \u001b[3m\u001b[90m<int>\u001b[39m\u001b[23m     \u001b[3m\u001b[90m<dbl>\u001b[39m\u001b[23m\n",
            "\u001b[90m 1\u001b[39m  \u001b[4m1\u001b[24m880 M     Jonathan    18 0.000\u001b[4m1\u001b[24m\u001b[4m5\u001b[24m\u001b[4m2\u001b[24m \n",
            "\u001b[90m 2\u001b[39m  \u001b[4m1\u001b[24m881 M     Jonathan    21 0.000\u001b[4m1\u001b[24m\u001b[4m9\u001b[24m\u001b[4m4\u001b[24m \n",
            "\u001b[90m 3\u001b[39m  \u001b[4m1\u001b[24m882 M     Jonathan    27 0.000\u001b[4m2\u001b[24m\u001b[4m2\u001b[24m\u001b[4m1\u001b[24m \n",
            "\u001b[90m 4\u001b[39m  \u001b[4m1\u001b[24m883 M     Jonathan    17 0.000\u001b[4m1\u001b[24m\u001b[4m5\u001b[24m\u001b[4m1\u001b[24m \n",
            "\u001b[90m 5\u001b[39m  \u001b[4m1\u001b[24m884 M     Jonathan    21 0.000\u001b[4m1\u001b[24m\u001b[4m7\u001b[24m\u001b[4m1\u001b[24m \n",
            "\u001b[90m 6\u001b[39m  \u001b[4m1\u001b[24m885 M     Jonathan    30 0.000\u001b[4m2\u001b[24m\u001b[4m5\u001b[24m\u001b[4m9\u001b[24m \n",
            "\u001b[90m 7\u001b[39m  \u001b[4m1\u001b[24m886 M     Jonathan    19 0.000\u001b[4m1\u001b[24m\u001b[4m6\u001b[24m\u001b[4m0\u001b[24m \n",
            "\u001b[90m 8\u001b[39m  \u001b[4m1\u001b[24m887 M     Jonathan    10 0.000\u001b[4m0\u001b[24m\u001b[4m9\u001b[24m\u001b[4m1\u001b[24m5\n",
            "\u001b[90m 9\u001b[39m  \u001b[4m1\u001b[24m888 M     Jonathan    17 0.000\u001b[4m1\u001b[24m\u001b[4m3\u001b[24m\u001b[4m1\u001b[24m \n",
            "\u001b[90m10\u001b[39m  \u001b[4m1\u001b[24m889 M     Jonathan    12 0.000\u001b[4m1\u001b[24m\u001b[4m0\u001b[24m\u001b[4m1\u001b[24m \n",
            "\u001b[90m# … with 192 more rows\u001b[39m\n"
          ]
        }
      ],
      "source": [
        "# Plot my name over time\n",
        "babynames%>%\n",
        "  filter(name==\"Jonathan\")%>%\n",
        "  print"
      ]
    },
    {
      "cell_type": "code",
      "source": [
        "babynames%>%\n",
        "  filter(name==\"Jonathan\")%>%\n",
        "  ggplot(aes(x=year,y=n))+ # looks weird b/c plotting both males & females\n",
        "  geom_line()"
      ],
      "metadata": {
        "colab": {
          "base_uri": "https://localhost:8080/",
          "height": 317
        },
        "id": "5EZnNc8a6uqp",
        "outputId": "94d15026-069c-4b20-c4ec-e8dcb9a4c2e4"
      },
      "execution_count": 62,
      "outputs": [
        {
          "output_type": "display_data",
          "data": {
            "text/plain": [
              "plot without title"
            ],
            "image/png": "[encoded data removed]"
          },
          "metadata": {
            "image/png": {
              "width": 480,
              "height": 300
            }
          }
        }
      ]
    },
    {
      "cell_type": "code",
      "source": [
        "babynames%>%\n",
        "  filter(name==\"Jonathan\")%>%\n",
        "  ggplot(aes(x=year,y=n,color=sex))+ # adding color=sex sliced the data \n",
        "  geom_line()"
      ],
      "metadata": {
        "colab": {
          "base_uri": "https://localhost:8080/",
          "height": 317
        },
        "id": "3y6GkQB_7j8f",
        "outputId": "4bf65e3d-3ba3-4ba8-f47e-37aae4dd95bc"
      },
      "execution_count": 63,
      "outputs": [
        {
          "output_type": "display_data",
          "data": {
            "text/plain": [
              "plot without title"
            ],
            "image/png": "[encoded data removed]"
          },
          "metadata": {
            "image/png": {
              "width": 480,
              "height": 300
            }
          }
        }
      ]
    },
    {
      "cell_type": "code",
      "source": [
        "glimpse(babynames)"
      ],
      "metadata": {
        "colab": {
          "base_uri": "https://localhost:8080/"
        },
        "id": "rLRf2VQL6cI6",
        "outputId": "c53bb2ac-272b-4596-c09a-47e5843aebb4"
      },
      "execution_count": 64,
      "outputs": [
        {
          "output_type": "stream",
          "name": "stdout",
          "text": [
            "Rows: 1,924,665\n",
            "Columns: 5\n",
            "$ year \u001b[3m\u001b[90m<dbl>\u001b[39m\u001b[23m 1880, 1880, 1880, 1880, 1880, 1880, 1880, 1880, 1880, 1880, 1880,…\n",
            "$ sex  \u001b[3m\u001b[90m<chr>\u001b[39m\u001b[23m \"F\", \"F\", \"F\", \"F\", \"F\", \"F\", \"F\", \"F\", \"F\", \"F\", \"F\", \"F\", \"F\", …\n",
            "$ name \u001b[3m\u001b[90m<chr>\u001b[39m\u001b[23m \"Mary\", \"Anna\", \"Emma\", \"Elizabeth\", \"Minnie\", \"Margaret\", \"Ida\",…\n",
            "$ n    \u001b[3m\u001b[90m<int>\u001b[39m\u001b[23m 7065, 2604, 2003, 1939, 1746, 1578, 1472, 1414, 1320, 1288, 1258,…\n",
            "$ prop \u001b[3m\u001b[90m<dbl>\u001b[39m\u001b[23m 0.07238359, 0.02667896, 0.02052149, 0.01986579, 0.01788843, 0.016…\n"
          ]
        }
      ]
    },
    {
      "cell_type": "code",
      "execution_count": null,
      "metadata": {
        "id": "Mub71igwstpb"
      },
      "outputs": [],
      "source": [
        "# Plot my name and my neighbor/friend/girlfriend's name\n"
      ]
    },
    {
      "cell_type": "markdown",
      "metadata": {
        "id": "0JlcsryTstpd"
      },
      "source": [
        "## Names from other countries\n",
        "Obviously a large number of people in the class were not born in the US and do not have English names. A similar dataset on Chinese names is available from the `ChineseNames` package:"
      ]
    },
    {
      "cell_type": "code",
      "execution_count": null,
      "metadata": {
        "id": "cF-ECBgMstpd"
      },
      "outputs": [],
      "source": [
        "# install.packages(\"ChineseNames\")\n",
        "library(ChineseNames)"
      ]
    },
    {
      "cell_type": "markdown",
      "metadata": {
        "id": "Mz7eYxUostpd"
      },
      "source": [
        "This package contains an `givenname` table containing naming frequency for (single-character) given names:"
      ]
    },
    {
      "cell_type": "code",
      "execution_count": null,
      "metadata": {
        "id": "kDvkC82Rstpe",
        "outputId": "6a763189-b0b7-47c5-8d35-9cc03ba70179"
      },
      "outputs": [
        {
          "data": {
            "text/html": [
              "<table class=\"dataframe\">\n",
              "<caption>A data.frame: 5 × 25</caption>\n",
              "<thead>\n",
              "\t<tr><th scope=col>character</th><th scope=col>pinyin</th><th scope=col>bihua</th><th scope=col>n.male</th><th scope=col>n.female</th><th scope=col>name.gender</th><th scope=col>n.1930_1959</th><th scope=col>n.1960_1969</th><th scope=col>n.1970_1979</th><th scope=col>n.1980_1989</th><th scope=col>⋯</th><th scope=col>ppm.1980_1989</th><th scope=col>ppm.1990_1999</th><th scope=col>ppm.2000_2008</th><th scope=col>name.ppm</th><th scope=col>name.uniqueness</th><th scope=col>corpus.ppm</th><th scope=col>corpus.uniqueness</th><th scope=col>name.valence</th><th scope=col>name.warmth</th><th scope=col>name.competence</th></tr>\n",
              "\t<tr><th scope=col>&lt;chr&gt;</th><th scope=col>&lt;chr&gt;</th><th scope=col>&lt;dbl&gt;</th><th scope=col>&lt;dbl&gt;</th><th scope=col>&lt;dbl&gt;</th><th scope=col>&lt;dbl&gt;</th><th scope=col>&lt;dbl&gt;</th><th scope=col>&lt;dbl&gt;</th><th scope=col>&lt;dbl&gt;</th><th scope=col>&lt;dbl&gt;</th><th scope=col>⋯</th><th scope=col>&lt;dbl&gt;</th><th scope=col>&lt;dbl&gt;</th><th scope=col>&lt;dbl&gt;</th><th scope=col>&lt;dbl&gt;</th><th scope=col>&lt;dbl&gt;</th><th scope=col>&lt;dbl&gt;</th><th scope=col>&lt;dbl&gt;</th><th scope=col>&lt;dbl&gt;</th><th scope=col>&lt;dbl&gt;</th><th scope=col>&lt;dbl&gt;</th></tr>\n",
              "</thead>\n",
              "<tbody>\n",
              "\t<tr><td>兰</td><td>lan2 </td><td>5</td><td> 652920</td><td>24861769</td><td>-0.9488201</td><td>13805295</td><td>5312327</td><td>3364874</td><td>1903020</td><td>⋯</td><td> 9193.333</td><td> 5395.524</td><td> 2450.622</td><td>17010.05</td><td>1.769269</td><td>191.5842</td><td>3.715379</td><td>4.1875</td><td>3.9</td><td>3.5</td></tr>\n",
              "\t<tr><td>丽</td><td>li4  </td><td>7</td><td> 359797</td><td>20528424</td><td>-0.9655502</td><td> 1661782</td><td>2957007</td><td>5277436</td><td>6708350</td><td>⋯</td><td>32407.488</td><td>20527.613</td><td> 9257.589</td><td>17840.82</td><td>1.748561</td><td>149.2029</td><td>3.823322</td><td>4.2500</td><td>3.6</td><td>3.0</td></tr>\n",
              "\t<tr><td>秀</td><td>xiu4 </td><td>7</td><td>2050069</td><td>29968210</td><td>-0.8719438</td><td>16660338</td><td>7064595</td><td>4823078</td><td>2242688</td><td>⋯</td><td>10834.242</td><td> 5808.655</td><td> 2842.289</td><td>21487.49</td><td>1.667794</td><td>149.6530</td><td>3.822022</td><td>4.0625</td><td>4.0</td><td>3.6</td></tr>\n",
              "\t<tr><td>英</td><td>ying1</td><td>8</td><td>2129955</td><td>38849711</td><td>-0.8960482</td><td>21309061</td><td>8568501</td><td>6588993</td><td>3019930</td><td>⋯</td><td>14589.034</td><td> 6768.631</td><td> 3604.622</td><td>27444.92</td><td>1.561522</td><td>422.6557</td><td>3.372987</td><td>4.1250</td><td>3.6</td><td>3.4</td></tr>\n",
              "\t<tr><td>玉</td><td>yu4  </td><td>5</td><td>9692197</td><td>24546985</td><td>-0.4338535</td><td>14771006</td><td>7306823</td><td>5336682</td><td>3390050</td><td>⋯</td><td>16377.053</td><td>14296.357</td><td>11294.700</td><td>24860.19</td><td>1.604478</td><td>173.0625</td><td>3.759295</td><td>4.3750</td><td>4.2</td><td>3.4</td></tr>\n",
              "</tbody>\n",
              "</table>\n"
            ],
            "text/latex": [
              "A data.frame: 5 × 25\n",
              "\\begin{tabular}{lllllllllllllllllllll}\n",
              " character & pinyin & bihua & n.male & n.female & name.gender & n.1930\\_1959 & n.1960\\_1969 & n.1970\\_1979 & n.1980\\_1989 & ⋯ & ppm.1980\\_1989 & ppm.1990\\_1999 & ppm.2000\\_2008 & name.ppm & name.uniqueness & corpus.ppm & corpus.uniqueness & name.valence & name.warmth & name.competence\\\\\n",
              " <chr> & <chr> & <dbl> & <dbl> & <dbl> & <dbl> & <dbl> & <dbl> & <dbl> & <dbl> & ⋯ & <dbl> & <dbl> & <dbl> & <dbl> & <dbl> & <dbl> & <dbl> & <dbl> & <dbl> & <dbl>\\\\\n",
              "\\hline\n",
              "\t 兰 & lan2  & 5 &  652920 & 24861769 & -0.9488201 & 13805295 & 5312327 & 3364874 & 1903020 & ⋯ &  9193.333 &  5395.524 &  2450.622 & 17010.05 & 1.769269 & 191.5842 & 3.715379 & 4.1875 & 3.9 & 3.5\\\\\n",
              "\t 丽 & li4   & 7 &  359797 & 20528424 & -0.9655502 &  1661782 & 2957007 & 5277436 & 6708350 & ⋯ & 32407.488 & 20527.613 &  9257.589 & 17840.82 & 1.748561 & 149.2029 & 3.823322 & 4.2500 & 3.6 & 3.0\\\\\n",
              "\t 秀 & xiu4  & 7 & 2050069 & 29968210 & -0.8719438 & 16660338 & 7064595 & 4823078 & 2242688 & ⋯ & 10834.242 &  5808.655 &  2842.289 & 21487.49 & 1.667794 & 149.6530 & 3.822022 & 4.0625 & 4.0 & 3.6\\\\\n",
              "\t 英 & ying1 & 8 & 2129955 & 38849711 & -0.8960482 & 21309061 & 8568501 & 6588993 & 3019930 & ⋯ & 14589.034 &  6768.631 &  3604.622 & 27444.92 & 1.561522 & 422.6557 & 3.372987 & 4.1250 & 3.6 & 3.4\\\\\n",
              "\t 玉 & yu4   & 5 & 9692197 & 24546985 & -0.4338535 & 14771006 & 7306823 & 5336682 & 3390050 & ⋯ & 16377.053 & 14296.357 & 11294.700 & 24860.19 & 1.604478 & 173.0625 & 3.759295 & 4.3750 & 4.2 & 3.4\\\\\n",
              "\\end{tabular}\n"
            ],
            "text/markdown": [
              "\n",
              "A data.frame: 5 × 25\n",
              "\n",
              "| character &lt;chr&gt; | pinyin &lt;chr&gt; | bihua &lt;dbl&gt; | n.male &lt;dbl&gt; | n.female &lt;dbl&gt; | name.gender &lt;dbl&gt; | n.1930_1959 &lt;dbl&gt; | n.1960_1969 &lt;dbl&gt; | n.1970_1979 &lt;dbl&gt; | n.1980_1989 &lt;dbl&gt; | ⋯ ⋯ | ppm.1980_1989 &lt;dbl&gt; | ppm.1990_1999 &lt;dbl&gt; | ppm.2000_2008 &lt;dbl&gt; | name.ppm &lt;dbl&gt; | name.uniqueness &lt;dbl&gt; | corpus.ppm &lt;dbl&gt; | corpus.uniqueness &lt;dbl&gt; | name.valence &lt;dbl&gt; | name.warmth &lt;dbl&gt; | name.competence &lt;dbl&gt; |\n",
              "|---|---|---|---|---|---|---|---|---|---|---|---|---|---|---|---|---|---|---|---|---|\n",
              "| 兰 | lan2  | 5 |  652920 | 24861769 | -0.9488201 | 13805295 | 5312327 | 3364874 | 1903020 | ⋯ |  9193.333 |  5395.524 |  2450.622 | 17010.05 | 1.769269 | 191.5842 | 3.715379 | 4.1875 | 3.9 | 3.5 |\n",
              "| 丽 | li4   | 7 |  359797 | 20528424 | -0.9655502 |  1661782 | 2957007 | 5277436 | 6708350 | ⋯ | 32407.488 | 20527.613 |  9257.589 | 17840.82 | 1.748561 | 149.2029 | 3.823322 | 4.2500 | 3.6 | 3.0 |\n",
              "| 秀 | xiu4  | 7 | 2050069 | 29968210 | -0.8719438 | 16660338 | 7064595 | 4823078 | 2242688 | ⋯ | 10834.242 |  5808.655 |  2842.289 | 21487.49 | 1.667794 | 149.6530 | 3.822022 | 4.0625 | 4.0 | 3.6 |\n",
              "| 英 | ying1 | 8 | 2129955 | 38849711 | -0.8960482 | 21309061 | 8568501 | 6588993 | 3019930 | ⋯ | 14589.034 |  6768.631 |  3604.622 | 27444.92 | 1.561522 | 422.6557 | 3.372987 | 4.1250 | 3.6 | 3.4 |\n",
              "| 玉 | yu4   | 5 | 9692197 | 24546985 | -0.4338535 | 14771006 | 7306823 | 5336682 | 3390050 | ⋯ | 16377.053 | 14296.357 | 11294.700 | 24860.19 | 1.604478 | 173.0625 | 3.759295 | 4.3750 | 4.2 | 3.4 |\n",
              "\n"
            ],
            "text/plain": [
              "  character pinyin bihua n.male  n.female name.gender n.1930_1959 n.1960_1969\n",
              "1 兰        lan2   5      652920 24861769 -0.9488201  13805295    5312327    \n",
              "2 丽        li4    7      359797 20528424 -0.9655502   1661782    2957007    \n",
              "3 秀        xiu4   7     2050069 29968210 -0.8719438  16660338    7064595    \n",
              "4 英        ying1  8     2129955 38849711 -0.8960482  21309061    8568501    \n",
              "5 玉        yu4    5     9692197 24546985 -0.4338535  14771006    7306823    \n",
              "  n.1970_1979 n.1980_1989 ⋯ ppm.1980_1989 ppm.1990_1999 ppm.2000_2008 name.ppm\n",
              "1 3364874     1903020     ⋯  9193.333      5395.524      2450.622     17010.05\n",
              "2 5277436     6708350     ⋯ 32407.488     20527.613      9257.589     17840.82\n",
              "3 4823078     2242688     ⋯ 10834.242      5808.655      2842.289     21487.49\n",
              "4 6588993     3019930     ⋯ 14589.034      6768.631      3604.622     27444.92\n",
              "5 5336682     3390050     ⋯ 16377.053     14296.357     11294.700     24860.19\n",
              "  name.uniqueness corpus.ppm corpus.uniqueness name.valence name.warmth\n",
              "1 1.769269        191.5842   3.715379          4.1875       3.9        \n",
              "2 1.748561        149.2029   3.823322          4.2500       3.6        \n",
              "3 1.667794        149.6530   3.822022          4.0625       4.0        \n",
              "4 1.561522        422.6557   3.372987          4.1250       3.6        \n",
              "5 1.604478        173.0625   3.759295          4.3750       4.2        \n",
              "  name.competence\n",
              "1 3.5            \n",
              "2 3.0            \n",
              "3 3.6            \n",
              "4 3.4            \n",
              "5 3.4            "
            ]
          },
          "metadata": {},
          "output_type": "display_data"
        }
      ],
      "source": [
        "givenname %>% top_n(5, n.female)"
      ]
    },
    {
      "cell_type": "markdown",
      "metadata": {
        "id": "xE87nTxDstpe"
      },
      "source": [
        "This table is in so-called \"wide format\" and has to be reshaped to analyze names over time. We'll learn how to do this next week. In the meantime, you can run:"
      ]
    },
    {
      "cell_type": "code",
      "execution_count": 66,
      "metadata": {
        "id": "5N7fllSVstpe",
        "outputId": "80de0849-0dc5-4a34-b034-7fd517be8216",
        "colab": {
          "base_uri": "https://localhost:8080/",
          "height": 240
        }
      },
      "outputs": [
        {
          "output_type": "error",
          "ename": "ERROR",
          "evalue": "ignored",
          "traceback": [
            "Error in pivot_longer(., n.1930_1959:n.2000_2008, names_to = \"years\", : object 'givenname' not found\nTraceback:\n",
            "1. givenname %>% pivot_longer(n.1930_1959:n.2000_2008, names_to = \"years\", \n .     values_to = \"n\") %>% mutate(years = factor(years, ordered = T)) %>% \n .     ggplot(aes(x = years, y = n))",
            "2. ggplot(., aes(x = years, y = n))",
            "3. mutate(., years = factor(years, ordered = T))",
            "4. pivot_longer(., n.1930_1959:n.2000_2008, names_to = \"years\", \n .     values_to = \"n\")"
          ]
        }
      ],
      "source": [
        "givenname %>% \n",
        "    pivot_longer(n.1930_1959:n.2000_2008, names_to=\"years\", values_to=\"n\") %>% \n",
        "    mutate(years = factor(years, ordered=T)) %>% \n",
        "    ggplot(aes(x=years, y=n)) + geom_col()"
      ]
    },
    {
      "cell_type": "markdown",
      "metadata": {
        "id": "YrIAQ8Xsstpe"
      },
      "source": [
        "## Eternal names\n",
        "The most common name each year is:"
      ]
    },
    {
      "cell_type": "code",
      "execution_count": 65,
      "metadata": {
        "id": "utT3ztD1stpf",
        "outputId": "67753d25-bd5b-421c-9f92-6660df4a1f52",
        "colab": {
          "base_uri": "https://localhost:8080/"
        }
      },
      "outputs": [
        {
          "output_type": "stream",
          "name": "stderr",
          "text": [
            "\u001b[1m\u001b[22mSelecting by prop\n"
          ]
        },
        {
          "output_type": "stream",
          "name": "stdout",
          "text": [
            "\u001b[90m# A tibble: 276 × 5\u001b[39m\n",
            "\u001b[90m# Groups:   year, sex [276]\u001b[39m\n",
            "    year sex   name      n   prop\n",
            "   \u001b[3m\u001b[90m<dbl>\u001b[39m\u001b[23m \u001b[3m\u001b[90m<chr>\u001b[39m\u001b[23m \u001b[3m\u001b[90m<chr>\u001b[39m\u001b[23m \u001b[3m\u001b[90m<int>\u001b[39m\u001b[23m  \u001b[3m\u001b[90m<dbl>\u001b[39m\u001b[23m\n",
            "\u001b[90m 1\u001b[39m  \u001b[4m1\u001b[24m880 F     Mary   \u001b[4m7\u001b[24m065 0.072\u001b[4m4\u001b[24m\n",
            "\u001b[90m 2\u001b[39m  \u001b[4m1\u001b[24m880 M     John   \u001b[4m9\u001b[24m655 0.081\u001b[4m5\u001b[24m\n",
            "\u001b[90m 3\u001b[39m  \u001b[4m1\u001b[24m881 F     Mary   \u001b[4m6\u001b[24m919 0.070\u001b[4m0\u001b[24m\n",
            "\u001b[90m 4\u001b[39m  \u001b[4m1\u001b[24m881 M     John   \u001b[4m8\u001b[24m769 0.081\u001b[4m0\u001b[24m\n",
            "\u001b[90m 5\u001b[39m  \u001b[4m1\u001b[24m882 F     Mary   \u001b[4m8\u001b[24m148 0.070\u001b[4m4\u001b[24m\n",
            "\u001b[90m 6\u001b[39m  \u001b[4m1\u001b[24m882 M     John   \u001b[4m9\u001b[24m557 0.078\u001b[4m3\u001b[24m\n",
            "\u001b[90m 7\u001b[39m  \u001b[4m1\u001b[24m883 F     Mary   \u001b[4m8\u001b[24m012 0.066\u001b[4m7\u001b[24m\n",
            "\u001b[90m 8\u001b[39m  \u001b[4m1\u001b[24m883 M     John   \u001b[4m8\u001b[24m894 0.079\u001b[4m1\u001b[24m\n",
            "\u001b[90m 9\u001b[39m  \u001b[4m1\u001b[24m884 F     Mary   \u001b[4m9\u001b[24m217 0.067\u001b[4m0\u001b[24m\n",
            "\u001b[90m10\u001b[39m  \u001b[4m1\u001b[24m884 M     John   \u001b[4m9\u001b[24m388 0.076\u001b[4m5\u001b[24m\n",
            "\u001b[90m# … with 266 more rows\u001b[39m\n"
          ]
        }
      ],
      "source": [
        "group_by(babynames, year, sex) %>% top_n(1) %>% print"
      ]
    },
    {
      "cell_type": "markdown",
      "metadata": {
        "id": "K3r-YBNustpg"
      },
      "source": [
        "We see that Mary and John were extremely popular names in the late 19th century."
      ]
    },
    {
      "cell_type": "markdown",
      "metadata": {
        "id": "Pl0YzHnastpg"
      },
      "source": [
        "## &#129300; Quiz\n",
        "\n",
        "Call a name *eternal* if it is among the most 30 common names for its gender in *every* year of data. \n",
        "\n",
        "John is eternal, but Mary is not. Including John there are four eternal boy names, and one eternal girl name. \n",
        "\n",
        "What is the eternal girl's name?\n",
        "\n",
        "<ol style=\"list-style-type: upper-alpha;\">\n",
        "    <li>Anna</li>\n",
        "    <li>Elizabeth</li>\n",
        "    <li>Khloe</li>\n",
        "    <li>Spike</li>\n",
        "    <li>Margaret</li>\n",
        "</ol>"
      ]
    },
    {
      "cell_type": "code",
      "execution_count": null,
      "metadata": {
        "id": "oWu3o-2Gstpg"
      },
      "outputs": [],
      "source": [
        "# the eternal names"
      ]
    },
    {
      "cell_type": "code",
      "source": [
        "# top 30 names for every year \n",
        "babynames%>%\n",
        "  group_by(sex,name,year,n)\n",
        "  print"
      ],
      "metadata": {
        "colab": {
          "base_uri": "https://localhost:8080/",
          "height": 1000
        },
        "id": "FiRBsNcG8GgC",
        "outputId": "6b4f7cfe-84cf-40e2-ab29-ceca77a764c8"
      },
      "execution_count": 78,
      "outputs": [
        {
          "output_type": "display_data",
          "data": {
            "text/html": [
              "<table class=\"dataframe\">\n",
              "<caption>A grouped_df: 1924665 × 5</caption>\n",
              "<thead>\n",
              "\t<tr><th scope=col>year</th><th scope=col>sex</th><th scope=col>name</th><th scope=col>n</th><th scope=col>prop</th></tr>\n",
              "\t<tr><th scope=col>&lt;dbl&gt;</th><th scope=col>&lt;chr&gt;</th><th scope=col>&lt;chr&gt;</th><th scope=col>&lt;int&gt;</th><th scope=col>&lt;dbl&gt;</th></tr>\n",
              "</thead>\n",
              "<tbody>\n",
              "\t<tr><td>1880</td><td>F</td><td>Mary     </td><td>7065</td><td>0.07238359</td></tr>\n",
              "\t<tr><td>1880</td><td>F</td><td>Anna     </td><td>2604</td><td>0.02667896</td></tr>\n",
              "\t<tr><td>1880</td><td>F</td><td>Emma     </td><td>2003</td><td>0.02052149</td></tr>\n",
              "\t<tr><td>1880</td><td>F</td><td>Elizabeth</td><td>1939</td><td>0.01986579</td></tr>\n",
              "\t<tr><td>1880</td><td>F</td><td>Minnie   </td><td>1746</td><td>0.01788843</td></tr>\n",
              "\t<tr><td>1880</td><td>F</td><td>Margaret </td><td>1578</td><td>0.01616720</td></tr>\n",
              "\t<tr><td>1880</td><td>F</td><td>Ida      </td><td>1472</td><td>0.01508119</td></tr>\n",
              "\t<tr><td>1880</td><td>F</td><td>Alice    </td><td>1414</td><td>0.01448696</td></tr>\n",
              "\t<tr><td>1880</td><td>F</td><td>Bertha   </td><td>1320</td><td>0.01352390</td></tr>\n",
              "\t<tr><td>1880</td><td>F</td><td>Sarah    </td><td>1288</td><td>0.01319605</td></tr>\n",
              "\t<tr><td>1880</td><td>F</td><td>Annie    </td><td>1258</td><td>0.01288868</td></tr>\n",
              "\t<tr><td>1880</td><td>F</td><td>Clara    </td><td>1226</td><td>0.01256083</td></tr>\n",
              "\t<tr><td>1880</td><td>F</td><td>Ella     </td><td>1156</td><td>0.01184366</td></tr>\n",
              "\t<tr><td>1880</td><td>F</td><td>Florence </td><td>1063</td><td>0.01089084</td></tr>\n",
              "\t<tr><td>1880</td><td>F</td><td>Cora     </td><td>1045</td><td>0.01070642</td></tr>\n",
              "\t<tr><td>1880</td><td>F</td><td>Martha   </td><td>1040</td><td>0.01065519</td></tr>\n",
              "\t<tr><td>1880</td><td>F</td><td>Laura    </td><td>1012</td><td>0.01036832</td></tr>\n",
              "\t<tr><td>1880</td><td>F</td><td>Nellie   </td><td> 995</td><td>0.01019415</td></tr>\n",
              "\t<tr><td>1880</td><td>F</td><td>Grace    </td><td> 982</td><td>0.01006096</td></tr>\n",
              "\t<tr><td>1880</td><td>F</td><td>Carrie   </td><td> 949</td><td>0.00972286</td></tr>\n",
              "\t<tr><td>1880</td><td>F</td><td>Maude    </td><td> 858</td><td>0.00879053</td></tr>\n",
              "\t<tr><td>1880</td><td>F</td><td>Mabel    </td><td> 808</td><td>0.00827826</td></tr>\n",
              "\t<tr><td>1880</td><td>F</td><td>Bessie   </td><td> 796</td><td>0.00815532</td></tr>\n",
              "\t<tr><td>1880</td><td>F</td><td>Jennie   </td><td> 793</td><td>0.00812458</td></tr>\n",
              "\t<tr><td>1880</td><td>F</td><td>Gertrude </td><td> 787</td><td>0.00806311</td></tr>\n",
              "\t<tr><td>1880</td><td>F</td><td>Julia    </td><td> 783</td><td>0.00802213</td></tr>\n",
              "\t<tr><td>1880</td><td>F</td><td>Hattie   </td><td> 769</td><td>0.00787869</td></tr>\n",
              "\t<tr><td>1880</td><td>F</td><td>Edith    </td><td> 768</td><td>0.00786845</td></tr>\n",
              "\t<tr><td>1880</td><td>F</td><td>Mattie   </td><td> 704</td><td>0.00721275</td></tr>\n",
              "\t<tr><td>1880</td><td>F</td><td>Rose     </td><td> 700</td><td>0.00717176</td></tr>\n",
              "\t<tr><td>⋮</td><td>⋮</td><td>⋮</td><td>⋮</td><td>⋮</td></tr>\n",
              "\t<tr><td>2017</td><td>M</td><td>Zayer   </td><td>5</td><td>2.55e-06</td></tr>\n",
              "\t<tr><td>2017</td><td>M</td><td>Zayir   </td><td>5</td><td>2.55e-06</td></tr>\n",
              "\t<tr><td>2017</td><td>M</td><td>Zechari </td><td>5</td><td>2.55e-06</td></tr>\n",
              "\t<tr><td>2017</td><td>M</td><td>Zecharia</td><td>5</td><td>2.55e-06</td></tr>\n",
              "\t<tr><td>2017</td><td>M</td><td>Zee     </td><td>5</td><td>2.55e-06</td></tr>\n",
              "\t<tr><td>2017</td><td>M</td><td>Zeid    </td><td>5</td><td>2.55e-06</td></tr>\n",
              "\t<tr><td>2017</td><td>M</td><td>Zennith </td><td>5</td><td>2.55e-06</td></tr>\n",
              "\t<tr><td>2017</td><td>M</td><td>Zeo     </td><td>5</td><td>2.55e-06</td></tr>\n",
              "\t<tr><td>2017</td><td>M</td><td>Zerrick </td><td>5</td><td>2.55e-06</td></tr>\n",
              "\t<tr><td>2017</td><td>M</td><td>Zevon   </td><td>5</td><td>2.55e-06</td></tr>\n",
              "\t<tr><td>2017</td><td>M</td><td>Zhen    </td><td>5</td><td>2.55e-06</td></tr>\n",
              "\t<tr><td>2017</td><td>M</td><td>Zhiyuan </td><td>5</td><td>2.55e-06</td></tr>\n",
              "\t<tr><td>2017</td><td>M</td><td>Zhyir   </td><td>5</td><td>2.55e-06</td></tr>\n",
              "\t<tr><td>2017</td><td>M</td><td>Zikora  </td><td>5</td><td>2.55e-06</td></tr>\n",
              "\t<tr><td>2017</td><td>M</td><td>Zionn   </td><td>5</td><td>2.55e-06</td></tr>\n",
              "\t<tr><td>2017</td><td>M</td><td>Ziyang  </td><td>5</td><td>2.55e-06</td></tr>\n",
              "\t<tr><td>2017</td><td>M</td><td>Zkari   </td><td>5</td><td>2.55e-06</td></tr>\n",
              "\t<tr><td>2017</td><td>M</td><td>Zohaan  </td><td>5</td><td>2.55e-06</td></tr>\n",
              "\t<tr><td>2017</td><td>M</td><td>Zoren   </td><td>5</td><td>2.55e-06</td></tr>\n",
              "\t<tr><td>2017</td><td>M</td><td>Zorion  </td><td>5</td><td>2.55e-06</td></tr>\n",
              "\t<tr><td>2017</td><td>M</td><td>Zubeyr  </td><td>5</td><td>2.55e-06</td></tr>\n",
              "\t<tr><td>2017</td><td>M</td><td>Zy      </td><td>5</td><td>2.55e-06</td></tr>\n",
              "\t<tr><td>2017</td><td>M</td><td>Zyel    </td><td>5</td><td>2.55e-06</td></tr>\n",
              "\t<tr><td>2017</td><td>M</td><td>Zyheem  </td><td>5</td><td>2.55e-06</td></tr>\n",
              "\t<tr><td>2017</td><td>M</td><td>Zyhier  </td><td>5</td><td>2.55e-06</td></tr>\n",
              "\t<tr><td>2017</td><td>M</td><td>Zykai   </td><td>5</td><td>2.55e-06</td></tr>\n",
              "\t<tr><td>2017</td><td>M</td><td>Zykeem  </td><td>5</td><td>2.55e-06</td></tr>\n",
              "\t<tr><td>2017</td><td>M</td><td>Zylin   </td><td>5</td><td>2.55e-06</td></tr>\n",
              "\t<tr><td>2017</td><td>M</td><td>Zylis   </td><td>5</td><td>2.55e-06</td></tr>\n",
              "\t<tr><td>2017</td><td>M</td><td>Zyrie   </td><td>5</td><td>2.55e-06</td></tr>\n",
              "</tbody>\n",
              "</table>\n"
            ],
            "text/markdown": "\nA grouped_df: 1924665 × 5\n\n| year &lt;dbl&gt; | sex &lt;chr&gt; | name &lt;chr&gt; | n &lt;int&gt; | prop &lt;dbl&gt; |\n|---|---|---|---|---|\n| 1880 | F | Mary      | 7065 | 0.07238359 |\n| 1880 | F | Anna      | 2604 | 0.02667896 |\n| 1880 | F | Emma      | 2003 | 0.02052149 |\n| 1880 | F | Elizabeth | 1939 | 0.01986579 |\n| 1880 | F | Minnie    | 1746 | 0.01788843 |\n| 1880 | F | Margaret  | 1578 | 0.01616720 |\n| 1880 | F | Ida       | 1472 | 0.01508119 |\n| 1880 | F | Alice     | 1414 | 0.01448696 |\n| 1880 | F | Bertha    | 1320 | 0.01352390 |\n| 1880 | F | Sarah     | 1288 | 0.01319605 |\n| 1880 | F | Annie     | 1258 | 0.01288868 |\n| 1880 | F | Clara     | 1226 | 0.01256083 |\n| 1880 | F | Ella      | 1156 | 0.01184366 |\n| 1880 | F | Florence  | 1063 | 0.01089084 |\n| 1880 | F | Cora      | 1045 | 0.01070642 |\n| 1880 | F | Martha    | 1040 | 0.01065519 |\n| 1880 | F | Laura     | 1012 | 0.01036832 |\n| 1880 | F | Nellie    |  995 | 0.01019415 |\n| 1880 | F | Grace     |  982 | 0.01006096 |\n| 1880 | F | Carrie    |  949 | 0.00972286 |\n| 1880 | F | Maude     |  858 | 0.00879053 |\n| 1880 | F | Mabel     |  808 | 0.00827826 |\n| 1880 | F | Bessie    |  796 | 0.00815532 |\n| 1880 | F | Jennie    |  793 | 0.00812458 |\n| 1880 | F | Gertrude  |  787 | 0.00806311 |\n| 1880 | F | Julia     |  783 | 0.00802213 |\n| 1880 | F | Hattie    |  769 | 0.00787869 |\n| 1880 | F | Edith     |  768 | 0.00786845 |\n| 1880 | F | Mattie    |  704 | 0.00721275 |\n| 1880 | F | Rose      |  700 | 0.00717176 |\n| ⋮ | ⋮ | ⋮ | ⋮ | ⋮ |\n| 2017 | M | Zayer    | 5 | 2.55e-06 |\n| 2017 | M | Zayir    | 5 | 2.55e-06 |\n| 2017 | M | Zechari  | 5 | 2.55e-06 |\n| 2017 | M | Zecharia | 5 | 2.55e-06 |\n| 2017 | M | Zee      | 5 | 2.55e-06 |\n| 2017 | M | Zeid     | 5 | 2.55e-06 |\n| 2017 | M | Zennith  | 5 | 2.55e-06 |\n| 2017 | M | Zeo      | 5 | 2.55e-06 |\n| 2017 | M | Zerrick  | 5 | 2.55e-06 |\n| 2017 | M | Zevon    | 5 | 2.55e-06 |\n| 2017 | M | Zhen     | 5 | 2.55e-06 |\n| 2017 | M | Zhiyuan  | 5 | 2.55e-06 |\n| 2017 | M | Zhyir    | 5 | 2.55e-06 |\n| 2017 | M | Zikora   | 5 | 2.55e-06 |\n| 2017 | M | Zionn    | 5 | 2.55e-06 |\n| 2017 | M | Ziyang   | 5 | 2.55e-06 |\n| 2017 | M | Zkari    | 5 | 2.55e-06 |\n| 2017 | M | Zohaan   | 5 | 2.55e-06 |\n| 2017 | M | Zoren    | 5 | 2.55e-06 |\n| 2017 | M | Zorion   | 5 | 2.55e-06 |\n| 2017 | M | Zubeyr   | 5 | 2.55e-06 |\n| 2017 | M | Zy       | 5 | 2.55e-06 |\n| 2017 | M | Zyel     | 5 | 2.55e-06 |\n| 2017 | M | Zyheem   | 5 | 2.55e-06 |\n| 2017 | M | Zyhier   | 5 | 2.55e-06 |\n| 2017 | M | Zykai    | 5 | 2.55e-06 |\n| 2017 | M | Zykeem   | 5 | 2.55e-06 |\n| 2017 | M | Zylin    | 5 | 2.55e-06 |\n| 2017 | M | Zylis    | 5 | 2.55e-06 |\n| 2017 | M | Zyrie    | 5 | 2.55e-06 |\n\n",
            "text/latex": "A grouped\\_df: 1924665 × 5\n\\begin{tabular}{lllll}\n year & sex & name & n & prop\\\\\n <dbl> & <chr> & <chr> & <int> & <dbl>\\\\\n\\hline\n\t 1880 & F & Mary      & 7065 & 0.07238359\\\\\n\t 1880 & F & Anna      & 2604 & 0.02667896\\\\\n\t 1880 & F & Emma      & 2003 & 0.02052149\\\\\n\t 1880 & F & Elizabeth & 1939 & 0.01986579\\\\\n\t 1880 & F & Minnie    & 1746 & 0.01788843\\\\\n\t 1880 & F & Margaret  & 1578 & 0.01616720\\\\\n\t 1880 & F & Ida       & 1472 & 0.01508119\\\\\n\t 1880 & F & Alice     & 1414 & 0.01448696\\\\\n\t 1880 & F & Bertha    & 1320 & 0.01352390\\\\\n\t 1880 & F & Sarah     & 1288 & 0.01319605\\\\\n\t 1880 & F & Annie     & 1258 & 0.01288868\\\\\n\t 1880 & F & Clara     & 1226 & 0.01256083\\\\\n\t 1880 & F & Ella      & 1156 & 0.01184366\\\\\n\t 1880 & F & Florence  & 1063 & 0.01089084\\\\\n\t 1880 & F & Cora      & 1045 & 0.01070642\\\\\n\t 1880 & F & Martha    & 1040 & 0.01065519\\\\\n\t 1880 & F & Laura     & 1012 & 0.01036832\\\\\n\t 1880 & F & Nellie    &  995 & 0.01019415\\\\\n\t 1880 & F & Grace     &  982 & 0.01006096\\\\\n\t 1880 & F & Carrie    &  949 & 0.00972286\\\\\n\t 1880 & F & Maude     &  858 & 0.00879053\\\\\n\t 1880 & F & Mabel     &  808 & 0.00827826\\\\\n\t 1880 & F & Bessie    &  796 & 0.00815532\\\\\n\t 1880 & F & Jennie    &  793 & 0.00812458\\\\\n\t 1880 & F & Gertrude  &  787 & 0.00806311\\\\\n\t 1880 & F & Julia     &  783 & 0.00802213\\\\\n\t 1880 & F & Hattie    &  769 & 0.00787869\\\\\n\t 1880 & F & Edith     &  768 & 0.00786845\\\\\n\t 1880 & F & Mattie    &  704 & 0.00721275\\\\\n\t 1880 & F & Rose      &  700 & 0.00717176\\\\\n\t ⋮ & ⋮ & ⋮ & ⋮ & ⋮\\\\\n\t 2017 & M & Zayer    & 5 & 2.55e-06\\\\\n\t 2017 & M & Zayir    & 5 & 2.55e-06\\\\\n\t 2017 & M & Zechari  & 5 & 2.55e-06\\\\\n\t 2017 & M & Zecharia & 5 & 2.55e-06\\\\\n\t 2017 & M & Zee      & 5 & 2.55e-06\\\\\n\t 2017 & M & Zeid     & 5 & 2.55e-06\\\\\n\t 2017 & M & Zennith  & 5 & 2.55e-06\\\\\n\t 2017 & M & Zeo      & 5 & 2.55e-06\\\\\n\t 2017 & M & Zerrick  & 5 & 2.55e-06\\\\\n\t 2017 & M & Zevon    & 5 & 2.55e-06\\\\\n\t 2017 & M & Zhen     & 5 & 2.55e-06\\\\\n\t 2017 & M & Zhiyuan  & 5 & 2.55e-06\\\\\n\t 2017 & M & Zhyir    & 5 & 2.55e-06\\\\\n\t 2017 & M & Zikora   & 5 & 2.55e-06\\\\\n\t 2017 & M & Zionn    & 5 & 2.55e-06\\\\\n\t 2017 & M & Ziyang   & 5 & 2.55e-06\\\\\n\t 2017 & M & Zkari    & 5 & 2.55e-06\\\\\n\t 2017 & M & Zohaan   & 5 & 2.55e-06\\\\\n\t 2017 & M & Zoren    & 5 & 2.55e-06\\\\\n\t 2017 & M & Zorion   & 5 & 2.55e-06\\\\\n\t 2017 & M & Zubeyr   & 5 & 2.55e-06\\\\\n\t 2017 & M & Zy       & 5 & 2.55e-06\\\\\n\t 2017 & M & Zyel     & 5 & 2.55e-06\\\\\n\t 2017 & M & Zyheem   & 5 & 2.55e-06\\\\\n\t 2017 & M & Zyhier   & 5 & 2.55e-06\\\\\n\t 2017 & M & Zykai    & 5 & 2.55e-06\\\\\n\t 2017 & M & Zykeem   & 5 & 2.55e-06\\\\\n\t 2017 & M & Zylin    & 5 & 2.55e-06\\\\\n\t 2017 & M & Zylis    & 5 & 2.55e-06\\\\\n\t 2017 & M & Zyrie    & 5 & 2.55e-06\\\\\n\\end{tabular}\n",
            "text/plain": [
              "        year sex name      n    prop      \n",
              "1       1880 F   Mary      7065 0.07238359\n",
              "2       1880 F   Anna      2604 0.02667896\n",
              "3       1880 F   Emma      2003 0.02052149\n",
              "4       1880 F   Elizabeth 1939 0.01986579\n",
              "5       1880 F   Minnie    1746 0.01788843\n",
              "6       1880 F   Margaret  1578 0.01616720\n",
              "7       1880 F   Ida       1472 0.01508119\n",
              "8       1880 F   Alice     1414 0.01448696\n",
              "9       1880 F   Bertha    1320 0.01352390\n",
              "10      1880 F   Sarah     1288 0.01319605\n",
              "11      1880 F   Annie     1258 0.01288868\n",
              "12      1880 F   Clara     1226 0.01256083\n",
              "13      1880 F   Ella      1156 0.01184366\n",
              "14      1880 F   Florence  1063 0.01089084\n",
              "15      1880 F   Cora      1045 0.01070642\n",
              "16      1880 F   Martha    1040 0.01065519\n",
              "17      1880 F   Laura     1012 0.01036832\n",
              "18      1880 F   Nellie     995 0.01019415\n",
              "19      1880 F   Grace      982 0.01006096\n",
              "20      1880 F   Carrie     949 0.00972286\n",
              "21      1880 F   Maude      858 0.00879053\n",
              "22      1880 F   Mabel      808 0.00827826\n",
              "23      1880 F   Bessie     796 0.00815532\n",
              "24      1880 F   Jennie     793 0.00812458\n",
              "25      1880 F   Gertrude   787 0.00806311\n",
              "26      1880 F   Julia      783 0.00802213\n",
              "27      1880 F   Hattie     769 0.00787869\n",
              "28      1880 F   Edith      768 0.00786845\n",
              "29      1880 F   Mattie     704 0.00721275\n",
              "30      1880 F   Rose       700 0.00717176\n",
              "⋮       ⋮    ⋮   ⋮         ⋮    ⋮         \n",
              "1924636 2017 M   Zayer     5    2.55e-06  \n",
              "1924637 2017 M   Zayir     5    2.55e-06  \n",
              "1924638 2017 M   Zechari   5    2.55e-06  \n",
              "1924639 2017 M   Zecharia  5    2.55e-06  \n",
              "1924640 2017 M   Zee       5    2.55e-06  \n",
              "1924641 2017 M   Zeid      5    2.55e-06  \n",
              "1924642 2017 M   Zennith   5    2.55e-06  \n",
              "1924643 2017 M   Zeo       5    2.55e-06  \n",
              "1924644 2017 M   Zerrick   5    2.55e-06  \n",
              "1924645 2017 M   Zevon     5    2.55e-06  \n",
              "1924646 2017 M   Zhen      5    2.55e-06  \n",
              "1924647 2017 M   Zhiyuan   5    2.55e-06  \n",
              "1924648 2017 M   Zhyir     5    2.55e-06  \n",
              "1924649 2017 M   Zikora    5    2.55e-06  \n",
              "1924650 2017 M   Zionn     5    2.55e-06  \n",
              "1924651 2017 M   Ziyang    5    2.55e-06  \n",
              "1924652 2017 M   Zkari     5    2.55e-06  \n",
              "1924653 2017 M   Zohaan    5    2.55e-06  \n",
              "1924654 2017 M   Zoren     5    2.55e-06  \n",
              "1924655 2017 M   Zorion    5    2.55e-06  \n",
              "1924656 2017 M   Zubeyr    5    2.55e-06  \n",
              "1924657 2017 M   Zy        5    2.55e-06  \n",
              "1924658 2017 M   Zyel      5    2.55e-06  \n",
              "1924659 2017 M   Zyheem    5    2.55e-06  \n",
              "1924660 2017 M   Zyhier    5    2.55e-06  \n",
              "1924661 2017 M   Zykai     5    2.55e-06  \n",
              "1924662 2017 M   Zykeem    5    2.55e-06  \n",
              "1924663 2017 M   Zylin     5    2.55e-06  \n",
              "1924664 2017 M   Zylis     5    2.55e-06  \n",
              "1924665 2017 M   Zyrie     5    2.55e-06  "
            ]
          },
          "metadata": {}
        },
        {
          "output_type": "display_data",
          "data": {
            "text/html": [
              "<pre class=language-r><code>function (x, ...) \n",
              "UseMethod(\"print\")</code></pre>"
            ],
            "text/markdown": "```r\nfunction (x, ...) \nUseMethod(\"print\")\n```",
            "text/latex": "\\begin{minted}{r}\nfunction (x, ...) \nUseMethod(\"print\")\n\\end{minted}",
            "text/plain": [
              "function (x, ...) \n",
              "UseMethod(\"print\")\n",
              "<bytecode: 0x5637fe5a2270>\n",
              "<environment: namespace:base>"
            ]
          },
          "metadata": {}
        }
      ]
    },
    {
      "cell_type": "code",
      "source": [
        "min(babynames$year)"
      ],
      "metadata": {
        "colab": {
          "base_uri": "https://localhost:8080/",
          "height": 34
        },
        "id": "BIPREl7k8XVz",
        "outputId": "559f39bb-1197-4963-ffe0-c654f0a6ef46"
      },
      "execution_count": 69,
      "outputs": [
        {
          "output_type": "display_data",
          "data": {
            "text/html": [
              "1880"
            ],
            "text/markdown": "1880",
            "text/latex": "1880",
            "text/plain": [
              "[1] 1880"
            ]
          },
          "metadata": {}
        }
      ]
    },
    {
      "cell_type": "code",
      "source": [
        "max(babynames$year)"
      ],
      "metadata": {
        "colab": {
          "base_uri": "https://localhost:8080/",
          "height": 34
        },
        "id": "4Ontsx-N8aU0",
        "outputId": "7e5d7e6e-e8dc-4004-ca11-dc1079e36969"
      },
      "execution_count": 70,
      "outputs": [
        {
          "output_type": "display_data",
          "data": {
            "text/html": [
              "2017"
            ],
            "text/markdown": "2017",
            "text/latex": "2017",
            "text/plain": [
              "[1] 2017"
            ]
          },
          "metadata": {}
        }
      ]
    },
    {
      "cell_type": "code",
      "source": [
        "glimpse(babynames)"
      ],
      "metadata": {
        "colab": {
          "base_uri": "https://localhost:8080/"
        },
        "id": "2X4xD6ox9kMY",
        "outputId": "c1f4e062-33fb-496b-e13c-04a2b22828fe"
      },
      "execution_count": 76,
      "outputs": [
        {
          "output_type": "stream",
          "name": "stdout",
          "text": [
            "Rows: 1,924,665\n",
            "Columns: 5\n",
            "$ year \u001b[3m\u001b[90m<dbl>\u001b[39m\u001b[23m 1880, 1880, 1880, 1880, 1880, 1880, 1880, 1880, 1880, 1880, 1880,…\n",
            "$ sex  \u001b[3m\u001b[90m<chr>\u001b[39m\u001b[23m \"F\", \"F\", \"F\", \"F\", \"F\", \"F\", \"F\", \"F\", \"F\", \"F\", \"F\", \"F\", \"F\", …\n",
            "$ name \u001b[3m\u001b[90m<chr>\u001b[39m\u001b[23m \"Mary\", \"Anna\", \"Emma\", \"Elizabeth\", \"Minnie\", \"Margaret\", \"Ida\",…\n",
            "$ n    \u001b[3m\u001b[90m<int>\u001b[39m\u001b[23m 7065, 2604, 2003, 1939, 1746, 1578, 1472, 1414, 1320, 1288, 1258,…\n",
            "$ prop \u001b[3m\u001b[90m<dbl>\u001b[39m\u001b[23m 0.07238359, 0.02667896, 0.02052149, 0.01986579, 0.01788843, 0.016…\n"
          ]
        }
      ]
    },
    {
      "cell_type": "markdown",
      "metadata": {
        "id": "xzcgJDxTstpg"
      },
      "source": [
        "## Naming trends driven by migration\n",
        "What fraction of male names ended in \"o\", or female names in \"a\", over time?"
      ]
    },
    {
      "cell_type": "markdown",
      "metadata": {
        "id": "qS-qpovNstpg"
      },
      "source": [
        "To tackle this problem, we're going to need a way to extract the last character of a name. We will learn how to do this after the midterm when we study strings and text data. For now, you may use the following command:"
      ]
    },
    {
      "cell_type": "code",
      "execution_count": 75,
      "metadata": {
        "id": "m9x1hwKwstph",
        "outputId": "941f5daa-6008-4668-effa-ad44140d570b",
        "colab": {
          "base_uri": "https://localhost:8080/",
          "height": 34
        }
      },
      "outputs": [
        {
          "output_type": "display_data",
          "data": {
            "text/html": [
              "'o'"
            ],
            "text/markdown": "'o'",
            "text/latex": "'o'",
            "text/plain": [
              "[1] \"o\""
            ]
          },
          "metadata": {}
        }
      ],
      "source": [
        "str_sub('Alejandro', -1)"
      ]
    },
    {
      "cell_type": "code",
      "source": [
        "babynames%>%filter(str_sub(name,-1)=='o')"
      ],
      "metadata": {
        "colab": {
          "base_uri": "https://localhost:8080/",
          "height": 1000
        },
        "id": "JoYkkOY09N9j",
        "outputId": "d5d2bfc2-ad9d-477a-96b9-350136832597"
      },
      "execution_count": 74,
      "outputs": [
        {
          "output_type": "display_data",
          "data": {
            "text/html": [
              "<table class=\"dataframe\">\n",
              "<caption>A tibble: 68408 × 5</caption>\n",
              "<thead>\n",
              "\t<tr><th scope=col>year</th><th scope=col>sex</th><th scope=col>name</th><th scope=col>n</th><th scope=col>prop</th></tr>\n",
              "\t<tr><th scope=col>&lt;dbl&gt;</th><th scope=col>&lt;chr&gt;</th><th scope=col>&lt;chr&gt;</th><th scope=col>&lt;int&gt;</th><th scope=col>&lt;dbl&gt;</th></tr>\n",
              "</thead>\n",
              "<tbody>\n",
              "\t<tr><td>1880</td><td>F</td><td>Cleo     </td><td> 17</td><td>0.00017417</td></tr>\n",
              "\t<tr><td>1880</td><td>F</td><td>Theo     </td><td>  7</td><td>0.00007172</td></tr>\n",
              "\t<tr><td>1880</td><td>F</td><td>Leo      </td><td>  6</td><td>0.00006147</td></tr>\n",
              "\t<tr><td>1880</td><td>M</td><td>Otto     </td><td>271</td><td>0.00228885</td></tr>\n",
              "\t<tr><td>1880</td><td>M</td><td>Leo      </td><td>147</td><td>0.00124155</td></tr>\n",
              "\t<tr><td>1880</td><td>M</td><td>Alonzo   </td><td>122</td><td>0.00103041</td></tr>\n",
              "\t<tr><td>1880</td><td>M</td><td>Lorenzo  </td><td> 48</td><td>0.00040541</td></tr>\n",
              "\t<tr><td>1880</td><td>M</td><td>Pedro    </td><td> 31</td><td>0.00026182</td></tr>\n",
              "\t<tr><td>1880</td><td>M</td><td>Antonio  </td><td> 26</td><td>0.00021959</td></tr>\n",
              "\t<tr><td>1880</td><td>M</td><td>Milo     </td><td> 26</td><td>0.00021959</td></tr>\n",
              "\t<tr><td>1880</td><td>M</td><td>Hugo     </td><td> 24</td><td>0.00020270</td></tr>\n",
              "\t<tr><td>1880</td><td>M</td><td>Francisco</td><td> 19</td><td>0.00016047</td></tr>\n",
              "\t<tr><td>1880</td><td>M</td><td>Otho     </td><td> 18</td><td>0.00015203</td></tr>\n",
              "\t<tr><td>1880</td><td>M</td><td>Geo      </td><td> 16</td><td>0.00013514</td></tr>\n",
              "\t<tr><td>1880</td><td>M</td><td>Orlando  </td><td> 16</td><td>0.00013514</td></tr>\n",
              "\t<tr><td>1880</td><td>M</td><td>Elmo     </td><td> 15</td><td>0.00012669</td></tr>\n",
              "\t<tr><td>1880</td><td>M</td><td>Horatio  </td><td> 15</td><td>0.00012669</td></tr>\n",
              "\t<tr><td>1880</td><td>M</td><td>Cicero   </td><td> 14</td><td>0.00011824</td></tr>\n",
              "\t<tr><td>1880</td><td>M</td><td>Santiago </td><td> 12</td><td>0.00010135</td></tr>\n",
              "\t<tr><td>1880</td><td>M</td><td>Pablo    </td><td> 11</td><td>0.00009291</td></tr>\n",
              "\t<tr><td>1880</td><td>M</td><td>Lonzo    </td><td> 10</td><td>0.00008446</td></tr>\n",
              "\t<tr><td>1880</td><td>M</td><td>Waldo    </td><td> 10</td><td>0.00008446</td></tr>\n",
              "\t<tr><td>1880</td><td>M</td><td>Theo     </td><td>  9</td><td>0.00007601</td></tr>\n",
              "\t<tr><td>1880</td><td>M</td><td>Fernando </td><td>  8</td><td>0.00006757</td></tr>\n",
              "\t<tr><td>1880</td><td>M</td><td>Romeo    </td><td>  8</td><td>0.00006757</td></tr>\n",
              "\t<tr><td>1880</td><td>M</td><td>Benito   </td><td>  7</td><td>0.00005912</td></tr>\n",
              "\t<tr><td>1880</td><td>M</td><td>Bruno    </td><td>  7</td><td>0.00005912</td></tr>\n",
              "\t<tr><td>1880</td><td>M</td><td>Anastacio</td><td>  6</td><td>0.00005068</td></tr>\n",
              "\t<tr><td>1880</td><td>M</td><td>Candido  </td><td>  6</td><td>0.00005068</td></tr>\n",
              "\t<tr><td>1880</td><td>M</td><td>Cato     </td><td>  6</td><td>0.00005068</td></tr>\n",
              "\t<tr><td>⋮</td><td>⋮</td><td>⋮</td><td>⋮</td><td>⋮</td></tr>\n",
              "\t<tr><td>2017</td><td>M</td><td>Milliano </td><td>5</td><td>2.55e-06</td></tr>\n",
              "\t<tr><td>2017</td><td>M</td><td>Nilo     </td><td>5</td><td>2.55e-06</td></tr>\n",
              "\t<tr><td>2017</td><td>M</td><td>Nuno     </td><td>5</td><td>2.55e-06</td></tr>\n",
              "\t<tr><td>2017</td><td>M</td><td>Octaviano</td><td>5</td><td>2.55e-06</td></tr>\n",
              "\t<tr><td>2017</td><td>M</td><td>Omario   </td><td>5</td><td>2.55e-06</td></tr>\n",
              "\t<tr><td>2017</td><td>M</td><td>Ovidio   </td><td>5</td><td>2.55e-06</td></tr>\n",
              "\t<tr><td>2017</td><td>M</td><td>Paco     </td><td>5</td><td>2.55e-06</td></tr>\n",
              "\t<tr><td>2017</td><td>M</td><td>Rayo     </td><td>5</td><td>2.55e-06</td></tr>\n",
              "\t<tr><td>2017</td><td>M</td><td>Regino   </td><td>5</td><td>2.55e-06</td></tr>\n",
              "\t<tr><td>2017</td><td>M</td><td>Ringo    </td><td>5</td><td>2.55e-06</td></tr>\n",
              "\t<tr><td>2017</td><td>M</td><td>Rosco    </td><td>5</td><td>2.55e-06</td></tr>\n",
              "\t<tr><td>2017</td><td>M</td><td>Rudolfo  </td><td>5</td><td>2.55e-06</td></tr>\n",
              "\t<tr><td>2017</td><td>M</td><td>Seferino </td><td>5</td><td>2.55e-06</td></tr>\n",
              "\t<tr><td>2017</td><td>M</td><td>Severino </td><td>5</td><td>2.55e-06</td></tr>\n",
              "\t<tr><td>2017</td><td>M</td><td>Severo   </td><td>5</td><td>2.55e-06</td></tr>\n",
              "\t<tr><td>2017</td><td>M</td><td>Shamario </td><td>5</td><td>2.55e-06</td></tr>\n",
              "\t<tr><td>2017</td><td>M</td><td>Shogo    </td><td>5</td><td>2.55e-06</td></tr>\n",
              "\t<tr><td>2017</td><td>M</td><td>Shuo     </td><td>5</td><td>2.55e-06</td></tr>\n",
              "\t<tr><td>2017</td><td>M</td><td>So       </td><td>5</td><td>2.55e-06</td></tr>\n",
              "\t<tr><td>2017</td><td>M</td><td>Sotero   </td><td>5</td><td>2.55e-06</td></tr>\n",
              "\t<tr><td>2017</td><td>M</td><td>Taino    </td><td>5</td><td>2.55e-06</td></tr>\n",
              "\t<tr><td>2017</td><td>M</td><td>Takuto   </td><td>5</td><td>2.55e-06</td></tr>\n",
              "\t<tr><td>2017</td><td>M</td><td>Teofilo  </td><td>5</td><td>2.55e-06</td></tr>\n",
              "\t<tr><td>2017</td><td>M</td><td>Toribio  </td><td>5</td><td>2.55e-06</td></tr>\n",
              "\t<tr><td>2017</td><td>M</td><td>Uvaldo   </td><td>5</td><td>2.55e-06</td></tr>\n",
              "\t<tr><td>2017</td><td>M</td><td>Vasco    </td><td>5</td><td>2.55e-06</td></tr>\n",
              "\t<tr><td>2017</td><td>M</td><td>Victorio </td><td>5</td><td>2.55e-06</td></tr>\n",
              "\t<tr><td>2017</td><td>M</td><td>Vinchenzo</td><td>5</td><td>2.55e-06</td></tr>\n",
              "\t<tr><td>2017</td><td>M</td><td>Zao      </td><td>5</td><td>2.55e-06</td></tr>\n",
              "\t<tr><td>2017</td><td>M</td><td>Zeo      </td><td>5</td><td>2.55e-06</td></tr>\n",
              "</tbody>\n",
              "</table>\n"
            ],
            "text/markdown": "\nA tibble: 68408 × 5\n\n| year &lt;dbl&gt; | sex &lt;chr&gt; | name &lt;chr&gt; | n &lt;int&gt; | prop &lt;dbl&gt; |\n|---|---|---|---|---|\n| 1880 | F | Cleo      |  17 | 0.00017417 |\n| 1880 | F | Theo      |   7 | 0.00007172 |\n| 1880 | F | Leo       |   6 | 0.00006147 |\n| 1880 | M | Otto      | 271 | 0.00228885 |\n| 1880 | M | Leo       | 147 | 0.00124155 |\n| 1880 | M | Alonzo    | 122 | 0.00103041 |\n| 1880 | M | Lorenzo   |  48 | 0.00040541 |\n| 1880 | M | Pedro     |  31 | 0.00026182 |\n| 1880 | M | Antonio   |  26 | 0.00021959 |\n| 1880 | M | Milo      |  26 | 0.00021959 |\n| 1880 | M | Hugo      |  24 | 0.00020270 |\n| 1880 | M | Francisco |  19 | 0.00016047 |\n| 1880 | M | Otho      |  18 | 0.00015203 |\n| 1880 | M | Geo       |  16 | 0.00013514 |\n| 1880 | M | Orlando   |  16 | 0.00013514 |\n| 1880 | M | Elmo      |  15 | 0.00012669 |\n| 1880 | M | Horatio   |  15 | 0.00012669 |\n| 1880 | M | Cicero    |  14 | 0.00011824 |\n| 1880 | M | Santiago  |  12 | 0.00010135 |\n| 1880 | M | Pablo     |  11 | 0.00009291 |\n| 1880 | M | Lonzo     |  10 | 0.00008446 |\n| 1880 | M | Waldo     |  10 | 0.00008446 |\n| 1880 | M | Theo      |   9 | 0.00007601 |\n| 1880 | M | Fernando  |   8 | 0.00006757 |\n| 1880 | M | Romeo     |   8 | 0.00006757 |\n| 1880 | M | Benito    |   7 | 0.00005912 |\n| 1880 | M | Bruno     |   7 | 0.00005912 |\n| 1880 | M | Anastacio |   6 | 0.00005068 |\n| 1880 | M | Candido   |   6 | 0.00005068 |\n| 1880 | M | Cato      |   6 | 0.00005068 |\n| ⋮ | ⋮ | ⋮ | ⋮ | ⋮ |\n| 2017 | M | Milliano  | 5 | 2.55e-06 |\n| 2017 | M | Nilo      | 5 | 2.55e-06 |\n| 2017 | M | Nuno      | 5 | 2.55e-06 |\n| 2017 | M | Octaviano | 5 | 2.55e-06 |\n| 2017 | M | Omario    | 5 | 2.55e-06 |\n| 2017 | M | Ovidio    | 5 | 2.55e-06 |\n| 2017 | M | Paco      | 5 | 2.55e-06 |\n| 2017 | M | Rayo      | 5 | 2.55e-06 |\n| 2017 | M | Regino    | 5 | 2.55e-06 |\n| 2017 | M | Ringo     | 5 | 2.55e-06 |\n| 2017 | M | Rosco     | 5 | 2.55e-06 |\n| 2017 | M | Rudolfo   | 5 | 2.55e-06 |\n| 2017 | M | Seferino  | 5 | 2.55e-06 |\n| 2017 | M | Severino  | 5 | 2.55e-06 |\n| 2017 | M | Severo    | 5 | 2.55e-06 |\n| 2017 | M | Shamario  | 5 | 2.55e-06 |\n| 2017 | M | Shogo     | 5 | 2.55e-06 |\n| 2017 | M | Shuo      | 5 | 2.55e-06 |\n| 2017 | M | So        | 5 | 2.55e-06 |\n| 2017 | M | Sotero    | 5 | 2.55e-06 |\n| 2017 | M | Taino     | 5 | 2.55e-06 |\n| 2017 | M | Takuto    | 5 | 2.55e-06 |\n| 2017 | M | Teofilo   | 5 | 2.55e-06 |\n| 2017 | M | Toribio   | 5 | 2.55e-06 |\n| 2017 | M | Uvaldo    | 5 | 2.55e-06 |\n| 2017 | M | Vasco     | 5 | 2.55e-06 |\n| 2017 | M | Victorio  | 5 | 2.55e-06 |\n| 2017 | M | Vinchenzo | 5 | 2.55e-06 |\n| 2017 | M | Zao       | 5 | 2.55e-06 |\n| 2017 | M | Zeo       | 5 | 2.55e-06 |\n\n",
            "text/latex": "A tibble: 68408 × 5\n\\begin{tabular}{lllll}\n year & sex & name & n & prop\\\\\n <dbl> & <chr> & <chr> & <int> & <dbl>\\\\\n\\hline\n\t 1880 & F & Cleo      &  17 & 0.00017417\\\\\n\t 1880 & F & Theo      &   7 & 0.00007172\\\\\n\t 1880 & F & Leo       &   6 & 0.00006147\\\\\n\t 1880 & M & Otto      & 271 & 0.00228885\\\\\n\t 1880 & M & Leo       & 147 & 0.00124155\\\\\n\t 1880 & M & Alonzo    & 122 & 0.00103041\\\\\n\t 1880 & M & Lorenzo   &  48 & 0.00040541\\\\\n\t 1880 & M & Pedro     &  31 & 0.00026182\\\\\n\t 1880 & M & Antonio   &  26 & 0.00021959\\\\\n\t 1880 & M & Milo      &  26 & 0.00021959\\\\\n\t 1880 & M & Hugo      &  24 & 0.00020270\\\\\n\t 1880 & M & Francisco &  19 & 0.00016047\\\\\n\t 1880 & M & Otho      &  18 & 0.00015203\\\\\n\t 1880 & M & Geo       &  16 & 0.00013514\\\\\n\t 1880 & M & Orlando   &  16 & 0.00013514\\\\\n\t 1880 & M & Elmo      &  15 & 0.00012669\\\\\n\t 1880 & M & Horatio   &  15 & 0.00012669\\\\\n\t 1880 & M & Cicero    &  14 & 0.00011824\\\\\n\t 1880 & M & Santiago  &  12 & 0.00010135\\\\\n\t 1880 & M & Pablo     &  11 & 0.00009291\\\\\n\t 1880 & M & Lonzo     &  10 & 0.00008446\\\\\n\t 1880 & M & Waldo     &  10 & 0.00008446\\\\\n\t 1880 & M & Theo      &   9 & 0.00007601\\\\\n\t 1880 & M & Fernando  &   8 & 0.00006757\\\\\n\t 1880 & M & Romeo     &   8 & 0.00006757\\\\\n\t 1880 & M & Benito    &   7 & 0.00005912\\\\\n\t 1880 & M & Bruno     &   7 & 0.00005912\\\\\n\t 1880 & M & Anastacio &   6 & 0.00005068\\\\\n\t 1880 & M & Candido   &   6 & 0.00005068\\\\\n\t 1880 & M & Cato      &   6 & 0.00005068\\\\\n\t ⋮ & ⋮ & ⋮ & ⋮ & ⋮\\\\\n\t 2017 & M & Milliano  & 5 & 2.55e-06\\\\\n\t 2017 & M & Nilo      & 5 & 2.55e-06\\\\\n\t 2017 & M & Nuno      & 5 & 2.55e-06\\\\\n\t 2017 & M & Octaviano & 5 & 2.55e-06\\\\\n\t 2017 & M & Omario    & 5 & 2.55e-06\\\\\n\t 2017 & M & Ovidio    & 5 & 2.55e-06\\\\\n\t 2017 & M & Paco      & 5 & 2.55e-06\\\\\n\t 2017 & M & Rayo      & 5 & 2.55e-06\\\\\n\t 2017 & M & Regino    & 5 & 2.55e-06\\\\\n\t 2017 & M & Ringo     & 5 & 2.55e-06\\\\\n\t 2017 & M & Rosco     & 5 & 2.55e-06\\\\\n\t 2017 & M & Rudolfo   & 5 & 2.55e-06\\\\\n\t 2017 & M & Seferino  & 5 & 2.55e-06\\\\\n\t 2017 & M & Severino  & 5 & 2.55e-06\\\\\n\t 2017 & M & Severo    & 5 & 2.55e-06\\\\\n\t 2017 & M & Shamario  & 5 & 2.55e-06\\\\\n\t 2017 & M & Shogo     & 5 & 2.55e-06\\\\\n\t 2017 & M & Shuo      & 5 & 2.55e-06\\\\\n\t 2017 & M & So        & 5 & 2.55e-06\\\\\n\t 2017 & M & Sotero    & 5 & 2.55e-06\\\\\n\t 2017 & M & Taino     & 5 & 2.55e-06\\\\\n\t 2017 & M & Takuto    & 5 & 2.55e-06\\\\\n\t 2017 & M & Teofilo   & 5 & 2.55e-06\\\\\n\t 2017 & M & Toribio   & 5 & 2.55e-06\\\\\n\t 2017 & M & Uvaldo    & 5 & 2.55e-06\\\\\n\t 2017 & M & Vasco     & 5 & 2.55e-06\\\\\n\t 2017 & M & Victorio  & 5 & 2.55e-06\\\\\n\t 2017 & M & Vinchenzo & 5 & 2.55e-06\\\\\n\t 2017 & M & Zao       & 5 & 2.55e-06\\\\\n\t 2017 & M & Zeo       & 5 & 2.55e-06\\\\\n\\end{tabular}\n",
            "text/plain": [
              "      year sex name      n   prop      \n",
              "1     1880 F   Cleo       17 0.00017417\n",
              "2     1880 F   Theo        7 0.00007172\n",
              "3     1880 F   Leo         6 0.00006147\n",
              "4     1880 M   Otto      271 0.00228885\n",
              "5     1880 M   Leo       147 0.00124155\n",
              "6     1880 M   Alonzo    122 0.00103041\n",
              "7     1880 M   Lorenzo    48 0.00040541\n",
              "8     1880 M   Pedro      31 0.00026182\n",
              "9     1880 M   Antonio    26 0.00021959\n",
              "10    1880 M   Milo       26 0.00021959\n",
              "11    1880 M   Hugo       24 0.00020270\n",
              "12    1880 M   Francisco  19 0.00016047\n",
              "13    1880 M   Otho       18 0.00015203\n",
              "14    1880 M   Geo        16 0.00013514\n",
              "15    1880 M   Orlando    16 0.00013514\n",
              "16    1880 M   Elmo       15 0.00012669\n",
              "17    1880 M   Horatio    15 0.00012669\n",
              "18    1880 M   Cicero     14 0.00011824\n",
              "19    1880 M   Santiago   12 0.00010135\n",
              "20    1880 M   Pablo      11 0.00009291\n",
              "21    1880 M   Lonzo      10 0.00008446\n",
              "22    1880 M   Waldo      10 0.00008446\n",
              "23    1880 M   Theo        9 0.00007601\n",
              "24    1880 M   Fernando    8 0.00006757\n",
              "25    1880 M   Romeo       8 0.00006757\n",
              "26    1880 M   Benito      7 0.00005912\n",
              "27    1880 M   Bruno       7 0.00005912\n",
              "28    1880 M   Anastacio   6 0.00005068\n",
              "29    1880 M   Candido     6 0.00005068\n",
              "30    1880 M   Cato        6 0.00005068\n",
              "⋮     ⋮    ⋮   ⋮         ⋮   ⋮         \n",
              "68379 2017 M   Milliano  5   2.55e-06  \n",
              "68380 2017 M   Nilo      5   2.55e-06  \n",
              "68381 2017 M   Nuno      5   2.55e-06  \n",
              "68382 2017 M   Octaviano 5   2.55e-06  \n",
              "68383 2017 M   Omario    5   2.55e-06  \n",
              "68384 2017 M   Ovidio    5   2.55e-06  \n",
              "68385 2017 M   Paco      5   2.55e-06  \n",
              "68386 2017 M   Rayo      5   2.55e-06  \n",
              "68387 2017 M   Regino    5   2.55e-06  \n",
              "68388 2017 M   Ringo     5   2.55e-06  \n",
              "68389 2017 M   Rosco     5   2.55e-06  \n",
              "68390 2017 M   Rudolfo   5   2.55e-06  \n",
              "68391 2017 M   Seferino  5   2.55e-06  \n",
              "68392 2017 M   Severino  5   2.55e-06  \n",
              "68393 2017 M   Severo    5   2.55e-06  \n",
              "68394 2017 M   Shamario  5   2.55e-06  \n",
              "68395 2017 M   Shogo     5   2.55e-06  \n",
              "68396 2017 M   Shuo      5   2.55e-06  \n",
              "68397 2017 M   So        5   2.55e-06  \n",
              "68398 2017 M   Sotero    5   2.55e-06  \n",
              "68399 2017 M   Taino     5   2.55e-06  \n",
              "68400 2017 M   Takuto    5   2.55e-06  \n",
              "68401 2017 M   Teofilo   5   2.55e-06  \n",
              "68402 2017 M   Toribio   5   2.55e-06  \n",
              "68403 2017 M   Uvaldo    5   2.55e-06  \n",
              "68404 2017 M   Vasco     5   2.55e-06  \n",
              "68405 2017 M   Victorio  5   2.55e-06  \n",
              "68406 2017 M   Vinchenzo 5   2.55e-06  \n",
              "68407 2017 M   Zao       5   2.55e-06  \n",
              "68408 2017 M   Zeo       5   2.55e-06  "
            ]
          },
          "metadata": {}
        }
      ]
    },
    {
      "cell_type": "code",
      "execution_count": null,
      "metadata": {
        "id": "ErusEU2Pstph"
      },
      "outputs": [],
      "source": [
        "# What fraction of male names ended in o, or female names in a, over time?"
      ]
    },
    {
      "cell_type": "markdown",
      "metadata": {
        "id": "Ym62A5CSstph"
      },
      "source": [
        "![image-2.png](attachment:image-2.png)"
      ]
    },
    {
      "cell_type": "code",
      "execution_count": null,
      "metadata": {
        "id": "eEOLik1zstph",
        "outputId": "18024375-bc20-4b7b-9520-423b882e85ae"
      },
      "outputs": [
        {
          "data": {
            "image/png": "[encoded data removed]",
            "text/plain": [
              "plot without title"
            ]
          },
          "metadata": {
            "image/png": {
              "height": 300,
              "width": 480
            }
          },
          "output_type": "display_data"
        }
      ],
      "source": [
        "# code for this plot\n",
        "library(htmltab)\n",
        "url <- \"https://www.pewresearch.org/hispanic/2017/09/18/2015-statistical-information-on-hispanics-in-united-states/\"\n",
        "htmltab(url, which=3) %>% gather(key=\"Ethnicity\", value=\"Percent of Population\", -1) %>% \n",
        "      mutate(\"Percent of Population\" = as.numeric(str_sub(`Percent of Population`, end = -2)),\n",
        "             Year = as.integer(Year)) %>% \n",
        "      ggplot + geom_area(aes(x=Year, y=`Percent of Population`, fill=`Ethnicity`)) +\n",
        "      theme_classic() + scale_fill_brewer(palette = \"Set1\")  + labs(title=\"Ethnicity in the US\")"
      ]
    }
  ],
  "metadata": {
    "celltoolbar": "Slideshow",
    "kernelspec": {
      "display_name": "R",
      "language": "R",
      "name": "ir"
    },
    "language_info": {
      "codemirror_mode": "r",
      "file_extension": ".r",
      "mimetype": "text/x-r-source",
      "name": "R",
      "pygments_lexer": "r",
      "version": "4.2.2"
    },
    "colab": {
      "provenance": [],
      "include_colab_link": true
    }
  },
  "nbformat": 4,
  "nbformat_minor": 0
}