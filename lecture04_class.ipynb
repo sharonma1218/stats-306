{
  "cells": [
    {
      "cell_type": "markdown",
      "metadata": {
        "id": "view-in-github",
        "colab_type": "text"
      },
      "source": [
        "<a href=\"https://colab.research.google.com/github/sharonma1218/stats-306/blob/main/lecture04_class.ipynb\" target=\"_parent\"><img src=\"https://colab.research.google.com/assets/colab-badge.svg\" alt=\"Open In Colab\"/></a>"
      ]
    },
    {
      "cell_type": "code",
      "source": [
        "install.packages('nycflights13')"
      ],
      "metadata": {
        "colab": {
          "base_uri": "https://localhost:8080/"
        },
        "id": "LtoV4_IRcqCf",
        "outputId": "73777dcb-0b6b-4634-a82d-3112692057bc"
      },
      "execution_count": 2,
      "outputs": [
        {
          "output_type": "stream",
          "name": "stderr",
          "text": [
            "Installing package into ‘/usr/local/lib/R/site-library’\n",
            "(as ‘lib’ is unspecified)\n",
            "\n"
          ]
        }
      ]
    },
    {
      "cell_type": "code",
      "execution_count": 1,
      "metadata": {
        "id": "IRnE12LIchQG",
        "colab": {
          "base_uri": "https://localhost:8080/"
        },
        "outputId": "ceb4d2b2-f819-461d-a197-ebe894741f78"
      },
      "outputs": [
        {
          "output_type": "stream",
          "name": "stderr",
          "text": [
            "Warning message in system(\"timedatectl\", intern = TRUE):\n",
            "“running command 'timedatectl' had status 1”\n",
            "── \u001b[1mAttaching packages\u001b[22m ─────────────────────────────────────── tidyverse 1.3.1 ──\n",
            "\n",
            "\u001b[32m✔\u001b[39m \u001b[34mggplot2\u001b[39m 3.4.0      \u001b[32m✔\u001b[39m \u001b[34mpurrr  \u001b[39m 1.0.1 \n",
            "\u001b[32m✔\u001b[39m \u001b[34mtibble \u001b[39m 3.1.8      \u001b[32m✔\u001b[39m \u001b[34mdplyr  \u001b[39m 1.0.10\n",
            "\u001b[32m✔\u001b[39m \u001b[34mtidyr  \u001b[39m 1.2.1      \u001b[32m✔\u001b[39m \u001b[34mstringr\u001b[39m 1.4.1 \n",
            "\u001b[32m✔\u001b[39m \u001b[34mreadr  \u001b[39m 2.1.3      \u001b[32m✔\u001b[39m \u001b[34mforcats\u001b[39m 0.5.2 \n",
            "\n",
            "── \u001b[1mConflicts\u001b[22m ────────────────────────────────────────── tidyverse_conflicts() ──\n",
            "\u001b[31m✖\u001b[39m \u001b[34mdplyr\u001b[39m::\u001b[32mfilter()\u001b[39m masks \u001b[34mstats\u001b[39m::filter()\n",
            "\u001b[31m✖\u001b[39m \u001b[34mdplyr\u001b[39m::\u001b[32mlag()\u001b[39m    masks \u001b[34mstats\u001b[39m::lag()\n",
            "\n"
          ]
        }
      ],
      "source": [
        "options(repr.plot.width=8, repr.plot.height=5)\n",
        "library(tidyverse)"
      ]
    },
    {
      "cell_type": "code",
      "source": [
        "library(nycflights13)"
      ],
      "metadata": {
        "id": "9JbBtwsPctns"
      },
      "execution_count": 3,
      "outputs": []
    },
    {
      "cell_type": "markdown",
      "metadata": {
        "id": "JCDDQNbCchQM"
      },
      "source": [
        "## Questions from Piazza and the exit poll\n",
        "- \"I am still really confused about `ungroup()`"
      ]
    },
    {
      "cell_type": "code",
      "source": [
        "flights%>%\n",
        "  group_by(year,month,day)%>%\n",
        "  top_n(10,dep_delay)%>%\n",
        "  print"
      ],
      "metadata": {
        "colab": {
          "base_uri": "https://localhost:8080/"
        },
        "id": "zRYtGb-ddP0k",
        "outputId": "b93e66df-29fa-4e72-9c8e-639a0c5eeff4"
      },
      "execution_count": 4,
      "outputs": [
        {
          "output_type": "stream",
          "name": "stdout",
          "text": [
            "\u001b[90m# A tibble: 3,681 × 19\u001b[39m\n",
            "\u001b[90m# Groups:   year, month, day [365]\u001b[39m\n",
            "    year month   day dep_time sched_de…¹ dep_d…² arr_t…³ sched…⁴ arr_d…⁵ carrier\n",
            "   \u001b[3m\u001b[90m<int>\u001b[39m\u001b[23m \u001b[3m\u001b[90m<int>\u001b[39m\u001b[23m \u001b[3m\u001b[90m<int>\u001b[39m\u001b[23m    \u001b[3m\u001b[90m<int>\u001b[39m\u001b[23m      \u001b[3m\u001b[90m<int>\u001b[39m\u001b[23m   \u001b[3m\u001b[90m<dbl>\u001b[39m\u001b[23m   \u001b[3m\u001b[90m<int>\u001b[39m\u001b[23m   \u001b[3m\u001b[90m<int>\u001b[39m\u001b[23m   \u001b[3m\u001b[90m<dbl>\u001b[39m\u001b[23m \u001b[3m\u001b[90m<chr>\u001b[39m\u001b[23m  \n",
            "\u001b[90m 1\u001b[39m  \u001b[4m2\u001b[24m013     1     1      848       \u001b[4m1\u001b[24m835     853    \u001b[4m1\u001b[24m001    \u001b[4m1\u001b[24m950     851 MQ     \n",
            "\u001b[90m 2\u001b[39m  \u001b[4m2\u001b[24m013     1     1     \u001b[4m1\u001b[24m815       \u001b[4m1\u001b[24m325     290    \u001b[4m2\u001b[24m120    \u001b[4m1\u001b[24m542     338 EV     \n",
            "\u001b[90m 3\u001b[39m  \u001b[4m2\u001b[24m013     1     1     \u001b[4m1\u001b[24m842       \u001b[4m1\u001b[24m422     260    \u001b[4m1\u001b[24m958    \u001b[4m1\u001b[24m535     263 EV     \n",
            "\u001b[90m 4\u001b[39m  \u001b[4m2\u001b[24m013     1     1     \u001b[4m1\u001b[24m938       \u001b[4m1\u001b[24m703     155    \u001b[4m2\u001b[24m109    \u001b[4m1\u001b[24m823     166 EV     \n",
            "\u001b[90m 5\u001b[39m  \u001b[4m2\u001b[24m013     1     1     \u001b[4m1\u001b[24m942       \u001b[4m1\u001b[24m705     157    \u001b[4m2\u001b[24m124    \u001b[4m1\u001b[24m830     174 MQ     \n",
            "\u001b[90m 6\u001b[39m  \u001b[4m2\u001b[24m013     1     1     \u001b[4m2\u001b[24m006       \u001b[4m1\u001b[24m630     216    \u001b[4m2\u001b[24m230    \u001b[4m1\u001b[24m848     222 EV     \n",
            "\u001b[90m 7\u001b[39m  \u001b[4m2\u001b[24m013     1     1     \u001b[4m2\u001b[24m115       \u001b[4m1\u001b[24m700     255    \u001b[4m2\u001b[24m330    \u001b[4m1\u001b[24m920     250 9E     \n",
            "\u001b[90m 8\u001b[39m  \u001b[4m2\u001b[24m013     1     1     \u001b[4m2\u001b[24m205       \u001b[4m1\u001b[24m720     285      46    \u001b[4m2\u001b[24m040     246 AA     \n",
            "\u001b[90m 9\u001b[39m  \u001b[4m2\u001b[24m013     1     1     \u001b[4m2\u001b[24m312       \u001b[4m2\u001b[24m000     192      21    \u001b[4m2\u001b[24m110     191 EV     \n",
            "\u001b[90m10\u001b[39m  \u001b[4m2\u001b[24m013     1     1     \u001b[4m2\u001b[24m343       \u001b[4m1\u001b[24m724     379     314    \u001b[4m1\u001b[24m938     456 EV     \n",
            "\u001b[90m# … with 3,671 more rows, 9 more variables: flight <int>, tailnum <chr>,\u001b[39m\n",
            "\u001b[90m#   origin <chr>, dest <chr>, air_time <dbl>, distance <dbl>, hour <dbl>,\u001b[39m\n",
            "\u001b[90m#   minute <dbl>, time_hour <dttm>, and abbreviated variable names\u001b[39m\n",
            "\u001b[90m#   ¹​sched_dep_time, ²​dep_delay, ³​arr_time, ⁴​sched_arr_time, ⁵​arr_delay\u001b[39m\n"
          ]
        }
      ]
    },
    {
      "cell_type": "code",
      "source": [
        "flights%>%\n",
        "  group_by(year,month,day)%>%\n",
        "  top_n(10,dep_delay)%>%\n",
        "  head(20)%>%\n",
        "  print\n",
        "# 10 most delayed flights for 1/1, 10 most delayed flights for 1/2, so on"
      ],
      "metadata": {
        "colab": {
          "base_uri": "https://localhost:8080/"
        },
        "id": "ARE3u74kdXuW",
        "outputId": "dfc386a2-959a-4ed9-bbbe-32319b6ff88c"
      },
      "execution_count": 5,
      "outputs": [
        {
          "output_type": "stream",
          "name": "stdout",
          "text": [
            "\u001b[90m# A tibble: 20 × 19\u001b[39m\n",
            "\u001b[90m# Groups:   year, month, day [2]\u001b[39m\n",
            "    year month   day dep_time sched_de…¹ dep_d…² arr_t…³ sched…⁴ arr_d…⁵ carrier\n",
            "   \u001b[3m\u001b[90m<int>\u001b[39m\u001b[23m \u001b[3m\u001b[90m<int>\u001b[39m\u001b[23m \u001b[3m\u001b[90m<int>\u001b[39m\u001b[23m    \u001b[3m\u001b[90m<int>\u001b[39m\u001b[23m      \u001b[3m\u001b[90m<int>\u001b[39m\u001b[23m   \u001b[3m\u001b[90m<dbl>\u001b[39m\u001b[23m   \u001b[3m\u001b[90m<int>\u001b[39m\u001b[23m   \u001b[3m\u001b[90m<int>\u001b[39m\u001b[23m   \u001b[3m\u001b[90m<dbl>\u001b[39m\u001b[23m \u001b[3m\u001b[90m<chr>\u001b[39m\u001b[23m  \n",
            "\u001b[90m 1\u001b[39m  \u001b[4m2\u001b[24m013     1     1      848       \u001b[4m1\u001b[24m835     853    \u001b[4m1\u001b[24m001    \u001b[4m1\u001b[24m950     851 MQ     \n",
            "\u001b[90m 2\u001b[39m  \u001b[4m2\u001b[24m013     1     1     \u001b[4m1\u001b[24m815       \u001b[4m1\u001b[24m325     290    \u001b[4m2\u001b[24m120    \u001b[4m1\u001b[24m542     338 EV     \n",
            "\u001b[90m 3\u001b[39m  \u001b[4m2\u001b[24m013     1     1     \u001b[4m1\u001b[24m842       \u001b[4m1\u001b[24m422     260    \u001b[4m1\u001b[24m958    \u001b[4m1\u001b[24m535     263 EV     \n",
            "\u001b[90m 4\u001b[39m  \u001b[4m2\u001b[24m013     1     1     \u001b[4m1\u001b[24m938       \u001b[4m1\u001b[24m703     155    \u001b[4m2\u001b[24m109    \u001b[4m1\u001b[24m823     166 EV     \n",
            "\u001b[90m 5\u001b[39m  \u001b[4m2\u001b[24m013     1     1     \u001b[4m1\u001b[24m942       \u001b[4m1\u001b[24m705     157    \u001b[4m2\u001b[24m124    \u001b[4m1\u001b[24m830     174 MQ     \n",
            "\u001b[90m 6\u001b[39m  \u001b[4m2\u001b[24m013     1     1     \u001b[4m2\u001b[24m006       \u001b[4m1\u001b[24m630     216    \u001b[4m2\u001b[24m230    \u001b[4m1\u001b[24m848     222 EV     \n",
            "\u001b[90m 7\u001b[39m  \u001b[4m2\u001b[24m013     1     1     \u001b[4m2\u001b[24m115       \u001b[4m1\u001b[24m700     255    \u001b[4m2\u001b[24m330    \u001b[4m1\u001b[24m920     250 9E     \n",
            "\u001b[90m 8\u001b[39m  \u001b[4m2\u001b[24m013     1     1     \u001b[4m2\u001b[24m205       \u001b[4m1\u001b[24m720     285      46    \u001b[4m2\u001b[24m040     246 AA     \n",
            "\u001b[90m 9\u001b[39m  \u001b[4m2\u001b[24m013     1     1     \u001b[4m2\u001b[24m312       \u001b[4m2\u001b[24m000     192      21    \u001b[4m2\u001b[24m110     191 EV     \n",
            "\u001b[90m10\u001b[39m  \u001b[4m2\u001b[24m013     1     1     \u001b[4m2\u001b[24m343       \u001b[4m1\u001b[24m724     379     314    \u001b[4m1\u001b[24m938     456 EV     \n",
            "\u001b[90m11\u001b[39m  \u001b[4m2\u001b[24m013     1     2      923        624     179    \u001b[4m1\u001b[24m051     758     173 EV     \n",
            "\u001b[90m12\u001b[39m  \u001b[4m2\u001b[24m013     1     2     \u001b[4m1\u001b[24m244        900     224    \u001b[4m1\u001b[24m431    \u001b[4m1\u001b[24m104     207 EV     \n",
            "\u001b[90m13\u001b[39m  \u001b[4m2\u001b[24m013     1     2     \u001b[4m1\u001b[24m332        904     268    \u001b[4m1\u001b[24m616    \u001b[4m1\u001b[24m128     288 EV     \n",
            "\u001b[90m14\u001b[39m  \u001b[4m2\u001b[24m013     1     2     \u001b[4m1\u001b[24m412        838     334    \u001b[4m1\u001b[24m710    \u001b[4m1\u001b[24m147     323 UA     \n",
            "\u001b[90m15\u001b[39m  \u001b[4m2\u001b[24m013     1     2     \u001b[4m1\u001b[24m607       \u001b[4m1\u001b[24m030     337    \u001b[4m2\u001b[24m003    \u001b[4m1\u001b[24m355     368 AA     \n",
            "\u001b[90m16\u001b[39m  \u001b[4m2\u001b[24m013     1     2     \u001b[4m1\u001b[24m751       \u001b[4m1\u001b[24m450     181    \u001b[4m2\u001b[24m041    \u001b[4m1\u001b[24m755     166 AA     \n",
            "\u001b[90m17\u001b[39m  \u001b[4m2\u001b[24m013     1     2     \u001b[4m1\u001b[24m909       \u001b[4m1\u001b[24m621     168    \u001b[4m2\u001b[24m116    \u001b[4m1\u001b[24m816     180 EV     \n",
            "\u001b[90m18\u001b[39m  \u001b[4m2\u001b[24m013     1     2     \u001b[4m2\u001b[24m005       \u001b[4m1\u001b[24m705     180    \u001b[4m2\u001b[24m126    \u001b[4m1\u001b[24m830     176 MQ     \n",
            "\u001b[90m19\u001b[39m  \u001b[4m2\u001b[24m013     1     2     \u001b[4m2\u001b[24m131       \u001b[4m1\u001b[24m512     379    \u001b[4m2\u001b[24m340    \u001b[4m1\u001b[24m741     359 UA     \n",
            "\u001b[90m20\u001b[39m  \u001b[4m2\u001b[24m013     1     2     \u001b[4m2\u001b[24m225       \u001b[4m1\u001b[24m930     175     231    \u001b[4m2\u001b[24m219     252 EV     \n",
            "\u001b[90m# … with 9 more variables: flight <int>, tailnum <chr>, origin <chr>,\u001b[39m\n",
            "\u001b[90m#   dest <chr>, air_time <dbl>, distance <dbl>, hour <dbl>, minute <dbl>,\u001b[39m\n",
            "\u001b[90m#   time_hour <dttm>, and abbreviated variable names ¹​sched_dep_time,\u001b[39m\n",
            "\u001b[90m#   ²​dep_delay, ³​arr_time, ⁴​sched_arr_time, ⁵​arr_delay\u001b[39m\n"
          ]
        }
      ]
    },
    {
      "cell_type": "code",
      "source": [
        "flights%>%\n",
        "  group_by(year,month,day)%>%\n",
        "  top_n(10,dep_delay)%>%\n",
        "  count(carrier)%>%\n",
        "  print\n",
        "# how many times each carrier appeared in the top 10 of most delayed flights for each day "
      ],
      "metadata": {
        "colab": {
          "base_uri": "https://localhost:8080/"
        },
        "id": "b_0quCyrdjf7",
        "outputId": "c8766c66-7283-4a21-e128-d064c5c46cf6"
      },
      "execution_count": 6,
      "outputs": [
        {
          "output_type": "stream",
          "name": "stdout",
          "text": [
            "\u001b[90m# A tibble: 1,950 × 5\u001b[39m\n",
            "\u001b[90m# Groups:   year, month, day [365]\u001b[39m\n",
            "    year month   day carrier     n\n",
            "   \u001b[3m\u001b[90m<int>\u001b[39m\u001b[23m \u001b[3m\u001b[90m<int>\u001b[39m\u001b[23m \u001b[3m\u001b[90m<int>\u001b[39m\u001b[23m \u001b[3m\u001b[90m<chr>\u001b[39m\u001b[23m   \u001b[3m\u001b[90m<int>\u001b[39m\u001b[23m\n",
            "\u001b[90m 1\u001b[39m  \u001b[4m2\u001b[24m013     1     1 9E          1\n",
            "\u001b[90m 2\u001b[39m  \u001b[4m2\u001b[24m013     1     1 AA          1\n",
            "\u001b[90m 3\u001b[39m  \u001b[4m2\u001b[24m013     1     1 EV          6\n",
            "\u001b[90m 4\u001b[39m  \u001b[4m2\u001b[24m013     1     1 MQ          2\n",
            "\u001b[90m 5\u001b[39m  \u001b[4m2\u001b[24m013     1     2 AA          2\n",
            "\u001b[90m 6\u001b[39m  \u001b[4m2\u001b[24m013     1     2 EV          5\n",
            "\u001b[90m 7\u001b[39m  \u001b[4m2\u001b[24m013     1     2 MQ          1\n",
            "\u001b[90m 8\u001b[39m  \u001b[4m2\u001b[24m013     1     2 UA          2\n",
            "\u001b[90m 9\u001b[39m  \u001b[4m2\u001b[24m013     1     3 9E          2\n",
            "\u001b[90m10\u001b[39m  \u001b[4m2\u001b[24m013     1     3 AA          1\n",
            "\u001b[90m# … with 1,940 more rows\u001b[39m\n"
          ]
        }
      ]
    },
    {
      "cell_type": "code",
      "source": [
        "# but we want total count so we ungroup across all 365 days, nnot just each day \n",
        "flights%>%\n",
        "  group_by(year,month,day)%>%\n",
        "  top_n(10,dep_delay)%>%\n",
        "  ungroup%>%\n",
        "  count(carrier)%>%\n",
        "  print"
      ],
      "metadata": {
        "colab": {
          "base_uri": "https://localhost:8080/"
        },
        "id": "TFmAVYbTdzVA",
        "outputId": "641b12cd-c289-4ded-f0cd-ca9b1c12908a"
      },
      "execution_count": 7,
      "outputs": [
        {
          "output_type": "stream",
          "name": "stdout",
          "text": [
            "\u001b[90m# A tibble: 16 × 2\u001b[39m\n",
            "   carrier     n\n",
            "   \u001b[3m\u001b[90m<chr>\u001b[39m\u001b[23m   \u001b[3m\u001b[90m<int>\u001b[39m\u001b[23m\n",
            "\u001b[90m 1\u001b[39m 9E        329\n",
            "\u001b[90m 2\u001b[39m AA        319\n",
            "\u001b[90m 3\u001b[39m AS          2\n",
            "\u001b[90m 4\u001b[39m B6        512\n",
            "\u001b[90m 5\u001b[39m DL        423\n",
            "\u001b[90m 6\u001b[39m EV        949\n",
            "\u001b[90m 7\u001b[39m F9         16\n",
            "\u001b[90m 8\u001b[39m FL         44\n",
            "\u001b[90m 9\u001b[39m HA          4\n",
            "\u001b[90m10\u001b[39m MQ        238\n",
            "\u001b[90m11\u001b[39m OO          1\n",
            "\u001b[90m12\u001b[39m UA        539\n",
            "\u001b[90m13\u001b[39m US         68\n",
            "\u001b[90m14\u001b[39m VX         86\n",
            "\u001b[90m15\u001b[39m WN        139\n",
            "\u001b[90m16\u001b[39m YV         12\n"
          ]
        }
      ]
    },
    {
      "cell_type": "markdown",
      "metadata": {
        "id": "xhfarwuHchQO"
      },
      "source": [
        "# Lecture 4: Tidy Data\n",
        "\n",
        "<div style=\"border: 1px double black; padding: 10px; margin: 10px\">\n",
        "\n",
        "**After today's lecture you will:**\n",
        "* Understand what makes [tidy data](#Tidy-data) and why we care\n",
        "* Make data wider and narrower\n",
        "    \n",
        "This lecture note corresponds to Chapter 6 of your book. \n",
        "</div>\n",
        "\n",
        "\n",
        "    \n",
        "\n",
        "\n"
      ]
    },
    {
      "cell_type": "markdown",
      "metadata": {
        "id": "8AnTL7CFchQP"
      },
      "source": [
        "So far in this class, we have learned how to use tools like `dplyr` and `ggplot` to manipulate and plot data. You may not have realized it, but the reason why it has been relatively easy to apply these tools to datasets like `nycflights13` is because all of the datasets we have examined have been in a special format. Today we will study that format in greater detail."
      ]
    },
    {
      "cell_type": "markdown",
      "metadata": {
        "id": "DJYEHxbZchQP"
      },
      "source": [
        "## Data in the real world\n",
        "Unfortunately, most datasets in the real world do *not* come in a format which we can immediately load into R and analyze with tidyverse. [Here is a typical example](https://docs.google.com/spreadsheets/d/1AjOaPNJq-6AhHsbPqfExd_U5ENBYxKSJptahCMkKx9U/edit?usp=sharing) of a real-world dataset:\n",
        "\n",
        "[image]"
      ]
    },
    {
      "cell_type": "markdown",
      "metadata": {
        "id": "oTFi-t3KchQQ"
      },
      "source": [
        "To analyze this data, we need it to look like:\n",
        "\n",
        "    # A tibble: 194 x 6\n",
        "        year month   day location    price quantity\n",
        "       <dbl> <dbl> <dbl> <chr>       <dbl>    <dbl>\n",
        "     1  2016     1     1 Bloomington  18.5    2631.\n",
        "     2  2016     1     1 Muncie       18.5    2928.\n",
        "     3  2016     1     1 Noblesville  18.5    2764.\n",
        "     4  2016     1     8 Bloomington  11.5    2788.\n",
        "     5  2016     1     8 Muncie       11.5    3162.\n",
        "     6  2016     1     8 Noblesville  11.5    2751.\n",
        "     7  2016     1    15 Bloomington  14.8    2989.\n",
        "     8  2016     1    15 Muncie       14.8    2986.\n",
        "     9  2016     1    15 Noblesville  14.8    2612.\n",
        "    10  2016     1    22 Bloomington  13.7    2827.\n",
        "    # ... with 184 more rows\n",
        "    \n",
        "This week we'll learn how to convert real-world data into an analyzable format, a process known as \"tidying\"."
      ]
    },
    {
      "cell_type": "markdown",
      "metadata": {
        "id": "GcW3rV3echQQ"
      },
      "source": [
        "## Tidy data\n",
        "There are many different ways to represent data in a table, but some are better than others.\n",
        "We say that a data table is \"[tidy](http://vita.had.co.nz/papers/tidy-data.pdf)\" if:\n",
        "- Each row represents an observation.\n",
        "- Each column represents a variable.\n",
        "- Each value gets its own cell.\n",
        "- Each different type of data set gets its own table.\n",
        "\n",
        "Data tables which are not tidy are called messy!\n",
        "![http://r4ds.had.co.nz/images/tidy-1.png](http://r4ds.had.co.nz/images/tidy-1.png)"
      ]
    },
    {
      "cell_type": "markdown",
      "metadata": {
        "id": "JYrEW8emchQS"
      },
      "source": [
        "In the following, we are going to ouput several tables data.  These `table` data are part of your `tidyverse` package."
      ]
    },
    {
      "cell_type": "markdown",
      "metadata": {
        "id": "cfIwRNN-chQT"
      },
      "source": [
        "`table1` is a \"tidy\" dataset:"
      ]
    },
    {
      "cell_type": "code",
      "execution_count": 8,
      "metadata": {
        "id": "I02IX28KchQT",
        "outputId": "67128220-acb4-464a-c82b-71d4e3380c2a",
        "colab": {
          "base_uri": "https://localhost:8080/",
          "height": 286
        }
      },
      "outputs": [
        {
          "output_type": "display_data",
          "data": {
            "text/html": [
              "<table class=\"dataframe\">\n",
              "<caption>A tibble: 6 × 4</caption>\n",
              "<thead>\n",
              "\t<tr><th scope=col>country</th><th scope=col>year</th><th scope=col>cases</th><th scope=col>population</th></tr>\n",
              "\t<tr><th scope=col>&lt;chr&gt;</th><th scope=col>&lt;int&gt;</th><th scope=col>&lt;int&gt;</th><th scope=col>&lt;int&gt;</th></tr>\n",
              "</thead>\n",
              "<tbody>\n",
              "\t<tr><td>Afghanistan</td><td>1999</td><td>   745</td><td>  19987071</td></tr>\n",
              "\t<tr><td>Afghanistan</td><td>2000</td><td>  2666</td><td>  20595360</td></tr>\n",
              "\t<tr><td>Brazil     </td><td>1999</td><td> 37737</td><td> 172006362</td></tr>\n",
              "\t<tr><td>Brazil     </td><td>2000</td><td> 80488</td><td> 174504898</td></tr>\n",
              "\t<tr><td>China      </td><td>1999</td><td>212258</td><td>1272915272</td></tr>\n",
              "\t<tr><td>China      </td><td>2000</td><td>213766</td><td>1280428583</td></tr>\n",
              "</tbody>\n",
              "</table>\n"
            ],
            "text/markdown": "\nA tibble: 6 × 4\n\n| country &lt;chr&gt; | year &lt;int&gt; | cases &lt;int&gt; | population &lt;int&gt; |\n|---|---|---|---|\n| Afghanistan | 1999 |    745 |   19987071 |\n| Afghanistan | 2000 |   2666 |   20595360 |\n| Brazil      | 1999 |  37737 |  172006362 |\n| Brazil      | 2000 |  80488 |  174504898 |\n| China       | 1999 | 212258 | 1272915272 |\n| China       | 2000 | 213766 | 1280428583 |\n\n",
            "text/latex": "A tibble: 6 × 4\n\\begin{tabular}{llll}\n country & year & cases & population\\\\\n <chr> & <int> & <int> & <int>\\\\\n\\hline\n\t Afghanistan & 1999 &    745 &   19987071\\\\\n\t Afghanistan & 2000 &   2666 &   20595360\\\\\n\t Brazil      & 1999 &  37737 &  172006362\\\\\n\t Brazil      & 2000 &  80488 &  174504898\\\\\n\t China       & 1999 & 212258 & 1272915272\\\\\n\t China       & 2000 & 213766 & 1280428583\\\\\n\\end{tabular}\n",
            "text/plain": [
              "  country     year cases  population\n",
              "1 Afghanistan 1999    745   19987071\n",
              "2 Afghanistan 2000   2666   20595360\n",
              "3 Brazil      1999  37737  172006362\n",
              "4 Brazil      2000  80488  174504898\n",
              "5 China       1999 212258 1272915272\n",
              "6 China       2000 213766 1280428583"
            ]
          },
          "metadata": {}
        }
      ],
      "source": [
        "table1"
      ]
    },
    {
      "cell_type": "code",
      "source": [
        "print(table1)"
      ],
      "metadata": {
        "colab": {
          "base_uri": "https://localhost:8080/"
        },
        "id": "0Qad_JfJfG9a",
        "outputId": "f0b048d3-71dd-4989-e7cb-126625e91cba"
      },
      "execution_count": 9,
      "outputs": [
        {
          "output_type": "stream",
          "name": "stdout",
          "text": [
            "\u001b[90m# A tibble: 6 × 4\u001b[39m\n",
            "  country      year  cases population\n",
            "  \u001b[3m\u001b[90m<chr>\u001b[39m\u001b[23m       \u001b[3m\u001b[90m<int>\u001b[39m\u001b[23m  \u001b[3m\u001b[90m<int>\u001b[39m\u001b[23m      \u001b[3m\u001b[90m<int>\u001b[39m\u001b[23m\n",
            "\u001b[90m1\u001b[39m Afghanistan  \u001b[4m1\u001b[24m999    745   19\u001b[4m9\u001b[24m\u001b[4m8\u001b[24m\u001b[4m7\u001b[24m071\n",
            "\u001b[90m2\u001b[39m Afghanistan  \u001b[4m2\u001b[24m000   \u001b[4m2\u001b[24m666   20\u001b[4m5\u001b[24m\u001b[4m9\u001b[24m\u001b[4m5\u001b[24m360\n",
            "\u001b[90m3\u001b[39m Brazil       \u001b[4m1\u001b[24m999  \u001b[4m3\u001b[24m\u001b[4m7\u001b[24m737  172\u001b[4m0\u001b[24m\u001b[4m0\u001b[24m\u001b[4m6\u001b[24m362\n",
            "\u001b[90m4\u001b[39m Brazil       \u001b[4m2\u001b[24m000  \u001b[4m8\u001b[24m\u001b[4m0\u001b[24m488  174\u001b[4m5\u001b[24m\u001b[4m0\u001b[24m\u001b[4m4\u001b[24m898\n",
            "\u001b[90m5\u001b[39m China        \u001b[4m1\u001b[24m999 \u001b[4m2\u001b[24m\u001b[4m1\u001b[24m\u001b[4m2\u001b[24m258 \u001b[4m1\u001b[24m272\u001b[4m9\u001b[24m\u001b[4m1\u001b[24m\u001b[4m5\u001b[24m272\n",
            "\u001b[90m6\u001b[39m China        \u001b[4m2\u001b[24m000 \u001b[4m2\u001b[24m\u001b[4m1\u001b[24m\u001b[4m3\u001b[24m766 \u001b[4m1\u001b[24m280\u001b[4m4\u001b[24m\u001b[4m2\u001b[24m\u001b[4m8\u001b[24m583\n"
          ]
        }
      ]
    },
    {
      "cell_type": "code",
      "source": [
        "?table1\n",
        "# turberculosis cases "
      ],
      "metadata": {
        "id": "PoSh995ZfL02"
      },
      "execution_count": 10,
      "outputs": []
    },
    {
      "cell_type": "markdown",
      "metadata": {
        "id": "D0ERso3-chQU"
      },
      "source": [
        "In the above data set, each column is a variable and every entries in the same column is of the same type. So therefore this data set is tidy.\n",
        "\n",
        "Now let us take a look at the following data set obtained by merging the cases and population into the `type` variable."
      ]
    },
    {
      "cell_type": "markdown",
      "metadata": {
        "id": "tuuZP8hLchQU"
      },
      "source": [
        "Now let as look at a different version of `table1` which contains the same data:"
      ]
    },
    {
      "cell_type": "code",
      "execution_count": 11,
      "metadata": {
        "id": "NHzi6wxNchQU",
        "outputId": "a449675e-e5db-41c6-86d9-c71cd417ad17",
        "colab": {
          "base_uri": "https://localhost:8080/",
          "height": 474
        }
      },
      "outputs": [
        {
          "output_type": "display_data",
          "data": {
            "text/html": [
              "<table class=\"dataframe\">\n",
              "<caption>A tibble: 12 × 4</caption>\n",
              "<thead>\n",
              "\t<tr><th scope=col>country</th><th scope=col>year</th><th scope=col>type</th><th scope=col>count</th></tr>\n",
              "\t<tr><th scope=col>&lt;chr&gt;</th><th scope=col>&lt;int&gt;</th><th scope=col>&lt;chr&gt;</th><th scope=col>&lt;int&gt;</th></tr>\n",
              "</thead>\n",
              "<tbody>\n",
              "\t<tr><td>Afghanistan</td><td>1999</td><td>cases     </td><td>       745</td></tr>\n",
              "\t<tr><td>Afghanistan</td><td>1999</td><td>population</td><td>  19987071</td></tr>\n",
              "\t<tr><td>Afghanistan</td><td>2000</td><td>cases     </td><td>      2666</td></tr>\n",
              "\t<tr><td>Afghanistan</td><td>2000</td><td>population</td><td>  20595360</td></tr>\n",
              "\t<tr><td>Brazil     </td><td>1999</td><td>cases     </td><td>     37737</td></tr>\n",
              "\t<tr><td>Brazil     </td><td>1999</td><td>population</td><td> 172006362</td></tr>\n",
              "\t<tr><td>Brazil     </td><td>2000</td><td>cases     </td><td>     80488</td></tr>\n",
              "\t<tr><td>Brazil     </td><td>2000</td><td>population</td><td> 174504898</td></tr>\n",
              "\t<tr><td>China      </td><td>1999</td><td>cases     </td><td>    212258</td></tr>\n",
              "\t<tr><td>China      </td><td>1999</td><td>population</td><td>1272915272</td></tr>\n",
              "\t<tr><td>China      </td><td>2000</td><td>cases     </td><td>    213766</td></tr>\n",
              "\t<tr><td>China      </td><td>2000</td><td>population</td><td>1280428583</td></tr>\n",
              "</tbody>\n",
              "</table>\n"
            ],
            "text/markdown": "\nA tibble: 12 × 4\n\n| country &lt;chr&gt; | year &lt;int&gt; | type &lt;chr&gt; | count &lt;int&gt; |\n|---|---|---|---|\n| Afghanistan | 1999 | cases      |        745 |\n| Afghanistan | 1999 | population |   19987071 |\n| Afghanistan | 2000 | cases      |       2666 |\n| Afghanistan | 2000 | population |   20595360 |\n| Brazil      | 1999 | cases      |      37737 |\n| Brazil      | 1999 | population |  172006362 |\n| Brazil      | 2000 | cases      |      80488 |\n| Brazil      | 2000 | population |  174504898 |\n| China       | 1999 | cases      |     212258 |\n| China       | 1999 | population | 1272915272 |\n| China       | 2000 | cases      |     213766 |\n| China       | 2000 | population | 1280428583 |\n\n",
            "text/latex": "A tibble: 12 × 4\n\\begin{tabular}{llll}\n country & year & type & count\\\\\n <chr> & <int> & <chr> & <int>\\\\\n\\hline\n\t Afghanistan & 1999 & cases      &        745\\\\\n\t Afghanistan & 1999 & population &   19987071\\\\\n\t Afghanistan & 2000 & cases      &       2666\\\\\n\t Afghanistan & 2000 & population &   20595360\\\\\n\t Brazil      & 1999 & cases      &      37737\\\\\n\t Brazil      & 1999 & population &  172006362\\\\\n\t Brazil      & 2000 & cases      &      80488\\\\\n\t Brazil      & 2000 & population &  174504898\\\\\n\t China       & 1999 & cases      &     212258\\\\\n\t China       & 1999 & population & 1272915272\\\\\n\t China       & 2000 & cases      &     213766\\\\\n\t China       & 2000 & population & 1280428583\\\\\n\\end{tabular}\n",
            "text/plain": [
              "   country     year type       count     \n",
              "1  Afghanistan 1999 cases             745\n",
              "2  Afghanistan 1999 population   19987071\n",
              "3  Afghanistan 2000 cases            2666\n",
              "4  Afghanistan 2000 population   20595360\n",
              "5  Brazil      1999 cases           37737\n",
              "6  Brazil      1999 population  172006362\n",
              "7  Brazil      2000 cases           80488\n",
              "8  Brazil      2000 population  174504898\n",
              "9  China       1999 cases          212258\n",
              "10 China       1999 population 1272915272\n",
              "11 China       2000 cases          213766\n",
              "12 China       2000 population 1280428583"
            ]
          },
          "metadata": {}
        }
      ],
      "source": [
        "table2"
      ]
    },
    {
      "cell_type": "code",
      "source": [
        "print(table2)\n",
        "# same data represented in a diff way \n",
        "# cases and population under type. this is confusing. \n",
        "# the previous table is so much simpler/cleaner "
      ],
      "metadata": {
        "colab": {
          "base_uri": "https://localhost:8080/"
        },
        "id": "KjbZJaZmfoDG",
        "outputId": "d14e7c8d-43fe-4c33-e74d-4c5fad82a6c5"
      },
      "execution_count": 12,
      "outputs": [
        {
          "output_type": "stream",
          "name": "stdout",
          "text": [
            "\u001b[90m# A tibble: 12 × 4\u001b[39m\n",
            "   country      year type            count\n",
            "   \u001b[3m\u001b[90m<chr>\u001b[39m\u001b[23m       \u001b[3m\u001b[90m<int>\u001b[39m\u001b[23m \u001b[3m\u001b[90m<chr>\u001b[39m\u001b[23m           \u001b[3m\u001b[90m<int>\u001b[39m\u001b[23m\n",
            "\u001b[90m 1\u001b[39m Afghanistan  \u001b[4m1\u001b[24m999 cases             745\n",
            "\u001b[90m 2\u001b[39m Afghanistan  \u001b[4m1\u001b[24m999 population   19\u001b[4m9\u001b[24m\u001b[4m8\u001b[24m\u001b[4m7\u001b[24m071\n",
            "\u001b[90m 3\u001b[39m Afghanistan  \u001b[4m2\u001b[24m000 cases            \u001b[4m2\u001b[24m666\n",
            "\u001b[90m 4\u001b[39m Afghanistan  \u001b[4m2\u001b[24m000 population   20\u001b[4m5\u001b[24m\u001b[4m9\u001b[24m\u001b[4m5\u001b[24m360\n",
            "\u001b[90m 5\u001b[39m Brazil       \u001b[4m1\u001b[24m999 cases           \u001b[4m3\u001b[24m\u001b[4m7\u001b[24m737\n",
            "\u001b[90m 6\u001b[39m Brazil       \u001b[4m1\u001b[24m999 population  172\u001b[4m0\u001b[24m\u001b[4m0\u001b[24m\u001b[4m6\u001b[24m362\n",
            "\u001b[90m 7\u001b[39m Brazil       \u001b[4m2\u001b[24m000 cases           \u001b[4m8\u001b[24m\u001b[4m0\u001b[24m488\n",
            "\u001b[90m 8\u001b[39m Brazil       \u001b[4m2\u001b[24m000 population  174\u001b[4m5\u001b[24m\u001b[4m0\u001b[24m\u001b[4m4\u001b[24m898\n",
            "\u001b[90m 9\u001b[39m China        \u001b[4m1\u001b[24m999 cases          \u001b[4m2\u001b[24m\u001b[4m1\u001b[24m\u001b[4m2\u001b[24m258\n",
            "\u001b[90m10\u001b[39m China        \u001b[4m1\u001b[24m999 population \u001b[4m1\u001b[24m272\u001b[4m9\u001b[24m\u001b[4m1\u001b[24m\u001b[4m5\u001b[24m272\n",
            "\u001b[90m11\u001b[39m China        \u001b[4m2\u001b[24m000 cases          \u001b[4m2\u001b[24m\u001b[4m1\u001b[24m\u001b[4m3\u001b[24m766\n",
            "\u001b[90m12\u001b[39m China        \u001b[4m2\u001b[24m000 population \u001b[4m1\u001b[24m280\u001b[4m4\u001b[24m\u001b[4m2\u001b[24m\u001b[4m8\u001b[24m583\n"
          ]
        }
      ]
    },
    {
      "cell_type": "markdown",
      "metadata": {
        "id": "HhbC3QifchQV"
      },
      "source": [
        "Is `table2` tidy? In the type column, you have two variables: cases and population.   For data to be tidy, each variable needs to be in each column.  So this data is messy."
      ]
    },
    {
      "cell_type": "markdown",
      "metadata": {
        "id": "jmsLnsgBchQV"
      },
      "source": [
        "How about the following table? "
      ]
    },
    {
      "cell_type": "code",
      "execution_count": 13,
      "metadata": {
        "id": "28oi06dfchQV",
        "outputId": "91e3fe83-47d9-41f5-f08c-0fac1ecb4047",
        "colab": {
          "base_uri": "https://localhost:8080/",
          "height": 286
        }
      },
      "outputs": [
        {
          "output_type": "display_data",
          "data": {
            "text/html": [
              "<table class=\"dataframe\">\n",
              "<caption>A tibble: 6 × 3</caption>\n",
              "<thead>\n",
              "\t<tr><th></th><th scope=col>country</th><th scope=col>year</th><th scope=col>rate</th></tr>\n",
              "\t<tr><th></th><th scope=col>&lt;chr&gt;</th><th scope=col>&lt;int&gt;</th><th scope=col>&lt;chr&gt;</th></tr>\n",
              "</thead>\n",
              "<tbody>\n",
              "\t<tr><th scope=row>1</th><td>Afghanistan</td><td>1999</td><td>745/19987071     </td></tr>\n",
              "\t<tr><th scope=row>2</th><td>Afghanistan</td><td>2000</td><td>2666/20595360    </td></tr>\n",
              "\t<tr><th scope=row>3</th><td>Brazil     </td><td>1999</td><td>37737/172006362  </td></tr>\n",
              "\t<tr><th scope=row>4</th><td>Brazil     </td><td>2000</td><td>80488/174504898  </td></tr>\n",
              "\t<tr><th scope=row>5</th><td>China      </td><td>1999</td><td>212258/1272915272</td></tr>\n",
              "\t<tr><th scope=row>6</th><td>China      </td><td>2000</td><td>213766/1280428583</td></tr>\n",
              "</tbody>\n",
              "</table>\n"
            ],
            "text/markdown": "\nA tibble: 6 × 3\n\n| <!--/--> | country &lt;chr&gt; | year &lt;int&gt; | rate &lt;chr&gt; |\n|---|---|---|---|\n| 1 | Afghanistan | 1999 | 745/19987071      |\n| 2 | Afghanistan | 2000 | 2666/20595360     |\n| 3 | Brazil      | 1999 | 37737/172006362   |\n| 4 | Brazil      | 2000 | 80488/174504898   |\n| 5 | China       | 1999 | 212258/1272915272 |\n| 6 | China       | 2000 | 213766/1280428583 |\n\n",
            "text/latex": "A tibble: 6 × 3\n\\begin{tabular}{r|lll}\n  & country & year & rate\\\\\n  & <chr> & <int> & <chr>\\\\\n\\hline\n\t1 & Afghanistan & 1999 & 745/19987071     \\\\\n\t2 & Afghanistan & 2000 & 2666/20595360    \\\\\n\t3 & Brazil      & 1999 & 37737/172006362  \\\\\n\t4 & Brazil      & 2000 & 80488/174504898  \\\\\n\t5 & China       & 1999 & 212258/1272915272\\\\\n\t6 & China       & 2000 & 213766/1280428583\\\\\n\\end{tabular}\n",
            "text/plain": [
              "  country     year rate             \n",
              "1 Afghanistan 1999 745/19987071     \n",
              "2 Afghanistan 2000 2666/20595360    \n",
              "3 Brazil      1999 37737/172006362  \n",
              "4 Brazil      2000 80488/174504898  \n",
              "5 China       1999 212258/1272915272\n",
              "6 China       2000 213766/1280428583"
            ]
          },
          "metadata": {}
        }
      ],
      "source": [
        "table3"
      ]
    },
    {
      "cell_type": "code",
      "source": [
        "table3%>%print\n",
        "# messy b/c there's actually 2 values & a formula rn "
      ],
      "metadata": {
        "colab": {
          "base_uri": "https://localhost:8080/"
        },
        "id": "Q8-fs4W2gOrF",
        "outputId": "de669d20-ea21-4326-91c3-cc3e388962db"
      },
      "execution_count": 14,
      "outputs": [
        {
          "output_type": "stream",
          "name": "stdout",
          "text": [
            "\u001b[90m# A tibble: 6 × 3\u001b[39m\n",
            "  country      year rate             \n",
            "\u001b[90m*\u001b[39m \u001b[3m\u001b[90m<chr>\u001b[39m\u001b[23m       \u001b[3m\u001b[90m<int>\u001b[39m\u001b[23m \u001b[3m\u001b[90m<chr>\u001b[39m\u001b[23m            \n",
            "\u001b[90m1\u001b[39m Afghanistan  \u001b[4m1\u001b[24m999 745/19987071     \n",
            "\u001b[90m2\u001b[39m Afghanistan  \u001b[4m2\u001b[24m000 2666/20595360    \n",
            "\u001b[90m3\u001b[39m Brazil       \u001b[4m1\u001b[24m999 37737/172006362  \n",
            "\u001b[90m4\u001b[39m Brazil       \u001b[4m2\u001b[24m000 80488/174504898  \n",
            "\u001b[90m5\u001b[39m China        \u001b[4m1\u001b[24m999 212258/1272915272\n",
            "\u001b[90m6\u001b[39m China        \u001b[4m2\u001b[24m000 213766/1280428583\n"
          ]
        }
      ]
    },
    {
      "cell_type": "markdown",
      "metadata": {
        "id": "2CNjNU63chQX"
      },
      "source": [
        "The above table is also messy, because the counts for cases and population is defined as a division in the variable rate.  So this data is also messy, though arguably less so"
      ]
    },
    {
      "cell_type": "code",
      "execution_count": 15,
      "metadata": {
        "id": "gk1dUG4wchQX",
        "outputId": "39e43e1a-ed9f-4515-980c-bdc87a87ca64",
        "colab": {
          "base_uri": "https://localhost:8080/"
        }
      },
      "outputs": [
        {
          "output_type": "stream",
          "name": "stdout",
          "text": [
            "\u001b[90m# A tibble: 3 × 3\u001b[39m\n",
            "  country     `1999` `2000`\n",
            "\u001b[90m*\u001b[39m \u001b[3m\u001b[90m<chr>\u001b[39m\u001b[23m        \u001b[3m\u001b[90m<int>\u001b[39m\u001b[23m  \u001b[3m\u001b[90m<int>\u001b[39m\u001b[23m\n",
            "\u001b[90m1\u001b[39m Afghanistan    745   \u001b[4m2\u001b[24m666\n",
            "\u001b[90m2\u001b[39m Brazil       \u001b[4m3\u001b[24m\u001b[4m7\u001b[24m737  \u001b[4m8\u001b[24m\u001b[4m0\u001b[24m488\n",
            "\u001b[90m3\u001b[39m China       \u001b[4m2\u001b[24m\u001b[4m1\u001b[24m\u001b[4m2\u001b[24m258 \u001b[4m2\u001b[24m\u001b[4m1\u001b[24m\u001b[4m3\u001b[24m766\n",
            "\u001b[90m# A tibble: 3 × 3\u001b[39m\n",
            "  country         `1999`     `2000`\n",
            "\u001b[90m*\u001b[39m \u001b[3m\u001b[90m<chr>\u001b[39m\u001b[23m            \u001b[3m\u001b[90m<int>\u001b[39m\u001b[23m      \u001b[3m\u001b[90m<int>\u001b[39m\u001b[23m\n",
            "\u001b[90m1\u001b[39m Afghanistan   19\u001b[4m9\u001b[24m\u001b[4m8\u001b[24m\u001b[4m7\u001b[24m071   20\u001b[4m5\u001b[24m\u001b[4m9\u001b[24m\u001b[4m5\u001b[24m360\n",
            "\u001b[90m2\u001b[39m Brazil       172\u001b[4m0\u001b[24m\u001b[4m0\u001b[24m\u001b[4m6\u001b[24m362  174\u001b[4m5\u001b[24m\u001b[4m0\u001b[24m\u001b[4m4\u001b[24m898\n",
            "\u001b[90m3\u001b[39m China       \u001b[4m1\u001b[24m272\u001b[4m9\u001b[24m\u001b[4m1\u001b[24m\u001b[4m5\u001b[24m272 \u001b[4m1\u001b[24m280\u001b[4m4\u001b[24m\u001b[4m2\u001b[24m\u001b[4m8\u001b[24m583\n"
          ]
        }
      ],
      "source": [
        "print(table4a) # cases in one tibble\n",
        "print(table4b) # population in another one\n",
        "# there should be cases, populations, years columnns in one table \n",
        "# however, this is not a tibble b/c useful in seeing how cases & population changed over time, individually (increased)"
      ]
    },
    {
      "cell_type": "markdown",
      "metadata": {
        "id": "fA-7Ccf6chQf"
      },
      "source": [
        "The above is a messy data, since each observation for different year is separated into columns. The data have also been split into two tables. This is not necessarily a messy thing to do, as we will see when we talk about relational data."
      ]
    },
    {
      "cell_type": "markdown",
      "metadata": {
        "id": "KOXV9fG6chQf"
      },
      "source": [
        "Recapping: tidy data means\n",
        "\n",
        "* each observation has its own row\n",
        "* each variable has its own column\n",
        "* each value has its own cell"
      ]
    },
    {
      "cell_type": "markdown",
      "metadata": {
        "id": "4dA0bCICchQf"
      },
      "source": [
        "## Why we care about tidy data\n",
        "- The tools we have learned so far all live in the `tidyverse`. \n",
        "- Why is it called by this funny name? It is a universe of R packages which all expect to recieve tidy data as input, and, where necessary, return tidy data as output. \n",
        "- You can think of tidy data as a sort of contract that everything in `tidyverse` respects. \n",
        "- In particular, this makes it possible to string many tidyverse commands together using `%>%`  without having to worry about whether they are all compatible."
      ]
    },
    {
      "cell_type": "markdown",
      "metadata": {
        "id": "otYenQyOchQg"
      },
      "source": [
        "For instance, let us calculate rate of cases per 10000 people for the data in `table1`."
      ]
    },
    {
      "cell_type": "code",
      "execution_count": 16,
      "metadata": {
        "id": "g9w8VEQLchQg",
        "outputId": "fda73ab0-f800-40ec-8ebf-8e43c7627fab",
        "colab": {
          "base_uri": "https://localhost:8080/",
          "height": 286
        }
      },
      "outputs": [
        {
          "output_type": "display_data",
          "data": {
            "text/html": [
              "<table class=\"dataframe\">\n",
              "<caption>A tibble: 6 × 5</caption>\n",
              "<thead>\n",
              "\t<tr><th scope=col>country</th><th scope=col>year</th><th scope=col>cases</th><th scope=col>population</th><th scope=col>rate</th></tr>\n",
              "\t<tr><th scope=col>&lt;chr&gt;</th><th scope=col>&lt;int&gt;</th><th scope=col>&lt;int&gt;</th><th scope=col>&lt;int&gt;</th><th scope=col>&lt;dbl&gt;</th></tr>\n",
              "</thead>\n",
              "<tbody>\n",
              "\t<tr><td>Afghanistan</td><td>1999</td><td>   745</td><td>  19987071</td><td>0.372741</td></tr>\n",
              "\t<tr><td>Afghanistan</td><td>2000</td><td>  2666</td><td>  20595360</td><td>1.294466</td></tr>\n",
              "\t<tr><td>Brazil     </td><td>1999</td><td> 37737</td><td> 172006362</td><td>2.193930</td></tr>\n",
              "\t<tr><td>Brazil     </td><td>2000</td><td> 80488</td><td> 174504898</td><td>4.612363</td></tr>\n",
              "\t<tr><td>China      </td><td>1999</td><td>212258</td><td>1272915272</td><td>1.667495</td></tr>\n",
              "\t<tr><td>China      </td><td>2000</td><td>213766</td><td>1280428583</td><td>1.669488</td></tr>\n",
              "</tbody>\n",
              "</table>\n"
            ],
            "text/markdown": "\nA tibble: 6 × 5\n\n| country &lt;chr&gt; | year &lt;int&gt; | cases &lt;int&gt; | population &lt;int&gt; | rate &lt;dbl&gt; |\n|---|---|---|---|---|\n| Afghanistan | 1999 |    745 |   19987071 | 0.372741 |\n| Afghanistan | 2000 |   2666 |   20595360 | 1.294466 |\n| Brazil      | 1999 |  37737 |  172006362 | 2.193930 |\n| Brazil      | 2000 |  80488 |  174504898 | 4.612363 |\n| China       | 1999 | 212258 | 1272915272 | 1.667495 |\n| China       | 2000 | 213766 | 1280428583 | 1.669488 |\n\n",
            "text/latex": "A tibble: 6 × 5\n\\begin{tabular}{lllll}\n country & year & cases & population & rate\\\\\n <chr> & <int> & <int> & <int> & <dbl>\\\\\n\\hline\n\t Afghanistan & 1999 &    745 &   19987071 & 0.372741\\\\\n\t Afghanistan & 2000 &   2666 &   20595360 & 1.294466\\\\\n\t Brazil      & 1999 &  37737 &  172006362 & 2.193930\\\\\n\t Brazil      & 2000 &  80488 &  174504898 & 4.612363\\\\\n\t China       & 1999 & 212258 & 1272915272 & 1.667495\\\\\n\t China       & 2000 & 213766 & 1280428583 & 1.669488\\\\\n\\end{tabular}\n",
            "text/plain": [
              "  country     year cases  population rate    \n",
              "1 Afghanistan 1999    745   19987071 0.372741\n",
              "2 Afghanistan 2000   2666   20595360 1.294466\n",
              "3 Brazil      1999  37737  172006362 2.193930\n",
              "4 Brazil      2000  80488  174504898 4.612363\n",
              "5 China       1999 212258 1272915272 1.667495\n",
              "6 China       2000 213766 1280428583 1.669488"
            ]
          },
          "metadata": {}
        }
      ],
      "source": [
        "mutate(table1, rate = cases / population * 10000) # rate of cases per 10000 peoplev"
      ]
    },
    {
      "cell_type": "markdown",
      "metadata": {
        "id": "cr4-a-KkchQm"
      },
      "source": [
        "How would we calculate the `rate` variable using `table2`? "
      ]
    },
    {
      "cell_type": "code",
      "execution_count": 17,
      "metadata": {
        "id": "WdXvstrFchQm",
        "outputId": "f1ca24aa-43d3-483a-f398-a91ee31cbedb",
        "colab": {
          "base_uri": "https://localhost:8080/"
        }
      },
      "outputs": [
        {
          "output_type": "stream",
          "name": "stdout",
          "text": [
            "\u001b[90m# A tibble: 12 × 4\u001b[39m\n",
            "   country      year type            count\n",
            "   \u001b[3m\u001b[90m<chr>\u001b[39m\u001b[23m       \u001b[3m\u001b[90m<int>\u001b[39m\u001b[23m \u001b[3m\u001b[90m<chr>\u001b[39m\u001b[23m           \u001b[3m\u001b[90m<int>\u001b[39m\u001b[23m\n",
            "\u001b[90m 1\u001b[39m Afghanistan  \u001b[4m1\u001b[24m999 cases             745\n",
            "\u001b[90m 2\u001b[39m Afghanistan  \u001b[4m1\u001b[24m999 population   19\u001b[4m9\u001b[24m\u001b[4m8\u001b[24m\u001b[4m7\u001b[24m071\n",
            "\u001b[90m 3\u001b[39m Afghanistan  \u001b[4m2\u001b[24m000 cases            \u001b[4m2\u001b[24m666\n",
            "\u001b[90m 4\u001b[39m Afghanistan  \u001b[4m2\u001b[24m000 population   20\u001b[4m5\u001b[24m\u001b[4m9\u001b[24m\u001b[4m5\u001b[24m360\n",
            "\u001b[90m 5\u001b[39m Brazil       \u001b[4m1\u001b[24m999 cases           \u001b[4m3\u001b[24m\u001b[4m7\u001b[24m737\n",
            "\u001b[90m 6\u001b[39m Brazil       \u001b[4m1\u001b[24m999 population  172\u001b[4m0\u001b[24m\u001b[4m0\u001b[24m\u001b[4m6\u001b[24m362\n",
            "\u001b[90m 7\u001b[39m Brazil       \u001b[4m2\u001b[24m000 cases           \u001b[4m8\u001b[24m\u001b[4m0\u001b[24m488\n",
            "\u001b[90m 8\u001b[39m Brazil       \u001b[4m2\u001b[24m000 population  174\u001b[4m5\u001b[24m\u001b[4m0\u001b[24m\u001b[4m4\u001b[24m898\n",
            "\u001b[90m 9\u001b[39m China        \u001b[4m1\u001b[24m999 cases          \u001b[4m2\u001b[24m\u001b[4m1\u001b[24m\u001b[4m2\u001b[24m258\n",
            "\u001b[90m10\u001b[39m China        \u001b[4m1\u001b[24m999 population \u001b[4m1\u001b[24m272\u001b[4m9\u001b[24m\u001b[4m1\u001b[24m\u001b[4m5\u001b[24m272\n",
            "\u001b[90m11\u001b[39m China        \u001b[4m2\u001b[24m000 cases          \u001b[4m2\u001b[24m\u001b[4m1\u001b[24m\u001b[4m3\u001b[24m766\n",
            "\u001b[90m12\u001b[39m China        \u001b[4m2\u001b[24m000 population \u001b[4m1\u001b[24m280\u001b[4m4\u001b[24m\u001b[4m2\u001b[24m\u001b[4m8\u001b[24m583\n"
          ]
        }
      ],
      "source": [
        "print(table2)"
      ]
    },
    {
      "cell_type": "code",
      "execution_count": 18,
      "metadata": {
        "id": "1DJgUc0RchQm"
      },
      "outputs": [],
      "source": [
        "#  mutate(table2, rate=???)  not possible to use mutate"
      ]
    },
    {
      "cell_type": "markdown",
      "metadata": {
        "id": "yXo-lsOQchQm"
      },
      "source": [
        "Summary commands like `summarize` and `count` also preserve tidy data:"
      ]
    },
    {
      "cell_type": "code",
      "execution_count": 19,
      "metadata": {
        "id": "_uUBf672chQn",
        "outputId": "320c8c1b-b6e7-4db2-9fd0-fbc60e6b2520",
        "colab": {
          "base_uri": "https://localhost:8080/",
          "height": 161
        }
      },
      "outputs": [
        {
          "output_type": "display_data",
          "data": {
            "text/html": [
              "<table class=\"dataframe\">\n",
              "<caption>A tibble: 2 × 2</caption>\n",
              "<thead>\n",
              "\t<tr><th scope=col>year</th><th scope=col>n</th></tr>\n",
              "\t<tr><th scope=col>&lt;int&gt;</th><th scope=col>&lt;int&gt;</th></tr>\n",
              "</thead>\n",
              "<tbody>\n",
              "\t<tr><td>1999</td><td>250740</td></tr>\n",
              "\t<tr><td>2000</td><td>296920</td></tr>\n",
              "</tbody>\n",
              "</table>\n"
            ],
            "text/markdown": "\nA tibble: 2 × 2\n\n| year &lt;int&gt; | n &lt;int&gt; |\n|---|---|\n| 1999 | 250740 |\n| 2000 | 296920 |\n\n",
            "text/latex": "A tibble: 2 × 2\n\\begin{tabular}{ll}\n year & n\\\\\n <int> & <int>\\\\\n\\hline\n\t 1999 & 250740\\\\\n\t 2000 & 296920\\\\\n\\end{tabular}\n",
            "text/plain": [
              "  year n     \n",
              "1 1999 250740\n",
              "2 2000 296920"
            ]
          },
          "metadata": {}
        }
      ],
      "source": [
        "count(table1, year, wt = cases) # compute no. of cases for each year\n",
        "# these functions take tidy data & return tidy data. that's why it's part of the tidyverse \n",
        "# wt is weight. it takes the cases and sums them up \n",
        "# equivalent to grouping by year & then summarizing the cases "
      ]
    },
    {
      "cell_type": "markdown",
      "metadata": {
        "id": "vnx-KgqKchQn"
      },
      "source": [
        "`ggplot` also expects tidy data.  What if we plot a table with a messy data?"
      ]
    },
    {
      "cell_type": "code",
      "execution_count": 20,
      "metadata": {
        "id": "ceCjnxmFchQn",
        "outputId": "805d665b-3c4b-402a-a3dc-eb931793dabd",
        "colab": {
          "base_uri": "https://localhost:8080/"
        }
      },
      "outputs": [
        {
          "output_type": "stream",
          "name": "stdout",
          "text": [
            "\u001b[90m# A tibble: 12 × 4\u001b[39m\n",
            "   country      year type            count\n",
            "   \u001b[3m\u001b[90m<chr>\u001b[39m\u001b[23m       \u001b[3m\u001b[90m<int>\u001b[39m\u001b[23m \u001b[3m\u001b[90m<chr>\u001b[39m\u001b[23m           \u001b[3m\u001b[90m<int>\u001b[39m\u001b[23m\n",
            "\u001b[90m 1\u001b[39m Afghanistan  \u001b[4m1\u001b[24m999 cases             745\n",
            "\u001b[90m 2\u001b[39m Afghanistan  \u001b[4m1\u001b[24m999 population   19\u001b[4m9\u001b[24m\u001b[4m8\u001b[24m\u001b[4m7\u001b[24m071\n",
            "\u001b[90m 3\u001b[39m Afghanistan  \u001b[4m2\u001b[24m000 cases            \u001b[4m2\u001b[24m666\n",
            "\u001b[90m 4\u001b[39m Afghanistan  \u001b[4m2\u001b[24m000 population   20\u001b[4m5\u001b[24m\u001b[4m9\u001b[24m\u001b[4m5\u001b[24m360\n",
            "\u001b[90m 5\u001b[39m Brazil       \u001b[4m1\u001b[24m999 cases           \u001b[4m3\u001b[24m\u001b[4m7\u001b[24m737\n",
            "\u001b[90m 6\u001b[39m Brazil       \u001b[4m1\u001b[24m999 population  172\u001b[4m0\u001b[24m\u001b[4m0\u001b[24m\u001b[4m6\u001b[24m362\n",
            "\u001b[90m 7\u001b[39m Brazil       \u001b[4m2\u001b[24m000 cases           \u001b[4m8\u001b[24m\u001b[4m0\u001b[24m488\n",
            "\u001b[90m 8\u001b[39m Brazil       \u001b[4m2\u001b[24m000 population  174\u001b[4m5\u001b[24m\u001b[4m0\u001b[24m\u001b[4m4\u001b[24m898\n",
            "\u001b[90m 9\u001b[39m China        \u001b[4m1\u001b[24m999 cases          \u001b[4m2\u001b[24m\u001b[4m1\u001b[24m\u001b[4m2\u001b[24m258\n",
            "\u001b[90m10\u001b[39m China        \u001b[4m1\u001b[24m999 population \u001b[4m1\u001b[24m272\u001b[4m9\u001b[24m\u001b[4m1\u001b[24m\u001b[4m5\u001b[24m272\n",
            "\u001b[90m11\u001b[39m China        \u001b[4m2\u001b[24m000 cases          \u001b[4m2\u001b[24m\u001b[4m1\u001b[24m\u001b[4m3\u001b[24m766\n",
            "\u001b[90m12\u001b[39m China        \u001b[4m2\u001b[24m000 population \u001b[4m1\u001b[24m280\u001b[4m4\u001b[24m\u001b[4m2\u001b[24m\u001b[4m8\u001b[24m583\n"
          ]
        }
      ],
      "source": [
        "print(table2)\n",
        "# again, this is a messy data "
      ]
    },
    {
      "cell_type": "code",
      "execution_count": 21,
      "metadata": {
        "id": "0FVI-B0PchQn",
        "outputId": "de5cdd2f-804a-4f01-f724-34956837a5c7",
        "colab": {
          "base_uri": "https://localhost:8080/",
          "height": 317
        }
      },
      "outputs": [
        {
          "output_type": "display_data",
          "data": {
            "text/plain": [
              "plot without title"
            ],
            "image/png": "[encoded data removed]"
          },
          "metadata": {
            "image/png": {
              "width": 480,
              "height": 300
            }
          }
        }
      ],
      "source": [
        "ggplot(table2, aes(x=year, y=count, color=type)) +\n",
        "    geom_line(aes(group = country)) +\n",
        "    geom_point(aes(color = country)) +\n",
        "    scale_x_continuous(breaks=c(1999, 2000))\n",
        "# notice, we now have a mix of countries, cases, & population (key/legend)\n",
        "# this is why we need to clean/tidy our data "
      ]
    },
    {
      "cell_type": "markdown",
      "metadata": {
        "id": "k9T_sK2LchQn"
      },
      "source": [
        "## Creating tidy data\n",
        "If the data is not already tidy, then we might need to some work before we can use the tools in `dplyr`. The package `tidyr` inside `tidyverse` allows one to convert data into the tidy data.\n",
        "\n",
        "2 Methods to Tidy Data: \n",
        "- Pivot longer\n",
        "- Pivot wider"
      ]
    },
    {
      "cell_type": "markdown",
      "metadata": {
        "id": "O1qgITXRchQo"
      },
      "source": [
        "### Making data longer\n",
        "One common problem in when a variable is spread across multiple columns and we need to gather those columns to create a new pair of variables. For example, consider `table4a` from above:"
      ]
    },
    {
      "cell_type": "code",
      "execution_count": 22,
      "metadata": {
        "id": "wpkUmx54chQo",
        "outputId": "5197a940-3a45-46c5-f4f1-f36e654a1901",
        "colab": {
          "base_uri": "https://localhost:8080/"
        }
      },
      "outputs": [
        {
          "output_type": "stream",
          "name": "stdout",
          "text": [
            "\u001b[90m# A tibble: 3 × 3\u001b[39m\n",
            "  country     `1999` `2000`\n",
            "\u001b[90m*\u001b[39m \u001b[3m\u001b[90m<chr>\u001b[39m\u001b[23m        \u001b[3m\u001b[90m<int>\u001b[39m\u001b[23m  \u001b[3m\u001b[90m<int>\u001b[39m\u001b[23m\n",
            "\u001b[90m1\u001b[39m Afghanistan    745   \u001b[4m2\u001b[24m666\n",
            "\u001b[90m2\u001b[39m Brazil       \u001b[4m3\u001b[24m\u001b[4m7\u001b[24m737  \u001b[4m8\u001b[24m\u001b[4m0\u001b[24m488\n",
            "\u001b[90m3\u001b[39m China       \u001b[4m2\u001b[24m\u001b[4m1\u001b[24m\u001b[4m2\u001b[24m258 \u001b[4m2\u001b[24m\u001b[4m1\u001b[24m\u001b[4m3\u001b[24m766\n"
          ]
        }
      ],
      "source": [
        "print(table4a)\n",
        "# wide table\n",
        "# we want 1999 & 2000 to be a variable/column"
      ]
    },
    {
      "cell_type": "code",
      "source": [
        "?pivot_longer"
      ],
      "metadata": {
        "id": "yvZEjBQ7jWbT"
      },
      "execution_count": 23,
      "outputs": []
    },
    {
      "cell_type": "code",
      "source": [
        "table4a%>%\n",
        "  pivot_longer(cols=c('1999','2000'))\n",
        "# seems to be working fine \n",
        "# even if you had 10 yrs, they will only shrink to these 2 columns \n",
        "# name column doesn't actually make sense. should change this to year\n",
        "# should change value to cases as well"
      ],
      "metadata": {
        "colab": {
          "base_uri": "https://localhost:8080/",
          "height": 286
        },
        "id": "OBT4teaQjZKM",
        "outputId": "8ebe404a-6c4e-470e-9cdc-aff818fc870a"
      },
      "execution_count": 24,
      "outputs": [
        {
          "output_type": "display_data",
          "data": {
            "text/html": [
              "<table class=\"dataframe\">\n",
              "<caption>A tibble: 6 × 3</caption>\n",
              "<thead>\n",
              "\t<tr><th scope=col>country</th><th scope=col>name</th><th scope=col>value</th></tr>\n",
              "\t<tr><th scope=col>&lt;chr&gt;</th><th scope=col>&lt;chr&gt;</th><th scope=col>&lt;int&gt;</th></tr>\n",
              "</thead>\n",
              "<tbody>\n",
              "\t<tr><td>Afghanistan</td><td>1999</td><td>   745</td></tr>\n",
              "\t<tr><td>Afghanistan</td><td>2000</td><td>  2666</td></tr>\n",
              "\t<tr><td>Brazil     </td><td>1999</td><td> 37737</td></tr>\n",
              "\t<tr><td>Brazil     </td><td>2000</td><td> 80488</td></tr>\n",
              "\t<tr><td>China      </td><td>1999</td><td>212258</td></tr>\n",
              "\t<tr><td>China      </td><td>2000</td><td>213766</td></tr>\n",
              "</tbody>\n",
              "</table>\n"
            ],
            "text/markdown": "\nA tibble: 6 × 3\n\n| country &lt;chr&gt; | name &lt;chr&gt; | value &lt;int&gt; |\n|---|---|---|\n| Afghanistan | 1999 |    745 |\n| Afghanistan | 2000 |   2666 |\n| Brazil      | 1999 |  37737 |\n| Brazil      | 2000 |  80488 |\n| China       | 1999 | 212258 |\n| China       | 2000 | 213766 |\n\n",
            "text/latex": "A tibble: 6 × 3\n\\begin{tabular}{lll}\n country & name & value\\\\\n <chr> & <chr> & <int>\\\\\n\\hline\n\t Afghanistan & 1999 &    745\\\\\n\t Afghanistan & 2000 &   2666\\\\\n\t Brazil      & 1999 &  37737\\\\\n\t Brazil      & 2000 &  80488\\\\\n\t China       & 1999 & 212258\\\\\n\t China       & 2000 & 213766\\\\\n\\end{tabular}\n",
            "text/plain": [
              "  country     name value \n",
              "1 Afghanistan 1999    745\n",
              "2 Afghanistan 2000   2666\n",
              "3 Brazil      1999  37737\n",
              "4 Brazil      2000  80488\n",
              "5 China       1999 212258\n",
              "6 China       2000 213766"
            ]
          },
          "metadata": {}
        }
      ]
    },
    {
      "cell_type": "markdown",
      "metadata": {
        "id": "BsSOrLAIchQo"
      },
      "source": [
        "Here there is a year variable which is spread across two columns. To become tidy, it should get its own `year` column. We want to make the data *longer* by taking the year columns and combining them into one column:\n",
        "![gather illustration](http://r4ds.had.co.nz/images/tidy-9.png)"
      ]
    },
    {
      "cell_type": "markdown",
      "metadata": {
        "id": "PWEg5JZ0chQp"
      },
      "source": [
        "The command to do this is called `pivot_longer()`. To use it, we need to tell R three things:\n",
        "\n",
        "* which existing columns correspond to values of a variable\n",
        "* what is the name of the variable (the **key**) whose values currently appear as column names.\n",
        "* what is the name of the variable (the **value**) whose values are currently spread over the cells.\n",
        "\n",
        "(When using `pivot_longer()`, neither the **key** nor **value** column names currently exist in your data. They are \"destination\" columns in the new table.)"
      ]
    },
    {
      "cell_type": "code",
      "execution_count": null,
      "metadata": {
        "id": "NgsLaAYSchQp"
      },
      "outputs": [],
      "source": [
        "# pivot table4a with default arguments"
      ]
    },
    {
      "cell_type": "markdown",
      "metadata": {
        "id": "iV1bnp8vchQp"
      },
      "source": [
        "Notice how R chose default names \"name\" and \"value\" for the new columns it created. We can change those to be more informative using the options `names_to=` and `values_to=`:"
      ]
    },
    {
      "cell_type": "code",
      "execution_count": 33,
      "metadata": {
        "id": "r46jvuf6chQq",
        "colab": {
          "base_uri": "https://localhost:8080/",
          "height": 286
        },
        "outputId": "70f217ef-21b9-4d57-a2da-14922f74d194"
      },
      "outputs": [
        {
          "output_type": "display_data",
          "data": {
            "text/html": [
              "<table class=\"dataframe\">\n",
              "<caption>A tibble: 6 × 3</caption>\n",
              "<thead>\n",
              "\t<tr><th scope=col>country</th><th scope=col>year</th><th scope=col>cases</th></tr>\n",
              "\t<tr><th scope=col>&lt;chr&gt;</th><th scope=col>&lt;chr&gt;</th><th scope=col>&lt;int&gt;</th></tr>\n",
              "</thead>\n",
              "<tbody>\n",
              "\t<tr><td>Afghanistan</td><td>1999</td><td>   745</td></tr>\n",
              "\t<tr><td>Afghanistan</td><td>2000</td><td>  2666</td></tr>\n",
              "\t<tr><td>Brazil     </td><td>1999</td><td> 37737</td></tr>\n",
              "\t<tr><td>Brazil     </td><td>2000</td><td> 80488</td></tr>\n",
              "\t<tr><td>China      </td><td>1999</td><td>212258</td></tr>\n",
              "\t<tr><td>China      </td><td>2000</td><td>213766</td></tr>\n",
              "</tbody>\n",
              "</table>\n"
            ],
            "text/markdown": "\nA tibble: 6 × 3\n\n| country &lt;chr&gt; | year &lt;chr&gt; | cases &lt;int&gt; |\n|---|---|---|\n| Afghanistan | 1999 |    745 |\n| Afghanistan | 2000 |   2666 |\n| Brazil      | 1999 |  37737 |\n| Brazil      | 2000 |  80488 |\n| China       | 1999 | 212258 |\n| China       | 2000 | 213766 |\n\n",
            "text/latex": "A tibble: 6 × 3\n\\begin{tabular}{lll}\n country & year & cases\\\\\n <chr> & <chr> & <int>\\\\\n\\hline\n\t Afghanistan & 1999 &    745\\\\\n\t Afghanistan & 2000 &   2666\\\\\n\t Brazil      & 1999 &  37737\\\\\n\t Brazil      & 2000 &  80488\\\\\n\t China       & 1999 & 212258\\\\\n\t China       & 2000 & 213766\\\\\n\\end{tabular}\n",
            "text/plain": [
              "  country     year cases \n",
              "1 Afghanistan 1999    745\n",
              "2 Afghanistan 2000   2666\n",
              "3 Brazil      1999  37737\n",
              "4 Brazil      2000  80488\n",
              "5 China       1999 212258\n",
              "6 China       2000 213766"
            ]
          },
          "metadata": {}
        }
      ],
      "source": [
        "# pivot table4a with informative column names\n",
        "table4a%>%\n",
        "  pivot_longer(cols=!c('country'),names_to='year',values_to='cases')\n",
        "# we only have 2 yrs (1999 & 2000), but if we had multiple yrs, \n",
        "# we could do cols=!c('country') \"everything except what i'm mentioning here\"\n",
        "# or we can do cols=c('1999':'2020')"
      ]
    },
    {
      "cell_type": "markdown",
      "metadata": {
        "id": "k5HP3-nechQq"
      },
      "source": [
        "### Exercise\n",
        "Let us try to transform `table4b` to tidy format:"
      ]
    },
    {
      "cell_type": "code",
      "execution_count": 28,
      "metadata": {
        "id": "wPRSuo9pchQq",
        "outputId": "4a92ec60-0463-4643-9000-95443db5b659",
        "colab": {
          "base_uri": "https://localhost:8080/",
          "height": 192
        }
      },
      "outputs": [
        {
          "output_type": "display_data",
          "data": {
            "text/html": [
              "<table class=\"dataframe\">\n",
              "<caption>A tibble: 3 × 3</caption>\n",
              "<thead>\n",
              "\t<tr><th></th><th scope=col>country</th><th scope=col>1999</th><th scope=col>2000</th></tr>\n",
              "\t<tr><th></th><th scope=col>&lt;chr&gt;</th><th scope=col>&lt;int&gt;</th><th scope=col>&lt;int&gt;</th></tr>\n",
              "</thead>\n",
              "<tbody>\n",
              "\t<tr><th scope=row>1</th><td>Afghanistan</td><td>  19987071</td><td>  20595360</td></tr>\n",
              "\t<tr><th scope=row>2</th><td>Brazil     </td><td> 172006362</td><td> 174504898</td></tr>\n",
              "\t<tr><th scope=row>3</th><td>China      </td><td>1272915272</td><td>1280428583</td></tr>\n",
              "</tbody>\n",
              "</table>\n"
            ],
            "text/markdown": "\nA tibble: 3 × 3\n\n| <!--/--> | country &lt;chr&gt; | 1999 &lt;int&gt; | 2000 &lt;int&gt; |\n|---|---|---|---|\n| 1 | Afghanistan |   19987071 |   20595360 |\n| 2 | Brazil      |  172006362 |  174504898 |\n| 3 | China       | 1272915272 | 1280428583 |\n\n",
            "text/latex": "A tibble: 3 × 3\n\\begin{tabular}{r|lll}\n  & country & 1999 & 2000\\\\\n  & <chr> & <int> & <int>\\\\\n\\hline\n\t1 & Afghanistan &   19987071 &   20595360\\\\\n\t2 & Brazil      &  172006362 &  174504898\\\\\n\t3 & China       & 1272915272 & 1280428583\\\\\n\\end{tabular}\n",
            "text/plain": [
              "  country     1999       2000      \n",
              "1 Afghanistan   19987071   20595360\n",
              "2 Brazil       172006362  174504898\n",
              "3 China       1272915272 1280428583"
            ]
          },
          "metadata": {}
        }
      ],
      "source": [
        "table4b"
      ]
    },
    {
      "cell_type": "code",
      "source": [
        "?pivot_longer"
      ],
      "metadata": {
        "id": "Dh0Bpgz0lwAr"
      },
      "execution_count": 30,
      "outputs": []
    },
    {
      "cell_type": "code",
      "execution_count": 32,
      "metadata": {
        "id": "OCDPySxhchQs",
        "colab": {
          "base_uri": "https://localhost:8080/",
          "height": 286
        },
        "outputId": "6b9f666d-0382-4298-ec1d-97255724328c"
      },
      "outputs": [
        {
          "output_type": "display_data",
          "data": {
            "text/html": [
              "<table class=\"dataframe\">\n",
              "<caption>A tibble: 6 × 3</caption>\n",
              "<thead>\n",
              "\t<tr><th scope=col>country</th><th scope=col>year</th><th scope=col>population</th></tr>\n",
              "\t<tr><th scope=col>&lt;chr&gt;</th><th scope=col>&lt;chr&gt;</th><th scope=col>&lt;int&gt;</th></tr>\n",
              "</thead>\n",
              "<tbody>\n",
              "\t<tr><td>Afghanistan</td><td>1999</td><td>  19987071</td></tr>\n",
              "\t<tr><td>Afghanistan</td><td>2000</td><td>  20595360</td></tr>\n",
              "\t<tr><td>Brazil     </td><td>1999</td><td> 172006362</td></tr>\n",
              "\t<tr><td>Brazil     </td><td>2000</td><td> 174504898</td></tr>\n",
              "\t<tr><td>China      </td><td>1999</td><td>1272915272</td></tr>\n",
              "\t<tr><td>China      </td><td>2000</td><td>1280428583</td></tr>\n",
              "</tbody>\n",
              "</table>\n"
            ],
            "text/markdown": "\nA tibble: 6 × 3\n\n| country &lt;chr&gt; | year &lt;chr&gt; | population &lt;int&gt; |\n|---|---|---|\n| Afghanistan | 1999 |   19987071 |\n| Afghanistan | 2000 |   20595360 |\n| Brazil      | 1999 |  172006362 |\n| Brazil      | 2000 |  174504898 |\n| China       | 1999 | 1272915272 |\n| China       | 2000 | 1280428583 |\n\n",
            "text/latex": "A tibble: 6 × 3\n\\begin{tabular}{lll}\n country & year & population\\\\\n <chr> & <chr> & <int>\\\\\n\\hline\n\t Afghanistan & 1999 &   19987071\\\\\n\t Afghanistan & 2000 &   20595360\\\\\n\t Brazil      & 1999 &  172006362\\\\\n\t Brazil      & 2000 &  174504898\\\\\n\t China       & 1999 & 1272915272\\\\\n\t China       & 2000 & 1280428583\\\\\n\\end{tabular}\n",
            "text/plain": [
              "  country     year population\n",
              "1 Afghanistan 1999   19987071\n",
              "2 Afghanistan 2000   20595360\n",
              "3 Brazil      1999  172006362\n",
              "4 Brazil      2000  174504898\n",
              "5 China       1999 1272915272\n",
              "6 China       2000 1280428583"
            ]
          },
          "metadata": {}
        }
      ],
      "source": [
        "# pivot table4b to long format\n",
        "table4b%>%\n",
        "  pivot_longer(cols=c('1999','2000'),names_to='year',values_to='population')"
      ]
    },
    {
      "cell_type": "markdown",
      "metadata": {
        "id": "GbWTucGichQt"
      },
      "source": [
        "## Wider data\n",
        "Another type of problem is when an observation is scattered across multiple rows. Here we want to do the opposite of gather: we want to make the data **wider** by spreading these rows out into new columns.\n",
        "![spread data](http://r4ds.had.co.nz/images/tidy-8.png)"
      ]
    },
    {
      "cell_type": "markdown",
      "metadata": {
        "id": "4Q5PX3FSchQt"
      },
      "source": [
        "The command to do this is called `pivot_wider`. To use it we need to specify two things:\n",
        "\n",
        "* which existing column has the variable **names**\n",
        "* which existing column has the **values** for those variables"
      ]
    },
    {
      "cell_type": "markdown",
      "metadata": {
        "id": "cOCIN6ohchQt"
      },
      "source": [
        "### Exercise\n",
        "Convert `table2` to tidy format using `pivot_wider()`. "
      ]
    },
    {
      "cell_type": "code",
      "execution_count": 34,
      "metadata": {
        "id": "zzawdlJKchQu",
        "outputId": "8cb6bb66-8e56-43cf-c7b2-a27c3911f4fa",
        "colab": {
          "base_uri": "https://localhost:8080/"
        }
      },
      "outputs": [
        {
          "output_type": "stream",
          "name": "stdout",
          "text": [
            "\u001b[90m# A tibble: 12 × 4\u001b[39m\n",
            "   country      year type            count\n",
            "   \u001b[3m\u001b[90m<chr>\u001b[39m\u001b[23m       \u001b[3m\u001b[90m<int>\u001b[39m\u001b[23m \u001b[3m\u001b[90m<chr>\u001b[39m\u001b[23m           \u001b[3m\u001b[90m<int>\u001b[39m\u001b[23m\n",
            "\u001b[90m 1\u001b[39m Afghanistan  \u001b[4m1\u001b[24m999 cases             745\n",
            "\u001b[90m 2\u001b[39m Afghanistan  \u001b[4m1\u001b[24m999 population   19\u001b[4m9\u001b[24m\u001b[4m8\u001b[24m\u001b[4m7\u001b[24m071\n",
            "\u001b[90m 3\u001b[39m Afghanistan  \u001b[4m2\u001b[24m000 cases            \u001b[4m2\u001b[24m666\n",
            "\u001b[90m 4\u001b[39m Afghanistan  \u001b[4m2\u001b[24m000 population   20\u001b[4m5\u001b[24m\u001b[4m9\u001b[24m\u001b[4m5\u001b[24m360\n",
            "\u001b[90m 5\u001b[39m Brazil       \u001b[4m1\u001b[24m999 cases           \u001b[4m3\u001b[24m\u001b[4m7\u001b[24m737\n",
            "\u001b[90m 6\u001b[39m Brazil       \u001b[4m1\u001b[24m999 population  172\u001b[4m0\u001b[24m\u001b[4m0\u001b[24m\u001b[4m6\u001b[24m362\n",
            "\u001b[90m 7\u001b[39m Brazil       \u001b[4m2\u001b[24m000 cases           \u001b[4m8\u001b[24m\u001b[4m0\u001b[24m488\n",
            "\u001b[90m 8\u001b[39m Brazil       \u001b[4m2\u001b[24m000 population  174\u001b[4m5\u001b[24m\u001b[4m0\u001b[24m\u001b[4m4\u001b[24m898\n",
            "\u001b[90m 9\u001b[39m China        \u001b[4m1\u001b[24m999 cases          \u001b[4m2\u001b[24m\u001b[4m1\u001b[24m\u001b[4m2\u001b[24m258\n",
            "\u001b[90m10\u001b[39m China        \u001b[4m1\u001b[24m999 population \u001b[4m1\u001b[24m272\u001b[4m9\u001b[24m\u001b[4m1\u001b[24m\u001b[4m5\u001b[24m272\n",
            "\u001b[90m11\u001b[39m China        \u001b[4m2\u001b[24m000 cases          \u001b[4m2\u001b[24m\u001b[4m1\u001b[24m\u001b[4m3\u001b[24m766\n",
            "\u001b[90m12\u001b[39m China        \u001b[4m2\u001b[24m000 population \u001b[4m1\u001b[24m280\u001b[4m4\u001b[24m\u001b[4m2\u001b[24m\u001b[4m8\u001b[24m583\n"
          ]
        }
      ],
      "source": [
        "print(table2)"
      ]
    },
    {
      "cell_type": "code",
      "source": [
        "?pivot_wider"
      ],
      "metadata": {
        "id": "GaBYP7FjmaMt"
      },
      "execution_count": 37,
      "outputs": []
    },
    {
      "cell_type": "code",
      "execution_count": 40,
      "metadata": {
        "id": "5yUe5QC2chQv",
        "colab": {
          "base_uri": "https://localhost:8080/",
          "height": 286
        },
        "outputId": "12aa5cc8-1e3d-49c0-c39d-331a08d71f99"
      },
      "outputs": [
        {
          "output_type": "display_data",
          "data": {
            "text/html": [
              "<table class=\"dataframe\">\n",
              "<caption>A tibble: 6 × 4</caption>\n",
              "<thead>\n",
              "\t<tr><th scope=col>country</th><th scope=col>year</th><th scope=col>cases</th><th scope=col>population</th></tr>\n",
              "\t<tr><th scope=col>&lt;chr&gt;</th><th scope=col>&lt;int&gt;</th><th scope=col>&lt;int&gt;</th><th scope=col>&lt;int&gt;</th></tr>\n",
              "</thead>\n",
              "<tbody>\n",
              "\t<tr><td>Afghanistan</td><td>1999</td><td>   745</td><td>  19987071</td></tr>\n",
              "\t<tr><td>Afghanistan</td><td>2000</td><td>  2666</td><td>  20595360</td></tr>\n",
              "\t<tr><td>Brazil     </td><td>1999</td><td> 37737</td><td> 172006362</td></tr>\n",
              "\t<tr><td>Brazil     </td><td>2000</td><td> 80488</td><td> 174504898</td></tr>\n",
              "\t<tr><td>China      </td><td>1999</td><td>212258</td><td>1272915272</td></tr>\n",
              "\t<tr><td>China      </td><td>2000</td><td>213766</td><td>1280428583</td></tr>\n",
              "</tbody>\n",
              "</table>\n"
            ],
            "text/markdown": "\nA tibble: 6 × 4\n\n| country &lt;chr&gt; | year &lt;int&gt; | cases &lt;int&gt; | population &lt;int&gt; |\n|---|---|---|---|\n| Afghanistan | 1999 |    745 |   19987071 |\n| Afghanistan | 2000 |   2666 |   20595360 |\n| Brazil      | 1999 |  37737 |  172006362 |\n| Brazil      | 2000 |  80488 |  174504898 |\n| China       | 1999 | 212258 | 1272915272 |\n| China       | 2000 | 213766 | 1280428583 |\n\n",
            "text/latex": "A tibble: 6 × 4\n\\begin{tabular}{llll}\n country & year & cases & population\\\\\n <chr> & <int> & <int> & <int>\\\\\n\\hline\n\t Afghanistan & 1999 &    745 &   19987071\\\\\n\t Afghanistan & 2000 &   2666 &   20595360\\\\\n\t Brazil      & 1999 &  37737 &  172006362\\\\\n\t Brazil      & 2000 &  80488 &  174504898\\\\\n\t China       & 1999 & 212258 & 1272915272\\\\\n\t China       & 2000 & 213766 & 1280428583\\\\\n\\end{tabular}\n",
            "text/plain": [
              "  country     year cases  population\n",
              "1 Afghanistan 1999    745   19987071\n",
              "2 Afghanistan 2000   2666   20595360\n",
              "3 Brazil      1999  37737  172006362\n",
              "4 Brazil      2000  80488  174504898\n",
              "5 China       1999 212258 1272915272\n",
              "6 China       2000 213766 1280428583"
            ]
          },
          "metadata": {}
        }
      ],
      "source": [
        "# make table2 wider by separating cases and population into different columns\n",
        "table2%>%\n",
        "  pivot_wider(names_from=type,values_from=count)\n",
        "# if type had influenza, covid, tb instead of just cases; then each of those values would've had their own columns "
      ]
    },
    {
      "cell_type": "markdown",
      "metadata": {
        "id": "N7z6RyPFchQv"
      },
      "source": [
        "## Summary\n",
        "\n",
        "* `pivot_longer` tends to make wide tables narrower and longer\n",
        "* `pivot_wider` tends to make long tables shorter and wider\n",
        "* They are inverses -- each one undos the other."
      ]
    },
    {
      "cell_type": "markdown",
      "metadata": {
        "id": "f98qTJw_chQw"
      },
      "source": [
        "Another use for these commands is to create data in a format that is better for humans to read. \n",
        "Some tables are more readable if they are put in a non-tidy format. This is often the case with time data."
      ]
    },
    {
      "cell_type": "markdown",
      "metadata": {
        "id": "VpW8ktoEchQw"
      },
      "source": [
        "### Exercise\n",
        "Re-create the following table which shows monthly departures from the three NYC airports:\n",
        "```\n",
        "  origin 1    2    3     4     5     6     7     8     9    10    11   12  \n",
        "1 EWR    9893 9107 10420 10531 10592 10175 10475 10359 9550 10104 9707 9922\n",
        "2 JFK    9161 8421  9697  9218  9397  9472 10023  9983 8908  9143 8710 9146\n",
        "3 LGA    7950 7423  8717  8581  8807  8596  8927  8985 9116  9642 8851 9067\n",
        "```"
      ]
    },
    {
      "cell_type": "code",
      "execution_count": 42,
      "metadata": {
        "id": "o7i1PBeSchQw"
      },
      "outputs": [],
      "source": [
        "# spread nycflights out to show departures by month for each airport\n",
        "library(nycflights13)"
      ]
    },
    {
      "cell_type": "code",
      "source": [
        "flights%>%\n",
        "  group_by(origin,month)%>%\n",
        "  summarize(n=n())%>%\n",
        "  print\n",
        "# seems to be matching from the table above so far\n",
        "# want to make this wider \n",
        "# what we did here is that we pulled specific columns from the flights dataset "
      ],
      "metadata": {
        "colab": {
          "base_uri": "https://localhost:8080/"
        },
        "id": "ATaHf0Nzn0aJ",
        "outputId": "470c208d-5292-4a7a-8908-1b4ae58cc1a3"
      },
      "execution_count": 43,
      "outputs": [
        {
          "output_type": "stream",
          "name": "stderr",
          "text": [
            "\u001b[1m\u001b[22m`summarise()` has grouped output by 'origin'. You can override using the\n",
            "`.groups` argument.\n"
          ]
        },
        {
          "output_type": "stream",
          "name": "stdout",
          "text": [
            "\u001b[90m# A tibble: 36 × 3\u001b[39m\n",
            "\u001b[90m# Groups:   origin [3]\u001b[39m\n",
            "   origin month     n\n",
            "   \u001b[3m\u001b[90m<chr>\u001b[39m\u001b[23m  \u001b[3m\u001b[90m<int>\u001b[39m\u001b[23m \u001b[3m\u001b[90m<int>\u001b[39m\u001b[23m\n",
            "\u001b[90m 1\u001b[39m EWR        1  \u001b[4m9\u001b[24m893\n",
            "\u001b[90m 2\u001b[39m EWR        2  \u001b[4m9\u001b[24m107\n",
            "\u001b[90m 3\u001b[39m EWR        3 \u001b[4m1\u001b[24m\u001b[4m0\u001b[24m420\n",
            "\u001b[90m 4\u001b[39m EWR        4 \u001b[4m1\u001b[24m\u001b[4m0\u001b[24m531\n",
            "\u001b[90m 5\u001b[39m EWR        5 \u001b[4m1\u001b[24m\u001b[4m0\u001b[24m592\n",
            "\u001b[90m 6\u001b[39m EWR        6 \u001b[4m1\u001b[24m\u001b[4m0\u001b[24m175\n",
            "\u001b[90m 7\u001b[39m EWR        7 \u001b[4m1\u001b[24m\u001b[4m0\u001b[24m475\n",
            "\u001b[90m 8\u001b[39m EWR        8 \u001b[4m1\u001b[24m\u001b[4m0\u001b[24m359\n",
            "\u001b[90m 9\u001b[39m EWR        9  \u001b[4m9\u001b[24m550\n",
            "\u001b[90m10\u001b[39m EWR       10 \u001b[4m1\u001b[24m\u001b[4m0\u001b[24m104\n",
            "\u001b[90m# … with 26 more rows\u001b[39m\n"
          ]
        }
      ]
    },
    {
      "cell_type": "code",
      "source": [
        "flights%>%\n",
        "  group_by(origin,month)%>%\n",
        "  summarize(n=n())%>%\n",
        "  pivot_wider(names_from=month,values_from=n)%>%\n",
        "  print"
      ],
      "metadata": {
        "colab": {
          "base_uri": "https://localhost:8080/"
        },
        "id": "7nae7mAUoEY0",
        "outputId": "00799ef5-4c46-4c5a-d6e1-b52f8ded9455"
      },
      "execution_count": 45,
      "outputs": [
        {
          "output_type": "stream",
          "name": "stderr",
          "text": [
            "\u001b[1m\u001b[22m`summarise()` has grouped output by 'origin'. You can override using the\n",
            "`.groups` argument.\n"
          ]
        },
        {
          "output_type": "stream",
          "name": "stdout",
          "text": [
            "\u001b[90m# A tibble: 3 × 13\u001b[39m\n",
            "\u001b[90m# Groups:   origin [3]\u001b[39m\n",
            "  origin   `1`   `2`   `3`   `4`   `5`   `6`   `7`   `8`   `9`  `10`  `11`  `12`\n",
            "  \u001b[3m\u001b[90m<chr>\u001b[39m\u001b[23m  \u001b[3m\u001b[90m<int>\u001b[39m\u001b[23m \u001b[3m\u001b[90m<int>\u001b[39m\u001b[23m \u001b[3m\u001b[90m<int>\u001b[39m\u001b[23m \u001b[3m\u001b[90m<int>\u001b[39m\u001b[23m \u001b[3m\u001b[90m<int>\u001b[39m\u001b[23m \u001b[3m\u001b[90m<int>\u001b[39m\u001b[23m \u001b[3m\u001b[90m<int>\u001b[39m\u001b[23m \u001b[3m\u001b[90m<int>\u001b[39m\u001b[23m \u001b[3m\u001b[90m<int>\u001b[39m\u001b[23m \u001b[3m\u001b[90m<int>\u001b[39m\u001b[23m \u001b[3m\u001b[90m<int>\u001b[39m\u001b[23m \u001b[3m\u001b[90m<int>\u001b[39m\u001b[23m\n",
            "\u001b[90m1\u001b[39m EWR     \u001b[4m9\u001b[24m893  \u001b[4m9\u001b[24m107 \u001b[4m1\u001b[24m\u001b[4m0\u001b[24m420 \u001b[4m1\u001b[24m\u001b[4m0\u001b[24m531 \u001b[4m1\u001b[24m\u001b[4m0\u001b[24m592 \u001b[4m1\u001b[24m\u001b[4m0\u001b[24m175 \u001b[4m1\u001b[24m\u001b[4m0\u001b[24m475 \u001b[4m1\u001b[24m\u001b[4m0\u001b[24m359  \u001b[4m9\u001b[24m550 \u001b[4m1\u001b[24m\u001b[4m0\u001b[24m104  \u001b[4m9\u001b[24m707  \u001b[4m9\u001b[24m922\n",
            "\u001b[90m2\u001b[39m JFK     \u001b[4m9\u001b[24m161  \u001b[4m8\u001b[24m421  \u001b[4m9\u001b[24m697  \u001b[4m9\u001b[24m218  \u001b[4m9\u001b[24m397  \u001b[4m9\u001b[24m472 \u001b[4m1\u001b[24m\u001b[4m0\u001b[24m023  \u001b[4m9\u001b[24m983  \u001b[4m8\u001b[24m908  \u001b[4m9\u001b[24m143  \u001b[4m8\u001b[24m710  \u001b[4m9\u001b[24m146\n",
            "\u001b[90m3\u001b[39m LGA     \u001b[4m7\u001b[24m950  \u001b[4m7\u001b[24m423  \u001b[4m8\u001b[24m717  \u001b[4m8\u001b[24m581  \u001b[4m8\u001b[24m807  \u001b[4m8\u001b[24m596  \u001b[4m8\u001b[24m927  \u001b[4m8\u001b[24m985  \u001b[4m9\u001b[24m116  \u001b[4m9\u001b[24m642  \u001b[4m8\u001b[24m851  \u001b[4m9\u001b[24m067\n"
          ]
        }
      ]
    },
    {
      "cell_type": "markdown",
      "metadata": {
        "id": "Q9EBb6KychQw"
      },
      "source": [
        "## Example: `gapminder`\n",
        "`gapminder` is a library of socioeconomic data collected over time and across many different countries:"
      ]
    },
    {
      "cell_type": "code",
      "source": [
        "install.packages('gapminder')"
      ],
      "metadata": {
        "colab": {
          "base_uri": "https://localhost:8080/"
        },
        "id": "GrAX-wf3oeBV",
        "outputId": "4026425d-2b9c-46cb-878c-1847e5f7889e"
      },
      "execution_count": 47,
      "outputs": [
        {
          "output_type": "stream",
          "name": "stderr",
          "text": [
            "Installing package into ‘/usr/local/lib/R/site-library’\n",
            "(as ‘lib’ is unspecified)\n",
            "\n"
          ]
        }
      ]
    },
    {
      "cell_type": "code",
      "execution_count": 48,
      "metadata": {
        "id": "3HEzszIxchQw",
        "outputId": "3a2b9ca2-998c-4296-ff01-d000498494a7",
        "colab": {
          "base_uri": "https://localhost:8080/"
        }
      },
      "outputs": [
        {
          "output_type": "stream",
          "name": "stdout",
          "text": [
            "\u001b[90m# A tibble: 1,704 × 6\u001b[39m\n",
            "   country     continent  year lifeExp      pop gdpPercap\n",
            "   \u001b[3m\u001b[90m<fct>\u001b[39m\u001b[23m       \u001b[3m\u001b[90m<fct>\u001b[39m\u001b[23m     \u001b[3m\u001b[90m<int>\u001b[39m\u001b[23m   \u001b[3m\u001b[90m<dbl>\u001b[39m\u001b[23m    \u001b[3m\u001b[90m<int>\u001b[39m\u001b[23m     \u001b[3m\u001b[90m<dbl>\u001b[39m\u001b[23m\n",
            "\u001b[90m 1\u001b[39m Afghanistan Asia       \u001b[4m1\u001b[24m952    28.8  8\u001b[4m4\u001b[24m\u001b[4m2\u001b[24m\u001b[4m5\u001b[24m333      779.\n",
            "\u001b[90m 2\u001b[39m Afghanistan Asia       \u001b[4m1\u001b[24m957    30.3  9\u001b[4m2\u001b[24m\u001b[4m4\u001b[24m\u001b[4m0\u001b[24m934      821.\n",
            "\u001b[90m 3\u001b[39m Afghanistan Asia       \u001b[4m1\u001b[24m962    32.0 10\u001b[4m2\u001b[24m\u001b[4m6\u001b[24m\u001b[4m7\u001b[24m083      853.\n",
            "\u001b[90m 4\u001b[39m Afghanistan Asia       \u001b[4m1\u001b[24m967    34.0 11\u001b[4m5\u001b[24m\u001b[4m3\u001b[24m\u001b[4m7\u001b[24m966      836.\n",
            "\u001b[90m 5\u001b[39m Afghanistan Asia       \u001b[4m1\u001b[24m972    36.1 13\u001b[4m0\u001b[24m\u001b[4m7\u001b[24m\u001b[4m9\u001b[24m460      740.\n",
            "\u001b[90m 6\u001b[39m Afghanistan Asia       \u001b[4m1\u001b[24m977    38.4 14\u001b[4m8\u001b[24m\u001b[4m8\u001b[24m\u001b[4m0\u001b[24m372      786.\n",
            "\u001b[90m 7\u001b[39m Afghanistan Asia       \u001b[4m1\u001b[24m982    39.9 12\u001b[4m8\u001b[24m\u001b[4m8\u001b[24m\u001b[4m1\u001b[24m816      978.\n",
            "\u001b[90m 8\u001b[39m Afghanistan Asia       \u001b[4m1\u001b[24m987    40.8 13\u001b[4m8\u001b[24m\u001b[4m6\u001b[24m\u001b[4m7\u001b[24m957      852.\n",
            "\u001b[90m 9\u001b[39m Afghanistan Asia       \u001b[4m1\u001b[24m992    41.7 16\u001b[4m3\u001b[24m\u001b[4m1\u001b[24m\u001b[4m7\u001b[24m921      649.\n",
            "\u001b[90m10\u001b[39m Afghanistan Asia       \u001b[4m1\u001b[24m997    41.8 22\u001b[4m2\u001b[24m\u001b[4m2\u001b[24m\u001b[4m7\u001b[24m415      635.\n",
            "\u001b[90m# … with 1,694 more rows\u001b[39m\n"
          ]
        }
      ],
      "source": [
        "library(gapminder)\n",
        "gapminder %>% print"
      ]
    },
    {
      "cell_type": "markdown",
      "metadata": {
        "id": "PSY7-cVlchQx"
      },
      "source": [
        "These data are in tidy format. We can easily do things like plot population over time (for example):"
      ]
    },
    {
      "cell_type": "code",
      "execution_count": 49,
      "metadata": {
        "id": "oaLWFHeCchQx",
        "outputId": "6e187f00-ad78-42af-e64d-692a5165a64a",
        "colab": {
          "base_uri": "https://localhost:8080/",
          "height": 317
        }
      },
      "outputs": [
        {
          "output_type": "display_data",
          "data": {
            "text/plain": [
              "plot without title"
            ],
            "image/png": "[encoded data removed]"
          },
          "metadata": {
            "image/png": {
              "width": 480,
              "height": 300
            }
          }
        }
      ],
      "source": [
        "gapminder %>% filter(continent == \"Americas\") %>% \n",
        "    ggplot(aes(x=year, y=gdpPercap, color=country)) + \n",
        "      geom_line()\n",
        "# filtering for just the americas, graph of year vs gdp, diff color/lines for diff countries (us, mexico)"
      ]
    },
    {
      "cell_type": "markdown",
      "metadata": {
        "id": "V9qWelDvchQx"
      },
      "source": [
        "With lots of different countries, it is (arguably) easier to present these data in tabular form. To do this, we need to untidy the data and place years along the horizontal axis:"
      ]
    },
    {
      "cell_type": "markdown",
      "metadata": {
        "id": "oZWrBOfYchQx"
      },
      "source": [
        "    # A tibble: 142 × 13\n",
        "       country `1952` `1957` `1962` `1967` `1972` `1977` `1982` `1987` `1992` `1997`\n",
        "       <fct>    <int>  <int>  <int>  <int>  <int>  <int>  <int>  <int>  <int>  <int>\n",
        "     1 Afghan… 8.43e6 9.24e6 1.03e7 1.15e7 1.31e7 1.49e7 1.29e7 1.39e7 1.63e7 2.22e7\n",
        "     2 Albania 1.28e6 1.48e6 1.73e6 1.98e6 2.26e6 2.51e6 2.78e6 3.08e6 3.33e6 3.43e6\n",
        "     3 Algeria 9.28e6 1.03e7 1.10e7 1.28e7 1.48e7 1.72e7 2.00e7 2.33e7 2.63e7 2.91e7\n",
        "     4 Angola  4.23e6 4.56e6 4.83e6 5.25e6 5.89e6 6.16e6 7.02e6 7.87e6 8.74e6 9.88e6\n",
        "     5 Argent… 1.79e7 1.96e7 2.13e7 2.29e7 2.48e7 2.70e7 2.93e7 3.16e7 3.40e7 3.62e7\n",
        "     6 Austra… 8.69e6 9.71e6 1.08e7 1.19e7 1.32e7 1.41e7 1.52e7 1.63e7 1.75e7 1.86e7\n",
        "     7 Austria 6.93e6 6.97e6 7.13e6 7.38e6 7.54e6 7.57e6 7.57e6 7.58e6 7.91e6 8.07e6\n",
        "     8 Bahrain 1.20e5 1.39e5 1.72e5 2.02e5 2.31e5 2.97e5 3.78e5 4.55e5 5.29e5 5.99e5\n",
        "     9 Bangla… 4.69e7 5.14e7 5.68e7 6.28e7 7.08e7 8.04e7 9.31e7 1.04e8 1.14e8 1.23e8\n",
        "    10 Belgium 8.73e6 8.99e6 9.22e6 9.56e6 9.71e6 9.82e6 9.86e6 9.87e6 1.00e7 1.02e7 \n",
        "    # … with 132 more rows, and 2 more variables: `2002` <int>, `2007` <int>"
      ]
    },
    {
      "cell_type": "code",
      "source": [
        "?pivot_wider"
      ],
      "metadata": {
        "id": "dYgWCjNyqF_P"
      },
      "execution_count": 50,
      "outputs": []
    },
    {
      "cell_type": "code",
      "execution_count": 51,
      "metadata": {
        "id": "JURiav98chQx",
        "colab": {
          "base_uri": "https://localhost:8080/"
        },
        "outputId": "15ef035a-f1d5-49f7-da76-055ed6dbc081"
      },
      "outputs": [
        {
          "output_type": "stream",
          "name": "stdout",
          "text": [
            "\u001b[90m# A tibble: 1,704 × 16\u001b[39m\n",
            "   country     contin…¹ lifeExp    pop `1952` `1957` `1962` `1967` `1972` `1977`\n",
            "   \u001b[3m\u001b[90m<fct>\u001b[39m\u001b[23m       \u001b[3m\u001b[90m<fct>\u001b[39m\u001b[23m      \u001b[3m\u001b[90m<dbl>\u001b[39m\u001b[23m  \u001b[3m\u001b[90m<int>\u001b[39m\u001b[23m  \u001b[3m\u001b[90m<dbl>\u001b[39m\u001b[23m  \u001b[3m\u001b[90m<dbl>\u001b[39m\u001b[23m  \u001b[3m\u001b[90m<dbl>\u001b[39m\u001b[23m  \u001b[3m\u001b[90m<dbl>\u001b[39m\u001b[23m  \u001b[3m\u001b[90m<dbl>\u001b[39m\u001b[23m  \u001b[3m\u001b[90m<dbl>\u001b[39m\u001b[23m\n",
            "\u001b[90m 1\u001b[39m Afghanistan Asia        28.8 8.43\u001b[90me\u001b[39m6   779.    \u001b[31mNA\u001b[39m     \u001b[31mNA\u001b[39m     \u001b[31mNA\u001b[39m     \u001b[31mNA\u001b[39m     \u001b[31mNA\u001b[39m \n",
            "\u001b[90m 2\u001b[39m Afghanistan Asia        30.3 9.24\u001b[90me\u001b[39m6    \u001b[31mNA\u001b[39m    821.    \u001b[31mNA\u001b[39m     \u001b[31mNA\u001b[39m     \u001b[31mNA\u001b[39m     \u001b[31mNA\u001b[39m \n",
            "\u001b[90m 3\u001b[39m Afghanistan Asia        32.0 1.03\u001b[90me\u001b[39m7    \u001b[31mNA\u001b[39m     \u001b[31mNA\u001b[39m    853.    \u001b[31mNA\u001b[39m     \u001b[31mNA\u001b[39m     \u001b[31mNA\u001b[39m \n",
            "\u001b[90m 4\u001b[39m Afghanistan Asia        34.0 1.15\u001b[90me\u001b[39m7    \u001b[31mNA\u001b[39m     \u001b[31mNA\u001b[39m     \u001b[31mNA\u001b[39m    836.    \u001b[31mNA\u001b[39m     \u001b[31mNA\u001b[39m \n",
            "\u001b[90m 5\u001b[39m Afghanistan Asia        36.1 1.31\u001b[90me\u001b[39m7    \u001b[31mNA\u001b[39m     \u001b[31mNA\u001b[39m     \u001b[31mNA\u001b[39m     \u001b[31mNA\u001b[39m    740.    \u001b[31mNA\u001b[39m \n",
            "\u001b[90m 6\u001b[39m Afghanistan Asia        38.4 1.49\u001b[90me\u001b[39m7    \u001b[31mNA\u001b[39m     \u001b[31mNA\u001b[39m     \u001b[31mNA\u001b[39m     \u001b[31mNA\u001b[39m     \u001b[31mNA\u001b[39m    786.\n",
            "\u001b[90m 7\u001b[39m Afghanistan Asia        39.9 1.29\u001b[90me\u001b[39m7    \u001b[31mNA\u001b[39m     \u001b[31mNA\u001b[39m     \u001b[31mNA\u001b[39m     \u001b[31mNA\u001b[39m     \u001b[31mNA\u001b[39m     \u001b[31mNA\u001b[39m \n",
            "\u001b[90m 8\u001b[39m Afghanistan Asia        40.8 1.39\u001b[90me\u001b[39m7    \u001b[31mNA\u001b[39m     \u001b[31mNA\u001b[39m     \u001b[31mNA\u001b[39m     \u001b[31mNA\u001b[39m     \u001b[31mNA\u001b[39m     \u001b[31mNA\u001b[39m \n",
            "\u001b[90m 9\u001b[39m Afghanistan Asia        41.7 1.63\u001b[90me\u001b[39m7    \u001b[31mNA\u001b[39m     \u001b[31mNA\u001b[39m     \u001b[31mNA\u001b[39m     \u001b[31mNA\u001b[39m     \u001b[31mNA\u001b[39m     \u001b[31mNA\u001b[39m \n",
            "\u001b[90m10\u001b[39m Afghanistan Asia        41.8 2.22\u001b[90me\u001b[39m7    \u001b[31mNA\u001b[39m     \u001b[31mNA\u001b[39m     \u001b[31mNA\u001b[39m     \u001b[31mNA\u001b[39m     \u001b[31mNA\u001b[39m     \u001b[31mNA\u001b[39m \n",
            "\u001b[90m# … with 1,694 more rows, 6 more variables: `1982` <dbl>, `1987` <dbl>,\u001b[39m\n",
            "\u001b[90m#   `1992` <dbl>, `1997` <dbl>, `2002` <dbl>, `2007` <dbl>, and abbreviated\u001b[39m\n",
            "\u001b[90m#   variable name ¹​continent\u001b[39m\n"
          ]
        }
      ],
      "source": [
        "# pivot gapminder wider\n",
        "gapminder%>%\n",
        "  pivot_wider(names_from='year',values_from='gdpPercap')%>%\n",
        "  print\n",
        "# we have so many missing values now b/c lifeExp, pop for ech yr \n",
        "# if you don't want smth like this, "
      ]
    },
    {
      "cell_type": "code",
      "source": [
        "# filter out whatever we want: \n",
        "gapminder%>%\n",
        "  select(country,gdpPercap,year)%>%\n",
        "  pivot_wider(names_from='year',values_from='gdpPercap')%>%\n",
        "  print"
      ],
      "metadata": {
        "colab": {
          "base_uri": "https://localhost:8080/"
        },
        "id": "uU3Sm-PpqiYF",
        "outputId": "6354fe68-e5de-4629-c652-9c62b96eeb49"
      },
      "execution_count": 52,
      "outputs": [
        {
          "output_type": "stream",
          "name": "stdout",
          "text": [
            "\u001b[90m# A tibble: 142 × 13\u001b[39m\n",
            "   country `1952` `1957` `1962` `1967` `1972` `1977` `1982` `1987` `1992` `1997`\n",
            "   \u001b[3m\u001b[90m<fct>\u001b[39m\u001b[23m    \u001b[3m\u001b[90m<dbl>\u001b[39m\u001b[23m  \u001b[3m\u001b[90m<dbl>\u001b[39m\u001b[23m  \u001b[3m\u001b[90m<dbl>\u001b[39m\u001b[23m  \u001b[3m\u001b[90m<dbl>\u001b[39m\u001b[23m  \u001b[3m\u001b[90m<dbl>\u001b[39m\u001b[23m  \u001b[3m\u001b[90m<dbl>\u001b[39m\u001b[23m  \u001b[3m\u001b[90m<dbl>\u001b[39m\u001b[23m  \u001b[3m\u001b[90m<dbl>\u001b[39m\u001b[23m  \u001b[3m\u001b[90m<dbl>\u001b[39m\u001b[23m  \u001b[3m\u001b[90m<dbl>\u001b[39m\u001b[23m\n",
            "\u001b[90m 1\u001b[39m Afghan…   779.   821.   853.   836.   740.   786.   978.   852.   649.   635.\n",
            "\u001b[90m 2\u001b[39m Albania  \u001b[4m1\u001b[24m601.  \u001b[4m1\u001b[24m942.  \u001b[4m2\u001b[24m313.  \u001b[4m2\u001b[24m760.  \u001b[4m3\u001b[24m313.  \u001b[4m3\u001b[24m533.  \u001b[4m3\u001b[24m631.  \u001b[4m3\u001b[24m739.  \u001b[4m2\u001b[24m497.  \u001b[4m3\u001b[24m193.\n",
            "\u001b[90m 3\u001b[39m Algeria  \u001b[4m2\u001b[24m449.  \u001b[4m3\u001b[24m014.  \u001b[4m2\u001b[24m551.  \u001b[4m3\u001b[24m247.  \u001b[4m4\u001b[24m183.  \u001b[4m4\u001b[24m910.  \u001b[4m5\u001b[24m745.  \u001b[4m5\u001b[24m681.  \u001b[4m5\u001b[24m023.  \u001b[4m4\u001b[24m797.\n",
            "\u001b[90m 4\u001b[39m Angola   \u001b[4m3\u001b[24m521.  \u001b[4m3\u001b[24m828.  \u001b[4m4\u001b[24m269.  \u001b[4m5\u001b[24m523.  \u001b[4m5\u001b[24m473.  \u001b[4m3\u001b[24m009.  \u001b[4m2\u001b[24m757.  \u001b[4m2\u001b[24m430.  \u001b[4m2\u001b[24m628.  \u001b[4m2\u001b[24m277.\n",
            "\u001b[90m 5\u001b[39m Argent…  \u001b[4m5\u001b[24m911.  \u001b[4m6\u001b[24m857.  \u001b[4m7\u001b[24m133.  \u001b[4m8\u001b[24m053.  \u001b[4m9\u001b[24m443. \u001b[4m1\u001b[24m\u001b[4m0\u001b[24m079.  \u001b[4m8\u001b[24m998.  \u001b[4m9\u001b[24m140.  \u001b[4m9\u001b[24m308. \u001b[4m1\u001b[24m\u001b[4m0\u001b[24m967.\n",
            "\u001b[90m 6\u001b[39m Austra… \u001b[4m1\u001b[24m\u001b[4m0\u001b[24m040. \u001b[4m1\u001b[24m\u001b[4m0\u001b[24m950. \u001b[4m1\u001b[24m\u001b[4m2\u001b[24m217. \u001b[4m1\u001b[24m\u001b[4m4\u001b[24m526. \u001b[4m1\u001b[24m\u001b[4m6\u001b[24m789. \u001b[4m1\u001b[24m\u001b[4m8\u001b[24m334. \u001b[4m1\u001b[24m\u001b[4m9\u001b[24m477. \u001b[4m2\u001b[24m\u001b[4m1\u001b[24m889. \u001b[4m2\u001b[24m\u001b[4m3\u001b[24m425. \u001b[4m2\u001b[24m\u001b[4m6\u001b[24m998.\n",
            "\u001b[90m 7\u001b[39m Austria  \u001b[4m6\u001b[24m137.  \u001b[4m8\u001b[24m843. \u001b[4m1\u001b[24m\u001b[4m0\u001b[24m751. \u001b[4m1\u001b[24m\u001b[4m2\u001b[24m835. \u001b[4m1\u001b[24m\u001b[4m6\u001b[24m662. \u001b[4m1\u001b[24m\u001b[4m9\u001b[24m749. \u001b[4m2\u001b[24m\u001b[4m1\u001b[24m597. \u001b[4m2\u001b[24m\u001b[4m3\u001b[24m688. \u001b[4m2\u001b[24m\u001b[4m7\u001b[24m042. \u001b[4m2\u001b[24m\u001b[4m9\u001b[24m096.\n",
            "\u001b[90m 8\u001b[39m Bahrain  \u001b[4m9\u001b[24m867. \u001b[4m1\u001b[24m\u001b[4m1\u001b[24m636. \u001b[4m1\u001b[24m\u001b[4m2\u001b[24m753. \u001b[4m1\u001b[24m\u001b[4m4\u001b[24m805. \u001b[4m1\u001b[24m\u001b[4m8\u001b[24m269. \u001b[4m1\u001b[24m\u001b[4m9\u001b[24m340. \u001b[4m1\u001b[24m\u001b[4m9\u001b[24m211. \u001b[4m1\u001b[24m\u001b[4m8\u001b[24m524. \u001b[4m1\u001b[24m\u001b[4m9\u001b[24m036. \u001b[4m2\u001b[24m\u001b[4m0\u001b[24m292.\n",
            "\u001b[90m 9\u001b[39m Bangla…   684.   662.   686.   721.   630.   660.   677.   752.   838.   973.\n",
            "\u001b[90m10\u001b[39m Belgium  \u001b[4m8\u001b[24m343.  \u001b[4m9\u001b[24m715. \u001b[4m1\u001b[24m\u001b[4m0\u001b[24m991. \u001b[4m1\u001b[24m\u001b[4m3\u001b[24m149. \u001b[4m1\u001b[24m\u001b[4m6\u001b[24m672. \u001b[4m1\u001b[24m\u001b[4m9\u001b[24m118. \u001b[4m2\u001b[24m\u001b[4m0\u001b[24m980. \u001b[4m2\u001b[24m\u001b[4m2\u001b[24m526. \u001b[4m2\u001b[24m\u001b[4m5\u001b[24m576. \u001b[4m2\u001b[24m\u001b[4m7\u001b[24m561.\n",
            "\u001b[90m# … with 132 more rows, and 2 more variables: `2002` <dbl>, `2007` <dbl>\u001b[39m\n"
          ]
        }
      ]
    },
    {
      "cell_type": "code",
      "source": [
        "# or use id_cols\n",
        "gapminder%>%\n",
        "  pivot_wider(id_cols=country,names_from='year',values_from='gdpPercap')%>%  \n",
        "  print\n",
        "# this makes each country is a unique observation, which is what we want. only one life exp & pop for ech country for ech yr "
      ],
      "metadata": {
        "colab": {
          "base_uri": "https://localhost:8080/"
        },
        "id": "NtqNK_rdq1tr",
        "outputId": "9aa67d85-7992-4824-fd06-c42efb01b8fe"
      },
      "execution_count": 53,
      "outputs": [
        {
          "output_type": "stream",
          "name": "stdout",
          "text": [
            "\u001b[90m# A tibble: 142 × 13\u001b[39m\n",
            "   country `1952` `1957` `1962` `1967` `1972` `1977` `1982` `1987` `1992` `1997`\n",
            "   \u001b[3m\u001b[90m<fct>\u001b[39m\u001b[23m    \u001b[3m\u001b[90m<dbl>\u001b[39m\u001b[23m  \u001b[3m\u001b[90m<dbl>\u001b[39m\u001b[23m  \u001b[3m\u001b[90m<dbl>\u001b[39m\u001b[23m  \u001b[3m\u001b[90m<dbl>\u001b[39m\u001b[23m  \u001b[3m\u001b[90m<dbl>\u001b[39m\u001b[23m  \u001b[3m\u001b[90m<dbl>\u001b[39m\u001b[23m  \u001b[3m\u001b[90m<dbl>\u001b[39m\u001b[23m  \u001b[3m\u001b[90m<dbl>\u001b[39m\u001b[23m  \u001b[3m\u001b[90m<dbl>\u001b[39m\u001b[23m  \u001b[3m\u001b[90m<dbl>\u001b[39m\u001b[23m\n",
            "\u001b[90m 1\u001b[39m Afghan…   779.   821.   853.   836.   740.   786.   978.   852.   649.   635.\n",
            "\u001b[90m 2\u001b[39m Albania  \u001b[4m1\u001b[24m601.  \u001b[4m1\u001b[24m942.  \u001b[4m2\u001b[24m313.  \u001b[4m2\u001b[24m760.  \u001b[4m3\u001b[24m313.  \u001b[4m3\u001b[24m533.  \u001b[4m3\u001b[24m631.  \u001b[4m3\u001b[24m739.  \u001b[4m2\u001b[24m497.  \u001b[4m3\u001b[24m193.\n",
            "\u001b[90m 3\u001b[39m Algeria  \u001b[4m2\u001b[24m449.  \u001b[4m3\u001b[24m014.  \u001b[4m2\u001b[24m551.  \u001b[4m3\u001b[24m247.  \u001b[4m4\u001b[24m183.  \u001b[4m4\u001b[24m910.  \u001b[4m5\u001b[24m745.  \u001b[4m5\u001b[24m681.  \u001b[4m5\u001b[24m023.  \u001b[4m4\u001b[24m797.\n",
            "\u001b[90m 4\u001b[39m Angola   \u001b[4m3\u001b[24m521.  \u001b[4m3\u001b[24m828.  \u001b[4m4\u001b[24m269.  \u001b[4m5\u001b[24m523.  \u001b[4m5\u001b[24m473.  \u001b[4m3\u001b[24m009.  \u001b[4m2\u001b[24m757.  \u001b[4m2\u001b[24m430.  \u001b[4m2\u001b[24m628.  \u001b[4m2\u001b[24m277.\n",
            "\u001b[90m 5\u001b[39m Argent…  \u001b[4m5\u001b[24m911.  \u001b[4m6\u001b[24m857.  \u001b[4m7\u001b[24m133.  \u001b[4m8\u001b[24m053.  \u001b[4m9\u001b[24m443. \u001b[4m1\u001b[24m\u001b[4m0\u001b[24m079.  \u001b[4m8\u001b[24m998.  \u001b[4m9\u001b[24m140.  \u001b[4m9\u001b[24m308. \u001b[4m1\u001b[24m\u001b[4m0\u001b[24m967.\n",
            "\u001b[90m 6\u001b[39m Austra… \u001b[4m1\u001b[24m\u001b[4m0\u001b[24m040. \u001b[4m1\u001b[24m\u001b[4m0\u001b[24m950. \u001b[4m1\u001b[24m\u001b[4m2\u001b[24m217. \u001b[4m1\u001b[24m\u001b[4m4\u001b[24m526. \u001b[4m1\u001b[24m\u001b[4m6\u001b[24m789. \u001b[4m1\u001b[24m\u001b[4m8\u001b[24m334. \u001b[4m1\u001b[24m\u001b[4m9\u001b[24m477. \u001b[4m2\u001b[24m\u001b[4m1\u001b[24m889. \u001b[4m2\u001b[24m\u001b[4m3\u001b[24m425. \u001b[4m2\u001b[24m\u001b[4m6\u001b[24m998.\n",
            "\u001b[90m 7\u001b[39m Austria  \u001b[4m6\u001b[24m137.  \u001b[4m8\u001b[24m843. \u001b[4m1\u001b[24m\u001b[4m0\u001b[24m751. \u001b[4m1\u001b[24m\u001b[4m2\u001b[24m835. \u001b[4m1\u001b[24m\u001b[4m6\u001b[24m662. \u001b[4m1\u001b[24m\u001b[4m9\u001b[24m749. \u001b[4m2\u001b[24m\u001b[4m1\u001b[24m597. \u001b[4m2\u001b[24m\u001b[4m3\u001b[24m688. \u001b[4m2\u001b[24m\u001b[4m7\u001b[24m042. \u001b[4m2\u001b[24m\u001b[4m9\u001b[24m096.\n",
            "\u001b[90m 8\u001b[39m Bahrain  \u001b[4m9\u001b[24m867. \u001b[4m1\u001b[24m\u001b[4m1\u001b[24m636. \u001b[4m1\u001b[24m\u001b[4m2\u001b[24m753. \u001b[4m1\u001b[24m\u001b[4m4\u001b[24m805. \u001b[4m1\u001b[24m\u001b[4m8\u001b[24m269. \u001b[4m1\u001b[24m\u001b[4m9\u001b[24m340. \u001b[4m1\u001b[24m\u001b[4m9\u001b[24m211. \u001b[4m1\u001b[24m\u001b[4m8\u001b[24m524. \u001b[4m1\u001b[24m\u001b[4m9\u001b[24m036. \u001b[4m2\u001b[24m\u001b[4m0\u001b[24m292.\n",
            "\u001b[90m 9\u001b[39m Bangla…   684.   662.   686.   721.   630.   660.   677.   752.   838.   973.\n",
            "\u001b[90m10\u001b[39m Belgium  \u001b[4m8\u001b[24m343.  \u001b[4m9\u001b[24m715. \u001b[4m1\u001b[24m\u001b[4m0\u001b[24m991. \u001b[4m1\u001b[24m\u001b[4m3\u001b[24m149. \u001b[4m1\u001b[24m\u001b[4m6\u001b[24m672. \u001b[4m1\u001b[24m\u001b[4m9\u001b[24m118. \u001b[4m2\u001b[24m\u001b[4m0\u001b[24m980. \u001b[4m2\u001b[24m\u001b[4m2\u001b[24m526. \u001b[4m2\u001b[24m\u001b[4m5\u001b[24m576. \u001b[4m2\u001b[24m\u001b[4m7\u001b[24m561.\n",
            "\u001b[90m# … with 132 more rows, and 2 more variables: `2002` <dbl>, `2007` <dbl>\u001b[39m\n"
          ]
        }
      ]
    },
    {
      "cell_type": "markdown",
      "metadata": {
        "id": "YtfnHnu_chQx"
      },
      "source": [
        "## Making wide data using more than one column\n",
        "Consider the following simple table."
      ]
    },
    {
      "cell_type": "code",
      "execution_count": 54,
      "metadata": {
        "id": "pNqS6UdjchQy"
      },
      "outputs": [],
      "source": [
        "grades <- tribble(\n",
        "    ~person, ~exam, ~q1, ~q2, ~q3,\n",
        "    \"alice\", \"mt1\", 1, 2, 3.5,\n",
        "    \"alice\", \"mt2\", .5, 2.5, 1.5,\n",
        "    \"bob\", \"mt1\", 0.0, 1.0, 1.5,\n",
        "    \"bob\", \"mt2\", 1.5, 2.5, 2.0\n",
        ")"
      ]
    },
    {
      "cell_type": "code",
      "execution_count": 55,
      "metadata": {
        "id": "GF5APT8QchQy",
        "outputId": "ede9c3de-7876-47b0-a06d-16523d12b5be",
        "colab": {
          "base_uri": "https://localhost:8080/"
        }
      },
      "outputs": [
        {
          "output_type": "stream",
          "name": "stdout",
          "text": [
            "\u001b[90m# A tibble: 4 × 5\u001b[39m\n",
            "  person exam     q1    q2    q3\n",
            "  \u001b[3m\u001b[90m<chr>\u001b[39m\u001b[23m  \u001b[3m\u001b[90m<chr>\u001b[39m\u001b[23m \u001b[3m\u001b[90m<dbl>\u001b[39m\u001b[23m \u001b[3m\u001b[90m<dbl>\u001b[39m\u001b[23m \u001b[3m\u001b[90m<dbl>\u001b[39m\u001b[23m\n",
            "\u001b[90m1\u001b[39m alice  mt1     1     2     3.5\n",
            "\u001b[90m2\u001b[39m alice  mt2     0.5   2.5   1.5\n",
            "\u001b[90m3\u001b[39m bob    mt1     0     1     1.5\n",
            "\u001b[90m4\u001b[39m bob    mt2     1.5   2.5   2  \n"
          ]
        }
      ],
      "source": [
        "print(grades)"
      ]
    },
    {
      "cell_type": "markdown",
      "metadata": {
        "id": "TeKxvJFfchQy"
      },
      "source": [
        "Suppose we want to expand this into multiple columns `q1_mt1`, `q2_mt2`, and so on. How should we use `pivot_wider()`?"
      ]
    },
    {
      "cell_type": "code",
      "execution_count": 56,
      "metadata": {
        "id": "5aJ-J_a6chQy",
        "colab": {
          "base_uri": "https://localhost:8080/"
        },
        "outputId": "39ad98f3-a176-4b86-bd18-bf77ce41970d"
      },
      "outputs": [
        {
          "output_type": "stream",
          "name": "stdout",
          "text": [
            "\u001b[90m# A tibble: 2 × 7\u001b[39m\n",
            "  person q1_mt1 q1_mt2 q2_mt1 q2_mt2 q3_mt1 q3_mt2\n",
            "  \u001b[3m\u001b[90m<chr>\u001b[39m\u001b[23m   \u001b[3m\u001b[90m<dbl>\u001b[39m\u001b[23m  \u001b[3m\u001b[90m<dbl>\u001b[39m\u001b[23m  \u001b[3m\u001b[90m<dbl>\u001b[39m\u001b[23m  \u001b[3m\u001b[90m<dbl>\u001b[39m\u001b[23m  \u001b[3m\u001b[90m<dbl>\u001b[39m\u001b[23m  \u001b[3m\u001b[90m<dbl>\u001b[39m\u001b[23m\n",
            "\u001b[90m1\u001b[39m alice       1    0.5      2    2.5    3.5    1.5\n",
            "\u001b[90m2\u001b[39m bob         0    1.5      1    2.5    1.5    2  \n"
          ]
        }
      ],
      "source": [
        "# spread using multiple values\n",
        "grades%>%\n",
        "  pivot_wider(names_from=exam,values_from=c(q1,q2,q3))%>%\n",
        "  print"
      ]
    },
    {
      "cell_type": "markdown",
      "metadata": {
        "id": "jpgFyT3rchQy"
      },
      "source": [
        "## Some untidy examples\n",
        "The `untidydata` package contains examples of untidy datasets:"
      ]
    },
    {
      "cell_type": "code",
      "execution_count": null,
      "metadata": {
        "id": "YP6qXn5qchQy"
      },
      "outputs": [],
      "source": [
        "# install.packages(\"untidydata\") won't work! instead use:\n",
        "# remotes::install_github(\"jvcasillas/untidydata\")\n",
        "# (if you get an error, you need to `install.packages(\"remotes\")` first)"
      ]
    },
    {
      "cell_type": "code",
      "source": [
        "remotes::install_github(\"jvcasillas/untidydata\")"
      ],
      "metadata": {
        "colab": {
          "base_uri": "https://localhost:8080/"
        },
        "id": "-Ryrk9DMrsh4",
        "outputId": "f5c9609e-70f6-41cf-dc02-294b60747eed"
      },
      "execution_count": 57,
      "outputs": [
        {
          "output_type": "stream",
          "name": "stderr",
          "text": [
            "Downloading GitHub repo jvcasillas/untidydata@HEAD\n",
            "\n"
          ]
        },
        {
          "output_type": "stream",
          "name": "stdout",
          "text": [
            "\u001b[36m──\u001b[39m \u001b[36mR CMD build\u001b[39m \u001b[36m─────────────────────────────────────────────────────────────────\u001b[39m\n",
            "* checking for file ‘/tmp/RtmpWUWZPF/remotesda3faefb17/jvcasillas-untidydata-0a0f627/DESCRIPTION’ ... OK\n",
            "* preparing ‘untidydata’:\n",
            "* checking DESCRIPTION meta-information ... OK\n",
            "* checking for LF line-endings in source and make files and shell scripts\n",
            "* checking for empty or unneeded directories\n",
            "* building ‘untidydata_0.1.1.tar.gz’\n",
            "\n"
          ]
        },
        {
          "output_type": "stream",
          "name": "stderr",
          "text": [
            "Installing package into ‘/usr/local/lib/R/site-library’\n",
            "(as ‘lib’ is unspecified)\n",
            "\n"
          ]
        }
      ]
    },
    {
      "cell_type": "code",
      "source": [
        "library(untidydata)"
      ],
      "metadata": {
        "id": "H6W8pG7SrxKd"
      },
      "execution_count": 58,
      "outputs": []
    },
    {
      "cell_type": "code",
      "execution_count": 59,
      "metadata": {
        "id": "kjBE6LUCchQy",
        "outputId": "f25ce87b-28b9-46b1-dbfb-46725e1ab94d",
        "colab": {
          "base_uri": "https://localhost:8080/"
        }
      },
      "outputs": [
        {
          "output_type": "stream",
          "name": "stdout",
          "text": [
            "\u001b[90m# A tibble: 444 × 4\u001b[39m\n",
            "   Continent Country      Measurement Value\n",
            "   \u001b[3m\u001b[90m<chr>\u001b[39m\u001b[23m     \u001b[3m\u001b[90m<chr>\u001b[39m\u001b[23m        \u001b[3m\u001b[90m<chr>\u001b[39m\u001b[23m       \u001b[3m\u001b[90m<dbl>\u001b[39m\u001b[23m\n",
            "\u001b[90m 1\u001b[39m Africa    Algeria      Langs          18\n",
            "\u001b[90m 2\u001b[39m Africa    Angola       Langs          42\n",
            "\u001b[90m 3\u001b[39m Oceania   Australia    Langs         234\n",
            "\u001b[90m 4\u001b[39m Asia      Bangladesh   Langs          37\n",
            "\u001b[90m 5\u001b[39m Africa    Benin        Langs          52\n",
            "\u001b[90m 6\u001b[39m Americas  Bolivia      Langs          38\n",
            "\u001b[90m 7\u001b[39m Africa    Botswana     Langs          27\n",
            "\u001b[90m 8\u001b[39m Americas  Brazil       Langs         209\n",
            "\u001b[90m 9\u001b[39m Africa    Burkina Faso Langs          75\n",
            "\u001b[90m10\u001b[39m Africa    CAR          Langs          94\n",
            "\u001b[90m# … with 434 more rows\u001b[39m\n"
          ]
        }
      ],
      "source": [
        "print(language_diversity)"
      ]
    },
    {
      "cell_type": "markdown",
      "metadata": {
        "id": "MZP-ynFschQz"
      },
      "source": [
        "## &#129300; Quiz\n",
        "\n",
        "The `language_diversity` dataset is:\n",
        "\n",
        "<ol style=\"list-style-type: upper-alpha;\">\n",
        "    <li>Tidy!</li>\n",
        "    <li>Untidy, because some rows represent multiple observations.</li>\n",
        "    <li>Untidy, because some columns do not represent variables.</li>\n",
        "    <li>Untidy, because some cells contain more than one value.</li>\n",
        "    <li>Untidy for some other reason.</li> \n",
        "</ol>"
      ]
    },
    {
      "cell_type": "code",
      "execution_count": null,
      "metadata": {
        "id": "bG27eKVdchQz"
      },
      "outputs": [],
      "source": [
        "How should we go about tidying up this dataset?"
      ]
    },
    {
      "cell_type": "markdown",
      "metadata": {
        "id": "yhu6EcizchQz"
      },
      "source": [
        "## &#129300; Quiz\n",
        "\n",
        "The measurements in `language_diversity` include:\n",
        "\n",
        "<ol style=\"list-style-type: upper-alpha;\">\n",
        "    <li>Area</li>\n",
        "    <li>Population</li>\n",
        "    <li>Langs</li>\n",
        "    <li>MGS</li>\n",
        "    <li>Std</li> \n",
        "</ol>"
      ]
    },
    {
      "cell_type": "code",
      "execution_count": null,
      "metadata": {
        "id": "JYFoiu-uchQz"
      },
      "outputs": [],
      "source": [
        "# tidy the language diversity dataset"
      ]
    },
    {
      "cell_type": "markdown",
      "metadata": {
        "id": "ppfOgJbtchQz"
      },
      "source": [
        "## Example: Climate data\n",
        "\n",
        "The [Global Historical Climate Network](https://www.ncei.noaa.gov/products/land-based-station/global-historical-climatology-network-daily) is amazing database of daily weather data going back, in some cases, >100 years. I downloaded daily observation data for Ann Arbor from 1991 to present:"
      ]
    },
    {
      "cell_type": "code",
      "execution_count": 60,
      "metadata": {
        "id": "N8p-tpENchQz",
        "outputId": "c6038ba0-d3dd-4801-d199-41657c789b2e",
        "colab": {
          "base_uri": "https://localhost:8080/"
        }
      },
      "outputs": [
        {
          "output_type": "stream",
          "name": "stdout",
          "text": [
            "\u001b[90m# A tibble: 11,304 × 128\u001b[39m\n",
            "   id        year month element VALUE1 MFLAG1 QFLAG1 SFLAG1 VALUE2 MFLAG2 QFLAG2\n",
            "   \u001b[3m\u001b[90m<chr>\u001b[39m\u001b[23m    \u001b[3m\u001b[90m<int>\u001b[39m\u001b[23m \u001b[3m\u001b[90m<int>\u001b[39m\u001b[23m \u001b[3m\u001b[90m<chr>\u001b[39m\u001b[23m    \u001b[3m\u001b[90m<int>\u001b[39m\u001b[23m \u001b[3m\u001b[90m<chr>\u001b[39m\u001b[23m  \u001b[3m\u001b[90m<chr>\u001b[39m\u001b[23m  \u001b[3m\u001b[90m<chr>\u001b[39m\u001b[23m   \u001b[3m\u001b[90m<int>\u001b[39m\u001b[23m \u001b[3m\u001b[90m<chr>\u001b[39m\u001b[23m  \u001b[3m\u001b[90m<chr>\u001b[39m\u001b[23m \n",
            "\u001b[90m 1\u001b[39m USC0020…  \u001b[4m1\u001b[24m891    10 TMAX       206 \u001b[90m\"\u001b[39m \u001b[90m\"\u001b[39m    \u001b[90m\"\u001b[39m \u001b[90m\"\u001b[39m    \u001b[90m\"\u001b[39m6\u001b[90m\"\u001b[39m       267 \u001b[90m\"\u001b[39m \u001b[90m\"\u001b[39m    \u001b[90m\"\u001b[39m \u001b[90m\"\u001b[39m   \n",
            "\u001b[90m 2\u001b[39m USC0020…  \u001b[4m1\u001b[24m891    10 TMIN        78 \u001b[90m\"\u001b[39m \u001b[90m\"\u001b[39m    \u001b[90m\"\u001b[39m \u001b[90m\"\u001b[39m    \u001b[90m\"\u001b[39m6\u001b[90m\"\u001b[39m       139 \u001b[90m\"\u001b[39m \u001b[90m\"\u001b[39m    \u001b[90m\"\u001b[39m \u001b[90m\"\u001b[39m   \n",
            "\u001b[90m 3\u001b[39m USC0020…  \u001b[4m1\u001b[24m891    10 PRCP        \u001b[31mNA\u001b[39m \u001b[90m\"\u001b[39m \u001b[90m\"\u001b[39m    \u001b[90m\"\u001b[39m \u001b[90m\"\u001b[39m    \u001b[90m\"\u001b[39m \u001b[90m\"\u001b[39m        \u001b[31mNA\u001b[39m \u001b[90m\"\u001b[39m \u001b[90m\"\u001b[39m    \u001b[90m\"\u001b[39m \u001b[90m\"\u001b[39m   \n",
            "\u001b[90m 4\u001b[39m USC0020…  \u001b[4m1\u001b[24m891    11 TMAX        78 \u001b[90m\"\u001b[39m \u001b[90m\"\u001b[39m    \u001b[90m\"\u001b[39m \u001b[90m\"\u001b[39m    \u001b[90m\"\u001b[39m6\u001b[90m\"\u001b[39m        28 \u001b[90m\"\u001b[39m \u001b[90m\"\u001b[39m    \u001b[90m\"\u001b[39m \u001b[90m\"\u001b[39m   \n",
            "\u001b[90m 5\u001b[39m USC0020…  \u001b[4m1\u001b[24m891    11 TMIN        11 \u001b[90m\"\u001b[39m \u001b[90m\"\u001b[39m    \u001b[90m\"\u001b[39m \u001b[90m\"\u001b[39m    \u001b[90m\"\u001b[39m6\u001b[90m\"\u001b[39m       -\u001b[31m44\u001b[39m \u001b[90m\"\u001b[39m \u001b[90m\"\u001b[39m    \u001b[90m\"\u001b[39m \u001b[90m\"\u001b[39m   \n",
            "\u001b[90m 6\u001b[39m USC0020…  \u001b[4m1\u001b[24m891    11 PRCP         0 \u001b[90m\"\u001b[39mP\u001b[90m\"\u001b[39m    \u001b[90m\"\u001b[39m \u001b[90m\"\u001b[39m    \u001b[90m\"\u001b[39m6\u001b[90m\"\u001b[39m         0 \u001b[90m\"\u001b[39mP\u001b[90m\"\u001b[39m    \u001b[90m\"\u001b[39m \u001b[90m\"\u001b[39m   \n",
            "\u001b[90m 7\u001b[39m USC0020…  \u001b[4m1\u001b[24m891    11 SNOW         0 \u001b[90m\"\u001b[39m \u001b[90m\"\u001b[39m    \u001b[90m\"\u001b[39m \u001b[90m\"\u001b[39m    \u001b[90m\"\u001b[39m6\u001b[90m\"\u001b[39m         0 \u001b[90m\"\u001b[39m \u001b[90m\"\u001b[39m    \u001b[90m\"\u001b[39m \u001b[90m\"\u001b[39m   \n",
            "\u001b[90m 8\u001b[39m USC0020…  \u001b[4m1\u001b[24m891    12 TMAX        22 \u001b[90m\"\u001b[39m \u001b[90m\"\u001b[39m    \u001b[90m\"\u001b[39m \u001b[90m\"\u001b[39m    \u001b[90m\"\u001b[39m6\u001b[90m\"\u001b[39m        44 \u001b[90m\"\u001b[39m \u001b[90m\"\u001b[39m    \u001b[90m\"\u001b[39m \u001b[90m\"\u001b[39m   \n",
            "\u001b[90m 9\u001b[39m USC0020…  \u001b[4m1\u001b[24m891    12 TMIN       -\u001b[31m94\u001b[39m \u001b[90m\"\u001b[39m \u001b[90m\"\u001b[39m    \u001b[90m\"\u001b[39m \u001b[90m\"\u001b[39m    \u001b[90m\"\u001b[39m6\u001b[90m\"\u001b[39m        11 \u001b[90m\"\u001b[39m \u001b[90m\"\u001b[39m    \u001b[90m\"\u001b[39m \u001b[90m\"\u001b[39m   \n",
            "\u001b[90m10\u001b[39m USC0020…  \u001b[4m1\u001b[24m892     1 TMAX       117 \u001b[90m\"\u001b[39m \u001b[90m\"\u001b[39m    \u001b[90m\"\u001b[39m \u001b[90m\"\u001b[39m    \u001b[90m\"\u001b[39m6\u001b[90m\"\u001b[39m        94 \u001b[90m\"\u001b[39m \u001b[90m\"\u001b[39m    \u001b[90m\"\u001b[39m \u001b[90m\"\u001b[39m   \n",
            "\u001b[90m# … with 11,294 more rows, and 117 more variables: SFLAG2 <chr>, VALUE3 <int>,\u001b[39m\n",
            "\u001b[90m#   MFLAG3 <chr>, QFLAG3 <chr>, SFLAG3 <chr>, VALUE4 <int>, MFLAG4 <chr>,\u001b[39m\n",
            "\u001b[90m#   QFLAG4 <chr>, SFLAG4 <chr>, VALUE5 <int>, MFLAG5 <chr>, QFLAG5 <chr>,\u001b[39m\n",
            "\u001b[90m#   SFLAG5 <chr>, VALUE6 <int>, MFLAG6 <chr>, QFLAG6 <chr>, SFLAG6 <chr>,\u001b[39m\n",
            "\u001b[90m#   VALUE7 <int>, MFLAG7 <chr>, QFLAG7 <chr>, SFLAG7 <chr>, VALUE8 <int>,\u001b[39m\n",
            "\u001b[90m#   MFLAG8 <chr>, QFLAG8 <chr>, SFLAG8 <chr>, VALUE9 <int>, MFLAG9 <chr>,\u001b[39m\n",
            "\u001b[90m#   QFLAG9 <chr>, SFLAG9 <chr>, VALUE10 <int>, MFLAG10 <chr>, QFLAG10 <chr>, …\u001b[39m\n"
          ]
        }
      ],
      "source": [
        "load(url(\"https://datasets.stats306.org/a2weather.RData\"))\n",
        "print(a2weather)"
      ]
    },
    {
      "cell_type": "markdown",
      "metadata": {
        "id": "x-uA8Y2nchQz"
      },
      "source": [
        "Questions about these data:\n",
        "- What do the columns mean? What are the units? How can we find this information out?\n",
        "- What questions can we ask about these data?\n",
        "  - Are the data in an appropriate format to answer these questions?\n",
        "  - If not, how can we get them there?"
      ]
    },
    {
      "cell_type": "code",
      "execution_count": null,
      "metadata": {
        "id": "97tnb4TvchQ0"
      },
      "outputs": [],
      "source": [
        "# analysis of a2weather"
      ]
    }
  ],
  "metadata": {
    "celltoolbar": "Slideshow",
    "kernelspec": {
      "display_name": "R",
      "language": "R",
      "name": "ir"
    },
    "language_info": {
      "codemirror_mode": "r",
      "file_extension": ".r",
      "mimetype": "text/x-r-source",
      "name": "R",
      "pygments_lexer": "r",
      "version": "4.2.2"
    },
    "colab": {
      "provenance": [],
      "include_colab_link": true
    }
  },
  "nbformat": 4,
  "nbformat_minor": 0
}