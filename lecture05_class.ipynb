{
  "cells": [
    {
      "cell_type": "markdown",
      "metadata": {
        "id": "view-in-github",
        "colab_type": "text"
      },
      "source": [
        "<a href=\"https://colab.research.google.com/github/sharonma1218/stats-306/blob/main/lecture05_class.ipynb\" target=\"_parent\"><img src=\"https://colab.research.google.com/assets/colab-badge.svg\" alt=\"Open In Colab\"/></a>"
      ]
    },
    {
      "cell_type": "code",
      "source": [
        "install.packages('nycflights13')"
      ],
      "metadata": {
        "id": "7o6D3aK9vsp1",
        "colab": {
          "base_uri": "https://localhost:8080/"
        },
        "outputId": "da27a2b1-bb19-42f6-dc3e-f5b720fb801b"
      },
      "execution_count": null,
      "outputs": [
        {
          "output_type": "stream",
          "name": "stderr",
          "text": [
            "Installing package into ‘/usr/local/lib/R/site-library’\n",
            "(as ‘lib’ is unspecified)\n",
            "\n"
          ]
        }
      ]
    },
    {
      "cell_type": "code",
      "execution_count": null,
      "metadata": {
        "id": "eTqUKVCCvlVa",
        "colab": {
          "base_uri": "https://localhost:8080/"
        },
        "outputId": "e339f7bb-b943-4dd4-ddf7-457211758d0e"
      },
      "outputs": [
        {
          "output_type": "stream",
          "name": "stderr",
          "text": [
            "Warning message in system(\"timedatectl\", intern = TRUE):\n",
            "“running command 'timedatectl' had status 1”\n",
            "── \u001b[1mAttaching packages\u001b[22m ─────────────────────────────────────── tidyverse 1.3.1 ──\n",
            "\n",
            "\u001b[32m✔\u001b[39m \u001b[34mggplot2\u001b[39m 3.4.0      \u001b[32m✔\u001b[39m \u001b[34mpurrr  \u001b[39m 1.0.1 \n",
            "\u001b[32m✔\u001b[39m \u001b[34mtibble \u001b[39m 3.1.8      \u001b[32m✔\u001b[39m \u001b[34mdplyr  \u001b[39m 1.0.10\n",
            "\u001b[32m✔\u001b[39m \u001b[34mtidyr  \u001b[39m 1.2.1      \u001b[32m✔\u001b[39m \u001b[34mstringr\u001b[39m 1.4.1 \n",
            "\u001b[32m✔\u001b[39m \u001b[34mreadr  \u001b[39m 2.1.3      \u001b[32m✔\u001b[39m \u001b[34mforcats\u001b[39m 0.5.2 \n",
            "\n",
            "── \u001b[1mConflicts\u001b[22m ────────────────────────────────────────── tidyverse_conflicts() ──\n",
            "\u001b[31m✖\u001b[39m \u001b[34mdplyr\u001b[39m::\u001b[32mfilter()\u001b[39m masks \u001b[34mstats\u001b[39m::filter()\n",
            "\u001b[31m✖\u001b[39m \u001b[34mdplyr\u001b[39m::\u001b[32mlag()\u001b[39m    masks \u001b[34mstats\u001b[39m::lag()\n",
            "\n"
          ]
        }
      ],
      "source": [
        "options(repr.plot.width=8, repr.plot.height=5)\n",
        "library(tidyverse)\n",
        "library(nycflights13)"
      ]
    },
    {
      "cell_type": "markdown",
      "metadata": {
        "id": "Z9I37X6OvlVg"
      },
      "source": [
        "## &#129300; (Warmup) Quiz\n",
        "\n",
        "```\n",
        "  origin 1    2    3     4     5     6     7     8     9    10    11   12  \n",
        "1 EWR    9893 9107 10420 10531 10592 10175 10475 10359 9550 10104 9707 9922\n",
        "2 JFK    9161 8421  9697  9218  9397  9472 10023  9983 8908  9143 8710 9146\n",
        "3 LGA    7950 7423  8717  8581  8807  8596  8927  8985 9116  9642 8851 9067\n",
        "```\n",
        "\n",
        "How could I convert this table to a tidy format? (Check all that apply)\n",
        "\n",
        "<ol style=\"list-style-type: upper-alpha;\">\n",
        "    <li><code>pivot_longer(tbl, 1:12)</code></li>\n",
        "    <li><code>mutate(tbl, year=.column)</code></li>\n",
        "    <li><code>summarize(tbl, year)</code></li>\n",
        "    <li><code>pivot_longer(tbl, 2:13)</code></li>\n",
        "    <li><code>pivot_longer(tbl, -origin)</code></li>\n",
        "</ol>"
      ]
    },
    {
      "cell_type": "code",
      "execution_count": null,
      "metadata": {
        "id": "Gpu5R0GTvlVi",
        "colab": {
          "base_uri": "https://localhost:8080/"
        },
        "outputId": "42956e5e-91ff-42b7-8d5e-46e1915ac823"
      },
      "outputs": [
        {
          "output_type": "stream",
          "name": "stderr",
          "text": [
            "\u001b[1m\u001b[22m`summarise()` has grouped output by 'origin'. You can override using the\n",
            "`.groups` argument.\n"
          ]
        },
        {
          "output_type": "stream",
          "name": "stdout",
          "text": [
            "\u001b[90m# A tibble: 3 × 13\u001b[39m\n",
            "\u001b[90m# Groups:   origin [3]\u001b[39m\n",
            "  origin   `1`   `2`   `3`   `4`   `5`   `6`   `7`   `8`   `9`  `10`  `11`  `12`\n",
            "  \u001b[3m\u001b[90m<chr>\u001b[39m\u001b[23m  \u001b[3m\u001b[90m<int>\u001b[39m\u001b[23m \u001b[3m\u001b[90m<int>\u001b[39m\u001b[23m \u001b[3m\u001b[90m<int>\u001b[39m\u001b[23m \u001b[3m\u001b[90m<int>\u001b[39m\u001b[23m \u001b[3m\u001b[90m<int>\u001b[39m\u001b[23m \u001b[3m\u001b[90m<int>\u001b[39m\u001b[23m \u001b[3m\u001b[90m<int>\u001b[39m\u001b[23m \u001b[3m\u001b[90m<int>\u001b[39m\u001b[23m \u001b[3m\u001b[90m<int>\u001b[39m\u001b[23m \u001b[3m\u001b[90m<int>\u001b[39m\u001b[23m \u001b[3m\u001b[90m<int>\u001b[39m\u001b[23m \u001b[3m\u001b[90m<int>\u001b[39m\u001b[23m\n",
            "\u001b[90m1\u001b[39m EWR     \u001b[4m9\u001b[24m893  \u001b[4m9\u001b[24m107 \u001b[4m1\u001b[24m\u001b[4m0\u001b[24m420 \u001b[4m1\u001b[24m\u001b[4m0\u001b[24m531 \u001b[4m1\u001b[24m\u001b[4m0\u001b[24m592 \u001b[4m1\u001b[24m\u001b[4m0\u001b[24m175 \u001b[4m1\u001b[24m\u001b[4m0\u001b[24m475 \u001b[4m1\u001b[24m\u001b[4m0\u001b[24m359  \u001b[4m9\u001b[24m550 \u001b[4m1\u001b[24m\u001b[4m0\u001b[24m104  \u001b[4m9\u001b[24m707  \u001b[4m9\u001b[24m922\n",
            "\u001b[90m2\u001b[39m JFK     \u001b[4m9\u001b[24m161  \u001b[4m8\u001b[24m421  \u001b[4m9\u001b[24m697  \u001b[4m9\u001b[24m218  \u001b[4m9\u001b[24m397  \u001b[4m9\u001b[24m472 \u001b[4m1\u001b[24m\u001b[4m0\u001b[24m023  \u001b[4m9\u001b[24m983  \u001b[4m8\u001b[24m908  \u001b[4m9\u001b[24m143  \u001b[4m8\u001b[24m710  \u001b[4m9\u001b[24m146\n",
            "\u001b[90m3\u001b[39m LGA     \u001b[4m7\u001b[24m950  \u001b[4m7\u001b[24m423  \u001b[4m8\u001b[24m717  \u001b[4m8\u001b[24m581  \u001b[4m8\u001b[24m807  \u001b[4m8\u001b[24m596  \u001b[4m8\u001b[24m927  \u001b[4m8\u001b[24m985  \u001b[4m9\u001b[24m116  \u001b[4m9\u001b[24m642  \u001b[4m8\u001b[24m851  \u001b[4m9\u001b[24m067\n"
          ]
        }
      ],
      "source": [
        "# solution\n",
        "tb1<-flights%>%\n",
        "  group_by(origin,month)%>%\n",
        "  summarize(n=n())%>%\n",
        "  pivot_wider(names_from=month,values_from=n)%>%\n",
        "  print"
      ]
    },
    {
      "cell_type": "code",
      "source": [
        "pivot_longer(tb1,2:13)\n",
        "# 1 doesn't work b/c col 1 is actually origin. the 1 to 12 months that we see are \n",
        "# actually columns 2 to 13"
      ],
      "metadata": {
        "colab": {
          "base_uri": "https://localhost:8080/",
          "height": 1000
        },
        "id": "NvfDlgCkwgG6",
        "outputId": "8783b8da-7b59-4a15-a0c6-6abac79ac822"
      },
      "execution_count": null,
      "outputs": [
        {
          "output_type": "display_data",
          "data": {
            "text/html": [
              "<table class=\"dataframe\">\n",
              "<caption>A grouped_df: 36 × 3</caption>\n",
              "<thead>\n",
              "\t<tr><th scope=col>origin</th><th scope=col>name</th><th scope=col>value</th></tr>\n",
              "\t<tr><th scope=col>&lt;chr&gt;</th><th scope=col>&lt;chr&gt;</th><th scope=col>&lt;int&gt;</th></tr>\n",
              "</thead>\n",
              "<tbody>\n",
              "\t<tr><td>EWR</td><td>1 </td><td> 9893</td></tr>\n",
              "\t<tr><td>EWR</td><td>2 </td><td> 9107</td></tr>\n",
              "\t<tr><td>EWR</td><td>3 </td><td>10420</td></tr>\n",
              "\t<tr><td>EWR</td><td>4 </td><td>10531</td></tr>\n",
              "\t<tr><td>EWR</td><td>5 </td><td>10592</td></tr>\n",
              "\t<tr><td>EWR</td><td>6 </td><td>10175</td></tr>\n",
              "\t<tr><td>EWR</td><td>7 </td><td>10475</td></tr>\n",
              "\t<tr><td>EWR</td><td>8 </td><td>10359</td></tr>\n",
              "\t<tr><td>EWR</td><td>9 </td><td> 9550</td></tr>\n",
              "\t<tr><td>EWR</td><td>10</td><td>10104</td></tr>\n",
              "\t<tr><td>EWR</td><td>11</td><td> 9707</td></tr>\n",
              "\t<tr><td>EWR</td><td>12</td><td> 9922</td></tr>\n",
              "\t<tr><td>JFK</td><td>1 </td><td> 9161</td></tr>\n",
              "\t<tr><td>JFK</td><td>2 </td><td> 8421</td></tr>\n",
              "\t<tr><td>JFK</td><td>3 </td><td> 9697</td></tr>\n",
              "\t<tr><td>JFK</td><td>4 </td><td> 9218</td></tr>\n",
              "\t<tr><td>JFK</td><td>5 </td><td> 9397</td></tr>\n",
              "\t<tr><td>JFK</td><td>6 </td><td> 9472</td></tr>\n",
              "\t<tr><td>JFK</td><td>7 </td><td>10023</td></tr>\n",
              "\t<tr><td>JFK</td><td>8 </td><td> 9983</td></tr>\n",
              "\t<tr><td>JFK</td><td>9 </td><td> 8908</td></tr>\n",
              "\t<tr><td>JFK</td><td>10</td><td> 9143</td></tr>\n",
              "\t<tr><td>JFK</td><td>11</td><td> 8710</td></tr>\n",
              "\t<tr><td>JFK</td><td>12</td><td> 9146</td></tr>\n",
              "\t<tr><td>LGA</td><td>1 </td><td> 7950</td></tr>\n",
              "\t<tr><td>LGA</td><td>2 </td><td> 7423</td></tr>\n",
              "\t<tr><td>LGA</td><td>3 </td><td> 8717</td></tr>\n",
              "\t<tr><td>LGA</td><td>4 </td><td> 8581</td></tr>\n",
              "\t<tr><td>LGA</td><td>5 </td><td> 8807</td></tr>\n",
              "\t<tr><td>LGA</td><td>6 </td><td> 8596</td></tr>\n",
              "\t<tr><td>LGA</td><td>7 </td><td> 8927</td></tr>\n",
              "\t<tr><td>LGA</td><td>8 </td><td> 8985</td></tr>\n",
              "\t<tr><td>LGA</td><td>9 </td><td> 9116</td></tr>\n",
              "\t<tr><td>LGA</td><td>10</td><td> 9642</td></tr>\n",
              "\t<tr><td>LGA</td><td>11</td><td> 8851</td></tr>\n",
              "\t<tr><td>LGA</td><td>12</td><td> 9067</td></tr>\n",
              "</tbody>\n",
              "</table>\n"
            ],
            "text/markdown": "\nA grouped_df: 36 × 3\n\n| origin &lt;chr&gt; | name &lt;chr&gt; | value &lt;int&gt; |\n|---|---|---|\n| EWR | 1  |  9893 |\n| EWR | 2  |  9107 |\n| EWR | 3  | 10420 |\n| EWR | 4  | 10531 |\n| EWR | 5  | 10592 |\n| EWR | 6  | 10175 |\n| EWR | 7  | 10475 |\n| EWR | 8  | 10359 |\n| EWR | 9  |  9550 |\n| EWR | 10 | 10104 |\n| EWR | 11 |  9707 |\n| EWR | 12 |  9922 |\n| JFK | 1  |  9161 |\n| JFK | 2  |  8421 |\n| JFK | 3  |  9697 |\n| JFK | 4  |  9218 |\n| JFK | 5  |  9397 |\n| JFK | 6  |  9472 |\n| JFK | 7  | 10023 |\n| JFK | 8  |  9983 |\n| JFK | 9  |  8908 |\n| JFK | 10 |  9143 |\n| JFK | 11 |  8710 |\n| JFK | 12 |  9146 |\n| LGA | 1  |  7950 |\n| LGA | 2  |  7423 |\n| LGA | 3  |  8717 |\n| LGA | 4  |  8581 |\n| LGA | 5  |  8807 |\n| LGA | 6  |  8596 |\n| LGA | 7  |  8927 |\n| LGA | 8  |  8985 |\n| LGA | 9  |  9116 |\n| LGA | 10 |  9642 |\n| LGA | 11 |  8851 |\n| LGA | 12 |  9067 |\n\n",
            "text/latex": "A grouped\\_df: 36 × 3\n\\begin{tabular}{lll}\n origin & name & value\\\\\n <chr> & <chr> & <int>\\\\\n\\hline\n\t EWR & 1  &  9893\\\\\n\t EWR & 2  &  9107\\\\\n\t EWR & 3  & 10420\\\\\n\t EWR & 4  & 10531\\\\\n\t EWR & 5  & 10592\\\\\n\t EWR & 6  & 10175\\\\\n\t EWR & 7  & 10475\\\\\n\t EWR & 8  & 10359\\\\\n\t EWR & 9  &  9550\\\\\n\t EWR & 10 & 10104\\\\\n\t EWR & 11 &  9707\\\\\n\t EWR & 12 &  9922\\\\\n\t JFK & 1  &  9161\\\\\n\t JFK & 2  &  8421\\\\\n\t JFK & 3  &  9697\\\\\n\t JFK & 4  &  9218\\\\\n\t JFK & 5  &  9397\\\\\n\t JFK & 6  &  9472\\\\\n\t JFK & 7  & 10023\\\\\n\t JFK & 8  &  9983\\\\\n\t JFK & 9  &  8908\\\\\n\t JFK & 10 &  9143\\\\\n\t JFK & 11 &  8710\\\\\n\t JFK & 12 &  9146\\\\\n\t LGA & 1  &  7950\\\\\n\t LGA & 2  &  7423\\\\\n\t LGA & 3  &  8717\\\\\n\t LGA & 4  &  8581\\\\\n\t LGA & 5  &  8807\\\\\n\t LGA & 6  &  8596\\\\\n\t LGA & 7  &  8927\\\\\n\t LGA & 8  &  8985\\\\\n\t LGA & 9  &  9116\\\\\n\t LGA & 10 &  9642\\\\\n\t LGA & 11 &  8851\\\\\n\t LGA & 12 &  9067\\\\\n\\end{tabular}\n",
            "text/plain": [
              "   origin name value\n",
              "1  EWR    1     9893\n",
              "2  EWR    2     9107\n",
              "3  EWR    3    10420\n",
              "4  EWR    4    10531\n",
              "5  EWR    5    10592\n",
              "6  EWR    6    10175\n",
              "7  EWR    7    10475\n",
              "8  EWR    8    10359\n",
              "9  EWR    9     9550\n",
              "10 EWR    10   10104\n",
              "11 EWR    11    9707\n",
              "12 EWR    12    9922\n",
              "13 JFK    1     9161\n",
              "14 JFK    2     8421\n",
              "15 JFK    3     9697\n",
              "16 JFK    4     9218\n",
              "17 JFK    5     9397\n",
              "18 JFK    6     9472\n",
              "19 JFK    7    10023\n",
              "20 JFK    8     9983\n",
              "21 JFK    9     8908\n",
              "22 JFK    10    9143\n",
              "23 JFK    11    8710\n",
              "24 JFK    12    9146\n",
              "25 LGA    1     7950\n",
              "26 LGA    2     7423\n",
              "27 LGA    3     8717\n",
              "28 LGA    4     8581\n",
              "29 LGA    5     8807\n",
              "30 LGA    6     8596\n",
              "31 LGA    7     8927\n",
              "32 LGA    8     8985\n",
              "33 LGA    9     9116\n",
              "34 LGA    10    9642\n",
              "35 LGA    11    8851\n",
              "36 LGA    12    9067"
            ]
          },
          "metadata": {}
        }
      ]
    },
    {
      "cell_type": "markdown",
      "metadata": {
        "id": "vCtIyHr2vlVk"
      },
      "source": [
        "# Lecture 5: Tidy data, missing data\n",
        "\n",
        "<div style=\"border: 1px double black; padding: 10px; margin: 10px\">\n",
        "\n",
        "**After today's lecture you will:**\n",
        "* Gain more experience creating and working with tidy data\n",
        "* Learn about how R handles missing data.\n",
        "    \n",
        "This lecture note corresponds to Chapters 6 and 20 of your book. \n",
        "</div>\n",
        "\n",
        "\n",
        "    \n",
        "\n",
        "\n"
      ]
    },
    {
      "cell_type": "markdown",
      "metadata": {
        "id": "StVKOZh5vlVk"
      },
      "source": [
        "## Questions from Piazza and e-mail\n",
        "- \"I don't understand how `pivot_wider()` works\""
      ]
    },
    {
      "cell_type": "markdown",
      "metadata": {
        "id": "0xPhpRmNvlVl"
      },
      "source": [
        "## How `pivot_wider()` works\n",
        "Here's a simple untidy dataset:"
      ]
    },
    {
      "cell_type": "code",
      "execution_count": null,
      "metadata": {
        "id": "FpPZg-QFvlVl"
      },
      "outputs": [],
      "source": [
        "df <- tribble(\n",
        "  ~id, ~name, ~value,\n",
        "  \"A\", \"x\", 1,\n",
        "  \"B\", \"y\", 2,\n",
        "  \"B\", \"x\", 3, \n",
        "  \"A\", \"y\", 4,\n",
        "  \"A\", \"z\", 5,\n",
        ")"
      ]
    },
    {
      "cell_type": "code",
      "execution_count": null,
      "metadata": {
        "id": "Ykrh5T7vvlVm",
        "outputId": "aa23ae46-99e6-4823-a509-f1eeb29fa4ee",
        "colab": {
          "base_uri": "https://localhost:8080/",
          "height": 255
        }
      },
      "outputs": [
        {
          "output_type": "display_data",
          "data": {
            "text/html": [
              "<table class=\"dataframe\">\n",
              "<caption>A tibble: 5 × 3</caption>\n",
              "<thead>\n",
              "\t<tr><th scope=col>id</th><th scope=col>name</th><th scope=col>value</th></tr>\n",
              "\t<tr><th scope=col>&lt;chr&gt;</th><th scope=col>&lt;chr&gt;</th><th scope=col>&lt;dbl&gt;</th></tr>\n",
              "</thead>\n",
              "<tbody>\n",
              "\t<tr><td>A</td><td>x</td><td>1</td></tr>\n",
              "\t<tr><td>B</td><td>y</td><td>2</td></tr>\n",
              "\t<tr><td>B</td><td>x</td><td>3</td></tr>\n",
              "\t<tr><td>A</td><td>y</td><td>4</td></tr>\n",
              "\t<tr><td>A</td><td>z</td><td>5</td></tr>\n",
              "</tbody>\n",
              "</table>\n"
            ],
            "text/markdown": "\nA tibble: 5 × 3\n\n| id &lt;chr&gt; | name &lt;chr&gt; | value &lt;dbl&gt; |\n|---|---|---|\n| A | x | 1 |\n| B | y | 2 |\n| B | x | 3 |\n| A | y | 4 |\n| A | z | 5 |\n\n",
            "text/latex": "A tibble: 5 × 3\n\\begin{tabular}{lll}\n id & name & value\\\\\n <chr> & <chr> & <dbl>\\\\\n\\hline\n\t A & x & 1\\\\\n\t B & y & 2\\\\\n\t B & x & 3\\\\\n\t A & y & 4\\\\\n\t A & z & 5\\\\\n\\end{tabular}\n",
            "text/plain": [
              "  id name value\n",
              "1 A  x    1    \n",
              "2 B  y    2    \n",
              "3 B  x    3    \n",
              "4 A  y    4    \n",
              "5 A  z    5    "
            ]
          },
          "metadata": {}
        }
      ],
      "source": [
        "df"
      ]
    },
    {
      "cell_type": "markdown",
      "metadata": {
        "id": "g2-7DD94vlVn"
      },
      "source": [
        "(Why is it untidy?)"
      ]
    },
    {
      "cell_type": "code",
      "execution_count": null,
      "metadata": {
        "id": "m-RMPhidvlVo"
      },
      "outputs": [],
      "source": [
        "# First how do we make df tidy?"
      ]
    },
    {
      "cell_type": "markdown",
      "metadata": {
        "id": "4qCFHHbSvlVp"
      },
      "source": [
        "Here's how `pivot_wider()` got this answer:"
      ]
    },
    {
      "cell_type": "markdown",
      "metadata": {
        "id": "8XBSaJk8vlVp"
      },
      "source": [
        "First, we have to figure out what are the new column names:"
      ]
    },
    {
      "cell_type": "code",
      "execution_count": null,
      "metadata": {
        "id": "Is_KZyoVvlVp"
      },
      "outputs": [],
      "source": [
        "# figure out all the new column names"
      ]
    },
    {
      "cell_type": "markdown",
      "metadata": {
        "id": "TF0EtgFCvlVq"
      },
      "source": [
        "Next, we have to figure out all the rows that will exist in the new tabel. \n",
        "By default, the rows in the output are formed by all the variables that aren’t going into the names or values. \n",
        "(These are called the id_cols.)"
      ]
    },
    {
      "cell_type": "code",
      "execution_count": null,
      "metadata": {
        "id": "Tdk54AIfvlVq"
      },
      "outputs": [],
      "source": [
        "# figure out all the new rows"
      ]
    },
    {
      "cell_type": "markdown",
      "metadata": {
        "id": "Y90R6G4xvlVr"
      },
      "source": [
        "Finall, we have to fill in all the empty cells of this table by looking them up in the original table."
      ]
    },
    {
      "cell_type": "markdown",
      "metadata": {
        "id": "iE3Dy6hhvlVr"
      },
      "source": [
        "## A usage of `pivot_wider()`\n",
        "Let's revisit the `gapminder` dataset that we first saw last lecture:"
      ]
    },
    {
      "cell_type": "code",
      "source": [
        "install.packages('gapminder')"
      ],
      "metadata": {
        "colab": {
          "base_uri": "https://localhost:8080/"
        },
        "id": "TmxUZ97dx5DH",
        "outputId": "0436564b-9224-4c74-888f-8dab0895844f"
      },
      "execution_count": null,
      "outputs": [
        {
          "output_type": "stream",
          "name": "stderr",
          "text": [
            "Installing package into ‘/usr/local/lib/R/site-library’\n",
            "(as ‘lib’ is unspecified)\n",
            "\n"
          ]
        }
      ]
    },
    {
      "cell_type": "code",
      "execution_count": null,
      "metadata": {
        "id": "6zKKWjvEvlVs",
        "outputId": "b78f8536-b042-428c-b023-371758dc849d",
        "colab": {
          "base_uri": "https://localhost:8080/"
        }
      },
      "outputs": [
        {
          "output_type": "stream",
          "name": "stdout",
          "text": [
            "\u001b[90m# A tibble: 1,704 × 6\u001b[39m\n",
            "   country     continent  year lifeExp      pop gdpPercap\n",
            "   \u001b[3m\u001b[90m<fct>\u001b[39m\u001b[23m       \u001b[3m\u001b[90m<fct>\u001b[39m\u001b[23m     \u001b[3m\u001b[90m<int>\u001b[39m\u001b[23m   \u001b[3m\u001b[90m<dbl>\u001b[39m\u001b[23m    \u001b[3m\u001b[90m<int>\u001b[39m\u001b[23m     \u001b[3m\u001b[90m<dbl>\u001b[39m\u001b[23m\n",
            "\u001b[90m 1\u001b[39m Afghanistan Asia       \u001b[4m1\u001b[24m952    28.8  8\u001b[4m4\u001b[24m\u001b[4m2\u001b[24m\u001b[4m5\u001b[24m333      779.\n",
            "\u001b[90m 2\u001b[39m Afghanistan Asia       \u001b[4m1\u001b[24m957    30.3  9\u001b[4m2\u001b[24m\u001b[4m4\u001b[24m\u001b[4m0\u001b[24m934      821.\n",
            "\u001b[90m 3\u001b[39m Afghanistan Asia       \u001b[4m1\u001b[24m962    32.0 10\u001b[4m2\u001b[24m\u001b[4m6\u001b[24m\u001b[4m7\u001b[24m083      853.\n",
            "\u001b[90m 4\u001b[39m Afghanistan Asia       \u001b[4m1\u001b[24m967    34.0 11\u001b[4m5\u001b[24m\u001b[4m3\u001b[24m\u001b[4m7\u001b[24m966      836.\n",
            "\u001b[90m 5\u001b[39m Afghanistan Asia       \u001b[4m1\u001b[24m972    36.1 13\u001b[4m0\u001b[24m\u001b[4m7\u001b[24m\u001b[4m9\u001b[24m460      740.\n",
            "\u001b[90m 6\u001b[39m Afghanistan Asia       \u001b[4m1\u001b[24m977    38.4 14\u001b[4m8\u001b[24m\u001b[4m8\u001b[24m\u001b[4m0\u001b[24m372      786.\n",
            "\u001b[90m 7\u001b[39m Afghanistan Asia       \u001b[4m1\u001b[24m982    39.9 12\u001b[4m8\u001b[24m\u001b[4m8\u001b[24m\u001b[4m1\u001b[24m816      978.\n",
            "\u001b[90m 8\u001b[39m Afghanistan Asia       \u001b[4m1\u001b[24m987    40.8 13\u001b[4m8\u001b[24m\u001b[4m6\u001b[24m\u001b[4m7\u001b[24m957      852.\n",
            "\u001b[90m 9\u001b[39m Afghanistan Asia       \u001b[4m1\u001b[24m992    41.7 16\u001b[4m3\u001b[24m\u001b[4m1\u001b[24m\u001b[4m7\u001b[24m921      649.\n",
            "\u001b[90m10\u001b[39m Afghanistan Asia       \u001b[4m1\u001b[24m997    41.8 22\u001b[4m2\u001b[24m\u001b[4m2\u001b[24m\u001b[4m7\u001b[24m415      635.\n",
            "\u001b[90m# … with 1,694 more rows\u001b[39m\n"
          ]
        }
      ],
      "source": [
        "library(gapminder)\n",
        "print(gapminder)"
      ]
    },
    {
      "cell_type": "markdown",
      "metadata": {
        "id": "igxU62q2vlVs"
      },
      "source": [
        "I want to study GDP per capita over time. If I plot **all** the data, I get something that looks like:"
      ]
    },
    {
      "cell_type": "code",
      "execution_count": null,
      "metadata": {
        "id": "58LarGf9vlVt",
        "outputId": "7c4ea194-9265-4672-feaa-c2598c5dbc7b",
        "colab": {
          "base_uri": "https://localhost:8080/",
          "height": 317
        }
      },
      "outputs": [
        {
          "output_type": "display_data",
          "data": {
            "text/plain": [
              "plot without title"
            ],
            "image/png": "[encoded data removed]"
          },
          "metadata": {
            "image/png": {
              "width": 480,
              "height": 300
            }
          }
        }
      ],
      "source": [
        "ggplot(gapminder, \n",
        "aes(x = year, y=gdpPercap, group=country)) + \n",
        "  geom_line(alpha=0.1) + scale_y_log10()"
      ]
    },
    {
      "cell_type": "markdown",
      "metadata": {
        "id": "QUTbqbAYvlVt"
      },
      "source": [
        "Looking at all the data simultaneousy is too overwhelming. So, I'm going to summarize the data in a particular way. As a first step, we are going convert each country into a data point (row) containing all of its data side-by-side:"
      ]
    },
    {
      "cell_type": "code",
      "execution_count": null,
      "metadata": {
        "id": "-h5HPGhYvlVt",
        "colab": {
          "base_uri": "https://localhost:8080/"
        },
        "outputId": "a089129d-5f0e-4252-9b8d-b2638b6376bf"
      },
      "outputs": [
        {
          "output_type": "stream",
          "name": "stdout",
          "text": [
            "\u001b[90m# A tibble: 1,704 × 16\u001b[39m\n",
            "   country     contin…¹ lifeExp    pop `1952` `1957` `1962` `1967` `1972` `1977`\n",
            "   \u001b[3m\u001b[90m<fct>\u001b[39m\u001b[23m       \u001b[3m\u001b[90m<fct>\u001b[39m\u001b[23m      \u001b[3m\u001b[90m<dbl>\u001b[39m\u001b[23m  \u001b[3m\u001b[90m<int>\u001b[39m\u001b[23m  \u001b[3m\u001b[90m<dbl>\u001b[39m\u001b[23m  \u001b[3m\u001b[90m<dbl>\u001b[39m\u001b[23m  \u001b[3m\u001b[90m<dbl>\u001b[39m\u001b[23m  \u001b[3m\u001b[90m<dbl>\u001b[39m\u001b[23m  \u001b[3m\u001b[90m<dbl>\u001b[39m\u001b[23m  \u001b[3m\u001b[90m<dbl>\u001b[39m\u001b[23m\n",
            "\u001b[90m 1\u001b[39m Afghanistan Asia        28.8 8.43\u001b[90me\u001b[39m6   779.    \u001b[31mNA\u001b[39m     \u001b[31mNA\u001b[39m     \u001b[31mNA\u001b[39m     \u001b[31mNA\u001b[39m     \u001b[31mNA\u001b[39m \n",
            "\u001b[90m 2\u001b[39m Afghanistan Asia        30.3 9.24\u001b[90me\u001b[39m6    \u001b[31mNA\u001b[39m    821.    \u001b[31mNA\u001b[39m     \u001b[31mNA\u001b[39m     \u001b[31mNA\u001b[39m     \u001b[31mNA\u001b[39m \n",
            "\u001b[90m 3\u001b[39m Afghanistan Asia        32.0 1.03\u001b[90me\u001b[39m7    \u001b[31mNA\u001b[39m     \u001b[31mNA\u001b[39m    853.    \u001b[31mNA\u001b[39m     \u001b[31mNA\u001b[39m     \u001b[31mNA\u001b[39m \n",
            "\u001b[90m 4\u001b[39m Afghanistan Asia        34.0 1.15\u001b[90me\u001b[39m7    \u001b[31mNA\u001b[39m     \u001b[31mNA\u001b[39m     \u001b[31mNA\u001b[39m    836.    \u001b[31mNA\u001b[39m     \u001b[31mNA\u001b[39m \n",
            "\u001b[90m 5\u001b[39m Afghanistan Asia        36.1 1.31\u001b[90me\u001b[39m7    \u001b[31mNA\u001b[39m     \u001b[31mNA\u001b[39m     \u001b[31mNA\u001b[39m     \u001b[31mNA\u001b[39m    740.    \u001b[31mNA\u001b[39m \n",
            "\u001b[90m 6\u001b[39m Afghanistan Asia        38.4 1.49\u001b[90me\u001b[39m7    \u001b[31mNA\u001b[39m     \u001b[31mNA\u001b[39m     \u001b[31mNA\u001b[39m     \u001b[31mNA\u001b[39m     \u001b[31mNA\u001b[39m    786.\n",
            "\u001b[90m 7\u001b[39m Afghanistan Asia        39.9 1.29\u001b[90me\u001b[39m7    \u001b[31mNA\u001b[39m     \u001b[31mNA\u001b[39m     \u001b[31mNA\u001b[39m     \u001b[31mNA\u001b[39m     \u001b[31mNA\u001b[39m     \u001b[31mNA\u001b[39m \n",
            "\u001b[90m 8\u001b[39m Afghanistan Asia        40.8 1.39\u001b[90me\u001b[39m7    \u001b[31mNA\u001b[39m     \u001b[31mNA\u001b[39m     \u001b[31mNA\u001b[39m     \u001b[31mNA\u001b[39m     \u001b[31mNA\u001b[39m     \u001b[31mNA\u001b[39m \n",
            "\u001b[90m 9\u001b[39m Afghanistan Asia        41.7 1.63\u001b[90me\u001b[39m7    \u001b[31mNA\u001b[39m     \u001b[31mNA\u001b[39m     \u001b[31mNA\u001b[39m     \u001b[31mNA\u001b[39m     \u001b[31mNA\u001b[39m     \u001b[31mNA\u001b[39m \n",
            "\u001b[90m10\u001b[39m Afghanistan Asia        41.8 2.22\u001b[90me\u001b[39m7    \u001b[31mNA\u001b[39m     \u001b[31mNA\u001b[39m     \u001b[31mNA\u001b[39m     \u001b[31mNA\u001b[39m     \u001b[31mNA\u001b[39m     \u001b[31mNA\u001b[39m \n",
            "\u001b[90m# … with 1,694 more rows, 6 more variables: `1982` <dbl>, `1987` <dbl>,\u001b[39m\n",
            "\u001b[90m#   `1992` <dbl>, `1997` <dbl>, `2002` <dbl>, `2007` <dbl>, and abbreviated\u001b[39m\n",
            "\u001b[90m#   variable name ¹​continent\u001b[39m\n"
          ]
        }
      ],
      "source": [
        "# convert gapminder to wide, placing different years of data side-by-side\n",
        "# w/o specifying that the observations are the countries:\n",
        "col_year<-pivot_wider(\n",
        "  gapminder,\n",
        "  names_from=year,\n",
        "  values_from=gdpPercap)%>% # i only care about gdp per cap over time\n",
        "    print\n",
        "# lots of NAs"
      ]
    },
    {
      "cell_type": "code",
      "source": [
        "# specifying that the observations are the countries: \n",
        "col_year<-pivot_wider(\n",
        "  gapminder,\n",
        "  id_cols=country,\n",
        "  names_from=year,\n",
        "  values_from=gdpPercap)%>%\n",
        "    print\n",
        "# no more repeats (each country has its own row)\n",
        "# no more NAs "
      ],
      "metadata": {
        "colab": {
          "base_uri": "https://localhost:8080/"
        },
        "id": "0TP1H0P1zWfg",
        "outputId": "3740b625-7cc8-4543-ae7e-1cd64f8cea47"
      },
      "execution_count": null,
      "outputs": [
        {
          "output_type": "stream",
          "name": "stdout",
          "text": [
            "\u001b[90m# A tibble: 142 × 13\u001b[39m\n",
            "   country `1952` `1957` `1962` `1967` `1972` `1977` `1982` `1987` `1992` `1997`\n",
            "   \u001b[3m\u001b[90m<fct>\u001b[39m\u001b[23m    \u001b[3m\u001b[90m<dbl>\u001b[39m\u001b[23m  \u001b[3m\u001b[90m<dbl>\u001b[39m\u001b[23m  \u001b[3m\u001b[90m<dbl>\u001b[39m\u001b[23m  \u001b[3m\u001b[90m<dbl>\u001b[39m\u001b[23m  \u001b[3m\u001b[90m<dbl>\u001b[39m\u001b[23m  \u001b[3m\u001b[90m<dbl>\u001b[39m\u001b[23m  \u001b[3m\u001b[90m<dbl>\u001b[39m\u001b[23m  \u001b[3m\u001b[90m<dbl>\u001b[39m\u001b[23m  \u001b[3m\u001b[90m<dbl>\u001b[39m\u001b[23m  \u001b[3m\u001b[90m<dbl>\u001b[39m\u001b[23m\n",
            "\u001b[90m 1\u001b[39m Afghan…   779.   821.   853.   836.   740.   786.   978.   852.   649.   635.\n",
            "\u001b[90m 2\u001b[39m Albania  \u001b[4m1\u001b[24m601.  \u001b[4m1\u001b[24m942.  \u001b[4m2\u001b[24m313.  \u001b[4m2\u001b[24m760.  \u001b[4m3\u001b[24m313.  \u001b[4m3\u001b[24m533.  \u001b[4m3\u001b[24m631.  \u001b[4m3\u001b[24m739.  \u001b[4m2\u001b[24m497.  \u001b[4m3\u001b[24m193.\n",
            "\u001b[90m 3\u001b[39m Algeria  \u001b[4m2\u001b[24m449.  \u001b[4m3\u001b[24m014.  \u001b[4m2\u001b[24m551.  \u001b[4m3\u001b[24m247.  \u001b[4m4\u001b[24m183.  \u001b[4m4\u001b[24m910.  \u001b[4m5\u001b[24m745.  \u001b[4m5\u001b[24m681.  \u001b[4m5\u001b[24m023.  \u001b[4m4\u001b[24m797.\n",
            "\u001b[90m 4\u001b[39m Angola   \u001b[4m3\u001b[24m521.  \u001b[4m3\u001b[24m828.  \u001b[4m4\u001b[24m269.  \u001b[4m5\u001b[24m523.  \u001b[4m5\u001b[24m473.  \u001b[4m3\u001b[24m009.  \u001b[4m2\u001b[24m757.  \u001b[4m2\u001b[24m430.  \u001b[4m2\u001b[24m628.  \u001b[4m2\u001b[24m277.\n",
            "\u001b[90m 5\u001b[39m Argent…  \u001b[4m5\u001b[24m911.  \u001b[4m6\u001b[24m857.  \u001b[4m7\u001b[24m133.  \u001b[4m8\u001b[24m053.  \u001b[4m9\u001b[24m443. \u001b[4m1\u001b[24m\u001b[4m0\u001b[24m079.  \u001b[4m8\u001b[24m998.  \u001b[4m9\u001b[24m140.  \u001b[4m9\u001b[24m308. \u001b[4m1\u001b[24m\u001b[4m0\u001b[24m967.\n",
            "\u001b[90m 6\u001b[39m Austra… \u001b[4m1\u001b[24m\u001b[4m0\u001b[24m040. \u001b[4m1\u001b[24m\u001b[4m0\u001b[24m950. \u001b[4m1\u001b[24m\u001b[4m2\u001b[24m217. \u001b[4m1\u001b[24m\u001b[4m4\u001b[24m526. \u001b[4m1\u001b[24m\u001b[4m6\u001b[24m789. \u001b[4m1\u001b[24m\u001b[4m8\u001b[24m334. \u001b[4m1\u001b[24m\u001b[4m9\u001b[24m477. \u001b[4m2\u001b[24m\u001b[4m1\u001b[24m889. \u001b[4m2\u001b[24m\u001b[4m3\u001b[24m425. \u001b[4m2\u001b[24m\u001b[4m6\u001b[24m998.\n",
            "\u001b[90m 7\u001b[39m Austria  \u001b[4m6\u001b[24m137.  \u001b[4m8\u001b[24m843. \u001b[4m1\u001b[24m\u001b[4m0\u001b[24m751. \u001b[4m1\u001b[24m\u001b[4m2\u001b[24m835. \u001b[4m1\u001b[24m\u001b[4m6\u001b[24m662. \u001b[4m1\u001b[24m\u001b[4m9\u001b[24m749. \u001b[4m2\u001b[24m\u001b[4m1\u001b[24m597. \u001b[4m2\u001b[24m\u001b[4m3\u001b[24m688. \u001b[4m2\u001b[24m\u001b[4m7\u001b[24m042. \u001b[4m2\u001b[24m\u001b[4m9\u001b[24m096.\n",
            "\u001b[90m 8\u001b[39m Bahrain  \u001b[4m9\u001b[24m867. \u001b[4m1\u001b[24m\u001b[4m1\u001b[24m636. \u001b[4m1\u001b[24m\u001b[4m2\u001b[24m753. \u001b[4m1\u001b[24m\u001b[4m4\u001b[24m805. \u001b[4m1\u001b[24m\u001b[4m8\u001b[24m269. \u001b[4m1\u001b[24m\u001b[4m9\u001b[24m340. \u001b[4m1\u001b[24m\u001b[4m9\u001b[24m211. \u001b[4m1\u001b[24m\u001b[4m8\u001b[24m524. \u001b[4m1\u001b[24m\u001b[4m9\u001b[24m036. \u001b[4m2\u001b[24m\u001b[4m0\u001b[24m292.\n",
            "\u001b[90m 9\u001b[39m Bangla…   684.   662.   686.   721.   630.   660.   677.   752.   838.   973.\n",
            "\u001b[90m10\u001b[39m Belgium  \u001b[4m8\u001b[24m343.  \u001b[4m9\u001b[24m715. \u001b[4m1\u001b[24m\u001b[4m0\u001b[24m991. \u001b[4m1\u001b[24m\u001b[4m3\u001b[24m149. \u001b[4m1\u001b[24m\u001b[4m6\u001b[24m672. \u001b[4m1\u001b[24m\u001b[4m9\u001b[24m118. \u001b[4m2\u001b[24m\u001b[4m0\u001b[24m980. \u001b[4m2\u001b[24m\u001b[4m2\u001b[24m526. \u001b[4m2\u001b[24m\u001b[4m5\u001b[24m576. \u001b[4m2\u001b[24m\u001b[4m7\u001b[24m561.\n",
            "\u001b[90m# … with 132 more rows, and 2 more variables: `2002` <dbl>, `2007` <dbl>\u001b[39m\n"
          ]
        }
      ]
    },
    {
      "cell_type": "markdown",
      "metadata": {
        "id": "G7tysRZgvlVt"
      },
      "source": [
        "Now `col_year` is a **data frame** that contains one observation per row. This enables us to ask questions about **covariation** between the data in different years."
      ]
    },
    {
      "cell_type": "code",
      "source": [
        "?cov\n",
        "# how two variables differ "
      ],
      "metadata": {
        "id": "h585Tjz90KPQ"
      },
      "execution_count": null,
      "outputs": []
    },
    {
      "cell_type": "code",
      "execution_count": null,
      "metadata": {
        "id": "KsrPUnRBvlVu",
        "colab": {
          "base_uri": "https://localhost:8080/",
          "height": 34
        },
        "outputId": "29c96fbc-4a38-452c-882f-31148c403e8d"
      },
      "outputs": [
        {
          "output_type": "display_data",
          "data": {
            "text/html": [
              "91842671.4244"
            ],
            "text/markdown": "91842671.4244",
            "text/latex": "91842671.4244",
            "text/plain": [
              "[1] 91842671"
            ]
          },
          "metadata": {}
        }
      ],
      "source": [
        "# example of covariation between two different years\n",
        "cov(col_year$\"1952\",col_year$\"1957\")"
      ]
    },
    {
      "cell_type": "markdown",
      "metadata": {
        "id": "-ri-fuAuvlVu"
      },
      "source": [
        "## &#129300; Quiz\n",
        "\n",
        "The correlation between a country's GDP per capita in 1952 and 2002 was:\n",
        "\n",
        "<ol style=\"list-style-type: upper-alpha;\">\n",
        "    <li>0.0</li>\n",
        "    <li>-.21</li>\n",
        "    <li>1.65</li>\n",
        "    <li>44822176</li>\n",
        "    <li>.43</li> \n",
        "</ol>"
      ]
    },
    {
      "cell_type": "code",
      "source": [
        "cor(col_year$\"1952\",col_year$\"2002\")"
      ],
      "metadata": {
        "colab": {
          "base_uri": "https://localhost:8080/",
          "height": 34
        },
        "id": "tRV4_WoH04NG",
        "outputId": "b1772c2b-cffc-4974-8635-b13c1c700fa7"
      },
      "execution_count": null,
      "outputs": [
        {
          "output_type": "display_data",
          "data": {
            "text/html": [
              "0.431114169863309"
            ],
            "text/markdown": "0.431114169863309",
            "text/latex": "0.431114169863309",
            "text/plain": [
              "[1] 0.4311142"
            ]
          },
          "metadata": {}
        }
      ]
    },
    {
      "cell_type": "markdown",
      "metadata": {
        "id": "X7weuJ7uvlVu"
      },
      "source": [
        "Finally, we'll do one more trick, following Chapter 6 of the book. We will **cluster** these data in order to organize the countries into a few (hopefully) interpretable groups. \n",
        "\n",
        "For technical reasons, in order to do clustering, we need to convert our data frame slightly by using a function called `columns_to_rownames()`:"
      ]
    },
    {
      "cell_type": "code",
      "execution_count": null,
      "metadata": {
        "id": "Vd1WYOMYvlVv"
      },
      "outputs": [],
      "source": [
        "# use `columns_to_rownames()` to create a base R data frame with named rows.\n",
        "col_year<-col_year%>%\n",
        "  column_to_rownames(\"country\")%>%\n",
        "  print"
      ]
    },
    {
      "cell_type": "code",
      "execution_count": null,
      "metadata": {
        "id": "kLWcKoz3vlVv"
      },
      "outputs": [],
      "source": [
        "cluster <- stats::kmeans(col_year, centers = 6)"
      ]
    },
    {
      "cell_type": "markdown",
      "metadata": {
        "id": "78cE4GK0vlVv"
      },
      "source": [
        "Finally, we assign each country back to its cluster:"
      ]
    },
    {
      "cell_type": "code",
      "execution_count": null,
      "metadata": {
        "id": "jc33teOkvlVv",
        "outputId": "c06a510b-6194-45a3-c95f-5d869ab29d44",
        "colab": {
          "base_uri": "https://localhost:8080/"
        }
      },
      "outputs": [
        {
          "output_type": "stream",
          "name": "stdout",
          "text": [
            "\u001b[90m# A tibble: 142 × 2\u001b[39m\n",
            "   country     cluster_id\n",
            "   \u001b[3m\u001b[90m<chr>\u001b[39m\u001b[23m            \u001b[3m\u001b[90m<int>\u001b[39m\u001b[23m\n",
            "\u001b[90m 1\u001b[39m Afghanistan          4\n",
            "\u001b[90m 2\u001b[39m Albania              5\n",
            "\u001b[90m 3\u001b[39m Algeria              5\n",
            "\u001b[90m 4\u001b[39m Angola               5\n",
            "\u001b[90m 5\u001b[39m Argentina            2\n",
            "\u001b[90m 6\u001b[39m Australia            1\n",
            "\u001b[90m 7\u001b[39m Austria              1\n",
            "\u001b[90m 8\u001b[39m Bahrain              1\n",
            "\u001b[90m 9\u001b[39m Bangladesh           4\n",
            "\u001b[90m10\u001b[39m Belgium              1\n",
            "\u001b[90m# … with 132 more rows\u001b[39m\n"
          ]
        }
      ],
      "source": [
        "cluster_id <- cluster$cluster  %>% \n",
        "  enframe()  %>% \n",
        "  rename(country = name, cluster_id = value) %>% print\n",
        "# the abs value of the cluster id does not matter. all that matters is that similar countries have the same number."
      ]
    },
    {
      "cell_type": "code",
      "source": [
        "# join cluster_id and summarize the mean gdpPercap for each cluster and each country \n",
        "\n",
        "df3<-gapminder%>%\n",
        "  left_join(cluster_id)%>%\n",
        "  group_by(cluster_id,year)%>%\n",
        "  summarize(mean=mean(gdpPercap))\n",
        "\n",
        "df3%>%print\n",
        "\n",
        "# all the countries that belong to this cluster for each yr, what is its mean gdp?\n",
        "# now we want to plot this "
      ],
      "metadata": {
        "colab": {
          "base_uri": "https://localhost:8080/"
        },
        "id": "BcnwZvDq6CDc",
        "outputId": "a6f81f4d-ec53-409a-ae01-21af2dc75c23"
      },
      "execution_count": null,
      "outputs": [
        {
          "output_type": "stream",
          "name": "stderr",
          "text": [
            "\u001b[1m\u001b[22mJoining, by = \"country\"\n",
            "\u001b[1m\u001b[22m`summarise()` has grouped output by 'cluster_id'. You can override using the\n",
            "`.groups` argument.\n"
          ]
        },
        {
          "output_type": "stream",
          "name": "stdout",
          "text": [
            "\u001b[90m# A tibble: 72 × 3\u001b[39m\n",
            "\u001b[90m# Groups:   cluster_id [6]\u001b[39m\n",
            "   cluster_id  year   mean\n",
            "        \u001b[3m\u001b[90m<int>\u001b[39m\u001b[23m \u001b[3m\u001b[90m<int>\u001b[39m\u001b[23m  \u001b[3m\u001b[90m<dbl>\u001b[39m\u001b[23m\n",
            "\u001b[90m 1\u001b[39m          1  \u001b[4m1\u001b[24m952  \u001b[4m8\u001b[24m504.\n",
            "\u001b[90m 2\u001b[39m          1  \u001b[4m1\u001b[24m957 \u001b[4m1\u001b[24m\u001b[4m0\u001b[24m135.\n",
            "\u001b[90m 3\u001b[39m          1  \u001b[4m1\u001b[24m962 \u001b[4m1\u001b[24m\u001b[4m1\u001b[24m920.\n",
            "\u001b[90m 4\u001b[39m          1  \u001b[4m1\u001b[24m967 \u001b[4m1\u001b[24m\u001b[4m4\u001b[24m456.\n",
            "\u001b[90m 5\u001b[39m          1  \u001b[4m1\u001b[24m972 \u001b[4m1\u001b[24m\u001b[4m7\u001b[24m853.\n",
            "\u001b[90m 6\u001b[39m          1  \u001b[4m1\u001b[24m977 \u001b[4m2\u001b[24m\u001b[4m0\u001b[24m367.\n",
            "\u001b[90m 7\u001b[39m          1  \u001b[4m1\u001b[24m982 \u001b[4m2\u001b[24m\u001b[4m2\u001b[24m012.\n",
            "\u001b[90m 8\u001b[39m          1  \u001b[4m1\u001b[24m987 \u001b[4m2\u001b[24m\u001b[4m4\u001b[24m010.\n",
            "\u001b[90m 9\u001b[39m          1  \u001b[4m1\u001b[24m992 \u001b[4m2\u001b[24m\u001b[4m5\u001b[24m920.\n",
            "\u001b[90m10\u001b[39m          1  \u001b[4m1\u001b[24m997 \u001b[4m2\u001b[24m\u001b[4m8\u001b[24m519.\n",
            "\u001b[90m# … with 62 more rows\u001b[39m\n"
          ]
        }
      ]
    },
    {
      "cell_type": "code",
      "execution_count": null,
      "metadata": {
        "id": "C_CC-u2dvlVv",
        "outputId": "1afe6817-46cc-4621-ca40-3f6ba77c2d79",
        "colab": {
          "base_uri": "https://localhost:8080/",
          "height": 317
        }
      },
      "outputs": [
        {
          "output_type": "display_data",
          "data": {
            "text/plain": [
              "plot without title"
            ],
            "image/png": "[encoded data removed]"
          },
          "metadata": {
            "image/png": {
              "width": 480,
              "height": 300
            }
          }
        }
      ],
      "source": [
        "# plot mean gdppercap for each country in each cluster\n",
        "df3%>%\n",
        "  ggplot(mapping=aes(x=year,y=mean,group=cluster_id))+\n",
        "  geom_line(aes(color=cluster_id)) # now we should have diff colors for diff clusters. but now we have shades of same color."
      ]
    },
    {
      "cell_type": "code",
      "execution_count": null,
      "metadata": {
        "id": "vLhcKl3zvlVw",
        "outputId": "78f12644-573d-4731-efe9-d537bfba1caf"
      },
      "outputs": [
        {
          "name": "stdout",
          "output_type": "stream",
          "text": [
            "\u001b[38;5;246m# A tibble: 12 x 4\u001b[39m\n",
            "   country      year type            count\n",
            "   \u001b[3m\u001b[38;5;246m<chr>\u001b[39m\u001b[23m       \u001b[3m\u001b[38;5;246m<int>\u001b[39m\u001b[23m \u001b[3m\u001b[38;5;246m<chr>\u001b[39m\u001b[23m           \u001b[3m\u001b[38;5;246m<int>\u001b[39m\u001b[23m\n",
            "\u001b[38;5;250m 1\u001b[39m Afghanistan  \u001b[4m1\u001b[24m999 cases             745\n",
            "\u001b[38;5;250m 2\u001b[39m Afghanistan  \u001b[4m1\u001b[24m999 population   19\u001b[4m9\u001b[24m\u001b[4m8\u001b[24m\u001b[4m7\u001b[24m071\n",
            "\u001b[38;5;250m 3\u001b[39m Afghanistan  \u001b[4m2\u001b[24m000 cases            \u001b[4m2\u001b[24m666\n",
            "\u001b[38;5;250m 4\u001b[39m Afghanistan  \u001b[4m2\u001b[24m000 population   20\u001b[4m5\u001b[24m\u001b[4m9\u001b[24m\u001b[4m5\u001b[24m360\n",
            "\u001b[38;5;250m 5\u001b[39m Brazil       \u001b[4m1\u001b[24m999 cases           \u001b[4m3\u001b[24m\u001b[4m7\u001b[24m737\n",
            "\u001b[38;5;250m 6\u001b[39m Brazil       \u001b[4m1\u001b[24m999 population  172\u001b[4m0\u001b[24m\u001b[4m0\u001b[24m\u001b[4m6\u001b[24m362\n",
            "\u001b[38;5;250m 7\u001b[39m Brazil       \u001b[4m2\u001b[24m000 cases           \u001b[4m8\u001b[24m\u001b[4m0\u001b[24m488\n",
            "\u001b[38;5;250m 8\u001b[39m Brazil       \u001b[4m2\u001b[24m000 population  174\u001b[4m5\u001b[24m\u001b[4m0\u001b[24m\u001b[4m4\u001b[24m898\n",
            "\u001b[38;5;250m 9\u001b[39m China        \u001b[4m1\u001b[24m999 cases          \u001b[4m2\u001b[24m\u001b[4m1\u001b[24m\u001b[4m2\u001b[24m258\n",
            "\u001b[38;5;250m10\u001b[39m China        \u001b[4m1\u001b[24m999 population \u001b[4m1\u001b[24m272\u001b[4m9\u001b[24m\u001b[4m1\u001b[24m\u001b[4m5\u001b[24m272\n",
            "\u001b[38;5;250m11\u001b[39m China        \u001b[4m2\u001b[24m000 cases          \u001b[4m2\u001b[24m\u001b[4m1\u001b[24m\u001b[4m3\u001b[24m766\n",
            "\u001b[38;5;250m12\u001b[39m China        \u001b[4m2\u001b[24m000 population \u001b[4m1\u001b[24m280\u001b[4m4\u001b[24m\u001b[4m2\u001b[24m\u001b[4m8\u001b[24m583\n"
          ]
        }
      ],
      "source": [
        "print(table2)"
      ]
    },
    {
      "cell_type": "markdown",
      "metadata": {
        "id": "IWx9uAlxvlVw"
      },
      "source": [
        "## Missing data in R\n",
        "The `gapminder` appears very nice, it only contains data sets with no missing observations. But! The raw data looks like this:"
      ]
    },
    {
      "cell_type": "code",
      "execution_count": null,
      "metadata": {
        "id": "yJksHzWWvlVw",
        "outputId": "526c3c72-cd18-4d03-a789-5bc920130200",
        "colab": {
          "base_uri": "https://localhost:8080/"
        }
      },
      "outputs": [
        {
          "output_type": "stream",
          "name": "stdout",
          "text": [
            "\u001b[90m# A tibble: 3,313 × 6\u001b[39m\n",
            "   country     continent  year lifeExp      pop gdpPercap\n",
            "   \u001b[3m\u001b[90m<fct>\u001b[39m\u001b[23m       \u001b[3m\u001b[90m<fct>\u001b[39m\u001b[23m     \u001b[3m\u001b[90m<int>\u001b[39m\u001b[23m   \u001b[3m\u001b[90m<dbl>\u001b[39m\u001b[23m    \u001b[3m\u001b[90m<int>\u001b[39m\u001b[23m     \u001b[3m\u001b[90m<dbl>\u001b[39m\u001b[23m\n",
            "\u001b[90m 1\u001b[39m Afghanistan Asia       \u001b[4m1\u001b[24m952    28.8  8\u001b[4m4\u001b[24m\u001b[4m2\u001b[24m\u001b[4m5\u001b[24m333      779.\n",
            "\u001b[90m 2\u001b[39m Afghanistan Asia       \u001b[4m1\u001b[24m957    30.3  9\u001b[4m2\u001b[24m\u001b[4m4\u001b[24m\u001b[4m0\u001b[24m934      821.\n",
            "\u001b[90m 3\u001b[39m Afghanistan Asia       \u001b[4m1\u001b[24m962    32.0 10\u001b[4m2\u001b[24m\u001b[4m6\u001b[24m\u001b[4m7\u001b[24m083      853.\n",
            "\u001b[90m 4\u001b[39m Afghanistan Asia       \u001b[4m1\u001b[24m967    34.0 11\u001b[4m5\u001b[24m\u001b[4m3\u001b[24m\u001b[4m7\u001b[24m966      836.\n",
            "\u001b[90m 5\u001b[39m Afghanistan Asia       \u001b[4m1\u001b[24m972    36.1 13\u001b[4m0\u001b[24m\u001b[4m7\u001b[24m\u001b[4m9\u001b[24m460      740.\n",
            "\u001b[90m 6\u001b[39m Afghanistan Asia       \u001b[4m1\u001b[24m977    38.4 14\u001b[4m8\u001b[24m\u001b[4m8\u001b[24m\u001b[4m0\u001b[24m372      786.\n",
            "\u001b[90m 7\u001b[39m Afghanistan Asia       \u001b[4m1\u001b[24m982    39.9 12\u001b[4m8\u001b[24m\u001b[4m8\u001b[24m\u001b[4m1\u001b[24m816      978.\n",
            "\u001b[90m 8\u001b[39m Afghanistan Asia       \u001b[4m1\u001b[24m987    40.8 13\u001b[4m8\u001b[24m\u001b[4m6\u001b[24m\u001b[4m7\u001b[24m957      852.\n",
            "\u001b[90m 9\u001b[39m Afghanistan Asia       \u001b[4m1\u001b[24m992    41.7 16\u001b[4m3\u001b[24m\u001b[4m1\u001b[24m\u001b[4m7\u001b[24m921      649.\n",
            "\u001b[90m10\u001b[39m Afghanistan Asia       \u001b[4m1\u001b[24m997    41.8 22\u001b[4m2\u001b[24m\u001b[4m2\u001b[24m\u001b[4m7\u001b[24m415      635.\n",
            "\u001b[90m# … with 3,303 more rows\u001b[39m\n"
          ]
        }
      ],
      "source": [
        "gapminder_unfiltered  %>% print"
      ]
    },
    {
      "cell_type": "code",
      "execution_count": null,
      "metadata": {
        "id": "H54SBHXhvlVw",
        "colab": {
          "base_uri": "https://localhost:8080/"
        },
        "outputId": "df01fa23-e041-4b44-c937-99501df237ee"
      },
      "outputs": [
        {
          "output_type": "stream",
          "name": "stdout",
          "text": [
            "\u001b[90m# A tibble: 187 × 59\u001b[39m\n",
            "   country `1952` `1957` `1962` `1967` `1972` `1977` `1982` `1987` `1992` `1997`\n",
            "   \u001b[3m\u001b[90m<fct>\u001b[39m\u001b[23m    \u001b[3m\u001b[90m<dbl>\u001b[39m\u001b[23m  \u001b[3m\u001b[90m<dbl>\u001b[39m\u001b[23m  \u001b[3m\u001b[90m<dbl>\u001b[39m\u001b[23m  \u001b[3m\u001b[90m<dbl>\u001b[39m\u001b[23m  \u001b[3m\u001b[90m<dbl>\u001b[39m\u001b[23m  \u001b[3m\u001b[90m<dbl>\u001b[39m\u001b[23m  \u001b[3m\u001b[90m<dbl>\u001b[39m\u001b[23m  \u001b[3m\u001b[90m<dbl>\u001b[39m\u001b[23m  \u001b[3m\u001b[90m<dbl>\u001b[39m\u001b[23m  \u001b[3m\u001b[90m<dbl>\u001b[39m\u001b[23m\n",
            "\u001b[90m 1\u001b[39m Afghan…   779.   821.   853.   836.   740.   786.   978.   852.   649.   635.\n",
            "\u001b[90m 2\u001b[39m Albania  \u001b[4m1\u001b[24m601.  \u001b[4m1\u001b[24m942.  \u001b[4m2\u001b[24m313.  \u001b[4m2\u001b[24m760.  \u001b[4m3\u001b[24m313.  \u001b[4m3\u001b[24m533.  \u001b[4m3\u001b[24m631.  \u001b[4m3\u001b[24m739.  \u001b[4m2\u001b[24m497.  \u001b[4m3\u001b[24m193.\n",
            "\u001b[90m 3\u001b[39m Algeria  \u001b[4m2\u001b[24m449.  \u001b[4m3\u001b[24m014.  \u001b[4m2\u001b[24m551.  \u001b[4m3\u001b[24m247.  \u001b[4m4\u001b[24m183.  \u001b[4m4\u001b[24m910.  \u001b[4m5\u001b[24m745.  \u001b[4m5\u001b[24m681.  \u001b[4m5\u001b[24m023.  \u001b[4m4\u001b[24m797.\n",
            "\u001b[90m 4\u001b[39m Angola   \u001b[4m3\u001b[24m521.  \u001b[4m3\u001b[24m828.  \u001b[4m4\u001b[24m269.  \u001b[4m5\u001b[24m523.  \u001b[4m5\u001b[24m473.  \u001b[4m3\u001b[24m009.  \u001b[4m2\u001b[24m757.  \u001b[4m2\u001b[24m430.  \u001b[4m2\u001b[24m628.  \u001b[4m2\u001b[24m277.\n",
            "\u001b[90m 5\u001b[39m Argent…  \u001b[4m5\u001b[24m911.  \u001b[4m6\u001b[24m857.  \u001b[4m7\u001b[24m133.  \u001b[4m8\u001b[24m053.  \u001b[4m9\u001b[24m443. \u001b[4m1\u001b[24m\u001b[4m0\u001b[24m079.  \u001b[4m8\u001b[24m998.  \u001b[4m9\u001b[24m140.  \u001b[4m9\u001b[24m308. \u001b[4m1\u001b[24m\u001b[4m0\u001b[24m967.\n",
            "\u001b[90m 6\u001b[39m Armenia    \u001b[31mNA\u001b[39m     \u001b[31mNA\u001b[39m     \u001b[31mNA\u001b[39m     \u001b[31mNA\u001b[39m     \u001b[31mNA\u001b[39m     \u001b[31mNA\u001b[39m     \u001b[31mNA\u001b[39m     \u001b[31mNA\u001b[39m   \u001b[4m1\u001b[24m443.  \u001b[4m1\u001b[24m791.\n",
            "\u001b[90m 7\u001b[39m Aruba      \u001b[31mNA\u001b[39m     \u001b[31mNA\u001b[39m     \u001b[31mNA\u001b[39m     \u001b[31mNA\u001b[39m   \u001b[4m4\u001b[24m940.  \u001b[4m7\u001b[24m390. \u001b[4m1\u001b[24m\u001b[4m0\u001b[24m875. \u001b[4m1\u001b[24m\u001b[4m7\u001b[24m674. \u001b[4m2\u001b[24m\u001b[4m5\u001b[24m121. \u001b[4m2\u001b[24m\u001b[4m6\u001b[24m484.\n",
            "\u001b[90m 8\u001b[39m Austra… \u001b[4m1\u001b[24m\u001b[4m0\u001b[24m040. \u001b[4m1\u001b[24m\u001b[4m0\u001b[24m950. \u001b[4m1\u001b[24m\u001b[4m2\u001b[24m217. \u001b[4m1\u001b[24m\u001b[4m4\u001b[24m526. \u001b[4m1\u001b[24m\u001b[4m6\u001b[24m789. \u001b[4m1\u001b[24m\u001b[4m8\u001b[24m334. \u001b[4m1\u001b[24m\u001b[4m9\u001b[24m477. \u001b[4m2\u001b[24m\u001b[4m1\u001b[24m889. \u001b[4m2\u001b[24m\u001b[4m3\u001b[24m425. \u001b[4m2\u001b[24m\u001b[4m6\u001b[24m998.\n",
            "\u001b[90m 9\u001b[39m Austria  \u001b[4m6\u001b[24m137.  \u001b[4m8\u001b[24m843. \u001b[4m1\u001b[24m\u001b[4m0\u001b[24m751. \u001b[4m1\u001b[24m\u001b[4m2\u001b[24m835. \u001b[4m1\u001b[24m\u001b[4m6\u001b[24m662. \u001b[4m1\u001b[24m\u001b[4m9\u001b[24m749. \u001b[4m2\u001b[24m\u001b[4m1\u001b[24m597. \u001b[4m2\u001b[24m\u001b[4m3\u001b[24m688. \u001b[4m2\u001b[24m\u001b[4m7\u001b[24m042. \u001b[4m2\u001b[24m\u001b[4m9\u001b[24m096.\n",
            "\u001b[90m10\u001b[39m Azerba…    \u001b[31mNA\u001b[39m     \u001b[31mNA\u001b[39m     \u001b[31mNA\u001b[39m     \u001b[31mNA\u001b[39m     \u001b[31mNA\u001b[39m     \u001b[31mNA\u001b[39m     \u001b[31mNA\u001b[39m     \u001b[31mNA\u001b[39m   \u001b[4m3\u001b[24m456.  \u001b[4m1\u001b[24m943.\n",
            "\u001b[90m# … with 177 more rows, and 48 more variables: `2002` <dbl>, `2007` <dbl>,\u001b[39m\n",
            "\u001b[90m#   `1950` <dbl>, `1951` <dbl>, `1953` <dbl>, `1954` <dbl>, `1955` <dbl>,\u001b[39m\n",
            "\u001b[90m#   `1956` <dbl>, `1958` <dbl>, `1959` <dbl>, `1960` <dbl>, `1961` <dbl>,\u001b[39m\n",
            "\u001b[90m#   `1963` <dbl>, `1964` <dbl>, `1965` <dbl>, `1966` <dbl>, `1968` <dbl>,\u001b[39m\n",
            "\u001b[90m#   `1969` <dbl>, `1970` <dbl>, `1971` <dbl>, `1973` <dbl>, `1974` <dbl>,\u001b[39m\n",
            "\u001b[90m#   `1975` <dbl>, `1976` <dbl>, `1978` <dbl>, `1979` <dbl>, `1980` <dbl>,\u001b[39m\n",
            "\u001b[90m#   `1981` <dbl>, `1983` <dbl>, `1984` <dbl>, `1985` <dbl>, `1986` <dbl>, …\u001b[39m\n"
          ]
        }
      ],
      "source": [
        "# What happens when we reshape the \"unfiltered\" data?\n",
        "# pivot unfiltered data wider\n",
        "gapminder_unfiltered%>%\n",
        "  pivot_wider(id_cols=country,names_from=year,values_from=gdpPercap)%>%\n",
        "  print\n",
        "# the moment you make tibble wider, can no longer hide the NA values "
      ]
    },
    {
      "cell_type": "markdown",
      "metadata": {
        "id": "mzngFi77vlVx"
      },
      "source": [
        "You can see that there are many missing observations in the unfiltered data. In real life, you will mostly get unfiltered data -- how should we handle missing data?"
      ]
    },
    {
      "cell_type": "markdown",
      "metadata": {
        "id": "teyYuCpAvlVx"
      },
      "source": [
        "## Missing Values\n",
        "Missing values can be:\n",
        "\n",
        "* **Explicit** (marked as `NA` in our data); or\n",
        "* **Implicit** (not present in the data)."
      ]
    },
    {
      "cell_type": "code",
      "execution_count": null,
      "metadata": {
        "id": "phwiKGDkvlVx"
      },
      "outputs": [],
      "source": [
        "treatment <- tribble(\n",
        "  ~person,           ~treatment, ~response,\n",
        "  \"Derrick Whitmore\", 1,         7,\n",
        "  NA,                 2,         10,\n",
        "  NA,                 3,         NA,\n",
        "  \"Katherine Burke\",  1,         4\n",
        ")"
      ]
    },
    {
      "cell_type": "code",
      "execution_count": null,
      "metadata": {
        "id": "pnF0H5sLvlVx",
        "outputId": "5c4b20ed-5315-4b0c-bc72-c16101b3c144",
        "colab": {
          "base_uri": "https://localhost:8080/",
          "height": 224
        }
      },
      "outputs": [
        {
          "output_type": "display_data",
          "data": {
            "text/html": [
              "<table class=\"dataframe\">\n",
              "<caption>A tibble: 4 × 3</caption>\n",
              "<thead>\n",
              "\t<tr><th scope=col>person</th><th scope=col>treatment</th><th scope=col>response</th></tr>\n",
              "\t<tr><th scope=col>&lt;chr&gt;</th><th scope=col>&lt;dbl&gt;</th><th scope=col>&lt;dbl&gt;</th></tr>\n",
              "</thead>\n",
              "<tbody>\n",
              "\t<tr><td>Derrick Whitmore</td><td>1</td><td> 7</td></tr>\n",
              "\t<tr><td>NA              </td><td>2</td><td>10</td></tr>\n",
              "\t<tr><td>NA              </td><td>3</td><td>NA</td></tr>\n",
              "\t<tr><td>Katherine Burke </td><td>1</td><td> 4</td></tr>\n",
              "</tbody>\n",
              "</table>\n"
            ],
            "text/markdown": "\nA tibble: 4 × 3\n\n| person &lt;chr&gt; | treatment &lt;dbl&gt; | response &lt;dbl&gt; |\n|---|---|---|\n| Derrick Whitmore | 1 |  7 |\n| NA               | 2 | 10 |\n| NA               | 3 | NA |\n| Katherine Burke  | 1 |  4 |\n\n",
            "text/latex": "A tibble: 4 × 3\n\\begin{tabular}{lll}\n person & treatment & response\\\\\n <chr> & <dbl> & <dbl>\\\\\n\\hline\n\t Derrick Whitmore & 1 &  7\\\\\n\t NA               & 2 & 10\\\\\n\t NA               & 3 & NA\\\\\n\t Katherine Burke  & 1 &  4\\\\\n\\end{tabular}\n",
            "text/plain": [
              "  person           treatment response\n",
              "1 Derrick Whitmore 1          7      \n",
              "2 NA               2         10      \n",
              "3 NA               3         NA      \n",
              "4 Katherine Burke  1          4      "
            ]
          },
          "metadata": {}
        }
      ],
      "source": [
        "treatment"
      ]
    },
    {
      "cell_type": "markdown",
      "metadata": {
        "id": "y4szi_1lvlVy"
      },
      "source": [
        "The missing values are **explicit** in this table: each missing value is indicated by `NA` in the table."
      ]
    },
    {
      "cell_type": "markdown",
      "metadata": {
        "id": "-0T3I73CvlVy"
      },
      "source": [
        "You can fill in these missing values with `tidyr::fill()`. It works like `select()`, taking a set of columns, and fills them in with the last non-missing value."
      ]
    },
    {
      "cell_type": "code",
      "source": [
        "# fill treatment for person & response cols\n",
        "fill(treatment,person,response) \n",
        "# now the \"person\" & \"response\" cols don't have NAs"
      ],
      "metadata": {
        "colab": {
          "base_uri": "https://localhost:8080/",
          "height": 224
        },
        "id": "PNaCa43Z_Nak",
        "outputId": "3566646d-2c1c-4797-a963-78072464051b"
      },
      "execution_count": null,
      "outputs": [
        {
          "output_type": "display_data",
          "data": {
            "text/html": [
              "<table class=\"dataframe\">\n",
              "<caption>A tibble: 4 × 3</caption>\n",
              "<thead>\n",
              "\t<tr><th scope=col>person</th><th scope=col>treatment</th><th scope=col>response</th></tr>\n",
              "\t<tr><th scope=col>&lt;chr&gt;</th><th scope=col>&lt;dbl&gt;</th><th scope=col>&lt;dbl&gt;</th></tr>\n",
              "</thead>\n",
              "<tbody>\n",
              "\t<tr><td>Derrick Whitmore</td><td>1</td><td> 7</td></tr>\n",
              "\t<tr><td>Derrick Whitmore</td><td>2</td><td>10</td></tr>\n",
              "\t<tr><td>Derrick Whitmore</td><td>3</td><td>10</td></tr>\n",
              "\t<tr><td>Katherine Burke </td><td>1</td><td> 4</td></tr>\n",
              "</tbody>\n",
              "</table>\n"
            ],
            "text/markdown": "\nA tibble: 4 × 3\n\n| person &lt;chr&gt; | treatment &lt;dbl&gt; | response &lt;dbl&gt; |\n|---|---|---|\n| Derrick Whitmore | 1 |  7 |\n| Derrick Whitmore | 2 | 10 |\n| Derrick Whitmore | 3 | 10 |\n| Katherine Burke  | 1 |  4 |\n\n",
            "text/latex": "A tibble: 4 × 3\n\\begin{tabular}{lll}\n person & treatment & response\\\\\n <chr> & <dbl> & <dbl>\\\\\n\\hline\n\t Derrick Whitmore & 1 &  7\\\\\n\t Derrick Whitmore & 2 & 10\\\\\n\t Derrick Whitmore & 3 & 10\\\\\n\t Katherine Burke  & 1 &  4\\\\\n\\end{tabular}\n",
            "text/plain": [
              "  person           treatment response\n",
              "1 Derrick Whitmore 1          7      \n",
              "2 Derrick Whitmore 2         10      \n",
              "3 Derrick Whitmore 3         10      \n",
              "4 Katherine Burke  1          4      "
            ]
          },
          "metadata": {}
        }
      ]
    },
    {
      "cell_type": "code",
      "execution_count": null,
      "metadata": {
        "id": "iGSyAe5hvlVy",
        "colab": {
          "base_uri": "https://localhost:8080/",
          "height": 224
        },
        "outputId": "57809632-e980-4534-9bb7-23fd5f2d6fed"
      },
      "outputs": [
        {
          "output_type": "display_data",
          "data": {
            "text/html": [
              "<table class=\"dataframe\">\n",
              "<caption>A tibble: 4 × 3</caption>\n",
              "<thead>\n",
              "\t<tr><th scope=col>person</th><th scope=col>treatment</th><th scope=col>response</th></tr>\n",
              "\t<tr><th scope=col>&lt;chr&gt;</th><th scope=col>&lt;dbl&gt;</th><th scope=col>&lt;dbl&gt;</th></tr>\n",
              "</thead>\n",
              "<tbody>\n",
              "\t<tr><td>Derrick Whitmore</td><td>1</td><td> 7</td></tr>\n",
              "\t<tr><td>Derrick Whitmore</td><td>2</td><td>10</td></tr>\n",
              "\t<tr><td>Derrick Whitmore</td><td>3</td><td>10</td></tr>\n",
              "\t<tr><td>Katherine Burke </td><td>1</td><td> 4</td></tr>\n",
              "</tbody>\n",
              "</table>\n"
            ],
            "text/markdown": "\nA tibble: 4 × 3\n\n| person &lt;chr&gt; | treatment &lt;dbl&gt; | response &lt;dbl&gt; |\n|---|---|---|\n| Derrick Whitmore | 1 |  7 |\n| Derrick Whitmore | 2 | 10 |\n| Derrick Whitmore | 3 | 10 |\n| Katherine Burke  | 1 |  4 |\n\n",
            "text/latex": "A tibble: 4 × 3\n\\begin{tabular}{lll}\n person & treatment & response\\\\\n <chr> & <dbl> & <dbl>\\\\\n\\hline\n\t Derrick Whitmore & 1 &  7\\\\\n\t Derrick Whitmore & 2 & 10\\\\\n\t Derrick Whitmore & 3 & 10\\\\\n\t Katherine Burke  & 1 &  4\\\\\n\\end{tabular}\n",
            "text/plain": [
              "  person           treatment response\n",
              "1 Derrick Whitmore 1          7      \n",
              "2 Derrick Whitmore 2         10      \n",
              "3 Derrick Whitmore 3         10      \n",
              "4 Katherine Burke  1          4      "
            ]
          },
          "metadata": {}
        }
      ],
      "source": [
        "# fill in each missing value in gapminder_unfiltered carrying forward\n"
      ]
    },
    {
      "cell_type": "markdown",
      "metadata": {
        "id": "04ZxTQcPvlVy"
      },
      "source": [
        "## Encoded missing data\n",
        "\n",
        "Sometimes, data contain a concrete value that actually represents a missing value. You see this often when dealing with data that is imported from a format that does not have a way to represent missing values, such as text or CSV. So it must instead use some special value like 99 or -999."
      ]
    },
    {
      "cell_type": "markdown",
      "metadata": {
        "id": "8wYs_HPZvlVy"
      },
      "source": [
        "## Example: Billionaires"
      ]
    },
    {
      "cell_type": "markdown",
      "metadata": {
        "id": "QGbmsrVTvlVy"
      },
      "source": [
        "The following command loads a dataset called \"bil\", which contains information on the world's billionaires:"
      ]
    },
    {
      "cell_type": "code",
      "execution_count": null,
      "metadata": {
        "id": "NtjCpX04vlVy",
        "outputId": "bf6fbdc6-6cb1-4df3-9c15-5ee7e1c1eec9"
      },
      "outputs": [
        {
          "data": {
            "text/plain": [
              "      age          category         citizenship        company.name      \n",
              " Min.   :-1.00   Length:2614        Length:2614        Length:2614       \n",
              " 1st Qu.:47.00   Class :character   Class :character   Class :character  \n",
              " Median :59.00   Mode  :character   Mode  :character   Mode  :character  \n",
              " Mean   :53.21                                                           \n",
              " 3rd Qu.:70.00                                                           \n",
              " Max.   :98.00                                                           \n",
              "                                                                         \n",
              " company.type       country code          founded     from emerging     \n",
              " Length:2614        Length:2614        Min.   :1610   Length:2614       \n",
              " Class :character   Class :character   1st Qu.:1938   Class :character  \n",
              " Mode  :character   Mode  :character   Median :1963   Mode  :character  \n",
              "                                       Mean   :1955                     \n",
              "                                       3rd Qu.:1985                     \n",
              "                                       Max.   :2012                     \n",
              "                                       NA's   :40                       \n",
              "      gdp               gender            industry          inherited        \n",
              " Min.   :0.000e+00   Length:2614        Length:2614        Length:2614       \n",
              " 1st Qu.:0.000e+00   Class :character   Class :character   Class :character  \n",
              " Median :0.000e+00   Mode  :character   Mode  :character   Mode  :character  \n",
              " Mean   :1.769e+12                                                           \n",
              " 3rd Qu.:7.250e+11                                                           \n",
              " Max.   :1.060e+13                                                           \n",
              "                                                                             \n",
              "     name                rank           region          relationship      \n",
              " Length:2614        Min.   :   1.0   Length:2614        Length:2614       \n",
              " Class :character   1st Qu.: 215.0   Class :character   Class :character  \n",
              " Mode  :character   Median : 430.0   Mode  :character   Mode  :character  \n",
              "                    Mean   : 599.7                                        \n",
              "                    3rd Qu.: 988.0                                        \n",
              "                    Max.   :1565.0                                        \n",
              "                                                                          \n",
              "    sector          was founder        was political      wealth.type       \n",
              " Length:2614        Length:2614        Length:2614        Length:2614       \n",
              " Class :character   Class :character   Class :character   Class :character  \n",
              " Mode  :character   Mode  :character   Mode  :character   Mode  :character  \n",
              "                                                                            \n",
              "                                                                            \n",
              "                                                                            \n",
              "                                                                            \n",
              " worth in billions      year     \n",
              " Min.   : 1.000    Min.   :1996  \n",
              " 1st Qu.: 1.400    1st Qu.:2001  \n",
              " Median : 2.000    Median :2014  \n",
              " Mean   : 3.532    Mean   :2008  \n",
              " 3rd Qu.: 3.500    3rd Qu.:2014  \n",
              " Max.   :76.000    Max.   :2014  \n",
              "                                 "
            ]
          },
          "metadata": {},
          "output_type": "display_data"
        }
      ],
      "source": [
        "load(url(\"https://datasets.stats306.org/bil.RData\"))\n",
        "summary(bil),"
      ]
    },
    {
      "cell_type": "markdown",
      "metadata": {
        "id": "9WOSY-uGvlVz"
      },
      "source": [
        "## &#129300; Quiz\n",
        "\n",
        "The average age of a billionaire in this dataset is:\n",
        "\n",
        "<ol style=\"list-style-type: upper-alpha;\">\n",
        "    <li>28.1</li>\n",
        "    <li>Something else/cannot be determined</li>\n",
        "    <li>53.2</li>\n",
        "    <li>78.3</li>\n",
        "    <li>62.6</li> \n",
        "</ol>"
      ]
    },
    {
      "cell_type": "markdown",
      "metadata": {
        "id": "dQ8HIK8JvlVz"
      },
      "source": [
        "To correct for this type of missing value, we can use a function called `na_if(x, n)`. This takes a vector `x` and replaces any occurence of `n` with `NA`:"
      ]
    },
    {
      "cell_type": "code",
      "execution_count": null,
      "metadata": {
        "id": "3shftEYdvlVz",
        "outputId": "5acd03bf-3ea5-4bf2-be39-f07bb950c30c"
      },
      "outputs": [
        {
          "data": {
            "text/html": [
              "<style>\n",
              ".list-inline {list-style: none; margin:0; padding: 0}\n",
              ".list-inline>li {display: inline-block}\n",
              ".list-inline>li:not(:last-child)::after {content: \"\\00b7\"; padding: 0 .5ex}\n",
              "</style>\n",
              "<ol class=list-inline><li>&lt;NA&gt;</li><li>1</li><li>3</li><li>&lt;NA&gt;</li><li>2</li></ol>\n"
            ],
            "text/latex": [
              "\\begin{enumerate*}\n",
              "\\item <NA>\n",
              "\\item 1\n",
              "\\item 3\n",
              "\\item <NA>\n",
              "\\item 2\n",
              "\\end{enumerate*}\n"
            ],
            "text/markdown": [
              "1. &lt;NA&gt;\n",
              "2. 1\n",
              "3. 3\n",
              "4. &lt;NA&gt;\n",
              "5. 2\n",
              "\n",
              "\n"
            ],
            "text/plain": [
              "[1] NA  1  3 NA  2"
            ]
          },
          "metadata": {},
          "output_type": "display_data"
        }
      ],
      "source": [
        "na_if(c(-99, 1, 3, -99, 2), -99)"
      ]
    },
    {
      "cell_type": "code",
      "execution_count": null,
      "metadata": {
        "id": "QgVL6y5cvlVz"
      },
      "outputs": [],
      "source": [
        "# use na_if to mark missing values in bil"
      ]
    },
    {
      "cell_type": "markdown",
      "metadata": {
        "id": "XcsvWoErvlVz"
      },
      "source": [
        "## Implicit missing values\n",
        "A second type of missing data occurs when there are simply no observations in the dataset for a particular combination of columns. For example:"
      ]
    },
    {
      "cell_type": "code",
      "execution_count": null,
      "metadata": {
        "id": "q9oDUnLWvlVz"
      },
      "outputs": [],
      "source": [
        "stocks <- tibble(\n",
        "  year  = c(2020, 2020, 2020, 2020, 2021, 2021, 2021),\n",
        "  qtr   = c(   1,    2,    3,    4,    2,    3,    4),\n",
        "  price = c(1.88, 0.59, 0.35,   NA, 0.92, 0.17, 2.66)\n",
        ")"
      ]
    },
    {
      "cell_type": "code",
      "execution_count": null,
      "metadata": {
        "id": "tgnwt9LWvlV0",
        "outputId": "ee79df8f-6ee9-4e8b-f903-e01c9cc0d8fc"
      },
      "outputs": [
        {
          "name": "stdout",
          "output_type": "stream",
          "text": [
            "\u001b[90m# A tibble: 7 × 3\u001b[39m\n",
            "   year   qtr price\n",
            "  \u001b[3m\u001b[90m<dbl>\u001b[39m\u001b[23m \u001b[3m\u001b[90m<dbl>\u001b[39m\u001b[23m \u001b[3m\u001b[90m<dbl>\u001b[39m\u001b[23m\n",
            "\u001b[90m1\u001b[39m  \u001b[4m2\u001b[24m020     1  1.88\n",
            "\u001b[90m2\u001b[39m  \u001b[4m2\u001b[24m020     2  0.59\n",
            "\u001b[90m3\u001b[39m  \u001b[4m2\u001b[24m020     3  0.35\n",
            "\u001b[90m4\u001b[39m  \u001b[4m2\u001b[24m020     4 \u001b[31mNA\u001b[39m   \n",
            "\u001b[90m5\u001b[39m  \u001b[4m2\u001b[24m021     2  0.92\n",
            "\u001b[90m6\u001b[39m  \u001b[4m2\u001b[24m021     3  0.17\n",
            "\u001b[90m7\u001b[39m  \u001b[4m2\u001b[24m021     4  2.66\n"
          ]
        }
      ],
      "source": [
        "print(stocks)"
      ]
    },
    {
      "cell_type": "markdown",
      "metadata": {
        "id": "1G5Bfe5JvlV0"
      },
      "source": [
        "This dataset has two missing observations:\n",
        "- The price in the 2020q4 is explicitly missing. (It has an `NA`.)\n",
        "- The price in 2021q1 is implicitly missing: it does not appear in the dataset."
      ]
    },
    {
      "cell_type": "markdown",
      "metadata": {
        "id": "17Xj3YY4vlV0"
      },
      "source": [
        "> An explicit missing value is the presence of an absence.\n",
        ">\n",
        "> An implicit missing value is the absence of a presence.\n"
      ]
    },
    {
      "cell_type": "markdown",
      "metadata": {
        "id": "lqYLy7_svlV0"
      },
      "source": [
        "How can we handle implicit missing values? As we have already seen, one option is to use `pivot_wider()`:"
      ]
    },
    {
      "cell_type": "code",
      "execution_count": null,
      "metadata": {
        "id": "RjYzwrIzvlV0"
      },
      "outputs": [],
      "source": [
        "# using pivot_wider() on stocks converts implicit missing values to explicit"
      ]
    },
    {
      "cell_type": "markdown",
      "metadata": {
        "id": "H8hr2ijyvlV0"
      },
      "source": [
        "Alternatively, we can use the `complete()` function, which creates entries for all possible combinations of a set of columns:"
      ]
    },
    {
      "cell_type": "code",
      "execution_count": null,
      "metadata": {
        "id": "_3eR8_rJvlV0",
        "outputId": "71687e71-aa94-4b08-ad90-bce4c2a10692"
      },
      "outputs": [
        {
          "data": {
            "text/html": [
              "<table class=\"dataframe\">\n",
              "<caption>A tibble: 8 × 3</caption>\n",
              "<thead>\n",
              "\t<tr><th scope=col>year</th><th scope=col>qtr</th><th scope=col>price</th></tr>\n",
              "\t<tr><th scope=col>&lt;dbl&gt;</th><th scope=col>&lt;dbl&gt;</th><th scope=col>&lt;dbl&gt;</th></tr>\n",
              "</thead>\n",
              "<tbody>\n",
              "\t<tr><td>2020</td><td>1</td><td>1.88</td></tr>\n",
              "\t<tr><td>2020</td><td>2</td><td>0.59</td></tr>\n",
              "\t<tr><td>2020</td><td>3</td><td>0.35</td></tr>\n",
              "\t<tr><td>2020</td><td>4</td><td>  NA</td></tr>\n",
              "\t<tr><td>2021</td><td>1</td><td>  NA</td></tr>\n",
              "\t<tr><td>2021</td><td>2</td><td>0.92</td></tr>\n",
              "\t<tr><td>2021</td><td>3</td><td>0.17</td></tr>\n",
              "\t<tr><td>2021</td><td>4</td><td>2.66</td></tr>\n",
              "</tbody>\n",
              "</table>\n"
            ],
            "text/latex": [
              "A tibble: 8 × 3\n",
              "\\begin{tabular}{lll}\n",
              " year & qtr & price\\\\\n",
              " <dbl> & <dbl> & <dbl>\\\\\n",
              "\\hline\n",
              "\t 2020 & 1 & 1.88\\\\\n",
              "\t 2020 & 2 & 0.59\\\\\n",
              "\t 2020 & 3 & 0.35\\\\\n",
              "\t 2020 & 4 &   NA\\\\\n",
              "\t 2021 & 1 &   NA\\\\\n",
              "\t 2021 & 2 & 0.92\\\\\n",
              "\t 2021 & 3 & 0.17\\\\\n",
              "\t 2021 & 4 & 2.66\\\\\n",
              "\\end{tabular}\n"
            ],
            "text/markdown": [
              "\n",
              "A tibble: 8 × 3\n",
              "\n",
              "| year &lt;dbl&gt; | qtr &lt;dbl&gt; | price &lt;dbl&gt; |\n",
              "|---|---|---|\n",
              "| 2020 | 1 | 1.88 |\n",
              "| 2020 | 2 | 0.59 |\n",
              "| 2020 | 3 | 0.35 |\n",
              "| 2020 | 4 |   NA |\n",
              "| 2021 | 1 |   NA |\n",
              "| 2021 | 2 | 0.92 |\n",
              "| 2021 | 3 | 0.17 |\n",
              "| 2021 | 4 | 2.66 |\n",
              "\n"
            ],
            "text/plain": [
              "  year qtr price\n",
              "1 2020 1   1.88 \n",
              "2 2020 2   0.59 \n",
              "3 2020 3   0.35 \n",
              "4 2020 4     NA \n",
              "5 2021 1     NA \n",
              "6 2021 2   0.92 \n",
              "7 2021 3   0.17 \n",
              "8 2021 4   2.66 "
            ]
          },
          "metadata": {},
          "output_type": "display_data"
        }
      ],
      "source": [
        "# use complete to fill in missing values for stocks"
      ]
    },
    {
      "cell_type": "markdown",
      "metadata": {
        "id": "te96T4opvlV1"
      },
      "source": [
        "## Example: Climate data\n",
        "\n",
        "The [Global Historical Climate Network](https://www.ncei.noaa.gov/products/land-based-station/global-historical-climatology-network-daily) is amazing database of daily weather data going back, in some cases, >100 years. I downloaded daily observation data for Ann Arbor from 1991 to present:"
      ]
    },
    {
      "cell_type": "markdown",
      "metadata": {
        "id": "7ktzYh5JvlV1"
      },
      "source": [
        "Questions about these data:\n",
        "- What do the columns mean? \n",
        "- What are the units? How can we find this information out?\n",
        "- How is missing data indicated?\n",
        "- What questions can we ask about these data?\n",
        "  - Are the data in an appropriate format to answer these questions?\n",
        "  - If not, how can we get them there?"
      ]
    },
    {
      "cell_type": "code",
      "execution_count": null,
      "metadata": {
        "id": "f_07A6HIvlV2"
      },
      "outputs": [],
      "source": [
        "# "
      ]
    }
  ],
  "metadata": {
    "celltoolbar": "Slideshow",
    "kernelspec": {
      "display_name": "R",
      "language": "R",
      "name": "ir"
    },
    "language_info": {
      "codemirror_mode": "r",
      "file_extension": ".r",
      "mimetype": "text/x-r-source",
      "name": "R",
      "pygments_lexer": "r",
      "version": "4.2.2"
    },
    "colab": {
      "provenance": [],
      "include_colab_link": true
    }
  },
  "nbformat": 4,
  "nbformat_minor": 0
}