{
  "cells": [
    {
      "cell_type": "markdown",
      "metadata": {
        "id": "view-in-github",
        "colab_type": "text"
      },
      "source": [
        "<a href=\"https://colab.research.google.com/github/sharonma1218/stats-306/blob/main/lecture13_class.ipynb\" target=\"_parent\"><img src=\"https://colab.research.google.com/assets/colab-badge.svg\" alt=\"Open In Colab\"/></a>"
      ]
    },
    {
      "cell_type": "code",
      "execution_count": 1,
      "metadata": {
        "id": "ugJD6ahDCDzk",
        "outputId": "9d061d10-bd64-46f7-f8a4-4c9b69593e23",
        "colab": {
          "base_uri": "https://localhost:8080/"
        }
      },
      "outputs": [
        {
          "output_type": "stream",
          "name": "stderr",
          "text": [
            "Installing package into ‘/usr/local/lib/R/site-library’\n",
            "(as ‘lib’ is unspecified)\n",
            "\n",
            "Warning message in system(\"timedatectl\", intern = TRUE):\n",
            "“running command 'timedatectl' had status 1”\n",
            "── \u001b[1mAttaching packages\u001b[22m ─────────────────────────────────────── tidyverse 1.3.1 ──\n",
            "\n",
            "\u001b[32m✔\u001b[39m \u001b[34mggplot2\u001b[39m 3.4.1     \u001b[32m✔\u001b[39m \u001b[34mpurrr  \u001b[39m 1.0.1\n",
            "\u001b[32m✔\u001b[39m \u001b[34mtibble \u001b[39m 3.1.8     \u001b[32m✔\u001b[39m \u001b[34mdplyr  \u001b[39m 1.1.0\n",
            "\u001b[32m✔\u001b[39m \u001b[34mtidyr  \u001b[39m 1.3.0     \u001b[32m✔\u001b[39m \u001b[34mstringr\u001b[39m 1.5.0\n",
            "\u001b[32m✔\u001b[39m \u001b[34mreadr  \u001b[39m 2.1.4     \u001b[32m✔\u001b[39m \u001b[34mforcats\u001b[39m 1.0.0\n",
            "\n",
            "── \u001b[1mConflicts\u001b[22m ────────────────────────────────────────── tidyverse_conflicts() ──\n",
            "\u001b[31m✖\u001b[39m \u001b[34mdplyr\u001b[39m::\u001b[32mfilter()\u001b[39m masks \u001b[34mstats\u001b[39m::filter()\n",
            "\u001b[31m✖\u001b[39m \u001b[34mdplyr\u001b[39m::\u001b[32mlag()\u001b[39m    masks \u001b[34mstats\u001b[39m::lag()\n",
            "\n",
            "Downloading GitHub repo bradleyboehmke/harrypotter@HEAD\n",
            "\n"
          ]
        },
        {
          "output_type": "stream",
          "name": "stdout",
          "text": [
            "\u001b[36m──\u001b[39m \u001b[36mR CMD build\u001b[39m \u001b[36m─────────────────────────────────────────────────────────────────\u001b[39m\n",
            "* checking for file ‘/tmp/Rtmp11wyUd/remotes11620fd3bd3/bradleyboehmke-harrypotter-51f7146/DESCRIPTION’ ... OK\n",
            "* preparing ‘harrypotter’:\n",
            "* checking DESCRIPTION meta-information ... OK\n",
            "* checking for LF line-endings in source and make files and shell scripts\n",
            "* checking for empty or unneeded directories\n",
            "* building ‘harrypotter_0.1.0.tar.gz’\n",
            "\n"
          ]
        },
        {
          "output_type": "stream",
          "name": "stderr",
          "text": [
            "Installing package into ‘/usr/local/lib/R/site-library’\n",
            "(as ‘lib’ is unspecified)\n",
            "\n"
          ]
        }
      ],
      "source": [
        "install.packages('stringr')\n",
        "library(tidyverse)\n",
        "library(stringr)\n",
        "remotes::install_github(\"bradleyboehmke/harrypotter\")\n",
        "library(harrypotter)"
      ]
    },
    {
      "cell_type": "markdown",
      "metadata": {
        "id": "ty7bt8HRCDzm"
      },
      "source": [
        "## 🤔 Quiz\n",
        "\n",
        "This commands loads a list of 25,000 of the most popular words in the English language:"
      ]
    },
    {
      "cell_type": "code",
      "execution_count": null,
      "metadata": {
        "id": "71KQVHvpCDzn"
      },
      "outputs": [],
      "source": [
        "pop_words <- scan(url('https://raw.githubusercontent.com/dolph/dictionary/master/popular.txt'), character())"
      ]
    },
    {
      "cell_type": "markdown",
      "metadata": {
        "id": "SnT6VPfrCDzn"
      },
      "source": [
        "How many words *contain* `qu` but don't *start* with `qu`? (Hint: `str_sub` and `str_detect`):\n",
        "\n",
        "<ol style=\"list-style-type: upper-alpha;\">\n",
        "    <li>9.3</li>\n",
        "    <li>93</li>\n",
        "    <li>193</li>\n",
        "    <li>293</li>\n",
        "    <li>393</li>\n",
        "</ol>\n"
      ]
    },
    {
      "cell_type": "code",
      "execution_count": null,
      "metadata": {
        "id": "yg5cDzVQCDzn"
      },
      "outputs": [],
      "source": [
        "# contain qu not start with qu"
      ]
    },
    {
      "cell_type": "markdown",
      "metadata": {
        "id": "AKW0ajGUCDzn"
      },
      "source": [
        "# Lecture 13: Regular expressions\n",
        "\n",
        "<div style=\"border: 1px double black; padding: 10px; margin: 10px\">\n",
        "\n",
        "**After today's lecture you will:**\n",
        "* Understand basic regular expressions.\n",
        "* Use regular expressions to extract data from text.\n",
        "</div>\n",
        "\n",
        "These notes correspond to Chapter 16 of your book.\n"
      ]
    },
    {
      "cell_type": "markdown",
      "metadata": {
        "id": "b1-cd785CDzn"
      },
      "source": [
        "## Regular expressions\n",
        "Regular expressions (regex, regexps) are a programming language that allows you to describe patterns in strings. They have a steep learning curve but are very powerful for working with text data. In this class we will just focus on the basics of regexps. A good tool for learning regexps is [regex101](https://regex101.com/), which lets you interactively edit and debug your regular expressions."
      ]
    },
    {
      "cell_type": "markdown",
      "metadata": {
        "id": "N10ZVd6uCDzn"
      },
      "source": [
        "> Some people, when confronted with a problem, think \"I know, I'll use regular expressions.\" Now they have two problems. \n",
        ">\n",
        "> — Jamie Zawinski (famous nerd)"
      ]
    },
    {
      "cell_type": "markdown",
      "metadata": {
        "id": "_oAqSadZCDzn"
      },
      "source": [
        "In these slides we will use the command `str_view` to understand how regular expressions work. To get `str_view` working on Colab you need to install the latest versions of `tidyverse` and `htmlwidgets`:"
      ]
    },
    {
      "cell_type": "code",
      "execution_count": 3,
      "metadata": {
        "id": "sc63_3aLCDzo",
        "colab": {
          "base_uri": "https://localhost:8080/"
        },
        "outputId": "65f0347c-ac8e-41da-d5d6-24207290a831"
      },
      "outputs": [
        {
          "output_type": "stream",
          "name": "stderr",
          "text": [
            "Installing packages into ‘/usr/local/lib/R/site-library’\n",
            "(as ‘lib’ is unspecified)\n",
            "\n",
            "also installing the dependencies ‘textshaping’, ‘conflicted’, ‘jsonlite’, ‘ragg’\n",
            "\n",
            "\n",
            "Warning message in install.packages(c(\"tidyverse\", \"htmlwidgets\")):\n",
            "“installation of package ‘textshaping’ had non-zero exit status”\n",
            "Warning message in install.packages(c(\"tidyverse\", \"htmlwidgets\")):\n",
            "“installation of package ‘ragg’ had non-zero exit status”\n",
            "Warning message in install.packages(c(\"tidyverse\", \"htmlwidgets\")):\n",
            "“installation of package ‘tidyverse’ had non-zero exit status”\n"
          ]
        }
      ],
      "source": [
        "install.packages(c(\"tidyverse\", \"htmlwidgets\")) # if running on colab"
      ]
    },
    {
      "cell_type": "markdown",
      "metadata": {
        "id": "wSKO2BUBCDzo"
      },
      "source": [
        "The most basic regular expression is a plain string. It will match if the other string contains it as a substring."
      ]
    },
    {
      "cell_type": "code",
      "execution_count": 2,
      "metadata": {
        "id": "qKLlaX-ICDzo",
        "outputId": "c9910553-a3d7-4f88-91df-a5d669e377ca",
        "colab": {
          "base_uri": "https://localhost:8080/",
          "height": 53
        }
      },
      "outputs": [
        {
          "output_type": "stream",
          "name": "stdout",
          "text": [
            "[1] \"apple\"  \"banana\" \"pear\"  \n"
          ]
        },
        {
          "output_type": "display_data",
          "data": {
            "text/plain": [
              "\u001b[90m[2] │\u001b[39m b\u001b[36m<an>\u001b[39m\u001b[36m<an>\u001b[39ma"
            ]
          },
          "metadata": {}
        }
      ],
      "source": [
        "x = c(\"apple\", \"banana\", \"pear\") %>% print\n",
        "str_view(x, pattern = \"an\")"
      ]
    },
    {
      "cell_type": "markdown",
      "metadata": {
        "id": "FuTHDYw7CDzo"
      },
      "source": [
        "Here `str_view` has matched our regexp (`\"an\"`) inside of the second string `banana` of the vector `x`."
      ]
    },
    {
      "cell_type": "code",
      "execution_count": 4,
      "metadata": {
        "id": "VeNA3GF-CDzo",
        "outputId": "5a718fa4-5bda-4727-fb31-63ecac6d9bb9",
        "colab": {
          "base_uri": "https://localhost:8080/",
          "height": 104
        }
      },
      "outputs": [
        {
          "output_type": "display_data",
          "data": {
            "text/html": [
              "<style>\n",
              ".list-inline {list-style: none; margin:0; padding: 0}\n",
              ".list-inline>li {display: inline-block}\n",
              ".list-inline>li:not(:last-child)::after {content: \"\\00b7\"; padding: 0 .5ex}\n",
              "</style>\n",
              "<ol class=list-inline><li>'apple'</li><li>'apricot'</li><li>'avocado'</li><li>'banana'</li><li>'bell pepper'</li><li>'bilberry'</li><li>'blackberry'</li><li>'blackcurrant'</li><li>'blood orange'</li><li>'blueberry'</li><li>'boysenberry'</li><li>'breadfruit'</li><li>'canary melon'</li><li>'cantaloupe'</li><li>'cherimoya'</li><li>'cherry'</li><li>'chili pepper'</li><li>'clementine'</li><li>'cloudberry'</li><li>'coconut'</li><li>'cranberry'</li><li>'cucumber'</li><li>'currant'</li><li>'damson'</li><li>'date'</li><li>'dragonfruit'</li><li>'durian'</li><li>'eggplant'</li><li>'elderberry'</li><li>'feijoa'</li><li>'fig'</li><li>'goji berry'</li><li>'gooseberry'</li><li>'grape'</li><li>'grapefruit'</li><li>'guava'</li><li>'honeydew'</li><li>'huckleberry'</li><li>'jackfruit'</li><li>'jambul'</li><li>'jujube'</li><li>'kiwi fruit'</li><li>'kumquat'</li><li>'lemon'</li><li>'lime'</li><li>'loquat'</li><li>'lychee'</li><li>'mandarine'</li><li>'mango'</li><li>'mulberry'</li><li>'nectarine'</li><li>'nut'</li><li>'olive'</li><li>'orange'</li><li>'pamelo'</li><li>'papaya'</li><li>'passionfruit'</li><li>'peach'</li><li>'pear'</li><li>'persimmon'</li><li>'physalis'</li><li>'pineapple'</li><li>'plum'</li><li>'pomegranate'</li><li>'pomelo'</li><li>'purple mangosteen'</li><li>'quince'</li><li>'raisin'</li><li>'rambutan'</li><li>'raspberry'</li><li>'redcurrant'</li><li>'rock melon'</li><li>'salal berry'</li><li>'satsuma'</li><li>'star fruit'</li><li>'strawberry'</li><li>'tamarillo'</li><li>'tangerine'</li><li>'ugli fruit'</li><li>'watermelon'</li></ol>\n"
            ],
            "text/markdown": "1. 'apple'\n2. 'apricot'\n3. 'avocado'\n4. 'banana'\n5. 'bell pepper'\n6. 'bilberry'\n7. 'blackberry'\n8. 'blackcurrant'\n9. 'blood orange'\n10. 'blueberry'\n11. 'boysenberry'\n12. 'breadfruit'\n13. 'canary melon'\n14. 'cantaloupe'\n15. 'cherimoya'\n16. 'cherry'\n17. 'chili pepper'\n18. 'clementine'\n19. 'cloudberry'\n20. 'coconut'\n21. 'cranberry'\n22. 'cucumber'\n23. 'currant'\n24. 'damson'\n25. 'date'\n26. 'dragonfruit'\n27. 'durian'\n28. 'eggplant'\n29. 'elderberry'\n30. 'feijoa'\n31. 'fig'\n32. 'goji berry'\n33. 'gooseberry'\n34. 'grape'\n35. 'grapefruit'\n36. 'guava'\n37. 'honeydew'\n38. 'huckleberry'\n39. 'jackfruit'\n40. 'jambul'\n41. 'jujube'\n42. 'kiwi fruit'\n43. 'kumquat'\n44. 'lemon'\n45. 'lime'\n46. 'loquat'\n47. 'lychee'\n48. 'mandarine'\n49. 'mango'\n50. 'mulberry'\n51. 'nectarine'\n52. 'nut'\n53. 'olive'\n54. 'orange'\n55. 'pamelo'\n56. 'papaya'\n57. 'passionfruit'\n58. 'peach'\n59. 'pear'\n60. 'persimmon'\n61. 'physalis'\n62. 'pineapple'\n63. 'plum'\n64. 'pomegranate'\n65. 'pomelo'\n66. 'purple mangosteen'\n67. 'quince'\n68. 'raisin'\n69. 'rambutan'\n70. 'raspberry'\n71. 'redcurrant'\n72. 'rock melon'\n73. 'salal berry'\n74. 'satsuma'\n75. 'star fruit'\n76. 'strawberry'\n77. 'tamarillo'\n78. 'tangerine'\n79. 'ugli fruit'\n80. 'watermelon'\n\n\n",
            "text/latex": "\\begin{enumerate*}\n\\item 'apple'\n\\item 'apricot'\n\\item 'avocado'\n\\item 'banana'\n\\item 'bell pepper'\n\\item 'bilberry'\n\\item 'blackberry'\n\\item 'blackcurrant'\n\\item 'blood orange'\n\\item 'blueberry'\n\\item 'boysenberry'\n\\item 'breadfruit'\n\\item 'canary melon'\n\\item 'cantaloupe'\n\\item 'cherimoya'\n\\item 'cherry'\n\\item 'chili pepper'\n\\item 'clementine'\n\\item 'cloudberry'\n\\item 'coconut'\n\\item 'cranberry'\n\\item 'cucumber'\n\\item 'currant'\n\\item 'damson'\n\\item 'date'\n\\item 'dragonfruit'\n\\item 'durian'\n\\item 'eggplant'\n\\item 'elderberry'\n\\item 'feijoa'\n\\item 'fig'\n\\item 'goji berry'\n\\item 'gooseberry'\n\\item 'grape'\n\\item 'grapefruit'\n\\item 'guava'\n\\item 'honeydew'\n\\item 'huckleberry'\n\\item 'jackfruit'\n\\item 'jambul'\n\\item 'jujube'\n\\item 'kiwi fruit'\n\\item 'kumquat'\n\\item 'lemon'\n\\item 'lime'\n\\item 'loquat'\n\\item 'lychee'\n\\item 'mandarine'\n\\item 'mango'\n\\item 'mulberry'\n\\item 'nectarine'\n\\item 'nut'\n\\item 'olive'\n\\item 'orange'\n\\item 'pamelo'\n\\item 'papaya'\n\\item 'passionfruit'\n\\item 'peach'\n\\item 'pear'\n\\item 'persimmon'\n\\item 'physalis'\n\\item 'pineapple'\n\\item 'plum'\n\\item 'pomegranate'\n\\item 'pomelo'\n\\item 'purple mangosteen'\n\\item 'quince'\n\\item 'raisin'\n\\item 'rambutan'\n\\item 'raspberry'\n\\item 'redcurrant'\n\\item 'rock melon'\n\\item 'salal berry'\n\\item 'satsuma'\n\\item 'star fruit'\n\\item 'strawberry'\n\\item 'tamarillo'\n\\item 'tangerine'\n\\item 'ugli fruit'\n\\item 'watermelon'\n\\end{enumerate*}\n",
            "text/plain": [
              " [1] \"apple\"             \"apricot\"           \"avocado\"          \n",
              " [4] \"banana\"            \"bell pepper\"       \"bilberry\"         \n",
              " [7] \"blackberry\"        \"blackcurrant\"      \"blood orange\"     \n",
              "[10] \"blueberry\"         \"boysenberry\"       \"breadfruit\"       \n",
              "[13] \"canary melon\"      \"cantaloupe\"        \"cherimoya\"        \n",
              "[16] \"cherry\"            \"chili pepper\"      \"clementine\"       \n",
              "[19] \"cloudberry\"        \"coconut\"           \"cranberry\"        \n",
              "[22] \"cucumber\"          \"currant\"           \"damson\"           \n",
              "[25] \"date\"              \"dragonfruit\"       \"durian\"           \n",
              "[28] \"eggplant\"          \"elderberry\"        \"feijoa\"           \n",
              "[31] \"fig\"               \"goji berry\"        \"gooseberry\"       \n",
              "[34] \"grape\"             \"grapefruit\"        \"guava\"            \n",
              "[37] \"honeydew\"          \"huckleberry\"       \"jackfruit\"        \n",
              "[40] \"jambul\"            \"jujube\"            \"kiwi fruit\"       \n",
              "[43] \"kumquat\"           \"lemon\"             \"lime\"             \n",
              "[46] \"loquat\"            \"lychee\"            \"mandarine\"        \n",
              "[49] \"mango\"             \"mulberry\"          \"nectarine\"        \n",
              "[52] \"nut\"               \"olive\"             \"orange\"           \n",
              "[55] \"pamelo\"            \"papaya\"            \"passionfruit\"     \n",
              "[58] \"peach\"             \"pear\"              \"persimmon\"        \n",
              "[61] \"physalis\"          \"pineapple\"         \"plum\"             \n",
              "[64] \"pomegranate\"       \"pomelo\"            \"purple mangosteen\"\n",
              "[67] \"quince\"            \"raisin\"            \"rambutan\"         \n",
              "[70] \"raspberry\"         \"redcurrant\"        \"rock melon\"       \n",
              "[73] \"salal berry\"       \"satsuma\"           \"star fruit\"       \n",
              "[76] \"strawberry\"        \"tamarillo\"         \"tangerine\"        \n",
              "[79] \"ugli fruit\"        \"watermelon\"       "
            ]
          },
          "metadata": {}
        }
      ],
      "source": [
        "fruit"
      ]
    },
    {
      "cell_type": "code",
      "execution_count": 5,
      "metadata": {
        "id": "pqo4zjogCDzo",
        "outputId": "bf460c87-d058-49fd-a6b7-0c809cefc3ce",
        "colab": {
          "base_uri": "https://localhost:8080/",
          "height": 267
        }
      },
      "outputs": [
        {
          "output_type": "display_data",
          "data": {
            "text/plain": [
              "\u001b[90m [6] │\u001b[39m bil\u001b[36m<berry>\u001b[39m\n",
              "\u001b[90m [7] │\u001b[39m black\u001b[36m<berry>\u001b[39m\n",
              "\u001b[90m[10] │\u001b[39m blue\u001b[36m<berry>\u001b[39m\n",
              "\u001b[90m[11] │\u001b[39m boysen\u001b[36m<berry>\u001b[39m\n",
              "\u001b[90m[19] │\u001b[39m cloud\u001b[36m<berry>\u001b[39m\n",
              "\u001b[90m[21] │\u001b[39m cran\u001b[36m<berry>\u001b[39m\n",
              "\u001b[90m[29] │\u001b[39m elder\u001b[36m<berry>\u001b[39m\n",
              "\u001b[90m[32] │\u001b[39m goji \u001b[36m<berry>\u001b[39m\n",
              "\u001b[90m[33] │\u001b[39m goose\u001b[36m<berry>\u001b[39m\n",
              "\u001b[90m[38] │\u001b[39m huckle\u001b[36m<berry>\u001b[39m\n",
              "\u001b[90m[50] │\u001b[39m mul\u001b[36m<berry>\u001b[39m\n",
              "\u001b[90m[70] │\u001b[39m rasp\u001b[36m<berry>\u001b[39m\n",
              "\u001b[90m[73] │\u001b[39m salal \u001b[36m<berry>\u001b[39m\n",
              "\u001b[90m[76] │\u001b[39m straw\u001b[36m<berry>\u001b[39m"
            ]
          },
          "metadata": {}
        }
      ],
      "source": [
        "str_view(fruit, 'berry')"
      ]
    },
    {
      "cell_type": "markdown",
      "metadata": {
        "id": "Vu_9qX9OCDzo"
      },
      "source": [
        "### Wildcards\n",
        "Our first non-trivial regular expression will use a wildcard: `.`. Used inside of a regular expression, the period matches any single character:"
      ]
    },
    {
      "cell_type": "code",
      "execution_count": 6,
      "metadata": {
        "id": "lPlbVtL4CDzo",
        "outputId": "cad2620c-c733-4f56-8c4c-f86b58a50f7a",
        "colab": {
          "base_uri": "https://localhost:8080/",
          "height": 35
        }
      },
      "outputs": [
        {
          "output_type": "display_data",
          "data": {
            "text/plain": [
              "\u001b[90m[1] │\u001b[39m \u001b[36m<else>\u001b[39m every \u001b[36m<eele>\u001b[39m \u001b[36m<etce>\u001b[39mtera"
            ]
          },
          "metadata": {}
        }
      ],
      "source": [
        "str_view(\"else every eele etcetera\", \"e..e\") "
      ]
    },
    {
      "cell_type": "markdown",
      "metadata": {
        "id": "ACIM0-6xCDzo"
      },
      "source": [
        "If we want to \"extract\" the first match we can use `str_extract()` instead:"
      ]
    },
    {
      "cell_type": "code",
      "execution_count": null,
      "metadata": {
        "id": "s8k48_j-CDzo",
        "outputId": "8c37b1c2-1e4a-48d1-ddbb-53c5b662e5f9"
      },
      "outputs": [
        {
          "data": {
            "text/html": [
              "'else '"
            ],
            "text/latex": [
              "'else '"
            ],
            "text/markdown": [
              "'else '"
            ],
            "text/plain": [
              "[1] \"else \""
            ]
          },
          "metadata": {},
          "output_type": "display_data"
        }
      ],
      "source": [
        "str_extract(\"else every eele etcetera\", \"e..e \") "
      ]
    },
    {
      "cell_type": "markdown",
      "metadata": {
        "id": "CeCGT5syCDzo"
      },
      "source": [
        "Now let's return to another example from last lecture: finding all capitalized words."
      ]
    },
    {
      "cell_type": "markdown",
      "metadata": {
        "id": "XF5Btu6pCDzp"
      },
      "source": [
        "### Exercise\n",
        "What is the first string that matches the pattern `H<any three characters>y` in Philosopher's Stone?"
      ]
    },
    {
      "cell_type": "code",
      "source": [
        "remotes::install_github(\"bradleyboehmke/harrypotter\")\n",
        "library(harrypotter)\n",
        "str(philosophers_stone)\n",
        "ch1 <- philosophers_stone[1]"
      ],
      "metadata": {
        "colab": {
          "base_uri": "https://localhost:8080/"
        },
        "id": "k2KZ59LvEJq-",
        "outputId": "4873bc72-1618-4ee3-cde3-2fc54def5d62"
      },
      "execution_count": 7,
      "outputs": [
        {
          "output_type": "stream",
          "name": "stderr",
          "text": [
            "Skipping install of 'harrypotter' from a github remote, the SHA1 (51f71461) has not changed since last install.\n",
            "  Use `force = TRUE` to force installation\n",
            "\n"
          ]
        }
      ]
    },
    {
      "cell_type": "code",
      "execution_count": 13,
      "metadata": {
        "id": "GGj6Ju4GCDzp",
        "colab": {
          "base_uri": "https://localhost:8080/",
          "height": 80
        },
        "outputId": "a610c64e-62c2-431e-ea29-8ec332177751"
      },
      "outputs": [
        {
          "output_type": "display_data",
          "data": {
            "text/html": [
              "'He ey'"
            ],
            "text/markdown": "'He ey'",
            "text/latex": "'He ey'",
            "text/plain": [
              "[1] \"He ey\""
            ]
          },
          "metadata": {}
        },
        {
          "output_type": "display_data",
          "data": {
            "text/html": [
              "<ol>\n",
              "\t<li><style>\n",
              ".list-inline {list-style: none; margin:0; padding: 0}\n",
              ".list-inline>li {display: inline-block}\n",
              ".list-inline>li:not(:last-child)::after {content: \"\\00b7\"; padding: 0 .5ex}\n",
              "</style>\n",
              "<ol class=list-inline><li>'He ey'</li><li>'Harry'</li><li>'Harry'</li><li>'Harry'</li><li>'Harry'</li><li>'Harry'</li><li>'Harry'</li><li>'Harry'</li><li>'Harry'</li><li>'Harry'</li><li>'Harry'</li><li>'Harry'</li><li>'Harry'</li><li>'Harry'</li><li>'Harry'</li><li>'Harry'</li><li>'Harry'</li><li>'Harry'</li><li>'Harry'</li><li>'Harry'</li><li>'Harry'</li></ol>\n",
              "</li>\n",
              "</ol>\n"
            ],
            "text/markdown": "1. 1. 'He ey'\n2. 'Harry'\n3. 'Harry'\n4. 'Harry'\n5. 'Harry'\n6. 'Harry'\n7. 'Harry'\n8. 'Harry'\n9. 'Harry'\n10. 'Harry'\n11. 'Harry'\n12. 'Harry'\n13. 'Harry'\n14. 'Harry'\n15. 'Harry'\n16. 'Harry'\n17. 'Harry'\n18. 'Harry'\n19. 'Harry'\n20. 'Harry'\n21. 'Harry'\n\n\n\n\n\n",
            "text/latex": "\\begin{enumerate}\n\\item \\begin{enumerate*}\n\\item 'He ey'\n\\item 'Harry'\n\\item 'Harry'\n\\item 'Harry'\n\\item 'Harry'\n\\item 'Harry'\n\\item 'Harry'\n\\item 'Harry'\n\\item 'Harry'\n\\item 'Harry'\n\\item 'Harry'\n\\item 'Harry'\n\\item 'Harry'\n\\item 'Harry'\n\\item 'Harry'\n\\item 'Harry'\n\\item 'Harry'\n\\item 'Harry'\n\\item 'Harry'\n\\item 'Harry'\n\\item 'Harry'\n\\end{enumerate*}\n\n\\end{enumerate}\n",
            "text/plain": [
              "[[1]]\n",
              " [1] \"He ey\" \"Harry\" \"Harry\" \"Harry\" \"Harry\" \"Harry\" \"Harry\" \"Harry\" \"Harry\"\n",
              "[10] \"Harry\" \"Harry\" \"Harry\" \"Harry\" \"Harry\" \"Harry\" \"Harry\" \"Harry\" \"Harry\"\n",
              "[19] \"Harry\" \"Harry\" \"Harry\"\n"
            ]
          },
          "metadata": {}
        }
      ],
      "source": [
        "# H<3>y\n",
        "str_extract(ch1,'H...y')\n",
        "str_extract_all(ch1,'H...y')"
      ]
    },
    {
      "cell_type": "markdown",
      "metadata": {
        "id": "eu9eNJV7CDzp"
      },
      "source": [
        "### Character classes\n",
        "Instead of matching anything using `.`, we often want to match a class of things: words, numbers, spaces, etc.\n",
        "A \"character class\" is a special pattern that matches a collection of characters. There are four built-in character classes you should know:\n",
        "- `\\w`: match any word-like character.\n",
        "- `\\s`: match any whitespace character.\n",
        "- `\\d`: match any digit.\n",
        "- `\\b`: match a \"word boundary\" (more on this in a moment).\n",
        "\n"
      ]
    },
    {
      "cell_type": "markdown",
      "metadata": {
        "id": "xTBg5YHnCDzp"
      },
      "source": [
        "`\\w` matches any word character:"
      ]
    },
    {
      "cell_type": "code",
      "execution_count": 22,
      "metadata": {
        "id": "Xz8pelBXCDzp",
        "outputId": "b24319ef-c0c8-4e37-bee3-946ab8720c16",
        "colab": {
          "base_uri": "https://localhost:8080/",
          "height": 106
        }
      },
      "outputs": [
        {
          "output_type": "display_data",
          "data": {
            "text/plain": [
              "\u001b[90m[1] │\u001b[39m \u001b[36m<t>\u001b[39m\u001b[36m<h>\u001b[39m\u001b[36m<i>\u001b[39m\u001b[36m<s>\u001b[39m \u001b[36m<i>\u001b[39m\u001b[36m<s>\u001b[39m \u001b[36m<a>\u001b[39m \u001b[36m<w>\u001b[39m\u001b[36m<o>\u001b[39m\u001b[36m<r>\u001b[39m\u001b[36m<d>\u001b[39m"
            ]
          },
          "metadata": {}
        },
        {
          "output_type": "display_data",
          "data": {
            "text/plain": [
              "\u001b[90m[1] │\u001b[39m \u001b[36m<this>\u001b[39m \u001b[36m<is>\u001b[39m \u001b[36m<a>\u001b[39m \u001b[36m<word>\u001b[39m"
            ]
          },
          "metadata": {}
        },
        {
          "output_type": "display_data",
          "data": {
            "text/plain": [
              "\u001b[90m[1] │\u001b[39m this\u001b[36m< >\u001b[39mis\u001b[36m< >\u001b[39ma\u001b[36m< >\u001b[39mword"
            ]
          },
          "metadata": {}
        },
        {
          "output_type": "display_data",
          "data": {
            "text/plain": [
              "\u001b[90m[1] │\u001b[39m this is a word \u001b[36m<1>\u001b[39m\u001b[36m<2>\u001b[39m\u001b[36m<3>\u001b[39m"
            ]
          },
          "metadata": {}
        },
        {
          "output_type": "display_data",
          "data": {
            "text/plain": [
              "\u001b[90m[1] │\u001b[39m this is a word \u001b[36m<123>\u001b[39m"
            ]
          },
          "metadata": {}
        }
      ],
      "source": [
        "str_view(\"this is a word\", \"\\\\w\") # picks up the characters\n",
        "str_view(\"this is a word\", \"\\\\w+\") # picks up the words \n",
        "str_view(\"this is a word\", \"\\\\s\") # picks up the spaces\n",
        "str_view(\"this is a word 123\", \"\\\\d\") # picks up the digits\n",
        "str_view(\"this is a word 123\", \"\\\\d+\") # picks up the digits together"
      ]
    },
    {
      "cell_type": "markdown",
      "metadata": {
        "id": "P2MR9VJqCDzp"
      },
      "source": [
        "Note the additional level of escaping needed here: \"\\\\w\" gets parsed by R into the string `\\w`:"
      ]
    },
    {
      "cell_type": "code",
      "execution_count": 23,
      "metadata": {
        "id": "NweF0CdvCDzp",
        "outputId": "bcf8e1a3-de4f-4545-e172-1ed266b9e061",
        "colab": {
          "base_uri": "https://localhost:8080/"
        }
      },
      "outputs": [
        {
          "output_type": "stream",
          "name": "stdout",
          "text": [
            "\\w\n"
          ]
        }
      ],
      "source": [
        "writeLines(\"\\\\w\")"
      ]
    },
    {
      "cell_type": "markdown",
      "metadata": {
        "id": "XrhNk3gmCDzp"
      },
      "source": [
        "The `\\w` is then parsed again by the regular expression.\n",
        "\n",
        "The string \"\\w\" is not valid in R, because there is no escape code \"\\w\":\n",
        "\n",
        "```\n",
        "> \"\\w\"\n",
        "Error: '\\w' is an unrecognized escape in character string starting \"\"\\w\"\n",
        "Traceback:\n",
        "```"
      ]
    },
    {
      "cell_type": "markdown",
      "metadata": {
        "id": "_gpvCFe0CDzp"
      },
      "source": [
        "`\\d` will match any digit:"
      ]
    },
    {
      "cell_type": "code",
      "execution_count": 24,
      "metadata": {
        "id": "7BlRlq8lCDzp",
        "outputId": "ed3bfd31-ebff-499f-9ffd-65e5c6cfca4f",
        "colab": {
          "base_uri": "https://localhost:8080/",
          "height": 53
        }
      },
      "outputs": [
        {
          "output_type": "display_data",
          "data": {
            "text/plain": [
              "\u001b[90m[1] │\u001b[39m number\u001b[36m<1>\u001b[39m\n",
              "\u001b[90m[3] │\u001b[39m \u001b[36m<3>\u001b[39mhree"
            ]
          },
          "metadata": {}
        }
      ],
      "source": [
        "str_view(c(\"number1\", \"two\", \"3hree\"), \"\\\\d\")"
      ]
    },
    {
      "cell_type": "markdown",
      "metadata": {
        "id": "4RenDR6LCDzp"
      },
      "source": [
        "Similarly, `\\s` will match whitespace (spaces, tabs and newlines):"
      ]
    },
    {
      "cell_type": "code",
      "execution_count": 25,
      "metadata": {
        "id": "2Cl-Y52tCDzp",
        "outputId": "d8c69b4c-71a3-4dc7-9c9e-5ef4ff3446d0",
        "colab": {
          "base_uri": "https://localhost:8080/",
          "height": 160
        }
      },
      "outputs": [
        {
          "output_type": "stream",
          "name": "stdout",
          "text": [
            "spa ce\n",
            "hello\tworld\n",
            "multi\n",
            "line\n"
          ]
        },
        {
          "output_type": "display_data",
          "data": {
            "text/plain": [
              "\u001b[90m[1] │\u001b[39m spa\u001b[36m< >\u001b[39mce\n",
              "\u001b[90m[2] │\u001b[39m hello\u001b[36m<\u001b[36m{\\t}\u001b[39m>\u001b[39mworld\n",
              "\u001b[90m[3] │\u001b[39m multi\u001b[36m<\u001b[39m\n",
              "    \u001b[90m│\u001b[39m \u001b[36m>\u001b[39mline"
            ]
          },
          "metadata": {}
        }
      ],
      "source": [
        "y = c(\"spa ce\", \"hello\\tworld\", \"multi\\nline\")\n",
        "writeLines(y)\n",
        "str_view(y, \"\\\\s\")"
      ]
    },
    {
      "cell_type": "markdown",
      "metadata": {
        "id": "t5o_9cWGCDzp"
      },
      "source": [
        "You can also create your own charecter class using square brackets: `[abc]` will match *one of* `a`, `b`, or `c`. In other words, the 'width' of a character class is one character by default."
      ]
    },
    {
      "cell_type": "code",
      "execution_count": 27,
      "metadata": {
        "id": "XWh_OhEbCDzp",
        "outputId": "661c556f-2b79-476f-ae07-2d8c4d2d5bc3",
        "colab": {
          "base_uri": "https://localhost:8080/",
          "height": 106
        }
      },
      "outputs": [
        {
          "output_type": "display_data",
          "data": {
            "text/plain": [
              "\u001b[90m [4] │\u001b[39m \u001b[36m<ba>\u001b[39mnana\n",
              "\u001b[90m[12] │\u001b[39m br\u001b[36m<ea>\u001b[39mdfruit\n",
              "\u001b[90m[58] │\u001b[39m p\u001b[36m<ea>\u001b[39mch\n",
              "\u001b[90m[59] │\u001b[39m p\u001b[36m<ea>\u001b[39mr\n",
              "\u001b[90m[62] │\u001b[39m pin\u001b[36m<ea>\u001b[39mpple"
            ]
          },
          "metadata": {}
        }
      ],
      "source": [
        "str_view(fruit, '[be]a')  # Match either 'b' or 'e' followed by a"
      ]
    },
    {
      "cell_type": "code",
      "source": [
        "str_view(fruit, '[ben]a')  # Match either 'b' or 'e' or 'n' followed by a"
      ],
      "metadata": {
        "colab": {
          "base_uri": "https://localhost:8080/",
          "height": 142
        },
        "id": "UCn0wbRMHBsq",
        "outputId": "61141ed2-5daf-43b8-ee56-dfff8c62b9ac"
      },
      "execution_count": 28,
      "outputs": [
        {
          "output_type": "display_data",
          "data": {
            "text/plain": [
              "\u001b[90m [4] │\u001b[39m \u001b[36m<ba>\u001b[39m\u001b[36m<na>\u001b[39m\u001b[36m<na>\u001b[39m\n",
              "\u001b[90m[12] │\u001b[39m br\u001b[36m<ea>\u001b[39mdfruit\n",
              "\u001b[90m[13] │\u001b[39m ca\u001b[36m<na>\u001b[39mry melon\n",
              "\u001b[90m[58] │\u001b[39m p\u001b[36m<ea>\u001b[39mch\n",
              "\u001b[90m[59] │\u001b[39m p\u001b[36m<ea>\u001b[39mr\n",
              "\u001b[90m[62] │\u001b[39m pin\u001b[36m<ea>\u001b[39mpple\n",
              "\u001b[90m[64] │\u001b[39m pomegra\u001b[36m<na>\u001b[39mte"
            ]
          },
          "metadata": {}
        }
      ]
    },
    {
      "cell_type": "code",
      "source": [
        "str_view(fruit, '[ben]a[nd]')  # Match either 'b' or 'e' or 'n', followed by a, followed by an 'n' or 'd'"
      ],
      "metadata": {
        "colab": {
          "base_uri": "https://localhost:8080/",
          "height": 53
        },
        "id": "SBopN6kxHbR3",
        "outputId": "acf2ad43-58aa-466a-e0ad-cd1ab7f7d69f"
      },
      "execution_count": 29,
      "outputs": [
        {
          "output_type": "display_data",
          "data": {
            "text/plain": [
              "\u001b[90m [4] │\u001b[39m \u001b[36m<ban>\u001b[39mana\n",
              "\u001b[90m[12] │\u001b[39m br\u001b[36m<ead>\u001b[39mfruit"
            ]
          },
          "metadata": {}
        }
      ]
    },
    {
      "cell_type": "code",
      "source": [
        "str_view(fruit, '[ben].[nd]')  # Match either 'b' or 'e' or 'n', followed by any one character, followed by an 'n' or 'd'"
      ],
      "metadata": {
        "colab": {
          "base_uri": "https://localhost:8080/",
          "height": 106
        },
        "id": "fvp15JaPHloo",
        "outputId": "c3796e87-86d2-455f-e5f8-94ef8e0f3d74"
      },
      "execution_count": 31,
      "outputs": [
        {
          "output_type": "display_data",
          "data": {
            "text/plain": [
              "\u001b[90m [4] │\u001b[39m \u001b[36m<ban>\u001b[39mana\n",
              "\u001b[90m[12] │\u001b[39m br\u001b[36m<ead>\u001b[39mfruit\n",
              "\u001b[90m[29] │\u001b[39m \u001b[36m<eld>\u001b[39merberry\n",
              "\u001b[90m[37] │\u001b[39m hon\u001b[36m<eyd>\u001b[39mew\n",
              "\u001b[90m[66] │\u001b[39m purple mangost\u001b[36m<een>\u001b[39m"
            ]
          },
          "metadata": {}
        }
      ]
    },
    {
      "cell_type": "code",
      "source": [
        "str_view(fruit, '[ben]..[nd]')  # Match either 'b' or 'e' or 'n', followed by any two characters, followed by an 'n' or 'd'"
      ],
      "metadata": {
        "colab": {
          "base_uri": "https://localhost:8080/",
          "height": 142
        },
        "id": "HGpi7DeAHs9o",
        "outputId": "f2d2babf-9bbb-4f10-a19e-f63c17809022"
      },
      "execution_count": 33,
      "outputs": [
        {
          "output_type": "display_data",
          "data": {
            "text/plain": [
              "\u001b[90m[13] │\u001b[39m canary m\u001b[36m<elon>\u001b[39m\n",
              "\u001b[90m[18] │\u001b[39m cl\u001b[36m<emen>\u001b[39mtine\n",
              "\u001b[90m[37] │\u001b[39m ho\u001b[36m<neyd>\u001b[39mew\n",
              "\u001b[90m[44] │\u001b[39m l\u001b[36m<emon>\u001b[39m\n",
              "\u001b[90m[72] │\u001b[39m rock m\u001b[36m<elon>\u001b[39m\n",
              "\u001b[90m[78] │\u001b[39m tang\u001b[36m<erin>\u001b[39me\n",
              "\u001b[90m[80] │\u001b[39m waterm\u001b[36m<elon>\u001b[39m"
            ]
          },
          "metadata": {}
        }
      ]
    },
    {
      "cell_type": "markdown",
      "metadata": {
        "id": "JJY52-SwCDzp"
      },
      "source": [
        "We can use character classes to match the first capital letter of a capitalized word:"
      ]
    },
    {
      "cell_type": "code",
      "execution_count": 34,
      "metadata": {
        "id": "L-6Dv2UPCDzp",
        "outputId": "288dd723-33db-4aef-d1d9-47612a4b941f",
        "colab": {
          "base_uri": "https://localhost:8080/",
          "height": 53
        }
      },
      "outputs": [
        {
          "output_type": "display_data",
          "data": {
            "text/plain": [
              "\u001b[90m[1] │\u001b[39m \u001b[36m<T>\u001b[39mhese\n",
              "\u001b[90m[3] │\u001b[39m some \u001b[36m<C>\u001b[39mapitalized words"
            ]
          },
          "metadata": {}
        }
      ],
      "source": [
        "str_view(c(\"These\", \"are\", \"some Capitalized words\"),\n",
        "         \"[ABCDEFGHIJKLMNOPQRSTUVWXYZ]\")"
      ]
    },
    {
      "cell_type": "markdown",
      "metadata": {
        "id": "SZomR7psCDzp"
      },
      "source": [
        "We do not need to go to all the trouble of typing each capital letter. We can use the shortcut `[A-Z]` instead."
      ]
    },
    {
      "cell_type": "code",
      "execution_count": 35,
      "metadata": {
        "id": "MjR4L8mUCDzq",
        "outputId": "50fa8e28-032c-43e5-b817-ce7beea78129",
        "colab": {
          "base_uri": "https://localhost:8080/",
          "height": 53
        }
      },
      "outputs": [
        {
          "output_type": "display_data",
          "data": {
            "text/plain": [
              "\u001b[90m[1] │\u001b[39m \u001b[36m<T>\u001b[39mhese\n",
              "\u001b[90m[3] │\u001b[39m some \u001b[36m<C>\u001b[39mapitalized words"
            ]
          },
          "metadata": {}
        }
      ],
      "source": [
        "str_view(c(\"These\", \"are\", \"some Capitalized words\"), \"[A-Z]\")"
      ]
    },
    {
      "cell_type": "code",
      "source": [
        "str_view(c(\"These\", \"are\", \"some Capitalized words\"), \"[A-D]\")"
      ],
      "metadata": {
        "colab": {
          "base_uri": "https://localhost:8080/",
          "height": 35
        },
        "id": "XLiAJivTICSE",
        "outputId": "79ab7d55-696a-48bb-d13c-f01bc0755367"
      },
      "execution_count": 36,
      "outputs": [
        {
          "output_type": "display_data",
          "data": {
            "text/plain": [
              "\u001b[90m[3] │\u001b[39m some \u001b[36m<C>\u001b[39mapitalized words"
            ]
          },
          "metadata": {}
        }
      ]
    },
    {
      "cell_type": "code",
      "source": [
        "str_view(c(\"These\", \"are\", \"some Capitalized words\"), \"[a-g]\")"
      ],
      "metadata": {
        "colab": {
          "base_uri": "https://localhost:8080/",
          "height": 71
        },
        "id": "0BkvDD4yIYDS",
        "outputId": "17b70488-c6ac-4b61-c765-842b3890e3cc"
      },
      "execution_count": 43,
      "outputs": [
        {
          "output_type": "display_data",
          "data": {
            "text/plain": [
              "\u001b[90m[1] │\u001b[39m Th\u001b[36m<e>\u001b[39ms\u001b[36m<e>\u001b[39m\n",
              "\u001b[90m[2] │\u001b[39m \u001b[36m<a>\u001b[39mr\u001b[36m<e>\u001b[39m\n",
              "\u001b[90m[3] │\u001b[39m som\u001b[36m<e>\u001b[39m C\u001b[36m<a>\u001b[39mpit\u001b[36m<a>\u001b[39mliz\u001b[36m<e>\u001b[39m\u001b[36m<d>\u001b[39m wor\u001b[36m<d>\u001b[39ms"
            ]
          },
          "metadata": {}
        }
      ]
    },
    {
      "cell_type": "code",
      "source": [
        "str_view('123456789','[1-4]')"
      ],
      "metadata": {
        "colab": {
          "base_uri": "https://localhost:8080/",
          "height": 35
        },
        "id": "tw62HdguILs6",
        "outputId": "6fd7ccc3-acbf-4923-f92f-6b3fe4206b1e"
      },
      "execution_count": 40,
      "outputs": [
        {
          "output_type": "display_data",
          "data": {
            "text/plain": [
              "\u001b[90m[1] │\u001b[39m \u001b[36m<1>\u001b[39m\u001b[36m<2>\u001b[39m\u001b[36m<3>\u001b[39m\u001b[36m<4>\u001b[39m56789"
            ]
          },
          "metadata": {}
        }
      ]
    },
    {
      "cell_type": "markdown",
      "metadata": {
        "id": "xtqTCZjTCDzq"
      },
      "source": [
        "### Word boundaries\n",
        "A final character class we'll use frequently is `\\b`, which stands for \"word boundary\". A word boundary matches the \"edges\" of a word:"
      ]
    },
    {
      "cell_type": "code",
      "execution_count": 44,
      "metadata": {
        "id": "oKsV01_aCDzq",
        "outputId": "1a5dbcef-f45d-41fd-d656-873aecb9b95c",
        "colab": {
          "base_uri": "https://localhost:8080/",
          "height": 71
        }
      },
      "outputs": [
        {
          "output_type": "display_data",
          "data": {
            "text/plain": [
              "\u001b[90m[1] │\u001b[39m \u001b[36m<>\u001b[39mRafael\u001b[36m<>\u001b[39m \u001b[36m<>\u001b[39mNadal\u001b[36m<>\u001b[39m\n",
              "\u001b[90m[2] │\u001b[39m \u001b[36m<>\u001b[39mRoger\u001b[36m<>\u001b[39m \u001b[36m<>\u001b[39mFederer\u001b[36m<>\u001b[39m\n",
              "\u001b[90m[3] │\u001b[39m \u001b[36m<>\u001b[39mNovak\u001b[36m<>\u001b[39m \u001b[36m<>\u001b[39mDjokovic\u001b[36m<>\u001b[39m"
            ]
          },
          "metadata": {}
        }
      ],
      "source": [
        "str_view(c(\"Rafael Nadal\", \"Roger Federer\", \"Novak Djokovic\"), \"\\\\b\")"
      ]
    },
    {
      "cell_type": "markdown",
      "metadata": {
        "id": "JKFTBoSBCDzq"
      },
      "source": [
        "Every word has a word boundary on either side, so we can use this in combination with other character classes to match certain kinds of words in text."
      ]
    },
    {
      "cell_type": "markdown",
      "metadata": {
        "id": "4ysvLkuOCDzq"
      },
      "source": [
        "## 🤔 Quiz\n",
        "\n",
        "About how many 5-letter words are there in `ch1`?\n",
        "\n",
        "<ol style=\"list-style-type: upper-alpha;\">\n",
        "    <li>Less than 100</li>\n",
        "    <li>100-300</li>\n",
        "    <li>300-600</li>\n",
        "    <li>600 or more</li>\n",
        "</ol>\n"
      ]
    },
    {
      "cell_type": "code",
      "execution_count": null,
      "metadata": {
        "id": "d28zhQCvCDzq"
      },
      "outputs": [],
      "source": [
        "# 5-letter words\n",
        "str_view(ch1,'\\\\w\\\\w\\\\w\\\\w\\\\w') # problem, so use the boundary argument\n",
        "str_view(ch1,'\\\\b\\\\w\\\\w\\\\w\\\\w\\\\w\\\\b') # seems to be fine; ignore the unicodes for now"
      ]
    },
    {
      "cell_type": "code",
      "source": [
        "str_count(ch1,'\\\\b\\\\w\\\\w\\\\w\\\\w\\\\w\\\\b') \n",
        "str_count(ch1,'\\\\b[A-Za-z][A-Za-z][A-Za-z][A-Za-z][A-Za-z]\\\\b') "
      ],
      "metadata": {
        "colab": {
          "base_uri": "https://localhost:8080/",
          "height": 52
        },
        "id": "iefzbSZ3KJtg",
        "outputId": "673beda8-3cb4-4c74-c303-e2f36229c928"
      },
      "execution_count": 60,
      "outputs": [
        {
          "output_type": "display_data",
          "data": {
            "text/html": [
              "471"
            ],
            "text/markdown": "471",
            "text/latex": "471",
            "text/plain": [
              "[1] 471"
            ]
          },
          "metadata": {}
        },
        {
          "output_type": "display_data",
          "data": {
            "text/html": [
              "471"
            ],
            "text/markdown": "471",
            "text/latex": "471",
            "text/plain": [
              "[1] 471"
            ]
          },
          "metadata": {}
        }
      ]
    },
    {
      "cell_type": "markdown",
      "metadata": {
        "id": "QISt72C0CDzq"
      },
      "source": [
        "In this exercise, we matched the pattern \n",
        "\n",
        "    <word boundary><five word characters><word boundary>."
      ]
    },
    {
      "cell_type": "markdown",
      "metadata": {
        "id": "jRlf-xEdCDzq"
      },
      "source": [
        "## Quantifiers\n",
        "Now we can return to a question that we asked in the previous lecture: how many words are there in `ch1`? We did a crude approximation by counting the number of spaces, but we saw that this double-counted certain words. A better way is to count how many times the following pattern matches:"
      ]
    },
    {
      "cell_type": "markdown",
      "metadata": {
        "id": "KzDjTqqsCDzq"
      },
      "source": [
        "    <word boundary><any number of word characters><word boundary>"
      ]
    },
    {
      "cell_type": "markdown",
      "metadata": {
        "id": "SN9dMD7hCDzq"
      },
      "source": [
        "The four quantifiers you should know are:\n",
        "- `?`: match zero or one of the preceding character.\n",
        "- `+`: match one or more of the preceding character.\n",
        "- `*`: match zero or more of the preceding character.\n",
        "- `{x}`: match exactly `x` of the preceding character.\n",
        "    - `{x,y}`: match between `x` and `y` of the preceding character.\n",
        "    - `{x,}`: match at least `x` of the preceding character."
      ]
    },
    {
      "cell_type": "markdown",
      "metadata": {
        "id": "l_R7-S_vCDzq"
      },
      "source": [
        "So, to count the number of words using the pattern shown above:"
      ]
    },
    {
      "cell_type": "code",
      "execution_count": 65,
      "metadata": {
        "id": "cWjJjsnGCDzq",
        "colab": {
          "base_uri": "https://localhost:8080/",
          "height": 52
        },
        "outputId": "22d17f9c-2d32-413b-81de-8f942b1f455a"
      },
      "outputs": [
        {
          "output_type": "display_data",
          "data": {
            "text/html": [
              "4778"
            ],
            "text/markdown": "4778",
            "text/latex": "4778",
            "text/plain": [
              "[1] 4778"
            ]
          },
          "metadata": {}
        },
        {
          "output_type": "display_data",
          "data": {
            "text/html": [
              "471"
            ],
            "text/markdown": "471",
            "text/latex": "471",
            "text/plain": [
              "[1] 471"
            ]
          },
          "metadata": {}
        }
      ],
      "source": [
        "# match ANY number of characters inside of word boundaries:\n",
        "str_count(ch1,'\\\\b\\\\w+\\\\b')\n",
        "\n",
        "# match EXACTLY 5 characters:\n",
        "str_count(ch1,'\\\\b\\\\w{5}\\\\b')"
      ]
    },
    {
      "cell_type": "markdown",
      "metadata": {
        "id": "dv6Akv39CDzq"
      },
      "source": [
        "## 🤔 Quiz\n",
        "\n",
        "How many words in `ch1` match the pattern:\n",
        "\n",
        "    <word boundary><capital letter><at least one lowercase letter><word boundary>\n",
        "\n",
        "(Example: `Harry.` matches but ` I ` does not.)\n",
        "\n",
        "<ol style=\"list-style-type: upper-alpha;\">\n",
        "    <li>Less than 100</li>\n",
        "    <li>100-300</li>\n",
        "    <li>300-600</li>\n",
        "    <li>600 or more</li>\n",
        "</ol>\n"
      ]
    },
    {
      "cell_type": "code",
      "execution_count": 70,
      "metadata": {
        "id": "hbHp_tyTCDzq",
        "colab": {
          "base_uri": "https://localhost:8080/",
          "height": 34
        },
        "outputId": "48463122-ccd0-492c-d46f-82aa69501dd5"
      },
      "outputs": [
        {
          "output_type": "display_data",
          "data": {
            "text/html": [
              "600"
            ],
            "text/markdown": "600",
            "text/latex": "600",
            "text/plain": [
              "[1] 600"
            ]
          },
          "metadata": {}
        }
      ],
      "source": [
        "# cap words\n",
        "str_count(ch1,'\\\\b[A-Z][a-z]+\\\\b')"
      ]
    },
    {
      "cell_type": "markdown",
      "metadata": {
        "id": "g0apLcHjCDzq"
      },
      "source": [
        "Let's return to an example from last lecture: find all the character names in Harry Potter. By matching all words that start with capital letters, we're off to a good start. But we pick up the beginning word of any sentence, resulting in a lot of false matches. Let's use quantifiers to restrict to only longer words, say capitalized words that are at least six characters long."
      ]
    },
    {
      "cell_type": "markdown",
      "metadata": {
        "id": "7qUZZc6XCDzq"
      },
      "source": [
        "Our pattern becomes:\n",
        "\n",
        "    <word boundary><Capital letter><at least five lowercase letters><word boundary>"
      ]
    },
    {
      "cell_type": "code",
      "execution_count": 78,
      "metadata": {
        "id": "wpMR841ICDzq",
        "colab": {
          "base_uri": "https://localhost:8080/",
          "height": 132
        },
        "outputId": "76d2263d-2144-471a-cc13-dddd088d6187"
      },
      "outputs": [
        {
          "output_type": "display_data",
          "data": {
            "text/html": [
              "67"
            ],
            "text/markdown": "67",
            "text/latex": "67",
            "text/plain": [
              "[1] 67"
            ]
          },
          "metadata": {}
        },
        {
          "output_type": "display_data",
          "data": {
            "text/html": [
              "<ol>\n",
              "\t<li><style>\n",
              ".list-inline {list-style: none; margin:0; padding: 0}\n",
              ".list-inline>li {display: inline-block}\n",
              ".list-inline>li:not(:last-child)::after {content: \"\\00b7\"; padding: 0 .5ex}\n",
              "</style>\n",
              "<ol class=list-inline><li>'Privet'</li><li>'Dudley'</li><li>'Potter'</li><li>'Dudley'</li><li>'Dudley'</li><li>'Dudley'</li><li>'Dudley'</li><li>'Little'</li><li>'Privet'</li><li>'Privet'</li><li>'People'</li><li>'Potter'</li><li>'Potter'</li><li>'Harvey'</li><li>'Harold'</li><li>'Muggle'</li><li>'Trying'</li><li>'Dudley'</li><li>'Dudley'</li><li>'Dundee'</li><li>'Potter'</li><li>'Dudley'</li><li>'Howard'</li><li>'Privet'</li><li>'Privet'</li><li>'Privet'</li><li>'Twelve'</li><li>'Flocks'</li><li>'Diggle'</li><li>'People'</li><li>'Muggle'</li><li>'Muggle'</li><li>'Godric'</li><li>'Hollow'</li><li>'Potter'</li><li>'Potter'</li><li>'Potter'</li><li>'Hagrid'</li><li>'Potter'</li><li>'Really'</li><li>'Potter'</li><li>'Famous'</li><li>'Famous'</li><li>'Hagrid'</li><li>'Hagrid'</li><li>'Hagrid'</li><li>'Hagrid'</li><li>'Sirius'</li><li>'Inside'</li><li>'Couldn'</li><li>'London'</li><li>'Hagrid'</li><li>'Hagrid'</li><li>'Hagrid'</li><li>'Hagrid'</li><li>'Hagrid'</li><li>'Hagrid'</li><li>'Hagrid'</li><li>'Hagrid'</li><li>'Sirius'</li><li>'Wiping'</li><li>'Hagrid'</li><li>'Privet'</li><li>'Privet'</li><li>'Potter'</li><li>'Dudley'</li><li>'Potter'</li></ol>\n",
              "</li>\n",
              "</ol>\n"
            ],
            "text/markdown": "1. 1. 'Privet'\n2. 'Dudley'\n3. 'Potter'\n4. 'Dudley'\n5. 'Dudley'\n6. 'Dudley'\n7. 'Dudley'\n8. 'Little'\n9. 'Privet'\n10. 'Privet'\n11. 'People'\n12. 'Potter'\n13. 'Potter'\n14. 'Harvey'\n15. 'Harold'\n16. 'Muggle'\n17. 'Trying'\n18. 'Dudley'\n19. 'Dudley'\n20. 'Dundee'\n21. 'Potter'\n22. 'Dudley'\n23. 'Howard'\n24. 'Privet'\n25. 'Privet'\n26. 'Privet'\n27. 'Twelve'\n28. 'Flocks'\n29. 'Diggle'\n30. 'People'\n31. 'Muggle'\n32. 'Muggle'\n33. 'Godric'\n34. 'Hollow'\n35. 'Potter'\n36. 'Potter'\n37. 'Potter'\n38. 'Hagrid'\n39. 'Potter'\n40. 'Really'\n41. 'Potter'\n42. 'Famous'\n43. 'Famous'\n44. 'Hagrid'\n45. 'Hagrid'\n46. 'Hagrid'\n47. 'Hagrid'\n48. 'Sirius'\n49. 'Inside'\n50. 'Couldn'\n51. 'London'\n52. 'Hagrid'\n53. 'Hagrid'\n54. 'Hagrid'\n55. 'Hagrid'\n56. 'Hagrid'\n57. 'Hagrid'\n58. 'Hagrid'\n59. 'Hagrid'\n60. 'Sirius'\n61. 'Wiping'\n62. 'Hagrid'\n63. 'Privet'\n64. 'Privet'\n65. 'Potter'\n66. 'Dudley'\n67. 'Potter'\n\n\n\n\n\n",
            "text/latex": "\\begin{enumerate}\n\\item \\begin{enumerate*}\n\\item 'Privet'\n\\item 'Dudley'\n\\item 'Potter'\n\\item 'Dudley'\n\\item 'Dudley'\n\\item 'Dudley'\n\\item 'Dudley'\n\\item 'Little'\n\\item 'Privet'\n\\item 'Privet'\n\\item 'People'\n\\item 'Potter'\n\\item 'Potter'\n\\item 'Harvey'\n\\item 'Harold'\n\\item 'Muggle'\n\\item 'Trying'\n\\item 'Dudley'\n\\item 'Dudley'\n\\item 'Dundee'\n\\item 'Potter'\n\\item 'Dudley'\n\\item 'Howard'\n\\item 'Privet'\n\\item 'Privet'\n\\item 'Privet'\n\\item 'Twelve'\n\\item 'Flocks'\n\\item 'Diggle'\n\\item 'People'\n\\item 'Muggle'\n\\item 'Muggle'\n\\item 'Godric'\n\\item 'Hollow'\n\\item 'Potter'\n\\item 'Potter'\n\\item 'Potter'\n\\item 'Hagrid'\n\\item 'Potter'\n\\item 'Really'\n\\item 'Potter'\n\\item 'Famous'\n\\item 'Famous'\n\\item 'Hagrid'\n\\item 'Hagrid'\n\\item 'Hagrid'\n\\item 'Hagrid'\n\\item 'Sirius'\n\\item 'Inside'\n\\item 'Couldn'\n\\item 'London'\n\\item 'Hagrid'\n\\item 'Hagrid'\n\\item 'Hagrid'\n\\item 'Hagrid'\n\\item 'Hagrid'\n\\item 'Hagrid'\n\\item 'Hagrid'\n\\item 'Hagrid'\n\\item 'Sirius'\n\\item 'Wiping'\n\\item 'Hagrid'\n\\item 'Privet'\n\\item 'Privet'\n\\item 'Potter'\n\\item 'Dudley'\n\\item 'Potter'\n\\end{enumerate*}\n\n\\end{enumerate}\n",
            "text/plain": [
              "[[1]]\n",
              " [1] \"Privet\" \"Dudley\" \"Potter\" \"Dudley\" \"Dudley\" \"Dudley\" \"Dudley\" \"Little\"\n",
              " [9] \"Privet\" \"Privet\" \"People\" \"Potter\" \"Potter\" \"Harvey\" \"Harold\" \"Muggle\"\n",
              "[17] \"Trying\" \"Dudley\" \"Dudley\" \"Dundee\" \"Potter\" \"Dudley\" \"Howard\" \"Privet\"\n",
              "[25] \"Privet\" \"Privet\" \"Twelve\" \"Flocks\" \"Diggle\" \"People\" \"Muggle\" \"Muggle\"\n",
              "[33] \"Godric\" \"Hollow\" \"Potter\" \"Potter\" \"Potter\" \"Hagrid\" \"Potter\" \"Really\"\n",
              "[41] \"Potter\" \"Famous\" \"Famous\" \"Hagrid\" \"Hagrid\" \"Hagrid\" \"Hagrid\" \"Sirius\"\n",
              "[49] \"Inside\" \"Couldn\" \"London\" \"Hagrid\" \"Hagrid\" \"Hagrid\" \"Hagrid\" \"Hagrid\"\n",
              "[57] \"Hagrid\" \"Hagrid\" \"Hagrid\" \"Sirius\" \"Wiping\" \"Hagrid\" \"Privet\" \"Privet\"\n",
              "[65] \"Potter\" \"Dudley\" \"Potter\"\n"
            ]
          },
          "metadata": {}
        }
      ],
      "source": [
        "# all cap words that have at least six characters\n",
        "str_count(ch1,'\\\\b[A-Z][a-z]{5}\\\\b')\n",
        "str_extract_all(ch1,'\\\\b[A-Z][a-z]{5}\\\\b')"
      ]
    },
    {
      "cell_type": "markdown",
      "metadata": {
        "id": "RjBSTwXPCDzq"
      },
      "source": [
        "## Grouping\n",
        "In the previous exercise we found that \"Professor\" is one of the most common capitalized words. Is there a character named Professor, or is it just a title? Now let us try to match one or more capitalized words in a row. We can accomplish this by creating a *group*, and then applying a quantifier to it. "
      ]
    },
    {
      "cell_type": "markdown",
      "metadata": {
        "id": "fvqHX-yOCDzq"
      },
      "source": [
        "To create a group, I surround a part of my regexp with parentheses:"
      ]
    },
    {
      "cell_type": "code",
      "execution_count": 76,
      "metadata": {
        "id": "D1H727ZQCDzq",
        "colab": {
          "base_uri": "https://localhost:8080/",
          "height": 53
        },
        "outputId": "afd00785-4e61-48a7-ba73-ceaa483c1dfd"
      },
      "outputs": [
        {
          "output_type": "display_data",
          "data": {
            "text/plain": [
              "\u001b[90m[1] │\u001b[39m \u001b[36m<this >\u001b[39m\u001b[36m<will >\u001b[39m\u001b[36m<be >\u001b[39m\u001b[36m<grouped>\u001b[39m"
            ]
          },
          "metadata": {}
        },
        {
          "output_type": "display_data",
          "data": {
            "text/plain": [
              "\u001b[90m[1] │\u001b[39m \u001b[36m<this >\u001b[39m\u001b[36m<will >\u001b[39m\u001b[36m<be >\u001b[39m\u001b[36m<grouped>\u001b[39m"
            ]
          },
          "metadata": {}
        }
      ],
      "source": [
        "str_view(\"this will be grouped\", \"[a-z]+ ?\")\n",
        "str_view(\"this will be grouped\", \"([a-z]+ ?)\")"
      ]
    },
    {
      "cell_type": "markdown",
      "metadata": {
        "id": "KkczzvIsCDzr"
      },
      "source": [
        "The parentheses do not change the regular expression (but they are doing something else, which we will discuss shortly.) But now I can apply a quantifier to the whole group:"
      ]
    },
    {
      "cell_type": "code",
      "execution_count": 77,
      "metadata": {
        "id": "QqdaFWqnCDzr",
        "colab": {
          "base_uri": "https://localhost:8080/",
          "height": 35
        },
        "outputId": "02c658f5-7bd7-4895-f752-f00252e01b71"
      },
      "outputs": [
        {
          "output_type": "display_data",
          "data": {
            "text/plain": [
              "\u001b[90m[1] │\u001b[39m \u001b[36m<this will be grouped>\u001b[39m"
            ]
          },
          "metadata": {}
        }
      ],
      "source": [
        "str_view(\"this will be grouped\", \"([a-z]+ ?)+\")"
      ]
    },
    {
      "cell_type": "markdown",
      "metadata": {
        "id": "5r6t5RduCDzr"
      },
      "source": [
        "So now we take the previous pattern and group it:\n",
        "\n",
        "    (<word boundary><Capital letter><at least five lowercase letters><word boundary>){match 1+ times}"
      ]
    },
    {
      "cell_type": "code",
      "execution_count": 80,
      "metadata": {
        "id": "FuRuTvxpCDzr",
        "colab": {
          "base_uri": "https://localhost:8080/",
          "height": 142
        },
        "outputId": "f46f6945-599f-4461-c891-8d26aeec6b67"
      },
      "outputs": [
        {
          "output_type": "display_data",
          "data": {
            "text/plain": [
              ".\n",
              "Althoug Bonfire Borrowe Bristol Britain Dedalus Dumbled Dursley Everyon Exactly \n",
              "      1       1       1       1       1       1      37      55       1       1 \n",
              "Experts Gonagal Grunnin Instead Muggles Mysteri Nothing Perhaps Petunia Pomfrey \n",
              "      1      26       2       2       6       1       1       1       3       1 \n",
              "Potters Profess Rejoice Shootin Tuesday Undergr Viewers Voldemo Yorkshi \n",
              "     10      30       1       2       1       1       1       6       1 "
            ]
          },
          "metadata": {}
        }
      ],
      "source": [
        "# match one or more cap words in a row\n",
        "str_extract_all(ch1,'([A-Z][a-z]{6,}?)+')%>%table"
      ]
    },
    {
      "cell_type": "markdown",
      "metadata": {
        "id": "B4qxKDXaCDzr"
      },
      "source": [
        "## 🤔 Quiz\n",
        "\n",
        "Besides Professor McGonagall, who is the other Professor mentioned in ch1?\n",
        "\n",
        "<ol style=\"list-style-type: upper-alpha;\">\n",
        "    <li>Prof. Muggles</li>\n",
        "    <li>Prof. Terhorst</li>\n",
        "    <li>Prof. Dumbledore</li>\n",
        "    <li>Prof. Dursley</li>\n",
        "</ol>\n"
      ]
    },
    {
      "cell_type": "code",
      "execution_count": null,
      "metadata": {
        "id": "L1zFepg6CDzr"
      },
      "outputs": [],
      "source": [
        "# other professor"
      ]
    },
    {
      "cell_type": "markdown",
      "metadata": {
        "id": "edPKKweiCDzr"
      },
      "source": [
        "## Negations\n",
        "Earlier we looked at quotations. The first quotation in chapter 1 is:"
      ]
    },
    {
      "cell_type": "code",
      "execution_count": 81,
      "metadata": {
        "id": "JOsJsDRtCDzr",
        "outputId": "51dac598-8478-4c4a-ee93-7474089054d2",
        "colab": {
          "base_uri": "https://localhost:8080/",
          "height": 34
        }
      },
      "outputs": [
        {
          "output_type": "display_data",
          "data": {
            "text/html": [
              "'\"Little tyke,\"'"
            ],
            "text/markdown": "'\"Little tyke,\"'",
            "text/latex": "'\"Little tyke,\"'",
            "text/plain": [
              "[1] \"\\\"Little tyke,\\\"\""
            ]
          },
          "metadata": {}
        }
      ],
      "source": [
        "str_sub(ch1, 2150, 2163)"
      ]
    },
    {
      "cell_type": "markdown",
      "metadata": {
        "id": "p-clqcKNCDzr"
      },
      "source": [
        "How can we find other quotes? The pattern for a quote is a quotation mark, followed by any number of things that are not a quotation mark, followed by another quotation mark:\n",
        "\n",
        "    <quotation mark><anything that is not a quotation mark><quotation mark>\n"
      ]
    },
    {
      "cell_type": "markdown",
      "metadata": {
        "id": "sO0deG1SCDzr"
      },
      "source": [
        "To match this, we will use a *negation*. A negation is a character class that begins with the character \"^\". It matches anything that in *not* inside the character class:"
      ]
    },
    {
      "cell_type": "code",
      "execution_count": 82,
      "metadata": {
        "id": "C6qVaGa3CDzr",
        "outputId": "c0fedee3-c9ef-4340-ce9c-bce41eb73d04",
        "colab": {
          "base_uri": "https://localhost:8080/",
          "height": 88
        }
      },
      "outputs": [
        {
          "output_type": "stream",
          "name": "stderr",
          "text": [
            "Warning message:\n",
            "“\u001b[1m\u001b[22m`str_view()` was deprecated in stringr 1.5.0.\n",
            "\u001b[36mℹ\u001b[39m Please use `str_view_all()` instead.”\n"
          ]
        },
        {
          "output_type": "display_data",
          "data": {
            "text/plain": [
              "\u001b[90m[1] │\u001b[39m \u001b[36m<m>\u001b[39ma\u001b[36m<tch d>\u001b[39moe\u001b[36m<sn't m>\u001b[39ma\u001b[36m<tch>\u001b[39m"
            ]
          },
          "metadata": {}
        }
      ],
      "source": [
        "str_view_all(\"match doesn't match\", \"[^aeiou]+\")"
      ]
    },
    {
      "cell_type": "markdown",
      "metadata": {
        "id": "XloC7ZNACDzr"
      },
      "source": [
        "To match a quotation, we'll input the pattern that we specified above:"
      ]
    },
    {
      "cell_type": "code",
      "execution_count": 87,
      "metadata": {
        "id": "eHELl2VACDzr",
        "outputId": "9bd4b9e8-56e6-48ba-c977-798e6f7aa0e9",
        "colab": {
          "base_uri": "https://localhost:8080/",
          "height": 35
        }
      },
      "outputs": [
        {
          "output_type": "display_data",
          "data": {
            "text/plain": [
              "\u001b[90m[1] │\u001b[39m \u001b[36m<\"Here is a quotation\">\u001b[39m, said the professor. \u001b[36m<\"And here is another.\">\u001b[39m"
            ]
          },
          "metadata": {}
        }
      ],
      "source": [
        "str_view_all('\"Here is a quotation\", said the professor. \"And here is another.\"',\n",
        "             '\"[^\"]+\"')"
      ]
    },
    {
      "cell_type": "markdown",
      "metadata": {
        "id": "6RpMEUqZCDzr"
      },
      "source": [
        "## 🤔 Quiz\n",
        "\n",
        "How many quotations are there in Ch. 1? (Use the pattern shown above.)\n",
        "\n",
        "<ol style=\"list-style-type: upper-alpha;\">\n",
        "    <li>Less than 50</li>\n",
        "    <li>50-100</li>\n",
        "    <li>100-150</li>\n",
        "    <li>150-200</li>\n",
        "</ol>\n"
      ]
    },
    {
      "cell_type": "code",
      "execution_count": 86,
      "metadata": {
        "id": "e2iYaiPSCDzr",
        "colab": {
          "base_uri": "https://localhost:8080/",
          "height": 861
        },
        "outputId": "d73fb5f7-e920-48fd-ae19-23f59027a462"
      },
      "outputs": [
        {
          "output_type": "display_data",
          "data": {
            "text/html": [
              "102"
            ],
            "text/markdown": "102",
            "text/latex": "102",
            "text/plain": [
              "[1] 102"
            ]
          },
          "metadata": {}
        },
        {
          "output_type": "display_data",
          "data": {
            "text/html": [
              "<ol>\n",
              "\t<li><style>\n",
              ".list-inline {list-style: none; margin:0; padding: 0}\n",
              ".list-inline>li {display: inline-block}\n",
              ".list-inline>li:not(:last-child)::after {content: \"\\00b7\"; padding: 0 .5ex}\n",
              "</style>\n",
              "<ol class=list-inline><li>'\"Little tyke,\"'</li><li>'\"The Potters, that\\'s right, that\\'s what I heard yes, their son, Harry\"'</li><li>'\"Sorry,\"'</li><li>'\"Don\\'t be sorry, my dear sir, for nothing could upset me today! Rejoice, for You-Know-Who has gone at last! Even Muggles like yourself should be celebrating, this happy, happy day!\"'</li><li>'\"Shoo!\"'</li><li>'\"Won\\'t!\"'</li><li>'\"And finally, bird-watchers everywhere have reported that the nation\\'s owls have been behaving very unusually today. Although owls normally hunt at night and are hardly ever seen in daylight, there have been hundreds of sightings of these birds flying in every direction since sunrise. Experts are unable to explain why the owls have suddenly changed their sleeping pattern.\"'</li><li>'\"Most mysterious. And now, over to Jim McGuffin with the weather. Going to be any more showers of owls tonight, Jim?\"'</li><li>'\"Well, Ted,\"'</li><li>'\"I don\\'t know about that, but it\\'s not only the owls that have been acting oddly today. Viewers as far apart as Kent, Yorkshire, and Dundee have been phoning in to tell me that instead of the rain I promised yesterday, they\\'ve had a downpour of shooting stars! Perhaps people have been celebrating Bonfire Night early -- it\\'s not until next week, folks! But I can promise a wet night tonight.\"'</li><li>'\"Er -- Petunia, dear -- you haven\\'t heard from your sister lately, have you?\"'</li><li>'\"No,\"'</li><li>'\"Why?\"'</li><li>'\"Funny stuff on the news,\"'</li><li>'\"Owls... shooting stars... and there were a lot of funny-looking people in town today...\"'</li><li>'\"So?\"'</li><li>'\"Well, I just thought... maybe... it was something to do with... you know... her crowd.\"'</li><li>'\"Potter.\"'</li><li>'\"Their son -- he\\'d be about Dudley\\'s age now, wouldn\\'t he?\"'</li><li>'\"I suppose so,\"'</li><li>'\"What\\'s his name again? Howard, isn\\'t it?\"'</li><li>'\"Harry. Nasty, common name, if you ask me.\"'</li><li>'\"Oh, yes,\"'</li><li>'\"Yes, I quite agree.\"'</li><li>'\"I should have known.\"'</li><li>'\"Fancy seeing you here, Professor McGonagall.\"'</li><li>'\"How did you know it was me?\"'</li><li>'\"My dear Professor, I \\'ve never seen a cat sit so stiffly.\"'</li><li>'\"You\\'d be stiff if you\\'d been sitting on a brick wall all day,\"'</li><li>'\"All day? When you could have been celebrating? I must have passed a dozen feasts and parties on my way here.\"'</li><li>'\"Oh yes, everyone\\'s celebrating, all right,\"'</li><li>'\"You\\'d think they\\'d be a bit more careful, but no -- even the Muggles have noticed something\\'s going on. It was on their news.\"'</li><li>'\"I heard it. Flocks of owls... shooting stars.... Well, they\\'re not completely stupid. They were bound to notice something. Shooting stars down in Kent -- I\\'ll bet that was Dedalus Diggle. He never had much sense.\"'</li><li>'\"You can\\'t blame them,\"'</li><li>'\"We\\'ve had precious little to celebrate for eleven years.\"'</li><li>'\"I know that,\"'</li><li>'\"But that\\'s no reason to lose our heads. People are being downright careless, out on the streets in broad daylight, not even dressed in Muggle clothes, swapping rumors.\"'</li><li>'\"A fine thing it would be if, on the very day YouKnow-Who seems to have disappeared at last, the Muggles found out about us all. I suppose he really has gone, Dumbledore?\"'</li><li>'\"It certainly seems so,\"'</li><li>'\"We have much to be thankful for. Would you care for a lemon drop?\"'</li><li>'\"A what?\"'</li><li>'\"A lemon drop. They\\'re a kind of Muggle sweet I\\'m rather fond of\"'</li><li>'\"No, thank you,\"'</li><li>'\"As I say, even if You-Know-Who has gone -\"'</li><li>'\"My dear Professor, surely a sensible person like yourself can call him by his name? All this \\'You- Know-Who\\' nonsense -- for eleven years I have been trying to persuade people to call him by his proper name: Voldemort.\"'</li><li>'\"It all gets so confusing if we keep saying \\'You-Know-Who.\\' I have never seen any reason to be frightened of saying Voldemort\\'s name.　　\"'</li><li>'\"But you\\'re different. Everyone knows you\\'re the only one You-Know- oh, all right, Voldemort, was frightened of.\"'</li><li>'\"You flatter me,\"'</li><li>'\"Voldemort had powers I will never have.\"'</li><li>'\"Only because you\\'re too -- well -- noble to use them.\"'</li><li>'\"It\\'s lucky it\\'s dark. I haven\\'t blushed so much since Madam Pomfrey told me she liked my new earmuffs.\"'</li><li>'\"The owls are nothing next to the rumors that are flying around. You know what everyone\\'s saying? About why he\\'s disappeared? About what finally stopped him?\"'</li><li>'\"everyone\"'</li><li>'\"What they\\'re saying,\"'</li><li>'\"is that last night Voldemort turned up in Godric\\'s Hollow. He went to find the Potters. The rumor is that Lily and James Potter are -- are -- that they\\'re -- dead. \"'</li><li>'\"Lily and James... I can\\'t believe it... I didn\\'t want to believe it... Oh, Albus...\"'</li><li>'\"I know... I know...\"'</li><li>'\"That\\'s not all. They\\'re saying he tried to kill the Potter\\'s son, Harry. But -- he couldn\\'t. He couldn\\'t kill that little boy. No one knows why, or how, but they\\'re saying that when he couldn\\'t kill Harry Potter, Voldemort\\'s power somehow broke -- and that\\'s why he\\'s gone.　　Dumbledore nodded glumly.　　\"'</li><li>'\" faltered Professor McGonagall. \"'</li><li>'\"　　\"'</li><li>'\" said Dumbledore. \"'</li><li>'\"　　Professor McGonagall pulled out a lace handkerchief and dabbed at her eyes beneath her spectacles. Dumbledore gave a great sniff as he took a golden watch from his pocket and examined it. It was a very odd watch. It had twelve hands but no numbers; instead, little planets were moving around the edge. It must have made sense to Dumbledore, though, because he put it back in his pocket and said, \"'</li><li>'\"　　\"'</li><li>'\" said Professor McGonagall. \"'</li><li>'\"　　\"'</li><li>'\"　　\"'</li><li>'\" cried Professor McGonagall, jumping to her feet and pointing at number four. \"'</li><li>'\"　　\"'</li><li>'\" said Dumbledore firmly. \"'</li><li>'\"　　\"'</li><li>'\" repeated Professor McGonagall faintly, sitting back down on the wall. \"'</li><li>'\"　　\"'</li><li>'\" said Dumbledore, looking very seriously over the top of his half-moon glasses. \"'</li><li>'\"　　Professor McGonagall opened her mouth, changed her mind, swallowed, and then said, \"'</li><li>'\" She eyed his cloak suddenly as though she thought he might be hiding Harry underneath it.　　\"'</li><li>'\"　　\"'</li><li>'\"　　I would trust Hagrid with my life,\"'</li><li>'\"I\\'m not saying his heart isn\\'t in the right place,\"'</li><li>'\"but you can\\'t pretend he\\'s not careless. He does tend to -- what was that?\"'</li><li>'\"Hagrid,\"'</li><li>'\"At last. And where did you get that motorcycle?\"'</li><li>'\"Borrowed it, Professor Dumbledore, sit,\"'</li><li>'\"Young Sirius Black lent it to me. I\\'ve got him, sir.\"'</li><li>'\"No problems, were there?\"'</li><li>'\"No, sir -- house was almost destroyed, but I got him out all right before the Muggles started swarmin\\' around. He fell asleep as we was flyin\\' over Bristol.\"'</li><li>'\"Is that where -?\"'</li><li>'\"Yes,\"'</li><li>'\"He\\'ll have that scar forever.\"'</li><li>'\"Couldn\\'t you do something about it, Dumbledore?\"'</li><li>'\"Even if I could, I wouldn\\'t. Scars can come in handy. I have one myself above my left knee that is a perfect map of the London Underground. Well -- give him here, Hagrid -- we\\'d better get this over with.\"'</li><li>'\"Could I -- could I say good-bye to him, sir?\"'</li><li>'\"Shhh!\"'</li><li>'\"you\\'ll wake the Muggles!\"'</li><li>'\"S-s-sorry,\"'</li><li>'\"But I c-c-can\\'t stand it -- Lily an\\' James dead -- an\\' poor little Harry off ter live with Muggles -\"'</li><li>'\"Yes, yes, it\\'s all very sad, but get a grip on yourself, Hagrid, or we\\'ll be found,\"'</li><li>'\"Well,\"'</li><li>'\"that\\'s that. We\\'ve no business staying here. We may as well go and join the celebrations.\"'</li><li>'\"Yeah,\"'</li><li>'\"I\\'ll be takin\\' Sirius his bike back. G\\'night, Professor McGonagall -- Professor Dumbledore, sir.\"'</li><li>'\"I shall see you soon, I expect, Professor McGonagall,\"'</li><li>'\"Good luck, Harry,\"'</li></ol>\n",
              "</li>\n",
              "</ol>\n"
            ],
            "text/markdown": "1. 1. '\"Little tyke,\"'\n2. '\"The Potters, that\\'s right, that\\'s what I heard yes, their son, Harry\"'\n3. '\"Sorry,\"'\n4. '\"Don\\'t be sorry, my dear sir, for nothing could upset me today! Rejoice, for You-Know-Who has gone at last! Even Muggles like yourself should be celebrating, this happy, happy day!\"'\n5. '\"Shoo!\"'\n6. '\"Won\\'t!\"'\n7. '\"And finally, bird-watchers everywhere have reported that the nation\\'s owls have been behaving very unusually today. Although owls normally hunt at night and are hardly ever seen in daylight, there have been hundreds of sightings of these birds flying in every direction since sunrise. Experts are unable to explain why the owls have suddenly changed their sleeping pattern.\"'\n8. '\"Most mysterious. And now, over to Jim McGuffin with the weather. Going to be any more showers of owls tonight, Jim?\"'\n9. '\"Well, Ted,\"'\n10. '\"I don\\'t know about that, but it\\'s not only the owls that have been acting oddly today. Viewers as far apart as Kent, Yorkshire, and Dundee have been phoning in to tell me that instead of the rain I promised yesterday, they\\'ve had a downpour of shooting stars! Perhaps people have been celebrating Bonfire Night early -- it\\'s not until next week, folks! But I can promise a wet night tonight.\"'\n11. '\"Er -- Petunia, dear -- you haven\\'t heard from your sister lately, have you?\"'\n12. '\"No,\"'\n13. '\"Why?\"'\n14. '\"Funny stuff on the news,\"'\n15. '\"Owls... shooting stars... and there were a lot of funny-looking people in town today...\"'\n16. '\"So?\"'\n17. '\"Well, I just thought... maybe... it was something to do with... you know... her crowd.\"'\n18. '\"Potter.\"'\n19. '\"Their son -- he\\'d be about Dudley\\'s age now, wouldn\\'t he?\"'\n20. '\"I suppose so,\"'\n21. '\"What\\'s his name again? Howard, isn\\'t it?\"'\n22. '\"Harry. Nasty, common name, if you ask me.\"'\n23. '\"Oh, yes,\"'\n24. '\"Yes, I quite agree.\"'\n25. '\"I should have known.\"'\n26. '\"Fancy seeing you here, Professor McGonagall.\"'\n27. '\"How did you know it was me?\"'\n28. '\"My dear Professor, I \\'ve never seen a cat sit so stiffly.\"'\n29. '\"You\\'d be stiff if you\\'d been sitting on a brick wall all day,\"'\n30. '\"All day? When you could have been celebrating? I must have passed a dozen feasts and parties on my way here.\"'\n31. '\"Oh yes, everyone\\'s celebrating, all right,\"'\n32. '\"You\\'d think they\\'d be a bit more careful, but no -- even the Muggles have noticed something\\'s going on. It was on their news.\"'\n33. '\"I heard it. Flocks of owls... shooting stars.... Well, they\\'re not completely stupid. They were bound to notice something. Shooting stars down in Kent -- I\\'ll bet that was Dedalus Diggle. He never had much sense.\"'\n34. '\"You can\\'t blame them,\"'\n35. '\"We\\'ve had precious little to celebrate for eleven years.\"'\n36. '\"I know that,\"'\n37. '\"But that\\'s no reason to lose our heads. People are being downright careless, out on the streets in broad daylight, not even dressed in Muggle clothes, swapping rumors.\"'\n38. '\"A fine thing it would be if, on the very day YouKnow-Who seems to have disappeared at last, the Muggles found out about us all. I suppose he really has gone, Dumbledore?\"'\n39. '\"It certainly seems so,\"'\n40. '\"We have much to be thankful for. Would you care for a lemon drop?\"'\n41. '\"A what?\"'\n42. '\"A lemon drop. They\\'re a kind of Muggle sweet I\\'m rather fond of\"'\n43. '\"No, thank you,\"'\n44. '\"As I say, even if You-Know-Who has gone -\"'\n45. '\"My dear Professor, surely a sensible person like yourself can call him by his name? All this \\'You- Know-Who\\' nonsense -- for eleven years I have been trying to persuade people to call him by his proper name: Voldemort.\"'\n46. '\"It all gets so confusing if we keep saying \\'You-Know-Who.\\' I have never seen any reason to be frightened of saying Voldemort\\'s name.　　\"'\n47. '\"But you\\'re different. Everyone knows you\\'re the only one You-Know- oh, all right, Voldemort, was frightened of.\"'\n48. '\"You flatter me,\"'\n49. '\"Voldemort had powers I will never have.\"'\n50. '\"Only because you\\'re too -- well -- noble to use them.\"'\n51. '\"It\\'s lucky it\\'s dark. I haven\\'t blushed so much since Madam Pomfrey told me she liked my new earmuffs.\"'\n52. '\"The owls are nothing next to the rumors that are flying around. You know what everyone\\'s saying? About why he\\'s disappeared? About what finally stopped him?\"'\n53. '\"everyone\"'\n54. '\"What they\\'re saying,\"'\n55. '\"is that last night Voldemort turned up in Godric\\'s Hollow. He went to find the Potters. The rumor is that Lily and James Potter are -- are -- that they\\'re -- dead. \"'\n56. '\"Lily and James... I can\\'t believe it... I didn\\'t want to believe it... Oh, Albus...\"'\n57. '\"I know... I know...\"'\n58. '\"That\\'s not all. They\\'re saying he tried to kill the Potter\\'s son, Harry. But -- he couldn\\'t. He couldn\\'t kill that little boy. No one knows why, or how, but they\\'re saying that when he couldn\\'t kill Harry Potter, Voldemort\\'s power somehow broke -- and that\\'s why he\\'s gone.　　Dumbledore nodded glumly.　　\"'\n59. '\" faltered Professor McGonagall. \"'\n60. '\"　　\"'\n61. '\" said Dumbledore. \"'\n62. '\"　　Professor McGonagall pulled out a lace handkerchief and dabbed at her eyes beneath her spectacles. Dumbledore gave a great sniff as he took a golden watch from his pocket and examined it. It was a very odd watch. It had twelve hands but no numbers; instead, little planets were moving around the edge. It must have made sense to Dumbledore, though, because he put it back in his pocket and said, \"'\n63. '\"　　\"'\n64. '\" said Professor McGonagall. \"'\n65. '\"　　\"'\n66. '\"　　\"'\n67. '\" cried Professor McGonagall, jumping to her feet and pointing at number four. \"'\n68. '\"　　\"'\n69. '\" said Dumbledore firmly. \"'\n70. '\"　　\"'\n71. '\" repeated Professor McGonagall faintly, sitting back down on the wall. \"'\n72. '\"　　\"'\n73. '\" said Dumbledore, looking very seriously over the top of his half-moon glasses. \"'\n74. '\"　　Professor McGonagall opened her mouth, changed her mind, swallowed, and then said, \"'\n75. '\" She eyed his cloak suddenly as though she thought he might be hiding Harry underneath it.　　\"'\n76. '\"　　\"'\n77. '\"　　I would trust Hagrid with my life,\"'\n78. '\"I\\'m not saying his heart isn\\'t in the right place,\"'\n79. '\"but you can\\'t pretend he\\'s not careless. He does tend to -- what was that?\"'\n80. '\"Hagrid,\"'\n81. '\"At last. And where did you get that motorcycle?\"'\n82. '\"Borrowed it, Professor Dumbledore, sit,\"'\n83. '\"Young Sirius Black lent it to me. I\\'ve got him, sir.\"'\n84. '\"No problems, were there?\"'\n85. '\"No, sir -- house was almost destroyed, but I got him out all right before the Muggles started swarmin\\' around. He fell asleep as we was flyin\\' over Bristol.\"'\n86. '\"Is that where -?\"'\n87. '\"Yes,\"'\n88. '\"He\\'ll have that scar forever.\"'\n89. '\"Couldn\\'t you do something about it, Dumbledore?\"'\n90. '\"Even if I could, I wouldn\\'t. Scars can come in handy. I have one myself above my left knee that is a perfect map of the London Underground. Well -- give him here, Hagrid -- we\\'d better get this over with.\"'\n91. '\"Could I -- could I say good-bye to him, sir?\"'\n92. '\"Shhh!\"'\n93. '\"you\\'ll wake the Muggles!\"'\n94. '\"S-s-sorry,\"'\n95. '\"But I c-c-can\\'t stand it -- Lily an\\' James dead -- an\\' poor little Harry off ter live with Muggles -\"'\n96. '\"Yes, yes, it\\'s all very sad, but get a grip on yourself, Hagrid, or we\\'ll be found,\"'\n97. '\"Well,\"'\n98. '\"that\\'s that. We\\'ve no business staying here. We may as well go and join the celebrations.\"'\n99. '\"Yeah,\"'\n100. '\"I\\'ll be takin\\' Sirius his bike back. G\\'night, Professor McGonagall -- Professor Dumbledore, sir.\"'\n101. '\"I shall see you soon, I expect, Professor McGonagall,\"'\n102. '\"Good luck, Harry,\"'\n\n\n\n\n\n",
            "text/latex": "\\begin{enumerate}\n\\item \\begin{enumerate*}\n\\item '\"Little tyke,\"'\n\\item '\"The Potters, that\\textbackslash{}'s right, that\\textbackslash{}'s what I heard yes, their son, Harry\"'\n\\item '\"Sorry,\"'\n\\item '\"Don\\textbackslash{}'t be sorry, my dear sir, for nothing could upset me today! Rejoice, for You-Know-Who has gone at last! Even Muggles like yourself should be celebrating, this happy, happy day!\"'\n\\item '\"Shoo!\"'\n\\item '\"Won\\textbackslash{}'t!\"'\n\\item '\"And finally, bird-watchers everywhere have reported that the nation\\textbackslash{}'s owls have been behaving very unusually today. Although owls normally hunt at night and are hardly ever seen in daylight, there have been hundreds of sightings of these birds flying in every direction since sunrise. Experts are unable to explain why the owls have suddenly changed their sleeping pattern.\"'\n\\item '\"Most mysterious. And now, over to Jim McGuffin with the weather. Going to be any more showers of owls tonight, Jim?\"'\n\\item '\"Well, Ted,\"'\n\\item '\"I don\\textbackslash{}'t know about that, but it\\textbackslash{}'s not only the owls that have been acting oddly today. Viewers as far apart as Kent, Yorkshire, and Dundee have been phoning in to tell me that instead of the rain I promised yesterday, they\\textbackslash{}'ve had a downpour of shooting stars! Perhaps people have been celebrating Bonfire Night early -- it\\textbackslash{}'s not until next week, folks! But I can promise a wet night tonight.\"'\n\\item '\"Er -- Petunia, dear -- you haven\\textbackslash{}'t heard from your sister lately, have you?\"'\n\\item '\"No,\"'\n\\item '\"Why?\"'\n\\item '\"Funny stuff on the news,\"'\n\\item '\"Owls... shooting stars... and there were a lot of funny-looking people in town today...\"'\n\\item '\"So?\"'\n\\item '\"Well, I just thought... maybe... it was something to do with... you know... her crowd.\"'\n\\item '\"Potter.\"'\n\\item '\"Their son -- he\\textbackslash{}'d be about Dudley\\textbackslash{}'s age now, wouldn\\textbackslash{}'t he?\"'\n\\item '\"I suppose so,\"'\n\\item '\"What\\textbackslash{}'s his name again? Howard, isn\\textbackslash{}'t it?\"'\n\\item '\"Harry. Nasty, common name, if you ask me.\"'\n\\item '\"Oh, yes,\"'\n\\item '\"Yes, I quite agree.\"'\n\\item '\"I should have known.\"'\n\\item '\"Fancy seeing you here, Professor McGonagall.\"'\n\\item '\"How did you know it was me?\"'\n\\item '\"My dear Professor, I \\textbackslash{}'ve never seen a cat sit so stiffly.\"'\n\\item '\"You\\textbackslash{}'d be stiff if you\\textbackslash{}'d been sitting on a brick wall all day,\"'\n\\item '\"All day? When you could have been celebrating? I must have passed a dozen feasts and parties on my way here.\"'\n\\item '\"Oh yes, everyone\\textbackslash{}'s celebrating, all right,\"'\n\\item '\"You\\textbackslash{}'d think they\\textbackslash{}'d be a bit more careful, but no -- even the Muggles have noticed something\\textbackslash{}'s going on. It was on their news.\"'\n\\item '\"I heard it. Flocks of owls... shooting stars.... Well, they\\textbackslash{}'re not completely stupid. They were bound to notice something. Shooting stars down in Kent -- I\\textbackslash{}'ll bet that was Dedalus Diggle. He never had much sense.\"'\n\\item '\"You can\\textbackslash{}'t blame them,\"'\n\\item '\"We\\textbackslash{}'ve had precious little to celebrate for eleven years.\"'\n\\item '\"I know that,\"'\n\\item '\"But that\\textbackslash{}'s no reason to lose our heads. People are being downright careless, out on the streets in broad daylight, not even dressed in Muggle clothes, swapping rumors.\"'\n\\item '\"A fine thing it would be if, on the very day YouKnow-Who seems to have disappeared at last, the Muggles found out about us all. I suppose he really has gone, Dumbledore?\"'\n\\item '\"It certainly seems so,\"'\n\\item '\"We have much to be thankful for. Would you care for a lemon drop?\"'\n\\item '\"A what?\"'\n\\item '\"A lemon drop. They\\textbackslash{}'re a kind of Muggle sweet I\\textbackslash{}'m rather fond of\"'\n\\item '\"No, thank you,\"'\n\\item '\"As I say, even if You-Know-Who has gone -\"'\n\\item '\"My dear Professor, surely a sensible person like yourself can call him by his name? All this \\textbackslash{}'You- Know-Who\\textbackslash{}' nonsense -- for eleven years I have been trying to persuade people to call him by his proper name: Voldemort.\"'\n\\item '\"It all gets so confusing if we keep saying \\textbackslash{}'You-Know-Who.\\textbackslash{}' I have never seen any reason to be frightened of saying Voldemort\\textbackslash{}'s name.　　\"'\n\\item '\"But you\\textbackslash{}'re different. Everyone knows you\\textbackslash{}'re the only one You-Know- oh, all right, Voldemort, was frightened of.\"'\n\\item '\"You flatter me,\"'\n\\item '\"Voldemort had powers I will never have.\"'\n\\item '\"Only because you\\textbackslash{}'re too -- well -- noble to use them.\"'\n\\item '\"It\\textbackslash{}'s lucky it\\textbackslash{}'s dark. I haven\\textbackslash{}'t blushed so much since Madam Pomfrey told me she liked my new earmuffs.\"'\n\\item '\"The owls are nothing next to the rumors that are flying around. You know what everyone\\textbackslash{}'s saying? About why he\\textbackslash{}'s disappeared? About what finally stopped him?\"'\n\\item '\"everyone\"'\n\\item '\"What they\\textbackslash{}'re saying,\"'\n\\item '\"is that last night Voldemort turned up in Godric\\textbackslash{}'s Hollow. He went to find the Potters. The rumor is that Lily and James Potter are -- are -- that they\\textbackslash{}'re -- dead. \"'\n\\item '\"Lily and James... I can\\textbackslash{}'t believe it... I didn\\textbackslash{}'t want to believe it... Oh, Albus...\"'\n\\item '\"I know... I know...\"'\n\\item '\"That\\textbackslash{}'s not all. They\\textbackslash{}'re saying he tried to kill the Potter\\textbackslash{}'s son, Harry. But -- he couldn\\textbackslash{}'t. He couldn\\textbackslash{}'t kill that little boy. No one knows why, or how, but they\\textbackslash{}'re saying that when he couldn\\textbackslash{}'t kill Harry Potter, Voldemort\\textbackslash{}'s power somehow broke -- and that\\textbackslash{}'s why he\\textbackslash{}'s gone.　　Dumbledore nodded glumly.　　\"'\n\\item '\" faltered Professor McGonagall. \"'\n\\item '\"　　\"'\n\\item '\" said Dumbledore. \"'\n\\item '\"　　Professor McGonagall pulled out a lace handkerchief and dabbed at her eyes beneath her spectacles. Dumbledore gave a great sniff as he took a golden watch from his pocket and examined it. It was a very odd watch. It had twelve hands but no numbers; instead, little planets were moving around the edge. It must have made sense to Dumbledore, though, because he put it back in his pocket and said, \"'\n\\item '\"　　\"'\n\\item '\" said Professor McGonagall. \"'\n\\item '\"　　\"'\n\\item '\"　　\"'\n\\item '\" cried Professor McGonagall, jumping to her feet and pointing at number four. \"'\n\\item '\"　　\"'\n\\item '\" said Dumbledore firmly. \"'\n\\item '\"　　\"'\n\\item '\" repeated Professor McGonagall faintly, sitting back down on the wall. \"'\n\\item '\"　　\"'\n\\item '\" said Dumbledore, looking very seriously over the top of his half-moon glasses. \"'\n\\item '\"　　Professor McGonagall opened her mouth, changed her mind, swallowed, and then said, \"'\n\\item '\" She eyed his cloak suddenly as though she thought he might be hiding Harry underneath it.　　\"'\n\\item '\"　　\"'\n\\item '\"　　I would trust Hagrid with my life,\"'\n\\item '\"I\\textbackslash{}'m not saying his heart isn\\textbackslash{}'t in the right place,\"'\n\\item '\"but you can\\textbackslash{}'t pretend he\\textbackslash{}'s not careless. He does tend to -- what was that?\"'\n\\item '\"Hagrid,\"'\n\\item '\"At last. And where did you get that motorcycle?\"'\n\\item '\"Borrowed it, Professor Dumbledore, sit,\"'\n\\item '\"Young Sirius Black lent it to me. I\\textbackslash{}'ve got him, sir.\"'\n\\item '\"No problems, were there?\"'\n\\item '\"No, sir -- house was almost destroyed, but I got him out all right before the Muggles started swarmin\\textbackslash{}' around. He fell asleep as we was flyin\\textbackslash{}' over Bristol.\"'\n\\item '\"Is that where -?\"'\n\\item '\"Yes,\"'\n\\item '\"He\\textbackslash{}'ll have that scar forever.\"'\n\\item '\"Couldn\\textbackslash{}'t you do something about it, Dumbledore?\"'\n\\item '\"Even if I could, I wouldn\\textbackslash{}'t. Scars can come in handy. I have one myself above my left knee that is a perfect map of the London Underground. Well -- give him here, Hagrid -- we\\textbackslash{}'d better get this over with.\"'\n\\item '\"Could I -- could I say good-bye to him, sir?\"'\n\\item '\"Shhh!\"'\n\\item '\"you\\textbackslash{}'ll wake the Muggles!\"'\n\\item '\"S-s-sorry,\"'\n\\item '\"But I c-c-can\\textbackslash{}'t stand it -- Lily an\\textbackslash{}' James dead -- an\\textbackslash{}' poor little Harry off ter live with Muggles -\"'\n\\item '\"Yes, yes, it\\textbackslash{}'s all very sad, but get a grip on yourself, Hagrid, or we\\textbackslash{}'ll be found,\"'\n\\item '\"Well,\"'\n\\item '\"that\\textbackslash{}'s that. We\\textbackslash{}'ve no business staying here. We may as well go and join the celebrations.\"'\n\\item '\"Yeah,\"'\n\\item '\"I\\textbackslash{}'ll be takin\\textbackslash{}' Sirius his bike back. G\\textbackslash{}'night, Professor McGonagall -- Professor Dumbledore, sir.\"'\n\\item '\"I shall see you soon, I expect, Professor McGonagall,\"'\n\\item '\"Good luck, Harry,\"'\n\\end{enumerate*}\n\n\\end{enumerate}\n",
            "text/plain": [
              "[[1]]\n",
              "  [1] \"\\\"Little tyke,\\\"\"                                                                                                                                                                                                                                                                                                                                                                                                    \n",
              "  [2] \"\\\"The Potters, that's right, that's what I heard yes, their son, Harry\\\"\"                                                                                                                                                                                                                                                                                                                                            \n",
              "  [3] \"\\\"Sorry,\\\"\"                                                                                                                                                                                                                                                                                                                                                                                                          \n",
              "  [4] \"\\\"Don't be sorry, my dear sir, for nothing could upset me today! Rejoice, for You-Know-Who has gone at last! Even Muggles like yourself should be celebrating, this happy, happy day!\\\"\"                                                                                                                                                                                                                             \n",
              "  [5] \"\\\"Shoo!\\\"\"                                                                                                                                                                                                                                                                                                                                                                                                           \n",
              "  [6] \"\\\"Won't!\\\"\"                                                                                                                                                                                                                                                                                                                                                                                                          \n",
              "  [7] \"\\\"And finally, bird-watchers everywhere have reported that the nation's owls have been behaving very unusually today. Although owls normally hunt at night and are hardly ever seen in daylight, there have been hundreds of sightings of these birds flying in every direction since sunrise. Experts are unable to explain why the owls have suddenly changed their sleeping pattern.\\\"\"                           \n",
              "  [8] \"\\\"Most mysterious. And now, over to Jim McGuffin with the weather. Going to be any more showers of owls tonight, Jim?\\\"\"                                                                                                                                                                                                                                                                                             \n",
              "  [9] \"\\\"Well, Ted,\\\"\"                                                                                                                                                                                                                                                                                                                                                                                                      \n",
              " [10] \"\\\"I don't know about that, but it's not only the owls that have been acting oddly today. Viewers as far apart as Kent, Yorkshire, and Dundee have been phoning in to tell me that instead of the rain I promised yesterday, they've had a downpour of shooting stars! Perhaps people have been celebrating Bonfire Night early -- it's not until next week, folks! But I can promise a wet night tonight.\\\"\"         \n",
              " [11] \"\\\"Er -- Petunia, dear -- you haven't heard from your sister lately, have you?\\\"\"                                                                                                                                                                                                                                                                                                                                     \n",
              " [12] \"\\\"No,\\\"\"                                                                                                                                                                                                                                                                                                                                                                                                             \n",
              " [13] \"\\\"Why?\\\"\"                                                                                                                                                                                                                                                                                                                                                                                                            \n",
              " [14] \"\\\"Funny stuff on the news,\\\"\"                                                                                                                                                                                                                                                                                                                                                                                        \n",
              " [15] \"\\\"Owls... shooting stars... and there were a lot of funny-looking people in town today...\\\"\"                                                                                                                                                                                                                                                                                                                         \n",
              " [16] \"\\\"So?\\\"\"                                                                                                                                                                                                                                                                                                                                                                                                             \n",
              " [17] \"\\\"Well, I just thought... maybe... it was something to do with... you know... her crowd.\\\"\"                                                                                                                                                                                                                                                                                                                          \n",
              " [18] \"\\\"Potter.\\\"\"                                                                                                                                                                                                                                                                                                                                                                                                         \n",
              " [19] \"\\\"Their son -- he'd be about Dudley's age now, wouldn't he?\\\"\"                                                                                                                                                                                                                                                                                                                                                       \n",
              " [20] \"\\\"I suppose so,\\\"\"                                                                                                                                                                                                                                                                                                                                                                                                   \n",
              " [21] \"\\\"What's his name again? Howard, isn't it?\\\"\"                                                                                                                                                                                                                                                                                                                                                                        \n",
              " [22] \"\\\"Harry. Nasty, common name, if you ask me.\\\"\"                                                                                                                                                                                                                                                                                                                                                                       \n",
              " [23] \"\\\"Oh, yes,\\\"\"                                                                                                                                                                                                                                                                                                                                                                                                        \n",
              " [24] \"\\\"Yes, I quite agree.\\\"\"                                                                                                                                                                                                                                                                                                                                                                                             \n",
              " [25] \"\\\"I should have known.\\\"\"                                                                                                                                                                                                                                                                                                                                                                                            \n",
              " [26] \"\\\"Fancy seeing you here, Professor McGonagall.\\\"\"                                                                                                                                                                                                                                                                                                                                                                    \n",
              " [27] \"\\\"How did you know it was me?\\\"\"                                                                                                                                                                                                                                                                                                                                                                                     \n",
              " [28] \"\\\"My dear Professor, I 've never seen a cat sit so stiffly.\\\"\"                                                                                                                                                                                                                                                                                                                                                       \n",
              " [29] \"\\\"You'd be stiff if you'd been sitting on a brick wall all day,\\\"\"                                                                                                                                                                                                                                                                                                                                                   \n",
              " [30] \"\\\"All day? When you could have been celebrating? I must have passed a dozen feasts and parties on my way here.\\\"\"                                                                                                                                                                                                                                                                                                    \n",
              " [31] \"\\\"Oh yes, everyone's celebrating, all right,\\\"\"                                                                                                                                                                                                                                                                                                                                                                      \n",
              " [32] \"\\\"You'd think they'd be a bit more careful, but no -- even the Muggles have noticed something's going on. It was on their news.\\\"\"                                                                                                                                                                                                                                                                                   \n",
              " [33] \"\\\"I heard it. Flocks of owls... shooting stars.... Well, they're not completely stupid. They were bound to notice something. Shooting stars down in Kent -- I'll bet that was Dedalus Diggle. He never had much sense.\\\"\"                                                                                                                                                                                            \n",
              " [34] \"\\\"You can't blame them,\\\"\"                                                                                                                                                                                                                                                                                                                                                                                           \n",
              " [35] \"\\\"We've had precious little to celebrate for eleven years.\\\"\"                                                                                                                                                                                                                                                                                                                                                        \n",
              " [36] \"\\\"I know that,\\\"\"                                                                                                                                                                                                                                                                                                                                                                                                    \n",
              " [37] \"\\\"But that's no reason to lose our heads. People are being downright careless, out on the streets in broad daylight, not even dressed in Muggle clothes, swapping rumors.\\\"\"                                                                                                                                                                                                                                         \n",
              " [38] \"\\\"A fine thing it would be if, on the very day YouKnow-Who seems to have disappeared at last, the Muggles found out about us all. I suppose he really has gone, Dumbledore?\\\"\"                                                                                                                                                                                                                                       \n",
              " [39] \"\\\"It certainly seems so,\\\"\"                                                                                                                                                                                                                                                                                                                                                                                          \n",
              " [40] \"\\\"We have much to be thankful for. Would you care for a lemon drop?\\\"\"                                                                                                                                                                                                                                                                                                                                               \n",
              " [41] \"\\\"A what?\\\"\"                                                                                                                                                                                                                                                                                                                                                                                                         \n",
              " [42] \"\\\"A lemon drop. They're a kind of Muggle sweet I'm rather fond of\\\"\"                                                                                                                                                                                                                                                                                                                                                 \n",
              " [43] \"\\\"No, thank you,\\\"\"                                                                                                                                                                                                                                                                                                                                                                                                  \n",
              " [44] \"\\\"As I say, even if You-Know-Who has gone -\\\"\"                                                                                                                                                                                                                                                                                                                                                                       \n",
              " [45] \"\\\"My dear Professor, surely a sensible person like yourself can call him by his name? All this 'You- Know-Who' nonsense -- for eleven years I have been trying to persuade people to call him by his proper name: Voldemort.\\\"\"                                                                                                                                                                                      \n",
              " [46] \"\\\"It all gets so confusing if we keep saying 'You-Know-Who.' I have never seen any reason to be frightened of saying Voldemort's name.　　\\\"\"                                                                                                                                                                                                                                                                        \n",
              " [47] \"\\\"But you're different. Everyone knows you're the only one You-Know- oh, all right, Voldemort, was frightened of.\\\"\"                                                                                                                                                                                                                                                                                                 \n",
              " [48] \"\\\"You flatter me,\\\"\"                                                                                                                                                                                                                                                                                                                                                                                                 \n",
              " [49] \"\\\"Voldemort had powers I will never have.\\\"\"                                                                                                                                                                                                                                                                                                                                                                         \n",
              " [50] \"\\\"Only because you're too -- well -- noble to use them.\\\"\"                                                                                                                                                                                                                                                                                                                                                           \n",
              " [51] \"\\\"It's lucky it's dark. I haven't blushed so much since Madam Pomfrey told me she liked my new earmuffs.\\\"\"                                                                                                                                                                                                                                                                                                          \n",
              " [52] \"\\\"The owls are nothing next to the rumors that are flying around. You know what everyone's saying? About why he's disappeared? About what finally stopped him?\\\"\"                                                                                                                                                                                                                                                    \n",
              " [53] \"\\\"everyone\\\"\"                                                                                                                                                                                                                                                                                                                                                                                                        \n",
              " [54] \"\\\"What they're saying,\\\"\"                                                                                                                                                                                                                                                                                                                                                                                            \n",
              " [55] \"\\\"is that last night Voldemort turned up in Godric's Hollow. He went to find the Potters. The rumor is that Lily and James Potter are -- are -- that they're -- dead. \\\"\"                                                                                                                                                                                                                                            \n",
              " [56] \"\\\"Lily and James... I can't believe it... I didn't want to believe it... Oh, Albus...\\\"\"                                                                                                                                                                                                                                                                                                                             \n",
              " [57] \"\\\"I know... I know...\\\"\"                                                                                                                                                                                                                                                                                                                                                                                             \n",
              " [58] \"\\\"That's not all. They're saying he tried to kill the Potter's son, Harry. But -- he couldn't. He couldn't kill that little boy. No one knows why, or how, but they're saying that when he couldn't kill Harry Potter, Voldemort's power somehow broke -- and that's why he's gone.　　Dumbledore nodded glumly.　　\\\"\"                                                                                              \n",
              " [59] \"\\\" faltered Professor McGonagall. \\\"\"                                                                                                                                                                                                                                                                                                                                                                                \n",
              " [60] \"\\\"　　\\\"\"                                                                                                                                                                                                                                                                                                                                                                                                            \n",
              " [61] \"\\\" said Dumbledore. \\\"\"                                                                                                                                                                                                                                                                                                                                                                                              \n",
              " [62] \"\\\"　　Professor McGonagall pulled out a lace handkerchief and dabbed at her eyes beneath her spectacles. Dumbledore gave a great sniff as he took a golden watch from his pocket and examined it. It was a very odd watch. It had twelve hands but no numbers; instead, little planets were moving around the edge. It must have made sense to Dumbledore, though, because he put it back in his pocket and said, \\\"\"\n",
              " [63] \"\\\"　　\\\"\"                                                                                                                                                                                                                                                                                                                                                                                                            \n",
              " [64] \"\\\" said Professor McGonagall. \\\"\"                                                                                                                                                                                                                                                                                                                                                                                    \n",
              " [65] \"\\\"　　\\\"\"                                                                                                                                                                                                                                                                                                                                                                                                            \n",
              " [66] \"\\\"　　\\\"\"                                                                                                                                                                                                                                                                                                                                                                                                            \n",
              " [67] \"\\\" cried Professor McGonagall, jumping to her feet and pointing at number four. \\\"\"                                                                                                                                                                                                                                                                                                                                  \n",
              " [68] \"\\\"　　\\\"\"                                                                                                                                                                                                                                                                                                                                                                                                            \n",
              " [69] \"\\\" said Dumbledore firmly. \\\"\"                                                                                                                                                                                                                                                                                                                                                                                       \n",
              " [70] \"\\\"　　\\\"\"                                                                                                                                                                                                                                                                                                                                                                                                            \n",
              " [71] \"\\\" repeated Professor McGonagall faintly, sitting back down on the wall. \\\"\"                                                                                                                                                                                                                                                                                                                                         \n",
              " [72] \"\\\"　　\\\"\"                                                                                                                                                                                                                                                                                                                                                                                                            \n",
              " [73] \"\\\" said Dumbledore, looking very seriously over the top of his half-moon glasses. \\\"\"                                                                                                                                                                                                                                                                                                                                \n",
              " [74] \"\\\"　　Professor McGonagall opened her mouth, changed her mind, swallowed, and then said, \\\"\"                                                                                                                                                                                                                                                                                                                         \n",
              " [75] \"\\\" She eyed his cloak suddenly as though she thought he might be hiding Harry underneath it.　　\\\"\"                                                                                                                                                                                                                                                                                                                  \n",
              " [76] \"\\\"　　\\\"\"                                                                                                                                                                                                                                                                                                                                                                                                            \n",
              " [77] \"\\\"　　I would trust Hagrid with my life,\\\"\"                                                                                                                                                                                                                                                                                                                                                                          \n",
              " [78] \"\\\"I'm not saying his heart isn't in the right place,\\\"\"                                                                                                                                                                                                                                                                                                                                                              \n",
              " [79] \"\\\"but you can't pretend he's not careless. He does tend to -- what was that?\\\"\"                                                                                                                                                                                                                                                                                                                                      \n",
              " [80] \"\\\"Hagrid,\\\"\"                                                                                                                                                                                                                                                                                                                                                                                                         \n",
              " [81] \"\\\"At last. And where did you get that motorcycle?\\\"\"                                                                                                                                                                                                                                                                                                                                                                 \n",
              " [82] \"\\\"Borrowed it, Professor Dumbledore, sit,\\\"\"                                                                                                                                                                                                                                                                                                                                                                         \n",
              " [83] \"\\\"Young Sirius Black lent it to me. I've got him, sir.\\\"\"                                                                                                                                                                                                                                                                                                                                                            \n",
              " [84] \"\\\"No problems, were there?\\\"\"                                                                                                                                                                                                                                                                                                                                                                                        \n",
              " [85] \"\\\"No, sir -- house was almost destroyed, but I got him out all right before the Muggles started swarmin' around. He fell asleep as we was flyin' over Bristol.\\\"\"                                                                                                                                                                                                                                                    \n",
              " [86] \"\\\"Is that where -?\\\"\"                                                                                                                                                                                                                                                                                                                                                                                                \n",
              " [87] \"\\\"Yes,\\\"\"                                                                                                                                                                                                                                                                                                                                                                                                            \n",
              " [88] \"\\\"He'll have that scar forever.\\\"\"                                                                                                                                                                                                                                                                                                                                                                                   \n",
              " [89] \"\\\"Couldn't you do something about it, Dumbledore?\\\"\"                                                                                                                                                                                                                                                                                                                                                                 \n",
              " [90] \"\\\"Even if I could, I wouldn't. Scars can come in handy. I have one myself above my left knee that is a perfect map of the London Underground. Well -- give him here, Hagrid -- we'd better get this over with.\\\"\"                                                                                                                                                                                                    \n",
              " [91] \"\\\"Could I -- could I say good-bye to him, sir?\\\"\"                                                                                                                                                                                                                                                                                                                                                                    \n",
              " [92] \"\\\"Shhh!\\\"\"                                                                                                                                                                                                                                                                                                                                                                                                           \n",
              " [93] \"\\\"you'll wake the Muggles!\\\"\"                                                                                                                                                                                                                                                                                                                                                                                        \n",
              " [94] \"\\\"S-s-sorry,\\\"\"                                                                                                                                                                                                                                                                                                                                                                                                      \n",
              " [95] \"\\\"But I c-c-can't stand it -- Lily an' James dead -- an' poor little Harry off ter live with Muggles -\\\"\"                                                                                                                                                                                                                                                                                                            \n",
              " [96] \"\\\"Yes, yes, it's all very sad, but get a grip on yourself, Hagrid, or we'll be found,\\\"\"                                                                                                                                                                                                                                                                                                                             \n",
              " [97] \"\\\"Well,\\\"\"                                                                                                                                                                                                                                                                                                                                                                                                           \n",
              " [98] \"\\\"that's that. We've no business staying here. We may as well go and join the celebrations.\\\"\"                                                                                                                                                                                                                                                                                                                       \n",
              " [99] \"\\\"Yeah,\\\"\"                                                                                                                                                                                                                                                                                                                                                                                                           \n",
              "[100] \"\\\"I'll be takin' Sirius his bike back. G'night, Professor McGonagall -- Professor Dumbledore, sir.\\\"\"                                                                                                                                                                                                                                                                                                                \n",
              "[101] \"\\\"I shall see you soon, I expect, Professor McGonagall,\\\"\"                                                                                                                                                                                                                                                                                                                                                           \n",
              "[102] \"\\\"Good luck, Harry,\\\"\"                                                                                                                                                                                                                                                                                                                                                                                               \n"
            ]
          },
          "metadata": {}
        }
      ],
      "source": [
        "# number of quotes\n",
        "str_count(ch1,'\\\"[^\"]+\\\"')\n",
        "str_extract_all(ch1,'\\\"[^\"]+\\\"')"
      ]
    },
    {
      "cell_type": "markdown",
      "metadata": {
        "id": "3y0LRi3DCDzr"
      },
      "source": [
        "## Backreferences\n",
        "Parentheses define groups that can be referred to later in the match as `\\1`, `\\2` etc. This is called a backreference. For example:\n",
        "\n",
        "    (.)\\1\n",
        "\n",
        "will match the same character repeated twice in a row:"
      ]
    },
    {
      "cell_type": "code",
      "execution_count": null,
      "metadata": {
        "scrolled": true,
        "id": "0Qbu98hECDzr",
        "outputId": "a68d2722-6b2f-412e-d338-2a1c3896a2bf"
      },
      "outputs": [
        {
          "data": {
            "text/plain": [
              "\u001b[90m[1] │\u001b[39m \u001b[36m<ee>\u001b[39ml"
            ]
          },
          "metadata": {},
          "output_type": "display_data"
        }
      ],
      "source": [
        "\"eel\"  %>% str_view(\"(.)\\\\1\", match = T)"
      ]
    },
    {
      "cell_type": "markdown",
      "metadata": {
        "id": "7ktzX3SJCDzr"
      },
      "source": [
        "## 🤔 Quiz\n",
        "\n",
        "What does this regular expression match?:\n",
        "\n",
        "```\n",
        "(..).*\\\\1\n",
        "```\n",
        "\n",
        "\n",
        "<ol style=\"list-style-type: upper-alpha;\">\n",
        "    <li>Any word that starts and ends with the same character, e.g. `alpha`</li>\n",
        "    <li>Any word that starts and ends with the same two characters, e.g. `church`</li>\n",
        "    <li>Any word that ends with two characters that are found earlier in the string, e.g. `therefore`</li>\n",
        "    <li>I hate regular expressions.</li>\n",
        "</ol>"
      ]
    },
    {
      "cell_type": "code",
      "execution_count": 96,
      "metadata": {
        "id": "XJXUjEmnCDzr",
        "colab": {
          "base_uri": "https://localhost:8080/",
          "height": 71
        },
        "outputId": "a37fa67d-00bc-474c-f9a4-80a917dee392"
      },
      "outputs": [
        {
          "output_type": "display_data",
          "data": {
            "text/plain": [
              "\u001b[90m[1] │\u001b[39m \u001b[36m<alpha>\u001b[39m"
            ]
          },
          "metadata": {}
        },
        {
          "output_type": "display_data",
          "data": {
            "text/plain": [
              "\u001b[90m[1] │\u001b[39m \u001b[36m<church>\u001b[39m"
            ]
          },
          "metadata": {}
        },
        {
          "output_type": "display_data",
          "data": {
            "text/plain": [
              "\u001b[90m[1] │\u001b[39m \u001b[36m<therefore>\u001b[39m"
            ]
          },
          "metadata": {}
        }
      ],
      "source": [
        "# what's it match?\n",
        "str_view('alpha','(.).+\\\\1') # 1\n",
        "str_view('church','(..).+\\\\1') # 2\n",
        "str_view('therefore','.+(..).+\\\\1') # 3 "
      ]
    },
    {
      "cell_type": "markdown",
      "metadata": {
        "id": "d4McsJPPCDzs"
      },
      "source": [
        "## Anchors\n",
        "Sometimes we want a match to occur at a particular position in the string. For example, \"all words which start with b\". For this we have the special anchor characters: `^` and `$`. The caret `^` matches the beginning of a string. The `$` matches the end."
      ]
    },
    {
      "cell_type": "code",
      "execution_count": 97,
      "metadata": {
        "id": "tbI5KydvCDzs",
        "outputId": "18ccf1f2-8bf1-4c79-e3fb-9c6e95fe4158",
        "colab": {
          "base_uri": "https://localhost:8080/",
          "height": 53
        }
      },
      "outputs": [
        {
          "output_type": "display_data",
          "data": {
            "text/plain": [
              "\u001b[90m[2] │\u001b[39m \u001b[36m<b>\u001b[39manana"
            ]
          },
          "metadata": {}
        },
        {
          "output_type": "display_data",
          "data": {
            "text/plain": [
              "\u001b[90m[3] │\u001b[39m pea\u001b[36m<r>\u001b[39m"
            ]
          },
          "metadata": {}
        }
      ],
      "source": [
        "x <- c('apple', 'banana', 'pear')\n",
        "str_view(x, '^b')\n",
        "str_view(x, 'r$')"
      ]
    },
    {
      "cell_type": "markdown",
      "metadata": {
        "id": "bN3sSiZTCDzs"
      },
      "source": [
        "## 🤔 Quiz\n",
        "\n",
        "What does this regular expression match?:\n",
        "\n",
        "```\n",
        "^(.).*\\\\1$\n",
        "```\n",
        "\n",
        "\n",
        "<ol style=\"list-style-type: upper-alpha;\">\n",
        "    <li>Any word that starts and ends with the same character, e.g. `alpha`</li>\n",
        "    <li>Any word that starts and ends with the same two characters, e.g. `church`</li>\n",
        "    <li>Any word that ends with a character that is found earlier in the string, e.g. `therefore`</li></li>\n",
        "    <li>I hate regular expressions.</li>\n",
        "</ol>"
      ]
    },
    {
      "cell_type": "code",
      "execution_count": 100,
      "metadata": {
        "id": "I5bho_UWCDzs",
        "colab": {
          "base_uri": "https://localhost:8080/",
          "height": 35
        },
        "outputId": "a6124522-2fd6-4dda-d006-baab256abbe7"
      },
      "outputs": [
        {
          "output_type": "display_data",
          "data": {
            "text/plain": [
              "\u001b[90m[1] │\u001b[39m \u001b[36m<alpha>\u001b[39m"
            ]
          },
          "metadata": {}
        }
      ],
      "source": [
        "# solution\n",
        "str_view('alpha','^(.).*\\\\1$') \n",
        "str_view('church','^(.).*\\\\1$') \n",
        "str_view('therefore','^(.).*\\\\1$') "
      ]
    },
    {
      "cell_type": "code",
      "execution_count": null,
      "metadata": {
        "id": "p9mWJrL_CDzs"
      },
      "outputs": [],
      "source": [
        "### Challenge Question\n",
        "This command loads the text of Hamlet:"
      ]
    },
    {
      "cell_type": "code",
      "execution_count": null,
      "metadata": {
        "id": "Z3DrUgI7CDzs",
        "outputId": "9cdfd47f-cce3-446d-c2d5-385d1ddf35a9"
      },
      "outputs": [
        {
          "name": "stdout",
          "output_type": "stream",
          "text": [
            "\n",
            "1604\n",
            "\n",
            "\n",
            "THE TRAGEDY OF HAMLET, PRINCE OF DENMARK\n",
            "\n",
            "\n",
            "by William Shakespeare\n",
            "\n",
            "\n",
            "\n",
            "Dramatis Personae\n",
            "\n",
            "  Claudius, King of Denmark.\n",
            "  Marcellus, Officer.\n"
          ]
        }
      ],
      "source": [
        "hamlet <- readLines(url(\"http://erdani.com/tdpl/hamlet.txt\"))\n",
        "writeLines(hamlet[1:15])"
      ]
    },
    {
      "cell_type": "code",
      "execution_count": null,
      "metadata": {
        "id": "TmqI8EqqCDzs"
      },
      "outputs": [],
      "source": [
        "### Exercise\n",
        "\n",
        "Shakespeare used a lot of [poetic contractions](https://en.wikipedia.org/wiki/Poetic_contraction): `'tis`, `'twas`, `o'er`, etc.\n",
        "\n",
        "**Beginner** Write a regexp that matches all such contractions\n",
        "\n",
        "**Advanced** Print a frequency table of the top 10 most common."
      ]
    },
    {
      "cell_type": "code",
      "execution_count": null,
      "metadata": {
        "id": "iokgP-zWCDzs",
        "outputId": "b969549c-d80e-41f0-8ff8-63d6e064b82d"
      },
      "outputs": [
        {
          "name": "stdout",
          "output_type": "stream",
          "text": [
            "   [1] \"hamlet's\"       \"who's\"          \"'tis\"           \"'tis\"          \n",
            "   [5] \"reliev'd\"       \"appear'd\"       \"'tis\"           \"'twill\"        \n",
            "   [9] \"that's\"         \"that's\"         \"usurp'st\"       \"'tis\"          \n",
            "  [13] \"on't\"           \"frown'd\"        \"'tis\"           \"is't\"          \n",
            "  [17] \"appear'd\"       \"prick'd\"        \"dar'd\"          \"esteem'd\"      \n",
            "  [21] \"seal'd\"         \"seiz'd\"         \"return'd\"       \"design'd\"      \n",
            "  [25] \"shark'd\"        \"in't\"           \"e'en\"           \"mind's\"        \n",
            "  [29] \"neptune's\"      \"i'll\"           \"country's\"      \"'tis\"          \n",
            "  [33] \"'tis\"           \"'tis\"           \"'gainst\"        \"saviour's\"     \n",
            "  [37] \"hallow'd\"       \"o'er\"           \"let's\"          \"do't\"          \n",
            "  [41] \"brother's\"      \"'twere\"         \"barr'd\"         \"brother's\"     \n",
            "  [45] \"fail'd\"         \"nephew's\"       \"what's\"         \"is't\"          \n",
            "  [49] \"father's\"       \"seal'd\"         \"know'st\"        \"'tis\"          \n",
            "  [53] \"'seems\"         \"'tis\"           \"forc'd\"         \"'that\"         \n",
            "  [57] \"'tis\"           \"'tis\"           \"unschool'd\"     \"'tis\"          \n",
            "  [61] \"'this\"          \"'tis\"           \"unforc'd\"       \"king's\"        \n",
            "  [65] \"fix'd\"          \"'gainst\"        \"on't\"           \"'tis\"          \n",
            "  [69] \"on't\"           \"father's\"       \"mourn'd\"        \"father's\"      \n",
            "  [73] \"i'll\"           \"we'll\"          \"father's\"       \"mother's\"      \n",
            "  [77] \"bak'd\"          \"mind's\"         \"god's\"          \"encount'red\"   \n",
            "  [81] \"walk'd\"         \"oppress'd\"      \"truncheon's\"    \"distill'd\"     \n",
            "  [85] \"deliver'd\"      \"watch'd\"        \"vanish'd\"       \"'tis\"          \n",
            "  [89] \"honour'd\"       \"'tis\"           \"arm'd\"          \"arm'd\"         \n",
            "  [93] \"look'd\"         \"fix'd\"          \"amaz'd\"         \"stay'd\"        \n",
            "  [97] \"saw't\"          \"silver'd\"       \"'twill\"         \"warr'nt\"       \n",
            " [101] \"father's\"       \"i'll\"           \"conceal'd\"      \"'twixt\"        \n",
            " [105] \"i'll\"           \"father's\"       \"o'erwhelm\"      \"men's\"         \n",
            " [109] \"embark'd\"       \"weigh'd\"        \"circumscrib'd\"  \"unmast'red\"    \n",
            " [113] \"disclos'd\"      \"puff'd\"         \"stay'd\"         \"unproportion'd\"\n",
            " [117] \"hatch'd\"        \"unfledg'd\"      \"bear't\"         \"man's\"         \n",
            " [121] \"express'd\"      \"'tis\"           \"lock'd\"         \"is't\"          \n",
            " [125] \"'tis\"           \"'tis\"           \"ta'en\"          \"you'll\"        \n",
            " [129] \"importun'd\"     \"to't\"           \"swagg'ring\"     \"is't\"          \n",
            " [133] \"honour'd\"       \"traduc'd\"       \"tax'd\"          \"perform'd\"     \n",
            " [137] \"o'ergrowth\"     \"o'erleavens\"    \"nature's\"       \"fortune's\"     \n",
            " [141] \"e'il\"           \"damn'd\"         \"com'st\"         \"i'll\"          \n",
            " [145] \"canoniz'd\"      \"inurn'd\"        \"op'd\"           \"pin's\"         \n",
            " [149] \"i'll\"           \"o'er\"           \"i'll\"           \"rul'd\"         \n",
            " [153] \"lion's\"         \"call'd\"         \"i'll\"           \"i'll\"          \n",
            " [157] \"let's\"          \"'tis\"           \"let's\"          \"i'll\"          \n",
            " [161] \"sulph'rous\"     \"father's\"       \"doom'd\"         \"confin'd\"      \n",
            " [165] \"purg'd\"         \"know't\"         \"'tis\"           \"abus'd\"        \n",
            " [169] \"father's\"       \"mov'd\"          \"link'd\"         \"bark'd\"        \n",
            " [173] \"brother's\"      \"dispatch'd\"     \"unhous'led\"     \"unanel'd\"      \n",
            " [177] \"i'll\"           \"unmix'd\"        \"'adieu\"         \"sworn't\"       \n",
            " [181] \"is't\"           \"you'll\"         \"there's\"        \"he's\"          \n",
            " [185] \"i'll\"           \"there's\"        \"o'ermaster\"     \"'t\"            \n",
            " [189] \"is't\"           \"swear't\"        \"say'st\"         \"we'll\"         \n",
            " [193] \"soe'er\"         \"encumb'red\"     \"'well\"          \"'we\"           \n",
            " [197] \"'if\"            \"'there\"         \"let's\"          \"marvell's\"     \n",
            " [201] \"'twere\"         \"'i\"             \"'and\"           \"'not\"          \n",
            " [205] \"if't\"           \"he's\"           \"that's\"         \"here's\"        \n",
            " [209] \"'twere\"         \"soil'd\"         \"assur'd\"        \"'good\"         \n",
            " [213] \"'friend\"        \"'gentleman\"     \"'a\"             \"'a\"            \n",
            " [217] \"'closes\"        \"'friend\"        \"'closes\"        \"'i\"            \n",
            " [221] \"t'other\"        \"'a\"             \"o'ertook\"       \"in's\"          \n",
            " [225] \"'i\"             \"what's\"         \"unbrac'd\"       \"foul'd\"        \n",
            " [229] \"ungart'red\"     \"o'er\"           \"stay'd\"         \"rais'd\"        \n",
            " [233] \"turn'd\"         \"seem'd\"         \"fear'd\"         \"hamlet's\"      \n",
            " [237] \"father's\"       \"neighbour'd\"    \"open'd\"         \"talk'd\"        \n",
            " [241] \"king's\"         \"return'd\"       \"us'd\"           \"hamlet's\"      \n",
            " [245] \"son's\"          \"father's\"       \"o'erhasty\"      \"nephew's\"      \n",
            " [249] \"appear'd\"       \"'gainst\"        \"look'd\"         \"griev'd\"       \n",
            " [253] \"consider'd\"     \"we'll\"          \"we'll\"          \"is't\"          \n",
            " [257] \"'tis\"           \"'tis\"           \"'tis\"           \"'tis\"          \n",
            " [261] \"'tis\"           \"'to\"            \"soul's\"         \"that's\"        \n",
            " [265] \"'beautified\"    \"'in\"            \"'doubt\"         \"'o\"            \n",
            " [269] \"'thine\"         \"receiv'd\"       \"perceiv'd\"      \"play'd\"        \n",
            " [273] \"look'd\"         \"'lord\"          \"'tis\"           \"'tis\"          \n",
            " [277] \"prov'd\"         \"i'll\"           \"fall'n\"         \"i'll\"          \n",
            " [281] \"pick'd\"         \"that's\"         \"to't\"           \"suff'red\"      \n",
            " [285] \"i'll\"           \"in't\"           \"honour'd\"       \"fortune's\"     \n",
            " [289] \"world's\"        \"denmark's\"      \"'tis\"           \"'tis\"          \n",
            " [293] \"shadow's\"       \"outstretch'd\"   \"we'll\"          \"o'erhanging\"   \n",
            " [297] \"'man\"           \"follow'd\"       \"clapp'd\"        \"'em\"           \n",
            " [301] \"is't\"           \"'sblood\"        \"deceiv'd\"       \"he's\"          \n",
            " [305] \"'one\"           \"'as\"            \"'it\"            \"valanc'd\"      \n",
            " [309] \"com'st\"         \"by'r\"           \"crack'd\"        \"we'll\"         \n",
            " [313] \"e'en\"           \"to't\"           \"we'll\"          \"pleas'd\"       \n",
            " [317] \"'twas\"          \"receiv'd\"       \"call'd\"         \"in't\"          \n",
            " [321] \"lov'd\"          \"'twas\"          \"priam's\"        \"'the\"          \n",
            " [325] \"'tis\"           \"'the\"           \"smear'd\"        \"trick'd\"       \n",
            " [329] \"bak'd\"          \"lord's\"         \"o'ersized\"      \"'anon\"         \n",
            " [333] \"match'd\"        \"seem'd\"         \"mars's\"         \"forg'd\"        \n",
            " [337] \"barber's\"       \"he's\"           \"'but\"           \"'the\"          \n",
            " [341] \"that's\"         \"'mobled\"        \"'run\"           \"threat'ning\"   \n",
            " [345] \"o'erteemed\"     \"steep'd\"        \"'gainst\"        \"fortune's\"     \n",
            " [349] \"pronounc'd\"     \"husband's\"      \"whe'r\"          \"turn'd\"        \n",
            " [353] \"in's\"           \"'tis\"           \"i'll\"           \"bestow'd\"      \n",
            " [357] \"us'd\"           \"god's\"          \"we'll\"          \"'the\"          \n",
            " [361] \"we'll\"          \"ha't\"           \"in't\"           \"i'll\"          \n",
            " [365] \"wann'd\"         \"in's\"           \"what's\"         \"damn'd\"        \n",
            " [369] \"'swounds\"       \"liver'd\"        \"slave's\"        \"murther'd\"     \n",
            " [373] \"upon't\"         \"proclaim'd\"     \"i'll\"           \"i'll\"          \n",
            " [377] \"i'll\"           \"i'll\"           \"play's\"         \"i'll\"          \n",
            " [381] \"o'erraught\"     \"'tis\"           \"beseech'd\"      \"inclin'd\"      \n",
            " [385] \"'twere\"         \"behav'd\"        \"if't\"           \"hamlet's\"      \n",
            " [389] \"'tis\"           \"prov'd\"         \"devotion's\"     \"o'er\"          \n",
            " [393] \"'tis\"           \"harlot's\"       \"plast'ring\"     \"let's\"         \n",
            " [397] \"'tis\"           \"'tis\"           \"wish'd\"         \"there's\"       \n",
            " [401] \"there's\"        \"oppressor's\"    \"man's\"          \"despis'd\"      \n",
            " [405] \"law's\"          \"undiscover'd\"   \"o'er\"           \"rememb'red\"    \n",
            " [409] \"honour'd\"       \"compos'd\"       \"believ'd\"       \"where's\"       \n",
            " [413] \"in's\"           \"i'll\"           \"god's\"          \"i'll\"          \n",
            " [417] \"on't\"           \"o'erthrown\"     \"courtier's\"     \"scholar's\"     \n",
            " [421] \"soldier's\"      \"observ'd\"       \"suck'd\"         \"unmatch'd\"     \n",
            " [425] \"lack'd\"         \"there's\"        \"o'er\"           \"on't\"          \n",
            " [429] \"i'll\"           \"plac'd\"         \"unwatch'd\"      \"pronounc'd\"    \n",
            " [433] \"whipp'd\"        \"o'erdoing\"      \"o'erstep\"       \"'twere\"        \n",
            " [437] \"o'erweigh\"      \"nature's\"       \"reform'd\"       \"that's\"        \n",
            " [441] \"e'en\"           \"e'er\"           \"cop'd\"          \"flatter'd\"     \n",
            " [445] \"suff'ring\"      \"fortune's\"      \"ta'en\"          \"fortune's\"     \n",
            " [449] \"passion's\"      \"heart's\"        \"father's\"       \"vulcan's\"      \n",
            " [453] \"chameleon's\"    \"cramm'd\"        \"play'd\"         \"kill'd\"        \n",
            " [457] \"kill'd\"         \"here's\"         \"ophelia's\"      \"that's\"        \n",
            " [461] \"'s\"             \"'tis\"           \"i'll\"           \"there's\"       \n",
            " [465] \"man's\"          \"by'r\"           \"'for\"           \"sleeper's\"     \n",
            " [469] \"they'll\"        \"you'll\"         \"asham'd\"        \"he'll\"         \n",
            " [473] \"i'll\"           \"'tis\"           \"woman's\"        \"neptune's\"     \n",
            " [477] \"o'er\"           \"women's\"        \"siz'd\"          \"honour'd\"      \n",
            " [481] \"belov'd\"        \"'tis\"           \"'tis\"           \"'tis\"          \n",
            " [485] \"advanc'd\"       \"anchor's\"       \"'tis\"           \"she'll\"        \n",
            " [489] \"in't\"           \"'the\"           \"duke's\"         \"'tis\"          \n",
            " [493] \"gall'd\"         \"hecate's\"       \"for's\"          \"name's\"        \n",
            " [497] \"gonzago's\"      \"o'er\"           \"raz'd\"          \"rhym'd\"        \n",
            " [501] \"i'll\"           \"ghost's\"        \"distemper'd\"    \"mother's\"      \n",
            " [505] \"wit's\"          \"diseas'd\"       \"mother's\"       \"'while\"        \n",
            " [509] \"utt'rance\"      \"'sblood\"        \"play'd\"         \"that's\"        \n",
            " [513] \"'tis\"           \"back'd\"         \"'by\"            \"'tis\"          \n",
            " [517] \"what's\"         \"fix'd\"          \"mortis'd\"       \"adjoin'd\"      \n",
            " [521] \"boist'rous\"     \"he's\"           \"mother's\"       \"i'll\"          \n",
            " [525] \"i'll\"           \"she'll\"         \"'tis\"           \"o'erhear\"      \n",
            " [529] \"i'll\"           \"upon't\"         \"brother's\"      \"brother's\"     \n",
            " [533] \"what's\"         \"pardon'd\"       \"i'll\"           \"'forgive\"      \n",
            " [537] \"possess'd\"      \"pardon'd\"       \"offence's\"      \"'tis\"          \n",
            " [541] \"'tis\"           \"compell'd\"      \"engag'd\"        \"i'll\"          \n",
            " [545] \"do't\"           \"reveng'd\"       \"scann'd\"        \"'tis\"          \n",
            " [549] \"reveng'd\"       \"in't\"           \"damn'd\"         \"queen's\"       \n",
            " [553] \"screen'd\"       \"i'll\"           \"i'll\"           \"what's\"        \n",
            " [557] \"what's\"         \"husband's\"      \"brother's\"      \"i'll\"          \n",
            " [561] \"find'st\"        \"braz'd\"         \"dar'st\"         \"heaven's\"      \n",
            " [565] \"th's\"           \"hyperion's\"     \"mildew'd\"       \"it's\"          \n",
            " [569] \"apoplex'd\"      \"ne'er\"          \"thrall'd\"       \"reserv'd\"      \n",
            " [573] \"was't\"          \"cozen'd\"        \"matron's\"       \"turn'st\"       \n",
            " [577] \"stew'd\"         \"o'er\"           \"he's\"           \"laps'd\"        \n",
            " [581] \"is't\"           \"conjoin'd\"      \"liv'd\"          \"utt'red\"       \n",
            " [585] \"what's\"         \"uncle's\"        \"i'll\"           \"pleas'd\"       \n",
            " [589] \"damn'd\"         \"'twere\"         \"that's\"         \"house's\"       \n",
            " [593] \"assur'd\"        \"'tis\"           \"there's\"        \"seal'd\"        \n",
            " [597] \"fang'd\"         \"'tis\"           \"'t\"             \"'tis\"          \n",
            " [601] \"i'll\"           \"there's\"        \"'tis\"           \"'a\"            \n",
            " [605] \"answer'd\"       \"restrain'd\"     \"kill'd\"         \"o'er\"          \n",
            " [609] \"mother's\"       \"dragg'd\"        \"we'll\"          \"what's\"        \n",
            " [613] \"o'er\"           \"world's\"        \"stow'd\"         \"'tis\"          \n",
            " [617] \"'tis\"           \"king's\"         \"mouth'd\"        \"glean'd\"       \n",
            " [621] \"he's\"           \"lov'd\"          \"'tis\"           \"offender's\"    \n",
            " [625] \"weigh'd\"        \"reliev'd\"       \"befall'n\"       \"bestow'd\"      \n",
            " [629] \"where's\"        \"e'en\"           \"that's\"         \"knew'st\"       \n",
            " [633] \"i'll\"           \"seal'd\"         \"hold'st\"        \"'tis\"          \n",
            " [637] \"howe'er\"        \"ne'er\"          \"promis'd\"       \"do't\"          \n",
            " [641] \"purpos'd\"       \"garrison'd\"     \"will't\"         \"i'll\"          \n",
            " [645] \"unus'd\"         \"quarter'd\"      \"'this\"          \"thing's\"       \n",
            " [649] \"do't\"           \"puff'd\"         \"honour's\"       \"klll'd\"        \n",
            " [653] \"stain'd\"        \"there's\"        \"'twere\"         \"sin's\"         \n",
            " [657] \"baker's\"        \"let's\"          \"valentine's\"    \"donn'd\"        \n",
            " [661] \"clo'es\"         \"dupp'd\"         \"i'll\"           \"on't\"          \n",
            " [665] \"do't\"           \"to't\"           \"'before\"        \"promis'd\"      \n",
            " [669] \"'so\"            \"'a\"             \"father's\"       \"father's\"      \n",
            " [673] \"beggar'd\"       \"murd'ring\"      \"o'erbears\"      \"'choose\"       \n",
            " [677] \"'laertes\"       \"let's\"          \"that's\"         \"there's\"       \n",
            " [681] \"incens'd\"       \"i'll\"           \"i'll\"           \"reveng'd\"      \n",
            " [685] \"i'll\"           \"father's\"       \"is't\"           \"i'll\"          \n",
            " [689] \"rend'ring\"      \"father's\"       \"'let\"           \"is't\"          \n",
            " [693] \"maid's\"         \"man's\"          \"'tis\"           \"barefac'd\"     \n",
            " [697] \"rain'd\"         \"'a\"             \"master's\"       \"nothing's\"     \n",
            " [701] \"there's\"        \"that's\"         \"that's\"         \"there's\"       \n",
            " [705] \"there's\"        \"here's\"         \"there's\"        \"wither'd\"      \n",
            " [709] \"'a\"             \"'mercy\"         \"'twixt\"         \"touch'd\"       \n",
            " [713] \"o'er\"           \"'twere\"         \"call't\"         \"'a\"            \n",
            " [717] \"an't\"           \"there's\"        \"'horatio\"       \"overlook'd\"    \n",
            " [721] \"'he\"            \"do't\"           \"stirr'd\"        \"unsinew'd\"     \n",
            " [725] \"she's\"          \"timber'd\"       \"aim'd\"          \"desp'rate\"     \n",
            " [729] \"lov'd\"          \"receiv'd\"       \"'high\"          \"'hamlet\"       \n",
            " [733] \"'tis\"           \"hamlet's\"       \"'naked\"         \"'alone\"        \n",
            " [737] \"'thus\"          \"rul'd\"          \"o'errule\"       \"return'd\"      \n",
            " [741] \"rul'd\"          \"talk'd\"         \"hamlet's\"       \"serv'd\"        \n",
            " [745] \"in't\"           \"incorps'd\"      \"natur'd\"        \"topp'd\"        \n",
            " [749] \"was't\"          \"'twould\"        \"oppos'd\"        \"o'er\"          \n",
            " [753] \"'would\"         \"'should\"        \"father's\"       \"return'd\"      \n",
            " [757] \"we'll\"          \"do't\"           \"i'll\"           \"scratch'd\"     \n",
            " [761] \"i'll\"           \"let's\"          \"'twere\"         \"assay'd\"       \n",
            " [765] \"we'll\"          \"ha't\"           \"i'll\"           \"prepar'd\"      \n",
            " [769] \"venom'd\"        \"another's\"      \"sister's\"       \"drown'd\"       \n",
            " [773] \"drown'd\"        \"men's\"          \"clamb'ring\"     \"pull'd\"        \n",
            " [777] \"drown'd\"        \"drown'd\"        \"drown'd\"        \"let's\"         \n",
            " [781] \"let's\"          \"drown'd\"        \"'tis\"           \"drown'd\"       \n",
            " [785] \"is't\"           \"crowner's\"      \"an't\"           \"say'st\"        \n",
            " [789] \"count'nance\"    \"gard'ners\"      \"adam's\"         \"'a\"            \n",
            " [793] \"digg'd\"         \"i'll\"           \"to't\"           \"to't\"          \n",
            " [797] \"ask'd\"          \"'a\"             \"'tis\"           \"e'en\"          \n",
            " [801] \"'twere\"         \"cain's\"         \"o'erreaches\"    \"'good\"         \n",
            " [805] \"prais'd\"        \"one's\"          \"e'en\"           \"worm's\"        \n",
            " [809] \"knock'd\"        \"sexton's\"       \"here's\"         \"see't\"         \n",
            " [813] \"'em\"            \"on't\"           \"there's\"        \"in's\"          \n",
            " [817] \"grave's\"        \"in't\"           \"on't\"           \"'tis\"          \n",
            " [821] \"in't\"           \"in't\"           \"in't\"           \"'tis\"          \n",
            " [825] \"'tis\"           \"'twill\"         \"in't\"           \"she's\"         \n",
            " [829] \"to't\"           \"'a\"             \"'a\"             \"'a\"            \n",
            " [833] \"'tis\"           \"'twill\"         \"e'en\"           \"'a\"            \n",
            " [837] \"'a\"             \"tann'd\"         \"'a\"             \"here's\"        \n",
            " [841] \"fellow's\"       \"'a\"             \"pour'd\"         \"yorick's\"      \n",
            " [845] \"king's\"         \"e'en\"           \"kiss'd\"         \"fall'n\"        \n",
            " [849] \"lady's\"         \"what's\"         \"look'd\"         \"e'en\"          \n",
            " [853] \"e'en\"           \"'twere\"         \"turn'd\"         \"winter's\"      \n",
            " [857] \"desp'rate\"      \"'twas\"          \"enlarg'd\"       \"o'ersways\"     \n",
            " [861] \"lodg'd\"         \"allow'd\"        \"minist'ring\"    \"hop'd\"         \n",
            " [865] \"hamlet's\"       \"deck'd\"         \"strew'd\"        \"depriv'd\"      \n",
            " [869] \"o'ertop\"        \"wand'ring\"      \"pray'st\"        \"lov'd\"         \n",
            " [873] \"'swounds\"       \"thou't\"         \"woo't\"          \"woo't\"         \n",
            " [877] \"woo't\"          \"woo't\"          \"woo't\"          \"i'll\"          \n",
            " [881] \"do't\"           \"thou'lt\"        \"i'll\"           \"disclos'd\"     \n",
            " [885] \"lov'd\"          \"night's\"        \"we'll\"          \"prais'd\"       \n",
            " [889] \"there's\"        \"scarf'd\"        \"grop'd\"         \"finger'd\"      \n",
            " [893] \"denmark's\"      \"england's\"      \"is't\"           \"here's\"        \n",
            " [897] \"devis'd\"        \"labour'd\"       \"yeoman's\"       \"'tween\"        \n",
            " [901] \"as's\"           \"allow'd\"        \"seal'd\"         \"father's\"      \n",
            " [905] \"subscrib'd\"     \"gave't\"         \"plac'd\"         \"know'st\"       \n",
            " [909] \"to't\"           \"'tis\"           \"thinks't\"       \"kill'd\"        \n",
            " [913] \"whor'd\"         \"popp'd\"         \"coz'nage\"       \"is't\"          \n",
            " [917] \"is't\"           \"damn'd\"         \"man's\"          \"'one\"          \n",
            " [921] \"i'll\"           \"tow'ring\"       \"'tis\"           \"king's\"        \n",
            " [925] \"'tis\"           \"'tis\"           \"'tis\"           \"'twere\"        \n",
            " [929] \"is't\"           \"do't\"           \"all's\"          \"he's\"          \n",
            " [933] \"what's\"         \"that's\"         \"wager'd\"        \"impon'd\"       \n",
            " [937] \"that's\"         \"impon'd\"        \"e'en\"           \"for's\"         \n",
            " [941] \"suck'd\"         \"fann'd\"         \"king's\"         \"all's\"         \n",
            " [945] \"there's\"        \"'tis\"           \"is't\"           \"hamlet's\"      \n",
            " [949] \"pardon't\"       \"punish'd\"       \"was't\"          \"wrong'd\"       \n",
            " [953] \"he's\"           \"if't\"           \"wrong'd\"        \"hamlet's\"      \n",
            " [957] \"purpos'd\"       \"o'er\"           \"ungor'd\"        \"offer'd\"       \n",
            " [961] \"brother's\"      \"i'll\"           \"better'd\"       \"hamlet's\"      \n",
            " [965] \"denmark's\"      \"'now\"           \"here's\"         \"i'll\"          \n",
            " [969] \"confess't\"      \"he's\"           \"poison'd\"       \"i'll\"          \n",
            " [973] \"think't\"        \"incens'd\"       \"is't\"           \"kill'd\"        \n",
            " [977] \"poison'd\"       \"lock'd\"         \"envenom'd\"      \"turn'd\"        \n",
            " [981] \"mother's\"       \"poison'd\"       \"king's\"         \"envenom'd\"     \n",
            " [985] \"murd'rous\"      \"serv'd\"         \"temper'd\"       \"father's\"      \n",
            " [989] \"liv'st\"         \"here's\"         \"th'art\"         \"i'll\"          \n",
            " [993] \"ha't\"           \"o'ercrows\"      \"fulfill'd\"      \"arriv'd\"       \n",
            " [997] \"forc'd\"         \"fall'n\"         \"perform'd\"      \"men's\"         \n",
            "[1001] \"prov'd\"        \n"
          ]
        }
      ],
      "source": [
        "str_extract_all(\n",
        "        str_to_lower(hamlet), \"[a-z]*'[a-z]+\") %>% unlist %>% \n",
        "    print"
      ]
    },
    {
      "cell_type": "code",
      "execution_count": null,
      "metadata": {
        "id": "wq7XPr8bCDzs"
      },
      "outputs": [],
      "source": [
        "### `str_extract`\n",
        "`str_extract(v, re)` extracts substring matched by `re` from each element of `v`. Another way to think of this is as returning the portion of the string which is highlighted by `str_view`:"
      ]
    },
    {
      "cell_type": "code",
      "execution_count": null,
      "metadata": {
        "id": "W7R_OzxyCDzs"
      },
      "outputs": [],
      "source": [
        "q = 'Research is formalized curiosity. It is poking and prying with a purpose.'\n",
        "# re to match capitalized words\n",
        "# re = NA\n",
        "# str_view(q, re)\n",
        "# str_extract(q, re)"
      ]
    },
    {
      "cell_type": "code",
      "execution_count": null,
      "metadata": {
        "id": "ciKfHf5QCDzs"
      },
      "outputs": [],
      "source": [
        "Analogous to `str_view_all` we have `str_extract_all`:"
      ]
    },
    {
      "cell_type": "code",
      "execution_count": null,
      "metadata": {
        "scrolled": true,
        "id": "Zaz5_nEcCDzs",
        "outputId": "9efb8df0-f764-4346-c13e-e3fb133519be"
      },
      "outputs": [
        {
          "data": {
            "text/html": [
              "<!doctype html>\n",
              "<html>\n",
              "\t<head>\n",
              "\t\t<meta charset=\"utf-8\">\n",
              "\t\t<script src=\"data:application/javascript;base64,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\"></script>\n",
              "<link href=\"data:text/css;charset-utf-8;base64,LnN0cl92aWV3IHVsLCAuc3RyX3ZpZXcgbGkgewogIGxpc3Qtc3R5bGU6IG5vbmU7CiAgcGFkZGluZzogMDsKICBtYXJnaW46IDAuNWVtIDA7CiAgZm9udC1mYW1pbHk6IG1vbm9zcGFjZTsKfQoKLnN0cl92aWV3IC5tYXRjaCB7CiAgYm9yZGVyOiAxcHggc29saWQgI2NjYzsKICBiYWNrZ3JvdW5kLWNvbG9yOiAjZWVlOwp9Cg==\" rel=\"stylesheet\" />\n",
              "<script src=\"data:application/javascript;base64,SFRNTFdpZGdldHMud2lkZ2V0KHsKCiAgbmFtZTogJ3N0cl92aWV3JywKCiAgdHlwZTogJ291dHB1dCcsCgogIGluaXRpYWxpemU6IGZ1bmN0aW9uKGVsLCB3aWR0aCwgaGVpZ2h0KSB7CiAgfSwKCiAgcmVuZGVyVmFsdWU6IGZ1bmN0aW9uKGVsLCB4LCBpbnN0YW5jZSkgewogICAgZWwuaW5uZXJIVE1MID0geC5odG1sOwogIH0sCgogIHJlc2l6ZTogZnVuY3Rpb24oZWwsIHdpZHRoLCBoZWlnaHQsIGluc3RhbmNlKSB7CiAgfQoKfSk7Cg==\"></script>\n",
              "\t<head>\n",
              "\t<body>\n",
              "\t\t<div id=\"htmlwidget-510bd2d2bc4890fe0f51\" style=\"width:960px;height:auto;\" class=\"str_view html-widget\"></div>\n",
              "<script type=\"application/json\" data-for=\"htmlwidget-510bd2d2bc4890fe0f51\">{\"x\":{\"html\":\"<ul>\\n  <li><span class='match'>Research<\\/span> <span class='match'>is<\\/span> <span class='match'>formalized<\\/span> <span class='match'>curiosity<\\/span>. <span class='match'>It<\\/span> <span class='match'>is<\\/span> <span class='match'>poking<\\/span> <span class='match'>and<\\/span> <span class='match'>prying<\\/span> <span class='match'>with<\\/span> <span class='match'>a<\\/span> <span class='match'>purpose<\\/span>.<\\/li>\\n<\\/ul>\"},\"evals\":[],\"jsHooks\":[]}</script>\n",
              "\t</body>\n",
              "</html>\n"
            ],
            "text/plain": [
              "HTML widgets cannot be represented in plain text (need html)"
            ]
          },
          "metadata": {
            "text/html": {
              "isolated": true
            }
          },
          "output_type": "display_data"
        },
        {
          "data": {
            "text/html": [
              "<ol>\n",
              "\t<li><ol class=list-inline>\n",
              "\t<li>'Research'</li>\n",
              "\t<li>'is'</li>\n",
              "\t<li>'formalized'</li>\n",
              "\t<li>'curiosity'</li>\n",
              "\t<li>'It'</li>\n",
              "\t<li>'is'</li>\n",
              "\t<li>'poking'</li>\n",
              "\t<li>'and'</li>\n",
              "\t<li>'prying'</li>\n",
              "\t<li>'with'</li>\n",
              "\t<li>'a'</li>\n",
              "\t<li>'purpose'</li>\n",
              "</ol>\n",
              "</li>\n",
              "</ol>\n"
            ],
            "text/latex": [
              "\\begin{enumerate}\n",
              "\\item \\begin{enumerate*}\n",
              "\\item 'Research'\n",
              "\\item 'is'\n",
              "\\item 'formalized'\n",
              "\\item 'curiosity'\n",
              "\\item 'It'\n",
              "\\item 'is'\n",
              "\\item 'poking'\n",
              "\\item 'and'\n",
              "\\item 'prying'\n",
              "\\item 'with'\n",
              "\\item 'a'\n",
              "\\item 'purpose'\n",
              "\\end{enumerate*}\n",
              "\n",
              "\\end{enumerate}\n"
            ],
            "text/markdown": [
              "1. 1. 'Research'\n",
              "2. 'is'\n",
              "3. 'formalized'\n",
              "4. 'curiosity'\n",
              "5. 'It'\n",
              "6. 'is'\n",
              "7. 'poking'\n",
              "8. 'and'\n",
              "9. 'prying'\n",
              "10. 'with'\n",
              "11. 'a'\n",
              "12. 'purpose'\n",
              "\n",
              "\n",
              "\n",
              "\n",
              "\n"
            ],
            "text/plain": [
              "[[1]]\n",
              " [1] \"Research\"   \"is\"         \"formalized\" \"curiosity\"  \"It\"        \n",
              " [6] \"is\"         \"poking\"     \"and\"        \"prying\"     \"with\"      \n",
              "[11] \"a\"          \"purpose\"   \n"
            ]
          },
          "metadata": {},
          "output_type": "display_data"
        }
      ],
      "source": [
        "str_view_all(q, re)\n",
        "str_extract_all(q, re)"
      ]
    },
    {
      "cell_type": "code",
      "execution_count": null,
      "metadata": {
        "id": "06751MA-CDzs"
      },
      "outputs": [],
      "source": [
        "### `str_match`\n",
        "`str_match(v, re)` will create a matrix out of the grouped matches in `re`. The first column has the whole match, and additional columns are added for each character group. If the pattern does not match, you will get `NA`s."
      ]
    },
    {
      "cell_type": "code",
      "execution_count": null,
      "metadata": {
        "id": "i94nSbxSCDzs",
        "outputId": "231e5681-6295-4b73-c0d2-b5217efd832d"
      },
      "outputs": [
        {
          "data": {
            "text/html": [
              "<table>\n",
              "<tbody>\n",
              "\t<tr><td>NA      </td><td>NA      </td><td>NA      </td></tr>\n",
              "\t<tr><td>able    </td><td>a       </td><td>e       </td></tr>\n",
              "\t<tr><td>about   </td><td>a       </td><td>t       </td></tr>\n",
              "\t<tr><td>absolute</td><td>a       </td><td>e       </td></tr>\n",
              "\t<tr><td>accept  </td><td>a       </td><td>t       </td></tr>\n",
              "\t<tr><td>account </td><td>a       </td><td>t       </td></tr>\n",
              "</tbody>\n",
              "</table>\n"
            ],
            "text/latex": [
              "\\begin{tabular}{lll}\n",
              "\t NA       & NA       & NA      \\\\\n",
              "\t able     & a        & e       \\\\\n",
              "\t about    & a        & t       \\\\\n",
              "\t absolute & a        & e       \\\\\n",
              "\t accept   & a        & t       \\\\\n",
              "\t account  & a        & t       \\\\\n",
              "\\end{tabular}\n"
            ],
            "text/markdown": [
              "\n",
              "| NA       | NA       | NA       | \n",
              "| able     | a        | e        | \n",
              "| about    | a        | t        | \n",
              "| absolute | a        | e        | \n",
              "| accept   | a        | t        | \n",
              "| account  | a        | t        | \n",
              "\n",
              "\n"
            ],
            "text/plain": [
              "     [,1]     [,2] [,3]\n",
              "[1,] NA       NA   NA  \n",
              "[2,] able     a    e   \n",
              "[3,] about    a    t   \n",
              "[4,] absolute a    e   \n",
              "[5,] accept   a    t   \n",
              "[6,] account  a    t   "
            ]
          },
          "metadata": {},
          "output_type": "display_data"
        }
      ],
      "source": [
        "head(str_match(words, '^(.).*(.)$'))"
      ]
    },
    {
      "cell_type": "code",
      "execution_count": null,
      "metadata": {
        "id": "FoL1riwrCDzs"
      },
      "outputs": [],
      "source": [
        "### `str_replace`\n",
        "`str_replace(v, re, rep)` will replace each match of `re` in `v` with `rep`. The most basic usage is as a sort of find and replace:"
      ]
    },
    {
      "cell_type": "code",
      "execution_count": 101,
      "metadata": {
        "id": "FKcif6jMCDzs",
        "outputId": "48267514-c957-4bd2-9404-81628b1a3172",
        "colab": {
          "base_uri": "https://localhost:8080/",
          "height": 34
        }
      },
      "outputs": [
        {
          "output_type": "display_data",
          "data": {
            "text/html": [
              "'Give me liberty or give me pizza'"
            ],
            "text/markdown": "'Give me liberty or give me pizza'",
            "text/latex": "'Give me liberty or give me pizza'",
            "text/plain": [
              "[1] \"Give me liberty or give me pizza\""
            ]
          },
          "metadata": {}
        }
      ],
      "source": [
        "str_replace('Give me liberty or give me death', '\\\\w+$', 'pizza')"
      ]
    },
    {
      "cell_type": "code",
      "execution_count": null,
      "metadata": {
        "id": "ZvSrugJsCDzs"
      },
      "outputs": [],
      "source": [
        "A very useful feature of regexp replacements is the ability to use backreferences:"
      ]
    },
    {
      "cell_type": "code",
      "execution_count": null,
      "metadata": {
        "id": "uWMEGKCJCDzs"
      },
      "outputs": [],
      "source": [
        "# Your code here"
      ]
    }
  ],
  "metadata": {
    "celltoolbar": "Slideshow",
    "kernelspec": {
      "display_name": "R",
      "language": "R",
      "name": "ir"
    },
    "language_info": {
      "codemirror_mode": "r",
      "file_extension": ".r",
      "mimetype": "text/x-r-source",
      "name": "R",
      "pygments_lexer": "r",
      "version": "4.2.2"
    },
    "colab": {
      "provenance": [],
      "include_colab_link": true
    }
  },
  "nbformat": 4,
  "nbformat_minor": 0
}