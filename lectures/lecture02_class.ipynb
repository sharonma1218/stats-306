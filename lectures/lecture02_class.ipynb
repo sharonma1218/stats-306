{
  "cells": [
    {
      "cell_type": "markdown",
      "metadata": {
        "id": "view-in-github",
        "colab_type": "text"
      },
      "source": [
        "<a href=\"https://colab.research.google.com/github/sharonma1218/stats-306/blob/main/lecture02_class.ipynb\" target=\"_parent\"><img src=\"https://colab.research.google.com/assets/colab-badge.svg\" alt=\"Open In Colab\"/></a>"
      ]
    },
    {
      "cell_type": "markdown",
      "metadata": {
        "id": "2IoCr5GqpL0I"
      },
      "source": [
        "# Lecture 2: More on data transformations\n",
        "\n",
        "<div style=\"border: 1px double black; padding: 10px; margin: 10px\">\n",
        "\n",
        "**Goals for today's lecture:**\n",
        "* Continue to learn how to manipulate data, including:\n",
        "    * Vectors in R: what they are and basic operations\n",
        "    * Adding new variables\n",
        "    * Grouping and summarizing data\n",
        "    \n",
        "This lecture note corresponds to sections 4.3-4.6 of your book.\n",
        "</div>"
      ]
    },
    {
      "cell_type": "code",
      "source": [
        "install.packages('tidyverse')\n",
        "install.packages('nycflights13')"
      ],
      "metadata": {
        "id": "nMYlrJ1bp8Fx",
        "outputId": "4698c219-0562-4337-c589-372cbb5bf4ae",
        "colab": {
          "base_uri": "https://localhost:8080/"
        }
      },
      "execution_count": 2,
      "outputs": [
        {
          "output_type": "stream",
          "name": "stderr",
          "text": [
            "Installing package into ‘/usr/local/lib/R/site-library’\n",
            "(as ‘lib’ is unspecified)\n",
            "\n",
            "Installing package into ‘/usr/local/lib/R/site-library’\n",
            "(as ‘lib’ is unspecified)\n",
            "\n"
          ]
        }
      ]
    },
    {
      "cell_type": "code",
      "execution_count": 3,
      "metadata": {
        "id": "i2sGptrFpL0J",
        "colab": {
          "base_uri": "https://localhost:8080/"
        },
        "outputId": "86151f7a-cf67-47fc-8ef9-fca01f90f065"
      },
      "outputs": [
        {
          "output_type": "stream",
          "name": "stderr",
          "text": [
            "Warning message in system(\"timedatectl\", intern = TRUE):\n",
            "“running command 'timedatectl' had status 1”\n",
            "── \u001b[1mAttaching packages\u001b[22m ─────────────────────────────────────── tidyverse 1.3.2 ──\n",
            "\u001b[32m✔\u001b[39m \u001b[34mggplot2\u001b[39m 3.4.0      \u001b[32m✔\u001b[39m \u001b[34mpurrr  \u001b[39m 0.3.5 \n",
            "\u001b[32m✔\u001b[39m \u001b[34mtibble \u001b[39m 3.1.8      \u001b[32m✔\u001b[39m \u001b[34mdplyr  \u001b[39m 1.0.10\n",
            "\u001b[32m✔\u001b[39m \u001b[34mtidyr  \u001b[39m 1.2.1      \u001b[32m✔\u001b[39m \u001b[34mstringr\u001b[39m 1.4.1 \n",
            "\u001b[32m✔\u001b[39m \u001b[34mreadr  \u001b[39m 2.1.3      \u001b[32m✔\u001b[39m \u001b[34mforcats\u001b[39m 0.5.2 \n",
            "── \u001b[1mConflicts\u001b[22m ────────────────────────────────────────── tidyverse_conflicts() ──\n",
            "\u001b[31m✖\u001b[39m \u001b[34mdplyr\u001b[39m::\u001b[32mfilter()\u001b[39m masks \u001b[34mstats\u001b[39m::filter()\n",
            "\u001b[31m✖\u001b[39m \u001b[34mdplyr\u001b[39m::\u001b[32mlag()\u001b[39m    masks \u001b[34mstats\u001b[39m::lag()\n"
          ]
        }
      ],
      "source": [
        "library(tidyverse)  # always!\n",
        "library(nycflights13)  # install if needed"
      ]
    },
    {
      "cell_type": "markdown",
      "metadata": {
        "id": "NOUTCTVWpL0L"
      },
      "source": [
        "## Review of last lecture\n",
        "Last lecture we learned how to alter the rows and columns of a dataframe:\n",
        "- `filter()` to keep certain rows that satisfy logical conditions.\n",
        "- `arrange()` to sort rows according to certain column values.\n",
        "- `distinct()` to keep only rows that are distinct on some combination of columns.\n",
        "- `select()` to drop/rename/rearrange columns"
      ]
    },
    {
      "cell_type": "markdown",
      "metadata": {
        "id": "Zk5knLBopL0L"
      },
      "source": [
        "## What's a data frame?\n",
        "\n",
        "Our main goal in R is to work with data, and one of the most fundamental objects in R is the *data frame*. Think of a data frame as a container for a bunch of *vectors* of data:\n",
        "\n",
        "![dataframe](https://garrettgman.github.io/images/tidy-2.png)"
      ]
    },
    {
      "cell_type": "markdown",
      "metadata": {
        "id": "y83m8_r8pL0M"
      },
      "source": [
        "## What's a vector?\n",
        "\n",
        "- In programming speak: a *vector* is a list of values. \n",
        "- In statistical speak: a vector of observations (aka data).\n",
        "\n",
        "Let's create a vector and work with it:"
      ]
    },
    {
      "cell_type": "markdown",
      "metadata": {
        "id": "T3JC7rGypL0M"
      },
      "source": [
        "## Poll\n",
        "How old are you?\n",
        "<ol style=\"list-style-type: upper-alpha;\">\n",
        "    <li>19 or younger</li>\n",
        "    <li>20</li>\n",
        "    <li>21</li>\n",
        "    <li>22 or older</li>\n",
        "    <li>I forget</li>\n",
        "</ol>\n",
        "(This question will be graded.)<br />\n",
        "(↑ This is a joke.)"
      ]
    },
    {
      "cell_type": "markdown",
      "metadata": {
        "id": "IA7ANC1JpL0M"
      },
      "source": [
        "The function for creating a vector in R is called simply, `c()`."
      ]
    },
    {
      "cell_type": "code",
      "execution_count": 4,
      "metadata": {
        "id": "BaRTnm3npL0M",
        "outputId": "5cf12dc7-243e-4cea-d29d-ee3b8cf9f5b6",
        "colab": {
          "base_uri": "https://localhost:8080/",
          "height": 34
        }
      },
      "outputs": [
        {
          "output_type": "display_data",
          "data": {
            "text/html": [
              "<style>\n",
              ".list-inline {list-style: none; margin:0; padding: 0}\n",
              ".list-inline>li {display: inline-block}\n",
              ".list-inline>li:not(:last-child)::after {content: \"\\00b7\"; padding: 0 .5ex}\n",
              "</style>\n",
              "<ol class=list-inline><li>20</li><li>21</li><li>22</li><li>22</li><li>24</li><li>25</li><li>21</li><li>20</li><li>19</li><li>18</li></ol>\n"
            ],
            "text/markdown": "1. 20\n2. 21\n3. 22\n4. 22\n5. 24\n6. 25\n7. 21\n8. 20\n9. 19\n10. 18\n\n\n",
            "text/latex": "\\begin{enumerate*}\n\\item 20\n\\item 21\n\\item 22\n\\item 22\n\\item 24\n\\item 25\n\\item 21\n\\item 20\n\\item 19\n\\item 18\n\\end{enumerate*}\n",
            "text/plain": [
              " [1] 20 21 22 22 24 25 21 20 19 18"
            ]
          },
          "metadata": {}
        }
      ],
      "source": [
        "# Create a vector of ages\n",
        "ages=c(20,21,22,22,24,25,21,20,19,18)\n",
        "ages"
      ]
    },
    {
      "cell_type": "code",
      "source": [
        "mean(ages)"
      ],
      "metadata": {
        "colab": {
          "base_uri": "https://localhost:8080/",
          "height": 34
        },
        "id": "OjWq5zxLqgHW",
        "outputId": "c01f38f3-2622-44fc-ca59-0678c649c690"
      },
      "execution_count": 5,
      "outputs": [
        {
          "output_type": "display_data",
          "data": {
            "text/html": [
              "21.2"
            ],
            "text/markdown": "21.2",
            "text/latex": "21.2",
            "text/plain": [
              "[1] 21.2"
            ]
          },
          "metadata": {}
        }
      ]
    },
    {
      "cell_type": "code",
      "source": [
        "sd(ages)"
      ],
      "metadata": {
        "colab": {
          "base_uri": "https://localhost:8080/",
          "height": 34
        },
        "id": "FYlYdcU6qhUW",
        "outputId": "e99bd86a-38ac-4f1b-d017-c79d810cdad2"
      },
      "execution_count": 6,
      "outputs": [
        {
          "output_type": "display_data",
          "data": {
            "text/html": [
              "2.14993539954628"
            ],
            "text/markdown": "2.14993539954628",
            "text/latex": "2.14993539954628",
            "text/plain": [
              "[1] 2.149935"
            ]
          },
          "metadata": {}
        }
      ]
    },
    {
      "cell_type": "code",
      "source": [
        "log1=c(T,F,T)\n",
        "log1"
      ],
      "metadata": {
        "colab": {
          "base_uri": "https://localhost:8080/",
          "height": 34
        },
        "id": "qF811Cr8qoK0",
        "outputId": "5d841522-9276-4855-9d24-25509a1839d5"
      },
      "execution_count": 7,
      "outputs": [
        {
          "output_type": "display_data",
          "data": {
            "text/html": [
              "<style>\n",
              ".list-inline {list-style: none; margin:0; padding: 0}\n",
              ".list-inline>li {display: inline-block}\n",
              ".list-inline>li:not(:last-child)::after {content: \"\\00b7\"; padding: 0 .5ex}\n",
              "</style>\n",
              "<ol class=list-inline><li>TRUE</li><li>FALSE</li><li>TRUE</li></ol>\n"
            ],
            "text/markdown": "1. TRUE\n2. FALSE\n3. TRUE\n\n\n",
            "text/latex": "\\begin{enumerate*}\n\\item TRUE\n\\item FALSE\n\\item TRUE\n\\end{enumerate*}\n",
            "text/plain": [
              "[1]  TRUE FALSE  TRUE"
            ]
          },
          "metadata": {}
        }
      ]
    },
    {
      "cell_type": "code",
      "source": [
        "log1=c(F,F,F)\n",
        "any(log1) # NOTE: if any of them are true, then the entire expression becomes true"
      ],
      "metadata": {
        "colab": {
          "base_uri": "https://localhost:8080/",
          "height": 34
        },
        "id": "OVVxEWNvqxZq",
        "outputId": "e21fe2a7-82d7-4995-826f-8baec02c20a0"
      },
      "execution_count": 8,
      "outputs": [
        {
          "output_type": "display_data",
          "data": {
            "text/html": [
              "FALSE"
            ],
            "text/markdown": "FALSE",
            "text/latex": "FALSE",
            "text/plain": [
              "[1] FALSE"
            ]
          },
          "metadata": {}
        }
      ]
    },
    {
      "cell_type": "code",
      "source": [
        "log1=c(F,F,T)\n",
        "any(log1) # NOTE: even if just one of them is true, then the entire expression turns out to be true"
      ],
      "metadata": {
        "colab": {
          "base_uri": "https://localhost:8080/",
          "height": 34
        },
        "id": "2cLhck-CsEYm",
        "outputId": "34b4e05d-cf50-43f3-b8f2-5c69c2ad6d81"
      },
      "execution_count": 11,
      "outputs": [
        {
          "output_type": "display_data",
          "data": {
            "text/html": [
              "TRUE"
            ],
            "text/markdown": "TRUE",
            "text/latex": "TRUE",
            "text/plain": [
              "[1] TRUE"
            ]
          },
          "metadata": {}
        }
      ]
    },
    {
      "cell_type": "code",
      "source": [
        "log1=c(F,F,T)\n",
        "all(log1) # NOTE: if all of them are true"
      ],
      "metadata": {
        "colab": {
          "base_uri": "https://localhost:8080/",
          "height": 34
        },
        "id": "na9DjavgsTJG",
        "outputId": "976d6544-d198-4b35-ff04-dbc6d9813aa0"
      },
      "execution_count": 12,
      "outputs": [
        {
          "output_type": "display_data",
          "data": {
            "text/html": [
              "FALSE"
            ],
            "text/markdown": "FALSE",
            "text/latex": "FALSE",
            "text/plain": [
              "[1] FALSE"
            ]
          },
          "metadata": {}
        }
      ]
    },
    {
      "cell_type": "code",
      "source": [
        "log1=c(T,T,T)\n",
        "all(log1) \n",
        "# NOTE: in a way, any is like or & all is like and "
      ],
      "metadata": {
        "colab": {
          "base_uri": "https://localhost:8080/",
          "height": 34
        },
        "id": "clHc3qyXsZJu",
        "outputId": "74f837ae-dfa1-4e38-b898-d84a63fe3de5"
      },
      "execution_count": 13,
      "outputs": [
        {
          "output_type": "display_data",
          "data": {
            "text/html": [
              "TRUE"
            ],
            "text/markdown": "TRUE",
            "text/latex": "TRUE",
            "text/plain": [
              "[1] TRUE"
            ]
          },
          "metadata": {}
        }
      ]
    },
    {
      "cell_type": "markdown",
      "metadata": {
        "id": "ZLhsB5UOpL0N"
      },
      "source": [
        "## Functions that operate on vectors\n",
        "\n",
        "Many summary functions are available:\n",
        "\n",
        "* Center: `mean(), median()`\n",
        "* Spread: `sd(), IQR(), mad()`\n",
        "* Range: `min(), max(), quantile()`\n",
        "* Position: `first(), last(), nth()`\n",
        "* Count: `n(), n_distinct()`\n",
        "* Logical: `any(), all()`"
      ]
    },
    {
      "cell_type": "code",
      "execution_count": null,
      "metadata": {
        "id": "6Ki6kDEGpL0N"
      },
      "outputs": [],
      "source": [
        "# examples of functions we can use on the ages vector"
      ]
    },
    {
      "cell_type": "markdown",
      "metadata": {
        "id": "RLRK_Or2pL0O"
      },
      "source": [
        "## Column operation #2: `mutate()`\n",
        "\n",
        "`mutate()` creates new columns in a dataframe that are calculated from the existing columns.\n",
        "\n",
        "For example, let's define the **gain** of a flight to be the different between the departure delay and the arrival delay:\n",
        "\n",
        "$$\\text{gain} = \\text{dep. delay} - \\text{arr. delay}$$\n",
        "\n",
        "So, the gain is positive if the flight made up time in the air, resulting in a less-delayed arrival."
      ]
    },
    {
      "cell_type": "markdown",
      "metadata": {
        "id": "j53mY9sZpL0O"
      },
      "source": [
        "To add a column called `gain` to flights, we called `mutate()` as follows:"
      ]
    },
    {
      "cell_type": "code",
      "source": [
        "?flights"
      ],
      "metadata": {
        "id": "a64KIa66s1cn"
      },
      "execution_count": 14,
      "outputs": []
    },
    {
      "cell_type": "code",
      "source": [
        "glimpse(flights)"
      ],
      "metadata": {
        "colab": {
          "base_uri": "https://localhost:8080/"
        },
        "id": "F9EGt6DktHr9",
        "outputId": "1d8b70d2-9441-4787-ce99-82e4ef7f12e7"
      },
      "execution_count": 17,
      "outputs": [
        {
          "output_type": "stream",
          "name": "stdout",
          "text": [
            "Rows: 336,776\n",
            "Columns: 19\n",
            "$ year           \u001b[3m\u001b[90m<int>\u001b[39m\u001b[23m 2013, 2013, 2013, 2013, 2013, 2013, 2013, 2013, 2013, 2…\n",
            "$ month          \u001b[3m\u001b[90m<int>\u001b[39m\u001b[23m 1, 1, 1, 1, 1, 1, 1, 1, 1, 1, 1, 1, 1, 1, 1, 1, 1, 1, 1…\n",
            "$ day            \u001b[3m\u001b[90m<int>\u001b[39m\u001b[23m 1, 1, 1, 1, 1, 1, 1, 1, 1, 1, 1, 1, 1, 1, 1, 1, 1, 1, 1…\n",
            "$ dep_time       \u001b[3m\u001b[90m<int>\u001b[39m\u001b[23m 517, 533, 542, 544, 554, 554, 555, 557, 557, 558, 558, …\n",
            "$ sched_dep_time \u001b[3m\u001b[90m<int>\u001b[39m\u001b[23m 515, 529, 540, 545, 600, 558, 600, 600, 600, 600, 600, …\n",
            "$ dep_delay      \u001b[3m\u001b[90m<dbl>\u001b[39m\u001b[23m 2, 4, 2, -1, -6, -4, -5, -3, -3, -2, -2, -2, -2, -2, -1…\n",
            "$ arr_time       \u001b[3m\u001b[90m<int>\u001b[39m\u001b[23m 830, 850, 923, 1004, 812, 740, 913, 709, 838, 753, 849,…\n",
            "$ sched_arr_time \u001b[3m\u001b[90m<int>\u001b[39m\u001b[23m 819, 830, 850, 1022, 837, 728, 854, 723, 846, 745, 851,…\n",
            "$ arr_delay      \u001b[3m\u001b[90m<dbl>\u001b[39m\u001b[23m 11, 20, 33, -18, -25, 12, 19, -14, -8, 8, -2, -3, 7, -1…\n",
            "$ carrier        \u001b[3m\u001b[90m<chr>\u001b[39m\u001b[23m \"UA\", \"UA\", \"AA\", \"B6\", \"DL\", \"UA\", \"B6\", \"EV\", \"B6\", \"…\n",
            "$ flight         \u001b[3m\u001b[90m<int>\u001b[39m\u001b[23m 1545, 1714, 1141, 725, 461, 1696, 507, 5708, 79, 301, 4…\n",
            "$ tailnum        \u001b[3m\u001b[90m<chr>\u001b[39m\u001b[23m \"N14228\", \"N24211\", \"N619AA\", \"N804JB\", \"N668DN\", \"N394…\n",
            "$ origin         \u001b[3m\u001b[90m<chr>\u001b[39m\u001b[23m \"EWR\", \"LGA\", \"JFK\", \"JFK\", \"LGA\", \"EWR\", \"EWR\", \"LGA\",…\n",
            "$ dest           \u001b[3m\u001b[90m<chr>\u001b[39m\u001b[23m \"IAH\", \"IAH\", \"MIA\", \"BQN\", \"ATL\", \"ORD\", \"FLL\", \"IAD\",…\n",
            "$ air_time       \u001b[3m\u001b[90m<dbl>\u001b[39m\u001b[23m 227, 227, 160, 183, 116, 150, 158, 53, 140, 138, 149, 1…\n",
            "$ distance       \u001b[3m\u001b[90m<dbl>\u001b[39m\u001b[23m 1400, 1416, 1089, 1576, 762, 719, 1065, 229, 944, 733, …\n",
            "$ hour           \u001b[3m\u001b[90m<dbl>\u001b[39m\u001b[23m 5, 5, 5, 5, 6, 5, 6, 6, 6, 6, 6, 6, 6, 6, 6, 5, 6, 6, 6…\n",
            "$ minute         \u001b[3m\u001b[90m<dbl>\u001b[39m\u001b[23m 15, 29, 40, 45, 0, 58, 0, 0, 0, 0, 0, 0, 0, 0, 0, 59, 0…\n",
            "$ time_hour      \u001b[3m\u001b[90m<dttm>\u001b[39m\u001b[23m 2013-01-01 05:00:00, 2013-01-01 05:00:00, 2013-01-01 0…\n"
          ]
        }
      ]
    },
    {
      "cell_type": "code",
      "source": [
        "head(flights,5)"
      ],
      "metadata": {
        "colab": {
          "base_uri": "https://localhost:8080/",
          "height": 362
        },
        "id": "Uury0kfztR-r",
        "outputId": "3652746e-5249-4bc6-8963-ec7f45161fb3"
      },
      "execution_count": 21,
      "outputs": [
        {
          "output_type": "display_data",
          "data": {
            "text/html": [
              "<table class=\"dataframe\">\n",
              "<caption>A tibble: 5 × 19</caption>\n",
              "<thead>\n",
              "\t<tr><th scope=col>year</th><th scope=col>month</th><th scope=col>day</th><th scope=col>dep_time</th><th scope=col>sched_dep_time</th><th scope=col>dep_delay</th><th scope=col>arr_time</th><th scope=col>sched_arr_time</th><th scope=col>arr_delay</th><th scope=col>carrier</th><th scope=col>flight</th><th scope=col>tailnum</th><th scope=col>origin</th><th scope=col>dest</th><th scope=col>air_time</th><th scope=col>distance</th><th scope=col>hour</th><th scope=col>minute</th><th scope=col>time_hour</th></tr>\n",
              "\t<tr><th scope=col>&lt;int&gt;</th><th scope=col>&lt;int&gt;</th><th scope=col>&lt;int&gt;</th><th scope=col>&lt;int&gt;</th><th scope=col>&lt;int&gt;</th><th scope=col>&lt;dbl&gt;</th><th scope=col>&lt;int&gt;</th><th scope=col>&lt;int&gt;</th><th scope=col>&lt;dbl&gt;</th><th scope=col>&lt;chr&gt;</th><th scope=col>&lt;int&gt;</th><th scope=col>&lt;chr&gt;</th><th scope=col>&lt;chr&gt;</th><th scope=col>&lt;chr&gt;</th><th scope=col>&lt;dbl&gt;</th><th scope=col>&lt;dbl&gt;</th><th scope=col>&lt;dbl&gt;</th><th scope=col>&lt;dbl&gt;</th><th scope=col>&lt;dttm&gt;</th></tr>\n",
              "</thead>\n",
              "<tbody>\n",
              "\t<tr><td>2013</td><td>1</td><td>1</td><td>517</td><td>515</td><td> 2</td><td> 830</td><td> 819</td><td> 11</td><td>UA</td><td>1545</td><td>N14228</td><td>EWR</td><td>IAH</td><td>227</td><td>1400</td><td>5</td><td>15</td><td>2013-01-01 05:00:00</td></tr>\n",
              "\t<tr><td>2013</td><td>1</td><td>1</td><td>533</td><td>529</td><td> 4</td><td> 850</td><td> 830</td><td> 20</td><td>UA</td><td>1714</td><td>N24211</td><td>LGA</td><td>IAH</td><td>227</td><td>1416</td><td>5</td><td>29</td><td>2013-01-01 05:00:00</td></tr>\n",
              "\t<tr><td>2013</td><td>1</td><td>1</td><td>542</td><td>540</td><td> 2</td><td> 923</td><td> 850</td><td> 33</td><td>AA</td><td>1141</td><td>N619AA</td><td>JFK</td><td>MIA</td><td>160</td><td>1089</td><td>5</td><td>40</td><td>2013-01-01 05:00:00</td></tr>\n",
              "\t<tr><td>2013</td><td>1</td><td>1</td><td>544</td><td>545</td><td>-1</td><td>1004</td><td>1022</td><td>-18</td><td>B6</td><td> 725</td><td>N804JB</td><td>JFK</td><td>BQN</td><td>183</td><td>1576</td><td>5</td><td>45</td><td>2013-01-01 05:00:00</td></tr>\n",
              "\t<tr><td>2013</td><td>1</td><td>1</td><td>554</td><td>600</td><td>-6</td><td> 812</td><td> 837</td><td>-25</td><td>DL</td><td> 461</td><td>N668DN</td><td>LGA</td><td>ATL</td><td>116</td><td> 762</td><td>6</td><td> 0</td><td>2013-01-01 06:00:00</td></tr>\n",
              "</tbody>\n",
              "</table>\n"
            ],
            "text/markdown": "\nA tibble: 5 × 19\n\n| year &lt;int&gt; | month &lt;int&gt; | day &lt;int&gt; | dep_time &lt;int&gt; | sched_dep_time &lt;int&gt; | dep_delay &lt;dbl&gt; | arr_time &lt;int&gt; | sched_arr_time &lt;int&gt; | arr_delay &lt;dbl&gt; | carrier &lt;chr&gt; | flight &lt;int&gt; | tailnum &lt;chr&gt; | origin &lt;chr&gt; | dest &lt;chr&gt; | air_time &lt;dbl&gt; | distance &lt;dbl&gt; | hour &lt;dbl&gt; | minute &lt;dbl&gt; | time_hour &lt;dttm&gt; |\n|---|---|---|---|---|---|---|---|---|---|---|---|---|---|---|---|---|---|---|\n| 2013 | 1 | 1 | 517 | 515 |  2 |  830 |  819 |  11 | UA | 1545 | N14228 | EWR | IAH | 227 | 1400 | 5 | 15 | 2013-01-01 05:00:00 |\n| 2013 | 1 | 1 | 533 | 529 |  4 |  850 |  830 |  20 | UA | 1714 | N24211 | LGA | IAH | 227 | 1416 | 5 | 29 | 2013-01-01 05:00:00 |\n| 2013 | 1 | 1 | 542 | 540 |  2 |  923 |  850 |  33 | AA | 1141 | N619AA | JFK | MIA | 160 | 1089 | 5 | 40 | 2013-01-01 05:00:00 |\n| 2013 | 1 | 1 | 544 | 545 | -1 | 1004 | 1022 | -18 | B6 |  725 | N804JB | JFK | BQN | 183 | 1576 | 5 | 45 | 2013-01-01 05:00:00 |\n| 2013 | 1 | 1 | 554 | 600 | -6 |  812 |  837 | -25 | DL |  461 | N668DN | LGA | ATL | 116 |  762 | 6 |  0 | 2013-01-01 06:00:00 |\n\n",
            "text/latex": "A tibble: 5 × 19\n\\begin{tabular}{lllllllllllllllllll}\n year & month & day & dep\\_time & sched\\_dep\\_time & dep\\_delay & arr\\_time & sched\\_arr\\_time & arr\\_delay & carrier & flight & tailnum & origin & dest & air\\_time & distance & hour & minute & time\\_hour\\\\\n <int> & <int> & <int> & <int> & <int> & <dbl> & <int> & <int> & <dbl> & <chr> & <int> & <chr> & <chr> & <chr> & <dbl> & <dbl> & <dbl> & <dbl> & <dttm>\\\\\n\\hline\n\t 2013 & 1 & 1 & 517 & 515 &  2 &  830 &  819 &  11 & UA & 1545 & N14228 & EWR & IAH & 227 & 1400 & 5 & 15 & 2013-01-01 05:00:00\\\\\n\t 2013 & 1 & 1 & 533 & 529 &  4 &  850 &  830 &  20 & UA & 1714 & N24211 & LGA & IAH & 227 & 1416 & 5 & 29 & 2013-01-01 05:00:00\\\\\n\t 2013 & 1 & 1 & 542 & 540 &  2 &  923 &  850 &  33 & AA & 1141 & N619AA & JFK & MIA & 160 & 1089 & 5 & 40 & 2013-01-01 05:00:00\\\\\n\t 2013 & 1 & 1 & 544 & 545 & -1 & 1004 & 1022 & -18 & B6 &  725 & N804JB & JFK & BQN & 183 & 1576 & 5 & 45 & 2013-01-01 05:00:00\\\\\n\t 2013 & 1 & 1 & 554 & 600 & -6 &  812 &  837 & -25 & DL &  461 & N668DN & LGA & ATL & 116 &  762 & 6 &  0 & 2013-01-01 06:00:00\\\\\n\\end{tabular}\n",
            "text/plain": [
              "  year month day dep_time sched_dep_time dep_delay arr_time sched_arr_time\n",
              "1 2013 1     1   517      515             2         830      819          \n",
              "2 2013 1     1   533      529             4         850      830          \n",
              "3 2013 1     1   542      540             2         923      850          \n",
              "4 2013 1     1   544      545            -1        1004     1022          \n",
              "5 2013 1     1   554      600            -6         812      837          \n",
              "  arr_delay carrier flight tailnum origin dest air_time distance hour minute\n",
              "1  11       UA      1545   N14228  EWR    IAH  227      1400     5    15    \n",
              "2  20       UA      1714   N24211  LGA    IAH  227      1416     5    29    \n",
              "3  33       AA      1141   N619AA  JFK    MIA  160      1089     5    40    \n",
              "4 -18       B6       725   N804JB  JFK    BQN  183      1576     5    45    \n",
              "5 -25       DL       461   N668DN  LGA    ATL  116       762     6     0    \n",
              "  time_hour          \n",
              "1 2013-01-01 05:00:00\n",
              "2 2013-01-01 05:00:00\n",
              "3 2013-01-01 05:00:00\n",
              "4 2013-01-01 05:00:00\n",
              "5 2013-01-01 06:00:00"
            ]
          },
          "metadata": {}
        }
      ]
    },
    {
      "cell_type": "code",
      "source": [
        "print(head(flights,5))"
      ],
      "metadata": {
        "colab": {
          "base_uri": "https://localhost:8080/"
        },
        "id": "nWwjzTDktXI9",
        "outputId": "40ec0e1d-e9b4-427d-9654-6dbf18feaf3d"
      },
      "execution_count": 22,
      "outputs": [
        {
          "output_type": "stream",
          "name": "stdout",
          "text": [
            "\u001b[90m# A tibble: 5 × 19\u001b[39m\n",
            "   year month   day dep_time sched_dep…¹ dep_d…² arr_t…³ sched…⁴ arr_d…⁵ carrier\n",
            "  \u001b[3m\u001b[90m<int>\u001b[39m\u001b[23m \u001b[3m\u001b[90m<int>\u001b[39m\u001b[23m \u001b[3m\u001b[90m<int>\u001b[39m\u001b[23m    \u001b[3m\u001b[90m<int>\u001b[39m\u001b[23m       \u001b[3m\u001b[90m<int>\u001b[39m\u001b[23m   \u001b[3m\u001b[90m<dbl>\u001b[39m\u001b[23m   \u001b[3m\u001b[90m<int>\u001b[39m\u001b[23m   \u001b[3m\u001b[90m<int>\u001b[39m\u001b[23m   \u001b[3m\u001b[90m<dbl>\u001b[39m\u001b[23m \u001b[3m\u001b[90m<chr>\u001b[39m\u001b[23m  \n",
            "\u001b[90m1\u001b[39m  \u001b[4m2\u001b[24m013     1     1      517         515       2     830     819      11 UA     \n",
            "\u001b[90m2\u001b[39m  \u001b[4m2\u001b[24m013     1     1      533         529       4     850     830      20 UA     \n",
            "\u001b[90m3\u001b[39m  \u001b[4m2\u001b[24m013     1     1      542         540       2     923     850      33 AA     \n",
            "\u001b[90m4\u001b[39m  \u001b[4m2\u001b[24m013     1     1      544         545      -\u001b[31m1\u001b[39m    \u001b[4m1\u001b[24m004    \u001b[4m1\u001b[24m022     -\u001b[31m18\u001b[39m B6     \n",
            "\u001b[90m5\u001b[39m  \u001b[4m2\u001b[24m013     1     1      554         600      -\u001b[31m6\u001b[39m     812     837     -\u001b[31m25\u001b[39m DL     \n",
            "\u001b[90m# … with 9 more variables: flight <int>, tailnum <chr>, origin <chr>,\u001b[39m\n",
            "\u001b[90m#   dest <chr>, air_time <dbl>, distance <dbl>, hour <dbl>, minute <dbl>,\u001b[39m\n",
            "\u001b[90m#   time_hour <dttm>, and abbreviated variable names ¹​sched_dep_time,\u001b[39m\n",
            "\u001b[90m#   ²​dep_delay, ³​arr_time, ⁴​sched_arr_time, ⁵​arr_delay\u001b[39m\n"
          ]
        }
      ]
    },
    {
      "cell_type": "code",
      "source": [
        "head(flights,5)%>%print # NOTE: piping "
      ],
      "metadata": {
        "colab": {
          "base_uri": "https://localhost:8080/"
        },
        "id": "_-iumESNtaC3",
        "outputId": "1bcfcebc-3917-4255-f1ec-9ccaace6403e"
      },
      "execution_count": 23,
      "outputs": [
        {
          "output_type": "stream",
          "name": "stdout",
          "text": [
            "\u001b[90m# A tibble: 5 × 19\u001b[39m\n",
            "   year month   day dep_time sched_dep…¹ dep_d…² arr_t…³ sched…⁴ arr_d…⁵ carrier\n",
            "  \u001b[3m\u001b[90m<int>\u001b[39m\u001b[23m \u001b[3m\u001b[90m<int>\u001b[39m\u001b[23m \u001b[3m\u001b[90m<int>\u001b[39m\u001b[23m    \u001b[3m\u001b[90m<int>\u001b[39m\u001b[23m       \u001b[3m\u001b[90m<int>\u001b[39m\u001b[23m   \u001b[3m\u001b[90m<dbl>\u001b[39m\u001b[23m   \u001b[3m\u001b[90m<int>\u001b[39m\u001b[23m   \u001b[3m\u001b[90m<int>\u001b[39m\u001b[23m   \u001b[3m\u001b[90m<dbl>\u001b[39m\u001b[23m \u001b[3m\u001b[90m<chr>\u001b[39m\u001b[23m  \n",
            "\u001b[90m1\u001b[39m  \u001b[4m2\u001b[24m013     1     1      517         515       2     830     819      11 UA     \n",
            "\u001b[90m2\u001b[39m  \u001b[4m2\u001b[24m013     1     1      533         529       4     850     830      20 UA     \n",
            "\u001b[90m3\u001b[39m  \u001b[4m2\u001b[24m013     1     1      542         540       2     923     850      33 AA     \n",
            "\u001b[90m4\u001b[39m  \u001b[4m2\u001b[24m013     1     1      544         545      -\u001b[31m1\u001b[39m    \u001b[4m1\u001b[24m004    \u001b[4m1\u001b[24m022     -\u001b[31m18\u001b[39m B6     \n",
            "\u001b[90m5\u001b[39m  \u001b[4m2\u001b[24m013     1     1      554         600      -\u001b[31m6\u001b[39m     812     837     -\u001b[31m25\u001b[39m DL     \n",
            "\u001b[90m# … with 9 more variables: flight <int>, tailnum <chr>, origin <chr>,\u001b[39m\n",
            "\u001b[90m#   dest <chr>, air_time <dbl>, distance <dbl>, hour <dbl>, minute <dbl>,\u001b[39m\n",
            "\u001b[90m#   time_hour <dttm>, and abbreviated variable names ¹​sched_dep_time,\u001b[39m\n",
            "\u001b[90m#   ²​dep_delay, ³​arr_time, ⁴​sched_arr_time, ⁵​arr_delay\u001b[39m\n"
          ]
        }
      ]
    },
    {
      "cell_type": "code",
      "execution_count": 19,
      "metadata": {
        "id": "xKzWHAbwpL0O",
        "colab": {
          "base_uri": "https://localhost:8080/",
          "height": 1000
        },
        "outputId": "2d16d0ad-5f01-41b4-a9c3-852e089f7f4a"
      },
      "outputs": [
        {
          "output_type": "display_data",
          "data": {
            "text/html": [
              "<table class=\"dataframe\">\n",
              "<caption>A tibble: 336776 × 20</caption>\n",
              "<thead>\n",
              "\t<tr><th scope=col>year</th><th scope=col>month</th><th scope=col>day</th><th scope=col>dep_time</th><th scope=col>sched_dep_time</th><th scope=col>dep_delay</th><th scope=col>arr_time</th><th scope=col>sched_arr_time</th><th scope=col>arr_delay</th><th scope=col>carrier</th><th scope=col>flight</th><th scope=col>tailnum</th><th scope=col>origin</th><th scope=col>dest</th><th scope=col>air_time</th><th scope=col>distance</th><th scope=col>hour</th><th scope=col>minute</th><th scope=col>time_hour</th><th scope=col>gain</th></tr>\n",
              "\t<tr><th scope=col>&lt;int&gt;</th><th scope=col>&lt;int&gt;</th><th scope=col>&lt;int&gt;</th><th scope=col>&lt;int&gt;</th><th scope=col>&lt;int&gt;</th><th scope=col>&lt;dbl&gt;</th><th scope=col>&lt;int&gt;</th><th scope=col>&lt;int&gt;</th><th scope=col>&lt;dbl&gt;</th><th scope=col>&lt;chr&gt;</th><th scope=col>&lt;int&gt;</th><th scope=col>&lt;chr&gt;</th><th scope=col>&lt;chr&gt;</th><th scope=col>&lt;chr&gt;</th><th scope=col>&lt;dbl&gt;</th><th scope=col>&lt;dbl&gt;</th><th scope=col>&lt;dbl&gt;</th><th scope=col>&lt;dbl&gt;</th><th scope=col>&lt;dttm&gt;</th><th scope=col>&lt;dbl&gt;</th></tr>\n",
              "</thead>\n",
              "<tbody>\n",
              "\t<tr><td>2013</td><td>1</td><td>1</td><td>517</td><td>515</td><td> 2</td><td> 830</td><td> 819</td><td> 11</td><td>UA</td><td>1545</td><td>N14228</td><td>EWR</td><td>IAH</td><td>227</td><td>1400</td><td>5</td><td>15</td><td>2013-01-01 05:00:00</td><td> -9</td></tr>\n",
              "\t<tr><td>2013</td><td>1</td><td>1</td><td>533</td><td>529</td><td> 4</td><td> 850</td><td> 830</td><td> 20</td><td>UA</td><td>1714</td><td>N24211</td><td>LGA</td><td>IAH</td><td>227</td><td>1416</td><td>5</td><td>29</td><td>2013-01-01 05:00:00</td><td>-16</td></tr>\n",
              "\t<tr><td>2013</td><td>1</td><td>1</td><td>542</td><td>540</td><td> 2</td><td> 923</td><td> 850</td><td> 33</td><td>AA</td><td>1141</td><td>N619AA</td><td>JFK</td><td>MIA</td><td>160</td><td>1089</td><td>5</td><td>40</td><td>2013-01-01 05:00:00</td><td>-31</td></tr>\n",
              "\t<tr><td>2013</td><td>1</td><td>1</td><td>544</td><td>545</td><td>-1</td><td>1004</td><td>1022</td><td>-18</td><td>B6</td><td> 725</td><td>N804JB</td><td>JFK</td><td>BQN</td><td>183</td><td>1576</td><td>5</td><td>45</td><td>2013-01-01 05:00:00</td><td> 17</td></tr>\n",
              "\t<tr><td>2013</td><td>1</td><td>1</td><td>554</td><td>600</td><td>-6</td><td> 812</td><td> 837</td><td>-25</td><td>DL</td><td> 461</td><td>N668DN</td><td>LGA</td><td>ATL</td><td>116</td><td> 762</td><td>6</td><td> 0</td><td>2013-01-01 06:00:00</td><td> 19</td></tr>\n",
              "\t<tr><td>2013</td><td>1</td><td>1</td><td>554</td><td>558</td><td>-4</td><td> 740</td><td> 728</td><td> 12</td><td>UA</td><td>1696</td><td>N39463</td><td>EWR</td><td>ORD</td><td>150</td><td> 719</td><td>5</td><td>58</td><td>2013-01-01 05:00:00</td><td>-16</td></tr>\n",
              "\t<tr><td>2013</td><td>1</td><td>1</td><td>555</td><td>600</td><td>-5</td><td> 913</td><td> 854</td><td> 19</td><td>B6</td><td> 507</td><td>N516JB</td><td>EWR</td><td>FLL</td><td>158</td><td>1065</td><td>6</td><td> 0</td><td>2013-01-01 06:00:00</td><td>-24</td></tr>\n",
              "\t<tr><td>2013</td><td>1</td><td>1</td><td>557</td><td>600</td><td>-3</td><td> 709</td><td> 723</td><td>-14</td><td>EV</td><td>5708</td><td>N829AS</td><td>LGA</td><td>IAD</td><td> 53</td><td> 229</td><td>6</td><td> 0</td><td>2013-01-01 06:00:00</td><td> 11</td></tr>\n",
              "\t<tr><td>2013</td><td>1</td><td>1</td><td>557</td><td>600</td><td>-3</td><td> 838</td><td> 846</td><td> -8</td><td>B6</td><td>  79</td><td>N593JB</td><td>JFK</td><td>MCO</td><td>140</td><td> 944</td><td>6</td><td> 0</td><td>2013-01-01 06:00:00</td><td>  5</td></tr>\n",
              "\t<tr><td>2013</td><td>1</td><td>1</td><td>558</td><td>600</td><td>-2</td><td> 753</td><td> 745</td><td>  8</td><td>AA</td><td> 301</td><td>N3ALAA</td><td>LGA</td><td>ORD</td><td>138</td><td> 733</td><td>6</td><td> 0</td><td>2013-01-01 06:00:00</td><td>-10</td></tr>\n",
              "\t<tr><td>2013</td><td>1</td><td>1</td><td>558</td><td>600</td><td>-2</td><td> 849</td><td> 851</td><td> -2</td><td>B6</td><td>  49</td><td>N793JB</td><td>JFK</td><td>PBI</td><td>149</td><td>1028</td><td>6</td><td> 0</td><td>2013-01-01 06:00:00</td><td>  0</td></tr>\n",
              "\t<tr><td>2013</td><td>1</td><td>1</td><td>558</td><td>600</td><td>-2</td><td> 853</td><td> 856</td><td> -3</td><td>B6</td><td>  71</td><td>N657JB</td><td>JFK</td><td>TPA</td><td>158</td><td>1005</td><td>6</td><td> 0</td><td>2013-01-01 06:00:00</td><td>  1</td></tr>\n",
              "\t<tr><td>2013</td><td>1</td><td>1</td><td>558</td><td>600</td><td>-2</td><td> 924</td><td> 917</td><td>  7</td><td>UA</td><td> 194</td><td>N29129</td><td>JFK</td><td>LAX</td><td>345</td><td>2475</td><td>6</td><td> 0</td><td>2013-01-01 06:00:00</td><td> -9</td></tr>\n",
              "\t<tr><td>2013</td><td>1</td><td>1</td><td>558</td><td>600</td><td>-2</td><td> 923</td><td> 937</td><td>-14</td><td>UA</td><td>1124</td><td>N53441</td><td>EWR</td><td>SFO</td><td>361</td><td>2565</td><td>6</td><td> 0</td><td>2013-01-01 06:00:00</td><td> 12</td></tr>\n",
              "\t<tr><td>2013</td><td>1</td><td>1</td><td>559</td><td>600</td><td>-1</td><td> 941</td><td> 910</td><td> 31</td><td>AA</td><td> 707</td><td>N3DUAA</td><td>LGA</td><td>DFW</td><td>257</td><td>1389</td><td>6</td><td> 0</td><td>2013-01-01 06:00:00</td><td>-32</td></tr>\n",
              "\t<tr><td>2013</td><td>1</td><td>1</td><td>559</td><td>559</td><td> 0</td><td> 702</td><td> 706</td><td> -4</td><td>B6</td><td>1806</td><td>N708JB</td><td>JFK</td><td>BOS</td><td> 44</td><td> 187</td><td>5</td><td>59</td><td>2013-01-01 05:00:00</td><td>  4</td></tr>\n",
              "\t<tr><td>2013</td><td>1</td><td>1</td><td>559</td><td>600</td><td>-1</td><td> 854</td><td> 902</td><td> -8</td><td>UA</td><td>1187</td><td>N76515</td><td>EWR</td><td>LAS</td><td>337</td><td>2227</td><td>6</td><td> 0</td><td>2013-01-01 06:00:00</td><td>  7</td></tr>\n",
              "\t<tr><td>2013</td><td>1</td><td>1</td><td>600</td><td>600</td><td> 0</td><td> 851</td><td> 858</td><td> -7</td><td>B6</td><td> 371</td><td>N595JB</td><td>LGA</td><td>FLL</td><td>152</td><td>1076</td><td>6</td><td> 0</td><td>2013-01-01 06:00:00</td><td>  7</td></tr>\n",
              "\t<tr><td>2013</td><td>1</td><td>1</td><td>600</td><td>600</td><td> 0</td><td> 837</td><td> 825</td><td> 12</td><td>MQ</td><td>4650</td><td>N542MQ</td><td>LGA</td><td>ATL</td><td>134</td><td> 762</td><td>6</td><td> 0</td><td>2013-01-01 06:00:00</td><td>-12</td></tr>\n",
              "\t<tr><td>2013</td><td>1</td><td>1</td><td>601</td><td>600</td><td> 1</td><td> 844</td><td> 850</td><td> -6</td><td>B6</td><td> 343</td><td>N644JB</td><td>EWR</td><td>PBI</td><td>147</td><td>1023</td><td>6</td><td> 0</td><td>2013-01-01 06:00:00</td><td>  7</td></tr>\n",
              "\t<tr><td>2013</td><td>1</td><td>1</td><td>602</td><td>610</td><td>-8</td><td> 812</td><td> 820</td><td> -8</td><td>DL</td><td>1919</td><td>N971DL</td><td>LGA</td><td>MSP</td><td>170</td><td>1020</td><td>6</td><td>10</td><td>2013-01-01 06:00:00</td><td>  0</td></tr>\n",
              "\t<tr><td>2013</td><td>1</td><td>1</td><td>602</td><td>605</td><td>-3</td><td> 821</td><td> 805</td><td> 16</td><td>MQ</td><td>4401</td><td>N730MQ</td><td>LGA</td><td>DTW</td><td>105</td><td> 502</td><td>6</td><td> 5</td><td>2013-01-01 06:00:00</td><td>-19</td></tr>\n",
              "\t<tr><td>2013</td><td>1</td><td>1</td><td>606</td><td>610</td><td>-4</td><td> 858</td><td> 910</td><td>-12</td><td>AA</td><td>1895</td><td>N633AA</td><td>EWR</td><td>MIA</td><td>152</td><td>1085</td><td>6</td><td>10</td><td>2013-01-01 06:00:00</td><td>  8</td></tr>\n",
              "\t<tr><td>2013</td><td>1</td><td>1</td><td>606</td><td>610</td><td>-4</td><td> 837</td><td> 845</td><td> -8</td><td>DL</td><td>1743</td><td>N3739P</td><td>JFK</td><td>ATL</td><td>128</td><td> 760</td><td>6</td><td>10</td><td>2013-01-01 06:00:00</td><td>  4</td></tr>\n",
              "\t<tr><td>2013</td><td>1</td><td>1</td><td>607</td><td>607</td><td> 0</td><td> 858</td><td> 915</td><td>-17</td><td>UA</td><td>1077</td><td>N53442</td><td>EWR</td><td>MIA</td><td>157</td><td>1085</td><td>6</td><td> 7</td><td>2013-01-01 06:00:00</td><td> 17</td></tr>\n",
              "\t<tr><td>2013</td><td>1</td><td>1</td><td>608</td><td>600</td><td> 8</td><td> 807</td><td> 735</td><td> 32</td><td>MQ</td><td>3768</td><td>N9EAMQ</td><td>EWR</td><td>ORD</td><td>139</td><td> 719</td><td>6</td><td> 0</td><td>2013-01-01 06:00:00</td><td>-24</td></tr>\n",
              "\t<tr><td>2013</td><td>1</td><td>1</td><td>611</td><td>600</td><td>11</td><td> 945</td><td> 931</td><td> 14</td><td>UA</td><td> 303</td><td>N532UA</td><td>JFK</td><td>SFO</td><td>366</td><td>2586</td><td>6</td><td> 0</td><td>2013-01-01 06:00:00</td><td> -3</td></tr>\n",
              "\t<tr><td>2013</td><td>1</td><td>1</td><td>613</td><td>610</td><td> 3</td><td> 925</td><td> 921</td><td>  4</td><td>B6</td><td> 135</td><td>N635JB</td><td>JFK</td><td>RSW</td><td>175</td><td>1074</td><td>6</td><td>10</td><td>2013-01-01 06:00:00</td><td> -1</td></tr>\n",
              "\t<tr><td>2013</td><td>1</td><td>1</td><td>615</td><td>615</td><td> 0</td><td>1039</td><td>1100</td><td>-21</td><td>B6</td><td> 709</td><td>N794JB</td><td>JFK</td><td>SJU</td><td>182</td><td>1598</td><td>6</td><td>15</td><td>2013-01-01 06:00:00</td><td> 21</td></tr>\n",
              "\t<tr><td>2013</td><td>1</td><td>1</td><td>615</td><td>615</td><td> 0</td><td> 833</td><td> 842</td><td> -9</td><td>DL</td><td> 575</td><td>N326NB</td><td>EWR</td><td>ATL</td><td>120</td><td> 746</td><td>6</td><td>15</td><td>2013-01-01 06:00:00</td><td>  9</td></tr>\n",
              "\t<tr><td>⋮</td><td>⋮</td><td>⋮</td><td>⋮</td><td>⋮</td><td>⋮</td><td>⋮</td><td>⋮</td><td>⋮</td><td>⋮</td><td>⋮</td><td>⋮</td><td>⋮</td><td>⋮</td><td>⋮</td><td>⋮</td><td>⋮</td><td>⋮</td><td>⋮</td><td>⋮</td></tr>\n",
              "\t<tr><td>2013</td><td>9</td><td>30</td><td>2123</td><td>2125</td><td> -2</td><td>2223</td><td>2247</td><td>-24</td><td>EV</td><td>5489</td><td>N712EV</td><td>LGA</td><td>CHO</td><td> 45</td><td> 305</td><td>21</td><td>25</td><td>2013-09-30 21:00:00</td><td> 22</td></tr>\n",
              "\t<tr><td>2013</td><td>9</td><td>30</td><td>2127</td><td>2129</td><td> -2</td><td>2314</td><td>2323</td><td> -9</td><td>EV</td><td>3833</td><td>N16546</td><td>EWR</td><td>CLT</td><td> 72</td><td> 529</td><td>21</td><td>29</td><td>2013-09-30 21:00:00</td><td>  7</td></tr>\n",
              "\t<tr><td>2013</td><td>9</td><td>30</td><td>2128</td><td>2130</td><td> -2</td><td>2328</td><td>2359</td><td>-31</td><td>B6</td><td>  97</td><td>N807JB</td><td>JFK</td><td>DEN</td><td>213</td><td>1626</td><td>21</td><td>30</td><td>2013-09-30 21:00:00</td><td> 29</td></tr>\n",
              "\t<tr><td>2013</td><td>9</td><td>30</td><td>2129</td><td>2059</td><td> 30</td><td>2230</td><td>2232</td><td> -2</td><td>EV</td><td>5048</td><td>N751EV</td><td>LGA</td><td>RIC</td><td> 45</td><td> 292</td><td>20</td><td>59</td><td>2013-09-30 20:00:00</td><td> 32</td></tr>\n",
              "\t<tr><td>2013</td><td>9</td><td>30</td><td>2131</td><td>2140</td><td> -9</td><td>2225</td><td>2255</td><td>-30</td><td>MQ</td><td>3621</td><td>N807MQ</td><td>JFK</td><td>DCA</td><td> 36</td><td> 213</td><td>21</td><td>40</td><td>2013-09-30 21:00:00</td><td> 21</td></tr>\n",
              "\t<tr><td>2013</td><td>9</td><td>30</td><td>2140</td><td>2140</td><td>  0</td><td>  10</td><td>  40</td><td>-30</td><td>AA</td><td> 185</td><td>N335AA</td><td>JFK</td><td>LAX</td><td>298</td><td>2475</td><td>21</td><td>40</td><td>2013-09-30 21:00:00</td><td> 30</td></tr>\n",
              "\t<tr><td>2013</td><td>9</td><td>30</td><td>2142</td><td>2129</td><td> 13</td><td>2250</td><td>2239</td><td> 11</td><td>EV</td><td>4509</td><td>N12957</td><td>EWR</td><td>PWM</td><td> 47</td><td> 284</td><td>21</td><td>29</td><td>2013-09-30 21:00:00</td><td>  2</td></tr>\n",
              "\t<tr><td>2013</td><td>9</td><td>30</td><td>2145</td><td>2145</td><td>  0</td><td> 115</td><td> 140</td><td>-25</td><td>B6</td><td>1103</td><td>N633JB</td><td>JFK</td><td>SJU</td><td>192</td><td>1598</td><td>21</td><td>45</td><td>2013-09-30 21:00:00</td><td> 25</td></tr>\n",
              "\t<tr><td>2013</td><td>9</td><td>30</td><td>2147</td><td>2137</td><td> 10</td><td>  30</td><td>  27</td><td>  3</td><td>B6</td><td>1371</td><td>N627JB</td><td>LGA</td><td>FLL</td><td>139</td><td>1076</td><td>21</td><td>37</td><td>2013-09-30 21:00:00</td><td>  7</td></tr>\n",
              "\t<tr><td>2013</td><td>9</td><td>30</td><td>2149</td><td>2156</td><td> -7</td><td>2245</td><td>2308</td><td>-23</td><td>UA</td><td> 523</td><td>N813UA</td><td>EWR</td><td>BOS</td><td> 37</td><td> 200</td><td>21</td><td>56</td><td>2013-09-30 21:00:00</td><td> 16</td></tr>\n",
              "\t<tr><td>2013</td><td>9</td><td>30</td><td>2150</td><td>2159</td><td> -9</td><td>2250</td><td>2306</td><td>-16</td><td>EV</td><td>3842</td><td>N10575</td><td>EWR</td><td>MHT</td><td> 39</td><td> 209</td><td>21</td><td>59</td><td>2013-09-30 21:00:00</td><td>  7</td></tr>\n",
              "\t<tr><td>2013</td><td>9</td><td>30</td><td>2159</td><td>1845</td><td>194</td><td>2344</td><td>2030</td><td>194</td><td>9E</td><td>3320</td><td>N906XJ</td><td>JFK</td><td>BUF</td><td> 50</td><td> 301</td><td>18</td><td>45</td><td>2013-09-30 18:00:00</td><td>  0</td></tr>\n",
              "\t<tr><td>2013</td><td>9</td><td>30</td><td>2203</td><td>2205</td><td> -2</td><td>2339</td><td>2331</td><td>  8</td><td>EV</td><td>5311</td><td>N722EV</td><td>LGA</td><td>BGR</td><td> 61</td><td> 378</td><td>22</td><td> 5</td><td>2013-09-30 22:00:00</td><td>-10</td></tr>\n",
              "\t<tr><td>2013</td><td>9</td><td>30</td><td>2207</td><td>2140</td><td> 27</td><td>2257</td><td>2250</td><td>  7</td><td>MQ</td><td>3660</td><td>N532MQ</td><td>LGA</td><td>BNA</td><td> 97</td><td> 764</td><td>21</td><td>40</td><td>2013-09-30 21:00:00</td><td> 20</td></tr>\n",
              "\t<tr><td>2013</td><td>9</td><td>30</td><td>2211</td><td>2059</td><td> 72</td><td>2339</td><td>2242</td><td> 57</td><td>EV</td><td>4672</td><td>N12145</td><td>EWR</td><td>STL</td><td>120</td><td> 872</td><td>20</td><td>59</td><td>2013-09-30 20:00:00</td><td> 15</td></tr>\n",
              "\t<tr><td>2013</td><td>9</td><td>30</td><td>2231</td><td>2245</td><td>-14</td><td>2335</td><td>2356</td><td>-21</td><td>B6</td><td> 108</td><td>N193JB</td><td>JFK</td><td>PWM</td><td> 48</td><td> 273</td><td>22</td><td>45</td><td>2013-09-30 22:00:00</td><td>  7</td></tr>\n",
              "\t<tr><td>2013</td><td>9</td><td>30</td><td>2233</td><td>2113</td><td> 80</td><td> 112</td><td>  30</td><td> 42</td><td>UA</td><td> 471</td><td>N578UA</td><td>EWR</td><td>SFO</td><td>318</td><td>2565</td><td>21</td><td>13</td><td>2013-09-30 21:00:00</td><td> 38</td></tr>\n",
              "\t<tr><td>2013</td><td>9</td><td>30</td><td>2235</td><td>2001</td><td>154</td><td>  59</td><td>2249</td><td>130</td><td>B6</td><td>1083</td><td>N804JB</td><td>JFK</td><td>MCO</td><td>123</td><td> 944</td><td>20</td><td> 1</td><td>2013-09-30 20:00:00</td><td> 24</td></tr>\n",
              "\t<tr><td>2013</td><td>9</td><td>30</td><td>2237</td><td>2245</td><td> -8</td><td>2345</td><td>2353</td><td> -8</td><td>B6</td><td> 234</td><td>N318JB</td><td>JFK</td><td>BTV</td><td> 43</td><td> 266</td><td>22</td><td>45</td><td>2013-09-30 22:00:00</td><td>  0</td></tr>\n",
              "\t<tr><td>2013</td><td>9</td><td>30</td><td>2240</td><td>2245</td><td> -5</td><td>2334</td><td>2351</td><td>-17</td><td>B6</td><td>1816</td><td>N354JB</td><td>JFK</td><td>SYR</td><td> 41</td><td> 209</td><td>22</td><td>45</td><td>2013-09-30 22:00:00</td><td> 12</td></tr>\n",
              "\t<tr><td>2013</td><td>9</td><td>30</td><td>2240</td><td>2250</td><td>-10</td><td>2347</td><td>   7</td><td>-20</td><td>B6</td><td>2002</td><td>N281JB</td><td>JFK</td><td>BUF</td><td> 52</td><td> 301</td><td>22</td><td>50</td><td>2013-09-30 22:00:00</td><td> 10</td></tr>\n",
              "\t<tr><td>2013</td><td>9</td><td>30</td><td>2241</td><td>2246</td><td> -5</td><td>2345</td><td>   1</td><td>-16</td><td>B6</td><td> 486</td><td>N346JB</td><td>JFK</td><td>ROC</td><td> 47</td><td> 264</td><td>22</td><td>46</td><td>2013-09-30 22:00:00</td><td> 11</td></tr>\n",
              "\t<tr><td>2013</td><td>9</td><td>30</td><td>2307</td><td>2255</td><td> 12</td><td>2359</td><td>2358</td><td>  1</td><td>B6</td><td> 718</td><td>N565JB</td><td>JFK</td><td>BOS</td><td> 33</td><td> 187</td><td>22</td><td>55</td><td>2013-09-30 22:00:00</td><td> 11</td></tr>\n",
              "\t<tr><td>2013</td><td>9</td><td>30</td><td>2349</td><td>2359</td><td>-10</td><td> 325</td><td> 350</td><td>-25</td><td>B6</td><td> 745</td><td>N516JB</td><td>JFK</td><td>PSE</td><td>196</td><td>1617</td><td>23</td><td>59</td><td>2013-09-30 23:00:00</td><td> 15</td></tr>\n",
              "\t<tr><td>2013</td><td>9</td><td>30</td><td>  NA</td><td>1842</td><td> NA</td><td>  NA</td><td>2019</td><td> NA</td><td>EV</td><td>5274</td><td>N740EV</td><td>LGA</td><td>BNA</td><td> NA</td><td> 764</td><td>18</td><td>42</td><td>2013-09-30 18:00:00</td><td> NA</td></tr>\n",
              "\t<tr><td>2013</td><td>9</td><td>30</td><td>  NA</td><td>1455</td><td> NA</td><td>  NA</td><td>1634</td><td> NA</td><td>9E</td><td>3393</td><td>NA    </td><td>JFK</td><td>DCA</td><td> NA</td><td> 213</td><td>14</td><td>55</td><td>2013-09-30 14:00:00</td><td> NA</td></tr>\n",
              "\t<tr><td>2013</td><td>9</td><td>30</td><td>  NA</td><td>2200</td><td> NA</td><td>  NA</td><td>2312</td><td> NA</td><td>9E</td><td>3525</td><td>NA    </td><td>LGA</td><td>SYR</td><td> NA</td><td> 198</td><td>22</td><td> 0</td><td>2013-09-30 22:00:00</td><td> NA</td></tr>\n",
              "\t<tr><td>2013</td><td>9</td><td>30</td><td>  NA</td><td>1210</td><td> NA</td><td>  NA</td><td>1330</td><td> NA</td><td>MQ</td><td>3461</td><td>N535MQ</td><td>LGA</td><td>BNA</td><td> NA</td><td> 764</td><td>12</td><td>10</td><td>2013-09-30 12:00:00</td><td> NA</td></tr>\n",
              "\t<tr><td>2013</td><td>9</td><td>30</td><td>  NA</td><td>1159</td><td> NA</td><td>  NA</td><td>1344</td><td> NA</td><td>MQ</td><td>3572</td><td>N511MQ</td><td>LGA</td><td>CLE</td><td> NA</td><td> 419</td><td>11</td><td>59</td><td>2013-09-30 11:00:00</td><td> NA</td></tr>\n",
              "\t<tr><td>2013</td><td>9</td><td>30</td><td>  NA</td><td> 840</td><td> NA</td><td>  NA</td><td>1020</td><td> NA</td><td>MQ</td><td>3531</td><td>N839MQ</td><td>LGA</td><td>RDU</td><td> NA</td><td> 431</td><td> 8</td><td>40</td><td>2013-09-30 08:00:00</td><td> NA</td></tr>\n",
              "</tbody>\n",
              "</table>\n"
            ],
            "text/markdown": "\nA tibble: 336776 × 20\n\n| year &lt;int&gt; | month &lt;int&gt; | day &lt;int&gt; | dep_time &lt;int&gt; | sched_dep_time &lt;int&gt; | dep_delay &lt;dbl&gt; | arr_time &lt;int&gt; | sched_arr_time &lt;int&gt; | arr_delay &lt;dbl&gt; | carrier &lt;chr&gt; | flight &lt;int&gt; | tailnum &lt;chr&gt; | origin &lt;chr&gt; | dest &lt;chr&gt; | air_time &lt;dbl&gt; | distance &lt;dbl&gt; | hour &lt;dbl&gt; | minute &lt;dbl&gt; | time_hour &lt;dttm&gt; | gain &lt;dbl&gt; |\n|---|---|---|---|---|---|---|---|---|---|---|---|---|---|---|---|---|---|---|---|\n| 2013 | 1 | 1 | 517 | 515 |  2 |  830 |  819 |  11 | UA | 1545 | N14228 | EWR | IAH | 227 | 1400 | 5 | 15 | 2013-01-01 05:00:00 |  -9 |\n| 2013 | 1 | 1 | 533 | 529 |  4 |  850 |  830 |  20 | UA | 1714 | N24211 | LGA | IAH | 227 | 1416 | 5 | 29 | 2013-01-01 05:00:00 | -16 |\n| 2013 | 1 | 1 | 542 | 540 |  2 |  923 |  850 |  33 | AA | 1141 | N619AA | JFK | MIA | 160 | 1089 | 5 | 40 | 2013-01-01 05:00:00 | -31 |\n| 2013 | 1 | 1 | 544 | 545 | -1 | 1004 | 1022 | -18 | B6 |  725 | N804JB | JFK | BQN | 183 | 1576 | 5 | 45 | 2013-01-01 05:00:00 |  17 |\n| 2013 | 1 | 1 | 554 | 600 | -6 |  812 |  837 | -25 | DL |  461 | N668DN | LGA | ATL | 116 |  762 | 6 |  0 | 2013-01-01 06:00:00 |  19 |\n| 2013 | 1 | 1 | 554 | 558 | -4 |  740 |  728 |  12 | UA | 1696 | N39463 | EWR | ORD | 150 |  719 | 5 | 58 | 2013-01-01 05:00:00 | -16 |\n| 2013 | 1 | 1 | 555 | 600 | -5 |  913 |  854 |  19 | B6 |  507 | N516JB | EWR | FLL | 158 | 1065 | 6 |  0 | 2013-01-01 06:00:00 | -24 |\n| 2013 | 1 | 1 | 557 | 600 | -3 |  709 |  723 | -14 | EV | 5708 | N829AS | LGA | IAD |  53 |  229 | 6 |  0 | 2013-01-01 06:00:00 |  11 |\n| 2013 | 1 | 1 | 557 | 600 | -3 |  838 |  846 |  -8 | B6 |   79 | N593JB | JFK | MCO | 140 |  944 | 6 |  0 | 2013-01-01 06:00:00 |   5 |\n| 2013 | 1 | 1 | 558 | 600 | -2 |  753 |  745 |   8 | AA |  301 | N3ALAA | LGA | ORD | 138 |  733 | 6 |  0 | 2013-01-01 06:00:00 | -10 |\n| 2013 | 1 | 1 | 558 | 600 | -2 |  849 |  851 |  -2 | B6 |   49 | N793JB | JFK | PBI | 149 | 1028 | 6 |  0 | 2013-01-01 06:00:00 |   0 |\n| 2013 | 1 | 1 | 558 | 600 | -2 |  853 |  856 |  -3 | B6 |   71 | N657JB | JFK | TPA | 158 | 1005 | 6 |  0 | 2013-01-01 06:00:00 |   1 |\n| 2013 | 1 | 1 | 558 | 600 | -2 |  924 |  917 |   7 | UA |  194 | N29129 | JFK | LAX | 345 | 2475 | 6 |  0 | 2013-01-01 06:00:00 |  -9 |\n| 2013 | 1 | 1 | 558 | 600 | -2 |  923 |  937 | -14 | UA | 1124 | N53441 | EWR | SFO | 361 | 2565 | 6 |  0 | 2013-01-01 06:00:00 |  12 |\n| 2013 | 1 | 1 | 559 | 600 | -1 |  941 |  910 |  31 | AA |  707 | N3DUAA | LGA | DFW | 257 | 1389 | 6 |  0 | 2013-01-01 06:00:00 | -32 |\n| 2013 | 1 | 1 | 559 | 559 |  0 |  702 |  706 |  -4 | B6 | 1806 | N708JB | JFK | BOS |  44 |  187 | 5 | 59 | 2013-01-01 05:00:00 |   4 |\n| 2013 | 1 | 1 | 559 | 600 | -1 |  854 |  902 |  -8 | UA | 1187 | N76515 | EWR | LAS | 337 | 2227 | 6 |  0 | 2013-01-01 06:00:00 |   7 |\n| 2013 | 1 | 1 | 600 | 600 |  0 |  851 |  858 |  -7 | B6 |  371 | N595JB | LGA | FLL | 152 | 1076 | 6 |  0 | 2013-01-01 06:00:00 |   7 |\n| 2013 | 1 | 1 | 600 | 600 |  0 |  837 |  825 |  12 | MQ | 4650 | N542MQ | LGA | ATL | 134 |  762 | 6 |  0 | 2013-01-01 06:00:00 | -12 |\n| 2013 | 1 | 1 | 601 | 600 |  1 |  844 |  850 |  -6 | B6 |  343 | N644JB | EWR | PBI | 147 | 1023 | 6 |  0 | 2013-01-01 06:00:00 |   7 |\n| 2013 | 1 | 1 | 602 | 610 | -8 |  812 |  820 |  -8 | DL | 1919 | N971DL | LGA | MSP | 170 | 1020 | 6 | 10 | 2013-01-01 06:00:00 |   0 |\n| 2013 | 1 | 1 | 602 | 605 | -3 |  821 |  805 |  16 | MQ | 4401 | N730MQ | LGA | DTW | 105 |  502 | 6 |  5 | 2013-01-01 06:00:00 | -19 |\n| 2013 | 1 | 1 | 606 | 610 | -4 |  858 |  910 | -12 | AA | 1895 | N633AA | EWR | MIA | 152 | 1085 | 6 | 10 | 2013-01-01 06:00:00 |   8 |\n| 2013 | 1 | 1 | 606 | 610 | -4 |  837 |  845 |  -8 | DL | 1743 | N3739P | JFK | ATL | 128 |  760 | 6 | 10 | 2013-01-01 06:00:00 |   4 |\n| 2013 | 1 | 1 | 607 | 607 |  0 |  858 |  915 | -17 | UA | 1077 | N53442 | EWR | MIA | 157 | 1085 | 6 |  7 | 2013-01-01 06:00:00 |  17 |\n| 2013 | 1 | 1 | 608 | 600 |  8 |  807 |  735 |  32 | MQ | 3768 | N9EAMQ | EWR | ORD | 139 |  719 | 6 |  0 | 2013-01-01 06:00:00 | -24 |\n| 2013 | 1 | 1 | 611 | 600 | 11 |  945 |  931 |  14 | UA |  303 | N532UA | JFK | SFO | 366 | 2586 | 6 |  0 | 2013-01-01 06:00:00 |  -3 |\n| 2013 | 1 | 1 | 613 | 610 |  3 |  925 |  921 |   4 | B6 |  135 | N635JB | JFK | RSW | 175 | 1074 | 6 | 10 | 2013-01-01 06:00:00 |  -1 |\n| 2013 | 1 | 1 | 615 | 615 |  0 | 1039 | 1100 | -21 | B6 |  709 | N794JB | JFK | SJU | 182 | 1598 | 6 | 15 | 2013-01-01 06:00:00 |  21 |\n| 2013 | 1 | 1 | 615 | 615 |  0 |  833 |  842 |  -9 | DL |  575 | N326NB | EWR | ATL | 120 |  746 | 6 | 15 | 2013-01-01 06:00:00 |   9 |\n| ⋮ | ⋮ | ⋮ | ⋮ | ⋮ | ⋮ | ⋮ | ⋮ | ⋮ | ⋮ | ⋮ | ⋮ | ⋮ | ⋮ | ⋮ | ⋮ | ⋮ | ⋮ | ⋮ | ⋮ |\n| 2013 | 9 | 30 | 2123 | 2125 |  -2 | 2223 | 2247 | -24 | EV | 5489 | N712EV | LGA | CHO |  45 |  305 | 21 | 25 | 2013-09-30 21:00:00 |  22 |\n| 2013 | 9 | 30 | 2127 | 2129 |  -2 | 2314 | 2323 |  -9 | EV | 3833 | N16546 | EWR | CLT |  72 |  529 | 21 | 29 | 2013-09-30 21:00:00 |   7 |\n| 2013 | 9 | 30 | 2128 | 2130 |  -2 | 2328 | 2359 | -31 | B6 |   97 | N807JB | JFK | DEN | 213 | 1626 | 21 | 30 | 2013-09-30 21:00:00 |  29 |\n| 2013 | 9 | 30 | 2129 | 2059 |  30 | 2230 | 2232 |  -2 | EV | 5048 | N751EV | LGA | RIC |  45 |  292 | 20 | 59 | 2013-09-30 20:00:00 |  32 |\n| 2013 | 9 | 30 | 2131 | 2140 |  -9 | 2225 | 2255 | -30 | MQ | 3621 | N807MQ | JFK | DCA |  36 |  213 | 21 | 40 | 2013-09-30 21:00:00 |  21 |\n| 2013 | 9 | 30 | 2140 | 2140 |   0 |   10 |   40 | -30 | AA |  185 | N335AA | JFK | LAX | 298 | 2475 | 21 | 40 | 2013-09-30 21:00:00 |  30 |\n| 2013 | 9 | 30 | 2142 | 2129 |  13 | 2250 | 2239 |  11 | EV | 4509 | N12957 | EWR | PWM |  47 |  284 | 21 | 29 | 2013-09-30 21:00:00 |   2 |\n| 2013 | 9 | 30 | 2145 | 2145 |   0 |  115 |  140 | -25 | B6 | 1103 | N633JB | JFK | SJU | 192 | 1598 | 21 | 45 | 2013-09-30 21:00:00 |  25 |\n| 2013 | 9 | 30 | 2147 | 2137 |  10 |   30 |   27 |   3 | B6 | 1371 | N627JB | LGA | FLL | 139 | 1076 | 21 | 37 | 2013-09-30 21:00:00 |   7 |\n| 2013 | 9 | 30 | 2149 | 2156 |  -7 | 2245 | 2308 | -23 | UA |  523 | N813UA | EWR | BOS |  37 |  200 | 21 | 56 | 2013-09-30 21:00:00 |  16 |\n| 2013 | 9 | 30 | 2150 | 2159 |  -9 | 2250 | 2306 | -16 | EV | 3842 | N10575 | EWR | MHT |  39 |  209 | 21 | 59 | 2013-09-30 21:00:00 |   7 |\n| 2013 | 9 | 30 | 2159 | 1845 | 194 | 2344 | 2030 | 194 | 9E | 3320 | N906XJ | JFK | BUF |  50 |  301 | 18 | 45 | 2013-09-30 18:00:00 |   0 |\n| 2013 | 9 | 30 | 2203 | 2205 |  -2 | 2339 | 2331 |   8 | EV | 5311 | N722EV | LGA | BGR |  61 |  378 | 22 |  5 | 2013-09-30 22:00:00 | -10 |\n| 2013 | 9 | 30 | 2207 | 2140 |  27 | 2257 | 2250 |   7 | MQ | 3660 | N532MQ | LGA | BNA |  97 |  764 | 21 | 40 | 2013-09-30 21:00:00 |  20 |\n| 2013 | 9 | 30 | 2211 | 2059 |  72 | 2339 | 2242 |  57 | EV | 4672 | N12145 | EWR | STL | 120 |  872 | 20 | 59 | 2013-09-30 20:00:00 |  15 |\n| 2013 | 9 | 30 | 2231 | 2245 | -14 | 2335 | 2356 | -21 | B6 |  108 | N193JB | JFK | PWM |  48 |  273 | 22 | 45 | 2013-09-30 22:00:00 |   7 |\n| 2013 | 9 | 30 | 2233 | 2113 |  80 |  112 |   30 |  42 | UA |  471 | N578UA | EWR | SFO | 318 | 2565 | 21 | 13 | 2013-09-30 21:00:00 |  38 |\n| 2013 | 9 | 30 | 2235 | 2001 | 154 |   59 | 2249 | 130 | B6 | 1083 | N804JB | JFK | MCO | 123 |  944 | 20 |  1 | 2013-09-30 20:00:00 |  24 |\n| 2013 | 9 | 30 | 2237 | 2245 |  -8 | 2345 | 2353 |  -8 | B6 |  234 | N318JB | JFK | BTV |  43 |  266 | 22 | 45 | 2013-09-30 22:00:00 |   0 |\n| 2013 | 9 | 30 | 2240 | 2245 |  -5 | 2334 | 2351 | -17 | B6 | 1816 | N354JB | JFK | SYR |  41 |  209 | 22 | 45 | 2013-09-30 22:00:00 |  12 |\n| 2013 | 9 | 30 | 2240 | 2250 | -10 | 2347 |    7 | -20 | B6 | 2002 | N281JB | JFK | BUF |  52 |  301 | 22 | 50 | 2013-09-30 22:00:00 |  10 |\n| 2013 | 9 | 30 | 2241 | 2246 |  -5 | 2345 |    1 | -16 | B6 |  486 | N346JB | JFK | ROC |  47 |  264 | 22 | 46 | 2013-09-30 22:00:00 |  11 |\n| 2013 | 9 | 30 | 2307 | 2255 |  12 | 2359 | 2358 |   1 | B6 |  718 | N565JB | JFK | BOS |  33 |  187 | 22 | 55 | 2013-09-30 22:00:00 |  11 |\n| 2013 | 9 | 30 | 2349 | 2359 | -10 |  325 |  350 | -25 | B6 |  745 | N516JB | JFK | PSE | 196 | 1617 | 23 | 59 | 2013-09-30 23:00:00 |  15 |\n| 2013 | 9 | 30 |   NA | 1842 |  NA |   NA | 2019 |  NA | EV | 5274 | N740EV | LGA | BNA |  NA |  764 | 18 | 42 | 2013-09-30 18:00:00 |  NA |\n| 2013 | 9 | 30 |   NA | 1455 |  NA |   NA | 1634 |  NA | 9E | 3393 | NA     | JFK | DCA |  NA |  213 | 14 | 55 | 2013-09-30 14:00:00 |  NA |\n| 2013 | 9 | 30 |   NA | 2200 |  NA |   NA | 2312 |  NA | 9E | 3525 | NA     | LGA | SYR |  NA |  198 | 22 |  0 | 2013-09-30 22:00:00 |  NA |\n| 2013 | 9 | 30 |   NA | 1210 |  NA |   NA | 1330 |  NA | MQ | 3461 | N535MQ | LGA | BNA |  NA |  764 | 12 | 10 | 2013-09-30 12:00:00 |  NA |\n| 2013 | 9 | 30 |   NA | 1159 |  NA |   NA | 1344 |  NA | MQ | 3572 | N511MQ | LGA | CLE |  NA |  419 | 11 | 59 | 2013-09-30 11:00:00 |  NA |\n| 2013 | 9 | 30 |   NA |  840 |  NA |   NA | 1020 |  NA | MQ | 3531 | N839MQ | LGA | RDU |  NA |  431 |  8 | 40 | 2013-09-30 08:00:00 |  NA |\n\n",
            "text/latex": "A tibble: 336776 × 20\n\\begin{tabular}{llllllllllllllllllll}\n year & month & day & dep\\_time & sched\\_dep\\_time & dep\\_delay & arr\\_time & sched\\_arr\\_time & arr\\_delay & carrier & flight & tailnum & origin & dest & air\\_time & distance & hour & minute & time\\_hour & gain\\\\\n <int> & <int> & <int> & <int> & <int> & <dbl> & <int> & <int> & <dbl> & <chr> & <int> & <chr> & <chr> & <chr> & <dbl> & <dbl> & <dbl> & <dbl> & <dttm> & <dbl>\\\\\n\\hline\n\t 2013 & 1 & 1 & 517 & 515 &  2 &  830 &  819 &  11 & UA & 1545 & N14228 & EWR & IAH & 227 & 1400 & 5 & 15 & 2013-01-01 05:00:00 &  -9\\\\\n\t 2013 & 1 & 1 & 533 & 529 &  4 &  850 &  830 &  20 & UA & 1714 & N24211 & LGA & IAH & 227 & 1416 & 5 & 29 & 2013-01-01 05:00:00 & -16\\\\\n\t 2013 & 1 & 1 & 542 & 540 &  2 &  923 &  850 &  33 & AA & 1141 & N619AA & JFK & MIA & 160 & 1089 & 5 & 40 & 2013-01-01 05:00:00 & -31\\\\\n\t 2013 & 1 & 1 & 544 & 545 & -1 & 1004 & 1022 & -18 & B6 &  725 & N804JB & JFK & BQN & 183 & 1576 & 5 & 45 & 2013-01-01 05:00:00 &  17\\\\\n\t 2013 & 1 & 1 & 554 & 600 & -6 &  812 &  837 & -25 & DL &  461 & N668DN & LGA & ATL & 116 &  762 & 6 &  0 & 2013-01-01 06:00:00 &  19\\\\\n\t 2013 & 1 & 1 & 554 & 558 & -4 &  740 &  728 &  12 & UA & 1696 & N39463 & EWR & ORD & 150 &  719 & 5 & 58 & 2013-01-01 05:00:00 & -16\\\\\n\t 2013 & 1 & 1 & 555 & 600 & -5 &  913 &  854 &  19 & B6 &  507 & N516JB & EWR & FLL & 158 & 1065 & 6 &  0 & 2013-01-01 06:00:00 & -24\\\\\n\t 2013 & 1 & 1 & 557 & 600 & -3 &  709 &  723 & -14 & EV & 5708 & N829AS & LGA & IAD &  53 &  229 & 6 &  0 & 2013-01-01 06:00:00 &  11\\\\\n\t 2013 & 1 & 1 & 557 & 600 & -3 &  838 &  846 &  -8 & B6 &   79 & N593JB & JFK & MCO & 140 &  944 & 6 &  0 & 2013-01-01 06:00:00 &   5\\\\\n\t 2013 & 1 & 1 & 558 & 600 & -2 &  753 &  745 &   8 & AA &  301 & N3ALAA & LGA & ORD & 138 &  733 & 6 &  0 & 2013-01-01 06:00:00 & -10\\\\\n\t 2013 & 1 & 1 & 558 & 600 & -2 &  849 &  851 &  -2 & B6 &   49 & N793JB & JFK & PBI & 149 & 1028 & 6 &  0 & 2013-01-01 06:00:00 &   0\\\\\n\t 2013 & 1 & 1 & 558 & 600 & -2 &  853 &  856 &  -3 & B6 &   71 & N657JB & JFK & TPA & 158 & 1005 & 6 &  0 & 2013-01-01 06:00:00 &   1\\\\\n\t 2013 & 1 & 1 & 558 & 600 & -2 &  924 &  917 &   7 & UA &  194 & N29129 & JFK & LAX & 345 & 2475 & 6 &  0 & 2013-01-01 06:00:00 &  -9\\\\\n\t 2013 & 1 & 1 & 558 & 600 & -2 &  923 &  937 & -14 & UA & 1124 & N53441 & EWR & SFO & 361 & 2565 & 6 &  0 & 2013-01-01 06:00:00 &  12\\\\\n\t 2013 & 1 & 1 & 559 & 600 & -1 &  941 &  910 &  31 & AA &  707 & N3DUAA & LGA & DFW & 257 & 1389 & 6 &  0 & 2013-01-01 06:00:00 & -32\\\\\n\t 2013 & 1 & 1 & 559 & 559 &  0 &  702 &  706 &  -4 & B6 & 1806 & N708JB & JFK & BOS &  44 &  187 & 5 & 59 & 2013-01-01 05:00:00 &   4\\\\\n\t 2013 & 1 & 1 & 559 & 600 & -1 &  854 &  902 &  -8 & UA & 1187 & N76515 & EWR & LAS & 337 & 2227 & 6 &  0 & 2013-01-01 06:00:00 &   7\\\\\n\t 2013 & 1 & 1 & 600 & 600 &  0 &  851 &  858 &  -7 & B6 &  371 & N595JB & LGA & FLL & 152 & 1076 & 6 &  0 & 2013-01-01 06:00:00 &   7\\\\\n\t 2013 & 1 & 1 & 600 & 600 &  0 &  837 &  825 &  12 & MQ & 4650 & N542MQ & LGA & ATL & 134 &  762 & 6 &  0 & 2013-01-01 06:00:00 & -12\\\\\n\t 2013 & 1 & 1 & 601 & 600 &  1 &  844 &  850 &  -6 & B6 &  343 & N644JB & EWR & PBI & 147 & 1023 & 6 &  0 & 2013-01-01 06:00:00 &   7\\\\\n\t 2013 & 1 & 1 & 602 & 610 & -8 &  812 &  820 &  -8 & DL & 1919 & N971DL & LGA & MSP & 170 & 1020 & 6 & 10 & 2013-01-01 06:00:00 &   0\\\\\n\t 2013 & 1 & 1 & 602 & 605 & -3 &  821 &  805 &  16 & MQ & 4401 & N730MQ & LGA & DTW & 105 &  502 & 6 &  5 & 2013-01-01 06:00:00 & -19\\\\\n\t 2013 & 1 & 1 & 606 & 610 & -4 &  858 &  910 & -12 & AA & 1895 & N633AA & EWR & MIA & 152 & 1085 & 6 & 10 & 2013-01-01 06:00:00 &   8\\\\\n\t 2013 & 1 & 1 & 606 & 610 & -4 &  837 &  845 &  -8 & DL & 1743 & N3739P & JFK & ATL & 128 &  760 & 6 & 10 & 2013-01-01 06:00:00 &   4\\\\\n\t 2013 & 1 & 1 & 607 & 607 &  0 &  858 &  915 & -17 & UA & 1077 & N53442 & EWR & MIA & 157 & 1085 & 6 &  7 & 2013-01-01 06:00:00 &  17\\\\\n\t 2013 & 1 & 1 & 608 & 600 &  8 &  807 &  735 &  32 & MQ & 3768 & N9EAMQ & EWR & ORD & 139 &  719 & 6 &  0 & 2013-01-01 06:00:00 & -24\\\\\n\t 2013 & 1 & 1 & 611 & 600 & 11 &  945 &  931 &  14 & UA &  303 & N532UA & JFK & SFO & 366 & 2586 & 6 &  0 & 2013-01-01 06:00:00 &  -3\\\\\n\t 2013 & 1 & 1 & 613 & 610 &  3 &  925 &  921 &   4 & B6 &  135 & N635JB & JFK & RSW & 175 & 1074 & 6 & 10 & 2013-01-01 06:00:00 &  -1\\\\\n\t 2013 & 1 & 1 & 615 & 615 &  0 & 1039 & 1100 & -21 & B6 &  709 & N794JB & JFK & SJU & 182 & 1598 & 6 & 15 & 2013-01-01 06:00:00 &  21\\\\\n\t 2013 & 1 & 1 & 615 & 615 &  0 &  833 &  842 &  -9 & DL &  575 & N326NB & EWR & ATL & 120 &  746 & 6 & 15 & 2013-01-01 06:00:00 &   9\\\\\n\t ⋮ & ⋮ & ⋮ & ⋮ & ⋮ & ⋮ & ⋮ & ⋮ & ⋮ & ⋮ & ⋮ & ⋮ & ⋮ & ⋮ & ⋮ & ⋮ & ⋮ & ⋮ & ⋮ & ⋮\\\\\n\t 2013 & 9 & 30 & 2123 & 2125 &  -2 & 2223 & 2247 & -24 & EV & 5489 & N712EV & LGA & CHO &  45 &  305 & 21 & 25 & 2013-09-30 21:00:00 &  22\\\\\n\t 2013 & 9 & 30 & 2127 & 2129 &  -2 & 2314 & 2323 &  -9 & EV & 3833 & N16546 & EWR & CLT &  72 &  529 & 21 & 29 & 2013-09-30 21:00:00 &   7\\\\\n\t 2013 & 9 & 30 & 2128 & 2130 &  -2 & 2328 & 2359 & -31 & B6 &   97 & N807JB & JFK & DEN & 213 & 1626 & 21 & 30 & 2013-09-30 21:00:00 &  29\\\\\n\t 2013 & 9 & 30 & 2129 & 2059 &  30 & 2230 & 2232 &  -2 & EV & 5048 & N751EV & LGA & RIC &  45 &  292 & 20 & 59 & 2013-09-30 20:00:00 &  32\\\\\n\t 2013 & 9 & 30 & 2131 & 2140 &  -9 & 2225 & 2255 & -30 & MQ & 3621 & N807MQ & JFK & DCA &  36 &  213 & 21 & 40 & 2013-09-30 21:00:00 &  21\\\\\n\t 2013 & 9 & 30 & 2140 & 2140 &   0 &   10 &   40 & -30 & AA &  185 & N335AA & JFK & LAX & 298 & 2475 & 21 & 40 & 2013-09-30 21:00:00 &  30\\\\\n\t 2013 & 9 & 30 & 2142 & 2129 &  13 & 2250 & 2239 &  11 & EV & 4509 & N12957 & EWR & PWM &  47 &  284 & 21 & 29 & 2013-09-30 21:00:00 &   2\\\\\n\t 2013 & 9 & 30 & 2145 & 2145 &   0 &  115 &  140 & -25 & B6 & 1103 & N633JB & JFK & SJU & 192 & 1598 & 21 & 45 & 2013-09-30 21:00:00 &  25\\\\\n\t 2013 & 9 & 30 & 2147 & 2137 &  10 &   30 &   27 &   3 & B6 & 1371 & N627JB & LGA & FLL & 139 & 1076 & 21 & 37 & 2013-09-30 21:00:00 &   7\\\\\n\t 2013 & 9 & 30 & 2149 & 2156 &  -7 & 2245 & 2308 & -23 & UA &  523 & N813UA & EWR & BOS &  37 &  200 & 21 & 56 & 2013-09-30 21:00:00 &  16\\\\\n\t 2013 & 9 & 30 & 2150 & 2159 &  -9 & 2250 & 2306 & -16 & EV & 3842 & N10575 & EWR & MHT &  39 &  209 & 21 & 59 & 2013-09-30 21:00:00 &   7\\\\\n\t 2013 & 9 & 30 & 2159 & 1845 & 194 & 2344 & 2030 & 194 & 9E & 3320 & N906XJ & JFK & BUF &  50 &  301 & 18 & 45 & 2013-09-30 18:00:00 &   0\\\\\n\t 2013 & 9 & 30 & 2203 & 2205 &  -2 & 2339 & 2331 &   8 & EV & 5311 & N722EV & LGA & BGR &  61 &  378 & 22 &  5 & 2013-09-30 22:00:00 & -10\\\\\n\t 2013 & 9 & 30 & 2207 & 2140 &  27 & 2257 & 2250 &   7 & MQ & 3660 & N532MQ & LGA & BNA &  97 &  764 & 21 & 40 & 2013-09-30 21:00:00 &  20\\\\\n\t 2013 & 9 & 30 & 2211 & 2059 &  72 & 2339 & 2242 &  57 & EV & 4672 & N12145 & EWR & STL & 120 &  872 & 20 & 59 & 2013-09-30 20:00:00 &  15\\\\\n\t 2013 & 9 & 30 & 2231 & 2245 & -14 & 2335 & 2356 & -21 & B6 &  108 & N193JB & JFK & PWM &  48 &  273 & 22 & 45 & 2013-09-30 22:00:00 &   7\\\\\n\t 2013 & 9 & 30 & 2233 & 2113 &  80 &  112 &   30 &  42 & UA &  471 & N578UA & EWR & SFO & 318 & 2565 & 21 & 13 & 2013-09-30 21:00:00 &  38\\\\\n\t 2013 & 9 & 30 & 2235 & 2001 & 154 &   59 & 2249 & 130 & B6 & 1083 & N804JB & JFK & MCO & 123 &  944 & 20 &  1 & 2013-09-30 20:00:00 &  24\\\\\n\t 2013 & 9 & 30 & 2237 & 2245 &  -8 & 2345 & 2353 &  -8 & B6 &  234 & N318JB & JFK & BTV &  43 &  266 & 22 & 45 & 2013-09-30 22:00:00 &   0\\\\\n\t 2013 & 9 & 30 & 2240 & 2245 &  -5 & 2334 & 2351 & -17 & B6 & 1816 & N354JB & JFK & SYR &  41 &  209 & 22 & 45 & 2013-09-30 22:00:00 &  12\\\\\n\t 2013 & 9 & 30 & 2240 & 2250 & -10 & 2347 &    7 & -20 & B6 & 2002 & N281JB & JFK & BUF &  52 &  301 & 22 & 50 & 2013-09-30 22:00:00 &  10\\\\\n\t 2013 & 9 & 30 & 2241 & 2246 &  -5 & 2345 &    1 & -16 & B6 &  486 & N346JB & JFK & ROC &  47 &  264 & 22 & 46 & 2013-09-30 22:00:00 &  11\\\\\n\t 2013 & 9 & 30 & 2307 & 2255 &  12 & 2359 & 2358 &   1 & B6 &  718 & N565JB & JFK & BOS &  33 &  187 & 22 & 55 & 2013-09-30 22:00:00 &  11\\\\\n\t 2013 & 9 & 30 & 2349 & 2359 & -10 &  325 &  350 & -25 & B6 &  745 & N516JB & JFK & PSE & 196 & 1617 & 23 & 59 & 2013-09-30 23:00:00 &  15\\\\\n\t 2013 & 9 & 30 &   NA & 1842 &  NA &   NA & 2019 &  NA & EV & 5274 & N740EV & LGA & BNA &  NA &  764 & 18 & 42 & 2013-09-30 18:00:00 &  NA\\\\\n\t 2013 & 9 & 30 &   NA & 1455 &  NA &   NA & 1634 &  NA & 9E & 3393 & NA     & JFK & DCA &  NA &  213 & 14 & 55 & 2013-09-30 14:00:00 &  NA\\\\\n\t 2013 & 9 & 30 &   NA & 2200 &  NA &   NA & 2312 &  NA & 9E & 3525 & NA     & LGA & SYR &  NA &  198 & 22 &  0 & 2013-09-30 22:00:00 &  NA\\\\\n\t 2013 & 9 & 30 &   NA & 1210 &  NA &   NA & 1330 &  NA & MQ & 3461 & N535MQ & LGA & BNA &  NA &  764 & 12 & 10 & 2013-09-30 12:00:00 &  NA\\\\\n\t 2013 & 9 & 30 &   NA & 1159 &  NA &   NA & 1344 &  NA & MQ & 3572 & N511MQ & LGA & CLE &  NA &  419 & 11 & 59 & 2013-09-30 11:00:00 &  NA\\\\\n\t 2013 & 9 & 30 &   NA &  840 &  NA &   NA & 1020 &  NA & MQ & 3531 & N839MQ & LGA & RDU &  NA &  431 &  8 & 40 & 2013-09-30 08:00:00 &  NA\\\\\n\\end{tabular}\n",
            "text/plain": [
              "       year month day dep_time sched_dep_time dep_delay arr_time sched_arr_time\n",
              "1      2013 1     1   517      515             2         830      819          \n",
              "2      2013 1     1   533      529             4         850      830          \n",
              "3      2013 1     1   542      540             2         923      850          \n",
              "4      2013 1     1   544      545            -1        1004     1022          \n",
              "5      2013 1     1   554      600            -6         812      837          \n",
              "6      2013 1     1   554      558            -4         740      728          \n",
              "7      2013 1     1   555      600            -5         913      854          \n",
              "8      2013 1     1   557      600            -3         709      723          \n",
              "9      2013 1     1   557      600            -3         838      846          \n",
              "10     2013 1     1   558      600            -2         753      745          \n",
              "11     2013 1     1   558      600            -2         849      851          \n",
              "12     2013 1     1   558      600            -2         853      856          \n",
              "13     2013 1     1   558      600            -2         924      917          \n",
              "14     2013 1     1   558      600            -2         923      937          \n",
              "15     2013 1     1   559      600            -1         941      910          \n",
              "16     2013 1     1   559      559             0         702      706          \n",
              "17     2013 1     1   559      600            -1         854      902          \n",
              "18     2013 1     1   600      600             0         851      858          \n",
              "19     2013 1     1   600      600             0         837      825          \n",
              "20     2013 1     1   601      600             1         844      850          \n",
              "21     2013 1     1   602      610            -8         812      820          \n",
              "22     2013 1     1   602      605            -3         821      805          \n",
              "23     2013 1     1   606      610            -4         858      910          \n",
              "24     2013 1     1   606      610            -4         837      845          \n",
              "25     2013 1     1   607      607             0         858      915          \n",
              "26     2013 1     1   608      600             8         807      735          \n",
              "27     2013 1     1   611      600            11         945      931          \n",
              "28     2013 1     1   613      610             3         925      921          \n",
              "29     2013 1     1   615      615             0        1039     1100          \n",
              "30     2013 1     1   615      615             0         833      842          \n",
              "⋮      ⋮    ⋮     ⋮   ⋮        ⋮              ⋮         ⋮        ⋮             \n",
              "336747 2013 9     30  2123     2125            -2       2223     2247          \n",
              "336748 2013 9     30  2127     2129            -2       2314     2323          \n",
              "336749 2013 9     30  2128     2130            -2       2328     2359          \n",
              "336750 2013 9     30  2129     2059            30       2230     2232          \n",
              "336751 2013 9     30  2131     2140            -9       2225     2255          \n",
              "336752 2013 9     30  2140     2140             0         10       40          \n",
              "336753 2013 9     30  2142     2129            13       2250     2239          \n",
              "336754 2013 9     30  2145     2145             0        115      140          \n",
              "336755 2013 9     30  2147     2137            10         30       27          \n",
              "336756 2013 9     30  2149     2156            -7       2245     2308          \n",
              "336757 2013 9     30  2150     2159            -9       2250     2306          \n",
              "336758 2013 9     30  2159     1845           194       2344     2030          \n",
              "336759 2013 9     30  2203     2205            -2       2339     2331          \n",
              "336760 2013 9     30  2207     2140            27       2257     2250          \n",
              "336761 2013 9     30  2211     2059            72       2339     2242          \n",
              "336762 2013 9     30  2231     2245           -14       2335     2356          \n",
              "336763 2013 9     30  2233     2113            80        112       30          \n",
              "336764 2013 9     30  2235     2001           154         59     2249          \n",
              "336765 2013 9     30  2237     2245            -8       2345     2353          \n",
              "336766 2013 9     30  2240     2245            -5       2334     2351          \n",
              "336767 2013 9     30  2240     2250           -10       2347        7          \n",
              "336768 2013 9     30  2241     2246            -5       2345        1          \n",
              "336769 2013 9     30  2307     2255            12       2359     2358          \n",
              "336770 2013 9     30  2349     2359           -10        325      350          \n",
              "336771 2013 9     30    NA     1842            NA         NA     2019          \n",
              "336772 2013 9     30    NA     1455            NA         NA     1634          \n",
              "336773 2013 9     30    NA     2200            NA         NA     2312          \n",
              "336774 2013 9     30    NA     1210            NA         NA     1330          \n",
              "336775 2013 9     30    NA     1159            NA         NA     1344          \n",
              "336776 2013 9     30    NA      840            NA         NA     1020          \n",
              "       arr_delay carrier flight tailnum origin dest air_time distance hour\n",
              "1       11       UA      1545   N14228  EWR    IAH  227      1400     5   \n",
              "2       20       UA      1714   N24211  LGA    IAH  227      1416     5   \n",
              "3       33       AA      1141   N619AA  JFK    MIA  160      1089     5   \n",
              "4      -18       B6       725   N804JB  JFK    BQN  183      1576     5   \n",
              "5      -25       DL       461   N668DN  LGA    ATL  116       762     6   \n",
              "6       12       UA      1696   N39463  EWR    ORD  150       719     5   \n",
              "7       19       B6       507   N516JB  EWR    FLL  158      1065     6   \n",
              "8      -14       EV      5708   N829AS  LGA    IAD   53       229     6   \n",
              "9       -8       B6        79   N593JB  JFK    MCO  140       944     6   \n",
              "10       8       AA       301   N3ALAA  LGA    ORD  138       733     6   \n",
              "11      -2       B6        49   N793JB  JFK    PBI  149      1028     6   \n",
              "12      -3       B6        71   N657JB  JFK    TPA  158      1005     6   \n",
              "13       7       UA       194   N29129  JFK    LAX  345      2475     6   \n",
              "14     -14       UA      1124   N53441  EWR    SFO  361      2565     6   \n",
              "15      31       AA       707   N3DUAA  LGA    DFW  257      1389     6   \n",
              "16      -4       B6      1806   N708JB  JFK    BOS   44       187     5   \n",
              "17      -8       UA      1187   N76515  EWR    LAS  337      2227     6   \n",
              "18      -7       B6       371   N595JB  LGA    FLL  152      1076     6   \n",
              "19      12       MQ      4650   N542MQ  LGA    ATL  134       762     6   \n",
              "20      -6       B6       343   N644JB  EWR    PBI  147      1023     6   \n",
              "21      -8       DL      1919   N971DL  LGA    MSP  170      1020     6   \n",
              "22      16       MQ      4401   N730MQ  LGA    DTW  105       502     6   \n",
              "23     -12       AA      1895   N633AA  EWR    MIA  152      1085     6   \n",
              "24      -8       DL      1743   N3739P  JFK    ATL  128       760     6   \n",
              "25     -17       UA      1077   N53442  EWR    MIA  157      1085     6   \n",
              "26      32       MQ      3768   N9EAMQ  EWR    ORD  139       719     6   \n",
              "27      14       UA       303   N532UA  JFK    SFO  366      2586     6   \n",
              "28       4       B6       135   N635JB  JFK    RSW  175      1074     6   \n",
              "29     -21       B6       709   N794JB  JFK    SJU  182      1598     6   \n",
              "30      -9       DL       575   N326NB  EWR    ATL  120       746     6   \n",
              "⋮      ⋮         ⋮       ⋮      ⋮       ⋮      ⋮    ⋮        ⋮        ⋮   \n",
              "336747 -24       EV      5489   N712EV  LGA    CHO   45       305     21  \n",
              "336748  -9       EV      3833   N16546  EWR    CLT   72       529     21  \n",
              "336749 -31       B6        97   N807JB  JFK    DEN  213      1626     21  \n",
              "336750  -2       EV      5048   N751EV  LGA    RIC   45       292     20  \n",
              "336751 -30       MQ      3621   N807MQ  JFK    DCA   36       213     21  \n",
              "336752 -30       AA       185   N335AA  JFK    LAX  298      2475     21  \n",
              "336753  11       EV      4509   N12957  EWR    PWM   47       284     21  \n",
              "336754 -25       B6      1103   N633JB  JFK    SJU  192      1598     21  \n",
              "336755   3       B6      1371   N627JB  LGA    FLL  139      1076     21  \n",
              "336756 -23       UA       523   N813UA  EWR    BOS   37       200     21  \n",
              "336757 -16       EV      3842   N10575  EWR    MHT   39       209     21  \n",
              "336758 194       9E      3320   N906XJ  JFK    BUF   50       301     18  \n",
              "336759   8       EV      5311   N722EV  LGA    BGR   61       378     22  \n",
              "336760   7       MQ      3660   N532MQ  LGA    BNA   97       764     21  \n",
              "336761  57       EV      4672   N12145  EWR    STL  120       872     20  \n",
              "336762 -21       B6       108   N193JB  JFK    PWM   48       273     22  \n",
              "336763  42       UA       471   N578UA  EWR    SFO  318      2565     21  \n",
              "336764 130       B6      1083   N804JB  JFK    MCO  123       944     20  \n",
              "336765  -8       B6       234   N318JB  JFK    BTV   43       266     22  \n",
              "336766 -17       B6      1816   N354JB  JFK    SYR   41       209     22  \n",
              "336767 -20       B6      2002   N281JB  JFK    BUF   52       301     22  \n",
              "336768 -16       B6       486   N346JB  JFK    ROC   47       264     22  \n",
              "336769   1       B6       718   N565JB  JFK    BOS   33       187     22  \n",
              "336770 -25       B6       745   N516JB  JFK    PSE  196      1617     23  \n",
              "336771  NA       EV      5274   N740EV  LGA    BNA   NA       764     18  \n",
              "336772  NA       9E      3393   NA      JFK    DCA   NA       213     14  \n",
              "336773  NA       9E      3525   NA      LGA    SYR   NA       198     22  \n",
              "336774  NA       MQ      3461   N535MQ  LGA    BNA   NA       764     12  \n",
              "336775  NA       MQ      3572   N511MQ  LGA    CLE   NA       419     11  \n",
              "336776  NA       MQ      3531   N839MQ  LGA    RDU   NA       431      8  \n",
              "       minute time_hour           gain\n",
              "1      15     2013-01-01 05:00:00  -9 \n",
              "2      29     2013-01-01 05:00:00 -16 \n",
              "3      40     2013-01-01 05:00:00 -31 \n",
              "4      45     2013-01-01 05:00:00  17 \n",
              "5       0     2013-01-01 06:00:00  19 \n",
              "6      58     2013-01-01 05:00:00 -16 \n",
              "7       0     2013-01-01 06:00:00 -24 \n",
              "8       0     2013-01-01 06:00:00  11 \n",
              "9       0     2013-01-01 06:00:00   5 \n",
              "10      0     2013-01-01 06:00:00 -10 \n",
              "11      0     2013-01-01 06:00:00   0 \n",
              "12      0     2013-01-01 06:00:00   1 \n",
              "13      0     2013-01-01 06:00:00  -9 \n",
              "14      0     2013-01-01 06:00:00  12 \n",
              "15      0     2013-01-01 06:00:00 -32 \n",
              "16     59     2013-01-01 05:00:00   4 \n",
              "17      0     2013-01-01 06:00:00   7 \n",
              "18      0     2013-01-01 06:00:00   7 \n",
              "19      0     2013-01-01 06:00:00 -12 \n",
              "20      0     2013-01-01 06:00:00   7 \n",
              "21     10     2013-01-01 06:00:00   0 \n",
              "22      5     2013-01-01 06:00:00 -19 \n",
              "23     10     2013-01-01 06:00:00   8 \n",
              "24     10     2013-01-01 06:00:00   4 \n",
              "25      7     2013-01-01 06:00:00  17 \n",
              "26      0     2013-01-01 06:00:00 -24 \n",
              "27      0     2013-01-01 06:00:00  -3 \n",
              "28     10     2013-01-01 06:00:00  -1 \n",
              "29     15     2013-01-01 06:00:00  21 \n",
              "30     15     2013-01-01 06:00:00   9 \n",
              "⋮      ⋮      ⋮                   ⋮   \n",
              "336747 25     2013-09-30 21:00:00  22 \n",
              "336748 29     2013-09-30 21:00:00   7 \n",
              "336749 30     2013-09-30 21:00:00  29 \n",
              "336750 59     2013-09-30 20:00:00  32 \n",
              "336751 40     2013-09-30 21:00:00  21 \n",
              "336752 40     2013-09-30 21:00:00  30 \n",
              "336753 29     2013-09-30 21:00:00   2 \n",
              "336754 45     2013-09-30 21:00:00  25 \n",
              "336755 37     2013-09-30 21:00:00   7 \n",
              "336756 56     2013-09-30 21:00:00  16 \n",
              "336757 59     2013-09-30 21:00:00   7 \n",
              "336758 45     2013-09-30 18:00:00   0 \n",
              "336759  5     2013-09-30 22:00:00 -10 \n",
              "336760 40     2013-09-30 21:00:00  20 \n",
              "336761 59     2013-09-30 20:00:00  15 \n",
              "336762 45     2013-09-30 22:00:00   7 \n",
              "336763 13     2013-09-30 21:00:00  38 \n",
              "336764  1     2013-09-30 20:00:00  24 \n",
              "336765 45     2013-09-30 22:00:00   0 \n",
              "336766 45     2013-09-30 22:00:00  12 \n",
              "336767 50     2013-09-30 22:00:00  10 \n",
              "336768 46     2013-09-30 22:00:00  11 \n",
              "336769 55     2013-09-30 22:00:00  11 \n",
              "336770 59     2013-09-30 23:00:00  15 \n",
              "336771 42     2013-09-30 18:00:00  NA \n",
              "336772 55     2013-09-30 14:00:00  NA \n",
              "336773  0     2013-09-30 22:00:00  NA \n",
              "336774 10     2013-09-30 12:00:00  NA \n",
              "336775 59     2013-09-30 11:00:00  NA \n",
              "336776 40     2013-09-30 08:00:00  NA "
            ]
          },
          "metadata": {}
        }
      ],
      "source": [
        "# add a gain column to flights\n",
        "mutate(flights,gain=dep_delay-arr_delay)"
      ]
    },
    {
      "cell_type": "markdown",
      "metadata": {
        "id": "jY15-FGWpL0O"
      },
      "source": [
        "The returned data set has a new column called `gain` added to the very end. If you want to bring it to the front, you could use `select()` like we learned last lecture:"
      ]
    },
    {
      "cell_type": "code",
      "execution_count": 32,
      "metadata": {
        "id": "qaD09SZWpL0O",
        "colab": {
          "base_uri": "https://localhost:8080/"
        },
        "outputId": "f4c1246f-f829-4c41-e3fa-48d61b28ff0b"
      },
      "outputs": [
        {
          "output_type": "stream",
          "name": "stdout",
          "text": [
            "\u001b[90m# A tibble: 336,776 × 20\u001b[39m\n",
            "    gain  year month   day dep_time sched_dep_…¹ dep_d…² arr_t…³ sched…⁴ arr_d…⁵\n",
            "   \u001b[3m\u001b[90m<dbl>\u001b[39m\u001b[23m \u001b[3m\u001b[90m<int>\u001b[39m\u001b[23m \u001b[3m\u001b[90m<int>\u001b[39m\u001b[23m \u001b[3m\u001b[90m<int>\u001b[39m\u001b[23m    \u001b[3m\u001b[90m<int>\u001b[39m\u001b[23m        \u001b[3m\u001b[90m<int>\u001b[39m\u001b[23m   \u001b[3m\u001b[90m<dbl>\u001b[39m\u001b[23m   \u001b[3m\u001b[90m<int>\u001b[39m\u001b[23m   \u001b[3m\u001b[90m<int>\u001b[39m\u001b[23m   \u001b[3m\u001b[90m<dbl>\u001b[39m\u001b[23m\n",
            "\u001b[90m 1\u001b[39m    -\u001b[31m9\u001b[39m  \u001b[4m2\u001b[24m013     1     1      517          515       2     830     819      11\n",
            "\u001b[90m 2\u001b[39m   -\u001b[31m16\u001b[39m  \u001b[4m2\u001b[24m013     1     1      533          529       4     850     830      20\n",
            "\u001b[90m 3\u001b[39m   -\u001b[31m31\u001b[39m  \u001b[4m2\u001b[24m013     1     1      542          540       2     923     850      33\n",
            "\u001b[90m 4\u001b[39m    17  \u001b[4m2\u001b[24m013     1     1      544          545      -\u001b[31m1\u001b[39m    \u001b[4m1\u001b[24m004    \u001b[4m1\u001b[24m022     -\u001b[31m18\u001b[39m\n",
            "\u001b[90m 5\u001b[39m    19  \u001b[4m2\u001b[24m013     1     1      554          600      -\u001b[31m6\u001b[39m     812     837     -\u001b[31m25\u001b[39m\n",
            "\u001b[90m 6\u001b[39m   -\u001b[31m16\u001b[39m  \u001b[4m2\u001b[24m013     1     1      554          558      -\u001b[31m4\u001b[39m     740     728      12\n",
            "\u001b[90m 7\u001b[39m   -\u001b[31m24\u001b[39m  \u001b[4m2\u001b[24m013     1     1      555          600      -\u001b[31m5\u001b[39m     913     854      19\n",
            "\u001b[90m 8\u001b[39m    11  \u001b[4m2\u001b[24m013     1     1      557          600      -\u001b[31m3\u001b[39m     709     723     -\u001b[31m14\u001b[39m\n",
            "\u001b[90m 9\u001b[39m     5  \u001b[4m2\u001b[24m013     1     1      557          600      -\u001b[31m3\u001b[39m     838     846      -\u001b[31m8\u001b[39m\n",
            "\u001b[90m10\u001b[39m   -\u001b[31m10\u001b[39m  \u001b[4m2\u001b[24m013     1     1      558          600      -\u001b[31m2\u001b[39m     753     745       8\n",
            "\u001b[90m# … with 336,766 more rows, 10 more variables: carrier <chr>, flight <int>,\u001b[39m\n",
            "\u001b[90m#   tailnum <chr>, origin <chr>, dest <chr>, air_time <dbl>, distance <dbl>,\u001b[39m\n",
            "\u001b[90m#   hour <dbl>, minute <dbl>, time_hour <dttm>, and abbreviated variable names\u001b[39m\n",
            "\u001b[90m#   ¹​sched_dep_time, ²​dep_delay, ³​arr_time, ⁴​sched_arr_time, ⁵​arr_delay\u001b[39m\n"
          ]
        }
      ],
      "source": [
        "# use select to move gain to the first column\n",
        "select(\n",
        "  mutate(flights,gain=dep_delay-arr_delay),\n",
        "  gain,everything())%>%print # NOTE: b/c we want to see these specific columns next to each other"
      ]
    },
    {
      "cell_type": "code",
      "source": [
        "glimpse(flights) # NOTE: mutate does not change the orig data set "
      ],
      "metadata": {
        "colab": {
          "base_uri": "https://localhost:8080/"
        },
        "id": "8s-jzz7yu0rd",
        "outputId": "f0959f5b-1f27-4557-f20d-430deaf1b186"
      },
      "execution_count": 33,
      "outputs": [
        {
          "output_type": "stream",
          "name": "stdout",
          "text": [
            "Rows: 336,776\n",
            "Columns: 19\n",
            "$ year           \u001b[3m\u001b[90m<int>\u001b[39m\u001b[23m 2013, 2013, 2013, 2013, 2013, 2013, 2013, 2013, 2013, 2…\n",
            "$ month          \u001b[3m\u001b[90m<int>\u001b[39m\u001b[23m 1, 1, 1, 1, 1, 1, 1, 1, 1, 1, 1, 1, 1, 1, 1, 1, 1, 1, 1…\n",
            "$ day            \u001b[3m\u001b[90m<int>\u001b[39m\u001b[23m 1, 1, 1, 1, 1, 1, 1, 1, 1, 1, 1, 1, 1, 1, 1, 1, 1, 1, 1…\n",
            "$ dep_time       \u001b[3m\u001b[90m<int>\u001b[39m\u001b[23m 517, 533, 542, 544, 554, 554, 555, 557, 557, 558, 558, …\n",
            "$ sched_dep_time \u001b[3m\u001b[90m<int>\u001b[39m\u001b[23m 515, 529, 540, 545, 600, 558, 600, 600, 600, 600, 600, …\n",
            "$ dep_delay      \u001b[3m\u001b[90m<dbl>\u001b[39m\u001b[23m 2, 4, 2, -1, -6, -4, -5, -3, -3, -2, -2, -2, -2, -2, -1…\n",
            "$ arr_time       \u001b[3m\u001b[90m<int>\u001b[39m\u001b[23m 830, 850, 923, 1004, 812, 740, 913, 709, 838, 753, 849,…\n",
            "$ sched_arr_time \u001b[3m\u001b[90m<int>\u001b[39m\u001b[23m 819, 830, 850, 1022, 837, 728, 854, 723, 846, 745, 851,…\n",
            "$ arr_delay      \u001b[3m\u001b[90m<dbl>\u001b[39m\u001b[23m 11, 20, 33, -18, -25, 12, 19, -14, -8, 8, -2, -3, 7, -1…\n",
            "$ carrier        \u001b[3m\u001b[90m<chr>\u001b[39m\u001b[23m \"UA\", \"UA\", \"AA\", \"B6\", \"DL\", \"UA\", \"B6\", \"EV\", \"B6\", \"…\n",
            "$ flight         \u001b[3m\u001b[90m<int>\u001b[39m\u001b[23m 1545, 1714, 1141, 725, 461, 1696, 507, 5708, 79, 301, 4…\n",
            "$ tailnum        \u001b[3m\u001b[90m<chr>\u001b[39m\u001b[23m \"N14228\", \"N24211\", \"N619AA\", \"N804JB\", \"N668DN\", \"N394…\n",
            "$ origin         \u001b[3m\u001b[90m<chr>\u001b[39m\u001b[23m \"EWR\", \"LGA\", \"JFK\", \"JFK\", \"LGA\", \"EWR\", \"EWR\", \"LGA\",…\n",
            "$ dest           \u001b[3m\u001b[90m<chr>\u001b[39m\u001b[23m \"IAH\", \"IAH\", \"MIA\", \"BQN\", \"ATL\", \"ORD\", \"FLL\", \"IAD\",…\n",
            "$ air_time       \u001b[3m\u001b[90m<dbl>\u001b[39m\u001b[23m 227, 227, 160, 183, 116, 150, 158, 53, 140, 138, 149, 1…\n",
            "$ distance       \u001b[3m\u001b[90m<dbl>\u001b[39m\u001b[23m 1400, 1416, 1089, 1576, 762, 719, 1065, 229, 944, 733, …\n",
            "$ hour           \u001b[3m\u001b[90m<dbl>\u001b[39m\u001b[23m 5, 5, 5, 5, 6, 5, 6, 6, 6, 6, 6, 6, 6, 6, 6, 5, 6, 6, 6…\n",
            "$ minute         \u001b[3m\u001b[90m<dbl>\u001b[39m\u001b[23m 15, 29, 40, 45, 0, 58, 0, 0, 0, 0, 0, 0, 0, 0, 0, 59, 0…\n",
            "$ time_hour      \u001b[3m\u001b[90m<dttm>\u001b[39m\u001b[23m 2013-01-01 05:00:00, 2013-01-01 05:00:00, 2013-01-01 0…\n"
          ]
        }
      ]
    },
    {
      "cell_type": "code",
      "source": [
        "# to check whether or not gain is in the orig data set, you can also do the following & see error \n",
        "select(flights,gain)"
      ],
      "metadata": {
        "colab": {
          "base_uri": "https://localhost:8080/",
          "height": 1000
        },
        "id": "rLQ0zY0fvlpW",
        "outputId": "954debab-9c1d-4cf3-f970-3b72db05d8c5"
      },
      "execution_count": 35,
      "outputs": [
        {
          "output_type": "error",
          "ename": "ERROR",
          "evalue": "ignored",
          "traceback": [
            "\u001b[1m\u001b[33mError\u001b[39m in `select()`:\u001b[22m\n\u001b[33m!\u001b[39m Can't subset columns that don't exist.\n\u001b[31m✖\u001b[39m Column `gain` doesn't exist.\nTraceback:\n",
            "1. select(flights, gain)",
            "2. select.data.frame(flights, gain)",
            "3. tidyselect_fix_call(tidyselect::eval_select(expr(c(...)), .data), \n .     call = error_call)",
            "4. withCallingHandlers(expr, error = function(cnd) {\n .     cnd$call <- call\n .     cnd$parent <- NULL\n .     cnd_signal(cnd)\n . })",
            "5. tidyselect::eval_select(expr(c(...)), .data)",
            "6. eval_select_impl(data, names(data), as_quosure(expr, env), include = include, \n .     exclude = exclude, strict = strict, name_spec = name_spec, \n .     allow_rename = allow_rename, allow_empty = allow_empty, allow_predicates = allow_predicates, \n .     error_call = error_call, )",
            "7. with_subscript_errors(out <- vars_select_eval(vars, expr, strict = strict, \n .     data = x, name_spec = name_spec, uniquely_named = uniquely_named, \n .     allow_rename = allow_rename, allow_empty = allow_empty, allow_predicates = allow_predicates, \n .     type = type, error_call = error_call), type = type)",
            "8. try_fetch(expr, vctrs_error_subscript = function(cnd) {\n .     cnd$subscript_action <- subscript_action(type)\n .     cnd$subscript_elt <- \"column\"\n .     cnd_signal(cnd)\n . })",
            "9. withCallingHandlers(expr, vctrs_error_subscript = function(cnd) {\n .     {\n .         .__handler_frame__. <- TRUE\n .         .__setup_frame__. <- frame\n .     }\n .     out <- handlers[[1L]](cnd)\n .     if (!inherits(out, \"rlang_zap\")) \n .         throw(out)\n . })",
            "10. vars_select_eval(vars, expr, strict = strict, data = x, name_spec = name_spec, \n  .     uniquely_named = uniquely_named, allow_rename = allow_rename, \n  .     allow_empty = allow_empty, allow_predicates = allow_predicates, \n  .     type = type, error_call = error_call)",
            "11. walk_data_tree(expr, data_mask, context_mask)",
            "12. eval_c(expr, data_mask, context_mask)",
            "13. reduce_sels(node, data_mask, context_mask, init = init)",
            "14. walk_data_tree(new, data_mask, context_mask)",
            "15. as_indices_sel_impl(out, vars = vars, strict = strict, data = data, \n  .     allow_predicates = allow_predicates, call = error_call, arg = as_label(expr))",
            "16. as_indices_impl(x, vars, call = call, arg = arg, strict = strict)",
            "17. chr_as_locations(x, vars, call = call, arg = arg)",
            "18. vctrs::vec_as_location(x, n = length(vars), names = vars, call = call, \n  .     arg = arg)",
            "19. (function () \n  . stop_subscript_oob(i = i, subscript_type = subscript_type, names = names, \n  .     subscript_action = subscript_action, subscript_arg = subscript_arg, \n  .     call = call))()",
            "20. stop_subscript_oob(i = i, subscript_type = subscript_type, names = names, \n  .     subscript_action = subscript_action, subscript_arg = subscript_arg, \n  .     call = call)",
            "21. stop_subscript(class = \"vctrs_error_subscript_oob\", i = i, subscript_type = subscript_type, \n  .     ..., call = call)",
            "22. abort(class = c(class, \"vctrs_error_subscript\"), i = i, ..., \n  .     call = vctrs_error_call(call))",
            "23. signal_abort(cnd, .file)",
            "24. signalCondition(cnd)",
            "25. (function (cnd) \n  . {\n  .     {\n  .         .__handler_frame__. <- TRUE\n  .         .__setup_frame__. <- frame\n  .     }\n  .     out <- handlers[[1L]](cnd)\n  .     if (!inherits(out, \"rlang_zap\")) \n  .         throw(out)\n  . })(structure(list(message = \"\", trace = structure(list(call = list(\n  .     IRkernel::main(), kernel$run(), handle_shell(), executor$execute(msg), \n  .     tryCatch(evaluate(request$content$code, envir = .GlobalEnv, \n  .         output_handler = oh, stop_on_error = 1L), interrupt = function(cond) {\n  .         log_debug(\"Interrupt during execution\")\n  .         interrupted <<- TRUE\n  .     }, error = .self$handle_error), tryCatchList(expr, classes, \n  .         parentenv, handlers), tryCatchOne(tryCatchList(expr, \n  .         names[-nh], parentenv, handlers[-nh]), names[nh], parentenv, \n  .         handlers[[nh]]), doTryCatch(return(expr), name, parentenv, \n  .         handler), tryCatchList(expr, names[-nh], parentenv, handlers[-nh]), \n  .     tryCatchOne(expr, names, parentenv, handlers[[1L]]), doTryCatch(return(expr), \n  .         name, parentenv, handler), evaluate(request$content$code, \n  .         envir = .GlobalEnv, output_handler = oh, stop_on_error = 1L), \n  .     evaluate_call(expr, parsed$src[[i]], envir = envir, enclos = enclos, \n  .         debug = debug, last = i == length(out), use_try = stop_on_error != \n  .             2L, keep_warning = keep_warning, keep_message = keep_message, \n  .         output_handler = output_handler, include_timing = include_timing), \n  .     timing_fn(handle(ev <- withCallingHandlers(withVisible(eval_with_user_handlers(expr, \n  .         envir, enclos, user_handlers)), warning = wHandler, error = eHandler, \n  .         message = mHandler))), handle(ev <- withCallingHandlers(withVisible(eval_with_user_handlers(expr, \n  .         envir, enclos, user_handlers)), warning = wHandler, error = eHandler, \n  .         message = mHandler)), try(f, silent = TRUE), tryCatch(expr, \n  .         error = function(e) {\n  .             call <- conditionCall(e)\n  .             if (!is.null(call)) {\n  .                 if (identical(call[[1L]], quote(doTryCatch))) \n  .                   call <- sys.call(-4L)\n  .                 dcall <- deparse(call, nlines = 1L)\n  .                 prefix <- paste(\"Error in\", dcall, \": \")\n  .                 LONG <- 75L\n  .                 sm <- strsplit(conditionMessage(e), \"\\n\")[[1L]]\n  .                 w <- 14L + nchar(dcall, type = \"w\") + nchar(sm[1L], \n  .                   type = \"w\")\n  .                 if (is.na(w)) \n  .                   w <- 14L + nchar(dcall, type = \"b\") + nchar(sm[1L], \n  .                     type = \"b\")\n  .                 if (w > LONG) \n  .                   prefix <- paste0(prefix, \"\\n  \")\n  .             }\n  .             else prefix <- \"Error : \"\n  .             msg <- paste0(prefix, conditionMessage(e), \"\\n\")\n  .             .Internal(seterrmessage(msg[1L]))\n  .             if (!silent && isTRUE(getOption(\"show.error.messages\"))) {\n  .                 cat(msg, file = outFile)\n  .                 .Internal(printDeferredWarnings())\n  .             }\n  .             invisible(structure(msg, class = \"try-error\", condition = e))\n  .         }), tryCatchList(expr, classes, parentenv, handlers), \n  .     tryCatchOne(expr, names, parentenv, handlers[[1L]]), doTryCatch(return(expr), \n  .         name, parentenv, handler), withCallingHandlers(withVisible(eval_with_user_handlers(expr, \n  .         envir, enclos, user_handlers)), warning = wHandler, error = eHandler, \n  .         message = mHandler), withVisible(eval_with_user_handlers(expr, \n  .         envir, enclos, user_handlers)), eval_with_user_handlers(expr, \n  .         envir, enclos, user_handlers), eval(expr, envir, enclos), \n  .     eval(expr, envir, enclos), select(flights, gain), select.data.frame(flights, \n  .         gain), tidyselect_fix_call(tidyselect::eval_select(expr(c(...)), \n  .         .data), call = error_call), withCallingHandlers(expr, \n  .         error = function(cnd) {\n  .             cnd$call <- call\n  .             cnd$parent <- NULL\n  .             cnd_signal(cnd)\n  .         }), tidyselect::eval_select(expr(c(...)), .data), eval_select_impl(data, \n  .         names(data), as_quosure(expr, env), include = include, \n  .         exclude = exclude, strict = strict, name_spec = name_spec, \n  .         allow_rename = allow_rename, allow_empty = allow_empty, \n  .         allow_predicates = allow_predicates, error_call = error_call, \n  .         ), with_subscript_errors(out <- vars_select_eval(vars, \n  .         expr, strict = strict, data = x, name_spec = name_spec, \n  .         uniquely_named = uniquely_named, allow_rename = allow_rename, \n  .         allow_empty = allow_empty, allow_predicates = allow_predicates, \n  .         type = type, error_call = error_call), type = type), \n  .     try_fetch(expr, vctrs_error_subscript = function(cnd) {\n  .         cnd$subscript_action <- subscript_action(type)\n  .         cnd$subscript_elt <- \"column\"\n  .         cnd_signal(cnd)\n  .     }), withCallingHandlers(expr, vctrs_error_subscript = function(cnd) {\n  .         {\n  .             .__handler_frame__. <- TRUE\n  .             .__setup_frame__. <- frame\n  .         }\n  .         out <- handlers[[1L]](cnd)\n  .         if (!inherits(out, \"rlang_zap\")) \n  .             throw(out)\n  .     }), vars_select_eval(vars, expr, strict = strict, data = x, \n  .         name_spec = name_spec, uniquely_named = uniquely_named, \n  .         allow_rename = allow_rename, allow_empty = allow_empty, \n  .         allow_predicates = allow_predicates, type = type, error_call = error_call), \n  .     walk_data_tree(expr, data_mask, context_mask), eval_c(expr, \n  .         data_mask, context_mask), reduce_sels(node, data_mask, \n  .         context_mask, init = init), walk_data_tree(new, data_mask, \n  .         context_mask), as_indices_sel_impl(out, vars = vars, \n  .         strict = strict, data = data, allow_predicates = allow_predicates, \n  .         call = error_call, arg = as_label(expr)), as_indices_impl(x, \n  .         vars, call = call, arg = arg, strict = strict), chr_as_locations(x, \n  .         vars, call = call, arg = arg), vctrs::vec_as_location(x, \n  .         n = length(vars), names = vars, call = call, arg = arg), \n  .     `<fn>`(), stop_subscript_oob(i = i, subscript_type = subscript_type, \n  .         names = names, subscript_action = subscript_action, subscript_arg = subscript_arg, \n  .         call = call), stop_subscript(class = \"vctrs_error_subscript_oob\", \n  .         i = i, subscript_type = subscript_type, ..., call = call), \n  .     abort(class = c(class, \"vctrs_error_subscript\"), i = i, ..., \n  .         call = vctrs_error_call(call))), parent = c(0L, 1L, 2L, \n  . 3L, 4L, 5L, 6L, 7L, 6L, 9L, 10L, 4L, 12L, 13L, 13L, 15L, 16L, \n  . 17L, 18L, 19L, 13L, 13L, 13L, 23L, 24L, 0L, 0L, 27L, 28L, 27L, \n  . 30L, 31L, 32L, 33L, 31L, 35L, 36L, 37L, 38L, 39L, 40L, 41L, 42L, \n  . 0L, 44L, 45L, 46L), visible = c(TRUE, TRUE, TRUE, TRUE, TRUE, \n  . TRUE, TRUE, TRUE, TRUE, TRUE, TRUE, TRUE, TRUE, TRUE, TRUE, TRUE, \n  . TRUE, TRUE, TRUE, TRUE, TRUE, TRUE, TRUE, TRUE, TRUE, TRUE, TRUE, \n  . FALSE, FALSE, FALSE, FALSE, FALSE, FALSE, FALSE, FALSE, FALSE, \n  . FALSE, FALSE, FALSE, FALSE, FALSE, FALSE, FALSE, FALSE, FALSE, \n  . FALSE, FALSE), namespace = c(\"IRkernel\", NA, \"IRkernel\", NA, \n  . \"base\", \"base\", \"base\", \"base\", \"base\", \"base\", \"base\", \"evaluate\", \n  . \"evaluate\", \"evaluate\", \"evaluate\", \"base\", \"base\", \"base\", \"base\", \n  . \"base\", \"base\", \"base\", \"evaluate\", \"base\", \"base\", \"dplyr\", \n  . \"dplyr\", \"dplyr\", \"base\", \"tidyselect\", \"tidyselect\", \"tidyselect\", \n  . \"rlang\", \"base\", \"tidyselect\", \"tidyselect\", \"tidyselect\", \"tidyselect\", \n  . \"tidyselect\", \"tidyselect\", \"tidyselect\", \"tidyselect\", \"vctrs\", \n  . \"vctrs\", \"vctrs\", \"vctrs\", \"rlang\"), scope = c(\"::\", NA, \"local\", \n  . NA, \"::\", \"local\", \"local\", \"local\", \"local\", \"local\", \"local\", \n  . \"::\", \":::\", \"local\", \"local\", \"::\", \"::\", \"local\", \"local\", \n  . \"local\", \"::\", \"::\", \":::\", \"::\", \"::\", \"::\", \":::\", \":::\", \"::\", \n  . \"::\", \":::\", \":::\", \"::\", \"::\", \":::\", \":::\", \":::\", \":::\", \":::\", \n  . \":::\", \":::\", \":::\", \"::\", \"local\", \":::\", \":::\", \"::\"), error_frame = c(FALSE, \n  . FALSE, FALSE, FALSE, FALSE, FALSE, FALSE, FALSE, FALSE, FALSE, \n  . FALSE, FALSE, FALSE, FALSE, FALSE, FALSE, FALSE, FALSE, FALSE, \n  . FALSE, FALSE, FALSE, FALSE, FALSE, FALSE, FALSE, TRUE, FALSE, \n  . FALSE, FALSE, FALSE, FALSE, FALSE, FALSE, FALSE, FALSE, FALSE, \n  . FALSE, FALSE, FALSE, FALSE, FALSE, FALSE, FALSE, FALSE, FALSE, \n  . FALSE)), row.names = c(NA, -47L), version = 2L, class = c(\"rlang_trace\", \n  . \"rlib_trace\", \"tbl\", \"data.frame\")), parent = NULL, i = \"gain\", \n  .     subscript_type = \"character\", names = c(\"year\", \"month\", \n  .     \"day\", \"dep_time\", \"sched_dep_time\", \"dep_delay\", \"arr_time\", \n  .     \"sched_arr_time\", \"arr_delay\", \"carrier\", \"flight\", \"tailnum\", \n  .     \"origin\", \"dest\", \"air_time\", \"distance\", \"hour\", \"minute\", \n  .     \"time_hour\"), subscript_action = NULL, subscript_arg = \"gain\", \n  .     call = select(flights, gain)), class = c(\"vctrs_error_subscript_oob\", \n  . \"vctrs_error_subscript\", \"rlang_error\", \"error\", \"condition\")))",
            "26. handlers[[1L]](cnd)",
            "27. cnd_signal(cnd)",
            "28. signal_abort(cnd)",
            "29. signalCondition(cnd)",
            "30. (function (cnd) \n  . {\n  .     cnd$call <- call\n  .     cnd$parent <- NULL\n  .     cnd_signal(cnd)\n  . })(structure(list(message = \"\", trace = structure(list(call = list(\n  .     IRkernel::main(), kernel$run(), handle_shell(), executor$execute(msg), \n  .     tryCatch(evaluate(request$content$code, envir = .GlobalEnv, \n  .         output_handler = oh, stop_on_error = 1L), interrupt = function(cond) {\n  .         log_debug(\"Interrupt during execution\")\n  .         interrupted <<- TRUE\n  .     }, error = .self$handle_error), tryCatchList(expr, classes, \n  .         parentenv, handlers), tryCatchOne(tryCatchList(expr, \n  .         names[-nh], parentenv, handlers[-nh]), names[nh], parentenv, \n  .         handlers[[nh]]), doTryCatch(return(expr), name, parentenv, \n  .         handler), tryCatchList(expr, names[-nh], parentenv, handlers[-nh]), \n  .     tryCatchOne(expr, names, parentenv, handlers[[1L]]), doTryCatch(return(expr), \n  .         name, parentenv, handler), evaluate(request$content$code, \n  .         envir = .GlobalEnv, output_handler = oh, stop_on_error = 1L), \n  .     evaluate_call(expr, parsed$src[[i]], envir = envir, enclos = enclos, \n  .         debug = debug, last = i == length(out), use_try = stop_on_error != \n  .             2L, keep_warning = keep_warning, keep_message = keep_message, \n  .         output_handler = output_handler, include_timing = include_timing), \n  .     timing_fn(handle(ev <- withCallingHandlers(withVisible(eval_with_user_handlers(expr, \n  .         envir, enclos, user_handlers)), warning = wHandler, error = eHandler, \n  .         message = mHandler))), handle(ev <- withCallingHandlers(withVisible(eval_with_user_handlers(expr, \n  .         envir, enclos, user_handlers)), warning = wHandler, error = eHandler, \n  .         message = mHandler)), try(f, silent = TRUE), tryCatch(expr, \n  .         error = function(e) {\n  .             call <- conditionCall(e)\n  .             if (!is.null(call)) {\n  .                 if (identical(call[[1L]], quote(doTryCatch))) \n  .                   call <- sys.call(-4L)\n  .                 dcall <- deparse(call, nlines = 1L)\n  .                 prefix <- paste(\"Error in\", dcall, \": \")\n  .                 LONG <- 75L\n  .                 sm <- strsplit(conditionMessage(e), \"\\n\")[[1L]]\n  .                 w <- 14L + nchar(dcall, type = \"w\") + nchar(sm[1L], \n  .                   type = \"w\")\n  .                 if (is.na(w)) \n  .                   w <- 14L + nchar(dcall, type = \"b\") + nchar(sm[1L], \n  .                     type = \"b\")\n  .                 if (w > LONG) \n  .                   prefix <- paste0(prefix, \"\\n  \")\n  .             }\n  .             else prefix <- \"Error : \"\n  .             msg <- paste0(prefix, conditionMessage(e), \"\\n\")\n  .             .Internal(seterrmessage(msg[1L]))\n  .             if (!silent && isTRUE(getOption(\"show.error.messages\"))) {\n  .                 cat(msg, file = outFile)\n  .                 .Internal(printDeferredWarnings())\n  .             }\n  .             invisible(structure(msg, class = \"try-error\", condition = e))\n  .         }), tryCatchList(expr, classes, parentenv, handlers), \n  .     tryCatchOne(expr, names, parentenv, handlers[[1L]]), doTryCatch(return(expr), \n  .         name, parentenv, handler), withCallingHandlers(withVisible(eval_with_user_handlers(expr, \n  .         envir, enclos, user_handlers)), warning = wHandler, error = eHandler, \n  .         message = mHandler), withVisible(eval_with_user_handlers(expr, \n  .         envir, enclos, user_handlers)), eval_with_user_handlers(expr, \n  .         envir, enclos, user_handlers), eval(expr, envir, enclos), \n  .     eval(expr, envir, enclos), select(flights, gain), select.data.frame(flights, \n  .         gain), tidyselect_fix_call(tidyselect::eval_select(expr(c(...)), \n  .         .data), call = error_call), withCallingHandlers(expr, \n  .         error = function(cnd) {\n  .             cnd$call <- call\n  .             cnd$parent <- NULL\n  .             cnd_signal(cnd)\n  .         }), tidyselect::eval_select(expr(c(...)), .data), eval_select_impl(data, \n  .         names(data), as_quosure(expr, env), include = include, \n  .         exclude = exclude, strict = strict, name_spec = name_spec, \n  .         allow_rename = allow_rename, allow_empty = allow_empty, \n  .         allow_predicates = allow_predicates, error_call = error_call, \n  .         ), with_subscript_errors(out <- vars_select_eval(vars, \n  .         expr, strict = strict, data = x, name_spec = name_spec, \n  .         uniquely_named = uniquely_named, allow_rename = allow_rename, \n  .         allow_empty = allow_empty, allow_predicates = allow_predicates, \n  .         type = type, error_call = error_call), type = type), \n  .     try_fetch(expr, vctrs_error_subscript = function(cnd) {\n  .         cnd$subscript_action <- subscript_action(type)\n  .         cnd$subscript_elt <- \"column\"\n  .         cnd_signal(cnd)\n  .     }), withCallingHandlers(expr, vctrs_error_subscript = function(cnd) {\n  .         {\n  .             .__handler_frame__. <- TRUE\n  .             .__setup_frame__. <- frame\n  .         }\n  .         out <- handlers[[1L]](cnd)\n  .         if (!inherits(out, \"rlang_zap\")) \n  .             throw(out)\n  .     }), vars_select_eval(vars, expr, strict = strict, data = x, \n  .         name_spec = name_spec, uniquely_named = uniquely_named, \n  .         allow_rename = allow_rename, allow_empty = allow_empty, \n  .         allow_predicates = allow_predicates, type = type, error_call = error_call), \n  .     walk_data_tree(expr, data_mask, context_mask), eval_c(expr, \n  .         data_mask, context_mask), reduce_sels(node, data_mask, \n  .         context_mask, init = init), walk_data_tree(new, data_mask, \n  .         context_mask), as_indices_sel_impl(out, vars = vars, \n  .         strict = strict, data = data, allow_predicates = allow_predicates, \n  .         call = error_call, arg = as_label(expr)), as_indices_impl(x, \n  .         vars, call = call, arg = arg, strict = strict), chr_as_locations(x, \n  .         vars, call = call, arg = arg), vctrs::vec_as_location(x, \n  .         n = length(vars), names = vars, call = call, arg = arg), \n  .     `<fn>`(), stop_subscript_oob(i = i, subscript_type = subscript_type, \n  .         names = names, subscript_action = subscript_action, subscript_arg = subscript_arg, \n  .         call = call), stop_subscript(class = \"vctrs_error_subscript_oob\", \n  .         i = i, subscript_type = subscript_type, ..., call = call), \n  .     abort(class = c(class, \"vctrs_error_subscript\"), i = i, ..., \n  .         call = vctrs_error_call(call))), parent = c(0L, 1L, 2L, \n  . 3L, 4L, 5L, 6L, 7L, 6L, 9L, 10L, 4L, 12L, 13L, 13L, 15L, 16L, \n  . 17L, 18L, 19L, 13L, 13L, 13L, 23L, 24L, 0L, 0L, 27L, 28L, 27L, \n  . 30L, 31L, 32L, 33L, 31L, 35L, 36L, 37L, 38L, 39L, 40L, 41L, 42L, \n  . 0L, 44L, 45L, 46L), visible = c(TRUE, TRUE, TRUE, TRUE, TRUE, \n  . TRUE, TRUE, TRUE, TRUE, TRUE, TRUE, TRUE, TRUE, TRUE, TRUE, TRUE, \n  . TRUE, TRUE, TRUE, TRUE, TRUE, TRUE, TRUE, TRUE, TRUE, TRUE, TRUE, \n  . FALSE, FALSE, FALSE, FALSE, FALSE, FALSE, FALSE, FALSE, FALSE, \n  . FALSE, FALSE, FALSE, FALSE, FALSE, FALSE, FALSE, FALSE, FALSE, \n  . FALSE, FALSE), namespace = c(\"IRkernel\", NA, \"IRkernel\", NA, \n  . \"base\", \"base\", \"base\", \"base\", \"base\", \"base\", \"base\", \"evaluate\", \n  . \"evaluate\", \"evaluate\", \"evaluate\", \"base\", \"base\", \"base\", \"base\", \n  . \"base\", \"base\", \"base\", \"evaluate\", \"base\", \"base\", \"dplyr\", \n  . \"dplyr\", \"dplyr\", \"base\", \"tidyselect\", \"tidyselect\", \"tidyselect\", \n  . \"rlang\", \"base\", \"tidyselect\", \"tidyselect\", \"tidyselect\", \"tidyselect\", \n  . \"tidyselect\", \"tidyselect\", \"tidyselect\", \"tidyselect\", \"vctrs\", \n  . \"vctrs\", \"vctrs\", \"vctrs\", \"rlang\"), scope = c(\"::\", NA, \"local\", \n  . NA, \"::\", \"local\", \"local\", \"local\", \"local\", \"local\", \"local\", \n  . \"::\", \":::\", \"local\", \"local\", \"::\", \"::\", \"local\", \"local\", \n  . \"local\", \"::\", \"::\", \":::\", \"::\", \"::\", \"::\", \":::\", \":::\", \"::\", \n  . \"::\", \":::\", \":::\", \"::\", \"::\", \":::\", \":::\", \":::\", \":::\", \":::\", \n  . \":::\", \":::\", \":::\", \"::\", \"local\", \":::\", \":::\", \"::\"), error_frame = c(FALSE, \n  . FALSE, FALSE, FALSE, FALSE, FALSE, FALSE, FALSE, FALSE, FALSE, \n  . FALSE, FALSE, FALSE, FALSE, FALSE, FALSE, FALSE, FALSE, FALSE, \n  . FALSE, FALSE, FALSE, FALSE, FALSE, FALSE, FALSE, TRUE, FALSE, \n  . FALSE, FALSE, FALSE, FALSE, FALSE, FALSE, FALSE, FALSE, FALSE, \n  . FALSE, FALSE, FALSE, FALSE, FALSE, FALSE, FALSE, FALSE, FALSE, \n  . FALSE)), row.names = c(NA, -47L), version = 2L, class = c(\"rlang_trace\", \n  . \"rlib_trace\", \"tbl\", \"data.frame\")), parent = NULL, i = \"gain\", \n  .     subscript_type = \"character\", names = c(\"year\", \"month\", \n  .     \"day\", \"dep_time\", \"sched_dep_time\", \"dep_delay\", \"arr_time\", \n  .     \"sched_arr_time\", \"arr_delay\", \"carrier\", \"flight\", \"tailnum\", \n  .     \"origin\", \"dest\", \"air_time\", \"distance\", \"hour\", \"minute\", \n  .     \"time_hour\"), subscript_action = \"subset\", subscript_arg = \"gain\", \n  .     call = select(flights, gain), subscript_elt = \"column\"), class = c(\"vctrs_error_subscript_oob\", \n  . \"vctrs_error_subscript\", \"rlang_error\", \"error\", \"condition\")))",
            "31. cnd_signal(cnd)",
            "32. signal_abort(cnd)"
          ]
        }
      ]
    },
    {
      "cell_type": "markdown",
      "metadata": {
        "id": "vQpKh0ikpL0P"
      },
      "source": [
        "## Quiz\n",
        "What was the most amount of time gained by any flight?\n",
        "<ol style=\"list-style-type: upper-alpha;\">\n",
        "    <li>2 hours</li>\n",
        "    <li>109 minutes</li>\n",
        "    <li>37 minutes</li>\n",
        "    <li>37 seconds</li>\n",
        "    <li>2 days</li>\n",
        "</ol>"
      ]
    },
    {
      "cell_type": "code",
      "source": [
        "arrange(\n",
        "  mutate(flights,gain=dep_delay-arr_delay),\n",
        "  desc(gain))"
      ],
      "metadata": {
        "colab": {
          "base_uri": "https://localhost:8080/",
          "height": 1000
        },
        "id": "8CqDZtmuuhdL",
        "outputId": "22061e2f-6dcb-42f2-bb98-19cbc0530ba1"
      },
      "execution_count": 40,
      "outputs": [
        {
          "output_type": "display_data",
          "data": {
            "text/html": [
              "<table class=\"dataframe\">\n",
              "<caption>A tibble: 336776 × 20</caption>\n",
              "<thead>\n",
              "\t<tr><th scope=col>year</th><th scope=col>month</th><th scope=col>day</th><th scope=col>dep_time</th><th scope=col>sched_dep_time</th><th scope=col>dep_delay</th><th scope=col>arr_time</th><th scope=col>sched_arr_time</th><th scope=col>arr_delay</th><th scope=col>carrier</th><th scope=col>flight</th><th scope=col>tailnum</th><th scope=col>origin</th><th scope=col>dest</th><th scope=col>air_time</th><th scope=col>distance</th><th scope=col>hour</th><th scope=col>minute</th><th scope=col>time_hour</th><th scope=col>gain</th></tr>\n",
              "\t<tr><th scope=col>&lt;int&gt;</th><th scope=col>&lt;int&gt;</th><th scope=col>&lt;int&gt;</th><th scope=col>&lt;int&gt;</th><th scope=col>&lt;int&gt;</th><th scope=col>&lt;dbl&gt;</th><th scope=col>&lt;int&gt;</th><th scope=col>&lt;int&gt;</th><th scope=col>&lt;dbl&gt;</th><th scope=col>&lt;chr&gt;</th><th scope=col>&lt;int&gt;</th><th scope=col>&lt;chr&gt;</th><th scope=col>&lt;chr&gt;</th><th scope=col>&lt;chr&gt;</th><th scope=col>&lt;dbl&gt;</th><th scope=col>&lt;dbl&gt;</th><th scope=col>&lt;dbl&gt;</th><th scope=col>&lt;dbl&gt;</th><th scope=col>&lt;dttm&gt;</th><th scope=col>&lt;dbl&gt;</th></tr>\n",
              "</thead>\n",
              "<tbody>\n",
              "\t<tr><td>2013</td><td> 6</td><td>13</td><td>1907</td><td>1512</td><td>235</td><td>2134</td><td>1928</td><td>126</td><td>EV</td><td>4377</td><td>N19554</td><td>EWR</td><td>JAX</td><td>126</td><td> 820</td><td>15</td><td>12</td><td>2013-06-13 15:00:00</td><td>109</td></tr>\n",
              "\t<tr><td>2013</td><td> 2</td><td>26</td><td>1000</td><td> 900</td><td> 60</td><td>1513</td><td>1540</td><td>-27</td><td>HA</td><td>  51</td><td>N382HA</td><td>JFK</td><td>HNL</td><td>584</td><td>4983</td><td> 9</td><td> 0</td><td>2013-02-26 09:00:00</td><td> 87</td></tr>\n",
              "\t<tr><td>2013</td><td> 2</td><td>23</td><td>1226</td><td> 900</td><td>206</td><td>1746</td><td>1540</td><td>126</td><td>HA</td><td>  51</td><td>N389HA</td><td>JFK</td><td>HNL</td><td>599</td><td>4983</td><td> 9</td><td> 0</td><td>2013-02-23 09:00:00</td><td> 80</td></tr>\n",
              "\t<tr><td>2013</td><td> 5</td><td>13</td><td>1917</td><td>1900</td><td> 17</td><td>2149</td><td>2251</td><td>-62</td><td>DL</td><td>1465</td><td>N721TW</td><td>JFK</td><td>SFO</td><td>313</td><td>2586</td><td>19</td><td> 0</td><td>2013-05-13 19:00:00</td><td> 79</td></tr>\n",
              "\t<tr><td>2013</td><td> 2</td><td>27</td><td> 924</td><td> 900</td><td> 24</td><td>1448</td><td>1540</td><td>-52</td><td>HA</td><td>  51</td><td>N389HA</td><td>JFK</td><td>HNL</td><td>589</td><td>4983</td><td> 9</td><td> 0</td><td>2013-02-27 09:00:00</td><td> 76</td></tr>\n",
              "\t<tr><td>2013</td><td> 7</td><td>14</td><td>1917</td><td>1829</td><td> 48</td><td>2109</td><td>2135</td><td>-26</td><td>UA</td><td> 673</td><td>N817UA</td><td>EWR</td><td>SNA</td><td>274</td><td>2434</td><td>18</td><td>29</td><td>2013-07-14 18:00:00</td><td> 74</td></tr>\n",
              "\t<tr><td>2013</td><td> 7</td><td>17</td><td>2004</td><td>1930</td><td> 34</td><td>2224</td><td>2304</td><td>-40</td><td>UA</td><td>1532</td><td>N33284</td><td>EWR</td><td>SFO</td><td>295</td><td>2565</td><td>19</td><td>30</td><td>2013-07-17 19:00:00</td><td> 74</td></tr>\n",
              "\t<tr><td>2013</td><td>12</td><td>27</td><td>1719</td><td>1648</td><td> 31</td><td>1956</td><td>2038</td><td>-42</td><td>UA</td><td>1284</td><td>N75433</td><td>EWR</td><td>SFO</td><td>324</td><td>2565</td><td>16</td><td>48</td><td>2013-12-27 16:00:00</td><td> 73</td></tr>\n",
              "\t<tr><td>2013</td><td> 5</td><td> 2</td><td>1947</td><td>1949</td><td> -2</td><td>2209</td><td>2324</td><td>-75</td><td>UA</td><td> 612</td><td>N851UA</td><td>EWR</td><td>LAX</td><td>300</td><td>2454</td><td>19</td><td>49</td><td>2013-05-02 19:00:00</td><td> 73</td></tr>\n",
              "\t<tr><td>2013</td><td>11</td><td>13</td><td>2024</td><td>2015</td><td>  9</td><td>2251</td><td>2354</td><td>-63</td><td>DL</td><td> 427</td><td>N188DN</td><td>JFK</td><td>LAX</td><td>311</td><td>2475</td><td>20</td><td>15</td><td>2013-11-13 20:00:00</td><td> 72</td></tr>\n",
              "\t<tr><td>2013</td><td> 5</td><td> 7</td><td>1715</td><td>1729</td><td>-14</td><td>1944</td><td>2110</td><td>-86</td><td>VX</td><td> 193</td><td>N843VA</td><td>EWR</td><td>SFO</td><td>315</td><td>2565</td><td>17</td><td>29</td><td>2013-05-07 17:00:00</td><td> 72</td></tr>\n",
              "\t<tr><td>2013</td><td> 5</td><td>12</td><td>2019</td><td>2000</td><td> 19</td><td>2241</td><td>2334</td><td>-53</td><td>UA</td><td>1262</td><td>N78524</td><td>EWR</td><td>LAX</td><td>296</td><td>2454</td><td>20</td><td> 0</td><td>2013-05-12 20:00:00</td><td> 72</td></tr>\n",
              "\t<tr><td>2013</td><td> 5</td><td> 2</td><td>1949</td><td>1910</td><td> 39</td><td>2208</td><td>2240</td><td>-32</td><td>AA</td><td>  21</td><td>N339AA</td><td>JFK</td><td>LAX</td><td>301</td><td>2475</td><td>19</td><td>10</td><td>2013-05-02 19:00:00</td><td> 71</td></tr>\n",
              "\t<tr><td>2013</td><td> 5</td><td> 6</td><td>1826</td><td>1830</td><td> -4</td><td>2045</td><td>2200</td><td>-75</td><td>AA</td><td> 269</td><td>N3KCAA</td><td>JFK</td><td>SEA</td><td>289</td><td>2422</td><td>18</td><td>30</td><td>2013-05-06 18:00:00</td><td> 71</td></tr>\n",
              "\t<tr><td>2013</td><td> 2</td><td>26</td><td>1335</td><td>1335</td><td>  0</td><td>1819</td><td>1929</td><td>-70</td><td>UA</td><td>  15</td><td>N76065</td><td>EWR</td><td>HNL</td><td>566</td><td>4963</td><td>13</td><td>35</td><td>2013-02-26 13:00:00</td><td> 70</td></tr>\n",
              "\t<tr><td>2013</td><td> 3</td><td> 1</td><td>1528</td><td> 920</td><td>368</td><td>1738</td><td>1240</td><td>298</td><td>AA</td><td>1589</td><td>N437AA</td><td>EWR</td><td>DFW</td><td>174</td><td>1372</td><td> 9</td><td>20</td><td>2013-03-01 09:00:00</td><td> 70</td></tr>\n",
              "\t<tr><td>2013</td><td> 5</td><td> 2</td><td>1926</td><td>1929</td><td> -3</td><td>2157</td><td>2310</td><td>-73</td><td>UA</td><td>1628</td><td>N24212</td><td>EWR</td><td>SFO</td><td>314</td><td>2565</td><td>19</td><td>29</td><td>2013-05-02 19:00:00</td><td> 70</td></tr>\n",
              "\t<tr><td>2013</td><td> 5</td><td> 4</td><td>1816</td><td>1820</td><td> -4</td><td>2017</td><td>2131</td><td>-74</td><td>AS</td><td>   7</td><td>N551AS</td><td>EWR</td><td>SEA</td><td>281</td><td>2402</td><td>18</td><td>20</td><td>2013-05-04 18:00:00</td><td> 70</td></tr>\n",
              "\t<tr><td>2013</td><td> 5</td><td> 7</td><td>2054</td><td>2055</td><td> -1</td><td>2317</td><td>  28</td><td>-71</td><td>UA</td><td> 622</td><td>N806UA</td><td>EWR</td><td>SFO</td><td>309</td><td>2565</td><td>20</td><td>55</td><td>2013-05-07 20:00:00</td><td> 70</td></tr>\n",
              "\t<tr><td>2013</td><td> 7</td><td>13</td><td>1947</td><td>1829</td><td> 78</td><td>2143</td><td>2135</td><td>  8</td><td>UA</td><td> 485</td><td>N478UA</td><td>EWR</td><td>SNA</td><td>279</td><td>2434</td><td>18</td><td>29</td><td>2013-07-13 18:00:00</td><td> 70</td></tr>\n",
              "\t<tr><td>2013</td><td> 7</td><td>15</td><td>1921</td><td>1710</td><td>131</td><td>2106</td><td>2005</td><td> 61</td><td>AA</td><td> 257</td><td>N621AA</td><td>JFK</td><td>LAS</td><td>266</td><td>2248</td><td>17</td><td>10</td><td>2013-07-15 17:00:00</td><td> 70</td></tr>\n",
              "\t<tr><td>2013</td><td> 1</td><td> 3</td><td>1957</td><td>1945</td><td> 12</td><td>2232</td><td>2329</td><td>-57</td><td>B6</td><td> 645</td><td>N793JB</td><td>JFK</td><td>SFO</td><td>315</td><td>2586</td><td>19</td><td>45</td><td>2013-01-03 19:00:00</td><td> 69</td></tr>\n",
              "\t<tr><td>2013</td><td> 2</td><td>24</td><td> 936</td><td> 900</td><td> 36</td><td>1507</td><td>1540</td><td>-33</td><td>HA</td><td>  51</td><td>N383HA</td><td>JFK</td><td>HNL</td><td>612</td><td>4983</td><td> 9</td><td> 0</td><td>2013-02-24 09:00:00</td><td> 69</td></tr>\n",
              "\t<tr><td>2013</td><td> 2</td><td>28</td><td> 924</td><td> 900</td><td> 24</td><td>1455</td><td>1540</td><td>-45</td><td>HA</td><td>  51</td><td>N380HA</td><td>JFK</td><td>HNL</td><td>612</td><td>4983</td><td> 9</td><td> 0</td><td>2013-02-28 09:00:00</td><td> 69</td></tr>\n",
              "\t<tr><td>2013</td><td> 5</td><td> 6</td><td>1036</td><td> 730</td><td>186</td><td>1302</td><td>1105</td><td>117</td><td>VX</td><td> 183</td><td>N842VA</td><td>EWR</td><td>SFO</td><td>312</td><td>2565</td><td> 7</td><td>30</td><td>2013-05-06 07:00:00</td><td> 69</td></tr>\n",
              "\t<tr><td>2013</td><td> 5</td><td> 6</td><td>1753</td><td>1755</td><td> -2</td><td>2004</td><td>2115</td><td>-71</td><td>DL</td><td>1394</td><td>N3760C</td><td>JFK</td><td>PDX</td><td>283</td><td>2454</td><td>17</td><td>55</td><td>2013-05-06 17:00:00</td><td> 69</td></tr>\n",
              "\t<tr><td>2013</td><td> 5</td><td>12</td><td>1744</td><td>1729</td><td> 15</td><td>1948</td><td>2042</td><td>-54</td><td>UA</td><td> 752</td><td>N540UA</td><td>EWR</td><td>LAX</td><td>283</td><td>2454</td><td>17</td><td>29</td><td>2013-05-12 17:00:00</td><td> 69</td></tr>\n",
              "\t<tr><td>2013</td><td> 5</td><td>13</td><td>2044</td><td>2030</td><td> 14</td><td>2301</td><td>2356</td><td>-55</td><td>B6</td><td> 677</td><td>N805JB</td><td>JFK</td><td>LAX</td><td>295</td><td>2475</td><td>20</td><td>30</td><td>2013-05-13 20:00:00</td><td> 69</td></tr>\n",
              "\t<tr><td>2013</td><td> 3</td><td> 1</td><td>1929</td><td>1645</td><td>164</td><td>2141</td><td>2005</td><td> 96</td><td>AA</td><td> 181</td><td>N327AA</td><td>JFK</td><td>LAX</td><td>289</td><td>2475</td><td>16</td><td>45</td><td>2013-03-01 16:00:00</td><td> 68</td></tr>\n",
              "\t<tr><td>2013</td><td> 5</td><td> 4</td><td>1914</td><td>1915</td><td> -1</td><td>2107</td><td>2216</td><td>-69</td><td>UA</td><td>1557</td><td>N36447</td><td>EWR</td><td>LAS</td><td>276</td><td>2227</td><td>19</td><td>15</td><td>2013-05-04 19:00:00</td><td> 68</td></tr>\n",
              "\t<tr><td>⋮</td><td>⋮</td><td>⋮</td><td>⋮</td><td>⋮</td><td>⋮</td><td>⋮</td><td>⋮</td><td>⋮</td><td>⋮</td><td>⋮</td><td>⋮</td><td>⋮</td><td>⋮</td><td>⋮</td><td>⋮</td><td>⋮</td><td>⋮</td><td>⋮</td><td>⋮</td></tr>\n",
              "\t<tr><td>2013</td><td>9</td><td>25</td><td>  NA</td><td>1655</td><td> NA</td><td>  NA</td><td>1840</td><td>NA</td><td>MQ</td><td>3411</td><td>N735MQ</td><td>LGA</td><td>RDU</td><td>NA</td><td> 431</td><td>16</td><td>55</td><td>2013-09-25 16:00:00</td><td>NA</td></tr>\n",
              "\t<tr><td>2013</td><td>9</td><td>25</td><td>  NA</td><td>1559</td><td> NA</td><td>  NA</td><td>1719</td><td>NA</td><td>MQ</td><td>3748</td><td>N530MQ</td><td>EWR</td><td>ORD</td><td>NA</td><td> 719</td><td>15</td><td>59</td><td>2013-09-25 15:00:00</td><td>NA</td></tr>\n",
              "\t<tr><td>2013</td><td>9</td><td>26</td><td>1331</td><td>1329</td><td>  2</td><td>1923</td><td>1813</td><td>NA</td><td>UA</td><td>  15</td><td>N67052</td><td>EWR</td><td>HNL</td><td>NA</td><td>4963</td><td>13</td><td>29</td><td>2013-09-26 13:00:00</td><td>NA</td></tr>\n",
              "\t<tr><td>2013</td><td>9</td><td>26</td><td>  NA</td><td> 915</td><td> NA</td><td>  NA</td><td>1141</td><td>NA</td><td>EV</td><td>5109</td><td>N748EV</td><td>LGA</td><td>CHS</td><td>NA</td><td> 641</td><td> 9</td><td>15</td><td>2013-09-26 09:00:00</td><td>NA</td></tr>\n",
              "\t<tr><td>2013</td><td>9</td><td>26</td><td>  NA</td><td>1400</td><td> NA</td><td>  NA</td><td>1512</td><td>NA</td><td>US</td><td>2183</td><td>NA    </td><td>LGA</td><td>DCA</td><td>NA</td><td> 214</td><td>14</td><td> 0</td><td>2013-09-26 14:00:00</td><td>NA</td></tr>\n",
              "\t<tr><td>2013</td><td>9</td><td>26</td><td>  NA</td><td>1240</td><td> NA</td><td>  NA</td><td>1525</td><td>NA</td><td>WN</td><td>4720</td><td>N691WN</td><td>EWR</td><td>HOU</td><td>NA</td><td>1411</td><td>12</td><td>40</td><td>2013-09-26 12:00:00</td><td>NA</td></tr>\n",
              "\t<tr><td>2013</td><td>9</td><td>27</td><td>1332</td><td>1329</td><td>  3</td><td>1629</td><td>1509</td><td>NA</td><td>AA</td><td> 331</td><td>N565AA</td><td>LGA</td><td>ORD</td><td>NA</td><td> 733</td><td>13</td><td>29</td><td>2013-09-27 13:00:00</td><td>NA</td></tr>\n",
              "\t<tr><td>2013</td><td>9</td><td>27</td><td>2253</td><td>1945</td><td>188</td><td>  NA</td><td>2146</td><td>NA</td><td>EV</td><td>5306</td><td>N605QX</td><td>LGA</td><td>GSO</td><td>NA</td><td> 461</td><td>19</td><td>45</td><td>2013-09-27 19:00:00</td><td>NA</td></tr>\n",
              "\t<tr><td>2013</td><td>9</td><td>27</td><td>  NA</td><td> 600</td><td> NA</td><td>  NA</td><td> 730</td><td>NA</td><td>AA</td><td> 301</td><td>N584AA</td><td>LGA</td><td>ORD</td><td>NA</td><td> 733</td><td> 6</td><td> 0</td><td>2013-09-27 06:00:00</td><td>NA</td></tr>\n",
              "\t<tr><td>2013</td><td>9</td><td>27</td><td>  NA</td><td>2100</td><td> NA</td><td>  NA</td><td>2211</td><td>NA</td><td>US</td><td>2164</td><td>NA    </td><td>LGA</td><td>BOS</td><td>NA</td><td> 184</td><td>21</td><td> 0</td><td>2013-09-27 21:00:00</td><td>NA</td></tr>\n",
              "\t<tr><td>2013</td><td>9</td><td>27</td><td>  NA</td><td>1329</td><td> NA</td><td>  NA</td><td>1444</td><td>NA</td><td>MQ</td><td>3760</td><td>N505MQ</td><td>EWR</td><td>ORD</td><td>NA</td><td> 719</td><td>13</td><td>29</td><td>2013-09-27 13:00:00</td><td>NA</td></tr>\n",
              "\t<tr><td>2013</td><td>9</td><td>27</td><td>  NA</td><td>1600</td><td> NA</td><td>  NA</td><td>1739</td><td>NA</td><td>UA</td><td> 269</td><td>NA    </td><td>LGA</td><td>ORD</td><td>NA</td><td> 733</td><td>16</td><td> 0</td><td>2013-09-27 16:00:00</td><td>NA</td></tr>\n",
              "\t<tr><td>2013</td><td>9</td><td>28</td><td> 555</td><td> 600</td><td> -5</td><td> 953</td><td> 753</td><td>NA</td><td>EV</td><td>5068</td><td>N133EV</td><td>EWR</td><td>DTW</td><td>NA</td><td> 488</td><td> 6</td><td> 0</td><td>2013-09-28 06:00:00</td><td>NA</td></tr>\n",
              "\t<tr><td>2013</td><td>9</td><td>28</td><td> 847</td><td> 839</td><td>  8</td><td>1130</td><td> 959</td><td>NA</td><td>EV</td><td>4510</td><td>N14542</td><td>EWR</td><td>MKE</td><td>NA</td><td> 725</td><td> 8</td><td>39</td><td>2013-09-28 08:00:00</td><td>NA</td></tr>\n",
              "\t<tr><td>2013</td><td>9</td><td>28</td><td>1010</td><td>1020</td><td>-10</td><td>1344</td><td>1222</td><td>NA</td><td>EV</td><td>4412</td><td>N12175</td><td>EWR</td><td>DSM</td><td>NA</td><td>1017</td><td>10</td><td>20</td><td>2013-09-28 10:00:00</td><td>NA</td></tr>\n",
              "\t<tr><td>2013</td><td>9</td><td>28</td><td>1214</td><td>1225</td><td>-11</td><td>1801</td><td>1510</td><td>NA</td><td>AA</td><td> 300</td><td>N488AA</td><td>EWR</td><td>DFW</td><td>NA</td><td>1372</td><td>12</td><td>25</td><td>2013-09-28 12:00:00</td><td>NA</td></tr>\n",
              "\t<tr><td>2013</td><td>9</td><td>28</td><td>  NA</td><td>1803</td><td> NA</td><td>  NA</td><td>1927</td><td>NA</td><td>EV</td><td>5563</td><td>N724EV</td><td>LGA</td><td>BTV</td><td>NA</td><td> 258</td><td>18</td><td> 3</td><td>2013-09-28 18:00:00</td><td>NA</td></tr>\n",
              "\t<tr><td>2013</td><td>9</td><td>28</td><td>  NA</td><td> 910</td><td> NA</td><td>  NA</td><td>1220</td><td>NA</td><td>AA</td><td>   1</td><td>N320AA</td><td>JFK</td><td>LAX</td><td>NA</td><td>2475</td><td> 9</td><td>10</td><td>2013-09-28 09:00:00</td><td>NA</td></tr>\n",
              "\t<tr><td>2013</td><td>9</td><td>28</td><td>  NA</td><td>1635</td><td> NA</td><td>  NA</td><td>1827</td><td>NA</td><td>US</td><td> 581</td><td>NA    </td><td>EWR</td><td>CLT</td><td>NA</td><td> 529</td><td>16</td><td>35</td><td>2013-09-28 16:00:00</td><td>NA</td></tr>\n",
              "\t<tr><td>2013</td><td>9</td><td>29</td><td>1734</td><td>1711</td><td> 23</td><td>2159</td><td>2020</td><td>NA</td><td>UA</td><td> 327</td><td>N463UA</td><td>EWR</td><td>PDX</td><td>NA</td><td>2434</td><td>17</td><td>11</td><td>2013-09-29 17:00:00</td><td>NA</td></tr>\n",
              "\t<tr><td>2013</td><td>9</td><td>29</td><td>  NA</td><td>2054</td><td> NA</td><td>  NA</td><td>2302</td><td>NA</td><td>EV</td><td>4536</td><td>N13988</td><td>EWR</td><td>CVG</td><td>NA</td><td> 569</td><td>20</td><td>54</td><td>2013-09-29 20:00:00</td><td>NA</td></tr>\n",
              "\t<tr><td>2013</td><td>9</td><td>29</td><td>  NA</td><td>1830</td><td> NA</td><td>  NA</td><td>2010</td><td>NA</td><td>MQ</td><td>3134</td><td>N508MQ</td><td>EWR</td><td>ORD</td><td>NA</td><td> 719</td><td>18</td><td>30</td><td>2013-09-29 18:00:00</td><td>NA</td></tr>\n",
              "\t<tr><td>2013</td><td>9</td><td>29</td><td>  NA</td><td> 700</td><td> NA</td><td>  NA</td><td> 833</td><td>NA</td><td>UA</td><td> 331</td><td>NA    </td><td>LGA</td><td>ORD</td><td>NA</td><td> 733</td><td> 7</td><td> 0</td><td>2013-09-29 07:00:00</td><td>NA</td></tr>\n",
              "\t<tr><td>2013</td><td>9</td><td>30</td><td> 559</td><td> 600</td><td> -1</td><td>  NA</td><td> 715</td><td>NA</td><td>WN</td><td> 464</td><td>N411WN</td><td>EWR</td><td>MDW</td><td>NA</td><td> 711</td><td> 6</td><td> 0</td><td>2013-09-30 06:00:00</td><td>NA</td></tr>\n",
              "\t<tr><td>2013</td><td>9</td><td>30</td><td>  NA</td><td>1842</td><td> NA</td><td>  NA</td><td>2019</td><td>NA</td><td>EV</td><td>5274</td><td>N740EV</td><td>LGA</td><td>BNA</td><td>NA</td><td> 764</td><td>18</td><td>42</td><td>2013-09-30 18:00:00</td><td>NA</td></tr>\n",
              "\t<tr><td>2013</td><td>9</td><td>30</td><td>  NA</td><td>1455</td><td> NA</td><td>  NA</td><td>1634</td><td>NA</td><td>9E</td><td>3393</td><td>NA    </td><td>JFK</td><td>DCA</td><td>NA</td><td> 213</td><td>14</td><td>55</td><td>2013-09-30 14:00:00</td><td>NA</td></tr>\n",
              "\t<tr><td>2013</td><td>9</td><td>30</td><td>  NA</td><td>2200</td><td> NA</td><td>  NA</td><td>2312</td><td>NA</td><td>9E</td><td>3525</td><td>NA    </td><td>LGA</td><td>SYR</td><td>NA</td><td> 198</td><td>22</td><td> 0</td><td>2013-09-30 22:00:00</td><td>NA</td></tr>\n",
              "\t<tr><td>2013</td><td>9</td><td>30</td><td>  NA</td><td>1210</td><td> NA</td><td>  NA</td><td>1330</td><td>NA</td><td>MQ</td><td>3461</td><td>N535MQ</td><td>LGA</td><td>BNA</td><td>NA</td><td> 764</td><td>12</td><td>10</td><td>2013-09-30 12:00:00</td><td>NA</td></tr>\n",
              "\t<tr><td>2013</td><td>9</td><td>30</td><td>  NA</td><td>1159</td><td> NA</td><td>  NA</td><td>1344</td><td>NA</td><td>MQ</td><td>3572</td><td>N511MQ</td><td>LGA</td><td>CLE</td><td>NA</td><td> 419</td><td>11</td><td>59</td><td>2013-09-30 11:00:00</td><td>NA</td></tr>\n",
              "\t<tr><td>2013</td><td>9</td><td>30</td><td>  NA</td><td> 840</td><td> NA</td><td>  NA</td><td>1020</td><td>NA</td><td>MQ</td><td>3531</td><td>N839MQ</td><td>LGA</td><td>RDU</td><td>NA</td><td> 431</td><td> 8</td><td>40</td><td>2013-09-30 08:00:00</td><td>NA</td></tr>\n",
              "</tbody>\n",
              "</table>\n"
            ],
            "text/markdown": "\nA tibble: 336776 × 20\n\n| year &lt;int&gt; | month &lt;int&gt; | day &lt;int&gt; | dep_time &lt;int&gt; | sched_dep_time &lt;int&gt; | dep_delay &lt;dbl&gt; | arr_time &lt;int&gt; | sched_arr_time &lt;int&gt; | arr_delay &lt;dbl&gt; | carrier &lt;chr&gt; | flight &lt;int&gt; | tailnum &lt;chr&gt; | origin &lt;chr&gt; | dest &lt;chr&gt; | air_time &lt;dbl&gt; | distance &lt;dbl&gt; | hour &lt;dbl&gt; | minute &lt;dbl&gt; | time_hour &lt;dttm&gt; | gain &lt;dbl&gt; |\n|---|---|---|---|---|---|---|---|---|---|---|---|---|---|---|---|---|---|---|---|\n| 2013 |  6 | 13 | 1907 | 1512 | 235 | 2134 | 1928 | 126 | EV | 4377 | N19554 | EWR | JAX | 126 |  820 | 15 | 12 | 2013-06-13 15:00:00 | 109 |\n| 2013 |  2 | 26 | 1000 |  900 |  60 | 1513 | 1540 | -27 | HA |   51 | N382HA | JFK | HNL | 584 | 4983 |  9 |  0 | 2013-02-26 09:00:00 |  87 |\n| 2013 |  2 | 23 | 1226 |  900 | 206 | 1746 | 1540 | 126 | HA |   51 | N389HA | JFK | HNL | 599 | 4983 |  9 |  0 | 2013-02-23 09:00:00 |  80 |\n| 2013 |  5 | 13 | 1917 | 1900 |  17 | 2149 | 2251 | -62 | DL | 1465 | N721TW | JFK | SFO | 313 | 2586 | 19 |  0 | 2013-05-13 19:00:00 |  79 |\n| 2013 |  2 | 27 |  924 |  900 |  24 | 1448 | 1540 | -52 | HA |   51 | N389HA | JFK | HNL | 589 | 4983 |  9 |  0 | 2013-02-27 09:00:00 |  76 |\n| 2013 |  7 | 14 | 1917 | 1829 |  48 | 2109 | 2135 | -26 | UA |  673 | N817UA | EWR | SNA | 274 | 2434 | 18 | 29 | 2013-07-14 18:00:00 |  74 |\n| 2013 |  7 | 17 | 2004 | 1930 |  34 | 2224 | 2304 | -40 | UA | 1532 | N33284 | EWR | SFO | 295 | 2565 | 19 | 30 | 2013-07-17 19:00:00 |  74 |\n| 2013 | 12 | 27 | 1719 | 1648 |  31 | 1956 | 2038 | -42 | UA | 1284 | N75433 | EWR | SFO | 324 | 2565 | 16 | 48 | 2013-12-27 16:00:00 |  73 |\n| 2013 |  5 |  2 | 1947 | 1949 |  -2 | 2209 | 2324 | -75 | UA |  612 | N851UA | EWR | LAX | 300 | 2454 | 19 | 49 | 2013-05-02 19:00:00 |  73 |\n| 2013 | 11 | 13 | 2024 | 2015 |   9 | 2251 | 2354 | -63 | DL |  427 | N188DN | JFK | LAX | 311 | 2475 | 20 | 15 | 2013-11-13 20:00:00 |  72 |\n| 2013 |  5 |  7 | 1715 | 1729 | -14 | 1944 | 2110 | -86 | VX |  193 | N843VA | EWR | SFO | 315 | 2565 | 17 | 29 | 2013-05-07 17:00:00 |  72 |\n| 2013 |  5 | 12 | 2019 | 2000 |  19 | 2241 | 2334 | -53 | UA | 1262 | N78524 | EWR | LAX | 296 | 2454 | 20 |  0 | 2013-05-12 20:00:00 |  72 |\n| 2013 |  5 |  2 | 1949 | 1910 |  39 | 2208 | 2240 | -32 | AA |   21 | N339AA | JFK | LAX | 301 | 2475 | 19 | 10 | 2013-05-02 19:00:00 |  71 |\n| 2013 |  5 |  6 | 1826 | 1830 |  -4 | 2045 | 2200 | -75 | AA |  269 | N3KCAA | JFK | SEA | 289 | 2422 | 18 | 30 | 2013-05-06 18:00:00 |  71 |\n| 2013 |  2 | 26 | 1335 | 1335 |   0 | 1819 | 1929 | -70 | UA |   15 | N76065 | EWR | HNL | 566 | 4963 | 13 | 35 | 2013-02-26 13:00:00 |  70 |\n| 2013 |  3 |  1 | 1528 |  920 | 368 | 1738 | 1240 | 298 | AA | 1589 | N437AA | EWR | DFW | 174 | 1372 |  9 | 20 | 2013-03-01 09:00:00 |  70 |\n| 2013 |  5 |  2 | 1926 | 1929 |  -3 | 2157 | 2310 | -73 | UA | 1628 | N24212 | EWR | SFO | 314 | 2565 | 19 | 29 | 2013-05-02 19:00:00 |  70 |\n| 2013 |  5 |  4 | 1816 | 1820 |  -4 | 2017 | 2131 | -74 | AS |    7 | N551AS | EWR | SEA | 281 | 2402 | 18 | 20 | 2013-05-04 18:00:00 |  70 |\n| 2013 |  5 |  7 | 2054 | 2055 |  -1 | 2317 |   28 | -71 | UA |  622 | N806UA | EWR | SFO | 309 | 2565 | 20 | 55 | 2013-05-07 20:00:00 |  70 |\n| 2013 |  7 | 13 | 1947 | 1829 |  78 | 2143 | 2135 |   8 | UA |  485 | N478UA | EWR | SNA | 279 | 2434 | 18 | 29 | 2013-07-13 18:00:00 |  70 |\n| 2013 |  7 | 15 | 1921 | 1710 | 131 | 2106 | 2005 |  61 | AA |  257 | N621AA | JFK | LAS | 266 | 2248 | 17 | 10 | 2013-07-15 17:00:00 |  70 |\n| 2013 |  1 |  3 | 1957 | 1945 |  12 | 2232 | 2329 | -57 | B6 |  645 | N793JB | JFK | SFO | 315 | 2586 | 19 | 45 | 2013-01-03 19:00:00 |  69 |\n| 2013 |  2 | 24 |  936 |  900 |  36 | 1507 | 1540 | -33 | HA |   51 | N383HA | JFK | HNL | 612 | 4983 |  9 |  0 | 2013-02-24 09:00:00 |  69 |\n| 2013 |  2 | 28 |  924 |  900 |  24 | 1455 | 1540 | -45 | HA |   51 | N380HA | JFK | HNL | 612 | 4983 |  9 |  0 | 2013-02-28 09:00:00 |  69 |\n| 2013 |  5 |  6 | 1036 |  730 | 186 | 1302 | 1105 | 117 | VX |  183 | N842VA | EWR | SFO | 312 | 2565 |  7 | 30 | 2013-05-06 07:00:00 |  69 |\n| 2013 |  5 |  6 | 1753 | 1755 |  -2 | 2004 | 2115 | -71 | DL | 1394 | N3760C | JFK | PDX | 283 | 2454 | 17 | 55 | 2013-05-06 17:00:00 |  69 |\n| 2013 |  5 | 12 | 1744 | 1729 |  15 | 1948 | 2042 | -54 | UA |  752 | N540UA | EWR | LAX | 283 | 2454 | 17 | 29 | 2013-05-12 17:00:00 |  69 |\n| 2013 |  5 | 13 | 2044 | 2030 |  14 | 2301 | 2356 | -55 | B6 |  677 | N805JB | JFK | LAX | 295 | 2475 | 20 | 30 | 2013-05-13 20:00:00 |  69 |\n| 2013 |  3 |  1 | 1929 | 1645 | 164 | 2141 | 2005 |  96 | AA |  181 | N327AA | JFK | LAX | 289 | 2475 | 16 | 45 | 2013-03-01 16:00:00 |  68 |\n| 2013 |  5 |  4 | 1914 | 1915 |  -1 | 2107 | 2216 | -69 | UA | 1557 | N36447 | EWR | LAS | 276 | 2227 | 19 | 15 | 2013-05-04 19:00:00 |  68 |\n| ⋮ | ⋮ | ⋮ | ⋮ | ⋮ | ⋮ | ⋮ | ⋮ | ⋮ | ⋮ | ⋮ | ⋮ | ⋮ | ⋮ | ⋮ | ⋮ | ⋮ | ⋮ | ⋮ | ⋮ |\n| 2013 | 9 | 25 |   NA | 1655 |  NA |   NA | 1840 | NA | MQ | 3411 | N735MQ | LGA | RDU | NA |  431 | 16 | 55 | 2013-09-25 16:00:00 | NA |\n| 2013 | 9 | 25 |   NA | 1559 |  NA |   NA | 1719 | NA | MQ | 3748 | N530MQ | EWR | ORD | NA |  719 | 15 | 59 | 2013-09-25 15:00:00 | NA |\n| 2013 | 9 | 26 | 1331 | 1329 |   2 | 1923 | 1813 | NA | UA |   15 | N67052 | EWR | HNL | NA | 4963 | 13 | 29 | 2013-09-26 13:00:00 | NA |\n| 2013 | 9 | 26 |   NA |  915 |  NA |   NA | 1141 | NA | EV | 5109 | N748EV | LGA | CHS | NA |  641 |  9 | 15 | 2013-09-26 09:00:00 | NA |\n| 2013 | 9 | 26 |   NA | 1400 |  NA |   NA | 1512 | NA | US | 2183 | NA     | LGA | DCA | NA |  214 | 14 |  0 | 2013-09-26 14:00:00 | NA |\n| 2013 | 9 | 26 |   NA | 1240 |  NA |   NA | 1525 | NA | WN | 4720 | N691WN | EWR | HOU | NA | 1411 | 12 | 40 | 2013-09-26 12:00:00 | NA |\n| 2013 | 9 | 27 | 1332 | 1329 |   3 | 1629 | 1509 | NA | AA |  331 | N565AA | LGA | ORD | NA |  733 | 13 | 29 | 2013-09-27 13:00:00 | NA |\n| 2013 | 9 | 27 | 2253 | 1945 | 188 |   NA | 2146 | NA | EV | 5306 | N605QX | LGA | GSO | NA |  461 | 19 | 45 | 2013-09-27 19:00:00 | NA |\n| 2013 | 9 | 27 |   NA |  600 |  NA |   NA |  730 | NA | AA |  301 | N584AA | LGA | ORD | NA |  733 |  6 |  0 | 2013-09-27 06:00:00 | NA |\n| 2013 | 9 | 27 |   NA | 2100 |  NA |   NA | 2211 | NA | US | 2164 | NA     | LGA | BOS | NA |  184 | 21 |  0 | 2013-09-27 21:00:00 | NA |\n| 2013 | 9 | 27 |   NA | 1329 |  NA |   NA | 1444 | NA | MQ | 3760 | N505MQ | EWR | ORD | NA |  719 | 13 | 29 | 2013-09-27 13:00:00 | NA |\n| 2013 | 9 | 27 |   NA | 1600 |  NA |   NA | 1739 | NA | UA |  269 | NA     | LGA | ORD | NA |  733 | 16 |  0 | 2013-09-27 16:00:00 | NA |\n| 2013 | 9 | 28 |  555 |  600 |  -5 |  953 |  753 | NA | EV | 5068 | N133EV | EWR | DTW | NA |  488 |  6 |  0 | 2013-09-28 06:00:00 | NA |\n| 2013 | 9 | 28 |  847 |  839 |   8 | 1130 |  959 | NA | EV | 4510 | N14542 | EWR | MKE | NA |  725 |  8 | 39 | 2013-09-28 08:00:00 | NA |\n| 2013 | 9 | 28 | 1010 | 1020 | -10 | 1344 | 1222 | NA | EV | 4412 | N12175 | EWR | DSM | NA | 1017 | 10 | 20 | 2013-09-28 10:00:00 | NA |\n| 2013 | 9 | 28 | 1214 | 1225 | -11 | 1801 | 1510 | NA | AA |  300 | N488AA | EWR | DFW | NA | 1372 | 12 | 25 | 2013-09-28 12:00:00 | NA |\n| 2013 | 9 | 28 |   NA | 1803 |  NA |   NA | 1927 | NA | EV | 5563 | N724EV | LGA | BTV | NA |  258 | 18 |  3 | 2013-09-28 18:00:00 | NA |\n| 2013 | 9 | 28 |   NA |  910 |  NA |   NA | 1220 | NA | AA |    1 | N320AA | JFK | LAX | NA | 2475 |  9 | 10 | 2013-09-28 09:00:00 | NA |\n| 2013 | 9 | 28 |   NA | 1635 |  NA |   NA | 1827 | NA | US |  581 | NA     | EWR | CLT | NA |  529 | 16 | 35 | 2013-09-28 16:00:00 | NA |\n| 2013 | 9 | 29 | 1734 | 1711 |  23 | 2159 | 2020 | NA | UA |  327 | N463UA | EWR | PDX | NA | 2434 | 17 | 11 | 2013-09-29 17:00:00 | NA |\n| 2013 | 9 | 29 |   NA | 2054 |  NA |   NA | 2302 | NA | EV | 4536 | N13988 | EWR | CVG | NA |  569 | 20 | 54 | 2013-09-29 20:00:00 | NA |\n| 2013 | 9 | 29 |   NA | 1830 |  NA |   NA | 2010 | NA | MQ | 3134 | N508MQ | EWR | ORD | NA |  719 | 18 | 30 | 2013-09-29 18:00:00 | NA |\n| 2013 | 9 | 29 |   NA |  700 |  NA |   NA |  833 | NA | UA |  331 | NA     | LGA | ORD | NA |  733 |  7 |  0 | 2013-09-29 07:00:00 | NA |\n| 2013 | 9 | 30 |  559 |  600 |  -1 |   NA |  715 | NA | WN |  464 | N411WN | EWR | MDW | NA |  711 |  6 |  0 | 2013-09-30 06:00:00 | NA |\n| 2013 | 9 | 30 |   NA | 1842 |  NA |   NA | 2019 | NA | EV | 5274 | N740EV | LGA | BNA | NA |  764 | 18 | 42 | 2013-09-30 18:00:00 | NA |\n| 2013 | 9 | 30 |   NA | 1455 |  NA |   NA | 1634 | NA | 9E | 3393 | NA     | JFK | DCA | NA |  213 | 14 | 55 | 2013-09-30 14:00:00 | NA |\n| 2013 | 9 | 30 |   NA | 2200 |  NA |   NA | 2312 | NA | 9E | 3525 | NA     | LGA | SYR | NA |  198 | 22 |  0 | 2013-09-30 22:00:00 | NA |\n| 2013 | 9 | 30 |   NA | 1210 |  NA |   NA | 1330 | NA | MQ | 3461 | N535MQ | LGA | BNA | NA |  764 | 12 | 10 | 2013-09-30 12:00:00 | NA |\n| 2013 | 9 | 30 |   NA | 1159 |  NA |   NA | 1344 | NA | MQ | 3572 | N511MQ | LGA | CLE | NA |  419 | 11 | 59 | 2013-09-30 11:00:00 | NA |\n| 2013 | 9 | 30 |   NA |  840 |  NA |   NA | 1020 | NA | MQ | 3531 | N839MQ | LGA | RDU | NA |  431 |  8 | 40 | 2013-09-30 08:00:00 | NA |\n\n",
            "text/latex": "A tibble: 336776 × 20\n\\begin{tabular}{llllllllllllllllllll}\n year & month & day & dep\\_time & sched\\_dep\\_time & dep\\_delay & arr\\_time & sched\\_arr\\_time & arr\\_delay & carrier & flight & tailnum & origin & dest & air\\_time & distance & hour & minute & time\\_hour & gain\\\\\n <int> & <int> & <int> & <int> & <int> & <dbl> & <int> & <int> & <dbl> & <chr> & <int> & <chr> & <chr> & <chr> & <dbl> & <dbl> & <dbl> & <dbl> & <dttm> & <dbl>\\\\\n\\hline\n\t 2013 &  6 & 13 & 1907 & 1512 & 235 & 2134 & 1928 & 126 & EV & 4377 & N19554 & EWR & JAX & 126 &  820 & 15 & 12 & 2013-06-13 15:00:00 & 109\\\\\n\t 2013 &  2 & 26 & 1000 &  900 &  60 & 1513 & 1540 & -27 & HA &   51 & N382HA & JFK & HNL & 584 & 4983 &  9 &  0 & 2013-02-26 09:00:00 &  87\\\\\n\t 2013 &  2 & 23 & 1226 &  900 & 206 & 1746 & 1540 & 126 & HA &   51 & N389HA & JFK & HNL & 599 & 4983 &  9 &  0 & 2013-02-23 09:00:00 &  80\\\\\n\t 2013 &  5 & 13 & 1917 & 1900 &  17 & 2149 & 2251 & -62 & DL & 1465 & N721TW & JFK & SFO & 313 & 2586 & 19 &  0 & 2013-05-13 19:00:00 &  79\\\\\n\t 2013 &  2 & 27 &  924 &  900 &  24 & 1448 & 1540 & -52 & HA &   51 & N389HA & JFK & HNL & 589 & 4983 &  9 &  0 & 2013-02-27 09:00:00 &  76\\\\\n\t 2013 &  7 & 14 & 1917 & 1829 &  48 & 2109 & 2135 & -26 & UA &  673 & N817UA & EWR & SNA & 274 & 2434 & 18 & 29 & 2013-07-14 18:00:00 &  74\\\\\n\t 2013 &  7 & 17 & 2004 & 1930 &  34 & 2224 & 2304 & -40 & UA & 1532 & N33284 & EWR & SFO & 295 & 2565 & 19 & 30 & 2013-07-17 19:00:00 &  74\\\\\n\t 2013 & 12 & 27 & 1719 & 1648 &  31 & 1956 & 2038 & -42 & UA & 1284 & N75433 & EWR & SFO & 324 & 2565 & 16 & 48 & 2013-12-27 16:00:00 &  73\\\\\n\t 2013 &  5 &  2 & 1947 & 1949 &  -2 & 2209 & 2324 & -75 & UA &  612 & N851UA & EWR & LAX & 300 & 2454 & 19 & 49 & 2013-05-02 19:00:00 &  73\\\\\n\t 2013 & 11 & 13 & 2024 & 2015 &   9 & 2251 & 2354 & -63 & DL &  427 & N188DN & JFK & LAX & 311 & 2475 & 20 & 15 & 2013-11-13 20:00:00 &  72\\\\\n\t 2013 &  5 &  7 & 1715 & 1729 & -14 & 1944 & 2110 & -86 & VX &  193 & N843VA & EWR & SFO & 315 & 2565 & 17 & 29 & 2013-05-07 17:00:00 &  72\\\\\n\t 2013 &  5 & 12 & 2019 & 2000 &  19 & 2241 & 2334 & -53 & UA & 1262 & N78524 & EWR & LAX & 296 & 2454 & 20 &  0 & 2013-05-12 20:00:00 &  72\\\\\n\t 2013 &  5 &  2 & 1949 & 1910 &  39 & 2208 & 2240 & -32 & AA &   21 & N339AA & JFK & LAX & 301 & 2475 & 19 & 10 & 2013-05-02 19:00:00 &  71\\\\\n\t 2013 &  5 &  6 & 1826 & 1830 &  -4 & 2045 & 2200 & -75 & AA &  269 & N3KCAA & JFK & SEA & 289 & 2422 & 18 & 30 & 2013-05-06 18:00:00 &  71\\\\\n\t 2013 &  2 & 26 & 1335 & 1335 &   0 & 1819 & 1929 & -70 & UA &   15 & N76065 & EWR & HNL & 566 & 4963 & 13 & 35 & 2013-02-26 13:00:00 &  70\\\\\n\t 2013 &  3 &  1 & 1528 &  920 & 368 & 1738 & 1240 & 298 & AA & 1589 & N437AA & EWR & DFW & 174 & 1372 &  9 & 20 & 2013-03-01 09:00:00 &  70\\\\\n\t 2013 &  5 &  2 & 1926 & 1929 &  -3 & 2157 & 2310 & -73 & UA & 1628 & N24212 & EWR & SFO & 314 & 2565 & 19 & 29 & 2013-05-02 19:00:00 &  70\\\\\n\t 2013 &  5 &  4 & 1816 & 1820 &  -4 & 2017 & 2131 & -74 & AS &    7 & N551AS & EWR & SEA & 281 & 2402 & 18 & 20 & 2013-05-04 18:00:00 &  70\\\\\n\t 2013 &  5 &  7 & 2054 & 2055 &  -1 & 2317 &   28 & -71 & UA &  622 & N806UA & EWR & SFO & 309 & 2565 & 20 & 55 & 2013-05-07 20:00:00 &  70\\\\\n\t 2013 &  7 & 13 & 1947 & 1829 &  78 & 2143 & 2135 &   8 & UA &  485 & N478UA & EWR & SNA & 279 & 2434 & 18 & 29 & 2013-07-13 18:00:00 &  70\\\\\n\t 2013 &  7 & 15 & 1921 & 1710 & 131 & 2106 & 2005 &  61 & AA &  257 & N621AA & JFK & LAS & 266 & 2248 & 17 & 10 & 2013-07-15 17:00:00 &  70\\\\\n\t 2013 &  1 &  3 & 1957 & 1945 &  12 & 2232 & 2329 & -57 & B6 &  645 & N793JB & JFK & SFO & 315 & 2586 & 19 & 45 & 2013-01-03 19:00:00 &  69\\\\\n\t 2013 &  2 & 24 &  936 &  900 &  36 & 1507 & 1540 & -33 & HA &   51 & N383HA & JFK & HNL & 612 & 4983 &  9 &  0 & 2013-02-24 09:00:00 &  69\\\\\n\t 2013 &  2 & 28 &  924 &  900 &  24 & 1455 & 1540 & -45 & HA &   51 & N380HA & JFK & HNL & 612 & 4983 &  9 &  0 & 2013-02-28 09:00:00 &  69\\\\\n\t 2013 &  5 &  6 & 1036 &  730 & 186 & 1302 & 1105 & 117 & VX &  183 & N842VA & EWR & SFO & 312 & 2565 &  7 & 30 & 2013-05-06 07:00:00 &  69\\\\\n\t 2013 &  5 &  6 & 1753 & 1755 &  -2 & 2004 & 2115 & -71 & DL & 1394 & N3760C & JFK & PDX & 283 & 2454 & 17 & 55 & 2013-05-06 17:00:00 &  69\\\\\n\t 2013 &  5 & 12 & 1744 & 1729 &  15 & 1948 & 2042 & -54 & UA &  752 & N540UA & EWR & LAX & 283 & 2454 & 17 & 29 & 2013-05-12 17:00:00 &  69\\\\\n\t 2013 &  5 & 13 & 2044 & 2030 &  14 & 2301 & 2356 & -55 & B6 &  677 & N805JB & JFK & LAX & 295 & 2475 & 20 & 30 & 2013-05-13 20:00:00 &  69\\\\\n\t 2013 &  3 &  1 & 1929 & 1645 & 164 & 2141 & 2005 &  96 & AA &  181 & N327AA & JFK & LAX & 289 & 2475 & 16 & 45 & 2013-03-01 16:00:00 &  68\\\\\n\t 2013 &  5 &  4 & 1914 & 1915 &  -1 & 2107 & 2216 & -69 & UA & 1557 & N36447 & EWR & LAS & 276 & 2227 & 19 & 15 & 2013-05-04 19:00:00 &  68\\\\\n\t ⋮ & ⋮ & ⋮ & ⋮ & ⋮ & ⋮ & ⋮ & ⋮ & ⋮ & ⋮ & ⋮ & ⋮ & ⋮ & ⋮ & ⋮ & ⋮ & ⋮ & ⋮ & ⋮ & ⋮\\\\\n\t 2013 & 9 & 25 &   NA & 1655 &  NA &   NA & 1840 & NA & MQ & 3411 & N735MQ & LGA & RDU & NA &  431 & 16 & 55 & 2013-09-25 16:00:00 & NA\\\\\n\t 2013 & 9 & 25 &   NA & 1559 &  NA &   NA & 1719 & NA & MQ & 3748 & N530MQ & EWR & ORD & NA &  719 & 15 & 59 & 2013-09-25 15:00:00 & NA\\\\\n\t 2013 & 9 & 26 & 1331 & 1329 &   2 & 1923 & 1813 & NA & UA &   15 & N67052 & EWR & HNL & NA & 4963 & 13 & 29 & 2013-09-26 13:00:00 & NA\\\\\n\t 2013 & 9 & 26 &   NA &  915 &  NA &   NA & 1141 & NA & EV & 5109 & N748EV & LGA & CHS & NA &  641 &  9 & 15 & 2013-09-26 09:00:00 & NA\\\\\n\t 2013 & 9 & 26 &   NA & 1400 &  NA &   NA & 1512 & NA & US & 2183 & NA     & LGA & DCA & NA &  214 & 14 &  0 & 2013-09-26 14:00:00 & NA\\\\\n\t 2013 & 9 & 26 &   NA & 1240 &  NA &   NA & 1525 & NA & WN & 4720 & N691WN & EWR & HOU & NA & 1411 & 12 & 40 & 2013-09-26 12:00:00 & NA\\\\\n\t 2013 & 9 & 27 & 1332 & 1329 &   3 & 1629 & 1509 & NA & AA &  331 & N565AA & LGA & ORD & NA &  733 & 13 & 29 & 2013-09-27 13:00:00 & NA\\\\\n\t 2013 & 9 & 27 & 2253 & 1945 & 188 &   NA & 2146 & NA & EV & 5306 & N605QX & LGA & GSO & NA &  461 & 19 & 45 & 2013-09-27 19:00:00 & NA\\\\\n\t 2013 & 9 & 27 &   NA &  600 &  NA &   NA &  730 & NA & AA &  301 & N584AA & LGA & ORD & NA &  733 &  6 &  0 & 2013-09-27 06:00:00 & NA\\\\\n\t 2013 & 9 & 27 &   NA & 2100 &  NA &   NA & 2211 & NA & US & 2164 & NA     & LGA & BOS & NA &  184 & 21 &  0 & 2013-09-27 21:00:00 & NA\\\\\n\t 2013 & 9 & 27 &   NA & 1329 &  NA &   NA & 1444 & NA & MQ & 3760 & N505MQ & EWR & ORD & NA &  719 & 13 & 29 & 2013-09-27 13:00:00 & NA\\\\\n\t 2013 & 9 & 27 &   NA & 1600 &  NA &   NA & 1739 & NA & UA &  269 & NA     & LGA & ORD & NA &  733 & 16 &  0 & 2013-09-27 16:00:00 & NA\\\\\n\t 2013 & 9 & 28 &  555 &  600 &  -5 &  953 &  753 & NA & EV & 5068 & N133EV & EWR & DTW & NA &  488 &  6 &  0 & 2013-09-28 06:00:00 & NA\\\\\n\t 2013 & 9 & 28 &  847 &  839 &   8 & 1130 &  959 & NA & EV & 4510 & N14542 & EWR & MKE & NA &  725 &  8 & 39 & 2013-09-28 08:00:00 & NA\\\\\n\t 2013 & 9 & 28 & 1010 & 1020 & -10 & 1344 & 1222 & NA & EV & 4412 & N12175 & EWR & DSM & NA & 1017 & 10 & 20 & 2013-09-28 10:00:00 & NA\\\\\n\t 2013 & 9 & 28 & 1214 & 1225 & -11 & 1801 & 1510 & NA & AA &  300 & N488AA & EWR & DFW & NA & 1372 & 12 & 25 & 2013-09-28 12:00:00 & NA\\\\\n\t 2013 & 9 & 28 &   NA & 1803 &  NA &   NA & 1927 & NA & EV & 5563 & N724EV & LGA & BTV & NA &  258 & 18 &  3 & 2013-09-28 18:00:00 & NA\\\\\n\t 2013 & 9 & 28 &   NA &  910 &  NA &   NA & 1220 & NA & AA &    1 & N320AA & JFK & LAX & NA & 2475 &  9 & 10 & 2013-09-28 09:00:00 & NA\\\\\n\t 2013 & 9 & 28 &   NA & 1635 &  NA &   NA & 1827 & NA & US &  581 & NA     & EWR & CLT & NA &  529 & 16 & 35 & 2013-09-28 16:00:00 & NA\\\\\n\t 2013 & 9 & 29 & 1734 & 1711 &  23 & 2159 & 2020 & NA & UA &  327 & N463UA & EWR & PDX & NA & 2434 & 17 & 11 & 2013-09-29 17:00:00 & NA\\\\\n\t 2013 & 9 & 29 &   NA & 2054 &  NA &   NA & 2302 & NA & EV & 4536 & N13988 & EWR & CVG & NA &  569 & 20 & 54 & 2013-09-29 20:00:00 & NA\\\\\n\t 2013 & 9 & 29 &   NA & 1830 &  NA &   NA & 2010 & NA & MQ & 3134 & N508MQ & EWR & ORD & NA &  719 & 18 & 30 & 2013-09-29 18:00:00 & NA\\\\\n\t 2013 & 9 & 29 &   NA &  700 &  NA &   NA &  833 & NA & UA &  331 & NA     & LGA & ORD & NA &  733 &  7 &  0 & 2013-09-29 07:00:00 & NA\\\\\n\t 2013 & 9 & 30 &  559 &  600 &  -1 &   NA &  715 & NA & WN &  464 & N411WN & EWR & MDW & NA &  711 &  6 &  0 & 2013-09-30 06:00:00 & NA\\\\\n\t 2013 & 9 & 30 &   NA & 1842 &  NA &   NA & 2019 & NA & EV & 5274 & N740EV & LGA & BNA & NA &  764 & 18 & 42 & 2013-09-30 18:00:00 & NA\\\\\n\t 2013 & 9 & 30 &   NA & 1455 &  NA &   NA & 1634 & NA & 9E & 3393 & NA     & JFK & DCA & NA &  213 & 14 & 55 & 2013-09-30 14:00:00 & NA\\\\\n\t 2013 & 9 & 30 &   NA & 2200 &  NA &   NA & 2312 & NA & 9E & 3525 & NA     & LGA & SYR & NA &  198 & 22 &  0 & 2013-09-30 22:00:00 & NA\\\\\n\t 2013 & 9 & 30 &   NA & 1210 &  NA &   NA & 1330 & NA & MQ & 3461 & N535MQ & LGA & BNA & NA &  764 & 12 & 10 & 2013-09-30 12:00:00 & NA\\\\\n\t 2013 & 9 & 30 &   NA & 1159 &  NA &   NA & 1344 & NA & MQ & 3572 & N511MQ & LGA & CLE & NA &  419 & 11 & 59 & 2013-09-30 11:00:00 & NA\\\\\n\t 2013 & 9 & 30 &   NA &  840 &  NA &   NA & 1020 & NA & MQ & 3531 & N839MQ & LGA & RDU & NA &  431 &  8 & 40 & 2013-09-30 08:00:00 & NA\\\\\n\\end{tabular}\n",
            "text/plain": [
              "       year month day dep_time sched_dep_time dep_delay arr_time sched_arr_time\n",
              "1      2013  6    13  1907     1512           235       2134     1928          \n",
              "2      2013  2    26  1000      900            60       1513     1540          \n",
              "3      2013  2    23  1226      900           206       1746     1540          \n",
              "4      2013  5    13  1917     1900            17       2149     2251          \n",
              "5      2013  2    27   924      900            24       1448     1540          \n",
              "6      2013  7    14  1917     1829            48       2109     2135          \n",
              "7      2013  7    17  2004     1930            34       2224     2304          \n",
              "8      2013 12    27  1719     1648            31       1956     2038          \n",
              "9      2013  5     2  1947     1949            -2       2209     2324          \n",
              "10     2013 11    13  2024     2015             9       2251     2354          \n",
              "11     2013  5     7  1715     1729           -14       1944     2110          \n",
              "12     2013  5    12  2019     2000            19       2241     2334          \n",
              "13     2013  5     2  1949     1910            39       2208     2240          \n",
              "14     2013  5     6  1826     1830            -4       2045     2200          \n",
              "15     2013  2    26  1335     1335             0       1819     1929          \n",
              "16     2013  3     1  1528      920           368       1738     1240          \n",
              "17     2013  5     2  1926     1929            -3       2157     2310          \n",
              "18     2013  5     4  1816     1820            -4       2017     2131          \n",
              "19     2013  5     7  2054     2055            -1       2317       28          \n",
              "20     2013  7    13  1947     1829            78       2143     2135          \n",
              "21     2013  7    15  1921     1710           131       2106     2005          \n",
              "22     2013  1     3  1957     1945            12       2232     2329          \n",
              "23     2013  2    24   936      900            36       1507     1540          \n",
              "24     2013  2    28   924      900            24       1455     1540          \n",
              "25     2013  5     6  1036      730           186       1302     1105          \n",
              "26     2013  5     6  1753     1755            -2       2004     2115          \n",
              "27     2013  5    12  1744     1729            15       1948     2042          \n",
              "28     2013  5    13  2044     2030            14       2301     2356          \n",
              "29     2013  3     1  1929     1645           164       2141     2005          \n",
              "30     2013  5     4  1914     1915            -1       2107     2216          \n",
              "⋮      ⋮    ⋮     ⋮   ⋮        ⋮              ⋮         ⋮        ⋮             \n",
              "336747 2013 9     25    NA     1655            NA         NA     1840          \n",
              "336748 2013 9     25    NA     1559            NA         NA     1719          \n",
              "336749 2013 9     26  1331     1329             2       1923     1813          \n",
              "336750 2013 9     26    NA      915            NA         NA     1141          \n",
              "336751 2013 9     26    NA     1400            NA         NA     1512          \n",
              "336752 2013 9     26    NA     1240            NA         NA     1525          \n",
              "336753 2013 9     27  1332     1329             3       1629     1509          \n",
              "336754 2013 9     27  2253     1945           188         NA     2146          \n",
              "336755 2013 9     27    NA      600            NA         NA      730          \n",
              "336756 2013 9     27    NA     2100            NA         NA     2211          \n",
              "336757 2013 9     27    NA     1329            NA         NA     1444          \n",
              "336758 2013 9     27    NA     1600            NA         NA     1739          \n",
              "336759 2013 9     28   555      600            -5        953      753          \n",
              "336760 2013 9     28   847      839             8       1130      959          \n",
              "336761 2013 9     28  1010     1020           -10       1344     1222          \n",
              "336762 2013 9     28  1214     1225           -11       1801     1510          \n",
              "336763 2013 9     28    NA     1803            NA         NA     1927          \n",
              "336764 2013 9     28    NA      910            NA         NA     1220          \n",
              "336765 2013 9     28    NA     1635            NA         NA     1827          \n",
              "336766 2013 9     29  1734     1711            23       2159     2020          \n",
              "336767 2013 9     29    NA     2054            NA         NA     2302          \n",
              "336768 2013 9     29    NA     1830            NA         NA     2010          \n",
              "336769 2013 9     29    NA      700            NA         NA      833          \n",
              "336770 2013 9     30   559      600            -1         NA      715          \n",
              "336771 2013 9     30    NA     1842            NA         NA     2019          \n",
              "336772 2013 9     30    NA     1455            NA         NA     1634          \n",
              "336773 2013 9     30    NA     2200            NA         NA     2312          \n",
              "336774 2013 9     30    NA     1210            NA         NA     1330          \n",
              "336775 2013 9     30    NA     1159            NA         NA     1344          \n",
              "336776 2013 9     30    NA      840            NA         NA     1020          \n",
              "       arr_delay carrier flight tailnum origin dest air_time distance hour\n",
              "1      126       EV      4377   N19554  EWR    JAX  126       820     15  \n",
              "2      -27       HA        51   N382HA  JFK    HNL  584      4983      9  \n",
              "3      126       HA        51   N389HA  JFK    HNL  599      4983      9  \n",
              "4      -62       DL      1465   N721TW  JFK    SFO  313      2586     19  \n",
              "5      -52       HA        51   N389HA  JFK    HNL  589      4983      9  \n",
              "6      -26       UA       673   N817UA  EWR    SNA  274      2434     18  \n",
              "7      -40       UA      1532   N33284  EWR    SFO  295      2565     19  \n",
              "8      -42       UA      1284   N75433  EWR    SFO  324      2565     16  \n",
              "9      -75       UA       612   N851UA  EWR    LAX  300      2454     19  \n",
              "10     -63       DL       427   N188DN  JFK    LAX  311      2475     20  \n",
              "11     -86       VX       193   N843VA  EWR    SFO  315      2565     17  \n",
              "12     -53       UA      1262   N78524  EWR    LAX  296      2454     20  \n",
              "13     -32       AA        21   N339AA  JFK    LAX  301      2475     19  \n",
              "14     -75       AA       269   N3KCAA  JFK    SEA  289      2422     18  \n",
              "15     -70       UA        15   N76065  EWR    HNL  566      4963     13  \n",
              "16     298       AA      1589   N437AA  EWR    DFW  174      1372      9  \n",
              "17     -73       UA      1628   N24212  EWR    SFO  314      2565     19  \n",
              "18     -74       AS         7   N551AS  EWR    SEA  281      2402     18  \n",
              "19     -71       UA       622   N806UA  EWR    SFO  309      2565     20  \n",
              "20       8       UA       485   N478UA  EWR    SNA  279      2434     18  \n",
              "21      61       AA       257   N621AA  JFK    LAS  266      2248     17  \n",
              "22     -57       B6       645   N793JB  JFK    SFO  315      2586     19  \n",
              "23     -33       HA        51   N383HA  JFK    HNL  612      4983      9  \n",
              "24     -45       HA        51   N380HA  JFK    HNL  612      4983      9  \n",
              "25     117       VX       183   N842VA  EWR    SFO  312      2565      7  \n",
              "26     -71       DL      1394   N3760C  JFK    PDX  283      2454     17  \n",
              "27     -54       UA       752   N540UA  EWR    LAX  283      2454     17  \n",
              "28     -55       B6       677   N805JB  JFK    LAX  295      2475     20  \n",
              "29      96       AA       181   N327AA  JFK    LAX  289      2475     16  \n",
              "30     -69       UA      1557   N36447  EWR    LAS  276      2227     19  \n",
              "⋮      ⋮         ⋮       ⋮      ⋮       ⋮      ⋮    ⋮        ⋮        ⋮   \n",
              "336747 NA        MQ      3411   N735MQ  LGA    RDU  NA        431     16  \n",
              "336748 NA        MQ      3748   N530MQ  EWR    ORD  NA        719     15  \n",
              "336749 NA        UA        15   N67052  EWR    HNL  NA       4963     13  \n",
              "336750 NA        EV      5109   N748EV  LGA    CHS  NA        641      9  \n",
              "336751 NA        US      2183   NA      LGA    DCA  NA        214     14  \n",
              "336752 NA        WN      4720   N691WN  EWR    HOU  NA       1411     12  \n",
              "336753 NA        AA       331   N565AA  LGA    ORD  NA        733     13  \n",
              "336754 NA        EV      5306   N605QX  LGA    GSO  NA        461     19  \n",
              "336755 NA        AA       301   N584AA  LGA    ORD  NA        733      6  \n",
              "336756 NA        US      2164   NA      LGA    BOS  NA        184     21  \n",
              "336757 NA        MQ      3760   N505MQ  EWR    ORD  NA        719     13  \n",
              "336758 NA        UA       269   NA      LGA    ORD  NA        733     16  \n",
              "336759 NA        EV      5068   N133EV  EWR    DTW  NA        488      6  \n",
              "336760 NA        EV      4510   N14542  EWR    MKE  NA        725      8  \n",
              "336761 NA        EV      4412   N12175  EWR    DSM  NA       1017     10  \n",
              "336762 NA        AA       300   N488AA  EWR    DFW  NA       1372     12  \n",
              "336763 NA        EV      5563   N724EV  LGA    BTV  NA        258     18  \n",
              "336764 NA        AA         1   N320AA  JFK    LAX  NA       2475      9  \n",
              "336765 NA        US       581   NA      EWR    CLT  NA        529     16  \n",
              "336766 NA        UA       327   N463UA  EWR    PDX  NA       2434     17  \n",
              "336767 NA        EV      4536   N13988  EWR    CVG  NA        569     20  \n",
              "336768 NA        MQ      3134   N508MQ  EWR    ORD  NA        719     18  \n",
              "336769 NA        UA       331   NA      LGA    ORD  NA        733      7  \n",
              "336770 NA        WN       464   N411WN  EWR    MDW  NA        711      6  \n",
              "336771 NA        EV      5274   N740EV  LGA    BNA  NA        764     18  \n",
              "336772 NA        9E      3393   NA      JFK    DCA  NA        213     14  \n",
              "336773 NA        9E      3525   NA      LGA    SYR  NA        198     22  \n",
              "336774 NA        MQ      3461   N535MQ  LGA    BNA  NA        764     12  \n",
              "336775 NA        MQ      3572   N511MQ  LGA    CLE  NA        419     11  \n",
              "336776 NA        MQ      3531   N839MQ  LGA    RDU  NA        431      8  \n",
              "       minute time_hour           gain\n",
              "1      12     2013-06-13 15:00:00 109 \n",
              "2       0     2013-02-26 09:00:00  87 \n",
              "3       0     2013-02-23 09:00:00  80 \n",
              "4       0     2013-05-13 19:00:00  79 \n",
              "5       0     2013-02-27 09:00:00  76 \n",
              "6      29     2013-07-14 18:00:00  74 \n",
              "7      30     2013-07-17 19:00:00  74 \n",
              "8      48     2013-12-27 16:00:00  73 \n",
              "9      49     2013-05-02 19:00:00  73 \n",
              "10     15     2013-11-13 20:00:00  72 \n",
              "11     29     2013-05-07 17:00:00  72 \n",
              "12      0     2013-05-12 20:00:00  72 \n",
              "13     10     2013-05-02 19:00:00  71 \n",
              "14     30     2013-05-06 18:00:00  71 \n",
              "15     35     2013-02-26 13:00:00  70 \n",
              "16     20     2013-03-01 09:00:00  70 \n",
              "17     29     2013-05-02 19:00:00  70 \n",
              "18     20     2013-05-04 18:00:00  70 \n",
              "19     55     2013-05-07 20:00:00  70 \n",
              "20     29     2013-07-13 18:00:00  70 \n",
              "21     10     2013-07-15 17:00:00  70 \n",
              "22     45     2013-01-03 19:00:00  69 \n",
              "23      0     2013-02-24 09:00:00  69 \n",
              "24      0     2013-02-28 09:00:00  69 \n",
              "25     30     2013-05-06 07:00:00  69 \n",
              "26     55     2013-05-06 17:00:00  69 \n",
              "27     29     2013-05-12 17:00:00  69 \n",
              "28     30     2013-05-13 20:00:00  69 \n",
              "29     45     2013-03-01 16:00:00  68 \n",
              "30     15     2013-05-04 19:00:00  68 \n",
              "⋮      ⋮      ⋮                   ⋮   \n",
              "336747 55     2013-09-25 16:00:00 NA  \n",
              "336748 59     2013-09-25 15:00:00 NA  \n",
              "336749 29     2013-09-26 13:00:00 NA  \n",
              "336750 15     2013-09-26 09:00:00 NA  \n",
              "336751  0     2013-09-26 14:00:00 NA  \n",
              "336752 40     2013-09-26 12:00:00 NA  \n",
              "336753 29     2013-09-27 13:00:00 NA  \n",
              "336754 45     2013-09-27 19:00:00 NA  \n",
              "336755  0     2013-09-27 06:00:00 NA  \n",
              "336756  0     2013-09-27 21:00:00 NA  \n",
              "336757 29     2013-09-27 13:00:00 NA  \n",
              "336758  0     2013-09-27 16:00:00 NA  \n",
              "336759  0     2013-09-28 06:00:00 NA  \n",
              "336760 39     2013-09-28 08:00:00 NA  \n",
              "336761 20     2013-09-28 10:00:00 NA  \n",
              "336762 25     2013-09-28 12:00:00 NA  \n",
              "336763  3     2013-09-28 18:00:00 NA  \n",
              "336764 10     2013-09-28 09:00:00 NA  \n",
              "336765 35     2013-09-28 16:00:00 NA  \n",
              "336766 11     2013-09-29 17:00:00 NA  \n",
              "336767 54     2013-09-29 20:00:00 NA  \n",
              "336768 30     2013-09-29 18:00:00 NA  \n",
              "336769  0     2013-09-29 07:00:00 NA  \n",
              "336770  0     2013-09-30 06:00:00 NA  \n",
              "336771 42     2013-09-30 18:00:00 NA  \n",
              "336772 55     2013-09-30 14:00:00 NA  \n",
              "336773  0     2013-09-30 22:00:00 NA  \n",
              "336774 10     2013-09-30 12:00:00 NA  \n",
              "336775 59     2013-09-30 11:00:00 NA  \n",
              "336776 40     2013-09-30 08:00:00 NA  "
            ]
          },
          "metadata": {}
        }
      ]
    },
    {
      "cell_type": "code",
      "source": [
        "new_df<-mutate(flights,gain=dep_delay-arr_delay)"
      ],
      "metadata": {
        "id": "JDYXKLhzx_5p"
      },
      "execution_count": 42,
      "outputs": []
    },
    {
      "cell_type": "markdown",
      "metadata": {
        "id": "sammA_0EpL0P"
      },
      "source": [
        "## Filtering extreme values\n",
        "In the previous question we needed to find rows that had a large value of a certain column (`gain`). This occurs frequently, so the designers of tidyverse wrote a special function:\n",
        "\n",
        "    top_n(<DATA FRAME>, n, <COLUMN>, ...)\n",
        "    "
      ]
    },
    {
      "cell_type": "code",
      "execution_count": 44,
      "metadata": {
        "id": "BW5rjBRfpL0P",
        "colab": {
          "base_uri": "https://localhost:8080/",
          "height": 167
        },
        "outputId": "2d7b29fd-8478-4b06-e870-478881fec354"
      },
      "outputs": [
        {
          "output_type": "display_data",
          "data": {
            "text/html": [
              "<table class=\"dataframe\">\n",
              "<caption>A tibble: 1 × 20</caption>\n",
              "<thead>\n",
              "\t<tr><th scope=col>year</th><th scope=col>month</th><th scope=col>day</th><th scope=col>dep_time</th><th scope=col>sched_dep_time</th><th scope=col>dep_delay</th><th scope=col>arr_time</th><th scope=col>sched_arr_time</th><th scope=col>arr_delay</th><th scope=col>carrier</th><th scope=col>flight</th><th scope=col>tailnum</th><th scope=col>origin</th><th scope=col>dest</th><th scope=col>air_time</th><th scope=col>distance</th><th scope=col>hour</th><th scope=col>minute</th><th scope=col>time_hour</th><th scope=col>gain</th></tr>\n",
              "\t<tr><th scope=col>&lt;int&gt;</th><th scope=col>&lt;int&gt;</th><th scope=col>&lt;int&gt;</th><th scope=col>&lt;int&gt;</th><th scope=col>&lt;int&gt;</th><th scope=col>&lt;dbl&gt;</th><th scope=col>&lt;int&gt;</th><th scope=col>&lt;int&gt;</th><th scope=col>&lt;dbl&gt;</th><th scope=col>&lt;chr&gt;</th><th scope=col>&lt;int&gt;</th><th scope=col>&lt;chr&gt;</th><th scope=col>&lt;chr&gt;</th><th scope=col>&lt;chr&gt;</th><th scope=col>&lt;dbl&gt;</th><th scope=col>&lt;dbl&gt;</th><th scope=col>&lt;dbl&gt;</th><th scope=col>&lt;dbl&gt;</th><th scope=col>&lt;dttm&gt;</th><th scope=col>&lt;dbl&gt;</th></tr>\n",
              "</thead>\n",
              "<tbody>\n",
              "\t<tr><td>2013</td><td>6</td><td>13</td><td>1907</td><td>1512</td><td>235</td><td>2134</td><td>1928</td><td>126</td><td>EV</td><td>4377</td><td>N19554</td><td>EWR</td><td>JAX</td><td>126</td><td>820</td><td>15</td><td>12</td><td>2013-06-13 15:00:00</td><td>109</td></tr>\n",
              "</tbody>\n",
              "</table>\n"
            ],
            "text/markdown": "\nA tibble: 1 × 20\n\n| year &lt;int&gt; | month &lt;int&gt; | day &lt;int&gt; | dep_time &lt;int&gt; | sched_dep_time &lt;int&gt; | dep_delay &lt;dbl&gt; | arr_time &lt;int&gt; | sched_arr_time &lt;int&gt; | arr_delay &lt;dbl&gt; | carrier &lt;chr&gt; | flight &lt;int&gt; | tailnum &lt;chr&gt; | origin &lt;chr&gt; | dest &lt;chr&gt; | air_time &lt;dbl&gt; | distance &lt;dbl&gt; | hour &lt;dbl&gt; | minute &lt;dbl&gt; | time_hour &lt;dttm&gt; | gain &lt;dbl&gt; |\n|---|---|---|---|---|---|---|---|---|---|---|---|---|---|---|---|---|---|---|---|\n| 2013 | 6 | 13 | 1907 | 1512 | 235 | 2134 | 1928 | 126 | EV | 4377 | N19554 | EWR | JAX | 126 | 820 | 15 | 12 | 2013-06-13 15:00:00 | 109 |\n\n",
            "text/latex": "A tibble: 1 × 20\n\\begin{tabular}{llllllllllllllllllll}\n year & month & day & dep\\_time & sched\\_dep\\_time & dep\\_delay & arr\\_time & sched\\_arr\\_time & arr\\_delay & carrier & flight & tailnum & origin & dest & air\\_time & distance & hour & minute & time\\_hour & gain\\\\\n <int> & <int> & <int> & <int> & <int> & <dbl> & <int> & <int> & <dbl> & <chr> & <int> & <chr> & <chr> & <chr> & <dbl> & <dbl> & <dbl> & <dbl> & <dttm> & <dbl>\\\\\n\\hline\n\t 2013 & 6 & 13 & 1907 & 1512 & 235 & 2134 & 1928 & 126 & EV & 4377 & N19554 & EWR & JAX & 126 & 820 & 15 & 12 & 2013-06-13 15:00:00 & 109\\\\\n\\end{tabular}\n",
            "text/plain": [
              "  year month day dep_time sched_dep_time dep_delay arr_time sched_arr_time\n",
              "1 2013 6     13  1907     1512           235       2134     1928          \n",
              "  arr_delay carrier flight tailnum origin dest air_time distance hour minute\n",
              "1 126       EV      4377   N19554  EWR    JAX  126      820      15   12    \n",
              "  time_hour           gain\n",
              "1 2013-06-13 15:00:00 109 "
            ]
          },
          "metadata": {}
        }
      ],
      "source": [
        "# use top_n to find the flights with the highest gain\n",
        "top_n(new_df,1,gain) # NOTE: 1 is the top 1 gain... you can change it to top 10 instead if you wanted to"
      ]
    },
    {
      "cell_type": "markdown",
      "metadata": {
        "id": "tTuMc73VpL0Q"
      },
      "source": [
        "## Grouping data\n",
        "Very frequently our data have natural groupings. For example, in flights, we might be interested in studying differences in flights depending on the month of departure. We use the `group_by()` function to tell R how to group data."
      ]
    },
    {
      "cell_type": "markdown",
      "metadata": {
        "id": "YaY5_4eLpL0Q"
      },
      "source": [
        "For example, `mtcars` is a dataset of cars and the gas mileage they get:"
      ]
    },
    {
      "cell_type": "code",
      "execution_count": 60,
      "metadata": {
        "id": "-dfD64gtpL0Q",
        "outputId": "879fafe4-76d6-41ca-94f7-76145f37a706",
        "colab": {
          "base_uri": "https://localhost:8080/",
          "height": 286
        }
      },
      "outputs": [
        {
          "output_type": "display_data",
          "data": {
            "text/html": [
              "<table class=\"dataframe\">\n",
              "<caption>A data.frame: 6 × 11</caption>\n",
              "<thead>\n",
              "\t<tr><th></th><th scope=col>mpg</th><th scope=col>cyl</th><th scope=col>disp</th><th scope=col>hp</th><th scope=col>drat</th><th scope=col>wt</th><th scope=col>qsec</th><th scope=col>vs</th><th scope=col>am</th><th scope=col>gear</th><th scope=col>carb</th></tr>\n",
              "\t<tr><th></th><th scope=col>&lt;dbl&gt;</th><th scope=col>&lt;dbl&gt;</th><th scope=col>&lt;dbl&gt;</th><th scope=col>&lt;dbl&gt;</th><th scope=col>&lt;dbl&gt;</th><th scope=col>&lt;dbl&gt;</th><th scope=col>&lt;dbl&gt;</th><th scope=col>&lt;dbl&gt;</th><th scope=col>&lt;dbl&gt;</th><th scope=col>&lt;dbl&gt;</th><th scope=col>&lt;dbl&gt;</th></tr>\n",
              "</thead>\n",
              "<tbody>\n",
              "\t<tr><th scope=row>Mazda RX4</th><td>21.0</td><td>6</td><td>160</td><td>110</td><td>3.90</td><td>2.620</td><td>16.46</td><td>0</td><td>1</td><td>4</td><td>4</td></tr>\n",
              "\t<tr><th scope=row>Mazda RX4 Wag</th><td>21.0</td><td>6</td><td>160</td><td>110</td><td>3.90</td><td>2.875</td><td>17.02</td><td>0</td><td>1</td><td>4</td><td>4</td></tr>\n",
              "\t<tr><th scope=row>Datsun 710</th><td>22.8</td><td>4</td><td>108</td><td> 93</td><td>3.85</td><td>2.320</td><td>18.61</td><td>1</td><td>1</td><td>4</td><td>1</td></tr>\n",
              "\t<tr><th scope=row>Hornet 4 Drive</th><td>21.4</td><td>6</td><td>258</td><td>110</td><td>3.08</td><td>3.215</td><td>19.44</td><td>1</td><td>0</td><td>3</td><td>1</td></tr>\n",
              "\t<tr><th scope=row>Hornet Sportabout</th><td>18.7</td><td>8</td><td>360</td><td>175</td><td>3.15</td><td>3.440</td><td>17.02</td><td>0</td><td>0</td><td>3</td><td>2</td></tr>\n",
              "\t<tr><th scope=row>Valiant</th><td>18.1</td><td>6</td><td>225</td><td>105</td><td>2.76</td><td>3.460</td><td>20.22</td><td>1</td><td>0</td><td>3</td><td>1</td></tr>\n",
              "</tbody>\n",
              "</table>\n"
            ],
            "text/markdown": "\nA data.frame: 6 × 11\n\n| <!--/--> | mpg &lt;dbl&gt; | cyl &lt;dbl&gt; | disp &lt;dbl&gt; | hp &lt;dbl&gt; | drat &lt;dbl&gt; | wt &lt;dbl&gt; | qsec &lt;dbl&gt; | vs &lt;dbl&gt; | am &lt;dbl&gt; | gear &lt;dbl&gt; | carb &lt;dbl&gt; |\n|---|---|---|---|---|---|---|---|---|---|---|---|\n| Mazda RX4 | 21.0 | 6 | 160 | 110 | 3.90 | 2.620 | 16.46 | 0 | 1 | 4 | 4 |\n| Mazda RX4 Wag | 21.0 | 6 | 160 | 110 | 3.90 | 2.875 | 17.02 | 0 | 1 | 4 | 4 |\n| Datsun 710 | 22.8 | 4 | 108 |  93 | 3.85 | 2.320 | 18.61 | 1 | 1 | 4 | 1 |\n| Hornet 4 Drive | 21.4 | 6 | 258 | 110 | 3.08 | 3.215 | 19.44 | 1 | 0 | 3 | 1 |\n| Hornet Sportabout | 18.7 | 8 | 360 | 175 | 3.15 | 3.440 | 17.02 | 0 | 0 | 3 | 2 |\n| Valiant | 18.1 | 6 | 225 | 105 | 2.76 | 3.460 | 20.22 | 1 | 0 | 3 | 1 |\n\n",
            "text/latex": "A data.frame: 6 × 11\n\\begin{tabular}{r|lllllllllll}\n  & mpg & cyl & disp & hp & drat & wt & qsec & vs & am & gear & carb\\\\\n  & <dbl> & <dbl> & <dbl> & <dbl> & <dbl> & <dbl> & <dbl> & <dbl> & <dbl> & <dbl> & <dbl>\\\\\n\\hline\n\tMazda RX4 & 21.0 & 6 & 160 & 110 & 3.90 & 2.620 & 16.46 & 0 & 1 & 4 & 4\\\\\n\tMazda RX4 Wag & 21.0 & 6 & 160 & 110 & 3.90 & 2.875 & 17.02 & 0 & 1 & 4 & 4\\\\\n\tDatsun 710 & 22.8 & 4 & 108 &  93 & 3.85 & 2.320 & 18.61 & 1 & 1 & 4 & 1\\\\\n\tHornet 4 Drive & 21.4 & 6 & 258 & 110 & 3.08 & 3.215 & 19.44 & 1 & 0 & 3 & 1\\\\\n\tHornet Sportabout & 18.7 & 8 & 360 & 175 & 3.15 & 3.440 & 17.02 & 0 & 0 & 3 & 2\\\\\n\tValiant & 18.1 & 6 & 225 & 105 & 2.76 & 3.460 & 20.22 & 1 & 0 & 3 & 1\\\\\n\\end{tabular}\n",
            "text/plain": [
              "                  mpg  cyl disp hp  drat wt    qsec  vs am gear carb\n",
              "Mazda RX4         21.0 6   160  110 3.90 2.620 16.46 0  1  4    4   \n",
              "Mazda RX4 Wag     21.0 6   160  110 3.90 2.875 17.02 0  1  4    4   \n",
              "Datsun 710        22.8 4   108   93 3.85 2.320 18.61 1  1  4    1   \n",
              "Hornet 4 Drive    21.4 6   258  110 3.08 3.215 19.44 1  0  3    1   \n",
              "Hornet Sportabout 18.7 8   360  175 3.15 3.440 17.02 0  0  3    2   \n",
              "Valiant           18.1 6   225  105 2.76 3.460 20.22 1  0  3    1   "
            ]
          },
          "metadata": {}
        }
      ],
      "source": [
        "head(mtcars)"
      ]
    },
    {
      "cell_type": "code",
      "source": [
        "head(mtcars)%>%print # NOTE: if you don't specify no of records, first 6 records "
      ],
      "metadata": {
        "colab": {
          "base_uri": "https://localhost:8080/"
        },
        "id": "yrwK3eRVyau4",
        "outputId": "bae56e7d-e45f-4b95-a263-bca9b3bbcec7"
      },
      "execution_count": 61,
      "outputs": [
        {
          "output_type": "stream",
          "name": "stdout",
          "text": [
            "                   mpg cyl disp  hp drat    wt  qsec vs am gear carb\n",
            "Mazda RX4         21.0   6  160 110 3.90 2.620 16.46  0  1    4    4\n",
            "Mazda RX4 Wag     21.0   6  160 110 3.90 2.875 17.02  0  1    4    4\n",
            "Datsun 710        22.8   4  108  93 3.85 2.320 18.61  1  1    4    1\n",
            "Hornet 4 Drive    21.4   6  258 110 3.08 3.215 19.44  1  0    3    1\n",
            "Hornet Sportabout 18.7   8  360 175 3.15 3.440 17.02  0  0    3    2\n",
            "Valiant           18.1   6  225 105 2.76 3.460 20.22  1  0    3    1\n"
          ]
        }
      ]
    },
    {
      "cell_type": "code",
      "source": [
        "head(mtcars,5)%>%print # NOTE: first 5"
      ],
      "metadata": {
        "colab": {
          "base_uri": "https://localhost:8080/"
        },
        "id": "rNRklvYQylki",
        "outputId": "d427253a-1853-48c1-d411-6a05e20fbe36"
      },
      "execution_count": 62,
      "outputs": [
        {
          "output_type": "stream",
          "name": "stdout",
          "text": [
            "                   mpg cyl disp  hp drat    wt  qsec vs am gear carb\n",
            "Mazda RX4         21.0   6  160 110 3.90 2.620 16.46  0  1    4    4\n",
            "Mazda RX4 Wag     21.0   6  160 110 3.90 2.875 17.02  0  1    4    4\n",
            "Datsun 710        22.8   4  108  93 3.85 2.320 18.61  1  1    4    1\n",
            "Hornet 4 Drive    21.4   6  258 110 3.08 3.215 19.44  1  0    3    1\n",
            "Hornet Sportabout 18.7   8  360 175 3.15 3.440 17.02  0  0    3    2\n"
          ]
        }
      ]
    },
    {
      "cell_type": "code",
      "source": [
        "?mtcars # NOTE: helps you understand what dataset is about"
      ],
      "metadata": {
        "id": "p8icf5iHypzK"
      },
      "execution_count": 63,
      "outputs": []
    },
    {
      "cell_type": "markdown",
      "metadata": {
        "id": "tU8uswT8pL0R"
      },
      "source": [
        "Let's try grouping `mtcars` by `cyl` (the number of engine cylinders):"
      ]
    },
    {
      "cell_type": "code",
      "execution_count": 64,
      "metadata": {
        "id": "8KWfvmBypL0R",
        "outputId": "85605bc5-1459-427f-93a8-dc1c0bbcc15a",
        "colab": {
          "base_uri": "https://localhost:8080/"
        }
      },
      "outputs": [
        {
          "output_type": "stream",
          "name": "stdout",
          "text": [
            "\u001b[90m# A tibble: 32 × 11\u001b[39m\n",
            "\u001b[90m# Groups:   cyl [3]\u001b[39m\n",
            "     mpg   cyl  disp    hp  drat    wt  qsec    vs    am  gear  carb\n",
            "   \u001b[3m\u001b[90m<dbl>\u001b[39m\u001b[23m \u001b[3m\u001b[90m<dbl>\u001b[39m\u001b[23m \u001b[3m\u001b[90m<dbl>\u001b[39m\u001b[23m \u001b[3m\u001b[90m<dbl>\u001b[39m\u001b[23m \u001b[3m\u001b[90m<dbl>\u001b[39m\u001b[23m \u001b[3m\u001b[90m<dbl>\u001b[39m\u001b[23m \u001b[3m\u001b[90m<dbl>\u001b[39m\u001b[23m \u001b[3m\u001b[90m<dbl>\u001b[39m\u001b[23m \u001b[3m\u001b[90m<dbl>\u001b[39m\u001b[23m \u001b[3m\u001b[90m<dbl>\u001b[39m\u001b[23m \u001b[3m\u001b[90m<dbl>\u001b[39m\u001b[23m\n",
            "\u001b[90m 1\u001b[39m  21       6  160    110  3.9   2.62  16.5     0     1     4     4\n",
            "\u001b[90m 2\u001b[39m  21       6  160    110  3.9   2.88  17.0     0     1     4     4\n",
            "\u001b[90m 3\u001b[39m  22.8     4  108     93  3.85  2.32  18.6     1     1     4     1\n",
            "\u001b[90m 4\u001b[39m  21.4     6  258    110  3.08  3.22  19.4     1     0     3     1\n",
            "\u001b[90m 5\u001b[39m  18.7     8  360    175  3.15  3.44  17.0     0     0     3     2\n",
            "\u001b[90m 6\u001b[39m  18.1     6  225    105  2.76  3.46  20.2     1     0     3     1\n",
            "\u001b[90m 7\u001b[39m  14.3     8  360    245  3.21  3.57  15.8     0     0     3     4\n",
            "\u001b[90m 8\u001b[39m  24.4     4  147.    62  3.69  3.19  20       1     0     4     2\n",
            "\u001b[90m 9\u001b[39m  22.8     4  141.    95  3.92  3.15  22.9     1     0     4     2\n",
            "\u001b[90m10\u001b[39m  19.2     6  168.   123  3.92  3.44  18.3     1     0     4     4\n",
            "\u001b[90m# … with 22 more rows\u001b[39m\n"
          ]
        }
      ],
      "source": [
        "print(group_by(mtcars, cyl)) # NOTE: nothing really happened, even when we did group_by"
      ]
    },
    {
      "cell_type": "code",
      "source": [
        "gp<-group_by(mtcars, cyl)"
      ],
      "metadata": {
        "id": "V3gnkkzSzUCi"
      },
      "execution_count": 65,
      "outputs": []
    },
    {
      "cell_type": "markdown",
      "metadata": {
        "id": "wSdSJInTpL0R"
      },
      "source": [
        "This has not changed the data in any way. But now watch what happens when we use `mutate()` on the grouped data frame:"
      ]
    },
    {
      "cell_type": "code",
      "execution_count": 66,
      "metadata": {
        "id": "rcKco9TapL0R",
        "colab": {
          "base_uri": "https://localhost:8080/",
          "height": 1000
        },
        "outputId": "9a2c4af7-9d25-4cd0-a7e6-741db16cf066"
      },
      "outputs": [
        {
          "output_type": "display_data",
          "data": {
            "text/html": [
              "<table class=\"dataframe\">\n",
              "<caption>A grouped_df: 32 × 12</caption>\n",
              "<thead>\n",
              "\t<tr><th scope=col>mpg</th><th scope=col>cyl</th><th scope=col>disp</th><th scope=col>hp</th><th scope=col>drat</th><th scope=col>wt</th><th scope=col>qsec</th><th scope=col>vs</th><th scope=col>am</th><th scope=col>gear</th><th scope=col>carb</th><th scope=col>mean(mpg)</th></tr>\n",
              "\t<tr><th scope=col>&lt;dbl&gt;</th><th scope=col>&lt;dbl&gt;</th><th scope=col>&lt;dbl&gt;</th><th scope=col>&lt;dbl&gt;</th><th scope=col>&lt;dbl&gt;</th><th scope=col>&lt;dbl&gt;</th><th scope=col>&lt;dbl&gt;</th><th scope=col>&lt;dbl&gt;</th><th scope=col>&lt;dbl&gt;</th><th scope=col>&lt;dbl&gt;</th><th scope=col>&lt;dbl&gt;</th><th scope=col>&lt;dbl&gt;</th></tr>\n",
              "</thead>\n",
              "<tbody>\n",
              "\t<tr><td>21.0</td><td>6</td><td>160.0</td><td>110</td><td>3.90</td><td>2.620</td><td>16.46</td><td>0</td><td>1</td><td>4</td><td>4</td><td>19.74286</td></tr>\n",
              "\t<tr><td>21.0</td><td>6</td><td>160.0</td><td>110</td><td>3.90</td><td>2.875</td><td>17.02</td><td>0</td><td>1</td><td>4</td><td>4</td><td>19.74286</td></tr>\n",
              "\t<tr><td>22.8</td><td>4</td><td>108.0</td><td> 93</td><td>3.85</td><td>2.320</td><td>18.61</td><td>1</td><td>1</td><td>4</td><td>1</td><td>26.66364</td></tr>\n",
              "\t<tr><td>21.4</td><td>6</td><td>258.0</td><td>110</td><td>3.08</td><td>3.215</td><td>19.44</td><td>1</td><td>0</td><td>3</td><td>1</td><td>19.74286</td></tr>\n",
              "\t<tr><td>18.7</td><td>8</td><td>360.0</td><td>175</td><td>3.15</td><td>3.440</td><td>17.02</td><td>0</td><td>0</td><td>3</td><td>2</td><td>15.10000</td></tr>\n",
              "\t<tr><td>18.1</td><td>6</td><td>225.0</td><td>105</td><td>2.76</td><td>3.460</td><td>20.22</td><td>1</td><td>0</td><td>3</td><td>1</td><td>19.74286</td></tr>\n",
              "\t<tr><td>14.3</td><td>8</td><td>360.0</td><td>245</td><td>3.21</td><td>3.570</td><td>15.84</td><td>0</td><td>0</td><td>3</td><td>4</td><td>15.10000</td></tr>\n",
              "\t<tr><td>24.4</td><td>4</td><td>146.7</td><td> 62</td><td>3.69</td><td>3.190</td><td>20.00</td><td>1</td><td>0</td><td>4</td><td>2</td><td>26.66364</td></tr>\n",
              "\t<tr><td>22.8</td><td>4</td><td>140.8</td><td> 95</td><td>3.92</td><td>3.150</td><td>22.90</td><td>1</td><td>0</td><td>4</td><td>2</td><td>26.66364</td></tr>\n",
              "\t<tr><td>19.2</td><td>6</td><td>167.6</td><td>123</td><td>3.92</td><td>3.440</td><td>18.30</td><td>1</td><td>0</td><td>4</td><td>4</td><td>19.74286</td></tr>\n",
              "\t<tr><td>17.8</td><td>6</td><td>167.6</td><td>123</td><td>3.92</td><td>3.440</td><td>18.90</td><td>1</td><td>0</td><td>4</td><td>4</td><td>19.74286</td></tr>\n",
              "\t<tr><td>16.4</td><td>8</td><td>275.8</td><td>180</td><td>3.07</td><td>4.070</td><td>17.40</td><td>0</td><td>0</td><td>3</td><td>3</td><td>15.10000</td></tr>\n",
              "\t<tr><td>17.3</td><td>8</td><td>275.8</td><td>180</td><td>3.07</td><td>3.730</td><td>17.60</td><td>0</td><td>0</td><td>3</td><td>3</td><td>15.10000</td></tr>\n",
              "\t<tr><td>15.2</td><td>8</td><td>275.8</td><td>180</td><td>3.07</td><td>3.780</td><td>18.00</td><td>0</td><td>0</td><td>3</td><td>3</td><td>15.10000</td></tr>\n",
              "\t<tr><td>10.4</td><td>8</td><td>472.0</td><td>205</td><td>2.93</td><td>5.250</td><td>17.98</td><td>0</td><td>0</td><td>3</td><td>4</td><td>15.10000</td></tr>\n",
              "\t<tr><td>10.4</td><td>8</td><td>460.0</td><td>215</td><td>3.00</td><td>5.424</td><td>17.82</td><td>0</td><td>0</td><td>3</td><td>4</td><td>15.10000</td></tr>\n",
              "\t<tr><td>14.7</td><td>8</td><td>440.0</td><td>230</td><td>3.23</td><td>5.345</td><td>17.42</td><td>0</td><td>0</td><td>3</td><td>4</td><td>15.10000</td></tr>\n",
              "\t<tr><td>32.4</td><td>4</td><td> 78.7</td><td> 66</td><td>4.08</td><td>2.200</td><td>19.47</td><td>1</td><td>1</td><td>4</td><td>1</td><td>26.66364</td></tr>\n",
              "\t<tr><td>30.4</td><td>4</td><td> 75.7</td><td> 52</td><td>4.93</td><td>1.615</td><td>18.52</td><td>1</td><td>1</td><td>4</td><td>2</td><td>26.66364</td></tr>\n",
              "\t<tr><td>33.9</td><td>4</td><td> 71.1</td><td> 65</td><td>4.22</td><td>1.835</td><td>19.90</td><td>1</td><td>1</td><td>4</td><td>1</td><td>26.66364</td></tr>\n",
              "\t<tr><td>21.5</td><td>4</td><td>120.1</td><td> 97</td><td>3.70</td><td>2.465</td><td>20.01</td><td>1</td><td>0</td><td>3</td><td>1</td><td>26.66364</td></tr>\n",
              "\t<tr><td>15.5</td><td>8</td><td>318.0</td><td>150</td><td>2.76</td><td>3.520</td><td>16.87</td><td>0</td><td>0</td><td>3</td><td>2</td><td>15.10000</td></tr>\n",
              "\t<tr><td>15.2</td><td>8</td><td>304.0</td><td>150</td><td>3.15</td><td>3.435</td><td>17.30</td><td>0</td><td>0</td><td>3</td><td>2</td><td>15.10000</td></tr>\n",
              "\t<tr><td>13.3</td><td>8</td><td>350.0</td><td>245</td><td>3.73</td><td>3.840</td><td>15.41</td><td>0</td><td>0</td><td>3</td><td>4</td><td>15.10000</td></tr>\n",
              "\t<tr><td>19.2</td><td>8</td><td>400.0</td><td>175</td><td>3.08</td><td>3.845</td><td>17.05</td><td>0</td><td>0</td><td>3</td><td>2</td><td>15.10000</td></tr>\n",
              "\t<tr><td>27.3</td><td>4</td><td> 79.0</td><td> 66</td><td>4.08</td><td>1.935</td><td>18.90</td><td>1</td><td>1</td><td>4</td><td>1</td><td>26.66364</td></tr>\n",
              "\t<tr><td>26.0</td><td>4</td><td>120.3</td><td> 91</td><td>4.43</td><td>2.140</td><td>16.70</td><td>0</td><td>1</td><td>5</td><td>2</td><td>26.66364</td></tr>\n",
              "\t<tr><td>30.4</td><td>4</td><td> 95.1</td><td>113</td><td>3.77</td><td>1.513</td><td>16.90</td><td>1</td><td>1</td><td>5</td><td>2</td><td>26.66364</td></tr>\n",
              "\t<tr><td>15.8</td><td>8</td><td>351.0</td><td>264</td><td>4.22</td><td>3.170</td><td>14.50</td><td>0</td><td>1</td><td>5</td><td>4</td><td>15.10000</td></tr>\n",
              "\t<tr><td>19.7</td><td>6</td><td>145.0</td><td>175</td><td>3.62</td><td>2.770</td><td>15.50</td><td>0</td><td>1</td><td>5</td><td>6</td><td>19.74286</td></tr>\n",
              "\t<tr><td>15.0</td><td>8</td><td>301.0</td><td>335</td><td>3.54</td><td>3.570</td><td>14.60</td><td>0</td><td>1</td><td>5</td><td>8</td><td>15.10000</td></tr>\n",
              "\t<tr><td>21.4</td><td>4</td><td>121.0</td><td>109</td><td>4.11</td><td>2.780</td><td>18.60</td><td>1</td><td>1</td><td>4</td><td>2</td><td>26.66364</td></tr>\n",
              "</tbody>\n",
              "</table>\n"
            ],
            "text/markdown": "\nA grouped_df: 32 × 12\n\n| mpg &lt;dbl&gt; | cyl &lt;dbl&gt; | disp &lt;dbl&gt; | hp &lt;dbl&gt; | drat &lt;dbl&gt; | wt &lt;dbl&gt; | qsec &lt;dbl&gt; | vs &lt;dbl&gt; | am &lt;dbl&gt; | gear &lt;dbl&gt; | carb &lt;dbl&gt; | mean(mpg) &lt;dbl&gt; |\n|---|---|---|---|---|---|---|---|---|---|---|---|\n| 21.0 | 6 | 160.0 | 110 | 3.90 | 2.620 | 16.46 | 0 | 1 | 4 | 4 | 19.74286 |\n| 21.0 | 6 | 160.0 | 110 | 3.90 | 2.875 | 17.02 | 0 | 1 | 4 | 4 | 19.74286 |\n| 22.8 | 4 | 108.0 |  93 | 3.85 | 2.320 | 18.61 | 1 | 1 | 4 | 1 | 26.66364 |\n| 21.4 | 6 | 258.0 | 110 | 3.08 | 3.215 | 19.44 | 1 | 0 | 3 | 1 | 19.74286 |\n| 18.7 | 8 | 360.0 | 175 | 3.15 | 3.440 | 17.02 | 0 | 0 | 3 | 2 | 15.10000 |\n| 18.1 | 6 | 225.0 | 105 | 2.76 | 3.460 | 20.22 | 1 | 0 | 3 | 1 | 19.74286 |\n| 14.3 | 8 | 360.0 | 245 | 3.21 | 3.570 | 15.84 | 0 | 0 | 3 | 4 | 15.10000 |\n| 24.4 | 4 | 146.7 |  62 | 3.69 | 3.190 | 20.00 | 1 | 0 | 4 | 2 | 26.66364 |\n| 22.8 | 4 | 140.8 |  95 | 3.92 | 3.150 | 22.90 | 1 | 0 | 4 | 2 | 26.66364 |\n| 19.2 | 6 | 167.6 | 123 | 3.92 | 3.440 | 18.30 | 1 | 0 | 4 | 4 | 19.74286 |\n| 17.8 | 6 | 167.6 | 123 | 3.92 | 3.440 | 18.90 | 1 | 0 | 4 | 4 | 19.74286 |\n| 16.4 | 8 | 275.8 | 180 | 3.07 | 4.070 | 17.40 | 0 | 0 | 3 | 3 | 15.10000 |\n| 17.3 | 8 | 275.8 | 180 | 3.07 | 3.730 | 17.60 | 0 | 0 | 3 | 3 | 15.10000 |\n| 15.2 | 8 | 275.8 | 180 | 3.07 | 3.780 | 18.00 | 0 | 0 | 3 | 3 | 15.10000 |\n| 10.4 | 8 | 472.0 | 205 | 2.93 | 5.250 | 17.98 | 0 | 0 | 3 | 4 | 15.10000 |\n| 10.4 | 8 | 460.0 | 215 | 3.00 | 5.424 | 17.82 | 0 | 0 | 3 | 4 | 15.10000 |\n| 14.7 | 8 | 440.0 | 230 | 3.23 | 5.345 | 17.42 | 0 | 0 | 3 | 4 | 15.10000 |\n| 32.4 | 4 |  78.7 |  66 | 4.08 | 2.200 | 19.47 | 1 | 1 | 4 | 1 | 26.66364 |\n| 30.4 | 4 |  75.7 |  52 | 4.93 | 1.615 | 18.52 | 1 | 1 | 4 | 2 | 26.66364 |\n| 33.9 | 4 |  71.1 |  65 | 4.22 | 1.835 | 19.90 | 1 | 1 | 4 | 1 | 26.66364 |\n| 21.5 | 4 | 120.1 |  97 | 3.70 | 2.465 | 20.01 | 1 | 0 | 3 | 1 | 26.66364 |\n| 15.5 | 8 | 318.0 | 150 | 2.76 | 3.520 | 16.87 | 0 | 0 | 3 | 2 | 15.10000 |\n| 15.2 | 8 | 304.0 | 150 | 3.15 | 3.435 | 17.30 | 0 | 0 | 3 | 2 | 15.10000 |\n| 13.3 | 8 | 350.0 | 245 | 3.73 | 3.840 | 15.41 | 0 | 0 | 3 | 4 | 15.10000 |\n| 19.2 | 8 | 400.0 | 175 | 3.08 | 3.845 | 17.05 | 0 | 0 | 3 | 2 | 15.10000 |\n| 27.3 | 4 |  79.0 |  66 | 4.08 | 1.935 | 18.90 | 1 | 1 | 4 | 1 | 26.66364 |\n| 26.0 | 4 | 120.3 |  91 | 4.43 | 2.140 | 16.70 | 0 | 1 | 5 | 2 | 26.66364 |\n| 30.4 | 4 |  95.1 | 113 | 3.77 | 1.513 | 16.90 | 1 | 1 | 5 | 2 | 26.66364 |\n| 15.8 | 8 | 351.0 | 264 | 4.22 | 3.170 | 14.50 | 0 | 1 | 5 | 4 | 15.10000 |\n| 19.7 | 6 | 145.0 | 175 | 3.62 | 2.770 | 15.50 | 0 | 1 | 5 | 6 | 19.74286 |\n| 15.0 | 8 | 301.0 | 335 | 3.54 | 3.570 | 14.60 | 0 | 1 | 5 | 8 | 15.10000 |\n| 21.4 | 4 | 121.0 | 109 | 4.11 | 2.780 | 18.60 | 1 | 1 | 4 | 2 | 26.66364 |\n\n",
            "text/latex": "A grouped\\_df: 32 × 12\n\\begin{tabular}{llllllllllll}\n mpg & cyl & disp & hp & drat & wt & qsec & vs & am & gear & carb & mean(mpg)\\\\\n <dbl> & <dbl> & <dbl> & <dbl> & <dbl> & <dbl> & <dbl> & <dbl> & <dbl> & <dbl> & <dbl> & <dbl>\\\\\n\\hline\n\t 21.0 & 6 & 160.0 & 110 & 3.90 & 2.620 & 16.46 & 0 & 1 & 4 & 4 & 19.74286\\\\\n\t 21.0 & 6 & 160.0 & 110 & 3.90 & 2.875 & 17.02 & 0 & 1 & 4 & 4 & 19.74286\\\\\n\t 22.8 & 4 & 108.0 &  93 & 3.85 & 2.320 & 18.61 & 1 & 1 & 4 & 1 & 26.66364\\\\\n\t 21.4 & 6 & 258.0 & 110 & 3.08 & 3.215 & 19.44 & 1 & 0 & 3 & 1 & 19.74286\\\\\n\t 18.7 & 8 & 360.0 & 175 & 3.15 & 3.440 & 17.02 & 0 & 0 & 3 & 2 & 15.10000\\\\\n\t 18.1 & 6 & 225.0 & 105 & 2.76 & 3.460 & 20.22 & 1 & 0 & 3 & 1 & 19.74286\\\\\n\t 14.3 & 8 & 360.0 & 245 & 3.21 & 3.570 & 15.84 & 0 & 0 & 3 & 4 & 15.10000\\\\\n\t 24.4 & 4 & 146.7 &  62 & 3.69 & 3.190 & 20.00 & 1 & 0 & 4 & 2 & 26.66364\\\\\n\t 22.8 & 4 & 140.8 &  95 & 3.92 & 3.150 & 22.90 & 1 & 0 & 4 & 2 & 26.66364\\\\\n\t 19.2 & 6 & 167.6 & 123 & 3.92 & 3.440 & 18.30 & 1 & 0 & 4 & 4 & 19.74286\\\\\n\t 17.8 & 6 & 167.6 & 123 & 3.92 & 3.440 & 18.90 & 1 & 0 & 4 & 4 & 19.74286\\\\\n\t 16.4 & 8 & 275.8 & 180 & 3.07 & 4.070 & 17.40 & 0 & 0 & 3 & 3 & 15.10000\\\\\n\t 17.3 & 8 & 275.8 & 180 & 3.07 & 3.730 & 17.60 & 0 & 0 & 3 & 3 & 15.10000\\\\\n\t 15.2 & 8 & 275.8 & 180 & 3.07 & 3.780 & 18.00 & 0 & 0 & 3 & 3 & 15.10000\\\\\n\t 10.4 & 8 & 472.0 & 205 & 2.93 & 5.250 & 17.98 & 0 & 0 & 3 & 4 & 15.10000\\\\\n\t 10.4 & 8 & 460.0 & 215 & 3.00 & 5.424 & 17.82 & 0 & 0 & 3 & 4 & 15.10000\\\\\n\t 14.7 & 8 & 440.0 & 230 & 3.23 & 5.345 & 17.42 & 0 & 0 & 3 & 4 & 15.10000\\\\\n\t 32.4 & 4 &  78.7 &  66 & 4.08 & 2.200 & 19.47 & 1 & 1 & 4 & 1 & 26.66364\\\\\n\t 30.4 & 4 &  75.7 &  52 & 4.93 & 1.615 & 18.52 & 1 & 1 & 4 & 2 & 26.66364\\\\\n\t 33.9 & 4 &  71.1 &  65 & 4.22 & 1.835 & 19.90 & 1 & 1 & 4 & 1 & 26.66364\\\\\n\t 21.5 & 4 & 120.1 &  97 & 3.70 & 2.465 & 20.01 & 1 & 0 & 3 & 1 & 26.66364\\\\\n\t 15.5 & 8 & 318.0 & 150 & 2.76 & 3.520 & 16.87 & 0 & 0 & 3 & 2 & 15.10000\\\\\n\t 15.2 & 8 & 304.0 & 150 & 3.15 & 3.435 & 17.30 & 0 & 0 & 3 & 2 & 15.10000\\\\\n\t 13.3 & 8 & 350.0 & 245 & 3.73 & 3.840 & 15.41 & 0 & 0 & 3 & 4 & 15.10000\\\\\n\t 19.2 & 8 & 400.0 & 175 & 3.08 & 3.845 & 17.05 & 0 & 0 & 3 & 2 & 15.10000\\\\\n\t 27.3 & 4 &  79.0 &  66 & 4.08 & 1.935 & 18.90 & 1 & 1 & 4 & 1 & 26.66364\\\\\n\t 26.0 & 4 & 120.3 &  91 & 4.43 & 2.140 & 16.70 & 0 & 1 & 5 & 2 & 26.66364\\\\\n\t 30.4 & 4 &  95.1 & 113 & 3.77 & 1.513 & 16.90 & 1 & 1 & 5 & 2 & 26.66364\\\\\n\t 15.8 & 8 & 351.0 & 264 & 4.22 & 3.170 & 14.50 & 0 & 1 & 5 & 4 & 15.10000\\\\\n\t 19.7 & 6 & 145.0 & 175 & 3.62 & 2.770 & 15.50 & 0 & 1 & 5 & 6 & 19.74286\\\\\n\t 15.0 & 8 & 301.0 & 335 & 3.54 & 3.570 & 14.60 & 0 & 1 & 5 & 8 & 15.10000\\\\\n\t 21.4 & 4 & 121.0 & 109 & 4.11 & 2.780 & 18.60 & 1 & 1 & 4 & 2 & 26.66364\\\\\n\\end{tabular}\n",
            "text/plain": [
              "   mpg  cyl disp  hp  drat wt    qsec  vs am gear carb mean(mpg)\n",
              "1  21.0 6   160.0 110 3.90 2.620 16.46 0  1  4    4    19.74286 \n",
              "2  21.0 6   160.0 110 3.90 2.875 17.02 0  1  4    4    19.74286 \n",
              "3  22.8 4   108.0  93 3.85 2.320 18.61 1  1  4    1    26.66364 \n",
              "4  21.4 6   258.0 110 3.08 3.215 19.44 1  0  3    1    19.74286 \n",
              "5  18.7 8   360.0 175 3.15 3.440 17.02 0  0  3    2    15.10000 \n",
              "6  18.1 6   225.0 105 2.76 3.460 20.22 1  0  3    1    19.74286 \n",
              "7  14.3 8   360.0 245 3.21 3.570 15.84 0  0  3    4    15.10000 \n",
              "8  24.4 4   146.7  62 3.69 3.190 20.00 1  0  4    2    26.66364 \n",
              "9  22.8 4   140.8  95 3.92 3.150 22.90 1  0  4    2    26.66364 \n",
              "10 19.2 6   167.6 123 3.92 3.440 18.30 1  0  4    4    19.74286 \n",
              "11 17.8 6   167.6 123 3.92 3.440 18.90 1  0  4    4    19.74286 \n",
              "12 16.4 8   275.8 180 3.07 4.070 17.40 0  0  3    3    15.10000 \n",
              "13 17.3 8   275.8 180 3.07 3.730 17.60 0  0  3    3    15.10000 \n",
              "14 15.2 8   275.8 180 3.07 3.780 18.00 0  0  3    3    15.10000 \n",
              "15 10.4 8   472.0 205 2.93 5.250 17.98 0  0  3    4    15.10000 \n",
              "16 10.4 8   460.0 215 3.00 5.424 17.82 0  0  3    4    15.10000 \n",
              "17 14.7 8   440.0 230 3.23 5.345 17.42 0  0  3    4    15.10000 \n",
              "18 32.4 4    78.7  66 4.08 2.200 19.47 1  1  4    1    26.66364 \n",
              "19 30.4 4    75.7  52 4.93 1.615 18.52 1  1  4    2    26.66364 \n",
              "20 33.9 4    71.1  65 4.22 1.835 19.90 1  1  4    1    26.66364 \n",
              "21 21.5 4   120.1  97 3.70 2.465 20.01 1  0  3    1    26.66364 \n",
              "22 15.5 8   318.0 150 2.76 3.520 16.87 0  0  3    2    15.10000 \n",
              "23 15.2 8   304.0 150 3.15 3.435 17.30 0  0  3    2    15.10000 \n",
              "24 13.3 8   350.0 245 3.73 3.840 15.41 0  0  3    4    15.10000 \n",
              "25 19.2 8   400.0 175 3.08 3.845 17.05 0  0  3    2    15.10000 \n",
              "26 27.3 4    79.0  66 4.08 1.935 18.90 1  1  4    1    26.66364 \n",
              "27 26.0 4   120.3  91 4.43 2.140 16.70 0  1  5    2    26.66364 \n",
              "28 30.4 4    95.1 113 3.77 1.513 16.90 1  1  5    2    26.66364 \n",
              "29 15.8 8   351.0 264 4.22 3.170 14.50 0  1  5    4    15.10000 \n",
              "30 19.7 6   145.0 175 3.62 2.770 15.50 0  1  5    6    19.74286 \n",
              "31 15.0 8   301.0 335 3.54 3.570 14.60 0  1  5    8    15.10000 \n",
              "32 21.4 4   121.0 109 4.11 2.780 18.60 1  1  4    2    26.66364 "
            ]
          },
          "metadata": {}
        }
      ],
      "source": [
        "# mean mpg for grouped data\n",
        "mutate(gp,mean(mpg))"
      ]
    },
    {
      "cell_type": "code",
      "source": [
        "distinct(mtcars, cyl) "
      ],
      "metadata": {
        "colab": {
          "base_uri": "https://localhost:8080/",
          "height": 192
        },
        "id": "7pxOgWaTzcPg",
        "outputId": "0782a4d1-f296-4d54-fb8b-f0d99b980bd6"
      },
      "execution_count": 86,
      "outputs": [
        {
          "output_type": "display_data",
          "data": {
            "text/html": [
              "<table class=\"dataframe\">\n",
              "<caption>A data.frame: 3 × 1</caption>\n",
              "<thead>\n",
              "\t<tr><th></th><th scope=col>cyl</th></tr>\n",
              "\t<tr><th></th><th scope=col>&lt;dbl&gt;</th></tr>\n",
              "</thead>\n",
              "<tbody>\n",
              "\t<tr><th scope=row>Mazda RX4</th><td>6</td></tr>\n",
              "\t<tr><th scope=row>Datsun 710</th><td>4</td></tr>\n",
              "\t<tr><th scope=row>Hornet Sportabout</th><td>8</td></tr>\n",
              "</tbody>\n",
              "</table>\n"
            ],
            "text/markdown": "\nA data.frame: 3 × 1\n\n| <!--/--> | cyl &lt;dbl&gt; |\n|---|---|\n| Mazda RX4 | 6 |\n| Datsun 710 | 4 |\n| Hornet Sportabout | 8 |\n\n",
            "text/latex": "A data.frame: 3 × 1\n\\begin{tabular}{r|l}\n  & cyl\\\\\n  & <dbl>\\\\\n\\hline\n\tMazda RX4 & 6\\\\\n\tDatsun 710 & 4\\\\\n\tHornet Sportabout & 8\\\\\n\\end{tabular}\n",
            "text/plain": [
              "                  cyl\n",
              "Mazda RX4         6  \n",
              "Datsun 710        4  \n",
              "Hornet Sportabout 8  "
            ]
          },
          "metadata": {}
        }
      ]
    },
    {
      "cell_type": "markdown",
      "metadata": {
        "id": "TYMgUwqPpL0R"
      },
      "source": [
        "Notice that the mean is now constant within different groups. It's easier to see if we first sort the table by `cyl`:"
      ]
    },
    {
      "cell_type": "code",
      "execution_count": null,
      "metadata": {
        "id": "h9FBawkxpL0S"
      },
      "outputs": [],
      "source": [
        "# sort mtcars by cyl, then group and mutate\n",
        "# FIND OUT ONCE POSTED AFTER CLASS "
      ]
    },
    {
      "cell_type": "markdown",
      "metadata": {
        "id": "COJoSh5gpL0S"
      },
      "source": [
        "## Pipes\n",
        "Starting now, we will make extensive use of the pipe operator `%>%`. Consider the previous exercise:"
      ]
    },
    {
      "cell_type": "markdown",
      "source": [],
      "metadata": {
        "id": "2KIdVWuh0XLH"
      }
    },
    {
      "cell_type": "code",
      "execution_count": 71,
      "metadata": {
        "id": "ui_Uoj6dpL0S",
        "colab": {
          "base_uri": "https://localhost:8080/",
          "height": 1000
        },
        "outputId": "a7d1e29d-01d9-471c-b7f6-db1ef49c0495"
      },
      "outputs": [
        {
          "output_type": "display_data",
          "data": {
            "text/html": [
              "<table class=\"dataframe\">\n",
              "<caption>A tibble: 336776 × 20</caption>\n",
              "<thead>\n",
              "\t<tr><th scope=col>gain</th><th scope=col>dep_delay</th><th scope=col>arr_delay</th><th scope=col>year</th><th scope=col>month</th><th scope=col>day</th><th scope=col>dep_time</th><th scope=col>sched_dep_time</th><th scope=col>arr_time</th><th scope=col>sched_arr_time</th><th scope=col>carrier</th><th scope=col>flight</th><th scope=col>tailnum</th><th scope=col>origin</th><th scope=col>dest</th><th scope=col>air_time</th><th scope=col>distance</th><th scope=col>hour</th><th scope=col>minute</th><th scope=col>time_hour</th></tr>\n",
              "\t<tr><th scope=col>&lt;dbl&gt;</th><th scope=col>&lt;dbl&gt;</th><th scope=col>&lt;dbl&gt;</th><th scope=col>&lt;int&gt;</th><th scope=col>&lt;int&gt;</th><th scope=col>&lt;int&gt;</th><th scope=col>&lt;int&gt;</th><th scope=col>&lt;int&gt;</th><th scope=col>&lt;int&gt;</th><th scope=col>&lt;int&gt;</th><th scope=col>&lt;chr&gt;</th><th scope=col>&lt;int&gt;</th><th scope=col>&lt;chr&gt;</th><th scope=col>&lt;chr&gt;</th><th scope=col>&lt;chr&gt;</th><th scope=col>&lt;dbl&gt;</th><th scope=col>&lt;dbl&gt;</th><th scope=col>&lt;dbl&gt;</th><th scope=col>&lt;dbl&gt;</th><th scope=col>&lt;dttm&gt;</th></tr>\n",
              "</thead>\n",
              "<tbody>\n",
              "\t<tr><td>109</td><td>235</td><td>126</td><td>2013</td><td> 6</td><td>13</td><td>1907</td><td>1512</td><td>2134</td><td>1928</td><td>EV</td><td>4377</td><td>N19554</td><td>EWR</td><td>JAX</td><td>126</td><td> 820</td><td>15</td><td>12</td><td>2013-06-13 15:00:00</td></tr>\n",
              "\t<tr><td> 87</td><td> 60</td><td>-27</td><td>2013</td><td> 2</td><td>26</td><td>1000</td><td> 900</td><td>1513</td><td>1540</td><td>HA</td><td>  51</td><td>N382HA</td><td>JFK</td><td>HNL</td><td>584</td><td>4983</td><td> 9</td><td> 0</td><td>2013-02-26 09:00:00</td></tr>\n",
              "\t<tr><td> 80</td><td>206</td><td>126</td><td>2013</td><td> 2</td><td>23</td><td>1226</td><td> 900</td><td>1746</td><td>1540</td><td>HA</td><td>  51</td><td>N389HA</td><td>JFK</td><td>HNL</td><td>599</td><td>4983</td><td> 9</td><td> 0</td><td>2013-02-23 09:00:00</td></tr>\n",
              "\t<tr><td> 79</td><td> 17</td><td>-62</td><td>2013</td><td> 5</td><td>13</td><td>1917</td><td>1900</td><td>2149</td><td>2251</td><td>DL</td><td>1465</td><td>N721TW</td><td>JFK</td><td>SFO</td><td>313</td><td>2586</td><td>19</td><td> 0</td><td>2013-05-13 19:00:00</td></tr>\n",
              "\t<tr><td> 76</td><td> 24</td><td>-52</td><td>2013</td><td> 2</td><td>27</td><td> 924</td><td> 900</td><td>1448</td><td>1540</td><td>HA</td><td>  51</td><td>N389HA</td><td>JFK</td><td>HNL</td><td>589</td><td>4983</td><td> 9</td><td> 0</td><td>2013-02-27 09:00:00</td></tr>\n",
              "\t<tr><td> 74</td><td> 48</td><td>-26</td><td>2013</td><td> 7</td><td>14</td><td>1917</td><td>1829</td><td>2109</td><td>2135</td><td>UA</td><td> 673</td><td>N817UA</td><td>EWR</td><td>SNA</td><td>274</td><td>2434</td><td>18</td><td>29</td><td>2013-07-14 18:00:00</td></tr>\n",
              "\t<tr><td> 74</td><td> 34</td><td>-40</td><td>2013</td><td> 7</td><td>17</td><td>2004</td><td>1930</td><td>2224</td><td>2304</td><td>UA</td><td>1532</td><td>N33284</td><td>EWR</td><td>SFO</td><td>295</td><td>2565</td><td>19</td><td>30</td><td>2013-07-17 19:00:00</td></tr>\n",
              "\t<tr><td> 73</td><td> 31</td><td>-42</td><td>2013</td><td>12</td><td>27</td><td>1719</td><td>1648</td><td>1956</td><td>2038</td><td>UA</td><td>1284</td><td>N75433</td><td>EWR</td><td>SFO</td><td>324</td><td>2565</td><td>16</td><td>48</td><td>2013-12-27 16:00:00</td></tr>\n",
              "\t<tr><td> 73</td><td> -2</td><td>-75</td><td>2013</td><td> 5</td><td> 2</td><td>1947</td><td>1949</td><td>2209</td><td>2324</td><td>UA</td><td> 612</td><td>N851UA</td><td>EWR</td><td>LAX</td><td>300</td><td>2454</td><td>19</td><td>49</td><td>2013-05-02 19:00:00</td></tr>\n",
              "\t<tr><td> 72</td><td>  9</td><td>-63</td><td>2013</td><td>11</td><td>13</td><td>2024</td><td>2015</td><td>2251</td><td>2354</td><td>DL</td><td> 427</td><td>N188DN</td><td>JFK</td><td>LAX</td><td>311</td><td>2475</td><td>20</td><td>15</td><td>2013-11-13 20:00:00</td></tr>\n",
              "\t<tr><td> 72</td><td>-14</td><td>-86</td><td>2013</td><td> 5</td><td> 7</td><td>1715</td><td>1729</td><td>1944</td><td>2110</td><td>VX</td><td> 193</td><td>N843VA</td><td>EWR</td><td>SFO</td><td>315</td><td>2565</td><td>17</td><td>29</td><td>2013-05-07 17:00:00</td></tr>\n",
              "\t<tr><td> 72</td><td> 19</td><td>-53</td><td>2013</td><td> 5</td><td>12</td><td>2019</td><td>2000</td><td>2241</td><td>2334</td><td>UA</td><td>1262</td><td>N78524</td><td>EWR</td><td>LAX</td><td>296</td><td>2454</td><td>20</td><td> 0</td><td>2013-05-12 20:00:00</td></tr>\n",
              "\t<tr><td> 71</td><td> 39</td><td>-32</td><td>2013</td><td> 5</td><td> 2</td><td>1949</td><td>1910</td><td>2208</td><td>2240</td><td>AA</td><td>  21</td><td>N339AA</td><td>JFK</td><td>LAX</td><td>301</td><td>2475</td><td>19</td><td>10</td><td>2013-05-02 19:00:00</td></tr>\n",
              "\t<tr><td> 71</td><td> -4</td><td>-75</td><td>2013</td><td> 5</td><td> 6</td><td>1826</td><td>1830</td><td>2045</td><td>2200</td><td>AA</td><td> 269</td><td>N3KCAA</td><td>JFK</td><td>SEA</td><td>289</td><td>2422</td><td>18</td><td>30</td><td>2013-05-06 18:00:00</td></tr>\n",
              "\t<tr><td> 70</td><td>  0</td><td>-70</td><td>2013</td><td> 2</td><td>26</td><td>1335</td><td>1335</td><td>1819</td><td>1929</td><td>UA</td><td>  15</td><td>N76065</td><td>EWR</td><td>HNL</td><td>566</td><td>4963</td><td>13</td><td>35</td><td>2013-02-26 13:00:00</td></tr>\n",
              "\t<tr><td> 70</td><td>368</td><td>298</td><td>2013</td><td> 3</td><td> 1</td><td>1528</td><td> 920</td><td>1738</td><td>1240</td><td>AA</td><td>1589</td><td>N437AA</td><td>EWR</td><td>DFW</td><td>174</td><td>1372</td><td> 9</td><td>20</td><td>2013-03-01 09:00:00</td></tr>\n",
              "\t<tr><td> 70</td><td> -3</td><td>-73</td><td>2013</td><td> 5</td><td> 2</td><td>1926</td><td>1929</td><td>2157</td><td>2310</td><td>UA</td><td>1628</td><td>N24212</td><td>EWR</td><td>SFO</td><td>314</td><td>2565</td><td>19</td><td>29</td><td>2013-05-02 19:00:00</td></tr>\n",
              "\t<tr><td> 70</td><td> -4</td><td>-74</td><td>2013</td><td> 5</td><td> 4</td><td>1816</td><td>1820</td><td>2017</td><td>2131</td><td>AS</td><td>   7</td><td>N551AS</td><td>EWR</td><td>SEA</td><td>281</td><td>2402</td><td>18</td><td>20</td><td>2013-05-04 18:00:00</td></tr>\n",
              "\t<tr><td> 70</td><td> -1</td><td>-71</td><td>2013</td><td> 5</td><td> 7</td><td>2054</td><td>2055</td><td>2317</td><td>  28</td><td>UA</td><td> 622</td><td>N806UA</td><td>EWR</td><td>SFO</td><td>309</td><td>2565</td><td>20</td><td>55</td><td>2013-05-07 20:00:00</td></tr>\n",
              "\t<tr><td> 70</td><td> 78</td><td>  8</td><td>2013</td><td> 7</td><td>13</td><td>1947</td><td>1829</td><td>2143</td><td>2135</td><td>UA</td><td> 485</td><td>N478UA</td><td>EWR</td><td>SNA</td><td>279</td><td>2434</td><td>18</td><td>29</td><td>2013-07-13 18:00:00</td></tr>\n",
              "\t<tr><td> 70</td><td>131</td><td> 61</td><td>2013</td><td> 7</td><td>15</td><td>1921</td><td>1710</td><td>2106</td><td>2005</td><td>AA</td><td> 257</td><td>N621AA</td><td>JFK</td><td>LAS</td><td>266</td><td>2248</td><td>17</td><td>10</td><td>2013-07-15 17:00:00</td></tr>\n",
              "\t<tr><td> 69</td><td> 12</td><td>-57</td><td>2013</td><td> 1</td><td> 3</td><td>1957</td><td>1945</td><td>2232</td><td>2329</td><td>B6</td><td> 645</td><td>N793JB</td><td>JFK</td><td>SFO</td><td>315</td><td>2586</td><td>19</td><td>45</td><td>2013-01-03 19:00:00</td></tr>\n",
              "\t<tr><td> 69</td><td> 36</td><td>-33</td><td>2013</td><td> 2</td><td>24</td><td> 936</td><td> 900</td><td>1507</td><td>1540</td><td>HA</td><td>  51</td><td>N383HA</td><td>JFK</td><td>HNL</td><td>612</td><td>4983</td><td> 9</td><td> 0</td><td>2013-02-24 09:00:00</td></tr>\n",
              "\t<tr><td> 69</td><td> 24</td><td>-45</td><td>2013</td><td> 2</td><td>28</td><td> 924</td><td> 900</td><td>1455</td><td>1540</td><td>HA</td><td>  51</td><td>N380HA</td><td>JFK</td><td>HNL</td><td>612</td><td>4983</td><td> 9</td><td> 0</td><td>2013-02-28 09:00:00</td></tr>\n",
              "\t<tr><td> 69</td><td>186</td><td>117</td><td>2013</td><td> 5</td><td> 6</td><td>1036</td><td> 730</td><td>1302</td><td>1105</td><td>VX</td><td> 183</td><td>N842VA</td><td>EWR</td><td>SFO</td><td>312</td><td>2565</td><td> 7</td><td>30</td><td>2013-05-06 07:00:00</td></tr>\n",
              "\t<tr><td> 69</td><td> -2</td><td>-71</td><td>2013</td><td> 5</td><td> 6</td><td>1753</td><td>1755</td><td>2004</td><td>2115</td><td>DL</td><td>1394</td><td>N3760C</td><td>JFK</td><td>PDX</td><td>283</td><td>2454</td><td>17</td><td>55</td><td>2013-05-06 17:00:00</td></tr>\n",
              "\t<tr><td> 69</td><td> 15</td><td>-54</td><td>2013</td><td> 5</td><td>12</td><td>1744</td><td>1729</td><td>1948</td><td>2042</td><td>UA</td><td> 752</td><td>N540UA</td><td>EWR</td><td>LAX</td><td>283</td><td>2454</td><td>17</td><td>29</td><td>2013-05-12 17:00:00</td></tr>\n",
              "\t<tr><td> 69</td><td> 14</td><td>-55</td><td>2013</td><td> 5</td><td>13</td><td>2044</td><td>2030</td><td>2301</td><td>2356</td><td>B6</td><td> 677</td><td>N805JB</td><td>JFK</td><td>LAX</td><td>295</td><td>2475</td><td>20</td><td>30</td><td>2013-05-13 20:00:00</td></tr>\n",
              "\t<tr><td> 68</td><td>164</td><td> 96</td><td>2013</td><td> 3</td><td> 1</td><td>1929</td><td>1645</td><td>2141</td><td>2005</td><td>AA</td><td> 181</td><td>N327AA</td><td>JFK</td><td>LAX</td><td>289</td><td>2475</td><td>16</td><td>45</td><td>2013-03-01 16:00:00</td></tr>\n",
              "\t<tr><td> 68</td><td> -1</td><td>-69</td><td>2013</td><td> 5</td><td> 4</td><td>1914</td><td>1915</td><td>2107</td><td>2216</td><td>UA</td><td>1557</td><td>N36447</td><td>EWR</td><td>LAS</td><td>276</td><td>2227</td><td>19</td><td>15</td><td>2013-05-04 19:00:00</td></tr>\n",
              "\t<tr><td>⋮</td><td>⋮</td><td>⋮</td><td>⋮</td><td>⋮</td><td>⋮</td><td>⋮</td><td>⋮</td><td>⋮</td><td>⋮</td><td>⋮</td><td>⋮</td><td>⋮</td><td>⋮</td><td>⋮</td><td>⋮</td><td>⋮</td><td>⋮</td><td>⋮</td><td>⋮</td></tr>\n",
              "\t<tr><td>NA</td><td> NA</td><td>NA</td><td>2013</td><td>9</td><td>25</td><td>  NA</td><td>1655</td><td>  NA</td><td>1840</td><td>MQ</td><td>3411</td><td>N735MQ</td><td>LGA</td><td>RDU</td><td>NA</td><td> 431</td><td>16</td><td>55</td><td>2013-09-25 16:00:00</td></tr>\n",
              "\t<tr><td>NA</td><td> NA</td><td>NA</td><td>2013</td><td>9</td><td>25</td><td>  NA</td><td>1559</td><td>  NA</td><td>1719</td><td>MQ</td><td>3748</td><td>N530MQ</td><td>EWR</td><td>ORD</td><td>NA</td><td> 719</td><td>15</td><td>59</td><td>2013-09-25 15:00:00</td></tr>\n",
              "\t<tr><td>NA</td><td>  2</td><td>NA</td><td>2013</td><td>9</td><td>26</td><td>1331</td><td>1329</td><td>1923</td><td>1813</td><td>UA</td><td>  15</td><td>N67052</td><td>EWR</td><td>HNL</td><td>NA</td><td>4963</td><td>13</td><td>29</td><td>2013-09-26 13:00:00</td></tr>\n",
              "\t<tr><td>NA</td><td> NA</td><td>NA</td><td>2013</td><td>9</td><td>26</td><td>  NA</td><td> 915</td><td>  NA</td><td>1141</td><td>EV</td><td>5109</td><td>N748EV</td><td>LGA</td><td>CHS</td><td>NA</td><td> 641</td><td> 9</td><td>15</td><td>2013-09-26 09:00:00</td></tr>\n",
              "\t<tr><td>NA</td><td> NA</td><td>NA</td><td>2013</td><td>9</td><td>26</td><td>  NA</td><td>1400</td><td>  NA</td><td>1512</td><td>US</td><td>2183</td><td>NA    </td><td>LGA</td><td>DCA</td><td>NA</td><td> 214</td><td>14</td><td> 0</td><td>2013-09-26 14:00:00</td></tr>\n",
              "\t<tr><td>NA</td><td> NA</td><td>NA</td><td>2013</td><td>9</td><td>26</td><td>  NA</td><td>1240</td><td>  NA</td><td>1525</td><td>WN</td><td>4720</td><td>N691WN</td><td>EWR</td><td>HOU</td><td>NA</td><td>1411</td><td>12</td><td>40</td><td>2013-09-26 12:00:00</td></tr>\n",
              "\t<tr><td>NA</td><td>  3</td><td>NA</td><td>2013</td><td>9</td><td>27</td><td>1332</td><td>1329</td><td>1629</td><td>1509</td><td>AA</td><td> 331</td><td>N565AA</td><td>LGA</td><td>ORD</td><td>NA</td><td> 733</td><td>13</td><td>29</td><td>2013-09-27 13:00:00</td></tr>\n",
              "\t<tr><td>NA</td><td>188</td><td>NA</td><td>2013</td><td>9</td><td>27</td><td>2253</td><td>1945</td><td>  NA</td><td>2146</td><td>EV</td><td>5306</td><td>N605QX</td><td>LGA</td><td>GSO</td><td>NA</td><td> 461</td><td>19</td><td>45</td><td>2013-09-27 19:00:00</td></tr>\n",
              "\t<tr><td>NA</td><td> NA</td><td>NA</td><td>2013</td><td>9</td><td>27</td><td>  NA</td><td> 600</td><td>  NA</td><td> 730</td><td>AA</td><td> 301</td><td>N584AA</td><td>LGA</td><td>ORD</td><td>NA</td><td> 733</td><td> 6</td><td> 0</td><td>2013-09-27 06:00:00</td></tr>\n",
              "\t<tr><td>NA</td><td> NA</td><td>NA</td><td>2013</td><td>9</td><td>27</td><td>  NA</td><td>2100</td><td>  NA</td><td>2211</td><td>US</td><td>2164</td><td>NA    </td><td>LGA</td><td>BOS</td><td>NA</td><td> 184</td><td>21</td><td> 0</td><td>2013-09-27 21:00:00</td></tr>\n",
              "\t<tr><td>NA</td><td> NA</td><td>NA</td><td>2013</td><td>9</td><td>27</td><td>  NA</td><td>1329</td><td>  NA</td><td>1444</td><td>MQ</td><td>3760</td><td>N505MQ</td><td>EWR</td><td>ORD</td><td>NA</td><td> 719</td><td>13</td><td>29</td><td>2013-09-27 13:00:00</td></tr>\n",
              "\t<tr><td>NA</td><td> NA</td><td>NA</td><td>2013</td><td>9</td><td>27</td><td>  NA</td><td>1600</td><td>  NA</td><td>1739</td><td>UA</td><td> 269</td><td>NA    </td><td>LGA</td><td>ORD</td><td>NA</td><td> 733</td><td>16</td><td> 0</td><td>2013-09-27 16:00:00</td></tr>\n",
              "\t<tr><td>NA</td><td> -5</td><td>NA</td><td>2013</td><td>9</td><td>28</td><td> 555</td><td> 600</td><td> 953</td><td> 753</td><td>EV</td><td>5068</td><td>N133EV</td><td>EWR</td><td>DTW</td><td>NA</td><td> 488</td><td> 6</td><td> 0</td><td>2013-09-28 06:00:00</td></tr>\n",
              "\t<tr><td>NA</td><td>  8</td><td>NA</td><td>2013</td><td>9</td><td>28</td><td> 847</td><td> 839</td><td>1130</td><td> 959</td><td>EV</td><td>4510</td><td>N14542</td><td>EWR</td><td>MKE</td><td>NA</td><td> 725</td><td> 8</td><td>39</td><td>2013-09-28 08:00:00</td></tr>\n",
              "\t<tr><td>NA</td><td>-10</td><td>NA</td><td>2013</td><td>9</td><td>28</td><td>1010</td><td>1020</td><td>1344</td><td>1222</td><td>EV</td><td>4412</td><td>N12175</td><td>EWR</td><td>DSM</td><td>NA</td><td>1017</td><td>10</td><td>20</td><td>2013-09-28 10:00:00</td></tr>\n",
              "\t<tr><td>NA</td><td>-11</td><td>NA</td><td>2013</td><td>9</td><td>28</td><td>1214</td><td>1225</td><td>1801</td><td>1510</td><td>AA</td><td> 300</td><td>N488AA</td><td>EWR</td><td>DFW</td><td>NA</td><td>1372</td><td>12</td><td>25</td><td>2013-09-28 12:00:00</td></tr>\n",
              "\t<tr><td>NA</td><td> NA</td><td>NA</td><td>2013</td><td>9</td><td>28</td><td>  NA</td><td>1803</td><td>  NA</td><td>1927</td><td>EV</td><td>5563</td><td>N724EV</td><td>LGA</td><td>BTV</td><td>NA</td><td> 258</td><td>18</td><td> 3</td><td>2013-09-28 18:00:00</td></tr>\n",
              "\t<tr><td>NA</td><td> NA</td><td>NA</td><td>2013</td><td>9</td><td>28</td><td>  NA</td><td> 910</td><td>  NA</td><td>1220</td><td>AA</td><td>   1</td><td>N320AA</td><td>JFK</td><td>LAX</td><td>NA</td><td>2475</td><td> 9</td><td>10</td><td>2013-09-28 09:00:00</td></tr>\n",
              "\t<tr><td>NA</td><td> NA</td><td>NA</td><td>2013</td><td>9</td><td>28</td><td>  NA</td><td>1635</td><td>  NA</td><td>1827</td><td>US</td><td> 581</td><td>NA    </td><td>EWR</td><td>CLT</td><td>NA</td><td> 529</td><td>16</td><td>35</td><td>2013-09-28 16:00:00</td></tr>\n",
              "\t<tr><td>NA</td><td> 23</td><td>NA</td><td>2013</td><td>9</td><td>29</td><td>1734</td><td>1711</td><td>2159</td><td>2020</td><td>UA</td><td> 327</td><td>N463UA</td><td>EWR</td><td>PDX</td><td>NA</td><td>2434</td><td>17</td><td>11</td><td>2013-09-29 17:00:00</td></tr>\n",
              "\t<tr><td>NA</td><td> NA</td><td>NA</td><td>2013</td><td>9</td><td>29</td><td>  NA</td><td>2054</td><td>  NA</td><td>2302</td><td>EV</td><td>4536</td><td>N13988</td><td>EWR</td><td>CVG</td><td>NA</td><td> 569</td><td>20</td><td>54</td><td>2013-09-29 20:00:00</td></tr>\n",
              "\t<tr><td>NA</td><td> NA</td><td>NA</td><td>2013</td><td>9</td><td>29</td><td>  NA</td><td>1830</td><td>  NA</td><td>2010</td><td>MQ</td><td>3134</td><td>N508MQ</td><td>EWR</td><td>ORD</td><td>NA</td><td> 719</td><td>18</td><td>30</td><td>2013-09-29 18:00:00</td></tr>\n",
              "\t<tr><td>NA</td><td> NA</td><td>NA</td><td>2013</td><td>9</td><td>29</td><td>  NA</td><td> 700</td><td>  NA</td><td> 833</td><td>UA</td><td> 331</td><td>NA    </td><td>LGA</td><td>ORD</td><td>NA</td><td> 733</td><td> 7</td><td> 0</td><td>2013-09-29 07:00:00</td></tr>\n",
              "\t<tr><td>NA</td><td> -1</td><td>NA</td><td>2013</td><td>9</td><td>30</td><td> 559</td><td> 600</td><td>  NA</td><td> 715</td><td>WN</td><td> 464</td><td>N411WN</td><td>EWR</td><td>MDW</td><td>NA</td><td> 711</td><td> 6</td><td> 0</td><td>2013-09-30 06:00:00</td></tr>\n",
              "\t<tr><td>NA</td><td> NA</td><td>NA</td><td>2013</td><td>9</td><td>30</td><td>  NA</td><td>1842</td><td>  NA</td><td>2019</td><td>EV</td><td>5274</td><td>N740EV</td><td>LGA</td><td>BNA</td><td>NA</td><td> 764</td><td>18</td><td>42</td><td>2013-09-30 18:00:00</td></tr>\n",
              "\t<tr><td>NA</td><td> NA</td><td>NA</td><td>2013</td><td>9</td><td>30</td><td>  NA</td><td>1455</td><td>  NA</td><td>1634</td><td>9E</td><td>3393</td><td>NA    </td><td>JFK</td><td>DCA</td><td>NA</td><td> 213</td><td>14</td><td>55</td><td>2013-09-30 14:00:00</td></tr>\n",
              "\t<tr><td>NA</td><td> NA</td><td>NA</td><td>2013</td><td>9</td><td>30</td><td>  NA</td><td>2200</td><td>  NA</td><td>2312</td><td>9E</td><td>3525</td><td>NA    </td><td>LGA</td><td>SYR</td><td>NA</td><td> 198</td><td>22</td><td> 0</td><td>2013-09-30 22:00:00</td></tr>\n",
              "\t<tr><td>NA</td><td> NA</td><td>NA</td><td>2013</td><td>9</td><td>30</td><td>  NA</td><td>1210</td><td>  NA</td><td>1330</td><td>MQ</td><td>3461</td><td>N535MQ</td><td>LGA</td><td>BNA</td><td>NA</td><td> 764</td><td>12</td><td>10</td><td>2013-09-30 12:00:00</td></tr>\n",
              "\t<tr><td>NA</td><td> NA</td><td>NA</td><td>2013</td><td>9</td><td>30</td><td>  NA</td><td>1159</td><td>  NA</td><td>1344</td><td>MQ</td><td>3572</td><td>N511MQ</td><td>LGA</td><td>CLE</td><td>NA</td><td> 419</td><td>11</td><td>59</td><td>2013-09-30 11:00:00</td></tr>\n",
              "\t<tr><td>NA</td><td> NA</td><td>NA</td><td>2013</td><td>9</td><td>30</td><td>  NA</td><td> 840</td><td>  NA</td><td>1020</td><td>MQ</td><td>3531</td><td>N839MQ</td><td>LGA</td><td>RDU</td><td>NA</td><td> 431</td><td> 8</td><td>40</td><td>2013-09-30 08:00:00</td></tr>\n",
              "</tbody>\n",
              "</table>\n"
            ],
            "text/markdown": "\nA tibble: 336776 × 20\n\n| gain &lt;dbl&gt; | dep_delay &lt;dbl&gt; | arr_delay &lt;dbl&gt; | year &lt;int&gt; | month &lt;int&gt; | day &lt;int&gt; | dep_time &lt;int&gt; | sched_dep_time &lt;int&gt; | arr_time &lt;int&gt; | sched_arr_time &lt;int&gt; | carrier &lt;chr&gt; | flight &lt;int&gt; | tailnum &lt;chr&gt; | origin &lt;chr&gt; | dest &lt;chr&gt; | air_time &lt;dbl&gt; | distance &lt;dbl&gt; | hour &lt;dbl&gt; | minute &lt;dbl&gt; | time_hour &lt;dttm&gt; |\n|---|---|---|---|---|---|---|---|---|---|---|---|---|---|---|---|---|---|---|---|\n| 109 | 235 | 126 | 2013 |  6 | 13 | 1907 | 1512 | 2134 | 1928 | EV | 4377 | N19554 | EWR | JAX | 126 |  820 | 15 | 12 | 2013-06-13 15:00:00 |\n|  87 |  60 | -27 | 2013 |  2 | 26 | 1000 |  900 | 1513 | 1540 | HA |   51 | N382HA | JFK | HNL | 584 | 4983 |  9 |  0 | 2013-02-26 09:00:00 |\n|  80 | 206 | 126 | 2013 |  2 | 23 | 1226 |  900 | 1746 | 1540 | HA |   51 | N389HA | JFK | HNL | 599 | 4983 |  9 |  0 | 2013-02-23 09:00:00 |\n|  79 |  17 | -62 | 2013 |  5 | 13 | 1917 | 1900 | 2149 | 2251 | DL | 1465 | N721TW | JFK | SFO | 313 | 2586 | 19 |  0 | 2013-05-13 19:00:00 |\n|  76 |  24 | -52 | 2013 |  2 | 27 |  924 |  900 | 1448 | 1540 | HA |   51 | N389HA | JFK | HNL | 589 | 4983 |  9 |  0 | 2013-02-27 09:00:00 |\n|  74 |  48 | -26 | 2013 |  7 | 14 | 1917 | 1829 | 2109 | 2135 | UA |  673 | N817UA | EWR | SNA | 274 | 2434 | 18 | 29 | 2013-07-14 18:00:00 |\n|  74 |  34 | -40 | 2013 |  7 | 17 | 2004 | 1930 | 2224 | 2304 | UA | 1532 | N33284 | EWR | SFO | 295 | 2565 | 19 | 30 | 2013-07-17 19:00:00 |\n|  73 |  31 | -42 | 2013 | 12 | 27 | 1719 | 1648 | 1956 | 2038 | UA | 1284 | N75433 | EWR | SFO | 324 | 2565 | 16 | 48 | 2013-12-27 16:00:00 |\n|  73 |  -2 | -75 | 2013 |  5 |  2 | 1947 | 1949 | 2209 | 2324 | UA |  612 | N851UA | EWR | LAX | 300 | 2454 | 19 | 49 | 2013-05-02 19:00:00 |\n|  72 |   9 | -63 | 2013 | 11 | 13 | 2024 | 2015 | 2251 | 2354 | DL |  427 | N188DN | JFK | LAX | 311 | 2475 | 20 | 15 | 2013-11-13 20:00:00 |\n|  72 | -14 | -86 | 2013 |  5 |  7 | 1715 | 1729 | 1944 | 2110 | VX |  193 | N843VA | EWR | SFO | 315 | 2565 | 17 | 29 | 2013-05-07 17:00:00 |\n|  72 |  19 | -53 | 2013 |  5 | 12 | 2019 | 2000 | 2241 | 2334 | UA | 1262 | N78524 | EWR | LAX | 296 | 2454 | 20 |  0 | 2013-05-12 20:00:00 |\n|  71 |  39 | -32 | 2013 |  5 |  2 | 1949 | 1910 | 2208 | 2240 | AA |   21 | N339AA | JFK | LAX | 301 | 2475 | 19 | 10 | 2013-05-02 19:00:00 |\n|  71 |  -4 | -75 | 2013 |  5 |  6 | 1826 | 1830 | 2045 | 2200 | AA |  269 | N3KCAA | JFK | SEA | 289 | 2422 | 18 | 30 | 2013-05-06 18:00:00 |\n|  70 |   0 | -70 | 2013 |  2 | 26 | 1335 | 1335 | 1819 | 1929 | UA |   15 | N76065 | EWR | HNL | 566 | 4963 | 13 | 35 | 2013-02-26 13:00:00 |\n|  70 | 368 | 298 | 2013 |  3 |  1 | 1528 |  920 | 1738 | 1240 | AA | 1589 | N437AA | EWR | DFW | 174 | 1372 |  9 | 20 | 2013-03-01 09:00:00 |\n|  70 |  -3 | -73 | 2013 |  5 |  2 | 1926 | 1929 | 2157 | 2310 | UA | 1628 | N24212 | EWR | SFO | 314 | 2565 | 19 | 29 | 2013-05-02 19:00:00 |\n|  70 |  -4 | -74 | 2013 |  5 |  4 | 1816 | 1820 | 2017 | 2131 | AS |    7 | N551AS | EWR | SEA | 281 | 2402 | 18 | 20 | 2013-05-04 18:00:00 |\n|  70 |  -1 | -71 | 2013 |  5 |  7 | 2054 | 2055 | 2317 |   28 | UA |  622 | N806UA | EWR | SFO | 309 | 2565 | 20 | 55 | 2013-05-07 20:00:00 |\n|  70 |  78 |   8 | 2013 |  7 | 13 | 1947 | 1829 | 2143 | 2135 | UA |  485 | N478UA | EWR | SNA | 279 | 2434 | 18 | 29 | 2013-07-13 18:00:00 |\n|  70 | 131 |  61 | 2013 |  7 | 15 | 1921 | 1710 | 2106 | 2005 | AA |  257 | N621AA | JFK | LAS | 266 | 2248 | 17 | 10 | 2013-07-15 17:00:00 |\n|  69 |  12 | -57 | 2013 |  1 |  3 | 1957 | 1945 | 2232 | 2329 | B6 |  645 | N793JB | JFK | SFO | 315 | 2586 | 19 | 45 | 2013-01-03 19:00:00 |\n|  69 |  36 | -33 | 2013 |  2 | 24 |  936 |  900 | 1507 | 1540 | HA |   51 | N383HA | JFK | HNL | 612 | 4983 |  9 |  0 | 2013-02-24 09:00:00 |\n|  69 |  24 | -45 | 2013 |  2 | 28 |  924 |  900 | 1455 | 1540 | HA |   51 | N380HA | JFK | HNL | 612 | 4983 |  9 |  0 | 2013-02-28 09:00:00 |\n|  69 | 186 | 117 | 2013 |  5 |  6 | 1036 |  730 | 1302 | 1105 | VX |  183 | N842VA | EWR | SFO | 312 | 2565 |  7 | 30 | 2013-05-06 07:00:00 |\n|  69 |  -2 | -71 | 2013 |  5 |  6 | 1753 | 1755 | 2004 | 2115 | DL | 1394 | N3760C | JFK | PDX | 283 | 2454 | 17 | 55 | 2013-05-06 17:00:00 |\n|  69 |  15 | -54 | 2013 |  5 | 12 | 1744 | 1729 | 1948 | 2042 | UA |  752 | N540UA | EWR | LAX | 283 | 2454 | 17 | 29 | 2013-05-12 17:00:00 |\n|  69 |  14 | -55 | 2013 |  5 | 13 | 2044 | 2030 | 2301 | 2356 | B6 |  677 | N805JB | JFK | LAX | 295 | 2475 | 20 | 30 | 2013-05-13 20:00:00 |\n|  68 | 164 |  96 | 2013 |  3 |  1 | 1929 | 1645 | 2141 | 2005 | AA |  181 | N327AA | JFK | LAX | 289 | 2475 | 16 | 45 | 2013-03-01 16:00:00 |\n|  68 |  -1 | -69 | 2013 |  5 |  4 | 1914 | 1915 | 2107 | 2216 | UA | 1557 | N36447 | EWR | LAS | 276 | 2227 | 19 | 15 | 2013-05-04 19:00:00 |\n| ⋮ | ⋮ | ⋮ | ⋮ | ⋮ | ⋮ | ⋮ | ⋮ | ⋮ | ⋮ | ⋮ | ⋮ | ⋮ | ⋮ | ⋮ | ⋮ | ⋮ | ⋮ | ⋮ | ⋮ |\n| NA |  NA | NA | 2013 | 9 | 25 |   NA | 1655 |   NA | 1840 | MQ | 3411 | N735MQ | LGA | RDU | NA |  431 | 16 | 55 | 2013-09-25 16:00:00 |\n| NA |  NA | NA | 2013 | 9 | 25 |   NA | 1559 |   NA | 1719 | MQ | 3748 | N530MQ | EWR | ORD | NA |  719 | 15 | 59 | 2013-09-25 15:00:00 |\n| NA |   2 | NA | 2013 | 9 | 26 | 1331 | 1329 | 1923 | 1813 | UA |   15 | N67052 | EWR | HNL | NA | 4963 | 13 | 29 | 2013-09-26 13:00:00 |\n| NA |  NA | NA | 2013 | 9 | 26 |   NA |  915 |   NA | 1141 | EV | 5109 | N748EV | LGA | CHS | NA |  641 |  9 | 15 | 2013-09-26 09:00:00 |\n| NA |  NA | NA | 2013 | 9 | 26 |   NA | 1400 |   NA | 1512 | US | 2183 | NA     | LGA | DCA | NA |  214 | 14 |  0 | 2013-09-26 14:00:00 |\n| NA |  NA | NA | 2013 | 9 | 26 |   NA | 1240 |   NA | 1525 | WN | 4720 | N691WN | EWR | HOU | NA | 1411 | 12 | 40 | 2013-09-26 12:00:00 |\n| NA |   3 | NA | 2013 | 9 | 27 | 1332 | 1329 | 1629 | 1509 | AA |  331 | N565AA | LGA | ORD | NA |  733 | 13 | 29 | 2013-09-27 13:00:00 |\n| NA | 188 | NA | 2013 | 9 | 27 | 2253 | 1945 |   NA | 2146 | EV | 5306 | N605QX | LGA | GSO | NA |  461 | 19 | 45 | 2013-09-27 19:00:00 |\n| NA |  NA | NA | 2013 | 9 | 27 |   NA |  600 |   NA |  730 | AA |  301 | N584AA | LGA | ORD | NA |  733 |  6 |  0 | 2013-09-27 06:00:00 |\n| NA |  NA | NA | 2013 | 9 | 27 |   NA | 2100 |   NA | 2211 | US | 2164 | NA     | LGA | BOS | NA |  184 | 21 |  0 | 2013-09-27 21:00:00 |\n| NA |  NA | NA | 2013 | 9 | 27 |   NA | 1329 |   NA | 1444 | MQ | 3760 | N505MQ | EWR | ORD | NA |  719 | 13 | 29 | 2013-09-27 13:00:00 |\n| NA |  NA | NA | 2013 | 9 | 27 |   NA | 1600 |   NA | 1739 | UA |  269 | NA     | LGA | ORD | NA |  733 | 16 |  0 | 2013-09-27 16:00:00 |\n| NA |  -5 | NA | 2013 | 9 | 28 |  555 |  600 |  953 |  753 | EV | 5068 | N133EV | EWR | DTW | NA |  488 |  6 |  0 | 2013-09-28 06:00:00 |\n| NA |   8 | NA | 2013 | 9 | 28 |  847 |  839 | 1130 |  959 | EV | 4510 | N14542 | EWR | MKE | NA |  725 |  8 | 39 | 2013-09-28 08:00:00 |\n| NA | -10 | NA | 2013 | 9 | 28 | 1010 | 1020 | 1344 | 1222 | EV | 4412 | N12175 | EWR | DSM | NA | 1017 | 10 | 20 | 2013-09-28 10:00:00 |\n| NA | -11 | NA | 2013 | 9 | 28 | 1214 | 1225 | 1801 | 1510 | AA |  300 | N488AA | EWR | DFW | NA | 1372 | 12 | 25 | 2013-09-28 12:00:00 |\n| NA |  NA | NA | 2013 | 9 | 28 |   NA | 1803 |   NA | 1927 | EV | 5563 | N724EV | LGA | BTV | NA |  258 | 18 |  3 | 2013-09-28 18:00:00 |\n| NA |  NA | NA | 2013 | 9 | 28 |   NA |  910 |   NA | 1220 | AA |    1 | N320AA | JFK | LAX | NA | 2475 |  9 | 10 | 2013-09-28 09:00:00 |\n| NA |  NA | NA | 2013 | 9 | 28 |   NA | 1635 |   NA | 1827 | US |  581 | NA     | EWR | CLT | NA |  529 | 16 | 35 | 2013-09-28 16:00:00 |\n| NA |  23 | NA | 2013 | 9 | 29 | 1734 | 1711 | 2159 | 2020 | UA |  327 | N463UA | EWR | PDX | NA | 2434 | 17 | 11 | 2013-09-29 17:00:00 |\n| NA |  NA | NA | 2013 | 9 | 29 |   NA | 2054 |   NA | 2302 | EV | 4536 | N13988 | EWR | CVG | NA |  569 | 20 | 54 | 2013-09-29 20:00:00 |\n| NA |  NA | NA | 2013 | 9 | 29 |   NA | 1830 |   NA | 2010 | MQ | 3134 | N508MQ | EWR | ORD | NA |  719 | 18 | 30 | 2013-09-29 18:00:00 |\n| NA |  NA | NA | 2013 | 9 | 29 |   NA |  700 |   NA |  833 | UA |  331 | NA     | LGA | ORD | NA |  733 |  7 |  0 | 2013-09-29 07:00:00 |\n| NA |  -1 | NA | 2013 | 9 | 30 |  559 |  600 |   NA |  715 | WN |  464 | N411WN | EWR | MDW | NA |  711 |  6 |  0 | 2013-09-30 06:00:00 |\n| NA |  NA | NA | 2013 | 9 | 30 |   NA | 1842 |   NA | 2019 | EV | 5274 | N740EV | LGA | BNA | NA |  764 | 18 | 42 | 2013-09-30 18:00:00 |\n| NA |  NA | NA | 2013 | 9 | 30 |   NA | 1455 |   NA | 1634 | 9E | 3393 | NA     | JFK | DCA | NA |  213 | 14 | 55 | 2013-09-30 14:00:00 |\n| NA |  NA | NA | 2013 | 9 | 30 |   NA | 2200 |   NA | 2312 | 9E | 3525 | NA     | LGA | SYR | NA |  198 | 22 |  0 | 2013-09-30 22:00:00 |\n| NA |  NA | NA | 2013 | 9 | 30 |   NA | 1210 |   NA | 1330 | MQ | 3461 | N535MQ | LGA | BNA | NA |  764 | 12 | 10 | 2013-09-30 12:00:00 |\n| NA |  NA | NA | 2013 | 9 | 30 |   NA | 1159 |   NA | 1344 | MQ | 3572 | N511MQ | LGA | CLE | NA |  419 | 11 | 59 | 2013-09-30 11:00:00 |\n| NA |  NA | NA | 2013 | 9 | 30 |   NA |  840 |   NA | 1020 | MQ | 3531 | N839MQ | LGA | RDU | NA |  431 |  8 | 40 | 2013-09-30 08:00:00 |\n\n",
            "text/latex": "A tibble: 336776 × 20\n\\begin{tabular}{llllllllllllllllllll}\n gain & dep\\_delay & arr\\_delay & year & month & day & dep\\_time & sched\\_dep\\_time & arr\\_time & sched\\_arr\\_time & carrier & flight & tailnum & origin & dest & air\\_time & distance & hour & minute & time\\_hour\\\\\n <dbl> & <dbl> & <dbl> & <int> & <int> & <int> & <int> & <int> & <int> & <int> & <chr> & <int> & <chr> & <chr> & <chr> & <dbl> & <dbl> & <dbl> & <dbl> & <dttm>\\\\\n\\hline\n\t 109 & 235 & 126 & 2013 &  6 & 13 & 1907 & 1512 & 2134 & 1928 & EV & 4377 & N19554 & EWR & JAX & 126 &  820 & 15 & 12 & 2013-06-13 15:00:00\\\\\n\t  87 &  60 & -27 & 2013 &  2 & 26 & 1000 &  900 & 1513 & 1540 & HA &   51 & N382HA & JFK & HNL & 584 & 4983 &  9 &  0 & 2013-02-26 09:00:00\\\\\n\t  80 & 206 & 126 & 2013 &  2 & 23 & 1226 &  900 & 1746 & 1540 & HA &   51 & N389HA & JFK & HNL & 599 & 4983 &  9 &  0 & 2013-02-23 09:00:00\\\\\n\t  79 &  17 & -62 & 2013 &  5 & 13 & 1917 & 1900 & 2149 & 2251 & DL & 1465 & N721TW & JFK & SFO & 313 & 2586 & 19 &  0 & 2013-05-13 19:00:00\\\\\n\t  76 &  24 & -52 & 2013 &  2 & 27 &  924 &  900 & 1448 & 1540 & HA &   51 & N389HA & JFK & HNL & 589 & 4983 &  9 &  0 & 2013-02-27 09:00:00\\\\\n\t  74 &  48 & -26 & 2013 &  7 & 14 & 1917 & 1829 & 2109 & 2135 & UA &  673 & N817UA & EWR & SNA & 274 & 2434 & 18 & 29 & 2013-07-14 18:00:00\\\\\n\t  74 &  34 & -40 & 2013 &  7 & 17 & 2004 & 1930 & 2224 & 2304 & UA & 1532 & N33284 & EWR & SFO & 295 & 2565 & 19 & 30 & 2013-07-17 19:00:00\\\\\n\t  73 &  31 & -42 & 2013 & 12 & 27 & 1719 & 1648 & 1956 & 2038 & UA & 1284 & N75433 & EWR & SFO & 324 & 2565 & 16 & 48 & 2013-12-27 16:00:00\\\\\n\t  73 &  -2 & -75 & 2013 &  5 &  2 & 1947 & 1949 & 2209 & 2324 & UA &  612 & N851UA & EWR & LAX & 300 & 2454 & 19 & 49 & 2013-05-02 19:00:00\\\\\n\t  72 &   9 & -63 & 2013 & 11 & 13 & 2024 & 2015 & 2251 & 2354 & DL &  427 & N188DN & JFK & LAX & 311 & 2475 & 20 & 15 & 2013-11-13 20:00:00\\\\\n\t  72 & -14 & -86 & 2013 &  5 &  7 & 1715 & 1729 & 1944 & 2110 & VX &  193 & N843VA & EWR & SFO & 315 & 2565 & 17 & 29 & 2013-05-07 17:00:00\\\\\n\t  72 &  19 & -53 & 2013 &  5 & 12 & 2019 & 2000 & 2241 & 2334 & UA & 1262 & N78524 & EWR & LAX & 296 & 2454 & 20 &  0 & 2013-05-12 20:00:00\\\\\n\t  71 &  39 & -32 & 2013 &  5 &  2 & 1949 & 1910 & 2208 & 2240 & AA &   21 & N339AA & JFK & LAX & 301 & 2475 & 19 & 10 & 2013-05-02 19:00:00\\\\\n\t  71 &  -4 & -75 & 2013 &  5 &  6 & 1826 & 1830 & 2045 & 2200 & AA &  269 & N3KCAA & JFK & SEA & 289 & 2422 & 18 & 30 & 2013-05-06 18:00:00\\\\\n\t  70 &   0 & -70 & 2013 &  2 & 26 & 1335 & 1335 & 1819 & 1929 & UA &   15 & N76065 & EWR & HNL & 566 & 4963 & 13 & 35 & 2013-02-26 13:00:00\\\\\n\t  70 & 368 & 298 & 2013 &  3 &  1 & 1528 &  920 & 1738 & 1240 & AA & 1589 & N437AA & EWR & DFW & 174 & 1372 &  9 & 20 & 2013-03-01 09:00:00\\\\\n\t  70 &  -3 & -73 & 2013 &  5 &  2 & 1926 & 1929 & 2157 & 2310 & UA & 1628 & N24212 & EWR & SFO & 314 & 2565 & 19 & 29 & 2013-05-02 19:00:00\\\\\n\t  70 &  -4 & -74 & 2013 &  5 &  4 & 1816 & 1820 & 2017 & 2131 & AS &    7 & N551AS & EWR & SEA & 281 & 2402 & 18 & 20 & 2013-05-04 18:00:00\\\\\n\t  70 &  -1 & -71 & 2013 &  5 &  7 & 2054 & 2055 & 2317 &   28 & UA &  622 & N806UA & EWR & SFO & 309 & 2565 & 20 & 55 & 2013-05-07 20:00:00\\\\\n\t  70 &  78 &   8 & 2013 &  7 & 13 & 1947 & 1829 & 2143 & 2135 & UA &  485 & N478UA & EWR & SNA & 279 & 2434 & 18 & 29 & 2013-07-13 18:00:00\\\\\n\t  70 & 131 &  61 & 2013 &  7 & 15 & 1921 & 1710 & 2106 & 2005 & AA &  257 & N621AA & JFK & LAS & 266 & 2248 & 17 & 10 & 2013-07-15 17:00:00\\\\\n\t  69 &  12 & -57 & 2013 &  1 &  3 & 1957 & 1945 & 2232 & 2329 & B6 &  645 & N793JB & JFK & SFO & 315 & 2586 & 19 & 45 & 2013-01-03 19:00:00\\\\\n\t  69 &  36 & -33 & 2013 &  2 & 24 &  936 &  900 & 1507 & 1540 & HA &   51 & N383HA & JFK & HNL & 612 & 4983 &  9 &  0 & 2013-02-24 09:00:00\\\\\n\t  69 &  24 & -45 & 2013 &  2 & 28 &  924 &  900 & 1455 & 1540 & HA &   51 & N380HA & JFK & HNL & 612 & 4983 &  9 &  0 & 2013-02-28 09:00:00\\\\\n\t  69 & 186 & 117 & 2013 &  5 &  6 & 1036 &  730 & 1302 & 1105 & VX &  183 & N842VA & EWR & SFO & 312 & 2565 &  7 & 30 & 2013-05-06 07:00:00\\\\\n\t  69 &  -2 & -71 & 2013 &  5 &  6 & 1753 & 1755 & 2004 & 2115 & DL & 1394 & N3760C & JFK & PDX & 283 & 2454 & 17 & 55 & 2013-05-06 17:00:00\\\\\n\t  69 &  15 & -54 & 2013 &  5 & 12 & 1744 & 1729 & 1948 & 2042 & UA &  752 & N540UA & EWR & LAX & 283 & 2454 & 17 & 29 & 2013-05-12 17:00:00\\\\\n\t  69 &  14 & -55 & 2013 &  5 & 13 & 2044 & 2030 & 2301 & 2356 & B6 &  677 & N805JB & JFK & LAX & 295 & 2475 & 20 & 30 & 2013-05-13 20:00:00\\\\\n\t  68 & 164 &  96 & 2013 &  3 &  1 & 1929 & 1645 & 2141 & 2005 & AA &  181 & N327AA & JFK & LAX & 289 & 2475 & 16 & 45 & 2013-03-01 16:00:00\\\\\n\t  68 &  -1 & -69 & 2013 &  5 &  4 & 1914 & 1915 & 2107 & 2216 & UA & 1557 & N36447 & EWR & LAS & 276 & 2227 & 19 & 15 & 2013-05-04 19:00:00\\\\\n\t ⋮ & ⋮ & ⋮ & ⋮ & ⋮ & ⋮ & ⋮ & ⋮ & ⋮ & ⋮ & ⋮ & ⋮ & ⋮ & ⋮ & ⋮ & ⋮ & ⋮ & ⋮ & ⋮ & ⋮\\\\\n\t NA &  NA & NA & 2013 & 9 & 25 &   NA & 1655 &   NA & 1840 & MQ & 3411 & N735MQ & LGA & RDU & NA &  431 & 16 & 55 & 2013-09-25 16:00:00\\\\\n\t NA &  NA & NA & 2013 & 9 & 25 &   NA & 1559 &   NA & 1719 & MQ & 3748 & N530MQ & EWR & ORD & NA &  719 & 15 & 59 & 2013-09-25 15:00:00\\\\\n\t NA &   2 & NA & 2013 & 9 & 26 & 1331 & 1329 & 1923 & 1813 & UA &   15 & N67052 & EWR & HNL & NA & 4963 & 13 & 29 & 2013-09-26 13:00:00\\\\\n\t NA &  NA & NA & 2013 & 9 & 26 &   NA &  915 &   NA & 1141 & EV & 5109 & N748EV & LGA & CHS & NA &  641 &  9 & 15 & 2013-09-26 09:00:00\\\\\n\t NA &  NA & NA & 2013 & 9 & 26 &   NA & 1400 &   NA & 1512 & US & 2183 & NA     & LGA & DCA & NA &  214 & 14 &  0 & 2013-09-26 14:00:00\\\\\n\t NA &  NA & NA & 2013 & 9 & 26 &   NA & 1240 &   NA & 1525 & WN & 4720 & N691WN & EWR & HOU & NA & 1411 & 12 & 40 & 2013-09-26 12:00:00\\\\\n\t NA &   3 & NA & 2013 & 9 & 27 & 1332 & 1329 & 1629 & 1509 & AA &  331 & N565AA & LGA & ORD & NA &  733 & 13 & 29 & 2013-09-27 13:00:00\\\\\n\t NA & 188 & NA & 2013 & 9 & 27 & 2253 & 1945 &   NA & 2146 & EV & 5306 & N605QX & LGA & GSO & NA &  461 & 19 & 45 & 2013-09-27 19:00:00\\\\\n\t NA &  NA & NA & 2013 & 9 & 27 &   NA &  600 &   NA &  730 & AA &  301 & N584AA & LGA & ORD & NA &  733 &  6 &  0 & 2013-09-27 06:00:00\\\\\n\t NA &  NA & NA & 2013 & 9 & 27 &   NA & 2100 &   NA & 2211 & US & 2164 & NA     & LGA & BOS & NA &  184 & 21 &  0 & 2013-09-27 21:00:00\\\\\n\t NA &  NA & NA & 2013 & 9 & 27 &   NA & 1329 &   NA & 1444 & MQ & 3760 & N505MQ & EWR & ORD & NA &  719 & 13 & 29 & 2013-09-27 13:00:00\\\\\n\t NA &  NA & NA & 2013 & 9 & 27 &   NA & 1600 &   NA & 1739 & UA &  269 & NA     & LGA & ORD & NA &  733 & 16 &  0 & 2013-09-27 16:00:00\\\\\n\t NA &  -5 & NA & 2013 & 9 & 28 &  555 &  600 &  953 &  753 & EV & 5068 & N133EV & EWR & DTW & NA &  488 &  6 &  0 & 2013-09-28 06:00:00\\\\\n\t NA &   8 & NA & 2013 & 9 & 28 &  847 &  839 & 1130 &  959 & EV & 4510 & N14542 & EWR & MKE & NA &  725 &  8 & 39 & 2013-09-28 08:00:00\\\\\n\t NA & -10 & NA & 2013 & 9 & 28 & 1010 & 1020 & 1344 & 1222 & EV & 4412 & N12175 & EWR & DSM & NA & 1017 & 10 & 20 & 2013-09-28 10:00:00\\\\\n\t NA & -11 & NA & 2013 & 9 & 28 & 1214 & 1225 & 1801 & 1510 & AA &  300 & N488AA & EWR & DFW & NA & 1372 & 12 & 25 & 2013-09-28 12:00:00\\\\\n\t NA &  NA & NA & 2013 & 9 & 28 &   NA & 1803 &   NA & 1927 & EV & 5563 & N724EV & LGA & BTV & NA &  258 & 18 &  3 & 2013-09-28 18:00:00\\\\\n\t NA &  NA & NA & 2013 & 9 & 28 &   NA &  910 &   NA & 1220 & AA &    1 & N320AA & JFK & LAX & NA & 2475 &  9 & 10 & 2013-09-28 09:00:00\\\\\n\t NA &  NA & NA & 2013 & 9 & 28 &   NA & 1635 &   NA & 1827 & US &  581 & NA     & EWR & CLT & NA &  529 & 16 & 35 & 2013-09-28 16:00:00\\\\\n\t NA &  23 & NA & 2013 & 9 & 29 & 1734 & 1711 & 2159 & 2020 & UA &  327 & N463UA & EWR & PDX & NA & 2434 & 17 & 11 & 2013-09-29 17:00:00\\\\\n\t NA &  NA & NA & 2013 & 9 & 29 &   NA & 2054 &   NA & 2302 & EV & 4536 & N13988 & EWR & CVG & NA &  569 & 20 & 54 & 2013-09-29 20:00:00\\\\\n\t NA &  NA & NA & 2013 & 9 & 29 &   NA & 1830 &   NA & 2010 & MQ & 3134 & N508MQ & EWR & ORD & NA &  719 & 18 & 30 & 2013-09-29 18:00:00\\\\\n\t NA &  NA & NA & 2013 & 9 & 29 &   NA &  700 &   NA &  833 & UA &  331 & NA     & LGA & ORD & NA &  733 &  7 &  0 & 2013-09-29 07:00:00\\\\\n\t NA &  -1 & NA & 2013 & 9 & 30 &  559 &  600 &   NA &  715 & WN &  464 & N411WN & EWR & MDW & NA &  711 &  6 &  0 & 2013-09-30 06:00:00\\\\\n\t NA &  NA & NA & 2013 & 9 & 30 &   NA & 1842 &   NA & 2019 & EV & 5274 & N740EV & LGA & BNA & NA &  764 & 18 & 42 & 2013-09-30 18:00:00\\\\\n\t NA &  NA & NA & 2013 & 9 & 30 &   NA & 1455 &   NA & 1634 & 9E & 3393 & NA     & JFK & DCA & NA &  213 & 14 & 55 & 2013-09-30 14:00:00\\\\\n\t NA &  NA & NA & 2013 & 9 & 30 &   NA & 2200 &   NA & 2312 & 9E & 3525 & NA     & LGA & SYR & NA &  198 & 22 &  0 & 2013-09-30 22:00:00\\\\\n\t NA &  NA & NA & 2013 & 9 & 30 &   NA & 1210 &   NA & 1330 & MQ & 3461 & N535MQ & LGA & BNA & NA &  764 & 12 & 10 & 2013-09-30 12:00:00\\\\\n\t NA &  NA & NA & 2013 & 9 & 30 &   NA & 1159 &   NA & 1344 & MQ & 3572 & N511MQ & LGA & CLE & NA &  419 & 11 & 59 & 2013-09-30 11:00:00\\\\\n\t NA &  NA & NA & 2013 & 9 & 30 &   NA &  840 &   NA & 1020 & MQ & 3531 & N839MQ & LGA & RDU & NA &  431 &  8 & 40 & 2013-09-30 08:00:00\\\\\n\\end{tabular}\n",
            "text/plain": [
              "       gain dep_delay arr_delay year month day dep_time sched_dep_time arr_time\n",
              "1      109  235       126       2013  6    13  1907     1512           2134    \n",
              "2       87   60       -27       2013  2    26  1000      900           1513    \n",
              "3       80  206       126       2013  2    23  1226      900           1746    \n",
              "4       79   17       -62       2013  5    13  1917     1900           2149    \n",
              "5       76   24       -52       2013  2    27   924      900           1448    \n",
              "6       74   48       -26       2013  7    14  1917     1829           2109    \n",
              "7       74   34       -40       2013  7    17  2004     1930           2224    \n",
              "8       73   31       -42       2013 12    27  1719     1648           1956    \n",
              "9       73   -2       -75       2013  5     2  1947     1949           2209    \n",
              "10      72    9       -63       2013 11    13  2024     2015           2251    \n",
              "11      72  -14       -86       2013  5     7  1715     1729           1944    \n",
              "12      72   19       -53       2013  5    12  2019     2000           2241    \n",
              "13      71   39       -32       2013  5     2  1949     1910           2208    \n",
              "14      71   -4       -75       2013  5     6  1826     1830           2045    \n",
              "15      70    0       -70       2013  2    26  1335     1335           1819    \n",
              "16      70  368       298       2013  3     1  1528      920           1738    \n",
              "17      70   -3       -73       2013  5     2  1926     1929           2157    \n",
              "18      70   -4       -74       2013  5     4  1816     1820           2017    \n",
              "19      70   -1       -71       2013  5     7  2054     2055           2317    \n",
              "20      70   78         8       2013  7    13  1947     1829           2143    \n",
              "21      70  131        61       2013  7    15  1921     1710           2106    \n",
              "22      69   12       -57       2013  1     3  1957     1945           2232    \n",
              "23      69   36       -33       2013  2    24   936      900           1507    \n",
              "24      69   24       -45       2013  2    28   924      900           1455    \n",
              "25      69  186       117       2013  5     6  1036      730           1302    \n",
              "26      69   -2       -71       2013  5     6  1753     1755           2004    \n",
              "27      69   15       -54       2013  5    12  1744     1729           1948    \n",
              "28      69   14       -55       2013  5    13  2044     2030           2301    \n",
              "29      68  164        96       2013  3     1  1929     1645           2141    \n",
              "30      68   -1       -69       2013  5     4  1914     1915           2107    \n",
              "⋮      ⋮    ⋮         ⋮         ⋮    ⋮     ⋮   ⋮        ⋮              ⋮       \n",
              "336747 NA    NA       NA        2013 9     25    NA     1655             NA    \n",
              "336748 NA    NA       NA        2013 9     25    NA     1559             NA    \n",
              "336749 NA     2       NA        2013 9     26  1331     1329           1923    \n",
              "336750 NA    NA       NA        2013 9     26    NA      915             NA    \n",
              "336751 NA    NA       NA        2013 9     26    NA     1400             NA    \n",
              "336752 NA    NA       NA        2013 9     26    NA     1240             NA    \n",
              "336753 NA     3       NA        2013 9     27  1332     1329           1629    \n",
              "336754 NA   188       NA        2013 9     27  2253     1945             NA    \n",
              "336755 NA    NA       NA        2013 9     27    NA      600             NA    \n",
              "336756 NA    NA       NA        2013 9     27    NA     2100             NA    \n",
              "336757 NA    NA       NA        2013 9     27    NA     1329             NA    \n",
              "336758 NA    NA       NA        2013 9     27    NA     1600             NA    \n",
              "336759 NA    -5       NA        2013 9     28   555      600            953    \n",
              "336760 NA     8       NA        2013 9     28   847      839           1130    \n",
              "336761 NA   -10       NA        2013 9     28  1010     1020           1344    \n",
              "336762 NA   -11       NA        2013 9     28  1214     1225           1801    \n",
              "336763 NA    NA       NA        2013 9     28    NA     1803             NA    \n",
              "336764 NA    NA       NA        2013 9     28    NA      910             NA    \n",
              "336765 NA    NA       NA        2013 9     28    NA     1635             NA    \n",
              "336766 NA    23       NA        2013 9     29  1734     1711           2159    \n",
              "336767 NA    NA       NA        2013 9     29    NA     2054             NA    \n",
              "336768 NA    NA       NA        2013 9     29    NA     1830             NA    \n",
              "336769 NA    NA       NA        2013 9     29    NA      700             NA    \n",
              "336770 NA    -1       NA        2013 9     30   559      600             NA    \n",
              "336771 NA    NA       NA        2013 9     30    NA     1842             NA    \n",
              "336772 NA    NA       NA        2013 9     30    NA     1455             NA    \n",
              "336773 NA    NA       NA        2013 9     30    NA     2200             NA    \n",
              "336774 NA    NA       NA        2013 9     30    NA     1210             NA    \n",
              "336775 NA    NA       NA        2013 9     30    NA     1159             NA    \n",
              "336776 NA    NA       NA        2013 9     30    NA      840             NA    \n",
              "       sched_arr_time carrier flight tailnum origin dest air_time distance hour\n",
              "1      1928           EV      4377   N19554  EWR    JAX  126       820     15  \n",
              "2      1540           HA        51   N382HA  JFK    HNL  584      4983      9  \n",
              "3      1540           HA        51   N389HA  JFK    HNL  599      4983      9  \n",
              "4      2251           DL      1465   N721TW  JFK    SFO  313      2586     19  \n",
              "5      1540           HA        51   N389HA  JFK    HNL  589      4983      9  \n",
              "6      2135           UA       673   N817UA  EWR    SNA  274      2434     18  \n",
              "7      2304           UA      1532   N33284  EWR    SFO  295      2565     19  \n",
              "8      2038           UA      1284   N75433  EWR    SFO  324      2565     16  \n",
              "9      2324           UA       612   N851UA  EWR    LAX  300      2454     19  \n",
              "10     2354           DL       427   N188DN  JFK    LAX  311      2475     20  \n",
              "11     2110           VX       193   N843VA  EWR    SFO  315      2565     17  \n",
              "12     2334           UA      1262   N78524  EWR    LAX  296      2454     20  \n",
              "13     2240           AA        21   N339AA  JFK    LAX  301      2475     19  \n",
              "14     2200           AA       269   N3KCAA  JFK    SEA  289      2422     18  \n",
              "15     1929           UA        15   N76065  EWR    HNL  566      4963     13  \n",
              "16     1240           AA      1589   N437AA  EWR    DFW  174      1372      9  \n",
              "17     2310           UA      1628   N24212  EWR    SFO  314      2565     19  \n",
              "18     2131           AS         7   N551AS  EWR    SEA  281      2402     18  \n",
              "19       28           UA       622   N806UA  EWR    SFO  309      2565     20  \n",
              "20     2135           UA       485   N478UA  EWR    SNA  279      2434     18  \n",
              "21     2005           AA       257   N621AA  JFK    LAS  266      2248     17  \n",
              "22     2329           B6       645   N793JB  JFK    SFO  315      2586     19  \n",
              "23     1540           HA        51   N383HA  JFK    HNL  612      4983      9  \n",
              "24     1540           HA        51   N380HA  JFK    HNL  612      4983      9  \n",
              "25     1105           VX       183   N842VA  EWR    SFO  312      2565      7  \n",
              "26     2115           DL      1394   N3760C  JFK    PDX  283      2454     17  \n",
              "27     2042           UA       752   N540UA  EWR    LAX  283      2454     17  \n",
              "28     2356           B6       677   N805JB  JFK    LAX  295      2475     20  \n",
              "29     2005           AA       181   N327AA  JFK    LAX  289      2475     16  \n",
              "30     2216           UA      1557   N36447  EWR    LAS  276      2227     19  \n",
              "⋮      ⋮              ⋮       ⋮      ⋮       ⋮      ⋮    ⋮        ⋮        ⋮   \n",
              "336747 1840           MQ      3411   N735MQ  LGA    RDU  NA        431     16  \n",
              "336748 1719           MQ      3748   N530MQ  EWR    ORD  NA        719     15  \n",
              "336749 1813           UA        15   N67052  EWR    HNL  NA       4963     13  \n",
              "336750 1141           EV      5109   N748EV  LGA    CHS  NA        641      9  \n",
              "336751 1512           US      2183   NA      LGA    DCA  NA        214     14  \n",
              "336752 1525           WN      4720   N691WN  EWR    HOU  NA       1411     12  \n",
              "336753 1509           AA       331   N565AA  LGA    ORD  NA        733     13  \n",
              "336754 2146           EV      5306   N605QX  LGA    GSO  NA        461     19  \n",
              "336755  730           AA       301   N584AA  LGA    ORD  NA        733      6  \n",
              "336756 2211           US      2164   NA      LGA    BOS  NA        184     21  \n",
              "336757 1444           MQ      3760   N505MQ  EWR    ORD  NA        719     13  \n",
              "336758 1739           UA       269   NA      LGA    ORD  NA        733     16  \n",
              "336759  753           EV      5068   N133EV  EWR    DTW  NA        488      6  \n",
              "336760  959           EV      4510   N14542  EWR    MKE  NA        725      8  \n",
              "336761 1222           EV      4412   N12175  EWR    DSM  NA       1017     10  \n",
              "336762 1510           AA       300   N488AA  EWR    DFW  NA       1372     12  \n",
              "336763 1927           EV      5563   N724EV  LGA    BTV  NA        258     18  \n",
              "336764 1220           AA         1   N320AA  JFK    LAX  NA       2475      9  \n",
              "336765 1827           US       581   NA      EWR    CLT  NA        529     16  \n",
              "336766 2020           UA       327   N463UA  EWR    PDX  NA       2434     17  \n",
              "336767 2302           EV      4536   N13988  EWR    CVG  NA        569     20  \n",
              "336768 2010           MQ      3134   N508MQ  EWR    ORD  NA        719     18  \n",
              "336769  833           UA       331   NA      LGA    ORD  NA        733      7  \n",
              "336770  715           WN       464   N411WN  EWR    MDW  NA        711      6  \n",
              "336771 2019           EV      5274   N740EV  LGA    BNA  NA        764     18  \n",
              "336772 1634           9E      3393   NA      JFK    DCA  NA        213     14  \n",
              "336773 2312           9E      3525   NA      LGA    SYR  NA        198     22  \n",
              "336774 1330           MQ      3461   N535MQ  LGA    BNA  NA        764     12  \n",
              "336775 1344           MQ      3572   N511MQ  LGA    CLE  NA        419     11  \n",
              "336776 1020           MQ      3531   N839MQ  LGA    RDU  NA        431      8  \n",
              "       minute time_hour          \n",
              "1      12     2013-06-13 15:00:00\n",
              "2       0     2013-02-26 09:00:00\n",
              "3       0     2013-02-23 09:00:00\n",
              "4       0     2013-05-13 19:00:00\n",
              "5       0     2013-02-27 09:00:00\n",
              "6      29     2013-07-14 18:00:00\n",
              "7      30     2013-07-17 19:00:00\n",
              "8      48     2013-12-27 16:00:00\n",
              "9      49     2013-05-02 19:00:00\n",
              "10     15     2013-11-13 20:00:00\n",
              "11     29     2013-05-07 17:00:00\n",
              "12      0     2013-05-12 20:00:00\n",
              "13     10     2013-05-02 19:00:00\n",
              "14     30     2013-05-06 18:00:00\n",
              "15     35     2013-02-26 13:00:00\n",
              "16     20     2013-03-01 09:00:00\n",
              "17     29     2013-05-02 19:00:00\n",
              "18     20     2013-05-04 18:00:00\n",
              "19     55     2013-05-07 20:00:00\n",
              "20     29     2013-07-13 18:00:00\n",
              "21     10     2013-07-15 17:00:00\n",
              "22     45     2013-01-03 19:00:00\n",
              "23      0     2013-02-24 09:00:00\n",
              "24      0     2013-02-28 09:00:00\n",
              "25     30     2013-05-06 07:00:00\n",
              "26     55     2013-05-06 17:00:00\n",
              "27     29     2013-05-12 17:00:00\n",
              "28     30     2013-05-13 20:00:00\n",
              "29     45     2013-03-01 16:00:00\n",
              "30     15     2013-05-04 19:00:00\n",
              "⋮      ⋮      ⋮                  \n",
              "336747 55     2013-09-25 16:00:00\n",
              "336748 59     2013-09-25 15:00:00\n",
              "336749 29     2013-09-26 13:00:00\n",
              "336750 15     2013-09-26 09:00:00\n",
              "336751  0     2013-09-26 14:00:00\n",
              "336752 40     2013-09-26 12:00:00\n",
              "336753 29     2013-09-27 13:00:00\n",
              "336754 45     2013-09-27 19:00:00\n",
              "336755  0     2013-09-27 06:00:00\n",
              "336756  0     2013-09-27 21:00:00\n",
              "336757 29     2013-09-27 13:00:00\n",
              "336758  0     2013-09-27 16:00:00\n",
              "336759  0     2013-09-28 06:00:00\n",
              "336760 39     2013-09-28 08:00:00\n",
              "336761 20     2013-09-28 10:00:00\n",
              "336762 25     2013-09-28 12:00:00\n",
              "336763  3     2013-09-28 18:00:00\n",
              "336764 10     2013-09-28 09:00:00\n",
              "336765 35     2013-09-28 16:00:00\n",
              "336766 11     2013-09-29 17:00:00\n",
              "336767 54     2013-09-29 20:00:00\n",
              "336768 30     2013-09-29 18:00:00\n",
              "336769  0     2013-09-29 07:00:00\n",
              "336770  0     2013-09-30 06:00:00\n",
              "336771 42     2013-09-30 18:00:00\n",
              "336772 55     2013-09-30 14:00:00\n",
              "336773  0     2013-09-30 22:00:00\n",
              "336774 10     2013-09-30 12:00:00\n",
              "336775 59     2013-09-30 11:00:00\n",
              "336776 40     2013-09-30 08:00:00"
            ]
          },
          "metadata": {}
        }
      ],
      "source": [
        "# sort mtcars by cyl, then group, then mutate\n",
        "arrange(\n",
        "  select(\n",
        "    mutate(flights,gain=dep_delay-arr_delay),\n",
        "    gain, dep_delay, arr_delay,everything()),\n",
        "  desc(gain)) # SELECT MOVES THINGS AROUND "
      ]
    },
    {
      "cell_type": "markdown",
      "metadata": {
        "id": "tWV546sLpL0S"
      },
      "source": [
        "This is not very nice. To figure out what the command is doing you have to work from the inside out, which is not the order in which we are accustomed to reading. A slight improvement might be:"
      ]
    },
    {
      "cell_type": "code",
      "execution_count": null,
      "metadata": {
        "id": "2qpU4127pL0S"
      },
      "outputs": [],
      "source": [
        "# sort mtcars by cyl, then group, then mutate, using intermediates"
      ]
    },
    {
      "cell_type": "markdown",
      "metadata": {
        "id": "967ADBZXpL0S"
      },
      "source": [
        "This is better, but now you've created a bunch of useless temporary variables, and it requires a lot of typing. \n",
        "Instead, we are going to use a new operator `%>%` (prounouced \"pipe\"):"
      ]
    },
    {
      "cell_type": "code",
      "execution_count": null,
      "metadata": {
        "id": "qQMyoF3apL0S"
      },
      "outputs": [],
      "source": [
        "# sort mtcars by cyl, then group, then mutate, using pipes\n",
        "mutate(flights,gain=dep_delay-arr_delay) %>% \n",
        "  select(gain,dep_delay,arr_delay,everything()) %>% \n",
        "    arrange(desc(gain)) \n",
        "    # NOTE: PIPING IS SO COOL! DON'T NEED TO WORRY ABOUT NESTED FUNCTIONS"
      ]
    },
    {
      "cell_type": "code",
      "source": [
        "new_df1=mutate(flights,gain=dep_delay-arr_delay)\n",
        "new_df2=select(new_df1,gain,dep_delay,arr_delay,everything())\n",
        "new_df3=arrange(new_df2,desc(gain))\n",
        "print(new_df2)\n",
        "# NOTE: these r the step by step. makes more logical sense, is more intuitive. \n",
        "# but biggest disadvantage of doing this is that you're wasting memory."
      ],
      "metadata": {
        "colab": {
          "base_uri": "https://localhost:8080/"
        },
        "id": "ZJi8uKo11kz3",
        "outputId": "8a0a5025-6aa4-4327-efe5-4c3d61d385d8"
      },
      "execution_count": 78,
      "outputs": [
        {
          "output_type": "stream",
          "name": "stdout",
          "text": [
            "\u001b[90m# A tibble: 336,776 × 20\u001b[39m\n",
            "    gain dep_delay arr_delay  year month   day dep_time sched_…¹ arr_t…² sched…³\n",
            "   \u001b[3m\u001b[90m<dbl>\u001b[39m\u001b[23m     \u001b[3m\u001b[90m<dbl>\u001b[39m\u001b[23m     \u001b[3m\u001b[90m<dbl>\u001b[39m\u001b[23m \u001b[3m\u001b[90m<int>\u001b[39m\u001b[23m \u001b[3m\u001b[90m<int>\u001b[39m\u001b[23m \u001b[3m\u001b[90m<int>\u001b[39m\u001b[23m    \u001b[3m\u001b[90m<int>\u001b[39m\u001b[23m    \u001b[3m\u001b[90m<int>\u001b[39m\u001b[23m   \u001b[3m\u001b[90m<int>\u001b[39m\u001b[23m   \u001b[3m\u001b[90m<int>\u001b[39m\u001b[23m\n",
            "\u001b[90m 1\u001b[39m    -\u001b[31m9\u001b[39m         2        11  \u001b[4m2\u001b[24m013     1     1      517      515     830     819\n",
            "\u001b[90m 2\u001b[39m   -\u001b[31m16\u001b[39m         4        20  \u001b[4m2\u001b[24m013     1     1      533      529     850     830\n",
            "\u001b[90m 3\u001b[39m   -\u001b[31m31\u001b[39m         2        33  \u001b[4m2\u001b[24m013     1     1      542      540     923     850\n",
            "\u001b[90m 4\u001b[39m    17        -\u001b[31m1\u001b[39m       -\u001b[31m18\u001b[39m  \u001b[4m2\u001b[24m013     1     1      544      545    \u001b[4m1\u001b[24m004    \u001b[4m1\u001b[24m022\n",
            "\u001b[90m 5\u001b[39m    19        -\u001b[31m6\u001b[39m       -\u001b[31m25\u001b[39m  \u001b[4m2\u001b[24m013     1     1      554      600     812     837\n",
            "\u001b[90m 6\u001b[39m   -\u001b[31m16\u001b[39m        -\u001b[31m4\u001b[39m        12  \u001b[4m2\u001b[24m013     1     1      554      558     740     728\n",
            "\u001b[90m 7\u001b[39m   -\u001b[31m24\u001b[39m        -\u001b[31m5\u001b[39m        19  \u001b[4m2\u001b[24m013     1     1      555      600     913     854\n",
            "\u001b[90m 8\u001b[39m    11        -\u001b[31m3\u001b[39m       -\u001b[31m14\u001b[39m  \u001b[4m2\u001b[24m013     1     1      557      600     709     723\n",
            "\u001b[90m 9\u001b[39m     5        -\u001b[31m3\u001b[39m        -\u001b[31m8\u001b[39m  \u001b[4m2\u001b[24m013     1     1      557      600     838     846\n",
            "\u001b[90m10\u001b[39m   -\u001b[31m10\u001b[39m        -\u001b[31m2\u001b[39m         8  \u001b[4m2\u001b[24m013     1     1      558      600     753     745\n",
            "\u001b[90m# … with 336,766 more rows, 10 more variables: carrier <chr>, flight <int>,\u001b[39m\n",
            "\u001b[90m#   tailnum <chr>, origin <chr>, dest <chr>, air_time <dbl>, distance <dbl>,\u001b[39m\n",
            "\u001b[90m#   hour <dbl>, minute <dbl>, time_hour <dttm>, and abbreviated variable names\u001b[39m\n",
            "\u001b[90m#   ¹​sched_dep_time, ²​arr_time, ³​sched_arr_time\u001b[39m\n"
          ]
        }
      ]
    },
    {
      "cell_type": "markdown",
      "metadata": {
        "id": "PJHrnCP3pL0S"
      },
      "source": [
        "This is much better. We can read the command from left to right and know exactly what is going on."
      ]
    },
    {
      "cell_type": "markdown",
      "metadata": {
        "id": "YrUvRHDopL0T"
      },
      "source": [
        "## Column operation #3: `summarize()`ing data\n",
        "\n",
        "`summarize()` can be used to summarize entire data frames by collapsing them into single number summaries. The syntax is:\n",
        "\n",
        "    summarize(<grouped data frame>, \n",
        "              <new variable> = <formula for new variable>,\n",
        "              <other new variable> = <other formula>)"
      ]
    },
    {
      "cell_type": "markdown",
      "metadata": {
        "id": "wJWz62tVpL0T"
      },
      "source": [
        "The most basic use of summarize is to compute statistics over the whole data set:"
      ]
    },
    {
      "cell_type": "code",
      "execution_count": 81,
      "metadata": {
        "id": "x_xIGPxvpL0U",
        "colab": {
          "base_uri": "https://localhost:8080/",
          "height": 129
        },
        "outputId": "a18a332b-822b-4520-c5a7-16f779cec71c"
      },
      "outputs": [
        {
          "output_type": "display_data",
          "data": {
            "text/html": [
              "<table class=\"dataframe\">\n",
              "<caption>A tibble: 1 × 1</caption>\n",
              "<thead>\n",
              "\t<tr><th scope=col>mean(dep_delay)</th></tr>\n",
              "\t<tr><th scope=col>&lt;dbl&gt;</th></tr>\n",
              "</thead>\n",
              "<tbody>\n",
              "\t<tr><td>NA</td></tr>\n",
              "</tbody>\n",
              "</table>\n"
            ],
            "text/markdown": "\nA tibble: 1 × 1\n\n| mean(dep_delay) &lt;dbl&gt; |\n|---|\n| NA |\n\n",
            "text/latex": "A tibble: 1 × 1\n\\begin{tabular}{l}\n mean(dep\\_delay)\\\\\n <dbl>\\\\\n\\hline\n\t NA\\\\\n\\end{tabular}\n",
            "text/plain": [
              "  mean(dep_delay)\n",
              "1 NA             "
            ]
          },
          "metadata": {}
        }
      ],
      "source": [
        "# summarize flights by mean of departure delay\n",
        "summarize(flights,mean(dep_delay))\n",
        "# anything that NA touches becomes NA "
      ]
    },
    {
      "cell_type": "code",
      "source": [
        "# you could give the column a name\n",
        "summarize(flights,mean_dep_delay=mean(dep_delay))"
      ],
      "metadata": {
        "colab": {
          "base_uri": "https://localhost:8080/",
          "height": 129
        },
        "id": "xpKL_sH62-J8",
        "outputId": "69efb0e9-9dff-49c1-c409-a5ffdc5e1bc1"
      },
      "execution_count": 83,
      "outputs": [
        {
          "output_type": "display_data",
          "data": {
            "text/html": [
              "<table class=\"dataframe\">\n",
              "<caption>A tibble: 1 × 1</caption>\n",
              "<thead>\n",
              "\t<tr><th scope=col>mean_dep_delay</th></tr>\n",
              "\t<tr><th scope=col>&lt;dbl&gt;</th></tr>\n",
              "</thead>\n",
              "<tbody>\n",
              "\t<tr><td>NA</td></tr>\n",
              "</tbody>\n",
              "</table>\n"
            ],
            "text/markdown": "\nA tibble: 1 × 1\n\n| mean_dep_delay &lt;dbl&gt; |\n|---|\n| NA |\n\n",
            "text/latex": "A tibble: 1 × 1\n\\begin{tabular}{l}\n mean\\_dep\\_delay\\\\\n <dbl>\\\\\n\\hline\n\t NA\\\\\n\\end{tabular}\n",
            "text/plain": [
              "  mean_dep_delay\n",
              "1 NA            "
            ]
          },
          "metadata": {}
        }
      ]
    },
    {
      "cell_type": "code",
      "source": [
        "summarize(flights,mean(dep_delay,na.rm=T)) #NA REMOVE IS TRUE"
      ],
      "metadata": {
        "colab": {
          "base_uri": "https://localhost:8080/",
          "height": 129
        },
        "id": "QhePfjnT3IIN",
        "outputId": "d348c5d9-96c3-4bc0-f311-e878aef9f966"
      },
      "execution_count": 82,
      "outputs": [
        {
          "output_type": "display_data",
          "data": {
            "text/html": [
              "<table class=\"dataframe\">\n",
              "<caption>A tibble: 1 × 1</caption>\n",
              "<thead>\n",
              "\t<tr><th scope=col>mean(dep_delay, na.rm = T)</th></tr>\n",
              "\t<tr><th scope=col>&lt;dbl&gt;</th></tr>\n",
              "</thead>\n",
              "<tbody>\n",
              "\t<tr><td>12.63907</td></tr>\n",
              "</tbody>\n",
              "</table>\n"
            ],
            "text/markdown": "\nA tibble: 1 × 1\n\n| mean(dep_delay, na.rm = T) &lt;dbl&gt; |\n|---|\n| 12.63907 |\n\n",
            "text/latex": "A tibble: 1 × 1\n\\begin{tabular}{l}\n mean(dep\\_delay, na.rm = T)\\\\\n <dbl>\\\\\n\\hline\n\t 12.63907\\\\\n\\end{tabular}\n",
            "text/plain": [
              "  mean(dep_delay, na.rm = T)\n",
              "1 12.63907                  "
            ]
          },
          "metadata": {}
        }
      ]
    },
    {
      "cell_type": "markdown",
      "metadata": {
        "id": "yEsCanaPpL0U"
      },
      "source": [
        "`summarize()` applies a summary function to each group of data. Remember that it always returns **one row per group**. In the above example, there was only one group (the whole data set), so the resulting data frame had only one row."
      ]
    },
    {
      "cell_type": "markdown",
      "metadata": {
        "id": "2X0f0-dypL0V"
      },
      "source": [
        "### Grouping observations\n",
        "`summarize()` is most useful when combined with `group_by()` to group observations before calculating the summary statistic. Let's summarize flights by the mean departure delay in each month."
      ]
    },
    {
      "cell_type": "code",
      "execution_count": 85,
      "metadata": {
        "id": "RuJ5HBb3pL0V",
        "colab": {
          "base_uri": "https://localhost:8080/"
        },
        "outputId": "f3892071-1b05-4406-83dd-feac5238b5f5"
      },
      "outputs": [
        {
          "output_type": "stream",
          "name": "stdout",
          "text": [
            "\u001b[90m# A tibble: 3 × 2\u001b[39m\n",
            "    cyl mean_mpg\n",
            "  \u001b[3m\u001b[90m<dbl>\u001b[39m\u001b[23m    \u001b[3m\u001b[90m<dbl>\u001b[39m\u001b[23m\n",
            "\u001b[90m1\u001b[39m     4     26.7\n",
            "\u001b[90m2\u001b[39m     6     19.7\n",
            "\u001b[90m3\u001b[39m     8     15.1\n"
          ]
        }
      ],
      "source": [
        "# summarize average departure delay by month.\n",
        "group_by(mtcars,cyl)%>%\n",
        "  summarize(mean_mpg=mean(mpg))%>% \n",
        "  print"
      ]
    },
    {
      "cell_type": "markdown",
      "metadata": {
        "id": "az1l2CBDpL0W"
      },
      "source": [
        "### Example: counting the number of rows\n",
        "The `n()` function calculates the number of rows in each group:"
      ]
    },
    {
      "cell_type": "code",
      "execution_count": null,
      "metadata": {
        "id": "o1unSfmapL0W"
      },
      "outputs": [],
      "source": [
        "# count the number of rows in flights for each month"
      ]
    },
    {
      "cell_type": "markdown",
      "metadata": {
        "id": "uNCItANNpL0W"
      },
      "source": [
        "### A shortcut\n",
        "`summarize(n = n())` occurs so often that there is a shortcut for it:"
      ]
    },
    {
      "cell_type": "code",
      "execution_count": 87,
      "metadata": {
        "id": "E-wqOhhXpL0X",
        "colab": {
          "base_uri": "https://localhost:8080/",
          "height": 210
        },
        "outputId": "dfd45c01-6037-40a5-99b9-c93a2287b427"
      },
      "outputs": [
        {
          "output_type": "display_data",
          "data": {
            "text/html": [
              "<table class=\"dataframe\">\n",
              "<caption>A data.frame: 3 × 2</caption>\n",
              "<thead>\n",
              "\t<tr><th scope=col>cyl</th><th scope=col>n</th></tr>\n",
              "\t<tr><th scope=col>&lt;dbl&gt;</th><th scope=col>&lt;int&gt;</th></tr>\n",
              "</thead>\n",
              "<tbody>\n",
              "\t<tr><td>4</td><td>11</td></tr>\n",
              "\t<tr><td>6</td><td> 7</td></tr>\n",
              "\t<tr><td>8</td><td>14</td></tr>\n",
              "</tbody>\n",
              "</table>\n"
            ],
            "text/markdown": "\nA data.frame: 3 × 2\n\n| cyl &lt;dbl&gt; | n &lt;int&gt; |\n|---|---|\n| 4 | 11 |\n| 6 |  7 |\n| 8 | 14 |\n\n",
            "text/latex": "A data.frame: 3 × 2\n\\begin{tabular}{ll}\n cyl & n\\\\\n <dbl> & <int>\\\\\n\\hline\n\t 4 & 11\\\\\n\t 6 &  7\\\\\n\t 8 & 14\\\\\n\\end{tabular}\n",
            "text/plain": [
              "  cyl n \n",
              "1 4   11\n",
              "2 6    7\n",
              "3 8   14"
            ]
          },
          "metadata": {}
        }
      ],
      "source": [
        "# use count() instead of group_by or summarize\n",
        "count(mtcars,cyl) \n",
        "# NOTE: count w/o the cyl gives u total no of obs. but now, gives u the count per cyl value. the distinct values & the total count for each value."
      ]
    },
    {
      "cell_type": "markdown",
      "metadata": {
        "id": "p9HbTgMKpL0X"
      },
      "source": [
        "Let's think about how to answer the following question using `summarize`:"
      ]
    },
    {
      "cell_type": "markdown",
      "metadata": {
        "id": "-ZVZTPK5pL0X"
      },
      "source": [
        "## What days of the year / at what airport are the busiest for flying?"
      ]
    },
    {
      "cell_type": "markdown",
      "metadata": {
        "id": "RkAh1pjHpL0X"
      },
      "source": [
        "To figure this out, I like to think about/visualize the table we would want to have in order to easily answer this question. Ideally, it would look something like this:"
      ]
    },
    {
      "cell_type": "markdown",
      "metadata": {
        "id": "_YhNRi1SpL0X"
      },
      "source": [
        "    # A tibble: 1,095 x 4\n",
        "       month   day airport       n_departures\n",
        "       <int> <int> <chr>                <int>\n",
        "     1     1     1 EWR                    305\n",
        "     2     1     1 JFK                    297\n",
        "     3     1     1 LGA                    240\n",
        "     4     1     2 EWR                    350\n",
        "     5     1     2 JFK                    321\n",
        "     6     1     2 LGA                    272\n",
        "     7     1     3 EWR                    336\n",
        "     8     1     3 JFK                    318\n",
        "     9     1     3 LGA                    260\n",
        "    10     1     4 EWR                    339\n",
        "    # … with 1,085 more rows"
      ]
    },
    {
      "cell_type": "markdown",
      "metadata": {
        "id": "wVypmKs3pL0Y"
      },
      "source": [
        "Then, to get the answer, I could sort the table to find the row that had the largest `n_departures`.\n",
        "\n",
        "How do I reach the table shown above? There is one row per ... what? (This tells me how to group the data.)"
      ]
    },
    {
      "cell_type": "code",
      "execution_count": 90,
      "metadata": {
        "id": "a2EHEZg6pL0Y",
        "colab": {
          "base_uri": "https://localhost:8080/"
        },
        "outputId": "af95a3a7-0a5f-4672-aaf7-e20c2fc6f50d"
      },
      "outputs": [
        {
          "output_type": "stream",
          "name": "stderr",
          "text": [
            "\u001b[1m\u001b[22m`summarise()` has grouped output by 'month', 'day'. You can override using the\n",
            "`.groups` argument.\n"
          ]
        },
        {
          "output_type": "stream",
          "name": "stdout",
          "text": [
            "\u001b[90m# A tibble: 1,095 × 4\u001b[39m\n",
            "\u001b[90m# Groups:   month, day [365]\u001b[39m\n",
            "   month   day origin     n\n",
            "   \u001b[3m\u001b[90m<int>\u001b[39m\u001b[23m \u001b[3m\u001b[90m<int>\u001b[39m\u001b[23m \u001b[3m\u001b[90m<chr>\u001b[39m\u001b[23m  \u001b[3m\u001b[90m<int>\u001b[39m\u001b[23m\n",
            "\u001b[90m 1\u001b[39m     1     1 EWR      305\n",
            "\u001b[90m 2\u001b[39m     1     1 JFK      297\n",
            "\u001b[90m 3\u001b[39m     1     1 LGA      240\n",
            "\u001b[90m 4\u001b[39m     1     2 EWR      350\n",
            "\u001b[90m 5\u001b[39m     1     2 JFK      321\n",
            "\u001b[90m 6\u001b[39m     1     2 LGA      272\n",
            "\u001b[90m 7\u001b[39m     1     3 EWR      336\n",
            "\u001b[90m 8\u001b[39m     1     3 JFK      318\n",
            "\u001b[90m 9\u001b[39m     1     3 LGA      260\n",
            "\u001b[90m10\u001b[39m     1     4 EWR      339\n",
            "\u001b[90m# … with 1,085 more rows\u001b[39m\n"
          ]
        }
      ],
      "source": [
        "# summarize flights to get number of departures by day and by airport.\n",
        "group_by(flights,month,day,origin) %>% \n",
        "  summarize(n=n()) %>% \n",
        "    print"
      ]
    },
    {
      "cell_type": "markdown",
      "metadata": {
        "id": "Z1rXDfJRpL0Y"
      },
      "source": [
        "Here is another question we can answer:"
      ]
    },
    {
      "cell_type": "markdown",
      "metadata": {
        "id": "mG3rO40vpL0Z"
      },
      "source": [
        "## Who is the greatest (baseball) batter of all time?\n",
        "The `Lahman` dataset contains information on baseball players."
      ]
    },
    {
      "cell_type": "code",
      "source": [
        "install.packages(\"Lahman\")"
      ],
      "metadata": {
        "colab": {
          "base_uri": "https://localhost:8080/"
        },
        "id": "nwZX4WPx4nY0",
        "outputId": "67200dd9-8ead-48e9-c94a-e8ca6b9e2e20"
      },
      "execution_count": 91,
      "outputs": [
        {
          "output_type": "stream",
          "name": "stderr",
          "text": [
            "Installing package into ‘/usr/local/lib/R/site-library’\n",
            "(as ‘lib’ is unspecified)\n",
            "\n"
          ]
        }
      ]
    },
    {
      "cell_type": "code",
      "execution_count": 92,
      "metadata": {
        "id": "Z7XyvTuRpL0Z",
        "outputId": "769d0111-0b7a-4e19-b5e7-ff73af0539ca",
        "colab": {
          "base_uri": "https://localhost:8080/",
          "height": 286
        }
      },
      "outputs": [
        {
          "output_type": "display_data",
          "data": {
            "text/html": [
              "<table class=\"dataframe\">\n",
              "<caption>A tibble: 6 × 22</caption>\n",
              "<thead>\n",
              "\t<tr><th scope=col>playerID</th><th scope=col>yearID</th><th scope=col>stint</th><th scope=col>teamID</th><th scope=col>lgID</th><th scope=col>G</th><th scope=col>AB</th><th scope=col>R</th><th scope=col>H</th><th scope=col>X2B</th><th scope=col>⋯</th><th scope=col>RBI</th><th scope=col>SB</th><th scope=col>CS</th><th scope=col>BB</th><th scope=col>SO</th><th scope=col>IBB</th><th scope=col>HBP</th><th scope=col>SH</th><th scope=col>SF</th><th scope=col>GIDP</th></tr>\n",
              "\t<tr><th scope=col>&lt;chr&gt;</th><th scope=col>&lt;int&gt;</th><th scope=col>&lt;int&gt;</th><th scope=col>&lt;fct&gt;</th><th scope=col>&lt;fct&gt;</th><th scope=col>&lt;int&gt;</th><th scope=col>&lt;int&gt;</th><th scope=col>&lt;int&gt;</th><th scope=col>&lt;int&gt;</th><th scope=col>&lt;int&gt;</th><th scope=col>⋯</th><th scope=col>&lt;int&gt;</th><th scope=col>&lt;int&gt;</th><th scope=col>&lt;int&gt;</th><th scope=col>&lt;int&gt;</th><th scope=col>&lt;int&gt;</th><th scope=col>&lt;int&gt;</th><th scope=col>&lt;int&gt;</th><th scope=col>&lt;int&gt;</th><th scope=col>&lt;int&gt;</th><th scope=col>&lt;int&gt;</th></tr>\n",
              "</thead>\n",
              "<tbody>\n",
              "\t<tr><td>abercda01</td><td>1871</td><td>1</td><td>TRO</td><td>NA</td><td> 1</td><td>  4</td><td> 0</td><td> 0</td><td> 0</td><td>⋯</td><td> 0</td><td>0</td><td>0</td><td>0</td><td>0</td><td>NA</td><td>NA</td><td>NA</td><td>NA</td><td>0</td></tr>\n",
              "\t<tr><td>addybo01 </td><td>1871</td><td>1</td><td>RC1</td><td>NA</td><td>25</td><td>118</td><td>30</td><td>32</td><td> 6</td><td>⋯</td><td>13</td><td>8</td><td>1</td><td>4</td><td>0</td><td>NA</td><td>NA</td><td>NA</td><td>NA</td><td>0</td></tr>\n",
              "\t<tr><td>allisar01</td><td>1871</td><td>1</td><td>CL1</td><td>NA</td><td>29</td><td>137</td><td>28</td><td>40</td><td> 4</td><td>⋯</td><td>19</td><td>3</td><td>1</td><td>2</td><td>5</td><td>NA</td><td>NA</td><td>NA</td><td>NA</td><td>1</td></tr>\n",
              "\t<tr><td>allisdo01</td><td>1871</td><td>1</td><td>WS3</td><td>NA</td><td>27</td><td>133</td><td>28</td><td>44</td><td>10</td><td>⋯</td><td>27</td><td>1</td><td>1</td><td>0</td><td>2</td><td>NA</td><td>NA</td><td>NA</td><td>NA</td><td>0</td></tr>\n",
              "\t<tr><td>ansonca01</td><td>1871</td><td>1</td><td>RC1</td><td>NA</td><td>25</td><td>120</td><td>29</td><td>39</td><td>11</td><td>⋯</td><td>16</td><td>6</td><td>2</td><td>2</td><td>1</td><td>NA</td><td>NA</td><td>NA</td><td>NA</td><td>0</td></tr>\n",
              "\t<tr><td>armstbo01</td><td>1871</td><td>1</td><td>FW1</td><td>NA</td><td>12</td><td> 49</td><td> 9</td><td>11</td><td> 2</td><td>⋯</td><td> 5</td><td>0</td><td>1</td><td>0</td><td>1</td><td>NA</td><td>NA</td><td>NA</td><td>NA</td><td>0</td></tr>\n",
              "</tbody>\n",
              "</table>\n"
            ],
            "text/markdown": "\nA tibble: 6 × 22\n\n| playerID &lt;chr&gt; | yearID &lt;int&gt; | stint &lt;int&gt; | teamID &lt;fct&gt; | lgID &lt;fct&gt; | G &lt;int&gt; | AB &lt;int&gt; | R &lt;int&gt; | H &lt;int&gt; | X2B &lt;int&gt; | ⋯ ⋯ | RBI &lt;int&gt; | SB &lt;int&gt; | CS &lt;int&gt; | BB &lt;int&gt; | SO &lt;int&gt; | IBB &lt;int&gt; | HBP &lt;int&gt; | SH &lt;int&gt; | SF &lt;int&gt; | GIDP &lt;int&gt; |\n|---|---|---|---|---|---|---|---|---|---|---|---|---|---|---|---|---|---|---|---|---|\n| abercda01 | 1871 | 1 | TRO | NA |  1 |   4 |  0 |  0 |  0 | ⋯ |  0 | 0 | 0 | 0 | 0 | NA | NA | NA | NA | 0 |\n| addybo01  | 1871 | 1 | RC1 | NA | 25 | 118 | 30 | 32 |  6 | ⋯ | 13 | 8 | 1 | 4 | 0 | NA | NA | NA | NA | 0 |\n| allisar01 | 1871 | 1 | CL1 | NA | 29 | 137 | 28 | 40 |  4 | ⋯ | 19 | 3 | 1 | 2 | 5 | NA | NA | NA | NA | 1 |\n| allisdo01 | 1871 | 1 | WS3 | NA | 27 | 133 | 28 | 44 | 10 | ⋯ | 27 | 1 | 1 | 0 | 2 | NA | NA | NA | NA | 0 |\n| ansonca01 | 1871 | 1 | RC1 | NA | 25 | 120 | 29 | 39 | 11 | ⋯ | 16 | 6 | 2 | 2 | 1 | NA | NA | NA | NA | 0 |\n| armstbo01 | 1871 | 1 | FW1 | NA | 12 |  49 |  9 | 11 |  2 | ⋯ |  5 | 0 | 1 | 0 | 1 | NA | NA | NA | NA | 0 |\n\n",
            "text/latex": "A tibble: 6 × 22\n\\begin{tabular}{lllllllllllllllllllll}\n playerID & yearID & stint & teamID & lgID & G & AB & R & H & X2B & ⋯ & RBI & SB & CS & BB & SO & IBB & HBP & SH & SF & GIDP\\\\\n <chr> & <int> & <int> & <fct> & <fct> & <int> & <int> & <int> & <int> & <int> & ⋯ & <int> & <int> & <int> & <int> & <int> & <int> & <int> & <int> & <int> & <int>\\\\\n\\hline\n\t abercda01 & 1871 & 1 & TRO & NA &  1 &   4 &  0 &  0 &  0 & ⋯ &  0 & 0 & 0 & 0 & 0 & NA & NA & NA & NA & 0\\\\\n\t addybo01  & 1871 & 1 & RC1 & NA & 25 & 118 & 30 & 32 &  6 & ⋯ & 13 & 8 & 1 & 4 & 0 & NA & NA & NA & NA & 0\\\\\n\t allisar01 & 1871 & 1 & CL1 & NA & 29 & 137 & 28 & 40 &  4 & ⋯ & 19 & 3 & 1 & 2 & 5 & NA & NA & NA & NA & 1\\\\\n\t allisdo01 & 1871 & 1 & WS3 & NA & 27 & 133 & 28 & 44 & 10 & ⋯ & 27 & 1 & 1 & 0 & 2 & NA & NA & NA & NA & 0\\\\\n\t ansonca01 & 1871 & 1 & RC1 & NA & 25 & 120 & 29 & 39 & 11 & ⋯ & 16 & 6 & 2 & 2 & 1 & NA & NA & NA & NA & 0\\\\\n\t armstbo01 & 1871 & 1 & FW1 & NA & 12 &  49 &  9 & 11 &  2 & ⋯ &  5 & 0 & 1 & 0 & 1 & NA & NA & NA & NA & 0\\\\\n\\end{tabular}\n",
            "text/plain": [
              "  playerID  yearID stint teamID lgID G  AB  R  H  X2B ⋯ RBI SB CS BB SO IBB HBP\n",
              "1 abercda01 1871   1     TRO    NA    1   4  0  0  0  ⋯  0  0  0  0  0  NA  NA \n",
              "2 addybo01  1871   1     RC1    NA   25 118 30 32  6  ⋯ 13  8  1  4  0  NA  NA \n",
              "3 allisar01 1871   1     CL1    NA   29 137 28 40  4  ⋯ 19  3  1  2  5  NA  NA \n",
              "4 allisdo01 1871   1     WS3    NA   27 133 28 44 10  ⋯ 27  1  1  0  2  NA  NA \n",
              "5 ansonca01 1871   1     RC1    NA   25 120 29 39 11  ⋯ 16  6  2  2  1  NA  NA \n",
              "6 armstbo01 1871   1     FW1    NA   12  49  9 11  2  ⋯  5  0  1  0  1  NA  NA \n",
              "  SH SF GIDP\n",
              "1 NA NA 0   \n",
              "2 NA NA 0   \n",
              "3 NA NA 1   \n",
              "4 NA NA 0   \n",
              "5 NA NA 0   \n",
              "6 NA NA 0   "
            ]
          },
          "metadata": {}
        }
      ],
      "source": [
        "# install.packages(\"Lahman\")\n",
        "library(Lahman)\n",
        "as_tibble(Batting) %>% head\n",
        "# what do all these columns mean?"
      ]
    },
    {
      "cell_type": "markdown",
      "metadata": {
        "id": "tD0kQKnApL0Z"
      },
      "source": [
        "The second player is `addybo01`. We can get information about this player by typing:"
      ]
    },
    {
      "cell_type": "code",
      "execution_count": 94,
      "metadata": {
        "id": "-ycKiwhYpL0a",
        "outputId": "d6b31300-b6f9-4dc3-9411-6554a263f4c6",
        "colab": {
          "base_uri": "https://localhost:8080/",
          "height": 129
        }
      },
      "outputs": [
        {
          "output_type": "display_data",
          "data": {
            "text/html": [
              "<table class=\"dataframe\">\n",
              "<caption>A data.frame: 1 × 3</caption>\n",
              "<thead>\n",
              "\t<tr><th></th><th scope=col>playerID</th><th scope=col>nameFirst</th><th scope=col>nameLast</th></tr>\n",
              "\t<tr><th></th><th scope=col>&lt;chr&gt;</th><th scope=col>&lt;chr&gt;</th><th scope=col>&lt;chr&gt;</th></tr>\n",
              "</thead>\n",
              "<tbody>\n",
              "\t<tr><th scope=row>111</th><td>addybo01</td><td>Bob</td><td>Addy</td></tr>\n",
              "</tbody>\n",
              "</table>\n"
            ],
            "text/markdown": "\nA data.frame: 1 × 3\n\n| <!--/--> | playerID &lt;chr&gt; | nameFirst &lt;chr&gt; | nameLast &lt;chr&gt; |\n|---|---|---|---|\n| 111 | addybo01 | Bob | Addy |\n\n",
            "text/latex": "A data.frame: 1 × 3\n\\begin{tabular}{r|lll}\n  & playerID & nameFirst & nameLast\\\\\n  & <chr> & <chr> & <chr>\\\\\n\\hline\n\t111 & addybo01 & Bob & Addy\\\\\n\\end{tabular}\n",
            "text/plain": [
              "    playerID nameFirst nameLast\n",
              "111 addybo01 Bob       Addy    "
            ]
          },
          "metadata": {}
        }
      ],
      "source": [
        "Lahman::playerInfo('addybo01')"
      ]
    },
    {
      "cell_type": "markdown",
      "metadata": {
        "id": "uadKLwBRpL0a"
      },
      "source": [
        "Bob Addy was active in the years 1871-1877. During that time he had $118+51+152+213+310+142+245=1231$ at-bats, and $32+16+54+51+80+40+68=341$ hits. Therefore his career batting average was $341/1241=0.277$."
      ]
    },
    {
      "cell_type": "code",
      "execution_count": 95,
      "metadata": {
        "id": "qLLxV0hkpL0a",
        "outputId": "91807b41-f7d5-43a8-87ba-61b436807b39",
        "colab": {
          "base_uri": "https://localhost:8080/",
          "height": 318
        }
      },
      "outputs": [
        {
          "output_type": "display_data",
          "data": {
            "text/html": [
              "<table class=\"dataframe\">\n",
              "<caption>A data.frame: 7 × 22</caption>\n",
              "<thead>\n",
              "\t<tr><th scope=col>playerID</th><th scope=col>yearID</th><th scope=col>stint</th><th scope=col>teamID</th><th scope=col>lgID</th><th scope=col>G</th><th scope=col>AB</th><th scope=col>R</th><th scope=col>H</th><th scope=col>X2B</th><th scope=col>⋯</th><th scope=col>RBI</th><th scope=col>SB</th><th scope=col>CS</th><th scope=col>BB</th><th scope=col>SO</th><th scope=col>IBB</th><th scope=col>HBP</th><th scope=col>SH</th><th scope=col>SF</th><th scope=col>GIDP</th></tr>\n",
              "\t<tr><th scope=col>&lt;chr&gt;</th><th scope=col>&lt;int&gt;</th><th scope=col>&lt;int&gt;</th><th scope=col>&lt;fct&gt;</th><th scope=col>&lt;fct&gt;</th><th scope=col>&lt;int&gt;</th><th scope=col>&lt;int&gt;</th><th scope=col>&lt;int&gt;</th><th scope=col>&lt;int&gt;</th><th scope=col>&lt;int&gt;</th><th scope=col>⋯</th><th scope=col>&lt;int&gt;</th><th scope=col>&lt;int&gt;</th><th scope=col>&lt;int&gt;</th><th scope=col>&lt;int&gt;</th><th scope=col>&lt;int&gt;</th><th scope=col>&lt;int&gt;</th><th scope=col>&lt;int&gt;</th><th scope=col>&lt;int&gt;</th><th scope=col>&lt;int&gt;</th><th scope=col>&lt;int&gt;</th></tr>\n",
              "</thead>\n",
              "<tbody>\n",
              "\t<tr><td>addybo01</td><td>1871</td><td>1</td><td>RC1</td><td>NA</td><td>25</td><td>118</td><td>30</td><td>32</td><td>6</td><td>⋯</td><td>13</td><td> 8</td><td> 1</td><td>4</td><td>0</td><td>NA</td><td>NA</td><td>NA</td><td>NA</td><td> 0</td></tr>\n",
              "\t<tr><td>addybo01</td><td>1873</td><td>1</td><td>PH2</td><td>NA</td><td>10</td><td> 51</td><td>12</td><td>16</td><td>1</td><td>⋯</td><td>10</td><td> 1</td><td> 1</td><td>2</td><td>0</td><td>NA</td><td>NA</td><td>NA</td><td>NA</td><td> 0</td></tr>\n",
              "\t<tr><td>addybo01</td><td>1873</td><td>2</td><td>BS1</td><td>NA</td><td>31</td><td>152</td><td>37</td><td>54</td><td>6</td><td>⋯</td><td>32</td><td> 6</td><td> 5</td><td>2</td><td>1</td><td>NA</td><td>NA</td><td>NA</td><td>NA</td><td> 0</td></tr>\n",
              "\t<tr><td>addybo01</td><td>1874</td><td>1</td><td>HR1</td><td>NA</td><td>50</td><td>213</td><td>25</td><td>51</td><td>9</td><td>⋯</td><td>22</td><td> 4</td><td> 2</td><td>1</td><td>1</td><td>NA</td><td>NA</td><td>NA</td><td>NA</td><td> 0</td></tr>\n",
              "\t<tr><td>addybo01</td><td>1875</td><td>1</td><td>PH2</td><td>NA</td><td>69</td><td>310</td><td>60</td><td>80</td><td>8</td><td>⋯</td><td>43</td><td>16</td><td> 8</td><td>0</td><td>2</td><td>NA</td><td>NA</td><td>NA</td><td>NA</td><td> 0</td></tr>\n",
              "\t<tr><td>addybo01</td><td>1876</td><td>1</td><td>CHN</td><td>NL</td><td>32</td><td>142</td><td>36</td><td>40</td><td>4</td><td>⋯</td><td>16</td><td>NA</td><td>NA</td><td>5</td><td>0</td><td>NA</td><td>NA</td><td>NA</td><td>NA</td><td>NA</td></tr>\n",
              "\t<tr><td>addybo01</td><td>1877</td><td>1</td><td>CN1</td><td>NL</td><td>57</td><td>245</td><td>27</td><td>68</td><td>2</td><td>⋯</td><td>31</td><td>NA</td><td>NA</td><td>6</td><td>5</td><td>NA</td><td>NA</td><td>NA</td><td>NA</td><td>NA</td></tr>\n",
              "</tbody>\n",
              "</table>\n"
            ],
            "text/markdown": "\nA data.frame: 7 × 22\n\n| playerID &lt;chr&gt; | yearID &lt;int&gt; | stint &lt;int&gt; | teamID &lt;fct&gt; | lgID &lt;fct&gt; | G &lt;int&gt; | AB &lt;int&gt; | R &lt;int&gt; | H &lt;int&gt; | X2B &lt;int&gt; | ⋯ ⋯ | RBI &lt;int&gt; | SB &lt;int&gt; | CS &lt;int&gt; | BB &lt;int&gt; | SO &lt;int&gt; | IBB &lt;int&gt; | HBP &lt;int&gt; | SH &lt;int&gt; | SF &lt;int&gt; | GIDP &lt;int&gt; |\n|---|---|---|---|---|---|---|---|---|---|---|---|---|---|---|---|---|---|---|---|---|\n| addybo01 | 1871 | 1 | RC1 | NA | 25 | 118 | 30 | 32 | 6 | ⋯ | 13 |  8 |  1 | 4 | 0 | NA | NA | NA | NA |  0 |\n| addybo01 | 1873 | 1 | PH2 | NA | 10 |  51 | 12 | 16 | 1 | ⋯ | 10 |  1 |  1 | 2 | 0 | NA | NA | NA | NA |  0 |\n| addybo01 | 1873 | 2 | BS1 | NA | 31 | 152 | 37 | 54 | 6 | ⋯ | 32 |  6 |  5 | 2 | 1 | NA | NA | NA | NA |  0 |\n| addybo01 | 1874 | 1 | HR1 | NA | 50 | 213 | 25 | 51 | 9 | ⋯ | 22 |  4 |  2 | 1 | 1 | NA | NA | NA | NA |  0 |\n| addybo01 | 1875 | 1 | PH2 | NA | 69 | 310 | 60 | 80 | 8 | ⋯ | 43 | 16 |  8 | 0 | 2 | NA | NA | NA | NA |  0 |\n| addybo01 | 1876 | 1 | CHN | NL | 32 | 142 | 36 | 40 | 4 | ⋯ | 16 | NA | NA | 5 | 0 | NA | NA | NA | NA | NA |\n| addybo01 | 1877 | 1 | CN1 | NL | 57 | 245 | 27 | 68 | 2 | ⋯ | 31 | NA | NA | 6 | 5 | NA | NA | NA | NA | NA |\n\n",
            "text/latex": "A data.frame: 7 × 22\n\\begin{tabular}{lllllllllllllllllllll}\n playerID & yearID & stint & teamID & lgID & G & AB & R & H & X2B & ⋯ & RBI & SB & CS & BB & SO & IBB & HBP & SH & SF & GIDP\\\\\n <chr> & <int> & <int> & <fct> & <fct> & <int> & <int> & <int> & <int> & <int> & ⋯ & <int> & <int> & <int> & <int> & <int> & <int> & <int> & <int> & <int> & <int>\\\\\n\\hline\n\t addybo01 & 1871 & 1 & RC1 & NA & 25 & 118 & 30 & 32 & 6 & ⋯ & 13 &  8 &  1 & 4 & 0 & NA & NA & NA & NA &  0\\\\\n\t addybo01 & 1873 & 1 & PH2 & NA & 10 &  51 & 12 & 16 & 1 & ⋯ & 10 &  1 &  1 & 2 & 0 & NA & NA & NA & NA &  0\\\\\n\t addybo01 & 1873 & 2 & BS1 & NA & 31 & 152 & 37 & 54 & 6 & ⋯ & 32 &  6 &  5 & 2 & 1 & NA & NA & NA & NA &  0\\\\\n\t addybo01 & 1874 & 1 & HR1 & NA & 50 & 213 & 25 & 51 & 9 & ⋯ & 22 &  4 &  2 & 1 & 1 & NA & NA & NA & NA &  0\\\\\n\t addybo01 & 1875 & 1 & PH2 & NA & 69 & 310 & 60 & 80 & 8 & ⋯ & 43 & 16 &  8 & 0 & 2 & NA & NA & NA & NA &  0\\\\\n\t addybo01 & 1876 & 1 & CHN & NL & 32 & 142 & 36 & 40 & 4 & ⋯ & 16 & NA & NA & 5 & 0 & NA & NA & NA & NA & NA\\\\\n\t addybo01 & 1877 & 1 & CN1 & NL & 57 & 245 & 27 & 68 & 2 & ⋯ & 31 & NA & NA & 6 & 5 & NA & NA & NA & NA & NA\\\\\n\\end{tabular}\n",
            "text/plain": [
              "  playerID yearID stint teamID lgID G  AB  R  H  X2B ⋯ RBI SB CS BB SO IBB HBP\n",
              "1 addybo01 1871   1     RC1    NA   25 118 30 32 6   ⋯ 13   8  1 4  0  NA  NA \n",
              "2 addybo01 1873   1     PH2    NA   10  51 12 16 1   ⋯ 10   1  1 2  0  NA  NA \n",
              "3 addybo01 1873   2     BS1    NA   31 152 37 54 6   ⋯ 32   6  5 2  1  NA  NA \n",
              "4 addybo01 1874   1     HR1    NA   50 213 25 51 9   ⋯ 22   4  2 1  1  NA  NA \n",
              "5 addybo01 1875   1     PH2    NA   69 310 60 80 8   ⋯ 43  16  8 0  2  NA  NA \n",
              "6 addybo01 1876   1     CHN    NL   32 142 36 40 4   ⋯ 16  NA NA 5  0  NA  NA \n",
              "7 addybo01 1877   1     CN1    NL   57 245 27 68 2   ⋯ 31  NA NA 6  5  NA  NA \n",
              "  SH SF GIDP\n",
              "1 NA NA  0  \n",
              "2 NA NA  0  \n",
              "3 NA NA  0  \n",
              "4 NA NA  0  \n",
              "5 NA NA  0  \n",
              "6 NA NA NA  \n",
              "7 NA NA NA  "
            ]
          },
          "metadata": {}
        }
      ],
      "source": [
        "filter(Batting, playerID == 'addybo01')"
      ]
    },
    {
      "cell_type": "markdown",
      "metadata": {
        "id": "S7VrNVsBpL0a"
      },
      "source": [
        "Let's use `group_by()` and `summarize()` to calculate the \"career\" batting average for every player in the dataset. That is, I want a table that looks like:"
      ]
    },
    {
      "cell_type": "markdown",
      "metadata": {
        "id": "y7KUCWmipL0a"
      },
      "source": [
        "    # A tibble: 20166 × 2\n",
        "      playerID batting_avg\n",
        "      <chr>          <dbl>\n",
        "    1 addybo01       0.277\n",
        "    .    .             .\n",
        "    .    .             .\n",
        "    .    .             ."
      ]
    },
    {
      "cell_type": "code",
      "execution_count": 103,
      "metadata": {
        "id": "ClenfgHLpL0a",
        "colab": {
          "base_uri": "https://localhost:8080/",
          "height": 1000
        },
        "outputId": "381971c1-3d71-402d-9f6c-917ffc3e004b"
      },
      "outputs": [
        {
          "output_type": "stream",
          "name": "stderr",
          "text": [
            "\u001b[1m\u001b[22mSelecting by batting avg\n"
          ]
        },
        {
          "output_type": "display_data",
          "data": {
            "text/html": [
              "<table class=\"dataframe\">\n",
              "<caption>A tibble: 95 × 2</caption>\n",
              "<thead>\n",
              "\t<tr><th scope=col>playerID</th><th scope=col>batting avg</th></tr>\n",
              "\t<tr><th scope=col>&lt;chr&gt;</th><th scope=col>&lt;dbl&gt;</th></tr>\n",
              "</thead>\n",
              "<tbody>\n",
              "\t<tr><td>abramge01</td><td>1</td></tr>\n",
              "\t<tr><td>alberan01</td><td>1</td></tr>\n",
              "\t<tr><td>banisje01</td><td>1</td></tr>\n",
              "\t<tr><td>bartocl01</td><td>1</td></tr>\n",
              "\t<tr><td>bassdo01 </td><td>1</td></tr>\n",
              "\t<tr><td>birasst01</td><td>1</td></tr>\n",
              "\t<tr><td>bruneju01</td><td>1</td></tr>\n",
              "\t<tr><td>burnscb01</td><td>1</td></tr>\n",
              "\t<tr><td>cammaer01</td><td>1</td></tr>\n",
              "\t<tr><td>campsh01 </td><td>1</td></tr>\n",
              "\t<tr><td>crockcl01</td><td>1</td></tr>\n",
              "\t<tr><td>davenjo01</td><td>1</td></tr>\n",
              "\t<tr><td>davidda01</td><td>1</td></tr>\n",
              "\t<tr><td>devinha01</td><td>1</td></tr>\n",
              "\t<tr><td>dupremi01</td><td>1</td></tr>\n",
              "\t<tr><td>eddydo01 </td><td>1</td></tr>\n",
              "\t<tr><td>egeco01  </td><td>1</td></tr>\n",
              "\t<tr><td>eubanue01</td><td>1</td></tr>\n",
              "\t<tr><td>fryjo01  </td><td>1</td></tr>\n",
              "\t<tr><td>gallaja01</td><td>1</td></tr>\n",
              "\t<tr><td>garcimi02</td><td>1</td></tr>\n",
              "\t<tr><td>garcira01</td><td>1</td></tr>\n",
              "\t<tr><td>gideobr01</td><td>1</td></tr>\n",
              "\t<tr><td>gleasro01</td><td>1</td></tr>\n",
              "\t<tr><td>gowella01</td><td>1</td></tr>\n",
              "\t<tr><td>grasmlo01</td><td>1</td></tr>\n",
              "\t<tr><td>grayda01 </td><td>1</td></tr>\n",
              "\t<tr><td>hancory01</td><td>1</td></tr>\n",
              "\t<tr><td>hesslke01</td><td>1</td></tr>\n",
              "\t<tr><td>holloji01</td><td>1</td></tr>\n",
              "\t<tr><td>⋮</td><td>⋮</td></tr>\n",
              "\t<tr><td>pickuty01</td><td>1</td></tr>\n",
              "\t<tr><td>pindebr01</td><td>1</td></tr>\n",
              "\t<tr><td>rambope01</td><td>1</td></tr>\n",
              "\t<tr><td>roachja01</td><td>1</td></tr>\n",
              "\t<tr><td>rodried01</td><td>1</td></tr>\n",
              "\t<tr><td>rowlami01</td><td>1</td></tr>\n",
              "\t<tr><td>schemfr01</td><td>1</td></tr>\n",
              "\t<tr><td>schlibr01</td><td>1</td></tr>\n",
              "\t<tr><td>schlogu01</td><td>1</td></tr>\n",
              "\t<tr><td>sellsda01</td><td>1</td></tr>\n",
              "\t<tr><td>shirlst01</td><td>1</td></tr>\n",
              "\t<tr><td>simspe01 </td><td>1</td></tr>\n",
              "\t<tr><td>skidmro01</td><td>1</td></tr>\n",
              "\t<tr><td>smithwi04</td><td>1</td></tr>\n",
              "\t<tr><td>snowch01 </td><td>1</td></tr>\n",
              "\t<tr><td>sotogr01 </td><td>1</td></tr>\n",
              "\t<tr><td>stoneti01</td><td>1</td></tr>\n",
              "\t<tr><td>suchech01</td><td>1</td></tr>\n",
              "\t<tr><td>swartbu01</td><td>1</td></tr>\n",
              "\t<tr><td>tompkch01</td><td>1</td></tr>\n",
              "\t<tr><td>tonkido01</td><td>1</td></tr>\n",
              "\t<tr><td>toppiru01</td><td>1</td></tr>\n",
              "\t<tr><td>torrejo02</td><td>1</td></tr>\n",
              "\t<tr><td>tupmama01</td><td>1</td></tr>\n",
              "\t<tr><td>wattal01 </td><td>1</td></tr>\n",
              "\t<tr><td>wetzebu01</td><td>1</td></tr>\n",
              "\t<tr><td>whiteab01</td><td>1</td></tr>\n",
              "\t<tr><td>wrighal01</td><td>1</td></tr>\n",
              "\t<tr><td>yanes01  </td><td>1</td></tr>\n",
              "\t<tr><td>yantzge01</td><td>1</td></tr>\n",
              "</tbody>\n",
              "</table>\n"
            ],
            "text/markdown": "\nA tibble: 95 × 2\n\n| playerID &lt;chr&gt; | batting avg &lt;dbl&gt; |\n|---|---|\n| abramge01 | 1 |\n| alberan01 | 1 |\n| banisje01 | 1 |\n| bartocl01 | 1 |\n| bassdo01  | 1 |\n| birasst01 | 1 |\n| bruneju01 | 1 |\n| burnscb01 | 1 |\n| cammaer01 | 1 |\n| campsh01  | 1 |\n| crockcl01 | 1 |\n| davenjo01 | 1 |\n| davidda01 | 1 |\n| devinha01 | 1 |\n| dupremi01 | 1 |\n| eddydo01  | 1 |\n| egeco01   | 1 |\n| eubanue01 | 1 |\n| fryjo01   | 1 |\n| gallaja01 | 1 |\n| garcimi02 | 1 |\n| garcira01 | 1 |\n| gideobr01 | 1 |\n| gleasro01 | 1 |\n| gowella01 | 1 |\n| grasmlo01 | 1 |\n| grayda01  | 1 |\n| hancory01 | 1 |\n| hesslke01 | 1 |\n| holloji01 | 1 |\n| ⋮ | ⋮ |\n| pickuty01 | 1 |\n| pindebr01 | 1 |\n| rambope01 | 1 |\n| roachja01 | 1 |\n| rodried01 | 1 |\n| rowlami01 | 1 |\n| schemfr01 | 1 |\n| schlibr01 | 1 |\n| schlogu01 | 1 |\n| sellsda01 | 1 |\n| shirlst01 | 1 |\n| simspe01  | 1 |\n| skidmro01 | 1 |\n| smithwi04 | 1 |\n| snowch01  | 1 |\n| sotogr01  | 1 |\n| stoneti01 | 1 |\n| suchech01 | 1 |\n| swartbu01 | 1 |\n| tompkch01 | 1 |\n| tonkido01 | 1 |\n| toppiru01 | 1 |\n| torrejo02 | 1 |\n| tupmama01 | 1 |\n| wattal01  | 1 |\n| wetzebu01 | 1 |\n| whiteab01 | 1 |\n| wrighal01 | 1 |\n| yanes01   | 1 |\n| yantzge01 | 1 |\n\n",
            "text/latex": "A tibble: 95 × 2\n\\begin{tabular}{ll}\n playerID & batting avg\\\\\n <chr> & <dbl>\\\\\n\\hline\n\t abramge01 & 1\\\\\n\t alberan01 & 1\\\\\n\t banisje01 & 1\\\\\n\t bartocl01 & 1\\\\\n\t bassdo01  & 1\\\\\n\t birasst01 & 1\\\\\n\t bruneju01 & 1\\\\\n\t burnscb01 & 1\\\\\n\t cammaer01 & 1\\\\\n\t campsh01  & 1\\\\\n\t crockcl01 & 1\\\\\n\t davenjo01 & 1\\\\\n\t davidda01 & 1\\\\\n\t devinha01 & 1\\\\\n\t dupremi01 & 1\\\\\n\t eddydo01  & 1\\\\\n\t egeco01   & 1\\\\\n\t eubanue01 & 1\\\\\n\t fryjo01   & 1\\\\\n\t gallaja01 & 1\\\\\n\t garcimi02 & 1\\\\\n\t garcira01 & 1\\\\\n\t gideobr01 & 1\\\\\n\t gleasro01 & 1\\\\\n\t gowella01 & 1\\\\\n\t grasmlo01 & 1\\\\\n\t grayda01  & 1\\\\\n\t hancory01 & 1\\\\\n\t hesslke01 & 1\\\\\n\t holloji01 & 1\\\\\n\t ⋮ & ⋮\\\\\n\t pickuty01 & 1\\\\\n\t pindebr01 & 1\\\\\n\t rambope01 & 1\\\\\n\t roachja01 & 1\\\\\n\t rodried01 & 1\\\\\n\t rowlami01 & 1\\\\\n\t schemfr01 & 1\\\\\n\t schlibr01 & 1\\\\\n\t schlogu01 & 1\\\\\n\t sellsda01 & 1\\\\\n\t shirlst01 & 1\\\\\n\t simspe01  & 1\\\\\n\t skidmro01 & 1\\\\\n\t smithwi04 & 1\\\\\n\t snowch01  & 1\\\\\n\t sotogr01  & 1\\\\\n\t stoneti01 & 1\\\\\n\t suchech01 & 1\\\\\n\t swartbu01 & 1\\\\\n\t tompkch01 & 1\\\\\n\t tonkido01 & 1\\\\\n\t toppiru01 & 1\\\\\n\t torrejo02 & 1\\\\\n\t tupmama01 & 1\\\\\n\t wattal01  & 1\\\\\n\t wetzebu01 & 1\\\\\n\t whiteab01 & 1\\\\\n\t wrighal01 & 1\\\\\n\t yanes01   & 1\\\\\n\t yantzge01 & 1\\\\\n\\end{tabular}\n",
            "text/plain": [
              "   playerID  batting avg\n",
              "1  abramge01 1          \n",
              "2  alberan01 1          \n",
              "3  banisje01 1          \n",
              "4  bartocl01 1          \n",
              "5  bassdo01  1          \n",
              "6  birasst01 1          \n",
              "7  bruneju01 1          \n",
              "8  burnscb01 1          \n",
              "9  cammaer01 1          \n",
              "10 campsh01  1          \n",
              "11 crockcl01 1          \n",
              "12 davenjo01 1          \n",
              "13 davidda01 1          \n",
              "14 devinha01 1          \n",
              "15 dupremi01 1          \n",
              "16 eddydo01  1          \n",
              "17 egeco01   1          \n",
              "18 eubanue01 1          \n",
              "19 fryjo01   1          \n",
              "20 gallaja01 1          \n",
              "21 garcimi02 1          \n",
              "22 garcira01 1          \n",
              "23 gideobr01 1          \n",
              "24 gleasro01 1          \n",
              "25 gowella01 1          \n",
              "26 grasmlo01 1          \n",
              "27 grayda01  1          \n",
              "28 hancory01 1          \n",
              "29 hesslke01 1          \n",
              "30 holloji01 1          \n",
              "⋮  ⋮         ⋮          \n",
              "66 pickuty01 1          \n",
              "67 pindebr01 1          \n",
              "68 rambope01 1          \n",
              "69 roachja01 1          \n",
              "70 rodried01 1          \n",
              "71 rowlami01 1          \n",
              "72 schemfr01 1          \n",
              "73 schlibr01 1          \n",
              "74 schlogu01 1          \n",
              "75 sellsda01 1          \n",
              "76 shirlst01 1          \n",
              "77 simspe01  1          \n",
              "78 skidmro01 1          \n",
              "79 smithwi04 1          \n",
              "80 snowch01  1          \n",
              "81 sotogr01  1          \n",
              "82 stoneti01 1          \n",
              "83 suchech01 1          \n",
              "84 swartbu01 1          \n",
              "85 tompkch01 1          \n",
              "86 tonkido01 1          \n",
              "87 toppiru01 1          \n",
              "88 torrejo02 1          \n",
              "89 tupmama01 1          \n",
              "90 wattal01  1          \n",
              "91 wetzebu01 1          \n",
              "92 whiteab01 1          \n",
              "93 wrighal01 1          \n",
              "94 yanes01   1          \n",
              "95 yantzge01 1          "
            ]
          },
          "metadata": {}
        }
      ],
      "source": [
        "# calculate the batting average for each player in the  data set\n",
        "group_by(Batting,playerID)%>%\n",
        "  summarize('batting avg'=sum(H)/sum(AB))%>%\n",
        "  top_n(10)"
      ]
    },
    {
      "cell_type": "markdown",
      "metadata": {
        "id": "uGgKEibupL0b"
      },
      "source": [
        "What has happened? Let's look at the first player in the sorted table:"
      ]
    },
    {
      "cell_type": "code",
      "execution_count": 104,
      "metadata": {
        "id": "bv-z5iRspL0b",
        "outputId": "64350d78-88a7-4708-aecf-dc073d4c18da",
        "colab": {
          "base_uri": "https://localhost:8080/",
          "height": 129
        }
      },
      "outputs": [
        {
          "output_type": "display_data",
          "data": {
            "text/html": [
              "<table class=\"dataframe\">\n",
              "<caption>A data.frame: 1 × 22</caption>\n",
              "<thead>\n",
              "\t<tr><th scope=col>playerID</th><th scope=col>yearID</th><th scope=col>stint</th><th scope=col>teamID</th><th scope=col>lgID</th><th scope=col>G</th><th scope=col>AB</th><th scope=col>R</th><th scope=col>H</th><th scope=col>X2B</th><th scope=col>⋯</th><th scope=col>RBI</th><th scope=col>SB</th><th scope=col>CS</th><th scope=col>BB</th><th scope=col>SO</th><th scope=col>IBB</th><th scope=col>HBP</th><th scope=col>SH</th><th scope=col>SF</th><th scope=col>GIDP</th></tr>\n",
              "\t<tr><th scope=col>&lt;chr&gt;</th><th scope=col>&lt;int&gt;</th><th scope=col>&lt;int&gt;</th><th scope=col>&lt;fct&gt;</th><th scope=col>&lt;fct&gt;</th><th scope=col>&lt;int&gt;</th><th scope=col>&lt;int&gt;</th><th scope=col>&lt;int&gt;</th><th scope=col>&lt;int&gt;</th><th scope=col>&lt;int&gt;</th><th scope=col>⋯</th><th scope=col>&lt;int&gt;</th><th scope=col>&lt;int&gt;</th><th scope=col>&lt;int&gt;</th><th scope=col>&lt;int&gt;</th><th scope=col>&lt;int&gt;</th><th scope=col>&lt;int&gt;</th><th scope=col>&lt;int&gt;</th><th scope=col>&lt;int&gt;</th><th scope=col>&lt;int&gt;</th><th scope=col>&lt;int&gt;</th></tr>\n",
              "</thead>\n",
              "<tbody>\n",
              "\t<tr><td>abramge01</td><td>1923</td><td>1</td><td>CIN</td><td>NL</td><td>3</td><td>1</td><td>0</td><td>1</td><td>0</td><td>⋯</td><td>0</td><td>0</td><td>0</td><td>0</td><td>0</td><td>NA</td><td>0</td><td>0</td><td>NA</td><td>NA</td></tr>\n",
              "</tbody>\n",
              "</table>\n"
            ],
            "text/markdown": "\nA data.frame: 1 × 22\n\n| playerID &lt;chr&gt; | yearID &lt;int&gt; | stint &lt;int&gt; | teamID &lt;fct&gt; | lgID &lt;fct&gt; | G &lt;int&gt; | AB &lt;int&gt; | R &lt;int&gt; | H &lt;int&gt; | X2B &lt;int&gt; | ⋯ ⋯ | RBI &lt;int&gt; | SB &lt;int&gt; | CS &lt;int&gt; | BB &lt;int&gt; | SO &lt;int&gt; | IBB &lt;int&gt; | HBP &lt;int&gt; | SH &lt;int&gt; | SF &lt;int&gt; | GIDP &lt;int&gt; |\n|---|---|---|---|---|---|---|---|---|---|---|---|---|---|---|---|---|---|---|---|---|\n| abramge01 | 1923 | 1 | CIN | NL | 3 | 1 | 0 | 1 | 0 | ⋯ | 0 | 0 | 0 | 0 | 0 | NA | 0 | 0 | NA | NA |\n\n",
            "text/latex": "A data.frame: 1 × 22\n\\begin{tabular}{lllllllllllllllllllll}\n playerID & yearID & stint & teamID & lgID & G & AB & R & H & X2B & ⋯ & RBI & SB & CS & BB & SO & IBB & HBP & SH & SF & GIDP\\\\\n <chr> & <int> & <int> & <fct> & <fct> & <int> & <int> & <int> & <int> & <int> & ⋯ & <int> & <int> & <int> & <int> & <int> & <int> & <int> & <int> & <int> & <int>\\\\\n\\hline\n\t abramge01 & 1923 & 1 & CIN & NL & 3 & 1 & 0 & 1 & 0 & ⋯ & 0 & 0 & 0 & 0 & 0 & NA & 0 & 0 & NA & NA\\\\\n\\end{tabular}\n",
            "text/plain": [
              "  playerID  yearID stint teamID lgID G AB R H X2B ⋯ RBI SB CS BB SO IBB HBP SH\n",
              "1 abramge01 1923   1     CIN    NL   3 1  0 1 0   ⋯ 0   0  0  0  0  NA  0   0 \n",
              "  SF GIDP\n",
              "1 NA NA  "
            ]
          },
          "metadata": {}
        }
      ],
      "source": [
        "filter(Batting, playerID == 'abramge01')"
      ]
    },
    {
      "cell_type": "markdown",
      "metadata": {
        "id": "2oEI-Zl5pL0b"
      },
      "source": [
        "### Always include counts\n",
        "It is a good idea to include counts of each group when you do a summary. Some groups may have very low numbers of observations, resulting in high variance for the summary statistics. \n",
        "\n",
        "What happens if we restrict our batting average calculation to players that had at least 100 at-bats?"
      ]
    },
    {
      "cell_type": "markdown",
      "metadata": {
        "id": "9lndlWO_pL0c"
      },
      "source": [
        "## Quiz\n",
        "Among players who had at least 100 at bats, who had the highest career batting average?\n",
        "<ol style=\"list-style-type: upper-alpha;\">\n",
        "    <li>Ty Cobb</li>\n",
        "    <li>Babe Ruth</li>\n",
        "    <li>Prof. Terhorst</li>\n",
        "    <li>Ted Williams</li>\n",
        "    <li>Hank Williams</li>\n",
        "</ol>"
      ]
    },
    {
      "cell_type": "code",
      "execution_count": null,
      "metadata": {
        "id": "tbGw3ZdhpL0c"
      },
      "outputs": [],
      "source": [
        "# highest batting average among players that had 100 or more at bats"
      ]
    },
    {
      "cell_type": "markdown",
      "metadata": {
        "id": "YbukP3UrpL0d"
      },
      "source": [
        "## Quiz\n",
        "Among players who had at least 100 at bats in a season, what was the highest batting average in a single season?\n",
        "<ol style=\"list-style-type: upper-alpha;\">\n",
        "    <li>Ted Williams</li>\n",
        "    <li>Steven Colbert</li>\n",
        "    <li>Chonky Squirrel</li>\n",
        "    <li>Levi Meyerle</li>\n",
        "    <li>Tom Riddle</li>\n",
        "</ol>"
      ]
    },
    {
      "cell_type": "code",
      "execution_count": null,
      "metadata": {
        "id": "NaVHfxLBpL0d"
      },
      "outputs": [],
      "source": [
        "# highest seasonal batting average"
      ]
    },
    {
      "cell_type": "markdown",
      "metadata": {
        "id": "DnbQH-kapL0d"
      },
      "source": [
        "## The Steroid Era of Baseball\n",
        "\n",
        "> [Baseball] remained relatively the same until the 90s when steroid use became rampant. Famous sluggers like Barry Bonds, Mark McGwire, and Sammy Sosa rose to fame during this era. They were beloved at the time until we later found out that they were cheating.\n",
        "\n",
        "https://www.wagerbop.com/how-home-runs-and-batting-averages-have-changed-over-the-last-30-years/"
      ]
    },
    {
      "cell_type": "markdown",
      "metadata": {
        "id": "zLR0glzIpL0d"
      },
      "source": [
        "![barry bounds](https://cdn.ebaumsworld.com/mediaFiles/picture/2605038/87087115.jpg)"
      ]
    },
    {
      "cell_type": "markdown",
      "metadata": {
        "id": "BVCSHMm_pL0d"
      },
      "source": [
        "## Can we see the steroid era reflected in the data?"
      ]
    },
    {
      "cell_type": "code",
      "execution_count": null,
      "metadata": {
        "id": "yOgA8UrKpL0e"
      },
      "outputs": [],
      "source": [
        "# summarize the dataset in order to investigate steroid era in batters"
      ]
    }
  ],
  "metadata": {
    "celltoolbar": "Slideshow",
    "kernelspec": {
      "display_name": "R",
      "language": "R",
      "name": "ir"
    },
    "language_info": {
      "codemirror_mode": "r",
      "file_extension": ".r",
      "mimetype": "text/x-r-source",
      "name": "R",
      "pygments_lexer": "r",
      "version": "4.2.2"
    },
    "colab": {
      "provenance": [],
      "include_colab_link": true
    }
  },
  "nbformat": 4,
  "nbformat_minor": 0
}
