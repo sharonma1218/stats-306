{
  "cells": [
    {
      "cell_type": "markdown",
      "metadata": {
        "id": "view-in-github",
        "colab_type": "text"
      },
      "source": [
        "<a href=\"https://colab.research.google.com/github/sharonma1218/stats-306/blob/main/lecture06_class.ipynb\" target=\"_parent\"><img src=\"https://colab.research.google.com/assets/colab-badge.svg\" alt=\"Open In Colab\"/></a>"
      ]
    },
    {
      "cell_type": "code",
      "source": [
        "install.packages('tidyverse')\n",
        "install.packages('nycflights13')"
      ],
      "metadata": {
        "colab": {
          "base_uri": "https://localhost:8080/"
        },
        "id": "E7JfQKu-f2Yq",
        "outputId": "1fb1edef-3a80-4cc5-95c1-e5e1356cf187"
      },
      "execution_count": 1,
      "outputs": [
        {
          "output_type": "stream",
          "name": "stderr",
          "text": [
            "Installing package into ‘/usr/local/lib/R/site-library’\n",
            "(as ‘lib’ is unspecified)\n",
            "\n",
            "Installing package into ‘/usr/local/lib/R/site-library’\n",
            "(as ‘lib’ is unspecified)\n",
            "\n"
          ]
        }
      ]
    },
    {
      "cell_type": "code",
      "execution_count": 2,
      "metadata": {
        "id": "R9u7-1Y_fnQ0",
        "colab": {
          "base_uri": "https://localhost:8080/"
        },
        "outputId": "f5e67620-0805-441c-9c87-5321b944b8fe"
      },
      "outputs": [
        {
          "output_type": "stream",
          "name": "stderr",
          "text": [
            "Warning message in system(\"timedatectl\", intern = TRUE):\n",
            "“running command 'timedatectl' had status 1”\n",
            "── \u001b[1mAttaching packages\u001b[22m ─────────────────────────────────────── tidyverse 1.3.2 ──\n",
            "\u001b[32m✔\u001b[39m \u001b[34mggplot2\u001b[39m 3.4.0      \u001b[32m✔\u001b[39m \u001b[34mpurrr  \u001b[39m 1.0.1 \n",
            "\u001b[32m✔\u001b[39m \u001b[34mtibble \u001b[39m 3.1.8      \u001b[32m✔\u001b[39m \u001b[34mdplyr  \u001b[39m 1.0.10\n",
            "\u001b[32m✔\u001b[39m \u001b[34mtidyr  \u001b[39m 1.2.1      \u001b[32m✔\u001b[39m \u001b[34mstringr\u001b[39m 1.4.1 \n",
            "\u001b[32m✔\u001b[39m \u001b[34mreadr  \u001b[39m 2.1.3      \u001b[32m✔\u001b[39m \u001b[34mforcats\u001b[39m 0.5.2 \n",
            "── \u001b[1mConflicts\u001b[22m ────────────────────────────────────────── tidyverse_conflicts() ──\n",
            "\u001b[31m✖\u001b[39m \u001b[34mdplyr\u001b[39m::\u001b[32mfilter()\u001b[39m masks \u001b[34mstats\u001b[39m::filter()\n",
            "\u001b[31m✖\u001b[39m \u001b[34mdplyr\u001b[39m::\u001b[32mlag()\u001b[39m    masks \u001b[34mstats\u001b[39m::lag()\n"
          ]
        }
      ],
      "source": [
        "options(repr.plot.width=8, repr.plot.height=5)\n",
        "library(tidyverse)\n",
        "library(nycflights13)\n",
        "load(url('https://datasets.stats306.org/mil.RData'))"
      ]
    },
    {
      "cell_type": "markdown",
      "metadata": {
        "id": "-obPkmStfnQ5"
      },
      "source": [
        "# Lecture 6: Exploratory data analysis\n",
        "\n",
        "<div style=\"border: 1px double black; padding: 10px; margin: 10px\">\n",
        "\n",
        "**After today's lecture you will:**\n",
        "* Learn how to perform [exploratory data analysis](https://en.wikipedia.org/wiki/Exploratory_data_analysis) (EDA) using the tidyverse and ggplot.\n",
        "* Understand the correct type(s) of plots for studying:\n",
        "    - Discrete vs. continuous data\n",
        "    - Variation (in a single) discrete or continuous variable\n",
        "    - *Co*variation among two or more discrete or continuous variables\n",
        "    \n",
        "This lecture note corresponds to Chapters 11 and 12 of your book. \n",
        "</div>\n",
        "\n",
        "\n",
        "    \n",
        "\n",
        "\n"
      ]
    },
    {
      "cell_type": "markdown",
      "metadata": {
        "id": "99jyoqpZfnQ7"
      },
      "source": [
        "## What is exploratory data analysis\n",
        "\n",
        "<img src=\"https://upload.wikimedia.org/wikipedia/en/e/e9/John_Tukey.jpg\" style=\"margin: 0 0 0 20px; float: right\" />\n",
        "\n",
        "> Procedures for analyzing data, techniques for interpreting the results of such procedures, ways of planning the gathering of data to make its analysis easier, more precise or more accurate, and all the machinery and results of (mathematical) statistics which apply to analyzing data.\n",
        "\n"
      ]
    },
    {
      "cell_type": "markdown",
      "metadata": {
        "id": "5U_5KRGjfnQ8"
      },
      "source": [
        "## What is EDA (book version):\n",
        "\n",
        "1. Generate questions about your data.\n",
        "2. Search for answers by visualizing, transforming, and modelling your data.\n",
        "3. Use what you learn to refine your questions and/or generate new questions.\n",
        "4. (Return to #1)."
      ]
    },
    {
      "cell_type": "markdown",
      "metadata": {
        "id": "_nDxTbrtfnQ9"
      },
      "source": [
        "Two types of questions are always useful for making discoveries within your data:\n",
        "\n",
        "- What type of variation occurs within my variables?\n",
        "- What type of covariation occurs between my variables?"
      ]
    },
    {
      "cell_type": "markdown",
      "metadata": {
        "id": "7wevaQYrfnQ9"
      },
      "source": [
        "## Variation\n",
        "- Real-life variables change from measurement to measurement. \n",
        "- This is often true even if you measure the same thing twice!\n",
        "- Each measurements has a small amount of error (\"noise\").\n",
        "- The noise is different each time you take a measurement."
      ]
    },
    {
      "cell_type": "markdown",
      "metadata": {
        "id": "49wtJuXcfnQ9"
      },
      "source": [
        "## Continuous vs. discrete\n",
        "The appropriate visualization will depend on whether the data are:\n",
        "- *Continuous*: they take on an infinite number of ordered values.\n",
        "- *Discrete*: the take on one of a small number of values."
      ]
    },
    {
      "cell_type": "markdown",
      "metadata": {
        "id": "z-_2etyhfnQ-"
      },
      "source": [
        "## 🤔 Quiz\n",
        "\n",
        "Continuous or discrete?: `mpg$manufacturer`\n",
        "\n",
        "<ol style=\"list-style-type: upper-alpha;\">\n",
        "    <li>Continuous</li>\n",
        "    <li>Discrete</li>\n",
        "    <li>Could be either</li>\n",
        "</ol>"
      ]
    },
    {
      "cell_type": "markdown",
      "metadata": {
        "id": "g0VCLlZlfnQ_"
      },
      "source": [
        "## 🤔 Quiz\n",
        "\n",
        "Continuous or discrete?: `diamonds$price`\n",
        "\n",
        "<ol style=\"list-style-type: upper-alpha;\">\n",
        "    <li>Continuous</li>\n",
        "    <li>Discrete</li>\n",
        "    <li>Could be either</li>\n",
        "</ol>"
      ]
    },
    {
      "cell_type": "code",
      "execution_count": 5,
      "metadata": {
        "id": "Syya_leRfnRA",
        "colab": {
          "base_uri": "https://localhost:8080/",
          "height": 34
        },
        "outputId": "a11ec822-fdc0-470a-affa-44a672b0ee31"
      },
      "outputs": [
        {
          "output_type": "display_data",
          "data": {
            "text/html": [
              "<style>\n",
              ".list-inline {list-style: none; margin:0; padding: 0}\n",
              ".list-inline>li {display: inline-block}\n",
              ".list-inline>li:not(:last-child)::after {content: \"\\00b7\"; padding: 0 .5ex}\n",
              "</style>\n",
              "<ol class=list-inline><li>326</li><li>326</li><li>327</li><li>334</li><li>335</li><li>336</li><li>336</li><li>337</li><li>337</li><li>338</li></ol>\n"
            ],
            "text/markdown": "1. 326\n2. 326\n3. 327\n4. 334\n5. 335\n6. 336\n7. 336\n8. 337\n9. 337\n10. 338\n\n\n",
            "text/latex": "\\begin{enumerate*}\n\\item 326\n\\item 326\n\\item 327\n\\item 334\n\\item 335\n\\item 336\n\\item 336\n\\item 337\n\\item 337\n\\item 338\n\\end{enumerate*}\n",
            "text/plain": [
              " [1] 326 326 327 334 335 336 336 337 337 338"
            ]
          },
          "metadata": {}
        }
      ],
      "source": [
        "?diamonds\n",
        "diamonds$price%>%head(10)\n",
        "# based on the def alone, can be treated as a discrete var, esp since price stops after 2 decimal places.\n",
        "# for heuristic purposes, can be treated as a continuous variable. "
      ]
    },
    {
      "cell_type": "markdown",
      "metadata": {
        "id": "apr_Es4sfnRA"
      },
      "source": [
        "## 🤔 Quiz\n",
        "\n",
        "Continuous or discrete?: `mil$age`\n",
        "\n",
        "<ol style=\"list-style-type: upper-alpha;\">\n",
        "    <li>Continuous</li>\n",
        "    <li>Discrete</li>\n",
        "    <li>Could be either</li>\n",
        "</ol>"
      ]
    },
    {
      "cell_type": "code",
      "execution_count": 8,
      "metadata": {
        "id": "6FaGIjjofnRB"
      },
      "outputs": [],
      "source": [
        "load(url('https://datasets.stats306.org/mil.RData'))"
      ]
    },
    {
      "cell_type": "code",
      "source": [
        "mil$age%>%head(10)"
      ],
      "metadata": {
        "colab": {
          "base_uri": "https://localhost:8080/",
          "height": 52
        },
        "id": "InE8uf6Si1C8",
        "outputId": "ac389278-272a-47ad-bb73-d7d69d7caf27"
      },
      "execution_count": 9,
      "outputs": [
        {
          "output_type": "display_data",
          "data": {
            "text/html": [
              "<style>\n",
              ".list-inline {list-style: none; margin:0; padding: 0}\n",
              ".list-inline>li {display: inline-block}\n",
              ".list-inline>li:not(:last-child)::after {content: \"\\00b7\"; padding: 0 .5ex}\n",
              "</style>\n",
              "<ol class=list-inline><li>28</li><li>33</li><li>45</li><li>66</li><li>52</li><li>VOL DON'T KNOW/REFUSED</li><li>60</li><li>54</li><li>48</li><li>48</li></ol>\n",
              "\n",
              "<details>\n",
              "\t<summary style=display:list-item;cursor:pointer>\n",
              "\t\t<strong>Levels</strong>:\n",
              "\t</summary>\n",
              "\t<style>\n",
              "\t.list-inline {list-style: none; margin:0; padding: 0}\n",
              "\t.list-inline>li {display: inline-block}\n",
              "\t.list-inline>li:not(:last-child)::after {content: \"\\00b7\"; padding: 0 .5ex}\n",
              "\t</style>\n",
              "\t<ol class=list-inline><li>'18'</li><li>'19'</li><li>'20'</li><li>'21'</li><li>'22'</li><li>'23'</li><li>'24'</li><li>'25'</li><li>'26'</li><li>'27'</li><li>'28'</li><li>'29'</li><li>'30'</li><li>'31'</li><li>'32'</li><li>'33'</li><li>'34'</li><li>'35'</li><li>'36'</li><li>'37'</li><li>'38'</li><li>'39'</li><li>'40'</li><li>'41'</li><li>'42'</li><li>'43'</li><li>'44'</li><li>'45'</li><li>'46'</li><li>'47'</li><li>'48'</li><li>'49'</li><li>'50'</li><li>'51'</li><li>'52'</li><li>'53'</li><li>'54'</li><li>'55'</li><li>'56'</li><li>'57'</li><li>'58'</li><li>'59'</li><li>'60'</li><li>'61'</li><li>'62'</li><li>'63'</li><li>'64'</li><li>'65'</li><li>'66'</li><li>'67'</li><li>'68'</li><li>'69'</li><li>'70'</li><li>'71'</li><li>'72'</li><li>'73'</li><li>'74'</li><li>'75'</li><li>'76'</li><li>'77'</li><li>'78'</li><li>'79'</li><li>'80'</li><li>'81'</li><li>'82'</li><li>'83'</li><li>'84'</li><li>'85'</li><li>'86'</li><li>'87'</li><li>'88'</li><li>'89'</li><li>'90'</li><li>'91'</li><li>'92'</li><li>'93'</li><li>'97 OR OLDER'</li><li>'VOL DON\\'T KNOW/REFUSED'</li></ol>\n",
              "</details>"
            ],
            "text/markdown": "1. 28\n2. 33\n3. 45\n4. 66\n5. 52\n6. VOL DON'T KNOW/REFUSED\n7. 60\n8. 54\n9. 48\n10. 48\n\n\n\n**Levels**: 1. '18'\n2. '19'\n3. '20'\n4. '21'\n5. '22'\n6. '23'\n7. '24'\n8. '25'\n9. '26'\n10. '27'\n11. '28'\n12. '29'\n13. '30'\n14. '31'\n15. '32'\n16. '33'\n17. '34'\n18. '35'\n19. '36'\n20. '37'\n21. '38'\n22. '39'\n23. '40'\n24. '41'\n25. '42'\n26. '43'\n27. '44'\n28. '45'\n29. '46'\n30. '47'\n31. '48'\n32. '49'\n33. '50'\n34. '51'\n35. '52'\n36. '53'\n37. '54'\n38. '55'\n39. '56'\n40. '57'\n41. '58'\n42. '59'\n43. '60'\n44. '61'\n45. '62'\n46. '63'\n47. '64'\n48. '65'\n49. '66'\n50. '67'\n51. '68'\n52. '69'\n53. '70'\n54. '71'\n55. '72'\n56. '73'\n57. '74'\n58. '75'\n59. '76'\n60. '77'\n61. '78'\n62. '79'\n63. '80'\n64. '81'\n65. '82'\n66. '83'\n67. '84'\n68. '85'\n69. '86'\n70. '87'\n71. '88'\n72. '89'\n73. '90'\n74. '91'\n75. '92'\n76. '93'\n77. '97 OR OLDER'\n78. 'VOL DON\\'T KNOW/REFUSED'\n\n\n",
            "text/latex": "\\begin{enumerate*}\n\\item 28\n\\item 33\n\\item 45\n\\item 66\n\\item 52\n\\item VOL DON'T KNOW/REFUSED\n\\item 60\n\\item 54\n\\item 48\n\\item 48\n\\end{enumerate*}\n\n\\emph{Levels}: \\begin{enumerate*}\n\\item '18'\n\\item '19'\n\\item '20'\n\\item '21'\n\\item '22'\n\\item '23'\n\\item '24'\n\\item '25'\n\\item '26'\n\\item '27'\n\\item '28'\n\\item '29'\n\\item '30'\n\\item '31'\n\\item '32'\n\\item '33'\n\\item '34'\n\\item '35'\n\\item '36'\n\\item '37'\n\\item '38'\n\\item '39'\n\\item '40'\n\\item '41'\n\\item '42'\n\\item '43'\n\\item '44'\n\\item '45'\n\\item '46'\n\\item '47'\n\\item '48'\n\\item '49'\n\\item '50'\n\\item '51'\n\\item '52'\n\\item '53'\n\\item '54'\n\\item '55'\n\\item '56'\n\\item '57'\n\\item '58'\n\\item '59'\n\\item '60'\n\\item '61'\n\\item '62'\n\\item '63'\n\\item '64'\n\\item '65'\n\\item '66'\n\\item '67'\n\\item '68'\n\\item '69'\n\\item '70'\n\\item '71'\n\\item '72'\n\\item '73'\n\\item '74'\n\\item '75'\n\\item '76'\n\\item '77'\n\\item '78'\n\\item '79'\n\\item '80'\n\\item '81'\n\\item '82'\n\\item '83'\n\\item '84'\n\\item '85'\n\\item '86'\n\\item '87'\n\\item '88'\n\\item '89'\n\\item '90'\n\\item '91'\n\\item '92'\n\\item '93'\n\\item '97 OR OLDER'\n\\item 'VOL DON\\textbackslash{}'T KNOW/REFUSED'\n\\end{enumerate*}\n",
            "text/plain": [
              " [1] 28                     33                     45                    \n",
              " [4] 66                     52                     VOL DON'T KNOW/REFUSED\n",
              " [7] 60                     54                     48                    \n",
              "[10] 48                    \n",
              "78 Levels: 18 19 20 21 22 23 24 25 26 27 28 29 30 31 32 33 34 35 36 37 ... VOL DON'T KNOW/REFUSED"
            ]
          },
          "metadata": {}
        }
      ]
    },
    {
      "cell_type": "code",
      "execution_count": 10,
      "metadata": {
        "id": "Wn_oyJrFfnRB",
        "colab": {
          "base_uri": "https://localhost:8080/",
          "height": 34
        },
        "outputId": "20fd28e5-67c5-48df-ad9a-971c5ca04377"
      },
      "outputs": [
        {
          "output_type": "display_data",
          "data": {
            "text/html": [
              "<style>\n",
              ".list-inline {list-style: none; margin:0; padding: 0}\n",
              ".list-inline>li {display: inline-block}\n",
              ".list-inline>li:not(:last-child)::after {content: \"\\00b7\"; padding: 0 .5ex}\n",
              "</style>\n",
              "<ol class=list-inline><li>'UA'</li><li>'AA'</li><li>'B6'</li><li>'DL'</li><li>'EV'</li><li>'MQ'</li><li>'US'</li><li>'WN'</li><li>'VX'</li><li>'FL'</li><li>'AS'</li><li>'9E'</li><li>'F9'</li><li>'HA'</li><li>'YV'</li><li>'OO'</li></ol>\n"
            ],
            "text/markdown": "1. 'UA'\n2. 'AA'\n3. 'B6'\n4. 'DL'\n5. 'EV'\n6. 'MQ'\n7. 'US'\n8. 'WN'\n9. 'VX'\n10. 'FL'\n11. 'AS'\n12. '9E'\n13. 'F9'\n14. 'HA'\n15. 'YV'\n16. 'OO'\n\n\n",
            "text/latex": "\\begin{enumerate*}\n\\item 'UA'\n\\item 'AA'\n\\item 'B6'\n\\item 'DL'\n\\item 'EV'\n\\item 'MQ'\n\\item 'US'\n\\item 'WN'\n\\item 'VX'\n\\item 'FL'\n\\item 'AS'\n\\item '9E'\n\\item 'F9'\n\\item 'HA'\n\\item 'YV'\n\\item 'OO'\n\\end{enumerate*}\n",
            "text/plain": [
              " [1] \"UA\" \"AA\" \"B6\" \"DL\" \"EV\" \"MQ\" \"US\" \"WN\" \"VX\" \"FL\" \"AS\" \"9E\" \"F9\" \"HA\" \"YV\"\n",
              "[16] \"OO\""
            ]
          },
          "metadata": {}
        }
      ],
      "source": [
        "flights$carrier%>%unique\n",
        "# discrete var"
      ]
    },
    {
      "cell_type": "markdown",
      "metadata": {
        "id": "o4oxAeQtfnRB"
      },
      "source": [
        "## Measuring the speed of light\n",
        "`morley` is a built-in dataset measuring the speed of light."
      ]
    },
    {
      "cell_type": "code",
      "execution_count": 11,
      "metadata": {
        "id": "ju4OZW1ufnRB",
        "outputId": "7ab8ff09-9ecc-4d5f-83e8-f437bd4f6833",
        "colab": {
          "base_uri": "https://localhost:8080/"
        }
      },
      "outputs": [
        {
          "output_type": "stream",
          "name": "stdout",
          "text": [
            "\u001b[90m# A tibble: 100 × 3\u001b[39m\n",
            "    Expt   Run Speed\n",
            "   \u001b[3m\u001b[90m<int>\u001b[39m\u001b[23m \u001b[3m\u001b[90m<int>\u001b[39m\u001b[23m \u001b[3m\u001b[90m<int>\u001b[39m\u001b[23m\n",
            "\u001b[90m 1\u001b[39m     1     1   850\n",
            "\u001b[90m 2\u001b[39m     1     2   740\n",
            "\u001b[90m 3\u001b[39m     1     3   900\n",
            "\u001b[90m 4\u001b[39m     1     4  \u001b[4m1\u001b[24m070\n",
            "\u001b[90m 5\u001b[39m     1     5   930\n",
            "\u001b[90m 6\u001b[39m     1     6   850\n",
            "\u001b[90m 7\u001b[39m     1     7   950\n",
            "\u001b[90m 8\u001b[39m     1     8   980\n",
            "\u001b[90m 9\u001b[39m     1     9   980\n",
            "\u001b[90m10\u001b[39m     1    10   880\n",
            "\u001b[90m# … with 90 more rows\u001b[39m\n"
          ]
        }
      ],
      "source": [
        "print(as_tibble(morley))"
      ]
    },
    {
      "cell_type": "markdown",
      "metadata": {
        "id": "Br55knoLfnRC"
      },
      "source": [
        "Here we're measuring the speed of light, an absolute, unchanging, physical constant:\n",
        "\n",
        "$$c = 299,792,458 \\, m/s.$$\n",
        "\n",
        "But we get a different value with every experiment. Why?"
      ]
    },
    {
      "cell_type": "markdown",
      "metadata": {
        "id": "P6_oUe6YfnRD"
      },
      "source": [
        "## Visualizing variation in our data\n",
        "\n",
        "In order to understand how accurately we measured the speed of light, we first need to assess its *variation*. Since the measurement is continuous, we have several options:"
      ]
    },
    {
      "cell_type": "code",
      "execution_count": 16,
      "metadata": {
        "id": "bMQmCclIfnRD",
        "colab": {
          "base_uri": "https://localhost:8080/",
          "height": 335
        },
        "outputId": "55ab484a-68d5-42d8-d9fb-cd628dcdb52e"
      },
      "outputs": [
        {
          "output_type": "stream",
          "name": "stderr",
          "text": [
            "\u001b[1m\u001b[22m`stat_bin()` using `bins = 30`. Pick better value with `binwidth`.\n"
          ]
        },
        {
          "output_type": "display_data",
          "data": {
            "text/plain": [
              "plot without title"
            ],
            "image/png": "[encoded data removed]"
          },
          "metadata": {
            "image/png": {
              "width": 480,
              "height": 300
            }
          }
        }
      ],
      "source": [
        "# plot a histogram\n",
        "ggplot(morley,aes(x=Speed))+\n",
        "  geom_histogram()"
      ]
    },
    {
      "cell_type": "code",
      "source": [
        "ggplot(morley,aes(x=Speed))+\n",
        "  geom_histogram(bins=10)"
      ],
      "metadata": {
        "colab": {
          "base_uri": "https://localhost:8080/",
          "height": 317
        },
        "id": "PZd1EW_AnLtW",
        "outputId": "a2d75b5a-bd8c-4ba5-86f2-ea4f80b986d6"
      },
      "execution_count": 15,
      "outputs": [
        {
          "output_type": "display_data",
          "data": {
            "text/plain": [
              "plot without title"
            ],
            "image/png": "[encoded data removed]"
          },
          "metadata": {
            "image/png": {
              "width": 480,
              "height": 300
            }
          }
        }
      ]
    },
    {
      "cell_type": "code",
      "source": [
        "?geom_histogram"
      ],
      "metadata": {
        "id": "nnz2zu2Zn8yf"
      },
      "execution_count": 19,
      "outputs": []
    },
    {
      "cell_type": "code",
      "source": [
        "ggplot(morley,aes(x=Speed))+\n",
        "  geom_histogram(breaks=c(600,800,900,1000,1100))"
      ],
      "metadata": {
        "colab": {
          "base_uri": "https://localhost:8080/",
          "height": 317
        },
        "id": "KBRzMhJ6n1AY",
        "outputId": "78319ef8-3dcc-43b7-e97a-8ab857890a4b"
      },
      "execution_count": 23,
      "outputs": [
        {
          "output_type": "display_data",
          "data": {
            "text/plain": [
              "plot without title"
            ],
            "image/png": "[encoded data removed]"
          },
          "metadata": {
            "image/png": {
              "width": 480,
              "height": 300
            }
          }
        }
      ]
    },
    {
      "cell_type": "markdown",
      "metadata": {
        "id": "GWFkRhIpfnRD"
      },
      "source": [
        "## What is a histogram?\n",
        "In office hours I saw some confusion about what a histogram actually represents. So, now we will make one by hand."
      ]
    },
    {
      "cell_type": "code",
      "execution_count": 24,
      "metadata": {
        "id": "I_wjj-YjfnRE",
        "colab": {
          "base_uri": "https://localhost:8080/",
          "height": 52
        },
        "outputId": "3da4c429-3b18-4227-d617-15a2cfa87abe"
      },
      "outputs": [
        {
          "output_type": "display_data",
          "data": {
            "text/html": [
              "&lt;NA&gt;\n",
              "<details>\n",
              "\t<summary style=display:list-item;cursor:pointer>\n",
              "\t\t<strong>Levels</strong>:\n",
              "\t</summary>\n",
              "\t<style>\n",
              "\t.list-inline {list-style: none; margin:0; padding: 0}\n",
              "\t.list-inline>li {display: inline-block}\n",
              "\t.list-inline>li:not(:last-child)::after {content: \"\\00b7\"; padding: 0 .5ex}\n",
              "\t</style>\n",
              "\t<ol class=list-inline><li>'(1,5]'</li><li>'(5,10]'</li></ol>\n",
              "</details>"
            ],
            "text/markdown": "&lt;NA&gt;\n**Levels**: 1. '(1,5]'\n2. '(5,10]'\n\n\n",
            "text/latex": "<NA>\n\\emph{Levels}: \\begin{enumerate*}\n\\item '(1,5{]}'\n\\item '(5,10{]}'\n\\end{enumerate*}\n",
            "text/plain": [
              "[1] <NA>\n",
              "Levels: (1,5] (5,10]"
            ]
          },
          "metadata": {}
        }
      ],
      "source": [
        "# make a histogram by hand.\n",
        "v=c(1:!0)\n",
        "cut(v,breaks=c(1,5,10))"
      ]
    },
    {
      "cell_type": "code",
      "source": [
        "seq(600,1100,50)"
      ],
      "metadata": {
        "colab": {
          "base_uri": "https://localhost:8080/",
          "height": 34
        },
        "id": "nZgXcOskpkr5",
        "outputId": "0956152c-b0ad-4521-e56c-68e4da2988eb"
      },
      "execution_count": 25,
      "outputs": [
        {
          "output_type": "display_data",
          "data": {
            "text/html": [
              "<style>\n",
              ".list-inline {list-style: none; margin:0; padding: 0}\n",
              ".list-inline>li {display: inline-block}\n",
              ".list-inline>li:not(:last-child)::after {content: \"\\00b7\"; padding: 0 .5ex}\n",
              "</style>\n",
              "<ol class=list-inline><li>600</li><li>650</li><li>700</li><li>750</li><li>800</li><li>850</li><li>900</li><li>950</li><li>1000</li><li>1050</li><li>1100</li></ol>\n"
            ],
            "text/markdown": "1. 600\n2. 650\n3. 700\n4. 750\n5. 800\n6. 850\n7. 900\n8. 950\n9. 1000\n10. 1050\n11. 1100\n\n\n",
            "text/latex": "\\begin{enumerate*}\n\\item 600\n\\item 650\n\\item 700\n\\item 750\n\\item 800\n\\item 850\n\\item 900\n\\item 950\n\\item 1000\n\\item 1050\n\\item 1100\n\\end{enumerate*}\n",
            "text/plain": [
              " [1]  600  650  700  750  800  850  900  950 1000 1050 1100"
            ]
          },
          "metadata": {}
        }
      ]
    },
    {
      "cell_type": "code",
      "source": [
        "df1<-morley%>%\n",
        "  mutate(bin=cut(Speed,breaks=seq(600,1100,50)))%>% # from 600 to 1100 w/ breaks of 50 \n",
        "  print "
      ],
      "metadata": {
        "colab": {
          "base_uri": "https://localhost:8080/"
        },
        "id": "XN8I-SEPpaQv",
        "outputId": "a843b7e6-fcb8-445b-a498-eaef4e6b42b5"
      },
      "execution_count": 29,
      "outputs": [
        {
          "output_type": "stream",
          "name": "stdout",
          "text": [
            "    Expt Run Speed                bin\n",
            "001    1   1   850          (800,850]\n",
            "002    1   2   740          (700,750]\n",
            "003    1   3   900          (850,900]\n",
            "004    1   4  1070 (1.05e+03,1.1e+03]\n",
            "005    1   5   930          (900,950]\n",
            "006    1   6   850          (800,850]\n",
            "007    1   7   950          (900,950]\n",
            "008    1   8   980        (950,1e+03]\n",
            "009    1   9   980        (950,1e+03]\n",
            "010    1  10   880          (850,900]\n",
            "011    1  11  1000        (950,1e+03]\n",
            "012    1  12   980        (950,1e+03]\n",
            "013    1  13   930          (900,950]\n",
            "014    1  14   650          (600,650]\n",
            "015    1  15   760          (750,800]\n",
            "016    1  16   810          (800,850]\n",
            "017    1  17  1000        (950,1e+03]\n",
            "018    1  18  1000        (950,1e+03]\n",
            "019    1  19   960        (950,1e+03]\n",
            "020    1  20   960        (950,1e+03]\n",
            "021    2   1   960        (950,1e+03]\n",
            "022    2   2   940          (900,950]\n",
            "023    2   3   960        (950,1e+03]\n",
            "024    2   4   940          (900,950]\n",
            "025    2   5   880          (850,900]\n",
            "026    2   6   800          (750,800]\n",
            "027    2   7   850          (800,850]\n",
            "028    2   8   880          (850,900]\n",
            "029    2   9   900          (850,900]\n",
            "030    2  10   840          (800,850]\n",
            "031    2  11   830          (800,850]\n",
            "032    2  12   790          (750,800]\n",
            "033    2  13   810          (800,850]\n",
            "034    2  14   880          (850,900]\n",
            "035    2  15   880          (850,900]\n",
            "036    2  16   830          (800,850]\n",
            "037    2  17   800          (750,800]\n",
            "038    2  18   790          (750,800]\n",
            "039    2  19   760          (750,800]\n",
            "040    2  20   800          (750,800]\n",
            "041    3   1   880          (850,900]\n",
            "042    3   2   880          (850,900]\n",
            "043    3   3   880          (850,900]\n",
            "044    3   4   860          (850,900]\n",
            "045    3   5   720          (700,750]\n",
            "046    3   6   720          (700,750]\n",
            "047    3   7   620          (600,650]\n",
            "048    3   8   860          (850,900]\n",
            "049    3   9   970        (950,1e+03]\n",
            "050    3  10   950          (900,950]\n",
            "051    3  11   880          (850,900]\n",
            "052    3  12   910          (900,950]\n",
            "053    3  13   850          (800,850]\n",
            "054    3  14   870          (850,900]\n",
            "055    3  15   840          (800,850]\n",
            "056    3  16   840          (800,850]\n",
            "057    3  17   850          (800,850]\n",
            "058    3  18   840          (800,850]\n",
            "059    3  19   840          (800,850]\n",
            "060    3  20   840          (800,850]\n",
            "061    4   1   890          (850,900]\n",
            "062    4   2   810          (800,850]\n",
            "063    4   3   810          (800,850]\n",
            "064    4   4   820          (800,850]\n",
            "065    4   5   800          (750,800]\n",
            "066    4   6   770          (750,800]\n",
            "067    4   7   760          (750,800]\n",
            "068    4   8   740          (700,750]\n",
            "069    4   9   750          (700,750]\n",
            "070    4  10   760          (750,800]\n",
            "071    4  11   910          (900,950]\n",
            "072    4  12   920          (900,950]\n",
            "073    4  13   890          (850,900]\n",
            "074    4  14   860          (850,900]\n",
            "075    4  15   880          (850,900]\n",
            "076    4  16   720          (700,750]\n",
            "077    4  17   840          (800,850]\n",
            "078    4  18   850          (800,850]\n",
            "079    4  19   850          (800,850]\n",
            "080    4  20   780          (750,800]\n",
            "081    5   1   890          (850,900]\n",
            "082    5   2   840          (800,850]\n",
            "083    5   3   780          (750,800]\n",
            "084    5   4   810          (800,850]\n",
            "085    5   5   760          (750,800]\n",
            "086    5   6   810          (800,850]\n",
            "087    5   7   790          (750,800]\n",
            "088    5   8   810          (800,850]\n",
            "089    5   9   820          (800,850]\n",
            "090    5  10   850          (800,850]\n",
            "091    5  11   870          (850,900]\n",
            "092    5  12   870          (850,900]\n",
            "093    5  13   810          (800,850]\n",
            "094    5  14   740          (700,750]\n",
            "095    5  15   810          (800,850]\n",
            "096    5  16   940          (900,950]\n",
            "097    5  17   950          (900,950]\n",
            "098    5  18   800          (750,800]\n",
            "099    5  19   810          (800,850]\n",
            "100    5  20   870          (850,900]\n"
          ]
        }
      ]
    },
    {
      "cell_type": "code",
      "source": [
        "morley$Speed%>%unique"
      ],
      "metadata": {
        "colab": {
          "base_uri": "https://localhost:8080/",
          "height": 34
        },
        "id": "RTlprBQAqF-y",
        "outputId": "b02c26f4-5e9c-498d-fc73-6a9a2e9f7387"
      },
      "execution_count": 27,
      "outputs": [
        {
          "output_type": "display_data",
          "data": {
            "text/html": [
              "<style>\n",
              ".list-inline {list-style: none; margin:0; padding: 0}\n",
              ".list-inline>li {display: inline-block}\n",
              ".list-inline>li:not(:last-child)::after {content: \"\\00b7\"; padding: 0 .5ex}\n",
              "</style>\n",
              "<ol class=list-inline><li>850</li><li>740</li><li>900</li><li>1070</li><li>930</li><li>950</li><li>980</li><li>880</li><li>1000</li><li>650</li><li>760</li><li>810</li><li>960</li><li>940</li><li>800</li><li>840</li><li>830</li><li>790</li><li>860</li><li>720</li><li>620</li><li>970</li><li>910</li><li>870</li><li>890</li><li>820</li><li>770</li><li>750</li><li>920</li><li>780</li></ol>\n"
            ],
            "text/markdown": "1. 850\n2. 740\n3. 900\n4. 1070\n5. 930\n6. 950\n7. 980\n8. 880\n9. 1000\n10. 650\n11. 760\n12. 810\n13. 960\n14. 940\n15. 800\n16. 840\n17. 830\n18. 790\n19. 860\n20. 720\n21. 620\n22. 970\n23. 910\n24. 870\n25. 890\n26. 820\n27. 770\n28. 750\n29. 920\n30. 780\n\n\n",
            "text/latex": "\\begin{enumerate*}\n\\item 850\n\\item 740\n\\item 900\n\\item 1070\n\\item 930\n\\item 950\n\\item 980\n\\item 880\n\\item 1000\n\\item 650\n\\item 760\n\\item 810\n\\item 960\n\\item 940\n\\item 800\n\\item 840\n\\item 830\n\\item 790\n\\item 860\n\\item 720\n\\item 620\n\\item 970\n\\item 910\n\\item 870\n\\item 890\n\\item 820\n\\item 770\n\\item 750\n\\item 920\n\\item 780\n\\end{enumerate*}\n",
            "text/plain": [
              " [1]  850  740  900 1070  930  950  980  880 1000  650  760  810  960  940  800\n",
              "[16]  840  830  790  860  720  620  970  910  870  890  820  770  750  920  780"
            ]
          },
          "metadata": {}
        }
      ]
    },
    {
      "cell_type": "code",
      "source": [
        "df1$bin%>%unique"
      ],
      "metadata": {
        "colab": {
          "base_uri": "https://localhost:8080/",
          "height": 52
        },
        "id": "Omc5QYTzqJo3",
        "outputId": "180c6a53-4a5e-4a6b-8e11-2c12e6d496dc"
      },
      "execution_count": 30,
      "outputs": [
        {
          "output_type": "display_data",
          "data": {
            "text/html": [
              "<style>\n",
              ".list-inline {list-style: none; margin:0; padding: 0}\n",
              ".list-inline>li {display: inline-block}\n",
              ".list-inline>li:not(:last-child)::after {content: \"\\00b7\"; padding: 0 .5ex}\n",
              "</style>\n",
              "<ol class=list-inline><li>(800,850]</li><li>(700,750]</li><li>(850,900]</li><li>(1.05e+03,1.1e+03]</li><li>(900,950]</li><li>(950,1e+03]</li><li>(600,650]</li><li>(750,800]</li></ol>\n",
              "\n",
              "<details>\n",
              "\t<summary style=display:list-item;cursor:pointer>\n",
              "\t\t<strong>Levels</strong>:\n",
              "\t</summary>\n",
              "\t<style>\n",
              "\t.list-inline {list-style: none; margin:0; padding: 0}\n",
              "\t.list-inline>li {display: inline-block}\n",
              "\t.list-inline>li:not(:last-child)::after {content: \"\\00b7\"; padding: 0 .5ex}\n",
              "\t</style>\n",
              "\t<ol class=list-inline><li>'(600,650]'</li><li>'(650,700]'</li><li>'(700,750]'</li><li>'(750,800]'</li><li>'(800,850]'</li><li>'(850,900]'</li><li>'(900,950]'</li><li>'(950,1e+03]'</li><li>'(1e+03,1.05e+03]'</li><li>'(1.05e+03,1.1e+03]'</li></ol>\n",
              "</details>"
            ],
            "text/markdown": "1. (800,850]\n2. (700,750]\n3. (850,900]\n4. (1.05e+03,1.1e+03]\n5. (900,950]\n6. (950,1e+03]\n7. (600,650]\n8. (750,800]\n\n\n\n**Levels**: 1. '(600,650]'\n2. '(650,700]'\n3. '(700,750]'\n4. '(750,800]'\n5. '(800,850]'\n6. '(850,900]'\n7. '(900,950]'\n8. '(950,1e+03]'\n9. '(1e+03,1.05e+03]'\n10. '(1.05e+03,1.1e+03]'\n\n\n",
            "text/latex": "\\begin{enumerate*}\n\\item (800,850{]}\n\\item (700,750{]}\n\\item (850,900{]}\n\\item (1.05e+03,1.1e+03{]}\n\\item (900,950{]}\n\\item (950,1e+03{]}\n\\item (600,650{]}\n\\item (750,800{]}\n\\end{enumerate*}\n\n\\emph{Levels}: \\begin{enumerate*}\n\\item '(600,650{]}'\n\\item '(650,700{]}'\n\\item '(700,750{]}'\n\\item '(750,800{]}'\n\\item '(800,850{]}'\n\\item '(850,900{]}'\n\\item '(900,950{]}'\n\\item '(950,1e+03{]}'\n\\item '(1e+03,1.05e+03{]}'\n\\item '(1.05e+03,1.1e+03{]}'\n\\end{enumerate*}\n",
            "text/plain": [
              "[1] (800,850]          (700,750]          (850,900]          (1.05e+03,1.1e+03]\n",
              "[5] (900,950]          (950,1e+03]        (600,650]          (750,800]         \n",
              "10 Levels: (600,650] (650,700] (700,750] (750,800] (800,850] ... (1.05e+03,1.1e+03]"
            ]
          },
          "metadata": {}
        }
      ]
    },
    {
      "cell_type": "code",
      "source": [
        "ggplot(df1,aes(x=bin))+\n",
        "  geom_bar()"
      ],
      "metadata": {
        "colab": {
          "base_uri": "https://localhost:8080/",
          "height": 317
        },
        "id": "Et6lL6aGqggm",
        "outputId": "0cca4167-9140-4de7-8400-aec1cbd4b1d6"
      },
      "execution_count": 32,
      "outputs": [
        {
          "output_type": "display_data",
          "data": {
            "text/plain": [
              "plot without title"
            ],
            "image/png": "[encoded data removed]"
          },
          "metadata": {
            "image/png": {
              "width": 480,
              "height": 300
            }
          }
        }
      ]
    },
    {
      "cell_type": "markdown",
      "metadata": {
        "id": "KxFEuYwpfnRE"
      },
      "source": [
        "## Adjusting a histogram\n",
        "Any dataset can be plotted using multiple different histograms. For example:"
      ]
    },
    {
      "cell_type": "code",
      "execution_count": null,
      "metadata": {
        "id": "yieesugbfnRE"
      },
      "outputs": [],
      "source": [
        "# adjust the bins/binwidth/breaks in a histogram"
      ]
    },
    {
      "cell_type": "markdown",
      "metadata": {
        "id": "ldUhSAg7fnRE"
      },
      "source": [
        "There is no one right answer for \"how many different bins\" -- different values tell different stories about your variable\n",
        "- Larger values of bins are more detailed but have higher *variance*\n",
        "- Smaller values are smoother but have higher *bias*"
      ]
    },
    {
      "cell_type": "markdown",
      "metadata": {
        "id": "hc2wk6_RfnRE"
      },
      "source": [
        "## Follow-up questions\n",
        "Now that we can see variation in our data, what sort of follow-up questions should we ask?\n",
        "\n",
        "- Which values are the most common? Why?\n",
        "\n",
        "- Which values are rare? Why? Does that match your expectations?\n",
        "\n",
        "- Can you see any unusual patterns? What might explain them?"
      ]
    },
    {
      "cell_type": "markdown",
      "metadata": {
        "id": "v7sqwab9fnRF"
      },
      "source": [
        "## The diamonds dataset\n",
        "Let's look at a different dataset built into R:"
      ]
    },
    {
      "cell_type": "code",
      "execution_count": 33,
      "metadata": {
        "id": "kDh5Qev3fnRF",
        "outputId": "dcb84031-7c6e-4d45-83ba-0b29c2b78c6c",
        "colab": {
          "base_uri": "https://localhost:8080/"
        }
      },
      "outputs": [
        {
          "output_type": "stream",
          "name": "stdout",
          "text": [
            "\u001b[90m# A tibble: 53,940 × 10\u001b[39m\n",
            "   carat cut       color clarity depth table price     x     y     z\n",
            "   \u001b[3m\u001b[90m<dbl>\u001b[39m\u001b[23m \u001b[3m\u001b[90m<ord>\u001b[39m\u001b[23m     \u001b[3m\u001b[90m<ord>\u001b[39m\u001b[23m \u001b[3m\u001b[90m<ord>\u001b[39m\u001b[23m   \u001b[3m\u001b[90m<dbl>\u001b[39m\u001b[23m \u001b[3m\u001b[90m<dbl>\u001b[39m\u001b[23m \u001b[3m\u001b[90m<int>\u001b[39m\u001b[23m \u001b[3m\u001b[90m<dbl>\u001b[39m\u001b[23m \u001b[3m\u001b[90m<dbl>\u001b[39m\u001b[23m \u001b[3m\u001b[90m<dbl>\u001b[39m\u001b[23m\n",
            "\u001b[90m 1\u001b[39m  0.23 Ideal     E     SI2      61.5    55   326  3.95  3.98  2.43\n",
            "\u001b[90m 2\u001b[39m  0.21 Premium   E     SI1      59.8    61   326  3.89  3.84  2.31\n",
            "\u001b[90m 3\u001b[39m  0.23 Good      E     VS1      56.9    65   327  4.05  4.07  2.31\n",
            "\u001b[90m 4\u001b[39m  0.29 Premium   I     VS2      62.4    58   334  4.2   4.23  2.63\n",
            "\u001b[90m 5\u001b[39m  0.31 Good      J     SI2      63.3    58   335  4.34  4.35  2.75\n",
            "\u001b[90m 6\u001b[39m  0.24 Very Good J     VVS2     62.8    57   336  3.94  3.96  2.48\n",
            "\u001b[90m 7\u001b[39m  0.24 Very Good I     VVS1     62.3    57   336  3.95  3.98  2.47\n",
            "\u001b[90m 8\u001b[39m  0.26 Very Good H     SI1      61.9    55   337  4.07  4.11  2.53\n",
            "\u001b[90m 9\u001b[39m  0.22 Fair      E     VS2      65.1    61   337  3.87  3.78  2.49\n",
            "\u001b[90m10\u001b[39m  0.23 Very Good H     VS1      59.4    61   338  4     4.05  2.39\n",
            "\u001b[90m# … with 53,930 more rows\u001b[39m\n"
          ]
        }
      ],
      "source": [
        "print(diamonds)"
      ]
    },
    {
      "cell_type": "markdown",
      "metadata": {
        "id": "1ZsSeKUvfnRF"
      },
      "source": [
        "This is a dataset of price, quality, and other characteristics for 54k diamonds."
      ]
    },
    {
      "cell_type": "code",
      "execution_count": 47,
      "metadata": {
        "id": "YQ7Wh4VDfnRF",
        "colab": {
          "base_uri": "https://localhost:8080/",
          "height": 317
        },
        "outputId": "6b5412cc-8cfd-49b3-b5a3-c3ec40ac8bfa"
      },
      "outputs": [
        {
          "output_type": "display_data",
          "data": {
            "text/plain": [
              "plot without title"
            ],
            "image/png": "[encoded data removed]"
          },
          "metadata": {
            "image/png": {
              "width": 480,
              "height": 300
            }
          }
        }
      ],
      "source": [
        "# histogram of carat\n",
        "diamonds%>%\n",
        "  ggplot(aes(x=carat))+\n",
        "  geom_bar()\n",
        "# x axis goes all the way out to 5, so there must be small counts there. proof that there r outliers."
      ]
    },
    {
      "cell_type": "markdown",
      "metadata": {
        "id": "cC6ATHykfnRG"
      },
      "source": [
        "## 🤔 Quiz\n",
        "\n",
        "What can be said about the distribution of `carat` in the `diamonds` dataset? (Check all that apply.)\n",
        "\n",
        "<ol style=\"list-style-type: upper-alpha;\">\n",
        "    <li>Almost all diamonds are &lt; 3 carats.</li>\n",
        "    <li>Missing values are encoded as <code>carat = -1</code>.</li>\n",
        "    <li>Diamond makers appear to prefer diamonds that are rounded to the nearest .1 or .5 or carat.\n",
        "    <li>There are more diamonds between 0 and 1 carats than &gt;1 carats.</li>\n",
        "    <li>There are more diamonds that measure 2.0 carats than there are that measure between 1.8 and 2.0 carats.</li>\n",
        "</ol>\n",
        "\n",
        "(Hint: plot a histogram, and try out different values for `bins`, `breaks`, or, `binwidth`.)"
      ]
    },
    {
      "cell_type": "markdown",
      "metadata": {
        "id": "X3b-VLkNfnRG"
      },
      "source": [
        "## Unusual values (outliers)\n",
        "Outliers are \"unusual\" observations. \n",
        "- Sometimes they are due to data entry errors.\n",
        "- Sometimes they are important for other reasons. "
      ]
    },
    {
      "cell_type": "code",
      "execution_count": null,
      "metadata": {
        "id": "cMVcuA6pfnRG"
      },
      "outputs": [],
      "source": [
        "# histogram of diamonds$y"
      ]
    },
    {
      "cell_type": "markdown",
      "metadata": {
        "id": "qMQ3RPltfnRG"
      },
      "source": [
        "## Visualizing the distribution of a discrete variable\n",
        "For a discrete variable, generally the only thing we're interested in is the count of each different value that the variable can assume. For this, something like a bar plot is often used:"
      ]
    },
    {
      "cell_type": "code",
      "execution_count": 54,
      "metadata": {
        "id": "_qRGgO5BfnRG",
        "colab": {
          "base_uri": "https://localhost:8080/",
          "height": 317
        },
        "outputId": "ff1266ea-f117-4a87-9cff-56b149dad03b"
      },
      "outputs": [
        {
          "output_type": "display_data",
          "data": {
            "text/plain": [
              "plot without title"
            ],
            "image/png": "[encoded data removed]"
          },
          "metadata": {
            "image/png": {
              "width": 480,
              "height": 300
            }
          }
        }
      ],
      "source": [
        "# counts of number of different origin airports (geom_bar)\n",
        "flights%>%\n",
        "  ggplot(aes(x=origin))+\n",
        "  geom_bar()"
      ]
    },
    {
      "cell_type": "markdown",
      "metadata": {
        "id": "ccTotmbcfnRH"
      },
      "source": [
        "## Discrete variables with many values\n",
        "Sometimes a discrete variable can take on a lot of values, such that it's not practical to plot its entire distribution. For example:"
      ]
    },
    {
      "cell_type": "code",
      "execution_count": 57,
      "metadata": {
        "id": "FmWA6unEfnRH",
        "outputId": "03d3df44-94e9-486f-96e9-58c091bf1d46",
        "colab": {
          "base_uri": "https://localhost:8080/",
          "height": 317
        }
      },
      "outputs": [
        {
          "output_type": "display_data",
          "data": {
            "text/plain": [
              "plot without title"
            ],
            "image/png": "[encoded data removed]"
          },
          "metadata": {
            "image/png": {
              "width": 480,
              "height": 300
            }
          }
        }
      ],
      "source": [
        "ggplot(flights) + geom_bar(aes(x = dest))"
      ]
    },
    {
      "cell_type": "markdown",
      "metadata": {
        "id": "usyBGCP8fnRH"
      },
      "source": [
        "In this case we can reduce the data in some way, for example, only plotting the most common airports:"
      ]
    },
    {
      "cell_type": "code",
      "execution_count": 62,
      "metadata": {
        "id": "PDkeM0VOfnRH",
        "colab": {
          "base_uri": "https://localhost:8080/",
          "height": 317
        },
        "outputId": "71bfb65e-744f-4ed1-87ab-a14db7a83199"
      },
      "outputs": [
        {
          "output_type": "display_data",
          "data": {
            "text/plain": [
              "plot without title"
            ],
            "image/png": "[encoded data removed]"
          },
          "metadata": {
            "image/png": {
              "width": 480,
              "height": 300
            }
          }
        }
      ],
      "source": [
        "# lump flight destinations into top 10 + other\n",
        "flights%>%\n",
        "  count(dest)%>%\n",
        "  arrange(-n)%>%\n",
        "  head(10)%>%\n",
        "  ggplot(aes(x=dest,y=n))+\n",
        "  geom_bar(stat='identity') # top 10 destinations"
      ]
    },
    {
      "cell_type": "code",
      "source": [
        "flights%>%\n",
        "  count(dest)%>%\n",
        "  arrange(n)%>%\n",
        "  head(10)%>%\n",
        "  ggplot(aes(x=dest,y=n))+\n",
        "  geom_bar(stat='identity') # bottom 10 destinations"
      ],
      "metadata": {
        "colab": {
          "base_uri": "https://localhost:8080/",
          "height": 317
        },
        "id": "2vWMCvPkvn8s",
        "outputId": "4372281a-8559-4a05-a2f0-dd78e0b1e2a4"
      },
      "execution_count": 63,
      "outputs": [
        {
          "output_type": "display_data",
          "data": {
            "text/plain": [
              "plot without title"
            ],
            "image/png": "[encoded data removed]"
          },
          "metadata": {
            "image/png": {
              "width": 480,
              "height": 300
            }
          }
        }
      ]
    },
    {
      "cell_type": "markdown",
      "metadata": {
        "id": "rzNTKpnFfnRH"
      },
      "source": [
        "(We'll learn more strategies like this when we study categorical data after the midterm.)"
      ]
    },
    {
      "cell_type": "markdown",
      "metadata": {
        "id": "9Oe2mFcvfnRH"
      },
      "source": [
        "## Covariation\n",
        "**Covariation** is when multiple variables vary together in a similar way. Covariation is everwhere, e.g.:\n",
        "- Height and weight\n",
        "- Political preference and religion\n",
        "- Income this year vs. income last year\n",
        "- Etc.\n",
        "\n",
        "One of the best way to spot covariation is to visualize the \"joint distribution\" of both variables."
      ]
    },
    {
      "cell_type": "markdown",
      "metadata": {
        "id": "mqrZz-0JfnRI"
      },
      "source": [
        "When studying covariation among two variables, there are three possibilities, depending on whether the variables are continuous, discrete, or a mixture."
      ]
    },
    {
      "cell_type": "markdown",
      "metadata": {
        "id": "_Z1Pl0jwfnRI"
      },
      "source": [
        "## Continuous and discrete \n",
        "With one continuous and one discrete variable, there are several choices:\n",
        "- Box-and-whisker plot\n",
        "- Multiple/colored histograms"
      ]
    },
    {
      "cell_type": "markdown",
      "metadata": {
        "id": "GbJqfB40fnRI"
      },
      "source": [
        "Let's return to the `morley` dataset and consider covariation between `Expt` (experiment) and `Speed`:"
      ]
    },
    {
      "cell_type": "code",
      "execution_count": null,
      "metadata": {
        "id": "aiyvm9fWfnRI",
        "outputId": "30bb9b3b-0b46-4225-e6cc-2c3daf8dbac6"
      },
      "outputs": [
        {
          "name": "stderr",
          "output_type": "stream",
          "text": [
            "\u001b[1m\u001b[22m`stat_bin()` using `bins = 30`. Pick better value with `binwidth`.\n"
          ]
        },
        {
          "data": {
            "image/png": "[encoded data removed]",
            "text/plain": [
              "plot without title"
            ]
          },
          "metadata": {
            "image/png": {
              "height": 300,
              "width": 480
            }
          },
          "output_type": "display_data"
        }
      ],
      "source": [
        "ggplot(morley) + geom_histogram(aes(x = Speed)) + facet_wrap(~ Expt)"
      ]
    },
    {
      "cell_type": "markdown",
      "metadata": {
        "id": "xbJbQjwDfnRI"
      },
      "source": [
        "Let's study covariation of `cut` and `price` in the `diamonds` data set."
      ]
    },
    {
      "cell_type": "code",
      "execution_count": 64,
      "metadata": {
        "id": "YGGUX57zfnRJ",
        "colab": {
          "base_uri": "https://localhost:8080/",
          "height": 317
        },
        "outputId": "801ee14a-6a6e-4383-e92a-f505e2c925d6"
      },
      "outputs": [
        {
          "output_type": "display_data",
          "data": {
            "text/plain": [
              "plot without title"
            ],
            "image/png": "[encoded data removed]"
          },
          "metadata": {
            "image/png": {
              "width": 480,
              "height": 300
            }
          }
        }
      ],
      "source": [
        "# boxplot cut vs price\n",
        "diamonds%>%\n",
        "  ggplot(aes(x=cut,y=price))+\n",
        "  geom_boxplot()"
      ]
    },
    {
      "cell_type": "markdown",
      "metadata": {
        "id": "V8llapFnfnRJ"
      },
      "source": [
        "## Two discrete variables\n",
        "To study covariation between two discrete variables, we can count the number of observations for each combination of values:"
      ]
    },
    {
      "cell_type": "code",
      "execution_count": 65,
      "metadata": {
        "id": "kMM1fbPwfnRJ",
        "colab": {
          "base_uri": "https://localhost:8080/",
          "height": 317
        },
        "outputId": "d612052b-ae9b-4f72-ec6c-84aee43b733c"
      },
      "outputs": [
        {
          "output_type": "display_data",
          "data": {
            "text/plain": [
              "plot without title"
            ],
            "image/png": "[encoded data removed]"
          },
          "metadata": {
            "image/png": {
              "width": 480,
              "height": 300
            }
          }
        }
      ],
      "source": [
        "# geom_count to count the number of values for color and cut\n",
        "diamonds%>%\n",
        "  ggplot(aes(x=color,y=cut))+\n",
        "  geom_count()"
      ]
    },
    {
      "cell_type": "markdown",
      "metadata": {
        "id": "gw7h_BX5fnRJ"
      },
      "source": [
        "Another type of plot you will see often (especially in bio) is a heat map:"
      ]
    },
    {
      "cell_type": "code",
      "execution_count": 67,
      "metadata": {
        "id": "33wacxrIfnRJ",
        "colab": {
          "base_uri": "https://localhost:8080/",
          "height": 317
        },
        "outputId": "7759531c-f1b4-43e0-bcd4-07ce350681dd"
      },
      "outputs": [
        {
          "output_type": "display_data",
          "data": {
            "text/plain": [
              "plot without title"
            ],
            "image/png": "[encoded data removed]"
          },
          "metadata": {
            "image/png": {
              "width": 480,
              "height": 300
            }
          }
        }
      ],
      "source": [
        "# geom_tile to count the number of values for color and cut\n",
        "diamonds%>%\n",
        "  count(color,cut)%>%\n",
        "  ggplot(aes(x=color,y=cut,fill=n))+\n",
        "  geom_tile()"
      ]
    },
    {
      "cell_type": "markdown",
      "metadata": {
        "id": "Jj1m1EGofnRJ"
      },
      "source": [
        "## Two continuous variables\n",
        "Finally, if we're studying the covariation between two continuous variables, we have several options:\n",
        "- Scatter plot (`geom_point`)\n",
        "- Binning (`geom_bin2d`/`geom_hex`)\n",
        "- Contour/bivariate density (`geom_density_2d`)"
      ]
    },
    {
      "cell_type": "code",
      "execution_count": null,
      "metadata": {
        "id": "lUHaPHONfnRK"
      },
      "outputs": [],
      "source": [
        "# different geoms for carat vs. price"
      ]
    },
    {
      "cell_type": "markdown",
      "metadata": {
        "id": "uNeyBqUYfnRK"
      },
      "source": [
        "## Three or more variables\n",
        "Sometimes we even want to study the covariance among of three or more variables. Visualizing >2 dimensional data is, in general, challenging. The best solution tends to depend on the problem at hand."
      ]
    },
    {
      "cell_type": "markdown",
      "metadata": {
        "id": "HNBlpK5SfnRK"
      },
      "source": [
        "## Speed of light\n",
        "Let's consider covariation between all three variables in `morley`:"
      ]
    },
    {
      "cell_type": "code",
      "execution_count": null,
      "metadata": {
        "id": "g6ra-meGfnRK"
      },
      "outputs": [],
      "source": [
        "# covariation between Speed, Run, and Expt"
      ]
    },
    {
      "cell_type": "markdown",
      "metadata": {
        "id": "MOuPkT8ufnRL"
      },
      "source": [
        "## Millenials\n",
        "Let's use these techniques to explore a data set released by the [Pew Research Center](https://www.pewsocialtrends.org/2010/02/24/millennials-confident-connected-open-to-change/) on ... millennials!\n",
        "\n",
        "![millennials](https://images2.minutemediacdn.com/image/upload/c_crop,h_1189,w_2119,x_0,y_225/f_auto,q_auto,w_1100/v1561494201/shape/mentalfloss/586493-istock-862201574.jpg)"
      ]
    },
    {
      "cell_type": "code",
      "execution_count": null,
      "metadata": {
        "id": "oE3Up5_FfnRM",
        "outputId": "f4366517-c5c4-4b28-e9fc-7e2be653a46a"
      },
      "outputs": [
        {
          "data": {
            "text/html": [
              "<table class=\"dataframe\">\n",
              "<caption>A tibble: 2020 × 31</caption>\n",
              "<thead>\n",
              "\t<tr><th scope=col>age</th><th scope=col>state</th><th scope=col>q1</th><th scope=col>q8a</th><th scope=col>q8b</th><th scope=col>q8c</th><th scope=col>q8d</th><th scope=col>q8e</th><th scope=col>q8f</th><th scope=col>q8g</th><th scope=col>⋯</th><th scope=col>q44g</th><th scope=col>q44i</th><th scope=col>q45a</th><th scope=col>q46</th><th scope=col>employ</th><th scope=col>lwp</th><th scope=col>finan</th><th scope=col>home2</th><th scope=col>educ</th><th scope=col>health</th></tr>\n",
              "\t<tr><th scope=col>&lt;fct&gt;</th><th scope=col>&lt;chr&gt;</th><th scope=col>&lt;fct&gt;</th><th scope=col>&lt;fct&gt;</th><th scope=col>&lt;fct&gt;</th><th scope=col>&lt;fct&gt;</th><th scope=col>&lt;fct&gt;</th><th scope=col>&lt;fct&gt;</th><th scope=col>&lt;fct&gt;</th><th scope=col>&lt;fct&gt;</th><th scope=col>⋯</th><th scope=col>&lt;fct&gt;</th><th scope=col>&lt;fct&gt;</th><th scope=col>&lt;fct&gt;</th><th scope=col>&lt;fct&gt;</th><th scope=col>&lt;fct&gt;</th><th scope=col>&lt;fct&gt;</th><th scope=col>&lt;fct&gt;</th><th scope=col>&lt;fct&gt;</th><th scope=col>&lt;fct&gt;</th><th scope=col>&lt;fct&gt;</th></tr>\n",
              "</thead>\n",
              "<tbody>\n",
              "\t<tr><td>28                    </td><td>NY</td><td>Very happy   </td><td>Very important but not the most </td><td>Very important but not the most </td><td>Very important but not the most </td><td>Very important but not the most </td><td>Very important but not the most </td><td>Not important                   </td><td>Very important but not the most </td><td>⋯</td><td>NA </td><td>NA </td><td>No </td><td>NA</td><td>Full-time   </td><td>NA                                             </td><td>No</td><td>Rent</td><td>Some college, no 4-year degree (including associate degree)                                                             </td><td>Covered by health insurance    </td></tr>\n",
              "\t<tr><td>33                    </td><td>NE</td><td>Very happy   </td><td>Not important                   </td><td>One of the most important things</td><td>One of the most important things</td><td>Very important but not the most </td><td>Very important but not the most </td><td>Not important                   </td><td>One of the most important things</td><td>⋯</td><td>NA </td><td>NA </td><td>Yes</td><td>1 </td><td>Part-time   </td><td>NA                                             </td><td>No</td><td>NA  </td><td>Some college, no 4-year degree (including associate degree)                                                             </td><td>Covered by health insurance    </td></tr>\n",
              "\t<tr><td>45                    </td><td>IN</td><td>Pretty happy </td><td>Somewhat important              </td><td>One of the most important things</td><td>Somewhat important              </td><td>One of the most important things</td><td>Somewhat important              </td><td>Not important                   </td><td>Somewhat important              </td><td>⋯</td><td>Yes</td><td>No </td><td>No </td><td>NA</td><td>Not employed</td><td>Lived with current spouse before married       </td><td>NA</td><td>NA  </td><td>College graduate (B.S., B.A., or other 4-year degree)                                                                   </td><td>Covered by health insurance    </td></tr>\n",
              "\t<tr><td>66                    </td><td>IN</td><td>Very happy   </td><td>Very important but not the most </td><td>Very important but not the most </td><td>Very important but not the most </td><td>Very important but not the most </td><td>Somewhat important              </td><td>Not important                   </td><td>Very important but not the most </td><td>⋯</td><td>NA </td><td>NA </td><td>No </td><td>NA</td><td>Part-time   </td><td>NA                                             </td><td>NA</td><td>NA  </td><td>High school incomplete (Grades 9-11)                                                                                    </td><td>Covered by health insurance    </td></tr>\n",
              "\t<tr><td>52                    </td><td>VA</td><td>Very happy   </td><td>One of the most important things</td><td>Very important but not the most </td><td>Very important but not the most </td><td>One of the most important things</td><td>Somewhat important              </td><td>Not important                   </td><td>Very important but not the most </td><td>⋯</td><td>Yes</td><td>Yes</td><td>No </td><td>NA</td><td>Full-time   </td><td>Lived with both current spouse and someone else</td><td>NA</td><td>NA  </td><td>College graduate (B.S., B.A., or other 4-year degree)                                                                   </td><td>Covered by health insurance    </td></tr>\n",
              "\t<tr><td>VOL DON'T KNOW/REFUSED</td><td>MD</td><td>Very happy   </td><td>Somewhat important              </td><td>One of the most important things</td><td>One of the most important things</td><td>Very important but not the most </td><td>Somewhat important              </td><td>Not important                   </td><td>(VOL) Don't know/Refused        </td><td>⋯</td><td>NA </td><td>Yes</td><td>No </td><td>NA</td><td>Not employed</td><td>NA                                             </td><td>NA</td><td>NA  </td><td>Some college, no 4-year degree (including associate degree)                                                             </td><td>Covered by health insurance    </td></tr>\n",
              "\t<tr><td>60                    </td><td>PA</td><td>Pretty happy </td><td>Not important                   </td><td>One of the most important things</td><td>One of the most important things</td><td>One of the most important things</td><td>One of the most important things</td><td>Not important                   </td><td>One of the most important things</td><td>⋯</td><td>NA </td><td>NA </td><td>No </td><td>NA</td><td>Not employed</td><td>NA                                             </td><td>NA</td><td>NA  </td><td>Some college, no 4-year degree (including associate degree)                                                             </td><td>Covered by health insurance    </td></tr>\n",
              "\t<tr><td>54                    </td><td>NC</td><td>Not too happy</td><td>Very important but not the most </td><td>Very important but not the most </td><td>Very important but not the most </td><td>One of the most important things</td><td>Very important but not the most </td><td>Not important                   </td><td>Very important but not the most </td><td>⋯</td><td>NA </td><td>No </td><td>Yes</td><td>1 </td><td>Full-time   </td><td>NA                                             </td><td>NA</td><td>NA  </td><td>High school graduate (Grade 12 or GED certificate)                                                                      </td><td>Covered by health insurance    </td></tr>\n",
              "\t<tr><td>48                    </td><td>FL</td><td>Pretty happy </td><td>Somewhat important              </td><td>One of the most important things</td><td>One of the most important things</td><td>One of the most important things</td><td>Very important but not the most </td><td>Not important                   </td><td>Very important but not the most </td><td>⋯</td><td>No </td><td>No </td><td>No </td><td>NA</td><td>Not employed</td><td>NA                                             </td><td>NA</td><td>NA  </td><td>Some college, no 4-year degree (including associate degree)                                                             </td><td>Covered by health insurance    </td></tr>\n",
              "\t<tr><td>48                    </td><td>MO</td><td>Pretty happy </td><td>Somewhat important              </td><td>Very important but not the most </td><td>Very important but not the most </td><td>One of the most important things</td><td>Very important but not the most </td><td>Not important                   </td><td>One of the most important things</td><td>⋯</td><td>No </td><td>Yes</td><td>No </td><td>NA</td><td>Full-time   </td><td>NA                                             </td><td>NA</td><td>NA  </td><td>College graduate (B.S., B.A., or other 4-year degree)                                                                   </td><td>Covered by health insurance    </td></tr>\n",
              "\t<tr><td>63                    </td><td>SD</td><td>Pretty happy </td><td>Not important                   </td><td>One of the most important things</td><td>One of the most important things</td><td>One of the most important things</td><td>Very important but not the most </td><td>Not important                   </td><td>Very important but not the most </td><td>⋯</td><td>No </td><td>No </td><td>No </td><td>NA</td><td>Not employed</td><td>NA                                             </td><td>NA</td><td>NA  </td><td>Post-graduate training or professional schooling after college (e.g., toward a master's Degree or Ph.D., law or medical </td><td>Covered by health insurance    </td></tr>\n",
              "\t<tr><td>44                    </td><td>MA</td><td>Pretty happy </td><td>Somewhat important              </td><td>Very important but not the most </td><td>Somewhat important              </td><td>Very important but not the most </td><td>Very important but not the most </td><td>Not important                   </td><td>Somewhat important              </td><td>⋯</td><td>NA </td><td>Yes</td><td>No </td><td>NA</td><td>Not employed</td><td>Lived with current spouse before married       </td><td>NA</td><td>NA  </td><td>Post-graduate training or professional schooling after college (e.g., toward a master's Degree or Ph.D., law or medical </td><td>Covered by health insurance    </td></tr>\n",
              "\t<tr><td>83                    </td><td>TN</td><td>Pretty happy </td><td>Somewhat important              </td><td>Very important but not the most </td><td>Very important but not the most </td><td>One of the most important things</td><td>Very important but not the most </td><td>Not important                   </td><td>Very important but not the most </td><td>⋯</td><td>NA </td><td>No </td><td>No </td><td>NA</td><td>Not employed</td><td>NA                                             </td><td>NA</td><td>NA  </td><td>High school incomplete (Grades 9-11)                                                                                    </td><td>Covered by health insurance    </td></tr>\n",
              "\t<tr><td>53                    </td><td>VA</td><td>Very happy   </td><td>Very important but not the most </td><td>Very important but not the most </td><td>Very important but not the most </td><td>Very important but not the most </td><td>Somewhat important              </td><td>Not important                   </td><td>Very important but not the most </td><td>⋯</td><td>NA </td><td>Yes</td><td>No </td><td>NA</td><td>Full-time   </td><td>NA                                             </td><td>NA</td><td>NA  </td><td>Post-graduate training or professional schooling after college (e.g., toward a master's Degree or Ph.D., law or medical </td><td>Covered by health insurance    </td></tr>\n",
              "\t<tr><td>83                    </td><td>MI</td><td>Not too happy</td><td>Not important                   </td><td>One of the most important things</td><td>One of the most important things</td><td>(VOL) Don't know/Refused        </td><td>(VOL) Don't know/Refused        </td><td>Not important                   </td><td>Very important but not the most </td><td>⋯</td><td>NA </td><td>NA </td><td>No </td><td>NA</td><td>Not employed</td><td>NA                                             </td><td>NA</td><td>NA  </td><td>Some college, no 4-year degree (including associate degree)                                                             </td><td>Covered by health insurance    </td></tr>\n",
              "\t<tr><td>48                    </td><td>IA</td><td>Pretty happy </td><td>Somewhat important              </td><td>Very important but not the most </td><td>Somewhat important              </td><td>One of the most important things</td><td>Not important                   </td><td>Not important                   </td><td>Somewhat important              </td><td>⋯</td><td>No </td><td>No </td><td>No </td><td>NA</td><td>Part-time   </td><td>Lived with current spouse before married       </td><td>NA</td><td>NA  </td><td>Some college, no 4-year degree (including associate degree)                                                             </td><td>Covered by health insurance    </td></tr>\n",
              "\t<tr><td>54                    </td><td>SC</td><td>Very happy   </td><td>Not important                   </td><td>Very important but not the most </td><td>Very important but not the most </td><td>Very important but not the most </td><td>Somewhat important              </td><td>Not important                   </td><td>Very important but not the most </td><td>⋯</td><td>NA </td><td>No </td><td>No </td><td>NA</td><td>Part-time   </td><td>NA                                             </td><td>NA</td><td>NA  </td><td>High school graduate (Grade 12 or GED certificate)                                                                      </td><td>Covered by health insurance    </td></tr>\n",
              "\t<tr><td>78                    </td><td>TX</td><td>Very happy   </td><td>Somewhat important              </td><td>Very important but not the most </td><td>Very important but not the most </td><td>One of the most important things</td><td>Very important but not the most </td><td>Somewhat important              </td><td>Very important but not the most </td><td>⋯</td><td>NA </td><td>NA </td><td>No </td><td>NA</td><td>Not employed</td><td>NA                                             </td><td>NA</td><td>NA  </td><td>High school graduate (Grade 12 or GED certificate)                                                                      </td><td>Covered by health insurance    </td></tr>\n",
              "\t<tr><td>51                    </td><td>IL</td><td>Pretty happy </td><td>Very important but not the most </td><td>One of the most important things</td><td>One of the most important things</td><td>One of the most important things</td><td>One of the most important things</td><td>One of the most important things</td><td>One of the most important things</td><td>⋯</td><td>NA </td><td>NA </td><td>No </td><td>NA</td><td>Part-time   </td><td>Lived with current spouse before married       </td><td>NA</td><td>NA  </td><td>High school graduate (Grade 12 or GED certificate)                                                                      </td><td>Covered by health insurance    </td></tr>\n",
              "\t<tr><td>50                    </td><td>GA</td><td>Not too happy</td><td>Somewhat important              </td><td>One of the most important things</td><td>One of the most important things</td><td>One of the most important things</td><td>Somewhat important              </td><td>Not important                   </td><td>Very important but not the most </td><td>⋯</td><td>Yes</td><td>Yes</td><td>No </td><td>NA</td><td>Full-time   </td><td>NA                                             </td><td>NA</td><td>NA  </td><td>Post-graduate training or professional schooling after college (e.g., toward a master's Degree or Ph.D., law or medical </td><td>Covered by health insurance    </td></tr>\n",
              "\t<tr><td>51                    </td><td>NC</td><td>Very happy   </td><td>Somewhat important              </td><td>One of the most important things</td><td>Very important but not the most </td><td>Not important                   </td><td>Somewhat important              </td><td>Not important                   </td><td>Very important but not the most </td><td>⋯</td><td>NA </td><td>No </td><td>No </td><td>NA</td><td>Not employed</td><td>NA                                             </td><td>NA</td><td>NA  </td><td>Some college, no 4-year degree (including associate degree)                                                             </td><td>Covered by health insurance    </td></tr>\n",
              "\t<tr><td>55                    </td><td>NJ</td><td>Very happy   </td><td>Somewhat important              </td><td>One of the most important things</td><td>One of the most important things</td><td>One of the most important things</td><td>Very important but not the most </td><td>Not important                   </td><td>Very important but not the most </td><td>⋯</td><td>NA </td><td>No </td><td>No </td><td>NA</td><td>Not employed</td><td>NA                                             </td><td>NA</td><td>NA  </td><td>Post-graduate training or professional schooling after college (e.g., toward a master's Degree or Ph.D., law or medical </td><td>Covered by health insurance    </td></tr>\n",
              "\t<tr><td>68                    </td><td>SC</td><td>Pretty happy </td><td>Somewhat important              </td><td>Very important but not the most </td><td>Very important but not the most </td><td>One of the most important things</td><td>Somewhat important              </td><td>Not important                   </td><td>Very important but not the most </td><td>⋯</td><td>NA </td><td>NA </td><td>No </td><td>NA</td><td>Not employed</td><td>NA                                             </td><td>NA</td><td>NA  </td><td>Some college, no 4-year degree (including associate degree)                                                             </td><td>Covered by health insurance    </td></tr>\n",
              "\t<tr><td>36                    </td><td>VT</td><td>Pretty happy </td><td>Somewhat important              </td><td>Very important but not the most </td><td>Not important                   </td><td>Very important but not the most </td><td>Somewhat important              </td><td>Not important                   </td><td>Somewhat important              </td><td>⋯</td><td>NA </td><td>No </td><td>No </td><td>NA</td><td>Full-time   </td><td>Lived with both current spouse and someone else</td><td>No</td><td>NA  </td><td>Post-graduate training or professional schooling after college (e.g., toward a master's Degree or Ph.D., law or medical </td><td>Covered by health insurance    </td></tr>\n",
              "\t<tr><td>26                    </td><td>NY</td><td>Not too happy</td><td>Very important but not the most </td><td>One of the most important things</td><td>Not important                   </td><td>One of the most important things</td><td>One of the most important things</td><td>Not important                   </td><td>Very important but not the most </td><td>⋯</td><td>No </td><td>Yes</td><td>Yes</td><td>1 </td><td>Full-time   </td><td>NA                                             </td><td>No</td><td>Own </td><td>College graduate (B.S., B.A., or other 4-year degree)                                                                   </td><td>Covered by health insurance    </td></tr>\n",
              "\t<tr><td>69                    </td><td>RI</td><td>Pretty happy </td><td>Somewhat important              </td><td>Very important but not the most </td><td>Not important                   </td><td>Very important but not the most </td><td>Very important but not the most </td><td>Not important                   </td><td>Very important but not the most </td><td>⋯</td><td>No </td><td>No </td><td>No </td><td>NA</td><td>Not employed</td><td>NA                                             </td><td>NA</td><td>NA  </td><td>College graduate (B.S., B.A., or other 4-year degree)                                                                   </td><td>Covered by health insurance    </td></tr>\n",
              "\t<tr><td>55                    </td><td>NC</td><td>Very happy   </td><td>Very important but not the most </td><td>(VOL) Don't know/Refused        </td><td>One of the most important things</td><td>Very important but not the most </td><td>Very important but not the most </td><td>Not important                   </td><td>Very important but not the most </td><td>⋯</td><td>Yes</td><td>Yes</td><td>No </td><td>NA</td><td>Not employed</td><td>NA                                             </td><td>NA</td><td>NA  </td><td>Some college, no 4-year degree (including associate degree)                                                             </td><td>Covered by health insurance    </td></tr>\n",
              "\t<tr><td>41                    </td><td>KY</td><td>Not too happy</td><td>Very important but not the most </td><td>Very important but not the most </td><td>Somewhat important              </td><td>Very important but not the most </td><td>Very important but not the most </td><td>Very important but not the most </td><td>Somewhat important              </td><td>⋯</td><td>NA </td><td>NA </td><td>Yes</td><td>4 </td><td>Not employed</td><td>NA                                             </td><td>NA</td><td>NA  </td><td>High school incomplete (Grades 9-11)                                                                                    </td><td>Not covered by health insurance</td></tr>\n",
              "\t<tr><td>38                    </td><td>IN</td><td>Very happy   </td><td>One of the most important things</td><td>Somewhat important              </td><td>Very important but not the most </td><td>One of the most important things</td><td>Very important but not the most </td><td>Not important                   </td><td>One of the most important things</td><td>⋯</td><td>Yes</td><td>No </td><td>Yes</td><td>3 </td><td>Full-time   </td><td>NA                                             </td><td>No</td><td>NA  </td><td>High school graduate (Grade 12 or GED certificate)                                                                      </td><td>Covered by health insurance    </td></tr>\n",
              "\t<tr><td>69                    </td><td>PA</td><td>Very happy   </td><td>Somewhat important              </td><td>Not important                   </td><td>One of the most important things</td><td>One of the most important things</td><td>One of the most important things</td><td>Not important                   </td><td>One of the most important things</td><td>⋯</td><td>NA </td><td>No </td><td>No </td><td>NA</td><td>Full-time   </td><td>NA                                             </td><td>NA</td><td>NA  </td><td>High school graduate (Grade 12 or GED certificate)                                                                      </td><td>(VOL) Don't know/Refused       </td></tr>\n",
              "\t<tr><td>⋮</td><td>⋮</td><td>⋮</td><td>⋮</td><td>⋮</td><td>⋮</td><td>⋮</td><td>⋮</td><td>⋮</td><td>⋮</td><td>⋱</td><td>⋮</td><td>⋮</td><td>⋮</td><td>⋮</td><td>⋮</td><td>⋮</td><td>⋮</td><td>⋮</td><td>⋮</td><td>⋮</td></tr>\n",
              "\t<tr><td>19</td><td>MS</td><td>Very happy   </td><td>Not important                   </td><td>Very important but not the most </td><td>One of the most important things</td><td>One of the most important things</td><td>Very important but not the most </td><td>Not important                  </td><td>Very important but not the most </td><td>⋯</td><td>Yes</td><td>Yes</td><td>No </td><td>NA</td><td>Not employed</td><td>NA                                             </td><td>Yes</td><td>Live in a dorm         </td><td>Some college, no 4-year degree (including associate degree)</td><td>Covered by health insurance    </td></tr>\n",
              "\t<tr><td>20</td><td>NY</td><td>Very happy   </td><td>Not important                   </td><td>Very important but not the most </td><td>Not important                   </td><td>Very important but not the most </td><td>Very important but not the most </td><td>Not important                  </td><td>Not important                   </td><td>⋯</td><td>Yes</td><td>Yes</td><td>No </td><td>NA</td><td>Not employed</td><td>NA                                             </td><td>Yes</td><td>Live in a dorm         </td><td>Some college, no 4-year degree (including associate degree)</td><td>Covered by health insurance    </td></tr>\n",
              "\t<tr><td>24</td><td>MI</td><td>Pretty happy </td><td>Very important but not the most </td><td>One of the most important things</td><td>Very important but not the most </td><td>One of the most important things</td><td>One of the most important things</td><td>Not important                  </td><td>One of the most important things</td><td>⋯</td><td>NA </td><td>Yes</td><td>No </td><td>NA</td><td>Full-time   </td><td>NA                                             </td><td>No </td><td>Live with parents      </td><td>College graduate (B.S., B.A., or other 4-year degree)      </td><td>Covered by health insurance    </td></tr>\n",
              "\t<tr><td>29</td><td>WI</td><td>Pretty happy </td><td>Not important                   </td><td>Very important but not the most </td><td>Very important but not the most </td><td>Somewhat important              </td><td>Somewhat important              </td><td>Not important                  </td><td>Somewhat important              </td><td>⋯</td><td>Yes</td><td>Yes</td><td>No </td><td>NA</td><td>Not employed</td><td>Lived with current spouse before married       </td><td>No </td><td>Rent                   </td><td>Technical, trade, or vocational school AFTER high school   </td><td>Covered by health insurance    </td></tr>\n",
              "\t<tr><td>24</td><td>IL</td><td>Very happy   </td><td>Very important but not the most </td><td>One of the most important things</td><td>Very important but not the most </td><td>One of the most important things</td><td>One of the most important things</td><td>Somewhat important             </td><td>Very important but not the most </td><td>⋯</td><td>Yes</td><td>Yes</td><td>No </td><td>NA</td><td>Full-time   </td><td>NA                                             </td><td>No </td><td>Own                    </td><td>College graduate (B.S., B.A., or other 4-year degree)      </td><td>Covered by health insurance    </td></tr>\n",
              "\t<tr><td>24</td><td>IL</td><td>Pretty happy </td><td>Very important but not the most </td><td>Very important but not the most </td><td>Somewhat important              </td><td>Very important but not the most </td><td>Somewhat important              </td><td>Not important                  </td><td>Very important but not the most </td><td>⋯</td><td>Yes</td><td>Yes</td><td>Yes</td><td>2 </td><td>Part-time   </td><td>NA                                             </td><td>No </td><td>Rent                   </td><td>College graduate (B.S., B.A., or other 4-year degree)      </td><td>Covered by health insurance    </td></tr>\n",
              "\t<tr><td>23</td><td>TX</td><td>Very happy   </td><td>Very important but not the most </td><td>One of the most important things</td><td>Not important                   </td><td>One of the most important things</td><td>Very important but not the most </td><td>Not important                  </td><td>Very important but not the most </td><td>⋯</td><td>Yes</td><td>Yes</td><td>Yes</td><td>7 </td><td>Full-time   </td><td>Lived with current spouse before married       </td><td>No </td><td>Rent                   </td><td>High school graduate (Grade 12 or GED certificate)         </td><td>Not covered by health insurance</td></tr>\n",
              "\t<tr><td>21</td><td>ND</td><td>Pretty happy </td><td>Very important but not the most </td><td>One of the most important things</td><td>Very important but not the most </td><td>One of the most important things</td><td>Very important but not the most </td><td>Not important                  </td><td>One of the most important things</td><td>⋯</td><td>Yes</td><td>Yes</td><td>Yes</td><td>1 </td><td>Part-time   </td><td>NA                                             </td><td>Yes</td><td>Rent                   </td><td>Technical, trade, or vocational school AFTER high school   </td><td>Covered by health insurance    </td></tr>\n",
              "\t<tr><td>23</td><td>NY</td><td>Pretty happy </td><td>Somewhat important              </td><td>One of the most important things</td><td>Not important                   </td><td>Very important but not the most </td><td>One of the most important things</td><td>Not important                  </td><td>Very important but not the most </td><td>⋯</td><td>Yes</td><td>Yes</td><td>Yes</td><td>3 </td><td>Full-time   </td><td>NA                                             </td><td>No </td><td>Live with parents      </td><td>Some college, no 4-year degree (including associate degree)</td><td>Covered by health insurance    </td></tr>\n",
              "\t<tr><td>27</td><td>PA</td><td>Very happy   </td><td>Somewhat important              </td><td>One of the most important things</td><td>Somewhat important              </td><td>One of the most important things</td><td>Very important but not the most </td><td>Not important                  </td><td>Very important but not the most </td><td>⋯</td><td>Yes</td><td>Yes</td><td>Yes</td><td>1 </td><td>Full-time   </td><td>Lived with current spouse before married       </td><td>No </td><td>Own                    </td><td>College graduate (B.S., B.A., or other 4-year degree)      </td><td>Covered by health insurance    </td></tr>\n",
              "\t<tr><td>19</td><td>NJ</td><td>Very happy   </td><td>Very important but not the most </td><td>Somewhat important              </td><td>Not important                   </td><td>Very important but not the most </td><td>Very important but not the most </td><td>Very important but not the most</td><td>Not important                   </td><td>⋯</td><td>NA </td><td>Yes</td><td>Yes</td><td>6 </td><td>Not employed</td><td>NA                                             </td><td>Yes</td><td>(VOL) Other arrangement</td><td>None, or grade 1-8                                         </td><td>Not covered by health insurance</td></tr>\n",
              "\t<tr><td>18</td><td>ME</td><td>Pretty happy </td><td>One of the most important things</td><td>One of the most important things</td><td>Very important but not the most </td><td>One of the most important things</td><td>Very important but not the most </td><td>Not important                  </td><td>Somewhat important              </td><td>⋯</td><td>Yes</td><td>Yes</td><td>Yes</td><td>1 </td><td>Part-time   </td><td>NA                                             </td><td>No </td><td>Rent                   </td><td>High school incomplete (Grades 9-11)                       </td><td>Covered by health insurance    </td></tr>\n",
              "\t<tr><td>22</td><td>NY</td><td>Pretty happy </td><td>Very important but not the most </td><td>One of the most important things</td><td>Not important                   </td><td>One of the most important things</td><td>Very important but not the most </td><td>Not important                  </td><td>Very important but not the most </td><td>⋯</td><td>Yes</td><td>Yes</td><td>No </td><td>NA</td><td>Not employed</td><td>NA                                             </td><td>Yes</td><td>Live with parents      </td><td>College graduate (B.S., B.A., or other 4-year degree)      </td><td>Covered by health insurance    </td></tr>\n",
              "\t<tr><td>19</td><td>SC</td><td>Pretty happy </td><td>One of the most important things</td><td>Very important but not the most </td><td>Very important but not the most </td><td>Very important but not the most </td><td>Very important but not the most </td><td>Not important                  </td><td>Very important but not the most </td><td>⋯</td><td>Yes</td><td>Yes</td><td>Yes</td><td>1 </td><td>Part-time   </td><td>NA                                             </td><td>Yes</td><td>Live with parents      </td><td>High school graduate (Grade 12 or GED certificate)         </td><td>Covered by health insurance    </td></tr>\n",
              "\t<tr><td>23</td><td>OH</td><td>Pretty happy </td><td>Not important                   </td><td>Very important but not the most </td><td>Very important but not the most </td><td>Very important but not the most </td><td>Somewhat important              </td><td>Not important                  </td><td>One of the most important things</td><td>⋯</td><td>Yes</td><td>Yes</td><td>No </td><td>NA</td><td>Full-time   </td><td>NA                                             </td><td>No </td><td>Rent                   </td><td>College graduate (B.S., B.A., or other 4-year degree)      </td><td>Covered by health insurance    </td></tr>\n",
              "\t<tr><td>29</td><td>IL</td><td>Pretty happy </td><td>Not important                   </td><td>Very important but not the most </td><td>Not important                   </td><td>Very important but not the most </td><td>Somewhat important              </td><td>Not important                  </td><td>Somewhat important              </td><td>⋯</td><td>Yes</td><td>Yes</td><td>Yes</td><td>1 </td><td>Full-time   </td><td>Lived with both current spouse and someone else</td><td>No </td><td>Own                    </td><td>College graduate (B.S., B.A., or other 4-year degree)      </td><td>Covered by health insurance    </td></tr>\n",
              "\t<tr><td>23</td><td>MI</td><td>Pretty happy </td><td>Very important but not the most </td><td>One of the most important things</td><td>One of the most important things</td><td>One of the most important things</td><td>Very important but not the most </td><td>Not important                  </td><td>One of the most important things</td><td>⋯</td><td>Yes</td><td>Yes</td><td>No </td><td>NA</td><td>Full-time   </td><td>NA                                             </td><td>No </td><td>Rent                   </td><td>Some college, no 4-year degree (including associate degree)</td><td>Covered by health insurance    </td></tr>\n",
              "\t<tr><td>29</td><td>FL</td><td>Pretty happy </td><td>Somewhat important              </td><td>One of the most important things</td><td>Somewhat important              </td><td>One of the most important things</td><td>Somewhat important              </td><td>Not important                  </td><td>Somewhat important              </td><td>⋯</td><td>Yes</td><td>No </td><td>No </td><td>NA</td><td>Full-time   </td><td>Lived with both current spouse and someone else</td><td>No </td><td>Own                    </td><td>College graduate (B.S., B.A., or other 4-year degree)      </td><td>Covered by health insurance    </td></tr>\n",
              "\t<tr><td>26</td><td>CT</td><td>Very happy   </td><td>Very important but not the most </td><td>Very important but not the most </td><td>Very important but not the most </td><td>Very important but not the most </td><td>Very important but not the most </td><td>Not important                  </td><td>Very important but not the most </td><td>⋯</td><td>No </td><td>No </td><td>No </td><td>NA</td><td>Not employed</td><td>NA                                             </td><td>No </td><td>Rent                   </td><td>None, or grade 1-8                                         </td><td>Not covered by health insurance</td></tr>\n",
              "\t<tr><td>20</td><td>NY</td><td>Pretty happy </td><td>One of the most important things</td><td>Not important                   </td><td>Very important but not the most </td><td>Very important but not the most </td><td>Very important but not the most </td><td>Not important                  </td><td>Not important                   </td><td>⋯</td><td>Yes</td><td>Yes</td><td>No </td><td>NA</td><td>Full-time   </td><td>NA                                             </td><td>No </td><td>Rent                   </td><td>High school graduate (Grade 12 or GED certificate)         </td><td>Covered by health insurance    </td></tr>\n",
              "\t<tr><td>23</td><td>FL</td><td>Pretty happy </td><td>Somewhat important              </td><td>Very important but not the most </td><td>Not important                   </td><td>One of the most important things</td><td>Somewhat important              </td><td>Not important                  </td><td>Very important but not the most </td><td>⋯</td><td>Yes</td><td>Yes</td><td>No </td><td>NA</td><td>Not employed</td><td>NA                                             </td><td>Yes</td><td>Live with parents      </td><td>Technical, trade, or vocational school AFTER high school   </td><td>Not covered by health insurance</td></tr>\n",
              "\t<tr><td>21</td><td>DC</td><td>Pretty happy </td><td>Somewhat important              </td><td>Very important but not the most </td><td>Not important                   </td><td>Very important but not the most </td><td>Very important but not the most </td><td>Not important                  </td><td>One of the most important things</td><td>⋯</td><td>Yes</td><td>Yes</td><td>No </td><td>NA</td><td>Full-time   </td><td>NA                                             </td><td>No </td><td>Rent                   </td><td>College graduate (B.S., B.A., or other 4-year degree)      </td><td>Covered by health insurance    </td></tr>\n",
              "\t<tr><td>21</td><td>IL</td><td>Not too happy</td><td>Somewhat important              </td><td>Very important but not the most </td><td>Somewhat important              </td><td>Somewhat important              </td><td>Not important                   </td><td>Not important                  </td><td>Somewhat important              </td><td>⋯</td><td>No </td><td>Yes</td><td>No </td><td>NA</td><td>Part-time   </td><td>NA                                             </td><td>Yes</td><td>Rent                   </td><td>Some college, no 4-year degree (including associate degree)</td><td>Covered by health insurance    </td></tr>\n",
              "\t<tr><td>26</td><td>KY</td><td>Very happy   </td><td>Very important but not the most </td><td>Very important but not the most </td><td>Somewhat important              </td><td>One of the most important things</td><td>Somewhat important              </td><td>Not important                  </td><td>Very important but not the most </td><td>⋯</td><td>Yes</td><td>No </td><td>Yes</td><td>26</td><td>Full-time   </td><td>NA                                             </td><td>No </td><td>Own                    </td><td>Some college, no 4-year degree (including associate degree)</td><td>Covered by health insurance    </td></tr>\n",
              "\t<tr><td>26</td><td>WI</td><td>Pretty happy </td><td>Somewhat important              </td><td>One of the most important things</td><td>Somewhat important              </td><td>One of the most important things</td><td>Very important but not the most </td><td>Not important                  </td><td>Somewhat important              </td><td>⋯</td><td>Yes</td><td>Yes</td><td>No </td><td>NA</td><td>Full-time   </td><td>NA                                             </td><td>No </td><td>Own                    </td><td>College graduate (B.S., B.A., or other 4-year degree)      </td><td>Covered by health insurance    </td></tr>\n",
              "\t<tr><td>20</td><td>MO</td><td>Not too happy</td><td>One of the most important things</td><td>Very important but not the most </td><td>Somewhat important              </td><td>Very important but not the most </td><td>Not important                   </td><td>Not important                  </td><td>Very important but not the most </td><td>⋯</td><td>Yes</td><td>Yes</td><td>Yes</td><td>4 </td><td>Full-time   </td><td>NA                                             </td><td>No </td><td>Rent                   </td><td>High school graduate (Grade 12 or GED certificate)         </td><td>Covered by health insurance    </td></tr>\n",
              "\t<tr><td>19</td><td>MS</td><td>Very happy   </td><td>Very important but not the most </td><td>Very important but not the most </td><td>Very important but not the most </td><td>Very important but not the most </td><td>Somewhat important              </td><td>Not important                  </td><td>Very important but not the most </td><td>⋯</td><td>Yes</td><td>Yes</td><td>Yes</td><td>1 </td><td>Not employed</td><td>NA                                             </td><td>No </td><td>Live with parents      </td><td>Some college, no 4-year degree (including associate degree)</td><td>Covered by health insurance    </td></tr>\n",
              "\t<tr><td>20</td><td>IA</td><td>Pretty happy </td><td>Somewhat important              </td><td>Very important but not the most </td><td>Somewhat important              </td><td>Very important but not the most </td><td>Somewhat important              </td><td>Not important                  </td><td>Very important but not the most </td><td>⋯</td><td>NA </td><td>Yes</td><td>No </td><td>NA</td><td>Not employed</td><td>NA                                             </td><td>No </td><td>Live with parents      </td><td>Some college, no 4-year degree (including associate degree)</td><td>Not covered by health insurance</td></tr>\n",
              "\t<tr><td>29</td><td>CA</td><td>Pretty happy </td><td>Somewhat important              </td><td>Very important but not the most </td><td>Not important                   </td><td>One of the most important things</td><td>Very important but not the most </td><td>Not important                  </td><td>Very important but not the most </td><td>⋯</td><td>No </td><td>Yes</td><td>No </td><td>NA</td><td>Not employed</td><td>NA                                             </td><td>No </td><td>Rent                   </td><td>Some college, no 4-year degree (including associate degree)</td><td>Covered by health insurance    </td></tr>\n",
              "\t<tr><td>28</td><td>TX</td><td>Not too happy</td><td>Very important but not the most </td><td>Very important but not the most </td><td>Very important but not the most </td><td>Very important but not the most </td><td>Very important but not the most </td><td>Not important                  </td><td>Very important but not the most </td><td>⋯</td><td>Yes</td><td>Yes</td><td>No </td><td>NA</td><td>Full-time   </td><td>NA                                             </td><td>No </td><td>Rent                   </td><td>Some college, no 4-year degree (including associate degree)</td><td>Not covered by health insurance</td></tr>\n",
              "</tbody>\n",
              "</table>\n"
            ],
            "text/latex": [
              "A tibble: 2020 × 31\n",
              "\\begin{tabular}{lllllllllllllllllllll}\n",
              " age & state & q1 & q8a & q8b & q8c & q8d & q8e & q8f & q8g & ⋯ & q44g & q44i & q45a & q46 & employ & lwp & finan & home2 & educ & health\\\\\n",
              " <fct> & <chr> & <fct> & <fct> & <fct> & <fct> & <fct> & <fct> & <fct> & <fct> & ⋯ & <fct> & <fct> & <fct> & <fct> & <fct> & <fct> & <fct> & <fct> & <fct> & <fct>\\\\\n",
              "\\hline\n",
              "\t 28                     & NY & Very happy    & Very important but not the most  & Very important but not the most  & Very important but not the most  & Very important but not the most  & Very important but not the most  & Not important                    & Very important but not the most  & ⋯ & NA  & NA  & No  & NA & Full-time    & NA                                              & No & Rent & Some college, no 4-year degree (including associate degree)                                                              & Covered by health insurance    \\\\\n",
              "\t 33                     & NE & Very happy    & Not important                    & One of the most important things & One of the most important things & Very important but not the most  & Very important but not the most  & Not important                    & One of the most important things & ⋯ & NA  & NA  & Yes & 1  & Part-time    & NA                                              & No & NA   & Some college, no 4-year degree (including associate degree)                                                              & Covered by health insurance    \\\\\n",
              "\t 45                     & IN & Pretty happy  & Somewhat important               & One of the most important things & Somewhat important               & One of the most important things & Somewhat important               & Not important                    & Somewhat important               & ⋯ & Yes & No  & No  & NA & Not employed & Lived with current spouse before married        & NA & NA   & College graduate (B.S., B.A., or other 4-year degree)                                                                    & Covered by health insurance    \\\\\n",
              "\t 66                     & IN & Very happy    & Very important but not the most  & Very important but not the most  & Very important but not the most  & Very important but not the most  & Somewhat important               & Not important                    & Very important but not the most  & ⋯ & NA  & NA  & No  & NA & Part-time    & NA                                              & NA & NA   & High school incomplete (Grades 9-11)                                                                                     & Covered by health insurance    \\\\\n",
              "\t 52                     & VA & Very happy    & One of the most important things & Very important but not the most  & Very important but not the most  & One of the most important things & Somewhat important               & Not important                    & Very important but not the most  & ⋯ & Yes & Yes & No  & NA & Full-time    & Lived with both current spouse and someone else & NA & NA   & College graduate (B.S., B.A., or other 4-year degree)                                                                    & Covered by health insurance    \\\\\n",
              "\t VOL DON'T KNOW/REFUSED & MD & Very happy    & Somewhat important               & One of the most important things & One of the most important things & Very important but not the most  & Somewhat important               & Not important                    & (VOL) Don't know/Refused         & ⋯ & NA  & Yes & No  & NA & Not employed & NA                                              & NA & NA   & Some college, no 4-year degree (including associate degree)                                                              & Covered by health insurance    \\\\\n",
              "\t 60                     & PA & Pretty happy  & Not important                    & One of the most important things & One of the most important things & One of the most important things & One of the most important things & Not important                    & One of the most important things & ⋯ & NA  & NA  & No  & NA & Not employed & NA                                              & NA & NA   & Some college, no 4-year degree (including associate degree)                                                              & Covered by health insurance    \\\\\n",
              "\t 54                     & NC & Not too happy & Very important but not the most  & Very important but not the most  & Very important but not the most  & One of the most important things & Very important but not the most  & Not important                    & Very important but not the most  & ⋯ & NA  & No  & Yes & 1  & Full-time    & NA                                              & NA & NA   & High school graduate (Grade 12 or GED certificate)                                                                       & Covered by health insurance    \\\\\n",
              "\t 48                     & FL & Pretty happy  & Somewhat important               & One of the most important things & One of the most important things & One of the most important things & Very important but not the most  & Not important                    & Very important but not the most  & ⋯ & No  & No  & No  & NA & Not employed & NA                                              & NA & NA   & Some college, no 4-year degree (including associate degree)                                                              & Covered by health insurance    \\\\\n",
              "\t 48                     & MO & Pretty happy  & Somewhat important               & Very important but not the most  & Very important but not the most  & One of the most important things & Very important but not the most  & Not important                    & One of the most important things & ⋯ & No  & Yes & No  & NA & Full-time    & NA                                              & NA & NA   & College graduate (B.S., B.A., or other 4-year degree)                                                                    & Covered by health insurance    \\\\\n",
              "\t 63                     & SD & Pretty happy  & Not important                    & One of the most important things & One of the most important things & One of the most important things & Very important but not the most  & Not important                    & Very important but not the most  & ⋯ & No  & No  & No  & NA & Not employed & NA                                              & NA & NA   & Post-graduate training or professional schooling after college (e.g., toward a master's Degree or Ph.D., law or medical  & Covered by health insurance    \\\\\n",
              "\t 44                     & MA & Pretty happy  & Somewhat important               & Very important but not the most  & Somewhat important               & Very important but not the most  & Very important but not the most  & Not important                    & Somewhat important               & ⋯ & NA  & Yes & No  & NA & Not employed & Lived with current spouse before married        & NA & NA   & Post-graduate training or professional schooling after college (e.g., toward a master's Degree or Ph.D., law or medical  & Covered by health insurance    \\\\\n",
              "\t 83                     & TN & Pretty happy  & Somewhat important               & Very important but not the most  & Very important but not the most  & One of the most important things & Very important but not the most  & Not important                    & Very important but not the most  & ⋯ & NA  & No  & No  & NA & Not employed & NA                                              & NA & NA   & High school incomplete (Grades 9-11)                                                                                     & Covered by health insurance    \\\\\n",
              "\t 53                     & VA & Very happy    & Very important but not the most  & Very important but not the most  & Very important but not the most  & Very important but not the most  & Somewhat important               & Not important                    & Very important but not the most  & ⋯ & NA  & Yes & No  & NA & Full-time    & NA                                              & NA & NA   & Post-graduate training or professional schooling after college (e.g., toward a master's Degree or Ph.D., law or medical  & Covered by health insurance    \\\\\n",
              "\t 83                     & MI & Not too happy & Not important                    & One of the most important things & One of the most important things & (VOL) Don't know/Refused         & (VOL) Don't know/Refused         & Not important                    & Very important but not the most  & ⋯ & NA  & NA  & No  & NA & Not employed & NA                                              & NA & NA   & Some college, no 4-year degree (including associate degree)                                                              & Covered by health insurance    \\\\\n",
              "\t 48                     & IA & Pretty happy  & Somewhat important               & Very important but not the most  & Somewhat important               & One of the most important things & Not important                    & Not important                    & Somewhat important               & ⋯ & No  & No  & No  & NA & Part-time    & Lived with current spouse before married        & NA & NA   & Some college, no 4-year degree (including associate degree)                                                              & Covered by health insurance    \\\\\n",
              "\t 54                     & SC & Very happy    & Not important                    & Very important but not the most  & Very important but not the most  & Very important but not the most  & Somewhat important               & Not important                    & Very important but not the most  & ⋯ & NA  & No  & No  & NA & Part-time    & NA                                              & NA & NA   & High school graduate (Grade 12 or GED certificate)                                                                       & Covered by health insurance    \\\\\n",
              "\t 78                     & TX & Very happy    & Somewhat important               & Very important but not the most  & Very important but not the most  & One of the most important things & Very important but not the most  & Somewhat important               & Very important but not the most  & ⋯ & NA  & NA  & No  & NA & Not employed & NA                                              & NA & NA   & High school graduate (Grade 12 or GED certificate)                                                                       & Covered by health insurance    \\\\\n",
              "\t 51                     & IL & Pretty happy  & Very important but not the most  & One of the most important things & One of the most important things & One of the most important things & One of the most important things & One of the most important things & One of the most important things & ⋯ & NA  & NA  & No  & NA & Part-time    & Lived with current spouse before married        & NA & NA   & High school graduate (Grade 12 or GED certificate)                                                                       & Covered by health insurance    \\\\\n",
              "\t 50                     & GA & Not too happy & Somewhat important               & One of the most important things & One of the most important things & One of the most important things & Somewhat important               & Not important                    & Very important but not the most  & ⋯ & Yes & Yes & No  & NA & Full-time    & NA                                              & NA & NA   & Post-graduate training or professional schooling after college (e.g., toward a master's Degree or Ph.D., law or medical  & Covered by health insurance    \\\\\n",
              "\t 51                     & NC & Very happy    & Somewhat important               & One of the most important things & Very important but not the most  & Not important                    & Somewhat important               & Not important                    & Very important but not the most  & ⋯ & NA  & No  & No  & NA & Not employed & NA                                              & NA & NA   & Some college, no 4-year degree (including associate degree)                                                              & Covered by health insurance    \\\\\n",
              "\t 55                     & NJ & Very happy    & Somewhat important               & One of the most important things & One of the most important things & One of the most important things & Very important but not the most  & Not important                    & Very important but not the most  & ⋯ & NA  & No  & No  & NA & Not employed & NA                                              & NA & NA   & Post-graduate training or professional schooling after college (e.g., toward a master's Degree or Ph.D., law or medical  & Covered by health insurance    \\\\\n",
              "\t 68                     & SC & Pretty happy  & Somewhat important               & Very important but not the most  & Very important but not the most  & One of the most important things & Somewhat important               & Not important                    & Very important but not the most  & ⋯ & NA  & NA  & No  & NA & Not employed & NA                                              & NA & NA   & Some college, no 4-year degree (including associate degree)                                                              & Covered by health insurance    \\\\\n",
              "\t 36                     & VT & Pretty happy  & Somewhat important               & Very important but not the most  & Not important                    & Very important but not the most  & Somewhat important               & Not important                    & Somewhat important               & ⋯ & NA  & No  & No  & NA & Full-time    & Lived with both current spouse and someone else & No & NA   & Post-graduate training or professional schooling after college (e.g., toward a master's Degree or Ph.D., law or medical  & Covered by health insurance    \\\\\n",
              "\t 26                     & NY & Not too happy & Very important but not the most  & One of the most important things & Not important                    & One of the most important things & One of the most important things & Not important                    & Very important but not the most  & ⋯ & No  & Yes & Yes & 1  & Full-time    & NA                                              & No & Own  & College graduate (B.S., B.A., or other 4-year degree)                                                                    & Covered by health insurance    \\\\\n",
              "\t 69                     & RI & Pretty happy  & Somewhat important               & Very important but not the most  & Not important                    & Very important but not the most  & Very important but not the most  & Not important                    & Very important but not the most  & ⋯ & No  & No  & No  & NA & Not employed & NA                                              & NA & NA   & College graduate (B.S., B.A., or other 4-year degree)                                                                    & Covered by health insurance    \\\\\n",
              "\t 55                     & NC & Very happy    & Very important but not the most  & (VOL) Don't know/Refused         & One of the most important things & Very important but not the most  & Very important but not the most  & Not important                    & Very important but not the most  & ⋯ & Yes & Yes & No  & NA & Not employed & NA                                              & NA & NA   & Some college, no 4-year degree (including associate degree)                                                              & Covered by health insurance    \\\\\n",
              "\t 41                     & KY & Not too happy & Very important but not the most  & Very important but not the most  & Somewhat important               & Very important but not the most  & Very important but not the most  & Very important but not the most  & Somewhat important               & ⋯ & NA  & NA  & Yes & 4  & Not employed & NA                                              & NA & NA   & High school incomplete (Grades 9-11)                                                                                     & Not covered by health insurance\\\\\n",
              "\t 38                     & IN & Very happy    & One of the most important things & Somewhat important               & Very important but not the most  & One of the most important things & Very important but not the most  & Not important                    & One of the most important things & ⋯ & Yes & No  & Yes & 3  & Full-time    & NA                                              & No & NA   & High school graduate (Grade 12 or GED certificate)                                                                       & Covered by health insurance    \\\\\n",
              "\t 69                     & PA & Very happy    & Somewhat important               & Not important                    & One of the most important things & One of the most important things & One of the most important things & Not important                    & One of the most important things & ⋯ & NA  & No  & No  & NA & Full-time    & NA                                              & NA & NA   & High school graduate (Grade 12 or GED certificate)                                                                       & (VOL) Don't know/Refused       \\\\\n",
              "\t ⋮ & ⋮ & ⋮ & ⋮ & ⋮ & ⋮ & ⋮ & ⋮ & ⋮ & ⋮ & ⋱ & ⋮ & ⋮ & ⋮ & ⋮ & ⋮ & ⋮ & ⋮ & ⋮ & ⋮ & ⋮\\\\\n",
              "\t 19 & MS & Very happy    & Not important                    & Very important but not the most  & One of the most important things & One of the most important things & Very important but not the most  & Not important                   & Very important but not the most  & ⋯ & Yes & Yes & No  & NA & Not employed & NA                                              & Yes & Live in a dorm          & Some college, no 4-year degree (including associate degree) & Covered by health insurance    \\\\\n",
              "\t 20 & NY & Very happy    & Not important                    & Very important but not the most  & Not important                    & Very important but not the most  & Very important but not the most  & Not important                   & Not important                    & ⋯ & Yes & Yes & No  & NA & Not employed & NA                                              & Yes & Live in a dorm          & Some college, no 4-year degree (including associate degree) & Covered by health insurance    \\\\\n",
              "\t 24 & MI & Pretty happy  & Very important but not the most  & One of the most important things & Very important but not the most  & One of the most important things & One of the most important things & Not important                   & One of the most important things & ⋯ & NA  & Yes & No  & NA & Full-time    & NA                                              & No  & Live with parents       & College graduate (B.S., B.A., or other 4-year degree)       & Covered by health insurance    \\\\\n",
              "\t 29 & WI & Pretty happy  & Not important                    & Very important but not the most  & Very important but not the most  & Somewhat important               & Somewhat important               & Not important                   & Somewhat important               & ⋯ & Yes & Yes & No  & NA & Not employed & Lived with current spouse before married        & No  & Rent                    & Technical, trade, or vocational school AFTER high school    & Covered by health insurance    \\\\\n",
              "\t 24 & IL & Very happy    & Very important but not the most  & One of the most important things & Very important but not the most  & One of the most important things & One of the most important things & Somewhat important              & Very important but not the most  & ⋯ & Yes & Yes & No  & NA & Full-time    & NA                                              & No  & Own                     & College graduate (B.S., B.A., or other 4-year degree)       & Covered by health insurance    \\\\\n",
              "\t 24 & IL & Pretty happy  & Very important but not the most  & Very important but not the most  & Somewhat important               & Very important but not the most  & Somewhat important               & Not important                   & Very important but not the most  & ⋯ & Yes & Yes & Yes & 2  & Part-time    & NA                                              & No  & Rent                    & College graduate (B.S., B.A., or other 4-year degree)       & Covered by health insurance    \\\\\n",
              "\t 23 & TX & Very happy    & Very important but not the most  & One of the most important things & Not important                    & One of the most important things & Very important but not the most  & Not important                   & Very important but not the most  & ⋯ & Yes & Yes & Yes & 7  & Full-time    & Lived with current spouse before married        & No  & Rent                    & High school graduate (Grade 12 or GED certificate)          & Not covered by health insurance\\\\\n",
              "\t 21 & ND & Pretty happy  & Very important but not the most  & One of the most important things & Very important but not the most  & One of the most important things & Very important but not the most  & Not important                   & One of the most important things & ⋯ & Yes & Yes & Yes & 1  & Part-time    & NA                                              & Yes & Rent                    & Technical, trade, or vocational school AFTER high school    & Covered by health insurance    \\\\\n",
              "\t 23 & NY & Pretty happy  & Somewhat important               & One of the most important things & Not important                    & Very important but not the most  & One of the most important things & Not important                   & Very important but not the most  & ⋯ & Yes & Yes & Yes & 3  & Full-time    & NA                                              & No  & Live with parents       & Some college, no 4-year degree (including associate degree) & Covered by health insurance    \\\\\n",
              "\t 27 & PA & Very happy    & Somewhat important               & One of the most important things & Somewhat important               & One of the most important things & Very important but not the most  & Not important                   & Very important but not the most  & ⋯ & Yes & Yes & Yes & 1  & Full-time    & Lived with current spouse before married        & No  & Own                     & College graduate (B.S., B.A., or other 4-year degree)       & Covered by health insurance    \\\\\n",
              "\t 19 & NJ & Very happy    & Very important but not the most  & Somewhat important               & Not important                    & Very important but not the most  & Very important but not the most  & Very important but not the most & Not important                    & ⋯ & NA  & Yes & Yes & 6  & Not employed & NA                                              & Yes & (VOL) Other arrangement & None, or grade 1-8                                          & Not covered by health insurance\\\\\n",
              "\t 18 & ME & Pretty happy  & One of the most important things & One of the most important things & Very important but not the most  & One of the most important things & Very important but not the most  & Not important                   & Somewhat important               & ⋯ & Yes & Yes & Yes & 1  & Part-time    & NA                                              & No  & Rent                    & High school incomplete (Grades 9-11)                        & Covered by health insurance    \\\\\n",
              "\t 22 & NY & Pretty happy  & Very important but not the most  & One of the most important things & Not important                    & One of the most important things & Very important but not the most  & Not important                   & Very important but not the most  & ⋯ & Yes & Yes & No  & NA & Not employed & NA                                              & Yes & Live with parents       & College graduate (B.S., B.A., or other 4-year degree)       & Covered by health insurance    \\\\\n",
              "\t 19 & SC & Pretty happy  & One of the most important things & Very important but not the most  & Very important but not the most  & Very important but not the most  & Very important but not the most  & Not important                   & Very important but not the most  & ⋯ & Yes & Yes & Yes & 1  & Part-time    & NA                                              & Yes & Live with parents       & High school graduate (Grade 12 or GED certificate)          & Covered by health insurance    \\\\\n",
              "\t 23 & OH & Pretty happy  & Not important                    & Very important but not the most  & Very important but not the most  & Very important but not the most  & Somewhat important               & Not important                   & One of the most important things & ⋯ & Yes & Yes & No  & NA & Full-time    & NA                                              & No  & Rent                    & College graduate (B.S., B.A., or other 4-year degree)       & Covered by health insurance    \\\\\n",
              "\t 29 & IL & Pretty happy  & Not important                    & Very important but not the most  & Not important                    & Very important but not the most  & Somewhat important               & Not important                   & Somewhat important               & ⋯ & Yes & Yes & Yes & 1  & Full-time    & Lived with both current spouse and someone else & No  & Own                     & College graduate (B.S., B.A., or other 4-year degree)       & Covered by health insurance    \\\\\n",
              "\t 23 & MI & Pretty happy  & Very important but not the most  & One of the most important things & One of the most important things & One of the most important things & Very important but not the most  & Not important                   & One of the most important things & ⋯ & Yes & Yes & No  & NA & Full-time    & NA                                              & No  & Rent                    & Some college, no 4-year degree (including associate degree) & Covered by health insurance    \\\\\n",
              "\t 29 & FL & Pretty happy  & Somewhat important               & One of the most important things & Somewhat important               & One of the most important things & Somewhat important               & Not important                   & Somewhat important               & ⋯ & Yes & No  & No  & NA & Full-time    & Lived with both current spouse and someone else & No  & Own                     & College graduate (B.S., B.A., or other 4-year degree)       & Covered by health insurance    \\\\\n",
              "\t 26 & CT & Very happy    & Very important but not the most  & Very important but not the most  & Very important but not the most  & Very important but not the most  & Very important but not the most  & Not important                   & Very important but not the most  & ⋯ & No  & No  & No  & NA & Not employed & NA                                              & No  & Rent                    & None, or grade 1-8                                          & Not covered by health insurance\\\\\n",
              "\t 20 & NY & Pretty happy  & One of the most important things & Not important                    & Very important but not the most  & Very important but not the most  & Very important but not the most  & Not important                   & Not important                    & ⋯ & Yes & Yes & No  & NA & Full-time    & NA                                              & No  & Rent                    & High school graduate (Grade 12 or GED certificate)          & Covered by health insurance    \\\\\n",
              "\t 23 & FL & Pretty happy  & Somewhat important               & Very important but not the most  & Not important                    & One of the most important things & Somewhat important               & Not important                   & Very important but not the most  & ⋯ & Yes & Yes & No  & NA & Not employed & NA                                              & Yes & Live with parents       & Technical, trade, or vocational school AFTER high school    & Not covered by health insurance\\\\\n",
              "\t 21 & DC & Pretty happy  & Somewhat important               & Very important but not the most  & Not important                    & Very important but not the most  & Very important but not the most  & Not important                   & One of the most important things & ⋯ & Yes & Yes & No  & NA & Full-time    & NA                                              & No  & Rent                    & College graduate (B.S., B.A., or other 4-year degree)       & Covered by health insurance    \\\\\n",
              "\t 21 & IL & Not too happy & Somewhat important               & Very important but not the most  & Somewhat important               & Somewhat important               & Not important                    & Not important                   & Somewhat important               & ⋯ & No  & Yes & No  & NA & Part-time    & NA                                              & Yes & Rent                    & Some college, no 4-year degree (including associate degree) & Covered by health insurance    \\\\\n",
              "\t 26 & KY & Very happy    & Very important but not the most  & Very important but not the most  & Somewhat important               & One of the most important things & Somewhat important               & Not important                   & Very important but not the most  & ⋯ & Yes & No  & Yes & 26 & Full-time    & NA                                              & No  & Own                     & Some college, no 4-year degree (including associate degree) & Covered by health insurance    \\\\\n",
              "\t 26 & WI & Pretty happy  & Somewhat important               & One of the most important things & Somewhat important               & One of the most important things & Very important but not the most  & Not important                   & Somewhat important               & ⋯ & Yes & Yes & No  & NA & Full-time    & NA                                              & No  & Own                     & College graduate (B.S., B.A., or other 4-year degree)       & Covered by health insurance    \\\\\n",
              "\t 20 & MO & Not too happy & One of the most important things & Very important but not the most  & Somewhat important               & Very important but not the most  & Not important                    & Not important                   & Very important but not the most  & ⋯ & Yes & Yes & Yes & 4  & Full-time    & NA                                              & No  & Rent                    & High school graduate (Grade 12 or GED certificate)          & Covered by health insurance    \\\\\n",
              "\t 19 & MS & Very happy    & Very important but not the most  & Very important but not the most  & Very important but not the most  & Very important but not the most  & Somewhat important               & Not important                   & Very important but not the most  & ⋯ & Yes & Yes & Yes & 1  & Not employed & NA                                              & No  & Live with parents       & Some college, no 4-year degree (including associate degree) & Covered by health insurance    \\\\\n",
              "\t 20 & IA & Pretty happy  & Somewhat important               & Very important but not the most  & Somewhat important               & Very important but not the most  & Somewhat important               & Not important                   & Very important but not the most  & ⋯ & NA  & Yes & No  & NA & Not employed & NA                                              & No  & Live with parents       & Some college, no 4-year degree (including associate degree) & Not covered by health insurance\\\\\n",
              "\t 29 & CA & Pretty happy  & Somewhat important               & Very important but not the most  & Not important                    & One of the most important things & Very important but not the most  & Not important                   & Very important but not the most  & ⋯ & No  & Yes & No  & NA & Not employed & NA                                              & No  & Rent                    & Some college, no 4-year degree (including associate degree) & Covered by health insurance    \\\\\n",
              "\t 28 & TX & Not too happy & Very important but not the most  & Very important but not the most  & Very important but not the most  & Very important but not the most  & Very important but not the most  & Not important                   & Very important but not the most  & ⋯ & Yes & Yes & No  & NA & Full-time    & NA                                              & No  & Rent                    & Some college, no 4-year degree (including associate degree) & Not covered by health insurance\\\\\n",
              "\\end{tabular}\n"
            ],
            "text/markdown": [
              "\n",
              "A tibble: 2020 × 31\n",
              "\n",
              "| age &lt;fct&gt; | state &lt;chr&gt; | q1 &lt;fct&gt; | q8a &lt;fct&gt; | q8b &lt;fct&gt; | q8c &lt;fct&gt; | q8d &lt;fct&gt; | q8e &lt;fct&gt; | q8f &lt;fct&gt; | q8g &lt;fct&gt; | ⋯ ⋯ | q44g &lt;fct&gt; | q44i &lt;fct&gt; | q45a &lt;fct&gt; | q46 &lt;fct&gt; | employ &lt;fct&gt; | lwp &lt;fct&gt; | finan &lt;fct&gt; | home2 &lt;fct&gt; | educ &lt;fct&gt; | health &lt;fct&gt; |\n",
              "|---|---|---|---|---|---|---|---|---|---|---|---|---|---|---|---|---|---|---|---|---|\n",
              "| 28                     | NY | Very happy    | Very important but not the most  | Very important but not the most  | Very important but not the most  | Very important but not the most  | Very important but not the most  | Not important                    | Very important but not the most  | ⋯ | NA  | NA  | No  | NA | Full-time    | NA                                              | No | Rent | Some college, no 4-year degree (including associate degree)                                                              | Covered by health insurance     |\n",
              "| 33                     | NE | Very happy    | Not important                    | One of the most important things | One of the most important things | Very important but not the most  | Very important but not the most  | Not important                    | One of the most important things | ⋯ | NA  | NA  | Yes | 1  | Part-time    | NA                                              | No | NA   | Some college, no 4-year degree (including associate degree)                                                              | Covered by health insurance     |\n",
              "| 45                     | IN | Pretty happy  | Somewhat important               | One of the most important things | Somewhat important               | One of the most important things | Somewhat important               | Not important                    | Somewhat important               | ⋯ | Yes | No  | No  | NA | Not employed | Lived with current spouse before married        | NA | NA   | College graduate (B.S., B.A., or other 4-year degree)                                                                    | Covered by health insurance     |\n",
              "| 66                     | IN | Very happy    | Very important but not the most  | Very important but not the most  | Very important but not the most  | Very important but not the most  | Somewhat important               | Not important                    | Very important but not the most  | ⋯ | NA  | NA  | No  | NA | Part-time    | NA                                              | NA | NA   | High school incomplete (Grades 9-11)                                                                                     | Covered by health insurance     |\n",
              "| 52                     | VA | Very happy    | One of the most important things | Very important but not the most  | Very important but not the most  | One of the most important things | Somewhat important               | Not important                    | Very important but not the most  | ⋯ | Yes | Yes | No  | NA | Full-time    | Lived with both current spouse and someone else | NA | NA   | College graduate (B.S., B.A., or other 4-year degree)                                                                    | Covered by health insurance     |\n",
              "| VOL DON'T KNOW/REFUSED | MD | Very happy    | Somewhat important               | One of the most important things | One of the most important things | Very important but not the most  | Somewhat important               | Not important                    | (VOL) Don't know/Refused         | ⋯ | NA  | Yes | No  | NA | Not employed | NA                                              | NA | NA   | Some college, no 4-year degree (including associate degree)                                                              | Covered by health insurance     |\n",
              "| 60                     | PA | Pretty happy  | Not important                    | One of the most important things | One of the most important things | One of the most important things | One of the most important things | Not important                    | One of the most important things | ⋯ | NA  | NA  | No  | NA | Not employed | NA                                              | NA | NA   | Some college, no 4-year degree (including associate degree)                                                              | Covered by health insurance     |\n",
              "| 54                     | NC | Not too happy | Very important but not the most  | Very important but not the most  | Very important but not the most  | One of the most important things | Very important but not the most  | Not important                    | Very important but not the most  | ⋯ | NA  | No  | Yes | 1  | Full-time    | NA                                              | NA | NA   | High school graduate (Grade 12 or GED certificate)                                                                       | Covered by health insurance     |\n",
              "| 48                     | FL | Pretty happy  | Somewhat important               | One of the most important things | One of the most important things | One of the most important things | Very important but not the most  | Not important                    | Very important but not the most  | ⋯ | No  | No  | No  | NA | Not employed | NA                                              | NA | NA   | Some college, no 4-year degree (including associate degree)                                                              | Covered by health insurance     |\n",
              "| 48                     | MO | Pretty happy  | Somewhat important               | Very important but not the most  | Very important but not the most  | One of the most important things | Very important but not the most  | Not important                    | One of the most important things | ⋯ | No  | Yes | No  | NA | Full-time    | NA                                              | NA | NA   | College graduate (B.S., B.A., or other 4-year degree)                                                                    | Covered by health insurance     |\n",
              "| 63                     | SD | Pretty happy  | Not important                    | One of the most important things | One of the most important things | One of the most important things | Very important but not the most  | Not important                    | Very important but not the most  | ⋯ | No  | No  | No  | NA | Not employed | NA                                              | NA | NA   | Post-graduate training or professional schooling after college (e.g., toward a master's Degree or Ph.D., law or medical  | Covered by health insurance     |\n",
              "| 44                     | MA | Pretty happy  | Somewhat important               | Very important but not the most  | Somewhat important               | Very important but not the most  | Very important but not the most  | Not important                    | Somewhat important               | ⋯ | NA  | Yes | No  | NA | Not employed | Lived with current spouse before married        | NA | NA   | Post-graduate training or professional schooling after college (e.g., toward a master's Degree or Ph.D., law or medical  | Covered by health insurance     |\n",
              "| 83                     | TN | Pretty happy  | Somewhat important               | Very important but not the most  | Very important but not the most  | One of the most important things | Very important but not the most  | Not important                    | Very important but not the most  | ⋯ | NA  | No  | No  | NA | Not employed | NA                                              | NA | NA   | High school incomplete (Grades 9-11)                                                                                     | Covered by health insurance     |\n",
              "| 53                     | VA | Very happy    | Very important but not the most  | Very important but not the most  | Very important but not the most  | Very important but not the most  | Somewhat important               | Not important                    | Very important but not the most  | ⋯ | NA  | Yes | No  | NA | Full-time    | NA                                              | NA | NA   | Post-graduate training or professional schooling after college (e.g., toward a master's Degree or Ph.D., law or medical  | Covered by health insurance     |\n",
              "| 83                     | MI | Not too happy | Not important                    | One of the most important things | One of the most important things | (VOL) Don't know/Refused         | (VOL) Don't know/Refused         | Not important                    | Very important but not the most  | ⋯ | NA  | NA  | No  | NA | Not employed | NA                                              | NA | NA   | Some college, no 4-year degree (including associate degree)                                                              | Covered by health insurance     |\n",
              "| 48                     | IA | Pretty happy  | Somewhat important               | Very important but not the most  | Somewhat important               | One of the most important things | Not important                    | Not important                    | Somewhat important               | ⋯ | No  | No  | No  | NA | Part-time    | Lived with current spouse before married        | NA | NA   | Some college, no 4-year degree (including associate degree)                                                              | Covered by health insurance     |\n",
              "| 54                     | SC | Very happy    | Not important                    | Very important but not the most  | Very important but not the most  | Very important but not the most  | Somewhat important               | Not important                    | Very important but not the most  | ⋯ | NA  | No  | No  | NA | Part-time    | NA                                              | NA | NA   | High school graduate (Grade 12 or GED certificate)                                                                       | Covered by health insurance     |\n",
              "| 78                     | TX | Very happy    | Somewhat important               | Very important but not the most  | Very important but not the most  | One of the most important things | Very important but not the most  | Somewhat important               | Very important but not the most  | ⋯ | NA  | NA  | No  | NA | Not employed | NA                                              | NA | NA   | High school graduate (Grade 12 or GED certificate)                                                                       | Covered by health insurance     |\n",
              "| 51                     | IL | Pretty happy  | Very important but not the most  | One of the most important things | One of the most important things | One of the most important things | One of the most important things | One of the most important things | One of the most important things | ⋯ | NA  | NA  | No  | NA | Part-time    | Lived with current spouse before married        | NA | NA   | High school graduate (Grade 12 or GED certificate)                                                                       | Covered by health insurance     |\n",
              "| 50                     | GA | Not too happy | Somewhat important               | One of the most important things | One of the most important things | One of the most important things | Somewhat important               | Not important                    | Very important but not the most  | ⋯ | Yes | Yes | No  | NA | Full-time    | NA                                              | NA | NA   | Post-graduate training or professional schooling after college (e.g., toward a master's Degree or Ph.D., law or medical  | Covered by health insurance     |\n",
              "| 51                     | NC | Very happy    | Somewhat important               | One of the most important things | Very important but not the most  | Not important                    | Somewhat important               | Not important                    | Very important but not the most  | ⋯ | NA  | No  | No  | NA | Not employed | NA                                              | NA | NA   | Some college, no 4-year degree (including associate degree)                                                              | Covered by health insurance     |\n",
              "| 55                     | NJ | Very happy    | Somewhat important               | One of the most important things | One of the most important things | One of the most important things | Very important but not the most  | Not important                    | Very important but not the most  | ⋯ | NA  | No  | No  | NA | Not employed | NA                                              | NA | NA   | Post-graduate training or professional schooling after college (e.g., toward a master's Degree or Ph.D., law or medical  | Covered by health insurance     |\n",
              "| 68                     | SC | Pretty happy  | Somewhat important               | Very important but not the most  | Very important but not the most  | One of the most important things | Somewhat important               | Not important                    | Very important but not the most  | ⋯ | NA  | NA  | No  | NA | Not employed | NA                                              | NA | NA   | Some college, no 4-year degree (including associate degree)                                                              | Covered by health insurance     |\n",
              "| 36                     | VT | Pretty happy  | Somewhat important               | Very important but not the most  | Not important                    | Very important but not the most  | Somewhat important               | Not important                    | Somewhat important               | ⋯ | NA  | No  | No  | NA | Full-time    | Lived with both current spouse and someone else | No | NA   | Post-graduate training or professional schooling after college (e.g., toward a master's Degree or Ph.D., law or medical  | Covered by health insurance     |\n",
              "| 26                     | NY | Not too happy | Very important but not the most  | One of the most important things | Not important                    | One of the most important things | One of the most important things | Not important                    | Very important but not the most  | ⋯ | No  | Yes | Yes | 1  | Full-time    | NA                                              | No | Own  | College graduate (B.S., B.A., or other 4-year degree)                                                                    | Covered by health insurance     |\n",
              "| 69                     | RI | Pretty happy  | Somewhat important               | Very important but not the most  | Not important                    | Very important but not the most  | Very important but not the most  | Not important                    | Very important but not the most  | ⋯ | No  | No  | No  | NA | Not employed | NA                                              | NA | NA   | College graduate (B.S., B.A., or other 4-year degree)                                                                    | Covered by health insurance     |\n",
              "| 55                     | NC | Very happy    | Very important but not the most  | (VOL) Don't know/Refused         | One of the most important things | Very important but not the most  | Very important but not the most  | Not important                    | Very important but not the most  | ⋯ | Yes | Yes | No  | NA | Not employed | NA                                              | NA | NA   | Some college, no 4-year degree (including associate degree)                                                              | Covered by health insurance     |\n",
              "| 41                     | KY | Not too happy | Very important but not the most  | Very important but not the most  | Somewhat important               | Very important but not the most  | Very important but not the most  | Very important but not the most  | Somewhat important               | ⋯ | NA  | NA  | Yes | 4  | Not employed | NA                                              | NA | NA   | High school incomplete (Grades 9-11)                                                                                     | Not covered by health insurance |\n",
              "| 38                     | IN | Very happy    | One of the most important things | Somewhat important               | Very important but not the most  | One of the most important things | Very important but not the most  | Not important                    | One of the most important things | ⋯ | Yes | No  | Yes | 3  | Full-time    | NA                                              | No | NA   | High school graduate (Grade 12 or GED certificate)                                                                       | Covered by health insurance     |\n",
              "| 69                     | PA | Very happy    | Somewhat important               | Not important                    | One of the most important things | One of the most important things | One of the most important things | Not important                    | One of the most important things | ⋯ | NA  | No  | No  | NA | Full-time    | NA                                              | NA | NA   | High school graduate (Grade 12 or GED certificate)                                                                       | (VOL) Don't know/Refused        |\n",
              "| ⋮ | ⋮ | ⋮ | ⋮ | ⋮ | ⋮ | ⋮ | ⋮ | ⋮ | ⋮ | ⋱ | ⋮ | ⋮ | ⋮ | ⋮ | ⋮ | ⋮ | ⋮ | ⋮ | ⋮ | ⋮ |\n",
              "| 19 | MS | Very happy    | Not important                    | Very important but not the most  | One of the most important things | One of the most important things | Very important but not the most  | Not important                   | Very important but not the most  | ⋯ | Yes | Yes | No  | NA | Not employed | NA                                              | Yes | Live in a dorm          | Some college, no 4-year degree (including associate degree) | Covered by health insurance     |\n",
              "| 20 | NY | Very happy    | Not important                    | Very important but not the most  | Not important                    | Very important but not the most  | Very important but not the most  | Not important                   | Not important                    | ⋯ | Yes | Yes | No  | NA | Not employed | NA                                              | Yes | Live in a dorm          | Some college, no 4-year degree (including associate degree) | Covered by health insurance     |\n",
              "| 24 | MI | Pretty happy  | Very important but not the most  | One of the most important things | Very important but not the most  | One of the most important things | One of the most important things | Not important                   | One of the most important things | ⋯ | NA  | Yes | No  | NA | Full-time    | NA                                              | No  | Live with parents       | College graduate (B.S., B.A., or other 4-year degree)       | Covered by health insurance     |\n",
              "| 29 | WI | Pretty happy  | Not important                    | Very important but not the most  | Very important but not the most  | Somewhat important               | Somewhat important               | Not important                   | Somewhat important               | ⋯ | Yes | Yes | No  | NA | Not employed | Lived with current spouse before married        | No  | Rent                    | Technical, trade, or vocational school AFTER high school    | Covered by health insurance     |\n",
              "| 24 | IL | Very happy    | Very important but not the most  | One of the most important things | Very important but not the most  | One of the most important things | One of the most important things | Somewhat important              | Very important but not the most  | ⋯ | Yes | Yes | No  | NA | Full-time    | NA                                              | No  | Own                     | College graduate (B.S., B.A., or other 4-year degree)       | Covered by health insurance     |\n",
              "| 24 | IL | Pretty happy  | Very important but not the most  | Very important but not the most  | Somewhat important               | Very important but not the most  | Somewhat important               | Not important                   | Very important but not the most  | ⋯ | Yes | Yes | Yes | 2  | Part-time    | NA                                              | No  | Rent                    | College graduate (B.S., B.A., or other 4-year degree)       | Covered by health insurance     |\n",
              "| 23 | TX | Very happy    | Very important but not the most  | One of the most important things | Not important                    | One of the most important things | Very important but not the most  | Not important                   | Very important but not the most  | ⋯ | Yes | Yes | Yes | 7  | Full-time    | Lived with current spouse before married        | No  | Rent                    | High school graduate (Grade 12 or GED certificate)          | Not covered by health insurance |\n",
              "| 21 | ND | Pretty happy  | Very important but not the most  | One of the most important things | Very important but not the most  | One of the most important things | Very important but not the most  | Not important                   | One of the most important things | ⋯ | Yes | Yes | Yes | 1  | Part-time    | NA                                              | Yes | Rent                    | Technical, trade, or vocational school AFTER high school    | Covered by health insurance     |\n",
              "| 23 | NY | Pretty happy  | Somewhat important               | One of the most important things | Not important                    | Very important but not the most  | One of the most important things | Not important                   | Very important but not the most  | ⋯ | Yes | Yes | Yes | 3  | Full-time    | NA                                              | No  | Live with parents       | Some college, no 4-year degree (including associate degree) | Covered by health insurance     |\n",
              "| 27 | PA | Very happy    | Somewhat important               | One of the most important things | Somewhat important               | One of the most important things | Very important but not the most  | Not important                   | Very important but not the most  | ⋯ | Yes | Yes | Yes | 1  | Full-time    | Lived with current spouse before married        | No  | Own                     | College graduate (B.S., B.A., or other 4-year degree)       | Covered by health insurance     |\n",
              "| 19 | NJ | Very happy    | Very important but not the most  | Somewhat important               | Not important                    | Very important but not the most  | Very important but not the most  | Very important but not the most | Not important                    | ⋯ | NA  | Yes | Yes | 6  | Not employed | NA                                              | Yes | (VOL) Other arrangement | None, or grade 1-8                                          | Not covered by health insurance |\n",
              "| 18 | ME | Pretty happy  | One of the most important things | One of the most important things | Very important but not the most  | One of the most important things | Very important but not the most  | Not important                   | Somewhat important               | ⋯ | Yes | Yes | Yes | 1  | Part-time    | NA                                              | No  | Rent                    | High school incomplete (Grades 9-11)                        | Covered by health insurance     |\n",
              "| 22 | NY | Pretty happy  | Very important but not the most  | One of the most important things | Not important                    | One of the most important things | Very important but not the most  | Not important                   | Very important but not the most  | ⋯ | Yes | Yes | No  | NA | Not employed | NA                                              | Yes | Live with parents       | College graduate (B.S., B.A., or other 4-year degree)       | Covered by health insurance     |\n",
              "| 19 | SC | Pretty happy  | One of the most important things | Very important but not the most  | Very important but not the most  | Very important but not the most  | Very important but not the most  | Not important                   | Very important but not the most  | ⋯ | Yes | Yes | Yes | 1  | Part-time    | NA                                              | Yes | Live with parents       | High school graduate (Grade 12 or GED certificate)          | Covered by health insurance     |\n",
              "| 23 | OH | Pretty happy  | Not important                    | Very important but not the most  | Very important but not the most  | Very important but not the most  | Somewhat important               | Not important                   | One of the most important things | ⋯ | Yes | Yes | No  | NA | Full-time    | NA                                              | No  | Rent                    | College graduate (B.S., B.A., or other 4-year degree)       | Covered by health insurance     |\n",
              "| 29 | IL | Pretty happy  | Not important                    | Very important but not the most  | Not important                    | Very important but not the most  | Somewhat important               | Not important                   | Somewhat important               | ⋯ | Yes | Yes | Yes | 1  | Full-time    | Lived with both current spouse and someone else | No  | Own                     | College graduate (B.S., B.A., or other 4-year degree)       | Covered by health insurance     |\n",
              "| 23 | MI | Pretty happy  | Very important but not the most  | One of the most important things | One of the most important things | One of the most important things | Very important but not the most  | Not important                   | One of the most important things | ⋯ | Yes | Yes | No  | NA | Full-time    | NA                                              | No  | Rent                    | Some college, no 4-year degree (including associate degree) | Covered by health insurance     |\n",
              "| 29 | FL | Pretty happy  | Somewhat important               | One of the most important things | Somewhat important               | One of the most important things | Somewhat important               | Not important                   | Somewhat important               | ⋯ | Yes | No  | No  | NA | Full-time    | Lived with both current spouse and someone else | No  | Own                     | College graduate (B.S., B.A., or other 4-year degree)       | Covered by health insurance     |\n",
              "| 26 | CT | Very happy    | Very important but not the most  | Very important but not the most  | Very important but not the most  | Very important but not the most  | Very important but not the most  | Not important                   | Very important but not the most  | ⋯ | No  | No  | No  | NA | Not employed | NA                                              | No  | Rent                    | None, or grade 1-8                                          | Not covered by health insurance |\n",
              "| 20 | NY | Pretty happy  | One of the most important things | Not important                    | Very important but not the most  | Very important but not the most  | Very important but not the most  | Not important                   | Not important                    | ⋯ | Yes | Yes | No  | NA | Full-time    | NA                                              | No  | Rent                    | High school graduate (Grade 12 or GED certificate)          | Covered by health insurance     |\n",
              "| 23 | FL | Pretty happy  | Somewhat important               | Very important but not the most  | Not important                    | One of the most important things | Somewhat important               | Not important                   | Very important but not the most  | ⋯ | Yes | Yes | No  | NA | Not employed | NA                                              | Yes | Live with parents       | Technical, trade, or vocational school AFTER high school    | Not covered by health insurance |\n",
              "| 21 | DC | Pretty happy  | Somewhat important               | Very important but not the most  | Not important                    | Very important but not the most  | Very important but not the most  | Not important                   | One of the most important things | ⋯ | Yes | Yes | No  | NA | Full-time    | NA                                              | No  | Rent                    | College graduate (B.S., B.A., or other 4-year degree)       | Covered by health insurance     |\n",
              "| 21 | IL | Not too happy | Somewhat important               | Very important but not the most  | Somewhat important               | Somewhat important               | Not important                    | Not important                   | Somewhat important               | ⋯ | No  | Yes | No  | NA | Part-time    | NA                                              | Yes | Rent                    | Some college, no 4-year degree (including associate degree) | Covered by health insurance     |\n",
              "| 26 | KY | Very happy    | Very important but not the most  | Very important but not the most  | Somewhat important               | One of the most important things | Somewhat important               | Not important                   | Very important but not the most  | ⋯ | Yes | No  | Yes | 26 | Full-time    | NA                                              | No  | Own                     | Some college, no 4-year degree (including associate degree) | Covered by health insurance     |\n",
              "| 26 | WI | Pretty happy  | Somewhat important               | One of the most important things | Somewhat important               | One of the most important things | Very important but not the most  | Not important                   | Somewhat important               | ⋯ | Yes | Yes | No  | NA | Full-time    | NA                                              | No  | Own                     | College graduate (B.S., B.A., or other 4-year degree)       | Covered by health insurance     |\n",
              "| 20 | MO | Not too happy | One of the most important things | Very important but not the most  | Somewhat important               | Very important but not the most  | Not important                    | Not important                   | Very important but not the most  | ⋯ | Yes | Yes | Yes | 4  | Full-time    | NA                                              | No  | Rent                    | High school graduate (Grade 12 or GED certificate)          | Covered by health insurance     |\n",
              "| 19 | MS | Very happy    | Very important but not the most  | Very important but not the most  | Very important but not the most  | Very important but not the most  | Somewhat important               | Not important                   | Very important but not the most  | ⋯ | Yes | Yes | Yes | 1  | Not employed | NA                                              | No  | Live with parents       | Some college, no 4-year degree (including associate degree) | Covered by health insurance     |\n",
              "| 20 | IA | Pretty happy  | Somewhat important               | Very important but not the most  | Somewhat important               | Very important but not the most  | Somewhat important               | Not important                   | Very important but not the most  | ⋯ | NA  | Yes | No  | NA | Not employed | NA                                              | No  | Live with parents       | Some college, no 4-year degree (including associate degree) | Not covered by health insurance |\n",
              "| 29 | CA | Pretty happy  | Somewhat important               | Very important but not the most  | Not important                    | One of the most important things | Very important but not the most  | Not important                   | Very important but not the most  | ⋯ | No  | Yes | No  | NA | Not employed | NA                                              | No  | Rent                    | Some college, no 4-year degree (including associate degree) | Covered by health insurance     |\n",
              "| 28 | TX | Not too happy | Very important but not the most  | Very important but not the most  | Very important but not the most  | Very important but not the most  | Very important but not the most  | Not important                   | Very important but not the most  | ⋯ | Yes | Yes | No  | NA | Full-time    | NA                                              | No  | Rent                    | Some college, no 4-year degree (including associate degree) | Not covered by health insurance |\n",
              "\n"
            ],
            "text/plain": [
              "     age                    state q1           \n",
              "1    28                     NY    Very happy   \n",
              "2    33                     NE    Very happy   \n",
              "3    45                     IN    Pretty happy \n",
              "4    66                     IN    Very happy   \n",
              "5    52                     VA    Very happy   \n",
              "6    VOL DON'T KNOW/REFUSED MD    Very happy   \n",
              "7    60                     PA    Pretty happy \n",
              "8    54                     NC    Not too happy\n",
              "9    48                     FL    Pretty happy \n",
              "10   48                     MO    Pretty happy \n",
              "11   63                     SD    Pretty happy \n",
              "12   44                     MA    Pretty happy \n",
              "13   83                     TN    Pretty happy \n",
              "14   53                     VA    Very happy   \n",
              "15   83                     MI    Not too happy\n",
              "16   48                     IA    Pretty happy \n",
              "17   54                     SC    Very happy   \n",
              "18   78                     TX    Very happy   \n",
              "19   51                     IL    Pretty happy \n",
              "20   50                     GA    Not too happy\n",
              "21   51                     NC    Very happy   \n",
              "22   55                     NJ    Very happy   \n",
              "23   68                     SC    Pretty happy \n",
              "24   36                     VT    Pretty happy \n",
              "25   26                     NY    Not too happy\n",
              "26   69                     RI    Pretty happy \n",
              "27   55                     NC    Very happy   \n",
              "28   41                     KY    Not too happy\n",
              "29   38                     IN    Very happy   \n",
              "30   69                     PA    Very happy   \n",
              "⋮    ⋮                      ⋮     ⋮            \n",
              "1991 19                     MS    Very happy   \n",
              "1992 20                     NY    Very happy   \n",
              "1993 24                     MI    Pretty happy \n",
              "1994 29                     WI    Pretty happy \n",
              "1995 24                     IL    Very happy   \n",
              "1996 24                     IL    Pretty happy \n",
              "1997 23                     TX    Very happy   \n",
              "1998 21                     ND    Pretty happy \n",
              "1999 23                     NY    Pretty happy \n",
              "2000 27                     PA    Very happy   \n",
              "2001 19                     NJ    Very happy   \n",
              "2002 18                     ME    Pretty happy \n",
              "2003 22                     NY    Pretty happy \n",
              "2004 19                     SC    Pretty happy \n",
              "2005 23                     OH    Pretty happy \n",
              "2006 29                     IL    Pretty happy \n",
              "2007 23                     MI    Pretty happy \n",
              "2008 29                     FL    Pretty happy \n",
              "2009 26                     CT    Very happy   \n",
              "2010 20                     NY    Pretty happy \n",
              "2011 23                     FL    Pretty happy \n",
              "2012 21                     DC    Pretty happy \n",
              "2013 21                     IL    Not too happy\n",
              "2014 26                     KY    Very happy   \n",
              "2015 26                     WI    Pretty happy \n",
              "2016 20                     MO    Not too happy\n",
              "2017 19                     MS    Very happy   \n",
              "2018 20                     IA    Pretty happy \n",
              "2019 29                     CA    Pretty happy \n",
              "2020 28                     TX    Not too happy\n",
              "     q8a                              q8b                             \n",
              "1    Very important but not the most  Very important but not the most \n",
              "2    Not important                    One of the most important things\n",
              "3    Somewhat important               One of the most important things\n",
              "4    Very important but not the most  Very important but not the most \n",
              "5    One of the most important things Very important but not the most \n",
              "6    Somewhat important               One of the most important things\n",
              "7    Not important                    One of the most important things\n",
              "8    Very important but not the most  Very important but not the most \n",
              "9    Somewhat important               One of the most important things\n",
              "10   Somewhat important               Very important but not the most \n",
              "11   Not important                    One of the most important things\n",
              "12   Somewhat important               Very important but not the most \n",
              "13   Somewhat important               Very important but not the most \n",
              "14   Very important but not the most  Very important but not the most \n",
              "15   Not important                    One of the most important things\n",
              "16   Somewhat important               Very important but not the most \n",
              "17   Not important                    Very important but not the most \n",
              "18   Somewhat important               Very important but not the most \n",
              "19   Very important but not the most  One of the most important things\n",
              "20   Somewhat important               One of the most important things\n",
              "21   Somewhat important               One of the most important things\n",
              "22   Somewhat important               One of the most important things\n",
              "23   Somewhat important               Very important but not the most \n",
              "24   Somewhat important               Very important but not the most \n",
              "25   Very important but not the most  One of the most important things\n",
              "26   Somewhat important               Very important but not the most \n",
              "27   Very important but not the most  (VOL) Don't know/Refused        \n",
              "28   Very important but not the most  Very important but not the most \n",
              "29   One of the most important things Somewhat important              \n",
              "30   Somewhat important               Not important                   \n",
              "⋮    ⋮                                ⋮                               \n",
              "1991 Not important                    Very important but not the most \n",
              "1992 Not important                    Very important but not the most \n",
              "1993 Very important but not the most  One of the most important things\n",
              "1994 Not important                    Very important but not the most \n",
              "1995 Very important but not the most  One of the most important things\n",
              "1996 Very important but not the most  Very important but not the most \n",
              "1997 Very important but not the most  One of the most important things\n",
              "1998 Very important but not the most  One of the most important things\n",
              "1999 Somewhat important               One of the most important things\n",
              "2000 Somewhat important               One of the most important things\n",
              "2001 Very important but not the most  Somewhat important              \n",
              "2002 One of the most important things One of the most important things\n",
              "2003 Very important but not the most  One of the most important things\n",
              "2004 One of the most important things Very important but not the most \n",
              "2005 Not important                    Very important but not the most \n",
              "2006 Not important                    Very important but not the most \n",
              "2007 Very important but not the most  One of the most important things\n",
              "2008 Somewhat important               One of the most important things\n",
              "2009 Very important but not the most  Very important but not the most \n",
              "2010 One of the most important things Not important                   \n",
              "2011 Somewhat important               Very important but not the most \n",
              "2012 Somewhat important               Very important but not the most \n",
              "2013 Somewhat important               Very important but not the most \n",
              "2014 Very important but not the most  Very important but not the most \n",
              "2015 Somewhat important               One of the most important things\n",
              "2016 One of the most important things Very important but not the most \n",
              "2017 Very important but not the most  Very important but not the most \n",
              "2018 Somewhat important               Very important but not the most \n",
              "2019 Somewhat important               Very important but not the most \n",
              "2020 Very important but not the most  Very important but not the most \n",
              "     q8c                              q8d                             \n",
              "1    Very important but not the most  Very important but not the most \n",
              "2    One of the most important things Very important but not the most \n",
              "3    Somewhat important               One of the most important things\n",
              "4    Very important but not the most  Very important but not the most \n",
              "5    Very important but not the most  One of the most important things\n",
              "6    One of the most important things Very important but not the most \n",
              "7    One of the most important things One of the most important things\n",
              "8    Very important but not the most  One of the most important things\n",
              "9    One of the most important things One of the most important things\n",
              "10   Very important but not the most  One of the most important things\n",
              "11   One of the most important things One of the most important things\n",
              "12   Somewhat important               Very important but not the most \n",
              "13   Very important but not the most  One of the most important things\n",
              "14   Very important but not the most  Very important but not the most \n",
              "15   One of the most important things (VOL) Don't know/Refused        \n",
              "16   Somewhat important               One of the most important things\n",
              "17   Very important but not the most  Very important but not the most \n",
              "18   Very important but not the most  One of the most important things\n",
              "19   One of the most important things One of the most important things\n",
              "20   One of the most important things One of the most important things\n",
              "21   Very important but not the most  Not important                   \n",
              "22   One of the most important things One of the most important things\n",
              "23   Very important but not the most  One of the most important things\n",
              "24   Not important                    Very important but not the most \n",
              "25   Not important                    One of the most important things\n",
              "26   Not important                    Very important but not the most \n",
              "27   One of the most important things Very important but not the most \n",
              "28   Somewhat important               Very important but not the most \n",
              "29   Very important but not the most  One of the most important things\n",
              "30   One of the most important things One of the most important things\n",
              "⋮    ⋮                                ⋮                               \n",
              "1991 One of the most important things One of the most important things\n",
              "1992 Not important                    Very important but not the most \n",
              "1993 Very important but not the most  One of the most important things\n",
              "1994 Very important but not the most  Somewhat important              \n",
              "1995 Very important but not the most  One of the most important things\n",
              "1996 Somewhat important               Very important but not the most \n",
              "1997 Not important                    One of the most important things\n",
              "1998 Very important but not the most  One of the most important things\n",
              "1999 Not important                    Very important but not the most \n",
              "2000 Somewhat important               One of the most important things\n",
              "2001 Not important                    Very important but not the most \n",
              "2002 Very important but not the most  One of the most important things\n",
              "2003 Not important                    One of the most important things\n",
              "2004 Very important but not the most  Very important but not the most \n",
              "2005 Very important but not the most  Very important but not the most \n",
              "2006 Not important                    Very important but not the most \n",
              "2007 One of the most important things One of the most important things\n",
              "2008 Somewhat important               One of the most important things\n",
              "2009 Very important but not the most  Very important but not the most \n",
              "2010 Very important but not the most  Very important but not the most \n",
              "2011 Not important                    One of the most important things\n",
              "2012 Not important                    Very important but not the most \n",
              "2013 Somewhat important               Somewhat important              \n",
              "2014 Somewhat important               One of the most important things\n",
              "2015 Somewhat important               One of the most important things\n",
              "2016 Somewhat important               Very important but not the most \n",
              "2017 Very important but not the most  Very important but not the most \n",
              "2018 Somewhat important               Very important but not the most \n",
              "2019 Not important                    One of the most important things\n",
              "2020 Very important but not the most  Very important but not the most \n",
              "     q8e                              q8f                             \n",
              "1    Very important but not the most  Not important                   \n",
              "2    Very important but not the most  Not important                   \n",
              "3    Somewhat important               Not important                   \n",
              "4    Somewhat important               Not important                   \n",
              "5    Somewhat important               Not important                   \n",
              "6    Somewhat important               Not important                   \n",
              "7    One of the most important things Not important                   \n",
              "8    Very important but not the most  Not important                   \n",
              "9    Very important but not the most  Not important                   \n",
              "10   Very important but not the most  Not important                   \n",
              "11   Very important but not the most  Not important                   \n",
              "12   Very important but not the most  Not important                   \n",
              "13   Very important but not the most  Not important                   \n",
              "14   Somewhat important               Not important                   \n",
              "15   (VOL) Don't know/Refused         Not important                   \n",
              "16   Not important                    Not important                   \n",
              "17   Somewhat important               Not important                   \n",
              "18   Very important but not the most  Somewhat important              \n",
              "19   One of the most important things One of the most important things\n",
              "20   Somewhat important               Not important                   \n",
              "21   Somewhat important               Not important                   \n",
              "22   Very important but not the most  Not important                   \n",
              "23   Somewhat important               Not important                   \n",
              "24   Somewhat important               Not important                   \n",
              "25   One of the most important things Not important                   \n",
              "26   Very important but not the most  Not important                   \n",
              "27   Very important but not the most  Not important                   \n",
              "28   Very important but not the most  Very important but not the most \n",
              "29   Very important but not the most  Not important                   \n",
              "30   One of the most important things Not important                   \n",
              "⋮    ⋮                                ⋮                               \n",
              "1991 Very important but not the most  Not important                   \n",
              "1992 Very important but not the most  Not important                   \n",
              "1993 One of the most important things Not important                   \n",
              "1994 Somewhat important               Not important                   \n",
              "1995 One of the most important things Somewhat important              \n",
              "1996 Somewhat important               Not important                   \n",
              "1997 Very important but not the most  Not important                   \n",
              "1998 Very important but not the most  Not important                   \n",
              "1999 One of the most important things Not important                   \n",
              "2000 Very important but not the most  Not important                   \n",
              "2001 Very important but not the most  Very important but not the most \n",
              "2002 Very important but not the most  Not important                   \n",
              "2003 Very important but not the most  Not important                   \n",
              "2004 Very important but not the most  Not important                   \n",
              "2005 Somewhat important               Not important                   \n",
              "2006 Somewhat important               Not important                   \n",
              "2007 Very important but not the most  Not important                   \n",
              "2008 Somewhat important               Not important                   \n",
              "2009 Very important but not the most  Not important                   \n",
              "2010 Very important but not the most  Not important                   \n",
              "2011 Somewhat important               Not important                   \n",
              "2012 Very important but not the most  Not important                   \n",
              "2013 Not important                    Not important                   \n",
              "2014 Somewhat important               Not important                   \n",
              "2015 Very important but not the most  Not important                   \n",
              "2016 Not important                    Not important                   \n",
              "2017 Somewhat important               Not important                   \n",
              "2018 Somewhat important               Not important                   \n",
              "2019 Very important but not the most  Not important                   \n",
              "2020 Very important but not the most  Not important                   \n",
              "     q8g                              ⋯ q44g q44i q45a q46 employ      \n",
              "1    Very important but not the most  ⋯ NA   NA   No   NA  Full-time   \n",
              "2    One of the most important things ⋯ NA   NA   Yes  1   Part-time   \n",
              "3    Somewhat important               ⋯ Yes  No   No   NA  Not employed\n",
              "4    Very important but not the most  ⋯ NA   NA   No   NA  Part-time   \n",
              "5    Very important but not the most  ⋯ Yes  Yes  No   NA  Full-time   \n",
              "6    (VOL) Don't know/Refused         ⋯ NA   Yes  No   NA  Not employed\n",
              "7    One of the most important things ⋯ NA   NA   No   NA  Not employed\n",
              "8    Very important but not the most  ⋯ NA   No   Yes  1   Full-time   \n",
              "9    Very important but not the most  ⋯ No   No   No   NA  Not employed\n",
              "10   One of the most important things ⋯ No   Yes  No   NA  Full-time   \n",
              "11   Very important but not the most  ⋯ No   No   No   NA  Not employed\n",
              "12   Somewhat important               ⋯ NA   Yes  No   NA  Not employed\n",
              "13   Very important but not the most  ⋯ NA   No   No   NA  Not employed\n",
              "14   Very important but not the most  ⋯ NA   Yes  No   NA  Full-time   \n",
              "15   Very important but not the most  ⋯ NA   NA   No   NA  Not employed\n",
              "16   Somewhat important               ⋯ No   No   No   NA  Part-time   \n",
              "17   Very important but not the most  ⋯ NA   No   No   NA  Part-time   \n",
              "18   Very important but not the most  ⋯ NA   NA   No   NA  Not employed\n",
              "19   One of the most important things ⋯ NA   NA   No   NA  Part-time   \n",
              "20   Very important but not the most  ⋯ Yes  Yes  No   NA  Full-time   \n",
              "21   Very important but not the most  ⋯ NA   No   No   NA  Not employed\n",
              "22   Very important but not the most  ⋯ NA   No   No   NA  Not employed\n",
              "23   Very important but not the most  ⋯ NA   NA   No   NA  Not employed\n",
              "24   Somewhat important               ⋯ NA   No   No   NA  Full-time   \n",
              "25   Very important but not the most  ⋯ No   Yes  Yes  1   Full-time   \n",
              "26   Very important but not the most  ⋯ No   No   No   NA  Not employed\n",
              "27   Very important but not the most  ⋯ Yes  Yes  No   NA  Not employed\n",
              "28   Somewhat important               ⋯ NA   NA   Yes  4   Not employed\n",
              "29   One of the most important things ⋯ Yes  No   Yes  3   Full-time   \n",
              "30   One of the most important things ⋯ NA   No   No   NA  Full-time   \n",
              "⋮    ⋮                                ⋱ ⋮    ⋮    ⋮    ⋮   ⋮           \n",
              "1991 Very important but not the most  ⋯ Yes  Yes  No   NA  Not employed\n",
              "1992 Not important                    ⋯ Yes  Yes  No   NA  Not employed\n",
              "1993 One of the most important things ⋯ NA   Yes  No   NA  Full-time   \n",
              "1994 Somewhat important               ⋯ Yes  Yes  No   NA  Not employed\n",
              "1995 Very important but not the most  ⋯ Yes  Yes  No   NA  Full-time   \n",
              "1996 Very important but not the most  ⋯ Yes  Yes  Yes  2   Part-time   \n",
              "1997 Very important but not the most  ⋯ Yes  Yes  Yes  7   Full-time   \n",
              "1998 One of the most important things ⋯ Yes  Yes  Yes  1   Part-time   \n",
              "1999 Very important but not the most  ⋯ Yes  Yes  Yes  3   Full-time   \n",
              "2000 Very important but not the most  ⋯ Yes  Yes  Yes  1   Full-time   \n",
              "2001 Not important                    ⋯ NA   Yes  Yes  6   Not employed\n",
              "2002 Somewhat important               ⋯ Yes  Yes  Yes  1   Part-time   \n",
              "2003 Very important but not the most  ⋯ Yes  Yes  No   NA  Not employed\n",
              "2004 Very important but not the most  ⋯ Yes  Yes  Yes  1   Part-time   \n",
              "2005 One of the most important things ⋯ Yes  Yes  No   NA  Full-time   \n",
              "2006 Somewhat important               ⋯ Yes  Yes  Yes  1   Full-time   \n",
              "2007 One of the most important things ⋯ Yes  Yes  No   NA  Full-time   \n",
              "2008 Somewhat important               ⋯ Yes  No   No   NA  Full-time   \n",
              "2009 Very important but not the most  ⋯ No   No   No   NA  Not employed\n",
              "2010 Not important                    ⋯ Yes  Yes  No   NA  Full-time   \n",
              "2011 Very important but not the most  ⋯ Yes  Yes  No   NA  Not employed\n",
              "2012 One of the most important things ⋯ Yes  Yes  No   NA  Full-time   \n",
              "2013 Somewhat important               ⋯ No   Yes  No   NA  Part-time   \n",
              "2014 Very important but not the most  ⋯ Yes  No   Yes  26  Full-time   \n",
              "2015 Somewhat important               ⋯ Yes  Yes  No   NA  Full-time   \n",
              "2016 Very important but not the most  ⋯ Yes  Yes  Yes  4   Full-time   \n",
              "2017 Very important but not the most  ⋯ Yes  Yes  Yes  1   Not employed\n",
              "2018 Very important but not the most  ⋯ NA   Yes  No   NA  Not employed\n",
              "2019 Very important but not the most  ⋯ No   Yes  No   NA  Not employed\n",
              "2020 Very important but not the most  ⋯ Yes  Yes  No   NA  Full-time   \n",
              "     lwp                                             finan\n",
              "1    NA                                              No   \n",
              "2    NA                                              No   \n",
              "3    Lived with current spouse before married        NA   \n",
              "4    NA                                              NA   \n",
              "5    Lived with both current spouse and someone else NA   \n",
              "6    NA                                              NA   \n",
              "7    NA                                              NA   \n",
              "8    NA                                              NA   \n",
              "9    NA                                              NA   \n",
              "10   NA                                              NA   \n",
              "11   NA                                              NA   \n",
              "12   Lived with current spouse before married        NA   \n",
              "13   NA                                              NA   \n",
              "14   NA                                              NA   \n",
              "15   NA                                              NA   \n",
              "16   Lived with current spouse before married        NA   \n",
              "17   NA                                              NA   \n",
              "18   NA                                              NA   \n",
              "19   Lived with current spouse before married        NA   \n",
              "20   NA                                              NA   \n",
              "21   NA                                              NA   \n",
              "22   NA                                              NA   \n",
              "23   NA                                              NA   \n",
              "24   Lived with both current spouse and someone else No   \n",
              "25   NA                                              No   \n",
              "26   NA                                              NA   \n",
              "27   NA                                              NA   \n",
              "28   NA                                              NA   \n",
              "29   NA                                              No   \n",
              "30   NA                                              NA   \n",
              "⋮    ⋮                                               ⋮    \n",
              "1991 NA                                              Yes  \n",
              "1992 NA                                              Yes  \n",
              "1993 NA                                              No   \n",
              "1994 Lived with current spouse before married        No   \n",
              "1995 NA                                              No   \n",
              "1996 NA                                              No   \n",
              "1997 Lived with current spouse before married        No   \n",
              "1998 NA                                              Yes  \n",
              "1999 NA                                              No   \n",
              "2000 Lived with current spouse before married        No   \n",
              "2001 NA                                              Yes  \n",
              "2002 NA                                              No   \n",
              "2003 NA                                              Yes  \n",
              "2004 NA                                              Yes  \n",
              "2005 NA                                              No   \n",
              "2006 Lived with both current spouse and someone else No   \n",
              "2007 NA                                              No   \n",
              "2008 Lived with both current spouse and someone else No   \n",
              "2009 NA                                              No   \n",
              "2010 NA                                              No   \n",
              "2011 NA                                              Yes  \n",
              "2012 NA                                              No   \n",
              "2013 NA                                              Yes  \n",
              "2014 NA                                              No   \n",
              "2015 NA                                              No   \n",
              "2016 NA                                              No   \n",
              "2017 NA                                              No   \n",
              "2018 NA                                              No   \n",
              "2019 NA                                              No   \n",
              "2020 NA                                              No   \n",
              "     home2                  \n",
              "1    Rent                   \n",
              "2    NA                     \n",
              "3    NA                     \n",
              "4    NA                     \n",
              "5    NA                     \n",
              "6    NA                     \n",
              "7    NA                     \n",
              "8    NA                     \n",
              "9    NA                     \n",
              "10   NA                     \n",
              "11   NA                     \n",
              "12   NA                     \n",
              "13   NA                     \n",
              "14   NA                     \n",
              "15   NA                     \n",
              "16   NA                     \n",
              "17   NA                     \n",
              "18   NA                     \n",
              "19   NA                     \n",
              "20   NA                     \n",
              "21   NA                     \n",
              "22   NA                     \n",
              "23   NA                     \n",
              "24   NA                     \n",
              "25   Own                    \n",
              "26   NA                     \n",
              "27   NA                     \n",
              "28   NA                     \n",
              "29   NA                     \n",
              "30   NA                     \n",
              "⋮    ⋮                      \n",
              "1991 Live in a dorm         \n",
              "1992 Live in a dorm         \n",
              "1993 Live with parents      \n",
              "1994 Rent                   \n",
              "1995 Own                    \n",
              "1996 Rent                   \n",
              "1997 Rent                   \n",
              "1998 Rent                   \n",
              "1999 Live with parents      \n",
              "2000 Own                    \n",
              "2001 (VOL) Other arrangement\n",
              "2002 Rent                   \n",
              "2003 Live with parents      \n",
              "2004 Live with parents      \n",
              "2005 Rent                   \n",
              "2006 Own                    \n",
              "2007 Rent                   \n",
              "2008 Own                    \n",
              "2009 Rent                   \n",
              "2010 Rent                   \n",
              "2011 Live with parents      \n",
              "2012 Rent                   \n",
              "2013 Rent                   \n",
              "2014 Own                    \n",
              "2015 Own                    \n",
              "2016 Rent                   \n",
              "2017 Live with parents      \n",
              "2018 Live with parents      \n",
              "2019 Rent                   \n",
              "2020 Rent                   \n",
              "     educ                                                                                                                    \n",
              "1    Some college, no 4-year degree (including associate degree)                                                             \n",
              "2    Some college, no 4-year degree (including associate degree)                                                             \n",
              "3    College graduate (B.S., B.A., or other 4-year degree)                                                                   \n",
              "4    High school incomplete (Grades 9-11)                                                                                    \n",
              "5    College graduate (B.S., B.A., or other 4-year degree)                                                                   \n",
              "6    Some college, no 4-year degree (including associate degree)                                                             \n",
              "7    Some college, no 4-year degree (including associate degree)                                                             \n",
              "8    High school graduate (Grade 12 or GED certificate)                                                                      \n",
              "9    Some college, no 4-year degree (including associate degree)                                                             \n",
              "10   College graduate (B.S., B.A., or other 4-year degree)                                                                   \n",
              "11   Post-graduate training or professional schooling after college (e.g., toward a master's Degree or Ph.D., law or medical \n",
              "12   Post-graduate training or professional schooling after college (e.g., toward a master's Degree or Ph.D., law or medical \n",
              "13   High school incomplete (Grades 9-11)                                                                                    \n",
              "14   Post-graduate training or professional schooling after college (e.g., toward a master's Degree or Ph.D., law or medical \n",
              "15   Some college, no 4-year degree (including associate degree)                                                             \n",
              "16   Some college, no 4-year degree (including associate degree)                                                             \n",
              "17   High school graduate (Grade 12 or GED certificate)                                                                      \n",
              "18   High school graduate (Grade 12 or GED certificate)                                                                      \n",
              "19   High school graduate (Grade 12 or GED certificate)                                                                      \n",
              "20   Post-graduate training or professional schooling after college (e.g., toward a master's Degree or Ph.D., law or medical \n",
              "21   Some college, no 4-year degree (including associate degree)                                                             \n",
              "22   Post-graduate training or professional schooling after college (e.g., toward a master's Degree or Ph.D., law or medical \n",
              "23   Some college, no 4-year degree (including associate degree)                                                             \n",
              "24   Post-graduate training or professional schooling after college (e.g., toward a master's Degree or Ph.D., law or medical \n",
              "25   College graduate (B.S., B.A., or other 4-year degree)                                                                   \n",
              "26   College graduate (B.S., B.A., or other 4-year degree)                                                                   \n",
              "27   Some college, no 4-year degree (including associate degree)                                                             \n",
              "28   High school incomplete (Grades 9-11)                                                                                    \n",
              "29   High school graduate (Grade 12 or GED certificate)                                                                      \n",
              "30   High school graduate (Grade 12 or GED certificate)                                                                      \n",
              "⋮    ⋮                                                                                                                       \n",
              "1991 Some college, no 4-year degree (including associate degree)                                                             \n",
              "1992 Some college, no 4-year degree (including associate degree)                                                             \n",
              "1993 College graduate (B.S., B.A., or other 4-year degree)                                                                   \n",
              "1994 Technical, trade, or vocational school AFTER high school                                                                \n",
              "1995 College graduate (B.S., B.A., or other 4-year degree)                                                                   \n",
              "1996 College graduate (B.S., B.A., or other 4-year degree)                                                                   \n",
              "1997 High school graduate (Grade 12 or GED certificate)                                                                      \n",
              "1998 Technical, trade, or vocational school AFTER high school                                                                \n",
              "1999 Some college, no 4-year degree (including associate degree)                                                             \n",
              "2000 College graduate (B.S., B.A., or other 4-year degree)                                                                   \n",
              "2001 None, or grade 1-8                                                                                                      \n",
              "2002 High school incomplete (Grades 9-11)                                                                                    \n",
              "2003 College graduate (B.S., B.A., or other 4-year degree)                                                                   \n",
              "2004 High school graduate (Grade 12 or GED certificate)                                                                      \n",
              "2005 College graduate (B.S., B.A., or other 4-year degree)                                                                   \n",
              "2006 College graduate (B.S., B.A., or other 4-year degree)                                                                   \n",
              "2007 Some college, no 4-year degree (including associate degree)                                                             \n",
              "2008 College graduate (B.S., B.A., or other 4-year degree)                                                                   \n",
              "2009 None, or grade 1-8                                                                                                      \n",
              "2010 High school graduate (Grade 12 or GED certificate)                                                                      \n",
              "2011 Technical, trade, or vocational school AFTER high school                                                                \n",
              "2012 College graduate (B.S., B.A., or other 4-year degree)                                                                   \n",
              "2013 Some college, no 4-year degree (including associate degree)                                                             \n",
              "2014 Some college, no 4-year degree (including associate degree)                                                             \n",
              "2015 College graduate (B.S., B.A., or other 4-year degree)                                                                   \n",
              "2016 High school graduate (Grade 12 or GED certificate)                                                                      \n",
              "2017 Some college, no 4-year degree (including associate degree)                                                             \n",
              "2018 Some college, no 4-year degree (including associate degree)                                                             \n",
              "2019 Some college, no 4-year degree (including associate degree)                                                             \n",
              "2020 Some college, no 4-year degree (including associate degree)                                                             \n",
              "     health                         \n",
              "1    Covered by health insurance    \n",
              "2    Covered by health insurance    \n",
              "3    Covered by health insurance    \n",
              "4    Covered by health insurance    \n",
              "5    Covered by health insurance    \n",
              "6    Covered by health insurance    \n",
              "7    Covered by health insurance    \n",
              "8    Covered by health insurance    \n",
              "9    Covered by health insurance    \n",
              "10   Covered by health insurance    \n",
              "11   Covered by health insurance    \n",
              "12   Covered by health insurance    \n",
              "13   Covered by health insurance    \n",
              "14   Covered by health insurance    \n",
              "15   Covered by health insurance    \n",
              "16   Covered by health insurance    \n",
              "17   Covered by health insurance    \n",
              "18   Covered by health insurance    \n",
              "19   Covered by health insurance    \n",
              "20   Covered by health insurance    \n",
              "21   Covered by health insurance    \n",
              "22   Covered by health insurance    \n",
              "23   Covered by health insurance    \n",
              "24   Covered by health insurance    \n",
              "25   Covered by health insurance    \n",
              "26   Covered by health insurance    \n",
              "27   Covered by health insurance    \n",
              "28   Not covered by health insurance\n",
              "29   Covered by health insurance    \n",
              "30   (VOL) Don't know/Refused       \n",
              "⋮    ⋮                              \n",
              "1991 Covered by health insurance    \n",
              "1992 Covered by health insurance    \n",
              "1993 Covered by health insurance    \n",
              "1994 Covered by health insurance    \n",
              "1995 Covered by health insurance    \n",
              "1996 Covered by health insurance    \n",
              "1997 Not covered by health insurance\n",
              "1998 Covered by health insurance    \n",
              "1999 Covered by health insurance    \n",
              "2000 Covered by health insurance    \n",
              "2001 Not covered by health insurance\n",
              "2002 Covered by health insurance    \n",
              "2003 Covered by health insurance    \n",
              "2004 Covered by health insurance    \n",
              "2005 Covered by health insurance    \n",
              "2006 Covered by health insurance    \n",
              "2007 Covered by health insurance    \n",
              "2008 Covered by health insurance    \n",
              "2009 Not covered by health insurance\n",
              "2010 Covered by health insurance    \n",
              "2011 Not covered by health insurance\n",
              "2012 Covered by health insurance    \n",
              "2013 Covered by health insurance    \n",
              "2014 Covered by health insurance    \n",
              "2015 Covered by health insurance    \n",
              "2016 Covered by health insurance    \n",
              "2017 Covered by health insurance    \n",
              "2018 Not covered by health insurance\n",
              "2019 Covered by health insurance    \n",
              "2020 Not covered by health insurance"
            ]
          },
          "metadata": {},
          "output_type": "display_data"
        }
      ],
      "source": [
        "load(url('https://datasets.stats306.org/mil.RData'))\n",
        "mil"
      ]
    },
    {
      "cell_type": "markdown",
      "metadata": {
        "id": "Ju-RGu1QfnRM"
      },
      "source": [
        "Each column of the data corresponds to one of the question asked during the survey. You can find the full script [here](https://docs.google.com/file/d/14U2-rS_ljS7kH97PMFqmNMKDwefSL5AS/edit?usp=docslist_api&filetype=msword)."
      ]
    },
    {
      "cell_type": "markdown",
      "metadata": {
        "id": "EdjIILeAfnRN"
      },
      "source": [
        "## 🤔 Quiz\n",
        "\n",
        "What would be a good way to visualize `mil$age`?\n",
        "\n",
        "<ol style=\"list-style-type: upper-alpha;\">\n",
        "    <li>Histogram</li>\n",
        "    <li>Bar plot</li>\n",
        "    <li>Scatter plot</li>\n",
        "    <li>Line plot</li>\n",
        "    <li>Density plot</li>\n",
        "</ol>"
      ]
    },
    {
      "cell_type": "code",
      "execution_count": null,
      "metadata": {
        "id": "rkZ8mLkcfnRN"
      },
      "outputs": [],
      "source": [
        "# visualize age"
      ]
    },
    {
      "cell_type": "markdown",
      "metadata": {
        "id": "NnFx8sHhfnRO"
      },
      "source": [
        "## Social networking\n",
        "\n",
        "    Q.20\tHow often do you visit the social networking site you use most often… several times a day, about once a day, every few days, once a week or less often?\n",
        "    \n",
        "What sort of variable is this (`mil$q20`)? How should we visualize it?"
      ]
    },
    {
      "cell_type": "code",
      "execution_count": null,
      "metadata": {
        "id": "ydGkD6tYfnRO",
        "outputId": "364eeb11-f05f-4b53-f1ed-867fddce0f4b"
      },
      "outputs": [
        {
          "data": {
            "text/html": [
              "<style>\n",
              ".dl-inline {width: auto; margin:0; padding: 0}\n",
              ".dl-inline>dt, .dl-inline>dd {float: none; width: auto; display: inline-block}\n",
              ".dl-inline>dt::after {content: \":\\0020\"; padding-right: .5ex}\n",
              ".dl-inline>dt:not(:first-of-type) {padding-left: .5ex}\n",
              "</style><dl class=dl-inline><dt>Several times a day</dt><dd>249</dd><dt>About once a day</dt><dd>244</dd><dt>Every few days</dt><dd>217</dd><dt>Once a week</dt><dd>140</dd><dt>Less often</dt><dd>176</dd><dt>(VOL) Don't know/Refused</dt><dd>1</dd><dt>NA's</dt><dd>993</dd></dl>\n"
            ],
            "text/latex": [
              "\\begin{description*}\n",
              "\\item[Several times a day] 249\n",
              "\\item[About once a day] 244\n",
              "\\item[Every few days] 217\n",
              "\\item[Once a week] 140\n",
              "\\item[Less often] 176\n",
              "\\item[(VOL) Don't know/Refused] 1\n",
              "\\item[NA's] 993\n",
              "\\end{description*}\n"
            ],
            "text/markdown": [
              "Several times a day\n",
              ":   249About once a day\n",
              ":   244Every few days\n",
              ":   217Once a week\n",
              ":   140Less often\n",
              ":   176(VOL) Don't know/Refused\n",
              ":   1NA's\n",
              ":   993\n",
              "\n"
            ],
            "text/plain": [
              "     Several times a day         About once a day           Every few days \n",
              "                     249                      244                      217 \n",
              "             Once a week               Less often (VOL) Don't know/Refused \n",
              "                     140                      176                        1 \n",
              "                    NA's \n",
              "                     993 "
            ]
          },
          "metadata": {},
          "output_type": "display_data"
        }
      ],
      "source": [
        "summary(mil$q20)"
      ]
    },
    {
      "cell_type": "markdown",
      "metadata": {
        "id": "xSUI5NdUfnRO"
      },
      "source": [
        "## Social networking and age\n",
        "How should I visualize **co**variation in age and social networking use?"
      ]
    },
    {
      "cell_type": "code",
      "execution_count": null,
      "metadata": {
        "id": "pUgDCTd7fnRO"
      },
      "outputs": [],
      "source": [
        "# Age and social joint distribution"
      ]
    }
  ],
  "metadata": {
    "celltoolbar": "Slideshow",
    "kernelspec": {
      "display_name": "R",
      "language": "R",
      "name": "ir"
    },
    "language_info": {
      "codemirror_mode": "r",
      "file_extension": ".r",
      "mimetype": "text/x-r-source",
      "name": "R",
      "pygments_lexer": "r",
      "version": "4.2.2"
    },
    "colab": {
      "provenance": [],
      "include_colab_link": true
    }
  },
  "nbformat": 4,
  "nbformat_minor": 0
}
