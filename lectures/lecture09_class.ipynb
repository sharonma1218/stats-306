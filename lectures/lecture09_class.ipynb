{
  "cells": [
    {
      "cell_type": "markdown",
      "metadata": {
        "id": "view-in-github",
        "colab_type": "text"
      },
      "source": [
        "<a href=\"https://colab.research.google.com/github/sharonma1218/stats-306/blob/main/lecture09_class.ipynb\" target=\"_parent\"><img src=\"https://colab.research.google.com/assets/colab-badge.svg\" alt=\"Open In Colab\"/></a>"
      ]
    },
    {
      "cell_type": "code",
      "source": [
        "install.packages(c(\"Lahman\", \"priceR\", \"DBI\", \"RSQLite\", \"priceR\"))"
      ],
      "metadata": {
        "colab": {
          "base_uri": "https://localhost:8080/"
        },
        "id": "wLl3cvrV0-he",
        "outputId": "7717397d-739b-43d5-886f-88272c0439f5"
      },
      "execution_count": null,
      "outputs": [
        {
          "output_type": "stream",
          "name": "stderr",
          "text": [
            "Installing packages into ‘/usr/local/lib/R/site-library’\n",
            "(as ‘lib’ is unspecified)\n",
            "\n",
            "also installing the dependencies ‘proto’, ‘gsubfn’, ‘Rcpp’, ‘plogr’\n",
            "\n",
            "\n"
          ]
        }
      ]
    },
    {
      "cell_type": "code",
      "source": [
        "install.packages('nycflights13')"
      ],
      "metadata": {
        "colab": {
          "base_uri": "https://localhost:8080/"
        },
        "id": "KfWYz0SL2vTB",
        "outputId": "36451885-7de5-4648-fd41-48105c0889ca"
      },
      "execution_count": null,
      "outputs": [
        {
          "output_type": "stream",
          "name": "stderr",
          "text": [
            "Installing package into ‘/usr/local/lib/R/site-library’\n",
            "(as ‘lib’ is unspecified)\n",
            "\n"
          ]
        }
      ]
    },
    {
      "cell_type": "code",
      "execution_count": null,
      "metadata": {
        "id": "QanF-QbV05Gv"
      },
      "outputs": [],
      "source": [
        "library(tidyverse)\n",
        "library(nycflights13)"
      ]
    },
    {
      "cell_type": "markdown",
      "metadata": {
        "id": "Nkapyhxh05Gz"
      },
      "source": [
        "# Lecture 09: More on relational data; SQL\n",
        "<div style=\"border: 1px double black; padding: 10px; margin: 10px\">\n",
        "\n",
        "**After today's lecture you will:**\n",
        "* Understand how to [filter data using joins](#Filtering-joins)\n",
        "* Know to execute basic [SQL commands](#SQL-Commands)\n",
        "</div>\n"
      ]
    },
    {
      "cell_type": "markdown",
      "metadata": {
        "id": "BS2-N8UK05G0"
      },
      "source": [
        "## Review of last lecture\n",
        "Last lecture we learned how to join data from one table to another. The main function we care about is `left_join(x, y, by=<key>)`, which tries to find a matching key in the `y` table for every row in the `x` table.\n",
        "\n",
        "![match example](https://r4ds.hadley.nz/diagrams/join/left.png)"
      ]
    },
    {
      "cell_type": "code",
      "source": [
        "# left join: keep all the observations in the left table, even if there r no matches\n",
        "# left vs right join: left vs right table \n",
        "# is left_join(x,y) the same as right_join(y,x)? "
      ],
      "metadata": {
        "id": "dQBrJAW61xrk"
      },
      "execution_count": null,
      "outputs": []
    },
    {
      "cell_type": "markdown",
      "metadata": {
        "id": "5JgmCzPd05G2"
      },
      "source": [
        "## 🤔 Quiz\n",
        "Assume every flight is full. The busiest travel day in terms of total # of passengers scheduled to depart is:\n",
        "\n",
        "<ol style=\"list-style-type: upper-alpha;\">\n",
        "    <li> Jul. 3 </li>\n",
        "    <li> Nov. 26</li>\n",
        "    <li>Nov. 27</li>\n",
        "    <li>Dec. 26</li>\n",
        "    <li>Dec. 27</li>\n",
        "</ol>\n",
        "\n",
        "(Hint: the `planes` table tells you how many passengers each airplane holds.)"
      ]
    },
    {
      "cell_type": "code",
      "execution_count": null,
      "metadata": {
        "id": "yymKYdQ605G2",
        "colab": {
          "base_uri": "https://localhost:8080/"
        },
        "outputId": "0b226db6-6b0c-4b81-cdba-7e00ec01fc42"
      },
      "outputs": [
        {
          "output_type": "stream",
          "name": "stderr",
          "text": [
            "\u001b[1m\u001b[22m`summarise()` has grouped output by 'month'. You can override using the\n",
            "`.groups` argument.\n"
          ]
        },
        {
          "output_type": "stream",
          "name": "stdout",
          "text": [
            "\u001b[90m# A tibble: 365 × 3\u001b[39m\n",
            "\u001b[90m# Groups:   month [12]\u001b[39m\n",
            "   month   day  total\n",
            "   \u001b[3m\u001b[90m<int>\u001b[39m\u001b[23m \u001b[3m\u001b[90m<int>\u001b[39m\u001b[23m  \u001b[3m\u001b[90m<int>\u001b[39m\u001b[23m\n",
            "\u001b[90m 1\u001b[39m    11    27 \u001b[4m1\u001b[24m\u001b[4m1\u001b[24m\u001b[4m8\u001b[24m869\n",
            "\u001b[90m 2\u001b[39m    12     2 \u001b[4m1\u001b[24m\u001b[4m1\u001b[24m\u001b[4m7\u001b[24m736\n",
            "\u001b[90m 3\u001b[39m    11    26 \u001b[4m1\u001b[24m\u001b[4m1\u001b[24m\u001b[4m7\u001b[24m470\n",
            "\u001b[90m 4\u001b[39m    10    18 \u001b[4m1\u001b[24m\u001b[4m1\u001b[24m\u001b[4m7\u001b[24m324\n",
            "\u001b[90m 5\u001b[39m    10    21 \u001b[4m1\u001b[24m\u001b[4m1\u001b[24m\u001b[4m7\u001b[24m166\n",
            "\u001b[90m 6\u001b[39m     7    26 \u001b[4m1\u001b[24m\u001b[4m1\u001b[24m\u001b[4m6\u001b[24m944\n",
            "\u001b[90m 7\u001b[39m    11     7 \u001b[4m1\u001b[24m\u001b[4m1\u001b[24m\u001b[4m6\u001b[24m734\n",
            "\u001b[90m 8\u001b[39m     4     3 \u001b[4m1\u001b[24m\u001b[4m1\u001b[24m\u001b[4m6\u001b[24m716\n",
            "\u001b[90m 9\u001b[39m    11    21 \u001b[4m1\u001b[24m\u001b[4m1\u001b[24m\u001b[4m6\u001b[24m577\n",
            "\u001b[90m10\u001b[39m    10     3 \u001b[4m1\u001b[24m\u001b[4m1\u001b[24m\u001b[4m6\u001b[24m514\n",
            "\u001b[90m# … with 355 more rows\u001b[39m\n"
          ]
        }
      ],
      "source": [
        "# total number of passengers\n",
        "flights%>%\n",
        "  left_join(planes,by=(\"tailnum\"=\"tailnum\"))%>% # combine the two tables by tailnum instead of default/year b/c these two variables in these two dfs are diff \n",
        "  select(month,day,seats)%>% # show only the variables you are interested in \n",
        "  group_by(month,day)%>% # grouping by month & day since they are the identifiers\n",
        "  summarize(total=sum(seats,na.rm=TRUE))%>% # total seats for each day  \n",
        "  arrange(desc(total))%>%\n",
        "  print"
      ]
    },
    {
      "cell_type": "markdown",
      "metadata": {
        "id": "RZjC9phU05G8"
      },
      "source": [
        "## Filtering joins\n",
        "\n",
        "Filtering joins allow us to filter rows on one table based on their presence or absence in another table. We've already seen some examples of this on the problem sets:"
      ]
    },
    {
      "cell_type": "code",
      "execution_count": null,
      "metadata": {
        "id": "Qmtr8QbT05G8",
        "outputId": "c04d5675-a5ab-4d35-8ca7-12763b13e450"
      },
      "outputs": [
        {
          "name": "stderr",
          "output_type": "stream",
          "text": [
            "Selecting by n\n"
          ]
        },
        {
          "name": "stdout",
          "output_type": "stream",
          "text": [
            "# A tibble: 5 x 2\n",
            "  carrier     n\n",
            "  <chr>   <int>\n",
            "1 AA      32729\n",
            "2 B6      54635\n",
            "3 DL      48110\n",
            "4 EV      54173\n",
            "5 UA      58665\n"
          ]
        },
        {
          "data": {
            "text/plain": [
              "[1] \"AA\" \"B6\" \"DL\" \"EV\" \"UA\""
            ]
          },
          "metadata": {},
          "output_type": "display_data"
        },
        {
          "name": "stdout",
          "output_type": "stream",
          "text": [
            "# A tibble: 248,312 x 19\n",
            "    year month   day dep_time sched_dep_time dep_delay arr_time sched_arr_time\n",
            "   <int> <int> <int>    <int>          <int>     <dbl>    <int>          <int>\n",
            " 1  2013     1     1      517            515         2      830            819\n",
            " 2  2013     1     1      533            529         4      850            830\n",
            " 3  2013     1     1      542            540         2      923            850\n",
            " 4  2013     1     1      544            545        -1     1004           1022\n",
            " 5  2013     1     1      554            600        -6      812            837\n",
            " 6  2013     1     1      554            558        -4      740            728\n",
            " 7  2013     1     1      555            600        -5      913            854\n",
            " 8  2013     1     1      557            600        -3      709            723\n",
            " 9  2013     1     1      557            600        -3      838            846\n",
            "10  2013     1     1      558            600        -2      753            745\n",
            "# … with 248,302 more rows, and 11 more variables: arr_delay <dbl>,\n",
            "#   carrier <chr>, flight <int>, tailnum <chr>, origin <chr>, dest <chr>,\n",
            "#   air_time <dbl>, distance <dbl>, hour <dbl>, minute <dbl>, time_hour <dttm>\n"
          ]
        }
      ],
      "source": [
        "top5 = count(flights, carrier) %>% top_n(5) %>% print\n",
        "top5$carrier\n",
        "flights_top5 = filter(flights, carrier %in% top5$carrier) %>% print"
      ]
    },
    {
      "cell_type": "markdown",
      "metadata": {
        "id": "iIhTM1yY05G9"
      },
      "source": [
        "What if we wanted to filter based on more than one variable? For example, based on busiest days of the year:"
      ]
    },
    {
      "cell_type": "code",
      "execution_count": null,
      "metadata": {
        "id": "ONKHSXuH05G9",
        "outputId": "7bd29af0-5aa7-41de-c6e0-85fbac531da1"
      },
      "outputs": [
        {
          "name": "stderr",
          "output_type": "stream",
          "text": [
            "Selecting by n\n"
          ]
        },
        {
          "name": "stdout",
          "output_type": "stream",
          "text": [
            "# A tibble: 7 x 4\n",
            "   year month   day     n\n",
            "  <int> <int> <int> <int>\n",
            "1  2013     7    18  1003\n",
            "2  2013     7    25  1003\n",
            "3  2013     7     8  1004\n",
            "4  2013     7    10  1004\n",
            "5  2013    12     2  1004\n",
            "6  2013     7    11  1006\n",
            "7  2013    11    27  1014\n"
          ]
        }
      ],
      "source": [
        "top6_days = count(flights, year, month, day) %>% top_n(6) %>% \n",
        "    arrange(n) %>% print"
      ]
    },
    {
      "cell_type": "code",
      "execution_count": null,
      "metadata": {
        "id": "kdO5xsMf05G-"
      },
      "outputs": [],
      "source": [
        "# manual filter join"
      ]
    },
    {
      "cell_type": "markdown",
      "metadata": {
        "id": "J0jdz5xi05G-"
      },
      "source": [
        "### Semi-join\n",
        "`semi_join(x, y)` keeps all the observations in `x` that are also in `y`.\n",
        "![semi join](http://r4ds.had.co.nz/diagrams/join-semi.png)"
      ]
    },
    {
      "cell_type": "markdown",
      "metadata": {
        "id": "iYKNBHBg05G-"
      },
      "source": [
        "`semi_join()` takes the same `key=` options as the other join commands."
      ]
    },
    {
      "cell_type": "code",
      "source": [
        "x = tribble(\n",
        "  ~key, ~val_x,\n",
        "     1, \"x1\",\n",
        "     2, \"x2\",\n",
        "     3, \"x3\"\n",
        ")\n",
        "y = tribble(\n",
        "  ~key, ~val_y,\n",
        "     1, \"y1\",\n",
        "     2, \"y2\",\n",
        "     4, \"y3\"\n",
        ")\n",
        "semi_join(x,y)\n",
        "left_join(x,y) # for comparison \n",
        "anti_join(x,y) # for later"
      ],
      "metadata": {
        "colab": {
          "base_uri": "https://localhost:8080/",
          "height": 502
        },
        "id": "HWGu01s04nI5",
        "outputId": "c6645ad3-b27c-4ff6-80fa-ac0582317e61"
      },
      "execution_count": null,
      "outputs": [
        {
          "output_type": "stream",
          "name": "stderr",
          "text": [
            "\u001b[1m\u001b[22mJoining with `by = join_by(key)`\n"
          ]
        },
        {
          "output_type": "display_data",
          "data": {
            "text/html": [
              "<table class=\"dataframe\">\n",
              "<caption>A tibble: 2 × 2</caption>\n",
              "<thead>\n",
              "\t<tr><th scope=col>key</th><th scope=col>val_x</th></tr>\n",
              "\t<tr><th scope=col>&lt;dbl&gt;</th><th scope=col>&lt;chr&gt;</th></tr>\n",
              "</thead>\n",
              "<tbody>\n",
              "\t<tr><td>1</td><td>x1</td></tr>\n",
              "\t<tr><td>2</td><td>x2</td></tr>\n",
              "</tbody>\n",
              "</table>\n"
            ],
            "text/markdown": "\nA tibble: 2 × 2\n\n| key &lt;dbl&gt; | val_x &lt;chr&gt; |\n|---|---|\n| 1 | x1 |\n| 2 | x2 |\n\n",
            "text/latex": "A tibble: 2 × 2\n\\begin{tabular}{ll}\n key & val\\_x\\\\\n <dbl> & <chr>\\\\\n\\hline\n\t 1 & x1\\\\\n\t 2 & x2\\\\\n\\end{tabular}\n",
            "text/plain": [
              "  key val_x\n",
              "1 1   x1   \n",
              "2 2   x2   "
            ]
          },
          "metadata": {}
        },
        {
          "output_type": "stream",
          "name": "stderr",
          "text": [
            "\u001b[1m\u001b[22mJoining with `by = join_by(key)`\n"
          ]
        },
        {
          "output_type": "display_data",
          "data": {
            "text/html": [
              "<table class=\"dataframe\">\n",
              "<caption>A tibble: 3 × 3</caption>\n",
              "<thead>\n",
              "\t<tr><th scope=col>key</th><th scope=col>val_x</th><th scope=col>val_y</th></tr>\n",
              "\t<tr><th scope=col>&lt;dbl&gt;</th><th scope=col>&lt;chr&gt;</th><th scope=col>&lt;chr&gt;</th></tr>\n",
              "</thead>\n",
              "<tbody>\n",
              "\t<tr><td>1</td><td>x1</td><td>y1</td></tr>\n",
              "\t<tr><td>2</td><td>x2</td><td>y2</td></tr>\n",
              "\t<tr><td>3</td><td>x3</td><td>NA</td></tr>\n",
              "</tbody>\n",
              "</table>\n"
            ],
            "text/markdown": "\nA tibble: 3 × 3\n\n| key &lt;dbl&gt; | val_x &lt;chr&gt; | val_y &lt;chr&gt; |\n|---|---|---|\n| 1 | x1 | y1 |\n| 2 | x2 | y2 |\n| 3 | x3 | NA |\n\n",
            "text/latex": "A tibble: 3 × 3\n\\begin{tabular}{lll}\n key & val\\_x & val\\_y\\\\\n <dbl> & <chr> & <chr>\\\\\n\\hline\n\t 1 & x1 & y1\\\\\n\t 2 & x2 & y2\\\\\n\t 3 & x3 & NA\\\\\n\\end{tabular}\n",
            "text/plain": [
              "  key val_x val_y\n",
              "1 1   x1    y1   \n",
              "2 2   x2    y2   \n",
              "3 3   x3    NA   "
            ]
          },
          "metadata": {}
        },
        {
          "output_type": "stream",
          "name": "stderr",
          "text": [
            "\u001b[1m\u001b[22mJoining with `by = join_by(key)`\n"
          ]
        },
        {
          "output_type": "display_data",
          "data": {
            "text/html": [
              "<table class=\"dataframe\">\n",
              "<caption>A tibble: 1 × 2</caption>\n",
              "<thead>\n",
              "\t<tr><th scope=col>key</th><th scope=col>val_x</th></tr>\n",
              "\t<tr><th scope=col>&lt;dbl&gt;</th><th scope=col>&lt;chr&gt;</th></tr>\n",
              "</thead>\n",
              "<tbody>\n",
              "\t<tr><td>3</td><td>x3</td></tr>\n",
              "</tbody>\n",
              "</table>\n"
            ],
            "text/markdown": "\nA tibble: 1 × 2\n\n| key &lt;dbl&gt; | val_x &lt;chr&gt; |\n|---|---|\n| 3 | x3 |\n\n",
            "text/latex": "A tibble: 1 × 2\n\\begin{tabular}{ll}\n key & val\\_x\\\\\n <dbl> & <chr>\\\\\n\\hline\n\t 3 & x3\\\\\n\\end{tabular}\n",
            "text/plain": [
              "  key val_x\n",
              "1 3   x3   "
            ]
          },
          "metadata": {}
        }
      ]
    },
    {
      "cell_type": "code",
      "source": [
        "top5 = count(flights, carrier) %>% top_n(5) %>% print\n",
        "semi_join(flights,top5)%>%print"
      ],
      "metadata": {
        "colab": {
          "base_uri": "https://localhost:8080/"
        },
        "id": "TF2SeV3I4z89",
        "outputId": "de583ba5-97bd-4de8-b758-e9fcf66dbdf1"
      },
      "execution_count": null,
      "outputs": [
        {
          "output_type": "stream",
          "name": "stderr",
          "text": [
            "\u001b[1m\u001b[22mSelecting by n\n"
          ]
        },
        {
          "output_type": "stream",
          "name": "stdout",
          "text": [
            "\u001b[90m# A tibble: 5 × 2\u001b[39m\n",
            "  carrier     n\n",
            "  \u001b[3m\u001b[90m<chr>\u001b[39m\u001b[23m   \u001b[3m\u001b[90m<int>\u001b[39m\u001b[23m\n",
            "\u001b[90m1\u001b[39m AA      \u001b[4m3\u001b[24m\u001b[4m2\u001b[24m729\n",
            "\u001b[90m2\u001b[39m B6      \u001b[4m5\u001b[24m\u001b[4m4\u001b[24m635\n",
            "\u001b[90m3\u001b[39m DL      \u001b[4m4\u001b[24m\u001b[4m8\u001b[24m110\n",
            "\u001b[90m4\u001b[39m EV      \u001b[4m5\u001b[24m\u001b[4m4\u001b[24m173\n",
            "\u001b[90m5\u001b[39m UA      \u001b[4m5\u001b[24m\u001b[4m8\u001b[24m665\n"
          ]
        },
        {
          "output_type": "stream",
          "name": "stderr",
          "text": [
            "\u001b[1m\u001b[22mJoining with `by = join_by(carrier)`\n"
          ]
        },
        {
          "output_type": "stream",
          "name": "stdout",
          "text": [
            "\u001b[90m# A tibble: 248,312 × 19\u001b[39m\n",
            "    year month   day dep_time sched_de…¹ dep_d…² arr_t…³ sched…⁴ arr_d…⁵ carrier\n",
            "   \u001b[3m\u001b[90m<int>\u001b[39m\u001b[23m \u001b[3m\u001b[90m<int>\u001b[39m\u001b[23m \u001b[3m\u001b[90m<int>\u001b[39m\u001b[23m    \u001b[3m\u001b[90m<int>\u001b[39m\u001b[23m      \u001b[3m\u001b[90m<int>\u001b[39m\u001b[23m   \u001b[3m\u001b[90m<dbl>\u001b[39m\u001b[23m   \u001b[3m\u001b[90m<int>\u001b[39m\u001b[23m   \u001b[3m\u001b[90m<int>\u001b[39m\u001b[23m   \u001b[3m\u001b[90m<dbl>\u001b[39m\u001b[23m \u001b[3m\u001b[90m<chr>\u001b[39m\u001b[23m  \n",
            "\u001b[90m 1\u001b[39m  \u001b[4m2\u001b[24m013     1     1      517        515       2     830     819      11 UA     \n",
            "\u001b[90m 2\u001b[39m  \u001b[4m2\u001b[24m013     1     1      533        529       4     850     830      20 UA     \n",
            "\u001b[90m 3\u001b[39m  \u001b[4m2\u001b[24m013     1     1      542        540       2     923     850      33 AA     \n",
            "\u001b[90m 4\u001b[39m  \u001b[4m2\u001b[24m013     1     1      544        545      -\u001b[31m1\u001b[39m    \u001b[4m1\u001b[24m004    \u001b[4m1\u001b[24m022     -\u001b[31m18\u001b[39m B6     \n",
            "\u001b[90m 5\u001b[39m  \u001b[4m2\u001b[24m013     1     1      554        600      -\u001b[31m6\u001b[39m     812     837     -\u001b[31m25\u001b[39m DL     \n",
            "\u001b[90m 6\u001b[39m  \u001b[4m2\u001b[24m013     1     1      554        558      -\u001b[31m4\u001b[39m     740     728      12 UA     \n",
            "\u001b[90m 7\u001b[39m  \u001b[4m2\u001b[24m013     1     1      555        600      -\u001b[31m5\u001b[39m     913     854      19 B6     \n",
            "\u001b[90m 8\u001b[39m  \u001b[4m2\u001b[24m013     1     1      557        600      -\u001b[31m3\u001b[39m     709     723     -\u001b[31m14\u001b[39m EV     \n",
            "\u001b[90m 9\u001b[39m  \u001b[4m2\u001b[24m013     1     1      557        600      -\u001b[31m3\u001b[39m     838     846      -\u001b[31m8\u001b[39m B6     \n",
            "\u001b[90m10\u001b[39m  \u001b[4m2\u001b[24m013     1     1      558        600      -\u001b[31m2\u001b[39m     753     745       8 AA     \n",
            "\u001b[90m# … with 248,302 more rows, 9 more variables: flight <int>, tailnum <chr>,\u001b[39m\n",
            "\u001b[90m#   origin <chr>, dest <chr>, air_time <dbl>, distance <dbl>, hour <dbl>,\u001b[39m\n",
            "\u001b[90m#   minute <dbl>, time_hour <dttm>, and abbreviated variable names\u001b[39m\n",
            "\u001b[90m#   ¹​sched_dep_time, ²​dep_delay, ³​arr_time, ⁴​sched_arr_time, ⁵​arr_delay\u001b[39m\n"
          ]
        }
      ]
    },
    {
      "cell_type": "markdown",
      "metadata": {
        "id": "gTSqxVaV05G_"
      },
      "source": [
        "### Anti-join\n",
        "The opposite of a semi-join is an anti-join:\n",
        "![anti-join](http://r4ds.had.co.nz/diagrams/join-anti.png)"
      ]
    },
    {
      "cell_type": "markdown",
      "metadata": {
        "id": "2KU_TzfS05G_"
      },
      "source": [
        "## Filtering joins\n",
        "\n",
        "Filtering joins allow us to filter rows on one table based on their presence or absence in another table. We've already seen some examples of this on the problem sets:"
      ]
    },
    {
      "cell_type": "code",
      "execution_count": null,
      "metadata": {
        "id": "_NAJ_9n805G_",
        "outputId": "021fbcf7-5c8e-4049-bcdf-abe46a78bcf4"
      },
      "outputs": [
        {
          "name": "stderr",
          "output_type": "stream",
          "text": [
            "\u001b[1m\u001b[22mSelecting by n\n"
          ]
        },
        {
          "data": {
            "text/html": [
              "94326"
            ],
            "text/latex": [
              "94326"
            ],
            "text/markdown": [
              "94326"
            ],
            "text/plain": [
              "[1] 94326"
            ]
          },
          "metadata": {},
          "output_type": "display_data"
        }
      ],
      "source": [
        "dest_top6 <- count(flights, dest) %>% top_n(6)\n",
        "filter(flights, dest %in% dest_top6$dest) %>% nrow"
      ]
    },
    {
      "cell_type": "markdown",
      "metadata": {
        "id": "fUrSgqty05HA"
      },
      "source": [
        "### Semi-join\n",
        "`semi_join(x, y)` keeps all the observations in `x` that are also in `y`.\n",
        "![semi join](http://r4ds.had.co.nz/diagrams/join-semi.png)"
      ]
    },
    {
      "cell_type": "code",
      "execution_count": null,
      "metadata": {
        "id": "xLDwVPeL05HA"
      },
      "outputs": [],
      "source": [
        "# find all the flight with destinations in the top 6"
      ]
    },
    {
      "cell_type": "markdown",
      "metadata": {
        "id": "i3F_XWEG05HA"
      },
      "source": [
        "### Anti-join\n",
        "`anti_join(x, y)` does the opposite of `semi_join`: it *drops* all the observations in `x` that are also in `y`.\n",
        "![anti join](https://r4ds.hadley.nz/diagrams/join/anti.png)"
      ]
    },
    {
      "cell_type": "markdown",
      "metadata": {
        "id": "f4Z-iqYm05HA"
      },
      "source": [
        "Anti-joins are useful for finding mismatches in joins. Last lecture we saw that some 50k entries in `flights` have `tailnum`s that do not exist in the `planes` table. To find out more about these flights we could use an anti-join to select only those rows:"
      ]
    },
    {
      "cell_type": "code",
      "execution_count": null,
      "metadata": {
        "id": "K5oqsSUB05HB",
        "outputId": "3d705bc4-f04f-4b8a-8c2d-051f23c8240c",
        "colab": {
          "base_uri": "https://localhost:8080/"
        }
      },
      "outputs": [
        {
          "output_type": "stream",
          "name": "stdout",
          "text": [
            "\u001b[90m# A tibble: 50,094 × 19\u001b[39m\n",
            "    year month   day dep_time sched_de…¹ dep_d…² arr_t…³ sched…⁴ arr_d…⁵ carrier\n",
            "   \u001b[3m\u001b[90m<int>\u001b[39m\u001b[23m \u001b[3m\u001b[90m<int>\u001b[39m\u001b[23m \u001b[3m\u001b[90m<int>\u001b[39m\u001b[23m    \u001b[3m\u001b[90m<int>\u001b[39m\u001b[23m      \u001b[3m\u001b[90m<int>\u001b[39m\u001b[23m   \u001b[3m\u001b[90m<dbl>\u001b[39m\u001b[23m   \u001b[3m\u001b[90m<int>\u001b[39m\u001b[23m   \u001b[3m\u001b[90m<int>\u001b[39m\u001b[23m   \u001b[3m\u001b[90m<dbl>\u001b[39m\u001b[23m \u001b[3m\u001b[90m<chr>\u001b[39m\u001b[23m  \n",
            "\u001b[90m 1\u001b[39m  \u001b[4m2\u001b[24m013     1     1      558        600      -\u001b[31m2\u001b[39m     753     745       8 AA     \n",
            "\u001b[90m 2\u001b[39m  \u001b[4m2\u001b[24m013     1     1      559        600      -\u001b[31m1\u001b[39m     941     910      31 AA     \n",
            "\u001b[90m 3\u001b[39m  \u001b[4m2\u001b[24m013     1     1      600        600       0     837     825      12 MQ     \n",
            "\u001b[90m 4\u001b[39m  \u001b[4m2\u001b[24m013     1     1      602        605      -\u001b[31m3\u001b[39m     821     805      16 MQ     \n",
            "\u001b[90m 5\u001b[39m  \u001b[4m2\u001b[24m013     1     1      608        600       8     807     735      32 MQ     \n",
            "\u001b[90m 6\u001b[39m  \u001b[4m2\u001b[24m013     1     1      611        600      11     945     931      14 UA     \n",
            "\u001b[90m 7\u001b[39m  \u001b[4m2\u001b[24m013     1     1      623        610      13     920     915       5 AA     \n",
            "\u001b[90m 8\u001b[39m  \u001b[4m2\u001b[24m013     1     1      624        630      -\u001b[31m6\u001b[39m     840     830      10 MQ     \n",
            "\u001b[90m 9\u001b[39m  \u001b[4m2\u001b[24m013     1     1      628        630      -\u001b[31m2\u001b[39m    \u001b[4m1\u001b[24m137    \u001b[4m1\u001b[24m140      -\u001b[31m3\u001b[39m AA     \n",
            "\u001b[90m10\u001b[39m  \u001b[4m2\u001b[24m013     1     1      629        630      -\u001b[31m1\u001b[39m     824     810      14 AA     \n",
            "\u001b[90m# … with 50,084 more rows, 9 more variables: flight <int>, tailnum <chr>,\u001b[39m\n",
            "\u001b[90m#   origin <chr>, dest <chr>, air_time <dbl>, distance <dbl>, hour <dbl>,\u001b[39m\n",
            "\u001b[90m#   minute <dbl>, time_hour <dttm>, and abbreviated variable names\u001b[39m\n",
            "\u001b[90m#   ¹​sched_dep_time, ²​dep_delay, ³​arr_time, ⁴​sched_arr_time, ⁵​arr_delay\u001b[39m\n"
          ]
        }
      ],
      "source": [
        "# the tailnums that are present in the flights but missing in the planes \n",
        "missing_planes = anti_join(flights, planes, by=\"tailnum\") %>% \n",
        "                 filter(!is.na(tailnum)) %>% print"
      ]
    },
    {
      "cell_type": "markdown",
      "metadata": {
        "id": "eUksXXHl05HB"
      },
      "source": [
        "Do we see any pattern in this table that could explain the missing tail numbers?"
      ]
    },
    {
      "cell_type": "code",
      "execution_count": null,
      "metadata": {
        "id": "z8X9lNkq05HB",
        "outputId": "7bd35aa3-6559-40f5-a3d7-be90362b24ab",
        "colab": {
          "base_uri": "https://localhost:8080/"
        }
      },
      "outputs": [
        {
          "output_type": "stream",
          "name": "stdout",
          "text": [
            "\u001b[90m# A tibble: 100 × 19\u001b[39m\n",
            "    year month   day dep_time sched_dep_time dep_delay arr_time sched_arr_time\n",
            "   \u001b[3m\u001b[90m<int>\u001b[39m\u001b[23m \u001b[3m\u001b[90m<int>\u001b[39m\u001b[23m \u001b[3m\u001b[90m<int>\u001b[39m\u001b[23m    \u001b[3m\u001b[90m<int>\u001b[39m\u001b[23m          \u001b[3m\u001b[90m<int>\u001b[39m\u001b[23m     \u001b[3m\u001b[90m<dbl>\u001b[39m\u001b[23m    \u001b[3m\u001b[90m<int>\u001b[39m\u001b[23m          \u001b[3m\u001b[90m<int>\u001b[39m\u001b[23m\n",
            "\u001b[90m 1\u001b[39m  \u001b[4m2\u001b[24m013     4    14      849            855        -\u001b[31m6\u001b[39m     \u001b[4m1\u001b[24m101           \u001b[4m1\u001b[24m120\n",
            "\u001b[90m 2\u001b[39m  \u001b[4m2\u001b[24m013     1    28     \u001b[4m1\u001b[24m352           \u001b[4m1\u001b[24m345         7     \u001b[4m1\u001b[24m706           \u001b[4m1\u001b[24m705\n",
            "\u001b[90m 3\u001b[39m  \u001b[4m2\u001b[24m013     4    21     \u001b[4m1\u001b[24m609           \u001b[4m1\u001b[24m545        24     \u001b[4m1\u001b[24m818           \u001b[4m1\u001b[24m745\n",
            "\u001b[90m 4\u001b[39m  \u001b[4m2\u001b[24m013     8     9     \u001b[4m1\u001b[24m656           \u001b[4m1\u001b[24m630        26     \u001b[4m2\u001b[24m036           \u001b[4m1\u001b[24m845\n",
            "\u001b[90m 5\u001b[39m  \u001b[4m2\u001b[24m013     7    30     \u001b[4m1\u001b[24m803           \u001b[4m1\u001b[24m725        38     \u001b[4m2\u001b[24m047           \u001b[4m2\u001b[24m045\n",
            "\u001b[90m 6\u001b[39m  \u001b[4m2\u001b[24m013     9    15     \u001b[4m1\u001b[24m344           \u001b[4m1\u001b[24m345        -\u001b[31m1\u001b[39m     \u001b[4m1\u001b[24m506           \u001b[4m1\u001b[24m520\n",
            "\u001b[90m 7\u001b[39m  \u001b[4m2\u001b[24m013    12    12     \u001b[4m1\u001b[24m211           \u001b[4m1\u001b[24m220        -\u001b[31m9\u001b[39m     \u001b[4m1\u001b[24m349           \u001b[4m1\u001b[24m400\n",
            "\u001b[90m 8\u001b[39m  \u001b[4m2\u001b[24m013    11    14      822            829        -\u001b[31m7\u001b[39m     \u001b[4m1\u001b[24m008           \u001b[4m1\u001b[24m029\n",
            "\u001b[90m 9\u001b[39m  \u001b[4m2\u001b[24m013     4    18       \u001b[31mNA\u001b[39m            925        \u001b[31mNA\u001b[39m       \u001b[31mNA\u001b[39m           \u001b[4m1\u001b[24m110\n",
            "\u001b[90m10\u001b[39m  \u001b[4m2\u001b[24m013     5    14      626            630        -\u001b[31m4\u001b[39m      748            805\n",
            "   arr_delay carrier flight tailnum origin dest  air_time distance  hour minute\n",
            "       \u001b[3m\u001b[90m<dbl>\u001b[39m\u001b[23m \u001b[3m\u001b[90m<chr>\u001b[39m\u001b[23m    \u001b[3m\u001b[90m<int>\u001b[39m\u001b[23m \u001b[3m\u001b[90m<chr>\u001b[39m\u001b[23m   \u001b[3m\u001b[90m<chr>\u001b[39m\u001b[23m  \u001b[3m\u001b[90m<chr>\u001b[39m\u001b[23m    \u001b[3m\u001b[90m<dbl>\u001b[39m\u001b[23m    \u001b[3m\u001b[90m<dbl>\u001b[39m\u001b[23m \u001b[3m\u001b[90m<dbl>\u001b[39m\u001b[23m  \u001b[3m\u001b[90m<dbl>\u001b[39m\u001b[23m\n",
            "\u001b[90m 1\u001b[39m       -\u001b[31m19\u001b[39m MQ        \u001b[4m4\u001b[24m619 N534MQ  LGA    ATL        110      762     8     55\n",
            "\u001b[90m 2\u001b[39m         1 AA        \u001b[4m1\u001b[24m073 N3EMAA  LGA    MIA        155     \u001b[4m1\u001b[24m096    13     45\n",
            "\u001b[90m 3\u001b[39m        33 MQ        \u001b[4m4\u001b[24m146 N624MQ  JFK    CMH         80      483    15     45\n",
            "\u001b[90m 4\u001b[39m       111 MQ        \u001b[4m3\u001b[24m556 N721MQ  LGA    DTW         84      502    16     30\n",
            "\u001b[90m 5\u001b[39m         2 AA         221 N5EXAA  JFK    MIA        139     \u001b[4m1\u001b[24m089    17     25\n",
            "\u001b[90m 6\u001b[39m       -\u001b[31m14\u001b[39m MQ        \u001b[4m3\u001b[24m305 N513MQ  LGA    RDU         64      431    13     45\n",
            "\u001b[90m 7\u001b[39m       -\u001b[31m11\u001b[39m MQ        \u001b[4m3\u001b[24m361 N813MQ  JFK    RDU         77      427    12     20\n",
            "\u001b[90m 8\u001b[39m       -\u001b[31m21\u001b[39m MQ        \u001b[4m3\u001b[24m478 N544MQ  LGA    DTW         80      502     8     29\n",
            "\u001b[90m 9\u001b[39m        \u001b[31mNA\u001b[39m AA        \u001b[4m1\u001b[24m855 N542AA  LGA    STL         \u001b[31mNA\u001b[39m      888     9     25\n",
            "\u001b[90m10\u001b[39m       -\u001b[31m17\u001b[39m AA         303 N503AA  LGA    ORD        120      733     6     30\n",
            "   time_hour          \n",
            "   \u001b[3m\u001b[90m<dttm>\u001b[39m\u001b[23m             \n",
            "\u001b[90m 1\u001b[39m 2013-04-14 \u001b[90m08:00:00\u001b[39m\n",
            "\u001b[90m 2\u001b[39m 2013-01-28 \u001b[90m13:00:00\u001b[39m\n",
            "\u001b[90m 3\u001b[39m 2013-04-21 \u001b[90m15:00:00\u001b[39m\n",
            "\u001b[90m 4\u001b[39m 2013-08-09 \u001b[90m16:00:00\u001b[39m\n",
            "\u001b[90m 5\u001b[39m 2013-07-30 \u001b[90m17:00:00\u001b[39m\n",
            "\u001b[90m 6\u001b[39m 2013-09-15 \u001b[90m13:00:00\u001b[39m\n",
            "\u001b[90m 7\u001b[39m 2013-12-12 \u001b[90m12:00:00\u001b[39m\n",
            "\u001b[90m 8\u001b[39m 2013-11-14 \u001b[90m08:00:00\u001b[39m\n",
            "\u001b[90m 9\u001b[39m 2013-04-18 \u001b[90m09:00:00\u001b[39m\n",
            "\u001b[90m10\u001b[39m 2013-05-14 \u001b[90m06:00:00\u001b[39m\n",
            "\u001b[90m# … with 90 more rows\u001b[39m\n"
          ]
        }
      ],
      "source": [
        "missing_planes %>% sample_n(100) %>% print(width = Inf)"
      ]
    },
    {
      "cell_type": "code",
      "source": [
        "flights%>%\n",
        "  filter(tailnum==\"N542MQ\")%>%\n",
        "  print\n",
        "# all the flights that were missing from the planes dataset aren't even registered on flightaware.com.\n",
        "# these planes are most likely private! "
      ],
      "metadata": {
        "colab": {
          "base_uri": "https://localhost:8080/"
        },
        "id": "s3ljKLWI54ik",
        "outputId": "19ac30f9-7987-4b4f-8a5f-09546ebec433"
      },
      "execution_count": null,
      "outputs": [
        {
          "output_type": "stream",
          "name": "stdout",
          "text": [
            "\u001b[90m# A tibble: 363 × 19\u001b[39m\n",
            "    year month   day dep_time sched_de…¹ dep_d…² arr_t…³ sched…⁴ arr_d…⁵ carrier\n",
            "   \u001b[3m\u001b[90m<int>\u001b[39m\u001b[23m \u001b[3m\u001b[90m<int>\u001b[39m\u001b[23m \u001b[3m\u001b[90m<int>\u001b[39m\u001b[23m    \u001b[3m\u001b[90m<int>\u001b[39m\u001b[23m      \u001b[3m\u001b[90m<int>\u001b[39m\u001b[23m   \u001b[3m\u001b[90m<dbl>\u001b[39m\u001b[23m   \u001b[3m\u001b[90m<int>\u001b[39m\u001b[23m   \u001b[3m\u001b[90m<int>\u001b[39m\u001b[23m   \u001b[3m\u001b[90m<dbl>\u001b[39m\u001b[23m \u001b[3m\u001b[90m<chr>\u001b[39m\u001b[23m  \n",
            "\u001b[90m 1\u001b[39m  \u001b[4m2\u001b[24m013     1     1      600        600       0     837     825      12 MQ     \n",
            "\u001b[90m 2\u001b[39m  \u001b[4m2\u001b[24m013     1     1     \u001b[4m1\u001b[24m301       \u001b[4m1\u001b[24m150      71    \u001b[4m1\u001b[24m518    \u001b[4m1\u001b[24m345      93 MQ     \n",
            "\u001b[90m 3\u001b[39m  \u001b[4m2\u001b[24m013     1     2     \u001b[4m1\u001b[24m045        959      46    \u001b[4m1\u001b[24m242    \u001b[4m1\u001b[24m129      73 MQ     \n",
            "\u001b[90m 4\u001b[39m  \u001b[4m2\u001b[24m013     1     3      926        920       6    \u001b[4m1\u001b[24m140    \u001b[4m1\u001b[24m125      15 MQ     \n",
            "\u001b[90m 5\u001b[39m  \u001b[4m2\u001b[24m013     1     3     \u001b[4m1\u001b[24m445       \u001b[4m1\u001b[24m445       0    \u001b[4m1\u001b[24m726    \u001b[4m1\u001b[24m710      16 MQ     \n",
            "\u001b[90m 6\u001b[39m  \u001b[4m2\u001b[24m013     1     5     \u001b[4m1\u001b[24m230       \u001b[4m1\u001b[24m200      30    \u001b[4m1\u001b[24m447    \u001b[4m1\u001b[24m430      17 MQ     \n",
            "\u001b[90m 7\u001b[39m  \u001b[4m2\u001b[24m013     1     6     \u001b[4m1\u001b[24m102       \u001b[4m1\u001b[24m050      12    \u001b[4m1\u001b[24m255    \u001b[4m1\u001b[24m250       5 MQ     \n",
            "\u001b[90m 8\u001b[39m  \u001b[4m2\u001b[24m013     1     6     \u001b[4m1\u001b[24m820       \u001b[4m1\u001b[24m830     -\u001b[31m10\u001b[39m    \u001b[4m1\u001b[24m955    \u001b[4m2\u001b[24m015     -\u001b[31m20\u001b[39m MQ     \n",
            "\u001b[90m 9\u001b[39m  \u001b[4m2\u001b[24m013     1     8     \u001b[4m1\u001b[24m348       \u001b[4m1\u001b[24m350      -\u001b[31m2\u001b[39m    \u001b[4m1\u001b[24m531    \u001b[4m1\u001b[24m545     -\u001b[31m14\u001b[39m MQ     \n",
            "\u001b[90m10\u001b[39m  \u001b[4m2\u001b[24m013     1     9      549        600     -\u001b[31m11\u001b[39m     815     825     -\u001b[31m10\u001b[39m MQ     \n",
            "\u001b[90m# … with 353 more rows, 9 more variables: flight <int>, tailnum <chr>,\u001b[39m\n",
            "\u001b[90m#   origin <chr>, dest <chr>, air_time <dbl>, distance <dbl>, hour <dbl>,\u001b[39m\n",
            "\u001b[90m#   minute <dbl>, time_hour <dttm>, and abbreviated variable names\u001b[39m\n",
            "\u001b[90m#   ¹​sched_dep_time, ²​dep_delay, ³​arr_time, ⁴​sched_arr_time, ⁵​arr_delay\u001b[39m\n"
          ]
        }
      ]
    },
    {
      "cell_type": "code",
      "source": [
        "planes%>%\n",
        "  filter(tailnum==\"N542MQ\")%>%\n",
        "  print\n",
        "# confirms that there in the flights dataset but not in the planes "
      ],
      "metadata": {
        "colab": {
          "base_uri": "https://localhost:8080/"
        },
        "id": "AsiyLkSD64Ic",
        "outputId": "8bff5756-bdd7-4f3a-fcc5-6edf0387f473"
      },
      "execution_count": null,
      "outputs": [
        {
          "output_type": "stream",
          "name": "stdout",
          "text": [
            "\u001b[90m# A tibble: 0 × 9\u001b[39m\n",
            "\u001b[90m# … with 9 variables: tailnum <chr>, year <int>, type <chr>,\u001b[39m\n",
            "\u001b[90m#   manufacturer <chr>, model <chr>, engines <int>, seats <int>, speed <int>,\u001b[39m\n",
            "\u001b[90m#   engine <chr>\u001b[39m\n"
          ]
        }
      ]
    },
    {
      "cell_type": "markdown",
      "metadata": {
        "id": "-fHGfQWM05HC"
      },
      "source": [
        "The one plane that is represented is N711M. You can [look it up](https://flightaware.com/resources/registration/N711MQ) in an online database and find out it's a private jet. My guess is the others are private jets too."
      ]
    },
    {
      "cell_type": "markdown",
      "metadata": {
        "id": "FV3qTl0r05HD"
      },
      "source": [
        "# SQL\n",
        "\n",
        "SQL stands for \"Structured Query Language\". Many large databases are stored in SQL format, and you will probably encounter one if you work on big data and/or at a large company. "
      ]
    },
    {
      "cell_type": "code",
      "execution_count": null,
      "metadata": {
        "id": "0mw_MhSX05HD"
      },
      "outputs": [],
      "source": [
        "# SQLite database\n",
        "library(nycflights13)\n",
        "library(DBI)\n",
        "library(RSQLite)\n",
        "con <- dbConnect(SQLite(), \":memory:\") # same as box below\n",
        "copy_to(con, flights, \"flights\")\n",
        "copy_to(con, airports, \"airports\")\n",
        "copy_to(con, airlines, \"airlines\")\n",
        "copy_to(con, weather, \"weather\")\n",
        "q <- function(...) dbGetQuery(con, ...) %>% as_tibble"
      ]
    },
    {
      "cell_type": "code",
      "source": [
        "# create ephemeral in-memory RQSLite database\n",
        "con<-dbConnect(RSQLite::SQLite(),\":memory:\")\n",
        "dbListTables(con)"
      ],
      "metadata": {
        "colab": {
          "base_uri": "https://localhost:8080/",
          "height": 17
        },
        "id": "ax1DN3am8DQU",
        "outputId": "65d92816-503b-47e0-ced8-810578a9d849"
      },
      "execution_count": null,
      "outputs": [
        {
          "output_type": "display_data",
          "data": {
            "text/html": [],
            "text/markdown": "",
            "text/latex": "",
            "text/plain": [
              "character(0)"
            ]
          },
          "metadata": {}
        }
      ]
    },
    {
      "cell_type": "code",
      "source": [
        "dbWriteTable(con,\"mpg\",mpg,overwrite=T)\n",
        "dbListTables(con)"
      ],
      "metadata": {
        "colab": {
          "base_uri": "https://localhost:8080/",
          "height": 34
        },
        "id": "Pzp4DyGD99IE",
        "outputId": "646b0f26-c38e-47a8-8489-83711f796bb6"
      },
      "execution_count": null,
      "outputs": [
        {
          "output_type": "display_data",
          "data": {
            "text/html": [
              "'mpg'"
            ],
            "text/markdown": "'mpg'",
            "text/latex": "'mpg'",
            "text/plain": [
              "[1] \"mpg\""
            ]
          },
          "metadata": {}
        }
      ]
    },
    {
      "cell_type": "code",
      "source": [
        "# dbRemoveTable(con,\"mpg\") will delete the table"
      ],
      "metadata": {
        "id": "dKyWF1eS-on9"
      },
      "execution_count": null,
      "outputs": []
    },
    {
      "cell_type": "code",
      "source": [
        "# col names of this table:\n",
        "dbListFields(con,\"mpg\")"
      ],
      "metadata": {
        "colab": {
          "base_uri": "https://localhost:8080/",
          "height": 34
        },
        "id": "6vcto6LP-2jg",
        "outputId": "d7d7d32d-b217-4586-b46f-8f04d88c804d"
      },
      "execution_count": null,
      "outputs": [
        {
          "output_type": "display_data",
          "data": {
            "text/html": [
              "<style>\n",
              ".list-inline {list-style: none; margin:0; padding: 0}\n",
              ".list-inline>li {display: inline-block}\n",
              ".list-inline>li:not(:last-child)::after {content: \"\\00b7\"; padding: 0 .5ex}\n",
              "</style>\n",
              "<ol class=list-inline><li>'manufacturer'</li><li>'model'</li><li>'displ'</li><li>'year'</li><li>'cyl'</li><li>'trans'</li><li>'drv'</li><li>'cty'</li><li>'hwy'</li><li>'fl'</li><li>'class'</li></ol>\n"
            ],
            "text/markdown": "1. 'manufacturer'\n2. 'model'\n3. 'displ'\n4. 'year'\n5. 'cyl'\n6. 'trans'\n7. 'drv'\n8. 'cty'\n9. 'hwy'\n10. 'fl'\n11. 'class'\n\n\n",
            "text/latex": "\\begin{enumerate*}\n\\item 'manufacturer'\n\\item 'model'\n\\item 'displ'\n\\item 'year'\n\\item 'cyl'\n\\item 'trans'\n\\item 'drv'\n\\item 'cty'\n\\item 'hwy'\n\\item 'fl'\n\\item 'class'\n\\end{enumerate*}\n",
            "text/plain": [
              " [1] \"manufacturer\" \"model\"        \"displ\"        \"year\"         \"cyl\"         \n",
              " [6] \"trans\"        \"drv\"          \"cty\"          \"hwy\"          \"fl\"          \n",
              "[11] \"class\"       "
            ]
          },
          "metadata": {}
        }
      ]
    },
    {
      "cell_type": "code",
      "source": [
        "# reads the entire table:\n",
        "dbReadTable(con,\"mpg\")"
      ],
      "metadata": {
        "id": "SLYV4l91-zD-"
      },
      "execution_count": null,
      "outputs": []
    },
    {
      "cell_type": "markdown",
      "metadata": {
        "id": "y2yME7Gi05HD"
      },
      "source": [
        "### Selecting data from a table\n",
        "The SQL syntax for selecting column(s) from a table is\n",
        "```{sql}\n",
        "SELECT <col1>, <col2>, ..., <coln> FROM <table>\n",
        "```\n",
        "Note the similarity to the corresponding `tidyverse` command:\n",
        "```{r}\n",
        "select(<table>, <col1>, <col2>, ..., <coln>)\n",
        "```"
      ]
    },
    {
      "cell_type": "code",
      "source": [
        "# diff:\n",
        "# SQL: separate w space, kind of like a sentence\n",
        "# R: functions"
      ],
      "metadata": {
        "id": "zltI9s07_GjD"
      },
      "execution_count": null,
      "outputs": []
    },
    {
      "cell_type": "code",
      "source": [
        "# let us select some records\n",
        "res<-dbSendQuery(con,\"SELECT*FROM mpg\") # reserved set "
      ],
      "metadata": {
        "colab": {
          "base_uri": "https://localhost:8080/"
        },
        "id": "5Y1fZxpP_NgY",
        "outputId": "624f0365-f10a-43ba-e97f-3699282d9cac"
      },
      "execution_count": null,
      "outputs": [
        {
          "output_type": "stream",
          "name": "stderr",
          "text": [
            "Warning message:\n",
            "“Closing open result set, pending rows”\n"
          ]
        }
      ]
    },
    {
      "cell_type": "code",
      "source": [
        "dbFetch(res) # fetches the data frame \n",
        "# if you fetch it again, it results in an empty tibble. you'd need to put it on reserve again."
      ],
      "metadata": {
        "colab": {
          "base_uri": "https://localhost:8080/",
          "height": 98
        },
        "id": "3G41XOwo_Ycc",
        "outputId": "d4b64aa5-4865-43a6-b933-e79a2af14589"
      },
      "execution_count": null,
      "outputs": [
        {
          "output_type": "display_data",
          "data": {
            "text/html": [
              "<table class=\"dataframe\">\n",
              "<caption>A data.frame: 0 × 11</caption>\n",
              "<thead>\n",
              "\t<tr><th scope=col>manufacturer</th><th scope=col>model</th><th scope=col>displ</th><th scope=col>year</th><th scope=col>cyl</th><th scope=col>trans</th><th scope=col>drv</th><th scope=col>cty</th><th scope=col>hwy</th><th scope=col>fl</th><th scope=col>class</th></tr>\n",
              "\t<tr><th scope=col>&lt;chr&gt;</th><th scope=col>&lt;chr&gt;</th><th scope=col>&lt;dbl&gt;</th><th scope=col>&lt;int&gt;</th><th scope=col>&lt;int&gt;</th><th scope=col>&lt;chr&gt;</th><th scope=col>&lt;chr&gt;</th><th scope=col>&lt;int&gt;</th><th scope=col>&lt;int&gt;</th><th scope=col>&lt;chr&gt;</th><th scope=col>&lt;chr&gt;</th></tr>\n",
              "</thead>\n",
              "<tbody>\n",
              "</tbody>\n",
              "</table>\n"
            ],
            "text/markdown": "\nA data.frame: 0 × 11\n\n| manufacturer &lt;chr&gt; | model &lt;chr&gt; | displ &lt;dbl&gt; | year &lt;int&gt; | cyl &lt;int&gt; | trans &lt;chr&gt; | drv &lt;chr&gt; | cty &lt;int&gt; | hwy &lt;int&gt; | fl &lt;chr&gt; | class &lt;chr&gt; |\n|---|---|---|---|---|---|---|---|---|---|---|\n\n",
            "text/latex": "A data.frame: 0 × 11\n\\begin{tabular}{lllllllllll}\n manufacturer & model & displ & year & cyl & trans & drv & cty & hwy & fl & class\\\\\n <chr> & <chr> & <dbl> & <int> & <int> & <chr> & <chr> & <int> & <int> & <chr> & <chr>\\\\\n\\hline\n\\end{tabular}\n",
            "text/plain": [
              "     manufacturer model displ year cyl trans drv cty hwy fl class"
            ]
          },
          "metadata": {}
        }
      ]
    },
    {
      "cell_type": "code",
      "source": [
        "res<-dbSendQuery(con,\"SELECT manufacturer,model,year,cyl FROM mpg\") \n",
        "# does the same as select function in R\n",
        "# SQL is not case sensitive!"
      ],
      "metadata": {
        "colab": {
          "base_uri": "https://localhost:8080/"
        },
        "id": "B2lXhcQy_qa0",
        "outputId": "21f8ef4b-14ca-4ae7-840a-ff448263db13"
      },
      "execution_count": null,
      "outputs": [
        {
          "output_type": "stream",
          "name": "stderr",
          "text": [
            "Warning message:\n",
            "“Closing open result set, pending rows”\n"
          ]
        }
      ]
    },
    {
      "cell_type": "code",
      "source": [
        "dbFetch(res)"
      ],
      "metadata": {
        "id": "jVIm50Z5_wDY"
      },
      "execution_count": null,
      "outputs": []
    },
    {
      "cell_type": "markdown",
      "metadata": {
        "id": "WDBJ_Pjb05HD"
      },
      "source": [
        "The special keyword `*` means \"select everything\" and is equivalent to `dplyr`'s `everything()`:"
      ]
    },
    {
      "cell_type": "markdown",
      "metadata": {
        "id": "eEt9r_Qd05HE"
      },
      "source": [
        "If you have a really big table, SQL allows you to `LIMIT` the number of rows it returns."
      ]
    },
    {
      "cell_type": "code",
      "source": [
        "# limit query to first 5 rows \n",
        "res<-dbSendQuery(con,\"SELECT manufacturer,model,year,cyl FROM mpg limit 5\") \n",
        "dbFetch(res)"
      ],
      "metadata": {
        "colab": {
          "base_uri": "https://localhost:8080/",
          "height": 291
        },
        "id": "AAca-wPi_7uu",
        "outputId": "c935f29c-35cd-4234-87f3-22b8b1fd6c73"
      },
      "execution_count": null,
      "outputs": [
        {
          "output_type": "stream",
          "name": "stderr",
          "text": [
            "Warning message:\n",
            "“Closing open result set, pending rows”\n"
          ]
        },
        {
          "output_type": "display_data",
          "data": {
            "text/html": [
              "<table class=\"dataframe\">\n",
              "<caption>A data.frame: 5 × 4</caption>\n",
              "<thead>\n",
              "\t<tr><th scope=col>manufacturer</th><th scope=col>model</th><th scope=col>year</th><th scope=col>cyl</th></tr>\n",
              "\t<tr><th scope=col>&lt;chr&gt;</th><th scope=col>&lt;chr&gt;</th><th scope=col>&lt;int&gt;</th><th scope=col>&lt;int&gt;</th></tr>\n",
              "</thead>\n",
              "<tbody>\n",
              "\t<tr><td>audi</td><td>a4</td><td>1999</td><td>4</td></tr>\n",
              "\t<tr><td>audi</td><td>a4</td><td>1999</td><td>4</td></tr>\n",
              "\t<tr><td>audi</td><td>a4</td><td>2008</td><td>4</td></tr>\n",
              "\t<tr><td>audi</td><td>a4</td><td>2008</td><td>4</td></tr>\n",
              "\t<tr><td>audi</td><td>a4</td><td>1999</td><td>6</td></tr>\n",
              "</tbody>\n",
              "</table>\n"
            ],
            "text/markdown": "\nA data.frame: 5 × 4\n\n| manufacturer &lt;chr&gt; | model &lt;chr&gt; | year &lt;int&gt; | cyl &lt;int&gt; |\n|---|---|---|---|\n| audi | a4 | 1999 | 4 |\n| audi | a4 | 1999 | 4 |\n| audi | a4 | 2008 | 4 |\n| audi | a4 | 2008 | 4 |\n| audi | a4 | 1999 | 6 |\n\n",
            "text/latex": "A data.frame: 5 × 4\n\\begin{tabular}{llll}\n manufacturer & model & year & cyl\\\\\n <chr> & <chr> & <int> & <int>\\\\\n\\hline\n\t audi & a4 & 1999 & 4\\\\\n\t audi & a4 & 1999 & 4\\\\\n\t audi & a4 & 2008 & 4\\\\\n\t audi & a4 & 2008 & 4\\\\\n\t audi & a4 & 1999 & 6\\\\\n\\end{tabular}\n",
            "text/plain": [
              "  manufacturer model year cyl\n",
              "1 audi         a4    1999 4  \n",
              "2 audi         a4    1999 4  \n",
              "3 audi         a4    2008 4  \n",
              "4 audi         a4    2008 4  \n",
              "5 audi         a4    1999 6  "
            ]
          },
          "metadata": {}
        }
      ]
    },
    {
      "cell_type": "code",
      "source": [
        "#dbClearResult(res) - how to clear the reserved set "
      ],
      "metadata": {
        "id": "5CVwJiIVALi1"
      },
      "execution_count": null,
      "outputs": []
    },
    {
      "cell_type": "markdown",
      "metadata": {
        "id": "M5L86VuE05HE"
      },
      "source": [
        "### Distinct rows\n",
        "Writing `SELECT DISTINCT` instead of `SELECT` will give every unique row in the data set:"
      ]
    },
    {
      "cell_type": "markdown",
      "metadata": {
        "id": "TvjxFuHh05HE"
      },
      "source": [
        "### Filtering\n",
        "\n",
        "The SQL syntax for filtering rows in a table uses the `WHERE` clause:\n",
        "```{sql}\n",
        "SELECT * FROM <table> WHERE dest = \"IAH\"\n",
        "```\n",
        "This is the same as:\n",
        "```{r}\n",
        "filter(<table>, dest == \"IAH\")\n",
        "```\n",
        "Note that SQL uses a single `=` to check equality!"
      ]
    },
    {
      "cell_type": "markdown",
      "metadata": {
        "id": "9Y0RpX6h05HE"
      },
      "source": [
        "### Inequality in SQL\n",
        "The write that something is *not equal* in SQL, we traditionally use the `<>` operator:"
      ]
    },
    {
      "cell_type": "code",
      "execution_count": null,
      "metadata": {
        "id": "Hv2CfUe105HF"
      },
      "outputs": [],
      "source": [
        "# all flights that are not destined for LAX"
      ]
    },
    {
      "cell_type": "markdown",
      "metadata": {
        "id": "mEEmellb05HF"
      },
      "source": [
        "Newer dialects of SQL (including SQLite) seem to let you use `!=` as well though."
      ]
    },
    {
      "cell_type": "markdown",
      "metadata": {
        "id": "tJxSKSmf05HF"
      },
      "source": [
        "### Missing data\n",
        "In SQL, missing data is coded as `NULL`. This is a special value which is analogous to `NA` in R. "
      ]
    },
    {
      "cell_type": "code",
      "execution_count": null,
      "metadata": {
        "id": "z_8Gn5af05HF",
        "colab": {
          "base_uri": "https://localhost:8080/",
          "height": 437
        },
        "outputId": "148d4161-a011-4837-ca42-734af704096a"
      },
      "outputs": [
        {
          "output_type": "stream",
          "name": "stderr",
          "text": [
            "Warning message:\n",
            "“Closing open result set, pending rows”\n"
          ]
        },
        {
          "output_type": "error",
          "ename": "ERROR",
          "evalue": "ignored",
          "traceback": [
            "Error: no such table: flights\nTraceback:\n",
            "1. q(\"SELECT * FROM flights WHERE dep_delay iS NOT NULL\") %>% print",
            "2. print(.)",
            "3. q(\"SELECT * FROM flights WHERE dep_delay iS NOT NULL\")",
            "4. dbGetQuery(con, ...) %>% as_tibble   # at line 10 of file <text>",
            "5. as_tibble(.)",
            "6. dbGetQuery(con, ...)",
            "7. dbGetQuery(con, ...)",
            "8. .local(conn, statement, ...)",
            "9. dbSendQuery(conn, statement, ...)",
            "10. dbSendQuery(conn, statement, ...)",
            "11. .local(conn, statement, ...)",
            "12. new(\"SQLiteResult\", sql = statement, ptr = result_create(conn@ptr, \n  .     statement), conn = conn, bigint = conn@bigint)",
            "13. initialize(value, ...)",
            "14. initialize(value, ...)",
            "15. result_create(conn@ptr, statement)"
          ]
        }
      ],
      "source": [
        "# select non-null dep time: \n",
        "# q('SELECT * FROM flights WHERE dep_delay iS NOT NULL')%>% print\n",
        "# same as filter(flights,!is.na(dep_delay))"
      ]
    },
    {
      "cell_type": "markdown",
      "metadata": {
        "id": "XECyCJKH05HF"
      },
      "source": [
        "### Summarizing\n",
        "\n",
        "The SQL syntax for summarizing is using the `GROUP BY` clause:\n",
        "```{sql}\n",
        "SELECT AVG(<col>) AS avg_col FROM <table> GROUP BY(<group cols>)\n",
        "```\n",
        "This is the same as:\n",
        "```{r}\n",
        "<table> %>% group_by(<group cols>) %>% summarize(avg_col = mean(<col>))\n",
        "```"
      ]
    },
    {
      "cell_type": "code",
      "execution_count": null,
      "metadata": {
        "id": "gMVv6nzU05HF"
      },
      "outputs": [],
      "source": [
        "# select average distance and count for each flight\n",
        "q(\"SELECT year,month,day,AVG(distance) AS avg_dist,\n",
        "COUNT() AS n FROM flights GROUP BY year,month,day\")\n",
        "# same as flights%>%group_by(year,month,day)%>%summarize(avg_dist=mean(distance),n=n())"
      ]
    },
    {
      "cell_type": "markdown",
      "metadata": {
        "id": "KlIVO0Lo05HF"
      },
      "source": [
        "You can find a list of the aggregation functions that SQLite supports [here](https://www.sqlite.org/lang_aggfunc.html). This is a somewhat limited set compared to richer SQL engines like MySQL."
      ]
    },
    {
      "cell_type": "markdown",
      "metadata": {
        "id": "0jXjCMLK05HG"
      },
      "source": [
        "### Joins\n",
        "\n",
        "The SQL syntax for joins:\n",
        "```{sql}\n",
        "SELECT * FROM <table> LEFT JOIN <other_table> ON <left_key_col> = <right_key_col>\n",
        "```\n",
        "This is the same as:\n",
        "```{r}\n",
        "left_join(<table>, <other_table>, by = c(\"<left_key_col>\" = \"<right_key_col>\"))\n",
        "```"
      ]
    },
    {
      "cell_type": "code",
      "execution_count": null,
      "metadata": {
        "id": "7epd-u0905HG",
        "colab": {
          "base_uri": "https://localhost:8080/",
          "height": 347
        },
        "outputId": "11aeb9fb-f8c4-4014-bdc4-93be75ac6858"
      },
      "outputs": [
        {
          "output_type": "error",
          "ename": "ERROR",
          "evalue": "ignored",
          "traceback": [
            "Error: no such table: flights\nTraceback:\n",
            "1. dbGetQuery(con, \"SELECT flights.year,planes.tailnum AS flightyr, * FROM flights\\nLEFT JOIN planes ON flights.tailnum=planes.tailnum\")",
            "2. dbGetQuery(con, \"SELECT flights.year,planes.tailnum AS flightyr, * FROM flights\\nLEFT JOIN planes ON flights.tailnum=planes.tailnum\")",
            "3. .local(conn, statement, ...)",
            "4. dbSendQuery(conn, statement, ...)",
            "5. dbSendQuery(conn, statement, ...)",
            "6. .local(conn, statement, ...)",
            "7. new(\"SQLiteResult\", sql = statement, ptr = result_create(conn@ptr, \n .     statement), conn = conn, bigint = conn@bigint)",
            "8. initialize(value, ...)",
            "9. initialize(value, ...)",
            "10. result_create(conn@ptr, statement)"
          ]
        }
      ],
      "source": [
        "# join planes by tailnum to flights \n",
        "\n",
        "dbGetQuery(con,\n",
        "\"SELECT flights.year,planes.tailnum AS flightyr, * FROM flights\n",
        "LEFT JOIN planes ON flights.tailnum=planes.tailnum\"\n",
        ")\n",
        "\n",
        "flights%>%\n",
        "  left_join(planes,by=\"tailnum\")%>%\n",
        "  print"
      ]
    },
    {
      "cell_type": "markdown",
      "metadata": {
        "id": "KZiFqOnH05HG"
      },
      "source": [
        "Note here that SQL requires us to be explicit about which columns we are `SELECT`ing when joining multiple tables. Each column name must be prefixed with the name of the table in which it resides."
      ]
    },
    {
      "cell_type": "markdown",
      "metadata": {
        "id": "2ulZqbRX05HG"
      },
      "source": [
        "### Ranking\n",
        "\n",
        "Ranking operates slightly differently in SQL than dplyr. The overall syntax is:\n",
        "\n",
        "\n",
        "    SELECT RANK() OVER (\n",
        "\t    PARTITION BY <columns>\n",
        "\t    ORDER BY <expression1> [ASC|DESC], ...\n",
        "    ) RankedCol FROM <table>\n",
        "    \n",
        "    \n",
        "The easiest way to learn it is to see some examples."
      ]
    },
    {
      "cell_type": "code",
      "execution_count": null,
      "metadata": {
        "id": "pwcsm9c905HG"
      },
      "outputs": [],
      "source": [
        "# rank based on departure delay\n",
        "q('SELECT year,month,day,dep_delay,RANK () OVER (\n",
        "  PARTITION BY month,day\n",
        "  ORDER BY dep_delay DESC\n",
        "  ) r FROM flights \n",
        "  WHERE r<=2')\n",
        "\n",
        "flights%>%\n",
        "  group_by(month,day)%>%\n",
        "  mutate(r=min_rank(-dep_delay))%>%\n",
        "  selecT(month,day,dep_delay,r)%>%\n",
        "  filter(r<=2)"
      ]
    },
    {
      "cell_type": "code",
      "source": [
        "# solve: \n",
        "# find the max highway miles across each manufacturer: "
      ],
      "metadata": {
        "colab": {
          "base_uri": "https://localhost:8080/",
          "height": 286
        },
        "id": "AnadGak2ES5n",
        "outputId": "dffafc6f-e7b8-4f88-9e99-c7d84b29f44c"
      },
      "execution_count": null,
      "outputs": [
        {
          "output_type": "display_data",
          "data": {
            "text/html": [
              "<table class=\"dataframe\">\n",
              "<caption>A tibble: 6 × 11</caption>\n",
              "<thead>\n",
              "\t<tr><th scope=col>manufacturer</th><th scope=col>model</th><th scope=col>displ</th><th scope=col>year</th><th scope=col>cyl</th><th scope=col>trans</th><th scope=col>drv</th><th scope=col>cty</th><th scope=col>hwy</th><th scope=col>fl</th><th scope=col>class</th></tr>\n",
              "\t<tr><th scope=col>&lt;chr&gt;</th><th scope=col>&lt;chr&gt;</th><th scope=col>&lt;dbl&gt;</th><th scope=col>&lt;int&gt;</th><th scope=col>&lt;int&gt;</th><th scope=col>&lt;chr&gt;</th><th scope=col>&lt;chr&gt;</th><th scope=col>&lt;int&gt;</th><th scope=col>&lt;int&gt;</th><th scope=col>&lt;chr&gt;</th><th scope=col>&lt;chr&gt;</th></tr>\n",
              "</thead>\n",
              "<tbody>\n",
              "\t<tr><td>audi</td><td>a4</td><td>1.8</td><td>1999</td><td>4</td><td>auto(l5)  </td><td>f</td><td>18</td><td>29</td><td>p</td><td>compact</td></tr>\n",
              "\t<tr><td>audi</td><td>a4</td><td>1.8</td><td>1999</td><td>4</td><td>manual(m5)</td><td>f</td><td>21</td><td>29</td><td>p</td><td>compact</td></tr>\n",
              "\t<tr><td>audi</td><td>a4</td><td>2.0</td><td>2008</td><td>4</td><td>manual(m6)</td><td>f</td><td>20</td><td>31</td><td>p</td><td>compact</td></tr>\n",
              "\t<tr><td>audi</td><td>a4</td><td>2.0</td><td>2008</td><td>4</td><td>auto(av)  </td><td>f</td><td>21</td><td>30</td><td>p</td><td>compact</td></tr>\n",
              "\t<tr><td>audi</td><td>a4</td><td>2.8</td><td>1999</td><td>6</td><td>auto(l5)  </td><td>f</td><td>16</td><td>26</td><td>p</td><td>compact</td></tr>\n",
              "\t<tr><td>audi</td><td>a4</td><td>2.8</td><td>1999</td><td>6</td><td>manual(m5)</td><td>f</td><td>18</td><td>26</td><td>p</td><td>compact</td></tr>\n",
              "</tbody>\n",
              "</table>\n"
            ],
            "text/markdown": "\nA tibble: 6 × 11\n\n| manufacturer &lt;chr&gt; | model &lt;chr&gt; | displ &lt;dbl&gt; | year &lt;int&gt; | cyl &lt;int&gt; | trans &lt;chr&gt; | drv &lt;chr&gt; | cty &lt;int&gt; | hwy &lt;int&gt; | fl &lt;chr&gt; | class &lt;chr&gt; |\n|---|---|---|---|---|---|---|---|---|---|---|\n| audi | a4 | 1.8 | 1999 | 4 | auto(l5)   | f | 18 | 29 | p | compact |\n| audi | a4 | 1.8 | 1999 | 4 | manual(m5) | f | 21 | 29 | p | compact |\n| audi | a4 | 2.0 | 2008 | 4 | manual(m6) | f | 20 | 31 | p | compact |\n| audi | a4 | 2.0 | 2008 | 4 | auto(av)   | f | 21 | 30 | p | compact |\n| audi | a4 | 2.8 | 1999 | 6 | auto(l5)   | f | 16 | 26 | p | compact |\n| audi | a4 | 2.8 | 1999 | 6 | manual(m5) | f | 18 | 26 | p | compact |\n\n",
            "text/latex": "A tibble: 6 × 11\n\\begin{tabular}{lllllllllll}\n manufacturer & model & displ & year & cyl & trans & drv & cty & hwy & fl & class\\\\\n <chr> & <chr> & <dbl> & <int> & <int> & <chr> & <chr> & <int> & <int> & <chr> & <chr>\\\\\n\\hline\n\t audi & a4 & 1.8 & 1999 & 4 & auto(l5)   & f & 18 & 29 & p & compact\\\\\n\t audi & a4 & 1.8 & 1999 & 4 & manual(m5) & f & 21 & 29 & p & compact\\\\\n\t audi & a4 & 2.0 & 2008 & 4 & manual(m6) & f & 20 & 31 & p & compact\\\\\n\t audi & a4 & 2.0 & 2008 & 4 & auto(av)   & f & 21 & 30 & p & compact\\\\\n\t audi & a4 & 2.8 & 1999 & 6 & auto(l5)   & f & 16 & 26 & p & compact\\\\\n\t audi & a4 & 2.8 & 1999 & 6 & manual(m5) & f & 18 & 26 & p & compact\\\\\n\\end{tabular}\n",
            "text/plain": [
              "  manufacturer model displ year cyl trans      drv cty hwy fl class  \n",
              "1 audi         a4    1.8   1999 4   auto(l5)   f   18  29  p  compact\n",
              "2 audi         a4    1.8   1999 4   manual(m5) f   21  29  p  compact\n",
              "3 audi         a4    2.0   2008 4   manual(m6) f   20  31  p  compact\n",
              "4 audi         a4    2.0   2008 4   auto(av)   f   21  30  p  compact\n",
              "5 audi         a4    2.8   1999 6   auto(l5)   f   16  26  p  compact\n",
              "6 audi         a4    2.8   1999 6   manual(m5) f   18  26  p  compact"
            ]
          },
          "metadata": {}
        }
      ]
    },
    {
      "cell_type": "code",
      "source": [
        "mpg%>%head()"
      ],
      "metadata": {
        "colab": {
          "base_uri": "https://localhost:8080/",
          "height": 286
        },
        "id": "DDKxJ6ldEXHD",
        "outputId": "3fa2dbe4-de5a-419c-d9d5-3c35eb12d191"
      },
      "execution_count": null,
      "outputs": [
        {
          "output_type": "display_data",
          "data": {
            "text/html": [
              "<table class=\"dataframe\">\n",
              "<caption>A tibble: 6 × 11</caption>\n",
              "<thead>\n",
              "\t<tr><th scope=col>manufacturer</th><th scope=col>model</th><th scope=col>displ</th><th scope=col>year</th><th scope=col>cyl</th><th scope=col>trans</th><th scope=col>drv</th><th scope=col>cty</th><th scope=col>hwy</th><th scope=col>fl</th><th scope=col>class</th></tr>\n",
              "\t<tr><th scope=col>&lt;chr&gt;</th><th scope=col>&lt;chr&gt;</th><th scope=col>&lt;dbl&gt;</th><th scope=col>&lt;int&gt;</th><th scope=col>&lt;int&gt;</th><th scope=col>&lt;chr&gt;</th><th scope=col>&lt;chr&gt;</th><th scope=col>&lt;int&gt;</th><th scope=col>&lt;int&gt;</th><th scope=col>&lt;chr&gt;</th><th scope=col>&lt;chr&gt;</th></tr>\n",
              "</thead>\n",
              "<tbody>\n",
              "\t<tr><td>audi</td><td>a4</td><td>1.8</td><td>1999</td><td>4</td><td>auto(l5)  </td><td>f</td><td>18</td><td>29</td><td>p</td><td>compact</td></tr>\n",
              "\t<tr><td>audi</td><td>a4</td><td>1.8</td><td>1999</td><td>4</td><td>manual(m5)</td><td>f</td><td>21</td><td>29</td><td>p</td><td>compact</td></tr>\n",
              "\t<tr><td>audi</td><td>a4</td><td>2.0</td><td>2008</td><td>4</td><td>manual(m6)</td><td>f</td><td>20</td><td>31</td><td>p</td><td>compact</td></tr>\n",
              "\t<tr><td>audi</td><td>a4</td><td>2.0</td><td>2008</td><td>4</td><td>auto(av)  </td><td>f</td><td>21</td><td>30</td><td>p</td><td>compact</td></tr>\n",
              "\t<tr><td>audi</td><td>a4</td><td>2.8</td><td>1999</td><td>6</td><td>auto(l5)  </td><td>f</td><td>16</td><td>26</td><td>p</td><td>compact</td></tr>\n",
              "\t<tr><td>audi</td><td>a4</td><td>2.8</td><td>1999</td><td>6</td><td>manual(m5)</td><td>f</td><td>18</td><td>26</td><td>p</td><td>compact</td></tr>\n",
              "</tbody>\n",
              "</table>\n"
            ],
            "text/markdown": "\nA tibble: 6 × 11\n\n| manufacturer &lt;chr&gt; | model &lt;chr&gt; | displ &lt;dbl&gt; | year &lt;int&gt; | cyl &lt;int&gt; | trans &lt;chr&gt; | drv &lt;chr&gt; | cty &lt;int&gt; | hwy &lt;int&gt; | fl &lt;chr&gt; | class &lt;chr&gt; |\n|---|---|---|---|---|---|---|---|---|---|---|\n| audi | a4 | 1.8 | 1999 | 4 | auto(l5)   | f | 18 | 29 | p | compact |\n| audi | a4 | 1.8 | 1999 | 4 | manual(m5) | f | 21 | 29 | p | compact |\n| audi | a4 | 2.0 | 2008 | 4 | manual(m6) | f | 20 | 31 | p | compact |\n| audi | a4 | 2.0 | 2008 | 4 | auto(av)   | f | 21 | 30 | p | compact |\n| audi | a4 | 2.8 | 1999 | 6 | auto(l5)   | f | 16 | 26 | p | compact |\n| audi | a4 | 2.8 | 1999 | 6 | manual(m5) | f | 18 | 26 | p | compact |\n\n",
            "text/latex": "A tibble: 6 × 11\n\\begin{tabular}{lllllllllll}\n manufacturer & model & displ & year & cyl & trans & drv & cty & hwy & fl & class\\\\\n <chr> & <chr> & <dbl> & <int> & <int> & <chr> & <chr> & <int> & <int> & <chr> & <chr>\\\\\n\\hline\n\t audi & a4 & 1.8 & 1999 & 4 & auto(l5)   & f & 18 & 29 & p & compact\\\\\n\t audi & a4 & 1.8 & 1999 & 4 & manual(m5) & f & 21 & 29 & p & compact\\\\\n\t audi & a4 & 2.0 & 2008 & 4 & manual(m6) & f & 20 & 31 & p & compact\\\\\n\t audi & a4 & 2.0 & 2008 & 4 & auto(av)   & f & 21 & 30 & p & compact\\\\\n\t audi & a4 & 2.8 & 1999 & 6 & auto(l5)   & f & 16 & 26 & p & compact\\\\\n\t audi & a4 & 2.8 & 1999 & 6 & manual(m5) & f & 18 & 26 & p & compact\\\\\n\\end{tabular}\n",
            "text/plain": [
              "  manufacturer model displ year cyl trans      drv cty hwy fl class  \n",
              "1 audi         a4    1.8   1999 4   auto(l5)   f   18  29  p  compact\n",
              "2 audi         a4    1.8   1999 4   manual(m5) f   21  29  p  compact\n",
              "3 audi         a4    2.0   2008 4   manual(m6) f   20  31  p  compact\n",
              "4 audi         a4    2.0   2008 4   auto(av)   f   21  30  p  compact\n",
              "5 audi         a4    2.8   1999 6   auto(l5)   f   16  26  p  compact\n",
              "6 audi         a4    2.8   1999 6   manual(m5) f   18  26  p  compact"
            ]
          },
          "metadata": {}
        }
      ]
    },
    {
      "cell_type": "code",
      "source": [
        "res<-dbSendQuery(con,\"select manufacturer,max(hwy) from mpg group by manufacturer\")\n",
        "dbFetch(res)"
      ],
      "metadata": {
        "colab": {
          "base_uri": "https://localhost:8080/",
          "height": 568
        },
        "id": "gTrXa-CFEX30",
        "outputId": "21080a3c-6090-47e1-dde7-f8d4b4f8e0e4"
      },
      "execution_count": null,
      "outputs": [
        {
          "output_type": "display_data",
          "data": {
            "text/html": [
              "<table class=\"dataframe\">\n",
              "<caption>A data.frame: 15 × 2</caption>\n",
              "<thead>\n",
              "\t<tr><th scope=col>manufacturer</th><th scope=col>max(hwy)</th></tr>\n",
              "\t<tr><th scope=col>&lt;chr&gt;</th><th scope=col>&lt;int&gt;</th></tr>\n",
              "</thead>\n",
              "<tbody>\n",
              "\t<tr><td>audi      </td><td>31</td></tr>\n",
              "\t<tr><td>chevrolet </td><td>30</td></tr>\n",
              "\t<tr><td>dodge     </td><td>24</td></tr>\n",
              "\t<tr><td>ford      </td><td>26</td></tr>\n",
              "\t<tr><td>honda     </td><td>36</td></tr>\n",
              "\t<tr><td>hyundai   </td><td>31</td></tr>\n",
              "\t<tr><td>jeep      </td><td>22</td></tr>\n",
              "\t<tr><td>land rover</td><td>18</td></tr>\n",
              "\t<tr><td>lincoln   </td><td>18</td></tr>\n",
              "\t<tr><td>mercury   </td><td>19</td></tr>\n",
              "\t<tr><td>nissan    </td><td>32</td></tr>\n",
              "\t<tr><td>pontiac   </td><td>28</td></tr>\n",
              "\t<tr><td>subaru    </td><td>27</td></tr>\n",
              "\t<tr><td>toyota    </td><td>37</td></tr>\n",
              "\t<tr><td>volkswagen</td><td>44</td></tr>\n",
              "</tbody>\n",
              "</table>\n"
            ],
            "text/markdown": "\nA data.frame: 15 × 2\n\n| manufacturer &lt;chr&gt; | max(hwy) &lt;int&gt; |\n|---|---|\n| audi       | 31 |\n| chevrolet  | 30 |\n| dodge      | 24 |\n| ford       | 26 |\n| honda      | 36 |\n| hyundai    | 31 |\n| jeep       | 22 |\n| land rover | 18 |\n| lincoln    | 18 |\n| mercury    | 19 |\n| nissan     | 32 |\n| pontiac    | 28 |\n| subaru     | 27 |\n| toyota     | 37 |\n| volkswagen | 44 |\n\n",
            "text/latex": "A data.frame: 15 × 2\n\\begin{tabular}{ll}\n manufacturer & max(hwy)\\\\\n <chr> & <int>\\\\\n\\hline\n\t audi       & 31\\\\\n\t chevrolet  & 30\\\\\n\t dodge      & 24\\\\\n\t ford       & 26\\\\\n\t honda      & 36\\\\\n\t hyundai    & 31\\\\\n\t jeep       & 22\\\\\n\t land rover & 18\\\\\n\t lincoln    & 18\\\\\n\t mercury    & 19\\\\\n\t nissan     & 32\\\\\n\t pontiac    & 28\\\\\n\t subaru     & 27\\\\\n\t toyota     & 37\\\\\n\t volkswagen & 44\\\\\n\\end{tabular}\n",
            "text/plain": [
              "   manufacturer max(hwy)\n",
              "1  audi         31      \n",
              "2  chevrolet    30      \n",
              "3  dodge        24      \n",
              "4  ford         26      \n",
              "5  honda        36      \n",
              "6  hyundai      31      \n",
              "7  jeep         22      \n",
              "8  land rover   18      \n",
              "9  lincoln      18      \n",
              "10 mercury      19      \n",
              "11 nissan       32      \n",
              "12 pontiac      28      \n",
              "13 subaru       27      \n",
              "14 toyota       37      \n",
              "15 volkswagen   44      "
            ]
          },
          "metadata": {}
        }
      ]
    },
    {
      "cell_type": "code",
      "source": [
        "# what about the min? \n",
        "res<-dbSendQuery(con,\"select manufacturer,min(hwy) from mpg group by manufacturer\")\n",
        "dbFetch(res)"
      ],
      "metadata": {
        "colab": {
          "base_uri": "https://localhost:8080/",
          "height": 604
        },
        "id": "qDE2qCncEu9f",
        "outputId": "787f778d-63cb-47fd-ce70-2e9384918883"
      },
      "execution_count": null,
      "outputs": [
        {
          "output_type": "stream",
          "name": "stderr",
          "text": [
            "Warning message:\n",
            "“Closing open result set, pending rows”\n"
          ]
        },
        {
          "output_type": "display_data",
          "data": {
            "text/html": [
              "<table class=\"dataframe\">\n",
              "<caption>A data.frame: 15 × 2</caption>\n",
              "<thead>\n",
              "\t<tr><th scope=col>manufacturer</th><th scope=col>min(hwy)</th></tr>\n",
              "\t<tr><th scope=col>&lt;chr&gt;</th><th scope=col>&lt;int&gt;</th></tr>\n",
              "</thead>\n",
              "<tbody>\n",
              "\t<tr><td>audi      </td><td>23</td></tr>\n",
              "\t<tr><td>chevrolet </td><td>14</td></tr>\n",
              "\t<tr><td>dodge     </td><td>12</td></tr>\n",
              "\t<tr><td>ford      </td><td>15</td></tr>\n",
              "\t<tr><td>honda     </td><td>29</td></tr>\n",
              "\t<tr><td>hyundai   </td><td>24</td></tr>\n",
              "\t<tr><td>jeep      </td><td>12</td></tr>\n",
              "\t<tr><td>land rover</td><td>15</td></tr>\n",
              "\t<tr><td>lincoln   </td><td>16</td></tr>\n",
              "\t<tr><td>mercury   </td><td>17</td></tr>\n",
              "\t<tr><td>nissan    </td><td>17</td></tr>\n",
              "\t<tr><td>pontiac   </td><td>25</td></tr>\n",
              "\t<tr><td>subaru    </td><td>23</td></tr>\n",
              "\t<tr><td>toyota    </td><td>15</td></tr>\n",
              "\t<tr><td>volkswagen</td><td>23</td></tr>\n",
              "</tbody>\n",
              "</table>\n"
            ],
            "text/markdown": "\nA data.frame: 15 × 2\n\n| manufacturer &lt;chr&gt; | min(hwy) &lt;int&gt; |\n|---|---|\n| audi       | 23 |\n| chevrolet  | 14 |\n| dodge      | 12 |\n| ford       | 15 |\n| honda      | 29 |\n| hyundai    | 24 |\n| jeep       | 12 |\n| land rover | 15 |\n| lincoln    | 16 |\n| mercury    | 17 |\n| nissan     | 17 |\n| pontiac    | 25 |\n| subaru     | 23 |\n| toyota     | 15 |\n| volkswagen | 23 |\n\n",
            "text/latex": "A data.frame: 15 × 2\n\\begin{tabular}{ll}\n manufacturer & min(hwy)\\\\\n <chr> & <int>\\\\\n\\hline\n\t audi       & 23\\\\\n\t chevrolet  & 14\\\\\n\t dodge      & 12\\\\\n\t ford       & 15\\\\\n\t honda      & 29\\\\\n\t hyundai    & 24\\\\\n\t jeep       & 12\\\\\n\t land rover & 15\\\\\n\t lincoln    & 16\\\\\n\t mercury    & 17\\\\\n\t nissan     & 17\\\\\n\t pontiac    & 25\\\\\n\t subaru     & 23\\\\\n\t toyota     & 15\\\\\n\t volkswagen & 23\\\\\n\\end{tabular}\n",
            "text/plain": [
              "   manufacturer min(hwy)\n",
              "1  audi         23      \n",
              "2  chevrolet    14      \n",
              "3  dodge        12      \n",
              "4  ford         15      \n",
              "5  honda        29      \n",
              "6  hyundai      24      \n",
              "7  jeep         12      \n",
              "8  land rover   15      \n",
              "9  lincoln      16      \n",
              "10 mercury      17      \n",
              "11 nissan       17      \n",
              "12 pontiac      25      \n",
              "13 subaru       23      \n",
              "14 toyota       15      \n",
              "15 volkswagen   23      "
            ]
          },
          "metadata": {}
        }
      ]
    },
    {
      "cell_type": "code",
      "source": [
        "# quiz: \n",
        "# how many 4 cylinder models are present in this database?\n",
        "res<-dbSendQuery(con,\"select count() from mpg where cyl=4\")\n",
        "dbFetch(res)"
      ],
      "metadata": {
        "colab": {
          "base_uri": "https://localhost:8080/",
          "height": 200
        },
        "id": "iOJ8b_2dE6Hr",
        "outputId": "ea9fbfb3-41cd-4696-d5ad-7a5dcd5a5a8c"
      },
      "execution_count": null,
      "outputs": [
        {
          "output_type": "stream",
          "name": "stderr",
          "text": [
            "Warning message:\n",
            "“Closing open result set, pending rows”\n"
          ]
        },
        {
          "output_type": "display_data",
          "data": {
            "text/html": [
              "<table class=\"dataframe\">\n",
              "<caption>A data.frame: 1 × 1</caption>\n",
              "<thead>\n",
              "\t<tr><th scope=col>count()</th></tr>\n",
              "\t<tr><th scope=col>&lt;int&gt;</th></tr>\n",
              "</thead>\n",
              "<tbody>\n",
              "\t<tr><td>81</td></tr>\n",
              "</tbody>\n",
              "</table>\n"
            ],
            "text/markdown": "\nA data.frame: 1 × 1\n\n| count() &lt;int&gt; |\n|---|\n| 81 |\n\n",
            "text/latex": "A data.frame: 1 × 1\n\\begin{tabular}{l}\n count()\\\\\n <int>\\\\\n\\hline\n\t 81\\\\\n\\end{tabular}\n",
            "text/plain": [
              "  count()\n",
              "1 81     "
            ]
          },
          "metadata": {}
        }
      ]
    },
    {
      "cell_type": "code",
      "source": [
        "# solve\n",
        "# get all the manufacturers who have 4 or more compact car class\n",
        "res<-dbSendQuery(con,\"select manufacturer, \n",
        "count() from mpg \n",
        "where class='compact' \n",
        "group by manufacturer \n",
        "having count() >=4\")\n",
        "dbFetch(res)"
      ],
      "metadata": {
        "colab": {
          "base_uri": "https://localhost:8080/",
          "height": 259
        },
        "id": "52AMU30nFe2A",
        "outputId": "f086c6f1-9318-4b1c-b212-b314db489874"
      },
      "execution_count": null,
      "outputs": [
        {
          "output_type": "stream",
          "name": "stderr",
          "text": [
            "Warning message:\n",
            "“Closing open result set, pending rows”\n"
          ]
        },
        {
          "output_type": "display_data",
          "data": {
            "text/html": [
              "<table class=\"dataframe\">\n",
              "<caption>A data.frame: 4 × 2</caption>\n",
              "<thead>\n",
              "\t<tr><th scope=col>manufacturer</th><th scope=col>count()</th></tr>\n",
              "\t<tr><th scope=col>&lt;chr&gt;</th><th scope=col>&lt;int&gt;</th></tr>\n",
              "</thead>\n",
              "<tbody>\n",
              "\t<tr><td>audi      </td><td>15</td></tr>\n",
              "\t<tr><td>subaru    </td><td> 4</td></tr>\n",
              "\t<tr><td>toyota    </td><td>12</td></tr>\n",
              "\t<tr><td>volkswagen</td><td>14</td></tr>\n",
              "</tbody>\n",
              "</table>\n"
            ],
            "text/markdown": "\nA data.frame: 4 × 2\n\n| manufacturer &lt;chr&gt; | count() &lt;int&gt; |\n|---|---|\n| audi       | 15 |\n| subaru     |  4 |\n| toyota     | 12 |\n| volkswagen | 14 |\n\n",
            "text/latex": "A data.frame: 4 × 2\n\\begin{tabular}{ll}\n manufacturer & count()\\\\\n <chr> & <int>\\\\\n\\hline\n\t audi       & 15\\\\\n\t subaru     &  4\\\\\n\t toyota     & 12\\\\\n\t volkswagen & 14\\\\\n\\end{tabular}\n",
            "text/plain": [
              "  manufacturer count()\n",
              "1 audi         15     \n",
              "2 subaru        4     \n",
              "3 toyota       12     \n",
              "4 volkswagen   14     "
            ]
          },
          "metadata": {}
        }
      ]
    },
    {
      "cell_type": "code",
      "source": [
        "# solve:\n",
        "# distinct car manufacturer "
      ],
      "metadata": {
        "id": "cb1ePDqWF_Z9"
      },
      "execution_count": null,
      "outputs": []
    },
    {
      "cell_type": "code",
      "source": [
        "# once done, it's a good idea to disconnect from the database\n",
        "dbClearResult(res)"
      ],
      "metadata": {
        "id": "JwHjEuf6GFZ2"
      },
      "execution_count": null,
      "outputs": []
    },
    {
      "cell_type": "markdown",
      "metadata": {
        "id": "_gEahbh-05HG"
      },
      "source": [
        "## Subqueries\n",
        "\n",
        "An aspect of SQL I find confusing is that you can filter (`WHERE ...`) based on a ranking condition:"
      ]
    },
    {
      "cell_type": "code",
      "execution_count": null,
      "metadata": {
        "id": "ng4wYM1Z05HG"
      },
      "outputs": [],
      "source": [
        "# filtering a rank, won't work"
      ]
    },
    {
      "cell_type": "markdown",
      "metadata": {
        "id": "7jSRag5505HG"
      },
      "source": [
        "Instead, you can write a *subquery*, basically stitching two SQL calls together:\n",
        "\n",
        "    WITH (<a SQL query>) AS table\n",
        "    SELECT <stuff> FROM table WHERE <conditions>\n",
        "    "
      ]
    },
    {
      "cell_type": "code",
      "execution_count": null,
      "metadata": {
        "id": "AZZuOGdL05HH"
      },
      "outputs": [],
      "source": [
        "# filtering with rank"
      ]
    },
    {
      "cell_type": "markdown",
      "metadata": {
        "id": "k0uJQWpK05HH"
      },
      "source": [
        "## Advanced joins in SQL\n",
        "SQL is more general in specifying the join condition. Whereas in tidyverse it must be a key, in\n",
        "SQL it can be a general logical condition."
      ]
    },
    {
      "cell_type": "markdown",
      "metadata": {
        "id": "6-g80moC05HH"
      },
      "source": [
        "## Example\n",
        "What is the closest airport to `DTW`?"
      ]
    },
    {
      "cell_type": "code",
      "execution_count": null,
      "metadata": {
        "id": "GCvKcMwi05HH"
      },
      "outputs": [],
      "source": [
        "# find the nearest neighbor to each airport"
      ]
    },
    {
      "cell_type": "markdown",
      "metadata": {
        "id": "U3bTE1CU05HH"
      },
      "source": [
        "Let's use this to build a map of every airport's nearest neighbor:"
      ]
    },
    {
      "cell_type": "code",
      "execution_count": null,
      "metadata": {
        "id": "WTf3kGiL05HH"
      },
      "outputs": [],
      "source": [
        "# compute air_nn, every airport's nearest neighbor\n",
        "\n"
      ]
    },
    {
      "cell_type": "code",
      "execution_count": null,
      "metadata": {
        "scrolled": true,
        "id": "auh4QuC-05HJ",
        "outputId": "10161997-d3b6-4873-cb8d-81d82b80bac9"
      },
      "outputs": [
        {
          "ename": "ERROR",
          "evalue": "Error in filter(., lat < 50, lat > 23): object 'air_nn' not found\n",
          "output_type": "error",
          "traceback": [
            "Error in filter(., lat < 50, lat > 23): object 'air_nn' not found\nTraceback:\n",
            "1. air_nn %>% filter(lat < 50, lat > 23) %>% ggplot",
            "2. ggplot(.)",
            "3. filter(., lat < 50, lat > 23)"
          ]
        }
      ],
      "source": [
        "air_nn  %>% filter(lat < 50, lat > 23) %>%\n",
        "    ggplot + \n",
        "    geom_segment(aes(x = lon, y = lat, xend = lon2, yend = lat2), color=\"blue\") +\n",
        "    geom_point(aes(x = lon, y = lat)) + \n",
        "    coord_quickmap()"
      ]
    },
    {
      "cell_type": "markdown",
      "metadata": {
        "id": "RLioPSox05HJ"
      },
      "source": [
        "## Exercise\n",
        "In 1985 a hurricane made landfall on Long Island, NY between JFK Airport and Islip.\n",
        "What was the name of that hurricane?"
      ]
    },
    {
      "cell_type": "code",
      "execution_count": null,
      "metadata": {
        "id": "p_iXl1RS05HJ",
        "outputId": "d9fd8f75-66d3-406e-f8c9-38d2be064725"
      },
      "outputs": [
        {
          "data": {
            "text/plain": [
              "[1] -73.77893"
            ]
          },
          "metadata": {},
          "output_type": "display_data"
        },
        {
          "data": {
            "text/plain": [
              "[1] 40.63975"
            ]
          },
          "metadata": {},
          "output_type": "display_data"
        },
        {
          "data": {
            "text/plain": [
              "  dist      name   year month day hour lat  long  status              category\n",
              "1 0.2817433 Floyd  1999 9     17   0   40.6 -73.5 tropical storm      0       \n",
              "2 0.4805718 Gloria 1985 9     27  16   40.6 -73.3 hurricane           1       \n",
              "3 0.5881268 Chris  1988 8     30   0   41.2 -73.6 tropical depression -1      \n",
              "  wind pressure ts_diameter hu_diameter\n",
              "1 50    980     NA          NA         \n",
              "2 75    961     NA          NA         \n",
              "3 20   1008     NA          NA         "
            ]
          },
          "metadata": {},
          "output_type": "display_data"
        }
      ],
      "source": [
        "jfk <- airports %>% filter(faa == \"JFK\")\n",
        "jfk$lon\n",
        "jfk$lat\n",
        "storms %>% mutate(dist = sqrt((lat -+ jfk$lat)^2 + (long - jfk$lon)^2)) %>% select(dist, everything()) %>%\n",
        "    arrange(dist) %>% slice(1:3)"
      ]
    }
  ],
  "metadata": {
    "celltoolbar": "Slideshow",
    "kernelspec": {
      "display_name": "R",
      "language": "R",
      "name": "ir"
    },
    "language_info": {
      "codemirror_mode": "r",
      "file_extension": ".r",
      "mimetype": "text/x-r-source",
      "name": "R",
      "pygments_lexer": "r",
      "version": "4.2.1"
    },
    "colab": {
      "provenance": [],
      "include_colab_link": true
    }
  },
  "nbformat": 4,
  "nbformat_minor": 0
}
