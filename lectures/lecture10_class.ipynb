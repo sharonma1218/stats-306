{
  "cells": [
    {
      "cell_type": "markdown",
      "metadata": {
        "id": "view-in-github",
        "colab_type": "text"
      },
      "source": [
        "<a href=\"https://colab.research.google.com/github/sharonma1218/stats-306/blob/main/lectures/lecture10_class.ipynb\" target=\"_parent\"><img src=\"https://colab.research.google.com/assets/colab-badge.svg\" alt=\"Open In Colab\"/></a>"
      ]
    },
    {
      "cell_type": "code",
      "source": [
        "install.packages('nycflights13')"
      ],
      "metadata": {
        "colab": {
          "base_uri": "https://localhost:8080/"
        },
        "id": "oFKJQl4Slm8d",
        "outputId": "85f57938-c11f-4c59-e84f-220f5d883b33"
      },
      "execution_count": 8,
      "outputs": [
        {
          "output_type": "stream",
          "name": "stderr",
          "text": [
            "Installing package into ‘/usr/local/lib/R/site-library’\n",
            "(as ‘lib’ is unspecified)\n",
            "\n"
          ]
        }
      ]
    },
    {
      "cell_type": "code",
      "execution_count": 9,
      "metadata": {
        "scrolled": true,
        "id": "oa2fHQA6laQu"
      },
      "outputs": [],
      "source": [
        "library(tidyverse)\n",
        "library(nycflights13)\n",
        "options(repr.plot.width=8, repr.plot.height=5)"
      ]
    },
    {
      "cell_type": "markdown",
      "metadata": {
        "id": "KhabcDM7laQ0"
      },
      "source": [
        "# Lecture 10: Importing data\n",
        "\n",
        "<div style=\"border: 1px double black; padding: 10px; margin: 10px\">\n",
        "\n",
        "**After today's lecture you will:**\n",
        "* Understand how to import data from CSV files and Excel spreadsheets.\n",
        "</div>\n",
        "\n",
        "These notes correspond to Chapters 8 and 22 of your book.\n"
      ]
    },
    {
      "cell_type": "code",
      "source": [
        "# JSON file type (JavaScript) is the industry-wide file types\n",
        "# Prob w/ CSV file is that it's prone to \"fat fingers\" (typos)\n",
        "# XML used to be the industry-wide standard, but again, prone to mistakes due to its abundance of tags "
      ],
      "metadata": {
        "id": "IquyNnZSoMij"
      },
      "execution_count": null,
      "outputs": []
    },
    {
      "cell_type": "markdown",
      "metadata": {
        "id": "NRKzIKtdlaQ2"
      },
      "source": [
        "## Types of data\n",
        "You will encounter data in many different formats. Here are a few of the most common ones:"
      ]
    },
    {
      "cell_type": "markdown",
      "metadata": {
        "id": "ROkmyZ-GlaQ2"
      },
      "source": [
        "### Comma-separated value data\n",
        "Comma-separated value (CSV) is one of the most common formats for sharing data. It has the advantage of being human-readable. The disadvantage is that there is no actual standard for reading or writing these files!"
      ]
    },
    {
      "cell_type": "markdown",
      "metadata": {
        "id": "xlappDKJlaQ3"
      },
      "source": [
        "Here's an example of CSV data on heights, education, and earnings:\n",
        "    \n",
        "    \"earn\",\"height\",\"sex\",\"ed\",\"age\",\"race\"\n",
        "    50000,74.4244387818035,\"male\",16,45,\"white\"\n",
        "    60000,65.5375428255647,\"female\",16,58,\"white\"\n",
        "    30000,63.6291977374349,\"female\",16,29,\"white\"\n",
        "    50000,63.1085616752971,\"female\",16,91,\"other\"\n",
        "    51000,63.4024835710879,\"female\",17,39,\"white\"\n",
        "    9000,64.3995075440034,\"female\",15,26,\"white\"\n",
        "    \n",
        "The first row (usually) has a *header* giving the column names. Subsequent rows give the actual data. Strings are (usually) quoted."
      ]
    },
    {
      "cell_type": "code",
      "source": [
        "# quoted data = strings / text \n",
        "# this is what's happening in a csv (text) file:\n",
        "firstName, lastName\n",
        "John, Doe \n",
        "Anna, Smith "
      ],
      "metadata": {
        "id": "w5isqZdGqJB2"
      },
      "execution_count": null,
      "outputs": []
    },
    {
      "cell_type": "markdown",
      "metadata": {
        "id": "0DSjeJeWlaQ5"
      },
      "source": [
        "You might also see these data come in the format:\n",
        "    \n",
        "    earn,height,sex,ed,age,race\n",
        "    50000,74.4244387818035,male,16,45,white\n",
        "    60000,65.5375428255647,female,16,58,white\n",
        "    30000,63.6291977374349,female,16,29,white\n",
        "    50000,63.1085616752971,female,16,91,other\n",
        "    51000,63.4024835710879,female,17,39,white\n",
        "    9000,64.3995075440034,female,15,26,white\n",
        "    \n",
        "No quotes!"
      ]
    },
    {
      "cell_type": "code",
      "source": [
        "# no quotes = numbers "
      ],
      "metadata": {
        "id": "9NjytSZAqdDl"
      },
      "execution_count": null,
      "outputs": []
    },
    {
      "cell_type": "markdown",
      "metadata": {
        "id": "E-f6yqM7laQ5"
      },
      "source": [
        "Or even:\n",
        "\n",
        "    50000,74.4244387818035,male,16,45,white\n",
        "    60000,65.5375428255647,female,16,58,white\n",
        "    30000,63.6291977374349,female,16,29,white\n",
        "    50000,63.1085616752971,female,16,91,other\n",
        "    51000,63.4024835710879,female,17,39,white\n",
        "    9000,64.3995075440034,female,15,26,white\n",
        "    \n",
        "No column names!"
      ]
    },
    {
      "cell_type": "markdown",
      "metadata": {
        "id": "qLUD3lM1laQ6"
      },
      "source": [
        "The `read_csv` command is designed to read this type of file. Note that this command is part of `tidyverse` and is different from `read.csv` in R! You generally want to use `read_csv` over `read.csv` since:\n",
        "- It is much faster.\n",
        "- It outputs nicely formatted `tibble`s which you can pass into other tidyverse functions."
      ]
    },
    {
      "cell_type": "code",
      "source": [
        "# if you downloaded the files (not recommended): \n",
        "test1=read_csv('heights.csv')\n",
        "test1%>%print"
      ],
      "metadata": {
        "colab": {
          "base_uri": "https://localhost:8080/"
        },
        "id": "vq8bmNv_rSLs",
        "outputId": "977b25d5-8cb5-4a21-ebb6-382ad8372b40"
      },
      "execution_count": 20,
      "outputs": [
        {
          "output_type": "stream",
          "name": "stderr",
          "text": [
            "\u001b[1mRows: \u001b[22m\u001b[34m1192\u001b[39m \u001b[1mColumns: \u001b[22m\u001b[34m6\u001b[39m\n",
            "\u001b[36m──\u001b[39m \u001b[1mColumn specification\u001b[22m \u001b[36m────────────────────────────────────────────────────────\u001b[39m\n",
            "\u001b[1mDelimiter:\u001b[22m \",\"\n",
            "\u001b[31mchr\u001b[39m (2): sex, race\n",
            "\u001b[32mdbl\u001b[39m (4): earn, height, ed, age\n",
            "\n",
            "\u001b[36mℹ\u001b[39m Use `spec()` to retrieve the full column specification for this data.\n",
            "\u001b[36mℹ\u001b[39m Specify the column types or set `show_col_types = FALSE` to quiet this message.\n"
          ]
        },
        {
          "output_type": "stream",
          "name": "stdout",
          "text": [
            "\u001b[90m# A tibble: 1,192 × 6\u001b[39m\n",
            "    earn height sex       ed   age race    \n",
            "   \u001b[3m\u001b[90m<dbl>\u001b[39m\u001b[23m  \u001b[3m\u001b[90m<dbl>\u001b[39m\u001b[23m \u001b[3m\u001b[90m<chr>\u001b[39m\u001b[23m  \u001b[3m\u001b[90m<dbl>\u001b[39m\u001b[23m \u001b[3m\u001b[90m<dbl>\u001b[39m\u001b[23m \u001b[3m\u001b[90m<chr>\u001b[39m\u001b[23m   \n",
            "\u001b[90m 1\u001b[39m \u001b[4m5\u001b[24m\u001b[4m0\u001b[24m000   74.4 male      16    45 white   \n",
            "\u001b[90m 2\u001b[39m \u001b[4m6\u001b[24m\u001b[4m0\u001b[24m000   65.5 female    16    58 white   \n",
            "\u001b[90m 3\u001b[39m \u001b[4m3\u001b[24m\u001b[4m0\u001b[24m000   63.6 female    16    29 white   \n",
            "\u001b[90m 4\u001b[39m \u001b[4m5\u001b[24m\u001b[4m0\u001b[24m000   63.1 female    16    91 other   \n",
            "\u001b[90m 5\u001b[39m \u001b[4m5\u001b[24m\u001b[4m1\u001b[24m000   63.4 female    17    39 white   \n",
            "\u001b[90m 6\u001b[39m  \u001b[4m9\u001b[24m000   64.4 female    15    26 white   \n",
            "\u001b[90m 7\u001b[39m \u001b[4m2\u001b[24m\u001b[4m9\u001b[24m000   61.7 female    12    49 white   \n",
            "\u001b[90m 8\u001b[39m \u001b[4m3\u001b[24m\u001b[4m2\u001b[24m000   72.7 male      17    46 white   \n",
            "\u001b[90m 9\u001b[39m  \u001b[4m2\u001b[24m000   72.0 male      15    21 hispanic\n",
            "\u001b[90m10\u001b[39m \u001b[4m2\u001b[24m\u001b[4m7\u001b[24m000   72.2 male      12    26 white   \n",
            "\u001b[90m# … with 1,182 more rows\u001b[39m\n"
          ]
        }
      ]
    },
    {
      "cell_type": "code",
      "source": [
        "test2=read_csv('/content/heights.csv')\n",
        "test2%>%print"
      ],
      "metadata": {
        "colab": {
          "base_uri": "https://localhost:8080/"
        },
        "id": "9Mw8-Bw0rhP-",
        "outputId": "c6015e8c-3174-4106-e90c-d579e339f053"
      },
      "execution_count": 21,
      "outputs": [
        {
          "output_type": "stream",
          "name": "stderr",
          "text": [
            "\u001b[1mRows: \u001b[22m\u001b[34m1192\u001b[39m \u001b[1mColumns: \u001b[22m\u001b[34m6\u001b[39m\n",
            "\u001b[36m──\u001b[39m \u001b[1mColumn specification\u001b[22m \u001b[36m────────────────────────────────────────────────────────\u001b[39m\n",
            "\u001b[1mDelimiter:\u001b[22m \",\"\n",
            "\u001b[31mchr\u001b[39m (2): sex, race\n",
            "\u001b[32mdbl\u001b[39m (4): earn, height, ed, age\n",
            "\n",
            "\u001b[36mℹ\u001b[39m Use `spec()` to retrieve the full column specification for this data.\n",
            "\u001b[36mℹ\u001b[39m Specify the column types or set `show_col_types = FALSE` to quiet this message.\n"
          ]
        },
        {
          "output_type": "stream",
          "name": "stdout",
          "text": [
            "\u001b[90m# A tibble: 1,192 × 6\u001b[39m\n",
            "    earn height sex       ed   age race    \n",
            "   \u001b[3m\u001b[90m<dbl>\u001b[39m\u001b[23m  \u001b[3m\u001b[90m<dbl>\u001b[39m\u001b[23m \u001b[3m\u001b[90m<chr>\u001b[39m\u001b[23m  \u001b[3m\u001b[90m<dbl>\u001b[39m\u001b[23m \u001b[3m\u001b[90m<dbl>\u001b[39m\u001b[23m \u001b[3m\u001b[90m<chr>\u001b[39m\u001b[23m   \n",
            "\u001b[90m 1\u001b[39m \u001b[4m5\u001b[24m\u001b[4m0\u001b[24m000   74.4 male      16    45 white   \n",
            "\u001b[90m 2\u001b[39m \u001b[4m6\u001b[24m\u001b[4m0\u001b[24m000   65.5 female    16    58 white   \n",
            "\u001b[90m 3\u001b[39m \u001b[4m3\u001b[24m\u001b[4m0\u001b[24m000   63.6 female    16    29 white   \n",
            "\u001b[90m 4\u001b[39m \u001b[4m5\u001b[24m\u001b[4m0\u001b[24m000   63.1 female    16    91 other   \n",
            "\u001b[90m 5\u001b[39m \u001b[4m5\u001b[24m\u001b[4m1\u001b[24m000   63.4 female    17    39 white   \n",
            "\u001b[90m 6\u001b[39m  \u001b[4m9\u001b[24m000   64.4 female    15    26 white   \n",
            "\u001b[90m 7\u001b[39m \u001b[4m2\u001b[24m\u001b[4m9\u001b[24m000   61.7 female    12    49 white   \n",
            "\u001b[90m 8\u001b[39m \u001b[4m3\u001b[24m\u001b[4m2\u001b[24m000   72.7 male      17    46 white   \n",
            "\u001b[90m 9\u001b[39m  \u001b[4m2\u001b[24m000   72.0 male      15    21 hispanic\n",
            "\u001b[90m10\u001b[39m \u001b[4m2\u001b[24m\u001b[4m7\u001b[24m000   72.2 male      12    26 white   \n",
            "\u001b[90m# … with 1,182 more rows\u001b[39m\n"
          ]
        }
      ]
    },
    {
      "cell_type": "code",
      "execution_count": 31,
      "metadata": {
        "id": "all_xCN8laQ7",
        "outputId": "dc42560d-7fc0-48c6-a324-30a988f290ad",
        "colab": {
          "base_uri": "https://localhost:8080/"
        }
      },
      "outputs": [
        {
          "output_type": "stream",
          "name": "stderr",
          "text": [
            "\u001b[1mRows: \u001b[22m\u001b[34m1192\u001b[39m \u001b[1mColumns: \u001b[22m\u001b[34m6\u001b[39m\n",
            "\u001b[36m──\u001b[39m \u001b[1mColumn specification\u001b[22m \u001b[36m────────────────────────────────────────────────────────\u001b[39m\n",
            "\u001b[1mDelimiter:\u001b[22m \",\"\n",
            "\u001b[31mchr\u001b[39m (2): sex, race\n",
            "\u001b[32mdbl\u001b[39m (4): earn, height, ed, age\n",
            "\n",
            "\u001b[36mℹ\u001b[39m Use `spec()` to retrieve the full column specification for this data.\n",
            "\u001b[36mℹ\u001b[39m Specify the column types or set `show_col_types = FALSE` to quiet this message.\n"
          ]
        },
        {
          "output_type": "stream",
          "name": "stdout",
          "text": [
            "\u001b[90m# A tibble: 1,192 × 6\u001b[39m\n",
            "    earn height sex       ed   age race    \n",
            "   \u001b[3m\u001b[90m<dbl>\u001b[39m\u001b[23m  \u001b[3m\u001b[90m<dbl>\u001b[39m\u001b[23m \u001b[3m\u001b[90m<chr>\u001b[39m\u001b[23m  \u001b[3m\u001b[90m<dbl>\u001b[39m\u001b[23m \u001b[3m\u001b[90m<dbl>\u001b[39m\u001b[23m \u001b[3m\u001b[90m<chr>\u001b[39m\u001b[23m   \n",
            "\u001b[90m 1\u001b[39m \u001b[4m5\u001b[24m\u001b[4m0\u001b[24m000   74.4 male      16    45 white   \n",
            "\u001b[90m 2\u001b[39m \u001b[4m6\u001b[24m\u001b[4m0\u001b[24m000   65.5 female    16    58 white   \n",
            "\u001b[90m 3\u001b[39m \u001b[4m3\u001b[24m\u001b[4m0\u001b[24m000   63.6 female    16    29 white   \n",
            "\u001b[90m 4\u001b[39m \u001b[4m5\u001b[24m\u001b[4m0\u001b[24m000   63.1 female    16    91 other   \n",
            "\u001b[90m 5\u001b[39m \u001b[4m5\u001b[24m\u001b[4m1\u001b[24m000   63.4 female    17    39 white   \n",
            "\u001b[90m 6\u001b[39m  \u001b[4m9\u001b[24m000   64.4 female    15    26 white   \n",
            "\u001b[90m 7\u001b[39m \u001b[4m2\u001b[24m\u001b[4m9\u001b[24m000   61.7 female    12    49 white   \n",
            "\u001b[90m 8\u001b[39m \u001b[4m3\u001b[24m\u001b[4m2\u001b[24m000   72.7 male      17    46 white   \n",
            "\u001b[90m 9\u001b[39m  \u001b[4m2\u001b[24m000   72.0 male      15    21 hispanic\n",
            "\u001b[90m10\u001b[39m \u001b[4m2\u001b[24m\u001b[4m7\u001b[24m000   72.2 male      12    26 white   \n",
            "\u001b[90m# … with 1,182 more rows\u001b[39m\n"
          ]
        }
      ],
      "source": [
        "# if you pull a file from github (recommended): \n",
        "heights <- read_csv(\"https://raw.githubusercontent.com/stats306/w23/main/lectures/week7/heights.csv\") %>% \n",
        "  print"
      ]
    },
    {
      "cell_type": "markdown",
      "metadata": {
        "id": "8ku9WnE-laQ7"
      },
      "source": [
        "Here `read_csv` has told us what columns it found, and also what the data types it found for them are. Generally these will be correct but we will see examples later where it guesses wrongly and we have to manually override them."
      ]
    },
    {
      "cell_type": "markdown",
      "metadata": {
        "id": "hXfZXw0JlaQ8"
      },
      "source": [
        "Here is another version of `heights`, where we are not lucky enough to have a header telling us which columns came from where:"
      ]
    },
    {
      "cell_type": "code",
      "execution_count": 29,
      "metadata": {
        "id": "6Fgk1gr3laQ8",
        "outputId": "b4aa255d-3887-45f3-b072-ae2b1bb301d1",
        "colab": {
          "base_uri": "https://localhost:8080/"
        }
      },
      "outputs": [
        {
          "output_type": "stream",
          "name": "stderr",
          "text": [
            "\u001b[1mRows: \u001b[22m\u001b[34m1191\u001b[39m \u001b[1mColumns: \u001b[22m\u001b[34m6\u001b[39m\n",
            "\u001b[36m──\u001b[39m \u001b[1mColumn specification\u001b[22m \u001b[36m────────────────────────────────────────────────────────\u001b[39m\n",
            "\u001b[1mDelimiter:\u001b[22m \",\"\n",
            "\u001b[31mchr\u001b[39m (2): male, white\n",
            "\u001b[32mdbl\u001b[39m (4): 50000, 74.4244387818035, 16, 45\n",
            "\n",
            "\u001b[36mℹ\u001b[39m Use `spec()` to retrieve the full column specification for this data.\n",
            "\u001b[36mℹ\u001b[39m Specify the column types or set `show_col_types = FALSE` to quiet this message.\n"
          ]
        },
        {
          "output_type": "stream",
          "name": "stdout",
          "text": [
            "\u001b[90m# A tibble: 1,191 × 6\u001b[39m\n",
            "   `50000` `74.4244387818035` male    `16`  `45` white   \n",
            "     \u001b[3m\u001b[90m<dbl>\u001b[39m\u001b[23m              \u001b[3m\u001b[90m<dbl>\u001b[39m\u001b[23m \u001b[3m\u001b[90m<chr>\u001b[39m\u001b[23m  \u001b[3m\u001b[90m<dbl>\u001b[39m\u001b[23m \u001b[3m\u001b[90m<dbl>\u001b[39m\u001b[23m \u001b[3m\u001b[90m<chr>\u001b[39m\u001b[23m   \n",
            "\u001b[90m 1\u001b[39m   \u001b[4m6\u001b[24m\u001b[4m0\u001b[24m000               65.5 female    16    58 white   \n",
            "\u001b[90m 2\u001b[39m   \u001b[4m3\u001b[24m\u001b[4m0\u001b[24m000               63.6 female    16    29 white   \n",
            "\u001b[90m 3\u001b[39m   \u001b[4m5\u001b[24m\u001b[4m0\u001b[24m000               63.1 female    16    91 other   \n",
            "\u001b[90m 4\u001b[39m   \u001b[4m5\u001b[24m\u001b[4m1\u001b[24m000               63.4 female    17    39 white   \n",
            "\u001b[90m 5\u001b[39m    \u001b[4m9\u001b[24m000               64.4 female    15    26 white   \n",
            "\u001b[90m 6\u001b[39m   \u001b[4m2\u001b[24m\u001b[4m9\u001b[24m000               61.7 female    12    49 white   \n",
            "\u001b[90m 7\u001b[39m   \u001b[4m3\u001b[24m\u001b[4m2\u001b[24m000               72.7 male      17    46 white   \n",
            "\u001b[90m 8\u001b[39m    \u001b[4m2\u001b[24m000               72.0 male      15    21 hispanic\n",
            "\u001b[90m 9\u001b[39m   \u001b[4m2\u001b[24m\u001b[4m7\u001b[24m000               72.2 male      12    26 white   \n",
            "\u001b[90m10\u001b[39m    \u001b[4m6\u001b[24m530               69.5 male      16    65 white   \n",
            "\u001b[90m# … with 1,181 more rows\u001b[39m\n"
          ]
        }
      ],
      "source": [
        "read_csv(\"https://raw.githubusercontent.com/stats306/w23/main/lectures/week7/heights_no_hdr.csv\") %>% \n",
        "  print"
      ]
    },
    {
      "cell_type": "markdown",
      "metadata": {
        "id": "lhvycdLLlaQ8"
      },
      "source": [
        "Now `read_csv()` has erroneously assumed that the first row of data are the header names. To override this behavior we need to specify the column names by hand:"
      ]
    },
    {
      "cell_type": "code",
      "execution_count": 28,
      "metadata": {
        "id": "H3gE4TwAlaQ8",
        "outputId": "5bc736ea-58bf-4ced-e423-835b3f2a7255",
        "colab": {
          "base_uri": "https://localhost:8080/"
        }
      },
      "outputs": [
        {
          "output_type": "stream",
          "name": "stderr",
          "text": [
            "\u001b[1mRows: \u001b[22m\u001b[34m1192\u001b[39m \u001b[1mColumns: \u001b[22m\u001b[34m6\u001b[39m\n",
            "\u001b[36m──\u001b[39m \u001b[1mColumn specification\u001b[22m \u001b[36m────────────────────────────────────────────────────────\u001b[39m\n",
            "\u001b[1mDelimiter:\u001b[22m \",\"\n",
            "\u001b[31mchr\u001b[39m (2): X3, X6\n",
            "\u001b[32mdbl\u001b[39m (4): X1, X2, X4, X5\n",
            "\n",
            "\u001b[36mℹ\u001b[39m Use `spec()` to retrieve the full column specification for this data.\n",
            "\u001b[36mℹ\u001b[39m Specify the column types or set `show_col_types = FALSE` to quiet this message.\n"
          ]
        },
        {
          "output_type": "stream",
          "name": "stdout",
          "text": [
            "\u001b[90m# A tibble: 1,192 × 6\u001b[39m\n",
            "      X1    X2 X3        X4    X5 X6      \n",
            "   \u001b[3m\u001b[90m<dbl>\u001b[39m\u001b[23m \u001b[3m\u001b[90m<dbl>\u001b[39m\u001b[23m \u001b[3m\u001b[90m<chr>\u001b[39m\u001b[23m  \u001b[3m\u001b[90m<dbl>\u001b[39m\u001b[23m \u001b[3m\u001b[90m<dbl>\u001b[39m\u001b[23m \u001b[3m\u001b[90m<chr>\u001b[39m\u001b[23m   \n",
            "\u001b[90m 1\u001b[39m \u001b[4m5\u001b[24m\u001b[4m0\u001b[24m000  74.4 male      16    45 white   \n",
            "\u001b[90m 2\u001b[39m \u001b[4m6\u001b[24m\u001b[4m0\u001b[24m000  65.5 female    16    58 white   \n",
            "\u001b[90m 3\u001b[39m \u001b[4m3\u001b[24m\u001b[4m0\u001b[24m000  63.6 female    16    29 white   \n",
            "\u001b[90m 4\u001b[39m \u001b[4m5\u001b[24m\u001b[4m0\u001b[24m000  63.1 female    16    91 other   \n",
            "\u001b[90m 5\u001b[39m \u001b[4m5\u001b[24m\u001b[4m1\u001b[24m000  63.4 female    17    39 white   \n",
            "\u001b[90m 6\u001b[39m  \u001b[4m9\u001b[24m000  64.4 female    15    26 white   \n",
            "\u001b[90m 7\u001b[39m \u001b[4m2\u001b[24m\u001b[4m9\u001b[24m000  61.7 female    12    49 white   \n",
            "\u001b[90m 8\u001b[39m \u001b[4m3\u001b[24m\u001b[4m2\u001b[24m000  72.7 male      17    46 white   \n",
            "\u001b[90m 9\u001b[39m  \u001b[4m2\u001b[24m000  72.0 male      15    21 hispanic\n",
            "\u001b[90m10\u001b[39m \u001b[4m2\u001b[24m\u001b[4m7\u001b[24m000  72.2 male      12    26 white   \n",
            "\u001b[90m# … with 1,182 more rows\u001b[39m\n"
          ]
        }
      ],
      "source": [
        "read_csv(\"https://raw.githubusercontent.com/stats306/w23/main/lectures/week7/heights_no_hdr.csv\", \n",
        "col_names = F) %>% \n",
        "  print"
      ]
    },
    {
      "cell_type": "code",
      "execution_count": 32,
      "metadata": {
        "id": "cPx3ESgolaQ9",
        "outputId": "a5d8100f-45a1-4a1c-a8a9-143a567033f8",
        "colab": {
          "base_uri": "https://localhost:8080/"
        }
      },
      "outputs": [
        {
          "output_type": "stream",
          "name": "stderr",
          "text": [
            "\u001b[1mRows: \u001b[22m\u001b[34m1192\u001b[39m \u001b[1mColumns: \u001b[22m\u001b[34m6\u001b[39m\n",
            "\u001b[36m──\u001b[39m \u001b[1mColumn specification\u001b[22m \u001b[36m────────────────────────────────────────────────────────\u001b[39m\n",
            "\u001b[1mDelimiter:\u001b[22m \",\"\n",
            "\u001b[31mchr\u001b[39m (2): sex, race\n",
            "\u001b[32mdbl\u001b[39m (4): earn, height, ed, age\n",
            "\n",
            "\u001b[36mℹ\u001b[39m Use `spec()` to retrieve the full column specification for this data.\n",
            "\u001b[36mℹ\u001b[39m Specify the column types or set `show_col_types = FALSE` to quiet this message.\n"
          ]
        },
        {
          "output_type": "stream",
          "name": "stdout",
          "text": [
            "\u001b[90m# A tibble: 1,192 × 6\u001b[39m\n",
            "    earn height sex       ed   age race    \n",
            "   \u001b[3m\u001b[90m<dbl>\u001b[39m\u001b[23m  \u001b[3m\u001b[90m<dbl>\u001b[39m\u001b[23m \u001b[3m\u001b[90m<chr>\u001b[39m\u001b[23m  \u001b[3m\u001b[90m<dbl>\u001b[39m\u001b[23m \u001b[3m\u001b[90m<dbl>\u001b[39m\u001b[23m \u001b[3m\u001b[90m<chr>\u001b[39m\u001b[23m   \n",
            "\u001b[90m 1\u001b[39m \u001b[4m5\u001b[24m\u001b[4m0\u001b[24m000   74.4 male      16    45 white   \n",
            "\u001b[90m 2\u001b[39m \u001b[4m6\u001b[24m\u001b[4m0\u001b[24m000   65.5 female    16    58 white   \n",
            "\u001b[90m 3\u001b[39m \u001b[4m3\u001b[24m\u001b[4m0\u001b[24m000   63.6 female    16    29 white   \n",
            "\u001b[90m 4\u001b[39m \u001b[4m5\u001b[24m\u001b[4m0\u001b[24m000   63.1 female    16    91 other   \n",
            "\u001b[90m 5\u001b[39m \u001b[4m5\u001b[24m\u001b[4m1\u001b[24m000   63.4 female    17    39 white   \n",
            "\u001b[90m 6\u001b[39m  \u001b[4m9\u001b[24m000   64.4 female    15    26 white   \n",
            "\u001b[90m 7\u001b[39m \u001b[4m2\u001b[24m\u001b[4m9\u001b[24m000   61.7 female    12    49 white   \n",
            "\u001b[90m 8\u001b[39m \u001b[4m3\u001b[24m\u001b[4m2\u001b[24m000   72.7 male      17    46 white   \n",
            "\u001b[90m 9\u001b[39m  \u001b[4m2\u001b[24m000   72.0 male      15    21 hispanic\n",
            "\u001b[90m10\u001b[39m \u001b[4m2\u001b[24m\u001b[4m7\u001b[24m000   72.2 male      12    26 white   \n",
            "\u001b[90m# … with 1,182 more rows\u001b[39m\n"
          ]
        }
      ],
      "source": [
        "read_csv(\"https://raw.githubusercontent.com/stats306/w23/main/lectures/week7/heights_no_hdr.csv\", \n",
        "         col_names = c(\"earn\", \"height\", \"sex\", \"ed\", \"age\", \"race\")) %>% \n",
        "           print"
      ]
    },
    {
      "cell_type": "markdown",
      "metadata": {
        "id": "O5hbjuwklaQ9"
      },
      "source": [
        "To create short examples illustrating `read_csv`'s behavior, we can specify the contents of a csv file inline."
      ]
    },
    {
      "cell_type": "code",
      "execution_count": 26,
      "metadata": {
        "id": "zrvRscywlaQ9",
        "outputId": "2e848cd2-859a-4b5d-90a1-33ed9cd186e1",
        "colab": {
          "base_uri": "https://localhost:8080/",
          "height": 286
        }
      },
      "outputs": [
        {
          "output_type": "stream",
          "name": "stderr",
          "text": [
            "\u001b[1mRows: \u001b[22m\u001b[34m2\u001b[39m \u001b[1mColumns: \u001b[22m\u001b[34m3\u001b[39m\n",
            "\u001b[36m──\u001b[39m \u001b[1mColumn specification\u001b[22m \u001b[36m────────────────────────────────────────────────────────\u001b[39m\n",
            "\u001b[1mDelimiter:\u001b[22m \",\"\n",
            "\u001b[32mdbl\u001b[39m (3): a, b, c\n",
            "\n",
            "\u001b[36mℹ\u001b[39m Use `spec()` to retrieve the full column specification for this data.\n",
            "\u001b[36mℹ\u001b[39m Specify the column types or set `show_col_types = FALSE` to quiet this message.\n"
          ]
        },
        {
          "output_type": "display_data",
          "data": {
            "text/html": [
              "<table class=\"dataframe\">\n",
              "<caption>A spec_tbl_df: 2 × 3</caption>\n",
              "<thead>\n",
              "\t<tr><th scope=col>a</th><th scope=col>b</th><th scope=col>c</th></tr>\n",
              "\t<tr><th scope=col>&lt;dbl&gt;</th><th scope=col>&lt;dbl&gt;</th><th scope=col>&lt;dbl&gt;</th></tr>\n",
              "</thead>\n",
              "<tbody>\n",
              "\t<tr><td>1</td><td>2</td><td>3</td></tr>\n",
              "\t<tr><td>4</td><td>5</td><td>6</td></tr>\n",
              "</tbody>\n",
              "</table>\n"
            ],
            "text/markdown": "\nA spec_tbl_df: 2 × 3\n\n| a &lt;dbl&gt; | b &lt;dbl&gt; | c &lt;dbl&gt; |\n|---|---|---|\n| 1 | 2 | 3 |\n| 4 | 5 | 6 |\n\n",
            "text/latex": "A spec\\_tbl\\_df: 2 × 3\n\\begin{tabular}{lll}\n a & b & c\\\\\n <dbl> & <dbl> & <dbl>\\\\\n\\hline\n\t 1 & 2 & 3\\\\\n\t 4 & 5 & 6\\\\\n\\end{tabular}\n",
            "text/plain": [
              "  a b c\n",
              "1 1 2 3\n",
              "2 4 5 6"
            ]
          },
          "metadata": {}
        }
      ],
      "source": [
        "read_csv(\n",
        "    \"a, b, c\n",
        "     1, 2, 3\n",
        "     4, 5, 6\n",
        "\")"
      ]
    },
    {
      "cell_type": "markdown",
      "metadata": {
        "id": "D4zDx126laRA"
      },
      "source": [
        "You might want to skip a few rows in the beginning that have metadata."
      ]
    },
    {
      "cell_type": "code",
      "execution_count": 27,
      "metadata": {
        "id": "f0v7dXrilaRA",
        "outputId": "c56c613a-b138-4093-e6ab-c28de80d3164",
        "colab": {
          "base_uri": "https://localhost:8080/",
          "height": 286
        }
      },
      "outputs": [
        {
          "output_type": "stream",
          "name": "stderr",
          "text": [
            "\u001b[1mRows: \u001b[22m\u001b[34m2\u001b[39m \u001b[1mColumns: \u001b[22m\u001b[34m3\u001b[39m\n",
            "\u001b[36m──\u001b[39m \u001b[1mColumn specification\u001b[22m \u001b[36m────────────────────────────────────────────────────────\u001b[39m\n",
            "\u001b[1mDelimiter:\u001b[22m \",\"\n",
            "\u001b[32mdbl\u001b[39m (3): a, b, c\n",
            "\n",
            "\u001b[36mℹ\u001b[39m Use `spec()` to retrieve the full column specification for this data.\n",
            "\u001b[36mℹ\u001b[39m Specify the column types or set `show_col_types = FALSE` to quiet this message.\n"
          ]
        },
        {
          "output_type": "display_data",
          "data": {
            "text/html": [
              "<table class=\"dataframe\">\n",
              "<caption>A spec_tbl_df: 2 × 3</caption>\n",
              "<thead>\n",
              "\t<tr><th scope=col>a</th><th scope=col>b</th><th scope=col>c</th></tr>\n",
              "\t<tr><th scope=col>&lt;dbl&gt;</th><th scope=col>&lt;dbl&gt;</th><th scope=col>&lt;dbl&gt;</th></tr>\n",
              "</thead>\n",
              "<tbody>\n",
              "\t<tr><td>1</td><td>2</td><td>3</td></tr>\n",
              "\t<tr><td>4</td><td>5</td><td>6</td></tr>\n",
              "</tbody>\n",
              "</table>\n"
            ],
            "text/markdown": "\nA spec_tbl_df: 2 × 3\n\n| a &lt;dbl&gt; | b &lt;dbl&gt; | c &lt;dbl&gt; |\n|---|---|---|\n| 1 | 2 | 3 |\n| 4 | 5 | 6 |\n\n",
            "text/latex": "A spec\\_tbl\\_df: 2 × 3\n\\begin{tabular}{lll}\n a & b & c\\\\\n <dbl> & <dbl> & <dbl>\\\\\n\\hline\n\t 1 & 2 & 3\\\\\n\t 4 & 5 & 6\\\\\n\\end{tabular}\n",
            "text/plain": [
              "  a b c\n",
              "1 1 2 3\n",
              "2 4 5 6"
            ]
          },
          "metadata": {}
        }
      ],
      "source": [
        "read_csv(\n",
        "\"# First row to skip\n",
        "// Second row to skip\n",
        "% Third row to skip\n",
        "a, b, c\n",
        "1, 2, 3\n",
        "4, 5, 6\n",
        "\", skip = 3)"
      ]
    },
    {
      "cell_type": "markdown",
      "metadata": {
        "id": "WesR-ShilaRA"
      },
      "source": [
        "Some CSVs will come with comments, typically in the form of lines prefaced by `#`. You can also skip comments line by specifying a comment character."
      ]
    },
    {
      "cell_type": "code",
      "execution_count": 33,
      "metadata": {
        "id": "MZDcUj9blaRA",
        "outputId": "3e4ba206-934d-410e-920f-53ab5a40aff8",
        "colab": {
          "base_uri": "https://localhost:8080/",
          "height": 286
        }
      },
      "outputs": [
        {
          "output_type": "stream",
          "name": "stderr",
          "text": [
            "\u001b[1mRows: \u001b[22m\u001b[34m2\u001b[39m \u001b[1mColumns: \u001b[22m\u001b[34m3\u001b[39m\n",
            "\u001b[36m──\u001b[39m \u001b[1mColumn specification\u001b[22m \u001b[36m────────────────────────────────────────────────────────\u001b[39m\n",
            "\u001b[1mDelimiter:\u001b[22m \",\"\n",
            "\u001b[32mdbl\u001b[39m (3): a, b, c\n",
            "\n",
            "\u001b[36mℹ\u001b[39m Use `spec()` to retrieve the full column specification for this data.\n",
            "\u001b[36mℹ\u001b[39m Specify the column types or set `show_col_types = FALSE` to quiet this message.\n"
          ]
        },
        {
          "output_type": "display_data",
          "data": {
            "text/html": [
              "<table class=\"dataframe\">\n",
              "<caption>A spec_tbl_df: 2 × 3</caption>\n",
              "<thead>\n",
              "\t<tr><th scope=col>a</th><th scope=col>b</th><th scope=col>c</th></tr>\n",
              "\t<tr><th scope=col>&lt;dbl&gt;</th><th scope=col>&lt;dbl&gt;</th><th scope=col>&lt;dbl&gt;</th></tr>\n",
              "</thead>\n",
              "<tbody>\n",
              "\t<tr><td>1</td><td>2</td><td>3</td></tr>\n",
              "\t<tr><td>4</td><td>5</td><td>6</td></tr>\n",
              "</tbody>\n",
              "</table>\n"
            ],
            "text/markdown": "\nA spec_tbl_df: 2 × 3\n\n| a &lt;dbl&gt; | b &lt;dbl&gt; | c &lt;dbl&gt; |\n|---|---|---|\n| 1 | 2 | 3 |\n| 4 | 5 | 6 |\n\n",
            "text/latex": "A spec\\_tbl\\_df: 2 × 3\n\\begin{tabular}{lll}\n a & b & c\\\\\n <dbl> & <dbl> & <dbl>\\\\\n\\hline\n\t 1 & 2 & 3\\\\\n\t 4 & 5 & 6\\\\\n\\end{tabular}\n",
            "text/plain": [
              "  a b c\n",
              "1 1 2 3\n",
              "2 4 5 6"
            ]
          },
          "metadata": {}
        }
      ],
      "source": [
        "read_csv(\"\n",
        "# First comment line\n",
        "a, b, c\n",
        "# This separate the header from the data\n",
        "1, 2, 3\n",
        "4, 5, 6\n",
        "# Another comment line\n",
        "\", comment = '#')"
      ]
    },
    {
      "cell_type": "markdown",
      "metadata": {
        "id": "QJwYC6rilaRB"
      },
      "source": [
        "Set `col_names = FALSE` when you don't have column names in the file. The column names are then set to X1, X2, ..."
      ]
    },
    {
      "cell_type": "code",
      "execution_count": 34,
      "metadata": {
        "id": "q6TauiFDlaRB",
        "outputId": "a0305d3c-1b75-46c6-9520-0cd802d81106",
        "colab": {
          "base_uri": "https://localhost:8080/"
        }
      },
      "outputs": [
        {
          "output_type": "stream",
          "name": "stderr",
          "text": [
            "\u001b[1mRows: \u001b[22m\u001b[34m1\u001b[39m \u001b[1mColumns: \u001b[22m\u001b[34m3\u001b[39m\n",
            "\u001b[36m──\u001b[39m \u001b[1mColumn specification\u001b[22m \u001b[36m────────────────────────────────────────────────────────\u001b[39m\n",
            "\u001b[1mDelimiter:\u001b[22m \",\"\n",
            "\u001b[32mdbl\u001b[39m (3): 1, 2, 3\n",
            "\n",
            "\u001b[36mℹ\u001b[39m Use `spec()` to retrieve the full column specification for this data.\n",
            "\u001b[36mℹ\u001b[39m Specify the column types or set `show_col_types = FALSE` to quiet this message.\n"
          ]
        },
        {
          "output_type": "stream",
          "name": "stdout",
          "text": [
            "\u001b[90m# A tibble: 1 × 3\u001b[39m\n",
            "    `1`   `2`   `3`\n",
            "  \u001b[3m\u001b[90m<dbl>\u001b[39m\u001b[23m \u001b[3m\u001b[90m<dbl>\u001b[39m\u001b[23m \u001b[3m\u001b[90m<dbl>\u001b[39m\u001b[23m\n",
            "\u001b[90m1\u001b[39m     4     5     6\n"
          ]
        }
      ],
      "source": [
        "# by default, the first row/observation became the header: \n",
        "read_csv(\"\n",
        "1, 2, 3\n",
        "4, 5, 6\n",
        "\") %>% print"
      ]
    },
    {
      "cell_type": "code",
      "source": [
        "# how to make it so that the first row/observation isn't the header: \n",
        "read_csv(\"\n",
        "1, 2, 3\n",
        "4, 5, 6\n",
        "\",col_names=F) %>% print"
      ],
      "metadata": {
        "colab": {
          "base_uri": "https://localhost:8080/"
        },
        "id": "8yYZgcgjt23u",
        "outputId": "d6e26bd5-c092-488c-e978-5f836db14836"
      },
      "execution_count": 35,
      "outputs": [
        {
          "output_type": "stream",
          "name": "stderr",
          "text": [
            "\u001b[1mRows: \u001b[22m\u001b[34m2\u001b[39m \u001b[1mColumns: \u001b[22m\u001b[34m3\u001b[39m\n",
            "\u001b[36m──\u001b[39m \u001b[1mColumn specification\u001b[22m \u001b[36m────────────────────────────────────────────────────────\u001b[39m\n",
            "\u001b[1mDelimiter:\u001b[22m \",\"\n",
            "\u001b[32mdbl\u001b[39m (3): X1, X2, X3\n",
            "\n",
            "\u001b[36mℹ\u001b[39m Use `spec()` to retrieve the full column specification for this data.\n",
            "\u001b[36mℹ\u001b[39m Specify the column types or set `show_col_types = FALSE` to quiet this message.\n"
          ]
        },
        {
          "output_type": "stream",
          "name": "stdout",
          "text": [
            "\u001b[90m# A tibble: 2 × 3\u001b[39m\n",
            "     X1    X2    X3\n",
            "  \u001b[3m\u001b[90m<dbl>\u001b[39m\u001b[23m \u001b[3m\u001b[90m<dbl>\u001b[39m\u001b[23m \u001b[3m\u001b[90m<dbl>\u001b[39m\u001b[23m\n",
            "\u001b[90m1\u001b[39m     1     2     3\n",
            "\u001b[90m2\u001b[39m     4     5     6\n"
          ]
        }
      ]
    },
    {
      "cell_type": "markdown",
      "metadata": {
        "id": "UczZsUaTlaRB"
      },
      "source": [
        "You can specify your own column names."
      ]
    },
    {
      "cell_type": "code",
      "execution_count": 36,
      "metadata": {
        "id": "OkPV7ZHNlaRB",
        "outputId": "8b0dc251-9c35-45af-9142-bf0818d6d9de",
        "colab": {
          "base_uri": "https://localhost:8080/",
          "height": 286
        }
      },
      "outputs": [
        {
          "output_type": "stream",
          "name": "stderr",
          "text": [
            "\u001b[1mRows: \u001b[22m\u001b[34m2\u001b[39m \u001b[1mColumns: \u001b[22m\u001b[34m3\u001b[39m\n",
            "\u001b[36m──\u001b[39m \u001b[1mColumn specification\u001b[22m \u001b[36m────────────────────────────────────────────────────────\u001b[39m\n",
            "\u001b[1mDelimiter:\u001b[22m \",\"\n",
            "\u001b[32mdbl\u001b[39m (3): a, b, c\n",
            "\n",
            "\u001b[36mℹ\u001b[39m Use `spec()` to retrieve the full column specification for this data.\n",
            "\u001b[36mℹ\u001b[39m Specify the column types or set `show_col_types = FALSE` to quiet this message.\n"
          ]
        },
        {
          "output_type": "display_data",
          "data": {
            "text/html": [
              "<table class=\"dataframe\">\n",
              "<caption>A spec_tbl_df: 2 × 3</caption>\n",
              "<thead>\n",
              "\t<tr><th scope=col>a</th><th scope=col>b</th><th scope=col>c</th></tr>\n",
              "\t<tr><th scope=col>&lt;dbl&gt;</th><th scope=col>&lt;dbl&gt;</th><th scope=col>&lt;dbl&gt;</th></tr>\n",
              "</thead>\n",
              "<tbody>\n",
              "\t<tr><td>1</td><td>2</td><td>3</td></tr>\n",
              "\t<tr><td>4</td><td>5</td><td>6</td></tr>\n",
              "</tbody>\n",
              "</table>\n"
            ],
            "text/markdown": "\nA spec_tbl_df: 2 × 3\n\n| a &lt;dbl&gt; | b &lt;dbl&gt; | c &lt;dbl&gt; |\n|---|---|---|\n| 1 | 2 | 3 |\n| 4 | 5 | 6 |\n\n",
            "text/latex": "A spec\\_tbl\\_df: 2 × 3\n\\begin{tabular}{lll}\n a & b & c\\\\\n <dbl> & <dbl> & <dbl>\\\\\n\\hline\n\t 1 & 2 & 3\\\\\n\t 4 & 5 & 6\\\\\n\\end{tabular}\n",
            "text/plain": [
              "  a b c\n",
              "1 1 2 3\n",
              "2 4 5 6"
            ]
          },
          "metadata": {}
        }
      ],
      "source": [
        "read_csv(\"\n",
        "1, 2, 3\n",
        "4, 5, 6\n",
        "\", col_names = c(\"a\", \"b\", \"c\"))"
      ]
    },
    {
      "cell_type": "markdown",
      "metadata": {
        "id": "PbMEoh2AlaRB"
      },
      "source": [
        "You can specify how missing values are represented in the file."
      ]
    },
    {
      "cell_type": "code",
      "execution_count": 37,
      "metadata": {
        "scrolled": true,
        "id": "uu9qSUdulaRC",
        "outputId": "85e6d969-a2c7-4416-c558-e058a702645b",
        "colab": {
          "base_uri": "https://localhost:8080/"
        }
      },
      "outputs": [
        {
          "output_type": "stream",
          "name": "stderr",
          "text": [
            "\u001b[1mRows: \u001b[22m\u001b[34m2\u001b[39m \u001b[1mColumns: \u001b[22m\u001b[34m3\u001b[39m\n",
            "\u001b[36m──\u001b[39m \u001b[1mColumn specification\u001b[22m \u001b[36m────────────────────────────────────────────────────────\u001b[39m\n",
            "\u001b[1mDelimiter:\u001b[22m \",\"\n",
            "\u001b[32mdbl\u001b[39m (3): a, b, c\n",
            "\n",
            "\u001b[36mℹ\u001b[39m Use `spec()` to retrieve the full column specification for this data.\n",
            "\u001b[36mℹ\u001b[39m Specify the column types or set `show_col_types = FALSE` to quiet this message.\n"
          ]
        },
        {
          "output_type": "stream",
          "name": "stdout",
          "text": [
            "\u001b[90m# A tibble: 2 × 3\u001b[39m\n",
            "      a     b     c\n",
            "  \u001b[3m\u001b[90m<dbl>\u001b[39m\u001b[23m \u001b[3m\u001b[90m<dbl>\u001b[39m\u001b[23m \u001b[3m\u001b[90m<dbl>\u001b[39m\u001b[23m\n",
            "\u001b[90m1\u001b[39m     1     2     3\n",
            "\u001b[90m2\u001b[39m     4    \u001b[31mNA\u001b[39m     6\n"
          ]
        }
      ],
      "source": [
        "# we have a missing value here:\n",
        "read_csv(\n",
        "    \"a, b, c\n",
        "     1, 2, 3\n",
        "     4,  , 6\n",
        "\") %>% print"
      ]
    },
    {
      "cell_type": "code",
      "execution_count": null,
      "metadata": {
        "id": "ljEhiPm1laRC",
        "outputId": "6b330285-5146-484e-a2a0-0809091eee86"
      },
      "outputs": [
        {
          "name": "stdout",
          "output_type": "stream",
          "text": [
            "# A tibble: 2 x 3\n",
            "      a     b     c\n",
            "  <dbl> <dbl> <dbl>\n",
            "1     1     2     3\n",
            "2     4    NA     6\n"
          ]
        }
      ],
      "source": [
        "# but if you want NA to be -1 instead: \n",
        "read_csv(\n",
        "    \"a, b, c\n",
        "     1, 2, 3\n",
        "     4, -1, 6\n",
        "\", na = \"-1\") %>% print"
      ]
    },
    {
      "cell_type": "markdown",
      "metadata": {
        "id": "tyj8ZHDzvEVE"
      },
      "source": [
        "## How Parsing Works\n",
        "\n",
        "Automatically figure out data type based on values.\n",
        "\n",
        "If you already know what format each col has, rather than hoping it guesses correctly, you can simply tell that to R: "
      ]
    },
    {
      "cell_type": "code",
      "source": [
        "read_csv(\"\n",
        "a,b\n",
        "1,2\n",
        "'b',3\",\n",
        "col_types=list(\n",
        "  a=col_character(),\n",
        "  b=col_character()\n",
        "))%>%print"
      ],
      "metadata": {
        "colab": {
          "base_uri": "https://localhost:8080/"
        },
        "id": "oKqN3OR9vl1j",
        "outputId": "ceed3f5c-d8ba-4167-b1f6-98c8bd3c65a4"
      },
      "execution_count": 43,
      "outputs": [
        {
          "output_type": "stream",
          "name": "stdout",
          "text": [
            "\u001b[90m# A tibble: 2 × 2\u001b[39m\n",
            "  a     b    \n",
            "  \u001b[3m\u001b[90m<chr>\u001b[39m\u001b[23m \u001b[3m\u001b[90m<chr>\u001b[39m\u001b[23m\n",
            "\u001b[90m1\u001b[39m 1     2    \n",
            "\u001b[90m2\u001b[39m 'b'   3    \n"
          ]
        }
      ]
    },
    {
      "cell_type": "markdown",
      "metadata": {
        "id": "RUldas23laRE"
      },
      "source": [
        "## Example of a real-world CSV"
      ]
    },
    {
      "cell_type": "markdown",
      "metadata": {
        "id": "WcWedExAlaRE"
      },
      "source": [
        "![nytimes china story](https://i.imgur.com/c0KGOZ8.png)\n"
      ]
    },
    {
      "cell_type": "markdown",
      "metadata": {
        "id": "SVgUGtnllaRE"
      },
      "source": [
        "Recently we saw in the news that the population of China shrank for the first time in more than sixty years. This has major implications for China and the world as a whole. \n",
        "\n",
        "Let's study this phenomenon in data, which will give us a chance to practice importing CSV and Excel files."
      ]
    },
    {
      "cell_type": "code",
      "execution_count": null,
      "metadata": {
        "id": "Bvdg1-pWlaRE"
      },
      "outputs": [],
      "source": [
        "?read_csv"
      ]
    },
    {
      "cell_type": "markdown",
      "metadata": {
        "id": "7cw42FfulaRE"
      },
      "source": [
        "First I visited the World Bank. They have data on total population size as well as fertility rates across all countries, from about the 1950s to present:\n",
        "- [Population](https://data.worldbank.org/indicator/SP.POP.TOTL)\n",
        "- [Fertility rate](https://data.worldbank.org/indicator/SP.DYN.TFRT.IN)\n"
      ]
    },
    {
      "cell_type": "markdown",
      "metadata": {
        "id": "2PdShPfslaRE"
      },
      "source": [
        "Each of these web pages contains a link to a downloadable CSV file. You can download them to your local computer by running the following code:"
      ]
    },
    {
      "cell_type": "code",
      "execution_count": null,
      "metadata": {
        "id": "hYA7Uu4HlaRF",
        "outputId": "1265134c-fa37-4144-b45c-dee0ef0595f2"
      },
      "outputs": [
        {
          "data": {
            "text/html": [
              "<table class=\"dataframe\">\n",
              "<caption>A spec_tbl_df: 3 × 2</caption>\n",
              "<thead>\n",
              "\t<tr><th scope=col>a</th><th scope=col>b</th></tr>\n",
              "\t<tr><th scope=col>&lt;chr&gt;</th><th scope=col>&lt;dbl&gt;</th></tr>\n",
              "</thead>\n",
              "<tbody>\n",
              "\t<tr><td>1  </td><td>3</td></tr>\n",
              "\t<tr><td>2  </td><td>4</td></tr>\n",
              "\t<tr><td>'s'</td><td>6</td></tr>\n",
              "</tbody>\n",
              "</table>\n"
            ],
            "text/latex": [
              "A spec\\_tbl\\_df: 3 × 2\n",
              "\\begin{tabular}{ll}\n",
              " a & b\\\\\n",
              " <chr> & <dbl>\\\\\n",
              "\\hline\n",
              "\t 1   & 3\\\\\n",
              "\t 2   & 4\\\\\n",
              "\t 's' & 6\\\\\n",
              "\\end{tabular}\n"
            ],
            "text/markdown": [
              "\n",
              "A spec_tbl_df: 3 × 2\n",
              "\n",
              "| a &lt;chr&gt; | b &lt;dbl&gt; |\n",
              "|---|---|\n",
              "| 1   | 3 |\n",
              "| 2   | 4 |\n",
              "| 's' | 6 |\n",
              "\n"
            ],
            "text/plain": [
              "  a   b\n",
              "1 1   3\n",
              "2 2   4\n",
              "3 's' 6"
            ]
          },
          "metadata": {},
          "output_type": "display_data"
        }
      ],
      "source": [
        "tbl"
      ]
    },
    {
      "cell_type": "code",
      "execution_count": 44,
      "metadata": {
        "id": "ppKck-__laRF"
      },
      "outputs": [],
      "source": [
        "for(x in c('fert', 'pop')) {\n",
        "    fn <- paste0('wb_', x, '.csv')\n",
        "    download.file(paste0('https://datasets.stats306.org/', fn), fn)\n",
        "}"
      ]
    },
    {
      "cell_type": "markdown",
      "metadata": {
        "id": "zdTg3N7KlaRF"
      },
      "source": [
        "First let's try loading the population dataset into R using `read_csv`:"
      ]
    },
    {
      "cell_type": "code",
      "execution_count": 45,
      "metadata": {
        "id": "W6d4vYU5laRG",
        "outputId": "86d84b41-a928-4abe-e0f9-7bede5f74cda",
        "colab": {
          "base_uri": "https://localhost:8080/"
        }
      },
      "outputs": [
        {
          "output_type": "stream",
          "name": "stderr",
          "text": [
            "\u001b[1m\u001b[22mNew names:\n",
            "\u001b[36m•\u001b[39m `` -> `...3`\n",
            "Warning message:\n",
            "“\u001b[1m\u001b[22mOne or more parsing issues, call `problems()` on your data frame for details,\n",
            "e.g.:\n",
            "  dat <- vroom(...)\n",
            "  problems(dat)”\n",
            "\u001b[1mRows: \u001b[22m\u001b[34m268\u001b[39m \u001b[1mColumns: \u001b[22m\u001b[34m3\u001b[39m\n",
            "\u001b[36m──\u001b[39m \u001b[1mColumn specification\u001b[22m \u001b[36m────────────────────────────────────────────────────────\u001b[39m\n",
            "\u001b[1mDelimiter:\u001b[22m \",\"\n",
            "\u001b[31mchr\u001b[39m (3): Data Source, World Development Indicators, ...3\n",
            "\n",
            "\u001b[36mℹ\u001b[39m Use `spec()` to retrieve the full column specification for this data.\n",
            "\u001b[36mℹ\u001b[39m Specify the column types or set `show_col_types = FALSE` to quiet this message.\n"
          ]
        }
      ],
      "source": [
        "wb_pop <- read_csv('wb_pop.csv')"
      ]
    },
    {
      "cell_type": "markdown",
      "metadata": {
        "id": "ShPKZxkQlaRG"
      },
      "source": [
        "We can see that R generated some warning messages when loading the CSV. And the data frame itself does not appear to have loaded correctly:"
      ]
    },
    {
      "cell_type": "code",
      "execution_count": 46,
      "metadata": {
        "id": "WgtsWnWrlaRG",
        "outputId": "3164fbca-d9e2-4b30-bdf6-ed43c179b0ec",
        "colab": {
          "base_uri": "https://localhost:8080/",
          "height": 480
        }
      },
      "outputs": [
        {
          "output_type": "display_data",
          "data": {
            "text/html": [
              "<table class=\"dataframe\">\n",
              "<caption>A tibble: 6 × 3</caption>\n",
              "<thead>\n",
              "\t<tr><th scope=col>Data Source</th><th scope=col>World Development Indicators</th><th scope=col>...3</th></tr>\n",
              "\t<tr><th scope=col>&lt;chr&gt;</th><th scope=col>&lt;chr&gt;</th><th scope=col>&lt;chr&gt;</th></tr>\n",
              "</thead>\n",
              "<tbody>\n",
              "\t<tr><td>Last Updated Date          </td><td>2022-12-22  </td><td>NA                                                                                                                                                                                                                                                                                                                                                                                                                                                                                                                                                                                                                                                                        </td></tr>\n",
              "\t<tr><td>Country Name               </td><td>Country Code</td><td>Indicator Name,Indicator Code,1960,1961,1962,1963,1964,1965,1966,1967,1968,1969,1970,1971,1972,1973,1974,1975,1976,1977,1978,1979,1980,1981,1982,1983,1984,1985,1986,1987,1988,1989,1990,1991,1992,1993,1994,1995,1996,1997,1998,1999,2000,2001,2002,2003,2004,2005,2006,2007,2008,2009,2010,2011,2012,2013,2014,2015,2016,2017,2018,2019,2020,2021,                                                                                                                                                                                                                                                                                                                      </td></tr>\n",
              "\t<tr><td>Aruba                      </td><td>ABW         </td><td>Population, total,SP.POP.TOTL,54608,55811,56682,57475,58178,58782,59291,59522,59471,59330,59106,58816,58855,59365,60028,60715,61193,61465,61738,62006,62267,62614,63116,63683,64174,64478,64553,64450,64332,64596,65712,67864,70192,72360,74710,77050,79417,81858,84355,86867,89101,90691,91781,92701,93540,94483,95606,96787,97996,99212,100341,101288,102112,102880,103594,104257,104874,105439,105962,106442,106585,106537,                                                                                                                                                                                                                                            </td></tr>\n",
              "\t<tr><td>Africa Eastern and Southern</td><td>AFE         </td><td>Population, total,SP.POP.TOTL,130692579,134169237,137835590,141630546,145605995,149742351,153955516,158313235,162875171,167596160,172475766,177503186,182599092,187901657,193512956,199284304,205202669,211120911,217481420,224315978,230967858,237937461,245386717,252779730,260209149,267938123,276035920,284490394,292795186,301124880,309890664,318544083,326933522,335625136,344418362,353466601,362985802,372352230,381715600,391486231,401600588,412001885,422741118,433807484,445281555,457153837,469508516,482406426,495748900,509410477,523459657,537792950,552530654,567891875,583650827,600008150,616377331,632746296,649756874,667242712,685112705,702976832,</td></tr>\n",
              "\t<tr><td>Afghanistan                </td><td>AFG         </td><td>Population, total,SP.POP.TOTL,8622466,8790140,8969047,9157465,9355514,9565147,9783147,10010030,10247780,10494489,10752971,11015857,11286753,11575305,11869879,12157386,12425267,12687301,12938862,12986369,12486631,11155195,10088289,9951449,10243686,10512221,10448442,10322758,10383460,10673168,10694796,10745167,12057433,14003760,15455555,16418912,17106595,17788819,18493132,19262847,19542982,19688632,21000256,22645130,23553551,24411191,25442944,25903301,26427199,27385307,28189672,29249157,30466479,31541209,32716210,33753499,34636207,35643418,36686784,37769499,38972230,40099462,                                                                      </td></tr>\n",
              "\t<tr><td>Africa Western and Central </td><td>AFW         </td><td>Population, total,SP.POP.TOTL,97256290,99314028,101445032,103667517,105959979,108336203,110798486,113319950,115921723,118615741,121424797,124336039,127364044,130563107,133953892,137548613,141258400,145122851,149206663,153459665,157825609,162323313,167023385,171566640,176054495,180817312,185720244,190759952,195969722,201392200,206739024,212172888,217966101,223788766,229675775,235861484,242200260,248713095,255482918,262397030,269611898,277160097,284952322,292977949,301265247,309824829,318601484,327612838,336893835,346475221,356337762,366489204,376797999,387204553,397855507,408690375,419778384,431138704,442646825,454306063,466189102,478185907,  </td></tr>\n",
              "</tbody>\n",
              "</table>\n"
            ],
            "text/markdown": "\nA tibble: 6 × 3\n\n| Data Source &lt;chr&gt; | World Development Indicators &lt;chr&gt; | ...3 &lt;chr&gt; |\n|---|---|---|\n| Last Updated Date           | 2022-12-22   | NA                                                                                                                                                                                                                                                                                                                                                                                                                                                                                                                                                                                                                                                                         |\n| Country Name                | Country Code | Indicator Name,Indicator Code,1960,1961,1962,1963,1964,1965,1966,1967,1968,1969,1970,1971,1972,1973,1974,1975,1976,1977,1978,1979,1980,1981,1982,1983,1984,1985,1986,1987,1988,1989,1990,1991,1992,1993,1994,1995,1996,1997,1998,1999,2000,2001,2002,2003,2004,2005,2006,2007,2008,2009,2010,2011,2012,2013,2014,2015,2016,2017,2018,2019,2020,2021,                                                                                                                                                                                                                                                                                                                       |\n| Aruba                       | ABW          | Population, total,SP.POP.TOTL,54608,55811,56682,57475,58178,58782,59291,59522,59471,59330,59106,58816,58855,59365,60028,60715,61193,61465,61738,62006,62267,62614,63116,63683,64174,64478,64553,64450,64332,64596,65712,67864,70192,72360,74710,77050,79417,81858,84355,86867,89101,90691,91781,92701,93540,94483,95606,96787,97996,99212,100341,101288,102112,102880,103594,104257,104874,105439,105962,106442,106585,106537,                                                                                                                                                                                                                                             |\n| Africa Eastern and Southern | AFE          | Population, total,SP.POP.TOTL,130692579,134169237,137835590,141630546,145605995,149742351,153955516,158313235,162875171,167596160,172475766,177503186,182599092,187901657,193512956,199284304,205202669,211120911,217481420,224315978,230967858,237937461,245386717,252779730,260209149,267938123,276035920,284490394,292795186,301124880,309890664,318544083,326933522,335625136,344418362,353466601,362985802,372352230,381715600,391486231,401600588,412001885,422741118,433807484,445281555,457153837,469508516,482406426,495748900,509410477,523459657,537792950,552530654,567891875,583650827,600008150,616377331,632746296,649756874,667242712,685112705,702976832, |\n| Afghanistan                 | AFG          | Population, total,SP.POP.TOTL,8622466,8790140,8969047,9157465,9355514,9565147,9783147,10010030,10247780,10494489,10752971,11015857,11286753,11575305,11869879,12157386,12425267,12687301,12938862,12986369,12486631,11155195,10088289,9951449,10243686,10512221,10448442,10322758,10383460,10673168,10694796,10745167,12057433,14003760,15455555,16418912,17106595,17788819,18493132,19262847,19542982,19688632,21000256,22645130,23553551,24411191,25442944,25903301,26427199,27385307,28189672,29249157,30466479,31541209,32716210,33753499,34636207,35643418,36686784,37769499,38972230,40099462,                                                                       |\n| Africa Western and Central  | AFW          | Population, total,SP.POP.TOTL,97256290,99314028,101445032,103667517,105959979,108336203,110798486,113319950,115921723,118615741,121424797,124336039,127364044,130563107,133953892,137548613,141258400,145122851,149206663,153459665,157825609,162323313,167023385,171566640,176054495,180817312,185720244,190759952,195969722,201392200,206739024,212172888,217966101,223788766,229675775,235861484,242200260,248713095,255482918,262397030,269611898,277160097,284952322,292977949,301265247,309824829,318601484,327612838,336893835,346475221,356337762,366489204,376797999,387204553,397855507,408690375,419778384,431138704,442646825,454306063,466189102,478185907,   |\n\n",
            "text/latex": "A tibble: 6 × 3\n\\begin{tabular}{lll}\n Data Source & World Development Indicators & ...3\\\\\n <chr> & <chr> & <chr>\\\\\n\\hline\n\t Last Updated Date           & 2022-12-22   & NA                                                                                                                                                                                                                                                                                                                                                                                                                                                                                                                                                                                                                                                                        \\\\\n\t Country Name                & Country Code & Indicator Name,Indicator Code,1960,1961,1962,1963,1964,1965,1966,1967,1968,1969,1970,1971,1972,1973,1974,1975,1976,1977,1978,1979,1980,1981,1982,1983,1984,1985,1986,1987,1988,1989,1990,1991,1992,1993,1994,1995,1996,1997,1998,1999,2000,2001,2002,2003,2004,2005,2006,2007,2008,2009,2010,2011,2012,2013,2014,2015,2016,2017,2018,2019,2020,2021,                                                                                                                                                                                                                                                                                                                      \\\\\n\t Aruba                       & ABW          & Population, total,SP.POP.TOTL,54608,55811,56682,57475,58178,58782,59291,59522,59471,59330,59106,58816,58855,59365,60028,60715,61193,61465,61738,62006,62267,62614,63116,63683,64174,64478,64553,64450,64332,64596,65712,67864,70192,72360,74710,77050,79417,81858,84355,86867,89101,90691,91781,92701,93540,94483,95606,96787,97996,99212,100341,101288,102112,102880,103594,104257,104874,105439,105962,106442,106585,106537,                                                                                                                                                                                                                                            \\\\\n\t Africa Eastern and Southern & AFE          & Population, total,SP.POP.TOTL,130692579,134169237,137835590,141630546,145605995,149742351,153955516,158313235,162875171,167596160,172475766,177503186,182599092,187901657,193512956,199284304,205202669,211120911,217481420,224315978,230967858,237937461,245386717,252779730,260209149,267938123,276035920,284490394,292795186,301124880,309890664,318544083,326933522,335625136,344418362,353466601,362985802,372352230,381715600,391486231,401600588,412001885,422741118,433807484,445281555,457153837,469508516,482406426,495748900,509410477,523459657,537792950,552530654,567891875,583650827,600008150,616377331,632746296,649756874,667242712,685112705,702976832,\\\\\n\t Afghanistan                 & AFG          & Population, total,SP.POP.TOTL,8622466,8790140,8969047,9157465,9355514,9565147,9783147,10010030,10247780,10494489,10752971,11015857,11286753,11575305,11869879,12157386,12425267,12687301,12938862,12986369,12486631,11155195,10088289,9951449,10243686,10512221,10448442,10322758,10383460,10673168,10694796,10745167,12057433,14003760,15455555,16418912,17106595,17788819,18493132,19262847,19542982,19688632,21000256,22645130,23553551,24411191,25442944,25903301,26427199,27385307,28189672,29249157,30466479,31541209,32716210,33753499,34636207,35643418,36686784,37769499,38972230,40099462,                                                                      \\\\\n\t Africa Western and Central  & AFW          & Population, total,SP.POP.TOTL,97256290,99314028,101445032,103667517,105959979,108336203,110798486,113319950,115921723,118615741,121424797,124336039,127364044,130563107,133953892,137548613,141258400,145122851,149206663,153459665,157825609,162323313,167023385,171566640,176054495,180817312,185720244,190759952,195969722,201392200,206739024,212172888,217966101,223788766,229675775,235861484,242200260,248713095,255482918,262397030,269611898,277160097,284952322,292977949,301265247,309824829,318601484,327612838,336893835,346475221,356337762,366489204,376797999,387204553,397855507,408690375,419778384,431138704,442646825,454306063,466189102,478185907,  \\\\\n\\end{tabular}\n",
            "text/plain": [
              "  Data Source                 World Development Indicators\n",
              "1 Last Updated Date           2022-12-22                  \n",
              "2 Country Name                Country Code                \n",
              "3 Aruba                       ABW                         \n",
              "4 Africa Eastern and Southern AFE                         \n",
              "5 Afghanistan                 AFG                         \n",
              "6 Africa Western and Central  AFW                         \n",
              "  ...3                                                                                                                                                                                                                                                                                                                                                                                                                                                                                                                                                                                                                                                                      \n",
              "1 NA                                                                                                                                                                                                                                                                                                                                                                                                                                                                                                                                                                                                                                                                        \n",
              "2 Indicator Name,Indicator Code,1960,1961,1962,1963,1964,1965,1966,1967,1968,1969,1970,1971,1972,1973,1974,1975,1976,1977,1978,1979,1980,1981,1982,1983,1984,1985,1986,1987,1988,1989,1990,1991,1992,1993,1994,1995,1996,1997,1998,1999,2000,2001,2002,2003,2004,2005,2006,2007,2008,2009,2010,2011,2012,2013,2014,2015,2016,2017,2018,2019,2020,2021,                                                                                                                                                                                                                                                                                                                      \n",
              "3 Population, total,SP.POP.TOTL,54608,55811,56682,57475,58178,58782,59291,59522,59471,59330,59106,58816,58855,59365,60028,60715,61193,61465,61738,62006,62267,62614,63116,63683,64174,64478,64553,64450,64332,64596,65712,67864,70192,72360,74710,77050,79417,81858,84355,86867,89101,90691,91781,92701,93540,94483,95606,96787,97996,99212,100341,101288,102112,102880,103594,104257,104874,105439,105962,106442,106585,106537,                                                                                                                                                                                                                                            \n",
              "4 Population, total,SP.POP.TOTL,130692579,134169237,137835590,141630546,145605995,149742351,153955516,158313235,162875171,167596160,172475766,177503186,182599092,187901657,193512956,199284304,205202669,211120911,217481420,224315978,230967858,237937461,245386717,252779730,260209149,267938123,276035920,284490394,292795186,301124880,309890664,318544083,326933522,335625136,344418362,353466601,362985802,372352230,381715600,391486231,401600588,412001885,422741118,433807484,445281555,457153837,469508516,482406426,495748900,509410477,523459657,537792950,552530654,567891875,583650827,600008150,616377331,632746296,649756874,667242712,685112705,702976832,\n",
              "5 Population, total,SP.POP.TOTL,8622466,8790140,8969047,9157465,9355514,9565147,9783147,10010030,10247780,10494489,10752971,11015857,11286753,11575305,11869879,12157386,12425267,12687301,12938862,12986369,12486631,11155195,10088289,9951449,10243686,10512221,10448442,10322758,10383460,10673168,10694796,10745167,12057433,14003760,15455555,16418912,17106595,17788819,18493132,19262847,19542982,19688632,21000256,22645130,23553551,24411191,25442944,25903301,26427199,27385307,28189672,29249157,30466479,31541209,32716210,33753499,34636207,35643418,36686784,37769499,38972230,40099462,                                                                      \n",
              "6 Population, total,SP.POP.TOTL,97256290,99314028,101445032,103667517,105959979,108336203,110798486,113319950,115921723,118615741,121424797,124336039,127364044,130563107,133953892,137548613,141258400,145122851,149206663,153459665,157825609,162323313,167023385,171566640,176054495,180817312,185720244,190759952,195969722,201392200,206739024,212172888,217966101,223788766,229675775,235861484,242200260,248713095,255482918,262397030,269611898,277160097,284952322,292977949,301265247,309824829,318601484,327612838,336893835,346475221,356337762,366489204,376797999,387204553,397855507,408690375,419778384,431138704,442646825,454306063,466189102,478185907,  "
            ]
          },
          "metadata": {}
        }
      ],
      "source": [
        "head(wb_pop)"
      ]
    },
    {
      "cell_type": "markdown",
      "metadata": {
        "id": "nOF8YQq0laRG"
      },
      "source": [
        "The `problems()` function can be helpful for diagnosing what went wrong:"
      ]
    },
    {
      "cell_type": "code",
      "execution_count": null,
      "metadata": {
        "id": "oE03f-oylaRG"
      },
      "outputs": [],
      "source": [
        "problems(wb_pop)\n",
        "# csv needs to end w/ a new line, not a comma\n",
        "# notice how this file has commas at the end of every row, so the last col is all NA values "
      ]
    },
    {
      "cell_type": "markdown",
      "metadata": {
        "id": "6ZYnTOCQlaRG"
      },
      "source": [
        "Let's try examining the [raw CSV file](wb_pop.csv):"
      ]
    },
    {
      "cell_type": "markdown",
      "metadata": {
        "id": "c_FwNVuqlaRG"
      },
      "source": [
        "We can see that the first three lines of the file contain metadata about the source of the data. We need to tell R to skip those so that the first row it considers contains the column names:"
      ]
    },
    {
      "cell_type": "code",
      "execution_count": null,
      "metadata": {
        "id": "hgtKtiztlaRH",
        "outputId": "9bb71320-6933-47b1-dd05-d2d3adfc0eb7"
      },
      "outputs": [
        {
          "name": "stderr",
          "output_type": "stream",
          "text": [
            "\u001b[1m\u001b[22mNew names:\n",
            "\u001b[36m•\u001b[39m `` -> `...67`\n",
            "\u001b[1mRows: \u001b[22m\u001b[34m266\u001b[39m \u001b[1mColumns: \u001b[22m\u001b[34m67\u001b[39m\n",
            "\u001b[36m──\u001b[39m \u001b[1mColumn specification\u001b[22m \u001b[36m──────────────────────────────────────────────────────────────────────────────────────────────────────────────────────\u001b[39m\n",
            "\u001b[1mDelimiter:\u001b[22m \",\"\n",
            "\u001b[31mchr\u001b[39m  (4): Country Name, Country Code, Indicator Name, Indicator Code\n",
            "\u001b[32mdbl\u001b[39m (62): 1960, 1961, 1962, 1963, 1964, 1965, 1966, 1967, 1968, 1969, 1970, ...\n",
            "\u001b[33mlgl\u001b[39m  (1): ...67\n",
            "\n",
            "\u001b[36mℹ\u001b[39m Use `spec()` to retrieve the full column specification for this data.\n",
            "\u001b[36mℹ\u001b[39m Specify the column types or set `show_col_types = FALSE` to quiet this message.\n"
          ]
        }
      ],
      "source": [
        "# read in the csv, skip first rows\n",
        "wb.pop <- read_csv(\"wb_pop.csv\", skip=3)\n",
        "# why 3? 2 random, describing lines + 1 header"
      ]
    },
    {
      "cell_type": "markdown",
      "metadata": {
        "id": "bW6iYOSFlaRH"
      },
      "source": [
        "Notice that there is also an extraneous 67-th column added to the very end of the data frame. This is because the rows of `wb_pop` all end in a comma."
      ]
    },
    {
      "cell_type": "code",
      "execution_count": 55,
      "metadata": {
        "id": "dW_8uKwDlaRH",
        "colab": {
          "base_uri": "https://localhost:8080/"
        },
        "outputId": "a5334e93-661b-4d80-a0fb-6039077e7a19"
      },
      "outputs": [
        {
          "output_type": "stream",
          "name": "stderr",
          "text": [
            "\u001b[1m\u001b[22mNew names:\n",
            "\u001b[36m•\u001b[39m `` -> `...67`\n",
            "\u001b[1mRows: \u001b[22m\u001b[34m266\u001b[39m \u001b[1mColumns: \u001b[22m\u001b[34m67\u001b[39m\n",
            "\u001b[36m──\u001b[39m \u001b[1mColumn specification\u001b[22m \u001b[36m────────────────────────────────────────────────────────\u001b[39m\n",
            "\u001b[1mDelimiter:\u001b[22m \",\"\n",
            "\u001b[31mchr\u001b[39m  (4): Country Name, Country Code, Indicator Name, Indicator Code\n",
            "\u001b[32mdbl\u001b[39m (61): 1960, 1961, 1962, 1963, 1964, 1965, 1966, 1967, 1968, 1969, 1970, ...\n",
            "\u001b[33mlgl\u001b[39m  (2): 2021, ...67\n",
            "\n",
            "\u001b[36mℹ\u001b[39m Use `spec()` to retrieve the full column specification for this data.\n",
            "\u001b[36mℹ\u001b[39m Specify the column types or set `show_col_types = FALSE` to quiet this message.\n"
          ]
        }
      ],
      "source": [
        "# load fertility dataset, using same ideas\n",
        "# wb.fert<-read_csv(\"wb_fert.csv\",skip=3)"
      ]
    },
    {
      "cell_type": "markdown",
      "metadata": {
        "id": "CH4MIBfhlaRH"
      },
      "source": [
        "What do these data tell us about falling birth rates in China?"
      ]
    },
    {
      "cell_type": "code",
      "execution_count": null,
      "metadata": {
        "id": "kosMJvctlaRH"
      },
      "outputs": [],
      "source": [
        "# fertility over time in China\n",
        "\n",
        "# wb.fert<-read_csv(\"wb_fert.csv\")\n",
        "\n",
        "# wb_longer<-wb.fert%>%filter('Country Name'=='China')%>%\n",
        "#   pivot_longer(cols=c('1960':'2020'),names_to = \"\",values_to = \"\")"
      ]
    },
    {
      "cell_type": "code",
      "source": [
        "# notice that year is a character, instead of a continuous variable: \n",
        "wb_longer%>%ggplot(aes(x='year',y='fert'))+\n",
        "  geom_point()+\n",
        "  geom_line()"
      ],
      "metadata": {
        "colab": {
          "base_uri": "https://localhost:8080/",
          "height": 151
        },
        "id": "tRvbc1ORx5-a",
        "outputId": "75d6212f-04b5-4ed4-a31e-5301600becf2"
      },
      "execution_count": 52,
      "outputs": [
        {
          "output_type": "error",
          "ename": "ERROR",
          "evalue": "ignored",
          "traceback": [
            "Error in ggplot(., aes(x = \"year\", y = \"fert\")): object 'wb_longer' not found\nTraceback:\n",
            "1. wb_longer %>% ggplot(aes(x = \"year\", y = \"fert\"))",
            "2. ggplot(., aes(x = \"year\", y = \"fert\"))"
          ]
        }
      ]
    },
    {
      "cell_type": "code",
      "source": [
        "# fix this:\n",
        "\n",
        "wb_longer$year<-parse_number(wb_longer$year)\n",
        "\n",
        "wb_longer%>%\n",
        "  ggplot(aes(x=\"year\",y=\"fert\"))+\n",
        "  geom_point()+\n",
        "  geom_line()"
      ],
      "metadata": {
        "id": "7usxLN0myaCj"
      },
      "execution_count": null,
      "outputs": []
    },
    {
      "cell_type": "markdown",
      "metadata": {
        "id": "TW-7iAr_laRH"
      },
      "source": [
        "## Reading data from spreadsheets\n",
        "\n",
        "Next we will continue our investigation in the population in China by turning to a different data source. The United Nations maintains a database called the [World Population Prospects](https://population.un.org/wpp/) which contains very detailed historical and forecasted demographic information for every country. We will use this dataset to learn more about the demographics of China."
      ]
    },
    {
      "cell_type": "markdown",
      "metadata": {
        "id": "1qi-Ykq8laRI"
      },
      "source": [
        "The main file we are interested is the \"compact\" version of the dataset. You can download it into your R workspace by running:"
      ]
    },
    {
      "cell_type": "code",
      "execution_count": null,
      "metadata": {
        "id": "KLv26QRQlaRJ"
      },
      "outputs": [],
      "source": [
        "wpp.url <- \"https://population.un.org/wpp/Download/Files/1_Indicators%20(Standard)/EXCEL_FILES/1_General/WPP2022_GEN_F01_DEMOGRAPHIC_INDICATORS_COMPACT_REV1.xlsx\",\n",
        "download.file(wpp.url, \"WPP2022_GEN_F01_DEMOGRAPHIC_INDICATORS_COMPACT_REV1.xlsx\")"
      ]
    },
    {
      "cell_type": "markdown",
      "metadata": {
        "id": "taTqB6RXlaRK"
      },
      "source": [
        "The `readxl` package (part of tidyverse) is used to read Excel files. It provides a command called `read_excel` which we will use to read Excel spreadsheet data into R."
      ]
    },
    {
      "cell_type": "code",
      "execution_count": null,
      "metadata": {
        "id": "sHklLvn6laRK",
        "outputId": "d5add828-d476-4216-ade7-517ab7f790ff"
      },
      "outputs": [
        {
          "name": "stderr",
          "output_type": "stream",
          "text": [
            "\u001b[1m\u001b[22mNew names:\n",
            "\u001b[36m•\u001b[39m `` -> `...1`\n",
            "\u001b[36m•\u001b[39m `` -> `...2`\n",
            "\u001b[36m•\u001b[39m `` -> `...3`\n",
            "\u001b[36m•\u001b[39m `` -> `...4`\n",
            "\u001b[36m•\u001b[39m `` -> `...6`\n",
            "\u001b[36m•\u001b[39m `` -> `...7`\n",
            "\u001b[36m•\u001b[39m `` -> `...8`\n",
            "\u001b[36m•\u001b[39m `` -> `...9`\n",
            "\u001b[36m•\u001b[39m `` -> `...10`\n",
            "\u001b[36m•\u001b[39m `` -> `...11`\n",
            "\u001b[36m•\u001b[39m `` -> `...12`\n",
            "\u001b[36m•\u001b[39m `` -> `...13`\n",
            "\u001b[36m•\u001b[39m `` -> `...14`\n",
            "\u001b[36m•\u001b[39m `` -> `...15`\n",
            "\u001b[36m•\u001b[39m `` -> `...16`\n",
            "\u001b[36m•\u001b[39m `` -> `...17`\n",
            "\u001b[36m•\u001b[39m `` -> `...18`\n",
            "\u001b[36m•\u001b[39m `` -> `...19`\n",
            "\u001b[36m•\u001b[39m `` -> `...20`\n",
            "\u001b[36m•\u001b[39m `` -> `...21`\n",
            "\u001b[36m•\u001b[39m `` -> `...22`\n",
            "\u001b[36m•\u001b[39m `` -> `...23`\n",
            "\u001b[36m•\u001b[39m `` -> `...24`\n",
            "\u001b[36m•\u001b[39m `` -> `...25`\n",
            "\u001b[36m•\u001b[39m `` -> `...26`\n",
            "\u001b[36m•\u001b[39m `` -> `...27`\n",
            "\u001b[36m•\u001b[39m `` -> `...28`\n",
            "\u001b[36m•\u001b[39m `` -> `...29`\n",
            "\u001b[36m•\u001b[39m `` -> `...30`\n",
            "\u001b[36m•\u001b[39m `` -> `...31`\n",
            "\u001b[36m•\u001b[39m `` -> `...32`\n",
            "\u001b[36m•\u001b[39m `` -> `...33`\n",
            "\u001b[36m•\u001b[39m `` -> `...34`\n",
            "\u001b[36m•\u001b[39m `` -> `...35`\n",
            "\u001b[36m•\u001b[39m `` -> `...36`\n",
            "\u001b[36m•\u001b[39m `` -> `...37`\n",
            "\u001b[36m•\u001b[39m `` -> `...38`\n",
            "\u001b[36m•\u001b[39m `` -> `...39`\n",
            "\u001b[36m•\u001b[39m `` -> `...40`\n",
            "\u001b[36m•\u001b[39m `` -> `...41`\n",
            "\u001b[36m•\u001b[39m `` -> `...42`\n",
            "\u001b[36m•\u001b[39m `` -> `...43`\n",
            "\u001b[36m•\u001b[39m `` -> `...44`\n",
            "\u001b[36m•\u001b[39m `` -> `...45`\n",
            "\u001b[36m•\u001b[39m `` -> `...46`\n",
            "\u001b[36m•\u001b[39m `` -> `...47`\n",
            "\u001b[36m•\u001b[39m `` -> `...48`\n",
            "\u001b[36m•\u001b[39m `` -> `...49`\n",
            "\u001b[36m•\u001b[39m `` -> `...50`\n",
            "\u001b[36m•\u001b[39m `` -> `...51`\n",
            "\u001b[36m•\u001b[39m `` -> `...52`\n",
            "\u001b[36m•\u001b[39m `` -> `...53`\n",
            "\u001b[36m•\u001b[39m `` -> `...54`\n",
            "\u001b[36m•\u001b[39m `` -> `...55`\n",
            "\u001b[36m•\u001b[39m `` -> `...56`\n",
            "\u001b[36m•\u001b[39m `` -> `...57`\n",
            "\u001b[36m•\u001b[39m `` -> `...58`\n",
            "\u001b[36m•\u001b[39m `` -> `...59`\n",
            "\u001b[36m•\u001b[39m `` -> `...60`\n",
            "\u001b[36m•\u001b[39m `` -> `...61`\n",
            "\u001b[36m•\u001b[39m `` -> `...62`\n",
            "\u001b[36m•\u001b[39m `` -> `...63`\n",
            "\u001b[36m•\u001b[39m `` -> `...64`\n",
            "\u001b[36m•\u001b[39m `` -> `...65`\n"
          ]
        }
      ],
      "source": [
        "library(readxl)\n",
        "wpp <- read_excel(\"WPP2022_GEN_F01_DEMOGRAPHIC_INDICATORS_COMPACT_REV1.xlsx\")"
      ]
    },
    {
      "cell_type": "markdown",
      "metadata": {
        "id": "vBkdwxs-laRK"
      },
      "source": [
        "It's clear that this import did not work well:"
      ]
    },
    {
      "cell_type": "code",
      "execution_count": null,
      "metadata": {
        "id": "Pk3jPIUolaRK",
        "outputId": "5b0da978-7b04-455c-aed3-7e5c2b332991"
      },
      "outputs": [
        {
          "data": {
            "text/html": [
              "<table class=\"dataframe\">\n",
              "<caption>A tibble: 6 × 65</caption>\n",
              "<thead>\n",
              "\t<tr><th scope=col>...1</th><th scope=col>...2</th><th scope=col>...3</th><th scope=col>...4</th><th scope=col>United Nations</th><th scope=col>...6</th><th scope=col>...7</th><th scope=col>...8</th><th scope=col>...9</th><th scope=col>...10</th><th scope=col>⋯</th><th scope=col>...56</th><th scope=col>...57</th><th scope=col>...58</th><th scope=col>...59</th><th scope=col>...60</th><th scope=col>...61</th><th scope=col>...62</th><th scope=col>...63</th><th scope=col>...64</th><th scope=col>...65</th></tr>\n",
              "\t<tr><th scope=col>&lt;chr&gt;</th><th scope=col>&lt;chr&gt;</th><th scope=col>&lt;chr&gt;</th><th scope=col>&lt;chr&gt;</th><th scope=col>&lt;chr&gt;</th><th scope=col>&lt;chr&gt;</th><th scope=col>&lt;chr&gt;</th><th scope=col>&lt;chr&gt;</th><th scope=col>&lt;chr&gt;</th><th scope=col>&lt;chr&gt;</th><th scope=col>⋯</th><th scope=col>&lt;chr&gt;</th><th scope=col>&lt;chr&gt;</th><th scope=col>&lt;chr&gt;</th><th scope=col>&lt;chr&gt;</th><th scope=col>&lt;chr&gt;</th><th scope=col>&lt;chr&gt;</th><th scope=col>&lt;chr&gt;</th><th scope=col>&lt;chr&gt;</th><th scope=col>&lt;chr&gt;</th><th scope=col>&lt;chr&gt;</th></tr>\n",
              "</thead>\n",
              "<tbody>\n",
              "\t<tr><td>NA</td><td>NA</td><td>NA</td><td>NA</td><td>Population Division                                                                              </td><td>NA</td><td>NA</td><td>NA</td><td>NA</td><td>NA</td><td>⋯</td><td>NA</td><td>NA</td><td>NA</td><td>NA</td><td>NA</td><td>NA</td><td>NA</td><td>NA</td><td>NA</td><td>NA</td></tr>\n",
              "\t<tr><td>NA</td><td>NA</td><td>NA</td><td>NA</td><td>Department of Economic and Social Affairs                                                        </td><td>NA</td><td>NA</td><td>NA</td><td>NA</td><td>NA</td><td>⋯</td><td>NA</td><td>NA</td><td>NA</td><td>NA</td><td>NA</td><td>NA</td><td>NA</td><td>NA</td><td>NA</td><td>NA</td></tr>\n",
              "\t<tr><td>NA</td><td>NA</td><td>NA</td><td>NA</td><td>NA                                                                                               </td><td>NA</td><td>NA</td><td>NA</td><td>NA</td><td>NA</td><td>⋯</td><td>NA</td><td>NA</td><td>NA</td><td>NA</td><td>NA</td><td>NA</td><td>NA</td><td>NA</td><td>NA</td><td>NA</td></tr>\n",
              "\t<tr><td>NA</td><td>NA</td><td>NA</td><td>NA</td><td>World Population Prospects 2022                                                                  </td><td>NA</td><td>NA</td><td>NA</td><td>NA</td><td>NA</td><td>⋯</td><td>NA</td><td>NA</td><td>NA</td><td>NA</td><td>NA</td><td>NA</td><td>NA</td><td>NA</td><td>NA</td><td>NA</td></tr>\n",
              "\t<tr><td>NA</td><td>NA</td><td>NA</td><td>NA</td><td>File GEN/01/REV1: Demographic indicators by region, subregion and country, annually for 1950-2100</td><td>NA</td><td>NA</td><td>NA</td><td>NA</td><td>NA</td><td>⋯</td><td>NA</td><td>NA</td><td>NA</td><td>NA</td><td>NA</td><td>NA</td><td>NA</td><td>NA</td><td>NA</td><td>NA</td></tr>\n",
              "\t<tr><td>NA</td><td>NA</td><td>NA</td><td>NA</td><td>Estimates, 1950 - 2021                                                                           </td><td>NA</td><td>NA</td><td>NA</td><td>NA</td><td>NA</td><td>⋯</td><td>NA</td><td>NA</td><td>NA</td><td>NA</td><td>NA</td><td>NA</td><td>NA</td><td>NA</td><td>NA</td><td>NA</td></tr>\n",
              "</tbody>\n",
              "</table>\n"
            ],
            "text/latex": [
              "A tibble: 6 × 65\n",
              "\\begin{tabular}{lllllllllllllllllllll}\n",
              " ...1 & ...2 & ...3 & ...4 & United Nations & ...6 & ...7 & ...8 & ...9 & ...10 & ⋯ & ...56 & ...57 & ...58 & ...59 & ...60 & ...61 & ...62 & ...63 & ...64 & ...65\\\\\n",
              " <chr> & <chr> & <chr> & <chr> & <chr> & <chr> & <chr> & <chr> & <chr> & <chr> & ⋯ & <chr> & <chr> & <chr> & <chr> & <chr> & <chr> & <chr> & <chr> & <chr> & <chr>\\\\\n",
              "\\hline\n",
              "\t NA & NA & NA & NA & Population Division                                                                               & NA & NA & NA & NA & NA & ⋯ & NA & NA & NA & NA & NA & NA & NA & NA & NA & NA\\\\\n",
              "\t NA & NA & NA & NA & Department of Economic and Social Affairs                                                         & NA & NA & NA & NA & NA & ⋯ & NA & NA & NA & NA & NA & NA & NA & NA & NA & NA\\\\\n",
              "\t NA & NA & NA & NA & NA                                                                                                & NA & NA & NA & NA & NA & ⋯ & NA & NA & NA & NA & NA & NA & NA & NA & NA & NA\\\\\n",
              "\t NA & NA & NA & NA & World Population Prospects 2022                                                                   & NA & NA & NA & NA & NA & ⋯ & NA & NA & NA & NA & NA & NA & NA & NA & NA & NA\\\\\n",
              "\t NA & NA & NA & NA & File GEN/01/REV1: Demographic indicators by region, subregion and country, annually for 1950-2100 & NA & NA & NA & NA & NA & ⋯ & NA & NA & NA & NA & NA & NA & NA & NA & NA & NA\\\\\n",
              "\t NA & NA & NA & NA & Estimates, 1950 - 2021                                                                            & NA & NA & NA & NA & NA & ⋯ & NA & NA & NA & NA & NA & NA & NA & NA & NA & NA\\\\\n",
              "\\end{tabular}\n"
            ],
            "text/markdown": [
              "\n",
              "A tibble: 6 × 65\n",
              "\n",
              "| ...1 &lt;chr&gt; | ...2 &lt;chr&gt; | ...3 &lt;chr&gt; | ...4 &lt;chr&gt; | United Nations &lt;chr&gt; | ...6 &lt;chr&gt; | ...7 &lt;chr&gt; | ...8 &lt;chr&gt; | ...9 &lt;chr&gt; | ...10 &lt;chr&gt; | ⋯ ⋯ | ...56 &lt;chr&gt; | ...57 &lt;chr&gt; | ...58 &lt;chr&gt; | ...59 &lt;chr&gt; | ...60 &lt;chr&gt; | ...61 &lt;chr&gt; | ...62 &lt;chr&gt; | ...63 &lt;chr&gt; | ...64 &lt;chr&gt; | ...65 &lt;chr&gt; |\n",
              "|---|---|---|---|---|---|---|---|---|---|---|---|---|---|---|---|---|---|---|---|---|\n",
              "| NA | NA | NA | NA | Population Division                                                                               | NA | NA | NA | NA | NA | ⋯ | NA | NA | NA | NA | NA | NA | NA | NA | NA | NA |\n",
              "| NA | NA | NA | NA | Department of Economic and Social Affairs                                                         | NA | NA | NA | NA | NA | ⋯ | NA | NA | NA | NA | NA | NA | NA | NA | NA | NA |\n",
              "| NA | NA | NA | NA | NA                                                                                                | NA | NA | NA | NA | NA | ⋯ | NA | NA | NA | NA | NA | NA | NA | NA | NA | NA |\n",
              "| NA | NA | NA | NA | World Population Prospects 2022                                                                   | NA | NA | NA | NA | NA | ⋯ | NA | NA | NA | NA | NA | NA | NA | NA | NA | NA |\n",
              "| NA | NA | NA | NA | File GEN/01/REV1: Demographic indicators by region, subregion and country, annually for 1950-2100 | NA | NA | NA | NA | NA | ⋯ | NA | NA | NA | NA | NA | NA | NA | NA | NA | NA |\n",
              "| NA | NA | NA | NA | Estimates, 1950 - 2021                                                                            | NA | NA | NA | NA | NA | ⋯ | NA | NA | NA | NA | NA | NA | NA | NA | NA | NA |\n",
              "\n"
            ],
            "text/plain": [
              "  ...1 ...2 ...3 ...4\n",
              "1 NA   NA   NA   NA  \n",
              "2 NA   NA   NA   NA  \n",
              "3 NA   NA   NA   NA  \n",
              "4 NA   NA   NA   NA  \n",
              "5 NA   NA   NA   NA  \n",
              "6 NA   NA   NA   NA  \n",
              "  United Nations                                                                                   \n",
              "1 Population Division                                                                              \n",
              "2 Department of Economic and Social Affairs                                                        \n",
              "3 NA                                                                                               \n",
              "4 World Population Prospects 2022                                                                  \n",
              "5 File GEN/01/REV1: Demographic indicators by region, subregion and country, annually for 1950-2100\n",
              "6 Estimates, 1950 - 2021                                                                           \n",
              "  ...6 ...7 ...8 ...9 ...10 ⋯ ...56 ...57 ...58 ...59 ...60 ...61 ...62 ...63\n",
              "1 NA   NA   NA   NA   NA    ⋯ NA    NA    NA    NA    NA    NA    NA    NA   \n",
              "2 NA   NA   NA   NA   NA    ⋯ NA    NA    NA    NA    NA    NA    NA    NA   \n",
              "3 NA   NA   NA   NA   NA    ⋯ NA    NA    NA    NA    NA    NA    NA    NA   \n",
              "4 NA   NA   NA   NA   NA    ⋯ NA    NA    NA    NA    NA    NA    NA    NA   \n",
              "5 NA   NA   NA   NA   NA    ⋯ NA    NA    NA    NA    NA    NA    NA    NA   \n",
              "6 NA   NA   NA   NA   NA    ⋯ NA    NA    NA    NA    NA    NA    NA    NA   \n",
              "  ...64 ...65\n",
              "1 NA    NA   \n",
              "2 NA    NA   \n",
              "3 NA    NA   \n",
              "4 NA    NA   \n",
              "5 NA    NA   \n",
              "6 NA    NA   "
            ]
          },
          "metadata": {},
          "output_type": "display_data"
        }
      ],
      "source": [
        "head(wpp)"
      ]
    },
    {
      "cell_type": "markdown",
      "metadata": {
        "id": "kkBVLtU4laRK"
      },
      "source": [
        "It turns out that this is a really big spreadsheet containing a lot of data, and it's not in a format we can easily import. To understand how best to import it, it helps to look at it in Excel for a time:"
      ]
    },
    {
      "cell_type": "markdown",
      "metadata": {
        "id": "57FclXX_laRK"
      },
      "source": [
        "We can see that:\n",
        "- The column names are spread across multiple rows.\n",
        "- There are thousands of rows of data, but we only care about a small number of them (those pertaining to China).\n",
        "- Similarly, there are hundreds of columns of data, but we only care about a small number of them. "
      ]
    },
    {
      "cell_type": "markdown",
      "metadata": {
        "id": "Zcdt9dITlaRL"
      },
      "source": [
        "First, we need to skip a large number of initial rows which contain sourcing information. We can do that using the `skip=` option."
      ]
    },
    {
      "cell_type": "code",
      "execution_count": null,
      "metadata": {
        "id": "VONK8kwilaRL"
      },
      "outputs": [],
      "source": [
        "# read file, skipping rows"
      ]
    },
    {
      "cell_type": "markdown",
      "metadata": {
        "id": "JietIk2LlaRL"
      },
      "source": [
        "Next, we will only load the rows that are about China. \n",
        "(We can easily find these using Excel and the \"filter\" command:)"
      ]
    },
    {
      "cell_type": "code",
      "execution_count": null,
      "metadata": {
        "id": "XhYXurqalaRL"
      },
      "outputs": [],
      "source": [
        "# read wpp excel, subset china"
      ]
    },
    {
      "cell_type": "markdown",
      "metadata": {
        "id": "_7soALL8laRL"
      },
      "source": [
        "(Or, we could have just loaded the entire dataset and used `filter()` but this is slower.)"
      ]
    },
    {
      "cell_type": "markdown",
      "metadata": {
        "id": "n9kLaupolaRL"
      },
      "source": [
        "## Understanding demographic change in China\n",
        "Finally, we can use these data to study more factors that contributed to declining fertility rates in China."
      ]
    },
    {
      "cell_type": "code",
      "execution_count": null,
      "metadata": {
        "id": "uVfr8X4tlaRL"
      },
      "outputs": [],
      "source": [
        "# sex ratio at birth over time"
      ]
    },
    {
      "cell_type": "code",
      "execution_count": null,
      "metadata": {
        "id": "u02yYqtzlaRL"
      },
      "outputs": [],
      "source": [
        "# dependency ratio over time"
      ]
    },
    {
      "cell_type": "code",
      "execution_count": null,
      "metadata": {
        "id": "fUlM2KwKlaRL"
      },
      "outputs": [],
      "source": [
        "# net number of migrants over time"
      ]
    }
  ],
  "metadata": {
    "celltoolbar": "Slideshow",
    "kernelspec": {
      "display_name": "R",
      "language": "R",
      "name": "ir"
    },
    "language_info": {
      "codemirror_mode": "r",
      "file_extension": ".r",
      "mimetype": "text/x-r-source",
      "name": "R",
      "pygments_lexer": "r",
      "version": "4.2.1"
    },
    "colab": {
      "provenance": [],
      "include_colab_link": true
    }
  },
  "nbformat": 4,
  "nbformat_minor": 0
}