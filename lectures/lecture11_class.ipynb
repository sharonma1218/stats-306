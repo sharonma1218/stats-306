{
  "cells": [
    {
      "cell_type": "markdown",
      "metadata": {
        "id": "view-in-github",
        "colab_type": "text"
      },
      "source": [
        "<a href=\"https://colab.research.google.com/github/sharonma1218/stats-306/blob/main/lecture11_class.ipynb\" target=\"_parent\"><img src=\"https://colab.research.google.com/assets/colab-badge.svg\" alt=\"Open In Colab\"/></a>"
      ]
    },
    {
      "cell_type": "code",
      "execution_count": null,
      "metadata": {
        "scrolled": true,
        "id": "dOLNUmDx4d2o",
        "outputId": "cbcc8297-5d96-433c-8c66-13cb5482da29",
        "colab": {
          "base_uri": "https://localhost:8080/"
        }
      },
      "outputs": [
        {
          "output_type": "stream",
          "name": "stderr",
          "text": [
            "Warning message in system(\"timedatectl\", intern = TRUE):\n",
            "“running command 'timedatectl' had status 1”\n",
            "── \u001b[1mAttaching packages\u001b[22m ─────────────────────────────────────── tidyverse 1.3.1 ──\n",
            "\n",
            "\u001b[32m✔\u001b[39m \u001b[34mggplot2\u001b[39m 3.4.1     \u001b[32m✔\u001b[39m \u001b[34mpurrr  \u001b[39m 1.0.1\n",
            "\u001b[32m✔\u001b[39m \u001b[34mtibble \u001b[39m 3.1.8     \u001b[32m✔\u001b[39m \u001b[34mdplyr  \u001b[39m 1.1.0\n",
            "\u001b[32m✔\u001b[39m \u001b[34mtidyr  \u001b[39m 1.3.0     \u001b[32m✔\u001b[39m \u001b[34mstringr\u001b[39m 1.4.1\n",
            "\u001b[32m✔\u001b[39m \u001b[34mreadr  \u001b[39m 2.1.4     \u001b[32m✔\u001b[39m \u001b[34mforcats\u001b[39m 1.0.0\n",
            "\n",
            "── \u001b[1mConflicts\u001b[22m ────────────────────────────────────────── tidyverse_conflicts() ──\n",
            "\u001b[31m✖\u001b[39m \u001b[34mdplyr\u001b[39m::\u001b[32mfilter()\u001b[39m masks \u001b[34mstats\u001b[39m::filter()\n",
            "\u001b[31m✖\u001b[39m \u001b[34mdplyr\u001b[39m::\u001b[32mlag()\u001b[39m    masks \u001b[34mstats\u001b[39m::lag()\n",
            "\n",
            "\n",
            "Attaching package: ‘rvest’\n",
            "\n",
            "\n",
            "The following object is masked from ‘package:readr’:\n",
            "\n",
            "    guess_encoding\n",
            "\n",
            "\n"
          ]
        }
      ],
      "source": [
        "library(tidyverse)\n",
        "library(rvest) # don't need to install this "
      ]
    },
    {
      "cell_type": "markdown",
      "metadata": {
        "id": "J50A7-uh4d2x"
      },
      "source": [
        "# Lecture 11: Web scraping\n",
        "\n",
        "<div style=\"border: 1px double black; padding: 10px; margin: 10px\">\n",
        "\n",
        "**After today's lecture you will:**\n",
        "* Understand how to import data from online sources by scraping web pages.\n",
        "</div>\n",
        "\n",
        "These notes correspond to Chapter 26 of your book.\n"
      ]
    },
    {
      "cell_type": "markdown",
      "metadata": {
        "id": "t41x9_KG4d2z"
      },
      "source": [
        "## Ethics of scraping data online\n",
        "You should carefully read [Section 26.2](https://r4ds.hadley.nz/webscraping.html#scraping-ethics-and-legalities) of the book concerning various ethical and legal issues surrounding scraping web sites for data. In this class we will only look at large, public web sites like Wikipedia and IMDB, where there is no risk of anything bad happening. However, there are other situations where it may be unethical, or even illegal, to harvest data from a website, even if you are technically able. **As data scientists in the real world, it will be up to you to carefully weigh these concerns before using the tools discussed in today's lecture.**"
      ]
    },
    {
      "cell_type": "markdown",
      "metadata": {
        "id": "0IErrYPa4d20"
      },
      "source": [
        "## Reading data from the Internet\n",
        "These days, it's increasingly common to pull data from online sources. For example, say I wanted to know the population of European countries. This is [easily found](https://en.wikipedia.org/wiki/Demographics_of_Europe#Population_by_country) on Wikipedia. How can I get these data into R and analyze them?"
      ]
    },
    {
      "cell_type": "markdown",
      "metadata": {
        "id": "U5O8x8kI4d20"
      },
      "source": [
        "## How do web pages work?\n",
        "\n",
        "Web pages are written in a special language called HTML (**H**yper**t**ext **M**arkup **L**anguage). Here is a simple example of some HTML:\n",
        "\n",
        "    <html>\n",
        "    <head> \n",
        "      <title>Page title</title>\n",
        "    </head>\n",
        "    <body>\n",
        "      <h1 id='first'>A heading</h1>\n",
        "      <p>Some text &amp; <b>some bold text.</b></p>\n",
        "      <img src='myimg.png' width='100' height='100'>\n",
        "    </body>\n",
        "    </html>"
      ]
    },
    {
      "cell_type": "markdown",
      "metadata": {
        "id": "l7gpPe2K4d20"
      },
      "source": [
        "Web scraping is possible because most web pages have a consistent, hierarchical structure. For example, if I asked you how to navigate to the title of the web page shown above, you would follow the \"path\"\n",
        "\n",
        "    html > head > title\n",
        "    \n",
        "to arrive at \"Page title\"."
      ]
    },
    {
      "cell_type": "markdown",
      "metadata": {
        "id": "w3WDrXHk4d22"
      },
      "source": [
        "## HTML elements\n",
        "\n",
        "There are a lot of HTML elements that might contain interesting information. Here are a few of the most common:\n",
        "- Block tags that denote sections of text: `<h1>` (heading), `<p>` (paragraph), `<ul>`/`<ol>` (un)ordered list, etc.\n",
        "- `<table>` (a table), `<tr>` (a table row), `<td>` (a table cell), etc.\n",
        "- Each of these elements can contain attributes such as `id=` or `class=`. For example, `<table id=\"movies\">` is probably a table that contains movie information."
      ]
    },
    {
      "cell_type": "markdown",
      "metadata": {
        "id": "BTwPhSP84d23"
      },
      "source": [
        "The `rvest` package is used to load a web page and extract elements and tables based on their HTML tags. Let's see how it works by scraping the Wikipedia page mentioned earlier:"
      ]
    },
    {
      "cell_type": "code",
      "execution_count": 3,
      "metadata": {
        "id": "CAPezgVf4d23"
      },
      "outputs": [],
      "source": [
        "europop <- read_html(\"http://en.wikipedia.org/wiki/Demographics_of_Europe#Population_by_country\") \n",
        "# the entire html pg"
      ]
    },
    {
      "cell_type": "markdown",
      "metadata": {
        "id": "I_gd4aS64d23"
      },
      "source": [
        "In this page there are many tables:"
      ]
    },
    {
      "cell_type": "code",
      "execution_count": 5,
      "metadata": {
        "id": "0GM1H95M4d24",
        "outputId": "fd6334d6-7558-4862-b01d-0cebdea4254d",
        "colab": {
          "base_uri": "https://localhost:8080/",
          "height": 338
        }
      },
      "outputs": [
        {
          "output_type": "display_data",
          "data": {
            "text/plain": [
              "{xml_nodeset (17)}\n",
              " [1] <table class=\"wikitable\">\\n<caption>Population of Europe, in millions, b ...\n",
              " [2] <table class=\"wikitable sortable\" style=\"text-align:right;\">\\n<caption>P ...\n",
              " [3] <table class=\"wikitable sortable\" style=\"text-align:right;\">\\n<caption>( ...\n",
              " [4] <table class=\"wikitable sortable\" style=\"text-align: right;\">\\n<caption> ...\n",
              " [5] <table class=\"wikitable sortable static-row-numbers plainrowheaders srn- ...\n",
              " [6] <table class=\"nowraplinks mw-collapsible autocollapse navbox-inner\" styl ...\n",
              " [7] <table class=\"nowraplinks mw-collapsible autocollapse navbox-inner\" styl ...\n",
              " [8] <table class=\"nowraplinks mw-collapsible autocollapse navbox-inner\" styl ...\n",
              " [9] <table class=\"nowraplinks hlist mw-collapsible autocollapse navbox-inner ...\n",
              "[10] <table class=\"nowraplinks navbox-subgroup\" style=\"border-spacing:0\"><tbo ...\n",
              "[11] <table class=\"nowraplinks navbox-subgroup\" style=\"border-spacing:0\"><tbo ...\n",
              "[12] <table class=\"nowraplinks navbox-subgroup\" style=\"border-spacing:0\"><tbo ...\n",
              "[13] <table class=\"nowraplinks navbox-subgroup\" style=\"border-spacing:0\"><tbo ...\n",
              "[14] <table class=\"nowraplinks navbox-subgroup\" style=\"border-spacing:0\"><tbo ...\n",
              "[15] <table class=\"nowraplinks navbox-subgroup\" style=\"border-spacing:0\"><tbo ...\n",
              "[16] <table class=\"nowraplinks navbox-subgroup\" style=\"border-spacing:0\"><tbo ...\n",
              "[17] <table class=\"nowraplinks hlist mw-collapsible autocollapse navbox-inner ..."
            ]
          },
          "metadata": {}
        }
      ],
      "source": [
        "europop %>% html_elements(\"table\")"
      ]
    },
    {
      "cell_type": "markdown",
      "metadata": {
        "id": "44uMgTpP4d24"
      },
      "source": [
        "How can we find the correct one? One option is to use our browser to find something that uniquely identifies the table that we want. Alternatively, since there are only about 17, we can just at each table until we find the one we want:"
      ]
    },
    {
      "cell_type": "code",
      "source": [
        "wiki_tables<-europop%>%\n",
        "  html_elements(\"table.wikitable.sortable\")%>% # found thru inspect element \n",
        "  html_table\n",
        "wiki_tables"
      ],
      "metadata": {
        "id": "WdcYgWGcA5ls"
      },
      "execution_count": null,
      "outputs": []
    },
    {
      "cell_type": "markdown",
      "source": [
        "Get third table, select the first two columns, slice off the first row using slice(), convert the datatypes of the columns using as.integer() & parse_number()\n",
        "\n"
      ],
      "metadata": {
        "id": "ZY1ag-a0BsAf"
      }
    },
    {
      "cell_type": "code",
      "source": [
        "wiki_tables[[3]]%>%\n",
        "  select(1:3) %>% # however, the first row is repeated, so we want to remove it using slice\n",
        "  slice(-1) %>% # every row except for the first one. but now we want to convert the <chr> cols to <num> so we use as.integer or parse_number\n",
        "  mutate(Year=as.integer(Year),\n",
        "Averagepopulation=parse_number(Averagepopulation),\n",
        "b=parse_number('Live births'))"
      ],
      "metadata": {
        "id": "vhU3pI70Bqpl"
      },
      "execution_count": null,
      "outputs": []
    },
    {
      "cell_type": "markdown",
      "metadata": {
        "id": "FQ7uQcEj4d24"
      },
      "source": [
        "## 🤔 Quiz\n",
        "\n",
        "What's the average population density ($\\text{persons}/\\text{km}^2$) for countries in Europe?\n",
        "\n",
        "<ol style=\"list-style-type: upper-alpha;\">\n",
        "    <li>1234.5</li>\n",
        "    <li>20000.0</li>\n",
        "    <li>611.8</li>\n",
        "    <li>6520.5</li>\n",
        "    <li>101.1</li>\n",
        "</ol>\n",
        "\n"
      ]
    },
    {
      "cell_type": "code",
      "source": [
        "wiki_tables[[4]] %>% colnames"
      ],
      "metadata": {
        "colab": {
          "base_uri": "https://localhost:8080/",
          "height": 34
        },
        "id": "_L5Q2JktDdJK",
        "outputId": "e0f8df6d-0509-416a-a311-496c4a2546ff"
      },
      "execution_count": 19,
      "outputs": [
        {
          "output_type": "display_data",
          "data": {
            "text/html": [
              "<style>\n",
              ".list-inline {list-style: none; margin:0; padding: 0}\n",
              ".list-inline>li {display: inline-block}\n",
              ".list-inline>li:not(:last-child)::after {content: \"\\00b7\"; padding: 0 .5ex}\n",
              "</style>\n",
              "<ol class=list-inline><li>'Country (or territory)'</li><li>'Population[1][2]'</li><li>'Area.mw-parser-output .nobold{font-weight:normal}(km2)[14]'</li><li>'Density(per km2)'</li><li>'Capital'</li></ol>\n"
            ],
            "text/markdown": "1. 'Country (or territory)'\n2. 'Population[1][2]'\n3. 'Area.mw-parser-output .nobold{font-weight:normal}(km2)[14]'\n4. 'Density(per km2)'\n5. 'Capital'\n\n\n",
            "text/latex": "\\begin{enumerate*}\n\\item 'Country (or territory)'\n\\item 'Population{[}1{]}{[}2{]}'\n\\item 'Area.mw-parser-output .nobold\\{font-weight:normal\\}(km2){[}14{]}'\n\\item 'Density(per km2)'\n\\item 'Capital'\n\\end{enumerate*}\n",
            "text/plain": [
              "[1] \"Country (or territory)\"                                    \n",
              "[2] \"Population[1][2]\"                                          \n",
              "[3] \"Area.mw-parser-output .nobold{font-weight:normal}(km2)[14]\"\n",
              "[4] \"Density(per km2)\"                                          \n",
              "[5] \"Capital\"                                                   "
            ]
          },
          "metadata": {}
        }
      ]
    },
    {
      "cell_type": "code",
      "source": [
        "wiki_tables[[4]]%>% \n",
        "  select(\"Country (or territory)\",\"Density(per km2)\")%>%\n",
        "  rename(country=\"Country (or territory)\",\n",
        "  density=\"Density(per km2)\")%>%\n",
        "  mutate(density=as.integer(density))"
      ],
      "metadata": {
        "colab": {
          "base_uri": "https://localhost:8080/",
          "height": 219
        },
        "id": "_6sZAoYdDhPH",
        "outputId": "d0b3fa71-03fa-4643-be4e-c6e1b5857d45"
      },
      "execution_count": 44,
      "outputs": [
        {
          "output_type": "stream",
          "name": "stderr",
          "text": [
            "Warning message:\n",
            "“\u001b[1m\u001b[22mThere was 1 warning in `mutate()`.\n",
            "\u001b[1m\u001b[22m\u001b[36mℹ\u001b[39m In argument: `density = as.integer(density)`.\n",
            "Caused by warning:\n",
            "\u001b[33m!\u001b[39m NAs introduced by coercion”\n"
          ]
        },
        {
          "output_type": "display_data",
          "data": {
            "text/html": [
              "<table class=\"dataframe\">\n",
              "<caption>A tibble: 1 × 1</caption>\n",
              "<thead>\n",
              "\t<tr><th scope=col>avg_density</th></tr>\n",
              "\t<tr><th scope=col>&lt;dbl&gt;</th></tr>\n",
              "</thead>\n",
              "<tbody>\n",
              "\t<tr><td>NA</td></tr>\n",
              "</tbody>\n",
              "</table>\n"
            ],
            "text/markdown": "\nA tibble: 1 × 1\n\n| avg_density &lt;dbl&gt; |\n|---|\n| NA |\n\n",
            "text/latex": "A tibble: 1 × 1\n\\begin{tabular}{l}\n avg\\_density\\\\\n <dbl>\\\\\n\\hline\n\t NA\\\\\n\\end{tabular}\n",
            "text/plain": [
              "  avg_density\n",
              "1 NA         "
            ]
          },
          "metadata": {}
        }
      ]
    },
    {
      "cell_type": "code",
      "source": [
        "wiki_tables[[4]]%>%\n",
        "  select(dens='Density(per km2)')%>%\n",
        "  mutate(dens=parse_number(dens))%>%\n",
        "  summarize(avg=mean(dens))"
      ],
      "metadata": {
        "colab": {
          "base_uri": "https://localhost:8080/",
          "height": 147
        },
        "id": "63KHXOAuFLgh",
        "outputId": "6abf3519-69d5-4dbe-d74a-05f0d771b1ec"
      },
      "execution_count": 43,
      "outputs": [
        {
          "output_type": "display_data",
          "data": {
            "text/html": [
              "<table class=\"dataframe\">\n",
              "<caption>A tibble: 1 × 1</caption>\n",
              "<thead>\n",
              "\t<tr><th scope=col>avg</th></tr>\n",
              "\t<tr><th scope=col>&lt;dbl&gt;</th></tr>\n",
              "</thead>\n",
              "<tbody>\n",
              "\t<tr><td>611.819</td></tr>\n",
              "</tbody>\n",
              "</table>\n"
            ],
            "text/markdown": "\nA tibble: 1 × 1\n\n| avg &lt;dbl&gt; |\n|---|\n| 611.819 |\n\n",
            "text/latex": "A tibble: 1 × 1\n\\begin{tabular}{l}\n avg\\\\\n <dbl>\\\\\n\\hline\n\t 611.819\\\\\n\\end{tabular}\n",
            "text/plain": [
              "  avg    \n",
              "1 611.819"
            ]
          },
          "metadata": {}
        }
      ]
    },
    {
      "cell_type": "markdown",
      "metadata": {
        "id": "l9V1YzAq4d27"
      },
      "source": [
        "## 🤔 Quiz\n",
        "\n",
        "Use the same page Wikipedia page (Demographics of Europe) to answer the following question:\n",
        "\n",
        "On average, how many people were born *each day* in Europe between 2010 and 2021 (inclusive)?\n",
        "\n",
        "<ol style=\"list-style-type: upper-alpha;\">\n",
        "    <li>90210.10</li>\n",
        "    <li>23043.97</li>\n",
        "    <li>7710127</li>\n",
        "    <li>21123.64</li>\n",
        "    <li>21109.18</li>\n",
        "</ol>\n",
        "\n"
      ]
    },
    {
      "cell_type": "code",
      "source": [
        "library(lubridate)"
      ],
      "metadata": {
        "colab": {
          "base_uri": "https://localhost:8080/"
        },
        "id": "Fbx552vRF61s",
        "outputId": "d04f3b20-dc16-465a-c0dc-654d043d5521"
      },
      "execution_count": 48,
      "outputs": [
        {
          "output_type": "stream",
          "name": "stderr",
          "text": [
            "\n",
            "Attaching package: ‘lubridate’\n",
            "\n",
            "\n",
            "The following objects are masked from ‘package:base’:\n",
            "\n",
            "    date, intersect, setdiff, union\n",
            "\n",
            "\n"
          ]
        }
      ]
    },
    {
      "cell_type": "code",
      "source": [
        "wiki_tables[[3]]%>%\n",
        "  select(year='Year',births='Live births')%>%\n",
        "  mutate(year=parse_number(year),\n",
        "  births=parse_number(births))%>%\n",
        "  filter(year>=2010 & year<=2021)%>%\n",
        "  summarize(total=sum(births)) "
      ],
      "metadata": {
        "colab": {
          "base_uri": "https://localhost:8080/",
          "height": 308
        },
        "id": "-tfX6EGkGYC6",
        "outputId": "60c32421-64c2-4b3e-94b3-1a04f84bc25b"
      },
      "execution_count": 65,
      "outputs": [
        {
          "output_type": "stream",
          "name": "stderr",
          "text": [
            "Warning message:\n",
            "“\u001b[1m\u001b[22mThere were 2 warnings in `mutate()`.\n",
            "The first warning was:\n",
            "\u001b[1m\u001b[22m\u001b[36mℹ\u001b[39m In argument: `year = parse_number(year)`.\n",
            "Caused by warning:\n",
            "\u001b[33m!\u001b[39m 1 parsing failure.\n",
            "row col expected actual\n",
            "  1  -- a number   Year\n",
            "\u001b[1m\u001b[22m\u001b[36mℹ\u001b[39m Run `dplyr::last_dplyr_warnings()` to see the 1 remaining warning.”\n"
          ]
        },
        {
          "output_type": "display_data",
          "data": {
            "text/html": [
              "<table class=\"dataframe\">\n",
              "<caption>A tibble: 1 × 1</caption>\n",
              "<thead>\n",
              "\t<tr><th scope=col>total</th></tr>\n",
              "\t<tr><th scope=col>&lt;dbl&gt;</th></tr>\n",
              "</thead>\n",
              "<tbody>\n",
              "\t<tr><td>92521523</td></tr>\n",
              "</tbody>\n",
              "</table>\n"
            ],
            "text/markdown": "\nA tibble: 1 × 1\n\n| total &lt;dbl&gt; |\n|---|\n| 92521523 |\n\n",
            "text/latex": "A tibble: 1 × 1\n\\begin{tabular}{l}\n total\\\\\n <dbl>\\\\\n\\hline\n\t 92521523\\\\\n\\end{tabular}\n",
            "text/plain": [
              "  total   \n",
              "1 92521523"
            ]
          },
          "metadata": {}
        }
      ]
    },
    {
      "cell_type": "code",
      "source": [
        "difftime(make_date(2010,1,1),make_date(2022,1,1),\"days\") "
      ],
      "metadata": {
        "colab": {
          "base_uri": "https://localhost:8080/",
          "height": 35
        },
        "id": "FsVQoU1mHMgb",
        "outputId": "31d01813-8452-4db7-aa8f-de8b8806d791"
      },
      "execution_count": 68,
      "outputs": [
        {
          "output_type": "display_data",
          "data": {
            "text/plain": [
              "Time difference of -4383 days"
            ]
          },
          "metadata": {}
        }
      ]
    },
    {
      "cell_type": "code",
      "source": [
        "92521523/4383"
      ],
      "metadata": {
        "colab": {
          "base_uri": "https://localhost:8080/",
          "height": 34
        },
        "id": "g3DO3jx3HDvO",
        "outputId": "584fa237-f7dd-4cd9-ae95-361880ea06df"
      },
      "execution_count": 67,
      "outputs": [
        {
          "output_type": "display_data",
          "data": {
            "text/html": [
              "21109.1770476842"
            ],
            "text/markdown": "21109.1770476842",
            "text/latex": "21109.1770476842",
            "text/plain": [
              "[1] 21109.18"
            ]
          },
          "metadata": {}
        }
      ]
    },
    {
      "cell_type": "markdown",
      "metadata": {
        "id": "auvbHUAc4d28"
      },
      "source": [
        "## The Simpsons\n",
        "\n",
        "The Simpsons is a popular and long-running TV show. How many people still watch the Simpsons? What is their most popular episode?"
      ]
    },
    {
      "cell_type": "code",
      "execution_count": null,
      "metadata": {
        "id": "LkA1JPPt4d28"
      },
      "outputs": [],
      "source": [
        "simpsons <- read_html('https://en.wikipedia.org/wiki/List_of_The_Simpsons_episodes_(season_21–present)')"
      ]
    },
    {
      "cell_type": "code",
      "execution_count": null,
      "metadata": {
        "id": "nuF60_-q4d28"
      },
      "outputs": [],
      "source": [
        "# parse simpsons"
      ]
    },
    {
      "cell_type": "markdown",
      "metadata": {
        "id": "D0lqSNiU4d28"
      },
      "source": [
        "## 🤔 Quiz\n",
        "\n",
        "The episode with the largest number of viewers was **Once Upon a Time in Springfield**. Which episode of the Simpsons had the **smallest** number of viewers?\n",
        "\n",
        "\n",
        "<ol style=\"list-style-type: upper-alpha;\">\n",
        "    <li>My Octopus and a Teacher</li>\n",
        "    <li>Treehouse of Horror XXI</li>\n",
        "    <li>Marge the Meanie</li>\n",
        "    <li>The D'oh-cial Network</li>\n",
        "    <li>The Devil Wears Nada</li>\n",
        "</ol>\n",
        "\n"
      ]
    },
    {
      "cell_type": "code",
      "execution_count": null,
      "metadata": {
        "id": "7rxGckrw4d29"
      },
      "outputs": [],
      "source": [
        "# smallest number of viewers"
      ]
    },
    {
      "cell_type": "markdown",
      "metadata": {
        "id": "GdMTPgUy4d29"
      },
      "source": [
        "## IMDB top movies\n",
        "\n",
        "Let's consider a well-known table: the [top 250 movies on IMDB](https://www.imdb.com/chart/top/)."
      ]
    },
    {
      "cell_type": "code",
      "execution_count": null,
      "metadata": {
        "id": "25PX5gJY4d29"
      },
      "outputs": [],
      "source": [
        "imdb.250 <- read_html(\"https://www.imdb.com/chart/top/\")"
      ]
    },
    {
      "cell_type": "code",
      "execution_count": null,
      "metadata": {
        "id": "nNvyS-Y24d29"
      },
      "outputs": [],
      "source": [
        "# parse imdb"
      ]
    },
    {
      "cell_type": "markdown",
      "metadata": {
        "id": "W6elBCyx4d29"
      },
      "source": [
        "## Exercise\n",
        "\n",
        "\"The Kid\" came out in 1921 and has a rating of 8.2. Another movie that was rated at least as high didn't come out until 1927 (Metropolis), so we could say that The Kid reigned as the #1 film for six years. Metropolis reigned for four years until City Lights (rating 8.4) came out.\n",
        "\n",
        "Which film reigned for the longest amount of time?"
      ]
    },
    {
      "cell_type": "code",
      "execution_count": null,
      "metadata": {
        "id": "MuAL0By44d2-"
      },
      "outputs": [],
      "source": [
        "# longest reign"
      ]
    },
    {
      "cell_type": "markdown",
      "metadata": {
        "id": "9AW4JDJu4d2-"
      },
      "source": [
        "## Super Bowl TV ratings\n",
        "We just had the Super Bowl. How have the TV ratings for the Super Bowl changed over the years?"
      ]
    },
    {
      "cell_type": "code",
      "execution_count": null,
      "metadata": {
        "id": "MX-NMoRk4d2-"
      },
      "outputs": [],
      "source": [
        "sbtv <- read_html('https://en.wikipedia.org/wiki/Super_Bowl_television_ratings') %>% html_elements('table') %>% .[[1]] %>% html_table"
      ]
    },
    {
      "cell_type": "code",
      "execution_count": null,
      "metadata": {
        "id": "86cBxJ_p4d2-"
      },
      "outputs": [],
      "source": [
        "# viewers over time"
      ]
    },
    {
      "cell_type": "markdown",
      "metadata": {
        "id": "nYhwF3t14d2-"
      },
      "source": [
        "How does this compare with other major sports?\n",
        "\n",
        "- https://en.wikipedia.org/wiki/World_Series_television_ratings\n",
        "- https://en.wikipedia.org/wiki/NBA_Finals_television_ratings"
      ]
    },
    {
      "cell_type": "code",
      "execution_count": null,
      "metadata": {
        "id": "VB-edz6-4d2-"
      },
      "outputs": [],
      "source": [
        "# super bowl vs world series"
      ]
    },
    {
      "cell_type": "markdown",
      "metadata": {
        "id": "9RqYnVOx4d2_"
      },
      "source": [
        "## Scraping other types of web data\n",
        "\n",
        "Here are some examples of other types of web data we can scrape:"
      ]
    },
    {
      "cell_type": "markdown",
      "metadata": {
        "id": "lkDvd0Ie4d2_"
      },
      "source": [
        "### The UofM Stats department\n",
        "Let's say I wanted to make a table of all the [undergraduate stats courses](https://lsa.umich.edu/stats/undergraduate-students/statistics-courses.html) offered by the department. "
      ]
    },
    {
      "cell_type": "code",
      "execution_count": 69,
      "metadata": {
        "id": "4ac4mHSK4d2_"
      },
      "outputs": [],
      "source": [
        "stats <- read_html('https://lsa.umich.edu/stats/undergraduate-students/statistics-courses.html')"
      ]
    },
    {
      "cell_type": "markdown",
      "metadata": {
        "id": "1kucHyWT4d2_"
      },
      "source": [
        "How should we extract the data from this web page? We notice from inspecting the page that each course title is a `<b>` (bold) element:"
      ]
    },
    {
      "cell_type": "code",
      "execution_count": 74,
      "metadata": {
        "id": "CbfV8D254d2_",
        "colab": {
          "base_uri": "https://localhost:8080/",
          "height": 173
        },
        "outputId": "74c1fb83-5b1c-49ba-8f62-2cafee309ab4"
      },
      "outputs": [
        {
          "output_type": "display_data",
          "data": {
            "text/html": [
              "<style>\n",
              ".list-inline {list-style: none; margin:0; padding: 0}\n",
              ".list-inline>li {display: inline-block}\n",
              ".list-inline>li:not(:last-child)::after {content: \"\\00b7\"; padding: 0 .5ex}\n",
              "</style>\n",
              "<ol class=list-inline><li>'STATS 100: Introduction to Statistics, Probability and Mathematical Modeling'</li><li>'STATS 125: Statistics, Games and Coincidences'</li><li>'STATS 150: Making Sense of Data'</li><li>'STATS 180: AP Statistics'</li><li>'STATS 206/DATASCI 101: Introduction to Data Science'</li><li>'STATS 250: Introduction to Statistics and Data Analysis'</li><li>'STATS 251 – Introductory Statistics Supplement for Mathematics Education'</li><li>'STATS 280: Honors Introduction to Statistics &amp; Data Analysis'</li><li>'STATS 299 - Workplace Internship for Undergraduate Statistics Majors'</li><li>'STATS/DATASCI 306: Introduction to Statistical Computing'</li><li>'STATS/DATASCI 315 – Statistics and Artificial Intelligence '</li><li>''</li><li>'STATS 401: Applied Statistical Methods II'</li><li>'STATS 403: Introduction to Quantitative Research Methods'</li><li>'STATS 404: Effective Communication in Statistics'</li><li>'STATS/DATASCI 406: Computational Methods in Statistics and Data Science'</li><li>'STATS 412: Introduction to Probability &amp; Statistics'</li><li>'STATS/DATASCI 413: Applied Regression Analysis'</li><li>'STATS 414: Topics Course'</li><li>'STATS/DATASCI 415: Data Mining and Statistical Learning'</li><li>'STATS/MATH 425: Introduction to Probability'</li><li>'STATS 426: Introduction to Theoretical Statistics'</li><li>'STATS 430: Applied Probability'</li><li>'STATS/BIOSTAT 449: Topics in Biostatistics'</li><li>'STATS/DATASCI 451: Bayesian Data Analysis'</li><li>'STATS 470: Introduction to the Design of Experiments'</li><li>'STATS 480: Survey Sampling Techniques'</li><li>'STATS/DATASCI 485: Capstone Seminar'</li><li>'STATS 489: Independent Study in Statistics'</li><li>'STATS 499: Honors Seminar'</li><li>'Please send permission requests to statsugradprogram@umich.edu'</li></ol>\n"
            ],
            "text/markdown": "1. 'STATS 100: Introduction to Statistics, Probability and Mathematical Modeling'\n2. 'STATS 125: Statistics, Games and Coincidences'\n3. 'STATS 150: Making Sense of Data'\n4. 'STATS 180: AP Statistics'\n5. 'STATS 206/DATASCI 101: Introduction to Data Science'\n6. 'STATS 250: Introduction to Statistics and Data Analysis'\n7. 'STATS 251 – Introductory Statistics Supplement for Mathematics Education'\n8. 'STATS 280: Honors Introduction to Statistics &amp; Data Analysis'\n9. 'STATS 299 - Workplace Internship for Undergraduate Statistics Majors'\n10. 'STATS/DATASCI 306: Introduction to Statistical Computing'\n11. 'STATS/DATASCI 315 – Statistics and Artificial Intelligence '\n12. ''\n13. 'STATS 401: Applied Statistical Methods II'\n14. 'STATS 403: Introduction to Quantitative Research Methods'\n15. 'STATS 404: Effective Communication in Statistics'\n16. 'STATS/DATASCI 406: Computational Methods in Statistics and Data Science'\n17. 'STATS 412: Introduction to Probability &amp; Statistics'\n18. 'STATS/DATASCI 413: Applied Regression Analysis'\n19. 'STATS 414: Topics Course'\n20. 'STATS/DATASCI 415: Data Mining and Statistical Learning'\n21. 'STATS/MATH 425: Introduction to Probability'\n22. 'STATS 426: Introduction to Theoretical Statistics'\n23. 'STATS 430: Applied Probability'\n24. 'STATS/BIOSTAT 449: Topics in Biostatistics'\n25. 'STATS/DATASCI 451: Bayesian Data Analysis'\n26. 'STATS 470: Introduction to the Design of Experiments'\n27. 'STATS 480: Survey Sampling Techniques'\n28. 'STATS/DATASCI 485: Capstone Seminar'\n29. 'STATS 489: Independent Study in Statistics'\n30. 'STATS 499: Honors Seminar'\n31. 'Please send permission requests to statsugradprogram@umich.edu'\n\n\n",
            "text/latex": "\\begin{enumerate*}\n\\item 'STATS 100: Introduction to Statistics, Probability and Mathematical Modeling'\n\\item 'STATS 125: Statistics, Games and Coincidences'\n\\item 'STATS 150: Making Sense of Data'\n\\item 'STATS 180: AP Statistics'\n\\item 'STATS 206/DATASCI 101: Introduction to Data Science'\n\\item 'STATS 250: Introduction to Statistics and Data Analysis'\n\\item 'STATS 251 – Introductory Statistics Supplement for Mathematics Education'\n\\item 'STATS 280: Honors Introduction to Statistics \\& Data Analysis'\n\\item 'STATS 299 - Workplace Internship for Undergraduate Statistics Majors'\n\\item 'STATS/DATASCI 306: Introduction to Statistical Computing'\n\\item 'STATS/DATASCI 315 – Statistics and Artificial Intelligence '\n\\item ''\n\\item 'STATS 401: Applied Statistical Methods II'\n\\item 'STATS 403: Introduction to Quantitative Research Methods'\n\\item 'STATS 404: Effective Communication in Statistics'\n\\item 'STATS/DATASCI 406: Computational Methods in Statistics and Data Science'\n\\item 'STATS 412: Introduction to Probability \\& Statistics'\n\\item 'STATS/DATASCI 413: Applied Regression Analysis'\n\\item 'STATS 414: Topics Course'\n\\item 'STATS/DATASCI 415: Data Mining and Statistical Learning'\n\\item 'STATS/MATH 425: Introduction to Probability'\n\\item 'STATS 426: Introduction to Theoretical Statistics'\n\\item 'STATS 430: Applied Probability'\n\\item 'STATS/BIOSTAT 449: Topics in Biostatistics'\n\\item 'STATS/DATASCI 451: Bayesian Data Analysis'\n\\item 'STATS 470: Introduction to the Design of Experiments'\n\\item 'STATS 480: Survey Sampling Techniques'\n\\item 'STATS/DATASCI 485: Capstone Seminar'\n\\item 'STATS 489: Independent Study in Statistics'\n\\item 'STATS 499: Honors Seminar'\n\\item 'Please send permission requests to statsugradprogram@umich.edu'\n\\end{enumerate*}\n",
            "text/plain": [
              " [1] \"STATS 100: Introduction to Statistics, Probability and Mathematical Modeling\"\n",
              " [2] \"STATS 125: Statistics, Games and Coincidences\"                               \n",
              " [3] \"STATS 150: Making Sense of Data\"                                             \n",
              " [4] \"STATS 180: AP Statistics\"                                                    \n",
              " [5] \"STATS 206/DATASCI 101: Introduction to Data Science\"                         \n",
              " [6] \"STATS 250: Introduction to Statistics and Data Analysis\"                     \n",
              " [7] \"STATS 251 – Introductory Statistics Supplement for Mathematics Education\"    \n",
              " [8] \"STATS 280: Honors Introduction to Statistics & Data Analysis\"                \n",
              " [9] \"STATS 299 - Workplace Internship for Undergraduate Statistics Majors\"        \n",
              "[10] \"STATS/DATASCI 306: Introduction to Statistical Computing\"                    \n",
              "[11] \"STATS/DATASCI 315 – Statistics and Artificial Intelligence \"                 \n",
              "[12] \"\"                                                                            \n",
              "[13] \"STATS 401: Applied Statistical Methods II\"                                   \n",
              "[14] \"STATS 403: Introduction to Quantitative Research Methods\"                    \n",
              "[15] \"STATS 404: Effective Communication in Statistics\"                            \n",
              "[16] \"STATS/DATASCI 406: Computational Methods in Statistics and Data Science\"     \n",
              "[17] \"STATS 412: Introduction to Probability & Statistics\"                         \n",
              "[18] \"STATS/DATASCI 413: Applied Regression Analysis\"                              \n",
              "[19] \"STATS 414: Topics Course\"                                                    \n",
              "[20] \"STATS/DATASCI 415: Data Mining and Statistical Learning\"                     \n",
              "[21] \"STATS/MATH 425: Introduction to Probability\"                                 \n",
              "[22] \"STATS 426: Introduction to Theoretical Statistics\"                           \n",
              "[23] \"STATS 430: Applied Probability\"                                              \n",
              "[24] \"STATS/BIOSTAT 449: Topics in Biostatistics\"                                  \n",
              "[25] \"STATS/DATASCI 451: Bayesian Data Analysis\"                                   \n",
              "[26] \"STATS 470: Introduction to the Design of Experiments\"                        \n",
              "[27] \"STATS 480: Survey Sampling Techniques\"                                       \n",
              "[28] \"STATS/DATASCI 485: Capstone Seminar\"                                         \n",
              "[29] \"STATS 489: Independent Study in Statistics\"                                  \n",
              "[30] \"STATS 499: Honors Seminar\"                                                   \n",
              "[31] \"Please send permission requests to statsugradprogram@umich.edu\"              "
            ]
          },
          "metadata": {}
        }
      ],
      "source": [
        "# extract statistics courses\n",
        "stats%>%\n",
        "  html_elements(\"b\")%>%\n",
        "  html_text"
      ]
    },
    {
      "cell_type": "markdown",
      "metadata": {
        "id": "GdUMlKIv4d2_"
      },
      "source": [
        "### Reddit\n",
        "Let's see how to scrape the [UofM Reddit site](https://old.reddit.com/r/uofm):"
      ]
    },
    {
      "cell_type": "code",
      "execution_count": null,
      "metadata": {
        "id": "vxIz9gdt4d2_"
      },
      "outputs": [],
      "source": [
        "top.reddit <- read_html('https://old.reddit.com/r/uofm/top/?sort=top&t=all')"
      ]
    },
    {
      "cell_type": "markdown",
      "metadata": {
        "id": "i2xbcXGl4d2_"
      },
      "source": [
        "Let's plot the top scoring posts, when they were posted, and how many votes they have received."
      ]
    },
    {
      "cell_type": "code",
      "execution_count": null,
      "metadata": {
        "id": "GjaXNREx4d3A"
      },
      "outputs": [],
      "source": [
        "# top posts on r/uofm"
      ]
    }
  ],
  "metadata": {
    "celltoolbar": "Slideshow",
    "kernelspec": {
      "display_name": "R",
      "language": "R",
      "name": "ir"
    },
    "language_info": {
      "codemirror_mode": "r",
      "file_extension": ".r",
      "mimetype": "text/x-r-source",
      "name": "R",
      "pygments_lexer": "r",
      "version": "4.2.1"
    },
    "colab": {
      "provenance": [],
      "include_colab_link": true
    }
  },
  "nbformat": 4,
  "nbformat_minor": 0
}
