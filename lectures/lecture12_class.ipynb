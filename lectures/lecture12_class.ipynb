{
  "cells": [
    {
      "cell_type": "markdown",
      "metadata": {
        "id": "view-in-github",
        "colab_type": "text"
      },
      "source": [
        "<a href=\"https://colab.research.google.com/github/sharonma1218/stats-306/blob/main/lecture12_class.ipynb\" target=\"_parent\"><img src=\"https://colab.research.google.com/assets/colab-badge.svg\" alt=\"Open In Colab\"/></a>"
      ]
    },
    {
      "cell_type": "code",
      "source": [
        "install.packages(\"nycflights13\")\n",
        "install.packages(\"babynames\")\n",
        "install.packages(\"stringr\")"
      ],
      "metadata": {
        "colab": {
          "base_uri": "https://localhost:8080/"
        },
        "id": "jCBYUOnjumMX",
        "outputId": "964de7e8-7adc-41fc-dd2c-84b80530231a"
      },
      "execution_count": 27,
      "outputs": [
        {
          "output_type": "stream",
          "name": "stderr",
          "text": [
            "Installing package into ‘/usr/local/lib/R/site-library’\n",
            "(as ‘lib’ is unspecified)\n",
            "\n"
          ]
        }
      ]
    },
    {
      "cell_type": "code",
      "execution_count": 30,
      "metadata": {
        "id": "97Rs9Riyuf8p"
      },
      "outputs": [],
      "source": [
        "library(tidyverse)\n",
        "library(babynames)\n",
        "library(stringr)\n",
        "library(nycflights13)"
      ]
    },
    {
      "cell_type": "markdown",
      "metadata": {
        "id": "oYxakG1uuf8q"
      },
      "source": [
        "# Lecture 12: Strings and text data\n",
        "\n",
        "<div style=\"border: 1px double black; padding: 10px; margin: 10px\">\n",
        "\n",
        "**After today's lecture you will:**\n",
        "* Understand the basics of working with strings in R.\n",
        "* Convert data to strings.\n",
        "* Extract data from strings.\n",
        "</div>\n",
        "\n",
        "These notes correspond to Chapter 15 of your book.\n"
      ]
    },
    {
      "cell_type": "markdown",
      "metadata": {
        "id": "z-QDrGWiuf8r"
      },
      "source": [
        "## Strings in R\n",
        "We have already encountered strings at many points in the class, but we didn't really discuss the details of how they work. "
      ]
    },
    {
      "cell_type": "markdown",
      "metadata": {
        "id": "qKd3xiBwuf8r"
      },
      "source": [
        "In R, strings must be quoted:"
      ]
    },
    {
      "cell_type": "code",
      "execution_count": null,
      "metadata": {
        "id": "qPiHWgYwuf8r",
        "outputId": "f5782410-03f9-4578-9d6c-38a4544ce34a",
        "colab": {
          "base_uri": "https://localhost:8080/",
          "height": 34
        }
      },
      "outputs": [
        {
          "output_type": "display_data",
          "data": {
            "text/html": [
              "'MLE stands for Maximum Likelihood Estimate'"
            ],
            "text/markdown": "'MLE stands for Maximum Likelihood Estimate'",
            "text/latex": "'MLE stands for Maximum Likelihood Estimate'",
            "text/plain": [
              "[1] \"MLE stands for Maximum Likelihood Estimate\""
            ]
          },
          "metadata": {}
        }
      ],
      "source": [
        "my_string <- \"MLE stands for Maximum Likelihood Estimate\"\n",
        "my_string"
      ]
    },
    {
      "cell_type": "code",
      "source": [
        "# You can use single quotes too\n",
        "# Internally, it's actually using single quotes\n",
        "\n",
        "my_string <- 'MLE stands for Maximum Likelihood Estimate'\n",
        "my_string"
      ],
      "metadata": {
        "colab": {
          "base_uri": "https://localhost:8080/",
          "height": 34
        },
        "id": "BsVzA_vhvQ85",
        "outputId": "f9996270-58b1-45f0-8cb4-117524b6d62c"
      },
      "execution_count": null,
      "outputs": [
        {
          "output_type": "display_data",
          "data": {
            "text/html": [
              "'MLE stands for Maximum Likelihood Estimate'"
            ],
            "text/markdown": "'MLE stands for Maximum Likelihood Estimate'",
            "text/latex": "'MLE stands for Maximum Likelihood Estimate'",
            "text/plain": [
              "[1] \"MLE stands for Maximum Likelihood Estimate\""
            ]
          },
          "metadata": {}
        }
      ]
    },
    {
      "cell_type": "code",
      "source": [
        "# Even tho these r numbers, b/c they're inside quotes, they end up being text/string\n",
        "my_string2<-'123'\n",
        "my_string2"
      ],
      "metadata": {
        "colab": {
          "base_uri": "https://localhost:8080/",
          "height": 34
        },
        "id": "vZFyanxSvZxD",
        "outputId": "f5ee1494-3d3d-47e4-c35a-5175eaec29e3"
      },
      "execution_count": null,
      "outputs": [
        {
          "output_type": "display_data",
          "data": {
            "text/html": [
              "'123'"
            ],
            "text/markdown": "'123'",
            "text/latex": "'123'",
            "text/plain": [
              "[1] \"123\""
            ]
          },
          "metadata": {}
        }
      ]
    },
    {
      "cell_type": "markdown",
      "metadata": {
        "id": "5t9EvtgAuf8r"
      },
      "source": [
        "Now what if I want `my_string` to contain a quotation?\n",
        "```\n",
        "> my_string <- \"\"MLE\" stands for \"Maximum Likelihood Estimate\"\"\n",
        "Error in parse(text = x, srcfile = src): <text>:1:16: unexpected symbol\n",
        "1: mystring3 <- \"\"MLE\n",
        "                   ^\n",
        "Traceback:\n",
        "```"
      ]
    },
    {
      "cell_type": "code",
      "source": [
        "# This will produce an error:\n",
        "# my_string3 <- \"\"MLE\" stands for \"Maximum Likelihood Estimate\"\""
      ],
      "metadata": {
        "id": "HFWCSqYkv_ic"
      },
      "execution_count": null,
      "outputs": []
    },
    {
      "cell_type": "code",
      "source": [
        "# To fix this, you can have a double quotes on the inside, single quotes on the outside\n",
        "my_string3 <- '\"MLE\" stands for \"Maximum Likelihood Estimate\"'\n",
        "my_string3"
      ],
      "metadata": {
        "colab": {
          "base_uri": "https://localhost:8080/",
          "height": 34
        },
        "id": "ARO6e16CvvRE",
        "outputId": "52c99860-2064-4bd3-ae8e-44475257b2b7"
      },
      "execution_count": null,
      "outputs": [
        {
          "output_type": "display_data",
          "data": {
            "text/html": [
              "'\"MLE\" stands for \"Maximum Likelihood Estimate\"'"
            ],
            "text/markdown": "'\"MLE\" stands for \"Maximum Likelihood Estimate\"'",
            "text/latex": "'\"MLE\" stands for \"Maximum Likelihood Estimate\"'",
            "text/plain": [
              "[1] \"\\\"MLE\\\" stands for \\\"Maximum Likelihood Estimate\\\"\""
            ]
          },
          "metadata": {}
        }
      ]
    },
    {
      "cell_type": "markdown",
      "metadata": {
        "id": "N4tubRK-uf8r"
      },
      "source": [
        "To create a string containing double quotes, while using double quotes to create it, you must *escape* the quotes using a backslash (`\\`):"
      ]
    },
    {
      "cell_type": "code",
      "execution_count": null,
      "metadata": {
        "id": "we1XykNguf8r",
        "outputId": "b7acaa6e-0be3-4696-a60f-f63c0cfb832b",
        "colab": {
          "base_uri": "https://localhost:8080/",
          "height": 34
        }
      },
      "outputs": [
        {
          "output_type": "display_data",
          "data": {
            "text/html": [
              "'\"MLE\" stands for \"Maximum Likelihood Estimate\"'"
            ],
            "text/markdown": "'\"MLE\" stands for \"Maximum Likelihood Estimate\"'",
            "text/latex": "'\"MLE\" stands for \"Maximum Likelihood Estimate\"'",
            "text/plain": [
              "[1] \"\\\"MLE\\\" stands for \\\"Maximum Likelihood Estimate\\\"\""
            ]
          },
          "metadata": {}
        }
      ],
      "source": [
        "my_string3 <- \"\\\"MLE\\\" stands for \\\"Maximum Likelihood Estimate\\\"\"\n",
        "my_string3 "
      ]
    },
    {
      "cell_type": "markdown",
      "metadata": {
        "id": "8_sWFhS1uf8r"
      },
      "source": [
        "What if you actually want a backslash? Then you need to escape it as well:"
      ]
    },
    {
      "cell_type": "code",
      "execution_count": null,
      "metadata": {
        "id": "ENGTtXOduf8s",
        "outputId": "8af0bda9-8111-43b0-968a-06b085b7ebe8",
        "colab": {
          "base_uri": "https://localhost:8080/",
          "height": 34
        }
      },
      "outputs": [
        {
          "output_type": "display_data",
          "data": {
            "text/html": [
              "'\\\\ is the backslash character'"
            ],
            "text/markdown": "'\\\\ is the backslash character'",
            "text/latex": "'\\textbackslash{}\\textbackslash{} is the backslash character'",
            "text/plain": [
              "[1] \"\\\\ is the backslash character\""
            ]
          },
          "metadata": {}
        }
      ],
      "source": [
        "\"\\\\ is the backslash character\""
      ]
    },
    {
      "cell_type": "markdown",
      "metadata": {
        "id": "fDIT1N-Fuf8s"
      },
      "source": [
        "The printed representation of strings shows the escapes:"
      ]
    },
    {
      "cell_type": "code",
      "execution_count": null,
      "metadata": {
        "id": "aQ6A4FR5uf8s",
        "outputId": "8aecc9da-f048-41b6-9683-8e2cf45cc30f",
        "colab": {
          "base_uri": "https://localhost:8080/"
        }
      },
      "outputs": [
        {
          "output_type": "stream",
          "name": "stdout",
          "text": [
            "[1] \"\\\"MLE\\\" stands for \\\"Maximum Likelihood Estimate\\\"\"\n"
          ]
        }
      ],
      "source": [
        "print(\"\\\"MLE\\\" stands for \\\"Maximum Likelihood Estimate\\\"\")"
      ]
    },
    {
      "cell_type": "markdown",
      "metadata": {
        "id": "KM8dMXQhuf8s"
      },
      "source": [
        "Use `str_view()` to see the raw contents of the string. "
      ]
    },
    {
      "cell_type": "code",
      "execution_count": null,
      "metadata": {
        "id": "acZc9biouf8s",
        "outputId": "865a3607-3ce1-4250-df38-f97e5d6f8409",
        "colab": {
          "base_uri": "https://localhost:8080/",
          "height": 35
        }
      },
      "outputs": [
        {
          "output_type": "display_data",
          "data": {
            "text/plain": [
              "\u001b[90m[1] │\u001b[39m 'MLE' stands for 'Maximum Likelihood Estimate'"
            ]
          },
          "metadata": {}
        }
      ],
      "source": [
        "str_view(my_string)"
      ]
    },
    {
      "cell_type": "markdown",
      "metadata": {
        "id": "4IpgOjIbuf8s"
      },
      "source": [
        "## Special characters\n",
        "\n",
        "When used inside a string, `\\\"`, `\\'`, and `\\\\`, are \"special characters\". Some other special characters you will encounter:\n",
        "\n",
        "- `\\n` (new line), \n",
        "- `\\t`, tab. \n",
        "- `\\u` or `\\U`: Unicode."
      ]
    },
    {
      "cell_type": "markdown",
      "metadata": {
        "id": "BWhziMTJuf8s"
      },
      "source": [
        "### ASCII and unicode\n",
        "Early computers could only read and write the ASCII character set, essentially just roman letters, numbers and some punctuation.\n",
        "\n",
        "Nowadays, computers need to be able to understand alphabets from all over the world. For this we have *Unicode*."
      ]
    },
    {
      "cell_type": "markdown",
      "metadata": {
        "id": "rD4tRUr8uf8s"
      },
      "source": [
        "You can print characters if you know their unicode using `\\u`. For example, the copyright character has unicode `00A9`. Wikipedia has [a complete list](https://en.wikipedia.org/wiki/List_of_Unicode_characters)."
      ]
    },
    {
      "cell_type": "code",
      "source": [
        "# ASCII = American Standard Code for Information Interchange"
      ],
      "metadata": {
        "id": "KV5zxVo4xYgW"
      },
      "execution_count": null,
      "outputs": []
    },
    {
      "cell_type": "code",
      "execution_count": null,
      "metadata": {
        "scrolled": true,
        "id": "8kePrIpzuf8s",
        "outputId": "a6fda783-1525-4829-c319-6e3466516a5a",
        "colab": {
          "base_uri": "https://localhost:8080/"
        }
      },
      "outputs": [
        {
          "output_type": "stream",
          "name": "stdout",
          "text": [
            "[1] \"©\"\n"
          ]
        }
      ],
      "source": [
        "print(\"\\u00A9\")"
      ]
    },
    {
      "cell_type": "markdown",
      "metadata": {
        "id": "5YfyyoTsuf8s"
      },
      "source": [
        "## String functions in R\n",
        "\n",
        "Through the `stringr` package, `tidyverse` has a lot of useful functions for combining strings."
      ]
    },
    {
      "cell_type": "code",
      "source": [
        "# Btw, we always use tidyverse b/c its functions r better/more efficient. Takes less time, uses less RAM."
      ],
      "metadata": {
        "id": "f_LTZMsaylbc"
      },
      "execution_count": null,
      "outputs": []
    },
    {
      "cell_type": "markdown",
      "metadata": {
        "id": "ksqBf8ljuf8s"
      },
      "source": [
        "### Combining strings\n",
        "Combining two strings into one is called \"concatenation\" by computer scientists and \"combining strings\" by everyone else. `concatenate` is hard to type, so it is abbreviated `str_c`:"
      ]
    },
    {
      "cell_type": "code",
      "execution_count": 31,
      "metadata": {
        "id": "QvCd46nquf8t",
        "outputId": "964186c1-6dd0-4a4c-e362-a095d61dec93",
        "colab": {
          "base_uri": "https://localhost:8080/",
          "height": 52
        }
      },
      "outputs": [
        {
          "output_type": "stream",
          "name": "stdout",
          "text": [
            "[1] \"a\" \"b\" \"c\"\n"
          ]
        },
        {
          "output_type": "display_data",
          "data": {
            "text/html": [
              "'abc'"
            ],
            "text/markdown": "'abc'",
            "text/latex": "'abc'",
            "text/plain": [
              "[1] \"abc\""
            ]
          },
          "metadata": {}
        }
      ],
      "source": [
        "c(\"a\", \"b\", \"c\") %>% print  # notice the difference!\n",
        "str_c(\"a\", \"b\", \"c\") \n",
        "# \"Let us con\", \n",
        "#       \" / \", \n",
        "#       \"catenate strings!\") %>% print"
      ]
    },
    {
      "cell_type": "markdown",
      "metadata": {
        "id": "UcPNQK_ouf8t"
      },
      "source": [
        "Another use of `str_c` is to combine multiple strings into one with a separator:"
      ]
    },
    {
      "cell_type": "code",
      "execution_count": 32,
      "metadata": {
        "id": "_gkFk1sruf8t",
        "outputId": "e49eb289-b8d4-48cc-c954-da22ccbbeabc",
        "colab": {
          "base_uri": "https://localhost:8080/",
          "height": 34
        }
      },
      "outputs": [
        {
          "output_type": "display_data",
          "data": {
            "text/html": [
              "'one, two, ten'"
            ],
            "text/markdown": "'one, two, ten'",
            "text/latex": "'one, two, ten'",
            "text/plain": [
              "[1] \"one, two, ten\""
            ]
          },
          "metadata": {}
        }
      ],
      "source": [
        "str_c(\"one\", \"two\", \"ten\", sep = \", \") # can provide a separator"
      ]
    },
    {
      "cell_type": "markdown",
      "metadata": {
        "id": "EyXuMApxuf8t"
      },
      "source": [
        "If you already know some R, you might recognize this as being equivalent to \n",
        "```{r} \n",
        "paste(\"one\", \"two\", \"ten\", sep=\", \")\n",
        "```"
      ]
    },
    {
      "cell_type": "markdown",
      "metadata": {
        "id": "VgnImRJnuf8t"
      },
      "source": [
        "### Flattening strings\n",
        "`str_flatten` will take a vector of strings and flatten them into one string."
      ]
    },
    {
      "cell_type": "code",
      "execution_count": 33,
      "metadata": {
        "id": "C2ECJhMnuf8t",
        "outputId": "2ff46938-08c8-4607-f6ce-bad4693d20bc",
        "colab": {
          "base_uri": "https://localhost:8080/",
          "height": 192
        }
      },
      "outputs": [
        {
          "output_type": "display_data",
          "data": {
            "text/html": [
              "<table class=\"dataframe\">\n",
              "<caption>A tibble: 3 × 2</caption>\n",
              "<thead>\n",
              "\t<tr><th scope=col>origin</th><th scope=col>carrier</th></tr>\n",
              "\t<tr><th scope=col>&lt;chr&gt;</th><th scope=col>&lt;chr&gt;</th></tr>\n",
              "</thead>\n",
              "<tbody>\n",
              "\t<tr><td>EWR</td><td>UA, B6, AA, MQ, DL, US, EV, AS, WN, 9E, VX, OO    </td></tr>\n",
              "\t<tr><td>JFK</td><td>AA, B6, UA, DL, US, VX, MQ, 9E, HA, EV            </td></tr>\n",
              "\t<tr><td>LGA</td><td>UA, DL, EV, AA, B6, MQ, WN, FL, US, F9, 9E, YV, OO</td></tr>\n",
              "</tbody>\n",
              "</table>\n"
            ],
            "text/markdown": "\nA tibble: 3 × 2\n\n| origin &lt;chr&gt; | carrier &lt;chr&gt; |\n|---|---|\n| EWR | UA, B6, AA, MQ, DL, US, EV, AS, WN, 9E, VX, OO     |\n| JFK | AA, B6, UA, DL, US, VX, MQ, 9E, HA, EV             |\n| LGA | UA, DL, EV, AA, B6, MQ, WN, FL, US, F9, 9E, YV, OO |\n\n",
            "text/latex": "A tibble: 3 × 2\n\\begin{tabular}{ll}\n origin & carrier\\\\\n <chr> & <chr>\\\\\n\\hline\n\t EWR & UA, B6, AA, MQ, DL, US, EV, AS, WN, 9E, VX, OO    \\\\\n\t JFK & AA, B6, UA, DL, US, VX, MQ, 9E, HA, EV            \\\\\n\t LGA & UA, DL, EV, AA, B6, MQ, WN, FL, US, F9, 9E, YV, OO\\\\\n\\end{tabular}\n",
            "text/plain": [
              "  origin carrier                                           \n",
              "1 EWR    UA, B6, AA, MQ, DL, US, EV, AS, WN, 9E, VX, OO    \n",
              "2 JFK    AA, B6, UA, DL, US, VX, MQ, 9E, HA, EV            \n",
              "3 LGA    UA, DL, EV, AA, B6, MQ, WN, FL, US, F9, 9E, YV, OO"
            ]
          },
          "metadata": {}
        }
      ],
      "source": [
        "# list all the air carriers flying out of each airport\n",
        "distinct(flights, origin, carrier) %>% \n",
        "  group_by(origin) %>% \n",
        "    summarize(carrier = str_flatten(carrier, \", \")) # all the values that are under carrier, flatten them into one vector, separated by a comma"
      ]
    },
    {
      "cell_type": "markdown",
      "metadata": {
        "id": "iDqrmJpQuf8t"
      },
      "source": [
        "### Extracting pieces of a string\n",
        "Sometimes we want only a portion of a string, say the first few or last characters. The `str_sub(str, start, stop)` function will extract substrings from a larger string. (Negative indexing will counts from the end.)"
      ]
    },
    {
      "cell_type": "code",
      "execution_count": 34,
      "metadata": {
        "id": "9ZS2OlEAuf8t",
        "outputId": "b681c07f-35df-43d2-a301-a00a8ceb206d",
        "colab": {
          "base_uri": "https://localhost:8080/",
          "height": 86
        }
      },
      "outputs": [
        {
          "output_type": "display_data",
          "data": {
            "text/html": [
              "'sp'"
            ],
            "text/markdown": "'sp'",
            "text/latex": "'sp'",
            "text/plain": [
              "[1] \"sp\""
            ]
          },
          "metadata": {}
        },
        {
          "output_type": "display_data",
          "data": {
            "text/html": [
              "'un'"
            ],
            "text/markdown": "'un'",
            "text/latex": "'un'",
            "text/plain": [
              "[1] \"un\""
            ]
          },
          "metadata": {}
        },
        {
          "output_type": "display_data",
          "data": {
            "text/html": [
              "'t n'"
            ],
            "text/markdown": "'t n'",
            "text/latex": "'t n'",
            "text/plain": [
              "[1] \"t n\""
            ]
          },
          "metadata": {}
        },
        {
          "output_type": "display_data",
          "data": {
            "text/html": [
              "'t\\'s don'"
            ],
            "text/markdown": "'t\\'s don'",
            "text/latex": "'t\\textbackslash{}'s don'",
            "text/plain": [
              "[1] \"t's don\""
            ]
          },
          "metadata": {}
        }
      ],
      "source": [
        "str_sub('spring break!', 1, 2)  # first two characters\n",
        "str_sub('was fun', -2, -1)  # last two characters\n",
        "str_sub('but now', 3, 5)  # middle characters\n",
        "str_sub('it\\'s done', 2, -2) # everything except the first and last"
      ]
    },
    {
      "cell_type": "code",
      "source": [
        "str_sub('spring break') # default is 1,-1; which means that start w/ first letter, end w/ last letter"
      ],
      "metadata": {
        "colab": {
          "base_uri": "https://localhost:8080/",
          "height": 34
        },
        "id": "gbnQyF3Wz0X_",
        "outputId": "856749b3-d8c6-4fbc-ff15-eb08a6573ee9"
      },
      "execution_count": 37,
      "outputs": [
        {
          "output_type": "display_data",
          "data": {
            "text/html": [
              "'spring break'"
            ],
            "text/markdown": "'spring break'",
            "text/latex": "'spring break'",
            "text/plain": [
              "[1] \"spring break\""
            ]
          },
          "metadata": {}
        }
      ]
    },
    {
      "cell_type": "code",
      "source": [
        "# if you want s to a: \n",
        "str_sub('spring break',1,-2)"
      ],
      "metadata": {
        "colab": {
          "base_uri": "https://localhost:8080/",
          "height": 34
        },
        "id": "A0pzSN1N0Mhk",
        "outputId": "e96951a0-22ed-4d69-ea0c-aacf920074ac"
      },
      "execution_count": 38,
      "outputs": [
        {
          "output_type": "display_data",
          "data": {
            "text/html": [
              "'spring brea'"
            ],
            "text/markdown": "'spring brea'",
            "text/latex": "'spring brea'",
            "text/plain": [
              "[1] \"spring brea\""
            ]
          },
          "metadata": {}
        }
      ]
    },
    {
      "cell_type": "markdown",
      "metadata": {
        "id": "jxcnRJseuf8t"
      },
      "source": [
        "## Extracting data from strings\n",
        "Often in real data we have multiple columns of data crammed into one column. In fact, we saw this last lecture when looking at IMDB data:"
      ]
    },
    {
      "cell_type": "code",
      "execution_count": 39,
      "metadata": {
        "id": "Gt3Nvpdquf8t",
        "outputId": "c29dea8f-39f5-4ed9-beed-f0bc1ba291ce",
        "colab": {
          "base_uri": "https://localhost:8080/",
          "height": 447
        }
      },
      "outputs": [
        {
          "output_type": "stream",
          "name": "stderr",
          "text": [
            "\n",
            "Attaching package: ‘rvest’\n",
            "\n",
            "\n",
            "The following object is masked from ‘package:readr’:\n",
            "\n",
            "    guess_encoding\n",
            "\n",
            "\n"
          ]
        },
        {
          "output_type": "display_data",
          "data": {
            "text/html": [
              "<table class=\"dataframe\">\n",
              "<caption>A tibble: 6 × 3</caption>\n",
              "<thead>\n",
              "\t<tr><th scope=col>Rank &amp; Title</th><th scope=col>IMDb Rating</th><th scope=col>Your Rating</th></tr>\n",
              "\t<tr><th scope=col>&lt;chr&gt;</th><th scope=col>&lt;dbl&gt;</th><th scope=col>&lt;chr&gt;</th></tr>\n",
              "</thead>\n",
              "<tbody>\n",
              "\t<tr><td>1.\n",
              "      The Shawshank Redemption\n",
              "        (1994)</td><td>9.2</td><td>12345678910\n",
              "        \n",
              "        \n",
              "            \n",
              "            NOT YET RELEASED\n",
              "             \n",
              "            \n",
              "            Seen</td></tr>\n",
              "\t<tr><td>2.\n",
              "      The Godfather\n",
              "        (1972)           </td><td>9.2</td><td>12345678910\n",
              "        \n",
              "        \n",
              "            \n",
              "            NOT YET RELEASED\n",
              "             \n",
              "            \n",
              "            Seen</td></tr>\n",
              "\t<tr><td>3.\n",
              "      The Dark Knight\n",
              "        (2008)         </td><td>9.0</td><td>12345678910\n",
              "        \n",
              "        \n",
              "            \n",
              "            NOT YET RELEASED\n",
              "             \n",
              "            \n",
              "            Seen</td></tr>\n",
              "\t<tr><td>4.\n",
              "      The Godfather Part II\n",
              "        (1974)   </td><td>9.0</td><td>12345678910\n",
              "        \n",
              "        \n",
              "            \n",
              "            NOT YET RELEASED\n",
              "             \n",
              "            \n",
              "            Seen</td></tr>\n",
              "\t<tr><td>5.\n",
              "      12 Angry Men\n",
              "        (1957)            </td><td>9.0</td><td>12345678910\n",
              "        \n",
              "        \n",
              "            \n",
              "            NOT YET RELEASED\n",
              "             \n",
              "            \n",
              "            Seen</td></tr>\n",
              "\t<tr><td>6.\n",
              "      Schindler's List\n",
              "        (1993)        </td><td>8.9</td><td>12345678910\n",
              "        \n",
              "        \n",
              "            \n",
              "            NOT YET RELEASED\n",
              "             \n",
              "            \n",
              "            Seen</td></tr>\n",
              "</tbody>\n",
              "</table>\n"
            ],
            "text/markdown": "\nA tibble: 6 × 3\n\n| Rank &amp; Title &lt;chr&gt; | IMDb Rating &lt;dbl&gt; | Your Rating &lt;chr&gt; |\n|---|---|---|\n| 1.\n      The Shawshank Redemption\n        (1994) | 9.2 | 12345678910\n        \n        \n            \n            NOT YET RELEASED\n             \n            \n            Seen |\n| 2.\n      The Godfather\n        (1972)            | 9.2 | 12345678910\n        \n        \n            \n            NOT YET RELEASED\n             \n            \n            Seen |\n| 3.\n      The Dark Knight\n        (2008)          | 9.0 | 12345678910\n        \n        \n            \n            NOT YET RELEASED\n             \n            \n            Seen |\n| 4.\n      The Godfather Part II\n        (1974)    | 9.0 | 12345678910\n        \n        \n            \n            NOT YET RELEASED\n             \n            \n            Seen |\n| 5.\n      12 Angry Men\n        (1957)             | 9.0 | 12345678910\n        \n        \n            \n            NOT YET RELEASED\n             \n            \n            Seen |\n| 6.\n      Schindler's List\n        (1993)         | 8.9 | 12345678910\n        \n        \n            \n            NOT YET RELEASED\n             \n            \n            Seen |\n\n",
            "text/latex": "A tibble: 6 × 3\n\\begin{tabular}{lll}\n Rank \\& Title & IMDb Rating & Your Rating\\\\\n <chr> & <dbl> & <chr>\\\\\n\\hline\n\t 1.\n      The Shawshank Redemption\n        (1994) & 9.2 & 12345678910\n        \n        \n            \n            NOT YET RELEASED\n             \n            \n            Seen\\\\\n\t 2.\n      The Godfather\n        (1972)            & 9.2 & 12345678910\n        \n        \n            \n            NOT YET RELEASED\n             \n            \n            Seen\\\\\n\t 3.\n      The Dark Knight\n        (2008)          & 9.0 & 12345678910\n        \n        \n            \n            NOT YET RELEASED\n             \n            \n            Seen\\\\\n\t 4.\n      The Godfather Part II\n        (1974)    & 9.0 & 12345678910\n        \n        \n            \n            NOT YET RELEASED\n             \n            \n            Seen\\\\\n\t 5.\n      12 Angry Men\n        (1957)             & 9.0 & 12345678910\n        \n        \n            \n            NOT YET RELEASED\n             \n            \n            Seen\\\\\n\t 6.\n      Schindler's List\n        (1993)         & 8.9 & 12345678910\n        \n        \n            \n            NOT YET RELEASED\n             \n            \n            Seen\\\\\n\\end{tabular}\n",
            "text/plain": [
              "  Rank & Title                                       IMDb Rating\n",
              "1 1.\\n      The Shawshank Redemption\\n        (1994) 9.2        \n",
              "2 2.\\n      The Godfather\\n        (1972)            9.2        \n",
              "3 3.\\n      The Dark Knight\\n        (2008)          9.0        \n",
              "4 4.\\n      The Godfather Part II\\n        (1974)    9.0        \n",
              "5 5.\\n      12 Angry Men\\n        (1957)             9.0        \n",
              "6 6.\\n      Schindler's List\\n        (1993)         8.9        \n",
              "  Your Rating                                                                                                               \n",
              "1 12345678910\\n        \\n        \\n            \\n            NOT YET RELEASED\\n             \\n            \\n            Seen\n",
              "2 12345678910\\n        \\n        \\n            \\n            NOT YET RELEASED\\n             \\n            \\n            Seen\n",
              "3 12345678910\\n        \\n        \\n            \\n            NOT YET RELEASED\\n             \\n            \\n            Seen\n",
              "4 12345678910\\n        \\n        \\n            \\n            NOT YET RELEASED\\n             \\n            \\n            Seen\n",
              "5 12345678910\\n        \\n        \\n            \\n            NOT YET RELEASED\\n             \\n            \\n            Seen\n",
              "6 12345678910\\n        \\n        \\n            \\n            NOT YET RELEASED\\n             \\n            \\n            Seen"
            ]
          },
          "metadata": {}
        }
      ],
      "source": [
        "library(rvest)\n",
        "imdb.250 <- read_html(\"https://www.imdb.com/chart/top/\") %>% html_element('table') %>% html_table() %>% select(2:4)\n",
        "head(imdb.250)"
      ]
    },
    {
      "cell_type": "markdown",
      "metadata": {
        "id": "W22g_Qufuf8t"
      },
      "source": [
        "The `Rank & Title` column contains three pieces of data: rank, title, and year of release."
      ]
    },
    {
      "cell_type": "markdown",
      "metadata": {
        "id": "zGmcL8izuf8t"
      },
      "source": [
        "## `separate_` functions\n",
        "`tidyverse` has some built-in functions designed to break apart and combine string data:\n",
        "- `separate_longer_delim`, `separate_longer_position`: combine multiple columns of string data into one.\n",
        "- `separate_wider_delim`, `separate_wider_position`: extract string data into multiple columns.\n",
        "These functions work analogously to `pivot_{wider,longer}`.\n"
      ]
    },
    {
      "cell_type": "markdown",
      "metadata": {
        "id": "VI1G5QM3uf8t"
      },
      "source": [
        "`separate_wider_delim` converts a delimited string into multiple columns of data. `separate_wider_position` does the same, but uses a fixed position."
      ]
    },
    {
      "cell_type": "code",
      "execution_count": 40,
      "metadata": {
        "id": "ZlruVQCnuf8t",
        "outputId": "d8d74962-8129-488c-8f9b-d421468fd772",
        "colab": {
          "base_uri": "https://localhost:8080/",
          "height": 192
        }
      },
      "outputs": [
        {
          "output_type": "display_data",
          "data": {
            "text/html": [
              "<table class=\"dataframe\">\n",
              "<caption>A tibble: 3 × 3</caption>\n",
              "<thead>\n",
              "\t<tr><th scope=col>code</th><th scope=col>edition</th><th scope=col>year</th></tr>\n",
              "\t<tr><th scope=col>&lt;chr&gt;</th><th scope=col>&lt;chr&gt;</th><th scope=col>&lt;chr&gt;</th></tr>\n",
              "</thead>\n",
              "<tbody>\n",
              "\t<tr><td>a10</td><td>1</td><td>2022</td></tr>\n",
              "\t<tr><td>b10</td><td>2</td><td>2011</td></tr>\n",
              "\t<tr><td>e15</td><td>1</td><td>2015</td></tr>\n",
              "</tbody>\n",
              "</table>\n"
            ],
            "text/markdown": "\nA tibble: 3 × 3\n\n| code &lt;chr&gt; | edition &lt;chr&gt; | year &lt;chr&gt; |\n|---|---|---|\n| a10 | 1 | 2022 |\n| b10 | 2 | 2011 |\n| e15 | 1 | 2015 |\n\n",
            "text/latex": "A tibble: 3 × 3\n\\begin{tabular}{lll}\n code & edition & year\\\\\n <chr> & <chr> & <chr>\\\\\n\\hline\n\t a10 & 1 & 2022\\\\\n\t b10 & 2 & 2011\\\\\n\t e15 & 1 & 2015\\\\\n\\end{tabular}\n",
            "text/plain": [
              "  code edition year\n",
              "1 a10  1       2022\n",
              "2 b10  2       2011\n",
              "3 e15  1       2015"
            ]
          },
          "metadata": {}
        }
      ],
      "source": [
        "df3 <- tibble(x = c(\"a10.1.2022\", \"b10.2.2011\", \"e15.1.2015\"))\n",
        "df3 %>%  separate_wider_delim(\n",
        "    x,\n",
        "    delim = \".\", # i want to break the values up by the period \n",
        "    names = c(\"code\", \"edition\", \"year\")\n",
        "  )\n"
      ]
    },
    {
      "cell_type": "code",
      "execution_count": 44,
      "metadata": {
        "id": "pyNTfG2wuf8u",
        "colab": {
          "base_uri": "https://localhost:8080/",
          "height": 286
        },
        "outputId": "9c03850f-0f19-4992-a115-367c1b1f940a"
      },
      "outputs": [
        {
          "output_type": "display_data",
          "data": {
            "text/html": [
              "<table class=\"dataframe\">\n",
              "<caption>A tibble: 6 × 5</caption>\n",
              "<thead>\n",
              "\t<tr><th scope=col>Rank</th><th scope=col>Title</th><th scope=col>Year</th><th scope=col>IMDb Rating</th><th scope=col>Your Rating</th></tr>\n",
              "\t<tr><th scope=col>&lt;chr&gt;</th><th scope=col>&lt;chr&gt;</th><th scope=col>&lt;chr&gt;</th><th scope=col>&lt;dbl&gt;</th><th scope=col>&lt;chr&gt;</th></tr>\n",
              "</thead>\n",
              "<tbody>\n",
              "\t<tr><td>1.</td><td>      The Shawshank Redemption</td><td>        (1994)</td><td>9.2</td><td>12345678910\n",
              "        \n",
              "        \n",
              "            \n",
              "            NOT YET RELEASED\n",
              "             \n",
              "            \n",
              "            Seen</td></tr>\n",
              "\t<tr><td>2.</td><td>      The Godfather           </td><td>        (1972)</td><td>9.2</td><td>12345678910\n",
              "        \n",
              "        \n",
              "            \n",
              "            NOT YET RELEASED\n",
              "             \n",
              "            \n",
              "            Seen</td></tr>\n",
              "\t<tr><td>3.</td><td>      The Dark Knight         </td><td>        (2008)</td><td>9.0</td><td>12345678910\n",
              "        \n",
              "        \n",
              "            \n",
              "            NOT YET RELEASED\n",
              "             \n",
              "            \n",
              "            Seen</td></tr>\n",
              "\t<tr><td>4.</td><td>      The Godfather Part II   </td><td>        (1974)</td><td>9.0</td><td>12345678910\n",
              "        \n",
              "        \n",
              "            \n",
              "            NOT YET RELEASED\n",
              "             \n",
              "            \n",
              "            Seen</td></tr>\n",
              "\t<tr><td>5.</td><td>      12 Angry Men            </td><td>        (1957)</td><td>9.0</td><td>12345678910\n",
              "        \n",
              "        \n",
              "            \n",
              "            NOT YET RELEASED\n",
              "             \n",
              "            \n",
              "            Seen</td></tr>\n",
              "\t<tr><td>6.</td><td>      Schindler's List        </td><td>        (1993)</td><td>8.9</td><td>12345678910\n",
              "        \n",
              "        \n",
              "            \n",
              "            NOT YET RELEASED\n",
              "             \n",
              "            \n",
              "            Seen</td></tr>\n",
              "</tbody>\n",
              "</table>\n"
            ],
            "text/markdown": "\nA tibble: 6 × 5\n\n| Rank &lt;chr&gt; | Title &lt;chr&gt; | Year &lt;chr&gt; | IMDb Rating &lt;dbl&gt; | Your Rating &lt;chr&gt; |\n|---|---|---|---|---|\n| 1. |       The Shawshank Redemption |         (1994) | 9.2 | 12345678910\n        \n        \n            \n            NOT YET RELEASED\n             \n            \n            Seen |\n| 2. |       The Godfather            |         (1972) | 9.2 | 12345678910\n        \n        \n            \n            NOT YET RELEASED\n             \n            \n            Seen |\n| 3. |       The Dark Knight          |         (2008) | 9.0 | 12345678910\n        \n        \n            \n            NOT YET RELEASED\n             \n            \n            Seen |\n| 4. |       The Godfather Part II    |         (1974) | 9.0 | 12345678910\n        \n        \n            \n            NOT YET RELEASED\n             \n            \n            Seen |\n| 5. |       12 Angry Men             |         (1957) | 9.0 | 12345678910\n        \n        \n            \n            NOT YET RELEASED\n             \n            \n            Seen |\n| 6. |       Schindler's List         |         (1993) | 8.9 | 12345678910\n        \n        \n            \n            NOT YET RELEASED\n             \n            \n            Seen |\n\n",
            "text/latex": "A tibble: 6 × 5\n\\begin{tabular}{lllll}\n Rank & Title & Year & IMDb Rating & Your Rating\\\\\n <chr> & <chr> & <chr> & <dbl> & <chr>\\\\\n\\hline\n\t 1. &       The Shawshank Redemption &         (1994) & 9.2 & 12345678910\n        \n        \n            \n            NOT YET RELEASED\n             \n            \n            Seen\\\\\n\t 2. &       The Godfather            &         (1972) & 9.2 & 12345678910\n        \n        \n            \n            NOT YET RELEASED\n             \n            \n            Seen\\\\\n\t 3. &       The Dark Knight          &         (2008) & 9.0 & 12345678910\n        \n        \n            \n            NOT YET RELEASED\n             \n            \n            Seen\\\\\n\t 4. &       The Godfather Part II    &         (1974) & 9.0 & 12345678910\n        \n        \n            \n            NOT YET RELEASED\n             \n            \n            Seen\\\\\n\t 5. &       12 Angry Men             &         (1957) & 9.0 & 12345678910\n        \n        \n            \n            NOT YET RELEASED\n             \n            \n            Seen\\\\\n\t 6. &       Schindler's List         &         (1993) & 8.9 & 12345678910\n        \n        \n            \n            NOT YET RELEASED\n             \n            \n            Seen\\\\\n\\end{tabular}\n",
            "text/plain": [
              "  Rank Title                          Year           IMDb Rating\n",
              "1 1.         The Shawshank Redemption         (1994) 9.2        \n",
              "2 2.         The Godfather                    (1972) 9.2        \n",
              "3 3.         The Dark Knight                  (2008) 9.0        \n",
              "4 4.         The Godfather Part II            (1974) 9.0        \n",
              "5 5.         12 Angry Men                     (1957) 9.0        \n",
              "6 6.         Schindler's List                 (1993) 8.9        \n",
              "  Your Rating                                                                                                               \n",
              "1 12345678910\\n        \\n        \\n            \\n            NOT YET RELEASED\\n             \\n            \\n            Seen\n",
              "2 12345678910\\n        \\n        \\n            \\n            NOT YET RELEASED\\n             \\n            \\n            Seen\n",
              "3 12345678910\\n        \\n        \\n            \\n            NOT YET RELEASED\\n             \\n            \\n            Seen\n",
              "4 12345678910\\n        \\n        \\n            \\n            NOT YET RELEASED\\n             \\n            \\n            Seen\n",
              "5 12345678910\\n        \\n        \\n            \\n            NOT YET RELEASED\\n             \\n            \\n            Seen\n",
              "6 12345678910\\n        \\n        \\n            \\n            NOT YET RELEASED\\n             \\n            \\n            Seen"
            ]
          },
          "metadata": {}
        }
      ],
      "source": [
        "# Problem: separate the string data under \"Rank & Title\" in imdb.250\n",
        "# Hint: there is a new line character in the string \n",
        "\n",
        "imdb.250 %>% separate_wider_delim(\n",
        "  'Rank & Title', # we need to use quotes b/c there r spaces \n",
        "  delim = \"\\n\",\n",
        "  names=c(\"Rank\",\"Title\",\"Year\")\n",
        ") %>% head"
      ]
    },
    {
      "cell_type": "markdown",
      "metadata": {
        "id": "e485VjTiuf8u"
      },
      "source": [
        "## Harry Potter\n",
        "Let's practice some string analysis by looking at the text of Harry Potter:\n",
        "![harry potter](https://images-na.ssl-images-amazon.com/images/I/51HSkTKlauL._SX346_BO1,204,203,200_.jpg)"
      ]
    },
    {
      "cell_type": "code",
      "source": [
        "remotes::install_github(\"bradleyboehmke/harrypotter\")"
      ],
      "metadata": {
        "colab": {
          "base_uri": "https://localhost:8080/"
        },
        "id": "cGjqoueB2ebV",
        "outputId": "25d2a957-633b-4a05-da36-81549fbc6799"
      },
      "execution_count": 45,
      "outputs": [
        {
          "output_type": "stream",
          "name": "stderr",
          "text": [
            "Downloading GitHub repo bradleyboehmke/harrypotter@HEAD\n",
            "\n"
          ]
        },
        {
          "output_type": "stream",
          "name": "stdout",
          "text": [
            "\u001b[36m──\u001b[39m \u001b[36mR CMD build\u001b[39m \u001b[36m─────────────────────────────────────────────────────────────────\u001b[39m\n",
            "* checking for file ‘/tmp/Rtmp4DmK5d/remotes775f465187/bradleyboehmke-harrypotter-51f7146/DESCRIPTION’ ... OK\n",
            "* preparing ‘harrypotter’:\n",
            "* checking DESCRIPTION meta-information ... OK\n",
            "* checking for LF line-endings in source and make files and shell scripts\n",
            "* checking for empty or unneeded directories\n",
            "* building ‘harrypotter_0.1.0.tar.gz’\n",
            "\n"
          ]
        },
        {
          "output_type": "stream",
          "name": "stderr",
          "text": [
            "Installing package into ‘/usr/local/lib/R/site-library’\n",
            "(as ‘lib’ is unspecified)\n",
            "\n"
          ]
        }
      ]
    },
    {
      "cell_type": "code",
      "source": [
        "library(harrypotter)"
      ],
      "metadata": {
        "id": "Ne6126G82gb_"
      },
      "execution_count": 46,
      "outputs": []
    },
    {
      "cell_type": "code",
      "execution_count": 47,
      "metadata": {
        "id": "vc8SGVr9uf8u",
        "outputId": "ca19fdd2-12f0-4f01-8017-bdca528858a5",
        "colab": {
          "base_uri": "https://localhost:8080/"
        }
      },
      "outputs": [
        {
          "output_type": "stream",
          "name": "stdout",
          "text": [
            " chr [1:17] \"THE BOY WHO LIVED　　Mr. and Mrs. Dursley, of number four, Privet Drive, were proud to say that they were perfe\"| __truncated__ ...\n"
          ]
        }
      ],
      "source": [
        "str(philosophers_stone)\n",
        "ch1 <- philosophers_stone[17]"
      ]
    },
    {
      "cell_type": "markdown",
      "metadata": {
        "id": "b23MuSLouf8u"
      },
      "source": [
        "`philosophers_stone` is a list containing seventeen entries: one for each chapter of \"Harry Potter and the Sorcerer's Stone\" (titled differently in the U.K.)\n",
        "\n",
        "Instead of reading Harry Potter, we will analyze it like a data set."
      ]
    },
    {
      "cell_type": "markdown",
      "metadata": {
        "id": "PtywPl2duf8u"
      },
      "source": [
        "Each entry of `philosophers_stone` is a *string*. There is one string per chapter, so they are pretty long. To figure out how long a string is, we can use the `str_length()` command:"
      ]
    },
    {
      "cell_type": "code",
      "execution_count": 51,
      "metadata": {
        "id": "0C1gobYruf8u",
        "outputId": "40f9f9a6-bdde-41e5-a470-0e5e08f4f7bc",
        "colab": {
          "base_uri": "https://localhost:8080/"
        }
      },
      "outputs": [
        {
          "output_type": "stream",
          "name": "stdout",
          "text": [
            "[1] \"THE BOY WHO LIVED　　Mr. and Mrs. Dursley, of number four, Privet Drive, were proud to say that they were perfectly normal, thank you very much. They were the last people you'd expect to be involved in anything strange or mysterious, because they just didn't hold with such nonsense.　　Mr. Dursley was the director of a firm called Grunnings, which made drills. He was a big, beefy man with hardly any neck, although he did have a very large mustache. Mrs. Dursley was thin and blonde and had nearly twice the usual amount of neck, which came in very useful as she spent so much of her time craning over garden fences, spying on the neighbors. The Dursleys had a small son called Dudley and in their opinion there was no finer boy anywhere.　　The Dursleys had everything they wanted, but they also had a secret, and their greatest fear was that somebody would discover it. They didn't think they could bear it if anyone found out about the Potters. Mrs. Potter was Mrs. Dursley's sister, but they hadn't met for several years; in fact, Mrs. Dursley pretended she didn't have a sister, because her sister and her good-for-nothing husband were as unDursleyish as it was possible to be. The Dursleys shuddered to think what the neighbors would say if the Potters arrived in the street. The Dursleys knew that the Potters had a small son, too, but they had never even seen him. This boy was another good reason for keeping the Potters away; they didn't want Dudley mixing with a child like that.　　When Mr. and Mrs. Dursley woke up on the dull, gray Tuesday our story starts, there was nothing about the cloudy sky outside to suggest that strange and mysterious things would soon be happening all over the country. Mr. Dursley hummed as he picked out his most boring tie for work, and Mrs. Dursley gossiped away happily as she wrestled a screaming Dudley into his high chair.　　None of them noticed a large, tawny owl flutter past the window.　　At half past eight, Mr. Dursley picked up his briefcase, pecked Mrs. Dursley on the cheek, and tried to kiss Dudley good-bye but missed, because Dudley was now having a tantrum and throwing his cereal at the walls. \\\"Little tyke,\\\" chortled Mr. Dursley as he left the house. He got into his car and backed out of number four's drive.　　It was on the corner of the street that he noticed the first sign of something peculiar -- a cat reading a map. For a second, Mr. Dursley didn't realize what he had seen -- then he jerked his head around to look again. There was a tabby cat standing on the corner of Privet Drive, but there wasn't a map in sight. What could he have been thinking of? It must have been a trick of the light. Mr. Dursley blinked and stared at the cat. It stared back. As Mr. Dursley drove around the corner and up the road, he watched the cat in his mirror. It was now reading the sign that said Privet Drive -- no, looking at the sign; cats couldn't read maps or signs. Mr. Dursley gave himself a little shake and put the cat out of his mind. As he drove toward town he thought of nothing except a large order of drills he was hoping to get that day.　　But on the edge of town, drills were driven out of his mind by something else. As he sat in the usual morning traffic jam, he couldn't help noticing that there seemed to be a lot of strangely dressed people about. People in cloaks. Mr. Dursley couldn't bear people who dressed in funny clothes -- the getups you saw on young people! He supposed this was some stupid new fashion. He drummed his fingers on the steering wheel and his eyes fell on a huddle of these weirdos standing quite close by. They were whispering excitedly together. Mr. Dursley was enraged to see that a couple of them weren't young at all; why, that man had to be older than he was, and wearing an emerald-green cloak! The nerve of him! But then it struck Mr. Dursley that this was probably some silly stunt -- these people were obviously collecting for something... yes, that would be it. The traffic moved on and a few minutes later, Mr. Dursley arrived in the Grunnings parking lot, his mind back on drills.　　Mr. Dursley always sat with his back to the window in his office on the ninth floor. If he hadn't, he might have found it harder to concentrate on drills that morning. He didn't see the owls swoop ing past in broad daylight, though people down in the street did; they pointed and gazed open- mouthed as owl after owl sped overhead. Most of them had never seen an owl even at nighttime. Mr. Dursley, however, had a perfectly normal, owl-free morning. He yelled at five different people. He made several important telephone calls and shouted a bit more. He was in a very good mood until lunchtime, when he thought he'd stretch his legs and walk across the road to buy himself a bun from the bakery.　　He'd forgotten all about the people in cloaks until he passed a group of them next to the baker's. He eyed them angrily as he passed. He didn't know why, but they made him uneasy. This bunch were whispering excitedly, too, and he couldn't see a single collecting tin. It was on his way back past them, clutching a large doughnut in a bag, that he caught a few words of what they were saying.　　 \\\"The Potters, that's right, that's what I heard yes, their son, Harry\\\"　　Mr. Dursley stopped dead. Fear flooded him. He looked back at the whisperers as if he wanted to say something to them, but thought better of it.　　He dashed back across the road, hurried up to his office, snapped at his secretary not to disturb him, seized his telephone, and had almost finished dialing his home number when he changed his mind. He put the receiver back down and stroked his mustache, thinking... no, he was being stupid. Potter wasn't such an unusual name. He was sure there were lots of people called Potter who had a son called Harry. Come to think of it, he wasn't even sure his nephew was called Harry. He'd never even seen the boy. It might have been Harvey. Or Harold. There was no point in worrying Mrs. Dursley; she always got so upset at any mention of her sister. He didn't blame her -- if he'd had a sister like that... but all the same, those people in cloaks...　　He found it a lot harder to concentrate on drills that afternoon and when he left the building at five o'clock, he was still so worried that he walked straight into someone just outside the door.　　\\\"Sorry,\\\" he grunted, as the tiny old man stumbled and almost fell. It was a few seconds before Mr. Dursley realized that the man was wearing a violet cloak. He didn't seem at all upset at being almost knocked to the ground. On the contrary, his face split into a wide smile and he said in a squeaky voice that made passersby stare, \\\"Don't be sorry, my dear sir, for nothing could upset me today! Rejoice, for You-Know-Who has gone at last! Even Muggles like yourself should be celebrating, this happy, happy day!\\\"　　And the old man hugged Mr. Dursley around the middle and walked off.　　Mr. Dursley stood rooted to the spot. He had been hugged by a complete stranger. He also thought he had been called a Muggle, whatever that was. He was rattled. He hurried to his car and set off for home, hoping he was imagining things, which he had never hoped before, because he didn't approve of imagination.　　As he pulled into the driveway of number four, the first thing he saw -- and it didn't improve his mood -- was the tabby cat he'd spotted that morning. It was now sitting on his garden wall. He was sure it was the same one; it had the same markings around its eyes.　　\\\"Shoo!\\\" said Mr. Dursley loudly. The cat didn't move. It just gave him a stern look. Was this normal cat behavior? Mr. Dursley wondered. Trying to pull himself together, he let himself into the house. He was still determined not to mention anything to his wife.　　Mrs. Dursley had had a nice, normal day. She told him over dinner all about Mrs. Next Door's problems with her daughter and how Dudley had learned a new word (\\\"Won't!\\\"). Mr. Dursley tried to act normally. When Dudley had been put to bed, he went into the living room in time to catch the last report on the evening news:　　\\\"And finally, bird-watchers everywhere have reported that the nation's owls have been behaving very unusually today. Although owls normally hunt at night and are hardly ever seen in daylight, there have been hundreds of sightings of these birds flying in every direction since sunrise. Experts are unable to explain why the owls have suddenly changed their sleeping pattern.\\\" The newscaster allowed himself a grin. \\\"Most mysterious. And now, over to Jim McGuffin with the weather. Going to be any more showers of owls tonight, Jim?\\\"　　\\\"Well, Ted,\\\" said the weatherman, \\\"I don't know about that, but it's not only the owls that have been acting oddly today. Viewers as far apart as Kent, Yorkshire, and Dundee have been phoning in to tell me that instead of the rain I promised yesterday, they've had a downpour of shooting stars! Perhaps people have been celebrating Bonfire Night early -- it's not until next week, folks! But I can promise a wet night tonight.\\\"　　Mr. Dursley sat frozen in his armchair. Shooting stars all over Britain? Owls flying by daylight? Mysterious people in cloaks all over the place? And a whisper, a whisper about the Potters...　　Mrs. Dursley came into the living room carrying two cups of tea. It was no good. He'd have to say something to her. He cleared his throat nervously. \\\"Er -- Petunia, dear -- you haven't heard from your sister lately, have you?\\\"　　As he had expected, Mrs. Dursley looked shocked and angry. After all, they normally pretended she didn't have a sister.　　\\\"No,\\\" she said sharply. \\\"Why?\\\"　　\\\"Funny stuff on the news,\\\" Mr. Dursley mumbled. \\\"Owls... shooting stars... and there were a lot of funny-looking people in town today...\\\"　　\\\"So?\\\" snapped Mrs. Dursley.　　\\\"Well, I just thought... maybe... it was something to do with... you know... her crowd.\\\"　　Mrs. Dursley sipped her tea through pursed lips. Mr. Dursley wondered whether he dared tell her he'd heard the name \\\"Potter.\\\" He decided he didn't dare. Instead he said, as casually as he could, \\\"Their son -- he'd be about Dudley's age now, wouldn't he?\\\"　　\\\"I suppose so,\\\" said Mrs. Dursley stiffly.　　\\\"What's his name again? Howard, isn't it?\\\"　　\\\"Harry. Nasty, common name, if you ask me.\\\"　　\\\"Oh, yes,\\\" said Mr. Dursley, his heart sinking horribly. \\\"Yes, I quite agree.\\\"　　He didn't say another word on the subject as they went upstairs to bed. While Mrs. Dursley was in the bathroom, Mr. Dursley crept to the bedroom window and peered down into the front garden. The cat was still there. It was staring down Privet Drive as though it were waiting for something.　　Was he imagining things? Could all this have anything to do with the Potters? If it did... if it got out that they were related to a pair of -- well, he didn't think he could bear it.　　The Dursleys got into bed. Mrs. Dursley fell asleep quickly but Mr. Dursley lay awake, turning it all over in his mind. His last, comforting thought before he fell asleep was that even if the Potters were involved, there was no reason for them to come near him and Mrs. Dursley. The Potters knew very well what he and Petunia thought about them and their kind.... He couldn't see how he and Petunia could get mixed up in anything that might be going on -- he yawned and turned over -- it couldn't affect them....　　How very wrong he was.　　Mr. Dursley might have been drifting into an uneasy sleep, but the cat on the wall outside was showing no sign of sleepiness. It was sitting as still as a statue, its eyes fixed unblinkingly on the far corner of Privet Drive. It didn't so much as quiver when a car door slammed on the next street, nor when two owls swooped overhead. In fact, it was nearly midnight before the cat moved at all.　　A man appeared on the corner the cat had been watching, appeared so suddenly and silently you'd have thought he'd just popped out of the ground. The cat's tail twitched and its eyes narrowed.　　Nothing like this man had ever been seen on Privet Drive. He was tall, thin, and very old, judging by the silver of his hair and beard, which were both long enough to tuck into his belt. He was wearing long robes, a purple cloak that swept the ground, and high-heeled, buckled boots. His blue eyes were light, bright, and sparkling behind half-moon spectacles and his nose was very long and crooked, as though it had been broken at least twice. This man's name was Albus Dumbledore.　　Albus Dumbledore didn't seem to realize that he had just arrived in a street where everything from his name to his boots was unwelcome. He was busy rummaging in his cloak, looking for something. But he did seem to realize he was being watched, because he looked up suddenly at the cat, which was still staring at him from the other end of the street. For some reason, the sight of the cat seemed to amuse him. He chuckled and muttered, \\\"I should have known.\\\"　　He found what he was looking for in his inside pocket. It seemed to be a silver cigarette lighter. He flicked it open, held it up in the air, and clicked it. The nearest street lamp went out with a little pop. He clicked it again -- the next lamp flickered into darkness. Twelve times he clicked the Put-Outer, until the only lights left on the whole street were two tiny pinpricks in the distance, which were the eyes of the cat watching him. If anyone looked out of their window now, even beady-eyed Mrs. Dursley, they wouldn't be able to see anything that was happening down on the pavement. Dumbledore slipped the Put-Outer back inside his cloak and set off down the street toward number four, where he sat down on the wall next to the cat. He didn't look at it, but after a moment he spoke to it.　　\\\"Fancy seeing you here, Professor McGonagall.\\\"　　He turned to smile at the tabby, but it had gone. Instead he was smiling at a rather severe-looking woman who was wearing square glasses exactly the shape of the markings the cat had had around its eyes. She, too, was wearing a cloak, an emerald one. Her black hair was drawn into a tight bun. She looked distinctly ruffled.　　\\\"How did you know it was me?\\\" she asked.　　\\\"My dear Professor, I 've never seen a cat sit so stiffly.\\\"　　\\\"You'd be stiff if you'd been sitting on a brick wall all day,\\\" said Professor McGonagall.　　\\\"All day? When you could have been celebrating? I must have passed a dozen feasts and parties on my way here.\\\"　　Professor McGonagall sniffed angrily.　　\\\"Oh yes, everyone's celebrating, all right,\\\" she said impatiently. \\\"You'd think they'd be a bit more careful, but no -- even the Muggles have noticed something's going on. It was on their news.\\\" She jerked her head back at the Dursleys' dark living-room window. \\\"I heard it. Flocks of owls... shooting stars.... Well, they're not completely stupid. They were bound to notice something. Shooting stars down in Kent -- I'll bet that was Dedalus Diggle. He never had much sense.\\\"　　\\\"You can't blame them,\\\" said Dumbledore gently. \\\"We've had precious little to celebrate for eleven years.\\\"　　\\\"I know that,\\\" said Professor McGonagall irritably. \\\"But that's no reason to lose our heads. People are being downright careless, out on the streets in broad daylight, not even dressed in Muggle clothes, swapping rumors.\\\"　　She threw a sharp, sideways glance at Dumbledore here, as though hoping he was going to tell her something, but he didn't, so she went on. \\\"A fine thing it would be if, on the very day YouKnow-Who seems to have disappeared at last, the Muggles found out about us all. I suppose he really has gone, Dumbledore?\\\"　　\\\"It certainly seems so,\\\" said Dumbledore. \\\"We have much to be thankful for. Would you care for a lemon drop?\\\"　　\\\"A what?\\\"　　\\\"A lemon drop. They're a kind of Muggle sweet I'm rather fond of\\\"　　\\\"No, thank you,\\\" said Professor McGonagall coldly, as though she didn't think this was the moment for lemon drops. \\\"As I say, even if You-Know-Who has gone -\\\"　　\\\"My dear Professor, surely a sensible person like yourself can call him by his name? All this 'You- Know-Who' nonsense -- for eleven years I have been trying to persuade people to call him by his proper name: Voldemort.\\\" Professor McGonagall flinched, but Dumbledore, who was unsticking two lemon drops, seemed not to notice. \\\"It all gets so confusing if we keep saying 'You-Know-Who.' I have never seen any reason to be frightened of saying Voldemort's name.　　\\\"I know you haven 't, said Professor McGonagall, sounding half exasperated, half admiring. \\\"But you're different. Everyone knows you're the only one You-Know- oh, all right, Voldemort, was frightened of.\\\"　　\\\"You flatter me,\\\" said Dumbledore calmly. \\\"Voldemort had powers I will never have.\\\"　　\\\"Only because you're too -- well -- noble to use them.\\\"　　\\\"It's lucky it's dark. I haven't blushed so much since Madam Pomfrey told me she liked my new earmuffs.\\\"　　Professor McGonagall shot a sharp look at Dumbledore and said, \\\"The owls are nothing next to the rumors that are flying around. You know what everyone's saying? About why he's disappeared? About what finally stopped him?\\\"　　It seemed that Professor McGonagall had reached the point she was most anxious to discuss, the real reason she had been waiting on a cold, hard wall all day, for neither as a cat nor as a woman had she fixed Dumbledore with such a piercing stare as she did now. It was plain that whatever \\\"everyone\\\" was saying, she was not going to believe it until Dumbledore told her it was true. Dumbledore, however, was choosing another lemon drop and did not answer.　　\\\"What they're saying,\\\" she pressed on, \\\"is that last night Voldemort turned up in Godric's Hollow. He went to find the Potters. The rumor is that Lily and James Potter are -- are -- that they're -- dead. \\\"　　Dumbledore bowed his head. Professor McGonagall gasped.　　\\\"Lily and James... I can't believe it... I didn't want to believe it... Oh, Albus...\\\"　　Dumbledore reached out and patted her on the shoulder. \\\"I know... I know...\\\" he said heavily.　　Professor McGonagall's voice trembled as she went on. \\\"That's not all. They're saying he tried to kill the Potter's son, Harry. But -- he couldn't. He couldn't kill that little boy. No one knows why, or how, but they're saying that when he couldn't kill Harry Potter, Voldemort's power somehow broke -- and that's why he's gone.　　Dumbledore nodded glumly.　　\\\"It's -- it's true?\\\" faltered Professor McGonagall. \\\"After all he's done... all the people he's killed... he couldn't kill a little boy? It's just astounding... of all the things to stop him... but how in the name of heaven did Harry survive?\\\"　　\\\"We can only guess,\\\" said Dumbledore. \\\"We may never know.\\\"　　Professor McGonagall pulled out a lace handkerchief and dabbed at her eyes beneath her spectacles. Dumbledore gave a great sniff as he took a golden watch from his pocket and examined it. It was a very odd watch. It had twelve hands but no numbers; instead, little planets were moving around the edge. It must have made sense to Dumbledore, though, because he put it back in his pocket and said, \\\"Hagrid's late. I suppose it was he who told you I'd be here, by the way?\\\"　　\\\"Yes,\\\" said Professor McGonagall. \\\"And I don't suppose you're going to tell me why you're here, of all places?\\\"　　\\\"I've come to bring Harry to his aunt and uncle. They're the only family he has left now.\\\"　　\\\"You don't mean -- you can't mean the people who live here?\\\" cried Professor McGonagall, jumping to her feet and pointing at number four. \\\"Dumbledore -- you can't. I've been watching them all day. You couldn't find two people who are less like us. And they've got this son -- I saw him kicking his mother all the way up the street, screaming for sweets. Harry Potter come and live here!\\\"　　\\\"It's the best place for him,\\\" said Dumbledore firmly. \\\"His aunt and uncle will be able to explain everything to him when he's older. I've written them a letter.\\\"　　\\\"A letter?\\\" repeated Professor McGonagall faintly, sitting back down on the wall. \\\"Really, Dumbledore, you think you can explain all this in a letter? These people will never understand him! He'll be famous -- a legend -- I wouldn't be surprised if today was known as Harry Potter day in the future -- there will be books written about Harry -- every child in our world will know his name!\\\"　　\\\"Exactly,\\\" said Dumbledore, looking very seriously over the top of his half-moon glasses. \\\"It would be enough to turn any boy's head. Famous before he can walk and talk! Famous for something he won't even remember! CarA you see how much better off he'll be, growing up away from all that until he's ready to take it?\\\"　　Professor McGonagall opened her mouth, changed her mind, swallowed, and then said, \\\"Yes -- yes, you're right, of course. But how is the boy getting here, Dumbledore?\\\" She eyed his cloak suddenly as though she thought he might be hiding Harry underneath it.　　\\\"Hagrid's bringing him.\\\"　　\\\"You think it -- wise -- to trust Hagrid with something as important as this?\\\"　　I would trust Hagrid with my life,\\\" said Dumbledore.　　\\\"I'm not saying his heart isn't in the right place,\\\" said Professor McGonagall grudgingly, \\\"but you can't pretend he's not careless. He does tend to -- what was that?\\\"　　A low rumbling sound had broken the silence around them. It grew steadily louder as they looked up and down the street for some sign of a headlight; it swelled to a roar as they both looked up at the sky -- and a huge motorcycle fell out of the air and landed on the road in front of them.　　If the motorcycle was huge, it was nothing to the man sitting astride it. He was almost twice as tall as a normal man and at least five times as wide. He looked simply too big to be allowed, and so wild - long tangles of bushy black hair and beard hid most of his face, he had hands the size of trash can lids, and his feet in their leather boots were like baby dolphins. In his vast, muscular arms he was holding a bundle of blankets.　　\\\"Hagrid,\\\" said Dumbledore, sounding relieved. \\\"At last. And where did you get that motorcycle?\\\"　　\\\"Borrowed it, Professor Dumbledore, sit,\\\" said the giant, climbing carefully off the motorcycle as he spoke. \\\"Young Sirius Black lent it to me. I've got him, sir.\\\"　　\\\"No problems, were there?\\\"　　\\\"No, sir -- house was almost destroyed, but I got him out all right before the Muggles started swarmin' around. He fell asleep as we was flyin' over Bristol.\\\"　　Dumbledore and Professor McGonagall bent forward over the bundle of blankets. Inside, just visible, was a baby boy, fast asleep. Under a tuft of jet-black hair over his forehead they could see a curiously shaped cut, like a bolt of lightning.　　\\\"Is that where -?\\\" whispered Professor McGonagall.　　\\\"Yes,\\\" said Dumbledore. \\\"He'll have that scar forever.\\\"　　\\\"Couldn't you do something about it, Dumbledore?\\\"　　\\\"Even if I could, I wouldn't. Scars can come in handy. I have one myself above my left knee that is a perfect map of the London Underground. Well -- give him here, Hagrid -- we'd better get this over with.\\\"　　Dumbledore took Harry in his arms and turned toward the Dursleys' house.　　\\\"Could I -- could I say good-bye to him, sir?\\\" asked Hagrid. He bent his great, shaggy head over Harry and gave him what must have been a very scratchy, whiskery kiss. Then, suddenly, Hagrid let out a howl like a wounded dog.　　\\\"Shhh!\\\" hissed Professor McGonagall, \\\"you'll wake the Muggles!\\\"　　\\\"S-s-sorry,\\\" sobbed Hagrid, taking out a large, spotted handkerchief and burying his face in it. \\\"But I c-c-can't stand it -- Lily an' James dead -- an' poor little Harry off ter live with Muggles -\\\"　　\\\"Yes, yes, it's all very sad, but get a grip on yourself, Hagrid, or we'll be found,\\\" Professor McGonagall whispered, patting Hagrid gingerly on the arm as Dumbledore stepped over the low garden wall and walked to the front door. He laid Harry gently on the doorstep, took a letter out of his cloak, tucked it inside Harry's blankets, and then came back to the other two. For a full minute the three of them stood and looked at the little bundle; Hagrid's shoulders shook, Professor McGonagall blinked furiously, and the twinkling light that usually shone from Dumbledore's eyes seemed to have gone out.　　\\\"Well,\\\" said Dumbledore finally, \\\"that's that. We've no business staying here. We may as well go and join the celebrations.\\\"　　\\\"Yeah,\\\" said Hagrid in a very muffled voice, \\\"I'll be takin' Sirius his bike back. G'night, Professor McGonagall -- Professor Dumbledore, sir.\\\"　　Wiping his streaming eyes on his jacket sleeve, Hagrid swung himself onto the motorcycle and kicked the engine into life; with a roar it rose into the air and off into the night.　　\\\"I shall see you soon, I expect, Professor McGonagall,\\\" said Dumbledore, nodding to her. Professor McGonagall blew her nose in reply.　　Dumbledore turned and walked back down the street. On the corner he stopped and took out the silver Put-Outer. He clicked it once, and twelve balls of light sped back to their street lamps so that Privet Drive glowed suddenly orange and he could make out a tabby cat slinking around the corner at the other end of the street. He could just see the bundle of blankets on the step of number four.　　\\\"Good luck, Harry,\\\" he murmured. He turned on his heel and with a swish of his cloak, he was gone.　　A breeze ruffled the neat hedges of Privet Drive, which lay silent and tidy under the inky sky, the very last place you would expect astonishing things to happen. Harry Potter rolled over inside his blankets without waking up. One small hand closed on the letter beside him and he slept on, not knowing he was special, not knowing he was famous, not knowing he would be woken in a few hours' time by Mrs. Dursley's scream as she opened the front door to put out the milk bottles, nor that he would spend the next few weeks being prodded and pinched by his cousin Dudley... He couldn't know that at this very moment, people meeting in secret all over the country were holding up their glasses and saying in hushed voices: \\\"To Harry Potter -- the boy who lived!\"\n"
          ]
        }
      ],
      "source": [
        "ch1 <- philosophers_stone[[1]]\n",
        "# length(philosophers_stone)\n",
        "ch1 %>% print"
      ]
    },
    {
      "cell_type": "markdown",
      "metadata": {
        "id": "8lMrvZffuf8u"
      },
      "source": [
        "### Exercise\n",
        "What is the longest (in number of characters) chapter in Philosopher's Stone?"
      ]
    },
    {
      "cell_type": "code",
      "source": [
        "str_length('abc xyz')"
      ],
      "metadata": {
        "colab": {
          "base_uri": "https://localhost:8080/",
          "height": 34
        },
        "id": "LX66emgA3FQN",
        "outputId": "6ef057eb-6f61-43de-a4da-2a39e13a78c4"
      },
      "execution_count": 49,
      "outputs": [
        {
          "output_type": "display_data",
          "data": {
            "text/html": [
              "7"
            ],
            "text/markdown": "7",
            "text/latex": "7",
            "text/plain": [
              "[1] 7"
            ]
          },
          "metadata": {}
        }
      ]
    },
    {
      "cell_type": "code",
      "execution_count": 54,
      "metadata": {
        "id": "5v56lrN1uf8u",
        "colab": {
          "base_uri": "https://localhost:8080/",
          "height": 52
        },
        "outputId": "7a1fec50-794b-4988-81a4-c56be6e47b46"
      },
      "outputs": [
        {
          "output_type": "display_data",
          "data": {
            "text/html": [
              "<style>\n",
              ".list-inline {list-style: none; margin:0; padding: 0}\n",
              ".list-inline>li {display: inline-block}\n",
              ".list-inline>li:not(:last-child)::after {content: \"\\00b7\"; padding: 0 .5ex}\n",
              "</style>\n",
              "<ol class=list-inline><li>25928</li><li>19181</li><li>21570</li><li>20429</li><li>37699</li><li>35057</li><li>25344</li><li>17249</li><li>28273</li><li>24211</li><li>19222</li><li>30782</li><li>18319</li><li>19591</li><li>29006</li><li>36464</li><li>31105</li></ol>\n"
            ],
            "text/markdown": "1. 25928\n2. 19181\n3. 21570\n4. 20429\n5. 37699\n6. 35057\n7. 25344\n8. 17249\n9. 28273\n10. 24211\n11. 19222\n12. 30782\n13. 18319\n14. 19591\n15. 29006\n16. 36464\n17. 31105\n\n\n",
            "text/latex": "\\begin{enumerate*}\n\\item 25928\n\\item 19181\n\\item 21570\n\\item 20429\n\\item 37699\n\\item 35057\n\\item 25344\n\\item 17249\n\\item 28273\n\\item 24211\n\\item 19222\n\\item 30782\n\\item 18319\n\\item 19591\n\\item 29006\n\\item 36464\n\\item 31105\n\\end{enumerate*}\n",
            "text/plain": [
              " [1] 25928 19181 21570 20429 37699 35057 25344 17249 28273 24211 19222 30782\n",
              "[13] 18319 19591 29006 36464 31105"
            ]
          },
          "metadata": {}
        }
      ],
      "source": [
        "# For each of the 17 chapters, these are the character counts:\n",
        "str_length(philosophers_stone) "
      ]
    },
    {
      "cell_type": "code",
      "source": [
        "# Make a tibble out of this data:\n",
        "tibble(text=philosophers_stone,\n",
        "        ch_length=str_length(text))%>%\n",
        "          select(ch_length)"
      ],
      "metadata": {
        "colab": {
          "base_uri": "https://localhost:8080/",
          "height": 649
        },
        "id": "u7lNGCiu3PTc",
        "outputId": "544cb2be-b491-4b6a-a5ce-2cac13e55a17"
      },
      "execution_count": 55,
      "outputs": [
        {
          "output_type": "display_data",
          "data": {
            "text/html": [
              "<table class=\"dataframe\">\n",
              "<caption>A tibble: 17 × 1</caption>\n",
              "<thead>\n",
              "\t<tr><th scope=col>ch_length</th></tr>\n",
              "\t<tr><th scope=col>&lt;int&gt;</th></tr>\n",
              "</thead>\n",
              "<tbody>\n",
              "\t<tr><td>25928</td></tr>\n",
              "\t<tr><td>19181</td></tr>\n",
              "\t<tr><td>21570</td></tr>\n",
              "\t<tr><td>20429</td></tr>\n",
              "\t<tr><td>37699</td></tr>\n",
              "\t<tr><td>35057</td></tr>\n",
              "\t<tr><td>25344</td></tr>\n",
              "\t<tr><td>17249</td></tr>\n",
              "\t<tr><td>28273</td></tr>\n",
              "\t<tr><td>24211</td></tr>\n",
              "\t<tr><td>19222</td></tr>\n",
              "\t<tr><td>30782</td></tr>\n",
              "\t<tr><td>18319</td></tr>\n",
              "\t<tr><td>19591</td></tr>\n",
              "\t<tr><td>29006</td></tr>\n",
              "\t<tr><td>36464</td></tr>\n",
              "\t<tr><td>31105</td></tr>\n",
              "</tbody>\n",
              "</table>\n"
            ],
            "text/markdown": "\nA tibble: 17 × 1\n\n| ch_length &lt;int&gt; |\n|---|\n| 25928 |\n| 19181 |\n| 21570 |\n| 20429 |\n| 37699 |\n| 35057 |\n| 25344 |\n| 17249 |\n| 28273 |\n| 24211 |\n| 19222 |\n| 30782 |\n| 18319 |\n| 19591 |\n| 29006 |\n| 36464 |\n| 31105 |\n\n",
            "text/latex": "A tibble: 17 × 1\n\\begin{tabular}{l}\n ch\\_length\\\\\n <int>\\\\\n\\hline\n\t 25928\\\\\n\t 19181\\\\\n\t 21570\\\\\n\t 20429\\\\\n\t 37699\\\\\n\t 35057\\\\\n\t 25344\\\\\n\t 17249\\\\\n\t 28273\\\\\n\t 24211\\\\\n\t 19222\\\\\n\t 30782\\\\\n\t 18319\\\\\n\t 19591\\\\\n\t 29006\\\\\n\t 36464\\\\\n\t 31105\\\\\n\\end{tabular}\n",
            "text/plain": [
              "   ch_length\n",
              "1  25928    \n",
              "2  19181    \n",
              "3  21570    \n",
              "4  20429    \n",
              "5  37699    \n",
              "6  35057    \n",
              "7  25344    \n",
              "8  17249    \n",
              "9  28273    \n",
              "10 24211    \n",
              "11 19222    \n",
              "12 30782    \n",
              "13 18319    \n",
              "14 19591    \n",
              "15 29006    \n",
              "16 36464    \n",
              "17 31105    "
            ]
          },
          "metadata": {}
        }
      ]
    },
    {
      "cell_type": "markdown",
      "metadata": {
        "id": "P7InISNruf8u"
      },
      "source": [
        "Now say we wanted to find the chapter with the most words. Is it necessarily the same?"
      ]
    },
    {
      "cell_type": "code",
      "source": [
        "# To find the word count for each of the 17 chapters, use str_count:\n",
        "tibble(text=philosophers_stone,\n",
        "        chara_length=str_length(text),\n",
        "        word_count=str_count(text,'\\\\w'))%>%\n",
        "          select(chara_length,word_count)"
      ],
      "metadata": {
        "colab": {
          "base_uri": "https://localhost:8080/",
          "height": 631
        },
        "id": "j0WrrQOT31zQ",
        "outputId": "9a003540-4c36-45e7-e68e-669f93409bc2"
      },
      "execution_count": 62,
      "outputs": [
        {
          "output_type": "display_data",
          "data": {
            "text/html": [
              "<table class=\"dataframe\">\n",
              "<caption>A tibble: 17 × 2</caption>\n",
              "<thead>\n",
              "\t<tr><th scope=col>chara_length</th><th scope=col>word_count</th></tr>\n",
              "\t<tr><th scope=col>&lt;int&gt;</th><th scope=col>&lt;int&gt;</th></tr>\n",
              "</thead>\n",
              "<tbody>\n",
              "\t<tr><td>25928</td><td>19888</td></tr>\n",
              "\t<tr><td>19181</td><td>14780</td></tr>\n",
              "\t<tr><td>21570</td><td>16629</td></tr>\n",
              "\t<tr><td>20429</td><td>15251</td></tr>\n",
              "\t<tr><td>37699</td><td>28637</td></tr>\n",
              "\t<tr><td>35057</td><td>26400</td></tr>\n",
              "\t<tr><td>25344</td><td>19501</td></tr>\n",
              "\t<tr><td>17249</td><td>13445</td></tr>\n",
              "\t<tr><td>28273</td><td>21601</td></tr>\n",
              "\t<tr><td>24211</td><td>18629</td></tr>\n",
              "\t<tr><td>19222</td><td>14697</td></tr>\n",
              "\t<tr><td>30782</td><td>23547</td></tr>\n",
              "\t<tr><td>18319</td><td>14052</td></tr>\n",
              "\t<tr><td>19591</td><td>14845</td></tr>\n",
              "\t<tr><td>29006</td><td>22044</td></tr>\n",
              "\t<tr><td>36464</td><td>27422</td></tr>\n",
              "\t<tr><td>31105</td><td>23444</td></tr>\n",
              "</tbody>\n",
              "</table>\n"
            ],
            "text/markdown": "\nA tibble: 17 × 2\n\n| chara_length &lt;int&gt; | word_count &lt;int&gt; |\n|---|---|\n| 25928 | 19888 |\n| 19181 | 14780 |\n| 21570 | 16629 |\n| 20429 | 15251 |\n| 37699 | 28637 |\n| 35057 | 26400 |\n| 25344 | 19501 |\n| 17249 | 13445 |\n| 28273 | 21601 |\n| 24211 | 18629 |\n| 19222 | 14697 |\n| 30782 | 23547 |\n| 18319 | 14052 |\n| 19591 | 14845 |\n| 29006 | 22044 |\n| 36464 | 27422 |\n| 31105 | 23444 |\n\n",
            "text/latex": "A tibble: 17 × 2\n\\begin{tabular}{ll}\n chara\\_length & word\\_count\\\\\n <int> & <int>\\\\\n\\hline\n\t 25928 & 19888\\\\\n\t 19181 & 14780\\\\\n\t 21570 & 16629\\\\\n\t 20429 & 15251\\\\\n\t 37699 & 28637\\\\\n\t 35057 & 26400\\\\\n\t 25344 & 19501\\\\\n\t 17249 & 13445\\\\\n\t 28273 & 21601\\\\\n\t 24211 & 18629\\\\\n\t 19222 & 14697\\\\\n\t 30782 & 23547\\\\\n\t 18319 & 14052\\\\\n\t 19591 & 14845\\\\\n\t 29006 & 22044\\\\\n\t 36464 & 27422\\\\\n\t 31105 & 23444\\\\\n\\end{tabular}\n",
            "text/plain": [
              "   chara_length word_count\n",
              "1  25928        19888     \n",
              "2  19181        14780     \n",
              "3  21570        16629     \n",
              "4  20429        15251     \n",
              "5  37699        28637     \n",
              "6  35057        26400     \n",
              "7  25344        19501     \n",
              "8  17249        13445     \n",
              "9  28273        21601     \n",
              "10 24211        18629     \n",
              "11 19222        14697     \n",
              "12 30782        23547     \n",
              "13 18319        14052     \n",
              "14 19591        14845     \n",
              "15 29006        22044     \n",
              "16 36464        27422     \n",
              "17 31105        23444     "
            ]
          },
          "metadata": {}
        }
      ]
    },
    {
      "cell_type": "code",
      "source": [
        "# How many spaces are there b/w words: \n",
        "tibble(text=philosophers_stone,\n",
        "        chara_length=str_length(text),\n",
        "        word_count=str_count(text,'\\\\w'),\n",
        "        spaces_count=str_count(text,'\\\\s'))%>%\n",
        "          select(chara_length,word_count,spaces_count)%>%\n",
        "          print"
      ],
      "metadata": {
        "colab": {
          "base_uri": "https://localhost:8080/"
        },
        "id": "-gRWDBpy4Z8B",
        "outputId": "26767008-2adc-446c-a304-100686c0f640"
      },
      "execution_count": 92,
      "outputs": [
        {
          "output_type": "stream",
          "name": "stdout",
          "text": [
            "\u001b[90m# A tibble: 17 × 3\u001b[39m\n",
            "   chara_length word_count spaces_count\n",
            "          \u001b[3m\u001b[90m<int>\u001b[39m\u001b[23m      \u001b[3m\u001b[90m<int>\u001b[39m\u001b[23m        \u001b[3m\u001b[90m<int>\u001b[39m\u001b[23m\n",
            "\u001b[90m 1\u001b[39m        \u001b[4m2\u001b[24m\u001b[4m5\u001b[24m928      \u001b[4m1\u001b[24m\u001b[4m9\u001b[24m888         \u001b[4m4\u001b[24m751\n",
            "\u001b[90m 2\u001b[39m        \u001b[4m1\u001b[24m\u001b[4m9\u001b[24m181      \u001b[4m1\u001b[24m\u001b[4m4\u001b[24m780         \u001b[4m3\u001b[24m574\n",
            "\u001b[90m 3\u001b[39m        \u001b[4m2\u001b[24m\u001b[4m1\u001b[24m570      \u001b[4m1\u001b[24m\u001b[4m6\u001b[24m629         \u001b[4m3\u001b[24m999\n",
            "\u001b[90m 4\u001b[39m        \u001b[4m2\u001b[24m\u001b[4m0\u001b[24m429      \u001b[4m1\u001b[24m\u001b[4m5\u001b[24m251         \u001b[4m3\u001b[24m900\n",
            "\u001b[90m 5\u001b[39m        \u001b[4m3\u001b[24m\u001b[4m7\u001b[24m699      \u001b[4m2\u001b[24m\u001b[4m8\u001b[24m637         \u001b[4m6\u001b[24m927\n",
            "\u001b[90m 6\u001b[39m        \u001b[4m3\u001b[24m\u001b[4m5\u001b[24m057      \u001b[4m2\u001b[24m\u001b[4m6\u001b[24m400         \u001b[4m6\u001b[24m636\n",
            "\u001b[90m 7\u001b[39m        \u001b[4m2\u001b[24m\u001b[4m5\u001b[24m344      \u001b[4m1\u001b[24m\u001b[4m9\u001b[24m501         \u001b[4m4\u001b[24m695\n",
            "\u001b[90m 8\u001b[39m        \u001b[4m1\u001b[24m\u001b[4m7\u001b[24m249      \u001b[4m1\u001b[24m\u001b[4m3\u001b[24m445         \u001b[4m3\u001b[24m169\n",
            "\u001b[90m 9\u001b[39m        \u001b[4m2\u001b[24m\u001b[4m8\u001b[24m273      \u001b[4m2\u001b[24m\u001b[4m1\u001b[24m601         \u001b[4m5\u001b[24m174\n",
            "\u001b[90m10\u001b[39m        \u001b[4m2\u001b[24m\u001b[4m4\u001b[24m211      \u001b[4m1\u001b[24m\u001b[4m8\u001b[24m629         \u001b[4m4\u001b[24m472\n",
            "\u001b[90m11\u001b[39m        \u001b[4m1\u001b[24m\u001b[4m9\u001b[24m222      \u001b[4m1\u001b[24m\u001b[4m4\u001b[24m697         \u001b[4m3\u001b[24m531\n",
            "\u001b[90m12\u001b[39m        \u001b[4m3\u001b[24m\u001b[4m0\u001b[24m782      \u001b[4m2\u001b[24m\u001b[4m3\u001b[24m547         \u001b[4m5\u001b[24m750\n",
            "\u001b[90m13\u001b[39m        \u001b[4m1\u001b[24m\u001b[4m8\u001b[24m319      \u001b[4m1\u001b[24m\u001b[4m4\u001b[24m052         \u001b[4m3\u001b[24m324\n",
            "\u001b[90m14\u001b[39m        \u001b[4m1\u001b[24m\u001b[4m9\u001b[24m591      \u001b[4m1\u001b[24m\u001b[4m4\u001b[24m845         \u001b[4m3\u001b[24m647\n",
            "\u001b[90m15\u001b[39m        \u001b[4m2\u001b[24m\u001b[4m9\u001b[24m006      \u001b[4m2\u001b[24m\u001b[4m2\u001b[24m044         \u001b[4m5\u001b[24m316\n",
            "\u001b[90m16\u001b[39m        \u001b[4m3\u001b[24m\u001b[4m6\u001b[24m464      \u001b[4m2\u001b[24m\u001b[4m7\u001b[24m422         \u001b[4m6\u001b[24m818\n",
            "\u001b[90m17\u001b[39m        \u001b[4m3\u001b[24m\u001b[4m1\u001b[24m105      \u001b[4m2\u001b[24m\u001b[4m3\u001b[24m444         \u001b[4m5\u001b[24m755\n"
          ]
        }
      ]
    },
    {
      "cell_type": "code",
      "source": [
        "# Longest chapter:\n",
        "tibble(text=philosophers_stone,\n",
        "        chara_length=str_length(text),\n",
        "        word_count=str_count(text,'\\\\w'),\n",
        "        spaces_count=str_count(text,'\\\\s'))%>%\n",
        "          select(chara_length,word_count,spaces_count)%>%\n",
        "          arrange(desc(word_count)) # ch9"
      ],
      "metadata": {
        "colab": {
          "base_uri": "https://localhost:8080/",
          "height": 631
        },
        "id": "ULJS3eVz7Z7W",
        "outputId": "7634d9b5-bd96-4743-af87-8cb9bd9d0cf4"
      },
      "execution_count": 90,
      "outputs": [
        {
          "output_type": "display_data",
          "data": {
            "text/html": [
              "<table class=\"dataframe\">\n",
              "<caption>A tibble: 17 × 3</caption>\n",
              "<thead>\n",
              "\t<tr><th scope=col>chara_length</th><th scope=col>word_count</th><th scope=col>spaces_count</th></tr>\n",
              "\t<tr><th scope=col>&lt;int&gt;</th><th scope=col>&lt;int&gt;</th><th scope=col>&lt;int&gt;</th></tr>\n",
              "</thead>\n",
              "<tbody>\n",
              "\t<tr><td>37699</td><td>28637</td><td>6927</td></tr>\n",
              "\t<tr><td>36464</td><td>27422</td><td>6818</td></tr>\n",
              "\t<tr><td>35057</td><td>26400</td><td>6636</td></tr>\n",
              "\t<tr><td>30782</td><td>23547</td><td>5750</td></tr>\n",
              "\t<tr><td>31105</td><td>23444</td><td>5755</td></tr>\n",
              "\t<tr><td>29006</td><td>22044</td><td>5316</td></tr>\n",
              "\t<tr><td>28273</td><td>21601</td><td>5174</td></tr>\n",
              "\t<tr><td>25928</td><td>19888</td><td>4751</td></tr>\n",
              "\t<tr><td>25344</td><td>19501</td><td>4695</td></tr>\n",
              "\t<tr><td>24211</td><td>18629</td><td>4472</td></tr>\n",
              "\t<tr><td>21570</td><td>16629</td><td>3999</td></tr>\n",
              "\t<tr><td>20429</td><td>15251</td><td>3900</td></tr>\n",
              "\t<tr><td>19591</td><td>14845</td><td>3647</td></tr>\n",
              "\t<tr><td>19181</td><td>14780</td><td>3574</td></tr>\n",
              "\t<tr><td>19222</td><td>14697</td><td>3531</td></tr>\n",
              "\t<tr><td>18319</td><td>14052</td><td>3324</td></tr>\n",
              "\t<tr><td>17249</td><td>13445</td><td>3169</td></tr>\n",
              "</tbody>\n",
              "</table>\n"
            ],
            "text/markdown": "\nA tibble: 17 × 3\n\n| chara_length &lt;int&gt; | word_count &lt;int&gt; | spaces_count &lt;int&gt; |\n|---|---|---|\n| 37699 | 28637 | 6927 |\n| 36464 | 27422 | 6818 |\n| 35057 | 26400 | 6636 |\n| 30782 | 23547 | 5750 |\n| 31105 | 23444 | 5755 |\n| 29006 | 22044 | 5316 |\n| 28273 | 21601 | 5174 |\n| 25928 | 19888 | 4751 |\n| 25344 | 19501 | 4695 |\n| 24211 | 18629 | 4472 |\n| 21570 | 16629 | 3999 |\n| 20429 | 15251 | 3900 |\n| 19591 | 14845 | 3647 |\n| 19181 | 14780 | 3574 |\n| 19222 | 14697 | 3531 |\n| 18319 | 14052 | 3324 |\n| 17249 | 13445 | 3169 |\n\n",
            "text/latex": "A tibble: 17 × 3\n\\begin{tabular}{lll}\n chara\\_length & word\\_count & spaces\\_count\\\\\n <int> & <int> & <int>\\\\\n\\hline\n\t 37699 & 28637 & 6927\\\\\n\t 36464 & 27422 & 6818\\\\\n\t 35057 & 26400 & 6636\\\\\n\t 30782 & 23547 & 5750\\\\\n\t 31105 & 23444 & 5755\\\\\n\t 29006 & 22044 & 5316\\\\\n\t 28273 & 21601 & 5174\\\\\n\t 25928 & 19888 & 4751\\\\\n\t 25344 & 19501 & 4695\\\\\n\t 24211 & 18629 & 4472\\\\\n\t 21570 & 16629 & 3999\\\\\n\t 20429 & 15251 & 3900\\\\\n\t 19591 & 14845 & 3647\\\\\n\t 19181 & 14780 & 3574\\\\\n\t 19222 & 14697 & 3531\\\\\n\t 18319 & 14052 & 3324\\\\\n\t 17249 & 13445 & 3169\\\\\n\\end{tabular}\n",
            "text/plain": [
              "   chara_length word_count spaces_count\n",
              "1  37699        28637      6927        \n",
              "2  36464        27422      6818        \n",
              "3  35057        26400      6636        \n",
              "4  30782        23547      5750        \n",
              "5  31105        23444      5755        \n",
              "6  29006        22044      5316        \n",
              "7  28273        21601      5174        \n",
              "8  25928        19888      4751        \n",
              "9  25344        19501      4695        \n",
              "10 24211        18629      4472        \n",
              "11 21570        16629      3999        \n",
              "12 20429        15251      3900        \n",
              "13 19591        14845      3647        \n",
              "14 19181        14780      3574        \n",
              "15 19222        14697      3531        \n",
              "16 18319        14052      3324        \n",
              "17 17249        13445      3169        "
            ]
          },
          "metadata": {}
        }
      ]
    },
    {
      "cell_type": "code",
      "source": [
        "tibble(text=c('a','b','c')) \n",
        "# takeaway: each of the chapters in the book is a vector"
      ],
      "metadata": {
        "colab": {
          "base_uri": "https://localhost:8080/",
          "height": 210
        },
        "id": "upK2DshW40i3",
        "outputId": "b6793b68-d96c-4a5e-a5ee-cfb14ae53d66"
      },
      "execution_count": 65,
      "outputs": [
        {
          "output_type": "display_data",
          "data": {
            "text/html": [
              "<table class=\"dataframe\">\n",
              "<caption>A tibble: 3 × 1</caption>\n",
              "<thead>\n",
              "\t<tr><th scope=col>text</th></tr>\n",
              "\t<tr><th scope=col>&lt;chr&gt;</th></tr>\n",
              "</thead>\n",
              "<tbody>\n",
              "\t<tr><td>a</td></tr>\n",
              "\t<tr><td>b</td></tr>\n",
              "\t<tr><td>c</td></tr>\n",
              "</tbody>\n",
              "</table>\n"
            ],
            "text/markdown": "\nA tibble: 3 × 1\n\n| text &lt;chr&gt; |\n|---|\n| a |\n| b |\n| c |\n\n",
            "text/latex": "A tibble: 3 × 1\n\\begin{tabular}{l}\n text\\\\\n <chr>\\\\\n\\hline\n\t a\\\\\n\t b\\\\\n\t c\\\\\n\\end{tabular}\n",
            "text/plain": [
              "  text\n",
              "1 a   \n",
              "2 b   \n",
              "3 c   "
            ]
          },
          "metadata": {}
        }
      ]
    },
    {
      "cell_type": "markdown",
      "metadata": {
        "id": "HbLEMPKiuf8u"
      },
      "source": [
        "If you scroll through `ch1` a bit, you'll notice that there are some funny characters which don't appear in the books:\n",
        "\n",
        "![ch1.png](data:image/png;base64,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)"
      ]
    },
    {
      "cell_type": "markdown",
      "metadata": {
        "id": "W1RCTienuf8u"
      },
      "source": [
        "Let's see how this works for Harry Potter. Where does the first quotation in `ch1` occur? To find this, we will use the \n",
        "\n",
        "    str_locate(<string>, <substring>)\n",
        "    \n",
        "function:"
      ]
    },
    {
      "cell_type": "code",
      "execution_count": null,
      "metadata": {
        "id": "oNw8LB1Ouf8u",
        "outputId": "ae21d6f0-9366-4277-e100-479a8d158738"
      },
      "outputs": [
        {
          "data": {
            "text/html": [
              "<table class=\"dataframe\">\n",
              "<caption>A matrix: 1 × 2 of type int</caption>\n",
              "<thead>\n",
              "\t<tr><th scope=col>start</th><th scope=col>end</th></tr>\n",
              "</thead>\n",
              "<tbody>\n",
              "\t<tr><td>43</td><td>43</td></tr>\n",
              "</tbody>\n",
              "</table>\n"
            ],
            "text/latex": [
              "A matrix: 1 × 2 of type int\n",
              "\\begin{tabular}{ll}\n",
              " start & end\\\\\n",
              "\\hline\n",
              "\t 43 & 43\\\\\n",
              "\\end{tabular}\n"
            ],
            "text/markdown": [
              "\n",
              "A matrix: 1 × 2 of type int\n",
              "\n",
              "| start | end |\n",
              "|---|---|\n",
              "| 43 | 43 |\n",
              "\n"
            ],
            "text/plain": [
              "     start end\n",
              "[1,] 43    43 "
            ]
          },
          "metadata": {},
          "output_type": "display_data"
        }
      ],
      "source": [
        "str_locate(ch1, \"\\\"\")  # <---- note the escape."
      ]
    },
    {
      "cell_type": "markdown",
      "metadata": {
        "id": "eTjipQh4uf8u"
      },
      "source": [
        "Note the escape: we are searching `ch1` for the first occurence of the character `\"`."
      ]
    },
    {
      "cell_type": "markdown",
      "metadata": {
        "id": "iNwEC06Luf8u"
      },
      "source": [
        "This tells us that the first quote occurs at position 2150 of `ch1`. To view a portion of a string, we can use the \n",
        "\n",
        "    str_sub(<string>, <start>, <end>)\n",
        "\n",
        "command:"
      ]
    },
    {
      "cell_type": "code",
      "execution_count": null,
      "metadata": {
        "id": "n-sg56euuf8u",
        "outputId": "dd6f65ba-2386-49df-b06c-4f69c8a37e43"
      },
      "outputs": [
        {
          "name": "stdout",
          "output_type": "stream",
          "text": [
            "[1] \"\\\"Little tyke,\\\" chortled Mr. Dursley as he left the house. He got into his car and backed out of numbe\"\n"
          ]
        }
      ],
      "source": [
        "str_sub(ch1, 2150, 2250) %>% print\n",
        "# writeLines(str_sub(ch1, 2150, 2200))"
      ]
    },
    {
      "cell_type": "markdown",
      "metadata": {
        "id": "oH33Lua6uf8u"
      },
      "source": [
        "### Exercise\n",
        "\n",
        "(About) how many quotes are there in Ch.1? (Hint: use `str_count()`)."
      ]
    },
    {
      "cell_type": "code",
      "execution_count": 71,
      "metadata": {
        "id": "e_K-5K6Quf8u",
        "colab": {
          "base_uri": "https://localhost:8080/",
          "height": 34
        },
        "outputId": "48ded116-b7ed-4461-bf19-05e251a4c31e"
      },
      "outputs": [
        {
          "output_type": "display_data",
          "data": {
            "text/html": [
              "205"
            ],
            "text/markdown": "205",
            "text/latex": "205",
            "text/plain": [
              "[1] 205"
            ]
          },
          "metadata": {}
        }
      ],
      "source": [
        "# How many quotes?\n",
        "str_count(ch1,\"\\\"\")"
      ]
    },
    {
      "cell_type": "markdown",
      "metadata": {
        "id": "xdoDEgk6uf8v"
      },
      "source": [
        "### Exercise\n",
        "What's the last sentence of Chapter 1?"
      ]
    },
    {
      "cell_type": "code",
      "execution_count": 83,
      "metadata": {
        "id": "OHHCXiEauf8v",
        "colab": {
          "base_uri": "https://localhost:8080/",
          "height": 52
        },
        "outputId": "c12443a9-58eb-483b-eb42-357ada39a42e"
      },
      "outputs": [
        {
          "output_type": "display_data",
          "data": {
            "text/html": [
              "' He couldn\\'t know that at this very moment, people meeting in secret all over the country were holding up their glasses and saying in hushed voices: \"To Harry Potter -- the boy who lived!'"
            ],
            "text/markdown": "' He couldn\\'t know that at this very moment, people meeting in secret all over the country were holding up their glasses and saying in hushed voices: \"To Harry Potter -- the boy who lived!'",
            "text/latex": "' He couldn\\textbackslash{}'t know that at this very moment, people meeting in secret all over the country were holding up their glasses and saying in hushed voices: \"To Harry Potter -- the boy who lived!'",
            "text/plain": [
              "[1] \" He couldn't know that at this very moment, people meeting in secret all over the country were holding up their glasses and saying in hushed voices: \\\"To Harry Potter -- the boy who lived!\""
            ]
          },
          "metadata": {}
        }
      ],
      "source": [
        "# Last sentence, ch1\n",
        "# Strat: -1 gets the last letter \n",
        "str_sub(ch1,-187)"
      ]
    },
    {
      "cell_type": "markdown",
      "metadata": {
        "id": "e77P75leuf8v"
      },
      "source": [
        "## 🤔 Quiz\n",
        "\n",
        "Which chapter closes with the word _Voldemort_?\n",
        "\n",
        "<ol style=\"list-style-type: upper-alpha;\">\n",
        "    <li>5</li>\n",
        "    <li>13</li>\n",
        "    <li>16</li>\n",
        "    <li>17</li>\n",
        "    <li>19</li>\n",
        "</ol>\n",
        "\n"
      ]
    },
    {
      "cell_type": "code",
      "execution_count": 85,
      "metadata": {
        "scrolled": true,
        "id": "RjxhnWM0uf8v",
        "colab": {
          "base_uri": "https://localhost:8080/"
        },
        "outputId": "075f39ca-0d69-4027-dc94-d26353b07899"
      },
      "outputs": [
        {
          "output_type": "stream",
          "name": "stdout",
          "text": [
            " [1] \" boy who lived!\"    \"udley's gang.　　\"  \"g to come in.　　\" \n",
            " [4] \"the pockets.\\\"　　\" \"rid had gone.　　\"  \" castle door.　　\" \n",
            " [7] \"dream at all.　　\"  \"o tell Harry?　　\"  \"thirteen was.　　\" \n",
            "[10] \" one of them.　　\"  \"with himself.　　\"  \"nal question.　　\" \n",
            "[13] \"y,\\\" said Ron.　　\" \"of the tower.　　\"  \"Just in case.　　\" \n",
            "[16] \"en Voldemort.　　\"  \"r....\\\"　　THE END\"\n"
          ]
        }
      ],
      "source": [
        "# Voldemort\n",
        "str_sub(philosophers_stone,-15)%>%print"
      ]
    },
    {
      "cell_type": "markdown",
      "metadata": {
        "id": "RKJ4UTnYuf8v"
      },
      "source": [
        "## Converting text into a dataframe\n",
        "To do more interesting things, next we'll create dataframes from text. To do this we'll use the `longer` versions of `separate`. Here is how it works:"
      ]
    },
    {
      "cell_type": "code",
      "execution_count": null,
      "metadata": {
        "id": "GeKonOkvuf8v",
        "outputId": "b661efc5-a9da-4880-bc47-9fafb11f3369"
      },
      "outputs": [
        {
          "data": {
            "text/html": [
              "<table class=\"dataframe\">\n",
              "<caption>A tibble: 6 × 1</caption>\n",
              "<thead>\n",
              "\t<tr><th scope=col>x</th></tr>\n",
              "\t<tr><th scope=col>&lt;chr&gt;</th></tr>\n",
              "</thead>\n",
              "<tbody>\n",
              "\t<tr><td>a</td></tr>\n",
              "\t<tr><td>b</td></tr>\n",
              "\t<tr><td>c</td></tr>\n",
              "\t<tr><td>d</td></tr>\n",
              "\t<tr><td>e</td></tr>\n",
              "\t<tr><td>f</td></tr>\n",
              "</tbody>\n",
              "</table>\n"
            ],
            "text/latex": [
              "A tibble: 6 × 1\n",
              "\\begin{tabular}{l}\n",
              " x\\\\\n",
              " <chr>\\\\\n",
              "\\hline\n",
              "\t a\\\\\n",
              "\t b\\\\\n",
              "\t c\\\\\n",
              "\t d\\\\\n",
              "\t e\\\\\n",
              "\t f\\\\\n",
              "\\end{tabular}\n"
            ],
            "text/markdown": [
              "\n",
              "A tibble: 6 × 1\n",
              "\n",
              "| x &lt;chr&gt; |\n",
              "|---|\n",
              "| a |\n",
              "| b |\n",
              "| c |\n",
              "| d |\n",
              "| e |\n",
              "| f |\n",
              "\n"
            ],
            "text/plain": [
              "  x\n",
              "1 a\n",
              "2 b\n",
              "3 c\n",
              "4 d\n",
              "5 e\n",
              "6 f"
            ]
          },
          "metadata": {},
          "output_type": "display_data"
        }
      ],
      "source": [
        "df1 <- tibble(x = c(\"a,b,c\", \"d,e\", \"f\"))\n",
        "# separate df1 longer by delimiter"
      ]
    },
    {
      "cell_type": "code",
      "execution_count": null,
      "metadata": {
        "id": "NM0wfwoZuf8v",
        "outputId": "6df39b26-4b4e-4b50-f8be-62515d608d87"
      },
      "outputs": [
        {
          "data": {
            "text/html": [
              "<table class=\"dataframe\">\n",
              "<caption>A tibble: 9 × 1</caption>\n",
              "<thead>\n",
              "\t<tr><th scope=col>x</th></tr>\n",
              "\t<tr><th scope=col>&lt;chr&gt;</th></tr>\n",
              "</thead>\n",
              "<tbody>\n",
              "\t<tr><td>1</td></tr>\n",
              "\t<tr><td>2</td></tr>\n",
              "\t<tr><td>1</td></tr>\n",
              "\t<tr><td>1</td></tr>\n",
              "\t<tr><td>1</td></tr>\n",
              "\t<tr><td>3</td></tr>\n",
              "\t<tr><td>1</td></tr>\n",
              "\t<tr><td>2</td></tr>\n",
              "\t<tr><td>1</td></tr>\n",
              "</tbody>\n",
              "</table>\n"
            ],
            "text/latex": [
              "A tibble: 9 × 1\n",
              "\\begin{tabular}{l}\n",
              " x\\\\\n",
              " <chr>\\\\\n",
              "\\hline\n",
              "\t 1\\\\\n",
              "\t 2\\\\\n",
              "\t 1\\\\\n",
              "\t 1\\\\\n",
              "\t 1\\\\\n",
              "\t 3\\\\\n",
              "\t 1\\\\\n",
              "\t 2\\\\\n",
              "\t 1\\\\\n",
              "\\end{tabular}\n"
            ],
            "text/markdown": [
              "\n",
              "A tibble: 9 × 1\n",
              "\n",
              "| x &lt;chr&gt; |\n",
              "|---|\n",
              "| 1 |\n",
              "| 2 |\n",
              "| 1 |\n",
              "| 1 |\n",
              "| 1 |\n",
              "| 3 |\n",
              "| 1 |\n",
              "| 2 |\n",
              "| 1 |\n",
              "\n"
            ],
            "text/plain": [
              "  x\n",
              "1 1\n",
              "2 2\n",
              "3 1\n",
              "4 1\n",
              "5 1\n",
              "6 3\n",
              "7 1\n",
              "8 2\n",
              "9 1"
            ]
          },
          "metadata": {},
          "output_type": "display_data"
        }
      ],
      "source": [
        "df2 <- tibble(x = c(\"1211\", \"131\", \"21\"))\n",
        "# separate df2 longer by position"
      ]
    },
    {
      "cell_type": "markdown",
      "metadata": {
        "id": "IxtX9PvWuf8v"
      },
      "source": [
        "Let's apply this to `ch1`. First we'll create a dataframe of all the \"words\" in Harry Potter:"
      ]
    },
    {
      "cell_type": "code",
      "execution_count": null,
      "metadata": {
        "id": "2SuwNFG8uf8v"
      },
      "outputs": [],
      "source": [
        "# separate ch1 into words"
      ]
    },
    {
      "cell_type": "markdown",
      "metadata": {
        "id": "cbn6m5RKuf8v"
      },
      "source": [
        "Now we have a rough idea of the types of words that are found in chapter 1. But there is lots of cleaning up that needs to happen. "
      ]
    },
    {
      "cell_type": "code",
      "execution_count": null,
      "metadata": {
        "id": "H7gqc1Dvuf8v"
      },
      "outputs": [],
      "source": [
        "# clean up the dataframe"
      ]
    },
    {
      "cell_type": "markdown",
      "metadata": {
        "id": "So4AinFCuf8v"
      },
      "source": [
        "## 🤔 Quiz\n",
        "\n",
        "About how many words are there in Ch. 1?\n",
        "\n",
        "<ol style=\"list-style-type: upper-alpha;\">\n",
        "    <li>Less than 1000</li>\n",
        "    <li>1000-2000</li>\n",
        "    <li>2000-3000</li>\n",
        "    <li>3000-6000</li>\n",
        "    <li>More than 60000</li>\n",
        "</ol>"
      ]
    },
    {
      "cell_type": "markdown",
      "metadata": {
        "id": "DyjGVPi1uf8v"
      },
      "source": [
        "Now let's create a dataframe of *all* the text in Philosopher's Stone:"
      ]
    },
    {
      "cell_type": "code",
      "execution_count": null,
      "metadata": {
        "id": "vbAC7ffmuf8v"
      },
      "outputs": [],
      "source": [
        "# dataframe with all the text"
      ]
    },
    {
      "cell_type": "markdown",
      "metadata": {
        "id": "BWVHuqoOuf8v"
      },
      "source": [
        "## 🤔 Quiz\n",
        "\n",
        "Which chapter has the most words?\n",
        "\n",
        "<ol style=\"list-style-type: upper-alpha;\">\n",
        "    <li>2</li>\n",
        "    <li>4</li>\n",
        "    <li>5</li>\n",
        "    <li>8</li>\n",
        "    <li>14</li>\n",
        "</ol>"
      ]
    }
  ],
  "metadata": {
    "celltoolbar": "Slideshow",
    "kernelspec": {
      "display_name": "R",
      "language": "R",
      "name": "ir"
    },
    "language_info": {
      "codemirror_mode": "r",
      "file_extension": ".r",
      "mimetype": "text/x-r-source",
      "name": "R",
      "pygments_lexer": "r",
      "version": "4.2.2"
    },
    "colab": {
      "provenance": [],
      "include_colab_link": true
    }
  },
  "nbformat": 4,
  "nbformat_minor": 0
}
